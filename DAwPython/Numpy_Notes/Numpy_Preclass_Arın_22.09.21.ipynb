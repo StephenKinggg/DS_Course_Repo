{
 "cells": [
  {
   "cell_type": "code",
   "execution_count": 1,
   "id": "023e12db",
   "metadata": {},
   "outputs": [],
   "source": [
    "import time"
   ]
  },
  {
   "cell_type": "code",
   "execution_count": 2,
   "id": "7028f873",
   "metadata": {},
   "outputs": [],
   "source": [
    "import numpy as np"
   ]
  },
  {
   "cell_type": "code",
   "execution_count": 3,
   "id": "426c0f07",
   "metadata": {},
   "outputs": [
    {
     "name": "stdout",
     "output_type": "stream",
     "text": [
      "120.37420698181344\n"
     ]
    }
   ],
   "source": [
    "start_time = time.time()   # şimdiki zaman\n",
    "A = np.arange(1000000)   # bir milyon elemanlı bir ndarray oluşturduk.\n",
    "A**2\n",
    "time_1 = time.time()-start_time   # A nın oluşturulma süresi\n",
    "\n",
    "start_time_2 = time.time()\n",
    "l = range(1000000)\n",
    "[i**2 for i in l]\n",
    "time_2 = time.time() - start_time_2\n",
    "\n",
    "print(time_2/time_1)\n"
   ]
  },
  {
   "cell_type": "code",
   "execution_count": 4,
   "id": "27090e15",
   "metadata": {},
   "outputs": [],
   "source": [
    "import numpy as np"
   ]
  },
  {
   "cell_type": "code",
   "execution_count": 5,
   "id": "897ba972",
   "metadata": {},
   "outputs": [
    {
     "name": "stdout",
     "output_type": "stream",
     "text": [
      "[4 5 6 7]\n"
     ]
    }
   ],
   "source": [
    "x = np.array([4,5,6,7])\n",
    "print(x)"
   ]
  },
  {
   "cell_type": "code",
   "execution_count": 6,
   "id": "4bebcca0",
   "metadata": {},
   "outputs": [
    {
     "name": "stdout",
     "output_type": "stream",
     "text": [
      "<class 'numpy.ndarray'>\n"
     ]
    }
   ],
   "source": [
    "print(type(x))"
   ]
  },
  {
   "cell_type": "code",
   "execution_count": 7,
   "id": "a69cb19e",
   "metadata": {},
   "outputs": [
    {
     "name": "stdout",
     "output_type": "stream",
     "text": [
      "(4,)\n"
     ]
    }
   ],
   "source": [
    "print(x.shape)  #her eksendeki eleman sayısını dönüyor. Tek bir rakamlı tuple gösterildiğinde bunun için virgül konuyor."
   ]
  },
  {
   "cell_type": "code",
   "execution_count": 8,
   "id": "3a389896",
   "metadata": {},
   "outputs": [
    {
     "name": "stdout",
     "output_type": "stream",
     "text": [
      "4\n"
     ]
    }
   ],
   "source": [
    "print(x.size)  #nd arrayin toplam eleman sayısını gösteriyor."
   ]
  },
  {
   "cell_type": "code",
   "execution_count": 9,
   "id": "a70408f1",
   "metadata": {},
   "outputs": [
    {
     "name": "stdout",
     "output_type": "stream",
     "text": [
      "1\n"
     ]
    }
   ],
   "source": [
    "print(x.ndim)  #nd arrayin boyutunu veriyor."
   ]
  },
  {
   "cell_type": "code",
   "execution_count": 10,
   "id": "1de4c0a9",
   "metadata": {},
   "outputs": [
    {
     "name": "stdout",
     "output_type": "stream",
     "text": [
      "16\n"
     ]
    }
   ],
   "source": [
    "print(x.nbytes) #veriyi depolamak için kullanılan alanı veriyor."
   ]
  },
  {
   "cell_type": "code",
   "execution_count": 12,
   "id": "e4fd8148",
   "metadata": {},
   "outputs": [
    {
     "name": "stdout",
     "output_type": "stream",
     "text": [
      "int32\n"
     ]
    }
   ],
   "source": [
    "print(x.dtype)   #elemanların veri tipini belirtir."
   ]
  },
  {
   "cell_type": "code",
   "execution_count": 13,
   "id": "fde6efae",
   "metadata": {},
   "outputs": [],
   "source": [
    "y = np.array([[1,2,3,],[4,5,6]]) #iki boyutlu liste oluşturduk. Yani liste içinde liste gibi düşünülebilir."
   ]
  },
  {
   "cell_type": "code",
   "execution_count": 15,
   "id": "c9adccae",
   "metadata": {},
   "outputs": [
    {
     "name": "stdout",
     "output_type": "stream",
     "text": [
      "[[1 2 3]\n",
      " [4 5 6]]\n",
      "<class 'numpy.ndarray'>\n",
      "(2, 3)\n",
      "6\n",
      "2\n",
      "24\n",
      "int32\n"
     ]
    }
   ],
   "source": [
    "print(y)\n",
    "print(type(y))\n",
    "print(y.shape)\n",
    "print(y.size)\n",
    "print(y.ndim) \n",
    "print(y.nbytes)\n",
    "print(y.dtype)  "
   ]
  },
  {
   "cell_type": "code",
   "execution_count": 19,
   "id": "687ebbdf",
   "metadata": {},
   "outputs": [],
   "source": [
    "z = np.array([[[1,2],[3,4]],[[5,6],[7,8]]])"
   ]
  },
  {
   "cell_type": "code",
   "execution_count": 20,
   "id": "9766c09b",
   "metadata": {},
   "outputs": [
    {
     "name": "stdout",
     "output_type": "stream",
     "text": [
      "[[[1 2]\n",
      "  [3 4]]\n",
      "\n",
      " [[5 6]\n",
      "  [7 8]]]\n",
      "<class 'numpy.ndarray'>\n",
      "(2, 2, 2)\n",
      "8\n",
      "3\n",
      "32\n",
      "int32\n"
     ]
    }
   ],
   "source": [
    "print(z)\n",
    "print(type(z))\n",
    "print(z.shape)\n",
    "print(z.size)\n",
    "print(z.ndim) \n",
    "print(z.nbytes)\n",
    "print(z.dtype) "
   ]
  },
  {
   "cell_type": "code",
   "execution_count": 21,
   "id": "18a92c1d",
   "metadata": {},
   "outputs": [
    {
     "name": "stdout",
     "output_type": "stream",
     "text": [
      "int32\n"
     ]
    }
   ],
   "source": [
    "x = np.array([1,2,3])\n",
    "print(x.dtype)"
   ]
  },
  {
   "cell_type": "code",
   "execution_count": 22,
   "id": "f6da9473",
   "metadata": {},
   "outputs": [
    {
     "name": "stdout",
     "output_type": "stream",
     "text": [
      "<U11\n"
     ]
    }
   ],
   "source": [
    "y = np.array([1,\"2\",3])\n",
    "print(y.dtype)              #U11 11 karakterli bir unicode bir string olduğunu gösteriyor. Ve buradaki tüm elemanları string olarak görüyor. Accending deniyor buna."
   ]
  },
  {
   "cell_type": "code",
   "execution_count": 23,
   "id": "bd1cb398",
   "metadata": {},
   "outputs": [
    {
     "name": "stdout",
     "output_type": "stream",
     "text": [
      "float64\n"
     ]
    }
   ],
   "source": [
    "z = np.array([1,2.0,3])\n",
    "print(z.dtype)          # Burada ise elemanların veri tipini float a çeviriyor. Buna UPCASTING deniyor. "
   ]
  },
  {
   "cell_type": "code",
   "execution_count": 25,
   "id": "5114b63c",
   "metadata": {},
   "outputs": [],
   "source": [
    "import numpy as np"
   ]
  },
  {
   "cell_type": "code",
   "execution_count": 28,
   "id": "8aed9d3c",
   "metadata": {},
   "outputs": [
    {
     "name": "stdout",
     "output_type": "stream",
     "text": [
      "[3. 4. 5.]\n",
      "float64\n"
     ]
    }
   ],
   "source": [
    "x = np.array([3,4.0,5])\n",
    "print(x)\n",
    "print(x.dtype)   # Burada upcasting yaparak int32 yerine float64 kullanıyor."
   ]
  },
  {
   "cell_type": "code",
   "execution_count": 27,
   "id": "7792a7a7",
   "metadata": {},
   "outputs": [],
   "source": [
    "# There are 5 basic numerical types representing booleans (bool), integers (int), unsigned integers (uint) floating point (float) and complex. "
   ]
  },
  {
   "cell_type": "code",
   "execution_count": 34,
   "id": "1c987286",
   "metadata": {},
   "outputs": [],
   "source": [
    "import numpy as np"
   ]
  },
  {
   "cell_type": "code",
   "execution_count": 42,
   "id": "471c109f",
   "metadata": {},
   "outputs": [
    {
     "name": "stdout",
     "output_type": "stream",
     "text": [
      "[3 4 5]\n",
      "int32\n"
     ]
    }
   ],
   "source": [
    "x = np.array([3,4,5], dtype=int)   #bu şekilde veri tipini kendimizi dışarıdan belirtiyoruz.\n",
    "print(x)\n",
    "print(x.dtype)"
   ]
  },
  {
   "cell_type": "code",
   "execution_count": 41,
   "id": "da423071",
   "metadata": {},
   "outputs": [
    {
     "name": "stdout",
     "output_type": "stream",
     "text": [
      "[3. 4. 5.]\n",
      "float64\n"
     ]
    }
   ],
   "source": [
    "y = np.array([3,4,5], dtype=float)\n",
    "print(y)\n",
    "print(y.dtype)"
   ]
  },
  {
   "cell_type": "code",
   "execution_count": 40,
   "id": "0d64f4de",
   "metadata": {},
   "outputs": [
    {
     "name": "stdout",
     "output_type": "stream",
     "text": [
      "[3.+0.j 4.+0.j 5.+0.j]\n",
      "complex128\n"
     ]
    }
   ],
   "source": [
    "z = np.array([3,4,5], dtype=complex)\n",
    "print(z)\n",
    "print(z.dtype)"
   ]
  },
  {
   "cell_type": "code",
   "execution_count": 39,
   "id": "a7f49d46",
   "metadata": {},
   "outputs": [
    {
     "name": "stdout",
     "output_type": "stream",
     "text": [
      "[3 4 5]\n",
      "int32\n"
     ]
    }
   ],
   "source": [
    "x = np.array([3.2,4.5,5.8], dtype=int)   \n",
    "print(x)\n",
    "print(x.dtype)"
   ]
  },
  {
   "cell_type": "code",
   "execution_count": 43,
   "id": "87d65c15",
   "metadata": {},
   "outputs": [
    {
     "name": "stdout",
     "output_type": "stream",
     "text": [
      "[1. 2. 3. 4.]\n",
      "float64\n"
     ]
    }
   ],
   "source": [
    "x = np.array([1,2,3,4], dtype=float) \n",
    "print(x)\n",
    "print(x.dtype)"
   ]
  },
  {
   "cell_type": "code",
   "execution_count": 44,
   "id": "5b6da4eb",
   "metadata": {},
   "outputs": [
    {
     "name": "stdout",
     "output_type": "stream",
     "text": [
      "[1.+0.j 2.+0.j 3.+0.j 4.+0.j]\n",
      "complex128\n"
     ]
    }
   ],
   "source": [
    "x = np.array(x, dtype=complex)   #veri tipini değiştirmek için kullanıyoruz.\n",
    "print(x)\n",
    "print(x.dtype)"
   ]
  },
  {
   "cell_type": "code",
   "execution_count": 45,
   "id": "cb6738d8",
   "metadata": {},
   "outputs": [
    {
     "name": "stdout",
     "output_type": "stream",
     "text": [
      "[1.+0.j 2.+0.j 3.+0.j 4.+0.j]\n",
      "complex128\n"
     ]
    }
   ],
   "source": [
    "x = x.astype(complex)  # veri tipini değiştirmek için astype metodunu da kullanabiliriz.\n",
    "print(x)\n",
    "print(x.dtype)"
   ]
  },
  {
   "cell_type": "code",
   "execution_count": 46,
   "id": "66e7b090",
   "metadata": {},
   "outputs": [
    {
     "name": "stdout",
     "output_type": "stream",
     "text": [
      "[6.2 4.8 6.5]\n",
      "float64\n"
     ]
    }
   ],
   "source": [
    "x1 = np.array([1,2,3], dtype=int)\n",
    "x2 = np.array([5.2,2.8,3.5], dtype=float)\n",
    "\n",
    "print(x1+x2)\n",
    "print((x1+x2).dtype)"
   ]
  },
  {
   "cell_type": "code",
   "execution_count": 47,
   "id": "3a1dfcf6",
   "metadata": {},
   "outputs": [
    {
     "name": "stdout",
     "output_type": "stream",
     "text": [
      "[nan  3.  2.]\n",
      "float64\n"
     ]
    },
    {
     "name": "stderr",
     "output_type": "stream",
     "text": [
      "<ipython-input-47-c84e96242d1d>:1: RuntimeWarning: invalid value encountered in sqrt\n",
      "  x = np.sqrt(np.array([-1,9,4], dtype=float))\n"
     ]
    }
   ],
   "source": [
    "x = np.sqrt(np.array([-1,9,4], dtype=float))\n",
    "print(x)\n",
    "print(x.dtype)"
   ]
  },
  {
   "cell_type": "code",
   "execution_count": 48,
   "id": "faa2b654",
   "metadata": {},
   "outputs": [
    {
     "name": "stdout",
     "output_type": "stream",
     "text": [
      "[0.+1.j 3.+0.j 2.+0.j]\n",
      "complex128\n"
     ]
    }
   ],
   "source": [
    "x = np.sqrt(np.array([-1,9,4], dtype=complex))\n",
    "print(x)\n",
    "print(x.dtype)"
   ]
  },
  {
   "cell_type": "code",
   "execution_count": 51,
   "id": "abf6afee",
   "metadata": {},
   "outputs": [
    {
     "name": "stdout",
     "output_type": "stream",
     "text": [
      "[0. 3. 2.]\n",
      "[1. 0. 0.]\n",
      "float64\n",
      "float64\n"
     ]
    }
   ],
   "source": [
    "print(x.real)\n",
    "print(x.imag)\n",
    "print((x.real).dtype)\n",
    "print((x.imag).dtype)"
   ]
  },
  {
   "cell_type": "code",
   "execution_count": 52,
   "id": "62874818",
   "metadata": {},
   "outputs": [],
   "source": [
    "# çalıştığımız ndarray i kaydetmek için.\n",
    "x = np.array([5,9,12.5,18])\n",
    "np.save(\"ndarray_1\",x)  #dosya ismi, kaydetmek istediğim ndarray ismi\n"
   ]
  },
  {
   "cell_type": "code",
   "execution_count": 54,
   "id": "ecfeb69b",
   "metadata": {},
   "outputs": [
    {
     "name": "stdout",
     "output_type": "stream",
     "text": [
      "(4,)\n"
     ]
    }
   ],
   "source": [
    "# kaydettiğimiz dosyası çagırmak için.\n",
    "y = np.load(\"ndarray_1.npy\")\n",
    "print(y.shape)"
   ]
  },
  {
   "cell_type": "code",
   "execution_count": 56,
   "id": "4bdd47f7",
   "metadata": {},
   "outputs": [
    {
     "name": "stdout",
     "output_type": "stream",
     "text": [
      "[3 9 8]\n",
      "int32\n",
      "<class 'numpy.ndarray'>\n"
     ]
    }
   ],
   "source": [
    "x = np.array([3,9,8])\n",
    "print(x)\n",
    "print(x.dtype)\n",
    "print(type(x))"
   ]
  },
  {
   "cell_type": "markdown",
   "id": "5a45f1d0",
   "metadata": {},
   "source": [
    "# np.zeros     np.ones"
   ]
  },
  {
   "cell_type": "code",
   "execution_count": 60,
   "id": "1f5defcb",
   "metadata": {},
   "outputs": [
    {
     "name": "stdout",
     "output_type": "stream",
     "text": [
      "[0. 0. 0. 0.]\n",
      "float64\n"
     ]
    }
   ],
   "source": [
    "x1 = np.zeros(4)\n",
    "print(x1)\n",
    "print(x1.dtype)"
   ]
  },
  {
   "cell_type": "code",
   "execution_count": 61,
   "id": "a6c8867b",
   "metadata": {},
   "outputs": [
    {
     "name": "stdout",
     "output_type": "stream",
     "text": [
      "[1. 1. 1. 1.]\n",
      "float64\n"
     ]
    }
   ],
   "source": [
    "y1 = np.ones(4)\n",
    "print(y1)\n",
    "print(y1.dtype)"
   ]
  },
  {
   "cell_type": "code",
   "execution_count": 62,
   "id": "2c085d3f",
   "metadata": {},
   "outputs": [
    {
     "name": "stdout",
     "output_type": "stream",
     "text": [
      "[[[0 0 0 0]\n",
      "  [0 0 0 0]\n",
      "  [0 0 0 0]]\n",
      "\n",
      " [[0 0 0 0]\n",
      "  [0 0 0 0]\n",
      "  [0 0 0 0]]]\n"
     ]
    }
   ],
   "source": [
    "x2=np.zeros((2,3,4),dtype=int)    # dış listenin içinde 2 tane, bunların içinde de 3*4 lük iki matriks var. \n",
    "print(x2)"
   ]
  },
  {
   "cell_type": "code",
   "execution_count": 63,
   "id": "f48dfbce",
   "metadata": {},
   "outputs": [
    {
     "name": "stdout",
     "output_type": "stream",
     "text": [
      "[[1 1]\n",
      " [1 1]\n",
      " [1 1]]\n"
     ]
    }
   ],
   "source": [
    "y2=np.ones((3,2),dtype=int)    \n",
    "print(y2)"
   ]
  },
  {
   "cell_type": "code",
   "execution_count": null,
   "id": "386b46fa",
   "metadata": {},
   "outputs": [],
   "source": [
    "# Numpy tek başına bir şeye yaramaz. Buraya gelecek olan veri önemi olandır."
   ]
  },
  {
   "cell_type": "code",
   "execution_count": null,
   "id": "b44bda3d",
   "metadata": {},
   "outputs": [],
   "source": [
    "# np.full()  ile oluşturduğumuz matrikslerin içine sabit 10 değerini atadık."
   ]
  },
  {
   "cell_type": "code",
   "execution_count": 65,
   "id": "a8053b49",
   "metadata": {},
   "outputs": [
    {
     "name": "stdout",
     "output_type": "stream",
     "text": [
      "[[10 10 10]\n",
      " [10 10 10]]\n",
      "int32\n"
     ]
    }
   ],
   "source": [
    "x = np.full((2,3),10)\n",
    "print(x)\n",
    "print(x.dtype)   #atanan değerinin veri tipini alır."
   ]
  },
  {
   "cell_type": "code",
   "execution_count": 66,
   "id": "8d280799",
   "metadata": {},
   "outputs": [
    {
     "name": "stdout",
     "output_type": "stream",
     "text": [
      "[[10. 10. 10.]\n",
      " [10. 10. 10.]]\n",
      "float64\n"
     ]
    }
   ],
   "source": [
    "x = np.full((2,3),10.0)\n",
    "print(x)\n",
    "print(x.dtype)"
   ]
  },
  {
   "cell_type": "code",
   "execution_count": 67,
   "id": "f3f1047e",
   "metadata": {},
   "outputs": [
    {
     "name": "stdout",
     "output_type": "stream",
     "text": [
      "[[10. 10. 10.]\n",
      " [10. 10. 10.]]\n",
      "[[10. 10. 10.]\n",
      " [10. 10. 10.]]\n"
     ]
    }
   ],
   "source": [
    "y = 10.0*np.ones((2,3))\n",
    "z= 10.0+np.zeros((2,3))\n",
    "print(y)\n",
    "print(z)"
   ]
  },
  {
   "cell_type": "code",
   "execution_count": null,
   "id": "3bc1680d",
   "metadata": {},
   "outputs": [],
   "source": [
    "# np.empty()  içine default değer atayarak bir ndarray oluşturur."
   ]
  },
  {
   "cell_type": "code",
   "execution_count": 68,
   "id": "de68c479",
   "metadata": {},
   "outputs": [
    {
     "name": "stdout",
     "output_type": "stream",
     "text": [
      "[[ 5.   9. ]\n",
      " [12.5 18. ]]\n"
     ]
    }
   ],
   "source": [
    "x = np.empty((2,2))\n",
    "print(x)"
   ]
  },
  {
   "cell_type": "code",
   "execution_count": 69,
   "id": "fe4a8c13",
   "metadata": {},
   "outputs": [
    {
     "name": "stdout",
     "output_type": "stream",
     "text": [
      "[[3. 3.]\n",
      " [3. 3.]]\n"
     ]
    }
   ],
   "source": [
    "x.fill(3)\n",
    "print(x)"
   ]
  },
  {
   "cell_type": "code",
   "execution_count": null,
   "id": "7a026e42",
   "metadata": {},
   "outputs": [],
   "source": [
    "# np.eye()  birim matris oluşturur."
   ]
  },
  {
   "cell_type": "code",
   "execution_count": 71,
   "id": "46dab23a",
   "metadata": {},
   "outputs": [
    {
     "name": "stdout",
     "output_type": "stream",
     "text": [
      "[[1. 0. 0. 0.]\n",
      " [0. 1. 0. 0.]\n",
      " [0. 0. 1. 0.]\n",
      " [0. 0. 0. 1.]]\n"
     ]
    }
   ],
   "source": [
    "x = np.eye(4)    # t*4 lük diagonal değerleri 1 diğerleri 0 olan matris oluşturur.\n",
    "print(x)"
   ]
  },
  {
   "cell_type": "code",
   "execution_count": 74,
   "id": "dd36e573",
   "metadata": {},
   "outputs": [
    {
     "name": "stdout",
     "output_type": "stream",
     "text": [
      "[[1. 0. 0. 0.]\n",
      " [0. 1. 0. 0.]\n",
      " [0. 0. 1. 0.]\n",
      " [0. 0. 0. 1.]\n",
      " [0. 0. 0. 0.]\n",
      " [0. 0. 0. 0.]]\n"
     ]
    }
   ],
   "source": [
    "y = np.eye(6,4)   # eye fonksiyonunda tekrar parantez içine alarak  tupleye çevirmeye gerek yok.\n",
    "print(y)   #görüldüğü gibi 4*4 ten sonra birim matris oluşmuyor."
   ]
  },
  {
   "cell_type": "code",
   "execution_count": 76,
   "id": "9c66eda4",
   "metadata": {},
   "outputs": [
    {
     "name": "stdout",
     "output_type": "stream",
     "text": [
      "[[1. 0. 0. 0. 0. 0.]\n",
      " [0. 1. 0. 0. 0. 0.]\n",
      " [0. 0. 1. 0. 0. 0.]\n",
      " [0. 0. 0. 1. 0. 0.]\n",
      " [0. 0. 0. 0. 1. 0.]\n",
      " [0. 0. 0. 0. 0. 1.]]\n",
      "\n",
      "[[0. 1. 0. 0. 0. 0.]\n",
      " [0. 0. 1. 0. 0. 0.]\n",
      " [0. 0. 0. 1. 0. 0.]\n",
      " [0. 0. 0. 0. 1. 0.]\n",
      " [0. 0. 0. 0. 0. 1.]\n",
      " [0. 0. 0. 0. 0. 0.]]\n",
      "\n",
      "[[0. 0. 0. 0. 0. 0.]\n",
      " [0. 0. 0. 0. 0. 0.]\n",
      " [1. 0. 0. 0. 0. 0.]\n",
      " [0. 1. 0. 0. 0. 0.]\n",
      " [0. 0. 1. 0. 0. 0.]\n",
      " [0. 0. 0. 1. 0. 0.]]\n",
      "\n"
     ]
    }
   ],
   "source": [
    "x = np.eye(6)\n",
    "print(x)\n",
    "print()\n",
    "y = np.eye(6, k=1)  # diagonali +1 birim yukarı alır.\n",
    "print(y)\n",
    "print()\n",
    "z = np.eye(6, k=-2)  # diagonali -2 birim aşağı alır.\n",
    "print(z)\n",
    "print()"
   ]
  },
  {
   "cell_type": "code",
   "execution_count": 77,
   "id": "b7bc2583",
   "metadata": {},
   "outputs": [
    {
     "name": "stdout",
     "output_type": "stream",
     "text": [
      "[[1. 0. 0. 0. 0.]\n",
      " [0. 1. 0. 0. 0.]\n",
      " [0. 0. 1. 0. 0.]\n",
      " [0. 0. 0. 1. 0.]\n",
      " [0. 0. 0. 0. 1.]]\n"
     ]
    }
   ],
   "source": [
    "x = np.identity(5)\n",
    "print(x)"
   ]
  },
  {
   "cell_type": "code",
   "execution_count": null,
   "id": "3005f714",
   "metadata": {},
   "outputs": [],
   "source": [
    "# np.diag()"
   ]
  },
  {
   "cell_type": "code",
   "execution_count": 78,
   "id": "4960fc65",
   "metadata": {},
   "outputs": [
    {
     "name": "stdout",
     "output_type": "stream",
     "text": [
      "[[ 4  0  0  0]\n",
      " [ 0  7  0  0]\n",
      " [ 0  0 11  0]\n",
      " [ 0  0  0  3]]\n"
     ]
    }
   ],
   "source": [
    "x = np.diag([4,7,11,3])   # verilen değerleri matrisin her bir satırına diagonal olarak atıyor.\n",
    "print(x) "
   ]
  },
  {
   "cell_type": "code",
   "execution_count": null,
   "id": "d05992aa",
   "metadata": {},
   "outputs": [],
   "source": [
    "# np.arange() son karakter dahil değil. Matematikte yarı açık model denir."
   ]
  },
  {
   "cell_type": "code",
   "execution_count": 79,
   "id": "666b60fd",
   "metadata": {},
   "outputs": [
    {
     "name": "stdout",
     "output_type": "stream",
     "text": [
      "[0 1 2 3 4]\n"
     ]
    }
   ],
   "source": [
    "x = np.arange(5)\n",
    "print(x)"
   ]
  },
  {
   "cell_type": "code",
   "execution_count": 80,
   "id": "ca54fa56",
   "metadata": {},
   "outputs": [
    {
     "name": "stdout",
     "output_type": "stream",
     "text": [
      "[4 5 6 7 8]\n"
     ]
    }
   ],
   "source": [
    "y = np.arange(4,9)\n",
    "print(y)"
   ]
  },
  {
   "cell_type": "code",
   "execution_count": 82,
   "id": "a41a9ca2",
   "metadata": {},
   "outputs": [
    {
     "name": "stdout",
     "output_type": "stream",
     "text": [
      "[ 3  7 11 15 19]\n"
     ]
    }
   ],
   "source": [
    "z = np.arange(3,23,4)\n",
    "print(z)"
   ]
  },
  {
   "cell_type": "code",
   "execution_count": 84,
   "id": "d061a6df",
   "metadata": {},
   "outputs": [],
   "source": [
    "# np.linspace()"
   ]
  },
  {
   "cell_type": "code",
   "execution_count": 85,
   "id": "53c4ac83",
   "metadata": {},
   "outputs": [
    {
     "name": "stdout",
     "output_type": "stream",
     "text": [
      "[ 0.          1.66666667  3.33333333  5.          6.66666667  8.33333333\n",
      " 10.         11.66666667 13.33333333 15.        ]\n"
     ]
    }
   ],
   "source": [
    "import numpy as np\n",
    "\n",
    "x = np.linspace(0,15,10)\n",
    "print(x)"
   ]
  },
  {
   "cell_type": "code",
   "execution_count": 86,
   "id": "283d0888",
   "metadata": {},
   "outputs": [
    {
     "name": "stdout",
     "output_type": "stream",
     "text": [
      "[ 0.          0.30612245  0.6122449   0.91836735  1.2244898   1.53061224\n",
      "  1.83673469  2.14285714  2.44897959  2.75510204  3.06122449  3.36734694\n",
      "  3.67346939  3.97959184  4.28571429  4.59183673  4.89795918  5.20408163\n",
      "  5.51020408  5.81632653  6.12244898  6.42857143  6.73469388  7.04081633\n",
      "  7.34693878  7.65306122  7.95918367  8.26530612  8.57142857  8.87755102\n",
      "  9.18367347  9.48979592  9.79591837 10.10204082 10.40816327 10.71428571\n",
      " 11.02040816 11.32653061 11.63265306 11.93877551 12.24489796 12.55102041\n",
      " 12.85714286 13.16326531 13.46938776 13.7755102  14.08163265 14.3877551\n",
      " 14.69387755 15.        ]\n"
     ]
    }
   ],
   "source": [
    "x = np.linspace(0,15)   # kaç tane eleman olacağı yazılmazsa default olarak 50 atar.\n",
    "print(x)"
   ]
  },
  {
   "cell_type": "code",
   "execution_count": 87,
   "id": "fa2300e4",
   "metadata": {},
   "outputs": [
    {
     "name": "stdout",
     "output_type": "stream",
     "text": [
      "[ 0.   0.3  0.6  0.9  1.2  1.5  1.8  2.1  2.4  2.7  3.   3.3  3.6  3.9\n",
      "  4.2  4.5  4.8  5.1  5.4  5.7  6.   6.3  6.6  6.9  7.2  7.5  7.8  8.1\n",
      "  8.4  8.7  9.   9.3  9.6  9.9 10.2 10.5 10.8 11.1 11.4 11.7 12.  12.3\n",
      " 12.6 12.9 13.2 13.5 13.8 14.1 14.4 14.7]\n"
     ]
    }
   ],
   "source": [
    "x = np.linspace(0,15, endpoint=False)   \n",
    "print(x)"
   ]
  },
  {
   "cell_type": "code",
   "execution_count": null,
   "id": "38ae3093",
   "metadata": {},
   "outputs": [],
   "source": [
    "# np.reshape()"
   ]
  },
  {
   "cell_type": "code",
   "execution_count": 88,
   "id": "d1f4bc26",
   "metadata": {},
   "outputs": [
    {
     "name": "stdout",
     "output_type": "stream",
     "text": [
      "[ 0  1  2  3  4  5  6  7  8  9 10 11 12 13 14 15 16 17 18 19]\n"
     ]
    }
   ],
   "source": [
    "x = np.arange(20)\n",
    "print(x)"
   ]
  },
  {
   "cell_type": "code",
   "execution_count": 89,
   "id": "e74b9fe8",
   "metadata": {},
   "outputs": [
    {
     "name": "stdout",
     "output_type": "stream",
     "text": [
      "[[ 0  1  2  3  4]\n",
      " [ 5  6  7  8  9]\n",
      " [10 11 12 13 14]\n",
      " [15 16 17 18 19]]\n"
     ]
    }
   ],
   "source": [
    "x = np.reshape(x, (4,5))  #  yeni bir formatta ndarray oluşturmak istediğimizde bunun şeklini giriyoruzb\n",
    "print(x)"
   ]
  },
  {
   "cell_type": "code",
   "execution_count": 90,
   "id": "0c537266",
   "metadata": {},
   "outputs": [
    {
     "ename": "ValueError",
     "evalue": "cannot reshape array of size 20 into shape (5,5)",
     "output_type": "error",
     "traceback": [
      "\u001b[1;31m---------------------------------------------------------------------------\u001b[0m",
      "\u001b[1;31mValueError\u001b[0m                                Traceback (most recent call last)",
      "\u001b[1;32m<ipython-input-90-cbd45c366c8f>\u001b[0m in \u001b[0;36m<module>\u001b[1;34m\u001b[0m\n\u001b[1;32m----> 1\u001b[1;33m \u001b[0mx\u001b[0m \u001b[1;33m=\u001b[0m \u001b[0mnp\u001b[0m\u001b[1;33m.\u001b[0m\u001b[0mreshape\u001b[0m\u001b[1;33m(\u001b[0m\u001b[0mx\u001b[0m\u001b[1;33m,\u001b[0m\u001b[1;33m(\u001b[0m\u001b[1;36m5\u001b[0m\u001b[1;33m,\u001b[0m\u001b[1;36m5\u001b[0m\u001b[1;33m)\u001b[0m\u001b[1;33m)\u001b[0m\u001b[1;33m\u001b[0m\u001b[1;33m\u001b[0m\u001b[0m\n\u001b[0m\u001b[0;32m      2\u001b[0m \u001b[0mprint\u001b[0m\u001b[1;33m(\u001b[0m\u001b[0mx\u001b[0m\u001b[1;33m)\u001b[0m\u001b[1;33m\u001b[0m\u001b[1;33m\u001b[0m\u001b[0m\n",
      "\u001b[1;32m<__array_function__ internals>\u001b[0m in \u001b[0;36mreshape\u001b[1;34m(*args, **kwargs)\u001b[0m\n",
      "\u001b[1;32m~\\anaconda3\\lib\\site-packages\\numpy\\core\\fromnumeric.py\u001b[0m in \u001b[0;36mreshape\u001b[1;34m(a, newshape, order)\u001b[0m\n\u001b[0;32m    297\u001b[0m            [5, 6]])\n\u001b[0;32m    298\u001b[0m     \"\"\"\n\u001b[1;32m--> 299\u001b[1;33m     \u001b[1;32mreturn\u001b[0m \u001b[0m_wrapfunc\u001b[0m\u001b[1;33m(\u001b[0m\u001b[0ma\u001b[0m\u001b[1;33m,\u001b[0m \u001b[1;34m'reshape'\u001b[0m\u001b[1;33m,\u001b[0m \u001b[0mnewshape\u001b[0m\u001b[1;33m,\u001b[0m \u001b[0morder\u001b[0m\u001b[1;33m=\u001b[0m\u001b[0morder\u001b[0m\u001b[1;33m)\u001b[0m\u001b[1;33m\u001b[0m\u001b[1;33m\u001b[0m\u001b[0m\n\u001b[0m\u001b[0;32m    300\u001b[0m \u001b[1;33m\u001b[0m\u001b[0m\n\u001b[0;32m    301\u001b[0m \u001b[1;33m\u001b[0m\u001b[0m\n",
      "\u001b[1;32m~\\anaconda3\\lib\\site-packages\\numpy\\core\\fromnumeric.py\u001b[0m in \u001b[0;36m_wrapfunc\u001b[1;34m(obj, method, *args, **kwds)\u001b[0m\n\u001b[0;32m     56\u001b[0m \u001b[1;33m\u001b[0m\u001b[0m\n\u001b[0;32m     57\u001b[0m     \u001b[1;32mtry\u001b[0m\u001b[1;33m:\u001b[0m\u001b[1;33m\u001b[0m\u001b[1;33m\u001b[0m\u001b[0m\n\u001b[1;32m---> 58\u001b[1;33m         \u001b[1;32mreturn\u001b[0m \u001b[0mbound\u001b[0m\u001b[1;33m(\u001b[0m\u001b[1;33m*\u001b[0m\u001b[0margs\u001b[0m\u001b[1;33m,\u001b[0m \u001b[1;33m**\u001b[0m\u001b[0mkwds\u001b[0m\u001b[1;33m)\u001b[0m\u001b[1;33m\u001b[0m\u001b[1;33m\u001b[0m\u001b[0m\n\u001b[0m\u001b[0;32m     59\u001b[0m     \u001b[1;32mexcept\u001b[0m \u001b[0mTypeError\u001b[0m\u001b[1;33m:\u001b[0m\u001b[1;33m\u001b[0m\u001b[1;33m\u001b[0m\u001b[0m\n\u001b[0;32m     60\u001b[0m         \u001b[1;31m# A TypeError occurs if the object does have such a method in its\u001b[0m\u001b[1;33m\u001b[0m\u001b[1;33m\u001b[0m\u001b[1;33m\u001b[0m\u001b[0m\n",
      "\u001b[1;31mValueError\u001b[0m: cannot reshape array of size 20 into shape (5,5)"
     ]
    }
   ],
   "source": [
    "x = np.reshape(x,(5,5))  # 25 elemana ihtiyaç var ancak bizde 20 eleman olduğundan hata verdi.\n",
    "print(x)"
   ]
  },
  {
   "cell_type": "code",
   "execution_count": 91,
   "id": "3a48cdc1",
   "metadata": {},
   "outputs": [
    {
     "name": "stdout",
     "output_type": "stream",
     "text": [
      "[ 0  1  2  3  4  5  6  7  8  9 10 11 12 13 14 15 16 17 18 19 20 21 22 23\n",
      " 24 25 26 27 28 29 30 31]\n",
      "\n",
      "[[[ 0  1  2  3]\n",
      "  [ 4  5  6  7]\n",
      "  [ 8  9 10 11]\n",
      "  [12 13 14 15]]\n",
      "\n",
      " [[16 17 18 19]\n",
      "  [20 21 22 23]\n",
      "  [24 25 26 27]\n",
      "  [28 29 30 31]]]\n"
     ]
    }
   ],
   "source": [
    "x = np.arange(32)\n",
    "print(x)\n",
    "print()\n",
    "\n",
    "y= np.reshape(x,(2,4,4))\n",
    "print(y)"
   ]
  },
  {
   "cell_type": "code",
   "execution_count": 92,
   "id": "4a2f90ea",
   "metadata": {},
   "outputs": [
    {
     "name": "stdout",
     "output_type": "stream",
     "text": [
      "[ 0.  1.  2.  3.  4.  5.  6.  7.  8.  9. 10. 11. 12. 13. 14. 15. 16. 17.\n",
      " 18. 19.]\n",
      "\n",
      "[[ 0.  1.  2.  3.  4.  5.  6.  7.  8.  9.]\n",
      " [10. 11. 12. 13. 14. 15. 16. 17. 18. 19.]]\n"
     ]
    }
   ],
   "source": [
    "x = np.linspace(0,19,20)\n",
    "print(x)\n",
    "print()\n",
    "\n",
    "y = np.reshape(x,(2,10))   # 2 satir 10 sütun olan bir matris çevirir.\n",
    "print(y)"
   ]
  },
  {
   "cell_type": "code",
   "execution_count": 93,
   "id": "f9c31ffc",
   "metadata": {},
   "outputs": [
    {
     "name": "stdout",
     "output_type": "stream",
     "text": [
      "[[ 0.  1.  2.  3.  4.  5.  6.  7.  8.  9.]\n",
      " [10. 11. 12. 13. 14. 15. 16. 17. 18. 19.]]\n"
     ]
    }
   ],
   "source": [
    "z = np.linspace(0,19,20).reshape(2,10)\n",
    "print(z)"
   ]
  },
  {
   "cell_type": "code",
   "execution_count": null,
   "id": "59cd5224",
   "metadata": {},
   "outputs": [],
   "source": [
    "# random.random  [0,1]"
   ]
  },
  {
   "cell_type": "code",
   "execution_count": 94,
   "id": "f2fb06aa",
   "metadata": {},
   "outputs": [
    {
     "name": "stdout",
     "output_type": "stream",
     "text": [
      "[[0.0052393  0.27487161 0.41490886]\n",
      " [0.20539686 0.97720419 0.32180097]]\n"
     ]
    }
   ],
   "source": [
    "x = np.random.random((2,3))\n",
    "print(x)"
   ]
  },
  {
   "cell_type": "code",
   "execution_count": null,
   "id": "80230637",
   "metadata": {},
   "outputs": [],
   "source": [
    "# random.randint"
   ]
  },
  {
   "cell_type": "code",
   "execution_count": 95,
   "id": "81993c78",
   "metadata": {},
   "outputs": [
    {
     "name": "stdout",
     "output_type": "stream",
     "text": [
      "[[ 5  5]\n",
      " [11  3]\n",
      " [ 7  6]]\n"
     ]
    }
   ],
   "source": [
    "x = np.random.randint(3,12,size=(3,2)) # 3 ile 12(dahil değil) arasında rastgele değer alarak 3*2 lik matris verir.\n",
    "print(x)"
   ]
  },
  {
   "cell_type": "code",
   "execution_count": 101,
   "id": "6d03d0bc",
   "metadata": {},
   "outputs": [
    {
     "name": "stdout",
     "output_type": "stream",
     "text": [
      "[0 1 2 3 4]\n",
      "0\n",
      "2\n",
      "4\n",
      "4\n",
      "3\n",
      "0\n"
     ]
    }
   ],
   "source": [
    "x = np.arange(5)\n",
    "print(x)\n",
    "print(x[0])\n",
    "print(x[2])\n",
    "print(x[5-1])\n",
    "print(x[-1])\n",
    "print(x[-2])\n",
    "print(x[-5])"
   ]
  },
  {
   "cell_type": "code",
   "execution_count": 103,
   "id": "cf1d3a2a",
   "metadata": {},
   "outputs": [
    {
     "name": "stdout",
     "output_type": "stream",
     "text": [
      "[  0   1 200   3   4]\n",
      "200\n"
     ]
    }
   ],
   "source": [
    "x[2] = 200\n",
    "print(x)\n",
    "print(x[2])"
   ]
  },
  {
   "cell_type": "code",
   "execution_count": 106,
   "id": "eee07e2d",
   "metadata": {},
   "outputs": [
    {
     "name": "stdout",
     "output_type": "stream",
     "text": [
      "[[ 0  1  2  3]\n",
      " [ 4  5  6  7]\n",
      " [ 8  9 10 11]]\n"
     ]
    }
   ],
   "source": [
    "x = np.arange(12).reshape(3,4)\n",
    "print(x)"
   ]
  },
  {
   "cell_type": "code",
   "execution_count": 107,
   "id": "3637e4e6",
   "metadata": {},
   "outputs": [
    {
     "name": "stdout",
     "output_type": "stream",
     "text": [
      "0\n"
     ]
    }
   ],
   "source": [
    "print(x[0,0])"
   ]
  },
  {
   "cell_type": "code",
   "execution_count": 108,
   "id": "54aaace3",
   "metadata": {},
   "outputs": [
    {
     "name": "stdout",
     "output_type": "stream",
     "text": [
      "11\n"
     ]
    }
   ],
   "source": [
    "print(x[2,3])"
   ]
  },
  {
   "cell_type": "code",
   "execution_count": 112,
   "id": "4b03a24b",
   "metadata": {},
   "outputs": [
    {
     "name": "stdout",
     "output_type": "stream",
     "text": [
      "[5 6 7 8 9]\n"
     ]
    }
   ],
   "source": [
    "x = np.arange(5,10)\n",
    "print(x)"
   ]
  },
  {
   "cell_type": "code",
   "execution_count": 113,
   "id": "6f3b5074",
   "metadata": {},
   "outputs": [
    {
     "name": "stdout",
     "output_type": "stream",
     "text": [
      "[7 8 9]\n",
      "[5 6 7 8 9]\n"
     ]
    }
   ],
   "source": [
    "y = np.delete(x,[0,1])  # 0 ve 1. elemanlarını siliyor.\n",
    "print(y)\n",
    "print(x)  #bu durumda orjinal değişmiyor. Bunun için y yerine x e atama yapmamız lazım."
   ]
  },
  {
   "cell_type": "code",
   "execution_count": null,
   "id": "7c4bb9cc",
   "metadata": {},
   "outputs": [],
   "source": [
    "# axis = 0 row-satır   axis = 1 column -sütun"
   ]
  },
  {
   "cell_type": "code",
   "execution_count": 115,
   "id": "3382ef46",
   "metadata": {},
   "outputs": [
    {
     "name": "stdout",
     "output_type": "stream",
     "text": [
      "[[ 0  1  2  3]\n",
      " [ 4  5  6  7]\n",
      " [ 8  9 10 11]\n",
      " [12 13 14 15]]\n"
     ]
    }
   ],
   "source": [
    "x = np.arange(16).reshape(4,4)\n",
    "print(x)"
   ]
  },
  {
   "cell_type": "code",
   "execution_count": 116,
   "id": "2fcaa9ef",
   "metadata": {},
   "outputs": [
    {
     "name": "stdout",
     "output_type": "stream",
     "text": [
      "[[ 0  1  2  3]\n",
      " [ 8  9 10 11]\n",
      " [12 13 14 15]]\n"
     ]
    }
   ],
   "source": [
    "x = np.delete(x,1,axis=0)  # axis 0 olduğundan o satır gitti.\n",
    "print(x)"
   ]
  },
  {
   "cell_type": "code",
   "execution_count": 117,
   "id": "630c5499",
   "metadata": {},
   "outputs": [
    {
     "name": "stdout",
     "output_type": "stream",
     "text": [
      "[[ 1  3]\n",
      " [ 9 11]\n",
      " [13 15]]\n"
     ]
    }
   ],
   "source": [
    "x = np.delete(x,[0,2],axis=1) # axis 1 olduğundan bu iki sütun gitti.\n",
    "print(x)"
   ]
  },
  {
   "cell_type": "code",
   "execution_count": null,
   "id": "2438f35c",
   "metadata": {},
   "outputs": [],
   "source": [
    "# np.append  fonk kullanmak için matrislerin şekillerin birbirine uygun olması gerekir."
   ]
  },
  {
   "cell_type": "code",
   "execution_count": 118,
   "id": "66a280db",
   "metadata": {},
   "outputs": [
    {
     "name": "stdout",
     "output_type": "stream",
     "text": [
      "[0 1 2 3 4]\n",
      "[  0   1   2   3   4 100]\n"
     ]
    }
   ],
   "source": [
    "x = np.arange(5)\n",
    "print(x)\n",
    "x = np.append(x, 100)\n",
    "print(x)"
   ]
  },
  {
   "cell_type": "code",
   "execution_count": 119,
   "id": "4662c0e3",
   "metadata": {},
   "outputs": [
    {
     "name": "stdout",
     "output_type": "stream",
     "text": [
      "[  0   1   2   3   4 100 200 300]\n"
     ]
    }
   ],
   "source": [
    "x = np.append(x, [200,300])\n",
    "print(x)"
   ]
  },
  {
   "cell_type": "code",
   "execution_count": 6,
   "id": "89efc2d4",
   "metadata": {},
   "outputs": [
    {
     "name": "stdout",
     "output_type": "stream",
     "text": [
      "[[0 1 2]\n",
      " [3 4 5]\n",
      " [6 7 8]]\n"
     ]
    }
   ],
   "source": [
    "x = np.arange(9).reshape(3,3)\n",
    "print(x)"
   ]
  },
  {
   "cell_type": "code",
   "execution_count": 7,
   "id": "3793eb13",
   "metadata": {},
   "outputs": [
    {
     "ename": "TypeError",
     "evalue": "_append_dispatcher() missing 1 required positional argument: 'values'",
     "output_type": "error",
     "traceback": [
      "\u001b[1;31m---------------------------------------------------------------------------\u001b[0m",
      "\u001b[1;31mTypeError\u001b[0m                                 Traceback (most recent call last)",
      "\u001b[1;32m<ipython-input-7-03356ea3415d>\u001b[0m in \u001b[0;36m<module>\u001b[1;34m\u001b[0m\n\u001b[0;32m      1\u001b[0m \u001b[1;32mimport\u001b[0m \u001b[0mnumpy\u001b[0m \u001b[1;32mas\u001b[0m \u001b[0mnp\u001b[0m\u001b[1;33m\u001b[0m\u001b[1;33m\u001b[0m\u001b[0m\n\u001b[1;32m----> 2\u001b[1;33m \u001b[0mx\u001b[0m \u001b[1;33m=\u001b[0m \u001b[0mnp\u001b[0m\u001b[1;33m.\u001b[0m\u001b[0mappend\u001b[0m\u001b[1;33m(\u001b[0m\u001b[1;33m[\u001b[0m\u001b[1;33m[\u001b[0m\u001b[1;36m100\u001b[0m\u001b[1;33m,\u001b[0m\u001b[1;36m200\u001b[0m\u001b[1;33m,\u001b[0m\u001b[1;36m300\u001b[0m\u001b[1;33m]\u001b[0m\u001b[1;33m]\u001b[0m\u001b[1;33m,\u001b[0m\u001b[0maxis\u001b[0m\u001b[1;33m=\u001b[0m\u001b[1;36m0\u001b[0m\u001b[1;33m)\u001b[0m\u001b[1;33m\u001b[0m\u001b[1;33m\u001b[0m\u001b[0m\n\u001b[0m\u001b[0;32m      3\u001b[0m \u001b[0mprint\u001b[0m\u001b[1;33m(\u001b[0m\u001b[0mx\u001b[0m\u001b[1;33m)\u001b[0m\u001b[1;33m\u001b[0m\u001b[1;33m\u001b[0m\u001b[0m\n",
      "\u001b[1;32m<__array_function__ internals>\u001b[0m in \u001b[0;36mappend\u001b[1;34m(*args, **kwargs)\u001b[0m\n",
      "\u001b[1;31mTypeError\u001b[0m: _append_dispatcher() missing 1 required positional argument: 'values'"
     ]
    }
   ],
   "source": [
    "import numpy as np\n",
    "x = np.append([[100,200,300]],axis=0)\n",
    "print(x)"
   ]
  },
  {
   "cell_type": "code",
   "execution_count": 8,
   "id": "af465196",
   "metadata": {},
   "outputs": [
    {
     "name": "stdout",
     "output_type": "stream",
     "text": [
      "[[  0   1   2]\n",
      " [  3   4   5]\n",
      " [  6   7   8]\n",
      " [100 200 300]]\n"
     ]
    }
   ],
   "source": [
    "x = np.append(x,[[100,200,300]],axis=0)\n",
    "print(x)"
   ]
  },
  {
   "cell_type": "code",
   "execution_count": 9,
   "id": "a9f65154",
   "metadata": {},
   "outputs": [
    {
     "name": "stdout",
     "output_type": "stream",
     "text": [
      "[[  0   1   2  10]\n",
      " [  3   4   5  20]\n",
      " [  6   7   8  30]\n",
      " [100 200 300  40]]\n"
     ]
    }
   ],
   "source": [
    "x = np.append(x,[[10],[20],[30],[40]],axis=1)\n",
    "print(x)"
   ]
  },
  {
   "cell_type": "code",
   "execution_count": null,
   "id": "d6efd793",
   "metadata": {},
   "outputs": [],
   "source": [
    "# np.insert --> np.insert(ndarray, index,element,axis) ile aralara ekleme yapabiliriz."
   ]
  },
  {
   "cell_type": "code",
   "execution_count": 10,
   "id": "6e59f1f4",
   "metadata": {},
   "outputs": [
    {
     "name": "stdout",
     "output_type": "stream",
     "text": [
      "[0 1 2 3 4]\n"
     ]
    }
   ],
   "source": [
    "x = np.arange(5)\n",
    "print(x)"
   ]
  },
  {
   "cell_type": "code",
   "execution_count": 11,
   "id": "8f61e343",
   "metadata": {},
   "outputs": [
    {
     "name": "stdout",
     "output_type": "stream",
     "text": [
      "[10  0  1  2  3  4]\n"
     ]
    }
   ],
   "source": [
    "x = np.insert(x,0, 10)\n",
    "print(x)"
   ]
  },
  {
   "cell_type": "code",
   "execution_count": 12,
   "id": "6bc18190",
   "metadata": {},
   "outputs": [
    {
     "name": "stdout",
     "output_type": "stream",
     "text": [
      "[10  0 10 20  1  2  3  4]\n"
     ]
    }
   ],
   "source": [
    "x = np.insert(x,2,[10,20])\n",
    "print(x)"
   ]
  },
  {
   "cell_type": "code",
   "execution_count": 3,
   "id": "5d28f878",
   "metadata": {},
   "outputs": [
    {
     "name": "stdout",
     "output_type": "stream",
     "text": [
      "[[0 1 2]\n",
      " [3 4 5]\n",
      " [6 7 8]]\n"
     ]
    }
   ],
   "source": [
    "import numpy as np\n",
    "x = np.arange(9).reshape(3,3)\n",
    "print(x)"
   ]
  },
  {
   "cell_type": "code",
   "execution_count": 4,
   "id": "dcdd1cbd",
   "metadata": {},
   "outputs": [
    {
     "name": "stdout",
     "output_type": "stream",
     "text": [
      "[[  0   1   2]\n",
      " [100 200 300]\n",
      " [  3   4   5]\n",
      " [  6   7   8]]\n"
     ]
    }
   ],
   "source": [
    "\n",
    "x = np.insert(x,1,[100,200,300],axis=0)\n",
    "print(x)"
   ]
  },
  {
   "cell_type": "code",
   "execution_count": 5,
   "id": "c44a1ae6",
   "metadata": {},
   "outputs": [
    {
     "name": "stdout",
     "output_type": "stream",
     "text": [
      "[[ 10   0   1   2]\n",
      " [ 20 100 200 300]\n",
      " [ 30   3   4   5]\n",
      " [ 40   6   7   8]]\n"
     ]
    }
   ],
   "source": [
    "x = np.insert(x,0,[10,20,30,40],axis=1)\n",
    "print(x)"
   ]
  },
  {
   "cell_type": "code",
   "execution_count": null,
   "id": "e0037d6e",
   "metadata": {},
   "outputs": [],
   "source": [
    "# np.stack"
   ]
  },
  {
   "cell_type": "code",
   "execution_count": 7,
   "id": "199f5550",
   "metadata": {},
   "outputs": [
    {
     "name": "stdout",
     "output_type": "stream",
     "text": [
      "[0 1 2]\n"
     ]
    }
   ],
   "source": [
    "x = np.arange(3)\n",
    "print(x)"
   ]
  },
  {
   "cell_type": "code",
   "execution_count": 8,
   "id": "8c43ca5e",
   "metadata": {},
   "outputs": [
    {
     "name": "stdout",
     "output_type": "stream",
     "text": [
      "[[0 1 2]\n",
      " [3 4 5]\n",
      " [6 7 8]]\n"
     ]
    }
   ],
   "source": [
    "y = np.arange(9).reshape(3,3)\n",
    "print(y)"
   ]
  },
  {
   "cell_type": "code",
   "execution_count": 9,
   "id": "a340ba97",
   "metadata": {},
   "outputs": [
    {
     "name": "stdout",
     "output_type": "stream",
     "text": [
      "[[0 1 2]\n",
      " [0 1 2]\n",
      " [3 4 5]\n",
      " [6 7 8]]\n"
     ]
    }
   ],
   "source": [
    "z = np.vstack((x,y))  #vertical yani dikey iliştirme\n",
    "print(z)"
   ]
  },
  {
   "cell_type": "code",
   "execution_count": 10,
   "id": "5c18d1e9",
   "metadata": {},
   "outputs": [
    {
     "ename": "ValueError",
     "evalue": "all the input arrays must have same number of dimensions, but the array at index 0 has 1 dimension(s) and the array at index 1 has 2 dimension(s)",
     "output_type": "error",
     "traceback": [
      "\u001b[1;31m---------------------------------------------------------------------------\u001b[0m",
      "\u001b[1;31mValueError\u001b[0m                                Traceback (most recent call last)",
      "\u001b[1;32m<ipython-input-10-5772f6d5d7bb>\u001b[0m in \u001b[0;36m<module>\u001b[1;34m\u001b[0m\n\u001b[1;32m----> 1\u001b[1;33m \u001b[0mt\u001b[0m \u001b[1;33m=\u001b[0m \u001b[0mnp\u001b[0m\u001b[1;33m.\u001b[0m\u001b[0mhstack\u001b[0m\u001b[1;33m(\u001b[0m\u001b[1;33m(\u001b[0m\u001b[0mx\u001b[0m\u001b[1;33m,\u001b[0m\u001b[0my\u001b[0m\u001b[1;33m)\u001b[0m\u001b[1;33m)\u001b[0m\u001b[1;33m\u001b[0m\u001b[1;33m\u001b[0m\u001b[0m\n\u001b[0m\u001b[0;32m      2\u001b[0m print(t\n\u001b[0;32m      3\u001b[0m )\n",
      "\u001b[1;32m<__array_function__ internals>\u001b[0m in \u001b[0;36mhstack\u001b[1;34m(*args, **kwargs)\u001b[0m\n",
      "\u001b[1;32m~\\anaconda3\\lib\\site-packages\\numpy\\core\\shape_base.py\u001b[0m in \u001b[0;36mhstack\u001b[1;34m(tup)\u001b[0m\n\u001b[0;32m    342\u001b[0m     \u001b[1;31m# As a special case, dimension 0 of 1-dimensional arrays is \"horizontal\"\u001b[0m\u001b[1;33m\u001b[0m\u001b[1;33m\u001b[0m\u001b[1;33m\u001b[0m\u001b[0m\n\u001b[0;32m    343\u001b[0m     \u001b[1;32mif\u001b[0m \u001b[0marrs\u001b[0m \u001b[1;32mand\u001b[0m \u001b[0marrs\u001b[0m\u001b[1;33m[\u001b[0m\u001b[1;36m0\u001b[0m\u001b[1;33m]\u001b[0m\u001b[1;33m.\u001b[0m\u001b[0mndim\u001b[0m \u001b[1;33m==\u001b[0m \u001b[1;36m1\u001b[0m\u001b[1;33m:\u001b[0m\u001b[1;33m\u001b[0m\u001b[1;33m\u001b[0m\u001b[0m\n\u001b[1;32m--> 344\u001b[1;33m         \u001b[1;32mreturn\u001b[0m \u001b[0m_nx\u001b[0m\u001b[1;33m.\u001b[0m\u001b[0mconcatenate\u001b[0m\u001b[1;33m(\u001b[0m\u001b[0marrs\u001b[0m\u001b[1;33m,\u001b[0m \u001b[1;36m0\u001b[0m\u001b[1;33m)\u001b[0m\u001b[1;33m\u001b[0m\u001b[1;33m\u001b[0m\u001b[0m\n\u001b[0m\u001b[0;32m    345\u001b[0m     \u001b[1;32melse\u001b[0m\u001b[1;33m:\u001b[0m\u001b[1;33m\u001b[0m\u001b[1;33m\u001b[0m\u001b[0m\n\u001b[0;32m    346\u001b[0m         \u001b[1;32mreturn\u001b[0m \u001b[0m_nx\u001b[0m\u001b[1;33m.\u001b[0m\u001b[0mconcatenate\u001b[0m\u001b[1;33m(\u001b[0m\u001b[0marrs\u001b[0m\u001b[1;33m,\u001b[0m \u001b[1;36m1\u001b[0m\u001b[1;33m)\u001b[0m\u001b[1;33m\u001b[0m\u001b[1;33m\u001b[0m\u001b[0m\n",
      "\u001b[1;32m<__array_function__ internals>\u001b[0m in \u001b[0;36mconcatenate\u001b[1;34m(*args, **kwargs)\u001b[0m\n",
      "\u001b[1;31mValueError\u001b[0m: all the input arrays must have same number of dimensions, but the array at index 0 has 1 dimension(s) and the array at index 1 has 2 dimension(s)"
     ]
    }
   ],
   "source": [
    "t = np.hstack((x,y))   #horizontal yani yatay iliştirme. Burada x y ye ekleneceğinden dolayı y nin şeklini değiştirmeliyiz.\n",
    "print(t)"
   ]
  },
  {
   "cell_type": "code",
   "execution_count": 11,
   "id": "93eb2c1f",
   "metadata": {},
   "outputs": [
    {
     "name": "stdout",
     "output_type": "stream",
     "text": [
      "[0 1 2 0 1 2 3 4 5 6 7 8]\n"
     ]
    }
   ],
   "source": [
    "t = np.hstack((x,y.reshape(9,))) \n",
    "print(t)"
   ]
  },
  {
   "cell_type": "code",
   "execution_count": 13,
   "id": "c55dbaf1",
   "metadata": {},
   "outputs": [
    {
     "name": "stdout",
     "output_type": "stream",
     "text": [
      "[0 1 2]\n",
      "[[0 1 2]\n",
      " [3 4 5]\n",
      " [6 7 8]]\n",
      "[0 1 2 0 1 2 3 4 5 6 7 8]\n"
     ]
    }
   ],
   "source": [
    "x = np.arange(3)\n",
    "print(x)\n",
    "\n",
    "y = np.arange(9).reshape(3,3)\n",
    "print(y)\n",
    "\n",
    "y = y.reshape((9,))\n",
    "t = np.hstack((x,y))\n",
    "print(t)"
   ]
  },
  {
   "cell_type": "code",
   "execution_count": 14,
   "id": "dc288fc2",
   "metadata": {},
   "outputs": [
    {
     "name": "stdout",
     "output_type": "stream",
     "text": [
      "[0 1 2 3 4 5 6 7 8 9]\n"
     ]
    }
   ],
   "source": [
    "x = np.arange(10)\n",
    "print(x)"
   ]
  },
  {
   "cell_type": "code",
   "execution_count": 15,
   "id": "b019744a",
   "metadata": {},
   "outputs": [
    {
     "name": "stdout",
     "output_type": "stream",
     "text": [
      "[2 3 4 5]\n"
     ]
    }
   ],
   "source": [
    "print(x[2:6])"
   ]
  },
  {
   "cell_type": "code",
   "execution_count": 16,
   "id": "00e356d5",
   "metadata": {},
   "outputs": [
    {
     "name": "stdout",
     "output_type": "stream",
     "text": [
      "[4 5 6 7 8 9]\n"
     ]
    }
   ],
   "source": [
    "print(x[4:])"
   ]
  },
  {
   "cell_type": "code",
   "execution_count": 17,
   "id": "5062860e",
   "metadata": {},
   "outputs": [
    {
     "name": "stdout",
     "output_type": "stream",
     "text": [
      "[0 1 2 3 4 5 6]\n"
     ]
    }
   ],
   "source": [
    "print(x[:7])"
   ]
  },
  {
   "cell_type": "code",
   "execution_count": 18,
   "id": "05ccb87e",
   "metadata": {},
   "outputs": [
    {
     "name": "stdout",
     "output_type": "stream",
     "text": [
      "[0 1 2 3 4 5 6 7 8]\n"
     ]
    }
   ],
   "source": [
    "print(x[:-1])"
   ]
  },
  {
   "cell_type": "code",
   "execution_count": 19,
   "id": "51b807a2",
   "metadata": {},
   "outputs": [
    {
     "name": "stdout",
     "output_type": "stream",
     "text": [
      "[4 5 6 7]\n"
     ]
    }
   ],
   "source": [
    "print(x[4:-2])"
   ]
  },
  {
   "cell_type": "code",
   "execution_count": 22,
   "id": "112906f0",
   "metadata": {},
   "outputs": [
    {
     "name": "stdout",
     "output_type": "stream",
     "text": [
      "[6 7]\n"
     ]
    }
   ],
   "source": [
    "print(x[-4:-2])"
   ]
  },
  {
   "cell_type": "code",
   "execution_count": 26,
   "id": "3f343ed9",
   "metadata": {},
   "outputs": [
    {
     "name": "stdout",
     "output_type": "stream",
     "text": [
      "[[ 0  1  2  3  4]\n",
      " [ 5  6  7  8  9]\n",
      " [10 11 12 13 14]\n",
      " [15 16 17 18 19]\n",
      " [20 21 22 23 24]]\n",
      "\n",
      "[[ 1  2  3]\n",
      " [ 6  7  8]\n",
      " [11 12 13]]\n",
      "\n",
      "[[10 11 12 13 14]\n",
      " [15 16 17 18 19]\n",
      " [20 21 22 23 24]]\n",
      "\n",
      "[[ 0  1  2  3  4]\n",
      " [ 5  6  7  8  9]\n",
      " [10 11 12 13 14]\n",
      " [15 16 17 18 19]\n",
      " [20 21 22 23 24]]\n",
      "\n",
      "[[ 3  4]\n",
      " [ 8  9]\n",
      " [13 14]\n",
      " [18 19]\n",
      " [23 24]]\n"
     ]
    }
   ],
   "source": [
    "x = np.arange(25).reshape(5,5)\n",
    "print(x)\n",
    "print()\n",
    "y = x[0:3, 1:4]  # 0,1,2 satırları ve 1,2,3 sütunları alıyoruz.\n",
    "print(y)\n",
    "print()\n",
    "z = x[2:]  # 2 ve sonraki satırları alıyoruz. Sütunlar ile ilgili bir husus olmadğından hepsini alıyoruz.\n",
    "print(z)\n",
    "print()\n",
    "t = x[::]  # satır ve sütünlar ile ilgili bir kısıtlama yok. Hepsini aldık.\n",
    "print(t)\n",
    "print()\n",
    "v = x[:, 3:] # tüm satırları ve 3 den sonraki sütunları alıyoruz.\n",
    "print(v)"
   ]
  },
  {
   "cell_type": "code",
   "execution_count": 27,
   "id": "6c2bb466",
   "metadata": {},
   "outputs": [
    {
     "name": "stdout",
     "output_type": "stream",
     "text": [
      "[[0 1 2]\n",
      " [3 4 5]\n",
      " [6 7 8]]\n",
      "\n",
      "[[3 4]]\n"
     ]
    }
   ],
   "source": [
    "x = np.arange(9).reshape(3,3)\n",
    "print(x)\n",
    "print()\n",
    "y = x[1:2,0:2]   # 1. satırı ve 0,1 sütunları alıyoruz.\n",
    "print(y)"
   ]
  },
  {
   "cell_type": "code",
   "execution_count": 28,
   "id": "61da2efb",
   "metadata": {},
   "outputs": [
    {
     "name": "stdout",
     "output_type": "stream",
     "text": [
      "[[100   4]]\n"
     ]
    }
   ],
   "source": [
    "y [0,0] = 100\n",
    "print(y)"
   ]
  },
  {
   "cell_type": "code",
   "execution_count": 29,
   "id": "3d0cb490",
   "metadata": {},
   "outputs": [
    {
     "name": "stdout",
     "output_type": "stream",
     "text": [
      "[[  0   1   2]\n",
      " [100   4   5]\n",
      " [  6   7   8]]\n"
     ]
    }
   ],
   "source": [
    "print(x)"
   ]
  },
  {
   "cell_type": "code",
   "execution_count": 30,
   "id": "ee833dd2",
   "metadata": {},
   "outputs": [
    {
     "name": "stdout",
     "output_type": "stream",
     "text": [
      "True\n"
     ]
    }
   ],
   "source": [
    "print(np.shares_memory(x,y))   # x ve y aynı memory paylaştığını gösterir.\n",
    "\n",
    "# hafızamızda bir alan tutuyoruz. slicing işlemi yaptıktan aynı ndarray in farklı alanlarını tutuyorlar. \n",
    "# Herhangi birdeğişiklik yapılınca ilk ndarray in de görünümünü değiştiriyoruz."
   ]
  },
  {
   "cell_type": "code",
   "execution_count": 35,
   "id": "d3f62ff8",
   "metadata": {},
   "outputs": [
    {
     "name": "stdout",
     "output_type": "stream",
     "text": [
      "[[0 1 2]\n",
      " [3 4 5]\n",
      " [6 7 8]]\n",
      "\n",
      "[[3 4]]\n",
      "\n",
      "False\n"
     ]
    }
   ],
   "source": [
    "x = np.arange(9).reshape(3,3)\n",
    "print(x)\n",
    "print()\n",
    "y = np.copy(x[1:2,0:2])\n",
    "print(y)\n",
    "print()\n",
    "print(np.shares_memory(x,y))"
   ]
  },
  {
   "cell_type": "code",
   "execution_count": 36,
   "id": "2b5dffdf",
   "metadata": {},
   "outputs": [
    {
     "name": "stdout",
     "output_type": "stream",
     "text": [
      "[[100   4]]\n",
      "[[0 1 2]\n",
      " [3 4 5]\n",
      " [6 7 8]]\n"
     ]
    }
   ],
   "source": [
    "y[0,0] = 100\n",
    "print(y)\n",
    "print(x)"
   ]
  },
  {
   "cell_type": "markdown",
   "id": "c467a0a3",
   "metadata": {},
   "source": [
    "# Yukarıdaki iki farklı yöntemde görüldüğü gibi slicing metodunu kullanarak yaptığımızda x ve y aynı hafızayı kullanırken, \n",
    "# diğer yöntemde aynı hafızayı kullanmadığından yapılan değişiklikler x de yansımıyor.\n",
    "# slicing de aynı ndarrayın farklı görsellerini oluştururken\n",
    "# copy de farklı ndarrayler oluşturuyoruz."
   ]
  },
  {
   "cell_type": "code",
   "execution_count": 39,
   "id": "0c328694",
   "metadata": {},
   "outputs": [
    {
     "name": "stdout",
     "output_type": "stream",
     "text": [
      "[[4]]\n",
      "\n",
      "[[0 1 2]\n",
      " [3 4 5]\n",
      " [6 7 8]]\n",
      "\n",
      "False\n"
     ]
    }
   ],
   "source": [
    "z = x[1:2,1:2].copy()\n",
    "print(z)\n",
    "print()\n",
    "print(x)\n",
    "print()\n",
    "print(np.shares_memory(x,z))"
   ]
  },
  {
   "cell_type": "code",
   "execution_count": 40,
   "id": "a002ab9b",
   "metadata": {},
   "outputs": [],
   "source": [
    "import numpy as np"
   ]
  },
  {
   "cell_type": "code",
   "execution_count": 41,
   "id": "35172f5c",
   "metadata": {},
   "outputs": [
    {
     "name": "stdout",
     "output_type": "stream",
     "text": [
      "[ 1.  3.  5.  7.  9. 11. 13. 15. 17. 19. 21.]\n"
     ]
    }
   ],
   "source": [
    "x = np.linspace(1,21,11)\n",
    "print(x)"
   ]
  },
  {
   "cell_type": "code",
   "execution_count": 42,
   "id": "8889f518",
   "metadata": {},
   "outputs": [
    {
     "name": "stdout",
     "output_type": "stream",
     "text": [
      "[2 4 7]\n"
     ]
    }
   ],
   "source": [
    "y = np.array([2,4,7])\n",
    "print(y)"
   ]
  },
  {
   "cell_type": "code",
   "execution_count": 43,
   "id": "b390c882",
   "metadata": {},
   "outputs": [
    {
     "name": "stdout",
     "output_type": "stream",
     "text": [
      "[ 5.  9. 15.]\n"
     ]
    }
   ],
   "source": [
    "print(x[y])  # x ndarrayimizi başka bir y ndarrayi ile dilimledik."
   ]
  },
  {
   "cell_type": "code",
   "execution_count": 47,
   "id": "91e47ef0",
   "metadata": {},
   "outputs": [
    {
     "name": "stdout",
     "output_type": "stream",
     "text": [
      "[[ 0  1  2  3  4]\n",
      " [ 5  6  7  8  9]\n",
      " [10 11 12 13 14]\n",
      " [15 16 17 18 19]\n",
      " [20 21 22 23 24]]\n",
      "\n",
      "[1 2]\n",
      "\n",
      "[[ 5  6  7  8  9]\n",
      " [10 11 12 13 14]]\n",
      "\n",
      "[[ 1  2]\n",
      " [ 6  7]\n",
      " [11 12]\n",
      " [16 17]\n",
      " [21 22]]\n"
     ]
    }
   ],
   "source": [
    "x = np.arange(25).reshape(5,5)\n",
    "print(x)\n",
    "print()\n",
    "y= np.array([1,2])\n",
    "print(y)\n",
    "print()\n",
    "print(x[y,:]) # 1.ve 2. satırları alıyoruz ve sütunların tamamını alıyoruz.\n",
    "print()\n",
    "print(x[:,y]) # satırların tamamını alıyoruz, sütunların 1. ve 2. yi alıyoruz.\n",
    "# burada başka bir ndarray ile slicing yapıyoruz."
   ]
  },
  {
   "cell_type": "code",
   "execution_count": 48,
   "id": "44027e58",
   "metadata": {},
   "outputs": [
    {
     "name": "stdout",
     "output_type": "stream",
     "text": [
      "[[ 0  1  2  3  4]\n",
      " [ 5  6  7  8  9]\n",
      " [10 11 12 13 14]\n",
      " [15 16 17 18 19]\n",
      " [20 21 22 23 24]]\n",
      "[[100   6   7   8   9]\n",
      " [ 10  11  12  13  14]]\n",
      "[[ 0  1  2  3  4]\n",
      " [ 5  6  7  8  9]\n",
      " [10 11 12 13 14]\n",
      " [15 16 17 18 19]\n",
      " [20 21 22 23 24]]\n",
      "False\n"
     ]
    }
   ],
   "source": [
    "z = x[y,:]\n",
    "print(x)\n",
    "z[0,0] = 100\n",
    "print(z)\n",
    "print(x)\n",
    "print(np.shares_memory(x,z))\n",
    "\n",
    "# bir ndarrayin bir alt kümesine başka bir ndarray yardımı ile \n",
    "# ulaşabiliyorsam buna fancy indexing denir. Burada yapılan değişiklikten orjinal ndarray etkilenmiyor."
   ]
  },
  {
   "cell_type": "code",
   "execution_count": 51,
   "id": "0b46ad7b",
   "metadata": {},
   "outputs": [
    {
     "name": "stdout",
     "output_type": "stream",
     "text": [
      "[0 1 2 3 4 5 6 7 8 9]\n",
      "\n",
      "[0 2 4 6 8]\n",
      "[0 2 4 6 8]\n",
      "[100   2   4   6   8]\n",
      "\n",
      "[0 1 2 3 4 5 6 7 8 9]\n"
     ]
    }
   ],
   "source": [
    "x = np.arange(10)\n",
    "print(x)\n",
    "print()\n",
    "print(x[x % 2 == 0]) # x in elemanlarından 2 ye bölünebilenleri gönderir.\n",
    "z = x[(x % 2 == 0)]\n",
    "print(z)\n",
    "z[0] = 100\n",
    "print(z)\n",
    "print()\n",
    "print(x)\n",
    "# boolean indexing de fancy indexing yapılan değişikler orjinal ndarray i etkilemiyor."
   ]
  },
  {
   "cell_type": "code",
   "execution_count": 53,
   "id": "a3b0be35",
   "metadata": {},
   "outputs": [
    {
     "name": "stdout",
     "output_type": "stream",
     "text": [
      "[6 0 9 3 9 9 2 1 8 5]\n",
      "[5 6 2 3 3 1 7 5 2 0]\n",
      "[ True False  True False  True  True False False  True  True]\n",
      "<class 'numpy.ndarray'>\n",
      "bool\n",
      "\n",
      "False\n",
      "True\n"
     ]
    }
   ],
   "source": [
    "x = np.random.randint(10, size=10) #10 hariç bu arada bize 10 tane rastgele sayı verir.\n",
    "y = np.random.randint(10, size=10)\n",
    "\n",
    "print(x)\n",
    "print(y)\n",
    "print(x>y)  #boolean olarak bunu sonucunu her bir eleman için veriyor.\n",
    "print(type(x>y))\n",
    "print((x>y).dtype)\n",
    "\n",
    "print()\n",
    "print(np.all(x>y))  # burada x in elemanlarının tamamı y ninkilerden büyükse true döner.\n",
    "print(np.any(x>y))  # burada x in elemanlarından sadece 1 tane olsa bile y ninkilerden büyükse true döner.\n"
   ]
  },
  {
   "cell_type": "code",
   "execution_count": 56,
   "id": "0fc8daab",
   "metadata": {},
   "outputs": [
    {
     "name": "stdout",
     "output_type": "stream",
     "text": [
      "[ 1.  3.  5.  7.  9. 11. 13. 15. 17. 19. 21.]\n",
      "[False  True False False  True False False  True False False  True]\n",
      "<class 'numpy.ndarray'>\n",
      "[ 3.  9. 15. 21.]\n"
     ]
    }
   ],
   "source": [
    "x = np.linspace(1,21,11)\n",
    "print(x)\n",
    "mask = (x % 3 == 0)\n",
    "print(mask)\n",
    "print(type(mask))\n",
    "print(x[mask])  # x in mask kuralına uyan elemanlarını listele."
   ]
  },
  {
   "cell_type": "code",
   "execution_count": 59,
   "id": "23f135f9",
   "metadata": {},
   "outputs": [
    {
     "name": "stdout",
     "output_type": "stream",
     "text": [
      "[ 1. -3.  5.  7. -3. 11. 13. -3. 17. 19. -3.]\n"
     ]
    }
   ],
   "source": [
    "x[mask] = -3  #kurala uyanları -3 olarak gösteriyor.\n",
    "print(x)"
   ]
  },
  {
   "cell_type": "code",
   "execution_count": 62,
   "id": "252cb838",
   "metadata": {},
   "outputs": [],
   "source": [
    "x = np.array([2,5,3,6,9])\n",
    "y = np.array([6,1,8,7,3])"
   ]
  },
  {
   "cell_type": "code",
   "execution_count": 63,
   "id": "5e8e45d9",
   "metadata": {},
   "outputs": [
    {
     "name": "stdout",
     "output_type": "stream",
     "text": [
      "[3 6]\n",
      "<class 'numpy.ndarray'>\n"
     ]
    }
   ],
   "source": [
    "z = np.intersect1d(x,y)  #iki ndarray da ortak olanları verir.\n",
    "print(z)\n",
    "print(type(z))"
   ]
  },
  {
   "cell_type": "code",
   "execution_count": 64,
   "id": "a7ee16c1",
   "metadata": {},
   "outputs": [
    {
     "name": "stdout",
     "output_type": "stream",
     "text": [
      "[2 5 9]\n",
      "<class 'numpy.ndarray'>\n"
     ]
    }
   ],
   "source": [
    "z = np.setdiff1d(x,y)  # x de olup y de olmayanları verir.\n",
    "print(z)\n",
    "print(type(z))"
   ]
  },
  {
   "cell_type": "code",
   "execution_count": 65,
   "id": "d96a2d9e",
   "metadata": {},
   "outputs": [
    {
     "name": "stdout",
     "output_type": "stream",
     "text": [
      "[1 2 3 5 6 7 8 9]\n",
      "<class 'numpy.ndarray'>\n"
     ]
    }
   ],
   "source": [
    "z = np.union1d(x,y)  # x ve y nin birleşimini verir. \n",
    "print(z)\n",
    "print(type(z))"
   ]
  },
  {
   "cell_type": "code",
   "execution_count": 66,
   "id": "12197940",
   "metadata": {},
   "outputs": [
    {
     "name": "stdout",
     "output_type": "stream",
     "text": [
      "[False False  True  True False]\n",
      "<class 'numpy.ndarray'>\n"
     ]
    }
   ],
   "source": [
    "z = np.in1d(x,y)  # x de olan bir elemanın y içinde olup almadığına bakar.\n",
    "print(z)\n",
    "print(type(z))"
   ]
  },
  {
   "cell_type": "code",
   "execution_count": 67,
   "id": "9793f684",
   "metadata": {},
   "outputs": [
    {
     "name": "stdout",
     "output_type": "stream",
     "text": [
      "[0 2 3 4 5 6 9]\n"
     ]
    }
   ],
   "source": [
    "x = np.array([2,5,3,6,9,4,3,6,5,0])\n",
    "print(np.unique(x))"
   ]
  },
  {
   "cell_type": "code",
   "execution_count": null,
   "id": "efeefc7b",
   "metadata": {},
   "outputs": [],
   "source": [
    "# sort"
   ]
  },
  {
   "cell_type": "code",
   "execution_count": 73,
   "id": "50725bc6",
   "metadata": {},
   "outputs": [
    {
     "name": "stdout",
     "output_type": "stream",
     "text": [
      "[8 9 3 8 5 9 1 3 1 7]\n",
      "\n",
      "[1 1 3 3 5 7 8 8 9 9]\n",
      "\n",
      "[8 9 3 8 5 9 1 3 1 7]\n",
      "\n"
     ]
    }
   ],
   "source": [
    "x = np.random.randint(1,10,size=(10,))\n",
    "print(x)\n",
    "print()\n",
    "print(np.sort(x))  # burada sort fonksiyon şeklinde. Bu durumda sadece olduğu yerde değişiklik yapıyor.\n",
    "print()\n",
    "print(x)\n",
    "print()"
   ]
  },
  {
   "cell_type": "code",
   "execution_count": 76,
   "id": "bf45517f",
   "metadata": {},
   "outputs": [
    {
     "name": "stdout",
     "output_type": "stream",
     "text": [
      "[2 6 4 2 4 6 9 5 9 7]\n",
      "\n",
      "[2 2 4 4 5 6 6 7 9 9]\n"
     ]
    }
   ],
   "source": [
    "y = np.random.randint(1,10,size=(10,))\n",
    "print(y)\n",
    "y.sort()\n",
    "print()\n",
    "print(y)"
   ]
  },
  {
   "cell_type": "code",
   "execution_count": 77,
   "id": "4b219b66",
   "metadata": {},
   "outputs": [
    {
     "name": "stdout",
     "output_type": "stream",
     "text": [
      "[[8 9 4 9 7]\n",
      " [3 2 6 3 8]\n",
      " [8 8 2 8 9]\n",
      " [9 1 7 4 4]\n",
      " [6 7 3 9 7]]\n",
      "\n",
      "[[3 1 2 3 4]\n",
      " [6 2 3 4 7]\n",
      " [8 7 4 8 7]\n",
      " [8 8 6 9 8]\n",
      " [9 9 7 9 9]]\n",
      "\n",
      "[[4 7 8 9 9]\n",
      " [2 3 3 6 8]\n",
      " [2 8 8 8 9]\n",
      " [1 4 4 7 9]\n",
      " [3 6 7 7 9]]\n"
     ]
    }
   ],
   "source": [
    "x = np.random.randint(1,10,size=(5,5))\n",
    "print(x)\n",
    "print()\n",
    "print(np.sort(x,axis=0))  # sütunlara göre sıralar.\n",
    "print()\n",
    "print(np.sort(x,axis=1))  # satırlara göre sıralar."
   ]
  },
  {
   "cell_type": "code",
   "execution_count": null,
   "id": "652e08a3",
   "metadata": {},
   "outputs": [],
   "source": [
    "# element-wise, array-wise"
   ]
  },
  {
   "cell_type": "code",
   "execution_count": 4,
   "id": "13da6ce8",
   "metadata": {},
   "outputs": [
    {
     "name": "stdout",
     "output_type": "stream",
     "text": [
      "[4 1 7 4 3]\n"
     ]
    }
   ],
   "source": [
    "import numpy as np\n",
    "x = np.random.randint(1,10,size=(5,))\n",
    "print(x)"
   ]
  },
  {
   "cell_type": "code",
   "execution_count": 5,
   "id": "b8d3ee42",
   "metadata": {},
   "outputs": [
    {
     "name": "stdout",
     "output_type": "stream",
     "text": [
      "[3 4 7 5 4]\n"
     ]
    }
   ],
   "source": [
    "y = np.random.randint(1,10,size=(5,))\n",
    "print(y)"
   ]
  },
  {
   "cell_type": "code",
   "execution_count": 6,
   "id": "85998f33",
   "metadata": {},
   "outputs": [
    {
     "name": "stdout",
     "output_type": "stream",
     "text": [
      "[ 7  5 14  9  7]\n"
     ]
    }
   ],
   "source": [
    "print(x+y)  # toplama işlemi bu şekilde olabileceği gibi aşağıdaki gibide olabilir."
   ]
  },
  {
   "cell_type": "code",
   "execution_count": 7,
   "id": "5feac8dc",
   "metadata": {},
   "outputs": [
    {
     "name": "stdout",
     "output_type": "stream",
     "text": [
      "[ 7  5 14  9  7]\n"
     ]
    }
   ],
   "source": [
    "print(np.add(x,y))"
   ]
  },
  {
   "cell_type": "code",
   "execution_count": 8,
   "id": "e7b0153c",
   "metadata": {},
   "outputs": [
    {
     "name": "stdout",
     "output_type": "stream",
     "text": [
      "[ 1 -3  0 -1 -1]\n"
     ]
    }
   ],
   "source": [
    "print(np.subtract(x,y))"
   ]
  },
  {
   "cell_type": "code",
   "execution_count": 10,
   "id": "725e878e",
   "metadata": {},
   "outputs": [
    {
     "name": "stdout",
     "output_type": "stream",
     "text": [
      "[12  4 49 20 12]\n"
     ]
    }
   ],
   "source": [
    "print(np.multiply(x,y))"
   ]
  },
  {
   "cell_type": "code",
   "execution_count": 11,
   "id": "77aafe27",
   "metadata": {},
   "outputs": [
    {
     "name": "stdout",
     "output_type": "stream",
     "text": [
      "[1.33333333 0.25       1.         0.8        0.75      ]\n"
     ]
    }
   ],
   "source": [
    "print(np.divide(x,y))"
   ]
  },
  {
   "cell_type": "code",
   "execution_count": 3,
   "id": "228c470a",
   "metadata": {},
   "outputs": [
    {
     "name": "stdout",
     "output_type": "stream",
     "text": [
      "[6 7 9 2 7]\n"
     ]
    }
   ],
   "source": [
    "import numpy as np\n",
    "x = np.random.randint(1,10,size=(5,))\n",
    "print(x)"
   ]
  },
  {
   "cell_type": "code",
   "execution_count": 4,
   "id": "5c23abba",
   "metadata": {},
   "outputs": [
    {
     "name": "stdout",
     "output_type": "stream",
     "text": [
      "[2 2 4 2 2]\n"
     ]
    }
   ],
   "source": [
    "y = np.random.randint(1,10,size=(5,))\n",
    "print(y)"
   ]
  },
  {
   "cell_type": "code",
   "execution_count": 5,
   "id": "9f3a41d1",
   "metadata": {},
   "outputs": [
    {
     "name": "stdout",
     "output_type": "stream",
     "text": [
      "[False False False  True False]\n"
     ]
    }
   ],
   "source": [
    "print(x == y)"
   ]
  },
  {
   "cell_type": "code",
   "execution_count": 6,
   "id": "a32494ad",
   "metadata": {},
   "outputs": [
    {
     "name": "stdout",
     "output_type": "stream",
     "text": [
      "[9 4 9 8 6 2]\n"
     ]
    }
   ],
   "source": [
    "y = np.random.randint(1,10,size=(6,))\n",
    "print(y)"
   ]
  },
  {
   "cell_type": "code",
   "execution_count": 7,
   "id": "8d0e8194",
   "metadata": {},
   "outputs": [
    {
     "name": "stdout",
     "output_type": "stream",
     "text": [
      "False\n"
     ]
    },
    {
     "name": "stderr",
     "output_type": "stream",
     "text": [
      "<ipython-input-7-d56506f55da8>:1: DeprecationWarning: elementwise comparison failed; this will raise an error in the future.\n",
      "  print(x == y)\n"
     ]
    }
   ],
   "source": [
    "print(x == y)"
   ]
  },
  {
   "cell_type": "code",
   "execution_count": 8,
   "id": "0733425d",
   "metadata": {},
   "outputs": [
    {
     "ename": "ValueError",
     "evalue": "operands could not be broadcast together with shapes (5,) (6,) ",
     "output_type": "error",
     "traceback": [
      "\u001b[1;31m---------------------------------------------------------------------------\u001b[0m",
      "\u001b[1;31mValueError\u001b[0m                                Traceback (most recent call last)",
      "\u001b[1;32m<ipython-input-8-39cb3db33052>\u001b[0m in \u001b[0;36m<module>\u001b[1;34m\u001b[0m\n\u001b[1;32m----> 1\u001b[1;33m \u001b[0mprint\u001b[0m\u001b[1;33m(\u001b[0m\u001b[0mx\u001b[0m\u001b[1;33m+\u001b[0m\u001b[0my\u001b[0m\u001b[1;33m)\u001b[0m\u001b[1;33m\u001b[0m\u001b[1;33m\u001b[0m\u001b[0m\n\u001b[0m",
      "\u001b[1;31mValueError\u001b[0m: operands could not be broadcast together with shapes (5,) (6,) "
     ]
    }
   ],
   "source": [
    "print(x+y)"
   ]
  },
  {
   "cell_type": "code",
   "execution_count": 9,
   "id": "98a7c0e1",
   "metadata": {},
   "outputs": [
    {
     "name": "stdout",
     "output_type": "stream",
     "text": [
      "False\n"
     ]
    }
   ],
   "source": [
    "print(np.array_equal(x,y))"
   ]
  },
  {
   "cell_type": "code",
   "execution_count": 12,
   "id": "8a728fee",
   "metadata": {},
   "outputs": [
    {
     "name": "stdout",
     "output_type": "stream",
     "text": [
      "True\n"
     ]
    }
   ],
   "source": [
    "x = np.arange(10)\n",
    "y = np.arange(10)\n",
    "\n",
    "print(np.array_equal(x,y))"
   ]
  },
  {
   "cell_type": "code",
   "execution_count": 13,
   "id": "ad81dd59",
   "metadata": {},
   "outputs": [
    {
     "name": "stdout",
     "output_type": "stream",
     "text": [
      "[0.         1.         1.41421356 1.73205081 2.         2.23606798\n",
      " 2.44948974 2.64575131 2.82842712 3.        ]\n"
     ]
    }
   ],
   "source": [
    "print(np.sqrt(x))"
   ]
  },
  {
   "cell_type": "code",
   "execution_count": 16,
   "id": "6b69fd7f",
   "metadata": {},
   "outputs": [
    {
     "name": "stdout",
     "output_type": "stream",
     "text": [
      "[ 0  1  4  9 16 25 36 49 64 81]\n"
     ]
    }
   ],
   "source": [
    "print(np.power(x,2))"
   ]
  },
  {
   "cell_type": "code",
   "execution_count": 20,
   "id": "8bf00fad",
   "metadata": {},
   "outputs": [
    {
     "name": "stdout",
     "output_type": "stream",
     "text": [
      "[[4 9 9]\n",
      " [1 1 8]\n",
      " [5 2 2]]\n"
     ]
    }
   ],
   "source": [
    "x = np.random.randint(1,10,size=(9,)).reshape(3,3)\n",
    "print(x)"
   ]
  },
  {
   "cell_type": "code",
   "execution_count": 21,
   "id": "f92e0ace",
   "metadata": {},
   "outputs": [
    {
     "name": "stdout",
     "output_type": "stream",
     "text": [
      "41\n"
     ]
    }
   ],
   "source": [
    "print(np.sum(x))"
   ]
  },
  {
   "cell_type": "code",
   "execution_count": 25,
   "id": "8c422044",
   "metadata": {},
   "outputs": [
    {
     "name": "stdout",
     "output_type": "stream",
     "text": [
      "[[4 9 9]\n",
      " [1 1 8]\n",
      " [5 2 2]]\n",
      "41\n",
      "[10 12 19]\n",
      "[22 10  9]\n",
      "1\n",
      "9\n",
      "3\n",
      "1\n"
     ]
    }
   ],
   "source": [
    "print(x)\n",
    "print(np.sum(x))  # tüm toplamı verir.\n",
    "print(x.sum(axis=0))   #sütun toplamlarını yazar.\n",
    "print(x.sum(axis=1))   # satır toplamlarını yazar\n",
    "print(x.min()) \n",
    "print(x.max()) \n",
    "print(x.argmin())   # en küçük elemanın index numarasını döner.\n",
    "print(x.argmax())   # en büyük elemanın index numarasını döner."
   ]
  },
  {
   "cell_type": "code",
   "execution_count": 26,
   "id": "255b8104",
   "metadata": {},
   "outputs": [],
   "source": [
    "import numpy as np"
   ]
  },
  {
   "cell_type": "code",
   "execution_count": 27,
   "id": "c0b6dd3c",
   "metadata": {},
   "outputs": [],
   "source": [
    "x = np.random.randint(1,10,size=(8,))"
   ]
  },
  {
   "cell_type": "code",
   "execution_count": 28,
   "id": "c15ad540",
   "metadata": {},
   "outputs": [
    {
     "name": "stdout",
     "output_type": "stream",
     "text": [
      "[9 6 2 6 5 9 8 6]\n",
      "\n",
      "6.375\n",
      "\n",
      "6.0\n",
      "\n",
      "2.1758618981911515\n"
     ]
    }
   ],
   "source": [
    "print(x) \n",
    "print()\n",
    "print(x.mean())  # aritmetik ortalamasıni verir.    \n",
    "print()\n",
    "print(np.median(x))  # median ı verir.       # 2 5 6 6 6 8 9 9\n",
    "print()\n",
    "print(x.std())  # standart sapmasını verir.her bir elemanı aritmetik ortalamadın çıkarıp kareleri taplamını eleman sayısına bölüyoruz. çıkan sonuç stan.sapmanın karesi oluyor."
   ]
  },
  {
   "cell_type": "code",
   "execution_count": 34,
   "id": "ceee41ac",
   "metadata": {},
   "outputs": [],
   "source": [
    "y = np.random.randint(1,10,size=(4,3))"
   ]
  },
  {
   "cell_type": "code",
   "execution_count": 35,
   "id": "986b34cf",
   "metadata": {},
   "outputs": [
    {
     "name": "stdout",
     "output_type": "stream",
     "text": [
      "[[1 3 9]\n",
      " [3 1 6]\n",
      " [9 9 6]\n",
      " [3 1 2]]\n",
      "\n",
      "[4.   3.5  5.75]\n",
      "\n",
      "[3. 3. 9. 2.]\n",
      "\n",
      "[3.         3.27871926 2.48746859]\n"
     ]
    }
   ],
   "source": [
    "print(y) \n",
    "print()\n",
    "print(y.mean(axis=0))  # sütunların aritmetik ortalamasını alıyoruz.\n",
    "print()\n",
    "print(np.median(y,axis=1)) # satırların median ı buluyoruz.\n",
    "print()\n",
    "print(y.std(axis=0))  # sütunların standart sapmasını buluyoruz."
   ]
  },
  {
   "cell_type": "code",
   "execution_count": 38,
   "id": "8531937d",
   "metadata": {},
   "outputs": [
    {
     "name": "stdout",
     "output_type": "stream",
     "text": [
      "[[9 4]\n",
      " [6 7]\n",
      " [9 4]]\n"
     ]
    }
   ],
   "source": [
    "x = np.random.randint(1,10,size=(3,2))\n",
    "print(x)"
   ]
  },
  {
   "cell_type": "code",
   "execution_count": 39,
   "id": "087605fe",
   "metadata": {},
   "outputs": [
    {
     "name": "stdout",
     "output_type": "stream",
     "text": [
      "[[6 2]\n",
      " [1 9]\n",
      " [3 9]]\n"
     ]
    }
   ],
   "source": [
    "# y = np.random.randint(1,10,size=(3,2))\n",
    "# print(y)"
   ]
  },
  {
   "cell_type": "code",
   "execution_count": 40,
   "id": "d6960ed9",
   "metadata": {},
   "outputs": [
    {
     "name": "stdout",
     "output_type": "stream",
     "text": [
      "[[15  6]\n",
      " [ 7 16]\n",
      " [12 13]]\n"
     ]
    }
   ],
   "source": [
    "print(x+y)"
   ]
  },
  {
   "cell_type": "code",
   "execution_count": 48,
   "id": "7c8cfaaa",
   "metadata": {},
   "outputs": [
    {
     "name": "stdout",
     "output_type": "stream",
     "text": [
      "[9]\n",
      "\n",
      "[[3 3]\n",
      " [2 1]\n",
      " [9 4]]\n",
      "\n",
      "[[12 12]\n",
      " [11 10]\n",
      " [18 13]]\n"
     ]
    }
   ],
   "source": [
    "x = np.random.randint(1,10,size=(1,))\n",
    "print(x)\n",
    "print()\n",
    "y = np.random.randint(1,10,size=(3,2))\n",
    "print(y)\n",
    "print()\n",
    "print(x+y) #broadcasting örnek olarak verilebilir. "
   ]
  },
  {
   "cell_type": "code",
   "execution_count": 46,
   "id": "aef5a4fe",
   "metadata": {},
   "outputs": [
    {
     "name": "stdout",
     "output_type": "stream",
     "text": [
      "[4 3 6]\n",
      "\n",
      "[[6 7]\n",
      " [2 6]\n",
      " [3 4]]\n",
      "\n"
     ]
    },
    {
     "ename": "ValueError",
     "evalue": "operands could not be broadcast together with shapes (3,) (3,2) ",
     "output_type": "error",
     "traceback": [
      "\u001b[1;31m---------------------------------------------------------------------------\u001b[0m",
      "\u001b[1;31mValueError\u001b[0m                                Traceback (most recent call last)",
      "\u001b[1;32m<ipython-input-46-d4f1238664e8>\u001b[0m in \u001b[0;36m<module>\u001b[1;34m\u001b[0m\n\u001b[0;32m      5\u001b[0m \u001b[0mprint\u001b[0m\u001b[1;33m(\u001b[0m\u001b[0my\u001b[0m\u001b[1;33m)\u001b[0m\u001b[1;33m\u001b[0m\u001b[1;33m\u001b[0m\u001b[0m\n\u001b[0;32m      6\u001b[0m \u001b[0mprint\u001b[0m\u001b[1;33m(\u001b[0m\u001b[1;33m)\u001b[0m\u001b[1;33m\u001b[0m\u001b[1;33m\u001b[0m\u001b[0m\n\u001b[1;32m----> 7\u001b[1;33m \u001b[0mprint\u001b[0m\u001b[1;33m(\u001b[0m\u001b[0mx\u001b[0m\u001b[1;33m+\u001b[0m\u001b[0my\u001b[0m\u001b[1;33m)\u001b[0m\u001b[1;33m\u001b[0m\u001b[1;33m\u001b[0m\u001b[0m\n\u001b[0m",
      "\u001b[1;31mValueError\u001b[0m: operands could not be broadcast together with shapes (3,) (3,2) "
     ]
    }
   ],
   "source": [
    "x = np.random.randint(1,10,size=(3,))\n",
    "print(x)\n",
    "print()\n",
    "y = np.random.randint(1,10,size=(3,2))\n",
    "print(y)\n",
    "print()\n",
    "print(x+y)"
   ]
  },
  {
   "cell_type": "markdown",
   "id": "34359fc7",
   "metadata": {},
   "source": [
    "# SORULAR"
   ]
  },
  {
   "cell_type": "code",
   "execution_count": 49,
   "id": "48c7faf5",
   "metadata": {},
   "outputs": [
    {
     "name": "stdout",
     "output_type": "stream",
     "text": [
      "[0. 0. 0. 0. 0.]\n",
      "\n",
      "[1. 1. 1. 1. 1.]\n"
     ]
    }
   ],
   "source": [
    "x = np.zeros(5)\n",
    "y = np.ones(5)\n",
    "\n",
    "print(x)\n",
    "print()\n",
    "print(y)"
   ]
  },
  {
   "cell_type": "code",
   "execution_count": 51,
   "id": "d4f55a87",
   "metadata": {},
   "outputs": [
    {
     "name": "stdout",
     "output_type": "stream",
     "text": [
      "[ 7  9 11 13 15 17 19 21 23 25 27 29 31 33 35 37 39 41]\n"
     ]
    }
   ],
   "source": [
    "x = np.arange(7,42,2)\n",
    "print(x)"
   ]
  },
  {
   "cell_type": "code",
   "execution_count": 52,
   "id": "0836de5a",
   "metadata": {},
   "outputs": [
    {
     "name": "stdout",
     "output_type": "stream",
     "text": [
      "[[4 4 7 2]\n",
      " [4 7 6 9]\n",
      " [3 4 4 8]\n",
      " [7 9 4 3]]\n"
     ]
    }
   ],
   "source": [
    "x = np.random.randint(1,10,16).reshape(4,4)\n",
    "print(x)"
   ]
  },
  {
   "cell_type": "code",
   "execution_count": 55,
   "id": "223264c0",
   "metadata": {},
   "outputs": [
    {
     "name": "stdout",
     "output_type": "stream",
     "text": [
      "[0.1 0.2 0.3 0.4 0.5 0.6 0.7 0.8 0.9 1. ]\n"
     ]
    }
   ],
   "source": [
    "x = np.linspace(0.1,1,10)\n",
    "print(x)"
   ]
  },
  {
   "cell_type": "code",
   "execution_count": 59,
   "id": "fb05139a",
   "metadata": {},
   "outputs": [
    {
     "name": "stdout",
     "output_type": "stream",
     "text": [
      "[[ 0  1  2  3  4]\n",
      " [ 5  6  7  8  9]\n",
      " [10 11 12 13 14]\n",
      " [15 16 17 18 19]\n",
      " [20 21 22 23 24]]\n"
     ]
    }
   ],
   "source": [
    "x = np.arange(0,25).reshape(5,5)\n",
    "print(x)"
   ]
  },
  {
   "cell_type": "code",
   "execution_count": 60,
   "id": "2fbab353",
   "metadata": {},
   "outputs": [
    {
     "name": "stdout",
     "output_type": "stream",
     "text": [
      "[[ 7  8]\n",
      " [12 13]]\n"
     ]
    }
   ],
   "source": [
    "y = x[1:3,2:4]\n",
    "print(y)"
   ]
  },
  {
   "cell_type": "code",
   "execution_count": 65,
   "id": "e5fcf47e",
   "metadata": {},
   "outputs": [
    {
     "name": "stdout",
     "output_type": "stream",
     "text": [
      "[[ 1  2  3  4]\n",
      " [ 5  6  7  8]\n",
      " [ 9 10 11 12]\n",
      " [13 14 15 16]]\n",
      "\n",
      "[[ 2  4  6  8]\n",
      " [10 12 14 16]]\n"
     ]
    }
   ],
   "source": [
    "x = np.arange(1,17).reshape(4,4)\n",
    "print(x)\n",
    "print()\n",
    "y = x[x%2==0].reshape(2,4)\n",
    "print(y)\n"
   ]
  },
  {
   "cell_type": "markdown",
   "id": "fb5105ee",
   "metadata": {},
   "source": [
    "# Sinemaya giriş ücreti öğrenciler için 5 TL olmayanlar için 10 TL. 100 kişi için 700 TL toplandığına göre öğrenci sayısı kaçtır? \n",
    "# (x1+x2=100, 5x1+10x2=700)"
   ]
  },
  {
   "cell_type": "code",
   "execution_count": 67,
   "id": "3b1c077d",
   "metadata": {},
   "outputs": [
    {
     "name": "stdout",
     "output_type": "stream",
     "text": [
      "[[ 1  1]\n",
      " [ 5 10]]\n",
      "\n",
      "[100 700]\n",
      "\n",
      "[60. 40.]\n"
     ]
    }
   ],
   "source": [
    "a = np.array([[1,1],[5,10]])  # Bu matrisin ilk satırı x1 ve x2 için, ikinci satır 5x1 ve 10x2 için.\n",
    "print(a)\n",
    "print()\n",
    "\n",
    "b = np.array([100,700])  # Bu katsayılara ait denklemlerin sonucunu yazdık.\n",
    "print(b)\n",
    "print()\n",
    "\n",
    "x = np.linalg.solve(a,b)   # linalg ile çözümü buldum.\n",
    "print(x) "
   ]
  },
  {
   "cell_type": "code",
   "execution_count": 71,
   "id": "0d51063b",
   "metadata": {},
   "outputs": [
    {
     "name": "stdout",
     "output_type": "stream",
     "text": [
      "[[4 3]\n",
      " [3 1]\n",
      " [4 3]]\n",
      "\n",
      "[[1 2 1]\n",
      " [3 1 1]]\n",
      "\n",
      "[[13 11  7]\n",
      " [ 6  7  4]\n",
      " [13 11  7]]\n"
     ]
    }
   ],
   "source": [
    "x = np.random.randint(1,5,6).reshape(3,2)\n",
    "print(x)\n",
    "print()\n",
    "y = np.random.randint(1,5,6).reshape(2,3)\n",
    "print(y)\n",
    "print()\n",
    "print(np.dot(x,y))"
   ]
  },
  {
   "cell_type": "code",
   "execution_count": null,
   "id": "41ddddd9",
   "metadata": {},
   "outputs": [],
   "source": []
  }
 ],
 "metadata": {
  "kernelspec": {
   "display_name": "Python 3",
   "language": "python",
   "name": "python3"
  },
  "language_info": {
   "codemirror_mode": {
    "name": "ipython",
    "version": 3
   },
   "file_extension": ".py",
   "mimetype": "text/x-python",
   "name": "python",
   "nbconvert_exporter": "python",
   "pygments_lexer": "ipython3",
   "version": "3.8.8"
  }
 },
 "nbformat": 4,
 "nbformat_minor": 5
}
