{
 "cells": [
  {
   "cell_type": "code",
   "execution_count": 5,
   "id": "7311b4ec-3518-4944-97b4-0798d4309a20",
   "metadata": {},
   "outputs": [],
   "source": [
    "import pandas as pd"
   ]
  },
  {
   "cell_type": "code",
   "execution_count": 6,
   "id": "26900760-b0cd-4394-88d6-980ac262876c",
   "metadata": {},
   "outputs": [
    {
     "name": "stdout",
     "output_type": "stream",
     "text": [
      "['Arin', 23, 'CE']\n",
      "<class 'list'>\n"
     ]
    }
   ],
   "source": [
    "student= [\"Arin\",23,\"CE\"]\n",
    "print(student)\n",
    "print(type(student))"
   ]
  },
  {
   "cell_type": "code",
   "execution_count": 7,
   "id": "2fed4151-2c3b-4196-a45f-535b100785a7",
   "metadata": {},
   "outputs": [
    {
     "name": "stdout",
     "output_type": "stream",
     "text": [
      "0    Arin\n",
      "1      23\n",
      "2      CE\n",
      "dtype: object\n",
      "<class 'pandas.core.series.Series'>\n"
     ]
    }
   ],
   "source": [
    "# yukarıdaki list yapısını series çevirdik.\n",
    "ps_student = pd.Series(student)\n",
    "print(ps_student)\n",
    "print(type(ps_student))"
   ]
  },
  {
   "cell_type": "code",
   "execution_count": 9,
   "id": "3b84c0f8-494a-47e5-bd6f-1e57e43db752",
   "metadata": {},
   "outputs": [
    {
     "name": "stdout",
     "output_type": "stream",
     "text": [
      "{'name': 'Arin', 'age': '23', 'department': 'CE'}\n",
      "<class 'dict'>\n"
     ]
    }
   ],
   "source": [
    "student = {\"name\":\"Arin\",\n",
    "           \"age\":\"23\",\n",
    "           \"department\":\"CE\"}\n",
    "print(student)\n",
    "print(type(student))"
   ]
  },
  {
   "cell_type": "code",
   "execution_count": 10,
   "id": "8111005e-1cef-459e-b729-6d31c7540143",
   "metadata": {},
   "outputs": [
    {
     "name": "stdout",
     "output_type": "stream",
     "text": [
      "name          Arin\n",
      "age             23\n",
      "department      CE\n",
      "dtype: object\n",
      "<class 'pandas.core.series.Series'>\n"
     ]
    }
   ],
   "source": [
    "# yukarıdaki dict yapısını series çevirdik.\n",
    "ps_student = pd.Series(student)\n",
    "print(ps_student)\n",
    "print(type(ps_student))"
   ]
  },
  {
   "cell_type": "code",
   "execution_count": 11,
   "id": "0724e3a1-19b1-4aee-95be-b4c16fa7503c",
   "metadata": {},
   "outputs": [
    {
     "name": "stdout",
     "output_type": "stream",
     "text": [
      "0    Arin\n",
      "1      23\n",
      "2      CE\n",
      "dtype: object\n",
      "<class 'pandas.core.series.Series'>\n"
     ]
    }
   ],
   "source": [
    "student = pd.Series([\"Arin\",23,\"CE\"])\n",
    "print(student)\n",
    "print(type(student))\n",
    "#kullandığımız değerlere göre dtype int float gibi tipler olabilir."
   ]
  },
  {
   "cell_type": "code",
   "execution_count": 12,
   "id": "56646e69-681a-421f-be42-5463bc8e2a59",
   "metadata": {},
   "outputs": [
    {
     "name": "stdout",
     "output_type": "stream",
     "text": [
      "0    15\n",
      "1    23\n",
      "2    48\n",
      "dtype: int64\n",
      "<class 'pandas.core.series.Series'>\n"
     ]
    }
   ],
   "source": [
    "number = pd.Series([15,23,48])\n",
    "print(number)\n",
    "print(type(number))"
   ]
  },
  {
   "cell_type": "code",
   "execution_count": 13,
   "id": "d41becae-f2d0-449c-aba4-3faceae7c5e8",
   "metadata": {},
   "outputs": [
    {
     "name": "stdout",
     "output_type": "stream",
     "text": [
      "0     True\n",
      "1    False\n",
      "2     True\n",
      "dtype: bool\n",
      "<class 'pandas.core.series.Series'>\n"
     ]
    }
   ],
   "source": [
    "booleans = pd.Series([True, False, True])\n",
    "print(booleans)\n",
    "print(type(booleans))"
   ]
  },
  {
   "cell_type": "code",
   "execution_count": 16,
   "id": "a792ac0a-7c36-499c-a777-de1ae7c0e84c",
   "metadata": {},
   "outputs": [
    {
     "name": "stdout",
     "output_type": "stream",
     "text": [
      "name          Arin\n",
      "age             23\n",
      "department      CE\n",
      "dtype: object\n",
      "<class 'pandas.core.series.Series'>\n",
      "['Arin' 23 'CE']\n",
      "\n",
      "Index(['name', 'age', 'department'], dtype='object')\n",
      "\n",
      "(3,)\n",
      "\n",
      "1\n",
      "\n",
      "3\n",
      "\n",
      "None\n",
      "\n",
      "object\n"
     ]
    }
   ],
   "source": [
    "# belirlediğimiz \n",
    "student = pd.Series(data=[\"Arin\",23,\"CE\"],index=[\"name\",\"age\",\"department\"])\n",
    "print(student)\n",
    "print(type(student))\n",
    "print(student.values)\n",
    "print()\n",
    "print(student.index)\n",
    "print()\n",
    "print(student.shape)   # bir tuples döndürüyor. 3 elemanlı tek boyutlu.\n",
    "print()\n",
    "print(student.ndim)\n",
    "print()\n",
    "print(student.size)\n",
    "print()\n",
    "print(student.name)\n",
    "print()\n",
    "print(student.dtype)"
   ]
  },
  {
   "cell_type": "code",
   "execution_count": 18,
   "id": "732786fd-11d5-4f92-83ae-e99024267ca7",
   "metadata": {},
   "outputs": [
    {
     "name": "stdout",
     "output_type": "stream",
     "text": [
      "Maradona\n"
     ]
    }
   ],
   "source": [
    "student.name = \"Maradona\"\n",
    "print(student.name)"
   ]
  },
  {
   "cell_type": "code",
   "execution_count": 19,
   "id": "354b29ff-dfaf-4c37-b2fc-aaa107fc0ac9",
   "metadata": {},
   "outputs": [
    {
     "data": {
      "text/plain": [
       "True"
      ]
     },
     "execution_count": 19,
     "metadata": {},
     "output_type": "execute_result"
    }
   ],
   "source": [
    "\"Arin\" in student.values"
   ]
  },
  {
   "cell_type": "code",
   "execution_count": 21,
   "id": "752017b6-1e63-452b-9fb7-a5457e7d40ff",
   "metadata": {},
   "outputs": [
    {
     "name": "stdout",
     "output_type": "stream",
     "text": [
      "0    4.0\n",
      "1    2.5\n",
      "2    2.0\n",
      "dtype: float64\n",
      "8.5\n",
      "2.8333333333333335\n",
      "20.0\n"
     ]
    }
   ],
   "source": [
    "numbers = pd.Series([4,2.5,2])\n",
    "print(numbers)\n",
    "print(numbers.sum())\n",
    "print(numbers.mean())\n",
    "print(numbers.product())"
   ]
  },
  {
   "cell_type": "code",
   "execution_count": 22,
   "id": "a6fd8785-e978-425e-8225-8e727c58fd8c",
   "metadata": {},
   "outputs": [],
   "source": [
    "import pandas as pd"
   ]
  },
  {
   "cell_type": "code",
   "execution_count": 23,
   "id": "a70d754f-f049-4162-b1ce-f9d212dd0e2a",
   "metadata": {},
   "outputs": [
    {
     "name": "stdout",
     "output_type": "stream",
     "text": [
      "name              Arin\n",
      "surname       Software\n",
      "age                 23\n",
      "department          CE\n",
      "dtype: object\n"
     ]
    }
   ],
   "source": [
    "student = pd.Series(data=[\"Arin\",\"Software\",23,\"CE\"], index=[\"name\",\"surname\",\"age\",\"department\"])\n",
    "print(student)"
   ]
  },
  {
   "cell_type": "code",
   "execution_count": 25,
   "id": "deb3c544-9583-4518-aa3e-644734384a6e",
   "metadata": {},
   "outputs": [
    {
     "name": "stdout",
     "output_type": "stream",
     "text": [
      "name              Arin\n",
      "surname       Software\n",
      "age                 23\n",
      "department          CE\n",
      "dtype: object\n"
     ]
    }
   ],
   "source": [
    "# data ve index yazmasak bile default olarak ilkini data sonrasını ise index olarak alıyor.\n",
    "student = pd.Series([\"Arin\",\"Software\",23,\"CE\"],[\"name\",\"surname\",\"age\",\"department\"])\n",
    "print(student)"
   ]
  },
  {
   "cell_type": "code",
   "execution_count": 26,
   "id": "e683af55-d5f7-4f7b-b494-c73044d41a89",
   "metadata": {},
   "outputs": [
    {
     "name": "stdout",
     "output_type": "stream",
     "text": [
      "Arin\n"
     ]
    }
   ],
   "source": [
    "print(student[\"name\"])"
   ]
  },
  {
   "cell_type": "code",
   "execution_count": 29,
   "id": "6e3dc10b-a17f-40a2-a677-efbe60084c2a",
   "metadata": {},
   "outputs": [
    {
     "ename": "KeyError",
     "evalue": "'key of type tuple not found and not a MultiIndex'",
     "output_type": "error",
     "traceback": [
      "\u001b[1;31m---------------------------------------------------------------------------\u001b[0m",
      "\u001b[1;31mKeyError\u001b[0m                                  Traceback (most recent call last)",
      "\u001b[1;32m<ipython-input-29-9e5a7c04298b>\u001b[0m in \u001b[0;36m<module>\u001b[1;34m\u001b[0m\n\u001b[1;32m----> 1\u001b[1;33m \u001b[0mprint\u001b[0m\u001b[1;33m(\u001b[0m\u001b[0mstudent\u001b[0m\u001b[1;33m[\u001b[0m\u001b[1;34m\"name\"\u001b[0m\u001b[1;33m,\u001b[0m\u001b[1;34m\"age\"\u001b[0m\u001b[1;33m]\u001b[0m\u001b[1;33m)\u001b[0m\u001b[1;33m\u001b[0m\u001b[1;33m\u001b[0m\u001b[0m\n\u001b[0m",
      "\u001b[1;32m~\\anaconda3\\lib\\site-packages\\pandas\\core\\series.py\u001b[0m in \u001b[0;36m__getitem__\u001b[1;34m(self, key)\u001b[0m\n\u001b[0;32m    875\u001b[0m             \u001b[1;32mreturn\u001b[0m \u001b[0mself\u001b[0m\u001b[1;33m.\u001b[0m\u001b[0m_get_values\u001b[0m\u001b[1;33m(\u001b[0m\u001b[0mkey\u001b[0m\u001b[1;33m)\u001b[0m\u001b[1;33m\u001b[0m\u001b[1;33m\u001b[0m\u001b[0m\n\u001b[0;32m    876\u001b[0m \u001b[1;33m\u001b[0m\u001b[0m\n\u001b[1;32m--> 877\u001b[1;33m         \u001b[1;32mreturn\u001b[0m \u001b[0mself\u001b[0m\u001b[1;33m.\u001b[0m\u001b[0m_get_with\u001b[0m\u001b[1;33m(\u001b[0m\u001b[0mkey\u001b[0m\u001b[1;33m)\u001b[0m\u001b[1;33m\u001b[0m\u001b[1;33m\u001b[0m\u001b[0m\n\u001b[0m\u001b[0;32m    878\u001b[0m \u001b[1;33m\u001b[0m\u001b[0m\n\u001b[0;32m    879\u001b[0m     \u001b[1;32mdef\u001b[0m \u001b[0m_get_with\u001b[0m\u001b[1;33m(\u001b[0m\u001b[0mself\u001b[0m\u001b[1;33m,\u001b[0m \u001b[0mkey\u001b[0m\u001b[1;33m)\u001b[0m\u001b[1;33m:\u001b[0m\u001b[1;33m\u001b[0m\u001b[1;33m\u001b[0m\u001b[0m\n",
      "\u001b[1;32m~\\anaconda3\\lib\\site-packages\\pandas\\core\\series.py\u001b[0m in \u001b[0;36m_get_with\u001b[1;34m(self, key)\u001b[0m\n\u001b[0;32m    890\u001b[0m             )\n\u001b[0;32m    891\u001b[0m         \u001b[1;32melif\u001b[0m \u001b[0misinstance\u001b[0m\u001b[1;33m(\u001b[0m\u001b[0mkey\u001b[0m\u001b[1;33m,\u001b[0m \u001b[0mtuple\u001b[0m\u001b[1;33m)\u001b[0m\u001b[1;33m:\u001b[0m\u001b[1;33m\u001b[0m\u001b[1;33m\u001b[0m\u001b[0m\n\u001b[1;32m--> 892\u001b[1;33m             \u001b[1;32mreturn\u001b[0m \u001b[0mself\u001b[0m\u001b[1;33m.\u001b[0m\u001b[0m_get_values_tuple\u001b[0m\u001b[1;33m(\u001b[0m\u001b[0mkey\u001b[0m\u001b[1;33m)\u001b[0m\u001b[1;33m\u001b[0m\u001b[1;33m\u001b[0m\u001b[0m\n\u001b[0m\u001b[0;32m    893\u001b[0m \u001b[1;33m\u001b[0m\u001b[0m\n\u001b[0;32m    894\u001b[0m         \u001b[1;32melif\u001b[0m \u001b[1;32mnot\u001b[0m \u001b[0mis_list_like\u001b[0m\u001b[1;33m(\u001b[0m\u001b[0mkey\u001b[0m\u001b[1;33m)\u001b[0m\u001b[1;33m:\u001b[0m\u001b[1;33m\u001b[0m\u001b[1;33m\u001b[0m\u001b[0m\n",
      "\u001b[1;32m~\\anaconda3\\lib\\site-packages\\pandas\\core\\series.py\u001b[0m in \u001b[0;36m_get_values_tuple\u001b[1;34m(self, key)\u001b[0m\n\u001b[0;32m    925\u001b[0m \u001b[1;33m\u001b[0m\u001b[0m\n\u001b[0;32m    926\u001b[0m         \u001b[1;32mif\u001b[0m \u001b[1;32mnot\u001b[0m \u001b[0misinstance\u001b[0m\u001b[1;33m(\u001b[0m\u001b[0mself\u001b[0m\u001b[1;33m.\u001b[0m\u001b[0mindex\u001b[0m\u001b[1;33m,\u001b[0m \u001b[0mMultiIndex\u001b[0m\u001b[1;33m)\u001b[0m\u001b[1;33m:\u001b[0m\u001b[1;33m\u001b[0m\u001b[1;33m\u001b[0m\u001b[0m\n\u001b[1;32m--> 927\u001b[1;33m             \u001b[1;32mraise\u001b[0m \u001b[0mKeyError\u001b[0m\u001b[1;33m(\u001b[0m\u001b[1;34m\"key of type tuple not found and not a MultiIndex\"\u001b[0m\u001b[1;33m)\u001b[0m\u001b[1;33m\u001b[0m\u001b[1;33m\u001b[0m\u001b[0m\n\u001b[0m\u001b[0;32m    928\u001b[0m \u001b[1;33m\u001b[0m\u001b[0m\n\u001b[0;32m    929\u001b[0m         \u001b[1;31m# If key is contained, would have returned by now\u001b[0m\u001b[1;33m\u001b[0m\u001b[1;33m\u001b[0m\u001b[1;33m\u001b[0m\u001b[0m\n",
      "\u001b[1;31mKeyError\u001b[0m: 'key of type tuple not found and not a MultiIndex'"
     ]
    }
   ],
   "source": [
    "print(student[\"name\",\"age\"])"
   ]
  },
  {
   "cell_type": "code",
   "execution_count": 31,
   "id": "4ce28743-d201-46df-9593-a9da7c414ddf",
   "metadata": {},
   "outputs": [
    {
     "name": "stdout",
     "output_type": "stream",
     "text": [
      "name    Arin\n",
      "age       23\n",
      "dtype: object\n",
      "<class 'pandas.core.series.Series'>\n"
     ]
    }
   ],
   "source": [
    "# yukarıdaki hatayı engellemek yani 1 den fazla değişken var ise iç içe iki liste olarak yazdırmalıyız.\n",
    "print(student[[\"name\",\"age\"]])\n",
    "print(type(student[[\"name\",\"age\"]]))"
   ]
  },
  {
   "cell_type": "code",
   "execution_count": 32,
   "id": "9d34badc-f868-4975-bd8d-2359f775690d",
   "metadata": {},
   "outputs": [
    {
     "name": "stdout",
     "output_type": "stream",
     "text": [
      "Software\n"
     ]
    }
   ],
   "source": [
    "print(student[1])  # index numarası olarak bunu vermemize rağmen çağırdığımızda geliyor."
   ]
  },
  {
   "cell_type": "code",
   "execution_count": 33,
   "id": "dfe46186-1c99-4199-be83-0df624cd1bd4",
   "metadata": {},
   "outputs": [
    {
     "name": "stdout",
     "output_type": "stream",
     "text": [
      "name           Arin\n",
      "surname    Software\n",
      "dtype: object\n"
     ]
    }
   ],
   "source": [
    "print(student[[0,1]]) "
   ]
  },
  {
   "cell_type": "code",
   "execution_count": 35,
   "id": "b1fdf55b-e8b5-49e6-864b-9ab49288f183",
   "metadata": {},
   "outputs": [
    {
     "name": "stdout",
     "output_type": "stream",
     "text": [
      "name           Arin\n",
      "surname    Software\n",
      "age              23\n",
      "dtype: object\n"
     ]
    }
   ],
   "source": [
    "print(student[0:3]) "
   ]
  },
  {
   "cell_type": "code",
   "execution_count": 36,
   "id": "5456a2e7-6e26-4513-b1a4-4cf2abb25e18",
   "metadata": {},
   "outputs": [
    {
     "name": "stdout",
     "output_type": "stream",
     "text": [
      "name              Arin\n",
      "surname       Software\n",
      "age                 23\n",
      "department          CE\n",
      "dtype: object\n"
     ]
    }
   ],
   "source": [
    "print(student[0:])"
   ]
  },
  {
   "cell_type": "code",
   "execution_count": 38,
   "id": "0ebe6443-4e6b-466e-a4e3-3c6e2fb5e363",
   "metadata": {},
   "outputs": [
    {
     "name": "stdout",
     "output_type": "stream",
     "text": [
      "age           23\n",
      "department    CE\n",
      "dtype: object\n"
     ]
    }
   ],
   "source": [
    "print(student[-2:])"
   ]
  },
  {
   "cell_type": "code",
   "execution_count": 39,
   "id": "1cdc7849-4f61-43d7-b2df-0e7fdb41c721",
   "metadata": {},
   "outputs": [
    {
     "name": "stdout",
     "output_type": "stream",
     "text": [
      "name           Arin\n",
      "surname    Software\n",
      "age              23\n",
      "dtype: object\n"
     ]
    }
   ],
   "source": [
    "print(student[\"name\":\"age\"])  # bu şekilde çağırınca son değişkeni dahil ediyor."
   ]
  },
  {
   "cell_type": "code",
   "execution_count": null,
   "id": "6bd58c77-4913-482f-b28a-d998589e833d",
   "metadata": {},
   "outputs": [],
   "source": [
    "# loc -> location ,  iloc-> index location"
   ]
  },
  {
   "cell_type": "code",
   "execution_count": 40,
   "id": "f4df1e06-33bc-4b07-895b-99c0ec804654",
   "metadata": {},
   "outputs": [
    {
     "name": "stdout",
     "output_type": "stream",
     "text": [
      "CE\n"
     ]
    }
   ],
   "source": [
    "print(student.loc[\"department\"])"
   ]
  },
  {
   "cell_type": "code",
   "execution_count": 42,
   "id": "63168651-0be4-4a30-b6fe-d73c2de5e5bb",
   "metadata": {},
   "outputs": [
    {
     "name": "stdout",
     "output_type": "stream",
     "text": [
      "Software\n"
     ]
    }
   ],
   "source": [
    "print(student.iloc[1])"
   ]
  },
  {
   "cell_type": "code",
   "execution_count": 41,
   "id": "30ed78c7-8a42-4fb0-ac1d-c6914cef71c8",
   "metadata": {},
   "outputs": [
    {
     "ename": "TypeError",
     "evalue": "Cannot index by location index with a non-integer key",
     "output_type": "error",
     "traceback": [
      "\u001b[1;31m---------------------------------------------------------------------------\u001b[0m",
      "\u001b[1;31mTypeError\u001b[0m                                 Traceback (most recent call last)",
      "\u001b[1;32m<ipython-input-41-54bdfd802ea8>\u001b[0m in \u001b[0;36m<module>\u001b[1;34m\u001b[0m\n\u001b[1;32m----> 1\u001b[1;33m \u001b[0mprint\u001b[0m\u001b[1;33m(\u001b[0m\u001b[0mstudent\u001b[0m\u001b[1;33m.\u001b[0m\u001b[0miloc\u001b[0m\u001b[1;33m[\u001b[0m\u001b[1;34m\"department\"\u001b[0m\u001b[1;33m]\u001b[0m\u001b[1;33m)\u001b[0m\u001b[1;33m\u001b[0m\u001b[1;33m\u001b[0m\u001b[0m\n\u001b[0m",
      "\u001b[1;32m~\\anaconda3\\lib\\site-packages\\pandas\\core\\indexing.py\u001b[0m in \u001b[0;36m__getitem__\u001b[1;34m(self, key)\u001b[0m\n\u001b[0;32m    893\u001b[0m \u001b[1;33m\u001b[0m\u001b[0m\n\u001b[0;32m    894\u001b[0m             \u001b[0mmaybe_callable\u001b[0m \u001b[1;33m=\u001b[0m \u001b[0mcom\u001b[0m\u001b[1;33m.\u001b[0m\u001b[0mapply_if_callable\u001b[0m\u001b[1;33m(\u001b[0m\u001b[0mkey\u001b[0m\u001b[1;33m,\u001b[0m \u001b[0mself\u001b[0m\u001b[1;33m.\u001b[0m\u001b[0mobj\u001b[0m\u001b[1;33m)\u001b[0m\u001b[1;33m\u001b[0m\u001b[1;33m\u001b[0m\u001b[0m\n\u001b[1;32m--> 895\u001b[1;33m             \u001b[1;32mreturn\u001b[0m \u001b[0mself\u001b[0m\u001b[1;33m.\u001b[0m\u001b[0m_getitem_axis\u001b[0m\u001b[1;33m(\u001b[0m\u001b[0mmaybe_callable\u001b[0m\u001b[1;33m,\u001b[0m \u001b[0maxis\u001b[0m\u001b[1;33m=\u001b[0m\u001b[0maxis\u001b[0m\u001b[1;33m)\u001b[0m\u001b[1;33m\u001b[0m\u001b[1;33m\u001b[0m\u001b[0m\n\u001b[0m\u001b[0;32m    896\u001b[0m \u001b[1;33m\u001b[0m\u001b[0m\n\u001b[0;32m    897\u001b[0m     \u001b[1;32mdef\u001b[0m \u001b[0m_is_scalar_access\u001b[0m\u001b[1;33m(\u001b[0m\u001b[0mself\u001b[0m\u001b[1;33m,\u001b[0m \u001b[0mkey\u001b[0m\u001b[1;33m:\u001b[0m \u001b[0mTuple\u001b[0m\u001b[1;33m)\u001b[0m\u001b[1;33m:\u001b[0m\u001b[1;33m\u001b[0m\u001b[1;33m\u001b[0m\u001b[0m\n",
      "\u001b[1;32m~\\anaconda3\\lib\\site-packages\\pandas\\core\\indexing.py\u001b[0m in \u001b[0;36m_getitem_axis\u001b[1;34m(self, key, axis)\u001b[0m\n\u001b[0;32m   1496\u001b[0m             \u001b[0mkey\u001b[0m \u001b[1;33m=\u001b[0m \u001b[0mitem_from_zerodim\u001b[0m\u001b[1;33m(\u001b[0m\u001b[0mkey\u001b[0m\u001b[1;33m)\u001b[0m\u001b[1;33m\u001b[0m\u001b[1;33m\u001b[0m\u001b[0m\n\u001b[0;32m   1497\u001b[0m             \u001b[1;32mif\u001b[0m \u001b[1;32mnot\u001b[0m \u001b[0mis_integer\u001b[0m\u001b[1;33m(\u001b[0m\u001b[0mkey\u001b[0m\u001b[1;33m)\u001b[0m\u001b[1;33m:\u001b[0m\u001b[1;33m\u001b[0m\u001b[1;33m\u001b[0m\u001b[0m\n\u001b[1;32m-> 1498\u001b[1;33m                 \u001b[1;32mraise\u001b[0m \u001b[0mTypeError\u001b[0m\u001b[1;33m(\u001b[0m\u001b[1;34m\"Cannot index by location index with a non-integer key\"\u001b[0m\u001b[1;33m)\u001b[0m\u001b[1;33m\u001b[0m\u001b[1;33m\u001b[0m\u001b[0m\n\u001b[0m\u001b[0;32m   1499\u001b[0m \u001b[1;33m\u001b[0m\u001b[0m\n\u001b[0;32m   1500\u001b[0m             \u001b[1;31m# validate the location\u001b[0m\u001b[1;33m\u001b[0m\u001b[1;33m\u001b[0m\u001b[1;33m\u001b[0m\u001b[0m\n",
      "\u001b[1;31mTypeError\u001b[0m: Cannot index by location index with a non-integer key"
     ]
    }
   ],
   "source": [
    "print(student.iloc[\"department\"])  # index numarası ile çalışıyor."
   ]
  },
  {
   "cell_type": "code",
   "execution_count": 44,
   "id": "0071cfb9-2450-4a06-9667-b378a566b410",
   "metadata": {},
   "outputs": [
    {
     "name": "stdout",
     "output_type": "stream",
     "text": [
      "name              Arin\n",
      "surname       Software\n",
      "age                 23\n",
      "department          CE\n",
      "dtype: object\n",
      "\n",
      "name              Elis\n",
      "surname       Software\n",
      "age                 23\n",
      "department          CE\n",
      "dtype: object\n",
      "\n",
      "name              Elis\n",
      "surname       Software\n",
      "age                 15\n",
      "department          CE\n",
      "dtype: object\n"
     ]
    }
   ],
   "source": [
    "print(student)\n",
    "print()\n",
    "student[\"name\"]=\"Elis\"\n",
    "print(student)\n",
    "student.iloc[2] = 15\n",
    "print()\n",
    "print(student)"
   ]
  },
  {
   "cell_type": "code",
   "execution_count": 45,
   "id": "7448d237-38ce-4217-a139-0ab260789b36",
   "metadata": {},
   "outputs": [
    {
     "name": "stdout",
     "output_type": "stream",
     "text": [
      "name              Elis\n",
      "surname       Software\n",
      "age                 15\n",
      "department          CE\n",
      "dtype: object\n",
      "\n",
      "name              Elis\n",
      "surname       Software\n",
      "age                 15\n",
      "department          CE\n",
      "dtype: object\n"
     ]
    }
   ],
   "source": [
    "print(student)\n",
    "print()\n",
    "student.drop(\"name\")   # drop bu şekilde kullanılınca orjinal seride değişiklik yapmazb\n",
    "print(student)"
   ]
  },
  {
   "cell_type": "code",
   "execution_count": 46,
   "id": "70e7237d-31e7-4cd6-ae97-fd267ae4d49e",
   "metadata": {},
   "outputs": [
    {
     "name": "stdout",
     "output_type": "stream",
     "text": [
      "name              Elis\n",
      "surname       Software\n",
      "age                 15\n",
      "department          CE\n",
      "dtype: object\n",
      "\n",
      "surname       Software\n",
      "age                 15\n",
      "department          CE\n",
      "dtype: object\n",
      "\n",
      "name              Elis\n",
      "surname       Software\n",
      "age                 15\n",
      "department          CE\n",
      "dtype: object\n"
     ]
    }
   ],
   "source": [
    "print(student)\n",
    "print()\n",
    "student2 = student.drop(\"name\")   # sadece yapılan değişikliği görsel olarak görebiliriz.\n",
    "print(student2)\n",
    "print()\n",
    "print(student)"
   ]
  },
  {
   "cell_type": "code",
   "execution_count": 47,
   "id": "2481124f-7f03-4aab-b5c5-c72d1f20d236",
   "metadata": {},
   "outputs": [
    {
     "name": "stdout",
     "output_type": "stream",
     "text": [
      "name              Elis\n",
      "surname       Software\n",
      "age                 15\n",
      "department          CE\n",
      "dtype: object\n",
      "\n",
      "surname       Software\n",
      "age                 15\n",
      "department          CE\n",
      "dtype: object\n"
     ]
    }
   ],
   "source": [
    "print(student)\n",
    "print()\n",
    "student.drop(\"name\",inplace=True)  # bununla kalıcı olarak silebiliriz.\n",
    "print(student)"
   ]
  },
  {
   "cell_type": "code",
   "execution_count": 52,
   "id": "ebd00f34-2cbb-4fce-9632-7ee388e5e3bd",
   "metadata": {},
   "outputs": [
    {
     "name": "stdout",
     "output_type": "stream",
     "text": [
      "name               Arin\n",
      "surname       Softwaret\n",
      "age                  23\n",
      "department           CE\n",
      "dtype: object\n",
      "\n",
      "4\n",
      "['Arin', 'Softwaret', 23, 'CE']\n",
      "{'name': 'Arin', 'surname': 'Softwaret', 'age': 23, 'department': 'CE'}\n"
     ]
    },
    {
     "ename": "TypeError",
     "evalue": "'>' not supported between instances of 'int' and 'str'",
     "output_type": "error",
     "traceback": [
      "\u001b[1;31m---------------------------------------------------------------------------\u001b[0m",
      "\u001b[1;31mTypeError\u001b[0m                                 Traceback (most recent call last)",
      "\u001b[1;32m<ipython-input-52-86e96bb30070>\u001b[0m in \u001b[0;36m<module>\u001b[1;34m\u001b[0m\n\u001b[0;32m      5\u001b[0m \u001b[0mprint\u001b[0m\u001b[1;33m(\u001b[0m\u001b[0mlist\u001b[0m\u001b[1;33m(\u001b[0m\u001b[0mstudent\u001b[0m\u001b[1;33m)\u001b[0m\u001b[1;33m)\u001b[0m\u001b[1;33m\u001b[0m\u001b[1;33m\u001b[0m\u001b[0m\n\u001b[0;32m      6\u001b[0m \u001b[0mprint\u001b[0m\u001b[1;33m(\u001b[0m\u001b[0mdict\u001b[0m\u001b[1;33m(\u001b[0m\u001b[0mstudent\u001b[0m\u001b[1;33m)\u001b[0m\u001b[1;33m)\u001b[0m\u001b[1;33m\u001b[0m\u001b[1;33m\u001b[0m\u001b[0m\n\u001b[1;32m----> 7\u001b[1;33m \u001b[0mprint\u001b[0m\u001b[1;33m(\u001b[0m\u001b[0mmax\u001b[0m\u001b[1;33m(\u001b[0m\u001b[0mstudent\u001b[0m\u001b[1;33m)\u001b[0m\u001b[1;33m)\u001b[0m\u001b[1;33m\u001b[0m\u001b[1;33m\u001b[0m\u001b[0m\n\u001b[0m\u001b[0;32m      8\u001b[0m \u001b[0mprint\u001b[0m\u001b[1;33m(\u001b[0m\u001b[0msorted\u001b[0m\u001b[1;33m(\u001b[0m\u001b[0mstudent\u001b[0m\u001b[1;33m)\u001b[0m\u001b[1;33m)\u001b[0m\u001b[1;33m\u001b[0m\u001b[1;33m\u001b[0m\u001b[0m\n",
      "\u001b[1;31mTypeError\u001b[0m: '>' not supported between instances of 'int' and 'str'"
     ]
    }
   ],
   "source": [
    "student = pd.Series([\"Arin\",\"Softwaret\",23,\"CE\"],[\"name\",\"surname\",\"age\",\"department\"])\n",
    "print(student)\n",
    "print()\n",
    "print(len(student))\n",
    "print(list(student))\n",
    "print(dict(student))\n",
    "print(max(student))  # int ve str tipleri olduğundan bunları sıralayamıyor.\n",
    "print(sorted(student))   # int ve str tipleri olduğundan bunları sıralayamıyor."
   ]
  },
  {
   "cell_type": "code",
   "execution_count": 55,
   "id": "6352e6b4-2ca5-404f-aef5-c6c19813a35e",
   "metadata": {},
   "outputs": [
    {
     "name": "stdout",
     "output_type": "stream",
     "text": [
      "Software\n",
      "['Arin', 'CE', 'Software']\n"
     ]
    }
   ],
   "source": [
    "student = pd.Series([\"Arin\",\"Software\",\"CE\"],[\"name\",\"surname\",\"department\"])\n",
    "print(max(student))\n",
    "print(sorted(student))"
   ]
  },
  {
   "cell_type": "code",
   "execution_count": null,
   "id": "d2082bab-f71f-4279-9697-a6f4c76abf92",
   "metadata": {},
   "outputs": [],
   "source": [
    "()"
   ]
  }
 ],
 "metadata": {
  "kernelspec": {
   "display_name": "Python 3",
   "language": "python",
   "name": "python3"
  },
  "language_info": {
   "codemirror_mode": {
    "name": "ipython",
    "version": 3
   },
   "file_extension": ".py",
   "mimetype": "text/x-python",
   "name": "python",
   "nbconvert_exporter": "python",
   "pygments_lexer": "ipython3",
   "version": "3.8.8"
  }
 },
 "nbformat": 4,
 "nbformat_minor": 5
}
