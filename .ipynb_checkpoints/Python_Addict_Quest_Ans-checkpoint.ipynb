{
 "cells": [
  {
   "cell_type": "markdown",
   "id": "fcb4d7cd",
   "metadata": {},
   "source": [
    "Write a NumPy program to create a 3x3 matrix with values ranging from 2 to 10.\n",
    "Expected Output:\n",
    "[[ 2 3 4]\n",
    "[ 5 6 7]\n",
    "[ 8 9 10]]"
   ]
  },
  {
   "cell_type": "code",
   "execution_count": 2,
   "id": "cfac9d3b",
   "metadata": {},
   "outputs": [],
   "source": [
    "import numpy as np"
   ]
  },
  {
   "cell_type": "code",
   "execution_count": 5,
   "id": "b640aa7a",
   "metadata": {},
   "outputs": [
    {
     "name": "stdout",
     "output_type": "stream",
     "text": [
      "[[ 2  3  4]\n",
      " [ 5  6  7]\n",
      " [ 8  9 10]]\n"
     ]
    }
   ],
   "source": [
    "x = np.arange(2,11).reshape(3,3)\n",
    "print(x)"
   ]
  },
  {
   "cell_type": "markdown",
   "id": "0285b234",
   "metadata": {},
   "source": [
    "Write a NumPy program to reverse an array (first element becomes last).\n",
    "Original array:\n",
    "[12 13 14 15 16 17 18 19 20 21 22 23 24 25 26 27 28 29 30 31 32 33 34 35 36 37]\n",
    "Reverse array:\n",
    "[37 36 35 34 33 32 31 30 29 28 27 26 25 24 23 22 21 20 19 18 17 16 15 14 13 12]"
   ]
  },
  {
   "cell_type": "code",
   "execution_count": 8,
   "id": "ec2ecdb6",
   "metadata": {},
   "outputs": [
    {
     "name": "stdout",
     "output_type": "stream",
     "text": [
      "[37 36 35 34 33 32 31 30 29 28 27 26 25 24 23 22 21 20 19 18 17 16 15 14\n",
      " 13 12]\n"
     ]
    }
   ],
   "source": [
    "x = np.arange(12,38)\n",
    "y = x[::-1]\n",
    "print(y)"
   ]
  },
  {
   "cell_type": "markdown",
   "id": "0d346cf3",
   "metadata": {},
   "source": [
    "Write a NumPy program to create a 8x8 matrix and fill it with a checkerboard pattern.\n",
    "Checkerboard pattern:\n",
    "    \n",
    "[[0 1 0 1 0 1 0 1]\n",
    "..........\n",
    "[0 1 0 1 0 1 0 1]\n",
    "[1 0 1 0 1 0 1 0]]"
   ]
  },
  {
   "cell_type": "code",
   "execution_count": 17,
   "id": "0169566d",
   "metadata": {},
   "outputs": [
    {
     "name": "stdout",
     "output_type": "stream",
     "text": [
      "[[0. 0. 0. 0. 0. 0. 0. 0.]\n",
      " [0. 0. 0. 0. 0. 0. 0. 0.]\n",
      " [0. 0. 0. 0. 0. 0. 0. 0.]\n",
      " [0. 0. 0. 0. 0. 0. 0. 0.]\n",
      " [0. 0. 0. 0. 0. 0. 0. 0.]\n",
      " [0. 0. 0. 0. 0. 0. 0. 0.]\n",
      " [0. 0. 0. 0. 0. 0. 0. 0.]\n",
      " [0. 0. 0. 0. 0. 0. 0. 0.]]\n",
      "\n",
      "[[0. 1. 0. 1. 0. 1. 0. 1.]\n",
      " [1. 0. 1. 0. 1. 0. 1. 0.]\n",
      " [0. 1. 0. 1. 0. 1. 0. 1.]\n",
      " [1. 0. 1. 0. 1. 0. 1. 0.]\n",
      " [0. 1. 0. 1. 0. 1. 0. 1.]\n",
      " [1. 0. 1. 0. 1. 0. 1. 0.]\n",
      " [0. 1. 0. 1. 0. 1. 0. 1.]\n",
      " [1. 0. 1. 0. 1. 0. 1. 0.]]\n"
     ]
    }
   ],
   "source": [
    "x = np.zeros(64).reshape(8,8)\n",
    "print(x)\n",
    "print()\n",
    "x[::2, 1::2],x[1::2, ::2]=1,1\n",
    "print(x)"
   ]
  },
  {
   "cell_type": "code",
   "execution_count": 18,
   "id": "1eb012ec",
   "metadata": {},
   "outputs": [
    {
     "data": {
      "text/plain": [
       "array([[0, 1, 0, 1, 0, 1, 0, 1],\n",
       "       [1, 0, 1, 0, 1, 0, 1, 0],\n",
       "       [0, 1, 0, 1, 0, 1, 0, 1],\n",
       "       [1, 0, 1, 0, 1, 0, 1, 0],\n",
       "       [0, 1, 0, 1, 0, 1, 0, 1],\n",
       "       [1, 0, 1, 0, 1, 0, 1, 0],\n",
       "       [0, 1, 0, 1, 0, 1, 0, 1],\n",
       "       [1, 0, 1, 0, 1, 0, 1, 0]], dtype=int32)"
      ]
     },
     "execution_count": 18,
     "metadata": {},
     "output_type": "execute_result"
    }
   ],
   "source": [
    "import numpy as np\n",
    "def checkerboard(n):\n",
    "    return np.indices(n).sum(axis = 0) % 2\n",
    "checkerboard((8,8))"
   ]
  },
  {
   "cell_type": "markdown",
   "id": "279453c0",
   "metadata": {},
   "source": [
    "Write a NumPy program to capitalize the first letter, lowercase, uppercase, swapcase, title-case of all the elements of a given array.\n",
    "Expected Output:\n",
    "Original Array:\n",
    "['clarusway' 'data' 'science' 'bootcamp' 'is' 'the' 'best']\n",
    "\n",
    "Capitalized:  ['Clarusway' 'Data' 'Science' 'Bootcamp' 'Is' 'The' 'Best']\n",
    "Lowered:  ['clarusway' 'data' 'science' 'bootcamp' 'is' 'the' 'best']\n",
    "Uppered:  ['CLARUSWAY' 'DATA' 'SCIENCE' 'BOOTCAMP' 'IS' 'THE' 'BEST']\n",
    "Swapcased:  ['CLARUSWAY' 'DATA' 'SCIENCE' 'BOOTCAMP' 'IS' 'THE' 'BEST']\n",
    "Titlecased:  ['Clarusway' 'Data' 'Science' 'Bootcamp' 'Is' 'The' 'Best']"
   ]
  },
  {
   "cell_type": "code",
   "execution_count": 1,
   "id": "f8e30380",
   "metadata": {},
   "outputs": [
    {
     "name": "stdout",
     "output_type": "stream",
     "text": [
      "Capitalized:  ['Clarusway' 'Data' 'Science' 'Bootcamp' 'Is' 'The' 'Best']\n",
      "Lowered:  ['clarusway' 'data' 'science' 'bootcamp' 'is' 'the' 'best']\n",
      "Uppered:  ['CLARUSWAY' 'DATA' 'SCIENCE' 'BOOTCAMP' 'IS' 'THE' 'BEST']\n",
      "Swapcased:  ['CLARUSWAY' 'DATA' 'SCIENCE' 'BOOTCAMP' 'IS' 'THE' 'BEST']\n",
      "Titlecased:  ['Clarusway' 'Data' 'Science' 'Bootcamp' 'Is' 'The' 'Best']\n"
     ]
    }
   ],
   "source": [
    "import numpy as np\n",
    "a = np.array(['clarusway', 'data', 'science', 'bootcamp', 'is', 'the', 'best'], dtype = str)\n",
    "print('Capitalized: ', np.char.capitalize(a))\n",
    "print('Lowered: ', np.char.lower(a))\n",
    "print('Uppered: ', np.char.upper(a))\n",
    "print('Swapcased: ', np.char.swapcase(a))\n",
    "print('Titlecased: ', np.char.title(a))"
   ]
  },
  {
   "cell_type": "code",
   "execution_count": null,
   "id": "737ac746",
   "metadata": {},
   "outputs": [],
   "source": [
    "Soru yukarıdaki array içindeki kelimelerden cümle kurup ilk harfleri büyük olacak şekilde string bir çıktı alalım"
   ]
  },
  {
   "cell_type": "code",
   "execution_count": 29,
   "id": "ffba68f7",
   "metadata": {},
   "outputs": [
    {
     "name": "stdout",
     "output_type": "stream",
     "text": [
      "['clarusway' 'is' 'the' 'best' 'data' 'science' 'bootcamp']\n"
     ]
    }
   ],
   "source": [
    "import numpy as np\n",
    "a = np.array(['clarusway', 'data', 'science', 'bootcamp', 'is', 'the', 'best'],dtype=str)\n",
    "b = [0, 4, 5, 6, 1, 2, 3]\n",
    "print(a[b])   # fancy index.\n"
   ]
  },
  {
   "cell_type": "code",
   "execution_count": 39,
   "id": "baa04b04",
   "metadata": {},
   "outputs": [
    {
     "data": {
      "text/plain": [
       "('clarusway', ('is', 'the', 'best'), ('data', 'science'))"
      ]
     },
     "execution_count": 39,
     "metadata": {},
     "output_type": "execute_result"
    }
   ],
   "source": [
    "import numpy as np\n",
    "a = np.array(['clarusway', 'data', 'science', 'bootcamp', 'is', 'the', 'best'],dtype=str)\n",
    "b = a[0]\n",
    "c = a[4], a[5], a[6]\n",
    "d = a[1], a[2]\n",
    "b, c ,d   # fancy index."
   ]
  },
  {
   "cell_type": "code",
   "execution_count": null,
   "id": "27a27444-18bf-43b9-9cf5-0db198a4a0c2",
   "metadata": {},
   "outputs": [],
   "source": [
    "Write a NumPy program to count a given word in each row of a given array of string values.\n",
    "Sample output:\n",
    "Original array of string values:\n",
    "[['Python' 'NumPy' 'Exercises']\n",
    "['Python' 'Pandas' 'Exercises']\n",
    "['Python' 'Machine learning' 'Python']]\n",
    "Count 'Python' row wise in the above array of string values:\n",
    "[[1 0 0]\n",
    "[1 0 0]\n",
    "[1 0 1]]"
   ]
  },
  {
   "cell_type": "code",
   "execution_count": 18,
   "id": "670f4016-2b7d-420f-9ae4-c32e3f3a2310",
   "metadata": {},
   "outputs": [
    {
     "name": "stdout",
     "output_type": "stream",
     "text": [
      "[[1 0 0]\n",
      " [1 0 0]\n",
      " [1 0 1]]\n"
     ]
    }
   ],
   "source": [
    "import numpy as np\n",
    "a = np.array([['Python', 'NumPy', 'Exercises'],\n",
    "              ['Python', 'Pandas', 'Exercises'],\n",
    "              ['Python', 'Machine learning', 'Python']])\n",
    "\n",
    "print(np.char.count(a,'Python'))\n"
   ]
  },
  {
   "cell_type": "code",
   "execution_count": 22,
   "id": "0cdceb63-c4e3-44fa-91ea-e008dbe49b8f",
   "metadata": {},
   "outputs": [
    {
     "data": {
      "text/plain": [
       "0"
      ]
     },
     "execution_count": 22,
     "metadata": {},
     "output_type": "execute_result"
    }
   ],
   "source": [
    "import numpy as np\n",
    "a = np.array([['Python', 'NumPy', 'Exercises'],\n",
    "              ['Python', 'Pandas', 'Exercises'],\n",
    "              ['Python', 'Machine learning', 'Python']])\n",
    "\n",
    "\n",
    "np.array(a[:,:] == 'Python').argmax()\n",
    "\n",
    "\n"
   ]
  },
  {
   "cell_type": "code",
   "execution_count": 23,
   "id": "9563e270-c609-42eb-8384-56d5e655456c",
   "metadata": {},
   "outputs": [
    {
     "name": "stdout",
     "output_type": "stream",
     "text": [
      "[['1' '0' '0']\n",
      " ['1' '0' '0']\n",
      " ['1' '0' '1']]\n"
     ]
    }
   ],
   "source": [
    "import numpy as np\n",
    "a = [['Python', 'NumPy', 'Exercises'],\n",
    "     ['Python', 'Pandas', 'Exercises'],\n",
    "     ['Python', 'Machine learning', 'Python']]\n",
    "\n",
    "b = np.array(a)\n",
    "b.shape[0]\n",
    "for i in range(b.shape[0]):\n",
    "    for j in range(b.shape[0]):\n",
    "        if b[i,j] == 'Python':\n",
    "            b[i,j] = 1\n",
    "        else:\n",
    "            b[i,j] = 0\n",
    "print(b)"
   ]
  },
  {
   "cell_type": "code",
   "execution_count": 14,
   "id": "5e21a819-bbdd-46df-9f56-0b671d242176",
   "metadata": {},
   "outputs": [
    {
     "data": {
      "text/plain": [
       "array([2010, 2011, 2012, 2013, 2014, 2015, 2016, 2017, 2018, 2019, 2020])"
      ]
     },
     "execution_count": 14,
     "metadata": {},
     "output_type": "execute_result"
    }
   ],
   "source": [
    "import numpy as np\n",
    "a = np.array(['2010', '2011', '2012', '2013', '2014', '2015', '2016', '2017',\n",
    "       '2018', '2019', '2020'], dtype=int)\n",
    "a"
   ]
  },
  {
   "cell_type": "code",
   "execution_count": 15,
   "id": "81e6552d-2855-40d0-92b4-ca00e89b8883",
   "metadata": {},
   "outputs": [
    {
     "data": {
      "text/plain": [
       "array([2010, 2011, 2012, 2013, 2014, 2015, 2016, 2017, 2018, 2019, 2020])"
      ]
     },
     "execution_count": 15,
     "metadata": {},
     "output_type": "execute_result"
    }
   ],
   "source": [
    "a = np.arange(2010,2021)\n",
    "a"
   ]
  },
  {
   "cell_type": "code",
   "execution_count": null,
   "id": "cc3b9959-bb41-42f2-804c-a372923e06db",
   "metadata": {},
   "outputs": [],
   "source": [
    "Given this array x = np.array ([- 5,6, -7,9]), transform it into a 2x2 matrix and calculate the maximum and\n",
    "minimum of each row and column. output : \n",
    "[6 9]\n",
    "[-5  9]"
   ]
  },
  {
   "cell_type": "code",
   "execution_count": 13,
   "id": "66f4c40f-4857-4315-8dc2-f5b6b4eabb8a",
   "metadata": {},
   "outputs": [
    {
     "name": "stdout",
     "output_type": "stream",
     "text": [
      "[6 9]\n",
      "[-5  9]\n"
     ]
    }
   ],
   "source": [
    "import numpy as np\n",
    "x = np.array ([- 5,6, -7,9])\n",
    "a = x.reshape(2,2)\n",
    "print(a.max(axis=1))\n",
    "print(a.max(axis=0))"
   ]
  },
  {
   "cell_type": "code",
   "execution_count": null,
   "id": "569f37d8-b3cd-47e8-9fac-8778b6ede1eb",
   "metadata": {},
   "outputs": [],
   "source": [
    "Create a 4X2 integer array and Prints its attributes\n",
    "Note: The element must be a type of int. And print the following Attributes: –\n",
    "The shape of an array.\n",
    "Array dimensions.\n",
    "The Length of each element of the array in bytes."
   ]
  },
  {
   "cell_type": "code",
   "execution_count": 25,
   "id": "ca915830-3d14-44a9-9d3c-e2adabc1eefb",
   "metadata": {},
   "outputs": [
    {
     "name": "stdout",
     "output_type": "stream",
     "text": [
      "[[1 2]\n",
      " [3 4]\n",
      " [5 6]\n",
      " [7 8]]\n",
      "(4, 2)\n",
      "2\n",
      "4\n"
     ]
    }
   ],
   "source": [
    "x = np.arange(1,9, dtype  =int).reshape(4,2)\n",
    "print(x)\n",
    "print(x.shape)\n",
    "print(x.ndim)\n",
    "print(x.itemsize)"
   ]
  },
  {
   "cell_type": "code",
   "execution_count": null,
   "id": "3c46d9f3-bcad-46bf-babf-ac3d21594b6d",
   "metadata": {},
   "outputs": [],
   "source": [
    "Return array of odd rows and even columns from below numpy \n",
    "sampleArray = numpy.array([[3 ,6, 9, 12], [15 ,18, 21, 24],\n",
    "[27 ,30, 33, 36], [39 ,42, 45, 48], [51 ,54, 57, 60]]) \n",
    "output :\n",
    "Printing array of odd rows and even columns\n",
    "[[ 6 12]\n",
    " [30 36]\n",
    " [54 60]]"
   ]
  },
  {
   "cell_type": "code",
   "execution_count": 28,
   "id": "778bbdda-cc01-4126-b955-1bc04f34bb70",
   "metadata": {},
   "outputs": [
    {
     "data": {
      "text/plain": [
       "array([[ 3,  6,  9, 12],\n",
       "       [15, 18, 21, 24],\n",
       "       [27, 30, 33, 36],\n",
       "       [39, 42, 45, 48],\n",
       "       [51, 54, 57, 60]])"
      ]
     },
     "execution_count": 28,
     "metadata": {},
     "output_type": "execute_result"
    }
   ],
   "source": [
    "import numpy as np\n",
    "x = np.array([[3 ,6, 9, 12], \n",
    "              [15 ,18, 21, 24],\n",
    "              [27 ,30, 33, 36], \n",
    "              [39 ,42, 45, 48], \n",
    "              [51 ,54, 57, 60]]) \n",
    "x"
   ]
  },
  {
   "cell_type": "code",
   "execution_count": 29,
   "id": "a72152f6-560a-48c2-90e7-bb60aea2ddef",
   "metadata": {},
   "outputs": [
    {
     "data": {
      "text/plain": [
       "array([[ 6, 12],\n",
       "       [30, 36],\n",
       "       [54, 60]])"
      ]
     },
     "execution_count": 29,
     "metadata": {},
     "output_type": "execute_result"
    }
   ],
   "source": [
    "x[0::2,1::2]"
   ]
  },
  {
   "cell_type": "code",
   "execution_count": null,
   "id": "f6febae5-8d1c-4ae4-b793-1f1da2555186",
   "metadata": {},
   "outputs": [],
   "source": [
    "Create a result array by adding the following two NumPy arrays. \n",
    "Next, modify the result array by calculating the square of each element:\n",
    "arrayOne = numpy.array([[5, 6, 9], [21 ,18, 27]])\n",
    "arrayTwo = numpy.array([[15 ,33, 24], [4 ,7, 1]]) \n",
    "output:\n",
    "[[ 400 1521 1089]\n",
    " [ 625  625  784]]"
   ]
  },
  {
   "cell_type": "code",
   "execution_count": 31,
   "id": "46d1617e-5397-4903-8180-2cdd099c5e72",
   "metadata": {},
   "outputs": [],
   "source": [
    "import numpy as np"
   ]
  },
  {
   "cell_type": "code",
   "execution_count": 39,
   "id": "cd506a5f-0965-4ee3-8c64-8f3bda5f5574",
   "metadata": {},
   "outputs": [
    {
     "data": {
      "text/plain": [
       "array([[ 400, 1521, 1089],\n",
       "       [ 625,  625,  784]], dtype=int32)"
      ]
     },
     "execution_count": 39,
     "metadata": {},
     "output_type": "execute_result"
    }
   ],
   "source": [
    "arrayOne = np.array([[5, 6, 9], [21 ,18, 27]])\n",
    "arrayOne\n",
    "arrayTwo = np.array([[15 ,33, 24], [4 ,7, 1]])\n",
    "arrayTwo\n",
    "output= arrayOne+arrayTwo\n",
    "output**2"
   ]
  },
  {
   "cell_type": "code",
   "execution_count": null,
   "id": "48c659f5-062e-4da5-855b-3610aa732216",
   "metadata": {},
   "outputs": [],
   "source": [
    "Create an 8X3 integer array from a range between 10 to 34 such that the difference between each element is 1 and then Split the array into four equal-sized sub-arrays. output :\n",
    "Dividing 8X3 array into 4 sub array\n",
    "\n",
    "[array([[10, 11, 12],[13, 14, 15]]), \n",
    "array([[16, 17, 18],[19, 20, 21]]), \n",
    "array([[22, 23, 24],[25, 26, 27]]), \n",
    "array([[28, 29, 30],[31, 32, 33]])]"
   ]
  },
  {
   "cell_type": "code",
   "execution_count": 41,
   "id": "be377223-aee9-43ba-b541-0fb35e70a8da",
   "metadata": {},
   "outputs": [
    {
     "data": {
      "text/plain": [
       "array([[10, 11, 12],\n",
       "       [13, 14, 15],\n",
       "       [16, 17, 18],\n",
       "       [19, 20, 21],\n",
       "       [22, 23, 24],\n",
       "       [25, 26, 27],\n",
       "       [28, 29, 30],\n",
       "       [31, 32, 33]])"
      ]
     },
     "execution_count": 41,
     "metadata": {},
     "output_type": "execute_result"
    }
   ],
   "source": [
    "x = np.arange(10,34).reshape(8,3)\n",
    "x"
   ]
  },
  {
   "cell_type": "code",
   "execution_count": null,
   "id": "1ee50a18-d501-40c0-a248-2f24738dc53c",
   "metadata": {},
   "outputs": [],
   "source": [
    "Sort following NumPy array\n",
    "Case 1: Sort array by the second row\n",
    "Case 2: Sort the array by the second \n",
    "sample : Array = numpy.array([[34,43,73],[82,22,12],[53,94,66]])\n",
    "utput:\n",
    "Sorting Original array by second row\n",
    "[[73 43 34]\n",
    " [12 22 82]\n",
    " [66 94 53]]\n",
    "Sorting Original array by second column\n",
    "[[82 22 12]\n",
    " [34 43 73]\n",
    " [53 94 66]]"
   ]
  }
 ],
 "metadata": {
  "kernelspec": {
   "display_name": "Python 3",
   "language": "python",
   "name": "python3"
  },
  "language_info": {
   "codemirror_mode": {
    "name": "ipython",
    "version": 3
   },
   "file_extension": ".py",
   "mimetype": "text/x-python",
   "name": "python",
   "nbconvert_exporter": "python",
   "pygments_lexer": "ipython3",
   "version": "3.8.8"
  }
 },
 "nbformat": 4,
 "nbformat_minor": 5
}
