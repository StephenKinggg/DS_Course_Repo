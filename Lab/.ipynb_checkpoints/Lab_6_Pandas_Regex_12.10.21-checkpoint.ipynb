{
 "cells": [
  {
   "cell_type": "markdown",
   "id": "b67ef1fa-dfad-4fb1-8317-af1d6d4058f6",
   "metadata": {},
   "source": [
    "***\n",
    "Python Regular Expression Quick Guide\n",
    "^ Matches the beginning of a line\n",
    "$ Matches the end of the line\n",
    ". Matches any character\n",
    "\\s Matches whitespace\n",
    "\\S Matches any non-whitespace character\n",
    "* Repeats a character zero or more times\n",
    "*? Repeats a character zero or more times\n",
    "(non-greedy)\n",
    "+ Repeats a character one or more times\n",
    "+? Repeats a character one or more times\n",
    "(non-greedy)\n",
    "[aeiou] Matches a single character in the listed set\n",
    "[^XYZ] Matches a single character not in the listed set\n",
    "[a-z0-9] The set of characters can include a range\n",
    "( Indicates where string extraction is to start\n",
    ") Indicates where string extraction is to end\n",
    "***"
   ]
  },
  {
   "cell_type": "markdown",
   "id": "01e8017b-839b-4429-ae7c-2670adec18f6",
   "metadata": {},
   "source": [
    "### Expressions :\n",
    "***\n",
    "`\\d`                         Any numeric digit from `0` to `9`.\n",
    "\n",
    "`\\D`                         Matches any character which is not a decimal digit.\n",
    "                           This is the opposite of `\\d`.\n",
    "\n",
    "`\\w`                         Any letter, numeric digit, or the underscore\n",
    "                           character.  (Think of this as matching\n",
    "                           \"word\" characters.)\n",
    "\n",
    "`\\W`                         Any character that is not a letter,\n",
    "                           numeric digit, or the underscore character.\n",
    "\n",
    "`\\s`                         Any space, tab, or newline character.  (\n",
    "                           Think of this as matching white-space characters.)\n",
    "\n",
    "`\\S`                         Any character that is not a space, tab,\n",
    "                           or newline.\n",
    "***"
   ]
  },
  {
   "cell_type": "code",
   "execution_count": 3,
   "id": "cff767ec-6e33-4583-ba98-a10743324005",
   "metadata": {},
   "outputs": [],
   "source": [
    "import re\n",
    "import pandas as pd"
   ]
  },
  {
   "cell_type": "code",
   "execution_count": 4,
   "id": "c6ba0c2f-51c4-4e9b-832b-b804726b83cf",
   "metadata": {},
   "outputs": [],
   "source": [
    "text = \"A78L41K\""
   ]
  },
  {
   "cell_type": "code",
   "execution_count": 6,
   "id": "04e430c1-75b1-40fe-ae0a-bcbf47aff7d5",
   "metadata": {},
   "outputs": [
    {
     "data": {
      "text/plain": [
       "<re.Match object; span=(1, 2), match='7'>"
      ]
     },
     "execution_count": 6,
     "metadata": {},
     "output_type": "execute_result"
    }
   ],
   "source": [
    "num = re.search(\"\\d\", text)   \n",
    "num\n",
    "\n",
    "# bu textin içinde bulduğu "
   ]
  },
  {
   "cell_type": "code",
   "execution_count": 8,
   "id": "5013894e-578c-4fa2-8843-152689ccdaa6",
   "metadata": {},
   "outputs": [
    {
     "data": {
      "text/plain": [
       "<re.Match object; span=(1, 3), match='78'>"
      ]
     },
     "execution_count": 8,
     "metadata": {},
     "output_type": "execute_result"
    }
   ],
   "source": [
    "num = re.search(\"\\d\\d\", text)   \n",
    "num"
   ]
  },
  {
   "cell_type": "code",
   "execution_count": 7,
   "id": "5dd80fe4-5078-4cbf-ac9b-ad0fe078737a",
   "metadata": {},
   "outputs": [
    {
     "data": {
      "text/plain": [
       "'7'"
      ]
     },
     "execution_count": 7,
     "metadata": {},
     "output_type": "execute_result"
    }
   ],
   "source": [
    "num.group()"
   ]
  },
  {
   "cell_type": "code",
   "execution_count": 9,
   "id": "a4b25b50-135d-44f6-a6c7-d6c8865d3bd6",
   "metadata": {},
   "outputs": [
    {
     "data": {
      "text/plain": [
       "<re.Match object; span=(0, 1), match='A'>"
      ]
     },
     "execution_count": 9,
     "metadata": {},
     "output_type": "execute_result"
    }
   ],
   "source": [
    "num = re.search(\"\\w\", text)   \n",
    "num"
   ]
  },
  {
   "cell_type": "code",
   "execution_count": 10,
   "id": "00186351-7481-497b-983f-76a7bc73e01a",
   "metadata": {},
   "outputs": [
    {
     "data": {
      "text/plain": [
       "<re.Match object; span=(0, 2), match='A7'>"
      ]
     },
     "execution_count": 10,
     "metadata": {},
     "output_type": "execute_result"
    }
   ],
   "source": [
    "num = re.search(\"\\w\\w\", text)   \n",
    "num"
   ]
  },
  {
   "cell_type": "code",
   "execution_count": 11,
   "id": "a6689e2e-28a9-4fda-bdd1-740ea4a1c477",
   "metadata": {},
   "outputs": [],
   "source": [
    "text = \"8PM19MIN\""
   ]
  },
  {
   "cell_type": "code",
   "execution_count": 15,
   "id": "105917b4-df35-4c24-ab8f-8371ee544f3d",
   "metadata": {},
   "outputs": [
    {
     "name": "stdout",
     "output_type": "stream",
     "text": [
      "<re.Match object; span=(1, 2), match='P'>\n",
      "P\n"
     ]
    }
   ],
   "source": [
    "nondigi = re.search(\"\\D\",text)\n",
    "print(nondigi)\n",
    "print(nondigi.group())"
   ]
  },
  {
   "cell_type": "code",
   "execution_count": 27,
   "id": "b8b9411e-2222-4f26-a342-aed8adcf4754",
   "metadata": {},
   "outputs": [],
   "source": [
    "text = 'My phone number is 555 666 7777'   # n = re.findall(‘[\\d]+’, text)"
   ]
  },
  {
   "cell_type": "code",
   "execution_count": 28,
   "id": "05765c4f-c0b7-4284-8c05-f00fc7207105",
   "metadata": {},
   "outputs": [
    {
     "name": "stdout",
     "output_type": "stream",
     "text": [
      "<re.Match object; span=(19, 31), match='555 666 7777'>\n",
      "555 666 7777\n"
     ]
    }
   ],
   "source": [
    "telno = re.search(\"\\d\\d\\d \\d\\d\\d \\d\\d\\d\\d\", text)\n",
    "print(telno)\n",
    "print(telno.group())"
   ]
  },
  {
   "cell_type": "code",
   "execution_count": 34,
   "id": "e606a0f1-3bd1-4dd6-8275-b7de3ed4e8a6",
   "metadata": {},
   "outputs": [],
   "source": [
    "text = 'My phone number is 415-555-1212'"
   ]
  },
  {
   "cell_type": "code",
   "execution_count": 32,
   "id": "8d074f7b-b86f-435f-9ddb-78f0aef2deaf",
   "metadata": {},
   "outputs": [
    {
     "name": "stdout",
     "output_type": "stream",
     "text": [
      "<re.Match object; span=(19, 31), match='415-555-1212'>\n",
      "415-555-1212\n"
     ]
    }
   ],
   "source": [
    "telno = re.search(\"\\d\\d\\d-\\d\\d\\d-\\d\\d\\d\\d\", text)\n",
    "print(telno)\n",
    "print(telno.group())\n",
    "\n",
    "# text = ‘My phone number is 415-555-1212’\n",
    "# s = re.search(‘[\\d]+[^-].*’, text)\n"
   ]
  },
  {
   "cell_type": "code",
   "execution_count": 36,
   "id": "feb08d0b-8798-4bb7-a31a-50d35359b0aa",
   "metadata": {},
   "outputs": [
    {
     "name": "stdout",
     "output_type": "stream",
     "text": [
      "<re.Match object; span=(19, 31), match='415-555-1212'>\n",
      "415-555-1212\n"
     ]
    }
   ],
   "source": [
    "telno = re.search(\"\\d\"*3 + \"-\" + \"\\d\"*3 + \"-\" + \"\\d\"*4, text)\n",
    "print(telno)\n",
    "print(telno.group())"
   ]
  },
  {
   "cell_type": "code",
   "execution_count": 41,
   "id": "b433982b-40c9-4db5-a5df-f32b4fa08889",
   "metadata": {},
   "outputs": [
    {
     "name": "stdout",
     "output_type": "stream",
     "text": [
      "<re.Match object; span=(19, 31), match='415-555-1212'>\n",
      "415-555-1212\n"
     ]
    }
   ],
   "source": [
    "telno = re.search(\"(\\d\\d\\d)-(\\d\\d\\d)-(\\d\\d\\d\\d)\", text)  # parantezin görevi gruplara bölmek. \n",
    "print(telno)\n",
    "print(telno.group(0))  # burada 0 yazınca hepsini, 1 olunca birinci grubu, 2 olunca ikinci grubu"
   ]
  },
  {
   "cell_type": "code",
   "execution_count": 44,
   "id": "7e116bd2-8b9c-44eb-a008-1f97991c3ae4",
   "metadata": {},
   "outputs": [],
   "source": [
    "with open(\"text.txt\",\"w\") as file:\n",
    "    file.write(text)"
   ]
  },
  {
   "cell_type": "code",
   "execution_count": 51,
   "id": "7b1333b5-55ed-443d-bb6e-39f75d8b5b86",
   "metadata": {},
   "outputs": [
    {
     "name": "stdout",
     "output_type": "stream",
     "text": [
      "My phone number is 415-555-1212\n",
      "415\n",
      "555-1212\n"
     ]
    }
   ],
   "source": [
    "with open(\"text.txt\",\"r\") as file:\n",
    "    txt = file.read()\n",
    "print(txt)\n",
    "\n",
    "output = re.search(\"(\\d\\d\\d)-(\\d\\d\\d-\\d\\d\\d\\d)\",txt)\n",
    "print(output.group(1))\n",
    "print(output.group(2))"
   ]
  },
  {
   "cell_type": "code",
   "execution_count": 53,
   "id": "740d3fbd-54d1-4d99-bbbd-0575fbb9655a",
   "metadata": {},
   "outputs": [],
   "source": [
    "value = \"O 1, t 10, o 100. 100000\"   "
   ]
  },
  {
   "cell_type": "code",
   "execution_count": 54,
   "id": "14a12354-f328-4ca9-aeb5-c6db82734f3a",
   "metadata": {},
   "outputs": [
    {
     "name": "stdout",
     "output_type": "stream",
     "text": [
      "['1', '1', '0', '1', '0', '0', '1', '0', '0', '0', '0', '0']\n"
     ]
    }
   ],
   "source": [
    "output = re.findall(\"\\d{1}\", value)  # süslü parantez içine 1 yazarak sadece birer olanları buluyor.\n",
    "print(output)                       # süslü parantez içine 2 yazarsak ikili olanları bulur.\n",
    "# suslu parantez içine 1,6 yazarsak sırasıyla birer ikişer üçer ... altışar olanları yazar."
   ]
  },
  {
   "cell_type": "code",
   "execution_count": null,
   "id": "19c8f4f0-c3b0-4b8f-8c6a-41cf9280bebd",
   "metadata": {},
   "outputs": [],
   "source": [
    "# sayi = re.findall('[0-9]+', value)"
   ]
  },
  {
   "cell_type": "code",
   "execution_count": 57,
   "id": "516ed34f-07aa-4054-86d2-84eea6f793b9",
   "metadata": {},
   "outputs": [],
   "source": [
    "phone = \"2004-959-559 # This is Phone Number\""
   ]
  },
  {
   "cell_type": "code",
   "execution_count": 61,
   "id": "3311dfe0-4f85-4d48-88fd-66597215c367",
   "metadata": {},
   "outputs": [
    {
     "name": "stdout",
     "output_type": "stream",
     "text": [
      "2004*959*559***********************\n"
     ]
    }
   ],
   "source": [
    "output = re.sub(\"\\D\", \"*\", phone) # İlki neyi değiştereceğiz ikincisi ise ne ile değiştereceğiz. \\D digit olmayanları değiştirdi.\n",
    "print(output)"
   ]
  },
  {
   "cell_type": "code",
   "execution_count": 63,
   "id": "78bec2d8-ccbb-44c8-97fb-2a7416a33255",
   "metadata": {},
   "outputs": [
    {
     "name": "stdout",
     "output_type": "stream",
     "text": [
      "~~~~-~~~-~~~ # This is Phone Number\n"
     ]
    }
   ],
   "source": [
    "output = re.sub(\"\\d\", \"~\", phone)  # \\d digit olanları değiştirdi.\n",
    "print(output)"
   ]
  },
  {
   "cell_type": "markdown",
   "id": "12513f8f-e076-4a2e-bb4b-68fc4dc74907",
   "metadata": {},
   "source": [
    "### Special Characters\n",
    "___\n",
    "``\"[]\"``\t  A set of characters\t``\"[a-m]\"``\n",
    "\n",
    "``\"\\\"``\t      Signals a special sequence (can also be used to escape special characters)\n",
    "\n",
    "``\".\"``\t      Any character (except newline character)\n",
    "\n",
    "``\"^\"``\t      Starts with\t``\"^hello\"``\n",
    "\n",
    "``\"$\"``\t      Ends with\t``\"world$\"``\n",
    "\n",
    "``\"*\"``\t      Zero or more occurrences\n",
    "\n",
    "`\"+\"`\t      One or more occurrences\n",
    "\n",
    "`\"{}\"`\t  Exactly the specified number of occurrences\n",
    "\n",
    "`\"|\"`\t      Either or\t`\"falls|stays\"`\n",
    "\n",
    "`\"()\"`\t  Capture and group\n",
    "___"
   ]
  },
  {
   "cell_type": "code",
   "execution_count": 65,
   "id": "31acc8b2-80c6-4bd8-ab5c-dc8f17584d14",
   "metadata": {},
   "outputs": [],
   "source": [
    "txt = \"1 person against 100 people\""
   ]
  },
  {
   "cell_type": "code",
   "execution_count": 66,
   "id": "2371a82e-541d-4712-bf51-9fe1ce2e9a3b",
   "metadata": {},
   "outputs": [
    {
     "name": "stdout",
     "output_type": "stream",
     "text": [
      "['1', '100']\n"
     ]
    }
   ],
   "source": [
    "output = re.findall(\"\\d+\",txt)\n",
    "print(output)"
   ]
  },
  {
   "cell_type": "code",
   "execution_count": 67,
   "id": "87a4c53f-3a30-4a32-9012-2487d6e89d13",
   "metadata": {},
   "outputs": [],
   "source": [
    "txt = \"hello world\""
   ]
  },
  {
   "cell_type": "code",
   "execution_count": 68,
   "id": "5ea6837e-f5ff-495b-8ad1-6945184abdb5",
   "metadata": {},
   "outputs": [
    {
     "name": "stdout",
     "output_type": "stream",
     "text": [
      "['h']\n"
     ]
    }
   ],
   "source": [
    "output = re.findall(\"^h\",txt)\n",
    "print(output)"
   ]
  },
  {
   "cell_type": "code",
   "execution_count": 69,
   "id": "4293ddbe-5ac1-405f-887c-ffbe01955e68",
   "metadata": {},
   "outputs": [
    {
     "name": "stdout",
     "output_type": "stream",
     "text": [
      "['hello']\n"
     ]
    }
   ],
   "source": [
    "output = re.findall(\"^hello\",txt)\n",
    "print(output)"
   ]
  },
  {
   "cell_type": "code",
   "execution_count": 70,
   "id": "be3511ab-2df8-41e1-a960-3fb6d4778b50",
   "metadata": {},
   "outputs": [
    {
     "name": "stdout",
     "output_type": "stream",
     "text": [
      "['world']\n"
     ]
    }
   ],
   "source": [
    "output = re.findall(\"world$\",txt)\n",
    "print(output)"
   ]
  },
  {
   "cell_type": "code",
   "execution_count": 71,
   "id": "c6c2b258-884d-4b44-bfc5-0a6df9f7c7d6",
   "metadata": {},
   "outputs": [],
   "source": [
    "s = pd.Series(['a3', 'b4', 'c5', 'd'])"
   ]
  },
  {
   "cell_type": "code",
   "execution_count": 72,
   "id": "991ad26f-26b3-417d-99b7-d84d90a97dcc",
   "metadata": {},
   "outputs": [
    {
     "data": {
      "text/plain": [
       "0     True\n",
       "1     True\n",
       "2     True\n",
       "3    False\n",
       "dtype: bool"
      ]
     },
     "execution_count": 72,
     "metadata": {},
     "output_type": "execute_result"
    }
   ],
   "source": [
    "s.str.contains((\"\\d\"))"
   ]
  },
  {
   "cell_type": "code",
   "execution_count": null,
   "id": "cea6e369-47ac-47df-a540-b3511cddf496",
   "metadata": {},
   "outputs": [],
   "source": [
    "s.apply(lambda x:)"
   ]
  },
  {
   "cell_type": "code",
   "execution_count": 73,
   "id": "1e47ed3e-65d0-4cca-8edb-4bcea9aaf609",
   "metadata": {},
   "outputs": [
    {
     "data": {
      "text/html": [
       "<div>\n",
       "<style scoped>\n",
       "    .dataframe tbody tr th:only-of-type {\n",
       "        vertical-align: middle;\n",
       "    }\n",
       "\n",
       "    .dataframe tbody tr th {\n",
       "        vertical-align: top;\n",
       "    }\n",
       "\n",
       "    .dataframe thead th {\n",
       "        text-align: right;\n",
       "    }\n",
       "</style>\n",
       "<table border=\"1\" class=\"dataframe\">\n",
       "  <thead>\n",
       "    <tr style=\"text-align: right;\">\n",
       "      <th></th>\n",
       "      <th>0</th>\n",
       "    </tr>\n",
       "  </thead>\n",
       "  <tbody>\n",
       "    <tr>\n",
       "      <th>0</th>\n",
       "      <td>3</td>\n",
       "    </tr>\n",
       "    <tr>\n",
       "      <th>1</th>\n",
       "      <td>4</td>\n",
       "    </tr>\n",
       "    <tr>\n",
       "      <th>2</th>\n",
       "      <td>5</td>\n",
       "    </tr>\n",
       "    <tr>\n",
       "      <th>3</th>\n",
       "      <td>NaN</td>\n",
       "    </tr>\n",
       "  </tbody>\n",
       "</table>\n",
       "</div>"
      ],
      "text/plain": [
       "     0\n",
       "0    3\n",
       "1    4\n",
       "2    5\n",
       "3  NaN"
      ]
     },
     "execution_count": 73,
     "metadata": {},
     "output_type": "execute_result"
    }
   ],
   "source": [
    "s.str.extract(\"(\\d)\")  #str üzerin extract methodu ile istediklerimizi çıkarıyoruz."
   ]
  },
  {
   "cell_type": "code",
   "execution_count": 74,
   "id": "ac20c3a9-e556-4ad2-8ba4-b38066d558d7",
   "metadata": {},
   "outputs": [
    {
     "data": {
      "text/html": [
       "<div>\n",
       "<style scoped>\n",
       "    .dataframe tbody tr th:only-of-type {\n",
       "        vertical-align: middle;\n",
       "    }\n",
       "\n",
       "    .dataframe tbody tr th {\n",
       "        vertical-align: top;\n",
       "    }\n",
       "\n",
       "    .dataframe thead th {\n",
       "        text-align: right;\n",
       "    }\n",
       "</style>\n",
       "<table border=\"1\" class=\"dataframe\">\n",
       "  <thead>\n",
       "    <tr style=\"text-align: right;\">\n",
       "      <th></th>\n",
       "      <th>0</th>\n",
       "    </tr>\n",
       "  </thead>\n",
       "  <tbody>\n",
       "    <tr>\n",
       "      <th>0</th>\n",
       "      <td>a</td>\n",
       "    </tr>\n",
       "    <tr>\n",
       "      <th>1</th>\n",
       "      <td>b</td>\n",
       "    </tr>\n",
       "    <tr>\n",
       "      <th>2</th>\n",
       "      <td>c</td>\n",
       "    </tr>\n",
       "    <tr>\n",
       "      <th>3</th>\n",
       "      <td>d</td>\n",
       "    </tr>\n",
       "  </tbody>\n",
       "</table>\n",
       "</div>"
      ],
      "text/plain": [
       "   0\n",
       "0  a\n",
       "1  b\n",
       "2  c\n",
       "3  d"
      ]
     },
     "execution_count": 74,
     "metadata": {},
     "output_type": "execute_result"
    }
   ],
   "source": [
    "s.str.extract(\"(\\D)\")"
   ]
  },
  {
   "cell_type": "code",
   "execution_count": 76,
   "id": "b4028028-cf4d-4537-95bb-2327be3dd65d",
   "metadata": {},
   "outputs": [
    {
     "data": {
      "text/html": [
       "<div>\n",
       "<style scoped>\n",
       "    .dataframe tbody tr th:only-of-type {\n",
       "        vertical-align: middle;\n",
       "    }\n",
       "\n",
       "    .dataframe tbody tr th {\n",
       "        vertical-align: top;\n",
       "    }\n",
       "\n",
       "    .dataframe thead th {\n",
       "        text-align: right;\n",
       "    }\n",
       "</style>\n",
       "<table border=\"1\" class=\"dataframe\">\n",
       "  <thead>\n",
       "    <tr style=\"text-align: right;\">\n",
       "      <th></th>\n",
       "      <th>0</th>\n",
       "    </tr>\n",
       "  </thead>\n",
       "  <tbody>\n",
       "    <tr>\n",
       "      <th>0</th>\n",
       "      <td>a</td>\n",
       "    </tr>\n",
       "    <tr>\n",
       "      <th>1</th>\n",
       "      <td>b</td>\n",
       "    </tr>\n",
       "    <tr>\n",
       "      <th>2</th>\n",
       "      <td>c</td>\n",
       "    </tr>\n",
       "    <tr>\n",
       "      <th>3</th>\n",
       "      <td>d</td>\n",
       "    </tr>\n",
       "  </tbody>\n",
       "</table>\n",
       "</div>"
      ],
      "text/plain": [
       "   0\n",
       "0  a\n",
       "1  b\n",
       "2  c\n",
       "3  d"
      ]
     },
     "execution_count": 76,
     "metadata": {},
     "output_type": "execute_result"
    }
   ],
   "source": [
    "s.str.extract(\"(\\w)\")"
   ]
  },
  {
   "cell_type": "code",
   "execution_count": 82,
   "id": "cd50dbea-fa80-4a58-bd7e-5d0d6466512e",
   "metadata": {},
   "outputs": [],
   "source": [
    "s = pd.Series(['a3aac', 'b4aaa', 'c5aae'])"
   ]
  },
  {
   "cell_type": "code",
   "execution_count": 83,
   "id": "2e749e0f-b880-4e4d-a2c3-c0b78e073528",
   "metadata": {},
   "outputs": [
    {
     "data": {
      "text/html": [
       "<div>\n",
       "<style scoped>\n",
       "    .dataframe tbody tr th:only-of-type {\n",
       "        vertical-align: middle;\n",
       "    }\n",
       "\n",
       "    .dataframe tbody tr th {\n",
       "        vertical-align: top;\n",
       "    }\n",
       "\n",
       "    .dataframe thead th {\n",
       "        text-align: right;\n",
       "    }\n",
       "</style>\n",
       "<table border=\"1\" class=\"dataframe\">\n",
       "  <thead>\n",
       "    <tr style=\"text-align: right;\">\n",
       "      <th></th>\n",
       "      <th>0</th>\n",
       "      <th>1</th>\n",
       "      <th>2</th>\n",
       "      <th>3</th>\n",
       "    </tr>\n",
       "  </thead>\n",
       "  <tbody>\n",
       "    <tr>\n",
       "      <th>0</th>\n",
       "      <td>a</td>\n",
       "      <td>a</td>\n",
       "      <td>a</td>\n",
       "      <td>c</td>\n",
       "    </tr>\n",
       "    <tr>\n",
       "      <th>1</th>\n",
       "      <td>b</td>\n",
       "      <td>a</td>\n",
       "      <td>a</td>\n",
       "      <td>a</td>\n",
       "    </tr>\n",
       "    <tr>\n",
       "      <th>2</th>\n",
       "      <td>c</td>\n",
       "      <td>a</td>\n",
       "      <td>a</td>\n",
       "      <td>e</td>\n",
       "    </tr>\n",
       "  </tbody>\n",
       "</table>\n",
       "</div>"
      ],
      "text/plain": [
       "   0  1  2  3\n",
       "0  a  a  a  c\n",
       "1  b  a  a  a\n",
       "2  c  a  a  e"
      ]
     },
     "execution_count": 83,
     "metadata": {},
     "output_type": "execute_result"
    }
   ],
   "source": [
    "s.str.extract(\"(\\w)\\d(\\D)(\\D)(\\D)\")"
   ]
  },
  {
   "cell_type": "code",
   "execution_count": 89,
   "id": "b93c957b-3df6-4aaf-8ff0-d04fdf5cc260",
   "metadata": {},
   "outputs": [],
   "source": [
    "s= pd.Series(['40 l/100 km (comb)',\n",
    "        '38 l/100 km (comb)', '6.4 l/100 km (comb)',\n",
    "       '8.3 kg/100 km (comb)', '5.1 kg/100 km (comb)',\n",
    "       '5.4 l/100 km (comb)', '6.7 l/100 km (comb)',\n",
    "       '6.2 l/100 km (comb)', '7.3 l/100 km (comb)',\n",
    "       '6.3 l/100 km (comb)', '5.7 l/100 km (comb)',\n",
    "       '6.1 l/100 km (comb)', '6.8 l/100 km (comb)',\n",
    "       '7.5 l/100 km (comb)', '7.4 l/100 km (comb)',\n",
    "       '3.6 kg/100 km (comb)', '0 l/100 km (comb)',\n",
    "       '7.8 l/100 km (comb)'])"
   ]
  },
  {
   "cell_type": "code",
   "execution_count": 86,
   "id": "c8c91c01-758e-4d32-ac3c-14a6cfbba1f4",
   "metadata": {},
   "outputs": [
    {
     "data": {
      "text/plain": [
       "0       40 l/100 km (comb)\n",
       "1       38 l/100 km (comb)\n",
       "2      6.4 l/100 km (comb)\n",
       "3     8.3 kg/100 km (comb)\n",
       "4     5.1 kg/100 km (comb)\n",
       "5      5.4 l/100 km (comb)\n",
       "6      6.7 l/100 km (comb)\n",
       "7      6.2 l/100 km (comb)\n",
       "8      7.3 l/100 km (comb)\n",
       "9      6.3 l/100 km (comb)\n",
       "10     5.7 l/100 km (comb)\n",
       "11     6.1 l/100 km (comb)\n",
       "12     6.8 l/100 km (comb)\n",
       "13     7.5 l/100 km (comb)\n",
       "14     7.4 l/100 km (comb)\n",
       "15    3.6 kg/100 km (comb)\n",
       "16       0 l/100 km (comb)\n",
       "17     7.8 l/100 km (comb)\n",
       "dtype: object"
      ]
     },
     "execution_count": 86,
     "metadata": {},
     "output_type": "execute_result"
    }
   ],
   "source": [
    "s"
   ]
  },
  {
   "cell_type": "code",
   "execution_count": 94,
   "id": "93e53bfe-60a2-450e-a3e6-044dce23fdf9",
   "metadata": {},
   "outputs": [
    {
     "name": "stdout",
     "output_type": "stream",
     "text": [
      "      0\n",
      "0    40\n",
      "1    38\n",
      "2   6.4\n",
      "3   8.3\n",
      "4   5.1\n",
      "5   5.4\n",
      "6   6.7\n",
      "7   6.2\n",
      "8   7.3\n",
      "9   6.3\n",
      "10  5.7\n",
      "11  6.1\n",
      "12  6.8\n",
      "13  7.5\n",
      "14  7.4\n",
      "15  3.6\n",
      "16    0\n",
      "17  7.8\n"
     ]
    }
   ],
   "source": [
    "result = s.str.extract(\"(\\d\\d|\\d.\\d|\\d)\")  # önce ikili digitleri sonra . noktadan sonra olanları al.\n",
    "print(result)"
   ]
  },
  {
   "cell_type": "code",
   "execution_count": 97,
   "id": "6d248a05-c45f-4799-b77b-07cd2eb77ef4",
   "metadata": {},
   "outputs": [
    {
     "name": "stdout",
     "output_type": "stream",
     "text": [
      "      0    1\n",
      "0    40  100\n",
      "1    38  100\n",
      "2   6.4  100\n",
      "3   8.3  100\n",
      "4   5.1  100\n",
      "5   5.4  100\n",
      "6   6.7  100\n",
      "7   6.2  100\n",
      "8   7.3  100\n",
      "9   6.3  100\n",
      "10  5.7  100\n",
      "11  6.1  100\n",
      "12  6.8  100\n",
      "13  7.5  100\n",
      "14  7.4  100\n",
      "15  3.6  100\n",
      "16    0  100\n",
      "17  7.8  100\n"
     ]
    }
   ],
   "source": [
    "result = s.str.extract(\"(\\d\\d|\\d.\\d|\\d).+(\\d\\d\\d)\")  # nokta ondan sonra herhangi birkarakter gelebilir anlamı taşıyor.\n",
    "print(result)"
   ]
  },
  {
   "cell_type": "code",
   "execution_count": 98,
   "id": "e7252ed8-e20d-4e81-939c-0981da7ba3b3",
   "metadata": {},
   "outputs": [],
   "source": [
    "result = s.str.extract(\"(^\\d*.\\d*) \\w*/(\\d*)\")  # ilk diğit grubu ile 100 arasındakileri almasın diye \\w*/ yazdık."
   ]
  },
  {
   "cell_type": "code",
   "execution_count": 99,
   "id": "a4ac245d-28f5-40c6-9176-66b44bb97f72",
   "metadata": {},
   "outputs": [
    {
     "data": {
      "text/html": [
       "<div>\n",
       "<style scoped>\n",
       "    .dataframe tbody tr th:only-of-type {\n",
       "        vertical-align: middle;\n",
       "    }\n",
       "\n",
       "    .dataframe tbody tr th {\n",
       "        vertical-align: top;\n",
       "    }\n",
       "\n",
       "    .dataframe thead th {\n",
       "        text-align: right;\n",
       "    }\n",
       "</style>\n",
       "<table border=\"1\" class=\"dataframe\">\n",
       "  <thead>\n",
       "    <tr style=\"text-align: right;\">\n",
       "      <th></th>\n",
       "      <th>0</th>\n",
       "      <th>1</th>\n",
       "    </tr>\n",
       "  </thead>\n",
       "  <tbody>\n",
       "    <tr>\n",
       "      <th>0</th>\n",
       "      <td>40</td>\n",
       "      <td>100</td>\n",
       "    </tr>\n",
       "    <tr>\n",
       "      <th>1</th>\n",
       "      <td>38</td>\n",
       "      <td>100</td>\n",
       "    </tr>\n",
       "    <tr>\n",
       "      <th>2</th>\n",
       "      <td>6.4</td>\n",
       "      <td>100</td>\n",
       "    </tr>\n",
       "    <tr>\n",
       "      <th>3</th>\n",
       "      <td>8.3</td>\n",
       "      <td>100</td>\n",
       "    </tr>\n",
       "    <tr>\n",
       "      <th>4</th>\n",
       "      <td>5.1</td>\n",
       "      <td>100</td>\n",
       "    </tr>\n",
       "    <tr>\n",
       "      <th>5</th>\n",
       "      <td>5.4</td>\n",
       "      <td>100</td>\n",
       "    </tr>\n",
       "    <tr>\n",
       "      <th>6</th>\n",
       "      <td>6.7</td>\n",
       "      <td>100</td>\n",
       "    </tr>\n",
       "    <tr>\n",
       "      <th>7</th>\n",
       "      <td>6.2</td>\n",
       "      <td>100</td>\n",
       "    </tr>\n",
       "    <tr>\n",
       "      <th>8</th>\n",
       "      <td>7.3</td>\n",
       "      <td>100</td>\n",
       "    </tr>\n",
       "    <tr>\n",
       "      <th>9</th>\n",
       "      <td>6.3</td>\n",
       "      <td>100</td>\n",
       "    </tr>\n",
       "    <tr>\n",
       "      <th>10</th>\n",
       "      <td>5.7</td>\n",
       "      <td>100</td>\n",
       "    </tr>\n",
       "    <tr>\n",
       "      <th>11</th>\n",
       "      <td>6.1</td>\n",
       "      <td>100</td>\n",
       "    </tr>\n",
       "    <tr>\n",
       "      <th>12</th>\n",
       "      <td>6.8</td>\n",
       "      <td>100</td>\n",
       "    </tr>\n",
       "    <tr>\n",
       "      <th>13</th>\n",
       "      <td>7.5</td>\n",
       "      <td>100</td>\n",
       "    </tr>\n",
       "    <tr>\n",
       "      <th>14</th>\n",
       "      <td>7.4</td>\n",
       "      <td>100</td>\n",
       "    </tr>\n",
       "    <tr>\n",
       "      <th>15</th>\n",
       "      <td>3.6</td>\n",
       "      <td>100</td>\n",
       "    </tr>\n",
       "    <tr>\n",
       "      <th>16</th>\n",
       "      <td>0</td>\n",
       "      <td>100</td>\n",
       "    </tr>\n",
       "    <tr>\n",
       "      <th>17</th>\n",
       "      <td>7.8</td>\n",
       "      <td>100</td>\n",
       "    </tr>\n",
       "  </tbody>\n",
       "</table>\n",
       "</div>"
      ],
      "text/plain": [
       "      0    1\n",
       "0    40  100\n",
       "1    38  100\n",
       "2   6.4  100\n",
       "3   8.3  100\n",
       "4   5.1  100\n",
       "5   5.4  100\n",
       "6   6.7  100\n",
       "7   6.2  100\n",
       "8   7.3  100\n",
       "9   6.3  100\n",
       "10  5.7  100\n",
       "11  6.1  100\n",
       "12  6.8  100\n",
       "13  7.5  100\n",
       "14  7.4  100\n",
       "15  3.6  100\n",
       "16    0  100\n",
       "17  7.8  100"
      ]
     },
     "execution_count": 99,
     "metadata": {},
     "output_type": "execute_result"
    }
   ],
   "source": [
    "result"
   ]
  },
  {
   "cell_type": "code",
   "execution_count": 101,
   "id": "225f550a-de01-49c2-bfba-1021ca650754",
   "metadata": {},
   "outputs": [
    {
     "data": {
      "text/html": [
       "<div>\n",
       "<style scoped>\n",
       "    .dataframe tbody tr th:only-of-type {\n",
       "        vertical-align: middle;\n",
       "    }\n",
       "\n",
       "    .dataframe tbody tr th {\n",
       "        vertical-align: top;\n",
       "    }\n",
       "\n",
       "    .dataframe thead th {\n",
       "        text-align: right;\n",
       "    }\n",
       "</style>\n",
       "<table border=\"1\" class=\"dataframe\">\n",
       "  <thead>\n",
       "    <tr style=\"text-align: right;\">\n",
       "      <th></th>\n",
       "      <th>0</th>\n",
       "    </tr>\n",
       "  </thead>\n",
       "  <tbody>\n",
       "    <tr>\n",
       "      <th>0</th>\n",
       "      <td>40</td>\n",
       "    </tr>\n",
       "    <tr>\n",
       "      <th>1</th>\n",
       "      <td>38</td>\n",
       "    </tr>\n",
       "    <tr>\n",
       "      <th>2</th>\n",
       "      <td>6.4</td>\n",
       "    </tr>\n",
       "    <tr>\n",
       "      <th>3</th>\n",
       "      <td>8.3</td>\n",
       "    </tr>\n",
       "    <tr>\n",
       "      <th>4</th>\n",
       "      <td>5.1</td>\n",
       "    </tr>\n",
       "    <tr>\n",
       "      <th>5</th>\n",
       "      <td>5.4</td>\n",
       "    </tr>\n",
       "    <tr>\n",
       "      <th>6</th>\n",
       "      <td>6.7</td>\n",
       "    </tr>\n",
       "    <tr>\n",
       "      <th>7</th>\n",
       "      <td>6.2</td>\n",
       "    </tr>\n",
       "    <tr>\n",
       "      <th>8</th>\n",
       "      <td>7.3</td>\n",
       "    </tr>\n",
       "    <tr>\n",
       "      <th>9</th>\n",
       "      <td>6.3</td>\n",
       "    </tr>\n",
       "    <tr>\n",
       "      <th>10</th>\n",
       "      <td>5.7</td>\n",
       "    </tr>\n",
       "    <tr>\n",
       "      <th>11</th>\n",
       "      <td>6.1</td>\n",
       "    </tr>\n",
       "    <tr>\n",
       "      <th>12</th>\n",
       "      <td>6.8</td>\n",
       "    </tr>\n",
       "    <tr>\n",
       "      <th>13</th>\n",
       "      <td>7.5</td>\n",
       "    </tr>\n",
       "    <tr>\n",
       "      <th>14</th>\n",
       "      <td>7.4</td>\n",
       "    </tr>\n",
       "    <tr>\n",
       "      <th>15</th>\n",
       "      <td>3.6</td>\n",
       "    </tr>\n",
       "    <tr>\n",
       "      <th>16</th>\n",
       "      <td>0</td>\n",
       "    </tr>\n",
       "    <tr>\n",
       "      <th>17</th>\n",
       "      <td>7.8</td>\n",
       "    </tr>\n",
       "  </tbody>\n",
       "</table>\n",
       "</div>"
      ],
      "text/plain": [
       "      0\n",
       "0    40\n",
       "1    38\n",
       "2   6.4\n",
       "3   8.3\n",
       "4   5.1\n",
       "5   5.4\n",
       "6   6.7\n",
       "7   6.2\n",
       "8   7.3\n",
       "9   6.3\n",
       "10  5.7\n",
       "11  6.1\n",
       "12  6.8\n",
       "13  7.5\n",
       "14  7.4\n",
       "15  3.6\n",
       "16    0\n",
       "17  7.8"
      ]
     },
     "execution_count": 101,
     "metadata": {},
     "output_type": "execute_result"
    }
   ],
   "source": [
    "output = s.str.extract('(\\S+)')   # \\S Boşluk olmayan karakter 1 veya daha fazla olacak. \n",
    "output"
   ]
  },
  {
   "cell_type": "code",
   "execution_count": 102,
   "id": "7ee4b3cf-3403-4a2f-b66a-d66f9c920b7e",
   "metadata": {},
   "outputs": [],
   "source": [
    "s = pd.Series(['06/2020\\n\\n4.9 l/100 km (comb)',\n",
    "'11/2020\\n\\n166 g CO2/km (comb)',\n",
    "'10/2019\\n\\n5.3 l/100 km (comb)',\n",
    "'05/2022\\n\\n6.3 l/100 km (comb)',\n",
    "'07/2019\\n\\n128 g CO2/km (comb)',\n",
    "'06/2022\\n\\n112 g CO2/km (comb)',\n",
    "'01/2022\\n\\n5.8 l/100 km (comb)',\n",
    "'11/2020\\n\\n106 g CO2/km (comb)',\n",
    "'04/2019\\n\\n105 g CO2/km (comb)',\n",
    "'08/2020\\n\\n133 g CO2/km (comb)',\n",
    "'04/2022\\n\\n133 g CO2/km (comb)'])"
   ]
  },
  {
   "cell_type": "code",
   "execution_count": 103,
   "id": "aab48e58-e712-4d19-9b52-e2c8cd5ecfbe",
   "metadata": {},
   "outputs": [
    {
     "data": {
      "text/plain": [
       "0     06/2020\\n\\n4.9 l/100 km (comb)\n",
       "1     11/2020\\n\\n166 g CO2/km (comb)\n",
       "2     10/2019\\n\\n5.3 l/100 km (comb)\n",
       "3     05/2022\\n\\n6.3 l/100 km (comb)\n",
       "4     07/2019\\n\\n128 g CO2/km (comb)\n",
       "5     06/2022\\n\\n112 g CO2/km (comb)\n",
       "6     01/2022\\n\\n5.8 l/100 km (comb)\n",
       "7     11/2020\\n\\n106 g CO2/km (comb)\n",
       "8     04/2019\\n\\n105 g CO2/km (comb)\n",
       "9     08/2020\\n\\n133 g CO2/km (comb)\n",
       "10    04/2022\\n\\n133 g CO2/km (comb)\n",
       "dtype: object"
      ]
     },
     "execution_count": 103,
     "metadata": {},
     "output_type": "execute_result"
    }
   ],
   "source": [
    "s"
   ]
  },
  {
   "cell_type": "code",
   "execution_count": 104,
   "id": "b9e39113-3e48-485c-93d9-9d90909e686a",
   "metadata": {},
   "outputs": [
    {
     "data": {
      "text/html": [
       "<div>\n",
       "<style scoped>\n",
       "    .dataframe tbody tr th:only-of-type {\n",
       "        vertical-align: middle;\n",
       "    }\n",
       "\n",
       "    .dataframe tbody tr th {\n",
       "        vertical-align: top;\n",
       "    }\n",
       "\n",
       "    .dataframe thead th {\n",
       "        text-align: right;\n",
       "    }\n",
       "</style>\n",
       "<table border=\"1\" class=\"dataframe\">\n",
       "  <thead>\n",
       "    <tr style=\"text-align: right;\">\n",
       "      <th></th>\n",
       "      <th>0</th>\n",
       "      <th>1</th>\n",
       "    </tr>\n",
       "  </thead>\n",
       "  <tbody>\n",
       "    <tr>\n",
       "      <th>0</th>\n",
       "      <td>06</td>\n",
       "      <td>2020</td>\n",
       "    </tr>\n",
       "    <tr>\n",
       "      <th>1</th>\n",
       "      <td>11</td>\n",
       "      <td>2020</td>\n",
       "    </tr>\n",
       "    <tr>\n",
       "      <th>2</th>\n",
       "      <td>10</td>\n",
       "      <td>2019</td>\n",
       "    </tr>\n",
       "    <tr>\n",
       "      <th>3</th>\n",
       "      <td>05</td>\n",
       "      <td>2022</td>\n",
       "    </tr>\n",
       "    <tr>\n",
       "      <th>4</th>\n",
       "      <td>07</td>\n",
       "      <td>2019</td>\n",
       "    </tr>\n",
       "    <tr>\n",
       "      <th>5</th>\n",
       "      <td>06</td>\n",
       "      <td>2022</td>\n",
       "    </tr>\n",
       "    <tr>\n",
       "      <th>6</th>\n",
       "      <td>01</td>\n",
       "      <td>2022</td>\n",
       "    </tr>\n",
       "    <tr>\n",
       "      <th>7</th>\n",
       "      <td>11</td>\n",
       "      <td>2020</td>\n",
       "    </tr>\n",
       "    <tr>\n",
       "      <th>8</th>\n",
       "      <td>04</td>\n",
       "      <td>2019</td>\n",
       "    </tr>\n",
       "    <tr>\n",
       "      <th>9</th>\n",
       "      <td>08</td>\n",
       "      <td>2020</td>\n",
       "    </tr>\n",
       "    <tr>\n",
       "      <th>10</th>\n",
       "      <td>04</td>\n",
       "      <td>2022</td>\n",
       "    </tr>\n",
       "  </tbody>\n",
       "</table>\n",
       "</div>"
      ],
      "text/plain": [
       "     0     1\n",
       "0   06  2020\n",
       "1   11  2020\n",
       "2   10  2019\n",
       "3   05  2022\n",
       "4   07  2019\n",
       "5   06  2022\n",
       "6   01  2022\n",
       "7   11  2020\n",
       "8   04  2019\n",
       "9   08  2020\n",
       "10  04  2022"
      ]
     },
     "execution_count": 104,
     "metadata": {},
     "output_type": "execute_result"
    }
   ],
   "source": [
    "result = s.str.extract(\"(\\d+).(\\d+)\")\n",
    "result"
   ]
  },
  {
   "cell_type": "code",
   "execution_count": 105,
   "id": "bc64ce47-58fb-4e58-aa7a-e2e4ee0df536",
   "metadata": {},
   "outputs": [
    {
     "data": {
      "text/html": [
       "<div>\n",
       "<style scoped>\n",
       "    .dataframe tbody tr th:only-of-type {\n",
       "        vertical-align: middle;\n",
       "    }\n",
       "\n",
       "    .dataframe tbody tr th {\n",
       "        vertical-align: top;\n",
       "    }\n",
       "\n",
       "    .dataframe thead th {\n",
       "        text-align: right;\n",
       "    }\n",
       "</style>\n",
       "<table border=\"1\" class=\"dataframe\">\n",
       "  <thead>\n",
       "    <tr style=\"text-align: right;\">\n",
       "      <th></th>\n",
       "      <th>0</th>\n",
       "    </tr>\n",
       "  </thead>\n",
       "  <tbody>\n",
       "    <tr>\n",
       "      <th>0</th>\n",
       "      <td>06/2020</td>\n",
       "    </tr>\n",
       "    <tr>\n",
       "      <th>1</th>\n",
       "      <td>11/2020</td>\n",
       "    </tr>\n",
       "    <tr>\n",
       "      <th>2</th>\n",
       "      <td>10/2019</td>\n",
       "    </tr>\n",
       "    <tr>\n",
       "      <th>3</th>\n",
       "      <td>05/2022</td>\n",
       "    </tr>\n",
       "    <tr>\n",
       "      <th>4</th>\n",
       "      <td>07/2019</td>\n",
       "    </tr>\n",
       "    <tr>\n",
       "      <th>5</th>\n",
       "      <td>06/2022</td>\n",
       "    </tr>\n",
       "    <tr>\n",
       "      <th>6</th>\n",
       "      <td>01/2022</td>\n",
       "    </tr>\n",
       "    <tr>\n",
       "      <th>7</th>\n",
       "      <td>11/2020</td>\n",
       "    </tr>\n",
       "    <tr>\n",
       "      <th>8</th>\n",
       "      <td>04/2019</td>\n",
       "    </tr>\n",
       "    <tr>\n",
       "      <th>9</th>\n",
       "      <td>08/2020</td>\n",
       "    </tr>\n",
       "    <tr>\n",
       "      <th>10</th>\n",
       "      <td>04/2022</td>\n",
       "    </tr>\n",
       "  </tbody>\n",
       "</table>\n",
       "</div>"
      ],
      "text/plain": [
       "          0\n",
       "0   06/2020\n",
       "1   11/2020\n",
       "2   10/2019\n",
       "3   05/2022\n",
       "4   07/2019\n",
       "5   06/2022\n",
       "6   01/2022\n",
       "7   11/2020\n",
       "8   04/2019\n",
       "9   08/2020\n",
       "10  04/2022"
      ]
     },
     "execution_count": 105,
     "metadata": {},
     "output_type": "execute_result"
    }
   ],
   "source": [
    "result = s.str.extract('(\\S+/\\S+)')\n",
    "result"
   ]
  },
  {
   "cell_type": "code",
   "execution_count": 106,
   "id": "f4b7abe4-5005-45f2-aaab-78dde8a210b3",
   "metadata": {},
   "outputs": [
    {
     "data": {
      "text/html": [
       "<div>\n",
       "<style scoped>\n",
       "    .dataframe tbody tr th:only-of-type {\n",
       "        vertical-align: middle;\n",
       "    }\n",
       "\n",
       "    .dataframe tbody tr th {\n",
       "        vertical-align: top;\n",
       "    }\n",
       "\n",
       "    .dataframe thead th {\n",
       "        text-align: right;\n",
       "    }\n",
       "</style>\n",
       "<table border=\"1\" class=\"dataframe\">\n",
       "  <thead>\n",
       "    <tr style=\"text-align: right;\">\n",
       "      <th></th>\n",
       "      <th>0</th>\n",
       "      <th>1</th>\n",
       "    </tr>\n",
       "  </thead>\n",
       "  <tbody>\n",
       "    <tr>\n",
       "      <th>0</th>\n",
       "      <td>06</td>\n",
       "      <td>2020</td>\n",
       "    </tr>\n",
       "    <tr>\n",
       "      <th>1</th>\n",
       "      <td>11</td>\n",
       "      <td>2020</td>\n",
       "    </tr>\n",
       "    <tr>\n",
       "      <th>2</th>\n",
       "      <td>10</td>\n",
       "      <td>2019</td>\n",
       "    </tr>\n",
       "    <tr>\n",
       "      <th>3</th>\n",
       "      <td>05</td>\n",
       "      <td>2022</td>\n",
       "    </tr>\n",
       "    <tr>\n",
       "      <th>4</th>\n",
       "      <td>07</td>\n",
       "      <td>2019</td>\n",
       "    </tr>\n",
       "    <tr>\n",
       "      <th>5</th>\n",
       "      <td>06</td>\n",
       "      <td>2022</td>\n",
       "    </tr>\n",
       "    <tr>\n",
       "      <th>6</th>\n",
       "      <td>01</td>\n",
       "      <td>2022</td>\n",
       "    </tr>\n",
       "    <tr>\n",
       "      <th>7</th>\n",
       "      <td>11</td>\n",
       "      <td>2020</td>\n",
       "    </tr>\n",
       "    <tr>\n",
       "      <th>8</th>\n",
       "      <td>04</td>\n",
       "      <td>2019</td>\n",
       "    </tr>\n",
       "    <tr>\n",
       "      <th>9</th>\n",
       "      <td>08</td>\n",
       "      <td>2020</td>\n",
       "    </tr>\n",
       "    <tr>\n",
       "      <th>10</th>\n",
       "      <td>04</td>\n",
       "      <td>2022</td>\n",
       "    </tr>\n",
       "  </tbody>\n",
       "</table>\n",
       "</div>"
      ],
      "text/plain": [
       "     0     1\n",
       "0   06  2020\n",
       "1   11  2020\n",
       "2   10  2019\n",
       "3   05  2022\n",
       "4   07  2019\n",
       "5   06  2022\n",
       "6   01  2022\n",
       "7   11  2020\n",
       "8   04  2019\n",
       "9   08  2020\n",
       "10  04  2022"
      ]
     },
     "execution_count": 106,
     "metadata": {},
     "output_type": "execute_result"
    }
   ],
   "source": [
    "result = s.str.extract('(\\S+)/(\\S+)')\n",
    "result"
   ]
  },
  {
   "cell_type": "code",
   "execution_count": 108,
   "id": "91aefe20-f87e-42fa-8693-4e9480598b06",
   "metadata": {},
   "outputs": [
    {
     "data": {
      "text/html": [
       "<div>\n",
       "<style scoped>\n",
       "    .dataframe tbody tr th:only-of-type {\n",
       "        vertical-align: middle;\n",
       "    }\n",
       "\n",
       "    .dataframe tbody tr th {\n",
       "        vertical-align: top;\n",
       "    }\n",
       "\n",
       "    .dataframe thead th {\n",
       "        text-align: right;\n",
       "    }\n",
       "</style>\n",
       "<table border=\"1\" class=\"dataframe\">\n",
       "  <thead>\n",
       "    <tr style=\"text-align: right;\">\n",
       "      <th></th>\n",
       "      <th>0</th>\n",
       "      <th>1</th>\n",
       "    </tr>\n",
       "  </thead>\n",
       "  <tbody>\n",
       "    <tr>\n",
       "      <th>0</th>\n",
       "      <td>06</td>\n",
       "      <td>2020</td>\n",
       "    </tr>\n",
       "    <tr>\n",
       "      <th>1</th>\n",
       "      <td>11</td>\n",
       "      <td>2020</td>\n",
       "    </tr>\n",
       "    <tr>\n",
       "      <th>2</th>\n",
       "      <td>10</td>\n",
       "      <td>2019</td>\n",
       "    </tr>\n",
       "    <tr>\n",
       "      <th>3</th>\n",
       "      <td>05</td>\n",
       "      <td>2022</td>\n",
       "    </tr>\n",
       "    <tr>\n",
       "      <th>4</th>\n",
       "      <td>07</td>\n",
       "      <td>2019</td>\n",
       "    </tr>\n",
       "    <tr>\n",
       "      <th>5</th>\n",
       "      <td>06</td>\n",
       "      <td>2022</td>\n",
       "    </tr>\n",
       "    <tr>\n",
       "      <th>6</th>\n",
       "      <td>01</td>\n",
       "      <td>2022</td>\n",
       "    </tr>\n",
       "    <tr>\n",
       "      <th>7</th>\n",
       "      <td>11</td>\n",
       "      <td>2020</td>\n",
       "    </tr>\n",
       "    <tr>\n",
       "      <th>8</th>\n",
       "      <td>04</td>\n",
       "      <td>2019</td>\n",
       "    </tr>\n",
       "    <tr>\n",
       "      <th>9</th>\n",
       "      <td>08</td>\n",
       "      <td>2020</td>\n",
       "    </tr>\n",
       "    <tr>\n",
       "      <th>10</th>\n",
       "      <td>04</td>\n",
       "      <td>2022</td>\n",
       "    </tr>\n",
       "  </tbody>\n",
       "</table>\n",
       "</div>"
      ],
      "text/plain": [
       "     0     1\n",
       "0   06  2020\n",
       "1   11  2020\n",
       "2   10  2019\n",
       "3   05  2022\n",
       "4   07  2019\n",
       "5   06  2022\n",
       "6   01  2022\n",
       "7   11  2020\n",
       "8   04  2019\n",
       "9   08  2020\n",
       "10  04  2022"
      ]
     },
     "execution_count": 108,
     "metadata": {},
     "output_type": "execute_result"
    }
   ],
   "source": [
    "result = s.str.extract('(\\d{2})/(\\d{4})')\n",
    "result"
   ]
  },
  {
   "cell_type": "code",
   "execution_count": 109,
   "id": "8491abc5-0c0e-4cd1-88e0-e799cff2a903",
   "metadata": {},
   "outputs": [
    {
     "data": {
      "text/html": [
       "<div>\n",
       "<style scoped>\n",
       "    .dataframe tbody tr th:only-of-type {\n",
       "        vertical-align: middle;\n",
       "    }\n",
       "\n",
       "    .dataframe tbody tr th {\n",
       "        vertical-align: top;\n",
       "    }\n",
       "\n",
       "    .dataframe thead th {\n",
       "        text-align: right;\n",
       "    }\n",
       "</style>\n",
       "<table border=\"1\" class=\"dataframe\">\n",
       "  <thead>\n",
       "    <tr style=\"text-align: right;\">\n",
       "      <th></th>\n",
       "      <th>0</th>\n",
       "      <th>1</th>\n",
       "    </tr>\n",
       "  </thead>\n",
       "  <tbody>\n",
       "    <tr>\n",
       "      <th>0</th>\n",
       "      <td>06</td>\n",
       "      <td>2020</td>\n",
       "    </tr>\n",
       "    <tr>\n",
       "      <th>1</th>\n",
       "      <td>11</td>\n",
       "      <td>2020</td>\n",
       "    </tr>\n",
       "    <tr>\n",
       "      <th>2</th>\n",
       "      <td>10</td>\n",
       "      <td>2019</td>\n",
       "    </tr>\n",
       "    <tr>\n",
       "      <th>3</th>\n",
       "      <td>05</td>\n",
       "      <td>2022</td>\n",
       "    </tr>\n",
       "    <tr>\n",
       "      <th>4</th>\n",
       "      <td>07</td>\n",
       "      <td>2019</td>\n",
       "    </tr>\n",
       "    <tr>\n",
       "      <th>5</th>\n",
       "      <td>06</td>\n",
       "      <td>2022</td>\n",
       "    </tr>\n",
       "    <tr>\n",
       "      <th>6</th>\n",
       "      <td>01</td>\n",
       "      <td>2022</td>\n",
       "    </tr>\n",
       "    <tr>\n",
       "      <th>7</th>\n",
       "      <td>11</td>\n",
       "      <td>2020</td>\n",
       "    </tr>\n",
       "    <tr>\n",
       "      <th>8</th>\n",
       "      <td>04</td>\n",
       "      <td>2019</td>\n",
       "    </tr>\n",
       "    <tr>\n",
       "      <th>9</th>\n",
       "      <td>08</td>\n",
       "      <td>2020</td>\n",
       "    </tr>\n",
       "    <tr>\n",
       "      <th>10</th>\n",
       "      <td>04</td>\n",
       "      <td>2022</td>\n",
       "    </tr>\n",
       "  </tbody>\n",
       "</table>\n",
       "</div>"
      ],
      "text/plain": [
       "     0     1\n",
       "0   06  2020\n",
       "1   11  2020\n",
       "2   10  2019\n",
       "3   05  2022\n",
       "4   07  2019\n",
       "5   06  2022\n",
       "6   01  2022\n",
       "7   11  2020\n",
       "8   04  2019\n",
       "9   08  2020\n",
       "10  04  2022"
      ]
     },
     "execution_count": 109,
     "metadata": {},
     "output_type": "execute_result"
    }
   ],
   "source": [
    "result = s.str.extract('(\\d{2}).(\\d{4})')\n",
    "result"
   ]
  },
  {
   "cell_type": "code",
   "execution_count": null,
   "id": "5f6e0423-18a3-4bba-bbd1-4713a1cf673f",
   "metadata": {},
   "outputs": [],
   "source": []
  }
 ],
 "metadata": {
  "kernelspec": {
   "display_name": "Python 3",
   "language": "python",
   "name": "python3"
  },
  "language_info": {
   "codemirror_mode": {
    "name": "ipython",
    "version": 3
   },
   "file_extension": ".py",
   "mimetype": "text/x-python",
   "name": "python",
   "nbconvert_exporter": "python",
   "pygments_lexer": "ipython3",
   "version": "3.8.8"
  }
 },
 "nbformat": 4,
 "nbformat_minor": 5
}
