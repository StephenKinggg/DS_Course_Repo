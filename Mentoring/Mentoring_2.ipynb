{
 "cells": [
  {
   "cell_type": "markdown",
   "id": "0cf88e14-44cc-41f8-8534-2b59b5bdaa90",
   "metadata": {},
   "source": [
    "# Mentoring-1"
   ]
  },
  {
   "cell_type": "markdown",
   "id": "6c7d9290-bdc9-41db-bc1a-290b674c22c0",
   "metadata": {},
   "source": [
    "### NUMPY"
   ]
  },
  {
   "cell_type": "code",
   "execution_count": null,
   "id": "51469ba8-9a92-405b-9370-e35fc5b1b3b6",
   "metadata": {
    "tags": []
   },
   "outputs": [],
   "source": [
    "4. Write a NumPy program to create a null vector of size 10 and update sixth value to 11.Go to the editor\n",
    "[ 0. 0. 0. 0. 0. 0. 0. 0. 0. 0.]\n",
    "Update sixth value to 11\n",
    "[ 0. 0. 0. 0. 0. 0. 11. 0. 0. 0.]"
   ]
  },
  {
   "cell_type": "code",
   "execution_count": 4,
   "id": "ca0d4f83-9dc1-49d8-8322-eaa2eba8d92a",
   "metadata": {},
   "outputs": [
    {
     "data": {
      "text/plain": [
       "array([0., 0., 0., 0., 0., 0., 0., 0., 0., 0.])"
      ]
     },
     "execution_count": 4,
     "metadata": {},
     "output_type": "execute_result"
    }
   ],
   "source": [
    "import numpy as np\n",
    "a = np.zeros(10)\n",
    "a"
   ]
  },
  {
   "cell_type": "code",
   "execution_count": 2,
   "id": "ba88b502-9082-487f-b07c-bdf785295009",
   "metadata": {},
   "outputs": [
    {
     "data": {
      "text/plain": [
       "array([ 0.,  0.,  0.,  0.,  0.,  0., 11.,  0.,  0.,  0.])"
      ]
     },
     "execution_count": 2,
     "metadata": {},
     "output_type": "execute_result"
    }
   ],
   "source": [
    "a[6] = 11\n",
    "a"
   ]
  },
  {
   "cell_type": "code",
   "execution_count": 4,
   "id": "481107e0-5819-4797-9260-d17d596872f2",
   "metadata": {},
   "outputs": [
    {
     "ename": "SyntaxError",
     "evalue": "invalid syntax (<ipython-input-4-85b1174e4b45>, line 1)",
     "output_type": "error",
     "traceback": [
      "\u001b[1;36m  File \u001b[1;32m\"<ipython-input-4-85b1174e4b45>\"\u001b[1;36m, line \u001b[1;32m1\u001b[0m\n\u001b[1;33m    8. Write a NumPy program to create a 2d array with 1 on the border and 0 inside. Go to the editor\u001b[0m\n\u001b[1;37m       ^\u001b[0m\n\u001b[1;31mSyntaxError\u001b[0m\u001b[1;31m:\u001b[0m invalid syntax\n"
     ]
    }
   ],
   "source": [
    "8. Write a NumPy program to create a 2d array with 1 on the border and 0 inside. Go to the editor\n",
    "Expected Output:\n",
    "Original array:\n",
    "[[ 1. 1. 1. 1. 1.]\n",
    "...................\n",
    "[ 1. 1. 1. 1. 1.]]\n",
    "1 on the border and 0 inside in the array\n",
    "[[ 1. 1. 1. 1. 1.]\n",
    "...................\n",
    "[ 1. 1. 1. 1. 1.]]"
   ]
  },
  {
   "cell_type": "code",
   "execution_count": 6,
   "id": "7bb6ff63-1028-4fd6-bc88-ff5c09119598",
   "metadata": {},
   "outputs": [
    {
     "data": {
      "text/plain": [
       "array([[1., 1., 1., 1., 1.],\n",
       "       [1., 1., 1., 1., 1.],\n",
       "       [1., 1., 1., 1., 1.],\n",
       "       [1., 1., 1., 1., 1.],\n",
       "       [1., 1., 1., 1., 1.]])"
      ]
     },
     "execution_count": 6,
     "metadata": {},
     "output_type": "execute_result"
    }
   ],
   "source": [
    "import numpy as np\n",
    "a = np.ones((5,5))\n",
    "a"
   ]
  },
  {
   "cell_type": "code",
   "execution_count": 16,
   "id": "726946f8-7506-44e0-be09-fcf0d2970a9e",
   "metadata": {},
   "outputs": [
    {
     "data": {
      "text/plain": [
       "array([[1., 1., 1., 1., 1.],\n",
       "       [1., 0., 0., 0., 1.],\n",
       "       [1., 0., 0., 0., 1.],\n",
       "       [1., 0., 0., 0., 1.],\n",
       "       [1., 1., 1., 1., 1.]])"
      ]
     },
     "execution_count": 16,
     "metadata": {},
     "output_type": "execute_result"
    }
   ],
   "source": [
    "a[1:4,1:4] = 0\n",
    "a"
   ]
  },
  {
   "cell_type": "code",
   "execution_count": null,
   "id": "0cb3ff1f-599a-40de-b692-a1bd029033eb",
   "metadata": {},
   "outputs": [],
   "source": [
    "# 2. yöntem :\n",
    "a[1:4,1:4]-1.0\n",
    "a"
   ]
  },
  {
   "cell_type": "code",
   "execution_count": null,
   "id": "735d9504-8263-4701-abe1-7b4b17b3be48",
   "metadata": {},
   "outputs": [],
   "source": [
    "#slicing ile copy arasındaki fark:"
   ]
  },
  {
   "cell_type": "code",
   "execution_count": 25,
   "id": "ce2c9515-6def-44eb-bae8-a02ee5eddbcd",
   "metadata": {},
   "outputs": [
    {
     "data": {
      "text/plain": [
       "array([[1., 1., 1.],\n",
       "       [1., 0., 1.],\n",
       "       [1., 1., 1.]])"
      ]
     },
     "execution_count": 25,
     "metadata": {},
     "output_type": "execute_result"
    }
   ],
   "source": [
    "import numpy as np\n",
    "a = np.ones((5,5))\n",
    "b = a[1:4,1:4]\n",
    "b[1:2,1:2] = 0\n",
    "b"
   ]
  },
  {
   "cell_type": "code",
   "execution_count": 26,
   "id": "0946aeec-f4da-4f30-bb75-87dafb791497",
   "metadata": {},
   "outputs": [
    {
     "data": {
      "text/plain": [
       "array([[1., 1., 1., 1., 1.],\n",
       "       [1., 1., 1., 1., 1.],\n",
       "       [1., 1., 0., 1., 1.],\n",
       "       [1., 1., 1., 1., 1.],\n",
       "       [1., 1., 1., 1., 1.]])"
      ]
     },
     "execution_count": 26,
     "metadata": {},
     "output_type": "execute_result"
    }
   ],
   "source": [
    "a"
   ]
  },
  {
   "cell_type": "code",
   "execution_count": 22,
   "id": "23208b11-8b35-4686-abd7-d2c04f6c48e9",
   "metadata": {},
   "outputs": [
    {
     "data": {
      "text/plain": [
       "array([[1., 1., 1., 1., 1.],\n",
       "       [1., 0., 0., 0., 1.],\n",
       "       [1., 0., 0., 0., 1.],\n",
       "       [1., 0., 0., 0., 1.],\n",
       "       [1., 1., 1., 1., 1.]])"
      ]
     },
     "execution_count": 22,
     "metadata": {},
     "output_type": "execute_result"
    }
   ],
   "source": [
    "import numpy as np\n",
    "a = np.ones((5,5))\n",
    "b = a.copy()\n",
    "b[1:4,1:4] = 0\n",
    "b"
   ]
  },
  {
   "cell_type": "code",
   "execution_count": 23,
   "id": "700505f5-5dbf-4a12-b75a-8c8d1c73749c",
   "metadata": {},
   "outputs": [
    {
     "data": {
      "text/plain": [
       "array([[1., 1., 1., 1., 1.],\n",
       "       [1., 1., 1., 1., 1.],\n",
       "       [1., 1., 1., 1., 1.],\n",
       "       [1., 1., 1., 1., 1.],\n",
       "       [1., 1., 1., 1., 1.]])"
      ]
     },
     "execution_count": 23,
     "metadata": {},
     "output_type": "execute_result"
    }
   ],
   "source": [
    "a"
   ]
  },
  {
   "cell_type": "code",
   "execution_count": null,
   "id": "a2c79862-31e7-45ae-bac9-6fc80d22f4cb",
   "metadata": {},
   "outputs": [],
   "source": [
    "# numpy mathematics cheatsheet "
   ]
  },
  {
   "cell_type": "code",
   "execution_count": null,
   "id": "7e9263b0-197a-4604-9cd3-612bb327dc5f",
   "metadata": {},
   "outputs": [],
   "source": [
    "9. Write a NumPy program to add a border (filled with 0's) around an existing array. Go to the editor\n",
    "Expected Output:\n",
    "Original array:\n",
    "[[ 1. 1. 1.]\n",
    "[ 1. 1. 1.]\n",
    "[ 1. 1. 1.]]\n",
    "1 on the border and 0 inside in the array\n",
    "[[ 0. 0. 0. 0. 0.]\n",
    "...........\n",
    "[ 0. 0. 0. 0. 0.]]"
   ]
  },
  {
   "cell_type": "code",
   "execution_count": 27,
   "id": "26c381d4-57c8-46e3-8039-f9a559b0258a",
   "metadata": {},
   "outputs": [
    {
     "data": {
      "text/plain": [
       "array([[1., 1., 1.],\n",
       "       [1., 1., 1.],\n",
       "       [1., 1., 1.]])"
      ]
     },
     "execution_count": 27,
     "metadata": {},
     "output_type": "execute_result"
    }
   ],
   "source": [
    "a = np.ones((3,3))\n",
    "a"
   ]
  },
  {
   "cell_type": "code",
   "execution_count": 28,
   "id": "0ade34ca-8dc2-486e-b06a-f5a063e05250",
   "metadata": {},
   "outputs": [
    {
     "data": {
      "text/plain": [
       "array([[0., 0., 0., 0., 0.],\n",
       "       [0., 1., 1., 1., 0.],\n",
       "       [0., 1., 1., 1., 0.],\n",
       "       [0., 1., 1., 1., 0.],\n",
       "       [0., 0., 0., 0., 0.]])"
      ]
     },
     "execution_count": 28,
     "metadata": {},
     "output_type": "execute_result"
    }
   ],
   "source": [
    "a = np.pad(a, pad_width=1, mode='constant', constant_values=0)\n",
    "a"
   ]
  },
  {
   "cell_type": "code",
   "execution_count": 9,
   "id": "c2bd4f36-46bd-4146-8720-12abe12fc27b",
   "metadata": {},
   "outputs": [
    {
     "name": "stdout",
     "output_type": "stream",
     "text": [
      "[1, 2, 3, 4, 5]\n"
     ]
    },
    {
     "data": {
      "text/plain": [
       "array([4, 4, 1, 2, 3, 4, 5, 6, 6, 6])"
      ]
     },
     "execution_count": 9,
     "metadata": {},
     "output_type": "execute_result"
    }
   ],
   "source": [
    "a = [1, 2, 3, 4, 5]\n",
    "print(a)\n",
    "np.pad(a, (2, 3), 'constant', constant_values=(4, 6))"
   ]
  },
  {
   "cell_type": "code",
   "execution_count": 10,
   "id": "3a60e035-e3b9-4366-844b-388871b2a6f4",
   "metadata": {},
   "outputs": [
    {
     "data": {
      "text/plain": [
       "array([1, 1, 1, 2, 3, 4, 5, 5, 5, 5])"
      ]
     },
     "execution_count": 10,
     "metadata": {},
     "output_type": "execute_result"
    }
   ],
   "source": [
    "np.pad(a, (2, 3), 'edge')\n"
   ]
  },
  {
   "cell_type": "code",
   "execution_count": 11,
   "id": "0f2ddec8-20d2-42e4-ade6-d7dc0ea34fe7",
   "metadata": {},
   "outputs": [
    {
     "data": {
      "text/plain": [
       "array([ 5,  3,  1,  2,  3,  4,  5,  2, -1, -4])"
      ]
     },
     "execution_count": 11,
     "metadata": {},
     "output_type": "execute_result"
    }
   ],
   "source": [
    "np.pad(a, (2, 3), 'linear_ramp', end_values=(5, -4))"
   ]
  },
  {
   "cell_type": "code",
   "execution_count": 12,
   "id": "3b98b26b-b48c-46c4-ab1d-c5c82906dac0",
   "metadata": {},
   "outputs": [
    {
     "data": {
      "text/plain": [
       "array([5, 5, 1, 2, 3, 4, 5, 5, 5])"
      ]
     },
     "execution_count": 12,
     "metadata": {},
     "output_type": "execute_result"
    }
   ],
   "source": [
    "np.pad(a, (2,), 'maximum')"
   ]
  },
  {
   "cell_type": "code",
   "execution_count": null,
   "id": "364bc664-771e-432f-a14f-66209d40c006",
   "metadata": {},
   "outputs": [],
   "source": []
  },
  {
   "cell_type": "code",
   "execution_count": null,
   "id": "b0359022-7830-4333-89f2-cf9ec49fc597",
   "metadata": {},
   "outputs": [],
   "source": [
    "10. Write a NumPy program to create a 8x8 matrix and fill it with a checkerboard pattern. Go to the editor\n",
    "Checkerboard pattern:\n",
    "[[0 1 0 1 0 1 0 1]\n",
    "..........\n",
    "[0 1 0 1 0 1 0 1]\n",
    "[1 0 1 0 1 0 1 0]]"
   ]
  },
  {
   "cell_type": "code",
   "execution_count": 30,
   "id": "a8a07ed4-4ce2-4830-b8f6-4819e16aa28a",
   "metadata": {},
   "outputs": [
    {
     "data": {
      "text/plain": [
       "array([[0., 0., 0., 0., 0., 0., 0., 0.],\n",
       "       [0., 0., 0., 0., 0., 0., 0., 0.],\n",
       "       [0., 0., 0., 0., 0., 0., 0., 0.],\n",
       "       [0., 0., 0., 0., 0., 0., 0., 0.],\n",
       "       [0., 0., 0., 0., 0., 0., 0., 0.],\n",
       "       [0., 0., 0., 0., 0., 0., 0., 0.],\n",
       "       [0., 0., 0., 0., 0., 0., 0., 0.],\n",
       "       [0., 0., 0., 0., 0., 0., 0., 0.]])"
      ]
     },
     "execution_count": 30,
     "metadata": {},
     "output_type": "execute_result"
    }
   ],
   "source": [
    "a = np.zeros((8,8))\n",
    "a"
   ]
  },
  {
   "cell_type": "code",
   "execution_count": 31,
   "id": "6a44be77-3596-4043-9120-54e09a172f67",
   "metadata": {},
   "outputs": [
    {
     "data": {
      "text/plain": [
       "array([[0., 0., 0., 0., 0., 0., 0., 0.],\n",
       "       [1., 0., 1., 0., 1., 0., 1., 0.],\n",
       "       [0., 0., 0., 0., 0., 0., 0., 0.],\n",
       "       [1., 0., 1., 0., 1., 0., 1., 0.],\n",
       "       [0., 0., 0., 0., 0., 0., 0., 0.],\n",
       "       [1., 0., 1., 0., 1., 0., 1., 0.],\n",
       "       [0., 0., 0., 0., 0., 0., 0., 0.],\n",
       "       [1., 0., 1., 0., 1., 0., 1., 0.]])"
      ]
     },
     "execution_count": 31,
     "metadata": {},
     "output_type": "execute_result"
    }
   ],
   "source": [
    "a[1::2,::2] = 1\n",
    "a"
   ]
  },
  {
   "cell_type": "code",
   "execution_count": 32,
   "id": "c6cc035d-c8d4-482c-a1cc-c279f39845b5",
   "metadata": {},
   "outputs": [
    {
     "data": {
      "text/plain": [
       "array([[0., 1., 0., 1., 0., 1., 0., 1.],\n",
       "       [1., 0., 1., 0., 1., 0., 1., 0.],\n",
       "       [0., 1., 0., 1., 0., 1., 0., 1.],\n",
       "       [1., 0., 1., 0., 1., 0., 1., 0.],\n",
       "       [0., 1., 0., 1., 0., 1., 0., 1.],\n",
       "       [1., 0., 1., 0., 1., 0., 1., 0.],\n",
       "       [0., 1., 0., 1., 0., 1., 0., 1.],\n",
       "       [1., 0., 1., 0., 1., 0., 1., 0.]])"
      ]
     },
     "execution_count": 32,
     "metadata": {},
     "output_type": "execute_result"
    }
   ],
   "source": [
    "a[::2,1::2] = 1\n",
    "a"
   ]
  },
  {
   "cell_type": "code",
   "execution_count": null,
   "id": "4ab0cd77-1be1-465f-8539-bcbdbb99b21f",
   "metadata": {},
   "outputs": [],
   "source": [
    "12. Write a NumPy program to append values to the end of an array. Go to the editor\n",
    "Expected Output:\n",
    "Original array:\n",
    "[10, 20, 30]\n",
    "After append values to the end of the array:\n",
    "[10 20 30 40 50 60 70 80 90]"
   ]
  },
  {
   "cell_type": "code",
   "execution_count": 34,
   "id": "c0604193-fbf3-48b6-a669-b82bbf2ad610",
   "metadata": {},
   "outputs": [
    {
     "data": {
      "text/plain": [
       "array([10, 20, 30])"
      ]
     },
     "execution_count": 34,
     "metadata": {},
     "output_type": "execute_result"
    }
   ],
   "source": [
    "import numpy as np\n",
    "a = np.arange(10,40,10)\n",
    "a"
   ]
  },
  {
   "cell_type": "code",
   "execution_count": 35,
   "id": "e197eff0-9443-49c5-a59c-a440b94185f1",
   "metadata": {},
   "outputs": [
    {
     "data": {
      "text/plain": [
       "array([40, 50, 60])"
      ]
     },
     "execution_count": 35,
     "metadata": {},
     "output_type": "execute_result"
    }
   ],
   "source": [
    "b = np.arange(40,70,10)\n",
    "b"
   ]
  },
  {
   "cell_type": "code",
   "execution_count": 36,
   "id": "2fdf1755-5c50-4d89-a3a1-7c94359bcaa1",
   "metadata": {},
   "outputs": [
    {
     "data": {
      "text/plain": [
       "array([70, 80, 90])"
      ]
     },
     "execution_count": 36,
     "metadata": {},
     "output_type": "execute_result"
    }
   ],
   "source": [
    "c = np.arange(70,100,10)\n",
    "c"
   ]
  },
  {
   "cell_type": "code",
   "execution_count": 38,
   "id": "b11e5e51-cabc-4104-bb51-55d5b7c78adb",
   "metadata": {},
   "outputs": [
    {
     "data": {
      "text/plain": [
       "array([10, 20, 30, 40, 50, 60, 70, 80, 90])"
      ]
     },
     "execution_count": 38,
     "metadata": {},
     "output_type": "execute_result"
    }
   ],
   "source": [
    "d = np.append(a,[b,c])\n",
    "d"
   ]
  },
  {
   "cell_type": "code",
   "execution_count": 6,
   "id": "f6827212-dece-41a6-8df9-98d996362832",
   "metadata": {},
   "outputs": [
    {
     "data": {
      "text/plain": [
       "array([10, 20, 30, 40, 50, 60, 70, 80, 90])"
      ]
     },
     "execution_count": 6,
     "metadata": {},
     "output_type": "execute_result"
    }
   ],
   "source": [
    "e = np.append(a, [[40, 50, 60], [70, 80, 90]])\n",
    "e"
   ]
  },
  {
   "cell_type": "code",
   "execution_count": null,
   "id": "55f4cfeb-b769-4c7e-b4de-191d111a6ca7",
   "metadata": {},
   "outputs": [],
   "source": [
    "14. Write a NumPy program to convert the values of Centigrade degrees into Fahrenheit degrees. Centigrade values are stored into a NumPy array. Go to the editor\n",
    "Sample Array [0, 12, 45.21 ,34, 99.91]\n",
    "Expected Output:\n",
    "Values in Fahrenheit degrees:\n",
    "[ 0. 12. 45.21 34. 99.91]\n",
    "Values in Centigrade degrees:\n",
    "[-17.77777778 -11.11111111 7.33888889 1.11111111 37.72777778]"
   ]
  },
  {
   "cell_type": "code",
   "execution_count": 12,
   "id": "7c551e67-05e5-4631-b145-2ca51f3cce85",
   "metadata": {},
   "outputs": [
    {
     "data": {
      "text/plain": [
       "array([-17.77777778, -11.11111111,   7.33888889,   1.11111111,\n",
       "        37.72777778])"
      ]
     },
     "execution_count": 12,
     "metadata": {},
     "output_type": "execute_result"
    }
   ],
   "source": [
    "import numpy as np\n",
    "Fahr = np.array([0, 12, 45.21 ,34, 99.91])\n",
    "Cent = np.subtract(Fahr,32)\n",
    "Cent = np.multiply(Cent,5)\n",
    "Cent = np.divide(Cent,9)\n",
    "Cent"
   ]
  },
  {
   "cell_type": "code",
   "execution_count": 13,
   "id": "b3d6f865-847a-440d-87cf-e2fdeaf4714b",
   "metadata": {},
   "outputs": [
    {
     "name": "stdout",
     "output_type": "stream",
     "text": [
      "[-17.77777778 -11.11111111   7.33888889   1.11111111  37.72777778]\n"
     ]
    }
   ],
   "source": [
    "#2.yöntem\n",
    "import numpy as np\n",
    "\n",
    "F = np.array([0, 12, 45.21, 34, 99.91])\n",
    "print(5*F/9 - 5*32/9)\n"
   ]
  },
  {
   "cell_type": "code",
   "execution_count": null,
   "id": "fb938ce8-2f51-4116-84f0-236b9719084b",
   "metadata": {},
   "outputs": [],
   "source": [
    "19. Write a NumPy program to get the unique elements of an array. Go to the editor\n",
    "Expected Output:\n",
    "Original array:\n",
    "[10 10 20 20 30 30]\n",
    "Unique elements of the above array:\n",
    "[10 20 30]\n",
    "Original array:\n",
    "[[1 1]\n",
    "[2 3]]\n",
    "Unique elements of the above array:\n",
    "[1 2 3]"
   ]
  },
  {
   "cell_type": "code",
   "execution_count": 43,
   "id": "568a7fda-bab9-4923-8fe1-abcd328dbdc2",
   "metadata": {},
   "outputs": [
    {
     "name": "stdout",
     "output_type": "stream",
     "text": [
      "[10 20 30]\n",
      "[10 10 20 20 30 30]\n"
     ]
    }
   ],
   "source": [
    "import numpy as np\n",
    "a = np.array([10, 10, 20, 20, 30, 30])\n",
    "print(np.unique(a))\n",
    "print(a)"
   ]
  },
  {
   "cell_type": "code",
   "execution_count": 57,
   "id": "368983f9-0b34-4f39-a34c-90e59ce9664b",
   "metadata": {},
   "outputs": [
    {
     "data": {
      "text/plain": [
       "array([[1, 1],\n",
       "       [2, 3]])"
      ]
     },
     "execution_count": 57,
     "metadata": {},
     "output_type": "execute_result"
    }
   ],
   "source": [
    "a = np.array([[1, 1], [2, 3]])\n",
    "a"
   ]
  },
  {
   "cell_type": "code",
   "execution_count": 58,
   "id": "91867831-171f-4987-ab03-a53679180ca0",
   "metadata": {},
   "outputs": [
    {
     "name": "stdout",
     "output_type": "stream",
     "text": [
      "[1 2 3]\n"
     ]
    }
   ],
   "source": [
    "print(np.unique(a))"
   ]
  },
  {
   "cell_type": "code",
   "execution_count": 62,
   "id": "c0b4d879-546b-4fa5-9a66-fb96c1df470a",
   "metadata": {},
   "outputs": [
    {
     "data": {
      "text/plain": [
       "array([[1, 2, 3],\n",
       "       [4, 5, 6],\n",
       "       [7, 8, 9]])"
      ]
     },
     "execution_count": 62,
     "metadata": {},
     "output_type": "execute_result"
    }
   ],
   "source": [
    "a = np.arange(1,10).reshape(3,3)\n",
    "a"
   ]
  },
  {
   "cell_type": "code",
   "execution_count": 64,
   "id": "6f332c68-c833-4287-ba0d-127d14ff7d4a",
   "metadata": {},
   "outputs": [
    {
     "name": "stdout",
     "output_type": "stream",
     "text": [
      "[[1 5 5]\n",
      " [4 5 6]\n",
      " [7 8 9]]\n",
      "[1 4 5 6 7 8 9]\n"
     ]
    }
   ],
   "source": [
    "a[0:1,1:3]=5\n",
    "print(a)\n",
    "print(np.unique(a))"
   ]
  },
  {
   "cell_type": "code",
   "execution_count": 68,
   "id": "4a049906-be13-47a8-a4e3-b6988c01efd9",
   "metadata": {},
   "outputs": [
    {
     "name": "stdout",
     "output_type": "stream",
     "text": [
      "[10 10 20 30 30 40 40 50]\n",
      "[10 20 40 40 50 30 30 10]\n"
     ]
    }
   ],
   "source": [
    "# method ile func arasındaki fark\n",
    "import numpy as np\n",
    "a = np.array([10,20,40,40,50,30,30,10])\n",
    "print(np.sort(a))\n",
    "print(a)"
   ]
  },
  {
   "cell_type": "code",
   "execution_count": 71,
   "id": "b684427a-8906-4a47-8e46-793cca8a7246",
   "metadata": {},
   "outputs": [
    {
     "data": {
      "text/plain": [
       "array([10, 10, 20, 30, 30, 40, 40, 50])"
      ]
     },
     "execution_count": 71,
     "metadata": {},
     "output_type": "execute_result"
    }
   ],
   "source": [
    "a.sort()\n",
    "a"
   ]
  },
  {
   "cell_type": "code",
   "execution_count": 72,
   "id": "ea43d11c-9c69-467e-9323-4e1082cd9a27",
   "metadata": {},
   "outputs": [
    {
     "name": "stdout",
     "output_type": "stream",
     "text": [
      "[10 10 20 30 30 40 40 50]\n"
     ]
    }
   ],
   "source": [
    "print(a)"
   ]
  },
  {
   "cell_type": "markdown",
   "id": "2840cf0a-7c88-4b64-9180-7f2c5ef2d1cc",
   "metadata": {},
   "source": [
    "### PANDAS"
   ]
  },
  {
   "cell_type": "code",
   "execution_count": null,
   "id": "28dbb18f-1aca-4ed2-9132-b7058e3d019b",
   "metadata": {},
   "outputs": [],
   "source": [
    "2. Write a Pandas program to convert a Pandas module Series to Python list and it's type."
   ]
  },
  {
   "cell_type": "code",
   "execution_count": null,
   "id": "2bd2fcf8-7395-46f4-8853-0b83cf0c91ab",
   "metadata": {},
   "outputs": [],
   "source": []
  }
 ],
 "metadata": {
  "kernelspec": {
   "display_name": "Python 3",
   "language": "python",
   "name": "python3"
  },
  "language_info": {
   "codemirror_mode": {
    "name": "ipython",
    "version": 3
   },
   "file_extension": ".py",
   "mimetype": "text/x-python",
   "name": "python",
   "nbconvert_exporter": "python",
   "pygments_lexer": "ipython3",
   "version": "3.8.8"
  }
 },
 "nbformat": 4,
 "nbformat_minor": 5
}
