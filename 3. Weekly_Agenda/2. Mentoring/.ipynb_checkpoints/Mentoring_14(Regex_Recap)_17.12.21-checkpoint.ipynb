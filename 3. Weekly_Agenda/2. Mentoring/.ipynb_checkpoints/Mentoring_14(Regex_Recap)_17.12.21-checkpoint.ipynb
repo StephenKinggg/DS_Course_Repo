{
 "cells": [
  {
   "cell_type": "markdown",
   "id": "bd011e2e-e96e-4769-b8bc-f2fd1e3172d7",
   "metadata": {},
   "source": [
    ".       - Any Character Except New Line         ## yeni satır karakteri hariç bütün karakterleri temsil etmek için kullanılır.\n",
    "\n",
    "\\d      - Digit (0-9)\n",
    "\n",
    "\\D      - Not a Digit (0-9)\n",
    "\n",
    "\\w      - Word Character (a-z, A-Z, 0-9, _)\n",
    "\n",
    "\\W      - Not a Word Character\n",
    "\n",
    "\\s      - Whitespace (space, tab, newline)\n",
    "\n",
    "\\S      - Not Whitespace (space, tab, newline)\n",
    "\n",
    "\n",
    "\\b      - Word Boundary\n",
    "\n",
    "\\B      - Not a Word Boundary\n",
    "\n",
    "^       - Beginning of a String\n",
    "\n",
    "$       - End of a String\n",
    "\n",
    "\n",
    "[]      - Matches Characters in brackets\n",
    "\n",
    "[^ ]    - Matches Characters NOT in brackets\n",
    "\n",
    "|       - Either Or\n",
    "\n",
    "( )     - Group\n",
    "\n",
    "\n",
    "Quantifiers:\n",
    "\n",
    "*       - 0 or More\n",
    "\n",
    "+       - 1 or More\n",
    "\n",
    "?       - 0 or One\n",
    "\n",
    "{3}     - Exact Number\n",
    "\n",
    "{3,4}   - Range of Numbers (Minimum, Maximum)\n",
    "\n",
    "\n",
    "\n",
    "#### Sample Regexs ####\n",
    "\n",
    "\n",
    "[a-zA-Z0-9_.+-]+@[a-zA-Z0-9-]+\\.[a-zA-Z0-9-.]+"
   ]
  },
  {
   "cell_type": "code",
   "execution_count": 133,
   "id": "3f6ad2b1-3c89-4b67-b8dc-d8ac213bc5b9",
   "metadata": {},
   "outputs": [],
   "source": [
    "import re\n",
    "import pandas as pd\n",
    "import numpy as np"
   ]
  },
  {
   "cell_type": "markdown",
   "id": "9ac41f81-fb9b-4139-98bb-8856279ddd84",
   "metadata": {},
   "source": [
    "## findall (find-all)"
   ]
  },
  {
   "cell_type": "code",
   "execution_count": null,
   "id": "2ff49a63-82b6-4f62-9478-5f7916186ac7",
   "metadata": {},
   "outputs": [],
   "source": [
    "## findall (find-all)  re.findall(\"Python\", metin) metin içinde ne kadar Python kelimesi geçiyorsa bulur. Yani genel kapsamlı \"serch\" için kullanılır"
   ]
  },
  {
   "cell_type": "code",
   "execution_count": 170,
   "id": "205d713c-a477-4896-a642-80cde2390820",
   "metadata": {},
   "outputs": [],
   "source": [
    "NameAge = \"\"\"Jenice is 22 and Theon is 33\n",
    "             Gabriel is 44 and Jonet is 21\"\"\""
   ]
  },
  {
   "cell_type": "code",
   "execution_count": 174,
   "id": "54623d21-4196-43b3-94f6-f309a2a39c22",
   "metadata": {},
   "outputs": [],
   "source": [
    "ages = re.findall(\"\\d{1,3}\", NameAge)\n",
    "names = re.findall(\"[A-Z][a-z]*\", NameAge)"
   ]
  },
  {
   "cell_type": "code",
   "execution_count": 165,
   "id": "4da4c684-a8b7-4f12-895c-0d33f40681c0",
   "metadata": {},
   "outputs": [
    {
     "name": "stdout",
     "output_type": "stream",
     "text": [
      "['22', '33', '44', '21']\n"
     ]
    }
   ],
   "source": [
    "print(ages)"
   ]
  },
  {
   "cell_type": "code",
   "execution_count": 175,
   "id": "a6628907-a7db-4f94-bd14-8402afdaaef2",
   "metadata": {},
   "outputs": [
    {
     "name": "stdout",
     "output_type": "stream",
     "text": [
      "{'Gabriel2': '22'}\n"
     ]
    }
   ],
   "source": [
    "ageDict = {}\n",
    "\n",
    "x = 0\n",
    "\n",
    "for eachname in names :\n",
    "    ageDict[eachname] = ages[x]\n",
    "    x += 1\n",
    "    \n",
    "print(ageDict)"
   ]
  },
  {
   "cell_type": "code",
   "execution_count": null,
   "id": "66db8f5e-3ac2-4938-94b5-7799a7478ba4",
   "metadata": {},
   "outputs": [],
   "source": []
  },
  {
   "cell_type": "markdown",
   "id": "6d58bb8e-0c68-4500-a915-a83d00d2c9b2",
   "metadata": {},
   "source": [
    "## search"
   ]
  },
  {
   "cell_type": "code",
   "execution_count": null,
   "id": "2aca0bda-1e00-44f0-a45c-08fcce63ee4c",
   "metadata": {},
   "outputs": [],
   "source": [
    "## search bir karakter dizisi içinde eşleşen karakterleri arar, eğer eşleşen karakter dizisi bulamazsa \"None\" verir."
   ]
  },
  {
   "cell_type": "code",
   "execution_count": 176,
   "id": "0ed16ce0-7de9-44c8-a83d-50d14cd46232",
   "metadata": {},
   "outputs": [],
   "source": [
    "a = \"Python güçlü bir dildir\"\n",
    "b= re.search(\"güçlü\", a)"
   ]
  },
  {
   "cell_type": "code",
   "execution_count": 177,
   "id": "b22a6fdd-c804-451a-8483-603e8f7687fa",
   "metadata": {},
   "outputs": [
    {
     "data": {
      "text/plain": [
       "'güçlü'"
      ]
     },
     "execution_count": 177,
     "metadata": {},
     "output_type": "execute_result"
    }
   ],
   "source": [
    "b.group()"
   ]
  },
  {
   "cell_type": "code",
   "execution_count": 12,
   "id": "a4530860-0696-40cc-8f1b-9151d665c9f1",
   "metadata": {},
   "outputs": [
    {
     "data": {
      "text/plain": [
       "(7, 12)"
      ]
     },
     "execution_count": 12,
     "metadata": {},
     "output_type": "execute_result"
    }
   ],
   "source": [
    "b.span()"
   ]
  },
  {
   "cell_type": "code",
   "execution_count": 188,
   "id": "6ef3ee7e-35a6-4a72-aa3f-ec1d8e08ca4a",
   "metadata": {},
   "outputs": [],
   "source": [
    "lis = [\"elma\", \"armut\", \"kiraz\"]"
   ]
  },
  {
   "cell_type": "code",
   "execution_count": 189,
   "id": "077fe5f2-0ec5-48fb-8d48-657d477ff4fa",
   "metadata": {},
   "outputs": [
    {
     "ename": "TypeError",
     "evalue": "expected string or bytes-like object",
     "output_type": "error",
     "traceback": [
      "\u001b[1;31m---------------------------------------------------------------------------\u001b[0m",
      "\u001b[1;31mTypeError\u001b[0m                                 Traceback (most recent call last)",
      "\u001b[1;32m<ipython-input-189-fd0692f30f0d>\u001b[0m in \u001b[0;36m<module>\u001b[1;34m\u001b[0m\n\u001b[1;32m----> 1\u001b[1;33m \u001b[0mre\u001b[0m\u001b[1;33m.\u001b[0m\u001b[0msearch\u001b[0m\u001b[1;33m(\u001b[0m\u001b[1;34m\"kiraz\"\u001b[0m\u001b[1;33m,\u001b[0m \u001b[0mlis\u001b[0m\u001b[1;33m)\u001b[0m\u001b[1;33m\u001b[0m\u001b[1;33m\u001b[0m\u001b[0m\n\u001b[0m",
      "\u001b[1;32m~\\anaconda3\\lib\\re.py\u001b[0m in \u001b[0;36msearch\u001b[1;34m(pattern, string, flags)\u001b[0m\n\u001b[0;32m    199\u001b[0m     \"\"\"Scan through string looking for a match to the pattern, returning\n\u001b[0;32m    200\u001b[0m     a Match object, or None if no match was found.\"\"\"\n\u001b[1;32m--> 201\u001b[1;33m     \u001b[1;32mreturn\u001b[0m \u001b[0m_compile\u001b[0m\u001b[1;33m(\u001b[0m\u001b[0mpattern\u001b[0m\u001b[1;33m,\u001b[0m \u001b[0mflags\u001b[0m\u001b[1;33m)\u001b[0m\u001b[1;33m.\u001b[0m\u001b[0msearch\u001b[0m\u001b[1;33m(\u001b[0m\u001b[0mstring\u001b[0m\u001b[1;33m)\u001b[0m\u001b[1;33m\u001b[0m\u001b[1;33m\u001b[0m\u001b[0m\n\u001b[0m\u001b[0;32m    202\u001b[0m \u001b[1;33m\u001b[0m\u001b[0m\n\u001b[0;32m    203\u001b[0m \u001b[1;32mdef\u001b[0m \u001b[0msub\u001b[0m\u001b[1;33m(\u001b[0m\u001b[0mpattern\u001b[0m\u001b[1;33m,\u001b[0m \u001b[0mrepl\u001b[0m\u001b[1;33m,\u001b[0m \u001b[0mstring\u001b[0m\u001b[1;33m,\u001b[0m \u001b[0mcount\u001b[0m\u001b[1;33m=\u001b[0m\u001b[1;36m0\u001b[0m\u001b[1;33m,\u001b[0m \u001b[0mflags\u001b[0m\u001b[1;33m=\u001b[0m\u001b[1;36m0\u001b[0m\u001b[1;33m)\u001b[0m\u001b[1;33m:\u001b[0m\u001b[1;33m\u001b[0m\u001b[1;33m\u001b[0m\u001b[0m\n",
      "\u001b[1;31mTypeError\u001b[0m: expected string or bytes-like object"
     ]
    }
   ],
   "source": [
    "re.search(\"kiraz\", lis)"
   ]
  },
  {
   "cell_type": "code",
   "execution_count": 191,
   "id": "f39eaa97-ef6a-4550-8342-a1514c360558",
   "metadata": {},
   "outputs": [
    {
     "name": "stdout",
     "output_type": "stream",
     "text": [
      "kiraz\n"
     ]
    }
   ],
   "source": [
    "for i in lis:\n",
    "    if re.search(\"kiraz\", i):\n",
    "        print(i)"
   ]
  },
  {
   "cell_type": "code",
   "execution_count": 19,
   "id": "a80b30d4-f5ce-4e10-8152-0e92bffd50ab",
   "metadata": {},
   "outputs": [],
   "source": [
    "liste[2] = \"kivi\""
   ]
  },
  {
   "cell_type": "code",
   "execution_count": 3,
   "id": "6bf81ef9-3125-4a04-9351-2627b0ae42d1",
   "metadata": {},
   "outputs": [
    {
     "name": "stdout",
     "output_type": "stream",
     "text": [
      "kaptın bu işi\n"
     ]
    }
   ],
   "source": [
    "if re.search(\"inform\", \"we need to inform him with the latest information\"):\n",
    "    print(\"kaptın bu işi\")"
   ]
  },
  {
   "cell_type": "code",
   "execution_count": 4,
   "id": "1c42f0cd-d13a-44ca-a151-d5b5b2e7d8e2",
   "metadata": {},
   "outputs": [
    {
     "name": "stdout",
     "output_type": "stream",
     "text": [
      "inform\n",
      "inform\n"
     ]
    }
   ],
   "source": [
    "x = re.findall(\"inform\", \"we need to inform him with the latest information\")\n",
    "for i in x:\n",
    "    print(i)"
   ]
  },
  {
   "cell_type": "code",
   "execution_count": 193,
   "id": "c429bf19-c4e2-461e-bf56-ec8b38db81a9",
   "metadata": {},
   "outputs": [],
   "source": [
    "text = \"A78L41K\""
   ]
  },
  {
   "cell_type": "code",
   "execution_count": 197,
   "id": "20e86ac5-2060-4d7e-b99b-8abe0833d6af",
   "metadata": {},
   "outputs": [
    {
     "data": {
      "text/plain": [
       "<re.Match object; span=(1, 3), match='78'>"
      ]
     },
     "execution_count": 197,
     "metadata": {},
     "output_type": "execute_result"
    }
   ],
   "source": [
    "num = re.search(\"\\d+\", text)\n",
    "num"
   ]
  },
  {
   "cell_type": "code",
   "execution_count": 74,
   "id": "e6006e2b-d295-4635-a1d3-cbb7f2506a47",
   "metadata": {},
   "outputs": [
    {
     "data": {
      "text/plain": [
       "'78'"
      ]
     },
     "execution_count": 74,
     "metadata": {},
     "output_type": "execute_result"
    }
   ],
   "source": [
    "num.group()"
   ]
  },
  {
   "cell_type": "code",
   "execution_count": 77,
   "id": "b627c58a-a5df-4c89-b736-75c6c4f1d8b6",
   "metadata": {},
   "outputs": [],
   "source": [
    "text = \"8PM19NIM\""
   ]
  },
  {
   "cell_type": "code",
   "execution_count": 80,
   "id": "a4b24818-2349-4d74-a296-a76b37913205",
   "metadata": {},
   "outputs": [
    {
     "data": {
      "text/plain": [
       "<re.Match object; span=(1, 2), match='P'>"
      ]
     },
     "execution_count": 80,
     "metadata": {},
     "output_type": "execute_result"
    }
   ],
   "source": [
    "nondigi= re.search(\"\\D\", text)\n",
    "nondigi"
   ]
  },
  {
   "cell_type": "code",
   "execution_count": 204,
   "id": "d9bab501-652c-4092-8a64-314b15094a7f",
   "metadata": {},
   "outputs": [],
   "source": [
    "text = \"my phone number is 555-666-7777\""
   ]
  },
  {
   "cell_type": "code",
   "execution_count": 207,
   "id": "dd61fa6e-e8b9-41b6-a0b4-a3c59ebc41c4",
   "metadata": {},
   "outputs": [
    {
     "data": {
      "text/plain": [
       "['555', '666', '7777']"
      ]
     },
     "execution_count": 207,
     "metadata": {},
     "output_type": "execute_result"
    }
   ],
   "source": [
    "telno = re.findall(\"\\d+\", text)\n",
    "telno"
   ]
  },
  {
   "cell_type": "code",
   "execution_count": 115,
   "id": "59f476b3-8c74-4c7b-813c-110c5969ab2c",
   "metadata": {},
   "outputs": [
    {
     "data": {
      "text/plain": [
       "'555-666-7777'"
      ]
     },
     "execution_count": 115,
     "metadata": {},
     "output_type": "execute_result"
    }
   ],
   "source": [
    "telno = re.search(\"(\\d\\d\\d)-(\\d\\d\\d)-(\\d\\d\\d\\d)\", text)\n",
    "telno.group()"
   ]
  },
  {
   "cell_type": "code",
   "execution_count": 119,
   "id": "2a21e1c0-0398-49af-8853-d56f677dd3eb",
   "metadata": {},
   "outputs": [
    {
     "data": {
      "text/plain": [
       "<re.Match object; span=(19, 31), match='555-666-7777'>"
      ]
     },
     "execution_count": 119,
     "metadata": {},
     "output_type": "execute_result"
    }
   ],
   "source": [
    "telno = re.search(\"\\d+\"  +  \"-\"  +  \"\\d+\"  +  \"-\"  +  \"\\d+\", text)\n",
    "telno"
   ]
  },
  {
   "cell_type": "code",
   "execution_count": 208,
   "id": "a06a758a-140f-45b5-9e8f-2a4224869599",
   "metadata": {},
   "outputs": [],
   "source": [
    "value = \"O 1, t 10, o 100. 100000\""
   ]
  },
  {
   "cell_type": "code",
   "execution_count": 210,
   "id": "71466a0b-94b7-402a-9f3e-7cbfd0791b72",
   "metadata": {},
   "outputs": [
    {
     "data": {
      "text/plain": [
       "['10', '10', '10', '00', '00']"
      ]
     },
     "execution_count": 210,
     "metadata": {},
     "output_type": "execute_result"
    }
   ],
   "source": [
    "re.findall(\"\\d{2}\", value)"
   ]
  },
  {
   "cell_type": "code",
   "execution_count": 211,
   "id": "96337fcb-8c62-4e1c-aa6b-5a748f5476b2",
   "metadata": {},
   "outputs": [
    {
     "data": {
      "text/plain": [
       "['1', '10', '100', '100000']"
      ]
     },
     "execution_count": 211,
     "metadata": {},
     "output_type": "execute_result"
    }
   ],
   "source": [
    "re.findall(\"\\d{1,6}\", value)"
   ]
  },
  {
   "cell_type": "markdown",
   "id": "92122a2b-1645-4175-8495-e49cddeb9cb8",
   "metadata": {},
   "source": [
    "## [ ] (Köşeli Parantez)"
   ]
  },
  {
   "cell_type": "code",
   "execution_count": 5,
   "id": "bd9b9603-c09e-4fec-b7e7-599092fd0c09",
   "metadata": {},
   "outputs": [],
   "source": [
    "a = [\"23BH56\",\"TY76Z\",\"4Y7UZ\",\"TYUDZ\",\"34534\"]"
   ]
  },
  {
   "cell_type": "code",
   "execution_count": 217,
   "id": "646b480f-e0f6-46d6-9e3f-20353b25ed23",
   "metadata": {},
   "outputs": [
    {
     "name": "stdout",
     "output_type": "stream",
     "text": [
      "None\n"
     ]
    }
   ],
   "source": [
    "c = re.match(\"[0-9]\", \"ab\")\n",
    "print(c)"
   ]
  },
  {
   "cell_type": "code",
   "execution_count": 38,
   "id": "81d56b21-377c-4a78-80e7-d667e876c777",
   "metadata": {},
   "outputs": [
    {
     "name": "stdout",
     "output_type": "stream",
     "text": [
      "23BH56\n",
      "4Y7UZ\n",
      "34534\n"
     ]
    }
   ],
   "source": [
    "for i in a:\n",
    "    if re.match(\"[0-9]\", i):\n",
    "        print(i)"
   ]
  },
  {
   "cell_type": "code",
   "execution_count": null,
   "id": "5db26464-8984-41d6-a4c4-2b6f4cbd5291",
   "metadata": {},
   "outputs": [],
   "source": [
    "## TY76Z çıkarmak istedik nasıl yapıcaz?"
   ]
  },
  {
   "cell_type": "code",
   "execution_count": 6,
   "id": "25465e2c-3b44-41d7-b984-0c04a04ed368",
   "metadata": {},
   "outputs": [
    {
     "name": "stdout",
     "output_type": "stream",
     "text": [
      "TY76Z\n"
     ]
    }
   ],
   "source": [
    "for i in a:\n",
    "    if re.match(\"[A-Z][A-Z][0-9]\", i):\n",
    "        print(i)\n",
    "\n",
    "## [A-Z][A-Z][0-9]"
   ]
  },
  {
   "cell_type": "code",
   "execution_count": 7,
   "id": "72341cc0-6a5f-46cc-9e6f-4749b3f10c0f",
   "metadata": {},
   "outputs": [
    {
     "data": {
      "text/plain": [
       "<re.Match object; span=(15, 16), match='v'>"
      ]
     },
     "execution_count": 7,
     "metadata": {},
     "output_type": "execute_result"
    }
   ],
   "source": [
    "regex = \"v\"\n",
    "target = \"Paris is for lovers\"\n",
    "re.search(regex, target)"
   ]
  },
  {
   "cell_type": "markdown",
   "id": "52f57516-4cb6-485e-9f4d-87ceee23c8b7",
   "metadata": {},
   "source": [
    "## . (nokta)"
   ]
  },
  {
   "cell_type": "code",
   "execution_count": 223,
   "id": "af30ad76-d168-4ac7-a42a-d884b0a5bc68",
   "metadata": {},
   "outputs": [
    {
     "data": {
      "text/plain": [
       "['esma', 'esra']"
      ]
     },
     "execution_count": 223,
     "metadata": {},
     "output_type": "execute_result"
    }
   ],
   "source": [
    "kızlar = \"esma, esra, ayşe ve zeynep bugun okula gittiler\"\n",
    "re.findall(\"es.a\", kızlar)"
   ]
  },
  {
   "cell_type": "code",
   "execution_count": 18,
   "id": "23909078-5f71-4cb3-9271-166c1f6b3573",
   "metadata": {},
   "outputs": [],
   "source": [
    "a = ['23BH56', 'TY76Z', '4Y7UZ', 'TYUDZ',\n",
    "'34534', \"1agAY54\"]"
   ]
  },
  {
   "cell_type": "code",
   "execution_count": 21,
   "id": "83462f14-faa0-42b8-9349-5eb4880d66e5",
   "metadata": {},
   "outputs": [
    {
     "name": "stdout",
     "output_type": "stream",
     "text": [
      "23BH56\n",
      "34534\n",
      "1agAY54\n"
     ]
    }
   ],
   "source": [
    "for i in a:                      ## Herhangi bir karakter ile başlayacak.(Sayı,harf veya karakter)\n",
    "   if re.match(\".[0-9a-z]\", i):  ## Ardından bir sayı veya küçük harflerden herhangi birisi gelecek.\n",
    "    print(i)                     ## Devamındaki karakterler ne olursa olsun "
   ]
  },
  {
   "cell_type": "markdown",
   "id": "b00a75bf-ac60-4678-be1e-ac1d3ff2d297",
   "metadata": {},
   "source": [
    "## * (Yıldız)"
   ]
  },
  {
   "cell_type": "code",
   "execution_count": null,
   "id": "b9ca48e9-a733-4e45-aeed-37c4cab0449e",
   "metadata": {},
   "outputs": [],
   "source": [
    "## yıldık karekteri kendinden önce gelen karekterin tekrarlandığı veya hiç tekrarlanmadığı durumları bulmak \n",
    "## için kullanılır. Ancak diğer şartlarada uygun olması gerekir. Burda \"s\" olacak \"a\" dan önce ve sonrasında\n",
    "## \"t\" olacak."
   ]
  },
  {
   "cell_type": "code",
   "execution_count": 22,
   "id": "d3b532b9-511d-4809-8ca2-049029541d89",
   "metadata": {},
   "outputs": [
    {
     "name": "stdout",
     "output_type": "stream",
     "text": [
      "st\n",
      "sat\n",
      "saat\n",
      "saaat\n"
     ]
    }
   ],
   "source": [
    "t = [\"st\", \"sat\", \"saat\", \"saaat\", \"falanca\"]\n",
    "\n",
    "for i in t:\n",
    "    if re.match(\"sa*t\", i):\n",
    "        print(i)"
   ]
  },
  {
   "cell_type": "code",
   "execution_count": 23,
   "id": "bb8c0556-d2bb-4b09-a9b6-d2999a3d842b",
   "metadata": {},
   "outputs": [
    {
     "name": "stdout",
     "output_type": "stream",
     "text": [
      "ahmet\n",
      "ismet\n",
      "mehmet\n"
     ]
    }
   ],
   "source": [
    "w = [\"ahmet\", \"recep\", \"ismet\", \"mehmet\", \"izzet\"]\n",
    "for i in w:\n",
    "    if re.match(\".*met\", i):\n",
    "        print(i)"
   ]
  },
  {
   "cell_type": "markdown",
   "id": "2d0c704c-bda7-424a-b557-0eb697740b87",
   "metadata": {},
   "source": [
    "## + (Artı)"
   ]
  },
  {
   "cell_type": "code",
   "execution_count": 225,
   "id": "ee9865d1-9b35-4d90-b07b-17d76560e8a2",
   "metadata": {},
   "outputs": [
    {
     "name": "stdout",
     "output_type": "stream",
     "text": [
      "ahmet\n",
      "mehmet\n",
      "2met\n"
     ]
    }
   ],
   "source": [
    "b = [\"ahmet\", \"mehmet\", \"2met\", \"zeynep\"]\n",
    "\n",
    "for i in b:\n",
    "    if re.match(\".+met\", i) :\n",
    "        print(i)"
   ]
  },
  {
   "cell_type": "code",
   "execution_count": 231,
   "id": "515ada0b-35ca-492c-8371-829252ada242",
   "metadata": {},
   "outputs": [
    {
     "data": {
      "text/plain": [
       "['ahmet ve mehmet bugun met']"
      ]
     },
     "execution_count": 231,
     "metadata": {},
     "output_type": "execute_result"
    }
   ],
   "source": [
    "a = \"ahmet ve mehmet bugun met okuldan gec geldiler\"\n",
    "re.findall(\".+met\", a)"
   ]
  },
  {
   "cell_type": "code",
   "execution_count": null,
   "id": "3c870adc-4ea4-4714-bffc-8bedd945c845",
   "metadata": {},
   "outputs": [],
   "source": [
    "re.match(\"[A-Z]+[0-9]\",x)  ## ne demek olabilir."
   ]
  },
  {
   "cell_type": "code",
   "execution_count": null,
   "id": "dff4c3f4-d399-471c-a146-5d91045fcfe9",
   "metadata": {},
   "outputs": [],
   "source": []
  },
  {
   "cell_type": "markdown",
   "id": "13d05f50-628c-46a4-b9e6-62cb7137b8f8",
   "metadata": {},
   "source": [
    "## { } (Küme Parantezi)¶"
   ]
  },
  {
   "cell_type": "code",
   "execution_count": 233,
   "id": "79439625-613b-4408-a06b-5bd22c7e5d8f",
   "metadata": {},
   "outputs": [
    {
     "name": "stdout",
     "output_type": "stream",
     "text": [
      "st\n",
      "sat\n",
      "saat\n",
      "saaat\n"
     ]
    }
   ],
   "source": [
    "b = [\"st\", \"sat\", \"saat\", \"saaat\"]\n",
    "for i in b:\n",
    "    if re.match(\"sa{0,3}\", i):\n",
    "        print(i)"
   ]
  },
  {
   "cell_type": "code",
   "execution_count": 46,
   "id": "822b7f8d-c681-425f-9b69-e1ff2edd9933",
   "metadata": {},
   "outputs": [
    {
     "name": "stdout",
     "output_type": "stream",
     "text": [
      "st\n",
      "sat\n",
      "saat\n",
      "saaat\n"
     ]
    }
   ],
   "source": [
    "b = [\"st\", \"sat\", \"saat\", \"saaat\"]\n",
    "for i in b:\n",
    "    if re.match(\"sa{0,3}\", i):\n",
    "        print(i)"
   ]
  },
  {
   "cell_type": "markdown",
   "id": "5e3a77c1-6183-43bc-a5cc-9474262425d6",
   "metadata": {},
   "source": [
    "## ^ (Şapka)"
   ]
  },
  {
   "cell_type": "code",
   "execution_count": 48,
   "id": "09e7554c-76f3-4b75-94c6-8021fc678c70",
   "metadata": {},
   "outputs": [],
   "source": [
    "q = [\"at\", \"katkı\", \"fakat\", \"atkı\", \"rahat\", \"mat\", \"yat\", \"sat\", \"satılık\", \"katılım\"]"
   ]
  },
  {
   "cell_type": "code",
   "execution_count": 49,
   "id": "6e5e9841-c37a-458b-98d6-ad4d1e551aea",
   "metadata": {},
   "outputs": [
    {
     "name": "stdout",
     "output_type": "stream",
     "text": [
      "at\n",
      "atkı\n"
     ]
    }
   ],
   "source": [
    "for i in q:\n",
    "    if re.search(\"^at\", i):\n",
    "        print(i)"
   ]
  },
  {
   "cell_type": "markdown",
   "id": "a71ace37-acdf-48c1-89f6-5514e5b5f6b4",
   "metadata": {},
   "source": [
    "## $ (Dolar)"
   ]
  },
  {
   "cell_type": "code",
   "execution_count": 50,
   "id": "4127b7da-eeef-42d1-987d-0202e369ab26",
   "metadata": {},
   "outputs": [
    {
     "name": "stdout",
     "output_type": "stream",
     "text": [
      "at\n",
      "fakat\n",
      "rahat\n",
      "mat\n",
      "yat\n",
      "sat\n"
     ]
    }
   ],
   "source": [
    "for i in q:\n",
    "    if re.search(\"at$\", i):\n",
    "        print(i)"
   ]
  },
  {
   "cell_type": "markdown",
   "id": "5a9ffff2-022f-44f8-8240-78f8bb96cb44",
   "metadata": {},
   "source": [
    "## | (Dik Çizgi)  (veya)¶"
   ]
  },
  {
   "cell_type": "code",
   "execution_count": 51,
   "id": "45714d24-3b92-426c-886f-497ad5352801",
   "metadata": {},
   "outputs": [
    {
     "name": "stdout",
     "output_type": "stream",
     "text": [
      "at\n",
      "fakat\n",
      "atkı\n",
      "rahat\n",
      "mat\n",
      "yat\n",
      "sat\n"
     ]
    }
   ],
   "source": [
    "for i in q:\n",
    "    if re.search(\"^at|at$\", i):\n",
    "        print(i)"
   ]
  },
  {
   "cell_type": "markdown",
   "id": "dc79c040-bc1c-43e9-a949-cdee5d4c018c",
   "metadata": {},
   "source": [
    "## ( ) (Parantez)"
   ]
  },
  {
   "cell_type": "code",
   "execution_count": null,
   "id": "006771dd-3556-4538-973e-c6d44ac71965",
   "metadata": {},
   "outputs": [],
   "source": []
  },
  {
   "cell_type": "code",
   "execution_count": null,
   "id": "fc4c8b2b-51c3-4b7d-8e21-ab3cf6046205",
   "metadata": {},
   "outputs": [],
   "source": []
  },
  {
   "cell_type": "markdown",
   "id": "3820718a-9790-421c-a22d-0efb5ed5865d",
   "metadata": {},
   "source": [
    "## Ondalık Sayıların Yerini Tutan Özel Dizi: \\d"
   ]
  },
  {
   "cell_type": "code",
   "execution_count": 52,
   "id": "7e51202e-f8eb-4467-bd2c-269e133a3df8",
   "metadata": {},
   "outputs": [],
   "source": [
    "a = [\"5 Ocak\", \"27Mart\", \"4 Ekim\", \"Nisan 3\"]"
   ]
  },
  {
   "cell_type": "code",
   "execution_count": 53,
   "id": "a1fcad99-8e08-4bc1-aea1-9e1c64bf074e",
   "metadata": {},
   "outputs": [
    {
     "name": "stdout",
     "output_type": "stream",
     "text": [
      "5 Ocak\n",
      "4 Ekim\n"
     ]
    }
   ],
   "source": [
    "for i in a:\n",
    "    if re.search(\"\\d\\s[A-Z]\", i):\n",
    "        print(i)"
   ]
  },
  {
   "cell_type": "markdown",
   "id": "e43bdb6b-2dde-4f2d-b073-f139b30884bc",
   "metadata": {},
   "source": [
    "## Alfanümerik Karakterlerin Yerini Tutan Özel Dizi: \\w"
   ]
  },
  {
   "cell_type": "code",
   "execution_count": null,
   "id": "175f5ed1-9ca2-4fa7-9192-f5e172192add",
   "metadata": {},
   "outputs": [],
   "source": [
    "## büyük/kücük harf, sayılar ve \"_\" arar."
   ]
  },
  {
   "cell_type": "code",
   "execution_count": 55,
   "id": "be73870c-a692-489b-8001-daa7d8a604b8",
   "metadata": {},
   "outputs": [
    {
     "data": {
      "text/plain": [
       "'abetAB145_'"
      ]
     },
     "execution_count": 55,
     "metadata": {},
     "output_type": "execute_result"
    }
   ],
   "source": [
    "a = \"abetAB145_$^?\"\n",
    "b = re.search(\"\\w*\", a)\n",
    "b.group()"
   ]
  },
  {
   "cell_type": "code",
   "execution_count": null,
   "id": "fc14fed4-7142-45ce-ac9f-b35e8d50c86a",
   "metadata": {},
   "outputs": [],
   "source": [
    "## \\w muadili [A-Za-z0-9_]"
   ]
  },
  {
   "cell_type": "code",
   "execution_count": null,
   "id": "472b3e19-e15c-4bdb-b64b-c5cf2652b677",
   "metadata": {},
   "outputs": [],
   "source": []
  },
  {
   "cell_type": "markdown",
   "id": "ef99064d-dda5-4322-b7b9-d6427829a191",
   "metadata": {},
   "source": [
    "## Boşluk, tab Karakterlerin Yerini Tutan Özel Dizi: \\s"
   ]
  },
  {
   "cell_type": "code",
   "execution_count": 56,
   "id": "fd3d5ca9-8993-46d0-bdc3-34943672e688",
   "metadata": {},
   "outputs": [],
   "source": [
    "a = [\"5 Ocak\", \"27Mart\", \"4 Ekim\", \"Nisan 3\"]"
   ]
  },
  {
   "cell_type": "code",
   "execution_count": 61,
   "id": "124ee42b-0b41-42bc-be4c-ef0f669c2b60",
   "metadata": {},
   "outputs": [
    {
     "name": "stdout",
     "output_type": "stream",
     "text": [
      "5 Ocak\n",
      "4 Ekim\n"
     ]
    }
   ],
   "source": [
    "for i in a:\n",
    "    if re.search(\"\\d\\s\", i):\n",
    "        print(i)"
   ]
  },
  {
   "cell_type": "markdown",
   "id": "cda50ba5-deb6-49a1-a0ff-6e559fc9d7d8",
   "metadata": {},
   "source": [
    "## sub() metin içinde değişiklik yapmamıza yardımcı olan komut."
   ]
  },
  {
   "cell_type": "code",
   "execution_count": 62,
   "id": "65493322-c44f-44a4-b9b1-db0e99a46322",
   "metadata": {},
   "outputs": [
    {
     "data": {
      "text/plain": [
       "'ParWAS WAS for lovers'"
      ]
     },
     "execution_count": 62,
     "metadata": {},
     "output_type": "execute_result"
    }
   ],
   "source": [
    "b = \"Paris is for lovers\"\n",
    "re.sub(\"is\", \"WAS\", b)"
   ]
  },
  {
   "cell_type": "code",
   "execution_count": 63,
   "id": "2c1bd5b1-bd0f-4cb6-a10e-749d7b75b820",
   "metadata": {},
   "outputs": [
    {
     "data": {
      "text/plain": [
       "'ParWAS is for lovers'"
      ]
     },
     "execution_count": 63,
     "metadata": {},
     "output_type": "execute_result"
    }
   ],
   "source": [
    "b = \"Paris is for lovers\"\n",
    "re.sub(\"is\", \"WAS\", b, count = 1)"
   ]
  },
  {
   "cell_type": "code",
   "execution_count": 235,
   "id": "74493bdf-77e7-453d-86af-6167009d3698",
   "metadata": {},
   "outputs": [],
   "source": [
    "phone = \"2004-949-559\""
   ]
  },
  {
   "cell_type": "code",
   "execution_count": 238,
   "id": "afc8c709-14ba-4d2e-b35c-3c95a9fa97d7",
   "metadata": {},
   "outputs": [
    {
     "data": {
      "text/plain": [
       "'2004*949*559'"
      ]
     },
     "execution_count": 238,
     "metadata": {},
     "output_type": "execute_result"
    }
   ],
   "source": [
    "output = re.sub(\"\\D\",\"*\",phone)\n",
    "output"
   ]
  },
  {
   "cell_type": "code",
   "execution_count": 128,
   "id": "4313a387-1157-4694-9d17-3e4b6ec5076e",
   "metadata": {},
   "outputs": [
    {
     "data": {
      "text/plain": [
       "'2004 949 559'"
      ]
     },
     "execution_count": 128,
     "metadata": {},
     "output_type": "execute_result"
    }
   ],
   "source": [
    "output = re.sub(\"-\",\" \",phone)\n",
    "output"
   ]
  },
  {
   "cell_type": "markdown",
   "id": "d9ca28f6-23e7-4e9e-95e3-e0b0055842da",
   "metadata": {},
   "source": [
    "## split () metni istediğimiz şekilde bölmeye yarıyor."
   ]
  },
  {
   "cell_type": "code",
   "execution_count": null,
   "id": "cd5eacad-e8ae-407b-ac95-d45863f46874",
   "metadata": {},
   "outputs": [],
   "source": [
    "b = \"Paris is for lovers\""
   ]
  },
  {
   "cell_type": "code",
   "execution_count": 64,
   "id": "5c6e8f99-83f3-4afc-a056-1fc9d02e0704",
   "metadata": {},
   "outputs": [
    {
     "data": {
      "text/plain": [
       "['Paris', 'is', 'for', 'lovers']"
      ]
     },
     "execution_count": 64,
     "metadata": {},
     "output_type": "execute_result"
    }
   ],
   "source": [
    "re.split(\" \", b)"
   ]
  },
  {
   "cell_type": "code",
   "execution_count": 65,
   "id": "6faacaec-a4a7-47db-9f2d-6b8538e4640f",
   "metadata": {},
   "outputs": [
    {
     "data": {
      "text/plain": [
       "['Par', 's ', 's for lovers']"
      ]
     },
     "execution_count": 65,
     "metadata": {},
     "output_type": "execute_result"
    }
   ],
   "source": [
    "re.split(\"i\", b)"
   ]
  },
  {
   "cell_type": "code",
   "execution_count": 66,
   "id": "0959618b-54c4-4bc8-a7f2-d843d4b65ab8",
   "metadata": {},
   "outputs": [
    {
     "data": {
      "text/plain": [
       "['Audi', 'A1']"
      ]
     },
     "execution_count": 66,
     "metadata": {},
     "output_type": "execute_result"
    }
   ],
   "source": [
    "car = \"Audi A1\"\n",
    "re.split(\" \", car)"
   ]
  },
  {
   "cell_type": "markdown",
   "id": "3369e7a2-245e-42d8-8264-553ea77e119c",
   "metadata": {},
   "source": [
    "## contains"
   ]
  },
  {
   "cell_type": "code",
   "execution_count": 134,
   "id": "f7133bc6-1ae1-4b3a-9aad-22feb86dad37",
   "metadata": {},
   "outputs": [],
   "source": [
    "s = pd.Series([\"a3\", \"b4\", \"c5\", \"d\"])"
   ]
  },
  {
   "cell_type": "code",
   "execution_count": 131,
   "id": "5d10e7aa-88bf-4455-adc2-c16d2c21cedd",
   "metadata": {},
   "outputs": [
    {
     "data": {
      "text/plain": [
       "0     True\n",
       "1     True\n",
       "2     True\n",
       "3    False\n",
       "dtype: bool"
      ]
     },
     "execution_count": 131,
     "metadata": {},
     "output_type": "execute_result"
    }
   ],
   "source": [
    "s.str.contains(\"\\d\")"
   ]
  },
  {
   "cell_type": "code",
   "execution_count": 137,
   "id": "0f5652d1-c456-45c1-87ad-4b779497c06b",
   "metadata": {},
   "outputs": [
    {
     "name": "stdout",
     "output_type": "stream",
     "text": [
      "a3\n",
      "b4\n",
      "c5\n"
     ]
    }
   ],
   "source": [
    "for i in s:\n",
    "    if re.search(\"\\d\", i):\n",
    "        print(i)"
   ]
  },
  {
   "cell_type": "code",
   "execution_count": 140,
   "id": "29e2f19c-93cc-4f4c-a599-230c48322dd5",
   "metadata": {},
   "outputs": [
    {
     "data": {
      "text/plain": [
       "0     True\n",
       "1     True\n",
       "2     True\n",
       "3    False\n",
       "dtype: bool"
      ]
     },
     "execution_count": 140,
     "metadata": {},
     "output_type": "execute_result"
    }
   ],
   "source": [
    "s.apply(lambda x : True if re.search(\"\\d\", x) else False)"
   ]
  },
  {
   "cell_type": "markdown",
   "id": "a3993383-f49c-484b-9440-7de59cbbe575",
   "metadata": {},
   "source": [
    "## extract "
   ]
  },
  {
   "cell_type": "code",
   "execution_count": 141,
   "id": "c871a709-8eba-4f17-aea8-c74452723a62",
   "metadata": {},
   "outputs": [
    {
     "data": {
      "text/html": [
       "<div>\n",
       "<style scoped>\n",
       "    .dataframe tbody tr th:only-of-type {\n",
       "        vertical-align: middle;\n",
       "    }\n",
       "\n",
       "    .dataframe tbody tr th {\n",
       "        vertical-align: top;\n",
       "    }\n",
       "\n",
       "    .dataframe thead th {\n",
       "        text-align: right;\n",
       "    }\n",
       "</style>\n",
       "<table border=\"1\" class=\"dataframe\">\n",
       "  <thead>\n",
       "    <tr style=\"text-align: right;\">\n",
       "      <th></th>\n",
       "      <th>0</th>\n",
       "    </tr>\n",
       "  </thead>\n",
       "  <tbody>\n",
       "    <tr>\n",
       "      <th>0</th>\n",
       "      <td>3</td>\n",
       "    </tr>\n",
       "    <tr>\n",
       "      <th>1</th>\n",
       "      <td>4</td>\n",
       "    </tr>\n",
       "    <tr>\n",
       "      <th>2</th>\n",
       "      <td>5</td>\n",
       "    </tr>\n",
       "    <tr>\n",
       "      <th>3</th>\n",
       "      <td>NaN</td>\n",
       "    </tr>\n",
       "  </tbody>\n",
       "</table>\n",
       "</div>"
      ],
      "text/plain": [
       "     0\n",
       "0    3\n",
       "1    4\n",
       "2    5\n",
       "3  NaN"
      ]
     },
     "execution_count": 141,
     "metadata": {},
     "output_type": "execute_result"
    }
   ],
   "source": [
    "s.str.extract(\"(\\d)\")"
   ]
  },
  {
   "cell_type": "code",
   "execution_count": 142,
   "id": "1fc117ce-b215-4f8a-8444-c0b0897497e2",
   "metadata": {},
   "outputs": [
    {
     "data": {
      "text/html": [
       "<div>\n",
       "<style scoped>\n",
       "    .dataframe tbody tr th:only-of-type {\n",
       "        vertical-align: middle;\n",
       "    }\n",
       "\n",
       "    .dataframe tbody tr th {\n",
       "        vertical-align: top;\n",
       "    }\n",
       "\n",
       "    .dataframe thead th {\n",
       "        text-align: right;\n",
       "    }\n",
       "</style>\n",
       "<table border=\"1\" class=\"dataframe\">\n",
       "  <thead>\n",
       "    <tr style=\"text-align: right;\">\n",
       "      <th></th>\n",
       "      <th>0</th>\n",
       "    </tr>\n",
       "  </thead>\n",
       "  <tbody>\n",
       "    <tr>\n",
       "      <th>0</th>\n",
       "      <td>a</td>\n",
       "    </tr>\n",
       "    <tr>\n",
       "      <th>1</th>\n",
       "      <td>b</td>\n",
       "    </tr>\n",
       "    <tr>\n",
       "      <th>2</th>\n",
       "      <td>c</td>\n",
       "    </tr>\n",
       "    <tr>\n",
       "      <th>3</th>\n",
       "      <td>d</td>\n",
       "    </tr>\n",
       "  </tbody>\n",
       "</table>\n",
       "</div>"
      ],
      "text/plain": [
       "   0\n",
       "0  a\n",
       "1  b\n",
       "2  c\n",
       "3  d"
      ]
     },
     "execution_count": 142,
     "metadata": {},
     "output_type": "execute_result"
    }
   ],
   "source": [
    "s.str.extract(\"(\\w)\")"
   ]
  },
  {
   "cell_type": "code",
   "execution_count": 143,
   "id": "6092b14e-3ec2-4754-ac90-c6838b14f944",
   "metadata": {},
   "outputs": [],
   "source": [
    "s = pd.Series([\"a3aaa\", \"b4aa\", \"c5aa\"])"
   ]
  },
  {
   "cell_type": "code",
   "execution_count": 257,
   "id": "89b8969c-c410-4ab1-b881-c12bb5047666",
   "metadata": {},
   "outputs": [
    {
     "data": {
      "text/html": [
       "<div>\n",
       "<style scoped>\n",
       "    .dataframe tbody tr th:only-of-type {\n",
       "        vertical-align: middle;\n",
       "    }\n",
       "\n",
       "    .dataframe tbody tr th {\n",
       "        vertical-align: top;\n",
       "    }\n",
       "\n",
       "    .dataframe thead th {\n",
       "        text-align: right;\n",
       "    }\n",
       "</style>\n",
       "<table border=\"1\" class=\"dataframe\">\n",
       "  <thead>\n",
       "    <tr style=\"text-align: right;\">\n",
       "      <th></th>\n",
       "      <th>0</th>\n",
       "    </tr>\n",
       "  </thead>\n",
       "  <tbody>\n",
       "    <tr>\n",
       "      <th>0</th>\n",
       "      <td>a</td>\n",
       "    </tr>\n",
       "    <tr>\n",
       "      <th>1</th>\n",
       "      <td>b</td>\n",
       "    </tr>\n",
       "    <tr>\n",
       "      <th>2</th>\n",
       "      <td>c</td>\n",
       "    </tr>\n",
       "  </tbody>\n",
       "</table>\n",
       "</div>"
      ],
      "text/plain": [
       "   0\n",
       "0  a\n",
       "1  b\n",
       "2  c"
      ]
     },
     "execution_count": 257,
     "metadata": {},
     "output_type": "execute_result"
    }
   ],
   "source": [
    "s.str.extract(\"(\\D+)\")"
   ]
  },
  {
   "cell_type": "code",
   "execution_count": 258,
   "id": "de18e594-32d6-41fd-9b20-7ae8272bcf1f",
   "metadata": {},
   "outputs": [
    {
     "data": {
      "text/html": [
       "<div>\n",
       "<style scoped>\n",
       "    .dataframe tbody tr th:only-of-type {\n",
       "        vertical-align: middle;\n",
       "    }\n",
       "\n",
       "    .dataframe tbody tr th {\n",
       "        vertical-align: top;\n",
       "    }\n",
       "\n",
       "    .dataframe thead th {\n",
       "        text-align: right;\n",
       "    }\n",
       "</style>\n",
       "<table border=\"1\" class=\"dataframe\">\n",
       "  <thead>\n",
       "    <tr style=\"text-align: right;\">\n",
       "      <th></th>\n",
       "      <th>0</th>\n",
       "      <th>1</th>\n",
       "    </tr>\n",
       "  </thead>\n",
       "  <tbody>\n",
       "    <tr>\n",
       "      <th>0</th>\n",
       "      <td>a</td>\n",
       "      <td>aa</td>\n",
       "    </tr>\n",
       "    <tr>\n",
       "      <th>1</th>\n",
       "      <td>b</td>\n",
       "      <td>aa</td>\n",
       "    </tr>\n",
       "    <tr>\n",
       "      <th>2</th>\n",
       "      <td>c</td>\n",
       "      <td>aa</td>\n",
       "    </tr>\n",
       "  </tbody>\n",
       "</table>\n",
       "</div>"
      ],
      "text/plain": [
       "   0   1\n",
       "0  a  aa\n",
       "1  b  aa\n",
       "2  c  aa"
      ]
     },
     "execution_count": 258,
     "metadata": {},
     "output_type": "execute_result"
    }
   ],
   "source": [
    "s.str.extract(\"(\\w)\\d(\\w\\w)\") # parantez içine almadığın şeyi atlıyor extract"
   ]
  },
  {
   "cell_type": "code",
   "execution_count": 148,
   "id": "3e95bf46-7fac-4380-958d-b78576e406f9",
   "metadata": {},
   "outputs": [
    {
     "data": {
      "text/plain": [
       "0       40 l/100 km (comb)\n",
       "1       38 l/100 km (comb)\n",
       "2      6.4 l/100 km (comb)\n",
       "3     8.3 kg/100 km (comb)\n",
       "4     5.1 kg/100 km (comb)\n",
       "5      5.4 l/100 km (comb)\n",
       "6      6.7 l/100 km (comb)\n",
       "7      6.2 l/100 km (comb)\n",
       "8      7.3 l/100 km (comb)\n",
       "9      6.3 l/100 km (comb)\n",
       "10     5.7 l/100 km (comb)\n",
       "11     6.1 l/100 km (comb)\n",
       "12     6.8 l/100 km (comb)\n",
       "13     7.5 l/100 km (comb)\n",
       "14     7.4 l/100 km (comb)\n",
       "15    3.6 kg/100 km (comb)\n",
       "16       0 l/100 km (comb)\n",
       "17     7.8 l/100 km (comb)\n",
       "dtype: object"
      ]
     },
     "execution_count": 148,
     "metadata": {},
     "output_type": "execute_result"
    }
   ],
   "source": [
    "w= pd.Series(['40 l/100 km (comb)',\n",
    "        '38 l/100 km (comb)', '6.4 l/100 km (comb)',\n",
    "       '8.3 kg/100 km (comb)', '5.1 kg/100 km (comb)',\n",
    "       '5.4 l/100 km (comb)', '6.7 l/100 km (comb)',\n",
    "       '6.2 l/100 km (comb)', '7.3 l/100 km (comb)',\n",
    "       '6.3 l/100 km (comb)', '5.7 l/100 km (comb)',\n",
    "       '6.1 l/100 km (comb)', '6.8 l/100 km (comb)',\n",
    "       '7.5 l/100 km (comb)', '7.4 l/100 km (comb)',\n",
    "       '3.6 kg/100 km (comb)', '0 l/100 km (comb)',\n",
    "       '7.8 l/100 km (comb)'])\n",
    "w"
   ]
  },
  {
   "cell_type": "code",
   "execution_count": 152,
   "id": "7d6d3c00-6d5c-4555-8973-b806f84c8260",
   "metadata": {},
   "outputs": [
    {
     "data": {
      "text/html": [
       "<div>\n",
       "<style scoped>\n",
       "    .dataframe tbody tr th:only-of-type {\n",
       "        vertical-align: middle;\n",
       "    }\n",
       "\n",
       "    .dataframe tbody tr th {\n",
       "        vertical-align: top;\n",
       "    }\n",
       "\n",
       "    .dataframe thead th {\n",
       "        text-align: right;\n",
       "    }\n",
       "</style>\n",
       "<table border=\"1\" class=\"dataframe\">\n",
       "  <thead>\n",
       "    <tr style=\"text-align: right;\">\n",
       "      <th></th>\n",
       "      <th>0</th>\n",
       "    </tr>\n",
       "  </thead>\n",
       "  <tbody>\n",
       "    <tr>\n",
       "      <th>0</th>\n",
       "      <td>40</td>\n",
       "    </tr>\n",
       "    <tr>\n",
       "      <th>1</th>\n",
       "      <td>38</td>\n",
       "    </tr>\n",
       "    <tr>\n",
       "      <th>2</th>\n",
       "      <td>6.4</td>\n",
       "    </tr>\n",
       "    <tr>\n",
       "      <th>3</th>\n",
       "      <td>8.3</td>\n",
       "    </tr>\n",
       "    <tr>\n",
       "      <th>4</th>\n",
       "      <td>5.1</td>\n",
       "    </tr>\n",
       "    <tr>\n",
       "      <th>5</th>\n",
       "      <td>5.4</td>\n",
       "    </tr>\n",
       "    <tr>\n",
       "      <th>6</th>\n",
       "      <td>6.7</td>\n",
       "    </tr>\n",
       "    <tr>\n",
       "      <th>7</th>\n",
       "      <td>6.2</td>\n",
       "    </tr>\n",
       "    <tr>\n",
       "      <th>8</th>\n",
       "      <td>7.3</td>\n",
       "    </tr>\n",
       "    <tr>\n",
       "      <th>9</th>\n",
       "      <td>6.3</td>\n",
       "    </tr>\n",
       "    <tr>\n",
       "      <th>10</th>\n",
       "      <td>5.7</td>\n",
       "    </tr>\n",
       "    <tr>\n",
       "      <th>11</th>\n",
       "      <td>6.1</td>\n",
       "    </tr>\n",
       "    <tr>\n",
       "      <th>12</th>\n",
       "      <td>6.8</td>\n",
       "    </tr>\n",
       "    <tr>\n",
       "      <th>13</th>\n",
       "      <td>7.5</td>\n",
       "    </tr>\n",
       "    <tr>\n",
       "      <th>14</th>\n",
       "      <td>7.4</td>\n",
       "    </tr>\n",
       "    <tr>\n",
       "      <th>15</th>\n",
       "      <td>3.6</td>\n",
       "    </tr>\n",
       "    <tr>\n",
       "      <th>16</th>\n",
       "      <td>0</td>\n",
       "    </tr>\n",
       "    <tr>\n",
       "      <th>17</th>\n",
       "      <td>7.8</td>\n",
       "    </tr>\n",
       "  </tbody>\n",
       "</table>\n",
       "</div>"
      ],
      "text/plain": [
       "      0\n",
       "0    40\n",
       "1    38\n",
       "2   6.4\n",
       "3   8.3\n",
       "4   5.1\n",
       "5   5.4\n",
       "6   6.7\n",
       "7   6.2\n",
       "8   7.3\n",
       "9   6.3\n",
       "10  5.7\n",
       "11  6.1\n",
       "12  6.8\n",
       "13  7.5\n",
       "14  7.4\n",
       "15  3.6\n",
       "16    0\n",
       "17  7.8"
      ]
     },
     "execution_count": 152,
     "metadata": {},
     "output_type": "execute_result"
    }
   ],
   "source": [
    "w.str.extract(\"(\\d\\d|\\d.\\d|\\d)\")"
   ]
  },
  {
   "cell_type": "code",
   "execution_count": 157,
   "id": "e278281f-bc96-46d9-9b6c-e357ccc0af2c",
   "metadata": {},
   "outputs": [
    {
     "data": {
      "text/html": [
       "<div>\n",
       "<style scoped>\n",
       "    .dataframe tbody tr th:only-of-type {\n",
       "        vertical-align: middle;\n",
       "    }\n",
       "\n",
       "    .dataframe tbody tr th {\n",
       "        vertical-align: top;\n",
       "    }\n",
       "\n",
       "    .dataframe thead th {\n",
       "        text-align: right;\n",
       "    }\n",
       "</style>\n",
       "<table border=\"1\" class=\"dataframe\">\n",
       "  <thead>\n",
       "    <tr style=\"text-align: right;\">\n",
       "      <th></th>\n",
       "      <th>0</th>\n",
       "      <th>1</th>\n",
       "    </tr>\n",
       "  </thead>\n",
       "  <tbody>\n",
       "    <tr>\n",
       "      <th>0</th>\n",
       "      <td>40</td>\n",
       "      <td>100</td>\n",
       "    </tr>\n",
       "    <tr>\n",
       "      <th>1</th>\n",
       "      <td>38</td>\n",
       "      <td>100</td>\n",
       "    </tr>\n",
       "    <tr>\n",
       "      <th>2</th>\n",
       "      <td>6.4</td>\n",
       "      <td>100</td>\n",
       "    </tr>\n",
       "    <tr>\n",
       "      <th>3</th>\n",
       "      <td>8.3</td>\n",
       "      <td>100</td>\n",
       "    </tr>\n",
       "    <tr>\n",
       "      <th>4</th>\n",
       "      <td>5.1</td>\n",
       "      <td>100</td>\n",
       "    </tr>\n",
       "    <tr>\n",
       "      <th>5</th>\n",
       "      <td>5.4</td>\n",
       "      <td>100</td>\n",
       "    </tr>\n",
       "    <tr>\n",
       "      <th>6</th>\n",
       "      <td>6.7</td>\n",
       "      <td>100</td>\n",
       "    </tr>\n",
       "    <tr>\n",
       "      <th>7</th>\n",
       "      <td>6.2</td>\n",
       "      <td>100</td>\n",
       "    </tr>\n",
       "    <tr>\n",
       "      <th>8</th>\n",
       "      <td>7.3</td>\n",
       "      <td>100</td>\n",
       "    </tr>\n",
       "    <tr>\n",
       "      <th>9</th>\n",
       "      <td>6.3</td>\n",
       "      <td>100</td>\n",
       "    </tr>\n",
       "    <tr>\n",
       "      <th>10</th>\n",
       "      <td>5.7</td>\n",
       "      <td>100</td>\n",
       "    </tr>\n",
       "    <tr>\n",
       "      <th>11</th>\n",
       "      <td>6.1</td>\n",
       "      <td>100</td>\n",
       "    </tr>\n",
       "    <tr>\n",
       "      <th>12</th>\n",
       "      <td>6.8</td>\n",
       "      <td>100</td>\n",
       "    </tr>\n",
       "    <tr>\n",
       "      <th>13</th>\n",
       "      <td>7.5</td>\n",
       "      <td>100</td>\n",
       "    </tr>\n",
       "    <tr>\n",
       "      <th>14</th>\n",
       "      <td>7.4</td>\n",
       "      <td>100</td>\n",
       "    </tr>\n",
       "    <tr>\n",
       "      <th>15</th>\n",
       "      <td>3.6</td>\n",
       "      <td>100</td>\n",
       "    </tr>\n",
       "    <tr>\n",
       "      <th>16</th>\n",
       "      <td>0</td>\n",
       "      <td>100</td>\n",
       "    </tr>\n",
       "    <tr>\n",
       "      <th>17</th>\n",
       "      <td>7.8</td>\n",
       "      <td>100</td>\n",
       "    </tr>\n",
       "  </tbody>\n",
       "</table>\n",
       "</div>"
      ],
      "text/plain": [
       "      0    1\n",
       "0    40  100\n",
       "1    38  100\n",
       "2   6.4  100\n",
       "3   8.3  100\n",
       "4   5.1  100\n",
       "5   5.4  100\n",
       "6   6.7  100\n",
       "7   6.2  100\n",
       "8   7.3  100\n",
       "9   6.3  100\n",
       "10  5.7  100\n",
       "11  6.1  100\n",
       "12  6.8  100\n",
       "13  7.5  100\n",
       "14  7.4  100\n",
       "15  3.6  100\n",
       "16    0  100\n",
       "17  7.8  100"
      ]
     },
     "execution_count": 157,
     "metadata": {},
     "output_type": "execute_result"
    }
   ],
   "source": [
    "w.str.extract(\"(\\d\\d|\\d.\\d|\\d).+(\\d\\d\\d)\")"
   ]
  },
  {
   "cell_type": "code",
   "execution_count": 160,
   "id": "d4264d21-600a-4906-a16a-2591f601e85e",
   "metadata": {},
   "outputs": [
    {
     "data": {
      "text/plain": [
       "0     06/2020\\n\\n4.9 l/100 km (comb)\n",
       "1     11/2020\\n\\n166 g CO2/km (comb)\n",
       "2     10/2019\\n\\n5.3 l/100 km (comb)\n",
       "3     05/2022\\n\\n6.3 l/100 km (comb)\n",
       "4     07/2019\\n\\n128 g CO2/km (comb)\n",
       "5     06/2022\\n\\n112 g CO2/km (comb)\n",
       "6     01/2022\\n\\n5.8 l/100 km (comb)\n",
       "7     11/2020\\n\\n106 g CO2/km (comb)\n",
       "8     04/2019\\n\\n105 g CO2/km (comb)\n",
       "9     08/2020\\n\\n133 g CO2/km (comb)\n",
       "10    04/2022\\n\\n133 g CO2/km (comb)\n",
       "dtype: object"
      ]
     },
     "execution_count": 160,
     "metadata": {},
     "output_type": "execute_result"
    }
   ],
   "source": [
    "q = pd.Series(['06/2020\\n\\n4.9 l/100 km (comb)',\n",
    "'11/2020\\n\\n166 g CO2/km (comb)',\n",
    "'10/2019\\n\\n5.3 l/100 km (comb)',\n",
    "'05/2022\\n\\n6.3 l/100 km (comb)',\n",
    "'07/2019\\n\\n128 g CO2/km (comb)',\n",
    "'06/2022\\n\\n112 g CO2/km (comb)',\n",
    "'01/2022\\n\\n5.8 l/100 km (comb)',\n",
    "'11/2020\\n\\n106 g CO2/km (comb)',\n",
    "'04/2019\\n\\n105 g CO2/km (comb)',\n",
    "'08/2020\\n\\n133 g CO2/km (comb)',\n",
    "'04/2022\\n\\n133 g CO2/km (comb)'])\n",
    "q"
   ]
  },
  {
   "cell_type": "code",
   "execution_count": 162,
   "id": "5e85bde7-5e1b-4f0b-9f43-e65d5eabc510",
   "metadata": {},
   "outputs": [
    {
     "data": {
      "text/html": [
       "<div>\n",
       "<style scoped>\n",
       "    .dataframe tbody tr th:only-of-type {\n",
       "        vertical-align: middle;\n",
       "    }\n",
       "\n",
       "    .dataframe tbody tr th {\n",
       "        vertical-align: top;\n",
       "    }\n",
       "\n",
       "    .dataframe thead th {\n",
       "        text-align: right;\n",
       "    }\n",
       "</style>\n",
       "<table border=\"1\" class=\"dataframe\">\n",
       "  <thead>\n",
       "    <tr style=\"text-align: right;\">\n",
       "      <th></th>\n",
       "      <th>0</th>\n",
       "      <th>1</th>\n",
       "    </tr>\n",
       "  </thead>\n",
       "  <tbody>\n",
       "    <tr>\n",
       "      <th>0</th>\n",
       "      <td>06</td>\n",
       "      <td>2020</td>\n",
       "    </tr>\n",
       "    <tr>\n",
       "      <th>1</th>\n",
       "      <td>11</td>\n",
       "      <td>2020</td>\n",
       "    </tr>\n",
       "    <tr>\n",
       "      <th>2</th>\n",
       "      <td>10</td>\n",
       "      <td>2019</td>\n",
       "    </tr>\n",
       "    <tr>\n",
       "      <th>3</th>\n",
       "      <td>05</td>\n",
       "      <td>2022</td>\n",
       "    </tr>\n",
       "    <tr>\n",
       "      <th>4</th>\n",
       "      <td>07</td>\n",
       "      <td>2019</td>\n",
       "    </tr>\n",
       "    <tr>\n",
       "      <th>5</th>\n",
       "      <td>06</td>\n",
       "      <td>2022</td>\n",
       "    </tr>\n",
       "    <tr>\n",
       "      <th>6</th>\n",
       "      <td>01</td>\n",
       "      <td>2022</td>\n",
       "    </tr>\n",
       "    <tr>\n",
       "      <th>7</th>\n",
       "      <td>11</td>\n",
       "      <td>2020</td>\n",
       "    </tr>\n",
       "    <tr>\n",
       "      <th>8</th>\n",
       "      <td>04</td>\n",
       "      <td>2019</td>\n",
       "    </tr>\n",
       "    <tr>\n",
       "      <th>9</th>\n",
       "      <td>08</td>\n",
       "      <td>2020</td>\n",
       "    </tr>\n",
       "    <tr>\n",
       "      <th>10</th>\n",
       "      <td>04</td>\n",
       "      <td>2022</td>\n",
       "    </tr>\n",
       "  </tbody>\n",
       "</table>\n",
       "</div>"
      ],
      "text/plain": [
       "     0     1\n",
       "0   06  2020\n",
       "1   11  2020\n",
       "2   10  2019\n",
       "3   05  2022\n",
       "4   07  2019\n",
       "5   06  2022\n",
       "6   01  2022\n",
       "7   11  2020\n",
       "8   04  2019\n",
       "9   08  2020\n",
       "10  04  2022"
      ]
     },
     "execution_count": 162,
     "metadata": {},
     "output_type": "execute_result"
    }
   ],
   "source": [
    "q.str.extract('(\\d{2}).(\\d{4})')"
   ]
  },
  {
   "cell_type": "code",
   "execution_count": 161,
   "id": "42f1127a-7121-4ae5-b065-d79667481e2e",
   "metadata": {},
   "outputs": [
    {
     "data": {
      "text/html": [
       "<div>\n",
       "<style scoped>\n",
       "    .dataframe tbody tr th:only-of-type {\n",
       "        vertical-align: middle;\n",
       "    }\n",
       "\n",
       "    .dataframe tbody tr th {\n",
       "        vertical-align: top;\n",
       "    }\n",
       "\n",
       "    .dataframe thead th {\n",
       "        text-align: right;\n",
       "    }\n",
       "</style>\n",
       "<table border=\"1\" class=\"dataframe\">\n",
       "  <thead>\n",
       "    <tr style=\"text-align: right;\">\n",
       "      <th></th>\n",
       "      <th>0</th>\n",
       "      <th>1</th>\n",
       "    </tr>\n",
       "  </thead>\n",
       "  <tbody>\n",
       "    <tr>\n",
       "      <th>0</th>\n",
       "      <td>06</td>\n",
       "      <td>2020</td>\n",
       "    </tr>\n",
       "    <tr>\n",
       "      <th>1</th>\n",
       "      <td>11</td>\n",
       "      <td>2020</td>\n",
       "    </tr>\n",
       "    <tr>\n",
       "      <th>2</th>\n",
       "      <td>10</td>\n",
       "      <td>2019</td>\n",
       "    </tr>\n",
       "    <tr>\n",
       "      <th>3</th>\n",
       "      <td>05</td>\n",
       "      <td>2022</td>\n",
       "    </tr>\n",
       "    <tr>\n",
       "      <th>4</th>\n",
       "      <td>07</td>\n",
       "      <td>2019</td>\n",
       "    </tr>\n",
       "    <tr>\n",
       "      <th>5</th>\n",
       "      <td>06</td>\n",
       "      <td>2022</td>\n",
       "    </tr>\n",
       "    <tr>\n",
       "      <th>6</th>\n",
       "      <td>01</td>\n",
       "      <td>2022</td>\n",
       "    </tr>\n",
       "    <tr>\n",
       "      <th>7</th>\n",
       "      <td>11</td>\n",
       "      <td>2020</td>\n",
       "    </tr>\n",
       "    <tr>\n",
       "      <th>8</th>\n",
       "      <td>04</td>\n",
       "      <td>2019</td>\n",
       "    </tr>\n",
       "    <tr>\n",
       "      <th>9</th>\n",
       "      <td>08</td>\n",
       "      <td>2020</td>\n",
       "    </tr>\n",
       "    <tr>\n",
       "      <th>10</th>\n",
       "      <td>04</td>\n",
       "      <td>2022</td>\n",
       "    </tr>\n",
       "  </tbody>\n",
       "</table>\n",
       "</div>"
      ],
      "text/plain": [
       "     0     1\n",
       "0   06  2020\n",
       "1   11  2020\n",
       "2   10  2019\n",
       "3   05  2022\n",
       "4   07  2019\n",
       "5   06  2022\n",
       "6   01  2022\n",
       "7   11  2020\n",
       "8   04  2019\n",
       "9   08  2020\n",
       "10  04  2022"
      ]
     },
     "execution_count": 161,
     "metadata": {},
     "output_type": "execute_result"
    }
   ],
   "source": [
    "q.str.extract('(\\S+)/(\\S+)')"
   ]
  },
  {
   "cell_type": "code",
   "execution_count": null,
   "id": "f7eec215-42b4-4c5d-9075-e6eed1c6bcbf",
   "metadata": {},
   "outputs": [],
   "source": []
  },
  {
   "cell_type": "code",
   "execution_count": null,
   "id": "a310edf7-f6de-4c19-8420-b1bf53cbbef7",
   "metadata": {},
   "outputs": [],
   "source": []
  },
  {
   "cell_type": "code",
   "execution_count": null,
   "id": "b2bdf9cf-cf7a-464c-bbdc-52d9f2e77bdd",
   "metadata": {},
   "outputs": [],
   "source": []
  },
  {
   "cell_type": "code",
   "execution_count": null,
   "id": "a3c55f41-cc79-4fc0-96b6-2e91928ae36a",
   "metadata": {},
   "outputs": [],
   "source": []
  },
  {
   "cell_type": "code",
   "execution_count": null,
   "id": "56de3b39-630b-4f24-87a7-8ae882d8277d",
   "metadata": {},
   "outputs": [],
   "source": []
  },
  {
   "cell_type": "code",
   "execution_count": null,
   "id": "91866947-6f12-414a-b42a-70fc6e4b3991",
   "metadata": {},
   "outputs": [],
   "source": []
  },
  {
   "cell_type": "code",
   "execution_count": null,
   "id": "0d569974-77ac-4845-9c3f-ba2f5581bf5e",
   "metadata": {},
   "outputs": [],
   "source": []
  },
  {
   "cell_type": "code",
   "execution_count": null,
   "id": "2a5a37b4-7ccb-449d-b4fc-281e24e067b9",
   "metadata": {},
   "outputs": [],
   "source": []
  }
 ],
 "metadata": {
  "kernelspec": {
   "display_name": "Python 3",
   "language": "python",
   "name": "python3"
  },
  "language_info": {
   "codemirror_mode": {
    "name": "ipython",
    "version": 3
   },
   "file_extension": ".py",
   "mimetype": "text/x-python",
   "name": "python",
   "nbconvert_exporter": "python",
   "pygments_lexer": "ipython3",
   "version": "3.8.8"
  }
 },
 "nbformat": 4,
 "nbformat_minor": 5
}
