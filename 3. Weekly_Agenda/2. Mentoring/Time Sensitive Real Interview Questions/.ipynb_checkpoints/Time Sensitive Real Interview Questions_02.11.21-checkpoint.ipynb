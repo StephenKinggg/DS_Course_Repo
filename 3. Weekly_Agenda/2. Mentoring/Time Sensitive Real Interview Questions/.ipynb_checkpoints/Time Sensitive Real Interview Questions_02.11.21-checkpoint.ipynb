{
 "cells": [
  {
   "cell_type": "code",
   "execution_count": 1,
   "id": "50d6dcf0-0d55-435e-bcbd-98a261fb5da6",
   "metadata": {},
   "outputs": [],
   "source": [
    "import numpy as np\n",
    "import pandas as pd\n",
    "import seaborn as sns\n",
    "import matplotlib.pyplot as plt\n",
    "%matplotlib inline\n",
    "from pandas.plotting import register_matplotlib_converters\n",
    "from pylab import rcParams\n",
    "sns.set_style(\"darkgrid\")\n",
    "\n",
    "import warnings\n",
    "warnings.filterwarnings(\"ignore\")"
   ]
  },
  {
   "cell_type": "code",
   "execution_count": 2,
   "id": "826a3d7f-367c-4a91-981f-1d3613b21bab",
   "metadata": {},
   "outputs": [],
   "source": [
    "df = pd.read_csv('currency_rates_082020_EUR.csv', parse_dates=[\"date\"])"
   ]
  },
  {
   "cell_type": "code",
   "execution_count": null,
   "id": "98768020-14ee-41ed-abd2-cc89794cbd9e",
   "metadata": {},
   "outputs": [],
   "source": [
    "# df = pd.read_csv(‘sales_082020.csv’, parse_dates=[‘date’]) olarak okutursak date datetime olarak alır."
   ]
  },
  {
   "cell_type": "code",
   "execution_count": 3,
   "id": "ff496df2-e6c2-408b-97ec-e3ffe26459cb",
   "metadata": {},
   "outputs": [
    {
     "data": {
      "text/html": [
       "<div>\n",
       "<style scoped>\n",
       "    .dataframe tbody tr th:only-of-type {\n",
       "        vertical-align: middle;\n",
       "    }\n",
       "\n",
       "    .dataframe tbody tr th {\n",
       "        vertical-align: top;\n",
       "    }\n",
       "\n",
       "    .dataframe thead th {\n",
       "        text-align: right;\n",
       "    }\n",
       "</style>\n",
       "<table border=\"1\" class=\"dataframe\">\n",
       "  <thead>\n",
       "    <tr style=\"text-align: right;\">\n",
       "      <th></th>\n",
       "      <th>currency</th>\n",
       "      <th>date</th>\n",
       "      <th>rate</th>\n",
       "    </tr>\n",
       "  </thead>\n",
       "  <tbody>\n",
       "    <tr>\n",
       "      <th>0</th>\n",
       "      <td>EUR</td>\n",
       "      <td>2020-08-01</td>\n",
       "      <td>1.0</td>\n",
       "    </tr>\n",
       "    <tr>\n",
       "      <th>1</th>\n",
       "      <td>EUR</td>\n",
       "      <td>2020-08-02</td>\n",
       "      <td>1.0</td>\n",
       "    </tr>\n",
       "    <tr>\n",
       "      <th>2</th>\n",
       "      <td>EUR</td>\n",
       "      <td>2020-08-03</td>\n",
       "      <td>1.0</td>\n",
       "    </tr>\n",
       "    <tr>\n",
       "      <th>3</th>\n",
       "      <td>EUR</td>\n",
       "      <td>2020-08-04</td>\n",
       "      <td>1.0</td>\n",
       "    </tr>\n",
       "    <tr>\n",
       "      <th>4</th>\n",
       "      <td>EUR</td>\n",
       "      <td>2020-08-05</td>\n",
       "      <td>1.0</td>\n",
       "    </tr>\n",
       "  </tbody>\n",
       "</table>\n",
       "</div>"
      ],
      "text/plain": [
       "  currency       date  rate\n",
       "0      EUR 2020-08-01   1.0\n",
       "1      EUR 2020-08-02   1.0\n",
       "2      EUR 2020-08-03   1.0\n",
       "3      EUR 2020-08-04   1.0\n",
       "4      EUR 2020-08-05   1.0"
      ]
     },
     "execution_count": 3,
     "metadata": {},
     "output_type": "execute_result"
    }
   ],
   "source": [
    "df.head()"
   ]
  },
  {
   "cell_type": "code",
   "execution_count": 4,
   "id": "840e6aae-fc6f-4890-b64c-e60f0978e2b6",
   "metadata": {},
   "outputs": [
    {
     "name": "stdout",
     "output_type": "stream",
     "text": [
      "<class 'pandas.core.frame.DataFrame'>\n",
      "RangeIndex: 220 entries, 0 to 219\n",
      "Data columns (total 3 columns):\n",
      " #   Column    Non-Null Count  Dtype         \n",
      "---  ------    --------------  -----         \n",
      " 0   currency  220 non-null    object        \n",
      " 1   date      220 non-null    datetime64[ns]\n",
      " 2   rate      220 non-null    float64       \n",
      "dtypes: datetime64[ns](1), float64(1), object(1)\n",
      "memory usage: 5.3+ KB\n"
     ]
    }
   ],
   "source": [
    "df.info()"
   ]
  },
  {
   "cell_type": "code",
   "execution_count": 5,
   "id": "8367c8cf-f255-446e-8b3f-9e2636fcce90",
   "metadata": {},
   "outputs": [],
   "source": [
    "df1 = pd.read_csv('sales_082020.csv', parse_dates=['date'])"
   ]
  },
  {
   "cell_type": "code",
   "execution_count": 6,
   "id": "a3625220-6ae3-4124-b33a-7ca885e49139",
   "metadata": {},
   "outputs": [
    {
     "data": {
      "text/html": [
       "<div>\n",
       "<style scoped>\n",
       "    .dataframe tbody tr th:only-of-type {\n",
       "        vertical-align: middle;\n",
       "    }\n",
       "\n",
       "    .dataframe tbody tr th {\n",
       "        vertical-align: top;\n",
       "    }\n",
       "\n",
       "    .dataframe thead th {\n",
       "        text-align: right;\n",
       "    }\n",
       "</style>\n",
       "<table border=\"1\" class=\"dataframe\">\n",
       "  <thead>\n",
       "    <tr style=\"text-align: right;\">\n",
       "      <th></th>\n",
       "      <th>buyer_id</th>\n",
       "      <th>buyer_country</th>\n",
       "      <th>seller_id</th>\n",
       "      <th>seller_country</th>\n",
       "      <th>product_code</th>\n",
       "      <th>category</th>\n",
       "      <th>brand</th>\n",
       "      <th>currency</th>\n",
       "      <th>price</th>\n",
       "      <th>date</th>\n",
       "    </tr>\n",
       "  </thead>\n",
       "  <tbody>\n",
       "    <tr>\n",
       "      <th>0</th>\n",
       "      <td>qzpjsi9t0o</td>\n",
       "      <td>GB</td>\n",
       "      <td>6oufpaot</td>\n",
       "      <td>GB</td>\n",
       "      <td>ydecnydr6obf</td>\n",
       "      <td>Dresses</td>\n",
       "      <td>NaN</td>\n",
       "      <td>GBP</td>\n",
       "      <td>19.11</td>\n",
       "      <td>2020-08-03</td>\n",
       "    </tr>\n",
       "    <tr>\n",
       "      <th>1</th>\n",
       "      <td>o79pns1qwo</td>\n",
       "      <td>GB</td>\n",
       "      <td>50xki2yg</td>\n",
       "      <td>GB</td>\n",
       "      <td>38chj507o6h2</td>\n",
       "      <td>Outerwear</td>\n",
       "      <td>Adidas Originals</td>\n",
       "      <td>GBP</td>\n",
       "      <td>15.92</td>\n",
       "      <td>2020-08-09</td>\n",
       "    </tr>\n",
       "    <tr>\n",
       "      <th>2</th>\n",
       "      <td>sjgbjdkhqx</td>\n",
       "      <td>GB</td>\n",
       "      <td>50xki2yg</td>\n",
       "      <td>GB</td>\n",
       "      <td>i9ynyxj5tdp8</td>\n",
       "      <td>Tops - Mens</td>\n",
       "      <td>NaN</td>\n",
       "      <td>GBP</td>\n",
       "      <td>6.37</td>\n",
       "      <td>2020-08-07</td>\n",
       "    </tr>\n",
       "    <tr>\n",
       "      <th>3</th>\n",
       "      <td>o79pns1qwo</td>\n",
       "      <td>GB</td>\n",
       "      <td>s0p322hh</td>\n",
       "      <td>GB</td>\n",
       "      <td>t50xe7moye8v</td>\n",
       "      <td>Tops - Mens</td>\n",
       "      <td>Berghaus</td>\n",
       "      <td>GBP</td>\n",
       "      <td>25.27</td>\n",
       "      <td>2020-08-09</td>\n",
       "    </tr>\n",
       "    <tr>\n",
       "      <th>4</th>\n",
       "      <td>o79pns1qwo</td>\n",
       "      <td>GB</td>\n",
       "      <td>dpkx192v</td>\n",
       "      <td>GB</td>\n",
       "      <td>hp4r9bjq68af</td>\n",
       "      <td>Bottoms - Womens</td>\n",
       "      <td>NaN</td>\n",
       "      <td>GBP</td>\n",
       "      <td>8.90</td>\n",
       "      <td>2020-08-09</td>\n",
       "    </tr>\n",
       "  </tbody>\n",
       "</table>\n",
       "</div>"
      ],
      "text/plain": [
       "     buyer_id buyer_country seller_id seller_country  product_code  \\\n",
       "0  qzpjsi9t0o            GB  6oufpaot             GB  ydecnydr6obf   \n",
       "1  o79pns1qwo            GB  50xki2yg             GB  38chj507o6h2   \n",
       "2  sjgbjdkhqx            GB  50xki2yg             GB  i9ynyxj5tdp8   \n",
       "3  o79pns1qwo            GB  s0p322hh             GB  t50xe7moye8v   \n",
       "4  o79pns1qwo            GB  dpkx192v             GB  hp4r9bjq68af   \n",
       "\n",
       "           category             brand currency  price       date  \n",
       "0           Dresses               NaN      GBP  19.11 2020-08-03  \n",
       "1         Outerwear  Adidas Originals      GBP  15.92 2020-08-09  \n",
       "2       Tops - Mens               NaN      GBP   6.37 2020-08-07  \n",
       "3       Tops - Mens          Berghaus      GBP  25.27 2020-08-09  \n",
       "4  Bottoms - Womens               NaN      GBP   8.90 2020-08-09  "
      ]
     },
     "execution_count": 6,
     "metadata": {},
     "output_type": "execute_result"
    }
   ],
   "source": [
    "df1.head()"
   ]
  },
  {
   "cell_type": "code",
   "execution_count": 7,
   "id": "0f3a7ba8-3608-401e-b9c9-d077850cb554",
   "metadata": {},
   "outputs": [
    {
     "name": "stdout",
     "output_type": "stream",
     "text": [
      "<class 'pandas.core.frame.DataFrame'>\n",
      "RangeIndex: 237671 entries, 0 to 237670\n",
      "Data columns (total 10 columns):\n",
      " #   Column          Non-Null Count   Dtype         \n",
      "---  ------          --------------   -----         \n",
      " 0   buyer_id        237671 non-null  object        \n",
      " 1   buyer_country   237671 non-null  object        \n",
      " 2   seller_id       237671 non-null  object        \n",
      " 3   seller_country  237671 non-null  object        \n",
      " 4   product_code    237671 non-null  object        \n",
      " 5   category        237655 non-null  object        \n",
      " 6   brand           119330 non-null  object        \n",
      " 7   currency        237671 non-null  object        \n",
      " 8   price           237671 non-null  float64       \n",
      " 9   date            237671 non-null  datetime64[ns]\n",
      "dtypes: datetime64[ns](1), float64(1), object(8)\n",
      "memory usage: 18.1+ MB\n"
     ]
    }
   ],
   "source": [
    "df1.info()"
   ]
  },
  {
   "cell_type": "code",
   "execution_count": 12,
   "id": "5342ecb3-52d0-4ae3-a0e5-f817c0a618a5",
   "metadata": {},
   "outputs": [],
   "source": [
    "# df[\"date\"]=pd.to_datetime(df[\"date\"],format='%d/%m/%Y')"
   ]
  },
  {
   "cell_type": "code",
   "execution_count": 14,
   "id": "e284ea18-4361-4646-9c0e-2d1c58aa81e2",
   "metadata": {},
   "outputs": [],
   "source": [
    "# df1[\"date\"]=pd.to_datetime(df1[\"date\"],format='%Y-%m-%d')"
   ]
  },
  {
   "cell_type": "code",
   "execution_count": null,
   "id": "b2f24e59-bf16-446b-aab7-3a391ac30de7",
   "metadata": {},
   "outputs": [],
   "source": [
    "# df1.duplicated().value_counts()"
   ]
  },
  {
   "cell_type": "code",
   "execution_count": 8,
   "id": "451b5a24-85ce-4739-89f5-1028ba51a3f1",
   "metadata": {},
   "outputs": [
    {
     "name": "stdout",
     "output_type": "stream",
     "text": [
      "237671 rows & 10 columns in this dataset.\n"
     ]
    }
   ],
   "source": [
    "print(f\"{df1.shape[0]} rows & {df1.shape[1]} columns in this dataset.\")"
   ]
  },
  {
   "cell_type": "code",
   "execution_count": 9,
   "id": "aa209db5-f775-48dd-981a-726eff9bdc04",
   "metadata": {},
   "outputs": [
    {
     "data": {
      "text/plain": [
       "array(['GBP', 'USD', 'AUD', 'EUR', 'CAD', 'NZD', 'HKD', 'CHF', 'SEK',\n",
       "       'DKK', 'ILS', 'PLN', 'THB', 'MXN', 'JPY', 'NOK', 'SGD', 'MYR',\n",
       "       'TWD', 'HUF', 'CZK', 'BRL'], dtype=object)"
      ]
     },
     "execution_count": 9,
     "metadata": {},
     "output_type": "execute_result"
    }
   ],
   "source": [
    "df1.currency.unique()"
   ]
  },
  {
   "cell_type": "code",
   "execution_count": 10,
   "id": "0b8ff8c0-b69d-4091-be83-7a6d4232fd3f",
   "metadata": {},
   "outputs": [
    {
     "data": {
      "text/html": [
       "<div>\n",
       "<style scoped>\n",
       "    .dataframe tbody tr th:only-of-type {\n",
       "        vertical-align: middle;\n",
       "    }\n",
       "\n",
       "    .dataframe tbody tr th {\n",
       "        vertical-align: top;\n",
       "    }\n",
       "\n",
       "    .dataframe thead th {\n",
       "        text-align: right;\n",
       "    }\n",
       "</style>\n",
       "<table border=\"1\" class=\"dataframe\">\n",
       "  <thead>\n",
       "    <tr style=\"text-align: right;\">\n",
       "      <th></th>\n",
       "      <th>price</th>\n",
       "    </tr>\n",
       "    <tr>\n",
       "      <th>seller_id</th>\n",
       "      <th></th>\n",
       "    </tr>\n",
       "  </thead>\n",
       "  <tbody>\n",
       "    <tr>\n",
       "      <th>00026zrn</th>\n",
       "      <td>104.52</td>\n",
       "    </tr>\n",
       "    <tr>\n",
       "      <th>000aaqnz</th>\n",
       "      <td>28.04</td>\n",
       "    </tr>\n",
       "    <tr>\n",
       "      <th>0011guej</th>\n",
       "      <td>14.85</td>\n",
       "    </tr>\n",
       "    <tr>\n",
       "      <th>00185ns7</th>\n",
       "      <td>16.75</td>\n",
       "    </tr>\n",
       "    <tr>\n",
       "      <th>001r1gvf</th>\n",
       "      <td>24.34</td>\n",
       "    </tr>\n",
       "    <tr>\n",
       "      <th>...</th>\n",
       "      <td>...</td>\n",
       "    </tr>\n",
       "    <tr>\n",
       "      <th>zzy962vt</th>\n",
       "      <td>38.82</td>\n",
       "    </tr>\n",
       "    <tr>\n",
       "      <th>zzy993vl</th>\n",
       "      <td>38.37</td>\n",
       "    </tr>\n",
       "    <tr>\n",
       "      <th>zzythjtn</th>\n",
       "      <td>5.57</td>\n",
       "    </tr>\n",
       "    <tr>\n",
       "      <th>zzzqa0ik</th>\n",
       "      <td>25.62</td>\n",
       "    </tr>\n",
       "    <tr>\n",
       "      <th>zzzzlrla</th>\n",
       "      <td>13.59</td>\n",
       "    </tr>\n",
       "  </tbody>\n",
       "</table>\n",
       "<p>114227 rows × 1 columns</p>\n",
       "</div>"
      ],
      "text/plain": [
       "            price\n",
       "seller_id        \n",
       "00026zrn   104.52\n",
       "000aaqnz    28.04\n",
       "0011guej    14.85\n",
       "00185ns7    16.75\n",
       "001r1gvf    24.34\n",
       "...           ...\n",
       "zzy962vt    38.82\n",
       "zzy993vl    38.37\n",
       "zzythjtn     5.57\n",
       "zzzqa0ik    25.62\n",
       "zzzzlrla    13.59\n",
       "\n",
       "[114227 rows x 1 columns]"
      ]
     },
     "execution_count": 10,
     "metadata": {},
     "output_type": "execute_result"
    }
   ],
   "source": [
    "df1.groupby(\"seller_id\").sum()"
   ]
  },
  {
   "cell_type": "code",
   "execution_count": 11,
   "id": "343b70b9-5f11-41c8-9d40-22719c79cd8e",
   "metadata": {},
   "outputs": [
    {
     "name": "stdout",
     "output_type": "stream",
     "text": [
      "114227 sellers in dataset.\n"
     ]
    }
   ],
   "source": [
    "print(f\"{df1['seller_id'].nunique()} sellers in dataset.\")"
   ]
  },
  {
   "cell_type": "code",
   "execution_count": null,
   "id": "cd64e8ef-aebc-48ab-96f3-5fd87a71c6b6",
   "metadata": {},
   "outputs": [],
   "source": []
  },
  {
   "cell_type": "code",
   "execution_count": 12,
   "id": "f84adf79-2a53-4478-9948-d346bd1929bb",
   "metadata": {},
   "outputs": [
    {
     "data": {
      "text/plain": [
       "array(['GBP', 'USD', 'AUD', 'EUR', 'CAD', 'NZD', 'HKD', 'CHF', 'SEK',\n",
       "       'DKK', 'ILS', 'PLN', 'THB', 'MXN', 'JPY', 'NOK', 'SGD', 'MYR',\n",
       "       'TWD', 'HUF', 'CZK', 'BRL'], dtype=object)"
      ]
     },
     "execution_count": 12,
     "metadata": {},
     "output_type": "execute_result"
    }
   ],
   "source": [
    "df1['currency'].unique()"
   ]
  },
  {
   "cell_type": "code",
   "execution_count": 13,
   "id": "261c286c-9bef-40f2-b94a-481b8f5845a0",
   "metadata": {},
   "outputs": [],
   "source": [
    "df2 = df1.merge(df, how='left', on=['currency', 'date'])"
   ]
  },
  {
   "cell_type": "code",
   "execution_count": 14,
   "id": "ab3f9cb8-18fd-4539-8656-2eee2e2e3ed2",
   "metadata": {},
   "outputs": [
    {
     "data": {
      "text/html": [
       "<div>\n",
       "<style scoped>\n",
       "    .dataframe tbody tr th:only-of-type {\n",
       "        vertical-align: middle;\n",
       "    }\n",
       "\n",
       "    .dataframe tbody tr th {\n",
       "        vertical-align: top;\n",
       "    }\n",
       "\n",
       "    .dataframe thead th {\n",
       "        text-align: right;\n",
       "    }\n",
       "</style>\n",
       "<table border=\"1\" class=\"dataframe\">\n",
       "  <thead>\n",
       "    <tr style=\"text-align: right;\">\n",
       "      <th></th>\n",
       "      <th>buyer_id</th>\n",
       "      <th>buyer_country</th>\n",
       "      <th>seller_id</th>\n",
       "      <th>seller_country</th>\n",
       "      <th>product_code</th>\n",
       "      <th>category</th>\n",
       "      <th>brand</th>\n",
       "      <th>currency</th>\n",
       "      <th>price</th>\n",
       "      <th>date</th>\n",
       "      <th>rate</th>\n",
       "    </tr>\n",
       "  </thead>\n",
       "  <tbody>\n",
       "    <tr>\n",
       "      <th>0</th>\n",
       "      <td>qzpjsi9t0o</td>\n",
       "      <td>GB</td>\n",
       "      <td>6oufpaot</td>\n",
       "      <td>GB</td>\n",
       "      <td>ydecnydr6obf</td>\n",
       "      <td>Dresses</td>\n",
       "      <td>NaN</td>\n",
       "      <td>GBP</td>\n",
       "      <td>19.11</td>\n",
       "      <td>2020-08-03</td>\n",
       "      <td>0.89935</td>\n",
       "    </tr>\n",
       "    <tr>\n",
       "      <th>1</th>\n",
       "      <td>o79pns1qwo</td>\n",
       "      <td>GB</td>\n",
       "      <td>50xki2yg</td>\n",
       "      <td>GB</td>\n",
       "      <td>38chj507o6h2</td>\n",
       "      <td>Outerwear</td>\n",
       "      <td>Adidas Originals</td>\n",
       "      <td>GBP</td>\n",
       "      <td>15.92</td>\n",
       "      <td>2020-08-09</td>\n",
       "      <td>0.90278</td>\n",
       "    </tr>\n",
       "    <tr>\n",
       "      <th>2</th>\n",
       "      <td>sjgbjdkhqx</td>\n",
       "      <td>GB</td>\n",
       "      <td>50xki2yg</td>\n",
       "      <td>GB</td>\n",
       "      <td>i9ynyxj5tdp8</td>\n",
       "      <td>Tops - Mens</td>\n",
       "      <td>NaN</td>\n",
       "      <td>GBP</td>\n",
       "      <td>6.37</td>\n",
       "      <td>2020-08-07</td>\n",
       "      <td>0.90286</td>\n",
       "    </tr>\n",
       "    <tr>\n",
       "      <th>3</th>\n",
       "      <td>o79pns1qwo</td>\n",
       "      <td>GB</td>\n",
       "      <td>s0p322hh</td>\n",
       "      <td>GB</td>\n",
       "      <td>t50xe7moye8v</td>\n",
       "      <td>Tops - Mens</td>\n",
       "      <td>Berghaus</td>\n",
       "      <td>GBP</td>\n",
       "      <td>25.27</td>\n",
       "      <td>2020-08-09</td>\n",
       "      <td>0.90278</td>\n",
       "    </tr>\n",
       "    <tr>\n",
       "      <th>4</th>\n",
       "      <td>o79pns1qwo</td>\n",
       "      <td>GB</td>\n",
       "      <td>dpkx192v</td>\n",
       "      <td>GB</td>\n",
       "      <td>hp4r9bjq68af</td>\n",
       "      <td>Bottoms - Womens</td>\n",
       "      <td>NaN</td>\n",
       "      <td>GBP</td>\n",
       "      <td>8.90</td>\n",
       "      <td>2020-08-09</td>\n",
       "      <td>0.90278</td>\n",
       "    </tr>\n",
       "  </tbody>\n",
       "</table>\n",
       "</div>"
      ],
      "text/plain": [
       "     buyer_id buyer_country seller_id seller_country  product_code  \\\n",
       "0  qzpjsi9t0o            GB  6oufpaot             GB  ydecnydr6obf   \n",
       "1  o79pns1qwo            GB  50xki2yg             GB  38chj507o6h2   \n",
       "2  sjgbjdkhqx            GB  50xki2yg             GB  i9ynyxj5tdp8   \n",
       "3  o79pns1qwo            GB  s0p322hh             GB  t50xe7moye8v   \n",
       "4  o79pns1qwo            GB  dpkx192v             GB  hp4r9bjq68af   \n",
       "\n",
       "           category             brand currency  price       date     rate  \n",
       "0           Dresses               NaN      GBP  19.11 2020-08-03  0.89935  \n",
       "1         Outerwear  Adidas Originals      GBP  15.92 2020-08-09  0.90278  \n",
       "2       Tops - Mens               NaN      GBP   6.37 2020-08-07  0.90286  \n",
       "3       Tops - Mens          Berghaus      GBP  25.27 2020-08-09  0.90278  \n",
       "4  Bottoms - Womens               NaN      GBP   8.90 2020-08-09  0.90278  "
      ]
     },
     "execution_count": 14,
     "metadata": {},
     "output_type": "execute_result"
    }
   ],
   "source": [
    "df2.head()"
   ]
  },
  {
   "cell_type": "code",
   "execution_count": 15,
   "id": "86b179b6-78a0-485d-a42c-7ced03186134",
   "metadata": {},
   "outputs": [
    {
     "data": {
      "text/plain": [
       "array(['GBP', 'USD', 'AUD', 'EUR', 'CAD', 'NZD', 'HKD', 'CHF', 'SEK',\n",
       "       'DKK', 'ILS', 'PLN', 'THB', 'MXN', 'JPY', 'NOK', 'SGD', 'MYR',\n",
       "       'TWD', 'HUF', 'CZK', 'BRL'], dtype=object)"
      ]
     },
     "execution_count": 15,
     "metadata": {},
     "output_type": "execute_result"
    }
   ],
   "source": [
    "df1['currency'].unique()"
   ]
  },
  {
   "cell_type": "code",
   "execution_count": 16,
   "id": "ee008571-e6c1-4462-968c-c5af58022584",
   "metadata": {},
   "outputs": [],
   "source": [
    "df2['price_€'] = (1 / df2['rate']) * df2['price']"
   ]
  },
  {
   "cell_type": "code",
   "execution_count": 17,
   "id": "808c22c6-ac89-4bae-8988-2f612e8947db",
   "metadata": {},
   "outputs": [
    {
     "data": {
      "text/plain": [
       "6471510.8224988775"
      ]
     },
     "execution_count": 17,
     "metadata": {},
     "output_type": "execute_result"
    }
   ],
   "source": [
    "df2['price_€'].sum()"
   ]
  },
  {
   "cell_type": "code",
   "execution_count": 18,
   "id": "b0fc8064-9301-4d71-acc5-408cffe1fdb5",
   "metadata": {},
   "outputs": [
    {
     "name": "stdout",
     "output_type": "stream",
     "text": [
      "Total sales are €6,471,511.\n"
     ]
    }
   ],
   "source": [
    "print(\"Total sales are €{:,.0f}.\".format(df2['price_€'].sum()))"
   ]
  },
  {
   "cell_type": "code",
   "execution_count": 19,
   "id": "b4fba3a1-32fc-4ad0-aac8-2fc8cfdc4920",
   "metadata": {},
   "outputs": [
    {
     "data": {
      "text/html": [
       "<div>\n",
       "<style scoped>\n",
       "    .dataframe tbody tr th:only-of-type {\n",
       "        vertical-align: middle;\n",
       "    }\n",
       "\n",
       "    .dataframe tbody tr th {\n",
       "        vertical-align: top;\n",
       "    }\n",
       "\n",
       "    .dataframe thead th {\n",
       "        text-align: right;\n",
       "    }\n",
       "</style>\n",
       "<table border=\"1\" class=\"dataframe\">\n",
       "  <thead>\n",
       "    <tr style=\"text-align: right;\">\n",
       "      <th></th>\n",
       "      <th>price_€</th>\n",
       "    </tr>\n",
       "    <tr>\n",
       "      <th>brand</th>\n",
       "      <th></th>\n",
       "    </tr>\n",
       "  </thead>\n",
       "  <tbody>\n",
       "    <tr>\n",
       "      <th>Nike</th>\n",
       "      <td>385022.41</td>\n",
       "    </tr>\n",
       "    <tr>\n",
       "      <th>Adidas</th>\n",
       "      <td>114211.54</td>\n",
       "    </tr>\n",
       "    <tr>\n",
       "      <th>American Vintage</th>\n",
       "      <td>89939.91</td>\n",
       "    </tr>\n",
       "    <tr>\n",
       "      <th>Brandy Melville</th>\n",
       "      <td>87735.66</td>\n",
       "    </tr>\n",
       "    <tr>\n",
       "      <th>Dr. Martens</th>\n",
       "      <td>81491.62</td>\n",
       "    </tr>\n",
       "    <tr>\n",
       "      <th>...</th>\n",
       "      <td>...</td>\n",
       "    </tr>\n",
       "    <tr>\n",
       "      <th>butter LONDON</th>\n",
       "      <td>5.46</td>\n",
       "    </tr>\n",
       "    <tr>\n",
       "      <th>Ann Demeulemeester</th>\n",
       "      <td>5.26</td>\n",
       "    </tr>\n",
       "    <tr>\n",
       "      <th>Popular Sports</th>\n",
       "      <td>4.45</td>\n",
       "    </tr>\n",
       "    <tr>\n",
       "      <th>360 Cashmere</th>\n",
       "      <td>2.85</td>\n",
       "    </tr>\n",
       "    <tr>\n",
       "      <th>36572</th>\n",
       "      <td>0.95</td>\n",
       "    </tr>\n",
       "  </tbody>\n",
       "</table>\n",
       "<p>1134 rows × 1 columns</p>\n",
       "</div>"
      ],
      "text/plain": [
       "                      price_€\n",
       "brand                        \n",
       "Nike                385022.41\n",
       "Adidas              114211.54\n",
       "American Vintage     89939.91\n",
       "Brandy Melville      87735.66\n",
       "Dr. Martens          81491.62\n",
       "...                       ...\n",
       "butter LONDON            5.46\n",
       "Ann Demeulemeester       5.26\n",
       "Popular Sports           4.45\n",
       "360 Cashmere             2.85\n",
       "36572                    0.95\n",
       "\n",
       "[1134 rows x 1 columns]"
      ]
     },
     "execution_count": 19,
     "metadata": {},
     "output_type": "execute_result"
    }
   ],
   "source": [
    "df2.groupby('brand').agg({'price_€': 'sum'}).sort_values(by='price_€', ascending=False).round(2)"
   ]
  },
  {
   "cell_type": "code",
   "execution_count": 20,
   "id": "8a86d00f-e8a5-4393-8363-e8d3b2af6c15",
   "metadata": {},
   "outputs": [
    {
     "data": {
      "text/plain": [
       "'Nike'"
      ]
     },
     "execution_count": 20,
     "metadata": {},
     "output_type": "execute_result"
    }
   ],
   "source": [
    "df2.groupby('brand').agg({'price_€': 'sum'}).sort_values(by='price_€', ascending=False).index[0]"
   ]
  },
  {
   "cell_type": "code",
   "execution_count": null,
   "id": "e528ae70-c1fe-47e6-bf05-a80adbcf2147",
   "metadata": {},
   "outputs": [],
   "source": [
    "# df1.groupby(\"brand\")[\"price\"].sum().sort_values()"
   ]
  },
  {
   "cell_type": "code",
   "execution_count": null,
   "id": "19ac737b-749b-4a24-a826-70809b58cbab",
   "metadata": {},
   "outputs": [],
   "source": []
  },
  {
   "cell_type": "code",
   "execution_count": 21,
   "id": "11d81b72-2842-4065-bf01-24200a2c6f38",
   "metadata": {},
   "outputs": [
    {
     "data": {
      "text/html": [
       "<div>\n",
       "<style scoped>\n",
       "    .dataframe tbody tr th:only-of-type {\n",
       "        vertical-align: middle;\n",
       "    }\n",
       "\n",
       "    .dataframe tbody tr th {\n",
       "        vertical-align: top;\n",
       "    }\n",
       "\n",
       "    .dataframe thead th {\n",
       "        text-align: right;\n",
       "    }\n",
       "</style>\n",
       "<table border=\"1\" class=\"dataframe\">\n",
       "  <thead>\n",
       "    <tr style=\"text-align: right;\">\n",
       "      <th></th>\n",
       "      <th>brand</th>\n",
       "    </tr>\n",
       "    <tr>\n",
       "      <th>category</th>\n",
       "      <th></th>\n",
       "    </tr>\n",
       "  </thead>\n",
       "  <tbody>\n",
       "    <tr>\n",
       "      <th>Tops - Womens</th>\n",
       "      <td>23844</td>\n",
       "    </tr>\n",
       "    <tr>\n",
       "      <th>Tops - Mens</th>\n",
       "      <td>20942</td>\n",
       "    </tr>\n",
       "    <tr>\n",
       "      <th>Bottoms - Womens</th>\n",
       "      <td>18252</td>\n",
       "    </tr>\n",
       "    <tr>\n",
       "      <th>Shoes</th>\n",
       "      <td>16532</td>\n",
       "    </tr>\n",
       "    <tr>\n",
       "      <th>Dresses</th>\n",
       "      <td>10604</td>\n",
       "    </tr>\n",
       "  </tbody>\n",
       "</table>\n",
       "</div>"
      ],
      "text/plain": [
       "                  brand\n",
       "category               \n",
       "Tops - Womens     23844\n",
       "Tops - Mens       20942\n",
       "Bottoms - Womens  18252\n",
       "Shoes             16532\n",
       "Dresses           10604"
      ]
     },
     "execution_count": 21,
     "metadata": {},
     "output_type": "execute_result"
    }
   ],
   "source": [
    "df2.groupby('category').agg({'brand': 'count'}).sort_values(by='brand', ascending=False)[:5]"
   ]
  },
  {
   "cell_type": "code",
   "execution_count": 22,
   "id": "4a138b49-37ad-43f0-be85-d7d6cec6b2cd",
   "metadata": {},
   "outputs": [
    {
     "data": {
      "text/plain": [
       "226311"
      ]
     },
     "execution_count": 22,
     "metadata": {},
     "output_type": "execute_result"
    }
   ],
   "source": [
    "df2['product_code'].nunique()"
   ]
  },
  {
   "cell_type": "code",
   "execution_count": 23,
   "id": "c50520a5-97e5-4114-baba-10dad9e611b5",
   "metadata": {},
   "outputs": [
    {
     "data": {
      "text/html": [
       "<div>\n",
       "<style scoped>\n",
       "    .dataframe tbody tr th:only-of-type {\n",
       "        vertical-align: middle;\n",
       "    }\n",
       "\n",
       "    .dataframe tbody tr th {\n",
       "        vertical-align: top;\n",
       "    }\n",
       "\n",
       "    .dataframe thead th {\n",
       "        text-align: right;\n",
       "    }\n",
       "</style>\n",
       "<table border=\"1\" class=\"dataframe\">\n",
       "  <thead>\n",
       "    <tr style=\"text-align: right;\">\n",
       "      <th></th>\n",
       "      <th>buyer_id</th>\n",
       "      <th>buyer_country</th>\n",
       "      <th>seller_id</th>\n",
       "      <th>seller_country</th>\n",
       "      <th>product_code</th>\n",
       "      <th>category</th>\n",
       "      <th>brand</th>\n",
       "      <th>currency</th>\n",
       "      <th>price</th>\n",
       "      <th>date</th>\n",
       "      <th>rate</th>\n",
       "      <th>price_€</th>\n",
       "    </tr>\n",
       "  </thead>\n",
       "  <tbody>\n",
       "    <tr>\n",
       "      <th>23</th>\n",
       "      <td>94lh9gu3bu</td>\n",
       "      <td>US</td>\n",
       "      <td>dhsa2q6o</td>\n",
       "      <td>US</td>\n",
       "      <td>1m846u2l2dyl</td>\n",
       "      <td>Jewellery</td>\n",
       "      <td>NaN</td>\n",
       "      <td>USD</td>\n",
       "      <td>16.29</td>\n",
       "      <td>2020-08-03</td>\n",
       "      <td>1.176250</td>\n",
       "      <td>13.849097</td>\n",
       "    </tr>\n",
       "    <tr>\n",
       "      <th>48</th>\n",
       "      <td>u8da411658</td>\n",
       "      <td>AU</td>\n",
       "      <td>qn7p4cv2</td>\n",
       "      <td>AU</td>\n",
       "      <td>dd4d4p2h4us2</td>\n",
       "      <td>Jewellery</td>\n",
       "      <td>NaN</td>\n",
       "      <td>AUD</td>\n",
       "      <td>12.52</td>\n",
       "      <td>2020-08-07</td>\n",
       "      <td>1.646397</td>\n",
       "      <td>7.604484</td>\n",
       "    </tr>\n",
       "    <tr>\n",
       "      <th>49</th>\n",
       "      <td>9exo58j839</td>\n",
       "      <td>AU</td>\n",
       "      <td>qn7p4cv2</td>\n",
       "      <td>AU</td>\n",
       "      <td>6nogqtmgfjsn</td>\n",
       "      <td>Jewellery</td>\n",
       "      <td>NaN</td>\n",
       "      <td>AUD</td>\n",
       "      <td>8.48</td>\n",
       "      <td>2020-08-09</td>\n",
       "      <td>1.646306</td>\n",
       "      <td>5.150926</td>\n",
       "    </tr>\n",
       "    <tr>\n",
       "      <th>50</th>\n",
       "      <td>9exo58j839</td>\n",
       "      <td>AU</td>\n",
       "      <td>qn7p4cv2</td>\n",
       "      <td>AU</td>\n",
       "      <td>w5ixs8y20z3n</td>\n",
       "      <td>Jewellery</td>\n",
       "      <td>NaN</td>\n",
       "      <td>AUD</td>\n",
       "      <td>5.58</td>\n",
       "      <td>2020-08-09</td>\n",
       "      <td>1.646306</td>\n",
       "      <td>3.389406</td>\n",
       "    </tr>\n",
       "    <tr>\n",
       "      <th>51</th>\n",
       "      <td>9exo58j839</td>\n",
       "      <td>AU</td>\n",
       "      <td>qn7p4cv2</td>\n",
       "      <td>AU</td>\n",
       "      <td>g5usn39z8b7u</td>\n",
       "      <td>Jewellery</td>\n",
       "      <td>NaN</td>\n",
       "      <td>AUD</td>\n",
       "      <td>5.37</td>\n",
       "      <td>2020-08-09</td>\n",
       "      <td>1.646306</td>\n",
       "      <td>3.261848</td>\n",
       "    </tr>\n",
       "    <tr>\n",
       "      <th>...</th>\n",
       "      <td>...</td>\n",
       "      <td>...</td>\n",
       "      <td>...</td>\n",
       "      <td>...</td>\n",
       "      <td>...</td>\n",
       "      <td>...</td>\n",
       "      <td>...</td>\n",
       "      <td>...</td>\n",
       "      <td>...</td>\n",
       "      <td>...</td>\n",
       "      <td>...</td>\n",
       "      <td>...</td>\n",
       "    </tr>\n",
       "    <tr>\n",
       "      <th>237545</th>\n",
       "      <td>rabu7nz8gn</td>\n",
       "      <td>US</td>\n",
       "      <td>rv5nmiwq</td>\n",
       "      <td>US</td>\n",
       "      <td>ikfosml5pjas</td>\n",
       "      <td>Jewellery</td>\n",
       "      <td>NaN</td>\n",
       "      <td>USD</td>\n",
       "      <td>21.19</td>\n",
       "      <td>2020-08-05</td>\n",
       "      <td>1.187255</td>\n",
       "      <td>17.847893</td>\n",
       "    </tr>\n",
       "    <tr>\n",
       "      <th>237568</th>\n",
       "      <td>ytjobx2wzg</td>\n",
       "      <td>GB</td>\n",
       "      <td>qib5sh0l</td>\n",
       "      <td>GB</td>\n",
       "      <td>tn00dvezdp43</td>\n",
       "      <td>Jewellery</td>\n",
       "      <td>NaN</td>\n",
       "      <td>GBP</td>\n",
       "      <td>1.15</td>\n",
       "      <td>2020-08-05</td>\n",
       "      <td>0.904500</td>\n",
       "      <td>1.271421</td>\n",
       "    </tr>\n",
       "    <tr>\n",
       "      <th>237569</th>\n",
       "      <td>ytjobx2wzg</td>\n",
       "      <td>GB</td>\n",
       "      <td>qib5sh0l</td>\n",
       "      <td>GB</td>\n",
       "      <td>eykndnmcb4g6</td>\n",
       "      <td>Jewellery</td>\n",
       "      <td>NaN</td>\n",
       "      <td>GBP</td>\n",
       "      <td>1.15</td>\n",
       "      <td>2020-08-05</td>\n",
       "      <td>0.904500</td>\n",
       "      <td>1.271421</td>\n",
       "    </tr>\n",
       "    <tr>\n",
       "      <th>237616</th>\n",
       "      <td>p0jol2ieus</td>\n",
       "      <td>US</td>\n",
       "      <td>4pi8qok2</td>\n",
       "      <td>US</td>\n",
       "      <td>0ipj5zmes1cu</td>\n",
       "      <td>Jewellery</td>\n",
       "      <td>NaN</td>\n",
       "      <td>USD</td>\n",
       "      <td>18.67</td>\n",
       "      <td>2020-08-08</td>\n",
       "      <td>1.178700</td>\n",
       "      <td>15.839484</td>\n",
       "    </tr>\n",
       "    <tr>\n",
       "      <th>237643</th>\n",
       "      <td>q86525x69t</td>\n",
       "      <td>GB</td>\n",
       "      <td>33hffrhq</td>\n",
       "      <td>GB</td>\n",
       "      <td>426jwzj6b2uz</td>\n",
       "      <td>Jewellery</td>\n",
       "      <td>NaN</td>\n",
       "      <td>GBP</td>\n",
       "      <td>5.30</td>\n",
       "      <td>2020-08-05</td>\n",
       "      <td>0.904500</td>\n",
       "      <td>5.859591</td>\n",
       "    </tr>\n",
       "  </tbody>\n",
       "</table>\n",
       "<p>13525 rows × 12 columns</p>\n",
       "</div>"
      ],
      "text/plain": [
       "          buyer_id buyer_country seller_id seller_country  product_code  \\\n",
       "23      94lh9gu3bu            US  dhsa2q6o             US  1m846u2l2dyl   \n",
       "48      u8da411658            AU  qn7p4cv2             AU  dd4d4p2h4us2   \n",
       "49      9exo58j839            AU  qn7p4cv2             AU  6nogqtmgfjsn   \n",
       "50      9exo58j839            AU  qn7p4cv2             AU  w5ixs8y20z3n   \n",
       "51      9exo58j839            AU  qn7p4cv2             AU  g5usn39z8b7u   \n",
       "...            ...           ...       ...            ...           ...   \n",
       "237545  rabu7nz8gn            US  rv5nmiwq             US  ikfosml5pjas   \n",
       "237568  ytjobx2wzg            GB  qib5sh0l             GB  tn00dvezdp43   \n",
       "237569  ytjobx2wzg            GB  qib5sh0l             GB  eykndnmcb4g6   \n",
       "237616  p0jol2ieus            US  4pi8qok2             US  0ipj5zmes1cu   \n",
       "237643  q86525x69t            GB  33hffrhq             GB  426jwzj6b2uz   \n",
       "\n",
       "         category brand currency  price       date      rate    price_€  \n",
       "23      Jewellery   NaN      USD  16.29 2020-08-03  1.176250  13.849097  \n",
       "48      Jewellery   NaN      AUD  12.52 2020-08-07  1.646397   7.604484  \n",
       "49      Jewellery   NaN      AUD   8.48 2020-08-09  1.646306   5.150926  \n",
       "50      Jewellery   NaN      AUD   5.58 2020-08-09  1.646306   3.389406  \n",
       "51      Jewellery   NaN      AUD   5.37 2020-08-09  1.646306   3.261848  \n",
       "...           ...   ...      ...    ...        ...       ...        ...  \n",
       "237545  Jewellery   NaN      USD  21.19 2020-08-05  1.187255  17.847893  \n",
       "237568  Jewellery   NaN      GBP   1.15 2020-08-05  0.904500   1.271421  \n",
       "237569  Jewellery   NaN      GBP   1.15 2020-08-05  0.904500   1.271421  \n",
       "237616  Jewellery   NaN      USD  18.67 2020-08-08  1.178700  15.839484  \n",
       "237643  Jewellery   NaN      GBP   5.30 2020-08-05  0.904500   5.859591  \n",
       "\n",
       "[13525 rows x 12 columns]"
      ]
     },
     "execution_count": 23,
     "metadata": {},
     "output_type": "execute_result"
    }
   ],
   "source": [
    "df2[(df2['category'] == 'Jewellery') & (df2['brand'].isnull())]"
   ]
  },
  {
   "cell_type": "code",
   "execution_count": 24,
   "id": "53e092da-9826-405a-8dc2-3b942cb3c188",
   "metadata": {},
   "outputs": [
    {
     "data": {
      "text/plain": [
       "10931"
      ]
     },
     "execution_count": 24,
     "metadata": {},
     "output_type": "execute_result"
    }
   ],
   "source": [
    "df2[(df2['category'] == 'Jewellery') & (df2['brand'].isnull())][\"product_code\"].nunique()"
   ]
  },
  {
   "cell_type": "code",
   "execution_count": null,
   "id": "6262c3be-033a-49ae-95b3-7bbfd14e3747",
   "metadata": {},
   "outputs": [],
   "source": [
    "# df2.groupby(\"category\").get_group(\"Jewellery\").brand.isnull()\n",
    "\n",
    "# [\"product_code\"].nunique()"
   ]
  },
  {
   "cell_type": "code",
   "execution_count": null,
   "id": "b6a3b270-761f-4d5c-99ee-76a37399b5f8",
   "metadata": {},
   "outputs": [],
   "source": []
  },
  {
   "cell_type": "code",
   "execution_count": null,
   "id": "78da682a-7e86-4e8e-8c69-39a284fa1da8",
   "metadata": {},
   "outputs": [],
   "source": []
  },
  {
   "cell_type": "code",
   "execution_count": null,
   "id": "aa7ce094-b812-45dd-a5f1-3d415d2a830d",
   "metadata": {},
   "outputs": [],
   "source": []
  },
  {
   "cell_type": "code",
   "execution_count": null,
   "id": "846fafbf-46dc-44f3-9cc8-b47920235fb2",
   "metadata": {},
   "outputs": [],
   "source": []
  },
  {
   "cell_type": "code",
   "execution_count": null,
   "id": "3fae966e-8486-47fb-867c-54e75536d4c4",
   "metadata": {},
   "outputs": [],
   "source": []
  }
 ],
 "metadata": {
  "kernelspec": {
   "display_name": "Python 3",
   "language": "python",
   "name": "python3"
  },
  "language_info": {
   "codemirror_mode": {
    "name": "ipython",
    "version": 3
   },
   "file_extension": ".py",
   "mimetype": "text/x-python",
   "name": "python",
   "nbconvert_exporter": "python",
   "pygments_lexer": "ipython3",
   "version": "3.8.8"
  }
 },
 "nbformat": 4,
 "nbformat_minor": 5
}
