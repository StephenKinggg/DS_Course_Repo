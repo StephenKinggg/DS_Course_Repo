{
  "cells": [
    {
      "cell_type": "markdown",
      "metadata": {
        "id": "4UCsvzbImqZN"
      },
      "source": [
        "___\n",
        "\n",
        "<p style=\"text-align: center;\"><img src=\"https://docs.google.com/uc?id=1lY0Uj5R04yMY3-ZppPWxqCr5pvBLYPnV\" class=\"img-fluid\" alt=\"CLRSWY\"></p>\n",
        "\n",
        "___"
      ]
    },
    {
      "cell_type": "markdown",
      "metadata": {
        "id": "i5WapR8JmqZN"
      },
      "source": [
        "# WELCOME!"
      ]
    },
    {
      "cell_type": "markdown",
      "metadata": {
        "id": "ZyeGWbuTmqZN"
      },
      "source": [
        "Welcome to \"***Car Price Prediction Project***\". This is the first medium project of ***Machine Learning*** course. In this project you will have the opportunity to apply many algorithms commonly used for regression problems.\n",
        "\n",
        "Also, you will apply various processes such as pre-processing, ***train-test spilit*** and ***cross validation*** that you will use in algorithm modeling and prediction processes in Python with ***scikit-learn***. \n",
        "\n",
        "Before diving into the project, please take a look at the determines and tasks.\n",
        "\n",
        "- **NOTE:** This project assumes that you already know the basics of coding in Python. You should also be familiar with the theory behind regression algorithms and scikit-learn module as well as Machine Learning before you begin.\n"
      ]
    },
    {
      "cell_type": "markdown",
      "metadata": {
        "id": "c0Iul5QymqZN"
      },
      "source": [
        "# #Determines\n",
        "\n",
        "**Auto Scout** data which using for this project, scraped from the on-line car trading company(https://www.autoscout24.com)in 2019, contains many features of 9 different car models. In this project, you will use the data set which is already preprocessed and prepared for algorithms .\n",
        "\n",
        "The aim of this project to understand of machine learning algorithms. Therefore, you will not need any EDA process as you will be working on the edited data.\n",
        "\n",
        "---\n",
        "\n",
        "In this Senario, you will estimate the prices of cars using regression algorithms.\n",
        "\n",
        "While starting you should import the necessary modules and load the data given as pkl file. Also you'll need to do a few pre-processing before moving to modelling. After that you will implement ***Linear Regression, Ridge Regression, Lasso Regression,and Elastic-Net algorithms respectively*** (After completion of Unsupervised Learning section, you can also add bagging and boosting algorithms such as ***Random Forest and XG Boost*** this notebook to develop the project). You can measure the success of your models with regression evaluation metrics as well as with cross validation method.\n",
        "\n",
        "For the better results, you should try to increase the success of your models by performing hyperparameter tuning. Determine feature importances for the model. You can set your model with the most important features for resource saving. You should try to apply this especially in Random Forest and XG Boost algorithms. Unlike the others, you will perform hyperparameter tuning for Random Forest and XG Boost using the ***GridSearchCV*** method. \n",
        "\n",
        "Finally You can compare the performances of algorithms, work more on the algorithm have the most successful prediction rate.\n",
        "\n",
        "\n",
        "\n",
        "\n"
      ]
    },
    {
      "cell_type": "markdown",
      "metadata": {
        "id": "pL-jJ1irmqZN"
      },
      "source": [
        "# #Tasks\n",
        "\n",
        "#### 1. Import Modules, Load Data and Data Review\n",
        "#### 2. Data Pre-Processing\n",
        "#### 3. Implement Linear Regression \n",
        "#### 4. Implement Ridge Regression\n",
        "#### 5. Implement Lasso Regression \n",
        "#### 6. Implement Elastic-Net\n",
        "#### 7. Visually Compare Models Performance In a Graph"
      ]
    },
    {
      "cell_type": "markdown",
      "metadata": {
        "id": "Rik6d_vimqZN"
      },
      "source": [
        "## 1. Import Modules, Load Data and Data Review"
      ]
    },
    {
      "cell_type": "code",
      "execution_count": 1,
      "metadata": {
        "id": "QBddHlqgmqZN"
      },
      "outputs": [],
      "source": [
        "import numpy as np\n",
        "import pandas as pd\n",
        "import matplotlib.pyplot as plt\n",
        "import seaborn as sns"
      ]
    },
    {
      "cell_type": "code",
      "execution_count": 16,
      "metadata": {},
      "outputs": [],
      "source": [
        "# split the data into train and test\n",
        "from sklearn.model_selection import train_test_split\n",
        "\n",
        "# to build linear regression_model\n",
        "from sklearn.linear_model import LinearRegression\n",
        "\n",
        "# to check model performance\n",
        "from sklearn.metrics import mean_absolute_error, mean_squared_error, r2_score"
      ]
    },
    {
      "cell_type": "markdown",
      "metadata": {
        "id": "QsEUUAAKmqZN"
      },
      "source": [
        "## 2. Data Pre-Processing"
      ]
    },
    {
      "cell_type": "markdown",
      "metadata": {
        "id": "QtVkM6f2mqZN"
      },
      "source": [
        "As you know, the data set must be edited before proceeding to the implementation of the model. As the last step before model fitting, you need to spilit the data set as train and test. Then, you should train the model with train data and evaluate the performance of the model on the test data. You can use the train and test data you have created for all algorithms.\n",
        "\n",
        "You must also drop your target variable, the column you are trying to predict."
      ]
    },
    {
      "cell_type": "markdown",
      "metadata": {
        "id": "K7d_92iemqZN"
      },
      "source": [
        "You can use many [performance metrics for regression](https://medium.com/analytics-vidhya/evaluation-metrics-for-regression-problems-343c4923d922) to measure the performance of the regression model you train. You can define a function to view different metric results together.\n",
        "\n",
        "You can also use the [cross validation](https://towardsdatascience.com/cross-validation-explained-evaluating-estimator-performance-e51e5430ff85) method to measure the estimator performance. Cross validation uses different data samples from your test set and calculates the accuracy score for each data sample. You can calculate the final performance of your estimator by averaging these scores."
      ]
    },
    {
      "cell_type": "code",
      "execution_count": 6,
      "metadata": {
        "id": "-3gMQ3utmqZN"
      },
      "outputs": [
        {
          "data": {
            "text/html": [
              "<div>\n",
              "<style scoped>\n",
              "    .dataframe tbody tr th:only-of-type {\n",
              "        vertical-align: middle;\n",
              "    }\n",
              "\n",
              "    .dataframe tbody tr th {\n",
              "        vertical-align: top;\n",
              "    }\n",
              "\n",
              "    .dataframe thead th {\n",
              "        text-align: right;\n",
              "    }\n",
              "</style>\n",
              "<table border=\"1\" class=\"dataframe\">\n",
              "  <thead>\n",
              "    <tr style=\"text-align: right;\">\n",
              "      <th></th>\n",
              "      <th>0</th>\n",
              "      <th>1</th>\n",
              "      <th>2</th>\n",
              "      <th>3</th>\n",
              "      <th>4</th>\n",
              "    </tr>\n",
              "  </thead>\n",
              "  <tbody>\n",
              "    <tr>\n",
              "      <th>price</th>\n",
              "      <td>15770.0</td>\n",
              "      <td>14500.0</td>\n",
              "      <td>14640.0</td>\n",
              "      <td>14500.0</td>\n",
              "      <td>16790.0</td>\n",
              "    </tr>\n",
              "    <tr>\n",
              "      <th>km</th>\n",
              "      <td>56013.0</td>\n",
              "      <td>80000.0</td>\n",
              "      <td>83450.0</td>\n",
              "      <td>73000.0</td>\n",
              "      <td>16200.0</td>\n",
              "    </tr>\n",
              "    <tr>\n",
              "      <th>Gears</th>\n",
              "      <td>7.0</td>\n",
              "      <td>7.0</td>\n",
              "      <td>7.0</td>\n",
              "      <td>6.0</td>\n",
              "      <td>7.0</td>\n",
              "    </tr>\n",
              "    <tr>\n",
              "      <th>age</th>\n",
              "      <td>3.0</td>\n",
              "      <td>2.0</td>\n",
              "      <td>3.0</td>\n",
              "      <td>3.0</td>\n",
              "      <td>3.0</td>\n",
              "    </tr>\n",
              "    <tr>\n",
              "      <th>Previous_Owners</th>\n",
              "      <td>2.0</td>\n",
              "      <td>1.0</td>\n",
              "      <td>1.0</td>\n",
              "      <td>1.0</td>\n",
              "      <td>1.0</td>\n",
              "    </tr>\n",
              "    <tr>\n",
              "      <th>...</th>\n",
              "      <td>...</td>\n",
              "      <td>...</td>\n",
              "      <td>...</td>\n",
              "      <td>...</td>\n",
              "      <td>...</td>\n",
              "    </tr>\n",
              "    <tr>\n",
              "      <th>Gearing_Type_Manual</th>\n",
              "      <td>0.0</td>\n",
              "      <td>0.0</td>\n",
              "      <td>0.0</td>\n",
              "      <td>0.0</td>\n",
              "      <td>0.0</td>\n",
              "    </tr>\n",
              "    <tr>\n",
              "      <th>Gearing_Type_Semi-automatic</th>\n",
              "      <td>0.0</td>\n",
              "      <td>0.0</td>\n",
              "      <td>0.0</td>\n",
              "      <td>0.0</td>\n",
              "      <td>0.0</td>\n",
              "    </tr>\n",
              "    <tr>\n",
              "      <th>Drive_chain_4WD</th>\n",
              "      <td>0.0</td>\n",
              "      <td>0.0</td>\n",
              "      <td>0.0</td>\n",
              "      <td>0.0</td>\n",
              "      <td>0.0</td>\n",
              "    </tr>\n",
              "    <tr>\n",
              "      <th>Drive_chain_front</th>\n",
              "      <td>1.0</td>\n",
              "      <td>1.0</td>\n",
              "      <td>1.0</td>\n",
              "      <td>1.0</td>\n",
              "      <td>1.0</td>\n",
              "    </tr>\n",
              "    <tr>\n",
              "      <th>Drive_chain_rear</th>\n",
              "      <td>0.0</td>\n",
              "      <td>0.0</td>\n",
              "      <td>0.0</td>\n",
              "      <td>0.0</td>\n",
              "      <td>0.0</td>\n",
              "    </tr>\n",
              "  </tbody>\n",
              "</table>\n",
              "<p>143 rows × 5 columns</p>\n",
              "</div>"
            ],
            "text/plain": [
              "                                   0        1        2        3        4\n",
              "price                        15770.0  14500.0  14640.0  14500.0  16790.0\n",
              "km                           56013.0  80000.0  83450.0  73000.0  16200.0\n",
              "Gears                            7.0      7.0      7.0      6.0      7.0\n",
              "age                              3.0      2.0      3.0      3.0      3.0\n",
              "Previous_Owners                  2.0      1.0      1.0      1.0      1.0\n",
              "...                              ...      ...      ...      ...      ...\n",
              "Gearing_Type_Manual              0.0      0.0      0.0      0.0      0.0\n",
              "Gearing_Type_Semi-automatic      0.0      0.0      0.0      0.0      0.0\n",
              "Drive_chain_4WD                  0.0      0.0      0.0      0.0      0.0\n",
              "Drive_chain_front                1.0      1.0      1.0      1.0      1.0\n",
              "Drive_chain_rear                 0.0      0.0      0.0      0.0      0.0\n",
              "\n",
              "[143 rows x 5 columns]"
            ]
          },
          "execution_count": 6,
          "metadata": {},
          "output_type": "execute_result"
        }
      ],
      "source": [
        "df = pd.read_csv(\"final_scout_dummy.csv\")\n",
        "df.head().T"
      ]
    },
    {
      "cell_type": "code",
      "execution_count": 7,
      "metadata": {},
      "outputs": [
        {
          "data": {
            "text/plain": [
              "(15915, 143)"
            ]
          },
          "execution_count": 7,
          "metadata": {},
          "output_type": "execute_result"
        }
      ],
      "source": [
        "df.shape"
      ]
    },
    {
      "cell_type": "code",
      "execution_count": 8,
      "metadata": {},
      "outputs": [
        {
          "data": {
            "text/plain": [
              "Index(['price', 'km', 'Gears', 'age', 'Previous_Owners', 'hp_kW',\n",
              "       'Inspection_new', 'Displacement_cc', 'Weight_kg', 'cons_comb',\n",
              "       ...\n",
              "       'Paint_Type_Perl effect', 'Paint_Type_Uni/basic',\n",
              "       'Upholstery_type_Cloth', 'Upholstery_type_Part/Full Leather',\n",
              "       'Gearing_Type_Automatic', 'Gearing_Type_Manual',\n",
              "       'Gearing_Type_Semi-automatic', 'Drive_chain_4WD', 'Drive_chain_front',\n",
              "       'Drive_chain_rear'],\n",
              "      dtype='object', length=143)"
            ]
          },
          "execution_count": 8,
          "metadata": {},
          "output_type": "execute_result"
        }
      ],
      "source": [
        "df.columns"
      ]
    },
    {
      "cell_type": "code",
      "execution_count": 14,
      "metadata": {},
      "outputs": [
        {
          "name": "stdout",
          "output_type": "stream",
          "text": [
            "<class 'pandas.core.frame.DataFrame'>\n",
            "RangeIndex: 15915 entries, 0 to 15914\n",
            "Columns: 143 entries, price to Drive_chain_rear\n",
            "dtypes: float64(8), int64(135)\n",
            "memory usage: 17.4 MB\n"
          ]
        }
      ],
      "source": [
        "df.info()"
      ]
    },
    {
      "cell_type": "code",
      "execution_count": 15,
      "metadata": {},
      "outputs": [
        {
          "data": {
            "text/html": [
              "<div>\n",
              "<style scoped>\n",
              "    .dataframe tbody tr th:only-of-type {\n",
              "        vertical-align: middle;\n",
              "    }\n",
              "\n",
              "    .dataframe tbody tr th {\n",
              "        vertical-align: top;\n",
              "    }\n",
              "\n",
              "    .dataframe thead th {\n",
              "        text-align: right;\n",
              "    }\n",
              "</style>\n",
              "<table border=\"1\" class=\"dataframe\">\n",
              "  <thead>\n",
              "    <tr style=\"text-align: right;\">\n",
              "      <th></th>\n",
              "      <th>price</th>\n",
              "      <th>km</th>\n",
              "      <th>Gears</th>\n",
              "      <th>age</th>\n",
              "      <th>Previous_Owners</th>\n",
              "      <th>hp_kW</th>\n",
              "      <th>Inspection_new</th>\n",
              "      <th>Displacement_cc</th>\n",
              "      <th>Weight_kg</th>\n",
              "      <th>cons_comb</th>\n",
              "      <th>...</th>\n",
              "      <th>Paint_Type_Perl effect</th>\n",
              "      <th>Paint_Type_Uni/basic</th>\n",
              "      <th>Upholstery_type_Cloth</th>\n",
              "      <th>Upholstery_type_Part/Full Leather</th>\n",
              "      <th>Gearing_Type_Automatic</th>\n",
              "      <th>Gearing_Type_Manual</th>\n",
              "      <th>Gearing_Type_Semi-automatic</th>\n",
              "      <th>Drive_chain_4WD</th>\n",
              "      <th>Drive_chain_front</th>\n",
              "      <th>Drive_chain_rear</th>\n",
              "    </tr>\n",
              "  </thead>\n",
              "  <tbody>\n",
              "    <tr>\n",
              "      <th>0</th>\n",
              "      <td>False</td>\n",
              "      <td>False</td>\n",
              "      <td>False</td>\n",
              "      <td>False</td>\n",
              "      <td>False</td>\n",
              "      <td>False</td>\n",
              "      <td>False</td>\n",
              "      <td>False</td>\n",
              "      <td>False</td>\n",
              "      <td>False</td>\n",
              "      <td>...</td>\n",
              "      <td>False</td>\n",
              "      <td>False</td>\n",
              "      <td>False</td>\n",
              "      <td>False</td>\n",
              "      <td>False</td>\n",
              "      <td>False</td>\n",
              "      <td>False</td>\n",
              "      <td>False</td>\n",
              "      <td>False</td>\n",
              "      <td>False</td>\n",
              "    </tr>\n",
              "    <tr>\n",
              "      <th>1</th>\n",
              "      <td>False</td>\n",
              "      <td>False</td>\n",
              "      <td>False</td>\n",
              "      <td>False</td>\n",
              "      <td>False</td>\n",
              "      <td>False</td>\n",
              "      <td>False</td>\n",
              "      <td>False</td>\n",
              "      <td>False</td>\n",
              "      <td>False</td>\n",
              "      <td>...</td>\n",
              "      <td>False</td>\n",
              "      <td>False</td>\n",
              "      <td>False</td>\n",
              "      <td>False</td>\n",
              "      <td>False</td>\n",
              "      <td>False</td>\n",
              "      <td>False</td>\n",
              "      <td>False</td>\n",
              "      <td>False</td>\n",
              "      <td>False</td>\n",
              "    </tr>\n",
              "    <tr>\n",
              "      <th>2</th>\n",
              "      <td>False</td>\n",
              "      <td>False</td>\n",
              "      <td>False</td>\n",
              "      <td>False</td>\n",
              "      <td>False</td>\n",
              "      <td>False</td>\n",
              "      <td>False</td>\n",
              "      <td>False</td>\n",
              "      <td>False</td>\n",
              "      <td>False</td>\n",
              "      <td>...</td>\n",
              "      <td>False</td>\n",
              "      <td>False</td>\n",
              "      <td>False</td>\n",
              "      <td>False</td>\n",
              "      <td>False</td>\n",
              "      <td>False</td>\n",
              "      <td>False</td>\n",
              "      <td>False</td>\n",
              "      <td>False</td>\n",
              "      <td>False</td>\n",
              "    </tr>\n",
              "    <tr>\n",
              "      <th>3</th>\n",
              "      <td>False</td>\n",
              "      <td>False</td>\n",
              "      <td>False</td>\n",
              "      <td>False</td>\n",
              "      <td>False</td>\n",
              "      <td>False</td>\n",
              "      <td>False</td>\n",
              "      <td>False</td>\n",
              "      <td>False</td>\n",
              "      <td>False</td>\n",
              "      <td>...</td>\n",
              "      <td>False</td>\n",
              "      <td>False</td>\n",
              "      <td>False</td>\n",
              "      <td>False</td>\n",
              "      <td>False</td>\n",
              "      <td>False</td>\n",
              "      <td>False</td>\n",
              "      <td>False</td>\n",
              "      <td>False</td>\n",
              "      <td>False</td>\n",
              "    </tr>\n",
              "    <tr>\n",
              "      <th>4</th>\n",
              "      <td>False</td>\n",
              "      <td>False</td>\n",
              "      <td>False</td>\n",
              "      <td>False</td>\n",
              "      <td>False</td>\n",
              "      <td>False</td>\n",
              "      <td>False</td>\n",
              "      <td>False</td>\n",
              "      <td>False</td>\n",
              "      <td>False</td>\n",
              "      <td>...</td>\n",
              "      <td>False</td>\n",
              "      <td>False</td>\n",
              "      <td>False</td>\n",
              "      <td>False</td>\n",
              "      <td>False</td>\n",
              "      <td>False</td>\n",
              "      <td>False</td>\n",
              "      <td>False</td>\n",
              "      <td>False</td>\n",
              "      <td>False</td>\n",
              "    </tr>\n",
              "    <tr>\n",
              "      <th>...</th>\n",
              "      <td>...</td>\n",
              "      <td>...</td>\n",
              "      <td>...</td>\n",
              "      <td>...</td>\n",
              "      <td>...</td>\n",
              "      <td>...</td>\n",
              "      <td>...</td>\n",
              "      <td>...</td>\n",
              "      <td>...</td>\n",
              "      <td>...</td>\n",
              "      <td>...</td>\n",
              "      <td>...</td>\n",
              "      <td>...</td>\n",
              "      <td>...</td>\n",
              "      <td>...</td>\n",
              "      <td>...</td>\n",
              "      <td>...</td>\n",
              "      <td>...</td>\n",
              "      <td>...</td>\n",
              "      <td>...</td>\n",
              "      <td>...</td>\n",
              "    </tr>\n",
              "    <tr>\n",
              "      <th>15910</th>\n",
              "      <td>False</td>\n",
              "      <td>False</td>\n",
              "      <td>False</td>\n",
              "      <td>False</td>\n",
              "      <td>False</td>\n",
              "      <td>False</td>\n",
              "      <td>False</td>\n",
              "      <td>False</td>\n",
              "      <td>False</td>\n",
              "      <td>False</td>\n",
              "      <td>...</td>\n",
              "      <td>False</td>\n",
              "      <td>False</td>\n",
              "      <td>False</td>\n",
              "      <td>False</td>\n",
              "      <td>False</td>\n",
              "      <td>False</td>\n",
              "      <td>False</td>\n",
              "      <td>False</td>\n",
              "      <td>False</td>\n",
              "      <td>False</td>\n",
              "    </tr>\n",
              "    <tr>\n",
              "      <th>15911</th>\n",
              "      <td>False</td>\n",
              "      <td>False</td>\n",
              "      <td>False</td>\n",
              "      <td>False</td>\n",
              "      <td>False</td>\n",
              "      <td>False</td>\n",
              "      <td>False</td>\n",
              "      <td>False</td>\n",
              "      <td>False</td>\n",
              "      <td>False</td>\n",
              "      <td>...</td>\n",
              "      <td>False</td>\n",
              "      <td>False</td>\n",
              "      <td>False</td>\n",
              "      <td>False</td>\n",
              "      <td>False</td>\n",
              "      <td>False</td>\n",
              "      <td>False</td>\n",
              "      <td>False</td>\n",
              "      <td>False</td>\n",
              "      <td>False</td>\n",
              "    </tr>\n",
              "    <tr>\n",
              "      <th>15912</th>\n",
              "      <td>False</td>\n",
              "      <td>False</td>\n",
              "      <td>False</td>\n",
              "      <td>False</td>\n",
              "      <td>False</td>\n",
              "      <td>False</td>\n",
              "      <td>False</td>\n",
              "      <td>False</td>\n",
              "      <td>False</td>\n",
              "      <td>False</td>\n",
              "      <td>...</td>\n",
              "      <td>False</td>\n",
              "      <td>False</td>\n",
              "      <td>False</td>\n",
              "      <td>False</td>\n",
              "      <td>False</td>\n",
              "      <td>False</td>\n",
              "      <td>False</td>\n",
              "      <td>False</td>\n",
              "      <td>False</td>\n",
              "      <td>False</td>\n",
              "    </tr>\n",
              "    <tr>\n",
              "      <th>15913</th>\n",
              "      <td>False</td>\n",
              "      <td>False</td>\n",
              "      <td>False</td>\n",
              "      <td>False</td>\n",
              "      <td>False</td>\n",
              "      <td>False</td>\n",
              "      <td>False</td>\n",
              "      <td>False</td>\n",
              "      <td>False</td>\n",
              "      <td>False</td>\n",
              "      <td>...</td>\n",
              "      <td>False</td>\n",
              "      <td>False</td>\n",
              "      <td>False</td>\n",
              "      <td>False</td>\n",
              "      <td>False</td>\n",
              "      <td>False</td>\n",
              "      <td>False</td>\n",
              "      <td>False</td>\n",
              "      <td>False</td>\n",
              "      <td>False</td>\n",
              "    </tr>\n",
              "    <tr>\n",
              "      <th>15914</th>\n",
              "      <td>False</td>\n",
              "      <td>False</td>\n",
              "      <td>False</td>\n",
              "      <td>False</td>\n",
              "      <td>False</td>\n",
              "      <td>False</td>\n",
              "      <td>False</td>\n",
              "      <td>False</td>\n",
              "      <td>False</td>\n",
              "      <td>False</td>\n",
              "      <td>...</td>\n",
              "      <td>False</td>\n",
              "      <td>False</td>\n",
              "      <td>False</td>\n",
              "      <td>False</td>\n",
              "      <td>False</td>\n",
              "      <td>False</td>\n",
              "      <td>False</td>\n",
              "      <td>False</td>\n",
              "      <td>False</td>\n",
              "      <td>False</td>\n",
              "    </tr>\n",
              "  </tbody>\n",
              "</table>\n",
              "<p>15915 rows × 143 columns</p>\n",
              "</div>"
            ],
            "text/plain": [
              "       price     km  Gears    age  Previous_Owners  hp_kW  Inspection_new  \\\n",
              "0      False  False  False  False            False  False           False   \n",
              "1      False  False  False  False            False  False           False   \n",
              "2      False  False  False  False            False  False           False   \n",
              "3      False  False  False  False            False  False           False   \n",
              "4      False  False  False  False            False  False           False   \n",
              "...      ...    ...    ...    ...              ...    ...             ...   \n",
              "15910  False  False  False  False            False  False           False   \n",
              "15911  False  False  False  False            False  False           False   \n",
              "15912  False  False  False  False            False  False           False   \n",
              "15913  False  False  False  False            False  False           False   \n",
              "15914  False  False  False  False            False  False           False   \n",
              "\n",
              "       Displacement_cc  Weight_kg  cons_comb  ...  Paint_Type_Perl effect  \\\n",
              "0                False      False      False  ...                   False   \n",
              "1                False      False      False  ...                   False   \n",
              "2                False      False      False  ...                   False   \n",
              "3                False      False      False  ...                   False   \n",
              "4                False      False      False  ...                   False   \n",
              "...                ...        ...        ...  ...                     ...   \n",
              "15910            False      False      False  ...                   False   \n",
              "15911            False      False      False  ...                   False   \n",
              "15912            False      False      False  ...                   False   \n",
              "15913            False      False      False  ...                   False   \n",
              "15914            False      False      False  ...                   False   \n",
              "\n",
              "       Paint_Type_Uni/basic  Upholstery_type_Cloth  \\\n",
              "0                     False                  False   \n",
              "1                     False                  False   \n",
              "2                     False                  False   \n",
              "3                     False                  False   \n",
              "4                     False                  False   \n",
              "...                     ...                    ...   \n",
              "15910                 False                  False   \n",
              "15911                 False                  False   \n",
              "15912                 False                  False   \n",
              "15913                 False                  False   \n",
              "15914                 False                  False   \n",
              "\n",
              "       Upholstery_type_Part/Full Leather  Gearing_Type_Automatic  \\\n",
              "0                                  False                   False   \n",
              "1                                  False                   False   \n",
              "2                                  False                   False   \n",
              "3                                  False                   False   \n",
              "4                                  False                   False   \n",
              "...                                  ...                     ...   \n",
              "15910                              False                   False   \n",
              "15911                              False                   False   \n",
              "15912                              False                   False   \n",
              "15913                              False                   False   \n",
              "15914                              False                   False   \n",
              "\n",
              "       Gearing_Type_Manual  Gearing_Type_Semi-automatic  Drive_chain_4WD  \\\n",
              "0                    False                        False            False   \n",
              "1                    False                        False            False   \n",
              "2                    False                        False            False   \n",
              "3                    False                        False            False   \n",
              "4                    False                        False            False   \n",
              "...                    ...                          ...              ...   \n",
              "15910                False                        False            False   \n",
              "15911                False                        False            False   \n",
              "15912                False                        False            False   \n",
              "15913                False                        False            False   \n",
              "15914                False                        False            False   \n",
              "\n",
              "       Drive_chain_front  Drive_chain_rear  \n",
              "0                  False             False  \n",
              "1                  False             False  \n",
              "2                  False             False  \n",
              "3                  False             False  \n",
              "4                  False             False  \n",
              "...                  ...               ...  \n",
              "15910              False             False  \n",
              "15911              False             False  \n",
              "15912              False             False  \n",
              "15913              False             False  \n",
              "15914              False             False  \n",
              "\n",
              "[15915 rows x 143 columns]"
            ]
          },
          "execution_count": 15,
          "metadata": {},
          "output_type": "execute_result"
        }
      ],
      "source": [
        "df.isnull()"
      ]
    },
    {
      "cell_type": "code",
      "execution_count": 11,
      "metadata": {},
      "outputs": [
        {
          "data": {
            "text/plain": [
              "price                          2952\n",
              "km                             6691\n",
              "Gears                             4\n",
              "age                               4\n",
              "Previous_Owners                   5\n",
              "                               ... \n",
              "Gearing_Type_Manual               2\n",
              "Gearing_Type_Semi-automatic       2\n",
              "Drive_chain_4WD                   2\n",
              "Drive_chain_front                 2\n",
              "Drive_chain_rear                  2\n",
              "Length: 143, dtype: int64"
            ]
          },
          "execution_count": 11,
          "metadata": {},
          "output_type": "execute_result"
        }
      ],
      "source": [
        "df.nunique()"
      ]
    },
    {
      "cell_type": "markdown",
      "metadata": {
        "id": "An_5ITcAmqZO"
      },
      "source": [
        "## 3. Implement Linear Regression"
      ]
    },
    {
      "cell_type": "markdown",
      "metadata": {
        "id": "0c0y-w8vmqZO"
      },
      "source": [
        " - Import the modul\n",
        " - Fit the model \n",
        " - Predict the test set\n",
        " - Determine feature coefficiant\n",
        " - Evaluate model performance (use performance metrics for regression and cross_val_score)\n",
        " - Compare different evaluation metrics\n",
        " \n",
        "*Note: You can use the [dir()](https://www.geeksforgeeks.org/python-dir-function/) function to see the methods you need.*"
      ]
    },
    {
      "cell_type": "code",
      "execution_count": 17,
      "metadata": {
        "id": "lq6UKn_HmqZO"
      },
      "outputs": [
        {
          "name": "stdout",
          "output_type": "stream",
          "text": [
            "        km  Gears  age  Previous_Owners  hp_kW  Inspection_new  \\\n",
            "0  56013.0    7.0  3.0              2.0   66.0               1   \n",
            "1  80000.0    7.0  2.0              1.0  141.0               0   \n",
            "2  83450.0    7.0  3.0              1.0   85.0               0   \n",
            "3  73000.0    6.0  3.0              1.0   66.0               0   \n",
            "4  16200.0    7.0  3.0              1.0   66.0               1   \n",
            "\n",
            "   Displacement_cc  Weight_kg  cons_comb  cc_Air conditioning  ...  \\\n",
            "0           1422.0     1220.0        3.8                    1  ...   \n",
            "1           1798.0     1255.0        5.6                    1  ...   \n",
            "2           1598.0     1135.0        3.8                    1  ...   \n",
            "3           1422.0     1195.0        3.8                    0  ...   \n",
            "4           1422.0     1135.0        4.1                    1  ...   \n",
            "\n",
            "   Paint_Type_Perl effect  Paint_Type_Uni/basic  Upholstery_type_Cloth  \\\n",
            "0                       0                     0                      1   \n",
            "1                       0                     0                      1   \n",
            "2                       0                     0                      1   \n",
            "3                       0                     0                      1   \n",
            "4                       0                     0                      1   \n",
            "\n",
            "   Upholstery_type_Part/Full Leather  Gearing_Type_Automatic  \\\n",
            "0                                  0                       1   \n",
            "1                                  0                       1   \n",
            "2                                  0                       1   \n",
            "3                                  0                       1   \n",
            "4                                  0                       1   \n",
            "\n",
            "   Gearing_Type_Manual  Gearing_Type_Semi-automatic  Drive_chain_4WD  \\\n",
            "0                    0                            0                0   \n",
            "1                    0                            0                0   \n",
            "2                    0                            0                0   \n",
            "3                    0                            0                0   \n",
            "4                    0                            0                0   \n",
            "\n",
            "   Drive_chain_front  Drive_chain_rear  \n",
            "0                  1                 0  \n",
            "1                  1                 0  \n",
            "2                  1                 0  \n",
            "3                  1                 0  \n",
            "4                  1                 0  \n",
            "\n",
            "[5 rows x 142 columns]\n",
            "0    15770\n",
            "1    14500\n",
            "2    14640\n",
            "3    14500\n",
            "4    16790\n",
            "Name: price, dtype: int64\n"
          ]
        }
      ],
      "source": [
        "# defining X and y variables\n",
        "X = df.drop(\"price\", axis=1)\n",
        "y = df[\"price\"]\n",
        "\n",
        "print(X.head())\n",
        "print(y.head())"
      ]
    },
    {
      "cell_type": "code",
      "execution_count": 18,
      "metadata": {},
      "outputs": [],
      "source": [
        "# splitting the data in 70:30 ratio for train to test data\n",
        "\n",
        "x_train, x_test, y_train, y_test = train_test_split(\n",
        "    X, y, test_size=0.3, random_state=42\n",
        ")"
      ]
    },
    {
      "cell_type": "code",
      "execution_count": 19,
      "metadata": {},
      "outputs": [
        {
          "name": "stdout",
          "output_type": "stream",
          "text": [
            "Number of rows in train data = 11140\n",
            "Number of rows in test data = 4775\n"
          ]
        }
      ],
      "source": [
        "print(\"Number of rows in train data =\", x_train.shape[0])\n",
        "print(\"Number of rows in test data =\", x_test.shape[0])"
      ]
    },
    {
      "cell_type": "code",
      "execution_count": 20,
      "metadata": {},
      "outputs": [
        {
          "data": {
            "text/plain": [
              "LinearRegression()"
            ]
          },
          "execution_count": 20,
          "metadata": {},
          "output_type": "execute_result"
        }
      ],
      "source": [
        "# fitting the linear regression model on the train data (70% of the whole data)\n",
        "\n",
        "linearregression = LinearRegression()\n",
        "linearregression.fit(x_train, y_train)"
      ]
    },
    {
      "cell_type": "code",
      "execution_count": 21,
      "metadata": {},
      "outputs": [
        {
          "data": {
            "text/html": [
              "<div>\n",
              "<style scoped>\n",
              "    .dataframe tbody tr th:only-of-type {\n",
              "        vertical-align: middle;\n",
              "    }\n",
              "\n",
              "    .dataframe tbody tr th {\n",
              "        vertical-align: top;\n",
              "    }\n",
              "\n",
              "    .dataframe thead th {\n",
              "        text-align: right;\n",
              "    }\n",
              "</style>\n",
              "<table border=\"1\" class=\"dataframe\">\n",
              "  <thead>\n",
              "    <tr style=\"text-align: right;\">\n",
              "      <th></th>\n",
              "      <th>Coefficients</th>\n",
              "    </tr>\n",
              "  </thead>\n",
              "  <tbody>\n",
              "    <tr>\n",
              "      <th>km</th>\n",
              "      <td>-0.035780</td>\n",
              "    </tr>\n",
              "    <tr>\n",
              "      <th>Gears</th>\n",
              "      <td>628.960841</td>\n",
              "    </tr>\n",
              "    <tr>\n",
              "      <th>age</th>\n",
              "      <td>-1626.481634</td>\n",
              "    </tr>\n",
              "    <tr>\n",
              "      <th>Previous_Owners</th>\n",
              "      <td>89.910847</td>\n",
              "    </tr>\n",
              "    <tr>\n",
              "      <th>hp_kW</th>\n",
              "      <td>93.466901</td>\n",
              "    </tr>\n",
              "    <tr>\n",
              "      <th>...</th>\n",
              "      <td>...</td>\n",
              "    </tr>\n",
              "    <tr>\n",
              "      <th>Gearing_Type_Semi-automatic</th>\n",
              "      <td>1985.382345</td>\n",
              "    </tr>\n",
              "    <tr>\n",
              "      <th>Drive_chain_4WD</th>\n",
              "      <td>2491.558863</td>\n",
              "    </tr>\n",
              "    <tr>\n",
              "      <th>Drive_chain_front</th>\n",
              "      <td>239.881214</td>\n",
              "    </tr>\n",
              "    <tr>\n",
              "      <th>Drive_chain_rear</th>\n",
              "      <td>-2731.440077</td>\n",
              "    </tr>\n",
              "    <tr>\n",
              "      <th>Intercept</th>\n",
              "      <td>14229.259170</td>\n",
              "    </tr>\n",
              "  </tbody>\n",
              "</table>\n",
              "<p>143 rows × 1 columns</p>\n",
              "</div>"
            ],
            "text/plain": [
              "                             Coefficients\n",
              "km                              -0.035780\n",
              "Gears                          628.960841\n",
              "age                          -1626.481634\n",
              "Previous_Owners                 89.910847\n",
              "hp_kW                           93.466901\n",
              "...                                   ...\n",
              "Gearing_Type_Semi-automatic   1985.382345\n",
              "Drive_chain_4WD               2491.558863\n",
              "Drive_chain_front              239.881214\n",
              "Drive_chain_rear             -2731.440077\n",
              "Intercept                    14229.259170\n",
              "\n",
              "[143 rows x 1 columns]"
            ]
          },
          "execution_count": 21,
          "metadata": {},
          "output_type": "execute_result"
        }
      ],
      "source": [
        "coef_df = pd.DataFrame(\n",
        "    np.append(linearregression.coef_, linearregression.intercept_),\n",
        "    index=x_train.columns.tolist() + [\"Intercept\"],\n",
        "    columns=[\"Coefficients\"],\n",
        ")\n",
        "\n",
        "coef_df"
      ]
    },
    {
      "cell_type": "code",
      "execution_count": 22,
      "metadata": {},
      "outputs": [
        {
          "data": {
            "text/html": [
              "<div>\n",
              "<style scoped>\n",
              "    .dataframe tbody tr th:only-of-type {\n",
              "        vertical-align: middle;\n",
              "    }\n",
              "\n",
              "    .dataframe tbody tr th {\n",
              "        vertical-align: top;\n",
              "    }\n",
              "\n",
              "    .dataframe thead th {\n",
              "        text-align: right;\n",
              "    }\n",
              "</style>\n",
              "<table border=\"1\" class=\"dataframe\">\n",
              "  <thead>\n",
              "    <tr style=\"text-align: right;\">\n",
              "      <th></th>\n",
              "      <th>Actual</th>\n",
              "      <th>Predicted</th>\n",
              "    </tr>\n",
              "  </thead>\n",
              "  <tbody>\n",
              "    <tr>\n",
              "      <th>12887</th>\n",
              "      <td>26379</td>\n",
              "      <td>25371.765634</td>\n",
              "    </tr>\n",
              "    <tr>\n",
              "      <th>8140</th>\n",
              "      <td>18990</td>\n",
              "      <td>18899.185005</td>\n",
              "    </tr>\n",
              "    <tr>\n",
              "      <th>6835</th>\n",
              "      <td>12490</td>\n",
              "      <td>12429.019703</td>\n",
              "    </tr>\n",
              "    <tr>\n",
              "      <th>15439</th>\n",
              "      <td>32975</td>\n",
              "      <td>35119.594183</td>\n",
              "    </tr>\n",
              "    <tr>\n",
              "      <th>1213</th>\n",
              "      <td>15888</td>\n",
              "      <td>14283.383505</td>\n",
              "    </tr>\n",
              "    <tr>\n",
              "      <th>13187</th>\n",
              "      <td>15480</td>\n",
              "      <td>14920.289432</td>\n",
              "    </tr>\n",
              "    <tr>\n",
              "      <th>1034</th>\n",
              "      <td>20500</td>\n",
              "      <td>22677.042061</td>\n",
              "    </tr>\n",
              "    <tr>\n",
              "      <th>2864</th>\n",
              "      <td>16760</td>\n",
              "      <td>15616.067393</td>\n",
              "    </tr>\n",
              "    <tr>\n",
              "      <th>7061</th>\n",
              "      <td>18990</td>\n",
              "      <td>18043.664558</td>\n",
              "    </tr>\n",
              "    <tr>\n",
              "      <th>14983</th>\n",
              "      <td>27000</td>\n",
              "      <td>24610.419574</td>\n",
              "    </tr>\n",
              "  </tbody>\n",
              "</table>\n",
              "</div>"
            ],
            "text/plain": [
              "       Actual     Predicted\n",
              "12887   26379  25371.765634\n",
              "8140    18990  18899.185005\n",
              "6835    12490  12429.019703\n",
              "15439   32975  35119.594183\n",
              "1213    15888  14283.383505\n",
              "13187   15480  14920.289432\n",
              "1034    20500  22677.042061\n",
              "2864    16760  15616.067393\n",
              "7061    18990  18043.664558\n",
              "14983   27000  24610.419574"
            ]
          },
          "execution_count": 22,
          "metadata": {},
          "output_type": "execute_result"
        }
      ],
      "source": [
        "pred = linearregression.predict(x_test)\n",
        "\n",
        "df_pred_test = pd.DataFrame({\"Actual\": y_test, \"Predicted\": pred})\n",
        "df_pred_test.head(10)"
      ]
    },
    {
      "cell_type": "code",
      "execution_count": 23,
      "metadata": {},
      "outputs": [
        {
          "data": {
            "image/png": "[encoded data removed]",
            "text/plain": [
              "<Figure size 1080x504 with 1 Axes>"
            ]
          },
          "metadata": {
            "needs_background": "light"
          },
          "output_type": "display_data"
        }
      ],
      "source": [
        "np.random.seed(42)\n",
        "df1 = df_pred_test.head(25)\n",
        "df1.plot(kind=\"bar\", figsize=(15, 7))\n",
        "plt.grid(which=\"major\", linestyle=\"-\", linewidth=\"0.5\", color=\"green\")\n",
        "plt.grid(which=\"minor\", linestyle=\":\", linewidth=\"0.5\", color=\"black\")\n",
        "plt.show()"
      ]
    },
    {
      "cell_type": "code",
      "execution_count": 24,
      "metadata": {},
      "outputs": [],
      "source": [
        "# function to compute adjusted R-squared\n",
        "def adj_r2_score(predictors, targets, predictions):\n",
        "    r2 = r2_score(targets, predictions)\n",
        "    n = predictors.shape[0]\n",
        "    k = predictors.shape[1]\n",
        "    return 1 - ((1 - r2) * (n - 1) / (n - k - 1))\n",
        "\n",
        "\n",
        "# function to compute MAPE\n",
        "def mape_score(targets, predictions):\n",
        "    return np.mean(np.abs(targets - predictions) / targets) * 100\n",
        "\n",
        "\n",
        "# function to compute different metrics to check performance of a regression model\n",
        "def model_performance_regression(model, predictors, target):\n",
        "    \"\"\"\n",
        "    Function to compute different metrics to check regression model performance\n",
        "\n",
        "    model: regressor\n",
        "    predictors: independent variables\n",
        "    target: dependent variable\n",
        "    \"\"\"\n",
        "\n",
        "    # predicting using the independent variables\n",
        "    pred = model.predict(predictors)\n",
        "\n",
        "    r2 = r2_score(target, pred)  # to compute R-squared\n",
        "    adjr2 = adj_r2_score(predictors, target, pred)  # to compute adjusted R-squared\n",
        "    rmse = np.sqrt(mean_squared_error(target, pred))  # to compute RMSE\n",
        "    mae = mean_absolute_error(target, pred)  # to compute MAE\n",
        "    mape = mape_score(target, pred)  # to compute MAPE\n",
        "\n",
        "    # creating a dataframe of metrics\n",
        "    df_perf = pd.DataFrame(\n",
        "        {\n",
        "            \"RMSE\": rmse,\n",
        "            \"MAE\": mae,\n",
        "            \"R-squared\": r2,\n",
        "            \"Adj. R-squared\": adjr2,\n",
        "            \"MAPE\": mape,\n",
        "        },\n",
        "        index=[0],\n",
        "    )\n",
        "\n",
        "    return df_perf"
      ]
    },
    {
      "cell_type": "code",
      "execution_count": 25,
      "metadata": {},
      "outputs": [
        {
          "name": "stdout",
          "output_type": "stream",
          "text": [
            "Training Performance\n",
            "\n"
          ]
        },
        {
          "data": {
            "text/html": [
              "<div>\n",
              "<style scoped>\n",
              "    .dataframe tbody tr th:only-of-type {\n",
              "        vertical-align: middle;\n",
              "    }\n",
              "\n",
              "    .dataframe tbody tr th {\n",
              "        vertical-align: top;\n",
              "    }\n",
              "\n",
              "    .dataframe thead th {\n",
              "        text-align: right;\n",
              "    }\n",
              "</style>\n",
              "<table border=\"1\" class=\"dataframe\">\n",
              "  <thead>\n",
              "    <tr style=\"text-align: right;\">\n",
              "      <th></th>\n",
              "      <th>RMSE</th>\n",
              "      <th>MAE</th>\n",
              "      <th>R-squared</th>\n",
              "      <th>Adj. R-squared</th>\n",
              "      <th>MAPE</th>\n",
              "    </tr>\n",
              "  </thead>\n",
              "  <tbody>\n",
              "    <tr>\n",
              "      <th>0</th>\n",
              "      <td>2429.881383</td>\n",
              "      <td>1691.454924</td>\n",
              "      <td>0.891705</td>\n",
              "      <td>0.890307</td>\n",
              "      <td>10.344645</td>\n",
              "    </tr>\n",
              "  </tbody>\n",
              "</table>\n",
              "</div>"
            ],
            "text/plain": [
              "          RMSE          MAE  R-squared  Adj. R-squared       MAPE\n",
              "0  2429.881383  1691.454924   0.891705        0.890307  10.344645"
            ]
          },
          "execution_count": 25,
          "metadata": {},
          "output_type": "execute_result"
        }
      ],
      "source": [
        "# checking model performance on train set (seen 70% data)\n",
        "print(\"Training Performance\\n\")\n",
        "linearregression_train_perf = model_performance_regression(\n",
        "    linearregression, x_train, y_train\n",
        ")\n",
        "linearregression_train_perf"
      ]
    },
    {
      "cell_type": "markdown",
      "metadata": {
        "id": "n2ROwYsymqZO"
      },
      "source": [
        "## 4. Implement Ridge Regression"
      ]
    },
    {
      "cell_type": "markdown",
      "metadata": {
        "id": "3RvdF8CRmqZO"
      },
      "source": [
        "- Import the modul \n",
        "- Do not forget to scale the data or use Normalize parameter as True \n",
        "- Fit the model \n",
        "- Predict the test set \n",
        "- Evaluate model performance (use performance metrics for regression) \n",
        "- Tune alpha hiperparameter by using [cross validation](https://scikit-learn.org/stable/modules/generated/sklearn.linear_model.RidgeCV.html) and determine the optimal alpha value.\n",
        "- Fit the model and predict again with the new alpha value. "
      ]
    },
    {
      "cell_type": "code",
      "execution_count": 26,
      "metadata": {
        "id": "CXm_zzZMmqZO"
      },
      "outputs": [],
      "source": []
    },
    {
      "cell_type": "code",
      "execution_count": null,
      "metadata": {},
      "outputs": [],
      "source": [
        "from sklearn.linear_model import Ridge"
      ]
    },
    {
      "cell_type": "code",
      "execution_count": 50,
      "metadata": {},
      "outputs": [],
      "source": [
        "ridge_model = Ridge(alpha=1, random_state=42)"
      ]
    },
    {
      "cell_type": "code",
      "execution_count": 51,
      "metadata": {},
      "outputs": [
        {
          "data": {
            "text/plain": [
              "Ridge(alpha=1, random_state=42)"
            ]
          },
          "execution_count": 51,
          "metadata": {},
          "output_type": "execute_result"
        }
      ],
      "source": [
        "ridge_model.fit(x_train, y_train)"
      ]
    },
    {
      "cell_type": "code",
      "execution_count": 52,
      "metadata": {},
      "outputs": [],
      "source": [
        "y_pred = ridge_model.predict(x_test)\n",
        "y_train_pred = ridge_model.predict(x_train)"
      ]
    },
    {
      "cell_type": "code",
      "execution_count": 32,
      "metadata": {},
      "outputs": [],
      "source": [
        "from sklearn.metrics import mean_absolute_error, mean_squared_error, r2_score\n",
        "\n",
        "def train_val(y_train, y_train_pred, y_test, y_pred, i):\n",
        "    \n",
        "    scores = {i+\"_train\": {\"R2\" : r2_score(y_train, y_train_pred),\n",
        "    \"mae\" : mean_absolute_error(y_train, y_train_pred),\n",
        "    \"mse\" : mean_squared_error(y_train, y_train_pred),                          \n",
        "    \"rmse\" : np.sqrt(mean_squared_error(y_train, y_train_pred))},\n",
        "    \n",
        "    i+\"_test\": {\"R2\" : r2_score(y_test, y_pred),\n",
        "    \"mae\" : mean_absolute_error(y_test, y_pred),\n",
        "    \"mse\" : mean_squared_error(y_test, y_pred),\n",
        "    \"rmse\" : np.sqrt(mean_squared_error(y_test, y_pred))}}\n",
        "    \n",
        "    return pd.DataFrame(scores)"
      ]
    },
    {
      "cell_type": "code",
      "execution_count": 34,
      "metadata": {},
      "outputs": [],
      "source": [
        "pd.set_option('display.float_format', lambda x: '%.3f' % x)"
      ]
    },
    {
      "cell_type": "code",
      "execution_count": 35,
      "metadata": {},
      "outputs": [
        {
          "data": {
            "text/html": [
              "<div>\n",
              "<style scoped>\n",
              "    .dataframe tbody tr th:only-of-type {\n",
              "        vertical-align: middle;\n",
              "    }\n",
              "\n",
              "    .dataframe tbody tr th {\n",
              "        vertical-align: top;\n",
              "    }\n",
              "\n",
              "    .dataframe thead th {\n",
              "        text-align: right;\n",
              "    }\n",
              "</style>\n",
              "<table border=\"1\" class=\"dataframe\">\n",
              "  <thead>\n",
              "    <tr style=\"text-align: right;\">\n",
              "      <th></th>\n",
              "      <th>ridge_train</th>\n",
              "      <th>ridge_test</th>\n",
              "    </tr>\n",
              "  </thead>\n",
              "  <tbody>\n",
              "    <tr>\n",
              "      <th>R2</th>\n",
              "      <td>0.892</td>\n",
              "      <td>0.885</td>\n",
              "    </tr>\n",
              "    <tr>\n",
              "      <th>mae</th>\n",
              "      <td>1691.402</td>\n",
              "      <td>1753.683</td>\n",
              "    </tr>\n",
              "    <tr>\n",
              "      <th>mse</th>\n",
              "      <td>5905973.220</td>\n",
              "      <td>6232253.620</td>\n",
              "    </tr>\n",
              "    <tr>\n",
              "      <th>rmse</th>\n",
              "      <td>2430.221</td>\n",
              "      <td>2496.448</td>\n",
              "    </tr>\n",
              "  </tbody>\n",
              "</table>\n",
              "</div>"
            ],
            "text/plain": [
              "      ridge_train  ridge_test\n",
              "R2          0.892       0.885\n",
              "mae      1691.402    1753.683\n",
              "mse   5905973.220 6232253.620\n",
              "rmse     2430.221    2496.448"
            ]
          },
          "execution_count": 35,
          "metadata": {},
          "output_type": "execute_result"
        }
      ],
      "source": [
        "rs = train_val(y_train, y_train_pred, y_test, y_pred, \"ridge\")\n",
        "rs"
      ]
    },
    {
      "cell_type": "code",
      "execution_count": 37,
      "metadata": {},
      "outputs": [],
      "source": [
        "from sklearn.preprocessing import StandardScaler, MinMaxScaler, RobustScaler\n",
        "\n",
        "scaler = StandardScaler()"
      ]
    },
    {
      "cell_type": "code",
      "execution_count": 38,
      "metadata": {},
      "outputs": [
        {
          "data": {
            "text/plain": [
              "StandardScaler()"
            ]
          },
          "execution_count": 38,
          "metadata": {},
          "output_type": "execute_result"
        }
      ],
      "source": [
        "scaler.fit(x_train)"
      ]
    },
    {
      "cell_type": "code",
      "execution_count": 39,
      "metadata": {},
      "outputs": [
        {
          "data": {
            "text/plain": [
              "array([[-0.66263953,  0.08743507, -0.35578072, ..., -0.11281521,\n",
              "         0.11362851, -0.0134002 ],\n",
              "       [ 0.00428095, -1.33242889,  1.42913135, ..., -0.11281521,\n",
              "         0.11362851, -0.0134002 ],\n",
              "       [-0.62494637,  0.08743507, -0.35578072, ..., -0.11281521,\n",
              "         0.11362851, -0.0134002 ],\n",
              "       ...,\n",
              "       [-0.48429905,  1.50729903, -0.35578072, ..., -0.11281521,\n",
              "         0.11362851, -0.0134002 ],\n",
              "       [-0.82876584,  0.08743507, -1.24823676, ..., -0.11281521,\n",
              "         0.11362851, -0.0134002 ],\n",
              "       [-0.10952754,  0.08743507, -0.35578072, ..., -0.11281521,\n",
              "         0.11362851, -0.0134002 ]])"
            ]
          },
          "execution_count": 39,
          "metadata": {},
          "output_type": "execute_result"
        }
      ],
      "source": [
        "X_train_scaled = scaler.transform(x_train)\n",
        "X_train_scaled"
      ]
    },
    {
      "cell_type": "code",
      "execution_count": 40,
      "metadata": {},
      "outputs": [
        {
          "data": {
            "text/plain": [
              "array([[-0.7139411 ,  0.08743507, -1.24823676, ..., -0.11281521,\n",
              "         0.11362851, -0.0134002 ],\n",
              "       [-0.86965488, -1.33242889, -1.24823676, ..., -0.11281521,\n",
              "         0.11362851, -0.0134002 ],\n",
              "       [-0.65723936, -1.33242889,  0.53667531, ..., -0.11281521,\n",
              "         0.11362851, -0.0134002 ],\n",
              "       ...,\n",
              "       [-0.60404773, -1.33242889, -0.35578072, ..., -0.11281521,\n",
              "         0.11362851, -0.0134002 ],\n",
              "       [-0.14422361,  0.08743507, -0.35578072, ..., -0.11281521,\n",
              "         0.11362851, -0.0134002 ],\n",
              "       [ 1.01681204,  0.08743507,  0.53667531, ..., -0.11281521,\n",
              "         0.11362851, -0.0134002 ]])"
            ]
          },
          "execution_count": 40,
          "metadata": {},
          "output_type": "execute_result"
        }
      ],
      "source": [
        "X_test_scaled = scaler.transform(x_test)\n",
        "X_test_scaled"
      ]
    },
    {
      "cell_type": "code",
      "execution_count": 41,
      "metadata": {},
      "outputs": [
        {
          "data": {
            "text/html": [
              "<div>\n",
              "<style scoped>\n",
              "    .dataframe tbody tr th:only-of-type {\n",
              "        vertical-align: middle;\n",
              "    }\n",
              "\n",
              "    .dataframe tbody tr th {\n",
              "        vertical-align: top;\n",
              "    }\n",
              "\n",
              "    .dataframe thead th {\n",
              "        text-align: right;\n",
              "    }\n",
              "</style>\n",
              "<table border=\"1\" class=\"dataframe\">\n",
              "  <thead>\n",
              "    <tr style=\"text-align: right;\">\n",
              "      <th></th>\n",
              "      <th>0</th>\n",
              "      <th>1</th>\n",
              "      <th>2</th>\n",
              "      <th>3</th>\n",
              "      <th>4</th>\n",
              "      <th>5</th>\n",
              "      <th>6</th>\n",
              "      <th>7</th>\n",
              "      <th>8</th>\n",
              "      <th>9</th>\n",
              "      <th>...</th>\n",
              "      <th>132</th>\n",
              "      <th>133</th>\n",
              "      <th>134</th>\n",
              "      <th>135</th>\n",
              "      <th>136</th>\n",
              "      <th>137</th>\n",
              "      <th>138</th>\n",
              "      <th>139</th>\n",
              "      <th>140</th>\n",
              "      <th>141</th>\n",
              "    </tr>\n",
              "  </thead>\n",
              "  <tbody>\n",
              "    <tr>\n",
              "      <th>mean</th>\n",
              "      <td>0.000</td>\n",
              "      <td>0.000</td>\n",
              "      <td>-0.000</td>\n",
              "      <td>0.000</td>\n",
              "      <td>0.000</td>\n",
              "      <td>-0.000</td>\n",
              "      <td>0.000</td>\n",
              "      <td>-0.000</td>\n",
              "      <td>0.000</td>\n",
              "      <td>-0.000</td>\n",
              "      <td>...</td>\n",
              "      <td>-0.000</td>\n",
              "      <td>0.000</td>\n",
              "      <td>-0.000</td>\n",
              "      <td>0.000</td>\n",
              "      <td>-0.000</td>\n",
              "      <td>-0.000</td>\n",
              "      <td>0.000</td>\n",
              "      <td>-0.000</td>\n",
              "      <td>-0.000</td>\n",
              "      <td>-0.000</td>\n",
              "    </tr>\n",
              "    <tr>\n",
              "      <th>std</th>\n",
              "      <td>1.000</td>\n",
              "      <td>1.000</td>\n",
              "      <td>1.000</td>\n",
              "      <td>1.000</td>\n",
              "      <td>1.000</td>\n",
              "      <td>1.000</td>\n",
              "      <td>1.000</td>\n",
              "      <td>1.000</td>\n",
              "      <td>1.000</td>\n",
              "      <td>1.000</td>\n",
              "      <td>...</td>\n",
              "      <td>1.000</td>\n",
              "      <td>1.000</td>\n",
              "      <td>1.000</td>\n",
              "      <td>1.000</td>\n",
              "      <td>1.000</td>\n",
              "      <td>1.000</td>\n",
              "      <td>1.000</td>\n",
              "      <td>1.000</td>\n",
              "      <td>1.000</td>\n",
              "      <td>1.000</td>\n",
              "    </tr>\n",
              "  </tbody>\n",
              "</table>\n",
              "<p>2 rows × 142 columns</p>\n",
              "</div>"
            ],
            "text/plain": [
              "       0     1      2     3     4      5     6      7     8      9    ...  \\\n",
              "mean 0.000 0.000 -0.000 0.000 0.000 -0.000 0.000 -0.000 0.000 -0.000  ...   \n",
              "std  1.000 1.000  1.000 1.000 1.000  1.000 1.000  1.000 1.000  1.000  ...   \n",
              "\n",
              "        132   133    134   135    136    137   138    139    140    141  \n",
              "mean -0.000 0.000 -0.000 0.000 -0.000 -0.000 0.000 -0.000 -0.000 -0.000  \n",
              "std   1.000 1.000  1.000 1.000  1.000  1.000 1.000  1.000  1.000  1.000  \n",
              "\n",
              "[2 rows x 142 columns]"
            ]
          },
          "execution_count": 41,
          "metadata": {},
          "output_type": "execute_result"
        }
      ],
      "source": [
        "pd.DataFrame(X_train_scaled).agg([\"mean\", \"std\"]).round()"
      ]
    },
    {
      "cell_type": "code",
      "execution_count": 42,
      "metadata": {},
      "outputs": [
        {
          "data": {
            "text/html": [
              "<div>\n",
              "<style scoped>\n",
              "    .dataframe tbody tr th:only-of-type {\n",
              "        vertical-align: middle;\n",
              "    }\n",
              "\n",
              "    .dataframe tbody tr th {\n",
              "        vertical-align: top;\n",
              "    }\n",
              "\n",
              "    .dataframe thead th {\n",
              "        text-align: right;\n",
              "    }\n",
              "</style>\n",
              "<table border=\"1\" class=\"dataframe\">\n",
              "  <thead>\n",
              "    <tr style=\"text-align: right;\">\n",
              "      <th></th>\n",
              "      <th>0</th>\n",
              "      <th>1</th>\n",
              "      <th>2</th>\n",
              "      <th>3</th>\n",
              "      <th>4</th>\n",
              "      <th>5</th>\n",
              "      <th>6</th>\n",
              "      <th>7</th>\n",
              "      <th>8</th>\n",
              "      <th>9</th>\n",
              "      <th>...</th>\n",
              "      <th>132</th>\n",
              "      <th>133</th>\n",
              "      <th>134</th>\n",
              "      <th>135</th>\n",
              "      <th>136</th>\n",
              "      <th>137</th>\n",
              "      <th>138</th>\n",
              "      <th>139</th>\n",
              "      <th>140</th>\n",
              "      <th>141</th>\n",
              "    </tr>\n",
              "  </thead>\n",
              "  <tbody>\n",
              "    <tr>\n",
              "      <th>mean</th>\n",
              "      <td>-0.000</td>\n",
              "      <td>-0.000</td>\n",
              "      <td>-0.000</td>\n",
              "      <td>0.000</td>\n",
              "      <td>-0.000</td>\n",
              "      <td>-0.000</td>\n",
              "      <td>-0.000</td>\n",
              "      <td>-0.000</td>\n",
              "      <td>0.000</td>\n",
              "      <td>-0.000</td>\n",
              "      <td>...</td>\n",
              "      <td>0.000</td>\n",
              "      <td>0.000</td>\n",
              "      <td>-0.000</td>\n",
              "      <td>0.000</td>\n",
              "      <td>-0.000</td>\n",
              "      <td>0.000</td>\n",
              "      <td>0.000</td>\n",
              "      <td>0.000</td>\n",
              "      <td>-0.000</td>\n",
              "      <td>0.000</td>\n",
              "    </tr>\n",
              "    <tr>\n",
              "      <th>std</th>\n",
              "      <td>1.000</td>\n",
              "      <td>1.000</td>\n",
              "      <td>1.000</td>\n",
              "      <td>1.000</td>\n",
              "      <td>1.000</td>\n",
              "      <td>1.000</td>\n",
              "      <td>1.000</td>\n",
              "      <td>1.000</td>\n",
              "      <td>1.000</td>\n",
              "      <td>1.000</td>\n",
              "      <td>...</td>\n",
              "      <td>1.000</td>\n",
              "      <td>1.000</td>\n",
              "      <td>1.000</td>\n",
              "      <td>1.000</td>\n",
              "      <td>1.000</td>\n",
              "      <td>1.000</td>\n",
              "      <td>1.000</td>\n",
              "      <td>1.000</td>\n",
              "      <td>1.000</td>\n",
              "      <td>2.000</td>\n",
              "    </tr>\n",
              "  </tbody>\n",
              "</table>\n",
              "<p>2 rows × 142 columns</p>\n",
              "</div>"
            ],
            "text/plain": [
              "        0      1      2     3      4      5      6      7     8      9    ...  \\\n",
              "mean -0.000 -0.000 -0.000 0.000 -0.000 -0.000 -0.000 -0.000 0.000 -0.000  ...   \n",
              "std   1.000  1.000  1.000 1.000  1.000  1.000  1.000  1.000 1.000  1.000  ...   \n",
              "\n",
              "       132   133    134   135    136   137   138   139    140   141  \n",
              "mean 0.000 0.000 -0.000 0.000 -0.000 0.000 0.000 0.000 -0.000 0.000  \n",
              "std  1.000 1.000  1.000 1.000  1.000 1.000 1.000 1.000  1.000 2.000  \n",
              "\n",
              "[2 rows x 142 columns]"
            ]
          },
          "execution_count": 42,
          "metadata": {},
          "output_type": "execute_result"
        }
      ],
      "source": [
        "pd.DataFrame(X_test_scaled).agg([\"mean\", \"std\"]).round()"
      ]
    },
    {
      "cell_type": "code",
      "execution_count": 43,
      "metadata": {},
      "outputs": [],
      "source": [
        "ridge_model_scaled = Ridge(alpha=1, random_state=42)"
      ]
    },
    {
      "cell_type": "code",
      "execution_count": 44,
      "metadata": {},
      "outputs": [
        {
          "data": {
            "text/plain": [
              "Ridge(alpha=1, random_state=42)"
            ]
          },
          "execution_count": 44,
          "metadata": {},
          "output_type": "execute_result"
        }
      ],
      "source": [
        "ridge_model_scaled.fit(X_train_scaled, y_train)"
      ]
    },
    {
      "cell_type": "code",
      "execution_count": 48,
      "metadata": {},
      "outputs": [],
      "source": [
        "y_pred_scaled = ridge_model_scaled.predict(X_test_scaled)\n",
        "y_train_pred_scaled = ridge_model_scaled.predict(X_train_scaled)"
      ]
    },
    {
      "cell_type": "code",
      "execution_count": 49,
      "metadata": {},
      "outputs": [
        {
          "data": {
            "text/html": [
              "<div>\n",
              "<style scoped>\n",
              "    .dataframe tbody tr th:only-of-type {\n",
              "        vertical-align: middle;\n",
              "    }\n",
              "\n",
              "    .dataframe tbody tr th {\n",
              "        vertical-align: top;\n",
              "    }\n",
              "\n",
              "    .dataframe thead th {\n",
              "        text-align: right;\n",
              "    }\n",
              "</style>\n",
              "<table border=\"1\" class=\"dataframe\">\n",
              "  <thead>\n",
              "    <tr style=\"text-align: right;\">\n",
              "      <th></th>\n",
              "      <th>ridge_train</th>\n",
              "      <th>ridge_test</th>\n",
              "    </tr>\n",
              "  </thead>\n",
              "  <tbody>\n",
              "    <tr>\n",
              "      <th>R2</th>\n",
              "      <td>0.892</td>\n",
              "      <td>0.885</td>\n",
              "    </tr>\n",
              "    <tr>\n",
              "      <th>mae</th>\n",
              "      <td>1691.420</td>\n",
              "      <td>1753.462</td>\n",
              "    </tr>\n",
              "    <tr>\n",
              "      <th>mse</th>\n",
              "      <td>5904324.089</td>\n",
              "      <td>6232704.213</td>\n",
              "    </tr>\n",
              "    <tr>\n",
              "      <th>rmse</th>\n",
              "      <td>2429.881</td>\n",
              "      <td>2496.538</td>\n",
              "    </tr>\n",
              "  </tbody>\n",
              "</table>\n",
              "</div>"
            ],
            "text/plain": [
              "      ridge_train  ridge_test\n",
              "R2          0.892       0.885\n",
              "mae      1691.420    1753.462\n",
              "mse   5904324.089 6232704.213\n",
              "rmse     2429.881    2496.538"
            ]
          },
          "execution_count": 49,
          "metadata": {},
          "output_type": "execute_result"
        }
      ],
      "source": [
        "rs_scaled = train_val(y_train, y_train_pred_scaled, y_test, y_pred_scaled, \"ridge\")\n",
        "rs_scaled"
      ]
    },
    {
      "cell_type": "code",
      "execution_count": 53,
      "metadata": {},
      "outputs": [
        {
          "data": {
            "text/html": [
              "<div>\n",
              "<style scoped>\n",
              "    .dataframe tbody tr th:only-of-type {\n",
              "        vertical-align: middle;\n",
              "    }\n",
              "\n",
              "    .dataframe tbody tr th {\n",
              "        vertical-align: top;\n",
              "    }\n",
              "\n",
              "    .dataframe thead th {\n",
              "        text-align: right;\n",
              "    }\n",
              "</style>\n",
              "<table border=\"1\" class=\"dataframe\">\n",
              "  <thead>\n",
              "    <tr style=\"text-align: right;\">\n",
              "      <th></th>\n",
              "      <th>ridge_train</th>\n",
              "      <th>ridge_test</th>\n",
              "    </tr>\n",
              "  </thead>\n",
              "  <tbody>\n",
              "    <tr>\n",
              "      <th>R2</th>\n",
              "      <td>0.892</td>\n",
              "      <td>0.885</td>\n",
              "    </tr>\n",
              "    <tr>\n",
              "      <th>mae</th>\n",
              "      <td>1691.402</td>\n",
              "      <td>1753.683</td>\n",
              "    </tr>\n",
              "    <tr>\n",
              "      <th>mse</th>\n",
              "      <td>5905973.220</td>\n",
              "      <td>6232253.620</td>\n",
              "    </tr>\n",
              "    <tr>\n",
              "      <th>rmse</th>\n",
              "      <td>2430.221</td>\n",
              "      <td>2496.448</td>\n",
              "    </tr>\n",
              "  </tbody>\n",
              "</table>\n",
              "</div>"
            ],
            "text/plain": [
              "      ridge_train  ridge_test\n",
              "R2          0.892       0.885\n",
              "mae      1691.402    1753.683\n",
              "mse   5905973.220 6232253.620\n",
              "rmse     2430.221    2496.448"
            ]
          },
          "execution_count": 53,
          "metadata": {},
          "output_type": "execute_result"
        }
      ],
      "source": [
        "rs = train_val(y_train, y_train_pred, y_test, y_pred, \"ridge\")\n",
        "rs"
      ]
    },
    {
      "cell_type": "markdown",
      "metadata": {
        "id": "oDfXOSnpmqZO"
      },
      "source": [
        "## 5. Implement Lasso Regression"
      ]
    },
    {
      "cell_type": "markdown",
      "metadata": {
        "id": "icqyxzBymqZO"
      },
      "source": [
        "- Import the modul \n",
        "- Do not forget to scale the data or use Normalize parameter as True(If needed)\n",
        "- Fit the model \n",
        "- Predict the test set \n",
        "- Evaluate model performance (use performance metrics for regression) \n",
        "- Tune alpha hyperparameter by using [cross validation](https://scikit-learn.org/stable/modules/generated/sklearn.linear_model.LassoCV.html) and determine the optimal alpha value.\n",
        "- Fit the model and predict again with the new alpha value.\n",
        "- Compare different evaluation metrics\n",
        "\n",
        "*Note: To understand the importance of the alpha hyperparameter, you can observe the effects of different alpha values on feature coefficants.*"
      ]
    },
    {
      "cell_type": "code",
      "execution_count": 56,
      "metadata": {
        "id": "KbGqu0u5mqZO"
      },
      "outputs": [],
      "source": [
        "from sklearn.linear_model import Lasso, LassoCV"
      ]
    },
    {
      "cell_type": "code",
      "execution_count": 57,
      "metadata": {},
      "outputs": [
        {
          "data": {
            "text/plain": [
              "Lasso(alpha=1, max_iter=1000000, random_state=42)"
            ]
          },
          "execution_count": 57,
          "metadata": {},
          "output_type": "execute_result"
        }
      ],
      "source": [
        "lasso_model = Lasso(alpha=1, random_state=42,max_iter=1000000)\n",
        "lasso_model.fit(X_train_scaled, y_train)"
      ]
    },
    {
      "cell_type": "code",
      "execution_count": 58,
      "metadata": {},
      "outputs": [],
      "source": [
        "y_pred = lasso_model.predict(X_test_scaled)\n",
        "y_train_pred = lasso_model.predict(X_train_scaled)"
      ]
    },
    {
      "cell_type": "code",
      "execution_count": 59,
      "metadata": {},
      "outputs": [
        {
          "data": {
            "text/html": [
              "<div>\n",
              "<style scoped>\n",
              "    .dataframe tbody tr th:only-of-type {\n",
              "        vertical-align: middle;\n",
              "    }\n",
              "\n",
              "    .dataframe tbody tr th {\n",
              "        vertical-align: top;\n",
              "    }\n",
              "\n",
              "    .dataframe thead th {\n",
              "        text-align: right;\n",
              "    }\n",
              "</style>\n",
              "<table border=\"1\" class=\"dataframe\">\n",
              "  <thead>\n",
              "    <tr style=\"text-align: right;\">\n",
              "      <th></th>\n",
              "      <th>lasso_train</th>\n",
              "      <th>lasso_test</th>\n",
              "    </tr>\n",
              "  </thead>\n",
              "  <tbody>\n",
              "    <tr>\n",
              "      <th>R2</th>\n",
              "      <td>0.892</td>\n",
              "      <td>0.885</td>\n",
              "    </tr>\n",
              "    <tr>\n",
              "      <th>mae</th>\n",
              "      <td>1690.876</td>\n",
              "      <td>1752.786</td>\n",
              "    </tr>\n",
              "    <tr>\n",
              "      <th>mse</th>\n",
              "      <td>5904580.474</td>\n",
              "      <td>6229675.177</td>\n",
              "    </tr>\n",
              "    <tr>\n",
              "      <th>rmse</th>\n",
              "      <td>2429.934</td>\n",
              "      <td>2495.932</td>\n",
              "    </tr>\n",
              "  </tbody>\n",
              "</table>\n",
              "</div>"
            ],
            "text/plain": [
              "      lasso_train  lasso_test\n",
              "R2          0.892       0.885\n",
              "mae      1690.876    1752.786\n",
              "mse   5904580.474 6229675.177\n",
              "rmse     2429.934    2495.932"
            ]
          },
          "execution_count": 59,
          "metadata": {},
          "output_type": "execute_result"
        }
      ],
      "source": [
        "lss = train_val(y_train, y_train_pred, y_test, y_pred, \"lasso\")\n",
        "lss"
      ]
    },
    {
      "cell_type": "markdown",
      "metadata": {
        "id": "qpoOypMbmqZO"
      },
      "source": [
        "## 6. Implement Elastic-Net"
      ]
    },
    {
      "cell_type": "markdown",
      "metadata": {
        "id": "El7SNJUemqZO"
      },
      "source": [
        "- Import the modul \n",
        "- Do not forget to scale the data or use Normalize parameter as True(If needed)\n",
        "- Fit the model \n",
        "- Predict the test set \n",
        "- Evaluate model performance (use performance metrics for regression) \n",
        "- Tune alpha hyperparameter by using [GridSearchCV](https://scikit-learn.org/stable/modules/generated/sklearn.model_selection.GridSearchCV.html) and determine the optimal alpha value.\n",
        "- Fit the model and predict again with the new alpha value.\n",
        "- Compare different evaluation metrics"
      ]
    },
    {
      "cell_type": "code",
      "execution_count": null,
      "metadata": {
        "id": "XKVr6v2JmqZO"
      },
      "outputs": [],
      "source": []
    },
    {
      "cell_type": "markdown",
      "metadata": {
        "id": "sYyuZQtWmqZO"
      },
      "source": [
        "## 7. Visually Compare Models Performance In a Graph"
      ]
    },
    {
      "cell_type": "code",
      "execution_count": null,
      "metadata": {
        "id": "iig18G7zmqZO"
      },
      "outputs": [],
      "source": []
    },
    {
      "cell_type": "code",
      "execution_count": null,
      "metadata": {
        "id": "_V_JsHqoe3oK"
      },
      "outputs": [],
      "source": []
    },
    {
      "cell_type": "markdown",
      "metadata": {
        "id": "cCy9Tv8je3oK"
      },
      "source": [
        "___\n",
        "\n",
        "<p style=\"text-align: center;\"><img src=\"https://docs.google.com/uc?id=1lY0Uj5R04yMY3-ZppPWxqCr5pvBLYPnV\" class=\"img-fluid\" alt=\"CLRSWY\"></p>\n",
        "\n",
        "___"
      ]
    },
    {
      "cell_type": "code",
      "execution_count": null,
      "metadata": {
        "id": "YiOcg9Wie3oL"
      },
      "outputs": [],
      "source": []
    }
  ],
  "metadata": {
    "colab": {
      "collapsed_sections": [],
      "name": "modeling_auto_scout_Student .ipynb",
      "provenance": []
    },
    "kernelspec": {
      "display_name": "Python 3",
      "language": "python",
      "name": "python3"
    },
    "language_info": {
      "codemirror_mode": {
        "name": "ipython",
        "version": 3
      },
      "file_extension": ".py",
      "mimetype": "text/x-python",
      "name": "python",
      "nbconvert_exporter": "python",
      "pygments_lexer": "ipython3",
      "version": "3.9.6"
    }
  },
  "nbformat": 4,
  "nbformat_minor": 0
}
