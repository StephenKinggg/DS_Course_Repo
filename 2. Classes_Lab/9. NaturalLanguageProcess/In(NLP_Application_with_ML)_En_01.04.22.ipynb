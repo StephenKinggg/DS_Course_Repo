{
  "nbformat": 4,
  "nbformat_minor": 0,
  "metadata": {
    "kernelspec": {
      "display_name": "Python 3",
      "language": "python",
      "name": "python3"
    },
    "language_info": {
      "codemirror_mode": {
        "name": "ipython",
        "version": 3
      },
      "file_extension": ".py",
      "mimetype": "text/x-python",
      "name": "python",
      "nbconvert_exporter": "python",
      "pygments_lexer": "ipython3",
      "version": "3.7.4"
    },
    "colab": {
      "name": "NLP-2 (NLP Application with ML)(EN)-Nov18_2021-S.ipynb",
      "provenance": [],
      "collapsed_sections": [
        "Ux465l6qTW_d",
        "Lrs-5nGYTW_k"
      ]
    },
    "accelerator": "GPU"
  },
  "cells": [
    {
      "cell_type": "markdown",
      "metadata": {
        "id": "HAw965WaTW_H"
      },
      "source": [
        "# NLP Application with ML\n",
        "\n",
        "## Classification of Tweets Data"
      ]
    },
    {
      "cell_type": "markdown",
      "metadata": {
        "id": "-zNsTN-0TW_K"
      },
      "source": [
        "### The Data\n",
        "\n",
        "🔑 Source: https://www.kaggle.com/crowdflower/twitter-airline-sentiment?select=Tweets.csv"
      ]
    },
    {
      "cell_type": "code",
      "metadata": {
        "colab": {
          "base_uri": "https://localhost:8080/"
        },
        "id": "9CeODXNLTW_L",
        "outputId": "d1bbecee-d310-4909-f40b-b0c3e16dd20f"
      },
      "source": [
        "import pandas as pd\n",
        "import seaborn as sns\n",
        "import matplotlib.pyplot as plt\n",
        "import nltk\n",
        "from nltk.tokenize import sent_tokenize, word_tokenize\n",
        "from nltk.corpus import stopwords\n",
        "from nltk.stem import WordNetLemmatizer\n",
        "from nltk.stem import PorterStemmer\n",
        "from collections import Counter\n",
        "from sklearn.metrics import f1_score\n",
        "nltk.download('wordnet')"
      ],
      "execution_count": null,
      "outputs": [
        {
          "output_type": "stream",
          "name": "stdout",
          "text": [
            "[nltk_data] Downloading package wordnet to /root/nltk_data...\n",
            "[nltk_data]   Unzipping corpora/wordnet.zip.\n"
          ]
        },
        {
          "output_type": "execute_result",
          "data": {
            "text/plain": [
              "True"
            ]
          },
          "metadata": {},
          "execution_count": 1
        }
      ]
    },
    {
      "cell_type": "code",
      "metadata": {
        "colab": {
          "base_uri": "https://localhost:8080/"
        },
        "id": "QliGQnyfhio-",
        "outputId": "b2f899ee-dea2-4403-a338-0be8077c6933"
      },
      "source": [
        "!python -V"
      ],
      "execution_count": null,
      "outputs": [
        {
          "output_type": "stream",
          "name": "stdout",
          "text": [
            "Python 3.7.12\n"
          ]
        }
      ]
    },
    {
      "cell_type": "code",
      "metadata": {
        "colab": {
          "base_uri": "https://localhost:8080/"
        },
        "id": "2PFQ4wgjh6tx",
        "outputId": "79e10327-ac0b-4269-a5c2-0c01244c94d1"
      },
      "source": [
        "!pip install scikit-learn==1.0.1"
      ],
      "execution_count": null,
      "outputs": [
        {
          "output_type": "stream",
          "name": "stdout",
          "text": [
            "Requirement already satisfied: scikit-learn==1.0.1 in /usr/local/lib/python3.7/dist-packages (1.0.1)\n",
            "Requirement already satisfied: numpy>=1.14.6 in /usr/local/lib/python3.7/dist-packages (from scikit-learn==1.0.1) (1.19.5)\n",
            "Requirement already satisfied: scipy>=1.1.0 in /usr/local/lib/python3.7/dist-packages (from scikit-learn==1.0.1) (1.4.1)\n",
            "Requirement already satisfied: joblib>=0.11 in /usr/local/lib/python3.7/dist-packages (from scikit-learn==1.0.1) (1.1.0)\n",
            "Requirement already satisfied: threadpoolctl>=2.0.0 in /usr/local/lib/python3.7/dist-packages (from scikit-learn==1.0.1) (3.0.0)\n"
          ]
        }
      ]
    },
    {
      "cell_type": "code",
      "metadata": {
        "colab": {
          "base_uri": "https://localhost:8080/"
        },
        "id": "0cPAAbe6icpN",
        "outputId": "675e615e-15c6-4635-baf1-19c776829130"
      },
      "source": [
        "import sklearn\n",
        "print(sklearn.__version__)"
      ],
      "execution_count": null,
      "outputs": [
        {
          "output_type": "stream",
          "name": "stdout",
          "text": [
            "1.0.1\n"
          ]
        }
      ]
    },
    {
      "cell_type": "markdown",
      "metadata": {
        "id": "m1BzRPMtTW_M"
      },
      "source": [
        "### Notebook Settings"
      ]
    },
    {
      "cell_type": "code",
      "metadata": {
        "id": "1Y01So6pTW_N"
      },
      "source": [
        "from IPython.core.interactiveshell import InteractiveShell\n",
        "InteractiveShell.ast_node_interactivity = 'all'\n",
        "pd.set_option('display.max_columns', 50)\n",
        "pd.set_option('display.max_colwidth', None)\n",
        "\n",
        "sns.set_context(context='talk', font_scale=1, rc={'figure.figsize':(11.7,8.27)})\n",
        "pd.set_option('display.float_format', lambda x: '%.2f' % x)"
      ],
      "execution_count": null,
      "outputs": []
    },
    {
      "cell_type": "markdown",
      "metadata": {
        "id": "YFnzICyBTW_N"
      },
      "source": [
        "### Getting Data"
      ]
    },
    {
      "cell_type": "code",
      "metadata": {
        "colab": {
          "base_uri": "https://localhost:8080/"
        },
        "id": "-iy_YXmNUux3",
        "outputId": "029c71c3-f55d-4595-8478-cf03d0a86c27"
      },
      "source": [
        "# For Colab\n",
        "from google.colab import drive\n",
        "drive.mount('/content/gdrive')"
      ],
      "execution_count": null,
      "outputs": [
        {
          "output_type": "stream",
          "name": "stdout",
          "text": [
            "Mounted at /content/gdrive\n"
          ]
        }
      ]
    },
    {
      "cell_type": "code",
      "metadata": {
        "colab": {
          "base_uri": "https://localhost:8080/",
          "height": 643
        },
        "id": "CJP9yBeATW_N",
        "outputId": "28774f87-1bf2-4890-91e2-e184ed47b44a"
      },
      "source": [
        "df = pd.read_csv('/content/gdrive/MyDrive/Colab Notebooks/Clarusway_NLP/Clarusway/clarusway-ds-students-7-21-main/3- Classes_Labs/NLP/NLP-1/airline_tweets.csv')\n",
        "#df = pd.read_csv(\"airline_tweets.csv\")\n",
        "df.head()"
      ],
      "execution_count": null,
      "outputs": [
        {
          "output_type": "execute_result",
          "data": {
            "text/html": [
              "<div>\n",
              "<style scoped>\n",
              "    .dataframe tbody tr th:only-of-type {\n",
              "        vertical-align: middle;\n",
              "    }\n",
              "\n",
              "    .dataframe tbody tr th {\n",
              "        vertical-align: top;\n",
              "    }\n",
              "\n",
              "    .dataframe thead th {\n",
              "        text-align: right;\n",
              "    }\n",
              "</style>\n",
              "<table border=\"1\" class=\"dataframe\">\n",
              "  <thead>\n",
              "    <tr style=\"text-align: right;\">\n",
              "      <th></th>\n",
              "      <th>tweet_id</th>\n",
              "      <th>airline_sentiment</th>\n",
              "      <th>airline_sentiment_confidence</th>\n",
              "      <th>negativereason</th>\n",
              "      <th>negativereason_confidence</th>\n",
              "      <th>airline</th>\n",
              "      <th>airline_sentiment_gold</th>\n",
              "      <th>name</th>\n",
              "      <th>negativereason_gold</th>\n",
              "      <th>retweet_count</th>\n",
              "      <th>text</th>\n",
              "      <th>tweet_coord</th>\n",
              "      <th>tweet_created</th>\n",
              "      <th>tweet_location</th>\n",
              "      <th>user_timezone</th>\n",
              "    </tr>\n",
              "  </thead>\n",
              "  <tbody>\n",
              "    <tr>\n",
              "      <th>0</th>\n",
              "      <td>570306133677760513</td>\n",
              "      <td>neutral</td>\n",
              "      <td>1.00</td>\n",
              "      <td>NaN</td>\n",
              "      <td>nan</td>\n",
              "      <td>Virgin America</td>\n",
              "      <td>NaN</td>\n",
              "      <td>cairdin</td>\n",
              "      <td>NaN</td>\n",
              "      <td>0</td>\n",
              "      <td>@VirginAmerica What @dhepburn said.</td>\n",
              "      <td>NaN</td>\n",
              "      <td>2015-02-24 11:35:52 -0800</td>\n",
              "      <td>NaN</td>\n",
              "      <td>Eastern Time (US &amp; Canada)</td>\n",
              "    </tr>\n",
              "    <tr>\n",
              "      <th>1</th>\n",
              "      <td>570301130888122368</td>\n",
              "      <td>positive</td>\n",
              "      <td>0.35</td>\n",
              "      <td>NaN</td>\n",
              "      <td>0.00</td>\n",
              "      <td>Virgin America</td>\n",
              "      <td>NaN</td>\n",
              "      <td>jnardino</td>\n",
              "      <td>NaN</td>\n",
              "      <td>0</td>\n",
              "      <td>@VirginAmerica plus you've added commercials to the experience... tacky.</td>\n",
              "      <td>NaN</td>\n",
              "      <td>2015-02-24 11:15:59 -0800</td>\n",
              "      <td>NaN</td>\n",
              "      <td>Pacific Time (US &amp; Canada)</td>\n",
              "    </tr>\n",
              "    <tr>\n",
              "      <th>2</th>\n",
              "      <td>570301083672813571</td>\n",
              "      <td>neutral</td>\n",
              "      <td>0.68</td>\n",
              "      <td>NaN</td>\n",
              "      <td>nan</td>\n",
              "      <td>Virgin America</td>\n",
              "      <td>NaN</td>\n",
              "      <td>yvonnalynn</td>\n",
              "      <td>NaN</td>\n",
              "      <td>0</td>\n",
              "      <td>@VirginAmerica I didn't today... Must mean I need to take another trip!</td>\n",
              "      <td>NaN</td>\n",
              "      <td>2015-02-24 11:15:48 -0800</td>\n",
              "      <td>Lets Play</td>\n",
              "      <td>Central Time (US &amp; Canada)</td>\n",
              "    </tr>\n",
              "    <tr>\n",
              "      <th>3</th>\n",
              "      <td>570301031407624196</td>\n",
              "      <td>negative</td>\n",
              "      <td>1.00</td>\n",
              "      <td>Bad Flight</td>\n",
              "      <td>0.70</td>\n",
              "      <td>Virgin America</td>\n",
              "      <td>NaN</td>\n",
              "      <td>jnardino</td>\n",
              "      <td>NaN</td>\n",
              "      <td>0</td>\n",
              "      <td>@VirginAmerica it's really aggressive to blast obnoxious \"entertainment\" in your guests' faces &amp;amp; they have little recourse</td>\n",
              "      <td>NaN</td>\n",
              "      <td>2015-02-24 11:15:36 -0800</td>\n",
              "      <td>NaN</td>\n",
              "      <td>Pacific Time (US &amp; Canada)</td>\n",
              "    </tr>\n",
              "    <tr>\n",
              "      <th>4</th>\n",
              "      <td>570300817074462722</td>\n",
              "      <td>negative</td>\n",
              "      <td>1.00</td>\n",
              "      <td>Can't Tell</td>\n",
              "      <td>1.00</td>\n",
              "      <td>Virgin America</td>\n",
              "      <td>NaN</td>\n",
              "      <td>jnardino</td>\n",
              "      <td>NaN</td>\n",
              "      <td>0</td>\n",
              "      <td>@VirginAmerica and it's a really big bad thing about it</td>\n",
              "      <td>NaN</td>\n",
              "      <td>2015-02-24 11:14:45 -0800</td>\n",
              "      <td>NaN</td>\n",
              "      <td>Pacific Time (US &amp; Canada)</td>\n",
              "    </tr>\n",
              "  </tbody>\n",
              "</table>\n",
              "</div>"
            ],
            "text/plain": [
              "             tweet_id airline_sentiment  airline_sentiment_confidence  \\\n",
              "0  570306133677760513           neutral                          1.00   \n",
              "1  570301130888122368          positive                          0.35   \n",
              "2  570301083672813571           neutral                          0.68   \n",
              "3  570301031407624196          negative                          1.00   \n",
              "4  570300817074462722          negative                          1.00   \n",
              "\n",
              "  negativereason  negativereason_confidence         airline  \\\n",
              "0            NaN                        nan  Virgin America   \n",
              "1            NaN                       0.00  Virgin America   \n",
              "2            NaN                        nan  Virgin America   \n",
              "3     Bad Flight                       0.70  Virgin America   \n",
              "4     Can't Tell                       1.00  Virgin America   \n",
              "\n",
              "  airline_sentiment_gold        name negativereason_gold  retweet_count  \\\n",
              "0                    NaN     cairdin                 NaN              0   \n",
              "1                    NaN    jnardino                 NaN              0   \n",
              "2                    NaN  yvonnalynn                 NaN              0   \n",
              "3                    NaN    jnardino                 NaN              0   \n",
              "4                    NaN    jnardino                 NaN              0   \n",
              "\n",
              "                                                                                                                             text  \\\n",
              "0                                                                                             @VirginAmerica What @dhepburn said.   \n",
              "1                                                        @VirginAmerica plus you've added commercials to the experience... tacky.   \n",
              "2                                                         @VirginAmerica I didn't today... Must mean I need to take another trip!   \n",
              "3  @VirginAmerica it's really aggressive to blast obnoxious \"entertainment\" in your guests' faces &amp; they have little recourse   \n",
              "4                                                                         @VirginAmerica and it's a really big bad thing about it   \n",
              "\n",
              "  tweet_coord              tweet_created tweet_location  \\\n",
              "0         NaN  2015-02-24 11:35:52 -0800            NaN   \n",
              "1         NaN  2015-02-24 11:15:59 -0800            NaN   \n",
              "2         NaN  2015-02-24 11:15:48 -0800      Lets Play   \n",
              "3         NaN  2015-02-24 11:15:36 -0800            NaN   \n",
              "4         NaN  2015-02-24 11:14:45 -0800            NaN   \n",
              "\n",
              "                user_timezone  \n",
              "0  Eastern Time (US & Canada)  \n",
              "1  Pacific Time (US & Canada)  \n",
              "2  Central Time (US & Canada)  \n",
              "3  Pacific Time (US & Canada)  \n",
              "4  Pacific Time (US & Canada)  "
            ]
          },
          "metadata": {},
          "execution_count": 4
        }
      ]
    },
    {
      "cell_type": "code",
      "metadata": {
        "colab": {
          "base_uri": "https://localhost:8080/",
          "height": 533
        },
        "id": "S2S6vFu2TW_P",
        "outputId": "2de5a2ad-689c-49f8-92c7-88bff0bf4833"
      },
      "source": [
        "fig, ax = plt.subplots()\n",
        "# the size of A4 paper\n",
        "fig.set_size_inches(11.7, 8.27)\n",
        "sns.countplot(data = df, x =\"airline\", hue = \"airline_sentiment\")\n",
        "sns.despine();"
      ],
      "execution_count": null,
      "outputs": [
        {
          "output_type": "display_data",
          "data": {
            "image/png": "[encoded data removed]",
            "text/plain": [
              "<Figure size 842.4x595.44 with 1 Axes>"
            ]
          },
          "metadata": {
            "needs_background": "light"
          }
        }
      ]
    },
    {
      "cell_type": "code",
      "metadata": {
        "colab": {
          "base_uri": "https://localhost:8080/",
          "height": 746
        },
        "id": "tE0ISc6UTW_Q",
        "outputId": "2d06fe2f-f552-4dd7-cb97-fe0f8b251c27"
      },
      "source": [
        "fig, ax = plt.subplots()\n",
        "# the size of A4 paper\n",
        "fig.set_size_inches(11.7, 8.27)\n",
        "sns.countplot(data =df, x =\"negativereason\")\n",
        "plt.xticks(rotation =90)\n",
        "sns.despine();"
      ],
      "execution_count": null,
      "outputs": [
        {
          "output_type": "display_data",
          "data": {
            "image/png": "[encoded data removed]",
            "text/plain": [
              "<Figure size 842.4x595.44 with 1 Axes>"
            ]
          },
          "metadata": {
            "needs_background": "light"
          }
        }
      ]
    },
    {
      "cell_type": "code",
      "metadata": {
        "colab": {
          "base_uri": "https://localhost:8080/",
          "height": 479
        },
        "id": "Adahvx0MTW_Q",
        "outputId": "5171128b-9f88-4d90-a7ff-53a628af0562"
      },
      "source": [
        "fig, ax = plt.subplots()\n",
        "fig.set_size_inches(10, 7.27)\n",
        "sns.countplot(data =df, x = \"airline_sentiment\")\n",
        "sns.despine();"
      ],
      "execution_count": null,
      "outputs": [
        {
          "output_type": "display_data",
          "data": {
            "image/png": "[encoded data removed]",
            "text/plain": [
              "<Figure size 720x523.44 with 1 Axes>"
            ]
          },
          "metadata": {
            "needs_background": "light"
          }
        }
      ]
    },
    {
      "cell_type": "code",
      "metadata": {
        "colab": {
          "base_uri": "https://localhost:8080/"
        },
        "id": "NyzEYU7KTW_R",
        "outputId": "eed1b9b3-0ffa-4bbd-be8e-30980e76407c"
      },
      "source": [
        "df[\"airline_sentiment\"].value_counts()"
      ],
      "execution_count": null,
      "outputs": [
        {
          "output_type": "execute_result",
          "data": {
            "text/plain": [
              "negative    9178\n",
              "neutral     3099\n",
              "positive    2363\n",
              "Name: airline_sentiment, dtype: int64"
            ]
          },
          "metadata": {},
          "execution_count": 11
        }
      ]
    },
    {
      "cell_type": "markdown",
      "metadata": {
        "id": "LjSumodkTW_R"
      },
      "source": [
        "## Cleaning Data and Removing Rare Words"
      ]
    },
    {
      "cell_type": "code",
      "metadata": {
        "id": "pDtN25wbTW_S"
      },
      "source": [
        "df2 = df.copy()"
      ],
      "execution_count": null,
      "outputs": []
    },
    {
      "cell_type": "code",
      "metadata": {
        "colab": {
          "base_uri": "https://localhost:8080/"
        },
        "id": "KBmVJSPcTW_S",
        "outputId": "415b5967-ed99-4fed-90b9-2c0fb3018171"
      },
      "source": [
        "df2[\"text\"]"
      ],
      "execution_count": null,
      "outputs": [
        {
          "output_type": "execute_result",
          "data": {
            "text/plain": [
              "0                                                                                                                           @VirginAmerica What @dhepburn said.\n",
              "1                                                                                      @VirginAmerica plus you've added commercials to the experience... tacky.\n",
              "2                                                                                       @VirginAmerica I didn't today... Must mean I need to take another trip!\n",
              "3                                @VirginAmerica it's really aggressive to blast obnoxious \"entertainment\" in your guests' faces &amp; they have little recourse\n",
              "4                                                                                                       @VirginAmerica and it's a really big bad thing about it\n",
              "                                                                                  ...                                                                          \n",
              "14635                                                                                           @AmericanAir thank you we got on a different flight to Chicago.\n",
              "14636    @AmericanAir leaving over 20 minutes Late Flight. No warnings or communication until we were 15 minutes Late Flight. That's called shitty customer svc\n",
              "14637                                                                                              @AmericanAir Please bring American Airlines to #BlackBerry10\n",
              "14638                   @AmericanAir you have my money, you change my flight, and don't answer your phones! Any other suggestions so I can make my commitment??\n",
              "14639                @AmericanAir we have 8 ppl so we need 2 know how many seats are on the next flight. Plz put us on standby for 4 people on the next flight?\n",
              "Name: text, Length: 14640, dtype: object"
            ]
          },
          "metadata": {},
          "execution_count": 13
        }
      ]
    },
    {
      "cell_type": "code",
      "metadata": {
        "colab": {
          "base_uri": "https://localhost:8080/"
        },
        "id": "2RtYon2KTW_T",
        "outputId": "5479ad6b-b4ff-420f-eec2-472bb27f8958"
      },
      "source": [
        "words = pd.Series(\" \".join(df2[\"text\"]).split()).value_counts()\n",
        "words"
      ],
      "execution_count": null,
      "outputs": [
        {
          "output_type": "execute_result",
          "data": {
            "text/plain": [
              "to          8535\n",
              "the         5781\n",
              "I           5054\n",
              "a           4359\n",
              "for         3921\n",
              "            ... \n",
              "Boston'        1\n",
              "DFW/ORD?       1\n",
              "college,       1\n",
              "SUCKS.         1\n",
              "Evry           1\n",
              "Length: 30105, dtype: int64"
            ]
          },
          "metadata": {},
          "execution_count": 14
        }
      ]
    },
    {
      "cell_type": "code",
      "metadata": {
        "id": "Pse-TFfWTW_T"
      },
      "source": [
        "rare_words = words[words < 2]"
      ],
      "execution_count": null,
      "outputs": []
    },
    {
      "cell_type": "code",
      "metadata": {
        "colab": {
          "base_uri": "https://localhost:8080/"
        },
        "id": "72Q_RRowTW_T",
        "outputId": "454ae97e-cd0f-44a3-bace-a75405ac28e9"
      },
      "source": [
        "print(rare_words.index)\n",
        "print('\\n number of TOTAL words :', len(words))\n",
        "print('\\n number of RARE words  :', len(rare_words))"
      ],
      "execution_count": null,
      "outputs": [
        {
          "output_type": "stream",
          "name": "stdout",
          "text": [
            "Index(['#reservations', 'Catering', 'seats)', 'TLH.', 'nc', 'amazing!!',\n",
            "       'Vegas-Chicago', 'thier', '\"@united:', 'JFK-LAS.',\n",
            "       ...\n",
            "       'post?', 'terrible.no', '\"rampers\"', '10pm.', 'Ripoff,Quick', 'Boston'',\n",
            "       'DFW/ORD?', 'college,', 'SUCKS.', 'Evry'],\n",
            "      dtype='object', length=19812)\n",
            "\n",
            " number of TOTAL words : 30105\n",
            "\n",
            " number of RARE words  : 19812\n"
          ]
        }
      ]
    },
    {
      "cell_type": "code",
      "metadata": {
        "colab": {
          "base_uri": "https://localhost:8080/"
        },
        "id": "2mVP9wtyTW_U",
        "outputId": "b54284f9-4cb9-467b-ca66-34210781653f"
      },
      "source": [
        "df2[\"text\"] = df2[\"text\"].apply(lambda x: \" \".join([i for i in x.split() if i not in rare_words.index]))\n",
        "df2[\"text\"].head()"
      ],
      "execution_count": null,
      "outputs": [
        {
          "output_type": "execute_result",
          "data": {
            "text/plain": [
              "0                                                                                 @VirginAmerica What said.\n",
              "1                                                       @VirginAmerica plus you've added commercials to the\n",
              "2                                   @VirginAmerica I didn't today... Must mean I need to take another trip!\n",
              "3    @VirginAmerica it's really aggressive to blast obnoxious in your faces &amp; they have little recourse\n",
              "4                                                   @VirginAmerica and it's a really big bad thing about it\n",
              "Name: text, dtype: object"
            ]
          },
          "metadata": {},
          "execution_count": 17
        }
      ]
    },
    {
      "cell_type": "markdown",
      "metadata": {
        "id": "1j1T5XImTW_U"
      },
      "source": [
        "## Cleaning Data"
      ]
    },
    {
      "cell_type": "code",
      "metadata": {
        "colab": {
          "base_uri": "https://localhost:8080/"
        },
        "id": "opGwHy2FTW_U",
        "outputId": "a1fd7872-a14c-4f09-a6db-68cbfc2873fb"
      },
      "source": [
        "nltk.download('stopwords')\n",
        "nltk.download('punkt')\n",
        "nltk.download('wordnet')"
      ],
      "execution_count": null,
      "outputs": [
        {
          "output_type": "stream",
          "name": "stdout",
          "text": [
            "[nltk_data] Downloading package stopwords to /root/nltk_data...\n",
            "[nltk_data]   Unzipping corpora/stopwords.zip.\n"
          ]
        },
        {
          "output_type": "execute_result",
          "data": {
            "text/plain": [
              "True"
            ]
          },
          "metadata": {},
          "execution_count": 6
        },
        {
          "output_type": "stream",
          "name": "stdout",
          "text": [
            "[nltk_data] Downloading package punkt to /root/nltk_data...\n",
            "[nltk_data]   Unzipping tokenizers/punkt.zip.\n"
          ]
        },
        {
          "output_type": "execute_result",
          "data": {
            "text/plain": [
              "True"
            ]
          },
          "metadata": {},
          "execution_count": 6
        },
        {
          "output_type": "stream",
          "name": "stdout",
          "text": [
            "[nltk_data] Downloading package wordnet to /root/nltk_data...\n",
            "[nltk_data]   Package wordnet is already up-to-date!\n"
          ]
        },
        {
          "output_type": "execute_result",
          "data": {
            "text/plain": [
              "True"
            ]
          },
          "metadata": {},
          "execution_count": 6
        }
      ]
    },
    {
      "cell_type": "code",
      "metadata": {
        "id": "Cjl11FMkTW_V"
      },
      "source": [
        "stop_words = stopwords.words('english')\n",
        "words_to_exclude_from_stopwords = ['not', \"n't\", 'ain', 'aren', \"aren't\", 'couldn', \"couldn't\", 'didn', \"didn't\", 'doesn', \"doesn't\", \"don't\", 'hadn', \n",
        "                                   \"hadn't\", 'hasn', \"hasn't\", 'haven', \"haven't\", 'isn', \"isn't\", 'ma', 'mightn', \"mightn't\", 'mustn', \"mustn't\", \n",
        "                                   'needn', \"needn't\", 'shan', \"shan't\", 'shouldn', \"shouldn't\", 'wasn', \"wasn't\", 'weren', \"weren't\", 'won', \n",
        "                                   \"won't\", 'wouldn', \"wouldn't\"]\n",
        "\n",
        "new_stopwords = [w for w in stop_words if w not in words_to_exclude_from_stopwords]"
      ],
      "execution_count": null,
      "outputs": []
    },
    {
      "cell_type": "code",
      "metadata": {
        "id": "MeoXHigVoe32"
      },
      "source": [
        "# ##### !!!!!!!!!!\n",
        "# a = \"I don't want to fly with your company.\" # vs \"I do not want to fly with your company\" \n",
        "# [token for token in word_tokenize(a) if token not in stop_words] "
      ],
      "execution_count": null,
      "outputs": []
    },
    {
      "cell_type": "code",
      "metadata": {
        "id": "Rs50mtYUTW_V"
      },
      "source": [
        "def cleaning(data):\n",
        "\n",
        "    import re\n",
        "    \n",
        "    #1. Removing URLS\n",
        "    data = re.sub(r'http\\S+', '', data)\n",
        "\n",
        "    #2. Removing Tags\n",
        "    data = re.sub(r'#\\w+', '', data)\n",
        "\n",
        "    #3. Removing Mentions\n",
        "    data = re.sub(r'@\\w+', '', data)\n",
        "\n",
        "    #4. Contractions Expension & Tokenize\n",
        "    #text_tokens = word_tokenize(contractions.fix(data.lower())) \n",
        "    text_tokens = word_tokenize(data.replace(\"'\", '').lower())\n",
        "\n",
        "    # #5. Removing mentions\n",
        "    # tokens_without_mention = [w for w in text_tokens if not w.startswith('@')]\n",
        "    \n",
        "    #6. Remove Puncs\n",
        "    tokens_without_punc = [w for w in tokens_without_mention if w.isalpha()]\n",
        "    \n",
        "    #7. Removing Stopwords\n",
        "    tokens_without_sw = [t for t in tokens_without_punc if t not in new_stopwords]\n",
        "    \n",
        "    #8. lemma\n",
        "    text_cleaned = [WordNetLemmatizer().lemmatize(t) for t in tokens_without_sw]\n",
        "    \n",
        "    #joining\n",
        "    return \" \".join(text_cleaned)"
      ],
      "execution_count": null,
      "outputs": []
    },
    {
      "cell_type": "code",
      "metadata": {
        "colab": {
          "base_uri": "https://localhost:8080/",
          "height": 493
        },
        "id": "aGAZStOfTW_W",
        "outputId": "9efdda92-c4a3-4ee3-eee0-1119ca5d786e"
      },
      "source": [
        "df2[\"cleaned_text\"] = df2[\"text\"].apply(cleaning)\n",
        "df2[['text', 'cleaned_text']]"
      ],
      "execution_count": null,
      "outputs": [
        {
          "output_type": "execute_result",
          "data": {
            "text/html": [
              "<div>\n",
              "<style scoped>\n",
              "    .dataframe tbody tr th:only-of-type {\n",
              "        vertical-align: middle;\n",
              "    }\n",
              "\n",
              "    .dataframe tbody tr th {\n",
              "        vertical-align: top;\n",
              "    }\n",
              "\n",
              "    .dataframe thead th {\n",
              "        text-align: right;\n",
              "    }\n",
              "</style>\n",
              "<table border=\"1\" class=\"dataframe\">\n",
              "  <thead>\n",
              "    <tr style=\"text-align: right;\">\n",
              "      <th></th>\n",
              "      <th>text</th>\n",
              "      <th>cleaned_text</th>\n",
              "    </tr>\n",
              "  </thead>\n",
              "  <tbody>\n",
              "    <tr>\n",
              "      <th>0</th>\n",
              "      <td>@VirginAmerica What @dhepburn said.</td>\n",
              "      <td>said</td>\n",
              "    </tr>\n",
              "    <tr>\n",
              "      <th>1</th>\n",
              "      <td>@VirginAmerica plus you've added commercials to the experience... tacky.</td>\n",
              "      <td>plus youve added commercial experience tacky</td>\n",
              "    </tr>\n",
              "    <tr>\n",
              "      <th>2</th>\n",
              "      <td>@VirginAmerica I didn't today... Must mean I need to take another trip!</td>\n",
              "      <td>didnt today must mean need take another trip</td>\n",
              "    </tr>\n",
              "    <tr>\n",
              "      <th>3</th>\n",
              "      <td>@VirginAmerica it's really aggressive to blast obnoxious \"entertainment\" in your guests' faces &amp;amp; they have little recourse</td>\n",
              "      <td>really aggressive blast obnoxious entertainment guest face amp little recourse</td>\n",
              "    </tr>\n",
              "    <tr>\n",
              "      <th>4</th>\n",
              "      <td>@VirginAmerica and it's a really big bad thing about it</td>\n",
              "      <td>really big bad thing</td>\n",
              "    </tr>\n",
              "    <tr>\n",
              "      <th>...</th>\n",
              "      <td>...</td>\n",
              "      <td>...</td>\n",
              "    </tr>\n",
              "    <tr>\n",
              "      <th>14635</th>\n",
              "      <td>@AmericanAir thank you we got on a different flight to Chicago.</td>\n",
              "      <td>thank got different flight chicago</td>\n",
              "    </tr>\n",
              "    <tr>\n",
              "      <th>14636</th>\n",
              "      <td>@AmericanAir leaving over 20 minutes Late Flight. No warnings or communication until we were 15 minutes Late Flight. That's called shitty customer svc</td>\n",
              "      <td>leaving minute late flight warning communication minute late flight thats called shitty customer svc</td>\n",
              "    </tr>\n",
              "    <tr>\n",
              "      <th>14637</th>\n",
              "      <td>@AmericanAir Please bring American Airlines to #BlackBerry10</td>\n",
              "      <td>please bring american airline</td>\n",
              "    </tr>\n",
              "    <tr>\n",
              "      <th>14638</th>\n",
              "      <td>@AmericanAir you have my money, you change my flight, and don't answer your phones! Any other suggestions so I can make my commitment??</td>\n",
              "      <td>money change flight dont answer phone suggestion make commitment</td>\n",
              "    </tr>\n",
              "    <tr>\n",
              "      <th>14639</th>\n",
              "      <td>@AmericanAir we have 8 ppl so we need 2 know how many seats are on the next flight. Plz put us on standby for 4 people on the next flight?</td>\n",
              "      <td>ppl need know many seat next flight plz put u standby people next flight</td>\n",
              "    </tr>\n",
              "  </tbody>\n",
              "</table>\n",
              "<p>14640 rows × 2 columns</p>\n",
              "</div>"
            ],
            "text/plain": [
              "                                                                                                                                                         text  \\\n",
              "0                                                                                                                         @VirginAmerica What @dhepburn said.   \n",
              "1                                                                                    @VirginAmerica plus you've added commercials to the experience... tacky.   \n",
              "2                                                                                     @VirginAmerica I didn't today... Must mean I need to take another trip!   \n",
              "3                              @VirginAmerica it's really aggressive to blast obnoxious \"entertainment\" in your guests' faces &amp; they have little recourse   \n",
              "4                                                                                                     @VirginAmerica and it's a really big bad thing about it   \n",
              "...                                                                                                                                                       ...   \n",
              "14635                                                                                         @AmericanAir thank you we got on a different flight to Chicago.   \n",
              "14636  @AmericanAir leaving over 20 minutes Late Flight. No warnings or communication until we were 15 minutes Late Flight. That's called shitty customer svc   \n",
              "14637                                                                                            @AmericanAir Please bring American Airlines to #BlackBerry10   \n",
              "14638                 @AmericanAir you have my money, you change my flight, and don't answer your phones! Any other suggestions so I can make my commitment??   \n",
              "14639              @AmericanAir we have 8 ppl so we need 2 know how many seats are on the next flight. Plz put us on standby for 4 people on the next flight?   \n",
              "\n",
              "                                                                                               cleaned_text  \n",
              "0                                                                                                      said  \n",
              "1                                                              plus youve added commercial experience tacky  \n",
              "2                                                              didnt today must mean need take another trip  \n",
              "3                            really aggressive blast obnoxious entertainment guest face amp little recourse  \n",
              "4                                                                                      really big bad thing  \n",
              "...                                                                                                     ...  \n",
              "14635                                                                    thank got different flight chicago  \n",
              "14636  leaving minute late flight warning communication minute late flight thats called shitty customer svc  \n",
              "14637                                                                         please bring american airline  \n",
              "14638                                      money change flight dont answer phone suggestion make commitment  \n",
              "14639                              ppl need know many seat next flight plz put u standby people next flight  \n",
              "\n",
              "[14640 rows x 2 columns]"
            ]
          },
          "metadata": {},
          "execution_count": 10
        }
      ]
    },
    {
      "cell_type": "markdown",
      "metadata": {
        "id": "v2l_yPTiTW_W"
      },
      "source": [
        "## Features and Label"
      ]
    },
    {
      "cell_type": "code",
      "metadata": {
        "colab": {
          "base_uri": "https://localhost:8080/",
          "height": 206
        },
        "id": "OYR6oX1pTW_W",
        "outputId": "e8c90131-c743-4c03-a39b-e82418ab9d11"
      },
      "source": [
        "df2.rename(columns={'airline_sentiment':'sentiment'}, inplace=True)\n",
        "df2 = df2.loc[:, [\"sentiment\", \"cleaned_text\"]]\n",
        "df2.head()"
      ],
      "execution_count": null,
      "outputs": [
        {
          "output_type": "execute_result",
          "data": {
            "text/html": [
              "<div>\n",
              "<style scoped>\n",
              "    .dataframe tbody tr th:only-of-type {\n",
              "        vertical-align: middle;\n",
              "    }\n",
              "\n",
              "    .dataframe tbody tr th {\n",
              "        vertical-align: top;\n",
              "    }\n",
              "\n",
              "    .dataframe thead th {\n",
              "        text-align: right;\n",
              "    }\n",
              "</style>\n",
              "<table border=\"1\" class=\"dataframe\">\n",
              "  <thead>\n",
              "    <tr style=\"text-align: right;\">\n",
              "      <th></th>\n",
              "      <th>sentiment</th>\n",
              "      <th>cleaned_text</th>\n",
              "    </tr>\n",
              "  </thead>\n",
              "  <tbody>\n",
              "    <tr>\n",
              "      <th>0</th>\n",
              "      <td>neutral</td>\n",
              "      <td>said</td>\n",
              "    </tr>\n",
              "    <tr>\n",
              "      <th>1</th>\n",
              "      <td>positive</td>\n",
              "      <td>plus youve added commercial experience tacky</td>\n",
              "    </tr>\n",
              "    <tr>\n",
              "      <th>2</th>\n",
              "      <td>neutral</td>\n",
              "      <td>didnt today must mean need take another trip</td>\n",
              "    </tr>\n",
              "    <tr>\n",
              "      <th>3</th>\n",
              "      <td>negative</td>\n",
              "      <td>really aggressive blast obnoxious entertainment guest face amp little recourse</td>\n",
              "    </tr>\n",
              "    <tr>\n",
              "      <th>4</th>\n",
              "      <td>negative</td>\n",
              "      <td>really big bad thing</td>\n",
              "    </tr>\n",
              "  </tbody>\n",
              "</table>\n",
              "</div>"
            ],
            "text/plain": [
              "  sentiment  \\\n",
              "0   neutral   \n",
              "1  positive   \n",
              "2   neutral   \n",
              "3  negative   \n",
              "4  negative   \n",
              "\n",
              "                                                                     cleaned_text  \n",
              "0                                                                            said  \n",
              "1                                    plus youve added commercial experience tacky  \n",
              "2                                    didnt today must mean need take another trip  \n",
              "3  really aggressive blast obnoxious entertainment guest face amp little recourse  \n",
              "4                                                            really big bad thing  "
            ]
          },
          "metadata": {},
          "execution_count": 11
        }
      ]
    },
    {
      "cell_type": "markdown",
      "metadata": {
        "id": "LgQNnuxvTW_X"
      },
      "source": [
        "## Train Test Split"
      ]
    },
    {
      "cell_type": "code",
      "metadata": {
        "id": "C2CNrdheTW_X"
      },
      "source": [
        "#df2 = df2[['sentiment','text']]"
      ],
      "execution_count": null,
      "outputs": []
    },
    {
      "cell_type": "code",
      "metadata": {
        "id": "Ykm5UTvJTW_X"
      },
      "source": [
        "X = df2['cleaned_text']\n",
        "y = df2['sentiment']"
      ],
      "execution_count": null,
      "outputs": []
    },
    {
      "cell_type": "code",
      "metadata": {
        "id": "0LLrOX5ITW_X"
      },
      "source": [
        "from sklearn.model_selection import train_test_split\n",
        "X_train, X_test, y_train, y_test = train_test_split(X, y, test_size=0.2, stratify=y, random_state=4299)"
      ],
      "execution_count": null,
      "outputs": []
    },
    {
      "cell_type": "markdown",
      "metadata": {
        "id": "Zu135BoTTW_X"
      },
      "source": [
        "## Vectorization"
      ]
    },
    {
      "cell_type": "code",
      "metadata": {
        "id": "rQy-JGvGTW_Y"
      },
      "source": [
        "from sklearn.feature_extraction.text import CountVectorizer"
      ],
      "execution_count": null,
      "outputs": []
    },
    {
      "cell_type": "code",
      "metadata": {
        "id": "mowD8JccTW_Y"
      },
      "source": [
        "vectorizer = CountVectorizer(preprocessor=cleaning, min_df=2, ngram_range=(1,2))\n",
        "X_train_count = vectorizer.fit_transform(X_train)\n",
        "X_test_count = vectorizer.transform(X_test)"
      ],
      "execution_count": null,
      "outputs": []
    },
    {
      "cell_type": "code",
      "metadata": {
        "colab": {
          "base_uri": "https://localhost:8080/"
        },
        "id": "FVH_DbQcTW_Y",
        "outputId": "e2a5cab7-dd5f-4d69-eead-0ef036955787"
      },
      "source": [
        "X_train_count.toarray()"
      ],
      "execution_count": null,
      "outputs": [
        {
          "output_type": "execute_result",
          "data": {
            "text/plain": [
              "array([[0, 0, 0, ..., 0, 0, 0],\n",
              "       [0, 0, 0, ..., 0, 0, 0],\n",
              "       [0, 0, 0, ..., 0, 0, 0],\n",
              "       ...,\n",
              "       [0, 0, 0, ..., 0, 0, 0],\n",
              "       [0, 0, 0, ..., 0, 0, 0],\n",
              "       [0, 0, 0, ..., 0, 0, 0]])"
            ]
          },
          "metadata": {},
          "execution_count": 29
        }
      ]
    },
    {
      "cell_type": "code",
      "metadata": {
        "colab": {
          "base_uri": "https://localhost:8080/",
          "height": 454
        },
        "id": "ytaQQPRyTW_Y",
        "outputId": "948cc425-80dc-4764-c329-8fbf663ee814"
      },
      "source": [
        "# ngram https://stackoverflow.com/questions/36572221/how-to-find-ngram-frequency-of-a-column-in-a-pandas-dataframe\n",
        "pd.DataFrame(X_train_count.toarray(), columns = vectorizer.get_feature_names_out())"
      ],
      "execution_count": null,
      "outputs": [
        {
          "output_type": "execute_result",
          "data": {
            "text/html": [
              "<div>\n",
              "<style scoped>\n",
              "    .dataframe tbody tr th:only-of-type {\n",
              "        vertical-align: middle;\n",
              "    }\n",
              "\n",
              "    .dataframe tbody tr th {\n",
              "        vertical-align: top;\n",
              "    }\n",
              "\n",
              "    .dataframe thead th {\n",
              "        text-align: right;\n",
              "    }\n",
              "</style>\n",
              "<table border=\"1\" class=\"dataframe\">\n",
              "  <thead>\n",
              "    <tr style=\"text-align: right;\">\n",
              "      <th></th>\n",
              "      <th>aa</th>\n",
              "      <th>aa agent</th>\n",
              "      <th>aa also</th>\n",
              "      <th>aa amp</th>\n",
              "      <th>aa customer</th>\n",
              "      <th>aa dallas</th>\n",
              "      <th>aa doesnt</th>\n",
              "      <th>aa email</th>\n",
              "      <th>aa employee</th>\n",
              "      <th>aa family</th>\n",
              "      <th>aa flight</th>\n",
              "      <th>aa gate</th>\n",
              "      <th>aa gold</th>\n",
              "      <th>aa help</th>\n",
              "      <th>aa know</th>\n",
              "      <th>aa monday</th>\n",
              "      <th>aa number</th>\n",
              "      <th>aa platinum</th>\n",
              "      <th>aa possible</th>\n",
              "      <th>aa usair</th>\n",
              "      <th>aa would</th>\n",
              "      <th>aadv</th>\n",
              "      <th>aadv svc</th>\n",
              "      <th>aadvantage</th>\n",
              "      <th>aadvantage number</th>\n",
              "      <th>...</th>\n",
              "      <th>youve</th>\n",
              "      <th>youve always</th>\n",
              "      <th>youve cancelled</th>\n",
              "      <th>youve got</th>\n",
              "      <th>youve known</th>\n",
              "      <th>youve lost</th>\n",
              "      <th>youve misunderstood</th>\n",
              "      <th>yr</th>\n",
              "      <th>yr flying</th>\n",
              "      <th>yr old</th>\n",
              "      <th>yr team</th>\n",
              "      <th>yuma</th>\n",
              "      <th>yup</th>\n",
              "      <th>yvonne</th>\n",
              "      <th>yvr</th>\n",
              "      <th>yyz</th>\n",
              "      <th>yyz terminal</th>\n",
              "      <th>zero</th>\n",
              "      <th>zero communication</th>\n",
              "      <th>zero entertainment</th>\n",
              "      <th>zero response</th>\n",
              "      <th>zone</th>\n",
              "      <th>zone nine</th>\n",
              "      <th>zoom</th>\n",
              "      <th>zurich</th>\n",
              "    </tr>\n",
              "  </thead>\n",
              "  <tbody>\n",
              "    <tr>\n",
              "      <th>0</th>\n",
              "      <td>0</td>\n",
              "      <td>0</td>\n",
              "      <td>0</td>\n",
              "      <td>0</td>\n",
              "      <td>0</td>\n",
              "      <td>0</td>\n",
              "      <td>0</td>\n",
              "      <td>0</td>\n",
              "      <td>0</td>\n",
              "      <td>0</td>\n",
              "      <td>0</td>\n",
              "      <td>0</td>\n",
              "      <td>0</td>\n",
              "      <td>0</td>\n",
              "      <td>0</td>\n",
              "      <td>0</td>\n",
              "      <td>0</td>\n",
              "      <td>0</td>\n",
              "      <td>0</td>\n",
              "      <td>0</td>\n",
              "      <td>0</td>\n",
              "      <td>0</td>\n",
              "      <td>0</td>\n",
              "      <td>0</td>\n",
              "      <td>0</td>\n",
              "      <td>...</td>\n",
              "      <td>0</td>\n",
              "      <td>0</td>\n",
              "      <td>0</td>\n",
              "      <td>0</td>\n",
              "      <td>0</td>\n",
              "      <td>0</td>\n",
              "      <td>0</td>\n",
              "      <td>0</td>\n",
              "      <td>0</td>\n",
              "      <td>0</td>\n",
              "      <td>0</td>\n",
              "      <td>0</td>\n",
              "      <td>0</td>\n",
              "      <td>0</td>\n",
              "      <td>0</td>\n",
              "      <td>0</td>\n",
              "      <td>0</td>\n",
              "      <td>0</td>\n",
              "      <td>0</td>\n",
              "      <td>0</td>\n",
              "      <td>0</td>\n",
              "      <td>0</td>\n",
              "      <td>0</td>\n",
              "      <td>0</td>\n",
              "      <td>0</td>\n",
              "    </tr>\n",
              "    <tr>\n",
              "      <th>1</th>\n",
              "      <td>0</td>\n",
              "      <td>0</td>\n",
              "      <td>0</td>\n",
              "      <td>0</td>\n",
              "      <td>0</td>\n",
              "      <td>0</td>\n",
              "      <td>0</td>\n",
              "      <td>0</td>\n",
              "      <td>0</td>\n",
              "      <td>0</td>\n",
              "      <td>0</td>\n",
              "      <td>0</td>\n",
              "      <td>0</td>\n",
              "      <td>0</td>\n",
              "      <td>0</td>\n",
              "      <td>0</td>\n",
              "      <td>0</td>\n",
              "      <td>0</td>\n",
              "      <td>0</td>\n",
              "      <td>0</td>\n",
              "      <td>0</td>\n",
              "      <td>0</td>\n",
              "      <td>0</td>\n",
              "      <td>0</td>\n",
              "      <td>0</td>\n",
              "      <td>...</td>\n",
              "      <td>0</td>\n",
              "      <td>0</td>\n",
              "      <td>0</td>\n",
              "      <td>0</td>\n",
              "      <td>0</td>\n",
              "      <td>0</td>\n",
              "      <td>0</td>\n",
              "      <td>0</td>\n",
              "      <td>0</td>\n",
              "      <td>0</td>\n",
              "      <td>0</td>\n",
              "      <td>0</td>\n",
              "      <td>0</td>\n",
              "      <td>0</td>\n",
              "      <td>0</td>\n",
              "      <td>0</td>\n",
              "      <td>0</td>\n",
              "      <td>0</td>\n",
              "      <td>0</td>\n",
              "      <td>0</td>\n",
              "      <td>0</td>\n",
              "      <td>0</td>\n",
              "      <td>0</td>\n",
              "      <td>0</td>\n",
              "      <td>0</td>\n",
              "    </tr>\n",
              "    <tr>\n",
              "      <th>2</th>\n",
              "      <td>0</td>\n",
              "      <td>0</td>\n",
              "      <td>0</td>\n",
              "      <td>0</td>\n",
              "      <td>0</td>\n",
              "      <td>0</td>\n",
              "      <td>0</td>\n",
              "      <td>0</td>\n",
              "      <td>0</td>\n",
              "      <td>0</td>\n",
              "      <td>0</td>\n",
              "      <td>0</td>\n",
              "      <td>0</td>\n",
              "      <td>0</td>\n",
              "      <td>0</td>\n",
              "      <td>0</td>\n",
              "      <td>0</td>\n",
              "      <td>0</td>\n",
              "      <td>0</td>\n",
              "      <td>0</td>\n",
              "      <td>0</td>\n",
              "      <td>0</td>\n",
              "      <td>0</td>\n",
              "      <td>0</td>\n",
              "      <td>0</td>\n",
              "      <td>...</td>\n",
              "      <td>0</td>\n",
              "      <td>0</td>\n",
              "      <td>0</td>\n",
              "      <td>0</td>\n",
              "      <td>0</td>\n",
              "      <td>0</td>\n",
              "      <td>0</td>\n",
              "      <td>0</td>\n",
              "      <td>0</td>\n",
              "      <td>0</td>\n",
              "      <td>0</td>\n",
              "      <td>0</td>\n",
              "      <td>0</td>\n",
              "      <td>0</td>\n",
              "      <td>0</td>\n",
              "      <td>0</td>\n",
              "      <td>0</td>\n",
              "      <td>0</td>\n",
              "      <td>0</td>\n",
              "      <td>0</td>\n",
              "      <td>0</td>\n",
              "      <td>1</td>\n",
              "      <td>0</td>\n",
              "      <td>0</td>\n",
              "      <td>0</td>\n",
              "    </tr>\n",
              "    <tr>\n",
              "      <th>3</th>\n",
              "      <td>0</td>\n",
              "      <td>0</td>\n",
              "      <td>0</td>\n",
              "      <td>0</td>\n",
              "      <td>0</td>\n",
              "      <td>0</td>\n",
              "      <td>0</td>\n",
              "      <td>0</td>\n",
              "      <td>0</td>\n",
              "      <td>0</td>\n",
              "      <td>0</td>\n",
              "      <td>0</td>\n",
              "      <td>0</td>\n",
              "      <td>0</td>\n",
              "      <td>0</td>\n",
              "      <td>0</td>\n",
              "      <td>0</td>\n",
              "      <td>0</td>\n",
              "      <td>0</td>\n",
              "      <td>0</td>\n",
              "      <td>0</td>\n",
              "      <td>0</td>\n",
              "      <td>0</td>\n",
              "      <td>0</td>\n",
              "      <td>0</td>\n",
              "      <td>...</td>\n",
              "      <td>0</td>\n",
              "      <td>0</td>\n",
              "      <td>0</td>\n",
              "      <td>0</td>\n",
              "      <td>0</td>\n",
              "      <td>0</td>\n",
              "      <td>0</td>\n",
              "      <td>0</td>\n",
              "      <td>0</td>\n",
              "      <td>0</td>\n",
              "      <td>0</td>\n",
              "      <td>0</td>\n",
              "      <td>0</td>\n",
              "      <td>0</td>\n",
              "      <td>0</td>\n",
              "      <td>0</td>\n",
              "      <td>0</td>\n",
              "      <td>0</td>\n",
              "      <td>0</td>\n",
              "      <td>0</td>\n",
              "      <td>0</td>\n",
              "      <td>0</td>\n",
              "      <td>0</td>\n",
              "      <td>0</td>\n",
              "      <td>0</td>\n",
              "    </tr>\n",
              "    <tr>\n",
              "      <th>4</th>\n",
              "      <td>0</td>\n",
              "      <td>0</td>\n",
              "      <td>0</td>\n",
              "      <td>0</td>\n",
              "      <td>0</td>\n",
              "      <td>0</td>\n",
              "      <td>0</td>\n",
              "      <td>0</td>\n",
              "      <td>0</td>\n",
              "      <td>0</td>\n",
              "      <td>0</td>\n",
              "      <td>0</td>\n",
              "      <td>0</td>\n",
              "      <td>0</td>\n",
              "      <td>0</td>\n",
              "      <td>0</td>\n",
              "      <td>0</td>\n",
              "      <td>0</td>\n",
              "      <td>0</td>\n",
              "      <td>0</td>\n",
              "      <td>0</td>\n",
              "      <td>0</td>\n",
              "      <td>0</td>\n",
              "      <td>0</td>\n",
              "      <td>0</td>\n",
              "      <td>...</td>\n",
              "      <td>0</td>\n",
              "      <td>0</td>\n",
              "      <td>0</td>\n",
              "      <td>0</td>\n",
              "      <td>0</td>\n",
              "      <td>0</td>\n",
              "      <td>0</td>\n",
              "      <td>0</td>\n",
              "      <td>0</td>\n",
              "      <td>0</td>\n",
              "      <td>0</td>\n",
              "      <td>0</td>\n",
              "      <td>0</td>\n",
              "      <td>0</td>\n",
              "      <td>0</td>\n",
              "      <td>0</td>\n",
              "      <td>0</td>\n",
              "      <td>0</td>\n",
              "      <td>0</td>\n",
              "      <td>0</td>\n",
              "      <td>0</td>\n",
              "      <td>0</td>\n",
              "      <td>0</td>\n",
              "      <td>0</td>\n",
              "      <td>0</td>\n",
              "    </tr>\n",
              "    <tr>\n",
              "      <th>...</th>\n",
              "      <td>...</td>\n",
              "      <td>...</td>\n",
              "      <td>...</td>\n",
              "      <td>...</td>\n",
              "      <td>...</td>\n",
              "      <td>...</td>\n",
              "      <td>...</td>\n",
              "      <td>...</td>\n",
              "      <td>...</td>\n",
              "      <td>...</td>\n",
              "      <td>...</td>\n",
              "      <td>...</td>\n",
              "      <td>...</td>\n",
              "      <td>...</td>\n",
              "      <td>...</td>\n",
              "      <td>...</td>\n",
              "      <td>...</td>\n",
              "      <td>...</td>\n",
              "      <td>...</td>\n",
              "      <td>...</td>\n",
              "      <td>...</td>\n",
              "      <td>...</td>\n",
              "      <td>...</td>\n",
              "      <td>...</td>\n",
              "      <td>...</td>\n",
              "      <td>...</td>\n",
              "      <td>...</td>\n",
              "      <td>...</td>\n",
              "      <td>...</td>\n",
              "      <td>...</td>\n",
              "      <td>...</td>\n",
              "      <td>...</td>\n",
              "      <td>...</td>\n",
              "      <td>...</td>\n",
              "      <td>...</td>\n",
              "      <td>...</td>\n",
              "      <td>...</td>\n",
              "      <td>...</td>\n",
              "      <td>...</td>\n",
              "      <td>...</td>\n",
              "      <td>...</td>\n",
              "      <td>...</td>\n",
              "      <td>...</td>\n",
              "      <td>...</td>\n",
              "      <td>...</td>\n",
              "      <td>...</td>\n",
              "      <td>...</td>\n",
              "      <td>...</td>\n",
              "      <td>...</td>\n",
              "      <td>...</td>\n",
              "      <td>...</td>\n",
              "    </tr>\n",
              "    <tr>\n",
              "      <th>11707</th>\n",
              "      <td>0</td>\n",
              "      <td>0</td>\n",
              "      <td>0</td>\n",
              "      <td>0</td>\n",
              "      <td>0</td>\n",
              "      <td>0</td>\n",
              "      <td>0</td>\n",
              "      <td>0</td>\n",
              "      <td>0</td>\n",
              "      <td>0</td>\n",
              "      <td>0</td>\n",
              "      <td>0</td>\n",
              "      <td>0</td>\n",
              "      <td>0</td>\n",
              "      <td>0</td>\n",
              "      <td>0</td>\n",
              "      <td>0</td>\n",
              "      <td>0</td>\n",
              "      <td>0</td>\n",
              "      <td>0</td>\n",
              "      <td>0</td>\n",
              "      <td>0</td>\n",
              "      <td>0</td>\n",
              "      <td>0</td>\n",
              "      <td>0</td>\n",
              "      <td>...</td>\n",
              "      <td>0</td>\n",
              "      <td>0</td>\n",
              "      <td>0</td>\n",
              "      <td>0</td>\n",
              "      <td>0</td>\n",
              "      <td>0</td>\n",
              "      <td>0</td>\n",
              "      <td>0</td>\n",
              "      <td>0</td>\n",
              "      <td>0</td>\n",
              "      <td>0</td>\n",
              "      <td>0</td>\n",
              "      <td>0</td>\n",
              "      <td>0</td>\n",
              "      <td>0</td>\n",
              "      <td>0</td>\n",
              "      <td>0</td>\n",
              "      <td>0</td>\n",
              "      <td>0</td>\n",
              "      <td>0</td>\n",
              "      <td>0</td>\n",
              "      <td>0</td>\n",
              "      <td>0</td>\n",
              "      <td>0</td>\n",
              "      <td>0</td>\n",
              "    </tr>\n",
              "    <tr>\n",
              "      <th>11708</th>\n",
              "      <td>0</td>\n",
              "      <td>0</td>\n",
              "      <td>0</td>\n",
              "      <td>0</td>\n",
              "      <td>0</td>\n",
              "      <td>0</td>\n",
              "      <td>0</td>\n",
              "      <td>0</td>\n",
              "      <td>0</td>\n",
              "      <td>0</td>\n",
              "      <td>0</td>\n",
              "      <td>0</td>\n",
              "      <td>0</td>\n",
              "      <td>0</td>\n",
              "      <td>0</td>\n",
              "      <td>0</td>\n",
              "      <td>0</td>\n",
              "      <td>0</td>\n",
              "      <td>0</td>\n",
              "      <td>0</td>\n",
              "      <td>0</td>\n",
              "      <td>0</td>\n",
              "      <td>0</td>\n",
              "      <td>0</td>\n",
              "      <td>0</td>\n",
              "      <td>...</td>\n",
              "      <td>0</td>\n",
              "      <td>0</td>\n",
              "      <td>0</td>\n",
              "      <td>0</td>\n",
              "      <td>0</td>\n",
              "      <td>0</td>\n",
              "      <td>0</td>\n",
              "      <td>0</td>\n",
              "      <td>0</td>\n",
              "      <td>0</td>\n",
              "      <td>0</td>\n",
              "      <td>0</td>\n",
              "      <td>0</td>\n",
              "      <td>0</td>\n",
              "      <td>0</td>\n",
              "      <td>0</td>\n",
              "      <td>0</td>\n",
              "      <td>0</td>\n",
              "      <td>0</td>\n",
              "      <td>0</td>\n",
              "      <td>0</td>\n",
              "      <td>0</td>\n",
              "      <td>0</td>\n",
              "      <td>0</td>\n",
              "      <td>0</td>\n",
              "    </tr>\n",
              "    <tr>\n",
              "      <th>11709</th>\n",
              "      <td>0</td>\n",
              "      <td>0</td>\n",
              "      <td>0</td>\n",
              "      <td>0</td>\n",
              "      <td>0</td>\n",
              "      <td>0</td>\n",
              "      <td>0</td>\n",
              "      <td>0</td>\n",
              "      <td>0</td>\n",
              "      <td>0</td>\n",
              "      <td>0</td>\n",
              "      <td>0</td>\n",
              "      <td>0</td>\n",
              "      <td>0</td>\n",
              "      <td>0</td>\n",
              "      <td>0</td>\n",
              "      <td>0</td>\n",
              "      <td>0</td>\n",
              "      <td>0</td>\n",
              "      <td>0</td>\n",
              "      <td>0</td>\n",
              "      <td>0</td>\n",
              "      <td>0</td>\n",
              "      <td>0</td>\n",
              "      <td>0</td>\n",
              "      <td>...</td>\n",
              "      <td>0</td>\n",
              "      <td>0</td>\n",
              "      <td>0</td>\n",
              "      <td>0</td>\n",
              "      <td>0</td>\n",
              "      <td>0</td>\n",
              "      <td>0</td>\n",
              "      <td>0</td>\n",
              "      <td>0</td>\n",
              "      <td>0</td>\n",
              "      <td>0</td>\n",
              "      <td>0</td>\n",
              "      <td>0</td>\n",
              "      <td>0</td>\n",
              "      <td>0</td>\n",
              "      <td>0</td>\n",
              "      <td>0</td>\n",
              "      <td>0</td>\n",
              "      <td>0</td>\n",
              "      <td>0</td>\n",
              "      <td>0</td>\n",
              "      <td>0</td>\n",
              "      <td>0</td>\n",
              "      <td>0</td>\n",
              "      <td>0</td>\n",
              "    </tr>\n",
              "    <tr>\n",
              "      <th>11710</th>\n",
              "      <td>0</td>\n",
              "      <td>0</td>\n",
              "      <td>0</td>\n",
              "      <td>0</td>\n",
              "      <td>0</td>\n",
              "      <td>0</td>\n",
              "      <td>0</td>\n",
              "      <td>0</td>\n",
              "      <td>0</td>\n",
              "      <td>0</td>\n",
              "      <td>0</td>\n",
              "      <td>0</td>\n",
              "      <td>0</td>\n",
              "      <td>0</td>\n",
              "      <td>0</td>\n",
              "      <td>0</td>\n",
              "      <td>0</td>\n",
              "      <td>0</td>\n",
              "      <td>0</td>\n",
              "      <td>0</td>\n",
              "      <td>0</td>\n",
              "      <td>0</td>\n",
              "      <td>0</td>\n",
              "      <td>0</td>\n",
              "      <td>0</td>\n",
              "      <td>...</td>\n",
              "      <td>0</td>\n",
              "      <td>0</td>\n",
              "      <td>0</td>\n",
              "      <td>0</td>\n",
              "      <td>0</td>\n",
              "      <td>0</td>\n",
              "      <td>0</td>\n",
              "      <td>0</td>\n",
              "      <td>0</td>\n",
              "      <td>0</td>\n",
              "      <td>0</td>\n",
              "      <td>0</td>\n",
              "      <td>0</td>\n",
              "      <td>0</td>\n",
              "      <td>0</td>\n",
              "      <td>0</td>\n",
              "      <td>0</td>\n",
              "      <td>0</td>\n",
              "      <td>0</td>\n",
              "      <td>0</td>\n",
              "      <td>0</td>\n",
              "      <td>0</td>\n",
              "      <td>0</td>\n",
              "      <td>0</td>\n",
              "      <td>0</td>\n",
              "    </tr>\n",
              "    <tr>\n",
              "      <th>11711</th>\n",
              "      <td>0</td>\n",
              "      <td>0</td>\n",
              "      <td>0</td>\n",
              "      <td>0</td>\n",
              "      <td>0</td>\n",
              "      <td>0</td>\n",
              "      <td>0</td>\n",
              "      <td>0</td>\n",
              "      <td>0</td>\n",
              "      <td>0</td>\n",
              "      <td>0</td>\n",
              "      <td>0</td>\n",
              "      <td>0</td>\n",
              "      <td>0</td>\n",
              "      <td>0</td>\n",
              "      <td>0</td>\n",
              "      <td>0</td>\n",
              "      <td>0</td>\n",
              "      <td>0</td>\n",
              "      <td>0</td>\n",
              "      <td>0</td>\n",
              "      <td>0</td>\n",
              "      <td>0</td>\n",
              "      <td>0</td>\n",
              "      <td>0</td>\n",
              "      <td>...</td>\n",
              "      <td>0</td>\n",
              "      <td>0</td>\n",
              "      <td>0</td>\n",
              "      <td>0</td>\n",
              "      <td>0</td>\n",
              "      <td>0</td>\n",
              "      <td>0</td>\n",
              "      <td>0</td>\n",
              "      <td>0</td>\n",
              "      <td>0</td>\n",
              "      <td>0</td>\n",
              "      <td>0</td>\n",
              "      <td>0</td>\n",
              "      <td>0</td>\n",
              "      <td>0</td>\n",
              "      <td>0</td>\n",
              "      <td>0</td>\n",
              "      <td>0</td>\n",
              "      <td>0</td>\n",
              "      <td>0</td>\n",
              "      <td>0</td>\n",
              "      <td>0</td>\n",
              "      <td>0</td>\n",
              "      <td>0</td>\n",
              "      <td>0</td>\n",
              "    </tr>\n",
              "  </tbody>\n",
              "</table>\n",
              "<p>11712 rows × 12375 columns</p>\n",
              "</div>"
            ],
            "text/plain": [
              "       aa  aa agent  aa also  aa amp  aa customer  aa dallas  aa doesnt  \\\n",
              "0       0         0        0       0            0          0          0   \n",
              "1       0         0        0       0            0          0          0   \n",
              "2       0         0        0       0            0          0          0   \n",
              "3       0         0        0       0            0          0          0   \n",
              "4       0         0        0       0            0          0          0   \n",
              "...    ..       ...      ...     ...          ...        ...        ...   \n",
              "11707   0         0        0       0            0          0          0   \n",
              "11708   0         0        0       0            0          0          0   \n",
              "11709   0         0        0       0            0          0          0   \n",
              "11710   0         0        0       0            0          0          0   \n",
              "11711   0         0        0       0            0          0          0   \n",
              "\n",
              "       aa email  aa employee  aa family  aa flight  aa gate  aa gold  aa help  \\\n",
              "0             0            0          0          0        0        0        0   \n",
              "1             0            0          0          0        0        0        0   \n",
              "2             0            0          0          0        0        0        0   \n",
              "3             0            0          0          0        0        0        0   \n",
              "4             0            0          0          0        0        0        0   \n",
              "...         ...          ...        ...        ...      ...      ...      ...   \n",
              "11707         0            0          0          0        0        0        0   \n",
              "11708         0            0          0          0        0        0        0   \n",
              "11709         0            0          0          0        0        0        0   \n",
              "11710         0            0          0          0        0        0        0   \n",
              "11711         0            0          0          0        0        0        0   \n",
              "\n",
              "       aa know  aa monday  aa number  aa platinum  aa possible  aa usair  \\\n",
              "0            0          0          0            0            0         0   \n",
              "1            0          0          0            0            0         0   \n",
              "2            0          0          0            0            0         0   \n",
              "3            0          0          0            0            0         0   \n",
              "4            0          0          0            0            0         0   \n",
              "...        ...        ...        ...          ...          ...       ...   \n",
              "11707        0          0          0            0            0         0   \n",
              "11708        0          0          0            0            0         0   \n",
              "11709        0          0          0            0            0         0   \n",
              "11710        0          0          0            0            0         0   \n",
              "11711        0          0          0            0            0         0   \n",
              "\n",
              "       aa would  aadv  aadv svc  aadvantage  aadvantage number  ...  youve  \\\n",
              "0             0     0         0           0                  0  ...      0   \n",
              "1             0     0         0           0                  0  ...      0   \n",
              "2             0     0         0           0                  0  ...      0   \n",
              "3             0     0         0           0                  0  ...      0   \n",
              "4             0     0         0           0                  0  ...      0   \n",
              "...         ...   ...       ...         ...                ...  ...    ...   \n",
              "11707         0     0         0           0                  0  ...      0   \n",
              "11708         0     0         0           0                  0  ...      0   \n",
              "11709         0     0         0           0                  0  ...      0   \n",
              "11710         0     0         0           0                  0  ...      0   \n",
              "11711         0     0         0           0                  0  ...      0   \n",
              "\n",
              "       youve always  youve cancelled  youve got  youve known  youve lost  \\\n",
              "0                 0                0          0            0           0   \n",
              "1                 0                0          0            0           0   \n",
              "2                 0                0          0            0           0   \n",
              "3                 0                0          0            0           0   \n",
              "4                 0                0          0            0           0   \n",
              "...             ...              ...        ...          ...         ...   \n",
              "11707             0                0          0            0           0   \n",
              "11708             0                0          0            0           0   \n",
              "11709             0                0          0            0           0   \n",
              "11710             0                0          0            0           0   \n",
              "11711             0                0          0            0           0   \n",
              "\n",
              "       youve misunderstood  yr  yr flying  yr old  yr team  yuma  yup  yvonne  \\\n",
              "0                        0   0          0       0        0     0    0       0   \n",
              "1                        0   0          0       0        0     0    0       0   \n",
              "2                        0   0          0       0        0     0    0       0   \n",
              "3                        0   0          0       0        0     0    0       0   \n",
              "4                        0   0          0       0        0     0    0       0   \n",
              "...                    ...  ..        ...     ...      ...   ...  ...     ...   \n",
              "11707                    0   0          0       0        0     0    0       0   \n",
              "11708                    0   0          0       0        0     0    0       0   \n",
              "11709                    0   0          0       0        0     0    0       0   \n",
              "11710                    0   0          0       0        0     0    0       0   \n",
              "11711                    0   0          0       0        0     0    0       0   \n",
              "\n",
              "       yvr  yyz  yyz terminal  zero  zero communication  zero entertainment  \\\n",
              "0        0    0             0     0                   0                   0   \n",
              "1        0    0             0     0                   0                   0   \n",
              "2        0    0             0     0                   0                   0   \n",
              "3        0    0             0     0                   0                   0   \n",
              "4        0    0             0     0                   0                   0   \n",
              "...    ...  ...           ...   ...                 ...                 ...   \n",
              "11707    0    0             0     0                   0                   0   \n",
              "11708    0    0             0     0                   0                   0   \n",
              "11709    0    0             0     0                   0                   0   \n",
              "11710    0    0             0     0                   0                   0   \n",
              "11711    0    0             0     0                   0                   0   \n",
              "\n",
              "       zero response  zone  zone nine  zoom  zurich  \n",
              "0                  0     0          0     0       0  \n",
              "1                  0     0          0     0       0  \n",
              "2                  0     1          0     0       0  \n",
              "3                  0     0          0     0       0  \n",
              "4                  0     0          0     0       0  \n",
              "...              ...   ...        ...   ...     ...  \n",
              "11707              0     0          0     0       0  \n",
              "11708              0     0          0     0       0  \n",
              "11709              0     0          0     0       0  \n",
              "11710              0     0          0     0       0  \n",
              "11711              0     0          0     0       0  \n",
              "\n",
              "[11712 rows x 12375 columns]"
            ]
          },
          "metadata": {},
          "execution_count": 30
        }
      ]
    },
    {
      "cell_type": "markdown",
      "metadata": {
        "id": "XZAPPuUHTW_Y"
      },
      "source": [
        "## Model Comparisons - Vectorization"
      ]
    },
    {
      "cell_type": "code",
      "metadata": {
        "id": "YNaItFVdTW_Y"
      },
      "source": [
        "from sklearn.metrics import plot_confusion_matrix, classification_report"
      ],
      "execution_count": null,
      "outputs": []
    },
    {
      "cell_type": "code",
      "metadata": {
        "id": "UURlXv1QTW_Z"
      },
      "source": [
        "def eval(model, X_test):\n",
        "    preds = model.predict(X_test)\n",
        "    print(classification_report(y_test,preds))\n",
        "    sns.set_context('talk')\n",
        "    fig, ax = plt.subplots(figsize=(7, 7))\n",
        "    plot_confusion_matrix(model, X_test, y_test, ax = ax, values_format = '.0f')"
      ],
      "execution_count": null,
      "outputs": []
    },
    {
      "cell_type": "markdown",
      "metadata": {
        "id": "JMkLqBTGTW_Z"
      },
      "source": [
        "## Naive Bayes"
      ]
    },
    {
      "cell_type": "code",
      "metadata": {
        "id": "dTdJNfznTW_Z"
      },
      "source": [
        "from sklearn.naive_bayes import MultinomialNB # BernoulliNB for binary model"
      ],
      "execution_count": null,
      "outputs": []
    },
    {
      "cell_type": "code",
      "metadata": {
        "colab": {
          "base_uri": "https://localhost:8080/"
        },
        "id": "l0-5_dhnTW_Z",
        "outputId": "8a7948cd-8cab-4e4f-be0a-00b1abd3846a"
      },
      "source": [
        "nb = MultinomialNB()\n",
        "nb.fit(X_train_count,y_train)"
      ],
      "execution_count": null,
      "outputs": [
        {
          "output_type": "execute_result",
          "data": {
            "text/plain": [
              "MultinomialNB()"
            ]
          },
          "metadata": {},
          "execution_count": 34
        }
      ]
    },
    {
      "cell_type": "code",
      "metadata": {
        "colab": {
          "base_uri": "https://localhost:8080/",
          "height": 669
        },
        "id": "luQk_g1gTW_Z",
        "outputId": "345d9a85-c4f9-4571-b416-45d03d129dc0"
      },
      "source": [
        "print(\"NB MODEL\")\n",
        "eval(nb, X_test_count)"
      ],
      "execution_count": null,
      "outputs": [
        {
          "output_type": "stream",
          "name": "stdout",
          "text": [
            "NB MODEL\n",
            "              precision    recall  f1-score   support\n",
            "\n",
            "    negative       0.78      0.93      0.85      1835\n",
            "     neutral       0.67      0.40      0.50       620\n",
            "    positive       0.77      0.58      0.66       473\n",
            "\n",
            "    accuracy                           0.76      2928\n",
            "   macro avg       0.74      0.64      0.67      2928\n",
            "weighted avg       0.75      0.76      0.74      2928\n",
            "\n"
          ]
        },
        {
          "output_type": "stream",
          "name": "stderr",
          "text": [
            "/usr/local/lib/python3.7/dist-packages/sklearn/utils/deprecation.py:87: FutureWarning: Function plot_confusion_matrix is deprecated; Function `plot_confusion_matrix` is deprecated in 1.0 and will be removed in 1.2. Use one of the class methods: ConfusionMatrixDisplay.from_predictions or ConfusionMatrixDisplay.from_estimator.\n",
            "  warnings.warn(msg, category=FutureWarning)\n"
          ]
        },
        {
          "output_type": "display_data",
          "data": {
            "image/png": "[encoded data removed]",
            "text/plain": [
              "<Figure size 504x504 with 2 Axes>"
            ]
          },
          "metadata": {
            "needs_background": "light"
          }
        }
      ]
    },
    {
      "cell_type": "markdown",
      "metadata": {
        "id": "8K54YwLHTW_Z"
      },
      "source": [
        "## Logistic Regression"
      ]
    },
    {
      "cell_type": "code",
      "metadata": {
        "colab": {
          "base_uri": "https://localhost:8080/"
        },
        "id": "lfu8D2wKTW_a",
        "outputId": "aeaa70f4-0365-4a7e-90f4-4eead202d57c"
      },
      "source": [
        "from sklearn.linear_model import LogisticRegression\n",
        "log = LogisticRegression(max_iter=1000)\n",
        "log.fit(X_train_count,y_train)"
      ],
      "execution_count": null,
      "outputs": [
        {
          "output_type": "execute_result",
          "data": {
            "text/plain": [
              "LogisticRegression(max_iter=1000)"
            ]
          },
          "metadata": {},
          "execution_count": 36
        }
      ]
    },
    {
      "cell_type": "code",
      "metadata": {
        "colab": {
          "base_uri": "https://localhost:8080/",
          "height": 669
        },
        "id": "dtc83P4ITW_a",
        "outputId": "f7b97283-0eb6-4e08-d23b-33134dc867a5"
      },
      "source": [
        "print(\"LOG MODEL\")\n",
        "eval(log, X_test_count)"
      ],
      "execution_count": null,
      "outputs": [
        {
          "output_type": "stream",
          "name": "stdout",
          "text": [
            "LOG MODEL\n",
            "              precision    recall  f1-score   support\n",
            "\n",
            "    negative       0.84      0.89      0.87      1835\n",
            "     neutral       0.63      0.58      0.61       620\n",
            "    positive       0.73      0.64      0.68       473\n",
            "\n",
            "    accuracy                           0.78      2928\n",
            "   macro avg       0.73      0.71      0.72      2928\n",
            "weighted avg       0.78      0.78      0.78      2928\n",
            "\n"
          ]
        },
        {
          "output_type": "stream",
          "name": "stderr",
          "text": [
            "/usr/local/lib/python3.7/dist-packages/sklearn/utils/deprecation.py:87: FutureWarning: Function plot_confusion_matrix is deprecated; Function `plot_confusion_matrix` is deprecated in 1.0 and will be removed in 1.2. Use one of the class methods: ConfusionMatrixDisplay.from_predictions or ConfusionMatrixDisplay.from_estimator.\n",
            "  warnings.warn(msg, category=FutureWarning)\n"
          ]
        },
        {
          "output_type": "display_data",
          "data": {
            "image/png": "[encoded data removed]",
            "text/plain": [
              "<Figure size 504x504 with 2 Axes>"
            ]
          },
          "metadata": {
            "needs_background": "light"
          }
        }
      ]
    },
    {
      "cell_type": "code",
      "metadata": {
        "colab": {
          "base_uri": "https://localhost:8080/"
        },
        "id": "fOkEmpDCTW_a",
        "outputId": "9c85ab21-6037-43b0-9fbc-65d55bf04d3a"
      },
      "source": [
        "from sklearn.linear_model import LogisticRegression\n",
        "log = LogisticRegression(max_iter=1000, class_weight='balanced')\n",
        "log.fit(X_train_count,y_train)"
      ],
      "execution_count": null,
      "outputs": [
        {
          "output_type": "execute_result",
          "data": {
            "text/plain": [
              "LogisticRegression(class_weight='balanced', max_iter=1000)"
            ]
          },
          "metadata": {},
          "execution_count": 38
        }
      ]
    },
    {
      "cell_type": "code",
      "metadata": {
        "colab": {
          "base_uri": "https://localhost:8080/",
          "height": 669
        },
        "id": "D83abm-ZTW_a",
        "outputId": "8d0dfacb-5a61-44cb-d86d-311190705c1e"
      },
      "source": [
        "print(\"LOG MODEL BALANCED\")\n",
        "eval(log, X_test_count)"
      ],
      "execution_count": null,
      "outputs": [
        {
          "output_type": "stream",
          "name": "stdout",
          "text": [
            "LOG MODEL BALANCED\n",
            "              precision    recall  f1-score   support\n",
            "\n",
            "    negative       0.89      0.80      0.84      1835\n",
            "     neutral       0.55      0.67      0.61       620\n",
            "    positive       0.64      0.71      0.67       473\n",
            "\n",
            "    accuracy                           0.76      2928\n",
            "   macro avg       0.69      0.73      0.71      2928\n",
            "weighted avg       0.78      0.76      0.77      2928\n",
            "\n"
          ]
        },
        {
          "output_type": "stream",
          "name": "stderr",
          "text": [
            "/usr/local/lib/python3.7/dist-packages/sklearn/utils/deprecation.py:87: FutureWarning: Function plot_confusion_matrix is deprecated; Function `plot_confusion_matrix` is deprecated in 1.0 and will be removed in 1.2. Use one of the class methods: ConfusionMatrixDisplay.from_predictions or ConfusionMatrixDisplay.from_estimator.\n",
            "  warnings.warn(msg, category=FutureWarning)\n"
          ]
        },
        {
          "output_type": "display_data",
          "data": {
            "image/png": "[encoded data removed]",
            "text/plain": [
              "<Figure size 504x504 with 2 Axes>"
            ]
          },
          "metadata": {
            "needs_background": "light"
          }
        }
      ]
    },
    {
      "cell_type": "markdown",
      "metadata": {
        "id": "ftdFmyxBTW_a"
      },
      "source": [
        "## SVM"
      ]
    },
    {
      "cell_type": "code",
      "metadata": {
        "colab": {
          "base_uri": "https://localhost:8080/"
        },
        "id": "R733gxkvTW_a",
        "outputId": "88196e77-4c71-450f-ca8f-5e4bff2d9509"
      },
      "source": [
        "from sklearn.svm import LinearSVC\n",
        "svc = LinearSVC(C=0.2)\n",
        "svc.fit(X_train_count,y_train)"
      ],
      "execution_count": null,
      "outputs": [
        {
          "output_type": "execute_result",
          "data": {
            "text/plain": [
              "LinearSVC(C=0.2)"
            ]
          },
          "metadata": {},
          "execution_count": 40
        }
      ]
    },
    {
      "cell_type": "code",
      "metadata": {
        "colab": {
          "base_uri": "https://localhost:8080/",
          "height": 674
        },
        "id": "TJ--dm5iTW_b",
        "outputId": "364f5701-539a-4603-8a1b-7221e9f5eaeb"
      },
      "source": [
        "print(\"SVC MODEL\")\n",
        "eval(svc, X_test_count)"
      ],
      "execution_count": null,
      "outputs": [
        {
          "output_type": "stream",
          "name": "stdout",
          "text": [
            "SVC MODEL\n",
            "              precision    recall  f1-score   support\n",
            "\n",
            "    negative       0.85      0.88      0.86      1835\n",
            "     neutral       0.61      0.58      0.60       620\n",
            "    positive       0.71      0.66      0.68       473\n",
            "\n",
            "    accuracy                           0.78      2928\n",
            "   macro avg       0.72      0.71      0.71      2928\n",
            "weighted avg       0.78      0.78      0.78      2928\n",
            "\n"
          ]
        },
        {
          "output_type": "stream",
          "name": "stderr",
          "text": [
            "/usr/local/lib/python3.7/dist-packages/sklearn/utils/deprecation.py:87: FutureWarning: Function plot_confusion_matrix is deprecated; Function `plot_confusion_matrix` is deprecated in 1.0 and will be removed in 1.2. Use one of the class methods: ConfusionMatrixDisplay.from_predictions or ConfusionMatrixDisplay.from_estimator.\n",
            "  warnings.warn(msg, category=FutureWarning)\n"
          ]
        },
        {
          "output_type": "display_data",
          "data": {
            "image/png": "[encoded data removed]",
            "text/plain": [
              "<Figure size 504x504 with 2 Axes>"
            ]
          },
          "metadata": {
            "needs_background": "light"
          }
        }
      ]
    },
    {
      "cell_type": "markdown",
      "metadata": {
        "id": "W9XHC2sPTW_b"
      },
      "source": [
        "## KNN"
      ]
    },
    {
      "cell_type": "code",
      "metadata": {
        "colab": {
          "base_uri": "https://localhost:8080/"
        },
        "id": "NolGDXktTW_b",
        "outputId": "19d665e2-0184-4bf9-c297-d81a57e079ad"
      },
      "source": [
        "from sklearn.neighbors import KNeighborsClassifier\n",
        "knn = KNeighborsClassifier(n_neighbors=3)\n",
        "knn.fit(X_train_count,y_train)"
      ],
      "execution_count": null,
      "outputs": [
        {
          "output_type": "execute_result",
          "data": {
            "text/plain": [
              "KNeighborsClassifier(n_neighbors=3)"
            ]
          },
          "metadata": {},
          "execution_count": 42
        }
      ]
    },
    {
      "cell_type": "code",
      "metadata": {
        "colab": {
          "base_uri": "https://localhost:8080/",
          "height": 669
        },
        "id": "AXTGVq7FTW_b",
        "outputId": "036b34b3-cd7e-4381-bbbe-114e536d1347"
      },
      "source": [
        "print(\"KNN MODEL\")\n",
        "eval(knn, X_test_count)"
      ],
      "execution_count": null,
      "outputs": [
        {
          "output_type": "stream",
          "name": "stdout",
          "text": [
            "KNN MODEL\n",
            "              precision    recall  f1-score   support\n",
            "\n",
            "    negative       0.73      0.67      0.70      1835\n",
            "     neutral       0.30      0.41      0.34       620\n",
            "    positive       0.58      0.50      0.54       473\n",
            "\n",
            "    accuracy                           0.58      2928\n",
            "   macro avg       0.54      0.52      0.53      2928\n",
            "weighted avg       0.61      0.58      0.60      2928\n",
            "\n"
          ]
        },
        {
          "output_type": "stream",
          "name": "stderr",
          "text": [
            "/usr/local/lib/python3.7/dist-packages/sklearn/utils/deprecation.py:87: FutureWarning: Function plot_confusion_matrix is deprecated; Function `plot_confusion_matrix` is deprecated in 1.0 and will be removed in 1.2. Use one of the class methods: ConfusionMatrixDisplay.from_predictions or ConfusionMatrixDisplay.from_estimator.\n",
            "  warnings.warn(msg, category=FutureWarning)\n"
          ]
        },
        {
          "output_type": "display_data",
          "data": {
            "image/png": "[encoded data removed]",
            "text/plain": [
              "<Figure size 504x504 with 2 Axes>"
            ]
          },
          "metadata": {
            "needs_background": "light"
          }
        }
      ]
    },
    {
      "cell_type": "markdown",
      "metadata": {
        "id": "XdbAYu4RTW_b"
      },
      "source": [
        "## Random Forest"
      ]
    },
    {
      "cell_type": "code",
      "metadata": {
        "colab": {
          "base_uri": "https://localhost:8080/"
        },
        "id": "nd2Dg-2ITW_b",
        "outputId": "55cd43ff-8e0e-423e-caf5-ad6324ef22a5"
      },
      "source": [
        "from sklearn.ensemble import RandomForestClassifier\n",
        "rf = RandomForestClassifier(500, random_state = 4299, n_jobs = -1) # class_weight=\"balanced\"\n",
        "rf.fit(X_train_count, y_train)"
      ],
      "execution_count": null,
      "outputs": [
        {
          "output_type": "execute_result",
          "data": {
            "text/plain": [
              "RandomForestClassifier(n_estimators=500, n_jobs=-1, random_state=4299)"
            ]
          },
          "metadata": {},
          "execution_count": 44
        }
      ]
    },
    {
      "cell_type": "code",
      "metadata": {
        "colab": {
          "base_uri": "https://localhost:8080/",
          "height": 669
        },
        "id": "bRIijAvqTW_c",
        "outputId": "b0f152db-ce42-4955-cd53-2975bbb7b86c"
      },
      "source": [
        "print(\"RF MODEL\")\n",
        "eval(rf, X_test_count)"
      ],
      "execution_count": null,
      "outputs": [
        {
          "output_type": "stream",
          "name": "stdout",
          "text": [
            "RF MODEL\n",
            "              precision    recall  f1-score   support\n",
            "\n",
            "    negative       0.81      0.91      0.86      1835\n",
            "     neutral       0.63      0.51      0.57       620\n",
            "    positive       0.73      0.59      0.65       473\n",
            "\n",
            "    accuracy                           0.77      2928\n",
            "   macro avg       0.72      0.67      0.69      2928\n",
            "weighted avg       0.76      0.77      0.76      2928\n",
            "\n"
          ]
        },
        {
          "output_type": "stream",
          "name": "stderr",
          "text": [
            "/usr/local/lib/python3.7/dist-packages/sklearn/utils/deprecation.py:87: FutureWarning: Function plot_confusion_matrix is deprecated; Function `plot_confusion_matrix` is deprecated in 1.0 and will be removed in 1.2. Use one of the class methods: ConfusionMatrixDisplay.from_predictions or ConfusionMatrixDisplay.from_estimator.\n",
            "  warnings.warn(msg, category=FutureWarning)\n"
          ]
        },
        {
          "output_type": "display_data",
          "data": {
            "image/png": "[encoded data removed]",
            "text/plain": [
              "<Figure size 504x504 with 2 Axes>"
            ]
          },
          "metadata": {
            "needs_background": "light"
          }
        }
      ]
    },
    {
      "cell_type": "code",
      "metadata": {
        "colab": {
          "base_uri": "https://localhost:8080/"
        },
        "id": "wSxElyrCTW_c",
        "outputId": "f1dd63e8-c7ce-441d-9a31-d90fd2016a52"
      },
      "source": [
        "rf = RandomForestClassifier(500, random_state = 4299, n_jobs = -1, class_weight=\"balanced\")\n",
        "rf.fit(X_train_count, y_train)"
      ],
      "execution_count": null,
      "outputs": [
        {
          "output_type": "execute_result",
          "data": {
            "text/plain": [
              "RandomForestClassifier(class_weight='balanced', n_estimators=500, n_jobs=-1,\n",
              "                       random_state=4299)"
            ]
          },
          "metadata": {},
          "execution_count": 46
        }
      ]
    },
    {
      "cell_type": "code",
      "metadata": {
        "colab": {
          "base_uri": "https://localhost:8080/",
          "height": 669
        },
        "id": "nrr__mxYTW_c",
        "outputId": "71e4b887-7eb5-47dc-e45e-8fcc5d09d86d"
      },
      "source": [
        "print(\"RF MODEL BALANCED\")\n",
        "eval(rf, X_test_count)"
      ],
      "execution_count": null,
      "outputs": [
        {
          "output_type": "stream",
          "name": "stdout",
          "text": [
            "RF MODEL BALANCED\n",
            "              precision    recall  f1-score   support\n",
            "\n",
            "    negative       0.82      0.89      0.85      1835\n",
            "     neutral       0.60      0.54      0.57       620\n",
            "    positive       0.70      0.59      0.64       473\n",
            "\n",
            "    accuracy                           0.77      2928\n",
            "   macro avg       0.71      0.67      0.69      2928\n",
            "weighted avg       0.76      0.77      0.76      2928\n",
            "\n"
          ]
        },
        {
          "output_type": "stream",
          "name": "stderr",
          "text": [
            "/usr/local/lib/python3.7/dist-packages/sklearn/utils/deprecation.py:87: FutureWarning: Function plot_confusion_matrix is deprecated; Function `plot_confusion_matrix` is deprecated in 1.0 and will be removed in 1.2. Use one of the class methods: ConfusionMatrixDisplay.from_predictions or ConfusionMatrixDisplay.from_estimator.\n",
            "  warnings.warn(msg, category=FutureWarning)\n"
          ]
        },
        {
          "output_type": "display_data",
          "data": {
            "image/png": "[encoded data removed]",
            "text/plain": [
              "<Figure size 504x504 with 2 Axes>"
            ]
          },
          "metadata": {
            "needs_background": "light"
          }
        }
      ]
    },
    {
      "cell_type": "markdown",
      "metadata": {
        "id": "TWXpqhBDTW_c"
      },
      "source": [
        "## Ada Boost"
      ]
    },
    {
      "cell_type": "code",
      "metadata": {
        "colab": {
          "base_uri": "https://localhost:8080/"
        },
        "id": "zl87u3DtTW_c",
        "outputId": "8e76101d-3028-40df-eea8-2e1e5988bb70"
      },
      "source": [
        "from sklearn.ensemble import AdaBoostClassifier\n",
        "ada = AdaBoostClassifier(n_estimators= 500, random_state = 42)\n",
        "ada.fit(X_train_count, y_train)"
      ],
      "execution_count": null,
      "outputs": [
        {
          "output_type": "execute_result",
          "data": {
            "text/plain": [
              "AdaBoostClassifier(n_estimators=500, random_state=42)"
            ]
          },
          "metadata": {},
          "execution_count": 48
        }
      ]
    },
    {
      "cell_type": "code",
      "metadata": {
        "colab": {
          "base_uri": "https://localhost:8080/",
          "height": 669
        },
        "id": "HTvZZMGiTW_d",
        "outputId": "bfcd876c-b185-4c80-b47f-61bfbed7d497"
      },
      "source": [
        "print(\"Ada MODEL\")\n",
        "eval(ada, X_test_count)"
      ],
      "execution_count": null,
      "outputs": [
        {
          "output_type": "stream",
          "name": "stdout",
          "text": [
            "Ada MODEL\n",
            "              precision    recall  f1-score   support\n",
            "\n",
            "    negative       0.83      0.85      0.84      1835\n",
            "     neutral       0.56      0.59      0.57       620\n",
            "    positive       0.70      0.60      0.65       473\n",
            "\n",
            "    accuracy                           0.76      2928\n",
            "   macro avg       0.70      0.68      0.69      2928\n",
            "weighted avg       0.75      0.76      0.75      2928\n",
            "\n"
          ]
        },
        {
          "output_type": "stream",
          "name": "stderr",
          "text": [
            "/usr/local/lib/python3.7/dist-packages/sklearn/utils/deprecation.py:87: FutureWarning: Function plot_confusion_matrix is deprecated; Function `plot_confusion_matrix` is deprecated in 1.0 and will be removed in 1.2. Use one of the class methods: ConfusionMatrixDisplay.from_predictions or ConfusionMatrixDisplay.from_estimator.\n",
            "  warnings.warn(msg, category=FutureWarning)\n"
          ]
        },
        {
          "output_type": "display_data",
          "data": {
            "image/png": "[encoded data removed]",
            "text/plain": [
              "<Figure size 504x504 with 2 Axes>"
            ]
          },
          "metadata": {
            "needs_background": "light"
          }
        }
      ]
    },
    {
      "cell_type": "markdown",
      "metadata": {
        "id": "P9JR79JDTW_d"
      },
      "source": [
        "## TF-IDF"
      ]
    },
    {
      "cell_type": "code",
      "metadata": {
        "id": "fGV89UeJTW_d"
      },
      "source": [
        "from sklearn.feature_extraction.text import TfidfVectorizer"
      ],
      "execution_count": null,
      "outputs": []
    },
    {
      "cell_type": "code",
      "metadata": {
        "id": "omqYqlv7TW_d"
      },
      "source": [
        "tf_idf_vectorizer = TfidfVectorizer(min_df=3)\n",
        "X_train_tf_idf = tf_idf_vectorizer.fit_transform(X_train)\n",
        "X_test_tf_idf = tf_idf_vectorizer.transform(X_test)"
      ],
      "execution_count": null,
      "outputs": []
    },
    {
      "cell_type": "code",
      "metadata": {
        "colab": {
          "base_uri": "https://localhost:8080/"
        },
        "id": "0971SZMTTW_d",
        "outputId": "991ba518-f9c9-4e61-84dc-4267ff06e3ae"
      },
      "source": [
        "X_train_tf_idf.toarray()"
      ],
      "execution_count": null,
      "outputs": [
        {
          "output_type": "execute_result",
          "data": {
            "text/plain": [
              "array([[0.        , 0.        , 0.        , ..., 0.        , 0.        ,\n",
              "        0.        ],\n",
              "       [0.        , 0.        , 0.        , ..., 0.        , 0.        ,\n",
              "        0.        ],\n",
              "       [0.        , 0.        , 0.        , ..., 0.        , 0.        ,\n",
              "        0.32255727],\n",
              "       ...,\n",
              "       [0.        , 0.        , 0.        , ..., 0.        , 0.        ,\n",
              "        0.        ],\n",
              "       [0.        , 0.        , 0.        , ..., 0.        , 0.        ,\n",
              "        0.        ],\n",
              "       [0.        , 0.        , 0.        , ..., 0.        , 0.        ,\n",
              "        0.        ]])"
            ]
          },
          "metadata": {},
          "execution_count": 52
        }
      ]
    },
    {
      "cell_type": "code",
      "metadata": {
        "colab": {
          "base_uri": "https://localhost:8080/",
          "height": 470
        },
        "id": "1jixnurjTW_d",
        "outputId": "efcea8b0-a37d-45d0-a1a9-150dc042cd9d"
      },
      "source": [
        "pd.DataFrame(X_train_tf_idf.toarray(), columns = tf_idf_vectorizer.get_feature_names())"
      ],
      "execution_count": null,
      "outputs": [
        {
          "output_type": "stream",
          "name": "stderr",
          "text": [
            "/usr/local/lib/python3.7/dist-packages/sklearn/utils/deprecation.py:87: FutureWarning: Function get_feature_names is deprecated; get_feature_names is deprecated in 1.0 and will be removed in 1.2. Please use get_feature_names_out instead.\n",
            "  warnings.warn(msg, category=FutureWarning)\n"
          ]
        },
        {
          "output_type": "execute_result",
          "data": {
            "text/html": [
              "<div>\n",
              "<style scoped>\n",
              "    .dataframe tbody tr th:only-of-type {\n",
              "        vertical-align: middle;\n",
              "    }\n",
              "\n",
              "    .dataframe tbody tr th {\n",
              "        vertical-align: top;\n",
              "    }\n",
              "\n",
              "    .dataframe thead th {\n",
              "        text-align: right;\n",
              "    }\n",
              "</style>\n",
              "<table border=\"1\" class=\"dataframe\">\n",
              "  <thead>\n",
              "    <tr style=\"text-align: right;\">\n",
              "      <th></th>\n",
              "      <th>aa</th>\n",
              "      <th>aadvantage</th>\n",
              "      <th>abc</th>\n",
              "      <th>ability</th>\n",
              "      <th>able</th>\n",
              "      <th>aboard</th>\n",
              "      <th>abq</th>\n",
              "      <th>absolute</th>\n",
              "      <th>absolutely</th>\n",
              "      <th>absurd</th>\n",
              "      <th>abt</th>\n",
              "      <th>accept</th>\n",
              "      <th>acceptable</th>\n",
              "      <th>accepted</th>\n",
              "      <th>accepting</th>\n",
              "      <th>access</th>\n",
              "      <th>accommodate</th>\n",
              "      <th>accommodating</th>\n",
              "      <th>accommodation</th>\n",
              "      <th>according</th>\n",
              "      <th>account</th>\n",
              "      <th>accountability</th>\n",
              "      <th>acct</th>\n",
              "      <th>accurate</th>\n",
              "      <th>across</th>\n",
              "      <th>...</th>\n",
              "      <th>yall</th>\n",
              "      <th>yay</th>\n",
              "      <th>yea</th>\n",
              "      <th>yeah</th>\n",
              "      <th>year</th>\n",
              "      <th>yelled</th>\n",
              "      <th>yep</th>\n",
              "      <th>yes</th>\n",
              "      <th>yest</th>\n",
              "      <th>yesterday</th>\n",
              "      <th>yet</th>\n",
              "      <th>yo</th>\n",
              "      <th>york</th>\n",
              "      <th>youd</th>\n",
              "      <th>youll</th>\n",
              "      <th>young</th>\n",
              "      <th>youre</th>\n",
              "      <th>youth</th>\n",
              "      <th>youve</th>\n",
              "      <th>yr</th>\n",
              "      <th>yup</th>\n",
              "      <th>yvr</th>\n",
              "      <th>yyz</th>\n",
              "      <th>zero</th>\n",
              "      <th>zone</th>\n",
              "    </tr>\n",
              "  </thead>\n",
              "  <tbody>\n",
              "    <tr>\n",
              "      <th>0</th>\n",
              "      <td>0.00</td>\n",
              "      <td>0.00</td>\n",
              "      <td>0.00</td>\n",
              "      <td>0.00</td>\n",
              "      <td>0.00</td>\n",
              "      <td>0.00</td>\n",
              "      <td>0.00</td>\n",
              "      <td>0.00</td>\n",
              "      <td>0.00</td>\n",
              "      <td>0.00</td>\n",
              "      <td>0.00</td>\n",
              "      <td>0.00</td>\n",
              "      <td>0.00</td>\n",
              "      <td>0.00</td>\n",
              "      <td>0.00</td>\n",
              "      <td>0.00</td>\n",
              "      <td>0.00</td>\n",
              "      <td>0.00</td>\n",
              "      <td>0.00</td>\n",
              "      <td>0.00</td>\n",
              "      <td>0.00</td>\n",
              "      <td>0.00</td>\n",
              "      <td>0.00</td>\n",
              "      <td>0.00</td>\n",
              "      <td>0.00</td>\n",
              "      <td>...</td>\n",
              "      <td>0.00</td>\n",
              "      <td>0.00</td>\n",
              "      <td>0.00</td>\n",
              "      <td>0.00</td>\n",
              "      <td>0.00</td>\n",
              "      <td>0.00</td>\n",
              "      <td>0.00</td>\n",
              "      <td>0.00</td>\n",
              "      <td>0.00</td>\n",
              "      <td>0.00</td>\n",
              "      <td>0.00</td>\n",
              "      <td>0.00</td>\n",
              "      <td>0.00</td>\n",
              "      <td>0.00</td>\n",
              "      <td>0.00</td>\n",
              "      <td>0.00</td>\n",
              "      <td>0.00</td>\n",
              "      <td>0.00</td>\n",
              "      <td>0.00</td>\n",
              "      <td>0.00</td>\n",
              "      <td>0.00</td>\n",
              "      <td>0.00</td>\n",
              "      <td>0.00</td>\n",
              "      <td>0.00</td>\n",
              "      <td>0.00</td>\n",
              "    </tr>\n",
              "    <tr>\n",
              "      <th>1</th>\n",
              "      <td>0.00</td>\n",
              "      <td>0.00</td>\n",
              "      <td>0.00</td>\n",
              "      <td>0.00</td>\n",
              "      <td>0.00</td>\n",
              "      <td>0.00</td>\n",
              "      <td>0.00</td>\n",
              "      <td>0.00</td>\n",
              "      <td>0.00</td>\n",
              "      <td>0.00</td>\n",
              "      <td>0.00</td>\n",
              "      <td>0.00</td>\n",
              "      <td>0.00</td>\n",
              "      <td>0.00</td>\n",
              "      <td>0.00</td>\n",
              "      <td>0.00</td>\n",
              "      <td>0.00</td>\n",
              "      <td>0.00</td>\n",
              "      <td>0.00</td>\n",
              "      <td>0.00</td>\n",
              "      <td>0.00</td>\n",
              "      <td>0.00</td>\n",
              "      <td>0.00</td>\n",
              "      <td>0.00</td>\n",
              "      <td>0.00</td>\n",
              "      <td>...</td>\n",
              "      <td>0.00</td>\n",
              "      <td>0.00</td>\n",
              "      <td>0.00</td>\n",
              "      <td>0.00</td>\n",
              "      <td>0.00</td>\n",
              "      <td>0.00</td>\n",
              "      <td>0.00</td>\n",
              "      <td>0.00</td>\n",
              "      <td>0.00</td>\n",
              "      <td>0.00</td>\n",
              "      <td>0.00</td>\n",
              "      <td>0.00</td>\n",
              "      <td>0.00</td>\n",
              "      <td>0.00</td>\n",
              "      <td>0.00</td>\n",
              "      <td>0.00</td>\n",
              "      <td>0.00</td>\n",
              "      <td>0.00</td>\n",
              "      <td>0.00</td>\n",
              "      <td>0.00</td>\n",
              "      <td>0.00</td>\n",
              "      <td>0.00</td>\n",
              "      <td>0.00</td>\n",
              "      <td>0.00</td>\n",
              "      <td>0.00</td>\n",
              "    </tr>\n",
              "    <tr>\n",
              "      <th>2</th>\n",
              "      <td>0.00</td>\n",
              "      <td>0.00</td>\n",
              "      <td>0.00</td>\n",
              "      <td>0.00</td>\n",
              "      <td>0.00</td>\n",
              "      <td>0.00</td>\n",
              "      <td>0.00</td>\n",
              "      <td>0.00</td>\n",
              "      <td>0.00</td>\n",
              "      <td>0.00</td>\n",
              "      <td>0.00</td>\n",
              "      <td>0.00</td>\n",
              "      <td>0.00</td>\n",
              "      <td>0.00</td>\n",
              "      <td>0.00</td>\n",
              "      <td>0.00</td>\n",
              "      <td>0.00</td>\n",
              "      <td>0.00</td>\n",
              "      <td>0.00</td>\n",
              "      <td>0.00</td>\n",
              "      <td>0.00</td>\n",
              "      <td>0.00</td>\n",
              "      <td>0.00</td>\n",
              "      <td>0.00</td>\n",
              "      <td>0.00</td>\n",
              "      <td>...</td>\n",
              "      <td>0.00</td>\n",
              "      <td>0.00</td>\n",
              "      <td>0.00</td>\n",
              "      <td>0.00</td>\n",
              "      <td>0.00</td>\n",
              "      <td>0.00</td>\n",
              "      <td>0.00</td>\n",
              "      <td>0.00</td>\n",
              "      <td>0.00</td>\n",
              "      <td>0.00</td>\n",
              "      <td>0.00</td>\n",
              "      <td>0.00</td>\n",
              "      <td>0.00</td>\n",
              "      <td>0.00</td>\n",
              "      <td>0.00</td>\n",
              "      <td>0.00</td>\n",
              "      <td>0.00</td>\n",
              "      <td>0.00</td>\n",
              "      <td>0.00</td>\n",
              "      <td>0.00</td>\n",
              "      <td>0.00</td>\n",
              "      <td>0.00</td>\n",
              "      <td>0.00</td>\n",
              "      <td>0.00</td>\n",
              "      <td>0.32</td>\n",
              "    </tr>\n",
              "    <tr>\n",
              "      <th>3</th>\n",
              "      <td>0.00</td>\n",
              "      <td>0.00</td>\n",
              "      <td>0.00</td>\n",
              "      <td>0.00</td>\n",
              "      <td>0.00</td>\n",
              "      <td>0.00</td>\n",
              "      <td>0.00</td>\n",
              "      <td>0.00</td>\n",
              "      <td>0.00</td>\n",
              "      <td>0.00</td>\n",
              "      <td>0.00</td>\n",
              "      <td>0.00</td>\n",
              "      <td>0.00</td>\n",
              "      <td>0.00</td>\n",
              "      <td>0.00</td>\n",
              "      <td>0.00</td>\n",
              "      <td>0.00</td>\n",
              "      <td>0.00</td>\n",
              "      <td>0.00</td>\n",
              "      <td>0.00</td>\n",
              "      <td>0.00</td>\n",
              "      <td>0.00</td>\n",
              "      <td>0.00</td>\n",
              "      <td>0.00</td>\n",
              "      <td>0.00</td>\n",
              "      <td>...</td>\n",
              "      <td>0.00</td>\n",
              "      <td>0.00</td>\n",
              "      <td>0.00</td>\n",
              "      <td>0.00</td>\n",
              "      <td>0.00</td>\n",
              "      <td>0.00</td>\n",
              "      <td>0.00</td>\n",
              "      <td>0.00</td>\n",
              "      <td>0.00</td>\n",
              "      <td>0.00</td>\n",
              "      <td>0.00</td>\n",
              "      <td>0.00</td>\n",
              "      <td>0.00</td>\n",
              "      <td>0.00</td>\n",
              "      <td>0.00</td>\n",
              "      <td>0.00</td>\n",
              "      <td>0.00</td>\n",
              "      <td>0.00</td>\n",
              "      <td>0.00</td>\n",
              "      <td>0.00</td>\n",
              "      <td>0.00</td>\n",
              "      <td>0.00</td>\n",
              "      <td>0.00</td>\n",
              "      <td>0.00</td>\n",
              "      <td>0.00</td>\n",
              "    </tr>\n",
              "    <tr>\n",
              "      <th>4</th>\n",
              "      <td>0.00</td>\n",
              "      <td>0.00</td>\n",
              "      <td>0.00</td>\n",
              "      <td>0.00</td>\n",
              "      <td>0.00</td>\n",
              "      <td>0.00</td>\n",
              "      <td>0.00</td>\n",
              "      <td>0.00</td>\n",
              "      <td>0.00</td>\n",
              "      <td>0.00</td>\n",
              "      <td>0.00</td>\n",
              "      <td>0.00</td>\n",
              "      <td>0.00</td>\n",
              "      <td>0.00</td>\n",
              "      <td>0.00</td>\n",
              "      <td>0.00</td>\n",
              "      <td>0.00</td>\n",
              "      <td>0.00</td>\n",
              "      <td>0.00</td>\n",
              "      <td>0.00</td>\n",
              "      <td>0.00</td>\n",
              "      <td>0.00</td>\n",
              "      <td>0.00</td>\n",
              "      <td>0.00</td>\n",
              "      <td>0.00</td>\n",
              "      <td>...</td>\n",
              "      <td>0.00</td>\n",
              "      <td>0.00</td>\n",
              "      <td>0.00</td>\n",
              "      <td>0.00</td>\n",
              "      <td>0.00</td>\n",
              "      <td>0.00</td>\n",
              "      <td>0.00</td>\n",
              "      <td>0.00</td>\n",
              "      <td>0.00</td>\n",
              "      <td>0.00</td>\n",
              "      <td>0.00</td>\n",
              "      <td>0.00</td>\n",
              "      <td>0.00</td>\n",
              "      <td>0.00</td>\n",
              "      <td>0.00</td>\n",
              "      <td>0.00</td>\n",
              "      <td>0.00</td>\n",
              "      <td>0.00</td>\n",
              "      <td>0.00</td>\n",
              "      <td>0.00</td>\n",
              "      <td>0.00</td>\n",
              "      <td>0.00</td>\n",
              "      <td>0.00</td>\n",
              "      <td>0.00</td>\n",
              "      <td>0.00</td>\n",
              "    </tr>\n",
              "    <tr>\n",
              "      <th>...</th>\n",
              "      <td>...</td>\n",
              "      <td>...</td>\n",
              "      <td>...</td>\n",
              "      <td>...</td>\n",
              "      <td>...</td>\n",
              "      <td>...</td>\n",
              "      <td>...</td>\n",
              "      <td>...</td>\n",
              "      <td>...</td>\n",
              "      <td>...</td>\n",
              "      <td>...</td>\n",
              "      <td>...</td>\n",
              "      <td>...</td>\n",
              "      <td>...</td>\n",
              "      <td>...</td>\n",
              "      <td>...</td>\n",
              "      <td>...</td>\n",
              "      <td>...</td>\n",
              "      <td>...</td>\n",
              "      <td>...</td>\n",
              "      <td>...</td>\n",
              "      <td>...</td>\n",
              "      <td>...</td>\n",
              "      <td>...</td>\n",
              "      <td>...</td>\n",
              "      <td>...</td>\n",
              "      <td>...</td>\n",
              "      <td>...</td>\n",
              "      <td>...</td>\n",
              "      <td>...</td>\n",
              "      <td>...</td>\n",
              "      <td>...</td>\n",
              "      <td>...</td>\n",
              "      <td>...</td>\n",
              "      <td>...</td>\n",
              "      <td>...</td>\n",
              "      <td>...</td>\n",
              "      <td>...</td>\n",
              "      <td>...</td>\n",
              "      <td>...</td>\n",
              "      <td>...</td>\n",
              "      <td>...</td>\n",
              "      <td>...</td>\n",
              "      <td>...</td>\n",
              "      <td>...</td>\n",
              "      <td>...</td>\n",
              "      <td>...</td>\n",
              "      <td>...</td>\n",
              "      <td>...</td>\n",
              "      <td>...</td>\n",
              "      <td>...</td>\n",
              "    </tr>\n",
              "    <tr>\n",
              "      <th>11707</th>\n",
              "      <td>0.00</td>\n",
              "      <td>0.00</td>\n",
              "      <td>0.00</td>\n",
              "      <td>0.00</td>\n",
              "      <td>0.00</td>\n",
              "      <td>0.00</td>\n",
              "      <td>0.00</td>\n",
              "      <td>0.00</td>\n",
              "      <td>0.00</td>\n",
              "      <td>0.00</td>\n",
              "      <td>0.00</td>\n",
              "      <td>0.00</td>\n",
              "      <td>0.00</td>\n",
              "      <td>0.00</td>\n",
              "      <td>0.00</td>\n",
              "      <td>0.00</td>\n",
              "      <td>0.00</td>\n",
              "      <td>0.00</td>\n",
              "      <td>0.00</td>\n",
              "      <td>0.00</td>\n",
              "      <td>0.00</td>\n",
              "      <td>0.00</td>\n",
              "      <td>0.00</td>\n",
              "      <td>0.00</td>\n",
              "      <td>0.00</td>\n",
              "      <td>...</td>\n",
              "      <td>0.00</td>\n",
              "      <td>0.00</td>\n",
              "      <td>0.00</td>\n",
              "      <td>0.00</td>\n",
              "      <td>0.00</td>\n",
              "      <td>0.00</td>\n",
              "      <td>0.00</td>\n",
              "      <td>0.00</td>\n",
              "      <td>0.00</td>\n",
              "      <td>0.00</td>\n",
              "      <td>0.00</td>\n",
              "      <td>0.00</td>\n",
              "      <td>0.00</td>\n",
              "      <td>0.00</td>\n",
              "      <td>0.00</td>\n",
              "      <td>0.00</td>\n",
              "      <td>0.00</td>\n",
              "      <td>0.00</td>\n",
              "      <td>0.00</td>\n",
              "      <td>0.00</td>\n",
              "      <td>0.00</td>\n",
              "      <td>0.00</td>\n",
              "      <td>0.00</td>\n",
              "      <td>0.00</td>\n",
              "      <td>0.00</td>\n",
              "    </tr>\n",
              "    <tr>\n",
              "      <th>11708</th>\n",
              "      <td>0.00</td>\n",
              "      <td>0.00</td>\n",
              "      <td>0.00</td>\n",
              "      <td>0.00</td>\n",
              "      <td>0.00</td>\n",
              "      <td>0.00</td>\n",
              "      <td>0.00</td>\n",
              "      <td>0.00</td>\n",
              "      <td>0.00</td>\n",
              "      <td>0.00</td>\n",
              "      <td>0.00</td>\n",
              "      <td>0.00</td>\n",
              "      <td>0.00</td>\n",
              "      <td>0.00</td>\n",
              "      <td>0.00</td>\n",
              "      <td>0.00</td>\n",
              "      <td>0.00</td>\n",
              "      <td>0.00</td>\n",
              "      <td>0.00</td>\n",
              "      <td>0.00</td>\n",
              "      <td>0.00</td>\n",
              "      <td>0.00</td>\n",
              "      <td>0.00</td>\n",
              "      <td>0.00</td>\n",
              "      <td>0.00</td>\n",
              "      <td>...</td>\n",
              "      <td>0.00</td>\n",
              "      <td>0.00</td>\n",
              "      <td>0.00</td>\n",
              "      <td>0.00</td>\n",
              "      <td>0.00</td>\n",
              "      <td>0.00</td>\n",
              "      <td>0.00</td>\n",
              "      <td>0.00</td>\n",
              "      <td>0.00</td>\n",
              "      <td>0.00</td>\n",
              "      <td>0.00</td>\n",
              "      <td>0.00</td>\n",
              "      <td>0.00</td>\n",
              "      <td>0.00</td>\n",
              "      <td>0.00</td>\n",
              "      <td>0.00</td>\n",
              "      <td>0.00</td>\n",
              "      <td>0.00</td>\n",
              "      <td>0.00</td>\n",
              "      <td>0.00</td>\n",
              "      <td>0.00</td>\n",
              "      <td>0.00</td>\n",
              "      <td>0.00</td>\n",
              "      <td>0.00</td>\n",
              "      <td>0.00</td>\n",
              "    </tr>\n",
              "    <tr>\n",
              "      <th>11709</th>\n",
              "      <td>0.00</td>\n",
              "      <td>0.00</td>\n",
              "      <td>0.00</td>\n",
              "      <td>0.00</td>\n",
              "      <td>0.00</td>\n",
              "      <td>0.00</td>\n",
              "      <td>0.00</td>\n",
              "      <td>0.00</td>\n",
              "      <td>0.00</td>\n",
              "      <td>0.00</td>\n",
              "      <td>0.00</td>\n",
              "      <td>0.00</td>\n",
              "      <td>0.00</td>\n",
              "      <td>0.00</td>\n",
              "      <td>0.00</td>\n",
              "      <td>0.00</td>\n",
              "      <td>0.00</td>\n",
              "      <td>0.00</td>\n",
              "      <td>0.00</td>\n",
              "      <td>0.00</td>\n",
              "      <td>0.00</td>\n",
              "      <td>0.00</td>\n",
              "      <td>0.00</td>\n",
              "      <td>0.00</td>\n",
              "      <td>0.00</td>\n",
              "      <td>...</td>\n",
              "      <td>0.00</td>\n",
              "      <td>0.00</td>\n",
              "      <td>0.00</td>\n",
              "      <td>0.00</td>\n",
              "      <td>0.00</td>\n",
              "      <td>0.00</td>\n",
              "      <td>0.00</td>\n",
              "      <td>0.23</td>\n",
              "      <td>0.00</td>\n",
              "      <td>0.00</td>\n",
              "      <td>0.00</td>\n",
              "      <td>0.00</td>\n",
              "      <td>0.00</td>\n",
              "      <td>0.00</td>\n",
              "      <td>0.00</td>\n",
              "      <td>0.00</td>\n",
              "      <td>0.00</td>\n",
              "      <td>0.00</td>\n",
              "      <td>0.00</td>\n",
              "      <td>0.00</td>\n",
              "      <td>0.00</td>\n",
              "      <td>0.00</td>\n",
              "      <td>0.00</td>\n",
              "      <td>0.00</td>\n",
              "      <td>0.00</td>\n",
              "    </tr>\n",
              "    <tr>\n",
              "      <th>11710</th>\n",
              "      <td>0.00</td>\n",
              "      <td>0.00</td>\n",
              "      <td>0.00</td>\n",
              "      <td>0.00</td>\n",
              "      <td>0.00</td>\n",
              "      <td>0.00</td>\n",
              "      <td>0.00</td>\n",
              "      <td>0.00</td>\n",
              "      <td>0.00</td>\n",
              "      <td>0.00</td>\n",
              "      <td>0.00</td>\n",
              "      <td>0.00</td>\n",
              "      <td>0.00</td>\n",
              "      <td>0.00</td>\n",
              "      <td>0.00</td>\n",
              "      <td>0.00</td>\n",
              "      <td>0.00</td>\n",
              "      <td>0.00</td>\n",
              "      <td>0.00</td>\n",
              "      <td>0.00</td>\n",
              "      <td>0.00</td>\n",
              "      <td>0.00</td>\n",
              "      <td>0.00</td>\n",
              "      <td>0.00</td>\n",
              "      <td>0.00</td>\n",
              "      <td>...</td>\n",
              "      <td>0.00</td>\n",
              "      <td>0.00</td>\n",
              "      <td>0.00</td>\n",
              "      <td>0.00</td>\n",
              "      <td>0.00</td>\n",
              "      <td>0.00</td>\n",
              "      <td>0.00</td>\n",
              "      <td>0.00</td>\n",
              "      <td>0.00</td>\n",
              "      <td>0.00</td>\n",
              "      <td>0.00</td>\n",
              "      <td>0.00</td>\n",
              "      <td>0.00</td>\n",
              "      <td>0.00</td>\n",
              "      <td>0.00</td>\n",
              "      <td>0.00</td>\n",
              "      <td>0.00</td>\n",
              "      <td>0.00</td>\n",
              "      <td>0.00</td>\n",
              "      <td>0.00</td>\n",
              "      <td>0.00</td>\n",
              "      <td>0.00</td>\n",
              "      <td>0.00</td>\n",
              "      <td>0.00</td>\n",
              "      <td>0.00</td>\n",
              "    </tr>\n",
              "    <tr>\n",
              "      <th>11711</th>\n",
              "      <td>0.00</td>\n",
              "      <td>0.00</td>\n",
              "      <td>0.00</td>\n",
              "      <td>0.00</td>\n",
              "      <td>0.00</td>\n",
              "      <td>0.00</td>\n",
              "      <td>0.00</td>\n",
              "      <td>0.00</td>\n",
              "      <td>0.00</td>\n",
              "      <td>0.00</td>\n",
              "      <td>0.00</td>\n",
              "      <td>0.00</td>\n",
              "      <td>0.00</td>\n",
              "      <td>0.00</td>\n",
              "      <td>0.00</td>\n",
              "      <td>0.00</td>\n",
              "      <td>0.00</td>\n",
              "      <td>0.00</td>\n",
              "      <td>0.00</td>\n",
              "      <td>0.00</td>\n",
              "      <td>0.00</td>\n",
              "      <td>0.00</td>\n",
              "      <td>0.00</td>\n",
              "      <td>0.00</td>\n",
              "      <td>0.00</td>\n",
              "      <td>...</td>\n",
              "      <td>0.00</td>\n",
              "      <td>0.00</td>\n",
              "      <td>0.00</td>\n",
              "      <td>0.00</td>\n",
              "      <td>0.00</td>\n",
              "      <td>0.00</td>\n",
              "      <td>0.00</td>\n",
              "      <td>0.00</td>\n",
              "      <td>0.00</td>\n",
              "      <td>0.00</td>\n",
              "      <td>0.00</td>\n",
              "      <td>0.00</td>\n",
              "      <td>0.00</td>\n",
              "      <td>0.00</td>\n",
              "      <td>0.00</td>\n",
              "      <td>0.00</td>\n",
              "      <td>0.00</td>\n",
              "      <td>0.00</td>\n",
              "      <td>0.00</td>\n",
              "      <td>0.00</td>\n",
              "      <td>0.00</td>\n",
              "      <td>0.00</td>\n",
              "      <td>0.00</td>\n",
              "      <td>0.00</td>\n",
              "      <td>0.00</td>\n",
              "    </tr>\n",
              "  </tbody>\n",
              "</table>\n",
              "<p>11712 rows × 2683 columns</p>\n",
              "</div>"
            ],
            "text/plain": [
              "        aa  aadvantage  abc  ability  able  aboard  abq  absolute  absolutely  \\\n",
              "0     0.00        0.00 0.00     0.00  0.00    0.00 0.00      0.00        0.00   \n",
              "1     0.00        0.00 0.00     0.00  0.00    0.00 0.00      0.00        0.00   \n",
              "2     0.00        0.00 0.00     0.00  0.00    0.00 0.00      0.00        0.00   \n",
              "3     0.00        0.00 0.00     0.00  0.00    0.00 0.00      0.00        0.00   \n",
              "4     0.00        0.00 0.00     0.00  0.00    0.00 0.00      0.00        0.00   \n",
              "...    ...         ...  ...      ...   ...     ...  ...       ...         ...   \n",
              "11707 0.00        0.00 0.00     0.00  0.00    0.00 0.00      0.00        0.00   \n",
              "11708 0.00        0.00 0.00     0.00  0.00    0.00 0.00      0.00        0.00   \n",
              "11709 0.00        0.00 0.00     0.00  0.00    0.00 0.00      0.00        0.00   \n",
              "11710 0.00        0.00 0.00     0.00  0.00    0.00 0.00      0.00        0.00   \n",
              "11711 0.00        0.00 0.00     0.00  0.00    0.00 0.00      0.00        0.00   \n",
              "\n",
              "       absurd  abt  accept  acceptable  accepted  accepting  access  \\\n",
              "0        0.00 0.00    0.00        0.00      0.00       0.00    0.00   \n",
              "1        0.00 0.00    0.00        0.00      0.00       0.00    0.00   \n",
              "2        0.00 0.00    0.00        0.00      0.00       0.00    0.00   \n",
              "3        0.00 0.00    0.00        0.00      0.00       0.00    0.00   \n",
              "4        0.00 0.00    0.00        0.00      0.00       0.00    0.00   \n",
              "...       ...  ...     ...         ...       ...        ...     ...   \n",
              "11707    0.00 0.00    0.00        0.00      0.00       0.00    0.00   \n",
              "11708    0.00 0.00    0.00        0.00      0.00       0.00    0.00   \n",
              "11709    0.00 0.00    0.00        0.00      0.00       0.00    0.00   \n",
              "11710    0.00 0.00    0.00        0.00      0.00       0.00    0.00   \n",
              "11711    0.00 0.00    0.00        0.00      0.00       0.00    0.00   \n",
              "\n",
              "       accommodate  accommodating  accommodation  according  account  \\\n",
              "0             0.00           0.00           0.00       0.00     0.00   \n",
              "1             0.00           0.00           0.00       0.00     0.00   \n",
              "2             0.00           0.00           0.00       0.00     0.00   \n",
              "3             0.00           0.00           0.00       0.00     0.00   \n",
              "4             0.00           0.00           0.00       0.00     0.00   \n",
              "...            ...            ...            ...        ...      ...   \n",
              "11707         0.00           0.00           0.00       0.00     0.00   \n",
              "11708         0.00           0.00           0.00       0.00     0.00   \n",
              "11709         0.00           0.00           0.00       0.00     0.00   \n",
              "11710         0.00           0.00           0.00       0.00     0.00   \n",
              "11711         0.00           0.00           0.00       0.00     0.00   \n",
              "\n",
              "       accountability  acct  accurate  across  ...  yall  yay  yea  yeah  \\\n",
              "0                0.00  0.00      0.00    0.00  ...  0.00 0.00 0.00  0.00   \n",
              "1                0.00  0.00      0.00    0.00  ...  0.00 0.00 0.00  0.00   \n",
              "2                0.00  0.00      0.00    0.00  ...  0.00 0.00 0.00  0.00   \n",
              "3                0.00  0.00      0.00    0.00  ...  0.00 0.00 0.00  0.00   \n",
              "4                0.00  0.00      0.00    0.00  ...  0.00 0.00 0.00  0.00   \n",
              "...               ...   ...       ...     ...  ...   ...  ...  ...   ...   \n",
              "11707            0.00  0.00      0.00    0.00  ...  0.00 0.00 0.00  0.00   \n",
              "11708            0.00  0.00      0.00    0.00  ...  0.00 0.00 0.00  0.00   \n",
              "11709            0.00  0.00      0.00    0.00  ...  0.00 0.00 0.00  0.00   \n",
              "11710            0.00  0.00      0.00    0.00  ...  0.00 0.00 0.00  0.00   \n",
              "11711            0.00  0.00      0.00    0.00  ...  0.00 0.00 0.00  0.00   \n",
              "\n",
              "       year  yelled  yep  yes  yest  yesterday  yet   yo  york  youd  youll  \\\n",
              "0      0.00    0.00 0.00 0.00  0.00       0.00 0.00 0.00  0.00  0.00   0.00   \n",
              "1      0.00    0.00 0.00 0.00  0.00       0.00 0.00 0.00  0.00  0.00   0.00   \n",
              "2      0.00    0.00 0.00 0.00  0.00       0.00 0.00 0.00  0.00  0.00   0.00   \n",
              "3      0.00    0.00 0.00 0.00  0.00       0.00 0.00 0.00  0.00  0.00   0.00   \n",
              "4      0.00    0.00 0.00 0.00  0.00       0.00 0.00 0.00  0.00  0.00   0.00   \n",
              "...     ...     ...  ...  ...   ...        ...  ...  ...   ...   ...    ...   \n",
              "11707  0.00    0.00 0.00 0.00  0.00       0.00 0.00 0.00  0.00  0.00   0.00   \n",
              "11708  0.00    0.00 0.00 0.00  0.00       0.00 0.00 0.00  0.00  0.00   0.00   \n",
              "11709  0.00    0.00 0.00 0.23  0.00       0.00 0.00 0.00  0.00  0.00   0.00   \n",
              "11710  0.00    0.00 0.00 0.00  0.00       0.00 0.00 0.00  0.00  0.00   0.00   \n",
              "11711  0.00    0.00 0.00 0.00  0.00       0.00 0.00 0.00  0.00  0.00   0.00   \n",
              "\n",
              "       young  youre  youth  youve   yr  yup  yvr  yyz  zero  zone  \n",
              "0       0.00   0.00   0.00   0.00 0.00 0.00 0.00 0.00  0.00  0.00  \n",
              "1       0.00   0.00   0.00   0.00 0.00 0.00 0.00 0.00  0.00  0.00  \n",
              "2       0.00   0.00   0.00   0.00 0.00 0.00 0.00 0.00  0.00  0.32  \n",
              "3       0.00   0.00   0.00   0.00 0.00 0.00 0.00 0.00  0.00  0.00  \n",
              "4       0.00   0.00   0.00   0.00 0.00 0.00 0.00 0.00  0.00  0.00  \n",
              "...      ...    ...    ...    ...  ...  ...  ...  ...   ...   ...  \n",
              "11707   0.00   0.00   0.00   0.00 0.00 0.00 0.00 0.00  0.00  0.00  \n",
              "11708   0.00   0.00   0.00   0.00 0.00 0.00 0.00 0.00  0.00  0.00  \n",
              "11709   0.00   0.00   0.00   0.00 0.00 0.00 0.00 0.00  0.00  0.00  \n",
              "11710   0.00   0.00   0.00   0.00 0.00 0.00 0.00 0.00  0.00  0.00  \n",
              "11711   0.00   0.00   0.00   0.00 0.00 0.00 0.00 0.00  0.00  0.00  \n",
              "\n",
              "[11712 rows x 2683 columns]"
            ]
          },
          "metadata": {},
          "execution_count": 53
        }
      ]
    },
    {
      "cell_type": "markdown",
      "metadata": {
        "id": "Ux465l6qTW_d"
      },
      "source": [
        "## Model Comparisons  TF-IDF"
      ]
    },
    {
      "cell_type": "markdown",
      "metadata": {
        "id": "xnoEy-95TW_d"
      },
      "source": [
        "## Naive Bayes"
      ]
    },
    {
      "cell_type": "code",
      "metadata": {
        "colab": {
          "base_uri": "https://localhost:8080/"
        },
        "id": "W9wtI3lXTW_e",
        "outputId": "292a14d2-bfba-4c94-902b-d6b2bd210294"
      },
      "source": [
        "from sklearn.naive_bayes import MultinomialNB\n",
        "nb = MultinomialNB()\n",
        "nb.fit(X_train_tf_idf,y_train)"
      ],
      "execution_count": null,
      "outputs": [
        {
          "output_type": "execute_result",
          "data": {
            "text/plain": [
              "MultinomialNB()"
            ]
          },
          "metadata": {},
          "execution_count": 54
        }
      ]
    },
    {
      "cell_type": "code",
      "metadata": {
        "colab": {
          "base_uri": "https://localhost:8080/",
          "height": 669
        },
        "id": "R80-gsLQTW_e",
        "outputId": "9da829ab-6787-46c0-9e6c-833399552585"
      },
      "source": [
        "print(\"NB MODEL\")\n",
        "eval(nb, X_test_tf_idf)"
      ],
      "execution_count": null,
      "outputs": [
        {
          "output_type": "stream",
          "name": "stderr",
          "text": [
            "/usr/local/lib/python3.7/dist-packages/sklearn/utils/deprecation.py:87: FutureWarning: Function plot_confusion_matrix is deprecated; Function `plot_confusion_matrix` is deprecated in 1.0 and will be removed in 1.2. Use one of the class methods: ConfusionMatrixDisplay.from_predictions or ConfusionMatrixDisplay.from_estimator.\n",
            "  warnings.warn(msg, category=FutureWarning)\n"
          ]
        },
        {
          "output_type": "stream",
          "name": "stdout",
          "text": [
            "NB MODEL\n",
            "              precision    recall  f1-score   support\n",
            "\n",
            "    negative       0.72      0.98      0.83      1835\n",
            "     neutral       0.71      0.26      0.38       620\n",
            "    positive       0.87      0.40      0.55       473\n",
            "\n",
            "    accuracy                           0.73      2928\n",
            "   macro avg       0.77      0.55      0.59      2928\n",
            "weighted avg       0.74      0.73      0.69      2928\n",
            "\n"
          ]
        },
        {
          "output_type": "display_data",
          "data": {
            "image/png": "[encoded data removed]",
            "text/plain": [
              "<Figure size 504x504 with 2 Axes>"
            ]
          },
          "metadata": {
            "needs_background": "light"
          }
        }
      ]
    },
    {
      "cell_type": "markdown",
      "metadata": {
        "id": "IICrN3GhTW_e"
      },
      "source": [
        "## Logistic Regression"
      ]
    },
    {
      "cell_type": "code",
      "metadata": {
        "colab": {
          "base_uri": "https://localhost:8080/"
        },
        "id": "RJeFj0uxTW_e",
        "outputId": "bc7dcd99-817e-4f7d-d0cb-cd28178fe3cd"
      },
      "source": [
        "from sklearn.linear_model import LogisticRegression\n",
        "log = LogisticRegression(max_iter=1000)\n",
        "log.fit(X_train_tf_idf,y_train)"
      ],
      "execution_count": null,
      "outputs": [
        {
          "output_type": "execute_result",
          "data": {
            "text/plain": [
              "LogisticRegression(max_iter=1000)"
            ]
          },
          "metadata": {},
          "execution_count": 16
        }
      ]
    },
    {
      "cell_type": "code",
      "metadata": {
        "colab": {
          "base_uri": "https://localhost:8080/",
          "height": 675
        },
        "id": "RFekzhMWTW_e",
        "outputId": "6d8f9539-4ea1-42f1-b9e4-09d99f9e10ec"
      },
      "source": [
        "print(\"LOG MODEL\")\n",
        "eval(log, X_test_tf_idf)"
      ],
      "execution_count": null,
      "outputs": [
        {
          "output_type": "stream",
          "name": "stdout",
          "text": [
            "LOG MODEL\n",
            "              precision    recall  f1-score   support\n",
            "\n",
            "    negative       0.80      0.93      0.86      1835\n",
            "     neutral       0.65      0.48      0.56       620\n",
            "    positive       0.80      0.57      0.67       473\n",
            "\n",
            "    accuracy                           0.78      2928\n",
            "   macro avg       0.75      0.66      0.70      2928\n",
            "weighted avg       0.77      0.78      0.77      2928\n",
            "\n"
          ]
        },
        {
          "output_type": "stream",
          "name": "stderr",
          "text": [
            "/usr/local/lib/python3.7/dist-packages/sklearn/utils/deprecation.py:87: FutureWarning: Function plot_confusion_matrix is deprecated; Function `plot_confusion_matrix` is deprecated in 1.0 and will be removed in 1.2. Use one of the class methods: ConfusionMatrixDisplay.from_predictions or ConfusionMatrixDisplay.from_estimator.\n",
            "  warnings.warn(msg, category=FutureWarning)\n"
          ]
        },
        {
          "output_type": "display_data",
          "data": {
            "image/png": "[encoded data removed]",
            "text/plain": [
              "<Figure size 504x504 with 2 Axes>"
            ]
          },
          "metadata": {
            "needs_background": "light"
          }
        }
      ]
    },
    {
      "cell_type": "markdown",
      "metadata": {
        "id": "l_R-QecuYXW8"
      },
      "source": [
        "### TO SAVE A MODEL"
      ]
    },
    {
      "cell_type": "code",
      "metadata": {
        "id": "vOK6-BA0UJGc"
      },
      "source": [
        "import pickle\n",
        "pickle.dump(log, open('logreg_tweet_classifier.pkl', 'wb'))"
      ],
      "execution_count": null,
      "outputs": []
    },
    {
      "cell_type": "code",
      "metadata": {
        "id": "VZRp9Fn_X8y0"
      },
      "source": [
        "import pickle\n",
        "pickle.dump(tf_idf_vectorizer, open(\"tfidf_vectorizer.pkl\",\"wb\"))"
      ],
      "execution_count": null,
      "outputs": []
    },
    {
      "cell_type": "code",
      "metadata": {
        "id": "Z6TvB84tYb3d"
      },
      "source": [
        "loaded_tfidf_vec = pickle.load(open('tfidf_vectorizer.pkl', 'rb'))\n",
        "#loaded_tfidf_vec = TfidfVectorizer(decode_error=\"replace\",vocabulary=pickle.load(open(\"tfidf_vectorizer.pkl\", \"rb\")))"
      ],
      "execution_count": null,
      "outputs": []
    },
    {
      "cell_type": "code",
      "metadata": {
        "id": "a0OwOtO0ZE5W"
      },
      "source": [
        "loaded_logreg = pickle.load(open('logreg_tweet_classifier.pkl', 'rb'))"
      ],
      "execution_count": null,
      "outputs": []
    },
    {
      "cell_type": "code",
      "metadata": {
        "id": "KNBArQj4aTuf"
      },
      "source": [
        "vectorized_tweet = loaded_tfidf_vec.transform(['Awesome flight'])\n",
        "prediction = loaded_logreg.predict(vectorized_tweet)"
      ],
      "execution_count": null,
      "outputs": []
    },
    {
      "cell_type": "code",
      "metadata": {
        "colab": {
          "base_uri": "https://localhost:8080/"
        },
        "id": "zjB-gTNMavpD",
        "outputId": "ec405914-adb3-4b70-ca75-bd18fa1e575e"
      },
      "source": [
        "prediction"
      ],
      "execution_count": null,
      "outputs": [
        {
          "output_type": "execute_result",
          "data": {
            "text/plain": [
              "array(['positive'], dtype=object)"
            ]
          },
          "metadata": {},
          "execution_count": 50
        }
      ]
    },
    {
      "cell_type": "code",
      "metadata": {
        "colab": {
          "base_uri": "https://localhost:8080/"
        },
        "id": "fgEf-hLxZcDP",
        "outputId": "746afe16-d917-460f-839d-6e30858646b6"
      },
      "source": [
        "pd.Series(\"I want to go there\").apply(cleaning)"
      ],
      "execution_count": null,
      "outputs": [
        {
          "output_type": "execute_result",
          "data": {
            "text/plain": [
              "0    want go\n",
              "dtype: object"
            ]
          },
          "metadata": {},
          "execution_count": 51
        }
      ]
    },
    {
      "cell_type": "code",
      "metadata": {
        "colab": {
          "base_uri": "https://localhost:8080/"
        },
        "id": "B2S-c_P8ZcGL",
        "outputId": "10d55a41-6d20-4a21-9ada-2b6ce22cfe80"
      },
      "source": [
        "import numpy as np\n",
        "text = \"Awesome flight\"\n",
        "cleaned_text = pd.Series(text).apply(cleaning)\n",
        "vectorized_text = loaded_tfidf_vec.transform([text]).toarray()\n",
        "prediction = loaded_logreg.predict(vectorized_text)\n",
        "prob = loaded_logreg.predict_proba(vectorized_text)\n",
        "prediction[0], np.max(np.round(prob,3))"
      ],
      "execution_count": null,
      "outputs": [
        {
          "output_type": "execute_result",
          "data": {
            "text/plain": [
              "('positive', 0.891)"
            ]
          },
          "metadata": {},
          "execution_count": 61
        }
      ]
    },
    {
      "cell_type": "code",
      "metadata": {
        "colab": {
          "base_uri": "https://localhost:8080/"
        },
        "id": "MehLfnheTW_e",
        "outputId": "f049c4b6-6af4-48b7-d776-b1aa2af83aea"
      },
      "source": [
        "log = LogisticRegression(max_iter=1000, class_weight=\"balanced\")\n",
        "log.fit(X_train_tf_idf,y_train)"
      ],
      "execution_count": null,
      "outputs": [
        {
          "output_type": "execute_result",
          "data": {
            "text/plain": [
              "LogisticRegression(class_weight='balanced', max_iter=1000)"
            ]
          },
          "metadata": {},
          "execution_count": 58
        }
      ]
    },
    {
      "cell_type": "code",
      "metadata": {
        "colab": {
          "base_uri": "https://localhost:8080/",
          "height": 670
        },
        "id": "IcYiBfncTW_f",
        "outputId": "ea950206-c2cb-468c-f1d7-cb51125d03ac"
      },
      "source": [
        "print(\"LOG MODEL BALANCED\")\n",
        "eval(log, X_test_tf_idf)"
      ],
      "execution_count": null,
      "outputs": [
        {
          "output_type": "stream",
          "name": "stdout",
          "text": [
            "LOG MODEL BALANCED\n",
            "              precision    recall  f1-score   support\n",
            "\n",
            "    negative       0.90      0.78      0.83      1835\n",
            "     neutral       0.53      0.71      0.61       620\n",
            "    positive       0.64      0.71      0.68       473\n",
            "\n",
            "    accuracy                           0.75      2928\n",
            "   macro avg       0.69      0.73      0.71      2928\n",
            "weighted avg       0.78      0.75      0.76      2928\n",
            "\n"
          ]
        },
        {
          "output_type": "stream",
          "name": "stderr",
          "text": [
            "/usr/local/lib/python3.7/dist-packages/sklearn/utils/deprecation.py:87: FutureWarning: Function plot_confusion_matrix is deprecated; Function `plot_confusion_matrix` is deprecated in 1.0 and will be removed in 1.2. Use one of the class methods: ConfusionMatrixDisplay.from_predictions or ConfusionMatrixDisplay.from_estimator.\n",
            "  warnings.warn(msg, category=FutureWarning)\n"
          ]
        },
        {
          "output_type": "display_data",
          "data": {
            "image/png": "[encoded data removed]",
            "text/plain": [
              "<Figure size 504x504 with 2 Axes>"
            ]
          },
          "metadata": {
            "needs_background": "light"
          }
        }
      ]
    },
    {
      "cell_type": "markdown",
      "metadata": {
        "id": "k9ntAPozTW_f"
      },
      "source": [
        "## SVM"
      ]
    },
    {
      "cell_type": "code",
      "metadata": {
        "colab": {
          "base_uri": "https://localhost:8080/"
        },
        "id": "nugu0Kp1TW_f",
        "outputId": "ac9a76fe-be5f-4f6c-e640-d7e068ce02c8"
      },
      "source": [
        "from sklearn.svm import LinearSVC\n",
        "svc = LinearSVC()\n",
        "svc.fit(X_train_tf_idf,y_train)"
      ],
      "execution_count": null,
      "outputs": [
        {
          "output_type": "execute_result",
          "data": {
            "text/plain": [
              "LinearSVC()"
            ]
          },
          "metadata": {},
          "execution_count": 60
        }
      ]
    },
    {
      "cell_type": "code",
      "metadata": {
        "colab": {
          "base_uri": "https://localhost:8080/",
          "height": 669
        },
        "id": "Ju1OUWf6TW_f",
        "outputId": "38318a76-d01a-447c-986f-b10a38241dc6"
      },
      "source": [
        "print(\"SVC MODEL\")\n",
        "eval(svc, X_test_tf_idf)"
      ],
      "execution_count": null,
      "outputs": [
        {
          "output_type": "stream",
          "name": "stdout",
          "text": [
            "SVC MODEL\n",
            "              precision    recall  f1-score   support\n",
            "\n",
            "    negative       0.83      0.89      0.86      1835\n",
            "     neutral       0.61      0.54      0.57       620\n",
            "    positive       0.71      0.62      0.66       473\n",
            "\n",
            "    accuracy                           0.77      2928\n",
            "   macro avg       0.72      0.68      0.70      2928\n",
            "weighted avg       0.76      0.77      0.77      2928\n",
            "\n"
          ]
        },
        {
          "output_type": "stream",
          "name": "stderr",
          "text": [
            "/usr/local/lib/python3.7/dist-packages/sklearn/utils/deprecation.py:87: FutureWarning: Function plot_confusion_matrix is deprecated; Function `plot_confusion_matrix` is deprecated in 1.0 and will be removed in 1.2. Use one of the class methods: ConfusionMatrixDisplay.from_predictions or ConfusionMatrixDisplay.from_estimator.\n",
            "  warnings.warn(msg, category=FutureWarning)\n"
          ]
        },
        {
          "output_type": "display_data",
          "data": {
            "image/png": "[encoded data removed]",
            "text/plain": [
              "<Figure size 504x504 with 2 Axes>"
            ]
          },
          "metadata": {
            "needs_background": "light"
          }
        }
      ]
    },
    {
      "cell_type": "markdown",
      "metadata": {
        "id": "K3ghsQwOTW_f"
      },
      "source": [
        "## KNN"
      ]
    },
    {
      "cell_type": "code",
      "metadata": {
        "colab": {
          "base_uri": "https://localhost:8080/"
        },
        "id": "A6jEUAK2TW_f",
        "outputId": "837a63f8-cd22-481a-9713-a2e623a8a03e"
      },
      "source": [
        "from sklearn.neighbors import KNeighborsClassifier\n",
        "knn = KNeighborsClassifier(n_neighbors=8)\n",
        "knn.fit(X_train_tf_idf,y_train)"
      ],
      "execution_count": null,
      "outputs": [
        {
          "output_type": "execute_result",
          "data": {
            "text/plain": [
              "KNeighborsClassifier(n_neighbors=8)"
            ]
          },
          "metadata": {},
          "execution_count": 62
        }
      ]
    },
    {
      "cell_type": "code",
      "metadata": {
        "colab": {
          "base_uri": "https://localhost:8080/",
          "height": 669
        },
        "id": "Mihkz14qTW_g",
        "outputId": "134df8c2-2f8f-4cd5-b13d-c7ec9d7d1cec"
      },
      "source": [
        "print(\"KNN MODEL\")\n",
        "eval(knn, X_test_tf_idf)"
      ],
      "execution_count": null,
      "outputs": [
        {
          "output_type": "stream",
          "name": "stdout",
          "text": [
            "KNN MODEL\n",
            "              precision    recall  f1-score   support\n",
            "\n",
            "    negative       0.72      0.20      0.31      1835\n",
            "     neutral       0.23      0.83      0.35       620\n",
            "    positive       0.73      0.21      0.32       473\n",
            "\n",
            "    accuracy                           0.33      2928\n",
            "   macro avg       0.56      0.41      0.33      2928\n",
            "weighted avg       0.61      0.33      0.32      2928\n",
            "\n"
          ]
        },
        {
          "output_type": "stream",
          "name": "stderr",
          "text": [
            "/usr/local/lib/python3.7/dist-packages/sklearn/utils/deprecation.py:87: FutureWarning: Function plot_confusion_matrix is deprecated; Function `plot_confusion_matrix` is deprecated in 1.0 and will be removed in 1.2. Use one of the class methods: ConfusionMatrixDisplay.from_predictions or ConfusionMatrixDisplay.from_estimator.\n",
            "  warnings.warn(msg, category=FutureWarning)\n"
          ]
        },
        {
          "output_type": "display_data",
          "data": {
            "image/png": "[encoded data removed]",
            "text/plain": [
              "<Figure size 504x504 with 2 Axes>"
            ]
          },
          "metadata": {
            "needs_background": "light"
          }
        }
      ]
    },
    {
      "cell_type": "markdown",
      "metadata": {
        "id": "B95OLy5jTW_g"
      },
      "source": [
        "## RandomForest"
      ]
    },
    {
      "cell_type": "code",
      "metadata": {
        "colab": {
          "base_uri": "https://localhost:8080/"
        },
        "id": "WijpiizYTW_g",
        "outputId": "917d1a05-d09e-4b7e-cdec-87801ee787d6"
      },
      "source": [
        "rf = RandomForestClassifier(500, random_state = 42, n_jobs = -1)\n",
        "rf.fit(X_train_tf_idf, y_train)"
      ],
      "execution_count": null,
      "outputs": [
        {
          "output_type": "execute_result",
          "data": {
            "text/plain": [
              "RandomForestClassifier(n_estimators=500, n_jobs=-1, random_state=42)"
            ]
          },
          "metadata": {},
          "execution_count": 64
        }
      ]
    },
    {
      "cell_type": "code",
      "metadata": {
        "colab": {
          "base_uri": "https://localhost:8080/",
          "height": 669
        },
        "id": "hrVnF7MpTW_g",
        "outputId": "78a88547-d5f6-42f1-cb4d-ca2a5d32d68c"
      },
      "source": [
        "print(\"RF MODEL\")\n",
        "eval(rf, X_test_tf_idf)"
      ],
      "execution_count": null,
      "outputs": [
        {
          "output_type": "stream",
          "name": "stdout",
          "text": [
            "RF MODEL\n",
            "              precision    recall  f1-score   support\n",
            "\n",
            "    negative       0.79      0.92      0.85      1835\n",
            "     neutral       0.63      0.47      0.54       620\n",
            "    positive       0.72      0.54      0.62       473\n",
            "\n",
            "    accuracy                           0.76      2928\n",
            "   macro avg       0.72      0.64      0.67      2928\n",
            "weighted avg       0.75      0.76      0.75      2928\n",
            "\n"
          ]
        },
        {
          "output_type": "stream",
          "name": "stderr",
          "text": [
            "/usr/local/lib/python3.7/dist-packages/sklearn/utils/deprecation.py:87: FutureWarning: Function plot_confusion_matrix is deprecated; Function `plot_confusion_matrix` is deprecated in 1.0 and will be removed in 1.2. Use one of the class methods: ConfusionMatrixDisplay.from_predictions or ConfusionMatrixDisplay.from_estimator.\n",
            "  warnings.warn(msg, category=FutureWarning)\n"
          ]
        },
        {
          "output_type": "display_data",
          "data": {
            "image/png": "[encoded data removed]",
            "text/plain": [
              "<Figure size 504x504 with 2 Axes>"
            ]
          },
          "metadata": {
            "needs_background": "light"
          }
        }
      ]
    },
    {
      "cell_type": "code",
      "metadata": {
        "colab": {
          "base_uri": "https://localhost:8080/"
        },
        "id": "8XRbD7Z0TW_g",
        "outputId": "ea9c5abf-5380-4a6e-9e7f-acd6fecbbd38"
      },
      "source": [
        "rf = RandomForestClassifier(500, random_state = 42, n_jobs = -1, class_weight=\"balanced\")\n",
        "rf.fit(X_train_tf_idf, y_train)"
      ],
      "execution_count": null,
      "outputs": [
        {
          "output_type": "execute_result",
          "data": {
            "text/plain": [
              "RandomForestClassifier(class_weight='balanced', n_estimators=500, n_jobs=-1,\n",
              "                       random_state=42)"
            ]
          },
          "metadata": {},
          "execution_count": 66
        }
      ]
    },
    {
      "cell_type": "code",
      "metadata": {
        "colab": {
          "base_uri": "https://localhost:8080/",
          "height": 669
        },
        "id": "XsCZs7GkTW_h",
        "outputId": "b64610d6-30a3-4b2e-8eda-8cab2b2073d0"
      },
      "source": [
        "print(\"RF MODEL BALANCED\")\n",
        "eval(rf, X_test_tf_idf)"
      ],
      "execution_count": null,
      "outputs": [
        {
          "output_type": "stream",
          "name": "stdout",
          "text": [
            "RF MODEL BALANCED\n",
            "              precision    recall  f1-score   support\n",
            "\n",
            "    negative       0.81      0.91      0.86      1835\n",
            "     neutral       0.64      0.50      0.56       620\n",
            "    positive       0.70      0.56      0.62       473\n",
            "\n",
            "    accuracy                           0.77      2928\n",
            "   macro avg       0.72      0.66      0.68      2928\n",
            "weighted avg       0.76      0.77      0.76      2928\n",
            "\n"
          ]
        },
        {
          "output_type": "stream",
          "name": "stderr",
          "text": [
            "/usr/local/lib/python3.7/dist-packages/sklearn/utils/deprecation.py:87: FutureWarning: Function plot_confusion_matrix is deprecated; Function `plot_confusion_matrix` is deprecated in 1.0 and will be removed in 1.2. Use one of the class methods: ConfusionMatrixDisplay.from_predictions or ConfusionMatrixDisplay.from_estimator.\n",
            "  warnings.warn(msg, category=FutureWarning)\n"
          ]
        },
        {
          "output_type": "display_data",
          "data": {
            "image/png": "[encoded data removed]",
            "text/plain": [
              "<Figure size 504x504 with 2 Axes>"
            ]
          },
          "metadata": {
            "needs_background": "light"
          }
        }
      ]
    },
    {
      "cell_type": "markdown",
      "metadata": {
        "id": "b3SBDAIFTW_h"
      },
      "source": [
        "## Ada Boost"
      ]
    },
    {
      "cell_type": "code",
      "metadata": {
        "colab": {
          "base_uri": "https://localhost:8080/"
        },
        "id": "W9SshSFiTW_h",
        "outputId": "6fecd831-8d91-4074-93f7-85677ab77d42"
      },
      "source": [
        "from sklearn.ensemble import AdaBoostClassifier\n",
        "ada = AdaBoostClassifier(n_estimators= 500, random_state = 42)\n",
        "ada.fit(X_train_tf_idf, y_train)"
      ],
      "execution_count": null,
      "outputs": [
        {
          "output_type": "execute_result",
          "data": {
            "text/plain": [
              "AdaBoostClassifier(n_estimators=500, random_state=42)"
            ]
          },
          "metadata": {},
          "execution_count": 68
        }
      ]
    },
    {
      "cell_type": "code",
      "metadata": {
        "colab": {
          "base_uri": "https://localhost:8080/",
          "height": 669
        },
        "id": "29q8FRaUTW_h",
        "outputId": "8ecc87f1-ad8f-4aeb-d77f-1e71e9ced437"
      },
      "source": [
        "print(\"Ada MODEL\")\n",
        "eval(ada, X_test_tf_idf)"
      ],
      "execution_count": null,
      "outputs": [
        {
          "output_type": "stream",
          "name": "stdout",
          "text": [
            "Ada MODEL\n",
            "              precision    recall  f1-score   support\n",
            "\n",
            "    negative       0.82      0.85      0.83      1835\n",
            "     neutral       0.53      0.57      0.55       620\n",
            "    positive       0.70      0.56      0.62       473\n",
            "\n",
            "    accuracy                           0.74      2928\n",
            "   macro avg       0.68      0.66      0.67      2928\n",
            "weighted avg       0.74      0.74      0.74      2928\n",
            "\n"
          ]
        },
        {
          "output_type": "stream",
          "name": "stderr",
          "text": [
            "/usr/local/lib/python3.7/dist-packages/sklearn/utils/deprecation.py:87: FutureWarning: Function plot_confusion_matrix is deprecated; Function `plot_confusion_matrix` is deprecated in 1.0 and will be removed in 1.2. Use one of the class methods: ConfusionMatrixDisplay.from_predictions or ConfusionMatrixDisplay.from_estimator.\n",
            "  warnings.warn(msg, category=FutureWarning)\n"
          ]
        },
        {
          "output_type": "display_data",
          "data": {
            "image/png": "[encoded data removed]",
            "text/plain": [
              "<Figure size 504x504 with 2 Axes>"
            ]
          },
          "metadata": {
            "needs_background": "light"
          }
        }
      ]
    },
    {
      "cell_type": "code",
      "metadata": {
        "id": "-0kg6cyCTW_h"
      },
      "source": [
        "def get_results_for_a_given_algorithm(estimator, X_train, y_train, X_test, y_test):\n",
        "\n",
        "    model = estimator.fit(X_train, y_train)\n",
        "    y_pred = model.predict(X_test)\n",
        "    f1_scr = f1_score(y_test, y_pred, average='weighted')\n",
        "    print(f'{estimator} Evalaution Metrics \\n')\n",
        "    #eval(model, X_test)\n",
        "\n",
        "    return f1_scr"
      ],
      "execution_count": null,
      "outputs": []
    },
    {
      "cell_type": "code",
      "metadata": {
        "colab": {
          "base_uri": "https://localhost:8080/"
        },
        "id": "u5aH10OleigF",
        "outputId": "c43852f4-da5c-4e46-b903-8292a730ffb6"
      },
      "source": [
        "classifiers = [AdaBoostClassifier(), LogisticRegression(), RandomForestClassifier(), KNeighborsClassifier(n_neighbors=8)]\n",
        "score_df = pd.DataFrame()\n",
        "for idx, classifier in enumerate(classifiers):\n",
        "    f1 = get_results_for_a_given_algorithm(classifier, X_train_tf_idf, y_train, X_test_tf_idf, y_test)\n",
        "    score_df.loc[idx, 'model'] = str(classifier).split('(')[0]\n",
        "    score_df.loc[idx, 'f1_score'] = f1\n"
      ],
      "execution_count": null,
      "outputs": [
        {
          "output_type": "stream",
          "name": "stdout",
          "text": [
            "AdaBoostClassifier() Evalaution Metrics \n",
            "\n"
          ]
        },
        {
          "output_type": "stream",
          "name": "stderr",
          "text": [
            "/usr/local/lib/python3.7/dist-packages/sklearn/linear_model/_logistic.py:818: ConvergenceWarning: lbfgs failed to converge (status=1):\n",
            "STOP: TOTAL NO. of ITERATIONS REACHED LIMIT.\n",
            "\n",
            "Increase the number of iterations (max_iter) or scale the data as shown in:\n",
            "    https://scikit-learn.org/stable/modules/preprocessing.html\n",
            "Please also refer to the documentation for alternative solver options:\n",
            "    https://scikit-learn.org/stable/modules/linear_model.html#logistic-regression\n",
            "  extra_warning_msg=_LOGISTIC_SOLVER_CONVERGENCE_MSG,\n"
          ]
        },
        {
          "output_type": "stream",
          "name": "stdout",
          "text": [
            "LogisticRegression() Evalaution Metrics \n",
            "\n",
            "RandomForestClassifier() Evalaution Metrics \n",
            "\n",
            "KNeighborsClassifier(n_neighbors=8) Evalaution Metrics \n",
            "\n"
          ]
        }
      ]
    },
    {
      "cell_type": "code",
      "metadata": {
        "colab": {
          "base_uri": "https://localhost:8080/",
          "height": 172
        },
        "id": "ggyVUb6XhFZJ",
        "outputId": "d7971be4-e17e-4489-d845-71a148c7fd6a"
      },
      "source": [
        "score_df.sort_values(by='f1_score', ascending=False)\n",
        "#score_df.reset_index(drop=True, inplace=True)"
      ],
      "execution_count": null,
      "outputs": [
        {
          "output_type": "execute_result",
          "data": {
            "text/html": [
              "<div>\n",
              "<style scoped>\n",
              "    .dataframe tbody tr th:only-of-type {\n",
              "        vertical-align: middle;\n",
              "    }\n",
              "\n",
              "    .dataframe tbody tr th {\n",
              "        vertical-align: top;\n",
              "    }\n",
              "\n",
              "    .dataframe thead th {\n",
              "        text-align: right;\n",
              "    }\n",
              "</style>\n",
              "<table border=\"1\" class=\"dataframe\">\n",
              "  <thead>\n",
              "    <tr style=\"text-align: right;\">\n",
              "      <th></th>\n",
              "      <th>model</th>\n",
              "      <th>f1_score</th>\n",
              "    </tr>\n",
              "  </thead>\n",
              "  <tbody>\n",
              "    <tr>\n",
              "      <th>1</th>\n",
              "      <td>LogisticRegression</td>\n",
              "      <td>0.78</td>\n",
              "    </tr>\n",
              "    <tr>\n",
              "      <th>2</th>\n",
              "      <td>RandomForestClassifier</td>\n",
              "      <td>0.74</td>\n",
              "    </tr>\n",
              "    <tr>\n",
              "      <th>0</th>\n",
              "      <td>AdaBoostClassifier</td>\n",
              "      <td>0.63</td>\n",
              "    </tr>\n",
              "    <tr>\n",
              "      <th>3</th>\n",
              "      <td>KNeighborsClassifier</td>\n",
              "      <td>0.31</td>\n",
              "    </tr>\n",
              "  </tbody>\n",
              "</table>\n",
              "</div>"
            ],
            "text/plain": [
              "                    model  f1_score\n",
              "1      LogisticRegression      0.78\n",
              "2  RandomForestClassifier      0.74\n",
              "0      AdaBoostClassifier      0.63\n",
              "3    KNeighborsClassifier      0.31"
            ]
          },
          "metadata": {},
          "execution_count": 72
        }
      ]
    },
    {
      "cell_type": "markdown",
      "metadata": {
        "id": "fH152xlhTW_h"
      },
      "source": [
        "## Cross Val"
      ]
    },
    {
      "cell_type": "code",
      "metadata": {
        "colab": {
          "base_uri": "https://localhost:8080/"
        },
        "id": "0Clk6pEzTge3",
        "outputId": "060db6c3-6bbb-4b94-e429-89a7c5fd684c"
      },
      "source": [
        "classifier_names = [str(i).split('(')[0] for i in classifiers]\n",
        "classifier_names"
      ],
      "execution_count": null,
      "outputs": [
        {
          "output_type": "execute_result",
          "data": {
            "text/plain": [
              "['AdaBoostClassifier',\n",
              " 'LogisticRegression',\n",
              " 'RandomForestClassifier',\n",
              " 'KNeighborsClassifier']"
            ]
          },
          "metadata": {},
          "execution_count": 73
        }
      ]
    },
    {
      "cell_type": "code",
      "metadata": {
        "id": "_d3-3f_-TW_i"
      },
      "source": [
        "from sklearn.model_selection import cross_val_score\n",
        "from sklearn.metrics import make_scorer\n",
        "from sklearn.metrics import f1_score, accuracy_score, precision_score, recall_score\n",
        "custom_scorer = {'accuracy': make_scorer(accuracy_score),\n",
        "                 'precision-neg': make_scorer(precision_score, average='weighted', labels=[\"negative\"]),\n",
        "                 'recall-neg': make_scorer(recall_score, average='weighted', labels = [\"negative\"]),\n",
        "                 'f1-neg': make_scorer(f1_score, average='weighted', labels = [\"negative\"]),\n",
        "                 \n",
        "                 'precision-neutral': make_scorer(precision_score, average='weighted', labels=[\"neutral\"]),\n",
        "                 'recall-neutral': make_scorer(recall_score, average='weighted', labels = [\"neutral\"]),\n",
        "                 'f1-neutral': make_scorer(f1_score, average='weighted', labels = [\"neutral\"]),\n",
        "                 \n",
        "                 'precision-pos': make_scorer(precision_score, average='weighted', labels=[\"positive\"]),\n",
        "                 'recall-pos': make_scorer(recall_score, average='weighted', labels = [\"positive\"]),\n",
        "                 'f1-pos': make_scorer(f1_score, average='weighted', labels = [\"positive\"]),\n",
        "                 }\n",
        "\n",
        "score_dict = dict() \n",
        "for idx, estimator in enumerate(classifier_names):\n",
        "    score_list = []\n",
        "    for i, j  in custom_scorer.items():\n",
        "        model = classifiers[idx] #LogisticRegression(max_iter=1000)\n",
        "        scores = cross_val_score(model, X_train_tf_idf, y_train, cv = 10, scoring = j, n_jobs = -1).mean()\n",
        "        print(f\" {i} score : {scores}\\n\")\n",
        "        score_list.append(scores)\n",
        "    score_dict[estimator]  = score_list"
      ],
      "execution_count": null,
      "outputs": []
    },
    {
      "cell_type": "code",
      "metadata": {
        "id": "ha154-JobEXN"
      },
      "source": [
        "score_dict"
      ],
      "execution_count": null,
      "outputs": []
    },
    {
      "cell_type": "code",
      "metadata": {
        "id": "jO8KsM12f0TA"
      },
      "source": [
        "columns = []\n",
        "for key in custom_scorer.keys():\n",
        "    columns.append(key)"
      ],
      "execution_count": null,
      "outputs": []
    },
    {
      "cell_type": "code",
      "metadata": {
        "id": "gyJ14yNra5oe"
      },
      "source": [
        "score_df = pd.DataFrame([score_dict])\n",
        "score_df = score_df.T\n",
        "score_df.rename(columns={0:'score'}, inplace=True)\n",
        "score_df"
      ],
      "execution_count": null,
      "outputs": []
    },
    {
      "cell_type": "code",
      "metadata": {
        "id": "xAhQN3UbjGEu"
      },
      "source": [
        "score_df = pd.DataFrame(score_df['score'].tolist(), columns=columns)\n",
        "score_df.index = classifier_names\n",
        "score_df"
      ],
      "execution_count": null,
      "outputs": []
    },
    {
      "cell_type": "code",
      "metadata": {
        "id": "TFwo7gFgTW_i"
      },
      "source": [
        "print(\"LOG MODEL\")\n",
        "eval(log, X_test_tf_idf)"
      ],
      "execution_count": null,
      "outputs": []
    },
    {
      "cell_type": "markdown",
      "metadata": {
        "id": "tblLCEc3TW_i"
      },
      "source": [
        "## For New Tweets, prediction with pipeline\n"
      ]
    },
    {
      "cell_type": "code",
      "metadata": {
        "id": "2yloq146TW_i"
      },
      "source": [
        "from sklearn.pipeline import Pipeline"
      ],
      "execution_count": null,
      "outputs": []
    },
    {
      "cell_type": "code",
      "metadata": {
        "id": "yNUKltULTW_i"
      },
      "source": [
        "from sklearn.pipeline import Pipeline\n",
        "pipe = Pipeline([('tfidf',TfidfVectorizer(preprocessor=cleaning, min_df=2, ngram_range=(1,2))),('log',LogisticRegression(max_iter=1000))])"
      ],
      "execution_count": null,
      "outputs": []
    },
    {
      "cell_type": "code",
      "metadata": {
        "id": "L4xn8eg_Wljy"
      },
      "source": [
        "df3 = df.copy()\n",
        "df3 = df3[['airline_sentiment', 'text']]\n",
        "df3.rename(columns={'airline_sentiment':'sentiment'}, inplace=True)"
      ],
      "execution_count": null,
      "outputs": []
    },
    {
      "cell_type": "code",
      "metadata": {
        "colab": {
          "base_uri": "https://localhost:8080/"
        },
        "id": "9yEJFNgMTW_i",
        "outputId": "b9ea7a27-7b79-4b42-a34b-0375fe5edbd4"
      },
      "source": [
        "pipe.fit(df3[\"text\"], df3[\"sentiment\"])"
      ],
      "execution_count": null,
      "outputs": [
        {
          "output_type": "execute_result",
          "data": {
            "text/plain": [
              "Pipeline(steps=[('tfidf',\n",
              "                 TfidfVectorizer(min_df=2, ngram_range=(1, 2),\n",
              "                                 preprocessor=<function cleaning at 0x7f39b9375710>)),\n",
              "                ('log', LogisticRegression(max_iter=1000))])"
            ]
          },
          "metadata": {},
          "execution_count": 78
        }
      ]
    },
    {
      "cell_type": "code",
      "metadata": {
        "colab": {
          "base_uri": "https://localhost:8080/",
          "height": 35
        },
        "id": "bmoNHdDxTW_j",
        "outputId": "4e4a01d3-2fb7-4fc1-d8dd-694ca0ba97ac"
      },
      "source": [
        "tweet = \"it was the worst flight i have ever been\" # data should be either pd.Series or list\n",
        "tweet = pd.Series(tweet).apply(cleaning)\n",
        "pipe.predict(tweet)[0]"
      ],
      "execution_count": null,
      "outputs": [
        {
          "output_type": "execute_result",
          "data": {
            "application/vnd.google.colaboratory.intrinsic+json": {
              "type": "string"
            },
            "text/plain": [
              "'negative'"
            ]
          },
          "metadata": {},
          "execution_count": 79
        }
      ]
    },
    {
      "cell_type": "code",
      "metadata": {
        "colab": {
          "base_uri": "https://localhost:8080/",
          "height": 35
        },
        "id": "p0sBcK0qTW_j",
        "outputId": "ebe2b548-0f02-4ff5-c9ea-4dd4f4141bb5"
      },
      "source": [
        "tweet = \"don't enjoy flight  at all\"\n",
        "tweet = pd.Series(tweet).apply(cleaning)\n",
        "pipe.predict(tweet)[0]"
      ],
      "execution_count": null,
      "outputs": [
        {
          "output_type": "execute_result",
          "data": {
            "application/vnd.google.colaboratory.intrinsic+json": {
              "type": "string"
            },
            "text/plain": [
              "'negative'"
            ]
          },
          "metadata": {},
          "execution_count": 80
        }
      ]
    },
    {
      "cell_type": "code",
      "metadata": {
        "colab": {
          "base_uri": "https://localhost:8080/",
          "height": 35
        },
        "id": "fhQC2IFtTW_j",
        "outputId": "9b5eb019-1199-4f4c-e79a-be0715648484"
      },
      "source": [
        "tweet = \"ok flight\"\n",
        "tweet = pd.Series(tweet).apply(cleaning)\n",
        "pipe.predict(tweet)[0]"
      ],
      "execution_count": null,
      "outputs": [
        {
          "output_type": "execute_result",
          "data": {
            "application/vnd.google.colaboratory.intrinsic+json": {
              "type": "string"
            },
            "text/plain": [
              "'neutral'"
            ]
          },
          "metadata": {},
          "execution_count": 81
        }
      ]
    },
    {
      "cell_type": "code",
      "metadata": {
        "colab": {
          "base_uri": "https://localhost:8080/",
          "height": 35
        },
        "id": "DuHVIYWf2L94",
        "outputId": "f87ef1b0-552e-49fd-f8ad-0cf2b462225b"
      },
      "source": [
        "tweet = \"it was amazing\"\n",
        "tweet = pd.Series(tweet).apply(cleaning)\n",
        "pipe.predict(tweet)[0]"
      ],
      "execution_count": null,
      "outputs": [
        {
          "output_type": "execute_result",
          "data": {
            "application/vnd.google.colaboratory.intrinsic+json": {
              "type": "string"
            },
            "text/plain": [
              "'positive'"
            ]
          },
          "metadata": {},
          "execution_count": 84
        }
      ]
    },
    {
      "cell_type": "code",
      "metadata": {
        "colab": {
          "base_uri": "https://localhost:8080/",
          "height": 35
        },
        "id": "4jBZjXAb14Zp",
        "outputId": "d2bf574e-9cd8-48d1-97c6-2701e5967068"
      },
      "source": [
        "tweet = \"I don't think I'll ever use American Airlines any more\"\n",
        "tweet = pd.Series(tweet).apply(cleaning)\n",
        "pipe.predict(tweet)[0]"
      ],
      "execution_count": null,
      "outputs": [
        {
          "output_type": "execute_result",
          "data": {
            "application/vnd.google.colaboratory.intrinsic+json": {
              "type": "string"
            },
            "text/plain": [
              "'negative'"
            ]
          },
          "metadata": {},
          "execution_count": 82
        }
      ]
    },
    {
      "cell_type": "code",
      "metadata": {
        "colab": {
          "base_uri": "https://localhost:8080/",
          "height": 35
        },
        "id": "lb00kHE62Bth",
        "outputId": "525f0b2b-bfa4-4983-ba08-f3fbc7824b0a"
      },
      "source": [
        "tweet = \"It was an unbelievable flight experience\"\n",
        "tweet = pd.Series(tweet).apply(cleaning)\n",
        "pipe.predict(tweet)[0]"
      ],
      "execution_count": null,
      "outputs": [
        {
          "output_type": "execute_result",
          "data": {
            "application/vnd.google.colaboratory.intrinsic+json": {
              "type": "string"
            },
            "text/plain": [
              "'negative'"
            ]
          },
          "metadata": {},
          "execution_count": 83
        }
      ]
    },
    {
      "cell_type": "code",
      "metadata": {
        "id": "fWXNL2cmDeF8"
      },
      "source": [
        "results = pipe.predict([\"ok\" , \"I really loved the customer service\"])\n",
        "for idx, result in enumerate(results):\n",
        "    print(f'{idx+1}. sentiment is', result)"
      ],
      "execution_count": null,
      "outputs": []
    },
    {
      "cell_type": "code",
      "metadata": {
        "id": "PQxHJI6yjVK-"
      },
      "source": [
        "#!pip install autocorrect"
      ],
      "execution_count": null,
      "outputs": []
    },
    {
      "cell_type": "code",
      "metadata": {
        "id": "u2-cCQuIjUDz"
      },
      "source": [
        "# from autocorrect import Speller\n",
        "# spell = Speller(lang='en')\n",
        "\n",
        "# print(spell('mussage'))\n",
        "# print(spell('survice'))\n",
        "# print(spell('hte'))\n",
        "# print(spell('soooo'))"
      ],
      "execution_count": null,
      "outputs": []
    },
    {
      "cell_type": "markdown",
      "metadata": {
        "id": "jVj48egdTW_j"
      },
      "source": [
        "#### TRANSFORMERS"
      ]
    },
    {
      "cell_type": "code",
      "metadata": {
        "id": "C4mW5kUWTW_j"
      },
      "source": [
        "!pip install transformers[sentencepiece]"
      ],
      "execution_count": null,
      "outputs": []
    },
    {
      "cell_type": "code",
      "metadata": {
        "id": "PTj-RmH0TW_j"
      },
      "source": [
        "#!pip install transformers[dev]"
      ],
      "execution_count": null,
      "outputs": []
    },
    {
      "cell_type": "code",
      "metadata": {
        "id": "j-tGdNG9TW_k"
      },
      "source": [
        "from transformers import pipeline\n",
        "classifier = pipeline('sentiment-analysis') # BINARY CLASSIFICATION"
      ],
      "execution_count": null,
      "outputs": []
    },
    {
      "cell_type": "code",
      "metadata": {
        "id": "CObqHCA9TW_k"
      },
      "source": [
        "classifier(\"ok flight\")"
      ],
      "execution_count": null,
      "outputs": []
    },
    {
      "cell_type": "markdown",
      "metadata": {
        "id": "Lrs-5nGYTW_k"
      },
      "source": [
        "## WordCloud - Repetition of Words"
      ]
    },
    {
      "cell_type": "markdown",
      "metadata": {
        "id": "hIpSlCrYTW_k"
      },
      "source": [
        "## Collect Words"
      ]
    },
    {
      "cell_type": "code",
      "metadata": {
        "id": "AYGKZsaWTW_k"
      },
      "source": [
        "tweets = df3[\"text\"]\n",
        "tweets"
      ],
      "execution_count": null,
      "outputs": []
    },
    {
      "cell_type": "code",
      "metadata": {
        "id": "yPCyimCTTW_k"
      },
      "source": [
        "all_words = \" \".join(tweets)"
      ],
      "execution_count": null,
      "outputs": []
    },
    {
      "cell_type": "code",
      "metadata": {
        "id": "E6xl4AN0TW_k"
      },
      "source": [
        "all_words[:100]"
      ],
      "execution_count": null,
      "outputs": []
    },
    {
      "cell_type": "markdown",
      "metadata": {
        "id": "ixNUISwlTW_l"
      },
      "source": [
        "## Create Word Cloud"
      ]
    },
    {
      "cell_type": "code",
      "metadata": {
        "id": "OvUpTSFBTW_l"
      },
      "source": [
        "from wordcloud import WordCloud"
      ],
      "execution_count": null,
      "outputs": []
    },
    {
      "cell_type": "code",
      "metadata": {
        "id": "wpabwMkEO61V"
      },
      "source": [
        "from wordcloud import WordCloud, ImageColorGenerator \n",
        "from PIL import Image\n",
        "import matplotlib.pyplot as plt\n",
        "import numpy as np\n",
        "# create a mask based on the image we wish to include\n",
        "# create a wordcloud \n",
        "wc = WordCloud(background_color='white',\n",
        "               collocations=False,\n",
        "               width=600,\n",
        "               height=300,\n",
        "               contour_width=3,\n",
        "               max_font_size=256,\n",
        "               contour_color='black',\n",
        "               stopwords=stop_words)"
      ],
      "execution_count": null,
      "outputs": []
    },
    {
      "cell_type": "code",
      "metadata": {
        "id": "3B1blW4NPXx9"
      },
      "source": [
        "wc.generate(all_words)\n",
        "import matplotlib.pyplot as plt\n",
        "plt.figure(figsize = (8,8), dpi =150)\n",
        "plt.imshow(wc)\n",
        "plt.axis(\"off\")\n",
        "plt.title('USA Airline Tweets', fontsize=13)\n",
        "plt.show();"
      ],
      "execution_count": null,
      "outputs": []
    },
    {
      "cell_type": "markdown",
      "metadata": {
        "id": "zkX4OcFcTW_l"
      },
      "source": [
        "## Counting words"
      ]
    },
    {
      "cell_type": "code",
      "metadata": {
        "id": "9hoVJwCOTW_l"
      },
      "source": [
        "counter = Counter(word_tokenize(all_words))"
      ],
      "execution_count": null,
      "outputs": []
    },
    {
      "cell_type": "code",
      "metadata": {
        "id": "uxW1ZHW-TW_m"
      },
      "source": [
        "counter.most_common(50)"
      ],
      "execution_count": null,
      "outputs": []
    },
    {
      "cell_type": "code",
      "metadata": {
        "id": "PFRrymnpto80"
      },
      "source": [
        "### Pretrained Models"
      ],
      "execution_count": null,
      "outputs": []
    },
    {
      "cell_type": "code",
      "metadata": {
        "id": "JGLVlTWovHCG"
      },
      "source": [
        "!pip install zeugma"
      ],
      "execution_count": null,
      "outputs": []
    },
    {
      "cell_type": "markdown",
      "metadata": {
        "id": "zfKOpiznxW8u"
      },
      "source": [
        "### GLOVE"
      ]
    },
    {
      "cell_type": "code",
      "metadata": {
        "id": "9JXvnj5Ftr4n"
      },
      "source": [
        "from sklearn.linear_model import LogisticRegression\n",
        "from zeugma.embeddings import EmbeddingTransformer\n",
        "\n",
        "glove = EmbeddingTransformer('glove')"
      ],
      "execution_count": null,
      "outputs": []
    },
    {
      "cell_type": "code",
      "metadata": {
        "id": "iSuDKM9_vm7u"
      },
      "source": [
        "df3.head()"
      ],
      "execution_count": null,
      "outputs": []
    },
    {
      "cell_type": "markdown",
      "metadata": {
        "id": "vgrZW87vxdVl"
      },
      "source": [
        "### Without cleaning"
      ]
    },
    {
      "cell_type": "code",
      "metadata": {
        "id": "xV4-X6L0v5J7"
      },
      "source": [
        "from sklearn.model_selection import train_test_split\n",
        "X_train, X_test, y_train, y_test = train_test_split(df3['text'], df3['sentiment'], test_size=0.2, stratify=y, random_state=4299)"
      ],
      "execution_count": null,
      "outputs": []
    },
    {
      "cell_type": "code",
      "metadata": {
        "id": "TuT4cNISvOix"
      },
      "source": [
        "X_train_v = glove.transform(np.array(X_train))\n",
        "\n",
        "model = LogisticRegression(max_iter=1000)\n",
        "model.fit(X_train_v, y_train)"
      ],
      "execution_count": null,
      "outputs": []
    },
    {
      "cell_type": "code",
      "metadata": {
        "id": "1rv4zNqUyANK"
      },
      "source": [
        "X_train_v"
      ],
      "execution_count": null,
      "outputs": []
    },
    {
      "cell_type": "code",
      "metadata": {
        "id": "TwGxvDGYwD-Y"
      },
      "source": [
        "X_test_v = glove.transform(X_test)\n",
        "model.predict(X_test_v)"
      ],
      "execution_count": null,
      "outputs": []
    },
    {
      "cell_type": "code",
      "metadata": {
        "id": "nHgNPpJPwcOy"
      },
      "source": [
        "def eval(model, X_test):\n",
        "    preds = model.predict(X_test)\n",
        "    print(classification_report(y_test,preds))\n",
        "    sns.set_context('talk')\n",
        "    fig, ax = plt.subplots(figsize=(7, 7))\n",
        "    plot_confusion_matrix(model, X_test, y_test, ax = ax, values_format = '.0f')"
      ],
      "execution_count": null,
      "outputs": []
    },
    {
      "cell_type": "code",
      "metadata": {
        "id": "RIcEEcGmxLEn"
      },
      "source": [
        "eval(model, X_test_v)"
      ],
      "execution_count": null,
      "outputs": []
    },
    {
      "cell_type": "markdown",
      "metadata": {
        "id": "8O384juMxj7_"
      },
      "source": [
        "### With Cleaning"
      ]
    },
    {
      "cell_type": "code",
      "metadata": {
        "id": "_WGKwyJXxmQs"
      },
      "source": [
        "df3['clean_text'] = df3['text'].apply(cleaning)"
      ],
      "execution_count": null,
      "outputs": []
    },
    {
      "cell_type": "code",
      "metadata": {
        "id": "wdLLrvu0xsx-"
      },
      "source": [
        "X_train, X_test, y_train, y_test = train_test_split(df3['clean_text'], df3['sentiment'], test_size=0.2, stratify=y, random_state=4299)"
      ],
      "execution_count": null,
      "outputs": []
    },
    {
      "cell_type": "code",
      "metadata": {
        "id": "fVug9Wv51xCw"
      },
      "source": [
        "model = LogisticRegression(max_iter=1000)\n",
        "X_train_v = glove.transform(np.array(X_train))\n",
        "model.fit(X_train_v, y_train)\n",
        "X_test_v = glove.transform(X_test)\n",
        "eval(model, X_test_v)"
      ],
      "execution_count": null,
      "outputs": []
    },
    {
      "cell_type": "code",
      "metadata": {
        "id": "hNkksyL-xx5b"
      },
      "source": [
        "from sklearn.preprocessing import MinMaxScaler\n",
        "scaler = MinMaxScaler()\n",
        "model = MultinomialNB()\n",
        "X_train_v = glove.transform(X_train.to_list())\n",
        "X_train_v_s = scaler.fit_transform(X_train_v)\n",
        "X_test_v = glove.transform(X_test.to_list())\n",
        "X_test_v_s = scaler.transform(X_test_v)\n",
        "model.fit(X_train_v_s, y_train)\n",
        "\n",
        "eval(model, X_test_v_s)"
      ],
      "execution_count": null,
      "outputs": []
    },
    {
      "cell_type": "markdown",
      "metadata": {
        "id": "iZTW3LUs8jTZ"
      },
      "source": [
        "### Gensim"
      ]
    },
    {
      "cell_type": "code",
      "metadata": {
        "id": "xykWUjj08oEd"
      },
      "source": [
        "import gensim\n",
        "glove_vectors = gensim.downloader.load('glove-twitter-100')"
      ],
      "execution_count": null,
      "outputs": []
    },
    {
      "cell_type": "code",
      "metadata": {
        "id": "otvlEtsP8oLX"
      },
      "source": [
        "glove_vectors.most_similar('flight')"
      ],
      "execution_count": null,
      "outputs": []
    },
    {
      "cell_type": "code",
      "metadata": {
        "id": "JgOl49cP9vEp"
      },
      "source": [
        "glove_vectors.most_similar('customer')"
      ],
      "execution_count": null,
      "outputs": []
    },
    {
      "cell_type": "code",
      "metadata": {
        "id": "e-fFysP19y6Z"
      },
      "source": [
        "glove_vectors.most_similar('terrible')"
      ],
      "execution_count": null,
      "outputs": []
    },
    {
      "cell_type": "code",
      "metadata": {
        "id": "NllKk5qz92QJ"
      },
      "source": [
        "print(glove_vectors.doesnt_match([\"breakfast\", \"cereal\", \"dinner\", \"lunch\"]))"
      ],
      "execution_count": null,
      "outputs": []
    },
    {
      "cell_type": "code",
      "metadata": {
        "id": "eKXNxOpr_BCQ"
      },
      "source": [
        "print(glove_vectors.doesnt_match([\"flight\", \"happy\", \"satisfied\", \"joyful\"]))"
      ],
      "execution_count": null,
      "outputs": []
    },
    {
      "cell_type": "code",
      "metadata": {
        "id": "qkECjs1r_RuJ"
      },
      "source": [
        "print(glove_vectors.most_similar(positive=['baghdad', 'england'], negative=['london']))"
      ],
      "execution_count": null,
      "outputs": []
    },
    {
      "cell_type": "code",
      "metadata": {
        "id": "BOraXNkt_iaO"
      },
      "source": [
        "print(glove_vectors.most_similar(positive=['desktop', 'car'], negative=['transmission']))"
      ],
      "execution_count": null,
      "outputs": []
    },
    {
      "cell_type": "code",
      "metadata": {
        "id": "j_KISXkD_v9D"
      },
      "source": [
        "print(glove_vectors.most_similar(positive=['uncle', 'woman'], negative=['aunt']))"
      ],
      "execution_count": null,
      "outputs": []
    },
    {
      "cell_type": "markdown",
      "metadata": {
        "id": "OO0nYCRLBLDy"
      },
      "source": [
        "### Training a model with Word2Vec"
      ]
    },
    {
      "cell_type": "code",
      "metadata": {
        "id": "mCsaA8wMAvFd"
      },
      "source": [
        "from gensim.models import Word2Vec\n",
        "sent = [row.split(',') for row in df3['clean_text']]\n",
        "sent[:3]"
      ],
      "execution_count": null,
      "outputs": []
    },
    {
      "cell_type": "code",
      "metadata": {
        "id": "JMylEYwyyORO"
      },
      "source": [
        "model = Word2Vec(sent, min_count=1,size=300, workers=3, window =3, sg = 1)"
      ],
      "execution_count": null,
      "outputs": []
    },
    {
      "cell_type": "code",
      "metadata": {
        "id": "ctD40X2fBcbI"
      },
      "source": [
        "model['flight']"
      ],
      "execution_count": null,
      "outputs": []
    },
    {
      "cell_type": "code",
      "metadata": {
        "id": "sJAJexexBgpd"
      },
      "source": [
        "model.similarity('terrible', 'awesome')"
      ],
      "execution_count": null,
      "outputs": []
    },
    {
      "cell_type": "code",
      "metadata": {
        "id": "EontJSjlCBhh"
      },
      "source": [
        "model.most_similar('didnt today must mean need take another trip')[:5]"
      ],
      "execution_count": null,
      "outputs": []
    }
  ]
}