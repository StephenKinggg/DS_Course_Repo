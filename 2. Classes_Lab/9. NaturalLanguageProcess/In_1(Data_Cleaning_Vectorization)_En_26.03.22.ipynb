{
  "nbformat": 4,
  "nbformat_minor": 0,
  "metadata": {
    "kernelspec": {
      "display_name": "Python 3",
      "language": "python",
      "name": "python3"
    },
    "language_info": {
      "codemirror_mode": {
        "name": "ipython",
        "version": 3
      },
      "file_extension": ".py",
      "mimetype": "text/x-python",
      "name": "python",
      "nbconvert_exporter": "python",
      "pygments_lexer": "ipython3",
      "version": "3.7.4"
    },
    "colab": {
      "name": "NLP-1 (Data Cleaning-Vectorization)(ENG)-26 March_FC-S.ipynb",
      "provenance": [],
      "collapsed_sections": []
    },
    "accelerator": "GPU"
  },
  "cells": [
    {
      "cell_type": "markdown",
      "metadata": {
        "id": "ckFgXU36QC7I"
      },
      "source": [
        "## Install and Import"
      ]
    },
    {
      "cell_type": "code",
      "metadata": {
        "id": "gwt-asmVfWy1"
      },
      "source": [
        "import warnings\n",
        "warnings.filterwarnings('ignore')"
      ],
      "execution_count": 1,
      "outputs": []
    },
    {
      "cell_type": "code",
      "source": [
        "!pip install nltk"
      ],
      "metadata": {
        "colab": {
          "base_uri": "https://localhost:8080/"
        },
        "id": "okmdKmORlmRU",
        "outputId": "77f26116-b18f-48e8-f922-605ef8a63786"
      },
      "execution_count": 2,
      "outputs": [
        {
          "output_type": "stream",
          "name": "stdout",
          "text": [
            "Requirement already satisfied: nltk in /usr/local/lib/python3.7/dist-packages (3.2.5)\n",
            "Requirement already satisfied: six in /usr/local/lib/python3.7/dist-packages (from nltk) (1.15.0)\n"
          ]
        }
      ]
    },
    {
      "cell_type": "code",
      "source": [
        "import nltk"
      ],
      "metadata": {
        "id": "VispLAdSl95W"
      },
      "execution_count": 3,
      "outputs": []
    },
    {
      "cell_type": "code",
      "metadata": {
        "id": "JVI3B3kcQC7L",
        "colab": {
          "base_uri": "https://localhost:8080/"
        },
        "outputId": "69f645de-f1d4-4b46-8fb5-e3eb77f64f2e"
      },
      "source": [
        "# natural language toolkit\n",
        "!pip install nltk contractions"
      ],
      "execution_count": 5,
      "outputs": [
        {
          "output_type": "stream",
          "name": "stdout",
          "text": [
            "Requirement already satisfied: nltk in /usr/local/lib/python3.7/dist-packages (3.2.5)\n",
            "Collecting contractions\n",
            "  Downloading contractions-0.1.68-py2.py3-none-any.whl (8.1 kB)\n",
            "Requirement already satisfied: six in /usr/local/lib/python3.7/dist-packages (from nltk) (1.15.0)\n",
            "Collecting textsearch>=0.0.21\n",
            "  Downloading textsearch-0.0.21-py2.py3-none-any.whl (7.5 kB)\n",
            "Collecting anyascii\n",
            "  Downloading anyascii-0.3.0-py3-none-any.whl (284 kB)\n",
            "\u001b[K     |████████████████████████████████| 284 kB 8.0 MB/s \n",
            "\u001b[?25hCollecting pyahocorasick\n",
            "  Downloading pyahocorasick-1.4.4-cp37-cp37m-manylinux_2_17_x86_64.manylinux2014_x86_64.whl (106 kB)\n",
            "\u001b[K     |████████████████████████████████| 106 kB 71.4 MB/s \n",
            "\u001b[?25hInstalling collected packages: pyahocorasick, anyascii, textsearch, contractions\n",
            "Successfully installed anyascii-0.3.0 contractions-0.1.68 pyahocorasick-1.4.4 textsearch-0.0.21\n"
          ]
        }
      ]
    },
    {
      "cell_type": "markdown",
      "metadata": {
        "id": "rKnwZuyRQC7N"
      },
      "source": [
        "🔑    :     https://www.nltk.org/api/nltk.tokenize.html"
      ]
    },
    {
      "cell_type": "code",
      "metadata": {
        "id": "stqZ0iNlQC7N"
      },
      "source": [
        "import nltk\n",
        "import numpy as np\n",
        "import pandas as pd \n",
        "import contractions"
      ],
      "execution_count": 6,
      "outputs": []
    },
    {
      "cell_type": "markdown",
      "metadata": {
        "id": "yIVZNeB3QC7O"
      },
      "source": [
        "### Notebook settings"
      ]
    },
    {
      "cell_type": "code",
      "metadata": {
        "id": "3JPgI4coQC7O"
      },
      "source": [
        "pd.set_option('display.max_colwidth', None)\n",
        "from IPython.core.interactiveshell import InteractiveShell\n",
        "InteractiveShell.ast_node_interactivity = 'all'"
      ],
      "execution_count": 7,
      "outputs": []
    },
    {
      "cell_type": "markdown",
      "metadata": {
        "id": "ZrlwxkdFQC7P"
      },
      "source": [
        "## Tokenization"
      ]
    },
    {
      "cell_type": "code",
      "metadata": {
        "id": "njmgcSE9QC7P"
      },
      "source": [
        "sample_text= \"\"\"This is pretty cool. A good quality candy might cost $3.88 in New York. \n",
        "                But I don't think we buy it. Mr.Biden said $1,000,000. 2 cars.\"\"\""
      ],
      "execution_count": 8,
      "outputs": []
    },
    {
      "cell_type": "code",
      "source": [
        "#dir(nltk.tokenize)"
      ],
      "metadata": {
        "id": "Y_axUHI_C28q"
      },
      "execution_count": 10,
      "outputs": []
    },
    {
      "cell_type": "code",
      "metadata": {
        "id": "pHpS0QoqQC7Q"
      },
      "source": [
        "from nltk.tokenize import sent_tokenize, wordpunct_tokenize, word_tokenize"
      ],
      "execution_count": 11,
      "outputs": []
    },
    {
      "cell_type": "markdown",
      "metadata": {
        "id": "BwtgntGxQC7Q"
      },
      "source": [
        "#### Sentence Tokenization"
      ]
    },
    {
      "cell_type": "code",
      "metadata": {
        "id": "ASCpxs_WQQHn",
        "colab": {
          "base_uri": "https://localhost:8080/"
        },
        "outputId": "1fce7e85-dab0-4d90-f312-bea40fd17b90"
      },
      "source": [
        "# To use tokenziers\n",
        "nltk.download('punkt')"
      ],
      "execution_count": 12,
      "outputs": [
        {
          "output_type": "stream",
          "name": "stdout",
          "text": [
            "[nltk_data] Downloading package punkt to /root/nltk_data...\n",
            "[nltk_data]   Unzipping tokenizers/punkt.zip.\n"
          ]
        },
        {
          "output_type": "execute_result",
          "data": {
            "text/plain": [
              "True"
            ]
          },
          "metadata": {},
          "execution_count": 12
        }
      ]
    },
    {
      "cell_type": "code",
      "metadata": {
        "id": "Brw2U9CXQC7Q",
        "colab": {
          "base_uri": "https://localhost:8080/"
        },
        "outputId": "8779f69c-7097-4530-db64-1d5c484ba486"
      },
      "source": [
        "sentence_tokens = sent_tokenize(sample_text.lower()) # Sensitive to punctuation '.' vs ','\n",
        "sentence_tokens"
      ],
      "execution_count": 14,
      "outputs": [
        {
          "output_type": "execute_result",
          "data": {
            "text/plain": [
              "['this is pretty cool.',\n",
              " 'a good quality candy might cost $3.88 in new york.',\n",
              " \"but i don't think we buy it.\",\n",
              " 'mr.biden said $1,000,000.',\n",
              " '2 cars.']"
            ]
          },
          "metadata": {},
          "execution_count": 14
        }
      ]
    },
    {
      "cell_type": "markdown",
      "metadata": {
        "id": "3zLpDtxgQC7R"
      },
      "source": [
        "#### WordPunct Tokenization"
      ]
    },
    {
      "cell_type": "code",
      "metadata": {
        "id": "nks9ILs4QC7R",
        "colab": {
          "base_uri": "https://localhost:8080/"
        },
        "outputId": "155716f6-6079-4c1c-e432-717cdee83373"
      },
      "source": [
        "wordpunc_tokens = wordpunct_tokenize(sample_text.lower()) # regular-expression based tokenizer, which splits text on whitespace and punctuation\n",
        "wordpunc_tokens"
      ],
      "execution_count": 16,
      "outputs": [
        {
          "output_type": "execute_result",
          "data": {
            "text/plain": [
              "['this',\n",
              " 'is',\n",
              " 'pretty',\n",
              " 'cool',\n",
              " '.',\n",
              " 'a',\n",
              " 'good',\n",
              " 'quality',\n",
              " 'candy',\n",
              " 'might',\n",
              " 'cost',\n",
              " '$',\n",
              " '3',\n",
              " '.',\n",
              " '88',\n",
              " 'in',\n",
              " 'new',\n",
              " 'york',\n",
              " '.',\n",
              " 'but',\n",
              " 'i',\n",
              " 'don',\n",
              " \"'\",\n",
              " 't',\n",
              " 'think',\n",
              " 'we',\n",
              " 'buy',\n",
              " 'it',\n",
              " '.',\n",
              " 'mr',\n",
              " '.',\n",
              " 'biden',\n",
              " 'said',\n",
              " '$',\n",
              " '1',\n",
              " ',',\n",
              " '000',\n",
              " ',',\n",
              " '000',\n",
              " '.',\n",
              " '2',\n",
              " 'cars',\n",
              " '.']"
            ]
          },
          "metadata": {},
          "execution_count": 16
        }
      ]
    },
    {
      "cell_type": "markdown",
      "metadata": {
        "id": "DE3Vs9oTQC7R"
      },
      "source": [
        "#### Word Tokenization"
      ]
    },
    {
      "cell_type": "code",
      "metadata": {
        "id": "yjJ95R43QC7R",
        "colab": {
          "base_uri": "https://localhost:8080/"
        },
        "outputId": "7175b575-9dea-4c14-92b1-002196ef8800"
      },
      "source": [
        "word_tokens = word_tokenize(sample_text.lower())\n",
        "print(word_tokens)"
      ],
      "execution_count": 17,
      "outputs": [
        {
          "output_type": "stream",
          "name": "stdout",
          "text": [
            "['this', 'is', 'pretty', 'cool', '.', 'a', 'good', 'quality', 'candy', 'might', 'cost', '$', '3.88', 'in', 'new', 'york', '.', 'but', 'i', 'do', \"n't\", 'think', 'we', 'buy', 'it', '.', 'mr.biden', 'said', '$', '1,000,000', '.', '2', 'cars', '.']\n"
          ]
        }
      ]
    },
    {
      "cell_type": "code",
      "source": [
        "\"I want to go to my hometown\".split()"
      ],
      "metadata": {
        "colab": {
          "base_uri": "https://localhost:8080/"
        },
        "id": "jzAb0xwAocct",
        "outputId": "1c1eb289-e79a-4f6d-bdc6-352a4ffcfbbf"
      },
      "execution_count": 18,
      "outputs": [
        {
          "output_type": "execute_result",
          "data": {
            "text/plain": [
              "['I', 'want', 'to', 'go', 'to', 'my', 'hometown']"
            ]
          },
          "metadata": {},
          "execution_count": 18
        }
      ]
    },
    {
      "cell_type": "code",
      "source": [
        "'@Ankara'.isalpha()"
      ],
      "metadata": {
        "colab": {
          "base_uri": "https://localhost:8080/"
        },
        "id": "wdwzy8FJpIY1",
        "outputId": "1b18a4af-e8fc-4cd7-b725-e238a769cba7"
      },
      "execution_count": 20,
      "outputs": [
        {
          "output_type": "execute_result",
          "data": {
            "text/plain": [
              "False"
            ]
          },
          "metadata": {},
          "execution_count": 20
        }
      ]
    },
    {
      "cell_type": "markdown",
      "metadata": {
        "id": "plKtrYtIQC7S"
      },
      "source": [
        "## Removing Punctuation and Numbers"
      ]
    },
    {
      "cell_type": "code",
      "metadata": {
        "id": "TOSGvA72QC7S",
        "colab": {
          "base_uri": "https://localhost:8080/"
        },
        "outputId": "ba6fbcad-89ab-4b72-edb2-c65020b81919"
      },
      "source": [
        "tokens_without_punc = [w for w in word_tokens if w.isalpha() or 'mr' in w] # .isalnum() for number and object # we are losing mr.biden\n",
        "print(tokens_without_punc)"
      ],
      "execution_count": 23,
      "outputs": [
        {
          "output_type": "stream",
          "name": "stdout",
          "text": [
            "['this', 'is', 'pretty', 'cool', 'a', 'good', 'quality', 'candy', 'might', 'cost', 'in', 'new', 'york', 'but', 'i', 'do', 'think', 'we', 'buy', 'it', 'mr.biden', 'said', 'cars']\n"
          ]
        }
      ]
    },
    {
      "cell_type": "markdown",
      "metadata": {
        "id": "bqACGNxcQC7S"
      },
      "source": [
        "## Removing Stopwords"
      ]
    },
    {
      "cell_type": "code",
      "metadata": {
        "id": "J62SbXXRQC7S",
        "colab": {
          "base_uri": "https://localhost:8080/"
        },
        "outputId": "b59247d6-f879-4ee1-8a94-27f696fea547"
      },
      "source": [
        "nltk.download('stopwords')"
      ],
      "execution_count": 24,
      "outputs": [
        {
          "output_type": "stream",
          "name": "stdout",
          "text": [
            "[nltk_data] Downloading package stopwords to /root/nltk_data...\n",
            "[nltk_data]   Unzipping corpora/stopwords.zip.\n"
          ]
        },
        {
          "output_type": "execute_result",
          "data": {
            "text/plain": [
              "True"
            ]
          },
          "metadata": {},
          "execution_count": 24
        }
      ]
    },
    {
      "cell_type": "code",
      "metadata": {
        "id": "veA2ccj4QC7T"
      },
      "source": [
        "from nltk.corpus import stopwords"
      ],
      "execution_count": 25,
      "outputs": []
    },
    {
      "cell_type": "code",
      "metadata": {
        "id": "zg0P97lTQC7T",
        "colab": {
          "base_uri": "https://localhost:8080/"
        },
        "outputId": "dc511265-783f-41b2-cd44-cac90ff2e5c9"
      },
      "source": [
        "stop_words = stopwords.words(\"english\")\n",
        "print(stop_words)\n",
        "#print('len stop_words :', len(stop_words))"
      ],
      "execution_count": 28,
      "outputs": [
        {
          "output_type": "stream",
          "name": "stdout",
          "text": [
            "['i', 'me', 'my', 'myself', 'we', 'our', 'ours', 'ourselves', 'you', \"you're\", \"you've\", \"you'll\", \"you'd\", 'your', 'yours', 'yourself', 'yourselves', 'he', 'him', 'his', 'himself', 'she', \"she's\", 'her', 'hers', 'herself', 'it', \"it's\", 'its', 'itself', 'they', 'them', 'their', 'theirs', 'themselves', 'what', 'which', 'who', 'whom', 'this', 'that', \"that'll\", 'these', 'those', 'am', 'is', 'are', 'was', 'were', 'be', 'been', 'being', 'have', 'has', 'had', 'having', 'do', 'does', 'did', 'doing', 'a', 'an', 'the', 'and', 'but', 'if', 'or', 'because', 'as', 'until', 'while', 'of', 'at', 'by', 'for', 'with', 'about', 'against', 'between', 'into', 'through', 'during', 'before', 'after', 'above', 'below', 'to', 'from', 'up', 'down', 'in', 'out', 'on', 'off', 'over', 'under', 'again', 'further', 'then', 'once', 'here', 'there', 'when', 'where', 'why', 'how', 'all', 'any', 'both', 'each', 'few', 'more', 'most', 'other', 'some', 'such', 'no', 'nor', 'not', 'only', 'own', 'same', 'so', 'than', 'too', 'very', 's', 't', 'can', 'will', 'just', 'don', \"don't\", 'should', \"should've\", 'now', 'd', 'll', 'm', 'o', 're', 've', 'y', 'ain', 'aren', \"aren't\", 'couldn', \"couldn't\", 'didn', \"didn't\", 'doesn', \"doesn't\", 'hadn', \"hadn't\", 'hasn', \"hasn't\", 'haven', \"haven't\", 'isn', \"isn't\", 'ma', 'mightn', \"mightn't\", 'mustn', \"mustn't\", 'needn', \"needn't\", 'shan', \"shan't\", 'shouldn', \"shouldn't\", 'wasn', \"wasn't\", 'weren', \"weren't\", 'won', \"won't\", 'wouldn', \"wouldn't\"]\n"
          ]
        }
      ]
    },
    {
      "cell_type": "code",
      "metadata": {
        "id": "NNNf1NVCQC7T",
        "colab": {
          "base_uri": "https://localhost:8080/"
        },
        "outputId": "6748e29c-c1a9-44e7-e148-2661c2f5588a"
      },
      "source": [
        "words_to_exclude_from_stopwords = ['not', \"n't\", 'ain', 'aren', \"aren't\", 'couldn', \"couldn't\", 'didn', \"didn't\", 'doesn', \"doesn't\", \"don't\", 'hadn', \n",
        "                                   \"hadn't\", 'hasn', \"hasn't\", 'haven', \"haven't\", 'isn', \"isn't\", 'ma', 'mightn', \"mightn't\", 'mustn', \"mustn't\", \n",
        "                                   'needn', \"needn't\", 'shan', \"shan't\", 'shouldn', \"shouldn't\", 'wasn', \"wasn't\", 'weren', \"weren't\", 'won', \n",
        "                                   \"won't\", 'wouldn', \"wouldn't\"]\n",
        "\n",
        "new_stopwords = [w for w in stop_words if w not in words_to_exclude_from_stopwords]\n",
        "print('len new_stop_words :', len(new_stopwords))"
      ],
      "execution_count": 29,
      "outputs": [
        {
          "output_type": "stream",
          "name": "stdout",
          "text": [
            "len new_stop_words : 141\n"
          ]
        }
      ]
    },
    {
      "cell_type": "code",
      "metadata": {
        "id": "3DEv2JPfQC7U",
        "colab": {
          "base_uri": "https://localhost:8080/"
        },
        "outputId": "363440a4-2b20-4e4e-a184-ac0342ebd374"
      },
      "source": [
        "print(tokens_without_punc)"
      ],
      "execution_count": 30,
      "outputs": [
        {
          "output_type": "stream",
          "name": "stdout",
          "text": [
            "['this', 'is', 'pretty', 'cool', 'a', 'good', 'quality', 'candy', 'might', 'cost', 'in', 'new', 'york', 'but', 'i', 'do', 'think', 'we', 'buy', 'it', 'mr.biden', 'said', 'cars']\n"
          ]
        }
      ]
    },
    {
      "cell_type": "code",
      "metadata": {
        "id": "wdiRp-6nQC7U",
        "colab": {
          "base_uri": "https://localhost:8080/"
        },
        "outputId": "c3ece4e8-cfa0-4bcb-c9e9-17300b307705"
      },
      "source": [
        "token_without_sw = [t for t in tokens_without_punc if t not in new_stopwords] # stop_words\n",
        "print(token_without_sw)"
      ],
      "execution_count": 31,
      "outputs": [
        {
          "output_type": "stream",
          "name": "stdout",
          "text": [
            "['pretty', 'cool', 'good', 'quality', 'candy', 'might', 'cost', 'new', 'york', 'think', 'buy', 'mr.biden', 'said', 'cars']\n"
          ]
        }
      ]
    },
    {
      "cell_type": "code",
      "source": [
        "word_tokenize(\"Ankara'ya gezmeye gittim.\")"
      ],
      "metadata": {
        "colab": {
          "base_uri": "https://localhost:8080/"
        },
        "id": "l-GY0DjWsbf4",
        "outputId": "9249ea25-945e-404d-86eb-64d40920b878"
      },
      "execution_count": 32,
      "outputs": [
        {
          "output_type": "execute_result",
          "data": {
            "text/plain": [
              "[\"Ankara'ya\", 'gezmeye', 'gittim', '.']"
            ]
          },
          "metadata": {},
          "execution_count": 32
        }
      ]
    },
    {
      "cell_type": "code",
      "source": [
        "# tr_stop_words = stopwords.words(\"turkish\")\n",
        "# tr_stop_words"
      ],
      "metadata": {
        "id": "w3kneub4soRj"
      },
      "execution_count": 34,
      "outputs": []
    },
    {
      "cell_type": "markdown",
      "metadata": {
        "id": "DoKQ-SVtQC7U"
      },
      "source": [
        "## Lemmatization"
      ]
    },
    {
      "cell_type": "code",
      "metadata": {
        "id": "LGNumQbXQC7U"
      },
      "source": [
        "from nltk.stem import WordNetLemmatizer"
      ],
      "execution_count": 35,
      "outputs": []
    },
    {
      "cell_type": "code",
      "metadata": {
        "id": "m4l4HUxCQC7U",
        "colab": {
          "base_uri": "https://localhost:8080/"
        },
        "outputId": "b635b2bd-db51-47dc-dd89-a647ae0730b3"
      },
      "source": [
        "nltk.download('wordnet')"
      ],
      "execution_count": 36,
      "outputs": [
        {
          "output_type": "stream",
          "name": "stdout",
          "text": [
            "[nltk_data] Downloading package wordnet to /root/nltk_data...\n",
            "[nltk_data]   Unzipping corpora/wordnet.zip.\n"
          ]
        },
        {
          "output_type": "execute_result",
          "data": {
            "text/plain": [
              "True"
            ]
          },
          "metadata": {},
          "execution_count": 36
        }
      ]
    },
    {
      "cell_type": "code",
      "metadata": {
        "id": "VWhaNmCVQC7V",
        "colab": {
          "base_uri": "https://localhost:8080/",
          "height": 35
        },
        "outputId": "f3f14628-1d96-4172-bb15-e81bcfa4f0d2"
      },
      "source": [
        "WordNetLemmatizer().lemmatize(\"driving\")\n",
        "WordNetLemmatizer().lemmatize(\"driver\")\n",
        "WordNetLemmatizer().lemmatize(\"drivers\")\n",
        "WordNetLemmatizer().lemmatize(\"drives\")\n",
        "WordNetLemmatizer().lemmatize(\"drove\")"
      ],
      "execution_count": 39,
      "outputs": [
        {
          "output_type": "execute_result",
          "data": {
            "text/plain": [
              "'driving'"
            ],
            "application/vnd.google.colaboratory.intrinsic+json": {
              "type": "string"
            }
          },
          "metadata": {},
          "execution_count": 39
        },
        {
          "output_type": "execute_result",
          "data": {
            "text/plain": [
              "'driver'"
            ],
            "application/vnd.google.colaboratory.intrinsic+json": {
              "type": "string"
            }
          },
          "metadata": {},
          "execution_count": 39
        },
        {
          "output_type": "execute_result",
          "data": {
            "text/plain": [
              "'driver'"
            ],
            "application/vnd.google.colaboratory.intrinsic+json": {
              "type": "string"
            }
          },
          "metadata": {},
          "execution_count": 39
        },
        {
          "output_type": "execute_result",
          "data": {
            "text/plain": [
              "'drive'"
            ],
            "application/vnd.google.colaboratory.intrinsic+json": {
              "type": "string"
            }
          },
          "metadata": {},
          "execution_count": 39
        },
        {
          "output_type": "execute_result",
          "data": {
            "text/plain": [
              "'drove'"
            ],
            "application/vnd.google.colaboratory.intrinsic+json": {
              "type": "string"
            }
          },
          "metadata": {},
          "execution_count": 39
        }
      ]
    },
    {
      "cell_type": "code",
      "metadata": {
        "id": "ARIUDYl5QC7V",
        "colab": {
          "base_uri": "https://localhost:8080/"
        },
        "outputId": "735d2f90-707d-423a-b425-e1dedbc99b11"
      },
      "source": [
        "lem = [WordNetLemmatizer().lemmatize(t) for t in token_without_sw]\n",
        "print(token_without_sw)\n",
        "print(lem)"
      ],
      "execution_count": 41,
      "outputs": [
        {
          "output_type": "stream",
          "name": "stdout",
          "text": [
            "['pretty', 'cool', 'good', 'quality', 'candy', 'might', 'cost', 'new', 'york', 'think', 'buy', 'mr.biden', 'said', 'cars']\n",
            "['pretty', 'cool', 'good', 'quality', 'candy', 'might', 'cost', 'new', 'york', 'think', 'buy', 'mr.biden', 'said', 'car']\n"
          ]
        }
      ]
    },
    {
      "cell_type": "markdown",
      "metadata": {
        "id": "6bgiG6R2QC7V"
      },
      "source": [
        "## Stemming"
      ]
    },
    {
      "cell_type": "code",
      "metadata": {
        "id": "UcXozBsEQC7V"
      },
      "source": [
        "from nltk.stem import PorterStemmer"
      ],
      "execution_count": 42,
      "outputs": []
    },
    {
      "cell_type": "code",
      "metadata": {
        "id": "27HrHpbzQC7V",
        "colab": {
          "base_uri": "https://localhost:8080/",
          "height": 35
        },
        "outputId": "e6f35363-2e66-493b-a36d-b7939b7a5470"
      },
      "source": [
        "PorterStemmer().stem(\"driving\")\n",
        "PorterStemmer().stem(\"driver\")\n",
        "PorterStemmer().stem(\"drives\")\n",
        "PorterStemmer().stem(\"drove\")"
      ],
      "execution_count": 44,
      "outputs": [
        {
          "output_type": "execute_result",
          "data": {
            "text/plain": [
              "'drive'"
            ],
            "application/vnd.google.colaboratory.intrinsic+json": {
              "type": "string"
            }
          },
          "metadata": {},
          "execution_count": 44
        },
        {
          "output_type": "execute_result",
          "data": {
            "text/plain": [
              "'driver'"
            ],
            "application/vnd.google.colaboratory.intrinsic+json": {
              "type": "string"
            }
          },
          "metadata": {},
          "execution_count": 44
        },
        {
          "output_type": "execute_result",
          "data": {
            "text/plain": [
              "'drive'"
            ],
            "application/vnd.google.colaboratory.intrinsic+json": {
              "type": "string"
            }
          },
          "metadata": {},
          "execution_count": 44
        },
        {
          "output_type": "execute_result",
          "data": {
            "text/plain": [
              "'drove'"
            ],
            "application/vnd.google.colaboratory.intrinsic+json": {
              "type": "string"
            }
          },
          "metadata": {},
          "execution_count": 44
        }
      ]
    },
    {
      "cell_type": "code",
      "metadata": {
        "id": "2pwsWQW-QC7V",
        "colab": {
          "base_uri": "https://localhost:8080/"
        },
        "outputId": "812722b0-2017-4b10-9f70-0c0a61a6421e"
      },
      "source": [
        "stem = [PorterStemmer().stem(t) for t in token_without_sw]\n",
        "print('w/o norm :', token_without_sw)\n",
        "print('stem     :', stem)\n",
        "print('lemma    :', lem)"
      ],
      "execution_count": 46,
      "outputs": [
        {
          "output_type": "stream",
          "name": "stdout",
          "text": [
            "w/o norm : ['pretty', 'cool', 'good', 'quality', 'candy', 'might', 'cost', 'new', 'york', 'think', 'buy', 'mr.biden', 'said', 'cars']\n",
            "stem     : ['pretti', 'cool', 'good', 'qualiti', 'candi', 'might', 'cost', 'new', 'york', 'think', 'buy', 'mr.biden', 'said', 'car']\n",
            "lemma    : ['pretty', 'cool', 'good', 'quality', 'candy', 'might', 'cost', 'new', 'york', 'think', 'buy', 'mr.biden', 'said', 'car']\n"
          ]
        }
      ]
    },
    {
      "cell_type": "code",
      "metadata": {
        "id": "A40zGBvEQC7W"
      },
      "source": [
        ""
      ],
      "execution_count": null,
      "outputs": []
    },
    {
      "cell_type": "markdown",
      "metadata": {
        "id": "JY3VjHdeQC7W"
      },
      "source": [
        "## Joining"
      ]
    },
    {
      "cell_type": "code",
      "metadata": {
        "id": "4fG6UucjQC7W",
        "colab": {
          "base_uri": "https://localhost:8080/",
          "height": 35
        },
        "outputId": "5d808558-1823-4caf-f3c4-dcfd5a798704"
      },
      "source": [
        "\" \".join(lem)"
      ],
      "execution_count": 47,
      "outputs": [
        {
          "output_type": "execute_result",
          "data": {
            "text/plain": [
              "'pretty cool good quality candy might cost new york think buy mr.biden said car'"
            ],
            "application/vnd.google.colaboratory.intrinsic+json": {
              "type": "string"
            }
          },
          "metadata": {},
          "execution_count": 47
        }
      ]
    },
    {
      "cell_type": "markdown",
      "metadata": {
        "id": "Q-7LnA8vQC7W"
      },
      "source": [
        "### Expanding Contractions"
      ]
    },
    {
      "cell_type": "code",
      "source": [
        "contractions.fix(\"I won't be there\")"
      ],
      "metadata": {
        "colab": {
          "base_uri": "https://localhost:8080/",
          "height": 35
        },
        "id": "kxGjEYJpyIqN",
        "outputId": "91c17f7f-668e-489f-e587-c755c43333f9"
      },
      "execution_count": 48,
      "outputs": [
        {
          "output_type": "execute_result",
          "data": {
            "text/plain": [
              "'I will not be there'"
            ],
            "application/vnd.google.colaboratory.intrinsic+json": {
              "type": "string"
            }
          },
          "metadata": {},
          "execution_count": 48
        }
      ]
    },
    {
      "cell_type": "code",
      "metadata": {
        "id": "3P2YfqIBQC7W",
        "colab": {
          "base_uri": "https://localhost:8080/"
        },
        "outputId": "e959935c-c8ee-4457-a49e-7c46aa56355b"
      },
      "source": [
        "my_text  = word_tokenize(contractions.fix(sample_text))\n",
        "print(sample_text)\n",
        "print(my_text)"
      ],
      "execution_count": 52,
      "outputs": [
        {
          "output_type": "stream",
          "name": "stdout",
          "text": [
            "This is pretty cool. A good quality candy might cost $3.88 in New York. \n",
            "                But I don't think we buy it. Mr.Biden said $1,000,000. 2 cars.\n",
            "['This', 'is', 'pretty', 'cool', '.', 'A', 'good', 'quality', 'candy', 'might', 'cost', '$', '3.88', 'in', 'New', 'York', '.', 'But', 'I', 'do', 'not', 'think', 'we', 'buy', 'it', '.', 'Mr.Biden', 'said', '$', '1,000,000', '.', '2', 'cars', '.']\n"
          ]
        }
      ]
    },
    {
      "cell_type": "markdown",
      "metadata": {
        "id": "8Nqhpu1ZqjNG"
      },
      "source": [
        "### Part of Speech Tag\n"
      ]
    },
    {
      "cell_type": "code",
      "metadata": {
        "id": "iDQZCmChrXyO",
        "colab": {
          "base_uri": "https://localhost:8080/"
        },
        "outputId": "01edcf2c-542a-45d6-baf8-979d733800ff"
      },
      "source": [
        "nltk.download('averaged_perceptron_tagger')"
      ],
      "execution_count": 53,
      "outputs": [
        {
          "output_type": "stream",
          "name": "stdout",
          "text": [
            "[nltk_data] Downloading package averaged_perceptron_tagger to\n",
            "[nltk_data]     /root/nltk_data...\n",
            "[nltk_data]   Unzipping taggers/averaged_perceptron_tagger.zip.\n"
          ]
        },
        {
          "output_type": "execute_result",
          "data": {
            "text/plain": [
              "True"
            ]
          },
          "metadata": {},
          "execution_count": 53
        }
      ]
    },
    {
      "cell_type": "code",
      "metadata": {
        "id": "2aLbZVnHqpwr"
      },
      "source": [
        "from nltk import pos_tag"
      ],
      "execution_count": 54,
      "outputs": []
    },
    {
      "cell_type": "code",
      "metadata": {
        "id": "Ha_24Xn4qvhq"
      },
      "source": [
        "text = \"\"\"Steven Paul Jobs was an American business magnate, industrial designer, investor, and media proprietor. \n",
        "He was the chairman, chief executive officer (CEO), and co-founder of Apple Inc.; the chairman and majority shareholder of Pixar; \n",
        "a member of The Walt Disney Company's board of directors following its acquisition of Pixar; and the founder, chairman, and CEO of NeXT.\"\"\""
      ],
      "execution_count": 55,
      "outputs": []
    },
    {
      "cell_type": "code",
      "metadata": {
        "id": "wCR_drlTrJM2",
        "colab": {
          "base_uri": "https://localhost:8080/"
        },
        "outputId": "92a15a1e-ab0d-46f4-8318-467d539570dd"
      },
      "source": [
        "tokens = word_tokenize(text)\n",
        "pos = pos_tag(tokens)\n",
        "pos"
      ],
      "execution_count": 58,
      "outputs": [
        {
          "output_type": "execute_result",
          "data": {
            "text/plain": [
              "[('Steven', 'NNP'),\n",
              " ('Paul', 'NNP'),\n",
              " ('Jobs', 'NNP'),\n",
              " ('was', 'VBD'),\n",
              " ('an', 'DT'),\n",
              " ('American', 'JJ'),\n",
              " ('business', 'NN'),\n",
              " ('magnate', 'NN'),\n",
              " (',', ','),\n",
              " ('industrial', 'JJ'),\n",
              " ('designer', 'NN'),\n",
              " (',', ','),\n",
              " ('investor', 'NN'),\n",
              " (',', ','),\n",
              " ('and', 'CC'),\n",
              " ('media', 'NNS'),\n",
              " ('proprietor', 'NN'),\n",
              " ('.', '.'),\n",
              " ('He', 'PRP'),\n",
              " ('was', 'VBD'),\n",
              " ('the', 'DT'),\n",
              " ('chairman', 'NN'),\n",
              " (',', ','),\n",
              " ('chief', 'JJ'),\n",
              " ('executive', 'NN'),\n",
              " ('officer', 'NN'),\n",
              " ('(', '('),\n",
              " ('CEO', 'NNP'),\n",
              " (')', ')'),\n",
              " (',', ','),\n",
              " ('and', 'CC'),\n",
              " ('co-founder', 'NN'),\n",
              " ('of', 'IN'),\n",
              " ('Apple', 'NNP'),\n",
              " ('Inc.', 'NNP'),\n",
              " (';', ':'),\n",
              " ('the', 'DT'),\n",
              " ('chairman', 'NN'),\n",
              " ('and', 'CC'),\n",
              " ('majority', 'NN'),\n",
              " ('shareholder', 'NN'),\n",
              " ('of', 'IN'),\n",
              " ('Pixar', 'NNP'),\n",
              " (';', ':'),\n",
              " ('a', 'DT'),\n",
              " ('member', 'NN'),\n",
              " ('of', 'IN'),\n",
              " ('The', 'DT'),\n",
              " ('Walt', 'NNP'),\n",
              " ('Disney', 'NNP'),\n",
              " ('Company', 'NNP'),\n",
              " (\"'s\", 'POS'),\n",
              " ('board', 'NN'),\n",
              " ('of', 'IN'),\n",
              " ('directors', 'NNS'),\n",
              " ('following', 'VBG'),\n",
              " ('its', 'PRP$'),\n",
              " ('acquisition', 'NN'),\n",
              " ('of', 'IN'),\n",
              " ('Pixar', 'NNP'),\n",
              " (';', ':'),\n",
              " ('and', 'CC'),\n",
              " ('the', 'DT'),\n",
              " ('founder', 'NN'),\n",
              " (',', ','),\n",
              " ('chairman', 'NN'),\n",
              " (',', ','),\n",
              " ('and', 'CC'),\n",
              " ('CEO', 'NNP'),\n",
              " ('of', 'IN'),\n",
              " ('NeXT', 'NNP'),\n",
              " ('.', '.')]"
            ]
          },
          "metadata": {},
          "execution_count": 58
        }
      ]
    },
    {
      "cell_type": "markdown",
      "metadata": {
        "id": "Ko_b0xHlqXk0"
      },
      "source": [
        "### NER"
      ]
    },
    {
      "cell_type": "code",
      "metadata": {
        "id": "DPLpyNNetTxA",
        "colab": {
          "base_uri": "https://localhost:8080/"
        },
        "outputId": "60610928-a741-47eb-b75b-d2fdb4f73051"
      },
      "source": [
        "nltk.download('maxent_ne_chunker')\n",
        "nltk.download('words')"
      ],
      "execution_count": 59,
      "outputs": [
        {
          "output_type": "stream",
          "name": "stdout",
          "text": [
            "[nltk_data] Downloading package maxent_ne_chunker to\n",
            "[nltk_data]     /root/nltk_data...\n",
            "[nltk_data]   Unzipping chunkers/maxent_ne_chunker.zip.\n"
          ]
        },
        {
          "output_type": "execute_result",
          "data": {
            "text/plain": [
              "True"
            ]
          },
          "metadata": {},
          "execution_count": 59
        },
        {
          "output_type": "stream",
          "name": "stdout",
          "text": [
            "[nltk_data] Downloading package words to /root/nltk_data...\n",
            "[nltk_data]   Unzipping corpora/words.zip.\n"
          ]
        },
        {
          "output_type": "execute_result",
          "data": {
            "text/plain": [
              "True"
            ]
          },
          "metadata": {},
          "execution_count": 59
        }
      ]
    },
    {
      "cell_type": "code",
      "metadata": {
        "id": "0JY5oaVPqc-9"
      },
      "source": [
        "from nltk import ne_chunk"
      ],
      "execution_count": 60,
      "outputs": []
    },
    {
      "cell_type": "code",
      "metadata": {
        "id": "jZ6qnCuwtMkq",
        "colab": {
          "base_uri": "https://localhost:8080/"
        },
        "outputId": "7ca98b39-15f3-4397-f6d5-886d150660e6"
      },
      "source": [
        "# import matplotlib as mpl\n",
        "# import os\n",
        "\n",
        "print(text, '\\n')\n",
        "for chunk in nltk.ne_chunk(pos):\n",
        "      if hasattr(chunk, 'label'):\n",
        "        print(chunk.label(), ' '.join(c[0] for c in chunk))"
      ],
      "execution_count": 61,
      "outputs": [
        {
          "output_type": "stream",
          "name": "stdout",
          "text": [
            "Steven Paul Jobs was an American business magnate, industrial designer, investor, and media proprietor. \n",
            "He was the chairman, chief executive officer (CEO), and co-founder of Apple Inc.; the chairman and majority shareholder of Pixar; \n",
            "a member of The Walt Disney Company's board of directors following its acquisition of Pixar; and the founder, chairman, and CEO of NeXT. \n",
            "\n",
            "PERSON Steven\n",
            "PERSON Paul Jobs\n",
            "GPE American\n",
            "ORGANIZATION CEO\n",
            "ORGANIZATION Apple Inc.\n",
            "GPE Pixar\n",
            "ORGANIZATION Walt Disney Company\n",
            "GPE Pixar\n",
            "ORGANIZATION CEO\n",
            "ORGANIZATION NeXT\n"
          ]
        }
      ]
    },
    {
      "cell_type": "markdown",
      "metadata": {
        "id": "Fhd7AxIvQC7X"
      },
      "source": [
        "## Cleaning Function"
      ]
    },
    {
      "cell_type": "code",
      "metadata": {
        "id": "o6OrzWV8nIdZ",
        "colab": {
          "base_uri": "https://localhost:8080/",
          "height": 35
        },
        "outputId": "516a676a-56e1-45fc-d4d0-92669de57789"
      },
      "source": [
        "\"I don't want to fly with your company.\".replace(\"'\", \"\")"
      ],
      "execution_count": 63,
      "outputs": [
        {
          "output_type": "execute_result",
          "data": {
            "text/plain": [
              "'I dont want to fly with your company.'"
            ],
            "application/vnd.google.colaboratory.intrinsic+json": {
              "type": "string"
            }
          },
          "metadata": {},
          "execution_count": 63
        }
      ]
    },
    {
      "cell_type": "code",
      "metadata": {
        "id": "kQcS0m0_mdTt"
      },
      "source": [
        "def cleaning(data):\n",
        "    \n",
        "    #1. Contractions Expension & Tokenize\n",
        "    #text_tokens = word_tokenize(contractions.fix(data.lower())) \n",
        "    text_tokens = word_tokenize(data.replace(\"'\", '').lower())\n",
        "    \n",
        "    #2. Remove Puncs\n",
        "    tokens_without_punc = [w for w in text_tokens if w.isalpha()]\n",
        "    \n",
        "    #3. Removing Stopwords\n",
        "    tokens_without_sw = [t for t in tokens_without_punc if t not in stop_words]\n",
        "    \n",
        "    #4. lemma\n",
        "    text_cleaned = [WordNetLemmatizer().lemmatize(t) for t in tokens_without_sw]\n",
        "    \n",
        "    #joining\n",
        "    return \" \".join(text_cleaned)"
      ],
      "execution_count": 64,
      "outputs": []
    },
    {
      "cell_type": "markdown",
      "metadata": {
        "id": "8fadu17EQC7X"
      },
      "source": [
        "## CountVectorization and TF-IDF Vectorization"
      ]
    },
    {
      "cell_type": "markdown",
      "metadata": {
        "id": "e18FSxq4TuQJ"
      },
      "source": [
        "#### Data\n",
        "🔑 Source: https://www.kaggle.com/crowdflower/twitter-airline-sentiment?select=Tweets.csv"
      ]
    },
    {
      "cell_type": "code",
      "metadata": {
        "colab": {
          "base_uri": "https://localhost:8080/"
        },
        "id": "Sv7bi6bHQvDe",
        "outputId": "8c38d1f4-0b4d-4392-99b7-5591da4dba88"
      },
      "source": [
        "# For Colab\n",
        "from google.colab import drive\n",
        "drive.mount('/content/gdrive')"
      ],
      "execution_count": 65,
      "outputs": [
        {
          "output_type": "stream",
          "name": "stdout",
          "text": [
            "Mounted at /content/gdrive\n"
          ]
        }
      ]
    },
    {
      "cell_type": "code",
      "metadata": {
        "id": "eqImA_4OQC7X"
      },
      "source": [
        "import pandas as pd\n",
        "df = pd.read_csv('/content/gdrive/MyDrive/Colab Notebooks/Clarusway_NLP/Clarusway/clarusway-ds-students-7-21-main/3- Classes_Labs/NLP/NLP-1/airline_tweets.csv')\n",
        "#df = pd.read_csv(\"airline_tweets.csv\")"
      ],
      "execution_count": 66,
      "outputs": []
    },
    {
      "cell_type": "code",
      "metadata": {
        "id": "0nQnCr5TQC7Y",
        "colab": {
          "base_uri": "https://localhost:8080/",
          "height": 687
        },
        "outputId": "91f5474f-9cec-487f-d7aa-a2539a0ded1f"
      },
      "source": [
        "df.head()"
      ],
      "execution_count": 67,
      "outputs": [
        {
          "output_type": "execute_result",
          "data": {
            "text/plain": [
              "             tweet_id airline_sentiment  airline_sentiment_confidence  \\\n",
              "0  570306133677760513           neutral                        1.0000   \n",
              "1  570301130888122368          positive                        0.3486   \n",
              "2  570301083672813571           neutral                        0.6837   \n",
              "3  570301031407624196          negative                        1.0000   \n",
              "4  570300817074462722          negative                        1.0000   \n",
              "\n",
              "  negativereason  negativereason_confidence         airline  \\\n",
              "0            NaN                        NaN  Virgin America   \n",
              "1            NaN                     0.0000  Virgin America   \n",
              "2            NaN                        NaN  Virgin America   \n",
              "3     Bad Flight                     0.7033  Virgin America   \n",
              "4     Can't Tell                     1.0000  Virgin America   \n",
              "\n",
              "  airline_sentiment_gold        name negativereason_gold  retweet_count  \\\n",
              "0                    NaN     cairdin                 NaN              0   \n",
              "1                    NaN    jnardino                 NaN              0   \n",
              "2                    NaN  yvonnalynn                 NaN              0   \n",
              "3                    NaN    jnardino                 NaN              0   \n",
              "4                    NaN    jnardino                 NaN              0   \n",
              "\n",
              "                                                                                                                             text  \\\n",
              "0                                                                                             @VirginAmerica What @dhepburn said.   \n",
              "1                                                        @VirginAmerica plus you've added commercials to the experience... tacky.   \n",
              "2                                                         @VirginAmerica I didn't today... Must mean I need to take another trip!   \n",
              "3  @VirginAmerica it's really aggressive to blast obnoxious \"entertainment\" in your guests' faces &amp; they have little recourse   \n",
              "4                                                                         @VirginAmerica and it's a really big bad thing about it   \n",
              "\n",
              "  tweet_coord              tweet_created tweet_location  \\\n",
              "0         NaN  2015-02-24 11:35:52 -0800            NaN   \n",
              "1         NaN  2015-02-24 11:15:59 -0800            NaN   \n",
              "2         NaN  2015-02-24 11:15:48 -0800      Lets Play   \n",
              "3         NaN  2015-02-24 11:15:36 -0800            NaN   \n",
              "4         NaN  2015-02-24 11:14:45 -0800            NaN   \n",
              "\n",
              "                user_timezone  \n",
              "0  Eastern Time (US & Canada)  \n",
              "1  Pacific Time (US & Canada)  \n",
              "2  Central Time (US & Canada)  \n",
              "3  Pacific Time (US & Canada)  \n",
              "4  Pacific Time (US & Canada)  "
            ],
            "text/html": [
              "\n",
              "  <div id=\"df-4055c21a-0f3c-46c1-be15-ddb904ba33cb\">\n",
              "    <div class=\"colab-df-container\">\n",
              "      <div>\n",
              "<style scoped>\n",
              "    .dataframe tbody tr th:only-of-type {\n",
              "        vertical-align: middle;\n",
              "    }\n",
              "\n",
              "    .dataframe tbody tr th {\n",
              "        vertical-align: top;\n",
              "    }\n",
              "\n",
              "    .dataframe thead th {\n",
              "        text-align: right;\n",
              "    }\n",
              "</style>\n",
              "<table border=\"1\" class=\"dataframe\">\n",
              "  <thead>\n",
              "    <tr style=\"text-align: right;\">\n",
              "      <th></th>\n",
              "      <th>tweet_id</th>\n",
              "      <th>airline_sentiment</th>\n",
              "      <th>airline_sentiment_confidence</th>\n",
              "      <th>negativereason</th>\n",
              "      <th>negativereason_confidence</th>\n",
              "      <th>airline</th>\n",
              "      <th>airline_sentiment_gold</th>\n",
              "      <th>name</th>\n",
              "      <th>negativereason_gold</th>\n",
              "      <th>retweet_count</th>\n",
              "      <th>text</th>\n",
              "      <th>tweet_coord</th>\n",
              "      <th>tweet_created</th>\n",
              "      <th>tweet_location</th>\n",
              "      <th>user_timezone</th>\n",
              "    </tr>\n",
              "  </thead>\n",
              "  <tbody>\n",
              "    <tr>\n",
              "      <th>0</th>\n",
              "      <td>570306133677760513</td>\n",
              "      <td>neutral</td>\n",
              "      <td>1.0000</td>\n",
              "      <td>NaN</td>\n",
              "      <td>NaN</td>\n",
              "      <td>Virgin America</td>\n",
              "      <td>NaN</td>\n",
              "      <td>cairdin</td>\n",
              "      <td>NaN</td>\n",
              "      <td>0</td>\n",
              "      <td>@VirginAmerica What @dhepburn said.</td>\n",
              "      <td>NaN</td>\n",
              "      <td>2015-02-24 11:35:52 -0800</td>\n",
              "      <td>NaN</td>\n",
              "      <td>Eastern Time (US &amp; Canada)</td>\n",
              "    </tr>\n",
              "    <tr>\n",
              "      <th>1</th>\n",
              "      <td>570301130888122368</td>\n",
              "      <td>positive</td>\n",
              "      <td>0.3486</td>\n",
              "      <td>NaN</td>\n",
              "      <td>0.0000</td>\n",
              "      <td>Virgin America</td>\n",
              "      <td>NaN</td>\n",
              "      <td>jnardino</td>\n",
              "      <td>NaN</td>\n",
              "      <td>0</td>\n",
              "      <td>@VirginAmerica plus you've added commercials to the experience... tacky.</td>\n",
              "      <td>NaN</td>\n",
              "      <td>2015-02-24 11:15:59 -0800</td>\n",
              "      <td>NaN</td>\n",
              "      <td>Pacific Time (US &amp; Canada)</td>\n",
              "    </tr>\n",
              "    <tr>\n",
              "      <th>2</th>\n",
              "      <td>570301083672813571</td>\n",
              "      <td>neutral</td>\n",
              "      <td>0.6837</td>\n",
              "      <td>NaN</td>\n",
              "      <td>NaN</td>\n",
              "      <td>Virgin America</td>\n",
              "      <td>NaN</td>\n",
              "      <td>yvonnalynn</td>\n",
              "      <td>NaN</td>\n",
              "      <td>0</td>\n",
              "      <td>@VirginAmerica I didn't today... Must mean I need to take another trip!</td>\n",
              "      <td>NaN</td>\n",
              "      <td>2015-02-24 11:15:48 -0800</td>\n",
              "      <td>Lets Play</td>\n",
              "      <td>Central Time (US &amp; Canada)</td>\n",
              "    </tr>\n",
              "    <tr>\n",
              "      <th>3</th>\n",
              "      <td>570301031407624196</td>\n",
              "      <td>negative</td>\n",
              "      <td>1.0000</td>\n",
              "      <td>Bad Flight</td>\n",
              "      <td>0.7033</td>\n",
              "      <td>Virgin America</td>\n",
              "      <td>NaN</td>\n",
              "      <td>jnardino</td>\n",
              "      <td>NaN</td>\n",
              "      <td>0</td>\n",
              "      <td>@VirginAmerica it's really aggressive to blast obnoxious \"entertainment\" in your guests' faces &amp;amp; they have little recourse</td>\n",
              "      <td>NaN</td>\n",
              "      <td>2015-02-24 11:15:36 -0800</td>\n",
              "      <td>NaN</td>\n",
              "      <td>Pacific Time (US &amp; Canada)</td>\n",
              "    </tr>\n",
              "    <tr>\n",
              "      <th>4</th>\n",
              "      <td>570300817074462722</td>\n",
              "      <td>negative</td>\n",
              "      <td>1.0000</td>\n",
              "      <td>Can't Tell</td>\n",
              "      <td>1.0000</td>\n",
              "      <td>Virgin America</td>\n",
              "      <td>NaN</td>\n",
              "      <td>jnardino</td>\n",
              "      <td>NaN</td>\n",
              "      <td>0</td>\n",
              "      <td>@VirginAmerica and it's a really big bad thing about it</td>\n",
              "      <td>NaN</td>\n",
              "      <td>2015-02-24 11:14:45 -0800</td>\n",
              "      <td>NaN</td>\n",
              "      <td>Pacific Time (US &amp; Canada)</td>\n",
              "    </tr>\n",
              "  </tbody>\n",
              "</table>\n",
              "</div>\n",
              "      <button class=\"colab-df-convert\" onclick=\"convertToInteractive('df-4055c21a-0f3c-46c1-be15-ddb904ba33cb')\"\n",
              "              title=\"Convert this dataframe to an interactive table.\"\n",
              "              style=\"display:none;\">\n",
              "        \n",
              "  <svg xmlns=\"http://www.w3.org/2000/svg\" height=\"24px\"viewBox=\"0 0 24 24\"\n",
              "       width=\"24px\">\n",
              "    <path d=\"M0 0h24v24H0V0z\" fill=\"none\"/>\n",
              "    <path d=\"M18.56 5.44l.94 2.06.94-2.06 2.06-.94-2.06-.94-.94-2.06-.94 2.06-2.06.94zm-11 1L8.5 8.5l.94-2.06 2.06-.94-2.06-.94L8.5 2.5l-.94 2.06-2.06.94zm10 10l.94 2.06.94-2.06 2.06-.94-2.06-.94-.94-2.06-.94 2.06-2.06.94z\"/><path d=\"M17.41 7.96l-1.37-1.37c-.4-.4-.92-.59-1.43-.59-.52 0-1.04.2-1.43.59L10.3 9.45l-7.72 7.72c-.78.78-.78 2.05 0 2.83L4 21.41c.39.39.9.59 1.41.59.51 0 1.02-.2 1.41-.59l7.78-7.78 2.81-2.81c.8-.78.8-2.07 0-2.86zM5.41 20L4 18.59l7.72-7.72 1.47 1.35L5.41 20z\"/>\n",
              "  </svg>\n",
              "      </button>\n",
              "      \n",
              "  <style>\n",
              "    .colab-df-container {\n",
              "      display:flex;\n",
              "      flex-wrap:wrap;\n",
              "      gap: 12px;\n",
              "    }\n",
              "\n",
              "    .colab-df-convert {\n",
              "      background-color: #E8F0FE;\n",
              "      border: none;\n",
              "      border-radius: 50%;\n",
              "      cursor: pointer;\n",
              "      display: none;\n",
              "      fill: #1967D2;\n",
              "      height: 32px;\n",
              "      padding: 0 0 0 0;\n",
              "      width: 32px;\n",
              "    }\n",
              "\n",
              "    .colab-df-convert:hover {\n",
              "      background-color: #E2EBFA;\n",
              "      box-shadow: 0px 1px 2px rgba(60, 64, 67, 0.3), 0px 1px 3px 1px rgba(60, 64, 67, 0.15);\n",
              "      fill: #174EA6;\n",
              "    }\n",
              "\n",
              "    [theme=dark] .colab-df-convert {\n",
              "      background-color: #3B4455;\n",
              "      fill: #D2E3FC;\n",
              "    }\n",
              "\n",
              "    [theme=dark] .colab-df-convert:hover {\n",
              "      background-color: #434B5C;\n",
              "      box-shadow: 0px 1px 3px 1px rgba(0, 0, 0, 0.15);\n",
              "      filter: drop-shadow(0px 1px 2px rgba(0, 0, 0, 0.3));\n",
              "      fill: #FFFFFF;\n",
              "    }\n",
              "  </style>\n",
              "\n",
              "      <script>\n",
              "        const buttonEl =\n",
              "          document.querySelector('#df-4055c21a-0f3c-46c1-be15-ddb904ba33cb button.colab-df-convert');\n",
              "        buttonEl.style.display =\n",
              "          google.colab.kernel.accessAllowed ? 'block' : 'none';\n",
              "\n",
              "        async function convertToInteractive(key) {\n",
              "          const element = document.querySelector('#df-4055c21a-0f3c-46c1-be15-ddb904ba33cb');\n",
              "          const dataTable =\n",
              "            await google.colab.kernel.invokeFunction('convertToInteractive',\n",
              "                                                     [key], {});\n",
              "          if (!dataTable) return;\n",
              "\n",
              "          const docLinkHtml = 'Like what you see? Visit the ' +\n",
              "            '<a target=\"_blank\" href=https://colab.research.google.com/notebooks/data_table.ipynb>data table notebook</a>'\n",
              "            + ' to learn more about interactive tables.';\n",
              "          element.innerHTML = '';\n",
              "          dataTable['output_type'] = 'display_data';\n",
              "          await google.colab.output.renderOutput(dataTable, element);\n",
              "          const docLink = document.createElement('div');\n",
              "          docLink.innerHTML = docLinkHtml;\n",
              "          element.appendChild(docLink);\n",
              "        }\n",
              "      </script>\n",
              "    </div>\n",
              "  </div>\n",
              "  "
            ]
          },
          "metadata": {},
          "execution_count": 67
        }
      ]
    },
    {
      "cell_type": "markdown",
      "source": [
        ""
      ],
      "metadata": {
        "id": "xqv5mKYa4nku"
      }
    },
    {
      "cell_type": "code",
      "metadata": {
        "id": "mOtx_XuLQC7Y",
        "colab": {
          "base_uri": "https://localhost:8080/"
        },
        "outputId": "30f41111-2ad5-4bef-90fa-5be351c0460c"
      },
      "source": [
        "df.info()"
      ],
      "execution_count": 68,
      "outputs": [
        {
          "output_type": "stream",
          "name": "stdout",
          "text": [
            "<class 'pandas.core.frame.DataFrame'>\n",
            "RangeIndex: 14640 entries, 0 to 14639\n",
            "Data columns (total 15 columns):\n",
            " #   Column                        Non-Null Count  Dtype  \n",
            "---  ------                        --------------  -----  \n",
            " 0   tweet_id                      14640 non-null  int64  \n",
            " 1   airline_sentiment             14640 non-null  object \n",
            " 2   airline_sentiment_confidence  14640 non-null  float64\n",
            " 3   negativereason                9178 non-null   object \n",
            " 4   negativereason_confidence     10522 non-null  float64\n",
            " 5   airline                       14640 non-null  object \n",
            " 6   airline_sentiment_gold        40 non-null     object \n",
            " 7   name                          14640 non-null  object \n",
            " 8   negativereason_gold           32 non-null     object \n",
            " 9   retweet_count                 14640 non-null  int64  \n",
            " 10  text                          14640 non-null  object \n",
            " 11  tweet_coord                   1019 non-null   object \n",
            " 12  tweet_created                 14640 non-null  object \n",
            " 13  tweet_location                9907 non-null   object \n",
            " 14  user_timezone                 9820 non-null   object \n",
            "dtypes: float64(2), int64(2), object(11)\n",
            "memory usage: 1.7+ MB\n"
          ]
        }
      ]
    },
    {
      "cell_type": "code",
      "metadata": {
        "id": "2fw_lCtJQC7Y",
        "colab": {
          "base_uri": "https://localhost:8080/",
          "height": 676
        },
        "outputId": "f344d16b-8dc2-4c61-bc0f-b80dc697c1aa"
      },
      "source": [
        "df = df[['airline_sentiment','text']]\n",
        "df.rename(columns={'airline_sentiment':'sentiment'}, inplace=True)\n",
        "df.sample(20)"
      ],
      "execution_count": 69,
      "outputs": [
        {
          "output_type": "execute_result",
          "data": {
            "text/plain": [
              "      sentiment  \\\n",
              "13676  negative   \n",
              "12710  positive   \n",
              "6976    neutral   \n",
              "8444   positive   \n",
              "10543  negative   \n",
              "4870    neutral   \n",
              "529    negative   \n",
              "7573   positive   \n",
              "8783   positive   \n",
              "588    negative   \n",
              "1917   negative   \n",
              "13239  negative   \n",
              "13569  negative   \n",
              "6050   positive   \n",
              "10708  negative   \n",
              "8180   negative   \n",
              "2482   positive   \n",
              "6639    neutral   \n",
              "9202    neutral   \n",
              "4431   negative   \n",
              "\n",
              "                                                                                                                                                           text  \n",
              "13676        @AmericanAir my mom’s flight tomorrow Cancelled Flighted w/ no notice. Phone system said callback in 2 hours and it’s been 4. I need to go to bed!  \n",
              "12710                 @AmericanAir thanks.  I actually made it, my connection flight was delayed.  Guess all delays are not a bad thing. http://t.co/XGgCNTco8m  \n",
              "6976                                                                                                                                          @JetBlue two rows  \n",
              "8444                                                       Hey @JetBlue, that's a sexy tattoo you got there on your left engine. #Jetbae http://t.co/Ox4w6KtsGI  \n",
              "10543              @USAirways the American Eagle plane you're using for CLT to RDU is disgusting! You should be ashamed! #disgusting #ew http://t.co/B4xhiRuGzV  \n",
              "4870                                                                                                               @SouthwestAir yes please.my son lives in NJ.  \n",
              "529                             @united beginning of Feb I called United they said they would send another voucher by mail. Never got anything. #tiredofwaiting  \n",
              "7573                                                                          @JetBlue Thanks for the personalized customer service! #cannedtweet #autoresponse  \n",
              "8783                                                                                                                          @JetBlue That's great! Thank you.  \n",
              "588                  @united another fail for the United ticket agents in OKC. LESS than helpful and could care less about our problems. American here we come.  \n",
              "1917                                              @united completely unacceptable to seat 1st class passenger into middle seat in 38 (not even premium economy)  \n",
              "13239     @AmericanAir no vouchers 4 Cancelled Flighted flight due 2 weather. Today's issue, broken tire. No vouchers cause tire was broken by weather. #nomoAA  \n",
              "13569  @AmericanAir - cruel &amp; unusual to Cancelled Flight flight w/o notice &amp; make someone stay on hold for 30min &amp; listen to the same ad in a loop  \n",
              "6050                                                                                       @SouthwestAir the new logo is going to look amazing on the airplanes  \n",
              "10708               @USAirways US Airways website. So you double charge people when they book flights now? Apparently you have but I've never been booked twice  \n",
              "8180               @JetBlue service for baggage at JFK is incomprehensible. No employee knows where our luggage is frM flight 424 LAX to NYC ITS AN HR WAIT NOW  \n",
              "2482                                                                                                 @united oh, the Wi-Fi router is on top of the fuselage! ;)  \n",
              "6639                                                                                                                                    @SouthwestAir followed.  \n",
              "9202                      @USAirways but i bougth mc caren to jfk with same agency and delta airways . Delta refund money but usairways doesnt accept to refund  \n",
              "4431                                                          @SouthwestAir how come I'm not getting my points after I buy from the rapid reward shopping site?  "
            ],
            "text/html": [
              "\n",
              "  <div id=\"df-faf9edda-78a2-4e6e-8a06-28ffcc20fe12\">\n",
              "    <div class=\"colab-df-container\">\n",
              "      <div>\n",
              "<style scoped>\n",
              "    .dataframe tbody tr th:only-of-type {\n",
              "        vertical-align: middle;\n",
              "    }\n",
              "\n",
              "    .dataframe tbody tr th {\n",
              "        vertical-align: top;\n",
              "    }\n",
              "\n",
              "    .dataframe thead th {\n",
              "        text-align: right;\n",
              "    }\n",
              "</style>\n",
              "<table border=\"1\" class=\"dataframe\">\n",
              "  <thead>\n",
              "    <tr style=\"text-align: right;\">\n",
              "      <th></th>\n",
              "      <th>sentiment</th>\n",
              "      <th>text</th>\n",
              "    </tr>\n",
              "  </thead>\n",
              "  <tbody>\n",
              "    <tr>\n",
              "      <th>13676</th>\n",
              "      <td>negative</td>\n",
              "      <td>@AmericanAir my mom’s flight tomorrow Cancelled Flighted w/ no notice. Phone system said callback in 2 hours and it’s been 4. I need to go to bed!</td>\n",
              "    </tr>\n",
              "    <tr>\n",
              "      <th>12710</th>\n",
              "      <td>positive</td>\n",
              "      <td>@AmericanAir thanks.  I actually made it, my connection flight was delayed.  Guess all delays are not a bad thing. http://t.co/XGgCNTco8m</td>\n",
              "    </tr>\n",
              "    <tr>\n",
              "      <th>6976</th>\n",
              "      <td>neutral</td>\n",
              "      <td>@JetBlue two rows</td>\n",
              "    </tr>\n",
              "    <tr>\n",
              "      <th>8444</th>\n",
              "      <td>positive</td>\n",
              "      <td>Hey @JetBlue, that's a sexy tattoo you got there on your left engine. #Jetbae http://t.co/Ox4w6KtsGI</td>\n",
              "    </tr>\n",
              "    <tr>\n",
              "      <th>10543</th>\n",
              "      <td>negative</td>\n",
              "      <td>@USAirways the American Eagle plane you're using for CLT to RDU is disgusting! You should be ashamed! #disgusting #ew http://t.co/B4xhiRuGzV</td>\n",
              "    </tr>\n",
              "    <tr>\n",
              "      <th>4870</th>\n",
              "      <td>neutral</td>\n",
              "      <td>@SouthwestAir yes please.my son lives in NJ.</td>\n",
              "    </tr>\n",
              "    <tr>\n",
              "      <th>529</th>\n",
              "      <td>negative</td>\n",
              "      <td>@united beginning of Feb I called United they said they would send another voucher by mail. Never got anything. #tiredofwaiting</td>\n",
              "    </tr>\n",
              "    <tr>\n",
              "      <th>7573</th>\n",
              "      <td>positive</td>\n",
              "      <td>@JetBlue Thanks for the personalized customer service! #cannedtweet #autoresponse</td>\n",
              "    </tr>\n",
              "    <tr>\n",
              "      <th>8783</th>\n",
              "      <td>positive</td>\n",
              "      <td>@JetBlue That's great! Thank you.</td>\n",
              "    </tr>\n",
              "    <tr>\n",
              "      <th>588</th>\n",
              "      <td>negative</td>\n",
              "      <td>@united another fail for the United ticket agents in OKC. LESS than helpful and could care less about our problems. American here we come.</td>\n",
              "    </tr>\n",
              "    <tr>\n",
              "      <th>1917</th>\n",
              "      <td>negative</td>\n",
              "      <td>@united completely unacceptable to seat 1st class passenger into middle seat in 38 (not even premium economy)</td>\n",
              "    </tr>\n",
              "    <tr>\n",
              "      <th>13239</th>\n",
              "      <td>negative</td>\n",
              "      <td>@AmericanAir no vouchers 4 Cancelled Flighted flight due 2 weather. Today's issue, broken tire. No vouchers cause tire was broken by weather. #nomoAA</td>\n",
              "    </tr>\n",
              "    <tr>\n",
              "      <th>13569</th>\n",
              "      <td>negative</td>\n",
              "      <td>@AmericanAir - cruel &amp;amp; unusual to Cancelled Flight flight w/o notice &amp;amp; make someone stay on hold for 30min &amp;amp; listen to the same ad in a loop</td>\n",
              "    </tr>\n",
              "    <tr>\n",
              "      <th>6050</th>\n",
              "      <td>positive</td>\n",
              "      <td>@SouthwestAir the new logo is going to look amazing on the airplanes</td>\n",
              "    </tr>\n",
              "    <tr>\n",
              "      <th>10708</th>\n",
              "      <td>negative</td>\n",
              "      <td>@USAirways US Airways website. So you double charge people when they book flights now? Apparently you have but I've never been booked twice</td>\n",
              "    </tr>\n",
              "    <tr>\n",
              "      <th>8180</th>\n",
              "      <td>negative</td>\n",
              "      <td>@JetBlue service for baggage at JFK is incomprehensible. No employee knows where our luggage is frM flight 424 LAX to NYC ITS AN HR WAIT NOW</td>\n",
              "    </tr>\n",
              "    <tr>\n",
              "      <th>2482</th>\n",
              "      <td>positive</td>\n",
              "      <td>@united oh, the Wi-Fi router is on top of the fuselage! ;)</td>\n",
              "    </tr>\n",
              "    <tr>\n",
              "      <th>6639</th>\n",
              "      <td>neutral</td>\n",
              "      <td>@SouthwestAir followed.</td>\n",
              "    </tr>\n",
              "    <tr>\n",
              "      <th>9202</th>\n",
              "      <td>neutral</td>\n",
              "      <td>@USAirways but i bougth mc caren to jfk with same agency and delta airways . Delta refund money but usairways doesnt accept to refund</td>\n",
              "    </tr>\n",
              "    <tr>\n",
              "      <th>4431</th>\n",
              "      <td>negative</td>\n",
              "      <td>@SouthwestAir how come I'm not getting my points after I buy from the rapid reward shopping site?</td>\n",
              "    </tr>\n",
              "  </tbody>\n",
              "</table>\n",
              "</div>\n",
              "      <button class=\"colab-df-convert\" onclick=\"convertToInteractive('df-faf9edda-78a2-4e6e-8a06-28ffcc20fe12')\"\n",
              "              title=\"Convert this dataframe to an interactive table.\"\n",
              "              style=\"display:none;\">\n",
              "        \n",
              "  <svg xmlns=\"http://www.w3.org/2000/svg\" height=\"24px\"viewBox=\"0 0 24 24\"\n",
              "       width=\"24px\">\n",
              "    <path d=\"M0 0h24v24H0V0z\" fill=\"none\"/>\n",
              "    <path d=\"M18.56 5.44l.94 2.06.94-2.06 2.06-.94-2.06-.94-.94-2.06-.94 2.06-2.06.94zm-11 1L8.5 8.5l.94-2.06 2.06-.94-2.06-.94L8.5 2.5l-.94 2.06-2.06.94zm10 10l.94 2.06.94-2.06 2.06-.94-2.06-.94-.94-2.06-.94 2.06-2.06.94z\"/><path d=\"M17.41 7.96l-1.37-1.37c-.4-.4-.92-.59-1.43-.59-.52 0-1.04.2-1.43.59L10.3 9.45l-7.72 7.72c-.78.78-.78 2.05 0 2.83L4 21.41c.39.39.9.59 1.41.59.51 0 1.02-.2 1.41-.59l7.78-7.78 2.81-2.81c.8-.78.8-2.07 0-2.86zM5.41 20L4 18.59l7.72-7.72 1.47 1.35L5.41 20z\"/>\n",
              "  </svg>\n",
              "      </button>\n",
              "      \n",
              "  <style>\n",
              "    .colab-df-container {\n",
              "      display:flex;\n",
              "      flex-wrap:wrap;\n",
              "      gap: 12px;\n",
              "    }\n",
              "\n",
              "    .colab-df-convert {\n",
              "      background-color: #E8F0FE;\n",
              "      border: none;\n",
              "      border-radius: 50%;\n",
              "      cursor: pointer;\n",
              "      display: none;\n",
              "      fill: #1967D2;\n",
              "      height: 32px;\n",
              "      padding: 0 0 0 0;\n",
              "      width: 32px;\n",
              "    }\n",
              "\n",
              "    .colab-df-convert:hover {\n",
              "      background-color: #E2EBFA;\n",
              "      box-shadow: 0px 1px 2px rgba(60, 64, 67, 0.3), 0px 1px 3px 1px rgba(60, 64, 67, 0.15);\n",
              "      fill: #174EA6;\n",
              "    }\n",
              "\n",
              "    [theme=dark] .colab-df-convert {\n",
              "      background-color: #3B4455;\n",
              "      fill: #D2E3FC;\n",
              "    }\n",
              "\n",
              "    [theme=dark] .colab-df-convert:hover {\n",
              "      background-color: #434B5C;\n",
              "      box-shadow: 0px 1px 3px 1px rgba(0, 0, 0, 0.15);\n",
              "      filter: drop-shadow(0px 1px 2px rgba(0, 0, 0, 0.3));\n",
              "      fill: #FFFFFF;\n",
              "    }\n",
              "  </style>\n",
              "\n",
              "      <script>\n",
              "        const buttonEl =\n",
              "          document.querySelector('#df-faf9edda-78a2-4e6e-8a06-28ffcc20fe12 button.colab-df-convert');\n",
              "        buttonEl.style.display =\n",
              "          google.colab.kernel.accessAllowed ? 'block' : 'none';\n",
              "\n",
              "        async function convertToInteractive(key) {\n",
              "          const element = document.querySelector('#df-faf9edda-78a2-4e6e-8a06-28ffcc20fe12');\n",
              "          const dataTable =\n",
              "            await google.colab.kernel.invokeFunction('convertToInteractive',\n",
              "                                                     [key], {});\n",
              "          if (!dataTable) return;\n",
              "\n",
              "          const docLinkHtml = 'Like what you see? Visit the ' +\n",
              "            '<a target=\"_blank\" href=https://colab.research.google.com/notebooks/data_table.ipynb>data table notebook</a>'\n",
              "            + ' to learn more about interactive tables.';\n",
              "          element.innerHTML = '';\n",
              "          dataTable['output_type'] = 'display_data';\n",
              "          await google.colab.output.renderOutput(dataTable, element);\n",
              "          const docLink = document.createElement('div');\n",
              "          docLink.innerHTML = docLinkHtml;\n",
              "          element.appendChild(docLink);\n",
              "        }\n",
              "      </script>\n",
              "    </div>\n",
              "  </div>\n",
              "  "
            ]
          },
          "metadata": {},
          "execution_count": 69
        }
      ]
    },
    {
      "cell_type": "code",
      "metadata": {
        "id": "Y-jRQzliQC7Z"
      },
      "source": [
        "df2 = df.copy()"
      ],
      "execution_count": 70,
      "outputs": []
    },
    {
      "cell_type": "code",
      "metadata": {
        "id": "zwZbgya9QC7Z",
        "colab": {
          "base_uri": "https://localhost:8080/",
          "height": 267
        },
        "outputId": "98a0c142-e610-4444-9de5-99b19e38bd09"
      },
      "source": [
        "df2[\"clean_text\"] = df2[\"text\"].apply(cleaning)\n"
      ],
      "execution_count": 71,
      "outputs": [
        {
          "output_type": "execute_result",
          "data": {
            "text/plain": [
              "  sentiment  \\\n",
              "0   neutral   \n",
              "1  positive   \n",
              "2   neutral   \n",
              "3  negative   \n",
              "4  negative   \n",
              "\n",
              "                                                                                                                             text  \\\n",
              "0                                                                                             @VirginAmerica What @dhepburn said.   \n",
              "1                                                        @VirginAmerica plus you've added commercials to the experience... tacky.   \n",
              "2                                                         @VirginAmerica I didn't today... Must mean I need to take another trip!   \n",
              "3  @VirginAmerica it's really aggressive to blast obnoxious \"entertainment\" in your guests' faces &amp; they have little recourse   \n",
              "4                                                                         @VirginAmerica and it's a really big bad thing about it   \n",
              "\n",
              "                                                                                     clean_text  \n",
              "0                                                                   virginamerica dhepburn said  \n",
              "1                                    virginamerica plus youve added commercial experience tacky  \n",
              "2                                    virginamerica didnt today must mean need take another trip  \n",
              "3  virginamerica really aggressive blast obnoxious entertainment guest face amp little recourse  \n",
              "4                                                            virginamerica really big bad thing  "
            ],
            "text/html": [
              "\n",
              "  <div id=\"df-42d1c69d-49d7-4287-b4d8-11194ca79474\">\n",
              "    <div class=\"colab-df-container\">\n",
              "      <div>\n",
              "<style scoped>\n",
              "    .dataframe tbody tr th:only-of-type {\n",
              "        vertical-align: middle;\n",
              "    }\n",
              "\n",
              "    .dataframe tbody tr th {\n",
              "        vertical-align: top;\n",
              "    }\n",
              "\n",
              "    .dataframe thead th {\n",
              "        text-align: right;\n",
              "    }\n",
              "</style>\n",
              "<table border=\"1\" class=\"dataframe\">\n",
              "  <thead>\n",
              "    <tr style=\"text-align: right;\">\n",
              "      <th></th>\n",
              "      <th>sentiment</th>\n",
              "      <th>text</th>\n",
              "      <th>clean_text</th>\n",
              "    </tr>\n",
              "  </thead>\n",
              "  <tbody>\n",
              "    <tr>\n",
              "      <th>0</th>\n",
              "      <td>neutral</td>\n",
              "      <td>@VirginAmerica What @dhepburn said.</td>\n",
              "      <td>virginamerica dhepburn said</td>\n",
              "    </tr>\n",
              "    <tr>\n",
              "      <th>1</th>\n",
              "      <td>positive</td>\n",
              "      <td>@VirginAmerica plus you've added commercials to the experience... tacky.</td>\n",
              "      <td>virginamerica plus youve added commercial experience tacky</td>\n",
              "    </tr>\n",
              "    <tr>\n",
              "      <th>2</th>\n",
              "      <td>neutral</td>\n",
              "      <td>@VirginAmerica I didn't today... Must mean I need to take another trip!</td>\n",
              "      <td>virginamerica didnt today must mean need take another trip</td>\n",
              "    </tr>\n",
              "    <tr>\n",
              "      <th>3</th>\n",
              "      <td>negative</td>\n",
              "      <td>@VirginAmerica it's really aggressive to blast obnoxious \"entertainment\" in your guests' faces &amp;amp; they have little recourse</td>\n",
              "      <td>virginamerica really aggressive blast obnoxious entertainment guest face amp little recourse</td>\n",
              "    </tr>\n",
              "    <tr>\n",
              "      <th>4</th>\n",
              "      <td>negative</td>\n",
              "      <td>@VirginAmerica and it's a really big bad thing about it</td>\n",
              "      <td>virginamerica really big bad thing</td>\n",
              "    </tr>\n",
              "  </tbody>\n",
              "</table>\n",
              "</div>\n",
              "      <button class=\"colab-df-convert\" onclick=\"convertToInteractive('df-42d1c69d-49d7-4287-b4d8-11194ca79474')\"\n",
              "              title=\"Convert this dataframe to an interactive table.\"\n",
              "              style=\"display:none;\">\n",
              "        \n",
              "  <svg xmlns=\"http://www.w3.org/2000/svg\" height=\"24px\"viewBox=\"0 0 24 24\"\n",
              "       width=\"24px\">\n",
              "    <path d=\"M0 0h24v24H0V0z\" fill=\"none\"/>\n",
              "    <path d=\"M18.56 5.44l.94 2.06.94-2.06 2.06-.94-2.06-.94-.94-2.06-.94 2.06-2.06.94zm-11 1L8.5 8.5l.94-2.06 2.06-.94-2.06-.94L8.5 2.5l-.94 2.06-2.06.94zm10 10l.94 2.06.94-2.06 2.06-.94-2.06-.94-.94-2.06-.94 2.06-2.06.94z\"/><path d=\"M17.41 7.96l-1.37-1.37c-.4-.4-.92-.59-1.43-.59-.52 0-1.04.2-1.43.59L10.3 9.45l-7.72 7.72c-.78.78-.78 2.05 0 2.83L4 21.41c.39.39.9.59 1.41.59.51 0 1.02-.2 1.41-.59l7.78-7.78 2.81-2.81c.8-.78.8-2.07 0-2.86zM5.41 20L4 18.59l7.72-7.72 1.47 1.35L5.41 20z\"/>\n",
              "  </svg>\n",
              "      </button>\n",
              "      \n",
              "  <style>\n",
              "    .colab-df-container {\n",
              "      display:flex;\n",
              "      flex-wrap:wrap;\n",
              "      gap: 12px;\n",
              "    }\n",
              "\n",
              "    .colab-df-convert {\n",
              "      background-color: #E8F0FE;\n",
              "      border: none;\n",
              "      border-radius: 50%;\n",
              "      cursor: pointer;\n",
              "      display: none;\n",
              "      fill: #1967D2;\n",
              "      height: 32px;\n",
              "      padding: 0 0 0 0;\n",
              "      width: 32px;\n",
              "    }\n",
              "\n",
              "    .colab-df-convert:hover {\n",
              "      background-color: #E2EBFA;\n",
              "      box-shadow: 0px 1px 2px rgba(60, 64, 67, 0.3), 0px 1px 3px 1px rgba(60, 64, 67, 0.15);\n",
              "      fill: #174EA6;\n",
              "    }\n",
              "\n",
              "    [theme=dark] .colab-df-convert {\n",
              "      background-color: #3B4455;\n",
              "      fill: #D2E3FC;\n",
              "    }\n",
              "\n",
              "    [theme=dark] .colab-df-convert:hover {\n",
              "      background-color: #434B5C;\n",
              "      box-shadow: 0px 1px 3px 1px rgba(0, 0, 0, 0.15);\n",
              "      filter: drop-shadow(0px 1px 2px rgba(0, 0, 0, 0.3));\n",
              "      fill: #FFFFFF;\n",
              "    }\n",
              "  </style>\n",
              "\n",
              "      <script>\n",
              "        const buttonEl =\n",
              "          document.querySelector('#df-42d1c69d-49d7-4287-b4d8-11194ca79474 button.colab-df-convert');\n",
              "        buttonEl.style.display =\n",
              "          google.colab.kernel.accessAllowed ? 'block' : 'none';\n",
              "\n",
              "        async function convertToInteractive(key) {\n",
              "          const element = document.querySelector('#df-42d1c69d-49d7-4287-b4d8-11194ca79474');\n",
              "          const dataTable =\n",
              "            await google.colab.kernel.invokeFunction('convertToInteractive',\n",
              "                                                     [key], {});\n",
              "          if (!dataTable) return;\n",
              "\n",
              "          const docLinkHtml = 'Like what you see? Visit the ' +\n",
              "            '<a target=\"_blank\" href=https://colab.research.google.com/notebooks/data_table.ipynb>data table notebook</a>'\n",
              "            + ' to learn more about interactive tables.';\n",
              "          element.innerHTML = '';\n",
              "          dataTable['output_type'] = 'display_data';\n",
              "          await google.colab.output.renderOutput(dataTable, element);\n",
              "          const docLink = document.createElement('div');\n",
              "          docLink.innerHTML = docLinkHtml;\n",
              "          element.appendChild(docLink);\n",
              "        }\n",
              "      </script>\n",
              "    </div>\n",
              "  </div>\n",
              "  "
            ]
          },
          "metadata": {},
          "execution_count": 71
        }
      ]
    },
    {
      "cell_type": "code",
      "metadata": {
        "id": "aF3lOouUCluW",
        "colab": {
          "base_uri": "https://localhost:8080/",
          "height": 528
        },
        "outputId": "4cb670cc-975d-494b-f934-5419ba92d892"
      },
      "source": [
        "df2.sample(10)"
      ],
      "execution_count": 72,
      "outputs": [
        {
          "output_type": "execute_result",
          "data": {
            "text/plain": [
              "      sentiment  \\\n",
              "11358  negative   \n",
              "77      neutral   \n",
              "11131  negative   \n",
              "8606    neutral   \n",
              "7585    neutral   \n",
              "1464   negative   \n",
              "12204  negative   \n",
              "11905   neutral   \n",
              "14631  negative   \n",
              "992    negative   \n",
              "\n",
              "                                                                                                                                               text  \\\n",
              "11358   @USAirways that's understandable, my issue is with creating a new flight without the personnel to do it...I changed my plans to accommodate   \n",
              "77                                             @VirginAmerica first time flying you all. do you have a different rate/policy for media Bags? Thanks   \n",
              "11131          @USAirways @AmericanAir Will you be destroying lives in Eastern @GastonCounty during this lively little event? For profits you will.   \n",
              "8606                                                                                                                   @JetBlue I sent you an email   \n",
              "7585                                                                         @JetBlue whatever your lil #mint heart desires! http://t.co/WmX12F33ZC   \n",
              "1464       @united the delay is due to customer service for 20 people?  What about the DIS-SERVICE you provided for 100+?  #FlightFail #Hour20Delay   \n",
              "12204  @AmericanAir 1-the lavatory freezes, 2- problem with a nitrogen line 3-a low tire with the inflating equipment malfunctioning #AA2444 and...   \n",
              "11905                                                                                                                            @AmericanAir I did   \n",
              "14631                         @AmericanAir thx for nothing on getting us out of the country and back to US. Broken plane? Come on. Get another one.   \n",
              "992                                         @united  found a group of people who actually hates people more than ISIS, thats right United Airlines.   \n",
              "\n",
              "                                                                                                clean_text  \n",
              "11358  usairways thats understandable issue creating new flight without personnel changed plan accommodate  \n",
              "77                                             virginamerica first time flying different medium bag thanks  \n",
              "11131                usairways americanair destroying life eastern gastoncounty lively little event profit  \n",
              "8606                                                                                    jetblue sent email  \n",
              "7585                                                           jetblue whatever lil mint heart desire http  \n",
              "1464                                          united delay due customer service people provided flightfail  \n",
              "12204        americanair lavatory freeze problem nitrogen line low tire inflating equipment malfunctioning  \n",
              "11905                                                                                          americanair  \n",
              "14631                   americanair thx nothing getting u country back u broken plane come get another one  \n",
              "992                          united found group people actually hate people isi thats right united airline  "
            ],
            "text/html": [
              "\n",
              "  <div id=\"df-bbfdfd7a-5265-4f3f-b8f4-fcfa88251655\">\n",
              "    <div class=\"colab-df-container\">\n",
              "      <div>\n",
              "<style scoped>\n",
              "    .dataframe tbody tr th:only-of-type {\n",
              "        vertical-align: middle;\n",
              "    }\n",
              "\n",
              "    .dataframe tbody tr th {\n",
              "        vertical-align: top;\n",
              "    }\n",
              "\n",
              "    .dataframe thead th {\n",
              "        text-align: right;\n",
              "    }\n",
              "</style>\n",
              "<table border=\"1\" class=\"dataframe\">\n",
              "  <thead>\n",
              "    <tr style=\"text-align: right;\">\n",
              "      <th></th>\n",
              "      <th>sentiment</th>\n",
              "      <th>text</th>\n",
              "      <th>clean_text</th>\n",
              "    </tr>\n",
              "  </thead>\n",
              "  <tbody>\n",
              "    <tr>\n",
              "      <th>11358</th>\n",
              "      <td>negative</td>\n",
              "      <td>@USAirways that's understandable, my issue is with creating a new flight without the personnel to do it...I changed my plans to accommodate</td>\n",
              "      <td>usairways thats understandable issue creating new flight without personnel changed plan accommodate</td>\n",
              "    </tr>\n",
              "    <tr>\n",
              "      <th>77</th>\n",
              "      <td>neutral</td>\n",
              "      <td>@VirginAmerica first time flying you all. do you have a different rate/policy for media Bags? Thanks</td>\n",
              "      <td>virginamerica first time flying different medium bag thanks</td>\n",
              "    </tr>\n",
              "    <tr>\n",
              "      <th>11131</th>\n",
              "      <td>negative</td>\n",
              "      <td>@USAirways @AmericanAir Will you be destroying lives in Eastern @GastonCounty during this lively little event? For profits you will.</td>\n",
              "      <td>usairways americanair destroying life eastern gastoncounty lively little event profit</td>\n",
              "    </tr>\n",
              "    <tr>\n",
              "      <th>8606</th>\n",
              "      <td>neutral</td>\n",
              "      <td>@JetBlue I sent you an email</td>\n",
              "      <td>jetblue sent email</td>\n",
              "    </tr>\n",
              "    <tr>\n",
              "      <th>7585</th>\n",
              "      <td>neutral</td>\n",
              "      <td>@JetBlue whatever your lil #mint heart desires! http://t.co/WmX12F33ZC</td>\n",
              "      <td>jetblue whatever lil mint heart desire http</td>\n",
              "    </tr>\n",
              "    <tr>\n",
              "      <th>1464</th>\n",
              "      <td>negative</td>\n",
              "      <td>@united the delay is due to customer service for 20 people?  What about the DIS-SERVICE you provided for 100+?  #FlightFail #Hour20Delay</td>\n",
              "      <td>united delay due customer service people provided flightfail</td>\n",
              "    </tr>\n",
              "    <tr>\n",
              "      <th>12204</th>\n",
              "      <td>negative</td>\n",
              "      <td>@AmericanAir 1-the lavatory freezes, 2- problem with a nitrogen line 3-a low tire with the inflating equipment malfunctioning #AA2444 and...</td>\n",
              "      <td>americanair lavatory freeze problem nitrogen line low tire inflating equipment malfunctioning</td>\n",
              "    </tr>\n",
              "    <tr>\n",
              "      <th>11905</th>\n",
              "      <td>neutral</td>\n",
              "      <td>@AmericanAir I did</td>\n",
              "      <td>americanair</td>\n",
              "    </tr>\n",
              "    <tr>\n",
              "      <th>14631</th>\n",
              "      <td>negative</td>\n",
              "      <td>@AmericanAir thx for nothing on getting us out of the country and back to US. Broken plane? Come on. Get another one.</td>\n",
              "      <td>americanair thx nothing getting u country back u broken plane come get another one</td>\n",
              "    </tr>\n",
              "    <tr>\n",
              "      <th>992</th>\n",
              "      <td>negative</td>\n",
              "      <td>@united  found a group of people who actually hates people more than ISIS, thats right United Airlines.</td>\n",
              "      <td>united found group people actually hate people isi thats right united airline</td>\n",
              "    </tr>\n",
              "  </tbody>\n",
              "</table>\n",
              "</div>\n",
              "      <button class=\"colab-df-convert\" onclick=\"convertToInteractive('df-bbfdfd7a-5265-4f3f-b8f4-fcfa88251655')\"\n",
              "              title=\"Convert this dataframe to an interactive table.\"\n",
              "              style=\"display:none;\">\n",
              "        \n",
              "  <svg xmlns=\"http://www.w3.org/2000/svg\" height=\"24px\"viewBox=\"0 0 24 24\"\n",
              "       width=\"24px\">\n",
              "    <path d=\"M0 0h24v24H0V0z\" fill=\"none\"/>\n",
              "    <path d=\"M18.56 5.44l.94 2.06.94-2.06 2.06-.94-2.06-.94-.94-2.06-.94 2.06-2.06.94zm-11 1L8.5 8.5l.94-2.06 2.06-.94-2.06-.94L8.5 2.5l-.94 2.06-2.06.94zm10 10l.94 2.06.94-2.06 2.06-.94-2.06-.94-.94-2.06-.94 2.06-2.06.94z\"/><path d=\"M17.41 7.96l-1.37-1.37c-.4-.4-.92-.59-1.43-.59-.52 0-1.04.2-1.43.59L10.3 9.45l-7.72 7.72c-.78.78-.78 2.05 0 2.83L4 21.41c.39.39.9.59 1.41.59.51 0 1.02-.2 1.41-.59l7.78-7.78 2.81-2.81c.8-.78.8-2.07 0-2.86zM5.41 20L4 18.59l7.72-7.72 1.47 1.35L5.41 20z\"/>\n",
              "  </svg>\n",
              "      </button>\n",
              "      \n",
              "  <style>\n",
              "    .colab-df-container {\n",
              "      display:flex;\n",
              "      flex-wrap:wrap;\n",
              "      gap: 12px;\n",
              "    }\n",
              "\n",
              "    .colab-df-convert {\n",
              "      background-color: #E8F0FE;\n",
              "      border: none;\n",
              "      border-radius: 50%;\n",
              "      cursor: pointer;\n",
              "      display: none;\n",
              "      fill: #1967D2;\n",
              "      height: 32px;\n",
              "      padding: 0 0 0 0;\n",
              "      width: 32px;\n",
              "    }\n",
              "\n",
              "    .colab-df-convert:hover {\n",
              "      background-color: #E2EBFA;\n",
              "      box-shadow: 0px 1px 2px rgba(60, 64, 67, 0.3), 0px 1px 3px 1px rgba(60, 64, 67, 0.15);\n",
              "      fill: #174EA6;\n",
              "    }\n",
              "\n",
              "    [theme=dark] .colab-df-convert {\n",
              "      background-color: #3B4455;\n",
              "      fill: #D2E3FC;\n",
              "    }\n",
              "\n",
              "    [theme=dark] .colab-df-convert:hover {\n",
              "      background-color: #434B5C;\n",
              "      box-shadow: 0px 1px 3px 1px rgba(0, 0, 0, 0.15);\n",
              "      filter: drop-shadow(0px 1px 2px rgba(0, 0, 0, 0.3));\n",
              "      fill: #FFFFFF;\n",
              "    }\n",
              "  </style>\n",
              "\n",
              "      <script>\n",
              "        const buttonEl =\n",
              "          document.querySelector('#df-bbfdfd7a-5265-4f3f-b8f4-fcfa88251655 button.colab-df-convert');\n",
              "        buttonEl.style.display =\n",
              "          google.colab.kernel.accessAllowed ? 'block' : 'none';\n",
              "\n",
              "        async function convertToInteractive(key) {\n",
              "          const element = document.querySelector('#df-bbfdfd7a-5265-4f3f-b8f4-fcfa88251655');\n",
              "          const dataTable =\n",
              "            await google.colab.kernel.invokeFunction('convertToInteractive',\n",
              "                                                     [key], {});\n",
              "          if (!dataTable) return;\n",
              "\n",
              "          const docLinkHtml = 'Like what you see? Visit the ' +\n",
              "            '<a target=\"_blank\" href=https://colab.research.google.com/notebooks/data_table.ipynb>data table notebook</a>'\n",
              "            + ' to learn more about interactive tables.';\n",
              "          element.innerHTML = '';\n",
              "          dataTable['output_type'] = 'display_data';\n",
              "          await google.colab.output.renderOutput(dataTable, element);\n",
              "          const docLink = document.createElement('div');\n",
              "          docLink.innerHTML = docLinkHtml;\n",
              "          element.appendChild(docLink);\n",
              "        }\n",
              "      </script>\n",
              "    </div>\n",
              "  </div>\n",
              "  "
            ]
          },
          "metadata": {},
          "execution_count": 72
        }
      ]
    },
    {
      "cell_type": "code",
      "metadata": {
        "id": "nf2j97ZWFu0p",
        "colab": {
          "base_uri": "https://localhost:8080/",
          "height": 319
        },
        "outputId": "3a503b0d-9e77-4034-ada9-79b727767a8e"
      },
      "source": [
        "# URLs\n",
        "df2[df2['clean_text'].str.contains('http')].head()"
      ],
      "execution_count": 73,
      "outputs": [
        {
          "output_type": "execute_result",
          "data": {
            "text/plain": [
              "   sentiment  \\\n",
              "7    neutral   \n",
              "13  positive   \n",
              "21  positive   \n",
              "34  positive   \n",
              "35   neutral   \n",
              "\n",
              "                                                                                                                                            text  \\\n",
              "7                                   @VirginAmerica Really missed a prime opportunity for Men Without Hats parody, there. https://t.co/mWpG7grEZP   \n",
              "13  @VirginAmerica @virginmedia I'm flying your #fabulous #Seductive skies again! U take all the #stress away from travel http://t.co/ahlXHhKiyn   \n",
              "21                                                                                    @VirginAmerica I love this graphic. http://t.co/UT5GrRwAaA   \n",
              "34           @VirginAmerica this is great news!  America could start flights to Hawaii by end of year http://t.co/r8p2Zy3fe4 via @Pacificbiznews   \n",
              "35  Nice RT @VirginAmerica: Vibe with the moodlight from takeoff to touchdown. #MoodlitMonday #ScienceBehindTheExperience http://t.co/Y7O0uNxTQP   \n",
              "\n",
              "                                                                                              clean_text  \n",
              "7                              virginamerica really missed prime opportunity men without hat parody http  \n",
              "13             virginamerica virginmedia im flying fabulous seductive sky u take stress away travel http  \n",
              "21                                                                       virginamerica love graphic http  \n",
              "34           virginamerica great news america could start flight hawaii end year http via pacificbiznews  \n",
              "35  nice rt virginamerica vibe moodlight takeoff touchdown moodlitmonday sciencebehindtheexperience http  "
            ],
            "text/html": [
              "\n",
              "  <div id=\"df-3347f8c9-8449-42b0-9ab9-6513b9feeb55\">\n",
              "    <div class=\"colab-df-container\">\n",
              "      <div>\n",
              "<style scoped>\n",
              "    .dataframe tbody tr th:only-of-type {\n",
              "        vertical-align: middle;\n",
              "    }\n",
              "\n",
              "    .dataframe tbody tr th {\n",
              "        vertical-align: top;\n",
              "    }\n",
              "\n",
              "    .dataframe thead th {\n",
              "        text-align: right;\n",
              "    }\n",
              "</style>\n",
              "<table border=\"1\" class=\"dataframe\">\n",
              "  <thead>\n",
              "    <tr style=\"text-align: right;\">\n",
              "      <th></th>\n",
              "      <th>sentiment</th>\n",
              "      <th>text</th>\n",
              "      <th>clean_text</th>\n",
              "    </tr>\n",
              "  </thead>\n",
              "  <tbody>\n",
              "    <tr>\n",
              "      <th>7</th>\n",
              "      <td>neutral</td>\n",
              "      <td>@VirginAmerica Really missed a prime opportunity for Men Without Hats parody, there. https://t.co/mWpG7grEZP</td>\n",
              "      <td>virginamerica really missed prime opportunity men without hat parody http</td>\n",
              "    </tr>\n",
              "    <tr>\n",
              "      <th>13</th>\n",
              "      <td>positive</td>\n",
              "      <td>@VirginAmerica @virginmedia I'm flying your #fabulous #Seductive skies again! U take all the #stress away from travel http://t.co/ahlXHhKiyn</td>\n",
              "      <td>virginamerica virginmedia im flying fabulous seductive sky u take stress away travel http</td>\n",
              "    </tr>\n",
              "    <tr>\n",
              "      <th>21</th>\n",
              "      <td>positive</td>\n",
              "      <td>@VirginAmerica I love this graphic. http://t.co/UT5GrRwAaA</td>\n",
              "      <td>virginamerica love graphic http</td>\n",
              "    </tr>\n",
              "    <tr>\n",
              "      <th>34</th>\n",
              "      <td>positive</td>\n",
              "      <td>@VirginAmerica this is great news!  America could start flights to Hawaii by end of year http://t.co/r8p2Zy3fe4 via @Pacificbiznews</td>\n",
              "      <td>virginamerica great news america could start flight hawaii end year http via pacificbiznews</td>\n",
              "    </tr>\n",
              "    <tr>\n",
              "      <th>35</th>\n",
              "      <td>neutral</td>\n",
              "      <td>Nice RT @VirginAmerica: Vibe with the moodlight from takeoff to touchdown. #MoodlitMonday #ScienceBehindTheExperience http://t.co/Y7O0uNxTQP</td>\n",
              "      <td>nice rt virginamerica vibe moodlight takeoff touchdown moodlitmonday sciencebehindtheexperience http</td>\n",
              "    </tr>\n",
              "  </tbody>\n",
              "</table>\n",
              "</div>\n",
              "      <button class=\"colab-df-convert\" onclick=\"convertToInteractive('df-3347f8c9-8449-42b0-9ab9-6513b9feeb55')\"\n",
              "              title=\"Convert this dataframe to an interactive table.\"\n",
              "              style=\"display:none;\">\n",
              "        \n",
              "  <svg xmlns=\"http://www.w3.org/2000/svg\" height=\"24px\"viewBox=\"0 0 24 24\"\n",
              "       width=\"24px\">\n",
              "    <path d=\"M0 0h24v24H0V0z\" fill=\"none\"/>\n",
              "    <path d=\"M18.56 5.44l.94 2.06.94-2.06 2.06-.94-2.06-.94-.94-2.06-.94 2.06-2.06.94zm-11 1L8.5 8.5l.94-2.06 2.06-.94-2.06-.94L8.5 2.5l-.94 2.06-2.06.94zm10 10l.94 2.06.94-2.06 2.06-.94-2.06-.94-.94-2.06-.94 2.06-2.06.94z\"/><path d=\"M17.41 7.96l-1.37-1.37c-.4-.4-.92-.59-1.43-.59-.52 0-1.04.2-1.43.59L10.3 9.45l-7.72 7.72c-.78.78-.78 2.05 0 2.83L4 21.41c.39.39.9.59 1.41.59.51 0 1.02-.2 1.41-.59l7.78-7.78 2.81-2.81c.8-.78.8-2.07 0-2.86zM5.41 20L4 18.59l7.72-7.72 1.47 1.35L5.41 20z\"/>\n",
              "  </svg>\n",
              "      </button>\n",
              "      \n",
              "  <style>\n",
              "    .colab-df-container {\n",
              "      display:flex;\n",
              "      flex-wrap:wrap;\n",
              "      gap: 12px;\n",
              "    }\n",
              "\n",
              "    .colab-df-convert {\n",
              "      background-color: #E8F0FE;\n",
              "      border: none;\n",
              "      border-radius: 50%;\n",
              "      cursor: pointer;\n",
              "      display: none;\n",
              "      fill: #1967D2;\n",
              "      height: 32px;\n",
              "      padding: 0 0 0 0;\n",
              "      width: 32px;\n",
              "    }\n",
              "\n",
              "    .colab-df-convert:hover {\n",
              "      background-color: #E2EBFA;\n",
              "      box-shadow: 0px 1px 2px rgba(60, 64, 67, 0.3), 0px 1px 3px 1px rgba(60, 64, 67, 0.15);\n",
              "      fill: #174EA6;\n",
              "    }\n",
              "\n",
              "    [theme=dark] .colab-df-convert {\n",
              "      background-color: #3B4455;\n",
              "      fill: #D2E3FC;\n",
              "    }\n",
              "\n",
              "    [theme=dark] .colab-df-convert:hover {\n",
              "      background-color: #434B5C;\n",
              "      box-shadow: 0px 1px 3px 1px rgba(0, 0, 0, 0.15);\n",
              "      filter: drop-shadow(0px 1px 2px rgba(0, 0, 0, 0.3));\n",
              "      fill: #FFFFFF;\n",
              "    }\n",
              "  </style>\n",
              "\n",
              "      <script>\n",
              "        const buttonEl =\n",
              "          document.querySelector('#df-3347f8c9-8449-42b0-9ab9-6513b9feeb55 button.colab-df-convert');\n",
              "        buttonEl.style.display =\n",
              "          google.colab.kernel.accessAllowed ? 'block' : 'none';\n",
              "\n",
              "        async function convertToInteractive(key) {\n",
              "          const element = document.querySelector('#df-3347f8c9-8449-42b0-9ab9-6513b9feeb55');\n",
              "          const dataTable =\n",
              "            await google.colab.kernel.invokeFunction('convertToInteractive',\n",
              "                                                     [key], {});\n",
              "          if (!dataTable) return;\n",
              "\n",
              "          const docLinkHtml = 'Like what you see? Visit the ' +\n",
              "            '<a target=\"_blank\" href=https://colab.research.google.com/notebooks/data_table.ipynb>data table notebook</a>'\n",
              "            + ' to learn more about interactive tables.';\n",
              "          element.innerHTML = '';\n",
              "          dataTable['output_type'] = 'display_data';\n",
              "          await google.colab.output.renderOutput(dataTable, element);\n",
              "          const docLink = document.createElement('div');\n",
              "          docLink.innerHTML = docLinkHtml;\n",
              "          element.appendChild(docLink);\n",
              "        }\n",
              "      </script>\n",
              "    </div>\n",
              "  </div>\n",
              "  "
            ]
          },
          "metadata": {},
          "execution_count": 73
        }
      ]
    },
    {
      "cell_type": "code",
      "metadata": {
        "id": "4R_8NqmFGlcm",
        "colab": {
          "base_uri": "https://localhost:8080/",
          "height": 239
        },
        "outputId": "8203f640-905c-4376-f5f3-214ba826a022"
      },
      "source": [
        "# Tags\n",
        "df2[df2['text'].str.contains('#')].head(3)"
      ],
      "execution_count": 74,
      "outputs": [
        {
          "output_type": "execute_result",
          "data": {
            "text/plain": [
              "   sentiment  \\\n",
              "13  positive   \n",
              "16  positive   \n",
              "26  negative   \n",
              "\n",
              "                                                                                                                                            text  \\\n",
              "13  @VirginAmerica @virginmedia I'm flying your #fabulous #Seductive skies again! U take all the #stress away from travel http://t.co/ahlXHhKiyn   \n",
              "16  @VirginAmerica So excited for my first cross country flight LAX to MCO I've heard nothing but great things about Virgin America. #29DaysToGo   \n",
              "26  @VirginAmerica What happened 2 ur vegan food options?! At least say on ur site so i know I won't be able 2 eat anything for next 6 hrs #fail   \n",
              "\n",
              "                                                                                                clean_text  \n",
              "13               virginamerica virginmedia im flying fabulous seductive sky u take stress away travel http  \n",
              "16   virginamerica excited first cross country flight lax mco ive heard nothing great thing virgin america  \n",
              "26  virginamerica happened ur vegan food option least say ur site know wont able eat anything next hr fail  "
            ],
            "text/html": [
              "\n",
              "  <div id=\"df-79eb0db7-49ca-4ca6-8a0b-4bef7439db00\">\n",
              "    <div class=\"colab-df-container\">\n",
              "      <div>\n",
              "<style scoped>\n",
              "    .dataframe tbody tr th:only-of-type {\n",
              "        vertical-align: middle;\n",
              "    }\n",
              "\n",
              "    .dataframe tbody tr th {\n",
              "        vertical-align: top;\n",
              "    }\n",
              "\n",
              "    .dataframe thead th {\n",
              "        text-align: right;\n",
              "    }\n",
              "</style>\n",
              "<table border=\"1\" class=\"dataframe\">\n",
              "  <thead>\n",
              "    <tr style=\"text-align: right;\">\n",
              "      <th></th>\n",
              "      <th>sentiment</th>\n",
              "      <th>text</th>\n",
              "      <th>clean_text</th>\n",
              "    </tr>\n",
              "  </thead>\n",
              "  <tbody>\n",
              "    <tr>\n",
              "      <th>13</th>\n",
              "      <td>positive</td>\n",
              "      <td>@VirginAmerica @virginmedia I'm flying your #fabulous #Seductive skies again! U take all the #stress away from travel http://t.co/ahlXHhKiyn</td>\n",
              "      <td>virginamerica virginmedia im flying fabulous seductive sky u take stress away travel http</td>\n",
              "    </tr>\n",
              "    <tr>\n",
              "      <th>16</th>\n",
              "      <td>positive</td>\n",
              "      <td>@VirginAmerica So excited for my first cross country flight LAX to MCO I've heard nothing but great things about Virgin America. #29DaysToGo</td>\n",
              "      <td>virginamerica excited first cross country flight lax mco ive heard nothing great thing virgin america</td>\n",
              "    </tr>\n",
              "    <tr>\n",
              "      <th>26</th>\n",
              "      <td>negative</td>\n",
              "      <td>@VirginAmerica What happened 2 ur vegan food options?! At least say on ur site so i know I won't be able 2 eat anything for next 6 hrs #fail</td>\n",
              "      <td>virginamerica happened ur vegan food option least say ur site know wont able eat anything next hr fail</td>\n",
              "    </tr>\n",
              "  </tbody>\n",
              "</table>\n",
              "</div>\n",
              "      <button class=\"colab-df-convert\" onclick=\"convertToInteractive('df-79eb0db7-49ca-4ca6-8a0b-4bef7439db00')\"\n",
              "              title=\"Convert this dataframe to an interactive table.\"\n",
              "              style=\"display:none;\">\n",
              "        \n",
              "  <svg xmlns=\"http://www.w3.org/2000/svg\" height=\"24px\"viewBox=\"0 0 24 24\"\n",
              "       width=\"24px\">\n",
              "    <path d=\"M0 0h24v24H0V0z\" fill=\"none\"/>\n",
              "    <path d=\"M18.56 5.44l.94 2.06.94-2.06 2.06-.94-2.06-.94-.94-2.06-.94 2.06-2.06.94zm-11 1L8.5 8.5l.94-2.06 2.06-.94-2.06-.94L8.5 2.5l-.94 2.06-2.06.94zm10 10l.94 2.06.94-2.06 2.06-.94-2.06-.94-.94-2.06-.94 2.06-2.06.94z\"/><path d=\"M17.41 7.96l-1.37-1.37c-.4-.4-.92-.59-1.43-.59-.52 0-1.04.2-1.43.59L10.3 9.45l-7.72 7.72c-.78.78-.78 2.05 0 2.83L4 21.41c.39.39.9.59 1.41.59.51 0 1.02-.2 1.41-.59l7.78-7.78 2.81-2.81c.8-.78.8-2.07 0-2.86zM5.41 20L4 18.59l7.72-7.72 1.47 1.35L5.41 20z\"/>\n",
              "  </svg>\n",
              "      </button>\n",
              "      \n",
              "  <style>\n",
              "    .colab-df-container {\n",
              "      display:flex;\n",
              "      flex-wrap:wrap;\n",
              "      gap: 12px;\n",
              "    }\n",
              "\n",
              "    .colab-df-convert {\n",
              "      background-color: #E8F0FE;\n",
              "      border: none;\n",
              "      border-radius: 50%;\n",
              "      cursor: pointer;\n",
              "      display: none;\n",
              "      fill: #1967D2;\n",
              "      height: 32px;\n",
              "      padding: 0 0 0 0;\n",
              "      width: 32px;\n",
              "    }\n",
              "\n",
              "    .colab-df-convert:hover {\n",
              "      background-color: #E2EBFA;\n",
              "      box-shadow: 0px 1px 2px rgba(60, 64, 67, 0.3), 0px 1px 3px 1px rgba(60, 64, 67, 0.15);\n",
              "      fill: #174EA6;\n",
              "    }\n",
              "\n",
              "    [theme=dark] .colab-df-convert {\n",
              "      background-color: #3B4455;\n",
              "      fill: #D2E3FC;\n",
              "    }\n",
              "\n",
              "    [theme=dark] .colab-df-convert:hover {\n",
              "      background-color: #434B5C;\n",
              "      box-shadow: 0px 1px 3px 1px rgba(0, 0, 0, 0.15);\n",
              "      filter: drop-shadow(0px 1px 2px rgba(0, 0, 0, 0.3));\n",
              "      fill: #FFFFFF;\n",
              "    }\n",
              "  </style>\n",
              "\n",
              "      <script>\n",
              "        const buttonEl =\n",
              "          document.querySelector('#df-79eb0db7-49ca-4ca6-8a0b-4bef7439db00 button.colab-df-convert');\n",
              "        buttonEl.style.display =\n",
              "          google.colab.kernel.accessAllowed ? 'block' : 'none';\n",
              "\n",
              "        async function convertToInteractive(key) {\n",
              "          const element = document.querySelector('#df-79eb0db7-49ca-4ca6-8a0b-4bef7439db00');\n",
              "          const dataTable =\n",
              "            await google.colab.kernel.invokeFunction('convertToInteractive',\n",
              "                                                     [key], {});\n",
              "          if (!dataTable) return;\n",
              "\n",
              "          const docLinkHtml = 'Like what you see? Visit the ' +\n",
              "            '<a target=\"_blank\" href=https://colab.research.google.com/notebooks/data_table.ipynb>data table notebook</a>'\n",
              "            + ' to learn more about interactive tables.';\n",
              "          element.innerHTML = '';\n",
              "          dataTable['output_type'] = 'display_data';\n",
              "          await google.colab.output.renderOutput(dataTable, element);\n",
              "          const docLink = document.createElement('div');\n",
              "          docLink.innerHTML = docLinkHtml;\n",
              "          element.appendChild(docLink);\n",
              "        }\n",
              "      </script>\n",
              "    </div>\n",
              "  </div>\n",
              "  "
            ]
          },
          "metadata": {},
          "execution_count": 74
        }
      ]
    },
    {
      "cell_type": "code",
      "metadata": {
        "id": "BfCSqNgbQC7Z"
      },
      "source": [
        "def updated_cleaning(data):\n",
        "\n",
        "    import re\n",
        "    \n",
        "    #1. Removing URLS\n",
        "    data = re.sub(r'http\\S+', '', data)\n",
        "\n",
        "    #2. Removing Tags\n",
        "    data = re.sub(r'#\\w+', '', data)\n",
        "\n",
        "    #3. Removing Mentions\n",
        "    data = re.sub(r'@\\w+', '', data)\n",
        "\n",
        "    #4. Contractions Expension & Tokenize\n",
        "    #text_tokens = word_tokenize(contractions.fix(data.lower())) \n",
        "    text_tokens = word_tokenize(data.replace(\"'\", '').lower())\n",
        "\n",
        "    #5. Removing mentions\n",
        "    tokens_without_mention = [w for w in text_tokens if not w.startswith('@')]\n",
        "    \n",
        "    #6. Remove Puncs\n",
        "    tokens_without_punc = [w for w in tokens_without_mention if w.isalpha()]\n",
        "    \n",
        "    #7. Removing Stopwords\n",
        "    tokens_without_sw = [t for t in tokens_without_punc if t not in stop_words]\n",
        "    \n",
        "    #8. lemma\n",
        "    text_cleaned = [WordNetLemmatizer().lemmatize(t) for t in tokens_without_sw]\n",
        "    \n",
        "    #joining\n",
        "    return \" \".join(text_cleaned)"
      ],
      "execution_count": 75,
      "outputs": []
    },
    {
      "cell_type": "code",
      "metadata": {
        "id": "2eGZ03JjERKc"
      },
      "source": [
        "df2[\"clean_text\"] = df2[\"text\"].apply(updated_cleaning)"
      ],
      "execution_count": 76,
      "outputs": []
    },
    {
      "cell_type": "code",
      "metadata": {
        "id": "xymK6fJADf5M",
        "colab": {
          "base_uri": "https://localhost:8080/",
          "height": 114
        },
        "outputId": "321b6ced-65f8-45cc-cbd1-4c3c8a2f144c"
      },
      "source": [
        "df2[df2['clean_text'].str.contains('http')]\n",
        "df2[df2['clean_text'].str.contains('#')]\n",
        "df2[df2['clean_text'].str.contains('@')]"
      ],
      "execution_count": 77,
      "outputs": [
        {
          "output_type": "execute_result",
          "data": {
            "text/plain": [
              "Empty DataFrame\n",
              "Columns: [sentiment, text, clean_text]\n",
              "Index: []"
            ],
            "text/html": [
              "\n",
              "  <div id=\"df-883281a5-3c56-44b3-8a8a-946cd4906729\">\n",
              "    <div class=\"colab-df-container\">\n",
              "      <div>\n",
              "<style scoped>\n",
              "    .dataframe tbody tr th:only-of-type {\n",
              "        vertical-align: middle;\n",
              "    }\n",
              "\n",
              "    .dataframe tbody tr th {\n",
              "        vertical-align: top;\n",
              "    }\n",
              "\n",
              "    .dataframe thead th {\n",
              "        text-align: right;\n",
              "    }\n",
              "</style>\n",
              "<table border=\"1\" class=\"dataframe\">\n",
              "  <thead>\n",
              "    <tr style=\"text-align: right;\">\n",
              "      <th></th>\n",
              "      <th>sentiment</th>\n",
              "      <th>text</th>\n",
              "      <th>clean_text</th>\n",
              "    </tr>\n",
              "  </thead>\n",
              "  <tbody>\n",
              "  </tbody>\n",
              "</table>\n",
              "</div>\n",
              "      <button class=\"colab-df-convert\" onclick=\"convertToInteractive('df-883281a5-3c56-44b3-8a8a-946cd4906729')\"\n",
              "              title=\"Convert this dataframe to an interactive table.\"\n",
              "              style=\"display:none;\">\n",
              "        \n",
              "  <svg xmlns=\"http://www.w3.org/2000/svg\" height=\"24px\"viewBox=\"0 0 24 24\"\n",
              "       width=\"24px\">\n",
              "    <path d=\"M0 0h24v24H0V0z\" fill=\"none\"/>\n",
              "    <path d=\"M18.56 5.44l.94 2.06.94-2.06 2.06-.94-2.06-.94-.94-2.06-.94 2.06-2.06.94zm-11 1L8.5 8.5l.94-2.06 2.06-.94-2.06-.94L8.5 2.5l-.94 2.06-2.06.94zm10 10l.94 2.06.94-2.06 2.06-.94-2.06-.94-.94-2.06-.94 2.06-2.06.94z\"/><path d=\"M17.41 7.96l-1.37-1.37c-.4-.4-.92-.59-1.43-.59-.52 0-1.04.2-1.43.59L10.3 9.45l-7.72 7.72c-.78.78-.78 2.05 0 2.83L4 21.41c.39.39.9.59 1.41.59.51 0 1.02-.2 1.41-.59l7.78-7.78 2.81-2.81c.8-.78.8-2.07 0-2.86zM5.41 20L4 18.59l7.72-7.72 1.47 1.35L5.41 20z\"/>\n",
              "  </svg>\n",
              "      </button>\n",
              "      \n",
              "  <style>\n",
              "    .colab-df-container {\n",
              "      display:flex;\n",
              "      flex-wrap:wrap;\n",
              "      gap: 12px;\n",
              "    }\n",
              "\n",
              "    .colab-df-convert {\n",
              "      background-color: #E8F0FE;\n",
              "      border: none;\n",
              "      border-radius: 50%;\n",
              "      cursor: pointer;\n",
              "      display: none;\n",
              "      fill: #1967D2;\n",
              "      height: 32px;\n",
              "      padding: 0 0 0 0;\n",
              "      width: 32px;\n",
              "    }\n",
              "\n",
              "    .colab-df-convert:hover {\n",
              "      background-color: #E2EBFA;\n",
              "      box-shadow: 0px 1px 2px rgba(60, 64, 67, 0.3), 0px 1px 3px 1px rgba(60, 64, 67, 0.15);\n",
              "      fill: #174EA6;\n",
              "    }\n",
              "\n",
              "    [theme=dark] .colab-df-convert {\n",
              "      background-color: #3B4455;\n",
              "      fill: #D2E3FC;\n",
              "    }\n",
              "\n",
              "    [theme=dark] .colab-df-convert:hover {\n",
              "      background-color: #434B5C;\n",
              "      box-shadow: 0px 1px 3px 1px rgba(0, 0, 0, 0.15);\n",
              "      filter: drop-shadow(0px 1px 2px rgba(0, 0, 0, 0.3));\n",
              "      fill: #FFFFFF;\n",
              "    }\n",
              "  </style>\n",
              "\n",
              "      <script>\n",
              "        const buttonEl =\n",
              "          document.querySelector('#df-883281a5-3c56-44b3-8a8a-946cd4906729 button.colab-df-convert');\n",
              "        buttonEl.style.display =\n",
              "          google.colab.kernel.accessAllowed ? 'block' : 'none';\n",
              "\n",
              "        async function convertToInteractive(key) {\n",
              "          const element = document.querySelector('#df-883281a5-3c56-44b3-8a8a-946cd4906729');\n",
              "          const dataTable =\n",
              "            await google.colab.kernel.invokeFunction('convertToInteractive',\n",
              "                                                     [key], {});\n",
              "          if (!dataTable) return;\n",
              "\n",
              "          const docLinkHtml = 'Like what you see? Visit the ' +\n",
              "            '<a target=\"_blank\" href=https://colab.research.google.com/notebooks/data_table.ipynb>data table notebook</a>'\n",
              "            + ' to learn more about interactive tables.';\n",
              "          element.innerHTML = '';\n",
              "          dataTable['output_type'] = 'display_data';\n",
              "          await google.colab.output.renderOutput(dataTable, element);\n",
              "          const docLink = document.createElement('div');\n",
              "          docLink.innerHTML = docLinkHtml;\n",
              "          element.appendChild(docLink);\n",
              "        }\n",
              "      </script>\n",
              "    </div>\n",
              "  </div>\n",
              "  "
            ]
          },
          "metadata": {},
          "execution_count": 77
        },
        {
          "output_type": "execute_result",
          "data": {
            "text/plain": [
              "Empty DataFrame\n",
              "Columns: [sentiment, text, clean_text]\n",
              "Index: []"
            ],
            "text/html": [
              "\n",
              "  <div id=\"df-9c1e157a-561b-4bd8-81cb-486c892231f7\">\n",
              "    <div class=\"colab-df-container\">\n",
              "      <div>\n",
              "<style scoped>\n",
              "    .dataframe tbody tr th:only-of-type {\n",
              "        vertical-align: middle;\n",
              "    }\n",
              "\n",
              "    .dataframe tbody tr th {\n",
              "        vertical-align: top;\n",
              "    }\n",
              "\n",
              "    .dataframe thead th {\n",
              "        text-align: right;\n",
              "    }\n",
              "</style>\n",
              "<table border=\"1\" class=\"dataframe\">\n",
              "  <thead>\n",
              "    <tr style=\"text-align: right;\">\n",
              "      <th></th>\n",
              "      <th>sentiment</th>\n",
              "      <th>text</th>\n",
              "      <th>clean_text</th>\n",
              "    </tr>\n",
              "  </thead>\n",
              "  <tbody>\n",
              "  </tbody>\n",
              "</table>\n",
              "</div>\n",
              "      <button class=\"colab-df-convert\" onclick=\"convertToInteractive('df-9c1e157a-561b-4bd8-81cb-486c892231f7')\"\n",
              "              title=\"Convert this dataframe to an interactive table.\"\n",
              "              style=\"display:none;\">\n",
              "        \n",
              "  <svg xmlns=\"http://www.w3.org/2000/svg\" height=\"24px\"viewBox=\"0 0 24 24\"\n",
              "       width=\"24px\">\n",
              "    <path d=\"M0 0h24v24H0V0z\" fill=\"none\"/>\n",
              "    <path d=\"M18.56 5.44l.94 2.06.94-2.06 2.06-.94-2.06-.94-.94-2.06-.94 2.06-2.06.94zm-11 1L8.5 8.5l.94-2.06 2.06-.94-2.06-.94L8.5 2.5l-.94 2.06-2.06.94zm10 10l.94 2.06.94-2.06 2.06-.94-2.06-.94-.94-2.06-.94 2.06-2.06.94z\"/><path d=\"M17.41 7.96l-1.37-1.37c-.4-.4-.92-.59-1.43-.59-.52 0-1.04.2-1.43.59L10.3 9.45l-7.72 7.72c-.78.78-.78 2.05 0 2.83L4 21.41c.39.39.9.59 1.41.59.51 0 1.02-.2 1.41-.59l7.78-7.78 2.81-2.81c.8-.78.8-2.07 0-2.86zM5.41 20L4 18.59l7.72-7.72 1.47 1.35L5.41 20z\"/>\n",
              "  </svg>\n",
              "      </button>\n",
              "      \n",
              "  <style>\n",
              "    .colab-df-container {\n",
              "      display:flex;\n",
              "      flex-wrap:wrap;\n",
              "      gap: 12px;\n",
              "    }\n",
              "\n",
              "    .colab-df-convert {\n",
              "      background-color: #E8F0FE;\n",
              "      border: none;\n",
              "      border-radius: 50%;\n",
              "      cursor: pointer;\n",
              "      display: none;\n",
              "      fill: #1967D2;\n",
              "      height: 32px;\n",
              "      padding: 0 0 0 0;\n",
              "      width: 32px;\n",
              "    }\n",
              "\n",
              "    .colab-df-convert:hover {\n",
              "      background-color: #E2EBFA;\n",
              "      box-shadow: 0px 1px 2px rgba(60, 64, 67, 0.3), 0px 1px 3px 1px rgba(60, 64, 67, 0.15);\n",
              "      fill: #174EA6;\n",
              "    }\n",
              "\n",
              "    [theme=dark] .colab-df-convert {\n",
              "      background-color: #3B4455;\n",
              "      fill: #D2E3FC;\n",
              "    }\n",
              "\n",
              "    [theme=dark] .colab-df-convert:hover {\n",
              "      background-color: #434B5C;\n",
              "      box-shadow: 0px 1px 3px 1px rgba(0, 0, 0, 0.15);\n",
              "      filter: drop-shadow(0px 1px 2px rgba(0, 0, 0, 0.3));\n",
              "      fill: #FFFFFF;\n",
              "    }\n",
              "  </style>\n",
              "\n",
              "      <script>\n",
              "        const buttonEl =\n",
              "          document.querySelector('#df-9c1e157a-561b-4bd8-81cb-486c892231f7 button.colab-df-convert');\n",
              "        buttonEl.style.display =\n",
              "          google.colab.kernel.accessAllowed ? 'block' : 'none';\n",
              "\n",
              "        async function convertToInteractive(key) {\n",
              "          const element = document.querySelector('#df-9c1e157a-561b-4bd8-81cb-486c892231f7');\n",
              "          const dataTable =\n",
              "            await google.colab.kernel.invokeFunction('convertToInteractive',\n",
              "                                                     [key], {});\n",
              "          if (!dataTable) return;\n",
              "\n",
              "          const docLinkHtml = 'Like what you see? Visit the ' +\n",
              "            '<a target=\"_blank\" href=https://colab.research.google.com/notebooks/data_table.ipynb>data table notebook</a>'\n",
              "            + ' to learn more about interactive tables.';\n",
              "          element.innerHTML = '';\n",
              "          dataTable['output_type'] = 'display_data';\n",
              "          await google.colab.output.renderOutput(dataTable, element);\n",
              "          const docLink = document.createElement('div');\n",
              "          docLink.innerHTML = docLinkHtml;\n",
              "          element.appendChild(docLink);\n",
              "        }\n",
              "      </script>\n",
              "    </div>\n",
              "  </div>\n",
              "  "
            ]
          },
          "metadata": {},
          "execution_count": 77
        },
        {
          "output_type": "execute_result",
          "data": {
            "text/plain": [
              "Empty DataFrame\n",
              "Columns: [sentiment, text, clean_text]\n",
              "Index: []"
            ],
            "text/html": [
              "\n",
              "  <div id=\"df-dc3fa005-4216-4f0a-b3fc-3c97040eb477\">\n",
              "    <div class=\"colab-df-container\">\n",
              "      <div>\n",
              "<style scoped>\n",
              "    .dataframe tbody tr th:only-of-type {\n",
              "        vertical-align: middle;\n",
              "    }\n",
              "\n",
              "    .dataframe tbody tr th {\n",
              "        vertical-align: top;\n",
              "    }\n",
              "\n",
              "    .dataframe thead th {\n",
              "        text-align: right;\n",
              "    }\n",
              "</style>\n",
              "<table border=\"1\" class=\"dataframe\">\n",
              "  <thead>\n",
              "    <tr style=\"text-align: right;\">\n",
              "      <th></th>\n",
              "      <th>sentiment</th>\n",
              "      <th>text</th>\n",
              "      <th>clean_text</th>\n",
              "    </tr>\n",
              "  </thead>\n",
              "  <tbody>\n",
              "  </tbody>\n",
              "</table>\n",
              "</div>\n",
              "      <button class=\"colab-df-convert\" onclick=\"convertToInteractive('df-dc3fa005-4216-4f0a-b3fc-3c97040eb477')\"\n",
              "              title=\"Convert this dataframe to an interactive table.\"\n",
              "              style=\"display:none;\">\n",
              "        \n",
              "  <svg xmlns=\"http://www.w3.org/2000/svg\" height=\"24px\"viewBox=\"0 0 24 24\"\n",
              "       width=\"24px\">\n",
              "    <path d=\"M0 0h24v24H0V0z\" fill=\"none\"/>\n",
              "    <path d=\"M18.56 5.44l.94 2.06.94-2.06 2.06-.94-2.06-.94-.94-2.06-.94 2.06-2.06.94zm-11 1L8.5 8.5l.94-2.06 2.06-.94-2.06-.94L8.5 2.5l-.94 2.06-2.06.94zm10 10l.94 2.06.94-2.06 2.06-.94-2.06-.94-.94-2.06-.94 2.06-2.06.94z\"/><path d=\"M17.41 7.96l-1.37-1.37c-.4-.4-.92-.59-1.43-.59-.52 0-1.04.2-1.43.59L10.3 9.45l-7.72 7.72c-.78.78-.78 2.05 0 2.83L4 21.41c.39.39.9.59 1.41.59.51 0 1.02-.2 1.41-.59l7.78-7.78 2.81-2.81c.8-.78.8-2.07 0-2.86zM5.41 20L4 18.59l7.72-7.72 1.47 1.35L5.41 20z\"/>\n",
              "  </svg>\n",
              "      </button>\n",
              "      \n",
              "  <style>\n",
              "    .colab-df-container {\n",
              "      display:flex;\n",
              "      flex-wrap:wrap;\n",
              "      gap: 12px;\n",
              "    }\n",
              "\n",
              "    .colab-df-convert {\n",
              "      background-color: #E8F0FE;\n",
              "      border: none;\n",
              "      border-radius: 50%;\n",
              "      cursor: pointer;\n",
              "      display: none;\n",
              "      fill: #1967D2;\n",
              "      height: 32px;\n",
              "      padding: 0 0 0 0;\n",
              "      width: 32px;\n",
              "    }\n",
              "\n",
              "    .colab-df-convert:hover {\n",
              "      background-color: #E2EBFA;\n",
              "      box-shadow: 0px 1px 2px rgba(60, 64, 67, 0.3), 0px 1px 3px 1px rgba(60, 64, 67, 0.15);\n",
              "      fill: #174EA6;\n",
              "    }\n",
              "\n",
              "    [theme=dark] .colab-df-convert {\n",
              "      background-color: #3B4455;\n",
              "      fill: #D2E3FC;\n",
              "    }\n",
              "\n",
              "    [theme=dark] .colab-df-convert:hover {\n",
              "      background-color: #434B5C;\n",
              "      box-shadow: 0px 1px 3px 1px rgba(0, 0, 0, 0.15);\n",
              "      filter: drop-shadow(0px 1px 2px rgba(0, 0, 0, 0.3));\n",
              "      fill: #FFFFFF;\n",
              "    }\n",
              "  </style>\n",
              "\n",
              "      <script>\n",
              "        const buttonEl =\n",
              "          document.querySelector('#df-dc3fa005-4216-4f0a-b3fc-3c97040eb477 button.colab-df-convert');\n",
              "        buttonEl.style.display =\n",
              "          google.colab.kernel.accessAllowed ? 'block' : 'none';\n",
              "\n",
              "        async function convertToInteractive(key) {\n",
              "          const element = document.querySelector('#df-dc3fa005-4216-4f0a-b3fc-3c97040eb477');\n",
              "          const dataTable =\n",
              "            await google.colab.kernel.invokeFunction('convertToInteractive',\n",
              "                                                     [key], {});\n",
              "          if (!dataTable) return;\n",
              "\n",
              "          const docLinkHtml = 'Like what you see? Visit the ' +\n",
              "            '<a target=\"_blank\" href=https://colab.research.google.com/notebooks/data_table.ipynb>data table notebook</a>'\n",
              "            + ' to learn more about interactive tables.';\n",
              "          element.innerHTML = '';\n",
              "          dataTable['output_type'] = 'display_data';\n",
              "          await google.colab.output.renderOutput(dataTable, element);\n",
              "          const docLink = document.createElement('div');\n",
              "          docLink.innerHTML = docLinkHtml;\n",
              "          element.appendChild(docLink);\n",
              "        }\n",
              "      </script>\n",
              "    </div>\n",
              "  </div>\n",
              "  "
            ]
          },
          "metadata": {},
          "execution_count": 77
        }
      ]
    },
    {
      "cell_type": "code",
      "metadata": {
        "id": "W3ApLjV3EhVr",
        "colab": {
          "base_uri": "https://localhost:8080/",
          "height": 476
        },
        "outputId": "e9348f9e-f750-45f0-f0d2-c59cf0e4055f"
      },
      "source": [
        "df2.sample(10)"
      ],
      "execution_count": 78,
      "outputs": [
        {
          "output_type": "execute_result",
          "data": {
            "text/plain": [
              "      sentiment  \\\n",
              "2753    neutral   \n",
              "8243   positive   \n",
              "2717   negative   \n",
              "12356  negative   \n",
              "5706    neutral   \n",
              "3350   negative   \n",
              "12932  negative   \n",
              "11963  negative   \n",
              "4610   negative   \n",
              "14084  negative   \n",
              "\n",
              "                                                                                                                                             text  \\\n",
              "2753                                                                   @united I just had an interview how long does it take before you hear back   \n",
              "8243                                                                                                    @JetBlue excellent. you guys are the best   \n",
              "2717                                                                                           @United can you let us out of the gate now. UA1157   \n",
              "12356  @AmericanAir how do you NOT do maintenance on #MD80 while it sits for two days? Frozen lines found after its boarded? Come on! #faail #mci   \n",
              "5706                                                                                     @SouthwestAir  what is the status on flight#122 STL-AUS?   \n",
              "3350                                                                @united question - was given food vouchers but can't use on plane..how   come   \n",
              "12932                                                                        @AmericanAir im tryin to book a flight but cant get ahold of anyone!   \n",
              "11963       @AmericanAir lost my cats, missed their flights, kept them crated 30 hrs for a  would-be 5 hr trip. You'll never touch my pets again.   \n",
              "4610         @SouthwestAir- is new #MKT strategy to be average like all the rest? #whathappend? RR Points Devalued- AGAIN -http://t.co/mDbDYomrs7   \n",
              "14084     @AmericanAir @cjdjpdx not a valid response in 2015 for a multinational corp whose profits are measured in billions. Stop understaffing!   \n",
              "\n",
              "                                                                               clean_text  \n",
              "2753                                                        interview long take hear back  \n",
              "8243                                                                   excellent guy best  \n",
              "2717                                                                           let u gate  \n",
              "12356                             maintenance sits two day frozen line found boarded come  \n",
              "5706                                                                        status flight  \n",
              "3350                                            question given food voucher cant use come  \n",
              "12932                                          im tryin book flight cant get ahold anyone  \n",
              "11963                 lost cat missed flight kept crated hr hr trip youll never touch pet  \n",
              "4610                                              new strategy average like rest rr point  \n",
              "14084  valid response multinational corp whose profit measured billion stop understaffing  "
            ],
            "text/html": [
              "\n",
              "  <div id=\"df-a42878c3-2e6f-4566-b35e-c38a2a8da43d\">\n",
              "    <div class=\"colab-df-container\">\n",
              "      <div>\n",
              "<style scoped>\n",
              "    .dataframe tbody tr th:only-of-type {\n",
              "        vertical-align: middle;\n",
              "    }\n",
              "\n",
              "    .dataframe tbody tr th {\n",
              "        vertical-align: top;\n",
              "    }\n",
              "\n",
              "    .dataframe thead th {\n",
              "        text-align: right;\n",
              "    }\n",
              "</style>\n",
              "<table border=\"1\" class=\"dataframe\">\n",
              "  <thead>\n",
              "    <tr style=\"text-align: right;\">\n",
              "      <th></th>\n",
              "      <th>sentiment</th>\n",
              "      <th>text</th>\n",
              "      <th>clean_text</th>\n",
              "    </tr>\n",
              "  </thead>\n",
              "  <tbody>\n",
              "    <tr>\n",
              "      <th>2753</th>\n",
              "      <td>neutral</td>\n",
              "      <td>@united I just had an interview how long does it take before you hear back</td>\n",
              "      <td>interview long take hear back</td>\n",
              "    </tr>\n",
              "    <tr>\n",
              "      <th>8243</th>\n",
              "      <td>positive</td>\n",
              "      <td>@JetBlue excellent. you guys are the best</td>\n",
              "      <td>excellent guy best</td>\n",
              "    </tr>\n",
              "    <tr>\n",
              "      <th>2717</th>\n",
              "      <td>negative</td>\n",
              "      <td>@United can you let us out of the gate now. UA1157</td>\n",
              "      <td>let u gate</td>\n",
              "    </tr>\n",
              "    <tr>\n",
              "      <th>12356</th>\n",
              "      <td>negative</td>\n",
              "      <td>@AmericanAir how do you NOT do maintenance on #MD80 while it sits for two days? Frozen lines found after its boarded? Come on! #faail #mci</td>\n",
              "      <td>maintenance sits two day frozen line found boarded come</td>\n",
              "    </tr>\n",
              "    <tr>\n",
              "      <th>5706</th>\n",
              "      <td>neutral</td>\n",
              "      <td>@SouthwestAir  what is the status on flight#122 STL-AUS?</td>\n",
              "      <td>status flight</td>\n",
              "    </tr>\n",
              "    <tr>\n",
              "      <th>3350</th>\n",
              "      <td>negative</td>\n",
              "      <td>@united question - was given food vouchers but can't use on plane..how   come</td>\n",
              "      <td>question given food voucher cant use come</td>\n",
              "    </tr>\n",
              "    <tr>\n",
              "      <th>12932</th>\n",
              "      <td>negative</td>\n",
              "      <td>@AmericanAir im tryin to book a flight but cant get ahold of anyone!</td>\n",
              "      <td>im tryin book flight cant get ahold anyone</td>\n",
              "    </tr>\n",
              "    <tr>\n",
              "      <th>11963</th>\n",
              "      <td>negative</td>\n",
              "      <td>@AmericanAir lost my cats, missed their flights, kept them crated 30 hrs for a  would-be 5 hr trip. You'll never touch my pets again.</td>\n",
              "      <td>lost cat missed flight kept crated hr hr trip youll never touch pet</td>\n",
              "    </tr>\n",
              "    <tr>\n",
              "      <th>4610</th>\n",
              "      <td>negative</td>\n",
              "      <td>@SouthwestAir- is new #MKT strategy to be average like all the rest? #whathappend? RR Points Devalued- AGAIN -http://t.co/mDbDYomrs7</td>\n",
              "      <td>new strategy average like rest rr point</td>\n",
              "    </tr>\n",
              "    <tr>\n",
              "      <th>14084</th>\n",
              "      <td>negative</td>\n",
              "      <td>@AmericanAir @cjdjpdx not a valid response in 2015 for a multinational corp whose profits are measured in billions. Stop understaffing!</td>\n",
              "      <td>valid response multinational corp whose profit measured billion stop understaffing</td>\n",
              "    </tr>\n",
              "  </tbody>\n",
              "</table>\n",
              "</div>\n",
              "      <button class=\"colab-df-convert\" onclick=\"convertToInteractive('df-a42878c3-2e6f-4566-b35e-c38a2a8da43d')\"\n",
              "              title=\"Convert this dataframe to an interactive table.\"\n",
              "              style=\"display:none;\">\n",
              "        \n",
              "  <svg xmlns=\"http://www.w3.org/2000/svg\" height=\"24px\"viewBox=\"0 0 24 24\"\n",
              "       width=\"24px\">\n",
              "    <path d=\"M0 0h24v24H0V0z\" fill=\"none\"/>\n",
              "    <path d=\"M18.56 5.44l.94 2.06.94-2.06 2.06-.94-2.06-.94-.94-2.06-.94 2.06-2.06.94zm-11 1L8.5 8.5l.94-2.06 2.06-.94-2.06-.94L8.5 2.5l-.94 2.06-2.06.94zm10 10l.94 2.06.94-2.06 2.06-.94-2.06-.94-.94-2.06-.94 2.06-2.06.94z\"/><path d=\"M17.41 7.96l-1.37-1.37c-.4-.4-.92-.59-1.43-.59-.52 0-1.04.2-1.43.59L10.3 9.45l-7.72 7.72c-.78.78-.78 2.05 0 2.83L4 21.41c.39.39.9.59 1.41.59.51 0 1.02-.2 1.41-.59l7.78-7.78 2.81-2.81c.8-.78.8-2.07 0-2.86zM5.41 20L4 18.59l7.72-7.72 1.47 1.35L5.41 20z\"/>\n",
              "  </svg>\n",
              "      </button>\n",
              "      \n",
              "  <style>\n",
              "    .colab-df-container {\n",
              "      display:flex;\n",
              "      flex-wrap:wrap;\n",
              "      gap: 12px;\n",
              "    }\n",
              "\n",
              "    .colab-df-convert {\n",
              "      background-color: #E8F0FE;\n",
              "      border: none;\n",
              "      border-radius: 50%;\n",
              "      cursor: pointer;\n",
              "      display: none;\n",
              "      fill: #1967D2;\n",
              "      height: 32px;\n",
              "      padding: 0 0 0 0;\n",
              "      width: 32px;\n",
              "    }\n",
              "\n",
              "    .colab-df-convert:hover {\n",
              "      background-color: #E2EBFA;\n",
              "      box-shadow: 0px 1px 2px rgba(60, 64, 67, 0.3), 0px 1px 3px 1px rgba(60, 64, 67, 0.15);\n",
              "      fill: #174EA6;\n",
              "    }\n",
              "\n",
              "    [theme=dark] .colab-df-convert {\n",
              "      background-color: #3B4455;\n",
              "      fill: #D2E3FC;\n",
              "    }\n",
              "\n",
              "    [theme=dark] .colab-df-convert:hover {\n",
              "      background-color: #434B5C;\n",
              "      box-shadow: 0px 1px 3px 1px rgba(0, 0, 0, 0.15);\n",
              "      filter: drop-shadow(0px 1px 2px rgba(0, 0, 0, 0.3));\n",
              "      fill: #FFFFFF;\n",
              "    }\n",
              "  </style>\n",
              "\n",
              "      <script>\n",
              "        const buttonEl =\n",
              "          document.querySelector('#df-a42878c3-2e6f-4566-b35e-c38a2a8da43d button.colab-df-convert');\n",
              "        buttonEl.style.display =\n",
              "          google.colab.kernel.accessAllowed ? 'block' : 'none';\n",
              "\n",
              "        async function convertToInteractive(key) {\n",
              "          const element = document.querySelector('#df-a42878c3-2e6f-4566-b35e-c38a2a8da43d');\n",
              "          const dataTable =\n",
              "            await google.colab.kernel.invokeFunction('convertToInteractive',\n",
              "                                                     [key], {});\n",
              "          if (!dataTable) return;\n",
              "\n",
              "          const docLinkHtml = 'Like what you see? Visit the ' +\n",
              "            '<a target=\"_blank\" href=https://colab.research.google.com/notebooks/data_table.ipynb>data table notebook</a>'\n",
              "            + ' to learn more about interactive tables.';\n",
              "          element.innerHTML = '';\n",
              "          dataTable['output_type'] = 'display_data';\n",
              "          await google.colab.output.renderOutput(dataTable, element);\n",
              "          const docLink = document.createElement('div');\n",
              "          docLink.innerHTML = docLinkHtml;\n",
              "          element.appendChild(docLink);\n",
              "        }\n",
              "      </script>\n",
              "    </div>\n",
              "  </div>\n",
              "  "
            ]
          },
          "metadata": {},
          "execution_count": 78
        }
      ]
    },
    {
      "cell_type": "markdown",
      "metadata": {
        "id": "FiySzpXBQC7Z"
      },
      "source": [
        "## CountVectorization"
      ]
    },
    {
      "cell_type": "code",
      "metadata": {
        "id": "3vT0WgIsQC7Z"
      },
      "source": [
        "X = df2[\"clean_text\"]\n",
        "y = df2[\"sentiment\"]"
      ],
      "execution_count": 106,
      "outputs": []
    },
    {
      "cell_type": "code",
      "metadata": {
        "id": "blIHgFYUQC7Z"
      },
      "source": [
        "from sklearn.model_selection import train_test_split"
      ],
      "execution_count": 80,
      "outputs": []
    },
    {
      "cell_type": "code",
      "metadata": {
        "id": "EjtdilNWQC7a"
      },
      "source": [
        "X_train, X_test, y_train, y_test = train_test_split(X, y, test_size = 0.2, stratify = y, random_state = 4299)"
      ],
      "execution_count": 88,
      "outputs": []
    },
    {
      "cell_type": "code",
      "metadata": {
        "jupyter": {
          "source_hidden": true
        },
        "id": "ii6K_PQ-QC7a",
        "colab": {
          "base_uri": "https://localhost:8080/"
        },
        "outputId": "ccd2149b-dd33-40f2-98c4-17820958812d"
      },
      "source": [
        "X_train.head()"
      ],
      "execution_count": 89,
      "outputs": [
        {
          "output_type": "execute_result",
          "data": {
            "text/plain": [
              "3013     haha clean plane held overnight hangar sound lovely also dont lie screensand say weather\n",
              "13868                                                                               let seriously\n",
              "2391               hello flying first class behind people zone pls pas app dept board class first\n",
              "6979                                                  thanks much talking article chat came great\n",
              "8721                                                                    claimed happy way treated\n",
              "Name: clean_text, dtype: object"
            ]
          },
          "metadata": {},
          "execution_count": 89
        }
      ]
    },
    {
      "cell_type": "code",
      "metadata": {
        "id": "EkuGrK5dQC7a"
      },
      "source": [
        "from sklearn.feature_extraction.text import CountVectorizer"
      ],
      "execution_count": 84,
      "outputs": []
    },
    {
      "cell_type": "code",
      "metadata": {
        "id": "lvFAxkFgNocS"
      },
      "source": [
        "vectorizer1 = CountVectorizer()\n",
        "X_train_count1 = vectorizer1.fit_transform(X_train)"
      ],
      "execution_count": 90,
      "outputs": []
    },
    {
      "cell_type": "code",
      "metadata": {
        "id": "WWWZlqbUN0Lz",
        "colab": {
          "base_uri": "https://localhost:8080/"
        },
        "outputId": "33d9e8f1-dce7-4cf8-c37f-aec1e6124a1b"
      },
      "source": [
        "vectorizer1.get_feature_names()"
      ],
      "execution_count": 95,
      "outputs": [
        {
          "output_type": "execute_result",
          "data": {
            "text/plain": [
              "['aa',\n",
              " 'aaaand',\n",
              " 'aadavantage',\n",
              " 'aadv',\n",
              " 'aadvantage',\n",
              " 'aal',\n",
              " 'aaron',\n",
              " 'ab',\n",
              " 'aback',\n",
              " 'abandon',\n",
              " 'abandoned',\n",
              " 'abandonment',\n",
              " 'abassinet',\n",
              " 'abbreve',\n",
              " 'abc',\n",
              " 'abducted',\n",
              " 'ability',\n",
              " 'able',\n",
              " 'aboard',\n",
              " 'abounds',\n",
              " 'abq',\n",
              " 'abroad',\n",
              " 'absolute',\n",
              " 'absolutely',\n",
              " 'absorb',\n",
              " 'absorber',\n",
              " 'absoulutely',\n",
              " 'absurd',\n",
              " 'absurdity',\n",
              " 'abt',\n",
              " 'abundance',\n",
              " 'abuse',\n",
              " 'abused',\n",
              " 'abysmal',\n",
              " 'ac',\n",
              " 'acc',\n",
              " 'accelerate',\n",
              " 'accept',\n",
              " 'acceptable',\n",
              " 'accepted',\n",
              " 'accepting',\n",
              " 'acces',\n",
              " 'access',\n",
              " 'accessible',\n",
              " 'accessing',\n",
              " 'accident',\n",
              " 'accidentally',\n",
              " 'accomidating',\n",
              " 'accommodate',\n",
              " 'accommodated',\n",
              " 'accommodating',\n",
              " 'accommodation',\n",
              " 'accompaniment',\n",
              " 'accomplish',\n",
              " 'accomplished',\n",
              " 'according',\n",
              " 'accordingly',\n",
              " 'account',\n",
              " 'accountability',\n",
              " 'accountable',\n",
              " 'accrue',\n",
              " 'acct',\n",
              " 'accts',\n",
              " 'accumulation',\n",
              " 'accurate',\n",
              " 'accurately',\n",
              " 'accused',\n",
              " 'acknowledge',\n",
              " 'acknowledgement',\n",
              " 'acknowledgment',\n",
              " 'acosta',\n",
              " 'acoustic',\n",
              " 'acpt',\n",
              " 'acquire',\n",
              " 'acquired',\n",
              " 'acquisition',\n",
              " 'across',\n",
              " 'act',\n",
              " 'acted',\n",
              " 'acting',\n",
              " 'action',\n",
              " 'activate',\n",
              " 'activated',\n",
              " 'active',\n",
              " 'activity',\n",
              " 'actual',\n",
              " 'actually',\n",
              " 'acu',\n",
              " 'acy',\n",
              " 'ad',\n",
              " 'ada',\n",
              " 'adam',\n",
              " 'adapted',\n",
              " 'add',\n",
              " 'added',\n",
              " 'adding',\n",
              " 'addition',\n",
              " 'additional',\n",
              " 'additionally',\n",
              " 'additonal',\n",
              " 'address',\n",
              " 'addressed',\n",
              " 'addressing',\n",
              " 'addtl',\n",
              " 'adjacent',\n",
              " 'adjusting',\n",
              " 'adjustment',\n",
              " 'admiral',\n",
              " 'admit',\n",
              " 'adolfo',\n",
              " 'adopted',\n",
              " 'adopting',\n",
              " 'adore',\n",
              " 'adult',\n",
              " 'adv',\n",
              " 'advan',\n",
              " 'advance',\n",
              " 'advantage',\n",
              " 'adventure',\n",
              " 'advertise',\n",
              " 'advertised',\n",
              " 'advertising',\n",
              " 'advice',\n",
              " 'advis',\n",
              " 'advise',\n",
              " 'advised',\n",
              " 'advising',\n",
              " 'advisory',\n",
              " 'advsry',\n",
              " 'aeroport',\n",
              " 'aex',\n",
              " 'affect',\n",
              " 'affected',\n",
              " 'affecting',\n",
              " 'affiliate',\n",
              " 'affiliated',\n",
              " 'afford',\n",
              " 'affordable',\n",
              " 'aflame',\n",
              " 'aforementioned',\n",
              " 'afraid',\n",
              " 'aft',\n",
              " 'afterall',\n",
              " 'afternoon',\n",
              " 'afterward',\n",
              " 'aftr',\n",
              " 'age',\n",
              " 'aged',\n",
              " 'agency',\n",
              " 'agent',\n",
              " 'aggravated',\n",
              " 'aggravating',\n",
              " 'aggravation',\n",
              " 'aggressive',\n",
              " 'agian',\n",
              " 'aging',\n",
              " 'agnt',\n",
              " 'ago',\n",
              " 'agree',\n",
              " 'agreed',\n",
              " 'agreement',\n",
              " 'agt',\n",
              " 'agts',\n",
              " 'ah',\n",
              " 'aha',\n",
              " 'ahead',\n",
              " 'ahem',\n",
              " 'ahhhh',\n",
              " 'ahhhhh',\n",
              " 'ahold',\n",
              " 'ahoy',\n",
              " 'ai',\n",
              " 'aiecraft',\n",
              " 'ailing',\n",
              " 'aim',\n",
              " 'aint',\n",
              " 'air',\n",
              " 'airborne',\n",
              " 'airbus',\n",
              " 'aircraft',\n",
              " 'aircrft',\n",
              " 'aire',\n",
              " 'aired',\n",
              " 'airfare',\n",
              " 'airline',\n",
              " 'airlinegave',\n",
              " 'airliner',\n",
              " 'airplane',\n",
              " 'airport',\n",
              " 'airportcardio',\n",
              " 'airpt',\n",
              " 'airserv',\n",
              " 'airside',\n",
              " 'airspace',\n",
              " 'airstairs',\n",
              " 'airtran',\n",
              " 'airway',\n",
              " 'aisle',\n",
              " 'aka',\n",
              " 'al',\n",
              " 'ala',\n",
              " 'alabama',\n",
              " 'alamo',\n",
              " 'alarm',\n",
              " 'alaska',\n",
              " 'alavera',\n",
              " 'alb',\n",
              " 'albany',\n",
              " 'albeit',\n",
              " 'album',\n",
              " 'albuquerque',\n",
              " 'alcohol',\n",
              " 'alert',\n",
              " 'alerted',\n",
              " 'alex',\n",
              " 'ali',\n",
              " 'alicia',\n",
              " 'alison',\n",
              " 'alist',\n",
              " 'alittle',\n",
              " 'alittlebetter',\n",
              " 'alive',\n",
              " 'allan',\n",
              " 'allergic',\n",
              " 'allergy',\n",
              " 'alleviate',\n",
              " 'alliance',\n",
              " 'allll',\n",
              " 'allow',\n",
              " 'allowabl',\n",
              " 'allowance',\n",
              " 'allowed',\n",
              " 'allowing',\n",
              " 'allows',\n",
              " 'allready',\n",
              " 'alls',\n",
              " 'almost',\n",
              " 'alone',\n",
              " 'along',\n",
              " 'alot',\n",
              " 'already',\n",
              " 'alright',\n",
              " 'also',\n",
              " 'alt',\n",
              " 'alternate',\n",
              " 'alternative',\n",
              " 'although',\n",
              " 'altitude',\n",
              " 'alway',\n",
              " 'always',\n",
              " 'amarillo',\n",
              " 'amateur',\n",
              " 'amateurish',\n",
              " 'amazed',\n",
              " 'amazing',\n",
              " 'amazingly',\n",
              " 'amazings',\n",
              " 'amazon',\n",
              " 'ambivalence',\n",
              " 'amen',\n",
              " 'amenity',\n",
              " 'america',\n",
              " 'american',\n",
              " 'amex',\n",
              " 'amid',\n",
              " 'amiga',\n",
              " 'amirite',\n",
              " 'amm',\n",
              " 'amnt',\n",
              " 'among',\n",
              " 'amongst',\n",
              " 'amount',\n",
              " 'amp',\n",
              " 'amtrak',\n",
              " 'amy',\n",
              " 'an',\n",
              " 'ana',\n",
              " 'analyst',\n",
              " 'analytics',\n",
              " 'anarchy',\n",
              " 'anchorage',\n",
              " 'anderson',\n",
              " 'andrew',\n",
              " 'android',\n",
              " 'angel',\n",
              " 'angeles',\n",
              " 'angelo',\n",
              " 'angering',\n",
              " 'angle',\n",
              " 'angry',\n",
              " 'angrybird',\n",
              " 'animal',\n",
              " 'ann',\n",
              " 'anna',\n",
              " 'annamarie',\n",
              " 'anni',\n",
              " 'anniversary',\n",
              " 'annnndddd',\n",
              " 'annnnddddd',\n",
              " 'annnnnd',\n",
              " 'announce',\n",
              " 'announced',\n",
              " 'announcement',\n",
              " 'announcer',\n",
              " 'announces',\n",
              " 'announcing',\n",
              " 'annoyed',\n",
              " 'annoying',\n",
              " 'annual',\n",
              " 'another',\n",
              " 'answer',\n",
              " 'answered',\n",
              " 'answering',\n",
              " 'ant',\n",
              " 'anthony',\n",
              " 'anticipate',\n",
              " 'anticipating',\n",
              " 'anticipation',\n",
              " 'antigua',\n",
              " 'antonio',\n",
              " 'anxiety',\n",
              " 'anxious',\n",
              " 'anybody',\n",
              " 'anymore',\n",
              " 'anyone',\n",
              " 'anyones',\n",
              " 'anythin',\n",
              " 'anything',\n",
              " 'anytime',\n",
              " 'anyway',\n",
              " 'anyways',\n",
              " 'anywhere',\n",
              " 'ap',\n",
              " 'apart',\n",
              " 'apathetic',\n",
              " 'apeared',\n",
              " 'apnea',\n",
              " 'apologise',\n",
              " 'apologize',\n",
              " 'apologizes',\n",
              " 'apologizing',\n",
              " 'apology',\n",
              " 'apostrophe',\n",
              " 'app',\n",
              " 'appalled',\n",
              " 'appalling',\n",
              " 'apparent',\n",
              " 'apparently',\n",
              " 'appealing',\n",
              " 'appear',\n",
              " 'appeared',\n",
              " 'appears',\n",
              " 'appease',\n",
              " 'applaud',\n",
              " 'applauded',\n",
              " 'apple',\n",
              " 'appleton',\n",
              " 'applicable',\n",
              " 'application',\n",
              " 'applied',\n",
              " 'apply',\n",
              " 'applying',\n",
              " 'appointment',\n",
              " 'appreciate',\n",
              " 'appreciated',\n",
              " 'appreciates',\n",
              " 'appreciation',\n",
              " 'approach',\n",
              " 'approaching',\n",
              " 'appropriate',\n",
              " 'appropriately',\n",
              " 'appropriation',\n",
              " 'approval',\n",
              " 'approve',\n",
              " 'approved',\n",
              " 'approx',\n",
              " 'approximate',\n",
              " 'approximately',\n",
              " 'apps',\n",
              " 'appt',\n",
              " 'april',\n",
              " 'apron',\n",
              " 'apt',\n",
              " 'apx',\n",
              " 'aquadilla',\n",
              " 'ar',\n",
              " 'arab',\n",
              " 'arbitrarily',\n",
              " 'arbitrary',\n",
              " 'arc',\n",
              " 'ardent',\n",
              " 'are',\n",
              " 'area',\n",
              " 'arena',\n",
              " 'arent',\n",
              " 'argentina',\n",
              " 'argg',\n",
              " 'argh',\n",
              " 'argue',\n",
              " 'argued',\n",
              " 'argueing',\n",
              " 'arguing',\n",
              " 'argument',\n",
              " 'arizona',\n",
              " 'arkansas',\n",
              " 'arm',\n",
              " 'armrest',\n",
              " 'army',\n",
              " 'arose',\n",
              " 'around',\n",
              " 'arpt',\n",
              " 'arrange',\n",
              " 'arranged',\n",
              " 'arrangement',\n",
              " 'arrival',\n",
              " 'arrive',\n",
              " 'arrived',\n",
              " 'arrives',\n",
              " 'arriving',\n",
              " 'arrogant',\n",
              " 'art',\n",
              " 'article',\n",
              " 'artisanal',\n",
              " 'aruba',\n",
              " 'aruna',\n",
              " 'arvls',\n",
              " 'as',\n",
              " 'asap',\n",
              " 'ase',\n",
              " 'asgmnt',\n",
              " 'ash',\n",
              " 'ashamed',\n",
              " 'ask',\n",
              " 'asked',\n",
              " 'asking',\n",
              " 'asks',\n",
              " 'asleep',\n",
              " 'aspen',\n",
              " 'ass',\n",
              " 'assaulted',\n",
              " 'assed',\n",
              " 'asset',\n",
              " 'asshole',\n",
              " 'assign',\n",
              " 'assigned',\n",
              " 'assignment',\n",
              " 'assist',\n",
              " 'assistance',\n",
              " 'assistant',\n",
              " 'assisted',\n",
              " 'assisting',\n",
              " 'associated',\n",
              " 'assuage',\n",
              " 'assult',\n",
              " 'assume',\n",
              " 'assumed',\n",
              " 'assuming',\n",
              " 'assurance',\n",
              " 'assure',\n",
              " 'assured',\n",
              " 'assuring',\n",
              " 'astounded',\n",
              " 'astounding',\n",
              " 'astounds',\n",
              " 'asus',\n",
              " 'atc',\n",
              " 'atct',\n",
              " 'ath',\n",
              " 'athlete',\n",
              " 'atl',\n",
              " 'atlanta',\n",
              " 'atlantic',\n",
              " 'atleast',\n",
              " 'atrocious',\n",
              " 'attach',\n",
              " 'attached',\n",
              " 'attained',\n",
              " 'attdt',\n",
              " 'attempt',\n",
              " 'attempted',\n",
              " 'attempting',\n",
              " 'attend',\n",
              " 'attendant',\n",
              " 'attended',\n",
              " 'attendee',\n",
              " 'attendent',\n",
              " 'attendents',\n",
              " 'attending',\n",
              " 'attention',\n",
              " 'attentive',\n",
              " 'attentiveness',\n",
              " 'attitude',\n",
              " 'atx',\n",
              " 'au',\n",
              " 'auckland',\n",
              " 'auction',\n",
              " 'audience',\n",
              " 'audio',\n",
              " 'audition',\n",
              " 'auditorium',\n",
              " 'auf',\n",
              " 'aug',\n",
              " 'august',\n",
              " 'auh',\n",
              " 'aunt',\n",
              " 'aunty',\n",
              " 'aussie',\n",
              " 'austic',\n",
              " 'austin',\n",
              " 'australia',\n",
              " 'austrian',\n",
              " 'author',\n",
              " 'authoritative',\n",
              " 'authority',\n",
              " 'authorize',\n",
              " 'auto',\n",
              " 'automated',\n",
              " 'automatic',\n",
              " 'automatically',\n",
              " 'automobile',\n",
              " 'autoresponse',\n",
              " 'av',\n",
              " 'avail',\n",
              " 'availab',\n",
              " 'availability',\n",
              " 'available',\n",
              " 'avalible',\n",
              " 'avenue',\n",
              " 'average',\n",
              " 'averaging',\n",
              " 'averted',\n",
              " 'aviation',\n",
              " 'avios',\n",
              " 'avis',\n",
              " 'aviv',\n",
              " 'avoid',\n",
              " 'avoidable',\n",
              " 'avoided',\n",
              " 'avoiding',\n",
              " 'avon',\n",
              " 'avp',\n",
              " 'aw',\n",
              " 'await',\n",
              " 'awaiting',\n",
              " 'awake',\n",
              " 'award',\n",
              " 'aware',\n",
              " 'away',\n",
              " 'awe',\n",
              " 'aweful',\n",
              " 'awesome',\n",
              " 'awesomeee',\n",
              " 'awesomeness',\n",
              " 'awful',\n",
              " 'awheelchair',\n",
              " 'awhile',\n",
              " 'awkward',\n",
              " 'awol',\n",
              " 'awrd',\n",
              " 'aww',\n",
              " 'awww',\n",
              " 'awwweesssooomee',\n",
              " 'aye',\n",
              " 'az',\n",
              " 'ba',\n",
              " 'baby',\n",
              " 'bach',\n",
              " 'back',\n",
              " 'backed',\n",
              " 'backlog',\n",
              " 'backpack',\n",
              " 'backroads',\n",
              " 'backup',\n",
              " 'backwards',\n",
              " 'backyard',\n",
              " 'bad',\n",
              " 'badbadbad',\n",
              " 'badge',\n",
              " 'badly',\n",
              " 'bae',\n",
              " 'baejet',\n",
              " 'bag',\n",
              " 'bagage',\n",
              " 'baggage',\n",
              " 'baggagefail',\n",
              " 'bagtag',\n",
              " 'bahamas',\n",
              " 'bailey',\n",
              " 'bait',\n",
              " 'baking',\n",
              " 'balance',\n",
              " 'balancing',\n",
              " 'baldwin',\n",
              " 'ball',\n",
              " 'ballbag',\n",
              " 'balt',\n",
              " 'baltimore',\n",
              " 'banana',\n",
              " 'band',\n",
              " 'bandwidth',\n",
              " 'bangkok',\n",
              " 'bank',\n",
              " 'bankrupt',\n",
              " 'banned',\n",
              " 'bar',\n",
              " 'barbados',\n",
              " 'barbara',\n",
              " 'barclays',\n",
              " 'barcodes',\n",
              " 'barely',\n",
              " 'barking',\n",
              " 'barklays',\n",
              " 'barnum',\n",
              " 'barrel',\n",
              " 'barrier',\n",
              " 'barzegar',\n",
              " 'base',\n",
              " 'based',\n",
              " 'bashing',\n",
              " 'basic',\n",
              " 'basically',\n",
              " 'basket',\n",
              " 'bass',\n",
              " 'bathroom',\n",
              " 'batman',\n",
              " 'battery',\n",
              " 'batting',\n",
              " 'battle',\n",
              " 'battling',\n",
              " 'bay',\n",
              " 'bc',\n",
              " 'bcn',\n",
              " 'bcs',\n",
              " 'bcuz',\n",
              " 'bcz',\n",
              " 'bday',\n",
              " 'bdl',\n",
              " 'beach',\n",
              " 'bean',\n",
              " 'beanie',\n",
              " 'bear',\n",
              " 'bearable',\n",
              " 'beat',\n",
              " 'beating',\n",
              " 'beatriz',\n",
              " 'beautiful',\n",
              " 'beautifull',\n",
              " 'beautifully',\n",
              " 'beauty',\n",
              " 'became',\n",
              " 'becky',\n",
              " 'become',\n",
              " 'becomes',\n",
              " 'becoming',\n",
              " 'becuz',\n",
              " 'bed',\n",
              " 'beer',\n",
              " 'beg',\n",
              " 'began',\n",
              " 'begin',\n",
              " 'beginning',\n",
              " 'begrudgingly',\n",
              " 'begun',\n",
              " 'behalf',\n",
              " 'behave',\n",
              " 'behaves',\n",
              " 'behavior',\n",
              " 'behind',\n",
              " 'beijing',\n",
              " 'bein',\n",
              " 'belfast',\n",
              " 'believable',\n",
              " 'believe',\n",
              " 'believing',\n",
              " 'belize',\n",
              " 'bellagio',\n",
              " 'belligerent',\n",
              " 'belong',\n",
              " 'belonging',\n",
              " 'beloved',\n",
              " 'belt',\n",
              " 'benadryl',\n",
              " 'bench',\n",
              " 'beneficial',\n",
              " 'benefit',\n",
              " 'benes',\n",
              " 'bereavement',\n",
              " 'bergstrom',\n",
              " 'berlin',\n",
              " 'besides',\n",
              " 'best',\n",
              " 'bestfriend',\n",
              " 'bet',\n",
              " 'beta',\n",
              " 'betch',\n",
              " 'better',\n",
              " 'betting',\n",
              " 'beverage',\n",
              " 'bevy',\n",
              " 'beware',\n",
              " 'beyond',\n",
              " 'bf',\n",
              " 'bfs',\n",
              " 'bg',\n",
              " 'bgm',\n",
              " 'bgr',\n",
              " 'bham',\n",
              " 'bhm',\n",
              " 'bible',\n",
              " 'biceps',\n",
              " 'bicycle',\n",
              " 'bid',\n",
              " 'big',\n",
              " 'bigger',\n",
              " 'biggest',\n",
              " 'biggie',\n",
              " 'bike',\n",
              " 'bil',\n",
              " 'bila',\n",
              " 'bill',\n",
              " 'billed',\n",
              " 'billing',\n",
              " 'billion',\n",
              " 'billmelate',\n",
              " 'bin',\n",
              " 'bingo',\n",
              " 'bio',\n",
              " 'bird',\n",
              " 'birder',\n",
              " 'birmingham',\n",
              " 'birth',\n",
              " 'birthdate',\n",
              " 'birthday',\n",
              " 'biscuit',\n",
              " 'bish',\n",
              " 'bit',\n",
              " 'bitch',\n",
              " 'bitchy',\n",
              " 'bitcoin',\n",
              " 'bite',\n",
              " 'bitty',\n",
              " 'biz',\n",
              " 'bizarre',\n",
              " 'bizness',\n",
              " 'bk',\n",
              " 'bked',\n",
              " 'bkk',\n",
              " 'black',\n",
              " 'blacked',\n",
              " 'blacklist',\n",
              " 'blackmailed',\n",
              " 'blade',\n",
              " 'blah',\n",
              " 'blame',\n",
              " 'blamed',\n",
              " 'blaming',\n",
              " 'blanc',\n",
              " 'blank',\n",
              " 'blanket',\n",
              " 'blast',\n",
              " 'blasting',\n",
              " 'blatant',\n",
              " 'blazer',\n",
              " 'bleed',\n",
              " 'bless',\n",
              " 'blew',\n",
              " 'blind',\n",
              " 'blindsided',\n",
              " 'blizzue',\n",
              " 'bloated',\n",
              " 'block',\n",
              " 'blocked',\n",
              " 'blocking',\n",
              " 'blog',\n",
              " 'blood',\n",
              " 'bloody',\n",
              " 'blow',\n",
              " 'blowing',\n",
              " 'blown',\n",
              " 'blue',\n",
              " 'bluemanity',\n",
              " 'blumanity',\n",
              " 'bmi',\n",
              " 'bna',\n",
              " 'bng',\n",
              " 'board',\n",
              " 'boarded',\n",
              " 'boarding',\n",
              " 'boat',\n",
              " 'bobbi',\n",
              " 'boeing',\n",
              " 'bogota',\n",
              " 'bohol',\n",
              " 'boiled',\n",
              " 'boise',\n",
              " 'bold',\n",
              " 'bom',\n",
              " 'bone',\n",
              " 'bonnie',\n",
              " 'bonus',\n",
              " 'boo',\n",
              " 'boofin',\n",
              " 'book',\n",
              " 'bookable',\n",
              " 'booked',\n",
              " 'booking',\n",
              " 'booklet',\n",
              " 'boom',\n",
              " 'booo',\n",
              " 'boooo',\n",
              " 'boost',\n",
              " 'booster',\n",
              " 'boot',\n",
              " 'booted',\n",
              " 'booze',\n",
              " 'bora',\n",
              " 'border',\n",
              " 'borderline',\n",
              " 'bored',\n",
              " 'born',\n",
              " 'borrow',\n",
              " 'bos',\n",
              " 'bosnia',\n",
              " 'boson',\n",
              " 'boston',\n",
              " 'bot',\n",
              " 'botched',\n",
              " 'bother',\n",
              " 'bothered',\n",
              " 'bottle',\n",
              " 'bottom',\n",
              " 'bought',\n",
              " 'bougth',\n",
              " 'bounce',\n",
              " 'bounced',\n",
              " 'bouncer',\n",
              " 'bound',\n",
              " 'boundless',\n",
              " 'bourbon',\n",
              " 'bout',\n",
              " 'bowl',\n",
              " 'box',\n",
              " 'boy',\n",
              " 'boycott',\n",
              " 'boyfriend',\n",
              " 'bpdfpp',\n",
              " 'bqn',\n",
              " 'bradley',\n",
              " 'brag',\n",
              " 'bragged',\n",
              " 'bragging',\n",
              " 'brain',\n",
              " 'brancato',\n",
              " 'brand',\n",
              " 'brandi',\n",
              " 'branding',\n",
              " 'brave',\n",
              " 'braved',\n",
              " 'braving',\n",
              " 'bravo',\n",
              " 'brazil',\n",
              " 'brd',\n",
              " 'breach',\n",
              " 'break',\n",
              " 'breakdown',\n",
              " 'breaker',\n",
              " 'breakfast',\n",
              " 'breaking',\n",
              " 'breast',\n",
              " 'breastfeeding',\n",
              " 'breath',\n",
              " 'breathing',\n",
              " 'breavement',\n",
              " 'breeze',\n",
              " 'breezy',\n",
              " 'brendan',\n",
              " 'brent',\n",
              " 'brian',\n",
              " 'bride',\n",
              " 'bridesmaid',\n",
              " 'bridge',\n",
              " 'briefing',\n",
              " 'bright',\n",
              " 'brighter',\n",
              " 'brilliant',\n",
              " 'bring',\n",
              " 'bringin',\n",
              " 'bringing',\n",
              " 'brings',\n",
              " 'brisk',\n",
              " 'briughy',\n",
              " 'bro',\n",
              " 'broad',\n",
              " 'broadway',\n",
              " 'brochure',\n",
              " 'broke',\n",
              " 'broken',\n",
              " 'brooding',\n",
              " 'brooklyn',\n",
              " 'bros',\n",
              " 'brotha',\n",
              " 'brothaaaaaa',\n",
              " 'brother',\n",
              " 'brought',\n",
              " 'browser',\n",
              " 'bruh',\n",
              " 'bruin',\n",
              " 'brush',\n",
              " 'brushing',\n",
              " 'brussels',\n",
              " 'brutal',\n",
              " 'bso',\n",
              " 'bsuxlu',\n",
              " 'btr',\n",
              " 'bttr',\n",
              " 'btv',\n",
              " 'btw',\n",
              " 'btwn',\n",
              " 'buck',\n",
              " 'bucket',\n",
              " 'budapest',\n",
              " 'buddy',\n",
              " 'budget',\n",
              " 'bueno',\n",
              " 'buenos',\n",
              " 'buf',\n",
              " 'buffalo',\n",
              " 'bug',\n",
              " 'bugging',\n",
              " 'buggy',\n",
              " 'build',\n",
              " 'building',\n",
              " 'built',\n",
              " 'buisness',\n",
              " 'bulb',\n",
              " 'bulkhead',\n",
              " 'bull',\n",
              " 'bullshit',\n",
              " 'bully',\n",
              " 'bummed',\n",
              " 'bummer',\n",
              " 'bump',\n",
              " 'bumped',\n",
              " 'bumper',\n",
              " 'bumping',\n",
              " 'bunch',\n",
              " 'bur',\n",
              " 'burbank',\n",
              " 'burden',\n",
              " 'burger',\n",
              " 'burgundy',\n",
              " 'burlington',\n",
              " 'burn',\n",
              " 'burned',\n",
              " 'burning',\n",
              " 'burrito',\n",
              " 'burst',\n",
              " 'bus',\n",
              " 'bush',\n",
              " 'busiest',\n",
              " 'business',\n",
              " 'businessfirst',\n",
              " 'bussey',\n",
              " 'bussines',\n",
              " 'busted',\n",
              " 'busy',\n",
              " 'butnot',\n",
              " 'butt',\n",
              " 'button',\n",
              " 'buy',\n",
              " 'buyback',\n",
              " 'buyer',\n",
              " 'buying',\n",
              " 'buzz',\n",
              " 'bwi',\n",
              " 'bye',\n",
              " 'bypass',\n",
              " 'bz',\n",
              " 'bze',\n",
              " 'ca',\n",
              " 'cab',\n",
              " 'cabaret',\n",
              " 'cabin',\n",
              " 'cabine',\n",
              " 'cabo',\n",
              " 'cac',\n",
              " 'cache',\n",
              " 'caching',\n",
              " 'cae',\n",
              " 'cafe',\n",
              " 'caffeine',\n",
              " 'cake',\n",
              " 'cal',\n",
              " 'calamity',\n",
              " 'calderon',\n",
              " 'calendar',\n",
              " 'calgary',\n",
              " 'cali',\n",
              " 'calibrated',\n",
              " 'california',\n",
              " ...]"
            ]
          },
          "metadata": {},
          "execution_count": 95
        }
      ]
    },
    {
      "cell_type": "code",
      "metadata": {
        "id": "kG96WszUQC7a",
        "colab": {
          "base_uri": "https://localhost:8080/"
        },
        "outputId": "7b79b65d-183d-4bc7-ed5f-d39f3d0b08cb"
      },
      "source": [
        "len(vectorizer1.get_feature_names())"
      ],
      "execution_count": 94,
      "outputs": [
        {
          "output_type": "execute_result",
          "data": {
            "text/plain": [
              "7696"
            ]
          },
          "metadata": {},
          "execution_count": 94
        }
      ]
    },
    {
      "cell_type": "code",
      "source": [
        "df2['clean_text']"
      ],
      "metadata": {
        "colab": {
          "base_uri": "https://localhost:8080/"
        },
        "id": "OxLdMx4-CBj-",
        "outputId": "899c0cd3-87a9-4d45-f52b-5cbdee1affa5"
      },
      "execution_count": 96,
      "outputs": [
        {
          "output_type": "execute_result",
          "data": {
            "text/plain": [
              "0                                                                                                        said\n",
              "1                                                                plus youve added commercial experience tacky\n",
              "2                                                                didnt today must mean need take another trip\n",
              "3                              really aggressive blast obnoxious entertainment guest face amp little recourse\n",
              "4                                                                                        really big bad thing\n",
              "                                                         ...                                                 \n",
              "14635                                                                      thank got different flight chicago\n",
              "14636    leaving minute late flight warning communication minute late flight thats called shitty customer svc\n",
              "14637                                                                           please bring american airline\n",
              "14638                                        money change flight dont answer phone suggestion make commitment\n",
              "14639                                ppl need know many seat next flight plz put u standby people next flight\n",
              "Name: clean_text, Length: 14640, dtype: object"
            ]
          },
          "metadata": {},
          "execution_count": 96
        }
      ]
    },
    {
      "cell_type": "code",
      "metadata": {
        "id": "NTM-lw6XQC7a",
        "colab": {
          "base_uri": "https://localhost:8080/"
        },
        "outputId": "bb97c574-4255-4afb-f7a4-49afc820522e"
      },
      "source": [
        "df2['clean_text'].str.split()"
      ],
      "execution_count": 97,
      "outputs": [
        {
          "output_type": "execute_result",
          "data": {
            "text/plain": [
              "0                                                                                                                     [said]\n",
              "1                                                                        [plus, youve, added, commercial, experience, tacky]\n",
              "2                                                                      [didnt, today, must, mean, need, take, another, trip]\n",
              "3                                  [really, aggressive, blast, obnoxious, entertainment, guest, face, amp, little, recourse]\n",
              "4                                                                                                  [really, big, bad, thing]\n",
              "                                                                ...                                                         \n",
              "14635                                                                               [thank, got, different, flight, chicago]\n",
              "14636    [leaving, minute, late, flight, warning, communication, minute, late, flight, thats, called, shitty, customer, svc]\n",
              "14637                                                                                     [please, bring, american, airline]\n",
              "14638                                             [money, change, flight, dont, answer, phone, suggestion, make, commitment]\n",
              "14639                                [ppl, need, know, many, seat, next, flight, plz, put, u, standby, people, next, flight]\n",
              "Name: clean_text, Length: 14640, dtype: object"
            ]
          },
          "metadata": {},
          "execution_count": 97
        }
      ]
    },
    {
      "cell_type": "code",
      "source": [
        "X_train"
      ],
      "metadata": {
        "colab": {
          "base_uri": "https://localhost:8080/"
        },
        "id": "D_d-K_ulCVgG",
        "outputId": "376e0d48-d838-495d-b65c-23af663671da"
      },
      "execution_count": 100,
      "outputs": [
        {
          "output_type": "execute_result",
          "data": {
            "text/plain": [
              "3013     haha clean plane held overnight hangar sound lovely also dont lie screensand say weather\n",
              "13868                                                                               let seriously\n",
              "2391               hello flying first class behind people zone pls pas app dept board class first\n",
              "6979                                                  thanks much talking article chat came great\n",
              "8721                                                                    claimed happy way treated\n",
              "                                                   ...                                           \n",
              "2695                                question interview process one interview last person good bad\n",
              "9228                            ive hold hour cc mile arent showing mediocre combo cc amp airline\n",
              "5237     yes total hour hold cancelled flightlations one would think would staff decided cx drive\n",
              "4022                                                       chicago hometown airline care neighbor\n",
              "8237                                                                  thanks much relaxing flight\n",
              "Name: clean_text, Length: 11712, dtype: object"
            ]
          },
          "metadata": {},
          "execution_count": 100
        }
      ]
    },
    {
      "cell_type": "code",
      "metadata": {
        "id": "Ynb_LjtMO_hi",
        "colab": {
          "base_uri": "https://localhost:8080/"
        },
        "outputId": "a6c52f80-adc7-4b24-dd45-f68c5260012a"
      },
      "source": [
        "words = pd.Series(\" \".join(X_train).split()).value_counts()\n",
        "\n",
        "len(words)\n",
        "print('')\n",
        "len(vectorizer1.get_feature_names())"
      ],
      "execution_count": 99,
      "outputs": [
        {
          "output_type": "execute_result",
          "data": {
            "text/plain": [
              "7715"
            ]
          },
          "metadata": {},
          "execution_count": 99
        },
        {
          "output_type": "stream",
          "name": "stdout",
          "text": [
            "\n"
          ]
        },
        {
          "output_type": "execute_result",
          "data": {
            "text/plain": [
              "7696"
            ]
          },
          "metadata": {},
          "execution_count": 99
        }
      ]
    },
    {
      "cell_type": "code",
      "source": [
        "words"
      ],
      "metadata": {
        "colab": {
          "base_uri": "https://localhost:8080/"
        },
        "id": "MhxoXPlRCwbv",
        "outputId": "394cea34-579f-40a1-c81e-53323782fa30"
      },
      "execution_count": 104,
      "outputs": [
        {
          "output_type": "execute_result",
          "data": {
            "text/plain": [
              "flight       3608\n",
              "get          1102\n",
              "hour          929\n",
              "thanks        852\n",
              "cancelled     841\n",
              "             ... \n",
              "mo              1\n",
              "tim             1\n",
              "shipping        1\n",
              "anderson        1\n",
              "relaxing        1\n",
              "Length: 7715, dtype: int64"
            ]
          },
          "metadata": {},
          "execution_count": 104
        }
      ]
    },
    {
      "cell_type": "code",
      "metadata": {
        "id": "KdcR4-IPQC7a"
      },
      "source": [
        "one_chars_from_words = [w for w in words.index if len(w)==1]\n",
        "one_Chars_from_cv = [w for w in vectorizer1.get_feature_names() if len(w)==1]"
      ],
      "execution_count": 101,
      "outputs": []
    },
    {
      "cell_type": "code",
      "source": [
        "one_chars_from_words"
      ],
      "metadata": {
        "colab": {
          "base_uri": "https://localhost:8080/"
        },
        "id": "32W6uOMqCuJa",
        "outputId": "1264d1e2-8b56-4129-d16b-68de4b5c86bb"
      },
      "execution_count": 103,
      "outputs": [
        {
          "output_type": "execute_result",
          "data": {
            "text/plain": [
              "['u',\n",
              " 'w',\n",
              " 'b',\n",
              " 'c',\n",
              " 'r',\n",
              " 'n',\n",
              " 'f',\n",
              " 'p',\n",
              " 'x',\n",
              " 'v',\n",
              " 'l',\n",
              " 'e',\n",
              " 'h',\n",
              " 'j',\n",
              " 'k',\n",
              " 'g',\n",
              " 'q',\n",
              " 'o',\n",
              " 'm']"
            ]
          },
          "metadata": {},
          "execution_count": 103
        }
      ]
    },
    {
      "cell_type": "code",
      "metadata": {
        "id": "xiP-Q_VdSNyW",
        "colab": {
          "base_uri": "https://localhost:8080/"
        },
        "outputId": "57ef907b-a8cd-4fd1-b679-9eebb0792010"
      },
      "source": [
        "len(one_chars_from_words)"
      ],
      "execution_count": 102,
      "outputs": [
        {
          "output_type": "execute_result",
          "data": {
            "text/plain": [
              "19"
            ]
          },
          "metadata": {},
          "execution_count": 102
        }
      ]
    },
    {
      "cell_type": "markdown",
      "metadata": {
        "id": "4wS9l71eQC7b"
      },
      "source": [
        "#### min_df"
      ]
    },
    {
      "cell_type": "code",
      "source": [
        "X = df2.copy()#['text']"
      ],
      "metadata": {
        "id": "mo5SFbHkGGm0"
      },
      "execution_count": 107,
      "outputs": []
    },
    {
      "cell_type": "code",
      "source": [
        ""
      ],
      "metadata": {
        "id": "_tyS5sZzG5wv"
      },
      "execution_count": null,
      "outputs": []
    },
    {
      "cell_type": "code",
      "source": [
        "X_train, X_test, y_train, y_test = train_test_split(X, y, test_size = 0.2, stratify = y, random_state = 4299)"
      ],
      "metadata": {
        "id": "xPXaQc_GFpVS"
      },
      "execution_count": 108,
      "outputs": []
    },
    {
      "cell_type": "code",
      "source": [
        "X_train.head()"
      ],
      "metadata": {
        "colab": {
          "base_uri": "https://localhost:8080/",
          "height": 302
        },
        "id": "fDbRnE_TG63o",
        "outputId": "726f38c4-fdff-4358-94ec-7a6a8c6d7abf"
      },
      "execution_count": 110,
      "outputs": [
        {
          "output_type": "execute_result",
          "data": {
            "text/plain": [
              "      sentiment  \\\n",
              "3013   negative   \n",
              "13868  negative   \n",
              "2391   negative   \n",
              "6979   positive   \n",
              "8721   negative   \n",
              "\n",
              "                                                                                                                                               text  \\\n",
              "3013   @united haha and you have to clean a plane that was held overnight in a hangar. Sounds lovely. Also don't lie on screensand say it's weather   \n",
              "13868                                                                                @AmericanAir you have let me down. Seriously. #unhappycustomer   \n",
              "2391       @united hello I am flying first class and am behind 20 people on zone 1!!!!!  Pls pass on to app dept - you should board 1st class first   \n",
              "6979           @JetBlue Thanks so much for talking to me! The article about #Twitter chats came out great! http://t.co/rKorHvR9z1 #contentmarketing   \n",
              "8721                                                             @JetBlue She claimed that she did, but I was not happy with the way I was treated.   \n",
              "\n",
              "                                                                                     clean_text  \n",
              "3013   haha clean plane held overnight hangar sound lovely also dont lie screensand say weather  \n",
              "13868                                                                             let seriously  \n",
              "2391             hello flying first class behind people zone pls pas app dept board class first  \n",
              "6979                                                thanks much talking article chat came great  \n",
              "8721                                                                  claimed happy way treated  "
            ],
            "text/html": [
              "\n",
              "  <div id=\"df-b12b12db-358a-49ff-87ba-a7263152d2bf\">\n",
              "    <div class=\"colab-df-container\">\n",
              "      <div>\n",
              "<style scoped>\n",
              "    .dataframe tbody tr th:only-of-type {\n",
              "        vertical-align: middle;\n",
              "    }\n",
              "\n",
              "    .dataframe tbody tr th {\n",
              "        vertical-align: top;\n",
              "    }\n",
              "\n",
              "    .dataframe thead th {\n",
              "        text-align: right;\n",
              "    }\n",
              "</style>\n",
              "<table border=\"1\" class=\"dataframe\">\n",
              "  <thead>\n",
              "    <tr style=\"text-align: right;\">\n",
              "      <th></th>\n",
              "      <th>sentiment</th>\n",
              "      <th>text</th>\n",
              "      <th>clean_text</th>\n",
              "    </tr>\n",
              "  </thead>\n",
              "  <tbody>\n",
              "    <tr>\n",
              "      <th>3013</th>\n",
              "      <td>negative</td>\n",
              "      <td>@united haha and you have to clean a plane that was held overnight in a hangar. Sounds lovely. Also don't lie on screensand say it's weather</td>\n",
              "      <td>haha clean plane held overnight hangar sound lovely also dont lie screensand say weather</td>\n",
              "    </tr>\n",
              "    <tr>\n",
              "      <th>13868</th>\n",
              "      <td>negative</td>\n",
              "      <td>@AmericanAir you have let me down. Seriously. #unhappycustomer</td>\n",
              "      <td>let seriously</td>\n",
              "    </tr>\n",
              "    <tr>\n",
              "      <th>2391</th>\n",
              "      <td>negative</td>\n",
              "      <td>@united hello I am flying first class and am behind 20 people on zone 1!!!!!  Pls pass on to app dept - you should board 1st class first</td>\n",
              "      <td>hello flying first class behind people zone pls pas app dept board class first</td>\n",
              "    </tr>\n",
              "    <tr>\n",
              "      <th>6979</th>\n",
              "      <td>positive</td>\n",
              "      <td>@JetBlue Thanks so much for talking to me! The article about #Twitter chats came out great! http://t.co/rKorHvR9z1 #contentmarketing</td>\n",
              "      <td>thanks much talking article chat came great</td>\n",
              "    </tr>\n",
              "    <tr>\n",
              "      <th>8721</th>\n",
              "      <td>negative</td>\n",
              "      <td>@JetBlue She claimed that she did, but I was not happy with the way I was treated.</td>\n",
              "      <td>claimed happy way treated</td>\n",
              "    </tr>\n",
              "  </tbody>\n",
              "</table>\n",
              "</div>\n",
              "      <button class=\"colab-df-convert\" onclick=\"convertToInteractive('df-b12b12db-358a-49ff-87ba-a7263152d2bf')\"\n",
              "              title=\"Convert this dataframe to an interactive table.\"\n",
              "              style=\"display:none;\">\n",
              "        \n",
              "  <svg xmlns=\"http://www.w3.org/2000/svg\" height=\"24px\"viewBox=\"0 0 24 24\"\n",
              "       width=\"24px\">\n",
              "    <path d=\"M0 0h24v24H0V0z\" fill=\"none\"/>\n",
              "    <path d=\"M18.56 5.44l.94 2.06.94-2.06 2.06-.94-2.06-.94-.94-2.06-.94 2.06-2.06.94zm-11 1L8.5 8.5l.94-2.06 2.06-.94-2.06-.94L8.5 2.5l-.94 2.06-2.06.94zm10 10l.94 2.06.94-2.06 2.06-.94-2.06-.94-.94-2.06-.94 2.06-2.06.94z\"/><path d=\"M17.41 7.96l-1.37-1.37c-.4-.4-.92-.59-1.43-.59-.52 0-1.04.2-1.43.59L10.3 9.45l-7.72 7.72c-.78.78-.78 2.05 0 2.83L4 21.41c.39.39.9.59 1.41.59.51 0 1.02-.2 1.41-.59l7.78-7.78 2.81-2.81c.8-.78.8-2.07 0-2.86zM5.41 20L4 18.59l7.72-7.72 1.47 1.35L5.41 20z\"/>\n",
              "  </svg>\n",
              "      </button>\n",
              "      \n",
              "  <style>\n",
              "    .colab-df-container {\n",
              "      display:flex;\n",
              "      flex-wrap:wrap;\n",
              "      gap: 12px;\n",
              "    }\n",
              "\n",
              "    .colab-df-convert {\n",
              "      background-color: #E8F0FE;\n",
              "      border: none;\n",
              "      border-radius: 50%;\n",
              "      cursor: pointer;\n",
              "      display: none;\n",
              "      fill: #1967D2;\n",
              "      height: 32px;\n",
              "      padding: 0 0 0 0;\n",
              "      width: 32px;\n",
              "    }\n",
              "\n",
              "    .colab-df-convert:hover {\n",
              "      background-color: #E2EBFA;\n",
              "      box-shadow: 0px 1px 2px rgba(60, 64, 67, 0.3), 0px 1px 3px 1px rgba(60, 64, 67, 0.15);\n",
              "      fill: #174EA6;\n",
              "    }\n",
              "\n",
              "    [theme=dark] .colab-df-convert {\n",
              "      background-color: #3B4455;\n",
              "      fill: #D2E3FC;\n",
              "    }\n",
              "\n",
              "    [theme=dark] .colab-df-convert:hover {\n",
              "      background-color: #434B5C;\n",
              "      box-shadow: 0px 1px 3px 1px rgba(0, 0, 0, 0.15);\n",
              "      filter: drop-shadow(0px 1px 2px rgba(0, 0, 0, 0.3));\n",
              "      fill: #FFFFFF;\n",
              "    }\n",
              "  </style>\n",
              "\n",
              "      <script>\n",
              "        const buttonEl =\n",
              "          document.querySelector('#df-b12b12db-358a-49ff-87ba-a7263152d2bf button.colab-df-convert');\n",
              "        buttonEl.style.display =\n",
              "          google.colab.kernel.accessAllowed ? 'block' : 'none';\n",
              "\n",
              "        async function convertToInteractive(key) {\n",
              "          const element = document.querySelector('#df-b12b12db-358a-49ff-87ba-a7263152d2bf');\n",
              "          const dataTable =\n",
              "            await google.colab.kernel.invokeFunction('convertToInteractive',\n",
              "                                                     [key], {});\n",
              "          if (!dataTable) return;\n",
              "\n",
              "          const docLinkHtml = 'Like what you see? Visit the ' +\n",
              "            '<a target=\"_blank\" href=https://colab.research.google.com/notebooks/data_table.ipynb>data table notebook</a>'\n",
              "            + ' to learn more about interactive tables.';\n",
              "          element.innerHTML = '';\n",
              "          dataTable['output_type'] = 'display_data';\n",
              "          await google.colab.output.renderOutput(dataTable, element);\n",
              "          const docLink = document.createElement('div');\n",
              "          docLink.innerHTML = docLinkHtml;\n",
              "          element.appendChild(docLink);\n",
              "        }\n",
              "      </script>\n",
              "    </div>\n",
              "  </div>\n",
              "  "
            ]
          },
          "metadata": {},
          "execution_count": 110
        }
      ]
    },
    {
      "cell_type": "code",
      "metadata": {
        "id": "5lBiNHCoQC7b"
      },
      "source": [
        "vectorizer2 = CountVectorizer(preprocessor=updated_cleaning, min_df=2, ngram_range=(1,2))\n",
        "X_train_count2 = vectorizer2.fit_transform(X_train['text'])\n",
        "X_test_count2 = vectorizer2.transform(X_test['text'])"
      ],
      "execution_count": 109,
      "outputs": []
    },
    {
      "cell_type": "code",
      "metadata": {
        "id": "PCHf9kHLQC7b",
        "colab": {
          "base_uri": "https://localhost:8080/"
        },
        "outputId": "31dff02f-8db0-44b4-b3e5-2b4cdabc2a12"
      },
      "source": [
        "len(vectorizer2.get_feature_names())"
      ],
      "execution_count": 111,
      "outputs": [
        {
          "output_type": "execute_result",
          "data": {
            "text/plain": [
              "13234"
            ]
          },
          "metadata": {},
          "execution_count": 111
        }
      ]
    },
    {
      "cell_type": "code",
      "metadata": {
        "id": "FF0HNs5ZQC7b",
        "colab": {
          "base_uri": "https://localhost:8080/"
        },
        "outputId": "eb8d9e11-c92a-4c55-eb9e-72fe16d3e753"
      },
      "source": [
        "vectorizer2.get_feature_names_out()[3000:3050]"
      ],
      "execution_count": 113,
      "outputs": [
        {
          "output_type": "execute_result",
          "data": {
            "text/plain": [
              "array(['disaster', 'disconnect', 'disconnected', 'disconnected call',\n",
              "       'disconnected customer', 'disconnected please',\n",
              "       'disconnected time', 'disconnection', 'discontinued', 'discount',\n",
              "       'discount airfare', 'discovered', 'discrimination', 'discus',\n",
              "       'discus experience', 'disgrace', 'disgraceful', 'disgusted',\n",
              "       'disgusting', 'dislike', 'dislike delay', 'disney',\n",
              "       'disorganization', 'disorganized', 'dispatch', 'dispatcher',\n",
              "       'display', 'displayed', 'displeased', 'disregard',\n",
              "       'disregard customer', 'disrespect', 'disrespectful', 'disrupted',\n",
              "       'disruption', 'dissapointed', 'dissatisfied', 'distance',\n",
              "       'distribution', 'diversion', 'divert', 'diverted', 'dividend',\n",
              "       'dividend member', 'dividend mile', 'dl', 'dm', 'dm conf',\n",
              "       'dm confirmation', 'dm detail'], dtype=object)"
            ]
          },
          "metadata": {},
          "execution_count": 113
        }
      ]
    },
    {
      "cell_type": "code",
      "metadata": {
        "id": "hgGXXR06QC7b",
        "colab": {
          "base_uri": "https://localhost:8080/"
        },
        "outputId": "0e0ec7a5-b940-42cf-c6bf-7877e214921b"
      },
      "source": [
        "X_train_count2.toarray()"
      ],
      "execution_count": 115,
      "outputs": [
        {
          "output_type": "execute_result",
          "data": {
            "text/plain": [
              "array([[0, 0, 0, ..., 0, 0, 0],\n",
              "       [0, 0, 0, ..., 0, 0, 0],\n",
              "       [0, 0, 0, ..., 0, 0, 0],\n",
              "       ...,\n",
              "       [0, 0, 0, ..., 0, 0, 0],\n",
              "       [0, 0, 0, ..., 0, 0, 0],\n",
              "       [0, 0, 0, ..., 0, 0, 0]])"
            ]
          },
          "metadata": {},
          "execution_count": 115
        }
      ]
    },
    {
      "cell_type": "code",
      "metadata": {
        "id": "n5Nanul9QC7c",
        "colab": {
          "base_uri": "https://localhost:8080/",
          "height": 505
        },
        "outputId": "148b9c8e-8cff-410d-bb96-0b24125bbe16"
      },
      "source": [
        "count_df = pd.DataFrame(X_train_count2.toarray(), columns = vectorizer2.get_feature_names())\n",
        "count_df.iloc[:,500:590]"
      ],
      "execution_count": 118,
      "outputs": [
        {
          "output_type": "execute_result",
          "data": {
            "text/plain": [
              "       amp getting  amp give  amp got  amp great  amp half  amp hang  \\\n",
              "0                0         0        0          0         0         0   \n",
              "1                0         0        0          0         0         0   \n",
              "2                0         0        0          0         0         0   \n",
              "3                0         0        0          0         0         0   \n",
              "4                0         0        0          0         0         0   \n",
              "...            ...       ...      ...        ...       ...       ...   \n",
              "11707            0         0        0          0         0         0   \n",
              "11708            0         0        0          0         0         0   \n",
              "11709            0         0        0          0         0         0   \n",
              "11710            0         0        0          0         0         0   \n",
              "11711            0         0        0          0         0         0   \n",
              "\n",
              "       amp help  amp hold  amp ice  amp ill  ...  another flight  \\\n",
              "0             0         0        0        0  ...               0   \n",
              "1             0         0        0        0  ...               0   \n",
              "2             0         0        0        0  ...               0   \n",
              "3             0         0        0        0  ...               0   \n",
              "4             0         0        0        0  ...               0   \n",
              "...         ...       ...      ...      ...  ...             ...   \n",
              "11707         0         0        0        0  ...               0   \n",
              "11708         0         0        0        0  ...               0   \n",
              "11709         0         0        0        0  ...               0   \n",
              "11710         0         0        0        0  ...               0   \n",
              "11711         0         0        0        0  ...               0   \n",
              "\n",
              "       another gate  another go  another great  another grievance  \\\n",
              "0                 0           0              0                  0   \n",
              "1                 0           0              0                  0   \n",
              "2                 0           0              0                  0   \n",
              "3                 0           0              0                  0   \n",
              "4                 0           0              0                  0   \n",
              "...             ...         ...            ...                ...   \n",
              "11707             0           0              0                  0   \n",
              "11708             0           0              0                  0   \n",
              "11709             0           0              0                  0   \n",
              "11710             0           0              0                  0   \n",
              "11711             0           0              0                  0   \n",
              "\n",
              "       another hour  another hr  another min  another minute  another night  \n",
              "0                 0           0            0               0              0  \n",
              "1                 0           0            0               0              0  \n",
              "2                 0           0            0               0              0  \n",
              "3                 0           0            0               0              0  \n",
              "4                 0           0            0               0              0  \n",
              "...             ...         ...          ...             ...            ...  \n",
              "11707             0           0            0               0              0  \n",
              "11708             0           0            0               0              0  \n",
              "11709             0           0            0               0              0  \n",
              "11710             0           0            0               0              0  \n",
              "11711             0           0            0               0              0  \n",
              "\n",
              "[11712 rows x 90 columns]"
            ],
            "text/html": [
              "\n",
              "  <div id=\"df-79108e6c-394d-4693-aedf-f4cfd9dbaf79\">\n",
              "    <div class=\"colab-df-container\">\n",
              "      <div>\n",
              "<style scoped>\n",
              "    .dataframe tbody tr th:only-of-type {\n",
              "        vertical-align: middle;\n",
              "    }\n",
              "\n",
              "    .dataframe tbody tr th {\n",
              "        vertical-align: top;\n",
              "    }\n",
              "\n",
              "    .dataframe thead th {\n",
              "        text-align: right;\n",
              "    }\n",
              "</style>\n",
              "<table border=\"1\" class=\"dataframe\">\n",
              "  <thead>\n",
              "    <tr style=\"text-align: right;\">\n",
              "      <th></th>\n",
              "      <th>amp getting</th>\n",
              "      <th>amp give</th>\n",
              "      <th>amp got</th>\n",
              "      <th>amp great</th>\n",
              "      <th>amp half</th>\n",
              "      <th>amp hang</th>\n",
              "      <th>amp help</th>\n",
              "      <th>amp hold</th>\n",
              "      <th>amp ice</th>\n",
              "      <th>amp ill</th>\n",
              "      <th>...</th>\n",
              "      <th>another flight</th>\n",
              "      <th>another gate</th>\n",
              "      <th>another go</th>\n",
              "      <th>another great</th>\n",
              "      <th>another grievance</th>\n",
              "      <th>another hour</th>\n",
              "      <th>another hr</th>\n",
              "      <th>another min</th>\n",
              "      <th>another minute</th>\n",
              "      <th>another night</th>\n",
              "    </tr>\n",
              "  </thead>\n",
              "  <tbody>\n",
              "    <tr>\n",
              "      <th>0</th>\n",
              "      <td>0</td>\n",
              "      <td>0</td>\n",
              "      <td>0</td>\n",
              "      <td>0</td>\n",
              "      <td>0</td>\n",
              "      <td>0</td>\n",
              "      <td>0</td>\n",
              "      <td>0</td>\n",
              "      <td>0</td>\n",
              "      <td>0</td>\n",
              "      <td>...</td>\n",
              "      <td>0</td>\n",
              "      <td>0</td>\n",
              "      <td>0</td>\n",
              "      <td>0</td>\n",
              "      <td>0</td>\n",
              "      <td>0</td>\n",
              "      <td>0</td>\n",
              "      <td>0</td>\n",
              "      <td>0</td>\n",
              "      <td>0</td>\n",
              "    </tr>\n",
              "    <tr>\n",
              "      <th>1</th>\n",
              "      <td>0</td>\n",
              "      <td>0</td>\n",
              "      <td>0</td>\n",
              "      <td>0</td>\n",
              "      <td>0</td>\n",
              "      <td>0</td>\n",
              "      <td>0</td>\n",
              "      <td>0</td>\n",
              "      <td>0</td>\n",
              "      <td>0</td>\n",
              "      <td>...</td>\n",
              "      <td>0</td>\n",
              "      <td>0</td>\n",
              "      <td>0</td>\n",
              "      <td>0</td>\n",
              "      <td>0</td>\n",
              "      <td>0</td>\n",
              "      <td>0</td>\n",
              "      <td>0</td>\n",
              "      <td>0</td>\n",
              "      <td>0</td>\n",
              "    </tr>\n",
              "    <tr>\n",
              "      <th>2</th>\n",
              "      <td>0</td>\n",
              "      <td>0</td>\n",
              "      <td>0</td>\n",
              "      <td>0</td>\n",
              "      <td>0</td>\n",
              "      <td>0</td>\n",
              "      <td>0</td>\n",
              "      <td>0</td>\n",
              "      <td>0</td>\n",
              "      <td>0</td>\n",
              "      <td>...</td>\n",
              "      <td>0</td>\n",
              "      <td>0</td>\n",
              "      <td>0</td>\n",
              "      <td>0</td>\n",
              "      <td>0</td>\n",
              "      <td>0</td>\n",
              "      <td>0</td>\n",
              "      <td>0</td>\n",
              "      <td>0</td>\n",
              "      <td>0</td>\n",
              "    </tr>\n",
              "    <tr>\n",
              "      <th>3</th>\n",
              "      <td>0</td>\n",
              "      <td>0</td>\n",
              "      <td>0</td>\n",
              "      <td>0</td>\n",
              "      <td>0</td>\n",
              "      <td>0</td>\n",
              "      <td>0</td>\n",
              "      <td>0</td>\n",
              "      <td>0</td>\n",
              "      <td>0</td>\n",
              "      <td>...</td>\n",
              "      <td>0</td>\n",
              "      <td>0</td>\n",
              "      <td>0</td>\n",
              "      <td>0</td>\n",
              "      <td>0</td>\n",
              "      <td>0</td>\n",
              "      <td>0</td>\n",
              "      <td>0</td>\n",
              "      <td>0</td>\n",
              "      <td>0</td>\n",
              "    </tr>\n",
              "    <tr>\n",
              "      <th>4</th>\n",
              "      <td>0</td>\n",
              "      <td>0</td>\n",
              "      <td>0</td>\n",
              "      <td>0</td>\n",
              "      <td>0</td>\n",
              "      <td>0</td>\n",
              "      <td>0</td>\n",
              "      <td>0</td>\n",
              "      <td>0</td>\n",
              "      <td>0</td>\n",
              "      <td>...</td>\n",
              "      <td>0</td>\n",
              "      <td>0</td>\n",
              "      <td>0</td>\n",
              "      <td>0</td>\n",
              "      <td>0</td>\n",
              "      <td>0</td>\n",
              "      <td>0</td>\n",
              "      <td>0</td>\n",
              "      <td>0</td>\n",
              "      <td>0</td>\n",
              "    </tr>\n",
              "    <tr>\n",
              "      <th>...</th>\n",
              "      <td>...</td>\n",
              "      <td>...</td>\n",
              "      <td>...</td>\n",
              "      <td>...</td>\n",
              "      <td>...</td>\n",
              "      <td>...</td>\n",
              "      <td>...</td>\n",
              "      <td>...</td>\n",
              "      <td>...</td>\n",
              "      <td>...</td>\n",
              "      <td>...</td>\n",
              "      <td>...</td>\n",
              "      <td>...</td>\n",
              "      <td>...</td>\n",
              "      <td>...</td>\n",
              "      <td>...</td>\n",
              "      <td>...</td>\n",
              "      <td>...</td>\n",
              "      <td>...</td>\n",
              "      <td>...</td>\n",
              "      <td>...</td>\n",
              "    </tr>\n",
              "    <tr>\n",
              "      <th>11707</th>\n",
              "      <td>0</td>\n",
              "      <td>0</td>\n",
              "      <td>0</td>\n",
              "      <td>0</td>\n",
              "      <td>0</td>\n",
              "      <td>0</td>\n",
              "      <td>0</td>\n",
              "      <td>0</td>\n",
              "      <td>0</td>\n",
              "      <td>0</td>\n",
              "      <td>...</td>\n",
              "      <td>0</td>\n",
              "      <td>0</td>\n",
              "      <td>0</td>\n",
              "      <td>0</td>\n",
              "      <td>0</td>\n",
              "      <td>0</td>\n",
              "      <td>0</td>\n",
              "      <td>0</td>\n",
              "      <td>0</td>\n",
              "      <td>0</td>\n",
              "    </tr>\n",
              "    <tr>\n",
              "      <th>11708</th>\n",
              "      <td>0</td>\n",
              "      <td>0</td>\n",
              "      <td>0</td>\n",
              "      <td>0</td>\n",
              "      <td>0</td>\n",
              "      <td>0</td>\n",
              "      <td>0</td>\n",
              "      <td>0</td>\n",
              "      <td>0</td>\n",
              "      <td>0</td>\n",
              "      <td>...</td>\n",
              "      <td>0</td>\n",
              "      <td>0</td>\n",
              "      <td>0</td>\n",
              "      <td>0</td>\n",
              "      <td>0</td>\n",
              "      <td>0</td>\n",
              "      <td>0</td>\n",
              "      <td>0</td>\n",
              "      <td>0</td>\n",
              "      <td>0</td>\n",
              "    </tr>\n",
              "    <tr>\n",
              "      <th>11709</th>\n",
              "      <td>0</td>\n",
              "      <td>0</td>\n",
              "      <td>0</td>\n",
              "      <td>0</td>\n",
              "      <td>0</td>\n",
              "      <td>0</td>\n",
              "      <td>0</td>\n",
              "      <td>0</td>\n",
              "      <td>0</td>\n",
              "      <td>0</td>\n",
              "      <td>...</td>\n",
              "      <td>0</td>\n",
              "      <td>0</td>\n",
              "      <td>0</td>\n",
              "      <td>0</td>\n",
              "      <td>0</td>\n",
              "      <td>0</td>\n",
              "      <td>0</td>\n",
              "      <td>0</td>\n",
              "      <td>0</td>\n",
              "      <td>0</td>\n",
              "    </tr>\n",
              "    <tr>\n",
              "      <th>11710</th>\n",
              "      <td>0</td>\n",
              "      <td>0</td>\n",
              "      <td>0</td>\n",
              "      <td>0</td>\n",
              "      <td>0</td>\n",
              "      <td>0</td>\n",
              "      <td>0</td>\n",
              "      <td>0</td>\n",
              "      <td>0</td>\n",
              "      <td>0</td>\n",
              "      <td>...</td>\n",
              "      <td>0</td>\n",
              "      <td>0</td>\n",
              "      <td>0</td>\n",
              "      <td>0</td>\n",
              "      <td>0</td>\n",
              "      <td>0</td>\n",
              "      <td>0</td>\n",
              "      <td>0</td>\n",
              "      <td>0</td>\n",
              "      <td>0</td>\n",
              "    </tr>\n",
              "    <tr>\n",
              "      <th>11711</th>\n",
              "      <td>0</td>\n",
              "      <td>0</td>\n",
              "      <td>0</td>\n",
              "      <td>0</td>\n",
              "      <td>0</td>\n",
              "      <td>0</td>\n",
              "      <td>0</td>\n",
              "      <td>0</td>\n",
              "      <td>0</td>\n",
              "      <td>0</td>\n",
              "      <td>...</td>\n",
              "      <td>0</td>\n",
              "      <td>0</td>\n",
              "      <td>0</td>\n",
              "      <td>0</td>\n",
              "      <td>0</td>\n",
              "      <td>0</td>\n",
              "      <td>0</td>\n",
              "      <td>0</td>\n",
              "      <td>0</td>\n",
              "      <td>0</td>\n",
              "    </tr>\n",
              "  </tbody>\n",
              "</table>\n",
              "<p>11712 rows × 90 columns</p>\n",
              "</div>\n",
              "      <button class=\"colab-df-convert\" onclick=\"convertToInteractive('df-79108e6c-394d-4693-aedf-f4cfd9dbaf79')\"\n",
              "              title=\"Convert this dataframe to an interactive table.\"\n",
              "              style=\"display:none;\">\n",
              "        \n",
              "  <svg xmlns=\"http://www.w3.org/2000/svg\" height=\"24px\"viewBox=\"0 0 24 24\"\n",
              "       width=\"24px\">\n",
              "    <path d=\"M0 0h24v24H0V0z\" fill=\"none\"/>\n",
              "    <path d=\"M18.56 5.44l.94 2.06.94-2.06 2.06-.94-2.06-.94-.94-2.06-.94 2.06-2.06.94zm-11 1L8.5 8.5l.94-2.06 2.06-.94-2.06-.94L8.5 2.5l-.94 2.06-2.06.94zm10 10l.94 2.06.94-2.06 2.06-.94-2.06-.94-.94-2.06-.94 2.06-2.06.94z\"/><path d=\"M17.41 7.96l-1.37-1.37c-.4-.4-.92-.59-1.43-.59-.52 0-1.04.2-1.43.59L10.3 9.45l-7.72 7.72c-.78.78-.78 2.05 0 2.83L4 21.41c.39.39.9.59 1.41.59.51 0 1.02-.2 1.41-.59l7.78-7.78 2.81-2.81c.8-.78.8-2.07 0-2.86zM5.41 20L4 18.59l7.72-7.72 1.47 1.35L5.41 20z\"/>\n",
              "  </svg>\n",
              "      </button>\n",
              "      \n",
              "  <style>\n",
              "    .colab-df-container {\n",
              "      display:flex;\n",
              "      flex-wrap:wrap;\n",
              "      gap: 12px;\n",
              "    }\n",
              "\n",
              "    .colab-df-convert {\n",
              "      background-color: #E8F0FE;\n",
              "      border: none;\n",
              "      border-radius: 50%;\n",
              "      cursor: pointer;\n",
              "      display: none;\n",
              "      fill: #1967D2;\n",
              "      height: 32px;\n",
              "      padding: 0 0 0 0;\n",
              "      width: 32px;\n",
              "    }\n",
              "\n",
              "    .colab-df-convert:hover {\n",
              "      background-color: #E2EBFA;\n",
              "      box-shadow: 0px 1px 2px rgba(60, 64, 67, 0.3), 0px 1px 3px 1px rgba(60, 64, 67, 0.15);\n",
              "      fill: #174EA6;\n",
              "    }\n",
              "\n",
              "    [theme=dark] .colab-df-convert {\n",
              "      background-color: #3B4455;\n",
              "      fill: #D2E3FC;\n",
              "    }\n",
              "\n",
              "    [theme=dark] .colab-df-convert:hover {\n",
              "      background-color: #434B5C;\n",
              "      box-shadow: 0px 1px 3px 1px rgba(0, 0, 0, 0.15);\n",
              "      filter: drop-shadow(0px 1px 2px rgba(0, 0, 0, 0.3));\n",
              "      fill: #FFFFFF;\n",
              "    }\n",
              "  </style>\n",
              "\n",
              "      <script>\n",
              "        const buttonEl =\n",
              "          document.querySelector('#df-79108e6c-394d-4693-aedf-f4cfd9dbaf79 button.colab-df-convert');\n",
              "        buttonEl.style.display =\n",
              "          google.colab.kernel.accessAllowed ? 'block' : 'none';\n",
              "\n",
              "        async function convertToInteractive(key) {\n",
              "          const element = document.querySelector('#df-79108e6c-394d-4693-aedf-f4cfd9dbaf79');\n",
              "          const dataTable =\n",
              "            await google.colab.kernel.invokeFunction('convertToInteractive',\n",
              "                                                     [key], {});\n",
              "          if (!dataTable) return;\n",
              "\n",
              "          const docLinkHtml = 'Like what you see? Visit the ' +\n",
              "            '<a target=\"_blank\" href=https://colab.research.google.com/notebooks/data_table.ipynb>data table notebook</a>'\n",
              "            + ' to learn more about interactive tables.';\n",
              "          element.innerHTML = '';\n",
              "          dataTable['output_type'] = 'display_data';\n",
              "          await google.colab.output.renderOutput(dataTable, element);\n",
              "          const docLink = document.createElement('div');\n",
              "          docLink.innerHTML = docLinkHtml;\n",
              "          element.appendChild(docLink);\n",
              "        }\n",
              "      </script>\n",
              "    </div>\n",
              "  </div>\n",
              "  "
            ]
          },
          "metadata": {},
          "execution_count": 118
        }
      ]
    },
    {
      "cell_type": "code",
      "metadata": {
        "id": "9z4VzD1mQC7c",
        "colab": {
          "base_uri": "https://localhost:8080/"
        },
        "outputId": "5003b9b6-ce73-4fc7-ad75-b56071cc68f0"
      },
      "source": [
        "# TOP 20 TOKENS\n",
        "print('Before min_df')\n",
        "list(zip(vectorizer1.get_feature_names(), X_train_count1.toarray().sum(axis=0)))[:20]\n",
        "print('\\n')\n",
        "print('After min_df')\n",
        "list(zip(vectorizer2.get_feature_names(), X_train_count2.toarray().sum(axis=0)))[:20]"
      ],
      "execution_count": 119,
      "outputs": [
        {
          "output_type": "stream",
          "name": "stdout",
          "text": [
            "Before min_df\n"
          ]
        },
        {
          "output_type": "execute_result",
          "data": {
            "text/plain": [
              "[('aa', 167),\n",
              " ('aaaand', 1),\n",
              " ('aadavantage', 1),\n",
              " ('aadv', 2),\n",
              " ('aadvantage', 9),\n",
              " ('aal', 1),\n",
              " ('aaron', 1),\n",
              " ('ab', 1),\n",
              " ('aback', 1),\n",
              " ('abandon', 1),\n",
              " ('abandoned', 1),\n",
              " ('abandonment', 1),\n",
              " ('abassinet', 1),\n",
              " ('abbreve', 1),\n",
              " ('abc', 6),\n",
              " ('abducted', 1),\n",
              " ('ability', 4),\n",
              " ('able', 93),\n",
              " ('aboard', 3),\n",
              " ('abounds', 1)]"
            ]
          },
          "metadata": {},
          "execution_count": 119
        },
        {
          "output_type": "stream",
          "name": "stdout",
          "text": [
            "\n",
            "\n",
            "After min_df\n"
          ]
        },
        {
          "output_type": "execute_result",
          "data": {
            "text/plain": [
              "[('aa', 167),\n",
              " ('aa agent', 3),\n",
              " ('aa amp', 4),\n",
              " ('aa customer', 4),\n",
              " ('aa dallas', 2),\n",
              " ('aa doesnt', 2),\n",
              " ('aa email', 2),\n",
              " ('aa employee', 4),\n",
              " ('aa family', 2),\n",
              " ('aa flight', 5),\n",
              " ('aa gate', 2),\n",
              " ('aa gold', 2),\n",
              " ('aa help', 3),\n",
              " ('aa mile', 2),\n",
              " ('aa monday', 2),\n",
              " ('aa number', 2),\n",
              " ('aa platinum', 2),\n",
              " ('aa possible', 2),\n",
              " ('aa usair', 2),\n",
              " ('aa would', 2)]"
            ]
          },
          "metadata": {},
          "execution_count": 119
        }
      ]
    },
    {
      "cell_type": "markdown",
      "metadata": {
        "id": "2KVi7vfzQC7c"
      },
      "source": [
        "## TF-IDF"
      ]
    },
    {
      "cell_type": "markdown",
      "metadata": {
        "id": "0Y2lePoRQC7c"
      },
      "source": [
        "🔑 : sklearn TD-IDF\n",
        "https://towardsdatascience.com/how-sklearns-tf-idf-is-different-from-the-standard-tf-idf-275fa582e73d"
      ]
    },
    {
      "cell_type": "code",
      "metadata": {
        "id": "Oo2j3kjzQC7c"
      },
      "source": [
        "from sklearn.feature_extraction.text import TfidfVectorizer"
      ],
      "execution_count": null,
      "outputs": []
    },
    {
      "cell_type": "code",
      "metadata": {
        "id": "euxCrAL-QC7c"
      },
      "source": [
        ""
      ],
      "execution_count": null,
      "outputs": []
    },
    {
      "cell_type": "code",
      "metadata": {
        "id": "byiZxyK5QC7c"
      },
      "source": [
        ""
      ],
      "execution_count": null,
      "outputs": []
    },
    {
      "cell_type": "code",
      "metadata": {
        "id": "9FfCRDWxQC7d"
      },
      "source": [
        ""
      ],
      "execution_count": null,
      "outputs": []
    },
    {
      "cell_type": "code",
      "metadata": {
        "id": "SJY0L5kYQC7d"
      },
      "source": [
        ""
      ],
      "execution_count": null,
      "outputs": []
    },
    {
      "cell_type": "code",
      "metadata": {
        "id": "foZsEUCXQC7d"
      },
      "source": [
        ""
      ],
      "execution_count": null,
      "outputs": []
    },
    {
      "cell_type": "code",
      "metadata": {
        "id": "bE5b20ifQC7d"
      },
      "source": [
        ""
      ],
      "execution_count": null,
      "outputs": []
    }
  ]
}