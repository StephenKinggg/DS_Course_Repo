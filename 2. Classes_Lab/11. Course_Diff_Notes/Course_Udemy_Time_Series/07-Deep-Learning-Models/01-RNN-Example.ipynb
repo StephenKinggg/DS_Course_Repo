{
 "cells": [
  {
   "cell_type": "markdown",
   "metadata": {},
   "source": [
    "___\n",
    "\n",
    "<a href='http://www.pieriandata.com'><img src='../Pierian_Data_Logo.png'/></a>\n",
    "___\n",
    "<center><em>Copyright Pierian Data</em></center>\n",
    "<center><em>For more information, visit us at <a href='http://www.pieriandata.com'>www.pieriandata.com</a></em></center>\n",
    "# RNN Example for Time Series"
   ]
  },
  {
   "cell_type": "raw",
   "metadata": {},
   "source": [
    "RNN : Recurrent Neural Networks Theory"
   ]
  },
  {
   "cell_type": "code",
   "execution_count": 3,
   "metadata": {
    "tags": []
   },
   "outputs": [],
   "source": [
    "import pandas as pd\n",
    "import numpy as np\n",
    "%matplotlib inline\n",
    "import matplotlib.pyplot as plt"
   ]
  },
  {
   "cell_type": "markdown",
   "metadata": {},
   "source": [
    "## Data\n",
    "https://fred.stlouisfed.org/series/S4248SM144NCEN"
   ]
  },
  {
   "cell_type": "code",
   "execution_count": 4,
   "metadata": {
    "tags": []
   },
   "outputs": [],
   "source": [
    "df = pd.read_csv('../Data/Alcohol_Sales.csv',index_col='DATE',parse_dates=True)\n",
    "df.index.freq = 'MS'"
   ]
  },
  {
   "cell_type": "code",
   "execution_count": 5,
   "metadata": {},
   "outputs": [
    {
     "data": {
      "text/html": [
       "<div>\n",
       "<style scoped>\n",
       "    .dataframe tbody tr th:only-of-type {\n",
       "        vertical-align: middle;\n",
       "    }\n",
       "\n",
       "    .dataframe tbody tr th {\n",
       "        vertical-align: top;\n",
       "    }\n",
       "\n",
       "    .dataframe thead th {\n",
       "        text-align: right;\n",
       "    }\n",
       "</style>\n",
       "<table border=\"1\" class=\"dataframe\">\n",
       "  <thead>\n",
       "    <tr style=\"text-align: right;\">\n",
       "      <th></th>\n",
       "      <th>S4248SM144NCEN</th>\n",
       "    </tr>\n",
       "    <tr>\n",
       "      <th>DATE</th>\n",
       "      <th></th>\n",
       "    </tr>\n",
       "  </thead>\n",
       "  <tbody>\n",
       "    <tr>\n",
       "      <th>1992-01-01</th>\n",
       "      <td>3459</td>\n",
       "    </tr>\n",
       "    <tr>\n",
       "      <th>1992-02-01</th>\n",
       "      <td>3458</td>\n",
       "    </tr>\n",
       "    <tr>\n",
       "      <th>1992-03-01</th>\n",
       "      <td>4002</td>\n",
       "    </tr>\n",
       "    <tr>\n",
       "      <th>1992-04-01</th>\n",
       "      <td>4564</td>\n",
       "    </tr>\n",
       "    <tr>\n",
       "      <th>1992-05-01</th>\n",
       "      <td>4221</td>\n",
       "    </tr>\n",
       "  </tbody>\n",
       "</table>\n",
       "</div>"
      ],
      "text/plain": [
       "            S4248SM144NCEN\n",
       "DATE                      \n",
       "1992-01-01            3459\n",
       "1992-02-01            3458\n",
       "1992-03-01            4002\n",
       "1992-04-01            4564\n",
       "1992-05-01            4221"
      ]
     },
     "execution_count": 5,
     "metadata": {},
     "output_type": "execute_result"
    }
   ],
   "source": [
    "df.head()"
   ]
  },
  {
   "cell_type": "code",
   "execution_count": 6,
   "metadata": {
    "tags": []
   },
   "outputs": [],
   "source": [
    "df.columns = ['Sales']"
   ]
  },
  {
   "cell_type": "code",
   "execution_count": 7,
   "metadata": {},
   "outputs": [
    {
     "data": {
      "text/html": [
       "<div>\n",
       "<style scoped>\n",
       "    .dataframe tbody tr th:only-of-type {\n",
       "        vertical-align: middle;\n",
       "    }\n",
       "\n",
       "    .dataframe tbody tr th {\n",
       "        vertical-align: top;\n",
       "    }\n",
       "\n",
       "    .dataframe thead th {\n",
       "        text-align: right;\n",
       "    }\n",
       "</style>\n",
       "<table border=\"1\" class=\"dataframe\">\n",
       "  <thead>\n",
       "    <tr style=\"text-align: right;\">\n",
       "      <th></th>\n",
       "      <th>Sales</th>\n",
       "    </tr>\n",
       "    <tr>\n",
       "      <th>DATE</th>\n",
       "      <th></th>\n",
       "    </tr>\n",
       "  </thead>\n",
       "  <tbody>\n",
       "    <tr>\n",
       "      <th>1992-01-01</th>\n",
       "      <td>3459</td>\n",
       "    </tr>\n",
       "    <tr>\n",
       "      <th>1992-02-01</th>\n",
       "      <td>3458</td>\n",
       "    </tr>\n",
       "    <tr>\n",
       "      <th>1992-03-01</th>\n",
       "      <td>4002</td>\n",
       "    </tr>\n",
       "    <tr>\n",
       "      <th>1992-04-01</th>\n",
       "      <td>4564</td>\n",
       "    </tr>\n",
       "    <tr>\n",
       "      <th>1992-05-01</th>\n",
       "      <td>4221</td>\n",
       "    </tr>\n",
       "    <tr>\n",
       "      <th>...</th>\n",
       "      <td>...</td>\n",
       "    </tr>\n",
       "    <tr>\n",
       "      <th>2018-09-01</th>\n",
       "      <td>12396</td>\n",
       "    </tr>\n",
       "    <tr>\n",
       "      <th>2018-10-01</th>\n",
       "      <td>13914</td>\n",
       "    </tr>\n",
       "    <tr>\n",
       "      <th>2018-11-01</th>\n",
       "      <td>14174</td>\n",
       "    </tr>\n",
       "    <tr>\n",
       "      <th>2018-12-01</th>\n",
       "      <td>15504</td>\n",
       "    </tr>\n",
       "    <tr>\n",
       "      <th>2019-01-01</th>\n",
       "      <td>10718</td>\n",
       "    </tr>\n",
       "  </tbody>\n",
       "</table>\n",
       "<p>325 rows × 1 columns</p>\n",
       "</div>"
      ],
      "text/plain": [
       "            Sales\n",
       "DATE             \n",
       "1992-01-01   3459\n",
       "1992-02-01   3458\n",
       "1992-03-01   4002\n",
       "1992-04-01   4564\n",
       "1992-05-01   4221\n",
       "...           ...\n",
       "2018-09-01  12396\n",
       "2018-10-01  13914\n",
       "2018-11-01  14174\n",
       "2018-12-01  15504\n",
       "2019-01-01  10718\n",
       "\n",
       "[325 rows x 1 columns]"
      ]
     },
     "execution_count": 7,
     "metadata": {},
     "output_type": "execute_result"
    }
   ],
   "source": [
    "df"
   ]
  },
  {
   "cell_type": "code",
   "execution_count": 8,
   "metadata": {},
   "outputs": [
    {
     "data": {
      "text/plain": [
       "<AxesSubplot:xlabel='DATE'>"
      ]
     },
     "execution_count": 8,
     "metadata": {},
     "output_type": "execute_result"
    },
    {
     "data": {
      "image/png": "[encoded data removed]",
      "text/plain": [
       "<Figure size 864x576 with 1 Axes>"
      ]
     },
     "metadata": {
      "needs_background": "light"
     },
     "output_type": "display_data"
    }
   ],
   "source": [
    "df.plot(figsize=(12,8))"
   ]
  },
  {
   "cell_type": "code",
   "execution_count": 9,
   "metadata": {
    "tags": []
   },
   "outputs": [],
   "source": [
    "from statsmodels.tsa.seasonal import seasonal_decompose"
   ]
  },
  {
   "cell_type": "code",
   "execution_count": 14,
   "metadata": {},
   "outputs": [],
   "source": [
    "results = seasonal_decompose(df['Sales'])"
   ]
  },
  {
   "cell_type": "code",
   "execution_count": 13,
   "metadata": {},
   "outputs": [
    {
     "data": {
      "image/png": "[encoded data removed]",
      "text/plain": [
       "<Figure size 432x288 with 4 Axes>"
      ]
     },
     "metadata": {
      "needs_background": "light"
     },
     "output_type": "display_data"
    }
   ],
   "source": [
    "results.plot();"
   ]
  },
  {
   "cell_type": "code",
   "execution_count": 19,
   "metadata": {},
   "outputs": [
    {
     "data": {
      "text/plain": [
       "<AxesSubplot:xlabel='DATE'>"
      ]
     },
     "execution_count": 19,
     "metadata": {},
     "output_type": "execute_result"
    },
    {
     "data": {
      "image/png": "[encoded data removed]",
      "text/plain": [
       "<Figure size 864x432 with 1 Axes>"
      ]
     },
     "metadata": {
      "needs_background": "light"
     },
     "output_type": "display_data"
    }
   ],
   "source": [
    "results.trend.plot(figsize=(12,6))"
   ]
  },
  {
   "cell_type": "code",
   "execution_count": 20,
   "metadata": {},
   "outputs": [
    {
     "data": {
      "text/plain": [
       "<AxesSubplot:xlabel='DATE'>"
      ]
     },
     "execution_count": 20,
     "metadata": {},
     "output_type": "execute_result"
    },
    {
     "data": {
      "image/png": "[encoded data removed]",
      "text/plain": [
       "<Figure size 864x288 with 1 Axes>"
      ]
     },
     "metadata": {
      "needs_background": "light"
     },
     "output_type": "display_data"
    }
   ],
   "source": [
    "results.seasonal.plot(figsize=(12,4))"
   ]
  },
  {
   "cell_type": "code",
   "execution_count": 23,
   "metadata": {},
   "outputs": [
    {
     "data": {
      "text/plain": [
       "<AxesSubplot:xlabel='DATE'>"
      ]
     },
     "execution_count": 23,
     "metadata": {},
     "output_type": "execute_result"
    },
    {
     "data": {
      "image/png": "[encoded data removed]",
      "text/plain": [
       "<Figure size 864x288 with 1 Axes>"
      ]
     },
     "metadata": {
      "needs_background": "light"
     },
     "output_type": "display_data"
    }
   ],
   "source": [
    "results.resid.plot(figsize=(12,4))"
   ]
  },
  {
   "cell_type": "code",
   "execution_count": 21,
   "metadata": {},
   "outputs": [
    {
     "data": {
      "text/plain": [
       "<AxesSubplot:xlabel='DATE'>"
      ]
     },
     "execution_count": 21,
     "metadata": {},
     "output_type": "execute_result"
    },
    {
     "data": {
      "image/png": "[encoded data removed]",
      "text/plain": [
       "<Figure size 864x288 with 1 Axes>"
      ]
     },
     "metadata": {
      "needs_background": "light"
     },
     "output_type": "display_data"
    }
   ],
   "source": [
    "results.observed.plot(figsize=(12,4))"
   ]
  },
  {
   "cell_type": "markdown",
   "metadata": {},
   "source": [
    "## Train Test Split"
   ]
  },
  {
   "cell_type": "code",
   "execution_count": 24,
   "metadata": {},
   "outputs": [
    {
     "data": {
      "text/plain": [
       "325"
      ]
     },
     "execution_count": 24,
     "metadata": {},
     "output_type": "execute_result"
    }
   ],
   "source": [
    "len(df)"
   ]
  },
  {
   "cell_type": "code",
   "execution_count": 25,
   "metadata": {},
   "outputs": [
    {
     "data": {
      "text/plain": [
       "313"
      ]
     },
     "execution_count": 25,
     "metadata": {},
     "output_type": "execute_result"
    }
   ],
   "source": [
    "325-12"
   ]
  },
  {
   "cell_type": "code",
   "execution_count": 26,
   "metadata": {
    "tags": []
   },
   "outputs": [],
   "source": [
    "train = df.iloc[:313]\n",
    "test = df.iloc[313:]"
   ]
  },
  {
   "cell_type": "code",
   "execution_count": 27,
   "metadata": {},
   "outputs": [
    {
     "data": {
      "text/plain": [
       "12"
      ]
     },
     "execution_count": 27,
     "metadata": {},
     "output_type": "execute_result"
    }
   ],
   "source": [
    "len(test)"
   ]
  },
  {
   "cell_type": "markdown",
   "metadata": {},
   "source": [
    "## Scale Data"
   ]
  },
  {
   "cell_type": "code",
   "execution_count": 28,
   "metadata": {
    "tags": []
   },
   "outputs": [],
   "source": [
    "from sklearn.preprocessing import MinMaxScaler"
   ]
  },
  {
   "cell_type": "code",
   "execution_count": 29,
   "metadata": {
    "tags": []
   },
   "outputs": [],
   "source": [
    "scaler = MinMaxScaler()"
   ]
  },
  {
   "cell_type": "code",
   "execution_count": 30,
   "metadata": {},
   "outputs": [
    {
     "data": {
      "text/plain": [
       "MinMaxScaler()"
      ]
     },
     "execution_count": 30,
     "metadata": {},
     "output_type": "execute_result"
    }
   ],
   "source": [
    "# IGNORE WARNING ITS JUST CONVERTING TO FLOATS\n",
    "# WE ONLY FIT TO TRAININ DATA, OTHERWISE WE ARE CHEATING ASSUMING INFO ABOUT TEST SET\n",
    "scaler.fit(train)"
   ]
  },
  {
   "cell_type": "code",
   "execution_count": 31,
   "metadata": {
    "tags": []
   },
   "outputs": [],
   "source": [
    "scaled_train = scaler.transform(train)\n",
    "scaled_test = scaler.transform(test)"
   ]
  },
  {
   "cell_type": "markdown",
   "metadata": {},
   "source": [
    "# Time Series Generator\n",
    "\n",
    "This class takes in a sequence of data-points gathered at\n",
    "equal intervals, along with time series parameters such as\n",
    "stride, length of history, etc., to produce batches for\n",
    "training/validation.\n",
    "\n",
    "#### Arguments\n",
    "    data: Indexable generator (such as list or Numpy array)\n",
    "        containing consecutive data points (timesteps).\n",
    "        The data should be at 2D, and axis 0 is expected\n",
    "        to be the time dimension.\n",
    "    targets: Targets corresponding to timesteps in `data`.\n",
    "        It should have same length as `data`.\n",
    "    length: Length of the output sequences (in number of timesteps).\n",
    "    sampling_rate: Period between successive individual timesteps\n",
    "        within sequences. For rate `r`, timesteps\n",
    "        `data[i]`, `data[i-r]`, ... `data[i - length]`\n",
    "        are used for create a sample sequence.\n",
    "    stride: Period between successive output sequences.\n",
    "        For stride `s`, consecutive output samples would\n",
    "        be centered around `data[i]`, `data[i+s]`, `data[i+2*s]`, etc.\n",
    "    start_index: Data points earlier than `start_index` will not be used\n",
    "        in the output sequences. This is useful to reserve part of the\n",
    "        data for test or validation.\n",
    "    end_index: Data points later than `end_index` will not be used\n",
    "        in the output sequences. This is useful to reserve part of the\n",
    "        data for test or validation.\n",
    "    shuffle: Whether to shuffle output samples,\n",
    "        or instead draw them in chronological order.\n",
    "    reverse: Boolean: if `true`, timesteps in each output sample will be\n",
    "        in reverse chronological order.\n",
    "    batch_size: Number of timeseries samples in each batch\n",
    "        (except maybe the last one)."
   ]
  },
  {
   "cell_type": "code",
   "execution_count": 32,
   "metadata": {},
   "outputs": [],
   "source": [
    "from keras.preprocessing.sequence import TimeseriesGenerator"
   ]
  },
  {
   "cell_type": "code",
   "execution_count": 33,
   "metadata": {
    "collapsed": true,
    "jupyter": {
     "outputs_hidden": true
    },
    "tags": []
   },
   "outputs": [
    {
     "data": {
      "text/plain": [
       "array([[0.03658432],\n",
       "       [0.03649885],\n",
       "       [0.08299855],\n",
       "       [0.13103684],\n",
       "       [0.1017181 ],\n",
       "       [0.12804513],\n",
       "       [0.12266006],\n",
       "       [0.09453799],\n",
       "       [0.09359774],\n",
       "       [0.10496624],\n",
       "       [0.10334217],\n",
       "       [0.16283443],\n",
       "       [0.        ],\n",
       "       [0.0196598 ],\n",
       "       [0.09650397],\n",
       "       [0.11505257],\n",
       "       [0.10906915],\n",
       "       [0.14231986],\n",
       "       [0.12197624],\n",
       "       [0.12189076],\n",
       "       [0.11394136],\n",
       "       [0.10300026],\n",
       "       [0.12556629],\n",
       "       [0.16608257],\n",
       "       [0.00376101],\n",
       "       [0.02957518],\n",
       "       [0.12069408],\n",
       "       [0.10513719],\n",
       "       [0.12214719],\n",
       "       [0.16702282],\n",
       "       [0.11052227],\n",
       "       [0.14428584],\n",
       "       [0.11479614],\n",
       "       [0.10402599],\n",
       "       [0.14984187],\n",
       "       [0.16582614],\n",
       "       [0.02897684],\n",
       "       [0.03872126],\n",
       "       [0.10582101],\n",
       "       [0.08231473],\n",
       "       [0.14394393],\n",
       "       [0.16608257],\n",
       "       [0.10188905],\n",
       "       [0.16830498],\n",
       "       [0.10291478],\n",
       "       [0.13018207],\n",
       "       [0.15556885],\n",
       "       [0.15343192],\n",
       "       [0.0570989 ],\n",
       "       [0.08137448],\n",
       "       [0.10522267],\n",
       "       [0.1357381 ],\n",
       "       [0.18702453],\n",
       "       [0.15428669],\n",
       "       [0.16326182],\n",
       "       [0.17360458],\n",
       "       [0.11402684],\n",
       "       [0.16933071],\n",
       "       [0.15548337],\n",
       "       [0.17659629],\n",
       "       [0.06214206],\n",
       "       [0.06786905],\n",
       "       [0.12163433],\n",
       "       [0.13710574],\n",
       "       [0.18625524],\n",
       "       [0.17317719],\n",
       "       [0.18805026],\n",
       "       [0.17121121],\n",
       "       [0.16574066],\n",
       "       [0.19753825],\n",
       "       [0.1538593 ],\n",
       "       [0.25079067],\n",
       "       [0.0653902 ],\n",
       "       [0.08445166],\n",
       "       [0.15958629],\n",
       "       [0.17599795],\n",
       "       [0.18856313],\n",
       "       [0.20651338],\n",
       "       [0.20548765],\n",
       "       [0.17745106],\n",
       "       [0.21232584],\n",
       "       [0.2181383 ],\n",
       "       [0.19788016],\n",
       "       [0.27822891],\n",
       "       [0.08556287],\n",
       "       [0.12001026],\n",
       "       [0.20924865],\n",
       "       [0.20959056],\n",
       "       [0.21848021],\n",
       "       [0.2688264 ],\n",
       "       [0.22138644],\n",
       "       [0.24429438],\n",
       "       [0.23908026],\n",
       "       [0.24087529],\n",
       "       [0.2691683 ],\n",
       "       [0.31968544],\n",
       "       [0.1035986 ],\n",
       "       [0.16420207],\n",
       "       [0.25446619],\n",
       "       [0.1984785 ],\n",
       "       [0.29096504],\n",
       "       [0.31130866],\n",
       "       [0.2226686 ],\n",
       "       [0.30763313],\n",
       "       [0.24412343],\n",
       "       [0.28130609],\n",
       "       [0.29823062],\n",
       "       [0.31173605],\n",
       "       [0.17531413],\n",
       "       [0.1867681 ],\n",
       "       [0.24463629],\n",
       "       [0.24472177],\n",
       "       [0.32207881],\n",
       "       [0.31079579],\n",
       "       [0.28575092],\n",
       "       [0.32558338],\n",
       "       [0.21745448],\n",
       "       [0.30036755],\n",
       "       [0.32122404],\n",
       "       [0.3546457 ],\n",
       "       [0.17830584],\n",
       "       [0.20608599],\n",
       "       [0.28258826],\n",
       "       [0.298658  ],\n",
       "       [0.35772288],\n",
       "       [0.31883067],\n",
       "       [0.33566972],\n",
       "       [0.34524318],\n",
       "       [0.26643303],\n",
       "       [0.33276348],\n",
       "       [0.31498419],\n",
       "       [0.42260022],\n",
       "       [0.19617061],\n",
       "       [0.22036071],\n",
       "       [0.28917001],\n",
       "       [0.31712112],\n",
       "       [0.35156851],\n",
       "       [0.35062826],\n",
       "       [0.38781092],\n",
       "       [0.36199675],\n",
       "       [0.30797504],\n",
       "       [0.39276861],\n",
       "       [0.32583982],\n",
       "       [0.47089495],\n",
       "       [0.22207026],\n",
       "       [0.24506368],\n",
       "       [0.34310625],\n",
       "       [0.34729464],\n",
       "       [0.36772374],\n",
       "       [0.41772801],\n",
       "       [0.36396273],\n",
       "       [0.37310881],\n",
       "       [0.36139841],\n",
       "       [0.36216771],\n",
       "       [0.40174374],\n",
       "       [0.51517224],\n",
       "       [0.21591589],\n",
       "       [0.27404052],\n",
       "       [0.40105992],\n",
       "       [0.36165484],\n",
       "       [0.44533721],\n",
       "       [0.48944354],\n",
       "       [0.36934781],\n",
       "       [0.46713394],\n",
       "       [0.40259851],\n",
       "       [0.39994871],\n",
       "       [0.44585007],\n",
       "       [0.50183776],\n",
       "       [0.25942388],\n",
       "       [0.30421404],\n",
       "       [0.4181554 ],\n",
       "       [0.36789469],\n",
       "       [0.4967946 ],\n",
       "       [0.53816566],\n",
       "       [0.40695786],\n",
       "       [0.52354902],\n",
       "       [0.42789982],\n",
       "       [0.47944269],\n",
       "       [0.52115565],\n",
       "       [0.55679973],\n",
       "       [0.3073767 ],\n",
       "       [0.31729208],\n",
       "       [0.44140525],\n",
       "       [0.41003505],\n",
       "       [0.55893666],\n",
       "       [0.55158561],\n",
       "       [0.47670741],\n",
       "       [0.55662877],\n",
       "       [0.43525088],\n",
       "       [0.56568938],\n",
       "       [0.54355073],\n",
       "       [0.60124797],\n",
       "       [0.34720916],\n",
       "       [0.38054535],\n",
       "       [0.4559364 ],\n",
       "       [0.50123942],\n",
       "       [0.5780836 ],\n",
       "       [0.59372596],\n",
       "       [0.55748355],\n",
       "       [0.54226857],\n",
       "       [0.52944696],\n",
       "       [0.59124712],\n",
       "       [0.48952902],\n",
       "       [0.66740747],\n",
       "       [0.36199675],\n",
       "       [0.3886657 ],\n",
       "       [0.4835456 ],\n",
       "       [0.52406189],\n",
       "       [0.54175571],\n",
       "       [0.60996666],\n",
       "       [0.55355159],\n",
       "       [0.50363279],\n",
       "       [0.5334644 ],\n",
       "       [0.51662535],\n",
       "       [0.5058552 ],\n",
       "       [0.66774938],\n",
       "       [0.30147876],\n",
       "       [0.38037439],\n",
       "       [0.55081631],\n",
       "       [0.54645696],\n",
       "       [0.54021711],\n",
       "       [0.64287546],\n",
       "       [0.51679631],\n",
       "       [0.53354988],\n",
       "       [0.54611505],\n",
       "       [0.54551671],\n",
       "       [0.58423797],\n",
       "       [0.72006154],\n",
       "       [0.3307975 ],\n",
       "       [0.42593384],\n",
       "       [0.58133174],\n",
       "       [0.5342337 ],\n",
       "       [0.59287119],\n",
       "       [0.71057355],\n",
       "       [0.51927515],\n",
       "       [0.63578084],\n",
       "       [0.60295752],\n",
       "       [0.56252671],\n",
       "       [0.62372852],\n",
       "       [0.72245491],\n",
       "       [0.38080178],\n",
       "       [0.47952816],\n",
       "       [0.57081802],\n",
       "       [0.54637148],\n",
       "       [0.7104026 ],\n",
       "       [0.70459014],\n",
       "       [0.58244294],\n",
       "       [0.69510215],\n",
       "       [0.55568852],\n",
       "       [0.66014189],\n",
       "       [0.67715189],\n",
       "       [0.75997949],\n",
       "       [0.45850073],\n",
       "       [0.50064108],\n",
       "       [0.60509445],\n",
       "       [0.63783229],\n",
       "       [0.78528079],\n",
       "       [0.71407813],\n",
       "       [0.69706813],\n",
       "       [0.72065989],\n",
       "       [0.63791777],\n",
       "       [0.72732712],\n",
       "       [0.69296521],\n",
       "       [0.82725019],\n",
       "       [0.47234806],\n",
       "       [0.51525771],\n",
       "       [0.6003932 ],\n",
       "       [0.67920335],\n",
       "       [0.74886742],\n",
       "       [0.75844089],\n",
       "       [0.67817762],\n",
       "       [0.67954526],\n",
       "       [0.66646722],\n",
       "       [0.75100436],\n",
       "       [0.63586631],\n",
       "       [0.8786221 ],\n",
       "       [0.45892811],\n",
       "       [0.51551415],\n",
       "       [0.65740662],\n",
       "       [0.69031541],\n",
       "       [0.72459185],\n",
       "       [0.84391828],\n",
       "       [0.75544918],\n",
       "       [0.70031627],\n",
       "       [0.76852722],\n",
       "       [0.76519361],\n",
       "       [0.72442089],\n",
       "       [0.95324387],\n",
       "       [0.48012651],\n",
       "       [0.62313018],\n",
       "       [0.7757928 ],\n",
       "       [0.71706984],\n",
       "       [0.78699034],\n",
       "       [0.91033422],\n",
       "       [0.67689546],\n",
       "       [0.8264809 ],\n",
       "       [0.78989657],\n",
       "       [0.75852637],\n",
       "       [0.85349175],\n",
       "       [0.97358749],\n",
       "       [0.51389008],\n",
       "       [0.63432772],\n",
       "       [0.80776135],\n",
       "       [0.72313873],\n",
       "       [0.89870929],\n",
       "       [1.        ],\n",
       "       [0.71672793],\n",
       "       [0.88648602],\n",
       "       [0.75869732],\n",
       "       [0.82742115],\n",
       "       [0.87443371],\n",
       "       [0.96025301],\n",
       "       [0.5584238 ]])"
      ]
     },
     "execution_count": 33,
     "metadata": {},
     "output_type": "execute_result"
    }
   ],
   "source": [
    "scaled_train"
   ]
  },
  {
   "cell_type": "code",
   "execution_count": 34,
   "metadata": {
    "tags": []
   },
   "outputs": [],
   "source": [
    "# define generator\n",
    "n_input = 2\n",
    "n_features = 1\n",
    "generator = TimeseriesGenerator(scaled_train, scaled_train, length=n_input, batch_size=1)"
   ]
  },
  {
   "cell_type": "code",
   "execution_count": 35,
   "metadata": {},
   "outputs": [
    {
     "data": {
      "text/plain": [
       "313"
      ]
     },
     "execution_count": 35,
     "metadata": {},
     "output_type": "execute_result"
    }
   ],
   "source": [
    "len(scaled_train)"
   ]
  },
  {
   "cell_type": "code",
   "execution_count": 36,
   "metadata": {},
   "outputs": [
    {
     "data": {
      "text/plain": [
       "311"
      ]
     },
     "execution_count": 36,
     "metadata": {},
     "output_type": "execute_result"
    }
   ],
   "source": [
    "len(generator) # n_input = 2"
   ]
  },
  {
   "cell_type": "code",
   "execution_count": 37,
   "metadata": {
    "collapsed": true,
    "jupyter": {
     "outputs_hidden": true
    },
    "tags": []
   },
   "outputs": [
    {
     "data": {
      "text/plain": [
       "array([[0.03658432],\n",
       "       [0.03649885],\n",
       "       [0.08299855],\n",
       "       [0.13103684],\n",
       "       [0.1017181 ],\n",
       "       [0.12804513],\n",
       "       [0.12266006],\n",
       "       [0.09453799],\n",
       "       [0.09359774],\n",
       "       [0.10496624],\n",
       "       [0.10334217],\n",
       "       [0.16283443],\n",
       "       [0.        ],\n",
       "       [0.0196598 ],\n",
       "       [0.09650397],\n",
       "       [0.11505257],\n",
       "       [0.10906915],\n",
       "       [0.14231986],\n",
       "       [0.12197624],\n",
       "       [0.12189076],\n",
       "       [0.11394136],\n",
       "       [0.10300026],\n",
       "       [0.12556629],\n",
       "       [0.16608257],\n",
       "       [0.00376101],\n",
       "       [0.02957518],\n",
       "       [0.12069408],\n",
       "       [0.10513719],\n",
       "       [0.12214719],\n",
       "       [0.16702282],\n",
       "       [0.11052227],\n",
       "       [0.14428584],\n",
       "       [0.11479614],\n",
       "       [0.10402599],\n",
       "       [0.14984187],\n",
       "       [0.16582614],\n",
       "       [0.02897684],\n",
       "       [0.03872126],\n",
       "       [0.10582101],\n",
       "       [0.08231473],\n",
       "       [0.14394393],\n",
       "       [0.16608257],\n",
       "       [0.10188905],\n",
       "       [0.16830498],\n",
       "       [0.10291478],\n",
       "       [0.13018207],\n",
       "       [0.15556885],\n",
       "       [0.15343192],\n",
       "       [0.0570989 ],\n",
       "       [0.08137448],\n",
       "       [0.10522267],\n",
       "       [0.1357381 ],\n",
       "       [0.18702453],\n",
       "       [0.15428669],\n",
       "       [0.16326182],\n",
       "       [0.17360458],\n",
       "       [0.11402684],\n",
       "       [0.16933071],\n",
       "       [0.15548337],\n",
       "       [0.17659629],\n",
       "       [0.06214206],\n",
       "       [0.06786905],\n",
       "       [0.12163433],\n",
       "       [0.13710574],\n",
       "       [0.18625524],\n",
       "       [0.17317719],\n",
       "       [0.18805026],\n",
       "       [0.17121121],\n",
       "       [0.16574066],\n",
       "       [0.19753825],\n",
       "       [0.1538593 ],\n",
       "       [0.25079067],\n",
       "       [0.0653902 ],\n",
       "       [0.08445166],\n",
       "       [0.15958629],\n",
       "       [0.17599795],\n",
       "       [0.18856313],\n",
       "       [0.20651338],\n",
       "       [0.20548765],\n",
       "       [0.17745106],\n",
       "       [0.21232584],\n",
       "       [0.2181383 ],\n",
       "       [0.19788016],\n",
       "       [0.27822891],\n",
       "       [0.08556287],\n",
       "       [0.12001026],\n",
       "       [0.20924865],\n",
       "       [0.20959056],\n",
       "       [0.21848021],\n",
       "       [0.2688264 ],\n",
       "       [0.22138644],\n",
       "       [0.24429438],\n",
       "       [0.23908026],\n",
       "       [0.24087529],\n",
       "       [0.2691683 ],\n",
       "       [0.31968544],\n",
       "       [0.1035986 ],\n",
       "       [0.16420207],\n",
       "       [0.25446619],\n",
       "       [0.1984785 ],\n",
       "       [0.29096504],\n",
       "       [0.31130866],\n",
       "       [0.2226686 ],\n",
       "       [0.30763313],\n",
       "       [0.24412343],\n",
       "       [0.28130609],\n",
       "       [0.29823062],\n",
       "       [0.31173605],\n",
       "       [0.17531413],\n",
       "       [0.1867681 ],\n",
       "       [0.24463629],\n",
       "       [0.24472177],\n",
       "       [0.32207881],\n",
       "       [0.31079579],\n",
       "       [0.28575092],\n",
       "       [0.32558338],\n",
       "       [0.21745448],\n",
       "       [0.30036755],\n",
       "       [0.32122404],\n",
       "       [0.3546457 ],\n",
       "       [0.17830584],\n",
       "       [0.20608599],\n",
       "       [0.28258826],\n",
       "       [0.298658  ],\n",
       "       [0.35772288],\n",
       "       [0.31883067],\n",
       "       [0.33566972],\n",
       "       [0.34524318],\n",
       "       [0.26643303],\n",
       "       [0.33276348],\n",
       "       [0.31498419],\n",
       "       [0.42260022],\n",
       "       [0.19617061],\n",
       "       [0.22036071],\n",
       "       [0.28917001],\n",
       "       [0.31712112],\n",
       "       [0.35156851],\n",
       "       [0.35062826],\n",
       "       [0.38781092],\n",
       "       [0.36199675],\n",
       "       [0.30797504],\n",
       "       [0.39276861],\n",
       "       [0.32583982],\n",
       "       [0.47089495],\n",
       "       [0.22207026],\n",
       "       [0.24506368],\n",
       "       [0.34310625],\n",
       "       [0.34729464],\n",
       "       [0.36772374],\n",
       "       [0.41772801],\n",
       "       [0.36396273],\n",
       "       [0.37310881],\n",
       "       [0.36139841],\n",
       "       [0.36216771],\n",
       "       [0.40174374],\n",
       "       [0.51517224],\n",
       "       [0.21591589],\n",
       "       [0.27404052],\n",
       "       [0.40105992],\n",
       "       [0.36165484],\n",
       "       [0.44533721],\n",
       "       [0.48944354],\n",
       "       [0.36934781],\n",
       "       [0.46713394],\n",
       "       [0.40259851],\n",
       "       [0.39994871],\n",
       "       [0.44585007],\n",
       "       [0.50183776],\n",
       "       [0.25942388],\n",
       "       [0.30421404],\n",
       "       [0.4181554 ],\n",
       "       [0.36789469],\n",
       "       [0.4967946 ],\n",
       "       [0.53816566],\n",
       "       [0.40695786],\n",
       "       [0.52354902],\n",
       "       [0.42789982],\n",
       "       [0.47944269],\n",
       "       [0.52115565],\n",
       "       [0.55679973],\n",
       "       [0.3073767 ],\n",
       "       [0.31729208],\n",
       "       [0.44140525],\n",
       "       [0.41003505],\n",
       "       [0.55893666],\n",
       "       [0.55158561],\n",
       "       [0.47670741],\n",
       "       [0.55662877],\n",
       "       [0.43525088],\n",
       "       [0.56568938],\n",
       "       [0.54355073],\n",
       "       [0.60124797],\n",
       "       [0.34720916],\n",
       "       [0.38054535],\n",
       "       [0.4559364 ],\n",
       "       [0.50123942],\n",
       "       [0.5780836 ],\n",
       "       [0.59372596],\n",
       "       [0.55748355],\n",
       "       [0.54226857],\n",
       "       [0.52944696],\n",
       "       [0.59124712],\n",
       "       [0.48952902],\n",
       "       [0.66740747],\n",
       "       [0.36199675],\n",
       "       [0.3886657 ],\n",
       "       [0.4835456 ],\n",
       "       [0.52406189],\n",
       "       [0.54175571],\n",
       "       [0.60996666],\n",
       "       [0.55355159],\n",
       "       [0.50363279],\n",
       "       [0.5334644 ],\n",
       "       [0.51662535],\n",
       "       [0.5058552 ],\n",
       "       [0.66774938],\n",
       "       [0.30147876],\n",
       "       [0.38037439],\n",
       "       [0.55081631],\n",
       "       [0.54645696],\n",
       "       [0.54021711],\n",
       "       [0.64287546],\n",
       "       [0.51679631],\n",
       "       [0.53354988],\n",
       "       [0.54611505],\n",
       "       [0.54551671],\n",
       "       [0.58423797],\n",
       "       [0.72006154],\n",
       "       [0.3307975 ],\n",
       "       [0.42593384],\n",
       "       [0.58133174],\n",
       "       [0.5342337 ],\n",
       "       [0.59287119],\n",
       "       [0.71057355],\n",
       "       [0.51927515],\n",
       "       [0.63578084],\n",
       "       [0.60295752],\n",
       "       [0.56252671],\n",
       "       [0.62372852],\n",
       "       [0.72245491],\n",
       "       [0.38080178],\n",
       "       [0.47952816],\n",
       "       [0.57081802],\n",
       "       [0.54637148],\n",
       "       [0.7104026 ],\n",
       "       [0.70459014],\n",
       "       [0.58244294],\n",
       "       [0.69510215],\n",
       "       [0.55568852],\n",
       "       [0.66014189],\n",
       "       [0.67715189],\n",
       "       [0.75997949],\n",
       "       [0.45850073],\n",
       "       [0.50064108],\n",
       "       [0.60509445],\n",
       "       [0.63783229],\n",
       "       [0.78528079],\n",
       "       [0.71407813],\n",
       "       [0.69706813],\n",
       "       [0.72065989],\n",
       "       [0.63791777],\n",
       "       [0.72732712],\n",
       "       [0.69296521],\n",
       "       [0.82725019],\n",
       "       [0.47234806],\n",
       "       [0.51525771],\n",
       "       [0.6003932 ],\n",
       "       [0.67920335],\n",
       "       [0.74886742],\n",
       "       [0.75844089],\n",
       "       [0.67817762],\n",
       "       [0.67954526],\n",
       "       [0.66646722],\n",
       "       [0.75100436],\n",
       "       [0.63586631],\n",
       "       [0.8786221 ],\n",
       "       [0.45892811],\n",
       "       [0.51551415],\n",
       "       [0.65740662],\n",
       "       [0.69031541],\n",
       "       [0.72459185],\n",
       "       [0.84391828],\n",
       "       [0.75544918],\n",
       "       [0.70031627],\n",
       "       [0.76852722],\n",
       "       [0.76519361],\n",
       "       [0.72442089],\n",
       "       [0.95324387],\n",
       "       [0.48012651],\n",
       "       [0.62313018],\n",
       "       [0.7757928 ],\n",
       "       [0.71706984],\n",
       "       [0.78699034],\n",
       "       [0.91033422],\n",
       "       [0.67689546],\n",
       "       [0.8264809 ],\n",
       "       [0.78989657],\n",
       "       [0.75852637],\n",
       "       [0.85349175],\n",
       "       [0.97358749],\n",
       "       [0.51389008],\n",
       "       [0.63432772],\n",
       "       [0.80776135],\n",
       "       [0.72313873],\n",
       "       [0.89870929],\n",
       "       [1.        ],\n",
       "       [0.71672793],\n",
       "       [0.88648602],\n",
       "       [0.75869732],\n",
       "       [0.82742115],\n",
       "       [0.87443371],\n",
       "       [0.96025301],\n",
       "       [0.5584238 ]])"
      ]
     },
     "execution_count": 37,
     "metadata": {},
     "output_type": "execute_result"
    }
   ],
   "source": [
    "scaled_train"
   ]
  },
  {
   "cell_type": "code",
   "execution_count": 38,
   "metadata": {},
   "outputs": [
    {
     "data": {
      "text/plain": [
       "(array([[[0.03658432],\n",
       "         [0.03649885]]]),\n",
       " array([[0.08299855]]))"
      ]
     },
     "execution_count": 38,
     "metadata": {},
     "output_type": "execute_result"
    }
   ],
   "source": [
    "generator[0]"
   ]
  },
  {
   "cell_type": "code",
   "execution_count": 39,
   "metadata": {
    "tags": []
   },
   "outputs": [],
   "source": [
    "# What does the first batch look like?\n",
    "X, y = generator[0]"
   ]
  },
  {
   "cell_type": "code",
   "execution_count": 40,
   "metadata": {},
   "outputs": [
    {
     "name": "stdout",
     "output_type": "stream",
     "text": [
      "Given the Array: \n",
      "[0.03658432 0.03649885]\n",
      "Predict this y: \n",
      " [[0.08299855]]\n"
     ]
    }
   ],
   "source": [
    "print(f'Given the Array: \\n{X.flatten()}')\n",
    "print(f'Predict this y: \\n {y}')"
   ]
  },
  {
   "cell_type": "code",
   "execution_count": 46,
   "metadata": {
    "tags": []
   },
   "outputs": [],
   "source": [
    "# Let's redefine to get 6 months back and then predict the next month out\n",
    "n_input = 6\n",
    "n_features = 1\n",
    "generator = TimeseriesGenerator(scaled_train, scaled_train, length=n_input, batch_size=1)"
   ]
  },
  {
   "cell_type": "code",
   "execution_count": 47,
   "metadata": {},
   "outputs": [
    {
     "data": {
      "text/plain": [
       "(array([[[0.03658432],\n",
       "         [0.03649885],\n",
       "         [0.08299855],\n",
       "         [0.13103684],\n",
       "         [0.1017181 ],\n",
       "         [0.12804513]]]),\n",
       " array([[0.12266006]]))"
      ]
     },
     "execution_count": 47,
     "metadata": {},
     "output_type": "execute_result"
    }
   ],
   "source": [
    "generator[0]"
   ]
  },
  {
   "cell_type": "code",
   "execution_count": 48,
   "metadata": {
    "tags": []
   },
   "outputs": [],
   "source": [
    "# What does the first batch look like?\n",
    "X,y = generator[0]"
   ]
  },
  {
   "cell_type": "code",
   "execution_count": 49,
   "metadata": {},
   "outputs": [
    {
     "name": "stdout",
     "output_type": "stream",
     "text": [
      "Given the Array: \n",
      "[0.03658432 0.03649885 0.08299855 0.13103684 0.1017181  0.12804513]\n",
      "Predict this y: \n",
      " [[0.12266006]]\n"
     ]
    }
   ],
   "source": [
    "print(f'Given the Array: \\n{X.flatten()}')\n",
    "print(f'Predict this y: \\n {y}')"
   ]
  },
  {
   "cell_type": "markdown",
   "metadata": {},
   "source": [
    "### Create the Model"
   ]
  },
  {
   "cell_type": "code",
   "execution_count": 51,
   "metadata": {},
   "outputs": [],
   "source": [
    "from keras.models import Sequential\n",
    "from keras.layers import LSTM\n",
    "from keras.layers import Dense"
   ]
  },
  {
   "cell_type": "code",
   "execution_count": 52,
   "metadata": {},
   "outputs": [],
   "source": [
    "# Let's redefine to get 12 months back and then predict the next month out\n",
    "n_input = 12\n",
    "n_features = 1\n",
    "train_generator = TimeseriesGenerator(scaled_train, scaled_train, length=n_input, batch_size=1)"
   ]
  },
  {
   "cell_type": "code",
   "execution_count": 53,
   "metadata": {
    "tags": []
   },
   "outputs": [],
   "source": [
    "# define model\n",
    "model = Sequential()\n",
    "model.add(LSTM(150, activation='relu', input_shape=(n_input, n_features)))\n",
    "model.add(Dense(1))\n",
    "model.compile(optimizer='adam', loss='mse')"
   ]
  },
  {
   "cell_type": "code",
   "execution_count": 54,
   "metadata": {},
   "outputs": [
    {
     "name": "stdout",
     "output_type": "stream",
     "text": [
      "Model: \"sequential\"\n",
      "_________________________________________________________________\n",
      " Layer (type)                Output Shape              Param #   \n",
      "=================================================================\n",
      " lstm (LSTM)                 (None, 150)               91200     \n",
      "                                                                 \n",
      " dense (Dense)               (None, 1)                 151       \n",
      "                                                                 \n",
      "=================================================================\n",
      "Total params: 91,351\n",
      "Trainable params: 91,351\n",
      "Non-trainable params: 0\n",
      "_________________________________________________________________\n"
     ]
    }
   ],
   "source": [
    "model.summary()"
   ]
  },
  {
   "cell_type": "code",
   "execution_count": 55,
   "metadata": {},
   "outputs": [
    {
     "name": "stderr",
     "output_type": "stream",
     "text": [
      "<ipython-input-55-8921ad9c694f>:2: UserWarning: `Model.fit_generator` is deprecated and will be removed in a future version. Please use `Model.fit`, which supports generators.\n",
      "  model.fit_generator(generator, epochs=25)\n"
     ]
    },
    {
     "name": "stdout",
     "output_type": "stream",
     "text": [
      "Epoch 1/25\n",
      "307/307 [==============================] - 2s 3ms/step - loss: 0.0162\n",
      "Epoch 2/25\n",
      "307/307 [==============================] - 1s 3ms/step - loss: 0.0096\n",
      "Epoch 3/25\n",
      "307/307 [==============================] - 1s 3ms/step - loss: 0.0092A: 0s \n",
      "Epoch 4/25\n",
      "307/307 [==============================] - 1s 3ms/step - loss: 0.0088\n",
      "Epoch 5/25\n",
      "307/307 [==============================] - 1s 3ms/step - loss: 0.0089\n",
      "Epoch 6/25\n",
      "307/307 [==============================] - 1s 3ms/step - loss: 0.0100\n",
      "Epoch 7/25\n",
      "307/307 [==============================] - 1s 3ms/step - loss: 0.0087\n",
      "Epoch 8/25\n",
      "307/307 [==============================] - 1s 3ms/step - loss: 0.0090\n",
      "Epoch 9/25\n",
      "307/307 [==============================] - 1s 3ms/step - loss: 0.0087A: 0s - loss: 0\n",
      "Epoch 10/25\n",
      "307/307 [==============================] - 1s 3ms/step - loss: 0.0090A: 0s - loss: 0.00\n",
      "Epoch 11/25\n",
      "307/307 [==============================] - 1s 3ms/step - loss: 0.0080\n",
      "Epoch 12/25\n",
      "307/307 [==============================] - 1s 3ms/step - loss: 0.0085\n",
      "Epoch 13/25\n",
      "307/307 [==============================] - 1s 3ms/step - loss: 0.0071\n",
      "Epoch 14/25\n",
      "307/307 [==============================] - 1s 3ms/step - loss: 0.0072\n",
      "Epoch 15/25\n",
      "307/307 [==============================] - 1s 4ms/step - loss: 0.0069\n",
      "Epoch 16/25\n",
      "307/307 [==============================] - 1s 4ms/step - loss: 0.0072\n",
      "Epoch 17/25\n",
      "307/307 [==============================] - 1s 3ms/step - loss: 0.0064\n",
      "Epoch 18/25\n",
      "307/307 [==============================] - 1s 3ms/step - loss: 0.0065\n",
      "Epoch 19/25\n",
      "307/307 [==============================] - 1s 4ms/step - loss: 0.0069\n",
      "Epoch 20/25\n",
      "307/307 [==============================] - 1s 4ms/step - loss: 0.0065\n",
      "Epoch 21/25\n",
      "307/307 [==============================] - 1s 4ms/step - loss: 0.0069\n",
      "Epoch 22/25\n",
      "307/307 [==============================] - 1s 4ms/step - loss: 0.0071\n",
      "Epoch 23/25\n",
      "307/307 [==============================] - 1s 4ms/step - loss: 0.0065\n",
      "Epoch 24/25\n",
      "307/307 [==============================] - 1s 4ms/step - loss: 0.0061\n",
      "Epoch 25/25\n",
      "307/307 [==============================] - 1s 4ms/step - loss: 0.0065\n"
     ]
    },
    {
     "data": {
      "text/plain": [
       "<keras.callbacks.History at 0x181ff40a1c0>"
      ]
     },
     "execution_count": 55,
     "metadata": {},
     "output_type": "execute_result"
    }
   ],
   "source": [
    "# fit model\n",
    "model.fit_generator(generator, epochs=25)"
   ]
  },
  {
   "cell_type": "code",
   "execution_count": 56,
   "metadata": {},
   "outputs": [
    {
     "data": {
      "text/plain": [
       "dict_keys(['loss'])"
      ]
     },
     "execution_count": 56,
     "metadata": {},
     "output_type": "execute_result"
    }
   ],
   "source": [
    "model.history.history.keys()"
   ]
  },
  {
   "cell_type": "code",
   "execution_count": 57,
   "metadata": {},
   "outputs": [
    {
     "data": {
      "text/plain": [
       "[<matplotlib.lines.Line2D at 0x1818307c220>]"
      ]
     },
     "execution_count": 57,
     "metadata": {},
     "output_type": "execute_result"
    },
    {
     "data": {
      "image/png": "[encoded data removed]",
      "text/plain": [
       "<Figure size 432x288 with 1 Axes>"
      ]
     },
     "metadata": {
      "needs_background": "light"
     },
     "output_type": "display_data"
    }
   ],
   "source": [
    "loss_per_epoch = model.history.history['loss']\n",
    "plt.plot(range(len(loss_per_epoch)), loss_per_epoch)"
   ]
  },
  {
   "cell_type": "markdown",
   "metadata": {},
   "source": [
    "## Evaluate on Test Data"
   ]
  },
  {
   "cell_type": "code",
   "execution_count": null,
   "metadata": {},
   "outputs": [],
   "source": [
    "# 12 history steps --> step 13\n",
    "# Last 12 points train --> pt 1 of test data"
   ]
  },
  {
   "cell_type": "code",
   "execution_count": 58,
   "metadata": {
    "tags": []
   },
   "outputs": [],
   "source": [
    "first_eval_batch = scaled_train[-12:]"
   ]
  },
  {
   "cell_type": "code",
   "execution_count": 59,
   "metadata": {},
   "outputs": [
    {
     "data": {
      "text/plain": [
       "array([[0.63432772],\n",
       "       [0.80776135],\n",
       "       [0.72313873],\n",
       "       [0.89870929],\n",
       "       [1.        ],\n",
       "       [0.71672793],\n",
       "       [0.88648602],\n",
       "       [0.75869732],\n",
       "       [0.82742115],\n",
       "       [0.87443371],\n",
       "       [0.96025301],\n",
       "       [0.5584238 ]])"
      ]
     },
     "execution_count": 59,
     "metadata": {},
     "output_type": "execute_result"
    }
   ],
   "source": [
    "first_eval_batch"
   ]
  },
  {
   "cell_type": "code",
   "execution_count": 60,
   "metadata": {
    "tags": []
   },
   "outputs": [],
   "source": [
    "first_eval_batch = first_eval_batch.reshape((1, n_input, n_features)) # 1 means single"
   ]
  },
  {
   "cell_type": "code",
   "execution_count": 61,
   "metadata": {},
   "outputs": [
    {
     "data": {
      "text/plain": [
       "array([[0.8101335]], dtype=float32)"
      ]
     },
     "execution_count": 61,
     "metadata": {},
     "output_type": "execute_result"
    }
   ],
   "source": [
    "model.predict(first_eval_batch)"
   ]
  },
  {
   "cell_type": "code",
   "execution_count": 62,
   "metadata": {},
   "outputs": [
    {
     "data": {
      "text/plain": [
       "array([0.63116506])"
      ]
     },
     "execution_count": 62,
     "metadata": {},
     "output_type": "execute_result"
    }
   ],
   "source": [
    "scaled_test[0]"
   ]
  },
  {
   "cell_type": "markdown",
   "metadata": {},
   "source": [
    "Now let's put this logic in a for loop to predict into the future for the entire test range.\n",
    "\n",
    "----"
   ]
  },
  {
   "cell_type": "markdown",
   "metadata": {},
   "source": [
    "## Forecast Using RNN Model"
   ]
  },
  {
   "cell_type": "code",
   "execution_count": 63,
   "metadata": {
    "tags": []
   },
   "outputs": [],
   "source": [
    "# holding my predictions\n",
    "test_predictions = []\n",
    "\n",
    "# Last n_input points from the training set\n",
    "first_eval_batch = scaled_train[-n_input:]\n",
    "current_batch = first_eval_batch.reshape((1, n_input, n_features))"
   ]
  },
  {
   "cell_type": "code",
   "execution_count": 64,
   "metadata": {},
   "outputs": [
    {
     "data": {
      "text/plain": [
       "(1, 12, 1)"
      ]
     },
     "execution_count": 64,
     "metadata": {},
     "output_type": "execute_result"
    }
   ],
   "source": [
    "current_batch.shape"
   ]
  },
  {
   "cell_type": "code",
   "execution_count": 65,
   "metadata": {},
   "outputs": [
    {
     "data": {
      "text/plain": [
       "array([[[0.63432772],\n",
       "        [0.80776135],\n",
       "        [0.72313873],\n",
       "        [0.89870929],\n",
       "        [1.        ],\n",
       "        [0.71672793],\n",
       "        [0.88648602],\n",
       "        [0.75869732],\n",
       "        [0.82742115],\n",
       "        [0.87443371],\n",
       "        [0.96025301],\n",
       "        [0.5584238 ]]])"
      ]
     },
     "execution_count": 65,
     "metadata": {},
     "output_type": "execute_result"
    }
   ],
   "source": [
    "current_batch"
   ]
  },
  {
   "cell_type": "code",
   "execution_count": 66,
   "metadata": {},
   "outputs": [
    {
     "data": {
      "text/plain": [
       "array([[[ 0.80776135],\n",
       "        [ 0.72313873],\n",
       "        [ 0.89870929],\n",
       "        [ 1.        ],\n",
       "        [ 0.71672793],\n",
       "        [ 0.88648602],\n",
       "        [ 0.75869732],\n",
       "        [ 0.82742115],\n",
       "        [ 0.87443371],\n",
       "        [ 0.96025301],\n",
       "        [ 0.5584238 ],\n",
       "        [99.        ]]])"
      ]
     },
     "execution_count": 66,
     "metadata": {},
     "output_type": "execute_result"
    }
   ],
   "source": [
    "np.append(current_batch[:,1:,:],[[[99]]],axis=1)"
   ]
  },
  {
   "cell_type": "markdown",
   "metadata": {},
   "source": [
    "**NOTE: PAY CLOSE ATTENTION HERE TO WHAT IS BEING OUTPUTED AND IN WHAT DIMENSIONS. ADD YOUR OWN PRINT() STATEMENTS TO SEE WHAT IS TRULY GOING ON!!**"
   ]
  },
  {
   "cell_type": "code",
   "execution_count": 67,
   "metadata": {
    "tags": []
   },
   "outputs": [],
   "source": [
    "test_predictions = []\n",
    "\n",
    "# Last n_input points from the training set\n",
    "first_eval_batch = scaled_train[-n_input:]\n",
    "# reshape this to the format RNN wants (same format as TimeseriesGenerator)\n",
    "current_batch = first_eval_batch.reshape((1, n_input, n_features))\n",
    "\n",
    "# how far into the future will I forecast?\n",
    "for i in range(len(test)):\n",
    "    \n",
    "    # get prediction 1 time stamp ahead ([0] is for grabbing just the number instead of [array])\n",
    "    current_pred = model.predict(current_batch)[0]\n",
    "    \n",
    "    # store prediction\n",
    "    test_predictions.append(current_pred) \n",
    "    \n",
    "    # update batch to now include prediction and drop first value\n",
    "    current_batch = np.append(current_batch[:,1:,:], [[current_pred]], axis=1)"
   ]
  },
  {
   "cell_type": "code",
   "execution_count": 70,
   "metadata": {},
   "outputs": [],
   "source": [
    "my_first_pred = model.predict(current_batch)[0]"
   ]
  },
  {
   "cell_type": "code",
   "execution_count": 71,
   "metadata": {},
   "outputs": [
    {
     "data": {
      "text/plain": [
       "array([0.90509605], dtype=float32)"
      ]
     },
     "execution_count": 71,
     "metadata": {},
     "output_type": "execute_result"
    }
   ],
   "source": [
    "my_first_pred"
   ]
  },
  {
   "cell_type": "code",
   "execution_count": 72,
   "metadata": {},
   "outputs": [
    {
     "data": {
      "text/plain": [
       "(1, 12, 1)"
      ]
     },
     "execution_count": 72,
     "metadata": {},
     "output_type": "execute_result"
    }
   ],
   "source": [
    "current_batch.shape"
   ]
  },
  {
   "cell_type": "code",
   "execution_count": 73,
   "metadata": {},
   "outputs": [
    {
     "data": {
      "text/plain": [
       "array([[[0.82204264],\n",
       "        [0.83637035],\n",
       "        [0.90854841],\n",
       "        [0.9948259 ],\n",
       "        [0.8776443 ],\n",
       "        [0.90738994],\n",
       "        [0.90075445],\n",
       "        [0.92850327],\n",
       "        [0.95622653],\n",
       "        [0.98443729],\n",
       "        [0.90120339]]])"
      ]
     },
     "execution_count": 73,
     "metadata": {},
     "output_type": "execute_result"
    }
   ],
   "source": [
    "current_batch[:,1:,:]"
   ]
  },
  {
   "cell_type": "code",
   "execution_count": 74,
   "metadata": {},
   "outputs": [
    {
     "data": {
      "text/plain": [
       "array([[[0.82204264],\n",
       "        [0.83637035],\n",
       "        [0.90854841],\n",
       "        [0.9948259 ],\n",
       "        [0.8776443 ],\n",
       "        [0.90738994],\n",
       "        [0.90075445],\n",
       "        [0.92850327],\n",
       "        [0.95622653],\n",
       "        [0.98443729],\n",
       "        [0.90120339],\n",
       "        [0.90509605]]])"
      ]
     },
     "execution_count": 74,
     "metadata": {},
     "output_type": "execute_result"
    }
   ],
   "source": [
    "np.append(current_batch[:,1:,:], [[my_first_pred]], axis=1)"
   ]
  },
  {
   "cell_type": "markdown",
   "metadata": {},
   "source": [
    "## Inverse Transformations and Compare"
   ]
  },
  {
   "cell_type": "code",
   "execution_count": 75,
   "metadata": {
    "tags": []
   },
   "outputs": [],
   "source": [
    "true_predictions = scaler.inverse_transform(test_predictions)"
   ]
  },
  {
   "cell_type": "code",
   "execution_count": 76,
   "metadata": {},
   "outputs": [
    {
     "data": {
      "text/plain": [
       "array([[12508.75201291],\n",
       "       [12648.07689244],\n",
       "       [12815.69671214],\n",
       "       [13660.10790366],\n",
       "       [14669.46819943],\n",
       "       [13298.56067109],\n",
       "       [13646.55489439],\n",
       "       [13568.92633104],\n",
       "       [13893.55981326],\n",
       "       [14217.89414746],\n",
       "       [14547.9318189 ],\n",
       "       [13574.17850566]])"
      ]
     },
     "execution_count": 76,
     "metadata": {},
     "output_type": "execute_result"
    }
   ],
   "source": [
    "true_predictions"
   ]
  },
  {
   "cell_type": "code",
   "execution_count": 77,
   "metadata": {},
   "outputs": [
    {
     "data": {
      "text/html": [
       "<div>\n",
       "<style scoped>\n",
       "    .dataframe tbody tr th:only-of-type {\n",
       "        vertical-align: middle;\n",
       "    }\n",
       "\n",
       "    .dataframe tbody tr th {\n",
       "        vertical-align: top;\n",
       "    }\n",
       "\n",
       "    .dataframe thead th {\n",
       "        text-align: right;\n",
       "    }\n",
       "</style>\n",
       "<table border=\"1\" class=\"dataframe\">\n",
       "  <thead>\n",
       "    <tr style=\"text-align: right;\">\n",
       "      <th></th>\n",
       "      <th>Sales</th>\n",
       "    </tr>\n",
       "    <tr>\n",
       "      <th>DATE</th>\n",
       "      <th></th>\n",
       "    </tr>\n",
       "  </thead>\n",
       "  <tbody>\n",
       "    <tr>\n",
       "      <th>2018-02-01</th>\n",
       "      <td>10415</td>\n",
       "    </tr>\n",
       "    <tr>\n",
       "      <th>2018-03-01</th>\n",
       "      <td>12683</td>\n",
       "    </tr>\n",
       "    <tr>\n",
       "      <th>2018-04-01</th>\n",
       "      <td>11919</td>\n",
       "    </tr>\n",
       "    <tr>\n",
       "      <th>2018-05-01</th>\n",
       "      <td>14138</td>\n",
       "    </tr>\n",
       "    <tr>\n",
       "      <th>2018-06-01</th>\n",
       "      <td>14583</td>\n",
       "    </tr>\n",
       "    <tr>\n",
       "      <th>2018-07-01</th>\n",
       "      <td>12640</td>\n",
       "    </tr>\n",
       "    <tr>\n",
       "      <th>2018-08-01</th>\n",
       "      <td>14257</td>\n",
       "    </tr>\n",
       "    <tr>\n",
       "      <th>2018-09-01</th>\n",
       "      <td>12396</td>\n",
       "    </tr>\n",
       "    <tr>\n",
       "      <th>2018-10-01</th>\n",
       "      <td>13914</td>\n",
       "    </tr>\n",
       "    <tr>\n",
       "      <th>2018-11-01</th>\n",
       "      <td>14174</td>\n",
       "    </tr>\n",
       "    <tr>\n",
       "      <th>2018-12-01</th>\n",
       "      <td>15504</td>\n",
       "    </tr>\n",
       "    <tr>\n",
       "      <th>2019-01-01</th>\n",
       "      <td>10718</td>\n",
       "    </tr>\n",
       "  </tbody>\n",
       "</table>\n",
       "</div>"
      ],
      "text/plain": [
       "            Sales\n",
       "DATE             \n",
       "2018-02-01  10415\n",
       "2018-03-01  12683\n",
       "2018-04-01  11919\n",
       "2018-05-01  14138\n",
       "2018-06-01  14583\n",
       "2018-07-01  12640\n",
       "2018-08-01  14257\n",
       "2018-09-01  12396\n",
       "2018-10-01  13914\n",
       "2018-11-01  14174\n",
       "2018-12-01  15504\n",
       "2019-01-01  10718"
      ]
     },
     "execution_count": 77,
     "metadata": {},
     "output_type": "execute_result"
    }
   ],
   "source": [
    "test"
   ]
  },
  {
   "cell_type": "code",
   "execution_count": 78,
   "metadata": {},
   "outputs": [
    {
     "name": "stderr",
     "output_type": "stream",
     "text": [
      "<ipython-input-78-53e06c23926f>:2: SettingWithCopyWarning: \n",
      "A value is trying to be set on a copy of a slice from a DataFrame.\n",
      "Try using .loc[row_indexer,col_indexer] = value instead\n",
      "\n",
      "See the caveats in the documentation: https://pandas.pydata.org/pandas-docs/stable/user_guide/indexing.html#returning-a-view-versus-a-copy\n",
      "  test['Predictions'] = true_predictions\n"
     ]
    }
   ],
   "source": [
    "# IGNORE WARNINGS\n",
    "test['Predictions'] = true_predictions"
   ]
  },
  {
   "cell_type": "code",
   "execution_count": 79,
   "metadata": {},
   "outputs": [
    {
     "data": {
      "text/html": [
       "<div>\n",
       "<style scoped>\n",
       "    .dataframe tbody tr th:only-of-type {\n",
       "        vertical-align: middle;\n",
       "    }\n",
       "\n",
       "    .dataframe tbody tr th {\n",
       "        vertical-align: top;\n",
       "    }\n",
       "\n",
       "    .dataframe thead th {\n",
       "        text-align: right;\n",
       "    }\n",
       "</style>\n",
       "<table border=\"1\" class=\"dataframe\">\n",
       "  <thead>\n",
       "    <tr style=\"text-align: right;\">\n",
       "      <th></th>\n",
       "      <th>Sales</th>\n",
       "      <th>Predictions</th>\n",
       "    </tr>\n",
       "    <tr>\n",
       "      <th>DATE</th>\n",
       "      <th></th>\n",
       "      <th></th>\n",
       "    </tr>\n",
       "  </thead>\n",
       "  <tbody>\n",
       "    <tr>\n",
       "      <th>2018-02-01</th>\n",
       "      <td>10415</td>\n",
       "      <td>12508.752013</td>\n",
       "    </tr>\n",
       "    <tr>\n",
       "      <th>2018-03-01</th>\n",
       "      <td>12683</td>\n",
       "      <td>12648.076892</td>\n",
       "    </tr>\n",
       "    <tr>\n",
       "      <th>2018-04-01</th>\n",
       "      <td>11919</td>\n",
       "      <td>12815.696712</td>\n",
       "    </tr>\n",
       "    <tr>\n",
       "      <th>2018-05-01</th>\n",
       "      <td>14138</td>\n",
       "      <td>13660.107904</td>\n",
       "    </tr>\n",
       "    <tr>\n",
       "      <th>2018-06-01</th>\n",
       "      <td>14583</td>\n",
       "      <td>14669.468199</td>\n",
       "    </tr>\n",
       "    <tr>\n",
       "      <th>2018-07-01</th>\n",
       "      <td>12640</td>\n",
       "      <td>13298.560671</td>\n",
       "    </tr>\n",
       "    <tr>\n",
       "      <th>2018-08-01</th>\n",
       "      <td>14257</td>\n",
       "      <td>13646.554894</td>\n",
       "    </tr>\n",
       "    <tr>\n",
       "      <th>2018-09-01</th>\n",
       "      <td>12396</td>\n",
       "      <td>13568.926331</td>\n",
       "    </tr>\n",
       "    <tr>\n",
       "      <th>2018-10-01</th>\n",
       "      <td>13914</td>\n",
       "      <td>13893.559813</td>\n",
       "    </tr>\n",
       "    <tr>\n",
       "      <th>2018-11-01</th>\n",
       "      <td>14174</td>\n",
       "      <td>14217.894147</td>\n",
       "    </tr>\n",
       "    <tr>\n",
       "      <th>2018-12-01</th>\n",
       "      <td>15504</td>\n",
       "      <td>14547.931819</td>\n",
       "    </tr>\n",
       "    <tr>\n",
       "      <th>2019-01-01</th>\n",
       "      <td>10718</td>\n",
       "      <td>13574.178506</td>\n",
       "    </tr>\n",
       "  </tbody>\n",
       "</table>\n",
       "</div>"
      ],
      "text/plain": [
       "            Sales   Predictions\n",
       "DATE                           \n",
       "2018-02-01  10415  12508.752013\n",
       "2018-03-01  12683  12648.076892\n",
       "2018-04-01  11919  12815.696712\n",
       "2018-05-01  14138  13660.107904\n",
       "2018-06-01  14583  14669.468199\n",
       "2018-07-01  12640  13298.560671\n",
       "2018-08-01  14257  13646.554894\n",
       "2018-09-01  12396  13568.926331\n",
       "2018-10-01  13914  13893.559813\n",
       "2018-11-01  14174  14217.894147\n",
       "2018-12-01  15504  14547.931819\n",
       "2019-01-01  10718  13574.178506"
      ]
     },
     "execution_count": 79,
     "metadata": {},
     "output_type": "execute_result"
    }
   ],
   "source": [
    "test"
   ]
  },
  {
   "cell_type": "code",
   "execution_count": 80,
   "metadata": {},
   "outputs": [
    {
     "data": {
      "text/plain": [
       "<AxesSubplot:xlabel='DATE'>"
      ]
     },
     "execution_count": 80,
     "metadata": {},
     "output_type": "execute_result"
    },
    {
     "data": {
      "image/png": "[encoded data removed]",
      "text/plain": [
       "<Figure size 864x576 with 1 Axes>"
      ]
     },
     "metadata": {
      "needs_background": "light"
     },
     "output_type": "display_data"
    }
   ],
   "source": [
    "test.plot(figsize=(12,8))"
   ]
  },
  {
   "cell_type": "markdown",
   "metadata": {},
   "source": [
    "# Saving and Loading Models"
   ]
  },
  {
   "cell_type": "code",
   "execution_count": 81,
   "metadata": {
    "tags": []
   },
   "outputs": [],
   "source": [
    "model.save('my_rnn_model.h5')"
   ]
  },
  {
   "cell_type": "markdown",
   "metadata": {},
   "source": [
    "## load a model"
   ]
  },
  {
   "cell_type": "code",
   "execution_count": 82,
   "metadata": {
    "tags": []
   },
   "outputs": [],
   "source": [
    "from keras.models import load_model\n",
    "new_model = load_model('my_rnn_model.h5')"
   ]
  },
  {
   "cell_type": "code",
   "execution_count": 83,
   "metadata": {},
   "outputs": [
    {
     "name": "stdout",
     "output_type": "stream",
     "text": [
      "Model: \"sequential\"\n",
      "_________________________________________________________________\n",
      " Layer (type)                Output Shape              Param #   \n",
      "=================================================================\n",
      " lstm (LSTM)                 (None, 150)               91200     \n",
      "                                                                 \n",
      " dense (Dense)               (None, 1)                 151       \n",
      "                                                                 \n",
      "=================================================================\n",
      "Total params: 91,351\n",
      "Trainable params: 91,351\n",
      "Non-trainable params: 0\n",
      "_________________________________________________________________\n"
     ]
    }
   ],
   "source": [
    "new_model.summary()"
   ]
  },
  {
   "cell_type": "code",
   "execution_count": null,
   "metadata": {
    "collapsed": true,
    "jupyter": {
     "outputs_hidden": true
    }
   },
   "outputs": [],
   "source": []
  }
 ],
 "metadata": {
  "kernelspec": {
   "display_name": "Python 3",
   "language": "python",
   "name": "python3"
  },
  "language_info": {
   "codemirror_mode": {
    "name": "ipython",
    "version": 3
   },
   "file_extension": ".py",
   "mimetype": "text/x-python",
   "name": "python",
   "nbconvert_exporter": "python",
   "pygments_lexer": "ipython3",
   "version": "3.9.7"
  }
 },
 "nbformat": 4,
 "nbformat_minor": 4
}
