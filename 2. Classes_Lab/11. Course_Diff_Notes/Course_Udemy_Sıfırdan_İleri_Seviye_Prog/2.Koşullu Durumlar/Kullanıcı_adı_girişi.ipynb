{
 "cells": [
  {
   "cell_type": "code",
   "execution_count": 5,
   "id": "fba3f362-0fe6-4dc9-8a33-f6e816429bfa",
   "metadata": {},
   "outputs": [
    {
     "name": "stdin",
     "output_type": "stream",
     "text": [
      "Kullanıcı adınızı giriniz: stephen\n",
      "Parolanızı giriniz: 12345\n"
     ]
    },
    {
     "name": "stdout",
     "output_type": "stream",
     "text": [
      "Tebrikler.Başarıyla Giriş Yaptınız...\n"
     ]
    }
   ],
   "source": [
    "'''\n",
    "**********Kullanıcı Girişi**********\n",
    "'''\n",
    "sys_kul_adı = \"stephen\"\n",
    "sys_parola  = \"12345\"\n",
    "\n",
    "kullanıcı_adı = input(\"Kullanıcı adınızı giriniz:\")\n",
    "parola = input(\"Parolanızı giriniz:\")\n",
    "\n",
    "if (kullanıcı_adı != sys_kullanıcı_adı and parola == sys_parola):\n",
    "    print(\"Kullanıcı Adı Hatalı...\")\n",
    "    \n",
    "elif (kullanıcı_adı == sys_kullanıcı_adı and parola != sys_parola):\n",
    "    print(\"Parola Hatalı...\")\n",
    "\n",
    "elif (kullanıcı_adı != sys_kullanıcı_adı and parola != sys_parola):\n",
    "    print(\"Kullanıcı Adı ve Parola Hatalı...\")\n",
    "\n",
    "else:\n",
    "    print(\"Tebrikler.Başarıyla Giriş Yaptınız...\")\n"
   ]
  },
  {
   "cell_type": "code",
   "execution_count": null,
   "id": "f5f27eb9-5e38-46a4-af45-a9e9eb63f60f",
   "metadata": {},
   "outputs": [],
   "source": []
  }
 ],
 "metadata": {
  "kernelspec": {
   "display_name": "Python 3",
   "language": "python",
   "name": "python3"
  },
  "language_info": {
   "codemirror_mode": {
    "name": "ipython",
    "version": 3
   },
   "file_extension": ".py",
   "mimetype": "text/x-python",
   "name": "python",
   "nbconvert_exporter": "python",
   "pygments_lexer": "ipython3",
   "version": "3.9.7"
  }
 },
 "nbformat": 4,
 "nbformat_minor": 5
}
