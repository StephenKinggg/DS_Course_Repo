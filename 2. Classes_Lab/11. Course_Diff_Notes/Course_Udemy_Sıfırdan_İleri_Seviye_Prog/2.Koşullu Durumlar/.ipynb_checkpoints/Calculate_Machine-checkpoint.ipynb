{
 "cells": [
  {
   "cell_type": "code",
   "execution_count": 1,
   "id": "3c4eb165-01d7-4e64-ac9e-1b5313871481",
   "metadata": {},
   "outputs": [
    {
     "name": "stdin",
     "output_type": "stream",
     "text": [
      "Birinci sayıyı giriniz: 10\n",
      "İkinci sayıyı giriniz: 20\n",
      "İşlem tipini giriniz: 1\n"
     ]
    },
    {
     "name": "stdout",
     "output_type": "stream",
     "text": [
      "10 ile 20 in toplamı 30 dır.\n"
     ]
    }
   ],
   "source": [
    "'''\n",
    "İşlemler:\n",
    "1.Toplama\n",
    "2.Çıkarma\n",
    "3.Çarpma\n",
    "4.Bölme\n",
    "\n",
    "'''\n",
    "\n",
    "a = int(input(\"Birinci sayıyı giriniz:\"))\n",
    "b = int(input(\"İkinci sayıyı giriniz:\"))\n",
    "\n",
    "işlem = input(\"İşlem tipini giriniz:\")\n",
    "\n",
    "if işlem == \"1\":\n",
    "    print(\"{} ile {} in toplamı {} dır.\".format(a,b,a+b))\n",
    "elif işlem ==\"2\":\n",
    "    print(\"{} ile {} in farkı {} dır.\".format(a,b,a-b))\n",
    "elif işlem ==\"3\":\n",
    "    print(\"{} ile {} in çarpımı {} dır.\".format(a,b,a*b))\n",
    "elif işlme ==\"4\":\n",
    "    print(\"{} nin {} e bölümü {} dır.\".format(a,b,a/b))\n",
    "else:\n",
    "    print(\"Hatalı giriş yaptınız.\")"
   ]
  },
  {
   "cell_type": "code",
   "execution_count": null,
   "id": "25b687f3-7ab5-4e69-9c3e-7d003e8795d2",
   "metadata": {},
   "outputs": [],
   "source": []
  }
 ],
 "metadata": {
  "kernelspec": {
   "display_name": "Python 3",
   "language": "python",
   "name": "python3"
  },
  "language_info": {
   "codemirror_mode": {
    "name": "ipython",
    "version": 3
   },
   "file_extension": ".py",
   "mimetype": "text/x-python",
   "name": "python",
   "nbconvert_exporter": "python",
   "pygments_lexer": "ipython3",
   "version": "3.9.7"
  }
 },
 "nbformat": 4,
 "nbformat_minor": 5
}
