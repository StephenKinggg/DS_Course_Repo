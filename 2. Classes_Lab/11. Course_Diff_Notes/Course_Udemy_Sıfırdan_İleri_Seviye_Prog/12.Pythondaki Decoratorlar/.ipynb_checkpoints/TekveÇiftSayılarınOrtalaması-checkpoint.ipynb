{
 "cells": [
  {
   "cell_type": "code",
   "execution_count": 2,
   "id": "8ccb325d-e281-4967-ada6-c1df07f9dcd9",
   "metadata": {},
   "outputs": [
    {
     "name": "stdout",
     "output_type": "stream",
     "text": [
      "Genel Ortalama: 54.0\n"
     ]
    }
   ],
   "source": [
    "def ortalama_bul(sayılar):\n",
    "    \n",
    "    toplam = 0\n",
    "    \n",
    "    for sayı in sayılar:\n",
    "        toplam+=sayı\n",
    "        \n",
    "    print(\"Genel Ortalama:\", toplam/len(sayılar))\n",
    "    \n",
    "ortalama_bul([1,2,3,4,364,5,7,85,15])"
   ]
  },
  {
   "cell_type": "code",
   "execution_count": 6,
   "id": "8d2e9a8b-4f34-4571-ae97-9c0d0ba830ae",
   "metadata": {},
   "outputs": [
    {
     "name": "stdout",
     "output_type": "stream",
     "text": [
      "Teklerin Ortalaması: 19.333333333333332\n",
      "Çiftleri Ortalaması: 123.33333333333333\n",
      "Genel Ortalama: 54.0\n"
     ]
    }
   ],
   "source": [
    "def ekstra(fonksiyon):\n",
    "    \n",
    "    def wrapper(sayılar):\n",
    "        çiftler_toplamı = 0\n",
    "        çift_sayılar = 0\n",
    "        tekler_toplamı = 0\n",
    "        tek_sayılar = 0\n",
    "        \n",
    "        for sayı in sayılar:\n",
    "            if sayı%2==0:\n",
    "                çiftler_toplamı += sayı\n",
    "                çift_sayılar +=1\n",
    "            \n",
    "            else:\n",
    "                tekler_toplamı += sayı\n",
    "                tek_sayılar +=1\n",
    "        print(\"Teklerin Ortalaması:\", tekler_toplamı/tek_sayılar)\n",
    "        print(\"Çiftleri Ortalaması:\", çiftler_toplamı/çift_sayılar)\n",
    "        \n",
    "        fonksiyon(sayılar)\n",
    "        \n",
    "    return wrapper\n",
    "        \n",
    "@ekstra\n",
    "def ortalama_bul(sayılar):\n",
    "    \n",
    "    toplam = 0\n",
    "    \n",
    "    for sayı in sayılar:\n",
    "        toplam+=sayı\n",
    "        \n",
    "    print(\"Genel Ortalama:\", toplam/len(sayılar))\n",
    "    \n",
    "ortalama_bul([1,2,3,4,364,5,7,85,15])"
   ]
  },
  {
   "cell_type": "code",
   "execution_count": null,
   "id": "b287b8c1-8e0d-4dd7-ac9a-571150a27300",
   "metadata": {},
   "outputs": [],
   "source": []
  }
 ],
 "metadata": {
  "kernelspec": {
   "display_name": "Python 3 (ipykernel)",
   "language": "python",
   "name": "python3"
  },
  "language_info": {
   "codemirror_mode": {
    "name": "ipython",
    "version": 3
   },
   "file_extension": ".py",
   "mimetype": "text/x-python",
   "name": "python",
   "nbconvert_exporter": "python",
   "pygments_lexer": "ipython3",
   "version": "3.9.7"
  }
 },
 "nbformat": 4,
 "nbformat_minor": 5
}
