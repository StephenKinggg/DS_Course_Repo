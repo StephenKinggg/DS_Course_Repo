{
 "cells": [
  {
   "cell_type": "code",
   "execution_count": 2,
   "id": "aba3266c-0e90-4a9f-82b5-5770f0513d59",
   "metadata": {},
   "outputs": [],
   "source": [
    "import sys"
   ]
  },
  {
   "cell_type": "code",
   "execution_count": 3,
   "id": "80120ad1-e800-4cd6-8cc7-3c0731aefd91",
   "metadata": {},
   "outputs": [],
   "source": [
    "import PyQt5"
   ]
  },
  {
   "cell_type": "code",
   "execution_count": 4,
   "id": "4b3788a4-9ea0-4b3c-a6c4-f13189c836e4",
   "metadata": {},
   "outputs": [],
   "source": [
    "from PyQt5 import QtWidgets,QtGui"
   ]
  },
  {
   "cell_type": "code",
   "execution_count": 5,
   "id": "c5396d25-8035-4f83-92a7-483e37b3a3e6",
   "metadata": {},
   "outputs": [],
   "source": [
    "from PyQt5.QtWidgets import *\n",
    "from PyQt5.QtGui import *"
   ]
  },
  {
   "cell_type": "markdown",
   "id": "6ee88bee-9cfa-48dd-a8c5-ee7dd3b1a574",
   "metadata": {},
   "source": [
    "## Pencere oluşturma:"
   ]
  },
  {
   "cell_type": "code",
   "execution_count": 6,
   "id": "6307cf78-2241-4ce6-bdf9-23f7df6cad74",
   "metadata": {},
   "outputs": [
    {
     "ename": "SystemExit",
     "evalue": "0",
     "output_type": "error",
     "traceback": [
      "An exception has occurred, use %tb to see the full traceback.\n",
      "\u001b[1;31mSystemExit\u001b[0m\u001b[1;31m:\u001b[0m 0\n"
     ]
    }
   ],
   "source": [
    "def Pencere():\n",
    "    \n",
    "    app = QtWidgets.QApplication(sys.argv)\n",
    "\n",
    "    pencere = QtWidgets.QWidget()   \n",
    "    \n",
    "    pencere.setWindowTitle(\"PyQt5 Ders 1\") \n",
    "    \n",
    "    pencere.show()  \n",
    "    \n",
    "    sys.exit(app.exec_()) \n",
    "    \n",
    "Pencere()"
   ]
  },
  {
   "cell_type": "raw",
   "id": "79d12beb-5df9-428f-86ae-15c3e8962773",
   "metadata": {},
   "source": [
    "def Pencere():\n",
    "    app = QtWidgets.QApplication(sys.argv)\n",
    "\n",
    "    pencere = QtWidgets.QWidget()   # obje oluşturduk.\n",
    "\n",
    "    pencere.setWindowTitle(\"PyQt5 Ders 1\")  # başlık verdik.\n",
    "\n",
    "    pencere.show()   # app içinde gösteriyoruz.\n",
    "\n",
    "    sys.exit(app.exec_())  # uygulamamızın sürekli çalışır durumda kalması için döngüye sokuyoruz. Çarpı tuşuna basmadıkça uygulama çalışır. \n",
    "\n",
    "Pencere()"
   ]
  },
  {
   "cell_type": "markdown",
   "id": "502be8a1-8b2e-4057-9ae2-add661ce01a9",
   "metadata": {},
   "source": [
    "## Pencere içine yazı yazma."
   ]
  },
  {
   "cell_type": "code",
   "execution_count": 7,
   "id": "5c8ae459-1042-4bbc-ac89-41854daeb9e8",
   "metadata": {},
   "outputs": [
    {
     "ename": "SystemExit",
     "evalue": "0",
     "output_type": "error",
     "traceback": [
      "An exception has occurred, use %tb to see the full traceback.\n",
      "\u001b[1;31mSystemExit\u001b[0m\u001b[1;31m:\u001b[0m 0\n"
     ]
    }
   ],
   "source": [
    "def Pencere():\n",
    "    \n",
    "    app = QtWidgets.QApplication(sys.argv)\n",
    "\n",
    "    pencere = QtWidgets.QWidget()   \n",
    "    \n",
    "    pencere.setWindowTitle(\"PyQt5 Ders 1\") \n",
    "    \n",
    "    etiket1 = QtWidgets.QLabel(pencere)  # etiket oluşturduk.\n",
    "    \n",
    "    \n",
    "    etiket1.setText(\"Burası bir yazıdır.\")  # etiketin içine başlık yazdık.\n",
    "    \n",
    "    etiket1.move(200,50) # etiketi pencere içinde bir yere taşıdık.\n",
    "   \n",
    "    pencere.setGeometry(100,100,500,500)  # pencerinin boyutlarını girdik.\n",
    "    \n",
    "    pencere.show()  \n",
    "    \n",
    "    sys.exit(app.exec_()) \n",
    "    \n",
    "Pencere()#.close()"
   ]
  },
  {
   "cell_type": "markdown",
   "id": "0fdb5dd0-e6e0-4be0-99a3-bba5789eb197",
   "metadata": {},
   "source": [
    "## Pencere içine resim yerleştirme."
   ]
  },
  {
   "cell_type": "code",
   "execution_count": null,
   "id": "41c819e3-dcfa-41b5-82f2-41a632c4a9d9",
   "metadata": {},
   "outputs": [],
   "source": [
    "def Pencere():\n",
    "    \n",
    "    app = QtWidgets.QApplication(sys.argv)\n",
    "\n",
    "    pencere = QtWidgets.QWidget()   \n",
    "    \n",
    "    pencere.setWindowTitle(\"PyQt5 Ders 2\") \n",
    "    \n",
    "    etiket1 = QtWidgets.QLabel(pencere)  # etiket oluşturduk.\n",
    "    etiket2 = QtWidgets.QLabel(pencere)\n",
    "    \n",
    "    \n",
    "    etiket2.setPixmap(QtGui.QPixmap(\"python.png\"))  # Ğui içindeki class ları kullanıyoruz. içine indirdiğimiz resmin dosya adını yazdık.\n",
    "    etiket1.setText(\"Burası bir yazıdır.\")  # etiketin içine başlık yazdık.\n",
    "    \n",
    "    etiket1.move(200,50) # etiketi pencere içinde bir yere taşıdık.\n",
    "    etiket2.move(300,50)\n",
    "    \n",
    "    pencere.setGeometry(100,100,500,500)  # pencerinin boyutlarını girdik.\n",
    "    \n",
    "    pencere.show()  \n",
    "    \n",
    "    sys.exit(app.exec_()) \n",
    "    \n",
    "Pencere()#.close()"
   ]
  },
  {
   "cell_type": "markdown",
   "id": "3606ac50-5195-4b38-a4a4-2f2744b8f360",
   "metadata": {},
   "source": [
    "## Pencere içine button ekleme."
   ]
  },
  {
   "cell_type": "code",
   "execution_count": 7,
   "id": "ea4bdcdd-b4e3-4644-a6c0-873cd1383570",
   "metadata": {},
   "outputs": [
    {
     "ename": "SystemExit",
     "evalue": "0",
     "output_type": "error",
     "traceback": [
      "An exception has occurred, use %tb to see the full traceback.\n",
      "\u001b[1;31mSystemExit\u001b[0m\u001b[1;31m:\u001b[0m 0\n"
     ]
    }
   ],
   "source": [
    "def Pencere():\n",
    "    \n",
    "    app = QtWidgets.QApplication(sys.argv)\n",
    "\n",
    "    pencere = QtWidgets.QWidget()   \n",
    "    \n",
    "    pencere.setWindowTitle(\"PyQt5 Ders 3\") \n",
    "    \n",
    "    button = QtWidgets.QPushButton(pencere)  # buton oluşturduk.\n",
    "    button.setText(\"Burası bir butondur.\")   # butona isim verdik.\n",
    "    \n",
    "    etiket = QtWidgets.QLabel(pencere)   # etiket oluşturduk.\n",
    "    etiket.setText(\"Hello World!\")       # etikete isim verdik.\n",
    "    \n",
    "    etiket.move(200,30)\n",
    "    button.move(180,80)\n",
    "    \n",
    "    \n",
    "    pencere.setGeometry(100,100,500,500)\n",
    "    \n",
    "    pencere.show()  \n",
    "    \n",
    "    sys.exit(app.exec_()) \n",
    "    \n",
    "Pencere() # .close()"
   ]
  },
  {
   "cell_type": "markdown",
   "id": "053830fd-4c99-4bc8-a54e-48cf451e0c18",
   "metadata": {},
   "source": [
    "## Horizontal ve Vertical Layout Oluşturma."
   ]
  },
  {
   "cell_type": "code",
   "execution_count": 8,
   "id": "c203b590-52ce-449c-bb78-e8fe618eeb54",
   "metadata": {},
   "outputs": [
    {
     "ename": "SystemExit",
     "evalue": "0",
     "output_type": "error",
     "traceback": [
      "An exception has occurred, use %tb to see the full traceback.\n",
      "\u001b[1;31mSystemExit\u001b[0m\u001b[1;31m:\u001b[0m 0\n"
     ]
    },
    {
     "name": "stderr",
     "output_type": "stream",
     "text": [
      "C:\\Users\\HP\\anaconda3\\lib\\site-packages\\IPython\\core\\interactiveshell.py:3452: UserWarning: To exit: use 'exit', 'quit', or Ctrl-D.\n",
      "  warn(\"To exit: use 'exit', 'quit', or Ctrl-D.\", stacklevel=1)\n"
     ]
    }
   ],
   "source": [
    "def Pencere():\n",
    "    \n",
    "    app = QtWidgets.QApplication(sys.argv)\n",
    "    \n",
    "    okay = QtWidgets.QPushButton(\"Tamam\")  # iki tane button oluşturduk.\n",
    "    cancel = QtWidgets.QPushButton(\"İptal\")\n",
    "    \n",
    "    h_box=QtWidgets.QHBoxLayout() # bir tane horizantol layout oluşturduk.\n",
    "    \n",
    "    h_box.addWidget(okay)   # iki butonu bunun içine dahil ettik.\n",
    "    h_box.addWidget(cancel)\n",
    "    h_box.addStretch() # bunun butonların neresine koyarsak oraya dayar.Mesela yukarı koyarsak butonları sağa, \n",
    "    #ortaya koyarsak butonları sağa sola ve alta koyarsak butonları sağa dayar.\n",
    "\n",
    "    pencere = QtWidgets.QWidget()   \n",
    "    \n",
    "    pencere.setWindowTitle(\"PyQt5 Ders 4\") \n",
    "    \n",
    "    pencere.setLayout(h_box)  # h_box pencere içine koyduk.\n",
    "    \n",
    "    pencere.setGeometry(100,100,500,500)  # pencerinin boyutlarını girdik.\n",
    "    \n",
    "    pencere.show()  \n",
    "    \n",
    "    sys.exit(app.exec_()) \n",
    "    \n",
    "Pencere()#.close()"
   ]
  },
  {
   "cell_type": "code",
   "execution_count": null,
   "id": "0bded2cb-a0b4-45dc-b24b-a7c18ad49f55",
   "metadata": {},
   "outputs": [],
   "source": [
    "def Pencere():\n",
    "    \n",
    "    app = QtWidgets.QApplication(sys.argv)\n",
    "    \n",
    "    okay = QtWidgets.QPushButton(\"Tamam\")  # iki tane button oluşturduk.\n",
    "    cancel = QtWidgets.QPushButton(\"İptal\")\n",
    "    \n",
    "    v_box=QtWidgets.QVBoxLayout() # bir tane horizantol layout oluşturduk.\n",
    "    \n",
    "    v_box.addWidget(okay)   # iki butonu bunun içine dahil ettik.\n",
    "    v_box.addWidget(cancel)\n",
    "    v_box.addStretch() # burada ise yukarıdakinden yön olarak yukarıya, aşağıya veya ortaya yerleştirir.\n",
    "\n",
    "    pencere = QtWidgets.QWidget()   \n",
    "    \n",
    "    pencere.setWindowTitle(\"PyQt5 Ders 4\") \n",
    "    \n",
    "    pencere.setLayout(v_box)  # h_box pencere içine koyduk.\n",
    "    \n",
    "    pencere.setGeometry(100,100,500,500)  # pencerinin boyutlarını girdik.\n",
    "    \n",
    "    pencere.show()  \n",
    "    \n",
    "    sys.exit(app.exec_()) \n",
    "    \n",
    "Pencere()#.close()"
   ]
  },
  {
   "cell_type": "markdown",
   "id": "12c8ba90-42aa-4010-9bce-37d95d02a419",
   "metadata": {},
   "source": [
    "## Vertical içine Horizontal Layout Oluşturma:"
   ]
  },
  {
   "cell_type": "code",
   "execution_count": null,
   "id": "df7dea3d-7313-4a6b-bfea-0cce7810394f",
   "metadata": {},
   "outputs": [],
   "source": [
    "def Pencere():\n",
    "    \n",
    "    app = QtWidgets.QApplication(sys.argv)\n",
    "    \n",
    "    okay = QtWidgets.QPushButton(\"Tamam\")  \n",
    "    cancel = QtWidgets.QPushButton(\"İptal\")\n",
    "    \n",
    "    h_box=QtWidgets.QHBoxLayout() \n",
    "    \n",
    "    h_box.addStretch()  # solda boşluk olsun ve buttonlar sağa yaslansın istiyorum.\n",
    "    h_box.addWidget(okay)   \n",
    "    h_box.addWidget(cancel)\n",
    "    \n",
    "    v_box=QtWidgets.QVBoxLayout()  # sonrasında ise buttanları sağ alta atmak istiyorum.\n",
    "    \n",
    "    v_box.addStretch()\n",
    "    v_box.addLayout(h_box)  # h box içine gönderdik.\n",
    "    # lay out ile penceremizi boyutları ile oynasak dahi buttanlor veya yazılar yeri sabit kalır.\n",
    "    \n",
    "    \n",
    "    pencere = QtWidgets.QWidget()   \n",
    "    \n",
    "    pencere.setWindowTitle(\"PyQt5 Ders 5\") \n",
    "    \n",
    "    pencere.setLayout(v_box)  # son olarak da v box içine attık.\n",
    "    \n",
    "    pencere.setGeometry(100,100,500,500) \n",
    "    \n",
    "    pencere.show()  \n",
    "    \n",
    "    sys.exit(app.exec_()) \n",
    "    \n",
    "Pencere()#.close()"
   ]
  },
  {
   "cell_type": "code",
   "execution_count": null,
   "id": "24c7c5c6-7107-41f8-af91-855deedf4be8",
   "metadata": {},
   "outputs": [],
   "source": []
  }
 ],
 "metadata": {
  "kernelspec": {
   "display_name": "Python 3",
   "language": "python",
   "name": "python3"
  },
  "language_info": {
   "codemirror_mode": {
    "name": "ipython",
    "version": 3
   },
   "file_extension": ".py",
   "mimetype": "text/x-python",
   "name": "python",
   "nbconvert_exporter": "python",
   "pygments_lexer": "ipython3",
   "version": "3.9.7"
  }
 },
 "nbformat": 4,
 "nbformat_minor": 5
}
