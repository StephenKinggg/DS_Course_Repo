{
 "cells": [
  {
   "cell_type": "code",
   "execution_count": null,
   "id": "6114ed99-f5a5-4b9f-8dfd-107358d37d0e",
   "metadata": {},
   "outputs": [],
   "source": [
    "import sys\n",
    "import PyQt5\n",
    "from PyQt5 import QtWidgets,QtGui\n",
    "from PyQt5.QtWidgets import *\n",
    "from PyQt5.QtGui import *"
   ]
  },
  {
   "cell_type": "code",
   "execution_count": null,
   "id": "9a0ee71e-cee6-4860-8c6a-94be3312ee1a",
   "metadata": {},
   "outputs": [],
   "source": []
  },
  {
   "cell_type": "code",
   "execution_count": null,
   "id": "d290e97a-44fd-4742-9efa-a5834cc026a0",
   "metadata": {},
   "outputs": [],
   "source": [
    "class Pencere(QtWidgets.QWidget):  # Bu clasın QtWidgets.QWidget miras almasını istiyorum.\n",
    "    def __init__(self):\n",
    "\n",
    "        super().__init__()  # miras aldığımız classın içindeki init func. kullanmasını istiyoruz.\n",
    "\n",
    "        self.init_ui()   # yeni özellikler eklemek istiyorum.\n",
    "\n",
    "    def init_ui(self):  # bunu tanımladık. bütün işlemleri bunun icinde yapacağız.\n",
    "\n",
    "        self.yazı_alanı = QtWidgets.QLineEdit(\"Bana henüz tıklanmadı...\")\n",
    "        self.button = QtWidgets.QPushButton(\"Bana Tıkla\")\n",
    "        self.say = 0\n",
    "\n",
    "        v_box = QtWidgets.QVBoxLayout()\n",
    "\n",
    "        v_box.addWidget(self.yazı_alanı)\n",
    "        v_box.addWidget(self.temizle)\n",
    "        v_box.addWidget(self.yazdır)\n",
    "        v_box.addStretch()\n",
    "\n",
    "        self.setLayout(v_box)\n",
    "\n",
    "\n",
    "        self.temizle.clicked.connect(self.click)\n",
    "        self.yazdır.clicked.connect(self.click)\n",
    "\n",
    "\n",
    "\n",
    "        self.show()\n",
    "\n",
    "    def click(self):\n",
    "        sender = self.sender()\n",
    "\n",
    "        if sender.text() == \"Temizle\":\n",
    "            self.yazı_alanı.clear()\n",
    "\n",
    "        else:\n",
    "            print(self.yazı_alanı.text())\n",
    "\n",
    "\n",
    "\n",
    "\n",
    "app = QtWidgets.QApplication(sys.argv)\n",
    "\n",
    "pencere = Pencere()\n",
    "\n",
    "sys.exit(app.exec_())\n"
   ]
  }
 ],
 "metadata": {
  "kernelspec": {
   "display_name": "Python 3",
   "language": "python",
   "name": "python3"
  },
  "language_info": {
   "codemirror_mode": {
    "name": "ipython",
    "version": 3
   },
   "file_extension": ".py",
   "mimetype": "text/x-python",
   "name": "python",
   "nbconvert_exporter": "python",
   "pygments_lexer": "ipython3",
   "version": "3.9.7"
  }
 },
 "nbformat": 4,
 "nbformat_minor": 5
}
