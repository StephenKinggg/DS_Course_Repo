{
 "cells": [
  {
   "cell_type": "code",
   "execution_count": null,
   "id": "44cca167-12aa-4f51-a00c-3b6d8fc52f41",
   "metadata": {},
   "outputs": [],
   "source": [
    "import random\n",
    "import time\n",
    "\n",
    "print(\"\"\"************************\n",
    "\n",
    "Sayı Tahmin Oyunu\n",
    "\n",
    "\n",
    "1 ile 1000 arasında sayıyı tahmin edin.\n",
    "\n",
    "************************\"\"\")\n",
    "\n",
    "rastgele_sayı = random.randint(1,1000)\n",
    "tahmin_hakkı = 10\n",
    "while True:\n",
    "\n",
    "    tahmin = int(input(\"Tahmininiz:\"))\n",
    "\n",
    "    if (tahmin < rastgele_sayı):\n",
    "        print(\"Bilgiler Sorgulanıyor...\")\n",
    "        time.sleep(1)\n",
    "\n",
    "        print(\"Daha yüksek bir sayı söyleyin....\")\n",
    "\n",
    "        tahmin_hakkı -= 1\n",
    "    elif (tahmin > rastgele_sayı):\n",
    "        print(\"Bilgiler Sorgulanıyor...\")\n",
    "        time.sleep(1)\n",
    "\n",
    "        print(\"Daha düşük bir sayı söyleyin....\")\n",
    "\n",
    "        tahmin_hakkı -= 1\n",
    "    else:\n",
    "        print(\"Bilgiler Sorgulanıyor....\")\n",
    "        time.sleep(1)\n",
    "        print(\"Tebrikler! Sayımız\",rastgele_sayı)\n",
    "        break\n",
    "    if (tahmin_hakkı == 0):\n",
    "        print(\"Tahmin Hakkınız Bitti...\")\n",
    "        print(\"Sayımız:\",rastgele_sayı)\n",
    "        break\n",
    "\n"
   ]
  }
 ],
 "metadata": {
  "kernelspec": {
   "display_name": "Python 3",
   "language": "python",
   "name": "python3"
  },
  "language_info": {
   "codemirror_mode": {
    "name": "ipython",
    "version": 3
   },
   "file_extension": ".py",
   "mimetype": "text/x-python",
   "name": "python",
   "nbconvert_exporter": "python",
   "pygments_lexer": "ipython3",
   "version": "3.9.7"
  }
 },
 "nbformat": 4,
 "nbformat_minor": 5
}
