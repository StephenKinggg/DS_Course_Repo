{
 "cells": [
  {
   "cell_type": "markdown",
   "metadata": {},
   "source": [
    "# Kendi Modüllerimizi Yazmak\n",
    "\n",
    "Bu konuda kendi modüllerimizi nasıl yazacağımızı öğrenmeye çalışacağız. Ancak bu derste **Python dosyaları** oluşturacağımız için kendi bilgisayarımızda konuyu anlatmaya çalışacağım. Uygulayacağımız adımlar şu şekilde;\n",
    "                    \n",
    "                    1. Herhangi bir tane klasör oluşturuyoruz.\n",
    "                    2. Modülümüz ve deneme Python dosyamız aynı dizinde olması gerektiği için 2 tane Python dosyasını da\n",
    "                    bu klasör altında oluşturuyoruz.\n",
    "                    3. modul1.py ve deneme.py dosyası oluşturuyoruz.\n",
    "                    4. modul1.py dosyasının içine istediğimiz kadar fonksiyonu yazıyoruz.\n",
    "                    5. Son olarak da deneme.py dosyasının içinde bu modul1.py modülünü kullanıyoruz."
   ]
  },
  {
   "cell_type": "markdown",
   "metadata": {},
   "source": [
    "Peki yazdığımız bir modülü her yerden kullanmak için  ne yapacağız ? Bunun için yazdığımız **modul1.py** dosyasının **Python35/Lib** klasörünün altına atmamız gerekiyor. Böylelikle bu modülü de **math** modülü gibi her dosyada kullanabiliriz."
   ]
  },
  {
   "cell_type": "code",
   "execution_count": 1,
   "metadata": {
    "tags": []
   },
   "outputs": [],
   "source": [
    "import modul"
   ]
  },
  {
   "cell_type": "code",
   "execution_count": 2,
   "metadata": {},
   "outputs": [
    {
     "data": {
      "text/plain": [
       "['__builtins__',\n",
       " '__cached__',\n",
       " '__doc__',\n",
       " '__file__',\n",
       " '__loader__',\n",
       " '__name__',\n",
       " '__package__',\n",
       " '__spec__',\n",
       " 'programlama_dilleri',\n",
       " 'selamla',\n",
       " 'toplama']"
      ]
     },
     "execution_count": 2,
     "metadata": {},
     "output_type": "execute_result"
    }
   ],
   "source": [
    "dir(modul)"
   ]
  },
  {
   "cell_type": "code",
   "execution_count": 3,
   "metadata": {},
   "outputs": [
    {
     "name": "stdout",
     "output_type": "stream",
     "text": [
      "Ahmet nasılsınız?\n"
     ]
    }
   ],
   "source": [
    "modul.selamla(\"Ahmet\")"
   ]
  },
  {
   "cell_type": "code",
   "execution_count": 4,
   "metadata": {},
   "outputs": [
    {
     "data": {
      "text/plain": [
       "21"
      ]
     },
     "execution_count": 4,
     "metadata": {},
     "output_type": "execute_result"
    }
   ],
   "source": [
    "modul.toplama(3,8,10)"
   ]
  },
  {
   "cell_type": "code",
   "execution_count": 6,
   "metadata": {},
   "outputs": [
    {
     "data": {
      "text/plain": [
       "['Python', 'R', 'Java', 'C']"
      ]
     },
     "execution_count": 6,
     "metadata": {},
     "output_type": "execute_result"
    }
   ],
   "source": [
    "modul.programlama_dilleri"
   ]
  },
  {
   "cell_type": "code",
   "execution_count": 7,
   "metadata": {},
   "outputs": [
    {
     "name": "stdout",
     "output_type": "stream",
     "text": [
      "12\n",
      "Ahmet nasılsınız?\n",
      "['Python', 'R', 'Java', 'C']\n"
     ]
    }
   ],
   "source": [
    "import test"
   ]
  },
  {
   "cell_type": "code",
   "execution_count": null,
   "metadata": {},
   "outputs": [],
   "source": []
  }
 ],
 "metadata": {
  "kernelspec": {
   "display_name": "Python 3",
   "language": "python",
   "name": "python3"
  },
  "language_info": {
   "codemirror_mode": {
    "name": "ipython",
    "version": 3
   },
   "file_extension": ".py",
   "mimetype": "text/x-python",
   "name": "python",
   "nbconvert_exporter": "python",
   "pygments_lexer": "ipython3",
   "version": "3.9.7"
  }
 },
 "nbformat": 4,
 "nbformat_minor": 4
}
