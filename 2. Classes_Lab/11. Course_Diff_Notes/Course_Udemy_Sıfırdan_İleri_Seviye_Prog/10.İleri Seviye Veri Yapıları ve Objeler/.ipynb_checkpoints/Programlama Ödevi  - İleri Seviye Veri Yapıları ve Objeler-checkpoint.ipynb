{
 "cells": [
  {
   "cell_type": "markdown",
   "metadata": {},
   "source": [
    "## İleri Seviye Veri Yapıları ve Objeler\n",
    "\n",
    "### Problem 1\n",
    "\n",
    "Elinizde uzunca bir string olsun. \n",
    "\n",
    "                \"ProgramlamaÖdeviİleriSeviyeVeriYapılarıveObjeleripynb\"\n",
    "                \n",
    "                \n",
    "Bu string içindeki harflerin frekansını (bir harfin kaç defa geçtiği) bulmaya çalışın.\n",
    "\n",
    "***İpucu : Kodlama egzersizimizde buna çok benzer bir şey yapmıştık.***\n",
    "\n",
    "\n"
   ]
  },
  {
   "cell_type": "code",
   "execution_count": 12,
   "metadata": {
    "collapsed": true,
    "jupyter": {
     "outputs_hidden": true
    },
    "tags": []
   },
   "outputs": [
    {
     "name": "stdout",
     "output_type": "stream",
     "text": [
      "p\n",
      "r\n",
      "o\n",
      "g\n",
      "r\n",
      "a\n",
      "m\n",
      "l\n",
      "a\n",
      "m\n",
      "a\n",
      "ö\n",
      "d\n",
      "e\n",
      "v\n",
      "i\n",
      "i\n",
      "̇\n",
      "l\n",
      "e\n",
      "r\n",
      "i\n",
      "s\n",
      "e\n",
      "v\n",
      "i\n",
      "y\n",
      "e\n",
      "v\n",
      "e\n",
      "r\n",
      "i\n",
      "y\n",
      "a\n",
      "p\n",
      "ı\n",
      "l\n",
      "a\n",
      "r\n",
      "ı\n",
      "v\n",
      "e\n",
      "o\n",
      "b\n",
      "j\n",
      "e\n",
      "l\n",
      "e\n",
      "r\n",
      "i\n",
      "p\n",
      "y\n",
      "n\n",
      "b\n",
      "Tüm harfler....\n",
      "p\n",
      "***********************\n",
      "n\n",
      "***********************\n",
      "v\n",
      "***********************\n",
      "g\n",
      "***********************\n",
      "m\n",
      "***********************\n",
      "e\n",
      "***********************\n",
      "̇\n",
      "***********************\n",
      "d\n",
      "***********************\n",
      "l\n",
      "***********************\n",
      "b\n",
      "***********************\n",
      "i\n",
      "***********************\n",
      "r\n",
      "***********************\n",
      "ö\n",
      "***********************\n",
      "j\n",
      "***********************\n",
      "s\n",
      "***********************\n",
      "a\n",
      "***********************\n",
      "ı\n",
      "***********************\n",
      "o\n",
      "***********************\n",
      "y\n",
      "***********************\n",
      "Bahse konu metinde p kelimesi 3 defa geçiyor.\n",
      "Bahse konu metinde r kelimesi 6 defa geçiyor.\n",
      "Bahse konu metinde o kelimesi 2 defa geçiyor.\n",
      "Bahse konu metinde g kelimesi 1 defa geçiyor.\n",
      "Bahse konu metinde a kelimesi 5 defa geçiyor.\n",
      "Bahse konu metinde m kelimesi 2 defa geçiyor.\n",
      "Bahse konu metinde l kelimesi 4 defa geçiyor.\n",
      "Bahse konu metinde ö kelimesi 1 defa geçiyor.\n",
      "Bahse konu metinde d kelimesi 1 defa geçiyor.\n",
      "Bahse konu metinde e kelimesi 8 defa geçiyor.\n",
      "Bahse konu metinde v kelimesi 4 defa geçiyor.\n",
      "Bahse konu metinde i kelimesi 6 defa geçiyor.\n",
      "Bahse konu metinde ̇ kelimesi 1 defa geçiyor.\n",
      "Bahse konu metinde s kelimesi 1 defa geçiyor.\n",
      "Bahse konu metinde y kelimesi 3 defa geçiyor.\n",
      "Bahse konu metinde ı kelimesi 2 defa geçiyor.\n",
      "Bahse konu metinde b kelimesi 2 defa geçiyor.\n",
      "Bahse konu metinde j kelimesi 1 defa geçiyor.\n",
      "Bahse konu metinde n kelimesi 1 defa geçiyor.\n"
     ]
    }
   ],
   "source": [
    "class harf():\n",
    "    \n",
    "    def __init__(self):\n",
    "            \n",
    "            self.sade_harf = list()  # class bir elemanı olacak şekilde bir tane boş list oluşturduk. Her yerde kullanım diye böyle yaptık.\n",
    "            \n",
    "            kelime = \"ProgramlamaÖdeviİleriSeviyeVeriYapılarıveObjeleripynb\"\n",
    "\n",
    "            kelime = list(kelime.lower())\n",
    "\n",
    "            for i in kelime:\n",
    "            \n",
    "                self.sade_harf.append(i)\n",
    "            \n",
    "            for i in self.sade_harf:\n",
    "                print(i)\n",
    "    \n",
    "    def tum_harf(self):\n",
    "        \n",
    "        harf_kumesi = set()  # her bir kelimeyi bir kümeye atıyorum.\n",
    "        \n",
    "        for i in self.sade_harf:\n",
    "            \n",
    "            harf_kumesi.add(i)  # gezinerek her bir kelimeyi bu kümeye atıyorum. Bir kelimeden birden fazla gelse de set bunu tek kelimeye indirecek.\n",
    "        \n",
    "        print(\"Tüm harfler....\")\n",
    "        \n",
    "        for i in harf_kumesi:\n",
    "            \n",
    "            print(i)\n",
    "            \n",
    "            print(\"***********************\")\n",
    "     \n",
    "    def harf_frekansı(self):\n",
    "        \n",
    "        harf_sozluk = dict()\n",
    "        \n",
    "        for i in self.sade_harf:\n",
    "            \n",
    "            if (i in harf_sozluk):\n",
    "                harf_sozluk[i]+=1\n",
    "            \n",
    "            else :\n",
    "                harf_sozluk[i]=1\n",
    "        \n",
    "        for harf, sayı in harf_sozluk.items():\n",
    "            \n",
    "            print(\"Bahse konu metinde {} kelimesi {} defa geçiyor.\".format(harf, sayı))\n",
    "        \n",
    "            \n",
    "harf = harf()\n",
    "\n",
    "harf.tum_harf()\n",
    "\n",
    "harf.harf_frekansı()"
   ]
  },
  {
   "cell_type": "code",
   "execution_count": 15,
   "metadata": {},
   "outputs": [
    {
     "name": "stdout",
     "output_type": "stream",
     "text": [
      "programlamaödevii̇leriseviyeveriyapılarıveobjeleripynb\n",
      "p : 3\n",
      "r : 6\n",
      "o : 2\n",
      "g : 1\n",
      "a : 5\n",
      "m : 2\n",
      "l : 4\n",
      "ö : 1\n",
      "d : 1\n",
      "e : 8\n",
      "v : 4\n",
      "i : 6\n",
      "̇ : 1\n",
      "s : 1\n",
      "y : 3\n",
      "ı : 2\n",
      "b : 2\n",
      "j : 1\n",
      "n : 1\n"
     ]
    }
   ],
   "source": [
    "s =  \"ProgramlamaÖdeviİleriSeviyeVeriYapılarıveObjeleripynb\".lower()\n",
    "frekans = dict()\n",
    "print(s)  # eğer lower yaptığımızda büyük i harfini farklı algılıyor dikkat.\n",
    "for karakter in s:\n",
    "    if (karakter in frekans):\n",
    "        frekans[karakter] += 1\n",
    "    else:\n",
    "        frekans[karakter] = 1\n",
    "        \n",
    "for i,j in frekans.items():\n",
    "    \n",
    "    print(i,\":\",j)"
   ]
  },
  {
   "cell_type": "markdown",
   "metadata": {},
   "source": [
    "### Problem 2\n",
    "\n",
    "\"şiir.txt\" şeklinde bir dosya oluşturun ve içinde şu satırlar yer alsın.\n",
    "\n",
    "                        Memlekete sis çökmüş bir gece \n",
    "                        Usulca yanağıma sen düşüyorsun\n",
    "                        Sabah saat dokuzu beş geçe\n",
    "                        Terk edip bizleri gidiyorsun\n",
    "                        Ayrılık bu kadar yakmamıştı içimizi\n",
    "                        Farkında mısın bilmiyorum\n",
    "                        Aldın beraberinde cumhuriyetimizi\n",
    "                        Korkunç bir veda, sararmıştı her yer\n",
    "                        Ellerini uzat tutmak istiyoruz\n",
    "                        Masmavi gözleri kaybetmiş çocuk\n",
    "                        Aldı bir sabah ruhumuzu\n",
    "                        Lakin nasıl bölmesin yokluğun uykumuzu\n",
    "\n",
    "Bu dosyanın herbir satırını okuyun. Satırların baş harflerini birbirine ekleyerek bir string oluşturun ve bu string'i ekrana yazdırın."
   ]
  },
  {
   "cell_type": "code",
   "execution_count": 27,
   "metadata": {},
   "outputs": [
    {
     "name": "stdout",
     "output_type": "stream",
     "text": [
      "M\n",
      "U\n",
      "S\n",
      "T\n",
      "A\n",
      "F\n",
      "A\n",
      "K\n",
      "E\n",
      "M\n",
      "A\n",
      "L\n",
      "MUSTAFAKEMAL\n"
     ]
    }
   ],
   "source": [
    "bas_harfler=\"\"\n",
    "\n",
    "with open(\"şiir.txt\",\"r\", encoding=\"utf-8\") as file:    \n",
    "    for satır in file:\n",
    "        print(satır[0])\n",
    "        bas_harfler+=satır[0]\n",
    "print(bas_harfler)"
   ]
  },
  {
   "cell_type": "markdown",
   "metadata": {},
   "source": [
    "### Problem 3\n",
    "\n",
    "Elinizde \"mailler.txt\" adında , maillerin ve bazı yazıların bulunduğu bir dosya olsun. Bu dosyanın her bir satırını okuyun ve sadece mail formatına uygun olanları ekrana yazdırın.\n",
    "\n",
    "                        coskun.m.murat@gmail.com\n",
    "                        example@xyz.com\n",
    "                        mustafa.com\n",
    "                        mustafa@gmail\n",
    "                        kerim@yahoo.com\n",
    "                        \n",
    "                               //\n",
    "                               //\n",
    "                               //\n",
    "                               \n",
    "                        \n",
    "***İpucu: Stringlerde bulunan endswith ve find metodlarını kullanabilirsiniz.***                        "
   ]
  },
  {
   "cell_type": "code",
   "execution_count": 30,
   "metadata": {},
   "outputs": [
    {
     "data": {
      "text/plain": [
       "'makumkeuam'"
      ]
     },
     "execution_count": 30,
     "metadata": {},
     "output_type": "execute_result"
    }
   ],
   "source": [
    "satır = \"makumkeuamk\"\n",
    "satır[:-1]"
   ]
  },
  {
   "cell_type": "code",
   "execution_count": 31,
   "metadata": {},
   "outputs": [
    {
     "name": "stdout",
     "output_type": "stream",
     "text": [
      "coskun.m.murat@gmail.com\n",
      "\n",
      "coskun.m.murat@gmail.com\n",
      "example@xyz.com\n",
      "\n",
      "example@xyz.com\n",
      "mustafa.com\n",
      "\n",
      "mustafa.com\n",
      "mustafa@gmail\n",
      "\n",
      "mustafa@gmail\n",
      "kerim@yahoo.com\n",
      "\n",
      "kerim@yahoo.com\n"
     ]
    }
   ],
   "source": [
    "with open(\"mailler.txt\",\"r\",encoding=\"utf-8\") as file:\n",
    "    for satır in file:\n",
    "        print(satır)\n",
    "        satır = satır[:-1]  # \\n leri aldık.\n",
    "        print(satır)"
   ]
  },
  {
   "cell_type": "code",
   "execution_count": null,
   "metadata": {},
   "outputs": [],
   "source": [
    "satır = \"coskun.m.murat@gmail.com\"\n",
    "\n",
    "satır.find(\"@\")==-1  # burada eğer sonuç -1 dönerse sonuç False dur. Bundan dolayı -1 eşit değilse True olarak döner kabul ediyoruz."
   ]
  },
  {
   "cell_type": "code",
   "execution_count": 53,
   "metadata": {},
   "outputs": [
    {
     "name": "stdout",
     "output_type": "stream",
     "text": [
      "coskun.m.murat@gmail.com\n",
      "example@xyz.com\n",
      "kerim@yahoo.com\n"
     ]
    }
   ],
   "source": [
    "with open(\"mailler.txt\", \"r\", encoding=\"utf-8\") as file:    \n",
    "    for satır in file:\n",
    "        satır = satır[:-1]  # \\n leri siler.\n",
    "        if (satır.endswith(\".com\") and satır.find(\"@\") !=-1):\n",
    "            print(satır)"
   ]
  },
  {
   "cell_type": "markdown",
   "metadata": {},
   "source": [
    "### Problem 4\n",
    "\n",
    "Elinizde 2 tane liste bulunsun. Bu listelerden isim ve soyisimleri birleştirerek , ekrana isim ve soyisimleri ***isimlere*** göre sıralı bir şekilde yazdırmaya çalışın.\n",
    "\n",
    "            isim -----> [\"Kerim\",\"Tarık\",\"Ezgi\",\"Kemal\",\"İlkay\",\"Şükran\",\"Merve\"]\n",
    "\n",
    "            soyisim ------> [\"Yılmaz\",\"Öztürk\",\"Dağdeviren\",\"Atatürk\",\"Dikmen\",\"Kaya\",\"Polat\"]\n",
    "            "
   ]
  },
  {
   "cell_type": "code",
   "execution_count": 2,
   "metadata": {
    "tags": []
   },
   "outputs": [
    {
     "name": "stdout",
     "output_type": "stream",
     "text": [
      "[('Kerim', 'Yılmaz'), ('Tarık', 'Öztürk'), ('Ezgi', 'Dağdeviren'), ('Kemal', 'Atatürk'), ('İlkay', 'Dikmen'), ('Şükran', 'Kaya'), ('Merve', 'Polat')]\n",
      "None\n",
      "Ezgi Dağdeviren\n",
      "Kemal Atatürk\n",
      "Kerim Yılmaz\n",
      "Merve Polat\n",
      "Tarık Öztürk\n",
      "İlkay Dikmen\n",
      "Şükran Kaya\n"
     ]
    }
   ],
   "source": [
    "isim = [\"Kerim\",\"Tarık\",\"Ezgi\",\"Kemal\",\"İlkay\",\"Şükran\",\"Merve\"]\n",
    "\n",
    "soyisim = [\"Yılmaz\",\"Öztürk\",\"Dağdeviren\",\"Atatürk\",\"Dikmen\",\"Kaya\",\"Polat\"]\n",
    "\n",
    "liste = list(zip(isim,soyisim))\n",
    "\n",
    "print(liste)\n",
    "\n",
    "print(liste.sort())\n",
    "\n",
    "for i,j in liste:\n",
    "    print(i,j)"
   ]
  },
  {
   "cell_type": "code",
   "execution_count": null,
   "metadata": {},
   "outputs": [],
   "source": []
  }
 ],
 "metadata": {
  "kernelspec": {
   "display_name": "Python 3",
   "language": "python",
   "name": "python3"
  },
  "language_info": {
   "codemirror_mode": {
    "name": "ipython",
    "version": 3
   },
   "file_extension": ".py",
   "mimetype": "text/x-python",
   "name": "python",
   "nbconvert_exporter": "python",
   "pygments_lexer": "ipython3",
   "version": "3.9.7"
  }
 },
 "nbformat": 4,
 "nbformat_minor": 4
}
