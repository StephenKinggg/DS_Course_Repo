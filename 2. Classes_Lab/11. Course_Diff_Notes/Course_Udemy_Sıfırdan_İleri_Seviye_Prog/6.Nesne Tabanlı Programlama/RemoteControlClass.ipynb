{
 "cells": [
  {
   "cell_type": "code",
   "execution_count": 1,
   "id": "3cdd1446-b020-4888-a0aa-1121ed51236f",
   "metadata": {},
   "outputs": [
    {
     "name": "stdin",
     "output_type": "stream",
     "text": [
      "İşlemi Seçiniz: 7\n"
     ]
    },
    {
     "name": "stdout",
     "output_type": "stream",
     "text": [
      "TV Durumu: Kapalı\n",
      "TV Ses: 0\n",
      "Kanal Listesi: ['TRT']\n",
      "Şuanki Kanal: Trt\n",
      "\n"
     ]
    },
    {
     "name": "stdin",
     "output_type": "stream",
     "text": [
      "İşlemi Seçiniz: 1\n"
     ]
    },
    {
     "name": "stdout",
     "output_type": "stream",
     "text": [
      "TV açılıyor...\n"
     ]
    },
    {
     "name": "stdin",
     "output_type": "stream",
     "text": [
      "İşlemi Seçiniz: 1\n"
     ]
    },
    {
     "name": "stdout",
     "output_type": "stream",
     "text": [
      "TV zaten açık durumda.\n"
     ]
    },
    {
     "name": "stdin",
     "output_type": "stream",
     "text": [
      "İşlemi Seçiniz: 2\n"
     ]
    },
    {
     "name": "stdout",
     "output_type": "stream",
     "text": [
      "TV kapanıyor...\n"
     ]
    },
    {
     "name": "stdin",
     "output_type": "stream",
     "text": [
      "İşlemi Seçiniz: 2\n"
     ]
    },
    {
     "name": "stdout",
     "output_type": "stream",
     "text": [
      "TV zaten kapalı durumda.\n"
     ]
    },
    {
     "name": "stdin",
     "output_type": "stream",
     "text": [
      "İşlemi Seçiniz: 1\n"
     ]
    },
    {
     "name": "stdout",
     "output_type": "stream",
     "text": [
      "TV açılıyor...\n"
     ]
    },
    {
     "name": "stdin",
     "output_type": "stream",
     "text": [
      "İşlemi Seçiniz: 3\n",
      "Sesi azalt: '<'\n",
      "Sesi arttır: '>'\n",
      "Çıkış : çıkış >\n"
     ]
    },
    {
     "name": "stdout",
     "output_type": "stream",
     "text": [
      "ses 1\n"
     ]
    },
    {
     "name": "stdin",
     "output_type": "stream",
     "text": [
      "Sesi azalt: '<'\n",
      "Sesi arttır: '>'\n",
      "Çıkış : çıkış >\n"
     ]
    },
    {
     "name": "stdout",
     "output_type": "stream",
     "text": [
      "ses 2\n"
     ]
    },
    {
     "name": "stdin",
     "output_type": "stream",
     "text": [
      "Sesi azalt: '<'\n",
      "Sesi arttır: '>'\n",
      "Çıkış : çıkış >\n"
     ]
    },
    {
     "name": "stdout",
     "output_type": "stream",
     "text": [
      "ses 3\n"
     ]
    },
    {
     "name": "stdin",
     "output_type": "stream",
     "text": [
      "Sesi azalt: '<'\n",
      "Sesi arttır: '>'\n",
      "Çıkış : çıkış >\n"
     ]
    },
    {
     "name": "stdout",
     "output_type": "stream",
     "text": [
      "ses 4\n"
     ]
    },
    {
     "name": "stdin",
     "output_type": "stream",
     "text": [
      "Sesi azalt: '<'\n",
      "Sesi arttır: '>'\n",
      "Çıkış : çıkış >\n"
     ]
    },
    {
     "name": "stdout",
     "output_type": "stream",
     "text": [
      "ses 5\n"
     ]
    },
    {
     "name": "stdin",
     "output_type": "stream",
     "text": [
      "Sesi azalt: '<'\n",
      "Sesi arttır: '>'\n",
      "Çıkış : çıkış <\n"
     ]
    },
    {
     "name": "stdout",
     "output_type": "stream",
     "text": [
      "ses: 4\n"
     ]
    },
    {
     "name": "stdin",
     "output_type": "stream",
     "text": [
      "Sesi azalt: '<'\n",
      "Sesi arttır: '>'\n",
      "Çıkış : çıkış <\n"
     ]
    },
    {
     "name": "stdout",
     "output_type": "stream",
     "text": [
      "ses: 3\n"
     ]
    },
    {
     "name": "stdin",
     "output_type": "stream",
     "text": [
      "Sesi azalt: '<'\n",
      "Sesi arttır: '>'\n",
      "Çıkış : çıkış çıkış\n"
     ]
    },
    {
     "name": "stdout",
     "output_type": "stream",
     "text": [
      "Ses güncellendi: 3\n"
     ]
    },
    {
     "name": "stdin",
     "output_type": "stream",
     "text": [
      "İşlemi Seçiniz: 4\n",
      "Kanal isimlerini ',' ile ayırarak girin: Show, KanalD, Bloomberg, TLC\n"
     ]
    },
    {
     "name": "stdout",
     "output_type": "stream",
     "text": [
      "Kanal ekleniyor...\n",
      "Kanal eklendi.\n",
      "Kanal ekleniyor...\n",
      "Kanal eklendi.\n",
      "Kanal ekleniyor...\n",
      "Kanal eklendi.\n",
      "Kanal ekleniyor...\n",
      "Kanal eklendi.\n"
     ]
    },
    {
     "name": "stdin",
     "output_type": "stream",
     "text": [
      "İşlemi Seçiniz: 5\n"
     ]
    },
    {
     "name": "stdout",
     "output_type": "stream",
     "text": [
      "Kanal Sayısı: 5\n"
     ]
    },
    {
     "name": "stdin",
     "output_type": "stream",
     "text": [
      "İşlemi Seçiniz: 7\n"
     ]
    },
    {
     "name": "stdout",
     "output_type": "stream",
     "text": [
      "TV Durumu: Açık\n",
      "TV Ses: 3\n",
      "Kanal Listesi: ['TRT', 'Show', ' KanalD', ' Bloomberg', ' TLC']\n",
      "Şuanki Kanal: Trt\n",
      "\n"
     ]
    },
    {
     "name": "stdin",
     "output_type": "stream",
     "text": [
      "İşlemi Seçiniz: 6\n"
     ]
    },
    {
     "name": "stdout",
     "output_type": "stream",
     "text": [
      "Şu anki kanal: TRT\n"
     ]
    },
    {
     "name": "stdin",
     "output_type": "stream",
     "text": [
      "İşlemi Seçiniz: 6\n"
     ]
    },
    {
     "name": "stdout",
     "output_type": "stream",
     "text": [
      "Şu anki kanal:  TLC\n"
     ]
    },
    {
     "name": "stdin",
     "output_type": "stream",
     "text": [
      "İşlemi Seçiniz: 6\n"
     ]
    },
    {
     "name": "stdout",
     "output_type": "stream",
     "text": [
      "Şu anki kanal:  KanalD\n"
     ]
    },
    {
     "name": "stdin",
     "output_type": "stream",
     "text": [
      "İşlemi Seçiniz: 7\n"
     ]
    },
    {
     "name": "stdout",
     "output_type": "stream",
     "text": [
      "TV Durumu: Açık\n",
      "TV Ses: 3\n",
      "Kanal Listesi: ['TRT', 'Show', ' KanalD', ' Bloomberg', ' TLC']\n",
      "Şuanki Kanal:  KanalD\n",
      "\n"
     ]
    },
    {
     "name": "stdin",
     "output_type": "stream",
     "text": [
      "İşlemi Seçiniz: q\n"
     ]
    },
    {
     "name": "stdout",
     "output_type": "stream",
     "text": [
      "Program Sonlandırılıyor...\n"
     ]
    }
   ],
   "source": [
    "import random\n",
    "import time\n",
    "\n",
    "class RemoteControl():\n",
    "    \n",
    "    def __init__(self, TV_durum=\"Kapalı\", TV_ses=0, Kanal_List=[\"TRT\"], Kanal=\"Trt\"):\n",
    "        self.TV_durum = TV_durum\n",
    "        self.TV_ses = TV_ses\n",
    "        self.Kanal_List = Kanal_List\n",
    "        self.Kanal = Kanal\n",
    "    \n",
    "    def TV_ac(self):\n",
    "        \n",
    "        if (self.TV_durum==\"Açık\"):\n",
    "            print(\"TV zaten açık durumda.\")\n",
    "        else:\n",
    "            print(\"TV açılıyor...\")\n",
    "            self.TV_durum = \"Açık\"    \n",
    "        \n",
    "    def TV_kapat(self):   \n",
    "        \n",
    "        if (self.TV_durum==\"Kapalı\"):\n",
    "            print(\"TV zaten kapalı durumda.\")\n",
    "            \n",
    "        else:\n",
    "            print(\"TV kapanıyor...\")\n",
    "            self.TV_durum = \"Kapalı\"\n",
    "    \n",
    "    def ses_ayarları(self):\n",
    "        \n",
    "        while True:\n",
    "            cevap = input(\"Sesi azalt: '<'\\nSesi arttır: '>'\\nÇıkış : çıkış\")\n",
    "            \n",
    "            if(cevap==\"<\"):\n",
    "                if (self.TV_ses !=0):\n",
    "                    \n",
    "                    self.TV_ses -=1\n",
    "                    print(\"ses:\", self.TV_ses)\n",
    "                    \n",
    "            elif (cevap==\">\"):\n",
    "                if (self.TV_ses!=31):\n",
    "                    \n",
    "                    self.TV_ses +=1\n",
    "                    print(\"ses\", self.TV_ses)\n",
    "            else:\n",
    "                print(\"Ses güncellendi:\",self.TV_ses)\n",
    "                break\n",
    "    \n",
    "    def kanal_ekle(self, kanal_ismi):   \n",
    "                 \n",
    "        print(\"Kanal ekleniyor...\")\n",
    "        time.sleep(1)\n",
    "        \n",
    "        self.Kanal_List.append(kanal_ismi)\n",
    "        print(\"Kanal eklendi.\")\n",
    "    \n",
    "    def rastgele_kanal(self):   \n",
    "         \n",
    "        rastgele = random.randint(0,len(self.Kanal_List)-1)\n",
    "        \n",
    "        self.Kanal = self.Kanal_List[rastgele]\n",
    "        print(\"Şu anki kanal:\", self.Kanal)\n",
    "                    \n",
    "    def __len__(self):\n",
    "        \n",
    "        return len(self.Kanal_List)\n",
    "    \n",
    "    def __str__(self):\n",
    "    \n",
    "        return \"TV Durumu: {}\\nTV Ses: {}\\nKanal Listesi: {}\\nŞuanki Kanal: {}\\n\".format(self.TV_durum, self.TV_ses, self.Kanal_List, self.Kanal)\n",
    "                    \n",
    "\n",
    "kumanda = RemoteControl()\n",
    "                    \n",
    "\"\"\"\n",
    "Televizyon Uygulaması\n",
    "\n",
    "\n",
    "1. Tv Aç\n",
    "\n",
    "2. Tv Kapat\n",
    "\n",
    "3. Ses Ayarları\n",
    "\n",
    "4. Kanal Ekle\n",
    "\n",
    "5. Kanal Sayısını Öğrenme\n",
    "\n",
    "6. Rastgele Kanala Geçme\n",
    "\n",
    "7. Televizyon Bilgileri\n",
    "\n",
    "Çıkmak için 'q' ya basın.\n",
    "\"\"\"  \n",
    "while True:\n",
    "\n",
    "    işlem = input(\"İşlemi Seçiniz:\")\n",
    "\n",
    "    if (işlem == \"q\"):\n",
    "        print(\"Program Sonlandırılıyor...\")\n",
    "        break\n",
    "\n",
    "    elif (işlem == \"1\"):\n",
    "        kumanda.TV_ac()\n",
    "                    \n",
    "    elif (işlem == \"2\"):\n",
    "        kumanda.TV_kapat()\n",
    "\n",
    "    elif (işlem == \"3\"):\n",
    "        kumanda.ses_ayarları()\n",
    "\n",
    "    elif (işlem == \"4\"):\n",
    "        kanal_isimleri = input(\"Kanal isimlerini ',' ile ayırarak girin:\")\n",
    "\n",
    "        kanal_listesi = kanal_isimleri.split(\",\")\n",
    "\n",
    "        for eklenecekler in kanal_listesi:\n",
    "            kumanda.kanal_ekle(eklenecekler)\n",
    "   \n",
    "    elif (işlem == \"5\"):\n",
    "\n",
    "        print(\"Kanal Sayısı:\",len(kumanda))\n",
    "\n",
    "    elif (işlem == \"6\"):\n",
    "        kumanda.rastgele_kanal()\n",
    "   \n",
    "    elif (işlem == \"7\"):\n",
    "        print(kumanda)\n",
    "\n",
    "    else:\n",
    "        print(\"Geçersiz İşlem......\")                    \n"
   ]
  },
  {
   "cell_type": "code",
   "execution_count": null,
   "id": "ab1e3104-b005-43e5-8875-2f66e105a762",
   "metadata": {},
   "outputs": [],
   "source": []
  }
 ],
 "metadata": {
  "kernelspec": {
   "display_name": "Python 3",
   "language": "python",
   "name": "python3"
  },
  "language_info": {
   "codemirror_mode": {
    "name": "ipython",
    "version": 3
   },
   "file_extension": ".py",
   "mimetype": "text/x-python",
   "name": "python",
   "nbconvert_exporter": "python",
   "pygments_lexer": "ipython3",
   "version": "3.9.7"
  }
 },
 "nbformat": 4,
 "nbformat_minor": 5
}
