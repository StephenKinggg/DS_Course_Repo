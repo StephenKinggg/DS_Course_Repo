{
 "cells": [
  {
   "cell_type": "code",
   "execution_count": 12,
   "id": "dac373bb-54f4-4287-8c6c-496fba0c52eb",
   "metadata": {},
   "outputs": [],
   "source": [
    "def notecalculator(row):\n",
    "    row=row[:-1]  # bunun ile satır sonundaki \\n almadan tüm satırı getirmiş olduk.\n",
    "    \n",
    "    liste=row.split(\",\")  # virgülden ayırarak her bir elemanı list içine attık.\n",
    "    \n",
    "    isim =liste[0]\n",
    "    note1 = int(liste[1])\n",
    "    note2 = int(liste[2])\n",
    "    note3 = int(liste[3])\n",
    "    son_note = note1*0.3 + note2*0.3 + note3*0.4\n",
    "    \n",
    "    if (son_note>=90):\n",
    "        harf=\"AA\"\n",
    "    elif (son_note>=85):\n",
    "        harf=\"BA\"\n",
    "    elif (son_note>=80):\n",
    "        harf=\"BB\"\n",
    "    elif (son_note>=75):\n",
    "        harf=\"CB\"\n",
    "    elif (son_note>=70):\n",
    "        harf=\"CC\"\n",
    "    elif (son_note>=65):\n",
    "        harf=\"DC\"\n",
    "    elif (son_note>=60):\n",
    "        harf=\"DD\"\n",
    "    elif (son_note>=55):\n",
    "        harf=\"FD\"\n",
    "    else:\n",
    "        harf=\"FF\"\n",
    "    return isim + \"----------->\" + harf +\"\\n\"\n",
    "# dosya okuma maksatlı açtık ve yeni bir boş liste oluşturduk. her bir satırı okuyunca bu listeye atacak.\n",
    "with open(\"dosya.txt\", \"r\", encoding=\"utf-8\") as file:\n",
    "    \n",
    "    eklenecekler_listesi =[]\n",
    "    \n",
    "    for row in file:\n",
    "        \n",
    "        eklenecekler_listesi.append(notecalculator(row))\n",
    "\n",
    "# daha sonra notlar isimli yeni bir dosya oluşturduk ve eklenecekler listesindeki her bir satırı buraya yazdık.\n",
    "    with open(\"notlar.txt\", \"w\", encoding=\"utf-8\") as file2:\n",
    "        for i in eklenecekler_listesi:\n",
    "            file2.write(i)"
   ]
  },
  {
   "cell_type": "code",
   "execution_count": null,
   "id": "f00b6e80-4267-4d6f-a49e-eb25c9e70996",
   "metadata": {},
   "outputs": [],
   "source": []
  }
 ],
 "metadata": {
  "kernelspec": {
   "display_name": "Python 3",
   "language": "python",
   "name": "python3"
  },
  "language_info": {
   "codemirror_mode": {
    "name": "ipython",
    "version": 3
   },
   "file_extension": ".py",
   "mimetype": "text/x-python",
   "name": "python",
   "nbconvert_exporter": "python",
   "pygments_lexer": "ipython3",
   "version": "3.9.7"
  }
 },
 "nbformat": 4,
 "nbformat_minor": 5
}
