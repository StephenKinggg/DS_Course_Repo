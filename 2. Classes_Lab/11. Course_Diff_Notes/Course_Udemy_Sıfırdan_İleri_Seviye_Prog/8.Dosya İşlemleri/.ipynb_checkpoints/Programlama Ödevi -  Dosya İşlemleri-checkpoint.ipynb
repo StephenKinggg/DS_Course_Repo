{
 "cells": [
  {
   "cell_type": "markdown",
   "metadata": {},
   "source": [
    "## Programlama Ödevi -  Dosya İşlemleri\n",
    "\n",
    "### Proje 1 \n",
    "\n",
    "Kodlama egzersizimizde bir sınıfın harf notlarını hesapladığımız programı geliştirerek kalanları \"kalanlar.txt\" dosyasında ve geçenleri \"geçenler.txt\" dosyasına yazmaya çalışın.\n"
   ]
  },
  {
   "cell_type": "code",
   "execution_count": null,
   "metadata": {},
   "outputs": [],
   "source": [
    "def notecalculator(row):\n",
    "    row=row[:-1]  # bunun ile satır sonundaki \\n almadan tüm satırı getirmiş olduk.\n",
    "    \n",
    "    liste=row.split(\",\")  # virgülden ayırarak her bir elemanı list içine attık.\n",
    "    \n",
    "    isim =liste[0]\n",
    "    note1 = int(liste[1])\n",
    "    note2 = int(liste[2])\n",
    "    note3 = int(liste[3])\n",
    "    son_note = note1*0.3 + note2*0.3 + note3*0.4\n",
    "    \n",
    "    if (son_note>=90):\n",
    "        harf=\"AA\"\n",
    "    elif (son_note>=85):\n",
    "        harf=\"BA\"\n",
    "    elif (son_note>=80):\n",
    "        harf=\"BB\"\n",
    "    elif (son_note>=75):\n",
    "        harf=\"CB\"\n",
    "    elif (son_note>=70):\n",
    "        harf=\"CC\"\n",
    "    elif (son_note>=65):\n",
    "        harf=\"DC\"\n",
    "    elif (son_note>=60):\n",
    "        harf=\"DD\"\n",
    "    elif (son_note>=55):\n",
    "        harf=\"FD\"\n",
    "    else:\n",
    "        harf=\"FF\"\n",
    "    return isim + \"----------->\" + harf +\"\\n\"\n",
    "# dosya okuma maksatlı açtık ve yeni bir boş liste oluşturduk. her bir satırı okuyunca bu listeye atacak.\n",
    "with open(\"dosya.txt\", \"r\", encoding=\"utf-8\") as file:\n",
    "    \n",
    "    eklenecekler_listesi =[]\n",
    "    \n",
    "    for row in file:\n",
    "        \n",
    "        eklenecekler_listesi.append(notecalculator(row))\n",
    "\n",
    "# daha sonra notlar isimli yeni bir dosya oluşturduk ve eklenecekler listesindeki her bir satırı buraya yazdık.\n",
    "    with open(\"notlar.txt\", \"w\", encoding=\"utf-8\") as file2:\n",
    "        for i in eklenecekler_listesi:\n",
    "            file2.write(i)"
   ]
  },
  {
   "cell_type": "markdown",
   "metadata": {},
   "source": [
    "### Proje 2\n",
    "\n",
    "\"futbolcular.txt\" şeklinde bir dosya oluşturun ve içine Galatasaray,Fenerbahçe ve Beşiktaşta oynayan futbolcuları rastgele yerleştirin. Bu dosyadan herbir takımın futbolcularını ayırarak \"gs.txt\" , \"fb.txt\", \"bjk.txt\" şeklinde 3 farklı dosyaya yazın. \n",
    "\n",
    "\"futbolcular.txt\" dosyasının başlangıç hali şu şekilde olsun.\n",
    "\n",
    "\n",
    "                    Fernando Muslera,Galatasaray\n",
    "                    Atiba Hutchinson,Beşiktaş\n",
    "                    Simon Kjaer,Fenerbahçe\n",
    "                               //\n",
    "                               //\n",
    "                               //\n",
    "                               //\n",
    "                               //\n"
   ]
  },
  {
   "cell_type": "code",
   "execution_count": 1,
   "metadata": {
    "tags": []
   },
   "outputs": [],
   "source": [
    "with open(\"futbolcular.txt\", \"r\", encoding=\"utf-8\") as file:\n",
    "    gs = list()\n",
    "    bjk = list()\n",
    "    fb = list()\n",
    "    \n",
    "    for satır in file:\n",
    "        satır = satır[:-1]\n",
    "        satır_elemanları = satır.split(\",\")\n",
    "        \n",
    "        if (satır_elemanları[1] == \"Fenerbahçe\"):\n",
    "            fb.append(satır + \"\\n\")\n",
    "            \n",
    "        elif (satır_elemanları[1] == \"Galatasaray\"):\n",
    "            gs.append(satır + \"\\n\")\n",
    "\n",
    "        else:\n",
    "            bjk.append(satır + \"\\n\")\n",
    "\n",
    "    with open(\"gs.txt\", \"w\", encoding=\"utf-8\") as file1:\n",
    "        for i in gs:\n",
    "            file1.write(i)        \n",
    "\n",
    "    with open(\"fb.txt\",\"w\",encoding=\"utf-8\") as file2:\n",
    "        for i in fb:\n",
    "            file2.write(i)\n",
    "            \n",
    "    with open(\"bjk.txt\",\"w\",encoding=\"utf-8\") as file3:\n",
    "        for i in bjk:\n",
    "            file3.write(i)\n"
   ]
  }
 ],
 "metadata": {
  "kernelspec": {
   "display_name": "Python 3",
   "language": "python",
   "name": "python3"
  },
  "language_info": {
   "codemirror_mode": {
    "name": "ipython",
    "version": 3
   },
   "file_extension": ".py",
   "mimetype": "text/x-python",
   "name": "python",
   "nbconvert_exporter": "python",
   "pygments_lexer": "ipython3",
   "version": "3.9.7"
  }
 },
 "nbformat": 4,
 "nbformat_minor": 4
}
