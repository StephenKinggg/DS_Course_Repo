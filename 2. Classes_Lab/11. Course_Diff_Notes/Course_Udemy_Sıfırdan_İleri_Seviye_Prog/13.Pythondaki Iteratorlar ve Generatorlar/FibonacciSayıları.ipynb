{
 "cells": [
  {
   "cell_type": "code",
   "execution_count": 1,
   "id": "a0f06e5f-82b5-456f-93d0-2c2258a4ed5a",
   "metadata": {},
   "outputs": [
    {
     "name": "stdout",
     "output_type": "stream",
     "text": [
      "1\n",
      "1\n",
      "2\n",
      "3\n",
      "5\n",
      "8\n",
      "13\n",
      "21\n",
      "34\n",
      "55\n",
      "89\n",
      "144\n",
      "233\n",
      "377\n",
      "610\n",
      "987\n",
      "1597\n",
      "2584\n",
      "4181\n",
      "6765\n"
     ]
    }
   ],
   "source": [
    "def fibonacci():\n",
    "    \n",
    "    a= 1\n",
    "    b = 1\n",
    "    \n",
    "    yield a\n",
    "    yield b\n",
    "    \n",
    "    while True:  # bizden değer istenildiği sürece sonsuza kadar devam etmesi için bunu kullandık.\n",
    "        a,b = b, a+b\n",
    "        \n",
    "        yield b\n",
    "        \n",
    "for sayı in fibonacci():\n",
    "    if(sayı>10000):  # 10000 den sonra değer üretmesin istiyoruz.\n",
    "        break\n",
    "    print(sayı)\n",
    "        \n",
    "        "
   ]
  },
  {
   "cell_type": "code",
   "execution_count": null,
   "id": "071f6678-9ea9-4191-b975-d63ee0e94910",
   "metadata": {},
   "outputs": [],
   "source": []
  }
 ],
 "metadata": {
  "kernelspec": {
   "display_name": "Python 3 (ipykernel)",
   "language": "python",
   "name": "python3"
  },
  "language_info": {
   "codemirror_mode": {
    "name": "ipython",
    "version": 3
   },
   "file_extension": ".py",
   "mimetype": "text/x-python",
   "name": "python",
   "nbconvert_exporter": "python",
   "pygments_lexer": "ipython3",
   "version": "3.9.7"
  }
 },
 "nbformat": 4,
 "nbformat_minor": 5
}
