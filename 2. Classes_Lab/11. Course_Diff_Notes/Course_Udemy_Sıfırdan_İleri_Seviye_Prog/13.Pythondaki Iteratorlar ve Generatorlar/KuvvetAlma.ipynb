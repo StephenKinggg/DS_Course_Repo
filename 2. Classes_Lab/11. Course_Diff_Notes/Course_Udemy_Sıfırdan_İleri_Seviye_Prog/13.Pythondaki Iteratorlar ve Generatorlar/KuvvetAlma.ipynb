{
 "cells": [
  {
   "cell_type": "code",
   "execution_count": 11,
   "id": "44b4d335-624b-444e-8ac0-b99739f8c7fd",
   "metadata": {},
   "outputs": [
    {
     "name": "stdout",
     "output_type": "stream",
     "text": [
      "1\n"
     ]
    }
   ],
   "source": [
    "class Kuvvet3():\n",
    "    def __init__(self, max = 0):  # burada max 3 ün kaçıncı kuvvetini alacağımızı gösteriyor.\n",
    "\n",
    "        self.max = max\n",
    "        self.kuvvet = 0  # bir sonraki kuvvet için tanımladık.\n",
    "        \n",
    "    def __iter__(self):\n",
    "        \n",
    "        return self\n",
    "    \n",
    "    def __next__(self):\n",
    "        if self.kuvvet <= self.max:  # max ulaşmamışsam bir sonraki kuvveti almaya devam edeceğim.\n",
    "            sonuc= 3**self.kuvvet\n",
    "            \n",
    "            self.kuvvet +=1\n",
    "            \n",
    "            return sonuc\n",
    "        else:\n",
    "            raise StopIteration\n",
    "            \n",
    "kuvvet = Kuvvet3(6)\n",
    "iterator = iter(kuvvet)\n",
    "\n",
    "print(next(iterator))"
   ]
  },
  {
   "cell_type": "code",
   "execution_count": 12,
   "id": "f2f46e72-96e4-4d5c-8290-6d27b9182dc9",
   "metadata": {},
   "outputs": [
    {
     "name": "stdout",
     "output_type": "stream",
     "text": [
      "3\n"
     ]
    }
   ],
   "source": [
    "print(next(iterator))"
   ]
  },
  {
   "cell_type": "code",
   "execution_count": 13,
   "id": "c9fa3123-1af4-4faf-928f-1413abf82f2e",
   "metadata": {},
   "outputs": [
    {
     "name": "stdout",
     "output_type": "stream",
     "text": [
      "9\n"
     ]
    }
   ],
   "source": [
    "print(next(iterator))"
   ]
  },
  {
   "cell_type": "code",
   "execution_count": 14,
   "id": "b7532cfb-26a6-4d5e-9da9-b86f8ca1c359",
   "metadata": {},
   "outputs": [
    {
     "name": "stdout",
     "output_type": "stream",
     "text": [
      "27\n",
      "81\n",
      "243\n",
      "729\n"
     ]
    }
   ],
   "source": [
    "for i in kuvvet :  # for döngüsü ile kalan değerler için iterasyon yaptık.\n",
    "    print(i)"
   ]
  },
  {
   "cell_type": "code",
   "execution_count": 15,
   "id": "43f32515-d588-4405-a641-ac83349f9940",
   "metadata": {},
   "outputs": [],
   "source": [
    "for i in kuvvet :  # bir sonuç döndürmedi.\n",
    "    print(i)"
   ]
  },
  {
   "cell_type": "code",
   "execution_count": 17,
   "id": "0c28d7c5-3897-432d-bc97-d2f65f51698b",
   "metadata": {},
   "outputs": [
    {
     "name": "stdout",
     "output_type": "stream",
     "text": [
      "1\n",
      "3\n",
      "9\n",
      "27\n",
      "81\n",
      "243\n",
      "729\n",
      "1\n",
      "3\n",
      "9\n",
      "27\n",
      "81\n",
      "243\n",
      "729\n"
     ]
    }
   ],
   "source": [
    "class Kuvvet3():\n",
    "    def __init__(self, max = 0):  # burada max 3 ün kaçıncı kuvvetini alacağımızı gösteriyor.\n",
    "\n",
    "        self.max = max\n",
    "        self.kuvvet = 0  # bir sonraki kuvvet için tanımladık.\n",
    "        \n",
    "    def __iter__(self):\n",
    "        \n",
    "        return self\n",
    "    \n",
    "    def __next__(self):\n",
    "        if self.kuvvet <= self.max:  # max ulaşmamışsam bir sonraki kuvveti almaya devam edeceğim.\n",
    "            sonuc= 3**self.kuvvet\n",
    "            \n",
    "            self.kuvvet +=1\n",
    "            \n",
    "            return sonuc\n",
    "        else:\n",
    "            self.kuvvet = 0  # bunu yazarak yukarıdaki ikinci for için değer döndürmemesi sorununu çözmüş olduk.\n",
    "            raise StopIteration\n",
    "            \n",
    "kuvvet = Kuvvet3(6)\n",
    "for i in kuvvet :  \n",
    "    print(i)\n",
    "    \n",
    "for j in kuvvet :  # bu for döngüsü içinde sonuç döndürdüğünü gördük.\n",
    "    print(j)"
   ]
  },
  {
   "cell_type": "code",
   "execution_count": null,
   "id": "b1b42198-6b98-4d44-90da-444bb39b0f4a",
   "metadata": {},
   "outputs": [],
   "source": []
  }
 ],
 "metadata": {
  "kernelspec": {
   "display_name": "Python 3 (ipykernel)",
   "language": "python",
   "name": "python3"
  },
  "language_info": {
   "codemirror_mode": {
    "name": "ipython",
    "version": 3
   },
   "file_extension": ".py",
   "mimetype": "text/x-python",
   "name": "python",
   "nbconvert_exporter": "python",
   "pygments_lexer": "ipython3",
   "version": "3.9.7"
  }
 },
 "nbformat": 4,
 "nbformat_minor": 5
}
