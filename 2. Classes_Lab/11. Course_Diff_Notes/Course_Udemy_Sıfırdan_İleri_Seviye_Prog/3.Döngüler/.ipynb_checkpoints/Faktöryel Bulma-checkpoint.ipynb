{
 "cells": [
  {
   "cell_type": "code",
   "execution_count": null,
   "id": "945a33e6-f27c-4083-af6e-7d777ccc747b",
   "metadata": {},
   "outputs": [
    {
     "name": "stdin",
     "output_type": "stream",
     "text": [
      "Bir sayı giriniz: 5\n"
     ]
    },
    {
     "name": "stdout",
     "output_type": "stream",
     "text": [
      "girdiğiniz sayının faktöryel işlemi sonucu:24\n"
     ]
    },
    {
     "name": "stdin",
     "output_type": "stream",
     "text": [
      "Bir sayı giriniz: 6\n"
     ]
    },
    {
     "name": "stdout",
     "output_type": "stream",
     "text": [
      "girdiğiniz sayının faktöryel işlemi sonucu:120\n"
     ]
    },
    {
     "name": "stdin",
     "output_type": "stream",
     "text": [
      "Bir sayı giriniz: 7\n"
     ]
    },
    {
     "name": "stdout",
     "output_type": "stream",
     "text": [
      "girdiğiniz sayının faktöryel işlemi sonucu:720\n"
     ]
    },
    {
     "name": "stdin",
     "output_type": "stream",
     "text": [
      "Bir sayı giriniz: 8\n"
     ]
    },
    {
     "name": "stdout",
     "output_type": "stream",
     "text": [
      "girdiğiniz sayının faktöryel işlemi sonucu:5040\n"
     ]
    }
   ],
   "source": [
    "\"\"\"\n",
    "*******************\n",
    "Faktoriyel Bulma Programı\n",
    "\n",
    "Programdan çıkmak için 'q' ya basın.\n",
    "*******************\n",
    "\"\"\"\n",
    "\n",
    "while True:\n",
    "    sayı=input(\"Bir sayı giriniz:\")\n",
    "    if sayı==\"q\":\n",
    "        print(\"Hoşçakalın.\")\n",
    "        break\n",
    "    \n",
    "    sayı = int(sayı)\n",
    "    faktöryel = 1\n",
    "    for i in range(2, sayı):\n",
    "        faktöryel *= i\n",
    "    print(\"girdiğiniz sayının faktöryel işlemi sonucu:{}\".format(faktöryel))"
   ]
  },
  {
   "cell_type": "code",
   "execution_count": null,
   "id": "24ba2269-924b-475c-ba57-c91f2e1c3517",
   "metadata": {},
   "outputs": [],
   "source": []
  }
 ],
 "metadata": {
  "kernelspec": {
   "display_name": "Python 3",
   "language": "python",
   "name": "python3"
  },
  "language_info": {
   "codemirror_mode": {
    "name": "ipython",
    "version": 3
   },
   "file_extension": ".py",
   "mimetype": "text/x-python",
   "name": "python",
   "nbconvert_exporter": "python",
   "pygments_lexer": "ipython3",
   "version": "3.9.7"
  }
 },
 "nbformat": 4,
 "nbformat_minor": 5
}
