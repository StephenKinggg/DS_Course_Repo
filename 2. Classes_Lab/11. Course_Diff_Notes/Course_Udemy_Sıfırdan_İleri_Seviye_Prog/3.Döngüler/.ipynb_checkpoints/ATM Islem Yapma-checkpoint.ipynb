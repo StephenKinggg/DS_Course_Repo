{
 "cells": [
  {
   "cell_type": "code",
   "execution_count": null,
   "id": "64717881-d5d6-4906-baf5-b886cd16c53f",
   "metadata": {},
   "outputs": [
    {
     "name": "stdin",
     "output_type": "stream",
     "text": [
      "Yapmak istediğiniz işlemi giriniz : 1\n"
     ]
    },
    {
     "name": "stdout",
     "output_type": "stream",
     "text": [
      "Bakiyeniz 1000 Tl'dir.\n"
     ]
    },
    {
     "name": "stdin",
     "output_type": "stream",
     "text": [
      "Yapmak istediğiniz işlemi giriniz : 2\n",
      "Yatırmak istediğiniz tutarı giriniz: 500\n",
      "Yapmak istediğiniz işlemi giriniz : 2\n",
      "Yatırmak istediğiniz tutarı giriniz: 1000\n",
      "Yapmak istediğiniz işlemi giriniz : 1\n"
     ]
    },
    {
     "name": "stdout",
     "output_type": "stream",
     "text": [
      "Bakiyeniz 2500 Tl'dir.\n"
     ]
    },
    {
     "name": "stdin",
     "output_type": "stream",
     "text": [
      "Yapmak istediğiniz işlemi giriniz : 3\n",
      "Cekmek istediğiniz tutarı giriniz: 1750\n",
      "Yapmak istediğiniz işlemi giriniz : 1\n"
     ]
    },
    {
     "name": "stdout",
     "output_type": "stream",
     "text": [
      "Bakiyeniz 750 Tl'dir.\n"
     ]
    },
    {
     "name": "stdin",
     "output_type": "stream",
     "text": [
      "Yapmak istediğiniz işlemi giriniz : 3\n",
      "Cekmek istediğiniz tutarı giriniz: 600\n",
      "Yapmak istediğiniz işlemi giriniz : 1\n"
     ]
    },
    {
     "name": "stdout",
     "output_type": "stream",
     "text": [
      "Bakiyeniz 150 Tl'dir.\n"
     ]
    },
    {
     "name": "stdin",
     "output_type": "stream",
     "text": [
      "Yapmak istediğiniz işlemi giriniz : 3\n",
      "Cekmek istediğiniz tutarı giriniz: 200\n"
     ]
    },
    {
     "name": "stdout",
     "output_type": "stream",
     "text": [
      "Çekilebilecek limiti aştınız.\n",
      "Bakiyeniz 150 Tl'dir.\n"
     ]
    }
   ],
   "source": [
    "'''\n",
    "**********ATM işlem yapma**********\n",
    "\n",
    "İşlemler:\n",
    "\n",
    "1. Bakiye Sorgulama\n",
    "2. Para Yatırma\n",
    "3. Para Çekme\n",
    "\n",
    "Programdan 'q' tuşu ile çıkabilirsiniz.\n",
    "\n",
    "'''\n",
    "\n",
    "bakiye = 1000\n",
    "\n",
    "while True:\n",
    "    islem=input(\"Yapmak istediğiniz işlemi giriniz :\")\n",
    "    \n",
    "    if (islem==\"q\"):\n",
    "        print(\"Hoşçakalın.\")\n",
    "        break\n",
    "        \n",
    "    elif (islem==\"1\"):\n",
    "        print(\"Bakiyeniz {} Tl'dir.\".format(bakiye))\n",
    "            \n",
    "    elif (islem==\"2\"):\n",
    "        yatırılan=int(input(\"Yatırmak istediğiniz tutarı giriniz:\"))\n",
    "        bakiye += yatırılan\n",
    "        \n",
    "    elif (islem==\"3\"):\n",
    "        cekilen = int(input(\"Cekmek istediğiniz tutarı giriniz:\"))\n",
    "        \n",
    "        if (bakiye-cekilen<0):\n",
    "            print(\"Bakiyeniz yetersiz.\")\n",
    "            print(\"Bakiyeniz {} Tl'dir.\".format(bakiye))\n",
    "            continue\n",
    "        bakiye-=cekilen\n",
    "        \n",
    "    else:\n",
    "        print(\"Lütfen yapılacak işlemi giriniz.\")"
   ]
  },
  {
   "cell_type": "code",
   "execution_count": null,
   "id": "293949ac-1a74-4ea9-8d22-8f2555c798ce",
   "metadata": {},
   "outputs": [],
   "source": []
  }
 ],
 "metadata": {
  "kernelspec": {
   "display_name": "Python 3",
   "language": "python",
   "name": "python3"
  },
  "language_info": {
   "codemirror_mode": {
    "name": "ipython",
    "version": 3
   },
   "file_extension": ".py",
   "mimetype": "text/x-python",
   "name": "python",
   "nbconvert_exporter": "python",
   "pygments_lexer": "ipython3",
   "version": "3.9.7"
  }
 },
 "nbformat": 4,
 "nbformat_minor": 5
}
