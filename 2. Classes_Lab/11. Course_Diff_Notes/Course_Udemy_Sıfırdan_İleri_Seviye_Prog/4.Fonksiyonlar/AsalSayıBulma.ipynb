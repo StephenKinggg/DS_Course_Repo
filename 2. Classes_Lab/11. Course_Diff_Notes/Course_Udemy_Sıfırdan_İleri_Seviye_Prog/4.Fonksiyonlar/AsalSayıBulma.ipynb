{
 "cells": [
  {
   "cell_type": "code",
   "execution_count": null,
   "id": "bac0f2d8-6e25-44be-9ea7-a4293b7ab002",
   "metadata": {},
   "outputs": [
    {
     "name": "stdin",
     "output_type": "stream",
     "text": [
      "Sayı: 10\n"
     ]
    },
    {
     "name": "stdout",
     "output_type": "stream",
     "text": [
      "10 asal bir sayı değildir.\n"
     ]
    },
    {
     "name": "stdin",
     "output_type": "stream",
     "text": [
      "Sayı: 15\n"
     ]
    },
    {
     "name": "stdout",
     "output_type": "stream",
     "text": [
      "15 asal bir sayı değildir.\n"
     ]
    },
    {
     "name": "stdin",
     "output_type": "stream",
     "text": [
      "Sayı: 25\n"
     ]
    },
    {
     "name": "stdout",
     "output_type": "stream",
     "text": [
      "25 asal bir sayı değildir.\n"
     ]
    },
    {
     "name": "stdin",
     "output_type": "stream",
     "text": [
      "Sayı: 13\n"
     ]
    },
    {
     "name": "stdout",
     "output_type": "stream",
     "text": [
      " 13 asal bir sayıdır.\n"
     ]
    }
   ],
   "source": [
    "\"\"\"\n",
    "\n",
    "Asal Sayılar : 1'e ve kendisinden başka sayıya bölünmeyen sayılardır.\n",
    "\n",
    "\"\"\"\n",
    "def asalmı(sayı):\n",
    "    if (sayı == 1):\n",
    "        return False\n",
    "\n",
    "    elif (sayı == 2):\n",
    "        return True\n",
    "\n",
    "    else:\n",
    "        for i in range(2, sayı):\n",
    "            if (sayı % i == 0):\n",
    "                return False\n",
    "        return True\n",
    "\n",
    "while True:\n",
    "    sayı = input(\"Sayı:\")\n",
    "\n",
    "    if (sayı == \"q\"):\n",
    "        break\n",
    "    else:\n",
    "        sayı = int(sayı)\n",
    "\n",
    "        if (asalmı(sayı)):\n",
    "            print(\" {} asal bir sayıdır.\".format(sayı))\n",
    "        else:\n",
    "            print(sayı,\"asal bir sayı değildir.\")"
   ]
  },
  {
   "cell_type": "code",
   "execution_count": null,
   "id": "c17fa1e0-ad0f-4cba-987d-671a088f5328",
   "metadata": {},
   "outputs": [],
   "source": []
  }
 ],
 "metadata": {
  "kernelspec": {
   "display_name": "Python 3",
   "language": "python",
   "name": "python3"
  },
  "language_info": {
   "codemirror_mode": {
    "name": "ipython",
    "version": 3
   },
   "file_extension": ".py",
   "mimetype": "text/x-python",
   "name": "python",
   "nbconvert_exporter": "python",
   "pygments_lexer": "ipython3",
   "version": "3.9.7"
  }
 },
 "nbformat": 4,
 "nbformat_minor": 5
}
