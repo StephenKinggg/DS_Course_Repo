{
 "cells": [
  {
   "cell_type": "code",
   "execution_count": null,
   "id": "b2f783bb-10c7-4136-bd92-dbe5f16411f1",
   "metadata": {},
   "outputs": [
    {
     "name": "stdin",
     "output_type": "stream",
     "text": [
      "Sayı: 50\n"
     ]
    },
    {
     "name": "stdout",
     "output_type": "stream",
     "text": [
      "Tam bölenler: [2, 5, 10, 25]\n"
     ]
    },
    {
     "name": "stdin",
     "output_type": "stream",
     "text": [
      "Sayı: 100\n"
     ]
    },
    {
     "name": "stdout",
     "output_type": "stream",
     "text": [
      "Tam bölenler: [2, 4, 5, 10, 20, 25, 50]\n"
     ]
    },
    {
     "name": "stdin",
     "output_type": "stream",
     "text": [
      "Sayı: 1000\n"
     ]
    },
    {
     "name": "stdout",
     "output_type": "stream",
     "text": [
      "Tam bölenler: [2, 4, 5, 8, 10, 20, 25, 40, 50, 100, 125, 200, 250, 500]\n"
     ]
    }
   ],
   "source": [
    "def tambolenleribulma(sayı):\n",
    "    tam_bolenler = []\n",
    "\n",
    "    for i in range(2,sayı):\n",
    "\n",
    "        if (sayı % i == 0):\n",
    "            tam_bolenler.append(i)\n",
    "    return tam_bolenler\n",
    "\n",
    "while True:\n",
    "\n",
    "    sayı = input(\"Sayı:\")\n",
    "\n",
    "    if (sayı == \"q\"):\n",
    "        print(\"Program Sonlandırılıyor\")\n",
    "        break\n",
    "    else:\n",
    "        sayı = int(sayı)\n",
    "\n",
    "        print(\"Tam bölenler:\", tambolenleribulma(sayı))"
   ]
  },
  {
   "cell_type": "code",
   "execution_count": null,
   "id": "6ca18419-011b-4595-8b8d-e95ea322dec4",
   "metadata": {},
   "outputs": [],
   "source": []
  }
 ],
 "metadata": {
  "kernelspec": {
   "display_name": "Python 3",
   "language": "python",
   "name": "python3"
  },
  "language_info": {
   "codemirror_mode": {
    "name": "ipython",
    "version": 3
   },
   "file_extension": ".py",
   "mimetype": "text/x-python",
   "name": "python",
   "nbconvert_exporter": "python",
   "pygments_lexer": "ipython3",
   "version": "3.9.7"
  }
 },
 "nbformat": 4,
 "nbformat_minor": 5
}
