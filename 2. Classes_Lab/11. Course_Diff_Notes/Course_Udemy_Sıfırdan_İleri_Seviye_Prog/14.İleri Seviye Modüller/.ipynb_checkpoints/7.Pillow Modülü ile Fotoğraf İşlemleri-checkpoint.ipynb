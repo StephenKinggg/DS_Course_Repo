{
 "cells": [
  {
   "cell_type": "markdown",
   "metadata": {},
   "source": [
    "# Pillow Modülü ile Fotoğraf İşlemleri\n",
    "\n",
    "Bu derste Pillow  kullanarak fotoğraf ve resim işlemlerini gerçekleştireceğiz. Bunun için ilk olarak Pillow'u internet üzerinden indirelim.\n",
    "\n",
    "\n",
    "### Windows Üzerinde Kurulum\n",
    "\n",
    "Bu komutu cmd üzerinde çalıştırırsak Pillow modülü sistemimize kurulacaktır.\n",
    "\n",
    " ***pip3 install Pillow*** \n",
    "\n",
    "### Ubuntu Üzerinde Kurulum\n",
    "\n",
    "Bu komutu terminal üzerinde çalıştırırsak Pillow modülü sistemimize kurulacaktır.\n",
    "\n",
    "***pip3 install Pillow***"
   ]
  },
  {
   "cell_type": "markdown",
   "metadata": {},
   "source": [
    "Pillow , çok kapsamlı modüllerden oluştuğu için burada sadece belli fonksiyonlarını göstermeye çalışacağım. Ancak siz Pillow'u incelemek isterseniz resmi dokümantasyonuna bakabilirsiniz.\n",
    "\n",
    "https://pillow.readthedocs.io/en/4.2.x/handbook/tutorial.html\n",
    "\n",
    "Şimdi dersimize geçelim ve Pillow'u kullanmaya çalışalım.\n"
   ]
  },
  {
   "cell_type": "code",
   "execution_count": 1,
   "metadata": {
    "tags": []
   },
   "outputs": [
    {
     "name": "stdout",
     "output_type": "stream",
     "text": [
      "Requirement already satisfied: Pillow in c:\\users\\hp\\anaconda3\\lib\\site-packages (8.4.0)\n"
     ]
    }
   ],
   "source": [
    "!pip3 install Pillow"
   ]
  },
  {
   "cell_type": "code",
   "execution_count": 12,
   "metadata": {},
   "outputs": [],
   "source": [
    "from PIL import Image, ImageFilter"
   ]
  },
  {
   "cell_type": "code",
   "execution_count": 3,
   "metadata": {},
   "outputs": [],
   "source": [
    "image=Image.open(\"kuş.jpg\")"
   ]
  },
  {
   "cell_type": "code",
   "execution_count": 7,
   "metadata": {},
   "outputs": [],
   "source": [
    "image.show()"
   ]
  },
  {
   "cell_type": "code",
   "execution_count": 5,
   "metadata": {},
   "outputs": [],
   "source": [
    "image.save(\"kuş2.jpg\")"
   ]
  },
  {
   "cell_type": "code",
   "execution_count": 6,
   "metadata": {},
   "outputs": [],
   "source": [
    "image.rotate(180).save(\"kuş3.jpg\")  # resmi 180 derece döndürdük."
   ]
  },
  {
   "cell_type": "code",
   "execution_count": 8,
   "metadata": {},
   "outputs": [],
   "source": [
    "image.rotate(90).save(\"kuş4.jpg\")  # resmi 90 derece döndürdük."
   ]
  },
  {
   "cell_type": "code",
   "execution_count": 9,
   "metadata": {},
   "outputs": [],
   "source": [
    "image.convert(mode = \"L\").save(\"kuş5.jpg\")  # resmi siyah beyaza çevirdik."
   ]
  },
  {
   "cell_type": "code",
   "execution_count": 10,
   "metadata": {},
   "outputs": [],
   "source": [
    "degistir = (960,600)  # boyutlarını değiştirdik. \n",
    "\n",
    "image.thumbnail(degistir)\n",
    "\n",
    "image.save(\"kuş6.jpg\")"
   ]
  },
  {
   "cell_type": "code",
   "execution_count": 13,
   "metadata": {},
   "outputs": [],
   "source": [
    "image.filter(ImageFilter.GaussianBlur(10)).save(\"kuş7.jpg\")  # resmi flu hale getirdik."
   ]
  },
  {
   "cell_type": "code",
   "execution_count": 15,
   "metadata": {},
   "outputs": [],
   "source": [
    "kırpılacak_alan = (350,0,900,600)  # bu değerleri photoscape progroma ile bulduk.\n",
    "\n",
    "image2 = Image.open(\"atatürk.jpg\")\n",
    "\n",
    "image2.crop(kırpılacak_alan).save(\"atatürk2.jpg\")"
   ]
  },
  {
   "cell_type": "code",
   "execution_count": null,
   "metadata": {},
   "outputs": [],
   "source": []
  }
 ],
 "metadata": {
  "kernelspec": {
   "display_name": "Python 3",
   "language": "python",
   "name": "python3"
  },
  "language_info": {
   "codemirror_mode": {
    "name": "ipython",
    "version": 3
   },
   "file_extension": ".py",
   "mimetype": "text/x-python",
   "name": "python",
   "nbconvert_exporter": "python",
   "pygments_lexer": "ipython3",
   "version": "3.9.7"
  }
 },
 "nbformat": 4,
 "nbformat_minor": 4
}
