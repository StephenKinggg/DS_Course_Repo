{
 "cells": [
  {
   "cell_type": "markdown",
   "metadata": {},
   "source": [
    "# sys Modülü\n",
    "\n",
    "sys modülü bizim sistemimizde kurulu olan Python sürümünü yönettiğimiz standard bir modüldür. Bu modülü kullanarak Python sistemine özgü fonksiyonları ve özellikleri kullanabiliriz. Burada bu modülün sadece en gerekli olan özelliklerinden bahsedeceğiz.\n",
    "\n",
    "***Buradaki fonksiyonları videoda kullanmaya çalışacağız.***\n",
    "\n",
    "\n",
    "### sys.exit() fonksiyonu\n",
    "\n",
    "Bu fonksiyon çalışan Python programımızı sonlandırır.\n"
   ]
  },
  {
   "cell_type": "code",
   "execution_count": 1,
   "metadata": {},
   "outputs": [],
   "source": [
    "import sys"
   ]
  },
  {
   "cell_type": "code",
   "execution_count": 2,
   "metadata": {
    "tags": []
   },
   "outputs": [
    {
     "name": "stdin",
     "output_type": "stream",
     "text": [
      "a: 12\n",
      "b: 12\n"
     ]
    },
    {
     "ename": "SystemExit",
     "evalue": "",
     "output_type": "error",
     "traceback": [
      "An exception has occurred, use %tb to see the full traceback.\n",
      "\u001b[1;31mSystemExit\u001b[0m\n"
     ]
    },
    {
     "name": "stderr",
     "output_type": "stream",
     "text": [
      "C:\\Users\\HP\\anaconda3\\lib\\site-packages\\IPython\\core\\interactiveshell.py:3452: UserWarning: To exit: use 'exit', 'quit', or Ctrl-D.\n",
      "  warn(\"To exit: use 'exit', 'quit', or Ctrl-D.\", stacklevel=1)\n"
     ]
    }
   ],
   "source": [
    "a = input(\"a:\")\n",
    "b = input(\"b:\")\n",
    "\n",
    "sys.exit()\n",
    "\n",
    "c = input(\"c:\")"
   ]
  },
  {
   "cell_type": "markdown",
   "metadata": {},
   "source": [
    "### stderr ve stdout\n",
    "\n",
    "Bilgisayarlar uygulamalarımız ve işlemlerimiz çalıştığı zaman çıktı vermek ve girdi almak için şu dosyaları kullanır.\n",
    "\n",
    "***stdin*** :  Bu standard dosya, işlemimizin (process ) kullanıcıdan input almasını sağlar.  \n",
    "\n",
    "***stdout*** : Bu standard dosya, işlemimizin (process ) çıktı vermesini sağlar.\n",
    "\n",
    "***stderr***  : Bu standard dosya, işlemimizin hata mesajlarını çıktı olarak vermek için kullanılır.\n",
    "\n",
    "Biz print() fonksiyonumuzu kullandığımızda aslında standard olarak ***stdout*** kullanılmaktadır. Ancak biz istersek ***stderr'e de ** bir şeyler yazabiliriz."
   ]
  },
  {
   "cell_type": "code",
   "execution_count": 3,
   "metadata": {},
   "outputs": [
    {
     "name": "stderr",
     "output_type": "stream",
     "text": [
      "Burası bir hata mesajı\n"
     ]
    },
    {
     "name": "stdout",
     "output_type": "stream",
     "text": [
      "Burası normal çıktımız\n"
     ]
    }
   ],
   "source": [
    "sys.stderr.write(\"Burası bir hata mesajı\\n\")\n",
    "\n",
    "sys.stderr.flush() # Buffer'ı hemen yaz. \n",
    "\n",
    "sys.stdout.write(\"Burası normal çıktımız\\n\")"
   ]
  },
  {
   "cell_type": "markdown",
   "metadata": {},
   "source": [
    "### sys.argv\n",
    "\n",
    "***sys.argv*** Python programlarını komut satırlarından çalıştırdığımızda yanına verdiğimiz argümanları taşıyan bir listedir. \n",
    "\n",
    "*sys.argv , videomuzda anlatılıyor. *\n",
    "\n"
   ]
  },
  {
   "cell_type": "code",
   "execution_count": 4,
   "metadata": {
    "tags": []
   },
   "outputs": [
    {
     "name": "stdout",
     "output_type": "stream",
     "text": [
      "['C:\\\\Users\\\\HP\\\\anaconda3\\\\lib\\\\site-packages\\\\ipykernel_launcher.py', '-f', 'C:\\\\Users\\\\HP\\\\AppData\\\\Roaming\\\\jupyter\\\\runtime\\\\kernel-d95dd915-2b2f-41fc-a05e-633b05f5b858.json']\n"
     ]
    }
   ],
   "source": [
    "print(sys.argv)"
   ]
  },
  {
   "cell_type": "code",
   "execution_count": 6,
   "metadata": {},
   "outputs": [
    {
     "name": "stdout",
     "output_type": "stream",
     "text": [
      "C:\\Users\\HP\\anaconda3\\lib\\site-packages\\ipykernel_launcher.py\n",
      "-f\n",
      "C:\\Users\\HP\\AppData\\Roaming\\jupyter\\runtime\\kernel-d95dd915-2b2f-41fc-a05e-633b05f5b858.json\n"
     ]
    }
   ],
   "source": [
    "for i in sys.argv:\n",
    "    print(i)"
   ]
  },
  {
   "cell_type": "code",
   "execution_count": 8,
   "metadata": {},
   "outputs": [],
   "source": [
    "def kokbulma(a,b,c):\n",
    "    delta = b**2 -4*a*c    # ∆=b²-4ac\n",
    "\"\"\"\"\n",
    "∆<0 ise denklemin reel kökü yoktur, boşuna arama.\n",
    "∆=0 ise denklem tam kare ifadedir. İki tane birbirine eşit kök vardır.\n",
    "∆>0 ise denklemin iki farklı reel kökü vardır.\n",
    "\n",
    "\"\"\"\n",
    "    if (delta<0):\n",
    "        print(\"Reel kök yok.\")\n",
    "\n",
    "# x1,2 =-b±√∆/2a\n",
    "       \n",
    "    else:\n",
    "        x1 = (-b-delta**0.5)/(2*a)\n",
    "        x2 = (-b+delta**0.5)/(2*a)\n",
    "        return(x1,x2)"
   ]
  },
  {
   "cell_type": "code",
   "execution_count": 9,
   "metadata": {},
   "outputs": [
    {
     "name": "stderr",
     "output_type": "stream",
     "text": [
      "Lütfen doğru değerler giriniz."
     ]
    }
   ],
   "source": [
    "if len(sys.argv)== 4:  # dosyamızın boyunun 4 olması gerekir yoksa hata verir. Çünkü bir func ismi 3 tane parametre.\n",
    "    \n",
    "    print(\"Kök Bulma:\", kokbulma(int(sys.argv[1], sys.argv[2], sys.argv[3])))\n",
    "    \n",
    "else:\n",
    "    sys.stderr.write(\"Lütfen doğru değerler giriniz.\")\n",
    "    sys.stderr.flush()  # bunun ilede hatayı kırmızı olarak gösteriyor."
   ]
  },
  {
   "cell_type": "code",
   "execution_count": null,
   "metadata": {},
   "outputs": [],
   "source": []
  }
 ],
 "metadata": {
  "kernelspec": {
   "display_name": "Python 3",
   "language": "python",
   "name": "python3"
  },
  "language_info": {
   "codemirror_mode": {
    "name": "ipython",
    "version": 3
   },
   "file_extension": ".py",
   "mimetype": "text/x-python",
   "name": "python",
   "nbconvert_exporter": "python",
   "pygments_lexer": "ipython3",
   "version": "3.9.7"
  }
 },
 "nbformat": 4,
 "nbformat_minor": 4
}
