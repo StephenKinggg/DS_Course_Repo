{
 "cells": [
  {
   "cell_type": "markdown",
   "metadata": {},
   "source": [
    "# Requests ve Json ile Döviz Uygulaması\n",
    "\n",
    "Bu derste requests modülü ve json'ı beraber kullanarak bir tane döviz uygulaması yazmaya çalışacağız. Bunun için ***fixer.io*** sitesinden bilgilerimizi ***json objesi*** olarak alıp bu bilgilerle Dolar'ı Türk Lirasına çevirme gibi işlemlerimizi gerçekleştireceğiz.\n",
    "\n",
    "\n",
    "\n",
    "Şimdi ilk olarak ***json*** objelerine bakalım.\n",
    "\n",
    "\n",
    "***json objeleri*** Pythondaki ***sözlük*** objelerine oldukça benzer ve kullanılmaları aynı ***sözlükler*** gibidir. İsterseniz json objesinin yapısına bakalım.\n",
    "\n",
    "\n",
    "\n",
    "\n",
    "                {\n",
    "                \n",
    "                \"İsim\": \"Mustafa Murat\",\n",
    "                \n",
    "                \"Soyisim\": \"Coşkun\",\n",
    "                \n",
    "                \"Numara\" : 12345,\n",
    "                \n",
    "                \n",
    "                \"Özellikler\": {\n",
    "                                \"hobi\": \"Gitar Çalmak\",\n",
    "                                \n",
    "                                \"iş\" : \"Programlama Eğitmeni\"\n",
    "                            \n",
    "                              }\n",
    "                \n",
    "                \n",
    "                }\n",
    "                "
   ]
  },
  {
   "cell_type": "markdown",
   "metadata": {},
   "source": [
    "İşte burada gördüğümüz gibi bir json objesinin yapısı aynı sözlüklere benziyor. İsterseniz artık ***fixer.io*** sitesini inceleyerek döviz uygulamamızı yazalım.\n",
    "\n",
    "http://fixer.io/ \n",
    "\n",
    "*Bu saatten sonraki açıklamalar videoda anlatılmıştır.*\n",
    "\n",
    "\n",
    "Döviz Uygulaması Kodu:\n"
   ]
  },
  {
   "cell_type": "code",
   "execution_count": 6,
   "metadata": {},
   "outputs": [
    {
     "name": "stdin",
     "output_type": "stream",
     "text": [
      "Birinci Döviz: USD\n",
      "İkinci Döviz: TRY\n",
      "Miktar 1500\n"
     ]
    },
    {
     "name": "stdout",
     "output_type": "stream",
     "text": [
      "<Response [404]>\n"
     ]
    }
   ],
   "source": [
    "import requests\n",
    "\n",
    "\n",
    "url = \"http://api.fixer.io/latest?base=\"  # base kendimiz vereceğimizden dolayı boş bıraktık.\n",
    "\n",
    "birinci_doviz = input(\"Birinci Döviz:\")  \n",
    "\n",
    "ikinci_doviz = input(\"İkinci Döviz:\")\n",
    "\n",
    "miktar =  float(input(\"Miktar\"))\n",
    "\n",
    "\n",
    "response = requests.get(url + birinci_doviz)\n",
    "\n",
    "print(response)\n",
    "\n",
    "# sisteme kayıt olmadığımızdan dolayı <Response [404]> hatası veriyor. Sayfa bulunamadı."
   ]
  },
  {
   "cell_type": "code",
   "execution_count": 5,
   "metadata": {},
   "outputs": [
    {
     "name": "stdin",
     "output_type": "stream",
     "text": [
      "Birinci Döviz: USD\n",
      "İkinci Döviz: TRY\n",
      "Miktar 1500\n"
     ]
    },
    {
     "name": "stdout",
     "output_type": "stream",
     "text": [
      "Lütfen para birimlerini kontrol edin\n"
     ]
    }
   ],
   "source": [
    "import requests\n",
    "import sys\n",
    "\n",
    "url = \"http://api.fixer.io/latest?base=\"  # base kendimiz vereceğimizden dolayı boş bıraktık.\n",
    "\n",
    "birinci_doviz = input(\"Birinci Döviz:\")  \n",
    "\n",
    "ikinci_doviz = input(\"İkinci Döviz:\")\n",
    "\n",
    "miktar =  float(input(\"Miktar\"))\n",
    "\n",
    "\n",
    "response = requests.get(url + birinci_doviz)\n",
    "\n",
    "\n",
    "veri =  response.json()  # çektiğimiz veriyi json objesi haline gelmesini istiyoruz.\n",
    "\n",
    "try:\n",
    "    print(float(veri[\"rates\"][ikinci_doviz]) * miktar)\n",
    "    \n",
    "except KeyError:\n",
    "    sys.stderr.write(\"Lütfen para birimlerini kontrol edin\")\n",
    "    sys.stderr.flush()\n",
    "    # print(\"Lütfen para birimlerini kontrol edin\")"
   ]
  },
  {
   "cell_type": "raw",
   "metadata": {},
   "source": [
    "Bu site ücretli oldu. Ancak kısıtlı free hesap ile girebiliyor ve kısıtlı işlem yapabiliyoruz. \n",
    "http://data.fixer.io/api/latest?access_key=2f2aaa93772e250eb77330e29ef58c5e"
   ]
  },
  {
   "cell_type": "code",
   "execution_count": 8,
   "metadata": {},
   "outputs": [
    {
     "name": "stdin",
     "output_type": "stream",
     "text": [
      "Birinci Döviz: EUR\n",
      "İkinci Döviz: USD\n",
      "Miktar 100\n"
     ]
    },
    {
     "name": "stderr",
     "output_type": "stream",
     "text": [
      "Lütfen para birimlerini kontrol edin"
     ]
    }
   ],
   "source": [
    "import requests\n",
    "import sys\n",
    "\n",
    "url = \"http://data.fixer.io/api/latest?access_key=2f2aaa93772e250eb77330e29ef58c5e\"  # base kendimiz vereceğimizden dolayı boş bıraktık.\n",
    "\n",
    "birinci_doviz = input(\"Birinci Döviz:\")  \n",
    "\n",
    "ikinci_doviz = input(\"İkinci Döviz:\")\n",
    "\n",
    "miktar =  float(input(\"Miktar\"))\n",
    "\n",
    "\n",
    "response = requests.get(url + birinci_doviz)\n",
    "\n",
    "\n",
    "veri =  response.json()  # çektiğimiz veriyi json objesi haline gelmesini istiyoruz.\n",
    "\n",
    "try:\n",
    "    print(float(veri[\"rates\"][ikinci_doviz]) * miktar)\n",
    "    \n",
    "except KeyError:\n",
    "    sys.stderr.write(\"Lütfen para birimlerini kontrol edin\")\n",
    "    sys.stderr.flush()"
   ]
  },
  {
   "cell_type": "code",
   "execution_count": null,
   "metadata": {},
   "outputs": [],
   "source": []
  }
 ],
 "metadata": {
  "kernelspec": {
   "display_name": "Python 3",
   "language": "python",
   "name": "python3"
  },
  "language_info": {
   "codemirror_mode": {
    "name": "ipython",
    "version": 3
   },
   "file_extension": ".py",
   "mimetype": "text/x-python",
   "name": "python",
   "nbconvert_exporter": "python",
   "pygments_lexer": "ipython3",
   "version": "3.9.7"
  }
 },
 "nbformat": 4,
 "nbformat_minor": 4
}
