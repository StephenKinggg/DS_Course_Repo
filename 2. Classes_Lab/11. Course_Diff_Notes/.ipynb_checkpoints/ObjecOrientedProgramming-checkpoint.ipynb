{
 "cells": [
  {
   "cell_type": "code",
   "execution_count": 13,
   "id": "1878a94a-414e-41a9-9e26-9cacc02803dd",
   "metadata": {},
   "outputs": [
    {
     "name": "stdin",
     "output_type": "stream",
     "text": [
      "Bir cümle girin:  alinin cebinde ne var bilen varmı\n"
     ]
    },
    {
     "name": "stdout",
     "output_type": "stream",
     "text": [
      "alinin cebinde ne var bilen varmı cümle 12 sesli harf var.\n",
      "['a', 'i', 'i', 'e', 'i', 'e', 'e', 'a', 'i', 'e', 'a', 'ı']\n"
     ]
    }
   ],
   "source": [
    "sesli_harfler = 'aeıioöuü'\n",
    "sayaç = 0\n",
    "liste=[]\n",
    "\n",
    "kelime = input('Bir cümle girin: ')\n",
    "\n",
    "for harf in kelime:\n",
    "    if harf in sesli_harfler:\n",
    "        sayaç += 1\n",
    "        liste.append(harf)\n",
    "mesaj = '{} cümle {} sesli harf var.'\n",
    "print(mesaj.format(kelime, sayaç))\n",
    "print(liste)"
   ]
  },
  {
   "cell_type": "code",
   "execution_count": null,
   "id": "f2cc92e6-a667-4a08-bfbc-cd59667ff437",
   "metadata": {},
   "outputs": [],
   "source": [
    "sesli_harfler = 'aeıioöuü'\n",
    "sayaç = 0\n",
    "\n",
    "kelime = input('Bir kelime girin: ')\n",
    "\n",
    "for harf in kelime:\n",
    "    if harf in sesli_harfler:\n",
    "        sayaç += 1\n",
    "\n",
    "mesaj = '{} kelimesinde {} sesli harf var.'\n",
    "print(mesaj.format(kelime, sayaç))"
   ]
  },
  {
   "cell_type": "raw",
   "id": "3b8c3e00-c6bd-4e5f-b1e9-4f341d24b2cd",
   "metadata": {},
   "source": [
    "Mesela yukarıdaki örnekte sesli_harfler, sayaç,liste, kelime, harf, mesaj değişkenlerine kodlar içinde her yerden erişebiliriz. Yukarıdaki kodlara yeni kodlar ekledikçe programımız karmaşık hale gelecek, kodları anlamak zorlaşacaktır.\n",
    "\n",
    "Kod yapısını biraz olsun rahatlatmak için mesela kullanıcı tarafından girilen kelimedeki bir harfin sesli olup olmadığını denetleyen kodları bir fonksiyon içine alarak, o kısmı daha belirgin hale getirebiliriz:"
   ]
  },
  {
   "cell_type": "code",
   "execution_count": null,
   "id": "214e4892-a25c-4fa7-a2ff-00f0ad8ca456",
   "metadata": {},
   "outputs": [],
   "source": [
    "sesli_harfler = 'aeıioöuü'\n",
    "sayaç = 0\n",
    "\n",
    "kelime = input('Bir kelime girin: ')\n",
    "\n",
    "def seslidir(harf):   \n",
    "# bize bir harfin sesli olup olmadığını döndüren bir func. tanımladık ve bunu her yerde kullanabiliriz.\n",
    "# True veya False dönecek.\n",
    "    return harf in sesli_harfler\n",
    "\n",
    "for harf in kelime:\n",
    "    if seslidir(harf):\n",
    "        sayaç += 1\n",
    "\n",
    "mesaj = '{} kelimesinde {} sesli harf var.'\n",
    "print(mesaj.format(kelime, sayaç))"
   ]
  },
  {
   "cell_type": "raw",
   "id": "1036b3ce-4308-4ed0-82e2-45f75171b926",
   "metadata": {},
   "source": [
    "Eğer yukarıdaki kodları daha da genel amaçlı bir hale getirmek istersek, sayacı artıran kodları da bir fonksiyon içine almayı düşünebiliriz:"
   ]
  },
  {
   "cell_type": "code",
   "execution_count": null,
   "id": "67dd9d00-da8f-4831-a516-ef130ce52b41",
   "metadata": {},
   "outputs": [],
   "source": [
    "sesli_harfler = 'aeıioöuü'\n",
    "sayaç = 0\n",
    "\n",
    "kelime = input('Bir kelime girin: ')\n",
    "\n",
    "def seslidir(harf):\n",
    "    return harf in sesli_harfler\n",
    "\n",
    "def artır():\n",
    "    global sayaç\n",
    "    for harf in kelime:\n",
    "        if seslidir(harf):\n",
    "            sayaç += 1\n",
    "    return sayaç\n",
    "\n",
    "mesaj = '{} kelimesinde {} sesli harf var.'\n",
    "print(mesaj.format(kelime, artır()))"
   ]
  },
  {
   "cell_type": "raw",
   "id": "26a132d2-4319-4fd4-84ce-3afa6e7d7db6",
   "metadata": {},
   "source": [
    "global isim alanında bulunan değişkenlere her yerden ulaşabiliyoruz. Ancak bunları her yerden değiştiremiyoruz.\n",
    "\n",
    "global isim alanındaki sayaç değişkeninin değerini seslidir() fonksiyonu içinde kullanabildik. Ama eğer bu değişken üzerinde değişiklik yapacaksak ilave adımlar atmak zorundayız. Dolayısıyla, mesela artır() fonksiyonunun etki alanından, global etki alanındaki sayaç değişkeni üzerinde değişiklik yapabilmek için global deyimini kullanmamız gerekiyor. Bu şekilde, global isim alanında bulunan sayaç adlı değişkenin değerini artırabiliyoruz.\n",
    "\n",
    "Dikkat ederseniz, artır() fonksiyonunda iki tane global değişken var: sayaç ve kelime. Ama biz bunlardan yalnızca sayaç değişkenini global olarak belirledik. Öbür global değişkenimiz kelime için ise bu işlemi yapmadık. Çünkü kelime adlı değişkeni değiştirmek gibi bir niyetimiz yok. Biz bu değişkeni sadece kullanmakla yetiniyoruz. O yüzden bu değişkeni global olarak belirlemek zorunda değiliz.\n",
    "\n",
    "global deyimini kullanmak pek tavsiye edilen bir şey değil. Eğer siz de bu deyimi kullanmak istemezseniz, yukarıdaki kodları şu şekilde yazmayı yeğleyebilirsiniz:"
   ]
  },
  {
   "cell_type": "code",
   "execution_count": 14,
   "id": "4ed78cd2-3dfe-4e43-a825-a4e2039760d5",
   "metadata": {},
   "outputs": [
    {
     "name": "stdin",
     "output_type": "stream",
     "text": [
      "Bir kelime girin:  ali\n"
     ]
    },
    {
     "name": "stdout",
     "output_type": "stream",
     "text": [
      "ali kelimesinde 2 sesli harf var.\n"
     ]
    }
   ],
   "source": [
    "sesli_harfler = 'aeıioöuü'\n",
    "sayaç = 0\n",
    "\n",
    "kelime = input('Bir kelime girin: ')\n",
    "\n",
    "def seslidir(harf):\n",
    "    return harf in sesli_harfler\n",
    "\n",
    "def artır(sayaç):\n",
    "    for harf in kelime:\n",
    "        if seslidir(harf):\n",
    "            sayaç += 1\n",
    "    return sayaç\n",
    "\n",
    "mesaj = '{} kelimesinde {} sesli harf var.'\n",
    "print(mesaj.format(kelime, artır(sayaç)))"
   ]
  },
  {
   "cell_type": "raw",
   "id": "b06a176e-7cdf-4be1-83c8-629e77fa9861",
   "metadata": {},
   "source": [
    "artır() fonksiyonunda parametre olarak kullandığımız kelime sayaç olmak zorunda değil. Kodlarımızı mesela şöyle de yazabilirdik:\n",
    "\n",
    "Önemli olan, artır() fonksiyonunun, bizim global isim alanıyla iletişim kurmamızı sağlayacak bir parametre alması. Bu parametrenin adının ne olduğunun bir önemi yok."
   ]
  },
  {
   "cell_type": "code",
   "execution_count": null,
   "id": "f288dcea-fdad-42f1-9af8-abcc406697ca",
   "metadata": {},
   "outputs": [],
   "source": [
    "sesli_harfler = 'aeıioöuü'\n",
    "sayaç = 0\n",
    "\n",
    "kelime = input('Bir kelime girin: ')\n",
    "\n",
    "def seslidir(harf):\n",
    "    return harf in sesli_harfler\n",
    "\n",
    "def artır(n):\n",
    "    for harf in kelime:\n",
    "        if seslidir(harf):\n",
    "            n += 1\n",
    "    return n\n",
    "\n",
    "mesaj = '{} kelimesinde {} sesli harf var.'\n",
    "print(mesaj.format(kelime, artır(sayaç)))"
   ]
  },
  {
   "cell_type": "raw",
   "id": "ad2977da-67eb-470b-bfe4-5fa958b484c0",
   "metadata": {},
   "source": [
    "Yukarıdaki kodlarda birkaç değişiklik daha yaparak, bu kodları iyice genişletilebilir hale getirebiliriz:"
   ]
  },
  {
   "cell_type": "code",
   "execution_count": null,
   "id": "2466c4b1-b089-43f7-a6fa-96f4990c0dfa",
   "metadata": {},
   "outputs": [],
   "source": [
    "sesli_harfler = 'aeıioöuü'\n",
    "sayaç = 0\n",
    "\n",
    "def kelime_sor():\n",
    "    return input('Bir kelime girin: ')\n",
    "\n",
    "def seslidir(harf):\n",
    "    return harf in sesli_harfler\n",
    "\n",
    "def artır(sayaç, kelime):\n",
    "    for harf in kelime:\n",
    "        if seslidir(harf):\n",
    "            sayaç += 1\n",
    "    return sayaç\n",
    "\n",
    "def ekrana_bas(kelime):\n",
    "    mesaj = \"{} kelimesinde {} sesli harf var.\"\n",
    "    print(mesaj.format(kelime, artır(sayaç, kelime)))\n",
    "\n",
    "def çalıştır():\n",
    "    kelime = kelime_sor()\n",
    "    ekrana_bas(kelime)\n",
    "\n",
    "çalıştır()"
   ]
  },
  {
   "cell_type": "raw",
   "id": "7408b598-e12d-4182-950f-93e1a00ef7d0",
   "metadata": {},
   "source": [
    "Bu kodlarda, fonksiyonlara verdiğimiz parametreler yardımıyla, farklı fonksiyonların lokal etki alanlarında yer alan öğeler arasında nasıl iletişim kurduğumuza dikkat edin. Bir önceki kodlarda global etki alanında bulunan kelime değişkenini bu kez çalıştır() fonksiyonunun lokal etki alanı içine yerleştirdiğimiz için, artır() fonksiyonu içindeki kelime değişkeni boşa düştü. O yüzden, bu değişkeni artır() fonksiyonuna bir parametre olarak verdik ve ekrana_bas() fonksiyonu içinde bu fonksiyonu çağırırken, hem sayaç hem de kelime argümanlarını kullandık.\n",
    "\n",
    "Ayrıca, kullanıcıya kelime sorup, aldığı kelimeyi ekrana basan kod parçalarını, yani programımızı başlatan kodları çalıştır() başlığı altında toplayarak bu kısmı tam anlamıyla ‘modüler’, yani esnek ve takılıp çıkarılabilir bir hale getirdik.\n",
    "\n",
    "Gördüğünüz gibi, yazdığımız kodların olabildiğince anlaşılır ve yönetilebilir olmasını sağlayabilmek için, bu kodları küçük birtakım birimlere böldük. Bu şekilde hem hangi işlevin nerede olduğunu bulmak kolaylaştı, hem kodların görünüşü daha anlaşılır oldu, hem de bu kodlara ileride yeni özellikler eklemek basitleşti. Unutmayın, bir programcının görevi yalnızca çalışan kodlar yazmak değildir. Programcı aynı zamanda kodlarının okunaklılığını artırmak ve bakımını kolaylaştırmakla da yükümlüdür.\n",
    "\n",
    "Bu bakımdan, programcı ile kod arasındaki ilişkiyi, yazar ile kitap arasındaki ilişkiye benzetebilirsiniz. Tıpkı bir programcı gibi, yazarın da görevi aklına gelenleri bir kağıda gelişigüzel boca etmek değildir. Yazar, yazdığı kitabın daha anlaşılır olmasını sağlamak için kitabına bir başlık atmalı, yazdığı yazıları alt başlıklara ve paragraflara bölmeli, ayrıca noktalama işaretlerini yerli yerinde kullanarak yazılarını olabildiğince okunaklı hale getirmelidir. Bir ana başlığı ve alt başlıkları olmayan, sadece tek bir büyük paragraftan oluşan, içinde hiçbir noktalama işaretinin kullanılmadığı bir makaleyi okumanın veya bu makaleye sonradan yeni bir şeyler eklemenin ne kadar zor olduğunu düşünün. İşte aynı şey bir programcının yazdığı kodlar için de geçerlidir. Eğer yazdığınız kodları anlaşılır birimlere bölmeden ekrana yığarsanız bu kodları ne başkaları okuyup anlayabilir, ne de siz ileride bu kodlara yeni işlevler ekleyebilirsiniz."
   ]
  },
  {
   "cell_type": "code",
   "execution_count": null,
   "id": "96479082-01ec-468b-be9f-cd71d90bd05c",
   "metadata": {},
   "outputs": [],
   "source": []
  },
  {
   "cell_type": "code",
   "execution_count": null,
   "id": "a56e26b5-1e77-4d12-a3b8-14e9ef5e1708",
   "metadata": {},
   "outputs": [],
   "source": []
  }
 ],
 "metadata": {
  "kernelspec": {
   "display_name": "Python 3 (ipykernel)",
   "language": "python",
   "name": "python3"
  },
  "language_info": {
   "codemirror_mode": {
    "name": "ipython",
    "version": 3
   },
   "file_extension": ".py",
   "mimetype": "text/x-python",
   "name": "python",
   "nbconvert_exporter": "python",
   "pygments_lexer": "ipython3",
   "version": "3.9.7"
  }
 },
 "nbformat": 4,
 "nbformat_minor": 5
}
