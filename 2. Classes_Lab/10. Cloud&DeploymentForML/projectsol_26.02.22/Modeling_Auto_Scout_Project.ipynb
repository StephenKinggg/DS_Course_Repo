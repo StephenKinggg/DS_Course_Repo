{
 "cells": [
  {
   "cell_type": "markdown",
   "metadata": {
    "id": "4UCsvzbImqZN"
   },
   "source": [
    "___\n",
    "\n",
    "<p style=\"text-align: center;\"><img src=\"https://docs.google.com/uc?id=1lY0Uj5R04yMY3-ZppPWxqCr5pvBLYPnV\" class=\"img-fluid\" alt=\"CLRSWY\"></p>\n",
    "\n",
    "___"
   ]
  },
  {
   "cell_type": "markdown",
   "metadata": {
    "id": "i5WapR8JmqZN"
   },
   "source": [
    "# WELCOME!"
   ]
  },
  {
   "cell_type": "markdown",
   "metadata": {
    "id": "ZyeGWbuTmqZN"
   },
   "source": [
    "Welcome to \"***Car Price Prediction Project***\". This is the first medium project of ***Machine Learning*** course. In this project you will have the opportunity to apply many algorithms commonly used for regression problems.\n",
    "\n",
    "Also, you will apply various processes such as pre-processing, ***train-test spilit*** and ***cross validation*** that you will use in algorithm modeling and prediction processes in Python with ***scikit-learn***. \n",
    "\n",
    "Before diving into the project, please take a look at the determines and tasks.\n",
    "\n",
    "- **NOTE:** This project assumes that you already know the basics of coding in Python. You should also be familiar with the theory behind regression algorithms and scikit-learn module as well as Machine Learning before you begin.\n"
   ]
  },
  {
   "cell_type": "markdown",
   "metadata": {
    "id": "c0Iul5QymqZN"
   },
   "source": [
    "# #Determines\n",
    "\n",
    "The domain you must have remembered it because you are worked on under project **\"EDA for Car Price Prediction Model\"**. **Auto Scout** data which using for this project, scraped from the on-line car trading company in 2019, contains many features of 9 different car models. In this project, you will use the data sets prepared for algorithms as a result of the EDA project.\n",
    "\n",
    "So this study assumes that you are working on the EDA project and that you have sufficient domain knowledge.\n",
    "\n",
    "Therefore, you will not need any EDA process as you will be working on the edited data.\n",
    "\n",
    "---\n",
    "\n",
    "In this case, you will estimate the prices of cars using regression algorithms.\n",
    "\n",
    "While starting you should import the necessary modules and load the data given as pkl file. Also you'll need to do a few pre-processing before moving to modelling. After that you will implement ***Linear Regression, Ridge Regression, Lasso Regression, Random Forest*** and ***XG Boost*** algorithms respectively. You can measure the success of your models with regression evaluation metrics as well as with cross validation method.\n",
    "\n",
    "For the better results, you should try to increase the success of your models by performing hyperparameter tuning. Determine feature importances for the model. You can set your model with the most important features for resource saving. You should try to apply this especially in Random Forest and XG Boost algorithms. Unlike the others, you will perform hyperparameter tuning for Random Forest and XG Boost using the ***GridSearchCV*** method. \n",
    "\n",
    "Finally You can compare the performances of algorithms, work more on the algorithm have the most successful prediction rate.\n",
    "\n",
    "\n",
    "\n",
    "\n"
   ]
  },
  {
   "cell_type": "markdown",
   "metadata": {
    "id": "pL-jJ1irmqZN"
   },
   "source": [
    "# #Tasks\n",
    "\n",
    "#### 1. Import Modules, Load Data and Data Review\n",
    "#### 2. Data Pre-Processing\n",
    "#### 3. Implement Linear Regression \n",
    "#### 4. Implement Ridge Regression\n",
    "#### 5. Implement Lasso Regression "
   ]
  },
  {
   "cell_type": "markdown",
   "metadata": {
    "id": "Rik6d_vimqZN"
   },
   "source": [
    "## 1. Import Modules, Load Data and Data Review"
   ]
  },
  {
   "cell_type": "code",
   "execution_count": 866,
   "metadata": {
    "id": "QBddHlqgmqZN"
   },
   "outputs": [],
   "source": [
    "import pandas as pd\n",
    "import numpy as np\n",
    "import matplotlib.pyplot as plt\n",
    "import seaborn as sns\n",
    "%matplotlib inline\n",
    "from sklearn.model_selection import train_test_split\n",
    "from sklearn.linear_model import LinearRegression\n",
    "from sklearn.metrics import classification_report,confusion_matrix\n",
    "from sklearn.metrics import mean_absolute_error,mean_squared_error, mean_absolute_error, r2_score\n",
    "import warnings\n",
    "warnings.filterwarnings('ignore')"
   ]
  },
  {
   "cell_type": "code",
   "execution_count": 867,
   "metadata": {},
   "outputs": [],
   "source": [
    "#pip install yellowbrick"
   ]
  },
  {
   "cell_type": "code",
   "execution_count": 868,
   "metadata": {},
   "outputs": [],
   "source": [
    "df=pd.read_pickle(\"golden_data_dummy.pkl\")"
   ]
  },
  {
   "cell_type": "code",
   "execution_count": 869,
   "metadata": {
    "scrolled": true
   },
   "outputs": [
    {
     "data": {
      "text/html": [
       "<div>\n",
       "<style scoped>\n",
       "    .dataframe tbody tr th:only-of-type {\n",
       "        vertical-align: middle;\n",
       "    }\n",
       "\n",
       "    .dataframe tbody tr th {\n",
       "        vertical-align: top;\n",
       "    }\n",
       "\n",
       "    .dataframe thead th {\n",
       "        text-align: right;\n",
       "    }\n",
       "</style>\n",
       "<table border=\"1\" class=\"dataframe\">\n",
       "  <thead>\n",
       "    <tr style=\"text-align: right;\">\n",
       "      <th></th>\n",
       "      <th>displacement</th>\n",
       "      <th>hp</th>\n",
       "      <th>km</th>\n",
       "      <th>ss_abs</th>\n",
       "      <th>ss_adaptive_cruise_control</th>\n",
       "      <th>ss_adaptive_headlights</th>\n",
       "      <th>ss_alarm_system</th>\n",
       "      <th>ss_blind_spot_monitor</th>\n",
       "      <th>ss_central_door_lock</th>\n",
       "      <th>ss_central_door_lock_with_remote_control</th>\n",
       "      <th>...</th>\n",
       "      <th>gearing_type_Semi-automatic</th>\n",
       "      <th>fuel_diesel</th>\n",
       "      <th>fuel_electric</th>\n",
       "      <th>fuel_gasoline</th>\n",
       "      <th>fuel_lpg</th>\n",
       "      <th>type_Demonstration</th>\n",
       "      <th>type_Employee's car</th>\n",
       "      <th>type_New</th>\n",
       "      <th>type_Pre-registered</th>\n",
       "      <th>type_Used</th>\n",
       "    </tr>\n",
       "  </thead>\n",
       "  <tbody>\n",
       "    <tr>\n",
       "      <th>0</th>\n",
       "      <td>1422.0</td>\n",
       "      <td>66.0</td>\n",
       "      <td>56013</td>\n",
       "      <td>1.0</td>\n",
       "      <td>0.0</td>\n",
       "      <td>0.0</td>\n",
       "      <td>0.0</td>\n",
       "      <td>0.0</td>\n",
       "      <td>1.0</td>\n",
       "      <td>0.0</td>\n",
       "      <td>...</td>\n",
       "      <td>0</td>\n",
       "      <td>1</td>\n",
       "      <td>0</td>\n",
       "      <td>0</td>\n",
       "      <td>0</td>\n",
       "      <td>0</td>\n",
       "      <td>0</td>\n",
       "      <td>0</td>\n",
       "      <td>0</td>\n",
       "      <td>1</td>\n",
       "    </tr>\n",
       "    <tr>\n",
       "      <th>1</th>\n",
       "      <td>1798.0</td>\n",
       "      <td>141.0</td>\n",
       "      <td>80000</td>\n",
       "      <td>1.0</td>\n",
       "      <td>0.0</td>\n",
       "      <td>0.0</td>\n",
       "      <td>0.0</td>\n",
       "      <td>0.0</td>\n",
       "      <td>1.0</td>\n",
       "      <td>1.0</td>\n",
       "      <td>...</td>\n",
       "      <td>0</td>\n",
       "      <td>0</td>\n",
       "      <td>0</td>\n",
       "      <td>1</td>\n",
       "      <td>0</td>\n",
       "      <td>0</td>\n",
       "      <td>0</td>\n",
       "      <td>0</td>\n",
       "      <td>0</td>\n",
       "      <td>1</td>\n",
       "    </tr>\n",
       "    <tr>\n",
       "      <th>2</th>\n",
       "      <td>1598.0</td>\n",
       "      <td>85.0</td>\n",
       "      <td>83450</td>\n",
       "      <td>1.0</td>\n",
       "      <td>0.0</td>\n",
       "      <td>0.0</td>\n",
       "      <td>0.0</td>\n",
       "      <td>0.0</td>\n",
       "      <td>1.0</td>\n",
       "      <td>0.0</td>\n",
       "      <td>...</td>\n",
       "      <td>0</td>\n",
       "      <td>1</td>\n",
       "      <td>0</td>\n",
       "      <td>0</td>\n",
       "      <td>0</td>\n",
       "      <td>0</td>\n",
       "      <td>0</td>\n",
       "      <td>0</td>\n",
       "      <td>0</td>\n",
       "      <td>1</td>\n",
       "    </tr>\n",
       "    <tr>\n",
       "      <th>3</th>\n",
       "      <td>1422.0</td>\n",
       "      <td>66.0</td>\n",
       "      <td>73000</td>\n",
       "      <td>1.0</td>\n",
       "      <td>0.0</td>\n",
       "      <td>0.0</td>\n",
       "      <td>1.0</td>\n",
       "      <td>0.0</td>\n",
       "      <td>0.0</td>\n",
       "      <td>1.0</td>\n",
       "      <td>...</td>\n",
       "      <td>0</td>\n",
       "      <td>1</td>\n",
       "      <td>0</td>\n",
       "      <td>0</td>\n",
       "      <td>0</td>\n",
       "      <td>0</td>\n",
       "      <td>0</td>\n",
       "      <td>0</td>\n",
       "      <td>0</td>\n",
       "      <td>1</td>\n",
       "    </tr>\n",
       "    <tr>\n",
       "      <th>4</th>\n",
       "      <td>1422.0</td>\n",
       "      <td>66.0</td>\n",
       "      <td>16200</td>\n",
       "      <td>1.0</td>\n",
       "      <td>0.0</td>\n",
       "      <td>0.0</td>\n",
       "      <td>0.0</td>\n",
       "      <td>0.0</td>\n",
       "      <td>1.0</td>\n",
       "      <td>0.0</td>\n",
       "      <td>...</td>\n",
       "      <td>0</td>\n",
       "      <td>1</td>\n",
       "      <td>0</td>\n",
       "      <td>0</td>\n",
       "      <td>0</td>\n",
       "      <td>0</td>\n",
       "      <td>0</td>\n",
       "      <td>0</td>\n",
       "      <td>0</td>\n",
       "      <td>1</td>\n",
       "    </tr>\n",
       "  </tbody>\n",
       "</table>\n",
       "<p>5 rows × 136 columns</p>\n",
       "</div>"
      ],
      "text/plain": [
       "   displacement     hp     km  ss_abs  ss_adaptive_cruise_control  \\\n",
       "0        1422.0   66.0  56013     1.0                         0.0   \n",
       "1        1798.0  141.0  80000     1.0                         0.0   \n",
       "2        1598.0   85.0  83450     1.0                         0.0   \n",
       "3        1422.0   66.0  73000     1.0                         0.0   \n",
       "4        1422.0   66.0  16200     1.0                         0.0   \n",
       "\n",
       "   ss_adaptive_headlights  ss_alarm_system  ss_blind_spot_monitor  \\\n",
       "0                     0.0              0.0                    0.0   \n",
       "1                     0.0              0.0                    0.0   \n",
       "2                     0.0              0.0                    0.0   \n",
       "3                     0.0              1.0                    0.0   \n",
       "4                     0.0              0.0                    0.0   \n",
       "\n",
       "   ss_central_door_lock  ss_central_door_lock_with_remote_control  ...  \\\n",
       "0                   1.0                                       0.0  ...   \n",
       "1                   1.0                                       1.0  ...   \n",
       "2                   1.0                                       0.0  ...   \n",
       "3                   0.0                                       1.0  ...   \n",
       "4                   1.0                                       0.0  ...   \n",
       "\n",
       "   gearing_type_Semi-automatic  fuel_diesel  fuel_electric  fuel_gasoline  \\\n",
       "0                            0            1              0              0   \n",
       "1                            0            0              0              1   \n",
       "2                            0            1              0              0   \n",
       "3                            0            1              0              0   \n",
       "4                            0            1              0              0   \n",
       "\n",
       "   fuel_lpg  type_Demonstration  type_Employee's car  type_New  \\\n",
       "0         0                   0                    0         0   \n",
       "1         0                   0                    0         0   \n",
       "2         0                   0                    0         0   \n",
       "3         0                   0                    0         0   \n",
       "4         0                   0                    0         0   \n",
       "\n",
       "   type_Pre-registered  type_Used  \n",
       "0                    0          1  \n",
       "1                    0          1  \n",
       "2                    0          1  \n",
       "3                    0          1  \n",
       "4                    0          1  \n",
       "\n",
       "[5 rows x 136 columns]"
      ]
     },
     "execution_count": 869,
     "metadata": {},
     "output_type": "execute_result"
    }
   ],
   "source": [
    "df.head()"
   ]
  },
  {
   "cell_type": "code",
   "execution_count": 870,
   "metadata": {
    "scrolled": true
   },
   "outputs": [
    {
     "name": "stdout",
     "output_type": "stream",
     "text": [
      "<class 'pandas.core.frame.DataFrame'>\n",
      "Int64Index: 14990 entries, 0 to 15918\n",
      "Columns: 136 entries, displacement to type_Used\n",
      "dtypes: float64(86), int64(5), uint8(45)\n",
      "memory usage: 11.2 MB\n"
     ]
    }
   ],
   "source": [
    "df.info()"
   ]
  },
  {
   "cell_type": "code",
   "execution_count": null,
   "metadata": {},
   "outputs": [],
   "source": []
  },
  {
   "cell_type": "code",
   "execution_count": 871,
   "metadata": {},
   "outputs": [
    {
     "data": {
      "text/plain": [
       "displacement                  0\n",
       "hp                            0\n",
       "km                            0\n",
       "ss_abs                        0\n",
       "ss_adaptive_cruise_control    0\n",
       "                             ..\n",
       "type_Demonstration            0\n",
       "type_Employee's car           0\n",
       "type_New                      0\n",
       "type_Pre-registered           0\n",
       "type_Used                     0\n",
       "Length: 136, dtype: int64"
      ]
     },
     "execution_count": 871,
     "metadata": {},
     "output_type": "execute_result"
    }
   ],
   "source": [
    "df.isnull().sum()"
   ]
  },
  {
   "cell_type": "markdown",
   "metadata": {
    "id": "QsEUUAAKmqZN"
   },
   "source": [
    "## 2. Data Pre-Processing"
   ]
  },
  {
   "cell_type": "markdown",
   "metadata": {
    "id": "QtVkM6f2mqZN"
   },
   "source": [
    "As you know, the data set must be edited before proceeding to the implementation of the model. As the last step before model fitting, you need to spilit the data set as train and test. Then, you should train the model with train data and evaluate the performance of the model on the test data. You can use the train and test data you have created for all algorithms.\n",
    "\n",
    "You must also drop your target variable, the column you are trying to predict."
   ]
  },
  {
   "cell_type": "markdown",
   "metadata": {
    "id": "K7d_92iemqZN"
   },
   "source": [
    "You can use many [performance metrics for regression](https://medium.com/analytics-vidhya/evaluation-metrics-for-regression-problems-343c4923d922) to measure the performance of the regression model you train. You can define a function to view different metric results together.\n",
    "\n",
    "You can also use the [cross validation](https://towardsdatascience.com/cross-validation-explained-evaluating-estimator-performance-e51e5430ff85) method to measure the estimator performance. Cross validation uses different data samples from your test set and calculates the accuracy score for each data sample. You can calculate the final performance of your estimator by averaging these scores."
   ]
  },
  {
   "cell_type": "code",
   "execution_count": 872,
   "metadata": {
    "id": "-3gMQ3utmqZN"
   },
   "outputs": [],
   "source": [
    "X=df.drop('price',axis=1)\n",
    "y=df.price"
   ]
  },
  {
   "cell_type": "code",
   "execution_count": 873,
   "metadata": {},
   "outputs": [],
   "source": [
    "X_train, X_test, y_train, y_test = train_test_split(X, y, test_size=0.3, random_state=42)"
   ]
  },
  {
   "cell_type": "markdown",
   "metadata": {
    "id": "An_5ITcAmqZO"
   },
   "source": [
    "## 3. Implement Linear Regression"
   ]
  },
  {
   "cell_type": "markdown",
   "metadata": {
    "id": "0c0y-w8vmqZO"
   },
   "source": [
    " - Import the modul\n",
    " - Fit the model \n",
    " - Predict the test set\n",
    " - Determine feature coefficiant\n",
    " - Evaluate model performance (use performance metrics for regression and cross_val_score)\n",
    " - Compare different evaluation metrics\n",
    " \n",
    "*Note: You can use the [dir()](https://www.geeksforgeeks.org/python-dir-function/) function to see the methods you need.*"
   ]
  },
  {
   "cell_type": "code",
   "execution_count": 874,
   "metadata": {
    "id": "lq6UKn_HmqZO"
   },
   "outputs": [],
   "source": [
    "lm=LinearRegression()\n",
    "lm.fit(X_train,y_train)\n",
    "y_pred=lm.predict(X_test)"
   ]
  },
  {
   "cell_type": "code",
   "execution_count": 875,
   "metadata": {
    "scrolled": true
   },
   "outputs": [
    {
     "data": {
      "text/plain": [
       "array([-8.68526287e-01,  9.75678426e+01, -3.70107222e-02, -1.86000681e+01,\n",
       "       -6.00439105e+01,  3.26215689e+02,  1.07197494e+02, -3.56622796e+02,\n",
       "       -3.15778439e+02, -3.91356900e+01, -2.08281540e+02,  6.87878661e+01,\n",
       "       -1.68466629e+02, -2.84450646e+02,  1.00905444e-01, -7.60306808e+02,\n",
       "       -1.13633722e+02, -1.11474828e+02, -2.11629325e+02, -3.58753328e+02,\n",
       "       -2.25035805e+02,  6.73205218e+02,  7.95615469e+02,  6.47169238e+02,\n",
       "        5.14002132e+02, -4.11969172e+02, -5.16345688e+02,  1.01128720e+02,\n",
       "        1.32369735e+02,  2.31203336e+02, -1.41288201e+01, -3.92099486e+02,\n",
       "        1.00972895e+02, -1.11558691e+02, -1.59715155e+03, -5.48243043e+02,\n",
       "        1.48882326e+02,  9.48213697e+02, -7.76767827e+01, -7.26565204e+01,\n",
       "       -1.22572685e+01,  3.37642724e+02, -2.03537914e+02, -1.49582244e+03,\n",
       "       -2.05210928e+02,  3.01040942e+02,  4.40656120e+01, -9.73750803e+01,\n",
       "        2.65686900e+02,  2.91635908e+02, -2.47884699e+01,  3.25423696e+02,\n",
       "       -2.31103877e+02,  7.69447738e+01,  2.18278728e-11,  1.34006757e+01,\n",
       "        1.31999727e+02,  3.79878442e+02,  6.53146359e+02,  2.26598898e+03,\n",
       "        3.24317946e+02,  2.48429420e+02,  2.12418095e+02, -6.61622139e+02,\n",
       "        1.28266795e+02,  7.13860840e+01, -1.35514982e+02,  5.20963876e+02,\n",
       "        1.28859986e+02,  4.98495149e+02, -3.94267201e+02,  5.88096939e+02,\n",
       "       -9.84138491e+00,  1.01725441e+03,  3.44833962e+02, -4.63316033e+02,\n",
       "       -3.67061275e+01, -2.08924095e+02,  3.40072683e+01,  8.80095894e+02,\n",
       "       -3.04364491e+02, -1.02622489e+02,  1.10942296e+03,  2.17959975e+02,\n",
       "       -8.79975450e+02,  1.45037998e+02,  5.79300334e+02, -5.62132684e+02,\n",
       "        2.75367887e+02, -2.79627988e+02,  2.91940748e+03, -2.39851954e+03,\n",
       "       -5.20887934e+02, -2.20662336e+03,  6.09355361e+03, -9.67522777e+02,\n",
       "       -9.71503617e+02, -4.33384378e+03, -2.47832611e+03,  3.81295585e+03,\n",
       "        1.05131018e+03, -6.93579797e+01,  1.99835900e+03, -8.00884519e+01,\n",
       "       -3.75889381e+02, -7.93230254e+02, -8.05662832e+01,  4.27780022e+01,\n",
       "       -1.35599772e+03,  7.13993073e+02, -1.29088168e+02,  6.32858534e+02,\n",
       "        5.67792556e+02, -1.47417975e+02,  4.40693976e+01,  5.90110035e+02,\n",
       "        6.67426121e+02, -2.74587375e+03,  2.66667360e+02,  3.68906047e+02,\n",
       "       -1.52993316e+03,  7.68536279e+02,  6.45946727e+02, -2.60821532e+02,\n",
       "       -1.86168346e+03,  2.12250499e+03,  1.28602540e+03, -2.53240393e+03,\n",
       "        4.62931470e+02,  7.83447056e+02,  1.78156533e+03, -1.16813647e+03,\n",
       "        9.54199290e+02, -4.91298547e+02, -1.07632960e+03])"
      ]
     },
     "execution_count": 875,
     "metadata": {},
     "output_type": "execute_result"
    }
   ],
   "source": [
    "lm.coef_"
   ]
  },
  {
   "cell_type": "code",
   "execution_count": 876,
   "metadata": {
    "scrolled": true
   },
   "outputs": [
    {
     "name": "stdout",
     "output_type": "stream",
     "text": [
      "['__abstractmethods__', '__class__', '__delattr__', '__dict__', '__dir__', '__doc__', '__eq__', '__format__', '__ge__', '__getattribute__', '__getstate__', '__gt__', '__hash__', '__init__', '__init_subclass__', '__le__', '__lt__', '__module__', '__ne__', '__new__', '__reduce__', '__reduce_ex__', '__repr__', '__setattr__', '__setstate__', '__sizeof__', '__str__', '__subclasshook__', '__weakref__', '_abc_impl', '_check_n_features', '_decision_function', '_estimator_type', '_get_param_names', '_get_tags', '_more_tags', '_preprocess_data', '_repr_html_', '_repr_html_inner', '_repr_mimebundle_', '_residues', '_set_intercept', '_validate_data', 'coef_', 'copy_X', 'fit', 'fit_intercept', 'get_params', 'intercept_', 'n_features_in_', 'n_jobs', 'normalize', 'positive', 'predict', 'rank_', 'score', 'set_params', 'singular_']\n"
     ]
    }
   ],
   "source": [
    "print(dir(lm))"
   ]
  },
  {
   "cell_type": "code",
   "execution_count": 877,
   "metadata": {},
   "outputs": [],
   "source": [
    "def eval_metrics(actual, pred):\n",
    "    rmse = np.sqrt(mean_squared_error(actual, pred))\n",
    "    mae = mean_absolute_error(actual, pred)\n",
    "    mse = mean_squared_error(actual, pred)\n",
    "    score = r2_score(actual, pred)\n",
    "    return print(\"r2_score:\", score, \"\\n\",\"mae:\", mae, \"\\n\",\"mse:\",mse, \"\\n\",\"rmse:\",rmse)"
   ]
  },
  {
   "cell_type": "code",
   "execution_count": 878,
   "metadata": {},
   "outputs": [
    {
     "name": "stdout",
     "output_type": "stream",
     "text": [
      "r2_score: 0.8918333328983831 \n",
      " mae: 1672.930597789271 \n",
      " mse: 5482500.359230778 \n",
      " rmse: 2341.4739715040137\n"
     ]
    }
   ],
   "source": [
    "eval_metrics(y_test,y_pred)"
   ]
  },
  {
   "cell_type": "code",
   "execution_count": 879,
   "metadata": {},
   "outputs": [],
   "source": [
    "my_dict = { 'Actual': y_test, 'Pred': y_pred }\n",
    "compare = pd.DataFrame(my_dict)"
   ]
  },
  {
   "cell_type": "code",
   "execution_count": 880,
   "metadata": {
    "scrolled": true
   },
   "outputs": [
    {
     "data": {
      "text/html": [
       "<div>\n",
       "<style scoped>\n",
       "    .dataframe tbody tr th:only-of-type {\n",
       "        vertical-align: middle;\n",
       "    }\n",
       "\n",
       "    .dataframe tbody tr th {\n",
       "        vertical-align: top;\n",
       "    }\n",
       "\n",
       "    .dataframe thead th {\n",
       "        text-align: right;\n",
       "    }\n",
       "</style>\n",
       "<table border=\"1\" class=\"dataframe\">\n",
       "  <thead>\n",
       "    <tr style=\"text-align: right;\">\n",
       "      <th></th>\n",
       "      <th>Actual</th>\n",
       "      <th>Pred</th>\n",
       "    </tr>\n",
       "  </thead>\n",
       "  <tbody>\n",
       "    <tr>\n",
       "      <th>10282</th>\n",
       "      <td>10689</td>\n",
       "      <td>11228.466171</td>\n",
       "    </tr>\n",
       "    <tr>\n",
       "      <th>9722</th>\n",
       "      <td>9900</td>\n",
       "      <td>11542.138157</td>\n",
       "    </tr>\n",
       "    <tr>\n",
       "      <th>4757</th>\n",
       "      <td>21500</td>\n",
       "      <td>21444.490460</td>\n",
       "    </tr>\n",
       "    <tr>\n",
       "      <th>8624</th>\n",
       "      <td>7600</td>\n",
       "      <td>5862.568668</td>\n",
       "    </tr>\n",
       "    <tr>\n",
       "      <th>13875</th>\n",
       "      <td>8800</td>\n",
       "      <td>5600.538486</td>\n",
       "    </tr>\n",
       "    <tr>\n",
       "      <th>13921</th>\n",
       "      <td>9389</td>\n",
       "      <td>7578.451315</td>\n",
       "    </tr>\n",
       "    <tr>\n",
       "      <th>10708</th>\n",
       "      <td>15980</td>\n",
       "      <td>15958.340167</td>\n",
       "    </tr>\n",
       "    <tr>\n",
       "      <th>8187</th>\n",
       "      <td>18070</td>\n",
       "      <td>17491.781091</td>\n",
       "    </tr>\n",
       "    <tr>\n",
       "      <th>9033</th>\n",
       "      <td>7800</td>\n",
       "      <td>9009.698118</td>\n",
       "    </tr>\n",
       "    <tr>\n",
       "      <th>10033</th>\n",
       "      <td>15850</td>\n",
       "      <td>15686.920757</td>\n",
       "    </tr>\n",
       "  </tbody>\n",
       "</table>\n",
       "</div>"
      ],
      "text/plain": [
       "       Actual          Pred\n",
       "10282   10689  11228.466171\n",
       "9722     9900  11542.138157\n",
       "4757    21500  21444.490460\n",
       "8624     7600   5862.568668\n",
       "13875    8800   5600.538486\n",
       "13921    9389   7578.451315\n",
       "10708   15980  15958.340167\n",
       "8187    18070  17491.781091\n",
       "9033     7800   9009.698118\n",
       "10033   15850  15686.920757"
      ]
     },
     "execution_count": 880,
     "metadata": {},
     "output_type": "execute_result"
    }
   ],
   "source": [
    "compare.sample(10)"
   ]
  },
  {
   "cell_type": "code",
   "execution_count": 881,
   "metadata": {},
   "outputs": [
    {
     "data": {
      "text/plain": [
       "0.8863107422744019"
      ]
     },
     "execution_count": 881,
     "metadata": {},
     "output_type": "execute_result"
    }
   ],
   "source": [
    "from sklearn.model_selection import cross_val_score\n",
    "cv_scores = cross_val_score(estimator=lm, X=X_train, y=y_train)\n",
    "cv_scores.mean()"
   ]
  },
  {
   "cell_type": "code",
   "execution_count": 882,
   "metadata": {},
   "outputs": [
    {
     "data": {
      "text/plain": [
       "array([0.88505619, 0.88684462, 0.88293418, 0.88412374, 0.89259498])"
      ]
     },
     "execution_count": 882,
     "metadata": {},
     "output_type": "execute_result"
    }
   ],
   "source": [
    "cv_scores"
   ]
  },
  {
   "cell_type": "code",
   "execution_count": 883,
   "metadata": {},
   "outputs": [
    {
     "data": {
      "text/plain": [
       "<matplotlib.collections.PathCollection at 0x220c8e69b80>"
      ]
     },
     "execution_count": 883,
     "metadata": {},
     "output_type": "execute_result"
    },
    {
     "data": {
      "image/png": "[encoded data removed]",
      "text/plain": [
       "<Figure size 432x288 with 1 Axes>"
      ]
     },
     "metadata": {
      "needs_background": "light"
     },
     "output_type": "display_data"
    }
   ],
   "source": [
    "plt.scatter(y_test,y_pred)"
   ]
  },
  {
   "cell_type": "code",
   "execution_count": 884,
   "metadata": {},
   "outputs": [
    {
     "data": {
      "image/png": "[encoded data removed]",
      "text/plain": [
       "<Figure size 432x288 with 1 Axes>"
      ]
     },
     "metadata": {
      "needs_background": "light"
     },
     "output_type": "display_data"
    },
    {
     "data": {
      "text/plain": [
       "<AxesSubplot:title={'center':'Prediction Error for LinearRegression'}, xlabel='$y$', ylabel='$\\\\hat{y}$'>"
      ]
     },
     "execution_count": 884,
     "metadata": {},
     "output_type": "execute_result"
    }
   ],
   "source": [
    "from yellowbrick.regressor import PredictionError\n",
    "visualizer = PredictionError(lm)\n",
    "visualizer.fit(X_train, y_train)  # Fit the training data to the visualizer\n",
    "visualizer.score(X_test, y_test)  # Evaluate the model on the test data\n",
    "visualizer.show()                 # Finalize and render the figure"
   ]
  },
  {
   "cell_type": "code",
   "execution_count": 885,
   "metadata": {},
   "outputs": [
    {
     "data": {
      "image/png": "[encoded data removed]",
      "text/plain": [
       "<Figure size 432x288 with 2 Axes>"
      ]
     },
     "metadata": {
      "needs_background": "light"
     },
     "output_type": "display_data"
    },
    {
     "data": {
      "text/plain": [
       "<AxesSubplot:title={'center':'Residuals for LinearRegression Model'}, xlabel='Predicted Value', ylabel='Residuals'>"
      ]
     },
     "execution_count": 885,
     "metadata": {},
     "output_type": "execute_result"
    }
   ],
   "source": [
    "from yellowbrick.regressor import ResidualsPlot\n",
    "visualizer = ResidualsPlot(lm)\n",
    "\n",
    "visualizer.fit(X_train, y_train)  # Fit the training data to the visualizer\n",
    "visualizer.score(X_test, y_test)  # Evaluate the model on the test data\n",
    "visualizer.show()                 # Finalize and render the figure"
   ]
  },
  {
   "cell_type": "markdown",
   "metadata": {
    "id": "n2ROwYsymqZO"
   },
   "source": [
    "## 4. Implement Ridge Regression"
   ]
  },
  {
   "cell_type": "code",
   "execution_count": null,
   "metadata": {},
   "outputs": [],
   "source": []
  },
  {
   "cell_type": "markdown",
   "metadata": {
    "id": "3RvdF8CRmqZO"
   },
   "source": [
    "- Import the modul \n",
    "- Do not forget to scale the data or use Normalize parameter as True \n",
    "- Fit the model \n",
    "- Predict the test set \n",
    "- Evaluate model performance (use performance metrics for regression) \n",
    "- Tune alpha hiperparameter by using [cross validation](https://scikit-learn.org/stable/modules/generated/sklearn.linear_model.RidgeCV.html) and determine the optimal alpha value.\n",
    "- Fit the model and predict again with the new alpha value. "
   ]
  },
  {
   "cell_type": "code",
   "execution_count": 886,
   "metadata": {
    "id": "CXm_zzZMmqZO"
   },
   "outputs": [],
   "source": [
    "from sklearn.linear_model import Ridge\n",
    "from sklearn.linear_model import RidgeCV"
   ]
  },
  {
   "cell_type": "code",
   "execution_count": 887,
   "metadata": {},
   "outputs": [],
   "source": [
    "ridge_model=Ridge(normalize=True)"
   ]
  },
  {
   "cell_type": "code",
   "execution_count": 888,
   "metadata": {},
   "outputs": [
    {
     "data": {
      "text/plain": [
       "Ridge(normalize=True)"
      ]
     },
     "execution_count": 888,
     "metadata": {},
     "output_type": "execute_result"
    }
   ],
   "source": [
    "ridge_model.fit(X_train,y_train)"
   ]
  },
  {
   "cell_type": "code",
   "execution_count": 889,
   "metadata": {},
   "outputs": [],
   "source": [
    "y_pred=ridge_model.predict(X_test)"
   ]
  },
  {
   "cell_type": "code",
   "execution_count": 890,
   "metadata": {
    "scrolled": true
   },
   "outputs": [
    {
     "name": "stdout",
     "output_type": "stream",
     "text": [
      "r2_score: 0.8351296199768291 \n",
      " mae: 1962.1666036215022 \n",
      " mse: 8356566.231761401 \n",
      " rmse: 2890.772601184915\n"
     ]
    }
   ],
   "source": [
    "eval_metrics(y_test,y_pred)"
   ]
  },
  {
   "cell_type": "code",
   "execution_count": 891,
   "metadata": {},
   "outputs": [],
   "source": [
    "alpha_space = np.linspace(0.1, 20, 50)"
   ]
  },
  {
   "cell_type": "code",
   "execution_count": 892,
   "metadata": {},
   "outputs": [
    {
     "name": "stdout",
     "output_type": "stream",
     "text": [
      "r2_score: 0.889344300131111 \n",
      " mae: 1668.8376112575909 \n",
      " mse: 5608658.661102889 \n",
      " rmse: 2368.260682674711\n"
     ]
    }
   ],
   "source": [
    "ridge_model=Ridge(0.1,normalize=True).fit(X_train,y_train)\n",
    "y_pred=ridge_model.predict(X_test)\n",
    "eval_metrics(y_test,y_pred)"
   ]
  },
  {
   "cell_type": "code",
   "execution_count": 893,
   "metadata": {},
   "outputs": [
    {
     "name": "stdout",
     "output_type": "stream",
     "text": [
      "r2_score: 0.8918467672048289 \n",
      " mae: 1670.7134687078694 \n",
      " mse: 5481819.432362186 \n",
      " rmse: 2341.3285613860744\n"
     ]
    }
   ],
   "source": [
    "ridge_model=Ridge(0.01,normalize=True).fit(X_train,y_train)\n",
    "y_pred=ridge_model.predict(X_test)\n",
    "eval_metrics(y_test,y_pred)"
   ]
  },
  {
   "cell_type": "code",
   "execution_count": 894,
   "metadata": {},
   "outputs": [
    {
     "name": "stdout",
     "output_type": "stream",
     "text": [
      "r2_score: 0.3713825592869363 \n",
      " mae: 4253.975022610859 \n",
      " mse: 31861898.280460045 \n",
      " rmse: 5644.634468276936\n"
     ]
    }
   ],
   "source": [
    "ridge_model=Ridge(17,normalize=True).fit(X_train,y_train)\n",
    "y_pred=ridge_model.predict(X_test)\n",
    "eval_metrics(y_test,y_pred)"
   ]
  },
  {
   "cell_type": "code",
   "execution_count": null,
   "metadata": {},
   "outputs": [],
   "source": []
  },
  {
   "cell_type": "markdown",
   "metadata": {
    "id": "oDfXOSnpmqZO"
   },
   "source": [
    "## 5. Implement Lasso Regression"
   ]
  },
  {
   "cell_type": "markdown",
   "metadata": {
    "id": "icqyxzBymqZO"
   },
   "source": [
    "- Import the modul \n",
    "- Do not forget to scale the data or use Normalize parameter as True\n",
    "- Fit the model \n",
    "- Predict the test set \n",
    "- Evaluate model performance (use performance metrics for regression) \n",
    "- Tune alpha hyperparameter by using [cross validation](https://scikit-learn.org/stable/modules/generated/sklearn.linear_model.LassoCV.html) and determine the optimal alpha value.\n",
    "- Fit the model and predict again with the new alpha value.\n",
    "- Compare different evaluation metrics\n",
    "\n",
    "*Note: To understand the importance of the alpha hyperparameter, you can observe the effects of different alpha values on feature coefficants.*"
   ]
  },
  {
   "cell_type": "code",
   "execution_count": 895,
   "metadata": {
    "id": "KbGqu0u5mqZO"
   },
   "outputs": [],
   "source": [
    "from sklearn.linear_model import Lasso\n",
    "from sklearn.linear_model import LassoCV"
   ]
  },
  {
   "cell_type": "code",
   "execution_count": 896,
   "metadata": {
    "id": "qpoOypMbmqZO"
   },
   "outputs": [
    {
     "name": "stdout",
     "output_type": "stream",
     "text": [
      "r2_score: 0.88490072870881 \n",
      " mae: 1693.6190339179122 \n",
      " mse: 5833884.070850852 \n",
      " rmse: 2415.3434685052252\n"
     ]
    }
   ],
   "source": [
    "lasso_model=Lasso(normalize=True).fit(X_train,y_train)\n",
    "y_pred=lasso_model.predict(X_test)\n",
    "eval_metrics(y_test,y_pred)"
   ]
  },
  {
   "cell_type": "code",
   "execution_count": 897,
   "metadata": {
    "id": "El7SNJUemqZO"
   },
   "outputs": [],
   "source": [
    "alpha_space = np.linspace(0.1, 20, 50)\n",
    "lasso_cv_model = LassoCV(alphas = alpha_space, normalize=True, cv = 5).fit(X_train, y_train)"
   ]
  },
  {
   "cell_type": "code",
   "execution_count": 898,
   "metadata": {
    "id": "XKVr6v2JmqZO"
   },
   "outputs": [
    {
     "data": {
      "text/plain": [
       "0.1"
      ]
     },
     "execution_count": 898,
     "metadata": {},
     "output_type": "execute_result"
    }
   ],
   "source": [
    "lasso_cv_model.alpha_"
   ]
  },
  {
   "cell_type": "code",
   "execution_count": 899,
   "metadata": {
    "scrolled": true
   },
   "outputs": [],
   "source": [
    "#pip install -U scikit-learn scipy matplotlib"
   ]
  },
  {
   "cell_type": "code",
   "execution_count": 900,
   "metadata": {
    "id": "sYyuZQtWmqZO"
   },
   "outputs": [
    {
     "data": {
      "image/png": "[encoded data removed]",
      "text/plain": [
       "<Figure size 432x288 with 1 Axes>"
      ]
     },
     "metadata": {
      "needs_background": "light"
     },
     "output_type": "display_data"
    },
    {
     "data": {
      "text/plain": [
       "<AxesSubplot:title={'center':'LassoCV Alpha Error'}, xlabel='alpha', ylabel='error (or score)'>"
      ]
     },
     "execution_count": 900,
     "metadata": {},
     "output_type": "execute_result"
    }
   ],
   "source": [
    "from sklearn.linear_model import LassoCV\n",
    "from yellowbrick.regressor import AlphaSelection\n",
    "\n",
    "# Create a list of alphas to cross-validate against\n",
    "alpha_space = alpha_space\n",
    "\n",
    "# Instantiate the linear model and visualizer\n",
    "model = LassoCV(alphas=alpha_space, normalize=True)\n",
    "visualizer = AlphaSelection(model)\n",
    "visualizer.fit(X_train, y_train)\n",
    "visualizer.show()"
   ]
  },
  {
   "cell_type": "code",
   "execution_count": 901,
   "metadata": {
    "id": "KEx_yvujmqZO"
   },
   "outputs": [
    {
     "name": "stdout",
     "output_type": "stream",
     "text": [
      "r2_score: 0.8916259747942515 \n",
      " mae: 1670.8574274896425 \n",
      " mse: 5493010.444369319 \n",
      " rmse: 2343.717227902999\n"
     ]
    }
   ],
   "source": [
    "lasso_model = Lasso(0.1, normalize=True).fit(X_train, y_train)\n",
    "y_pred = lasso_model.predict(X_test)\n",
    "eval_metrics(y_test, y_pred)"
   ]
  },
  {
   "cell_type": "code",
   "execution_count": 902,
   "metadata": {
    "id": "iig18G7zmqZO"
   },
   "outputs": [],
   "source": [
    "# Create features DataFrame\n",
    "feature_coef = pd.DataFrame({'features' : X.columns, 'coef' : lasso_model.coef_})"
   ]
  },
  {
   "cell_type": "code",
   "execution_count": 903,
   "metadata": {},
   "outputs": [
    {
     "data": {
      "text/plain": [
       "110"
      ]
     },
     "execution_count": 903,
     "metadata": {},
     "output_type": "execute_result"
    }
   ],
   "source": [
    "significant_features = feature_coef.loc[feature_coef.coef != 0, :]\n",
    "len(significant_features)"
   ]
  },
  {
   "cell_type": "code",
   "execution_count": 904,
   "metadata": {},
   "outputs": [
    {
     "name": "stdout",
     "output_type": "stream",
     "text": [
      "r2_score: 0.7467337735895012 \n",
      " mae: 2586.6556732835734 \n",
      " mse: 12836969.229828712 \n",
      " rmse: 3582.871645737356\n"
     ]
    }
   ],
   "source": [
    "lasso_model = Lasso(10, normalize=True).fit(X_train, y_train)\n",
    "y_pred = lasso_model.predict(X_test)\n",
    "eval_metrics(y_test, y_pred)"
   ]
  },
  {
   "cell_type": "code",
   "execution_count": 905,
   "metadata": {},
   "outputs": [
    {
     "data": {
      "text/plain": [
       "9"
      ]
     },
     "execution_count": 905,
     "metadata": {},
     "output_type": "execute_result"
    }
   ],
   "source": [
    "# Create features DataFrame\n",
    "feature_coef = pd.DataFrame({'features' : X.columns, 'coef' : lasso_model.coef_})\n",
    "significant_features = feature_coef.loc[feature_coef.coef != 0, :]\n",
    "len(significant_features)"
   ]
  },
  {
   "cell_type": "code",
   "execution_count": 906,
   "metadata": {},
   "outputs": [
    {
     "data": {
      "text/html": [
       "<div>\n",
       "<style scoped>\n",
       "    .dataframe tbody tr th:only-of-type {\n",
       "        vertical-align: middle;\n",
       "    }\n",
       "\n",
       "    .dataframe tbody tr th {\n",
       "        vertical-align: top;\n",
       "    }\n",
       "\n",
       "    .dataframe thead th {\n",
       "        text-align: right;\n",
       "    }\n",
       "</style>\n",
       "<table border=\"1\" class=\"dataframe\">\n",
       "  <thead>\n",
       "    <tr style=\"text-align: right;\">\n",
       "      <th></th>\n",
       "      <th>features</th>\n",
       "      <th>coef</th>\n",
       "    </tr>\n",
       "  </thead>\n",
       "  <tbody>\n",
       "    <tr>\n",
       "      <th>99</th>\n",
       "      <td>model_Espace</td>\n",
       "      <td>3522.502386</td>\n",
       "    </tr>\n",
       "    <tr>\n",
       "      <th>90</th>\n",
       "      <td>make_Audi</td>\n",
       "      <td>2299.011463</td>\n",
       "    </tr>\n",
       "    <tr>\n",
       "      <th>21</th>\n",
       "      <td>ss_led_headlights</td>\n",
       "      <td>289.906313</td>\n",
       "    </tr>\n",
       "    <tr>\n",
       "      <th>51</th>\n",
       "      <td>cc_automatic_climate_control</td>\n",
       "      <td>218.798315</td>\n",
       "    </tr>\n",
       "    <tr>\n",
       "      <th>1</th>\n",
       "      <td>hp</td>\n",
       "      <td>130.097645</td>\n",
       "    </tr>\n",
       "    <tr>\n",
       "      <th>59</th>\n",
       "      <td>cc_heads_up_display</td>\n",
       "      <td>62.544262</td>\n",
       "    </tr>\n",
       "    <tr>\n",
       "      <th>2</th>\n",
       "      <td>km</td>\n",
       "      <td>-0.014847</td>\n",
       "    </tr>\n",
       "    <tr>\n",
       "      <th>124</th>\n",
       "      <td>gearing_type_Manual</td>\n",
       "      <td>-725.430610</td>\n",
       "    </tr>\n",
       "    <tr>\n",
       "      <th>34</th>\n",
       "      <td>age</td>\n",
       "      <td>-1468.239575</td>\n",
       "    </tr>\n",
       "  </tbody>\n",
       "</table>\n",
       "</div>"
      ],
      "text/plain": [
       "                         features         coef\n",
       "99                   model_Espace  3522.502386\n",
       "90                      make_Audi  2299.011463\n",
       "21              ss_led_headlights   289.906313\n",
       "51   cc_automatic_climate_control   218.798315\n",
       "1                              hp   130.097645\n",
       "59            cc_heads_up_display    62.544262\n",
       "2                              km    -0.014847\n",
       "124           gearing_type_Manual  -725.430610\n",
       "34                            age -1468.239575"
      ]
     },
     "execution_count": 906,
     "metadata": {},
     "output_type": "execute_result"
    }
   ],
   "source": [
    "significant_features.sort_values(by=\"coef\", ascending=False)"
   ]
  },
  {
   "cell_type": "code",
   "execution_count": 907,
   "metadata": {},
   "outputs": [
    {
     "data": {
      "image/png": "[encoded data removed]",
      "text/plain": [
       "<Figure size 500x3600 with 1 Axes>"
      ]
     },
     "metadata": {
      "needs_background": "light"
     },
     "output_type": "display_data"
    },
    {
     "data": {
      "text/plain": [
       "<AxesSubplot:title={'center':'Feature Importances of 135 Features using Lasso'}, xlabel='coefficient value'>"
      ]
     },
     "execution_count": 907,
     "metadata": {},
     "output_type": "execute_result"
    }
   ],
   "source": [
    "from yellowbrick.features import RadViz\n",
    "from yellowbrick.model_selection import FeatureImportances\n",
    "\n",
    "# Load the regression dataset\n",
    "\n",
    "# Title case the feature for better display and create the visualizer\n",
    "labels = list(map(lambda s: s.title(), X.columns))\n",
    "viz = FeatureImportances(lasso_model, labels=labels, relative=False)\n",
    "visualizer = RadViz(size=(500, 3600))\n",
    "\n",
    "# Fit and show the feature importances\n",
    "viz.fit(X_train, y_train)\n",
    "viz.show()"
   ]
  },
  {
   "cell_type": "markdown",
   "metadata": {},
   "source": [
    "saving sci-kit learn model"
   ]
  },
  {
   "cell_type": "code",
   "execution_count": 908,
   "metadata": {},
   "outputs": [],
   "source": [
    "df2=pd.read_pickle(\"golden_data_not_dummy.pkl\")"
   ]
  },
  {
   "cell_type": "code",
   "execution_count": 909,
   "metadata": {},
   "outputs": [
    {
     "data": {
      "text/html": [
       "<div>\n",
       "<style scoped>\n",
       "    .dataframe tbody tr th:only-of-type {\n",
       "        vertical-align: middle;\n",
       "    }\n",
       "\n",
       "    .dataframe tbody tr th {\n",
       "        vertical-align: top;\n",
       "    }\n",
       "\n",
       "    .dataframe thead th {\n",
       "        text-align: right;\n",
       "    }\n",
       "</style>\n",
       "<table border=\"1\" class=\"dataframe\">\n",
       "  <thead>\n",
       "    <tr style=\"text-align: right;\">\n",
       "      <th></th>\n",
       "      <th>displacement</th>\n",
       "      <th>make</th>\n",
       "      <th>model</th>\n",
       "      <th>hp</th>\n",
       "      <th>km</th>\n",
       "      <th>ss_abs</th>\n",
       "      <th>ss_adaptive_cruise_control</th>\n",
       "      <th>ss_adaptive_headlights</th>\n",
       "      <th>ss_alarm_system</th>\n",
       "      <th>ss_blind_spot_monitor</th>\n",
       "      <th>...</th>\n",
       "      <th>cc_split_rear_seats</th>\n",
       "      <th>cc_start_stop_system</th>\n",
       "      <th>cc_sunroof</th>\n",
       "      <th>cc_tinted_windows</th>\n",
       "      <th>cc_wind_deflector</th>\n",
       "      <th>cc_windshield</th>\n",
       "      <th>ext_alloy_wheels</th>\n",
       "      <th>ext_touch_screen</th>\n",
       "      <th>ext_trailer_hitch</th>\n",
       "      <th>ext_voice_control</th>\n",
       "    </tr>\n",
       "  </thead>\n",
       "  <tbody>\n",
       "    <tr>\n",
       "      <th>0</th>\n",
       "      <td>1422.0</td>\n",
       "      <td>Audi</td>\n",
       "      <td>A1</td>\n",
       "      <td>66.0</td>\n",
       "      <td>56013</td>\n",
       "      <td>1.0</td>\n",
       "      <td>0.0</td>\n",
       "      <td>0.0</td>\n",
       "      <td>0.0</td>\n",
       "      <td>0.0</td>\n",
       "      <td>...</td>\n",
       "      <td>0.0</td>\n",
       "      <td>1.0</td>\n",
       "      <td>0.0</td>\n",
       "      <td>0.0</td>\n",
       "      <td>0.0</td>\n",
       "      <td>0.0</td>\n",
       "      <td>1.0</td>\n",
       "      <td>0.0</td>\n",
       "      <td>0.0</td>\n",
       "      <td>1.0</td>\n",
       "    </tr>\n",
       "    <tr>\n",
       "      <th>1</th>\n",
       "      <td>1798.0</td>\n",
       "      <td>Audi</td>\n",
       "      <td>A1</td>\n",
       "      <td>141.0</td>\n",
       "      <td>80000</td>\n",
       "      <td>1.0</td>\n",
       "      <td>0.0</td>\n",
       "      <td>0.0</td>\n",
       "      <td>0.0</td>\n",
       "      <td>0.0</td>\n",
       "      <td>...</td>\n",
       "      <td>0.0</td>\n",
       "      <td>1.0</td>\n",
       "      <td>0.0</td>\n",
       "      <td>1.0</td>\n",
       "      <td>0.0</td>\n",
       "      <td>0.0</td>\n",
       "      <td>1.0</td>\n",
       "      <td>0.0</td>\n",
       "      <td>0.0</td>\n",
       "      <td>1.0</td>\n",
       "    </tr>\n",
       "    <tr>\n",
       "      <th>2</th>\n",
       "      <td>1598.0</td>\n",
       "      <td>Audi</td>\n",
       "      <td>A1</td>\n",
       "      <td>85.0</td>\n",
       "      <td>83450</td>\n",
       "      <td>1.0</td>\n",
       "      <td>0.0</td>\n",
       "      <td>0.0</td>\n",
       "      <td>0.0</td>\n",
       "      <td>0.0</td>\n",
       "      <td>...</td>\n",
       "      <td>0.0</td>\n",
       "      <td>1.0</td>\n",
       "      <td>0.0</td>\n",
       "      <td>0.0</td>\n",
       "      <td>0.0</td>\n",
       "      <td>0.0</td>\n",
       "      <td>1.0</td>\n",
       "      <td>0.0</td>\n",
       "      <td>0.0</td>\n",
       "      <td>1.0</td>\n",
       "    </tr>\n",
       "    <tr>\n",
       "      <th>3</th>\n",
       "      <td>1422.0</td>\n",
       "      <td>Audi</td>\n",
       "      <td>A1</td>\n",
       "      <td>66.0</td>\n",
       "      <td>73000</td>\n",
       "      <td>1.0</td>\n",
       "      <td>0.0</td>\n",
       "      <td>0.0</td>\n",
       "      <td>1.0</td>\n",
       "      <td>0.0</td>\n",
       "      <td>...</td>\n",
       "      <td>1.0</td>\n",
       "      <td>1.0</td>\n",
       "      <td>0.0</td>\n",
       "      <td>0.0</td>\n",
       "      <td>0.0</td>\n",
       "      <td>0.0</td>\n",
       "      <td>1.0</td>\n",
       "      <td>0.0</td>\n",
       "      <td>0.0</td>\n",
       "      <td>1.0</td>\n",
       "    </tr>\n",
       "    <tr>\n",
       "      <th>4</th>\n",
       "      <td>1422.0</td>\n",
       "      <td>Audi</td>\n",
       "      <td>A1</td>\n",
       "      <td>66.0</td>\n",
       "      <td>16200</td>\n",
       "      <td>1.0</td>\n",
       "      <td>0.0</td>\n",
       "      <td>0.0</td>\n",
       "      <td>0.0</td>\n",
       "      <td>0.0</td>\n",
       "      <td>...</td>\n",
       "      <td>0.0</td>\n",
       "      <td>1.0</td>\n",
       "      <td>0.0</td>\n",
       "      <td>0.0</td>\n",
       "      <td>0.0</td>\n",
       "      <td>0.0</td>\n",
       "      <td>1.0</td>\n",
       "      <td>0.0</td>\n",
       "      <td>0.0</td>\n",
       "      <td>1.0</td>\n",
       "    </tr>\n",
       "  </tbody>\n",
       "</table>\n",
       "<p>5 rows × 98 columns</p>\n",
       "</div>"
      ],
      "text/plain": [
       "   displacement  make model     hp     km  ss_abs  ss_adaptive_cruise_control  \\\n",
       "0        1422.0  Audi    A1   66.0  56013     1.0                         0.0   \n",
       "1        1798.0  Audi    A1  141.0  80000     1.0                         0.0   \n",
       "2        1598.0  Audi    A1   85.0  83450     1.0                         0.0   \n",
       "3        1422.0  Audi    A1   66.0  73000     1.0                         0.0   \n",
       "4        1422.0  Audi    A1   66.0  16200     1.0                         0.0   \n",
       "\n",
       "   ss_adaptive_headlights  ss_alarm_system  ss_blind_spot_monitor  ...  \\\n",
       "0                     0.0              0.0                    0.0  ...   \n",
       "1                     0.0              0.0                    0.0  ...   \n",
       "2                     0.0              0.0                    0.0  ...   \n",
       "3                     0.0              1.0                    0.0  ...   \n",
       "4                     0.0              0.0                    0.0  ...   \n",
       "\n",
       "   cc_split_rear_seats  cc_start_stop_system  cc_sunroof  cc_tinted_windows  \\\n",
       "0                  0.0                   1.0         0.0                0.0   \n",
       "1                  0.0                   1.0         0.0                1.0   \n",
       "2                  0.0                   1.0         0.0                0.0   \n",
       "3                  1.0                   1.0         0.0                0.0   \n",
       "4                  0.0                   1.0         0.0                0.0   \n",
       "\n",
       "   cc_wind_deflector  cc_windshield  ext_alloy_wheels  ext_touch_screen  \\\n",
       "0                0.0            0.0               1.0               0.0   \n",
       "1                0.0            0.0               1.0               0.0   \n",
       "2                0.0            0.0               1.0               0.0   \n",
       "3                0.0            0.0               1.0               0.0   \n",
       "4                0.0            0.0               1.0               0.0   \n",
       "\n",
       "   ext_trailer_hitch  ext_voice_control  \n",
       "0                0.0                1.0  \n",
       "1                0.0                1.0  \n",
       "2                0.0                1.0  \n",
       "3                0.0                1.0  \n",
       "4                0.0                1.0  \n",
       "\n",
       "[5 rows x 98 columns]"
      ]
     },
     "execution_count": 909,
     "metadata": {},
     "output_type": "execute_result"
    }
   ],
   "source": [
    "df2.head()"
   ]
  },
  {
   "cell_type": "code",
   "execution_count": 910,
   "metadata": {},
   "outputs": [
    {
     "data": {
      "text/plain": [
       "0    15770\n",
       "1    14500\n",
       "2    14640\n",
       "3    14500\n",
       "4    16790\n",
       "Name: price, dtype: int64"
      ]
     },
     "execution_count": 910,
     "metadata": {},
     "output_type": "execute_result"
    }
   ],
   "source": [
    "df2[:5]['price']"
   ]
  },
  {
   "cell_type": "code",
   "execution_count": 911,
   "metadata": {},
   "outputs": [
    {
     "data": {
      "text/plain": [
       "Manual            7637\n",
       "Automatic         6896\n",
       "Semi-automatic     461\n",
       "Name: gearing_type, dtype: int64"
      ]
     },
     "execution_count": 911,
     "metadata": {},
     "output_type": "execute_result"
    }
   ],
   "source": [
    "df2.gearing_type.value_counts()"
   ]
  },
  {
   "cell_type": "code",
   "execution_count": 912,
   "metadata": {},
   "outputs": [
    {
     "data": {
      "text/html": [
       "<div>\n",
       "<style scoped>\n",
       "    .dataframe tbody tr th:only-of-type {\n",
       "        vertical-align: middle;\n",
       "    }\n",
       "\n",
       "    .dataframe tbody tr th {\n",
       "        vertical-align: top;\n",
       "    }\n",
       "\n",
       "    .dataframe thead th {\n",
       "        text-align: right;\n",
       "    }\n",
       "</style>\n",
       "<table border=\"1\" class=\"dataframe\">\n",
       "  <thead>\n",
       "    <tr style=\"text-align: right;\">\n",
       "      <th></th>\n",
       "      <th>hp</th>\n",
       "      <th>age</th>\n",
       "      <th>km</th>\n",
       "      <th>model</th>\n",
       "      <th>gearing_type</th>\n",
       "    </tr>\n",
       "  </thead>\n",
       "  <tbody>\n",
       "    <tr>\n",
       "      <th>0</th>\n",
       "      <td>66.0</td>\n",
       "      <td>3</td>\n",
       "      <td>56013</td>\n",
       "      <td>A1</td>\n",
       "      <td>Automatic</td>\n",
       "    </tr>\n",
       "    <tr>\n",
       "      <th>1</th>\n",
       "      <td>141.0</td>\n",
       "      <td>2</td>\n",
       "      <td>80000</td>\n",
       "      <td>A1</td>\n",
       "      <td>Automatic</td>\n",
       "    </tr>\n",
       "    <tr>\n",
       "      <th>2</th>\n",
       "      <td>85.0</td>\n",
       "      <td>3</td>\n",
       "      <td>83450</td>\n",
       "      <td>A1</td>\n",
       "      <td>Automatic</td>\n",
       "    </tr>\n",
       "    <tr>\n",
       "      <th>3</th>\n",
       "      <td>66.0</td>\n",
       "      <td>3</td>\n",
       "      <td>73000</td>\n",
       "      <td>A1</td>\n",
       "      <td>Automatic</td>\n",
       "    </tr>\n",
       "    <tr>\n",
       "      <th>4</th>\n",
       "      <td>66.0</td>\n",
       "      <td>3</td>\n",
       "      <td>16200</td>\n",
       "      <td>A1</td>\n",
       "      <td>Automatic</td>\n",
       "    </tr>\n",
       "  </tbody>\n",
       "</table>\n",
       "</div>"
      ],
      "text/plain": [
       "      hp  age     km model gearing_type\n",
       "0   66.0    3  56013    A1    Automatic\n",
       "1  141.0    2  80000    A1    Automatic\n",
       "2   85.0    3  83450    A1    Automatic\n",
       "3   66.0    3  73000    A1    Automatic\n",
       "4   66.0    3  16200    A1    Automatic"
      ]
     },
     "execution_count": 912,
     "metadata": {},
     "output_type": "execute_result"
    }
   ],
   "source": [
    "df2[:5][['hp',\"age\",'km','model','gearing_type']]"
   ]
  },
  {
   "cell_type": "code",
   "execution_count": 913,
   "metadata": {},
   "outputs": [
    {
     "data": {
      "text/plain": [
       "(14994, 98)"
      ]
     },
     "execution_count": 913,
     "metadata": {},
     "output_type": "execute_result"
    }
   ],
   "source": [
    "df2.shape"
   ]
  },
  {
   "cell_type": "code",
   "execution_count": 914,
   "metadata": {
    "scrolled": true
   },
   "outputs": [],
   "source": [
    "y=df2[\"price\"][:14990]"
   ]
  },
  {
   "cell_type": "code",
   "execution_count": 915,
   "metadata": {},
   "outputs": [
    {
     "data": {
      "text/plain": [
       "0    15770\n",
       "1    14500\n",
       "2    14640\n",
       "3    14500\n",
       "4    16790\n",
       "Name: price, dtype: int64"
      ]
     },
     "execution_count": 915,
     "metadata": {},
     "output_type": "execute_result"
    }
   ],
   "source": [
    "y.head()"
   ]
  },
  {
   "cell_type": "code",
   "execution_count": 916,
   "metadata": {},
   "outputs": [],
   "source": [
    "X=df2[['hp',\"age\",'km','model','gearing_type']][:14990]"
   ]
  },
  {
   "cell_type": "code",
   "execution_count": 917,
   "metadata": {},
   "outputs": [],
   "source": [
    "X=pd.get_dummies(X)"
   ]
  },
  {
   "cell_type": "code",
   "execution_count": 918,
   "metadata": {
    "scrolled": true
   },
   "outputs": [
    {
     "data": {
      "text/html": [
       "<div>\n",
       "<style scoped>\n",
       "    .dataframe tbody tr th:only-of-type {\n",
       "        vertical-align: middle;\n",
       "    }\n",
       "\n",
       "    .dataframe tbody tr th {\n",
       "        vertical-align: top;\n",
       "    }\n",
       "\n",
       "    .dataframe thead th {\n",
       "        text-align: right;\n",
       "    }\n",
       "</style>\n",
       "<table border=\"1\" class=\"dataframe\">\n",
       "  <thead>\n",
       "    <tr style=\"text-align: right;\">\n",
       "      <th></th>\n",
       "      <th>hp</th>\n",
       "      <th>age</th>\n",
       "      <th>km</th>\n",
       "      <th>model_A1</th>\n",
       "      <th>model_A2</th>\n",
       "      <th>model_A3</th>\n",
       "      <th>model_Astra</th>\n",
       "      <th>model_Clio</th>\n",
       "      <th>model_Corsa</th>\n",
       "      <th>model_Espace</th>\n",
       "      <th>model_Insignia</th>\n",
       "      <th>gearing_type_Automatic</th>\n",
       "      <th>gearing_type_Manual</th>\n",
       "      <th>gearing_type_Semi-automatic</th>\n",
       "    </tr>\n",
       "  </thead>\n",
       "  <tbody>\n",
       "    <tr>\n",
       "      <th>0</th>\n",
       "      <td>66.0</td>\n",
       "      <td>3</td>\n",
       "      <td>56013</td>\n",
       "      <td>1</td>\n",
       "      <td>0</td>\n",
       "      <td>0</td>\n",
       "      <td>0</td>\n",
       "      <td>0</td>\n",
       "      <td>0</td>\n",
       "      <td>0</td>\n",
       "      <td>0</td>\n",
       "      <td>1</td>\n",
       "      <td>0</td>\n",
       "      <td>0</td>\n",
       "    </tr>\n",
       "    <tr>\n",
       "      <th>1</th>\n",
       "      <td>141.0</td>\n",
       "      <td>2</td>\n",
       "      <td>80000</td>\n",
       "      <td>1</td>\n",
       "      <td>0</td>\n",
       "      <td>0</td>\n",
       "      <td>0</td>\n",
       "      <td>0</td>\n",
       "      <td>0</td>\n",
       "      <td>0</td>\n",
       "      <td>0</td>\n",
       "      <td>1</td>\n",
       "      <td>0</td>\n",
       "      <td>0</td>\n",
       "    </tr>\n",
       "    <tr>\n",
       "      <th>2</th>\n",
       "      <td>85.0</td>\n",
       "      <td>3</td>\n",
       "      <td>83450</td>\n",
       "      <td>1</td>\n",
       "      <td>0</td>\n",
       "      <td>0</td>\n",
       "      <td>0</td>\n",
       "      <td>0</td>\n",
       "      <td>0</td>\n",
       "      <td>0</td>\n",
       "      <td>0</td>\n",
       "      <td>1</td>\n",
       "      <td>0</td>\n",
       "      <td>0</td>\n",
       "    </tr>\n",
       "    <tr>\n",
       "      <th>3</th>\n",
       "      <td>66.0</td>\n",
       "      <td>3</td>\n",
       "      <td>73000</td>\n",
       "      <td>1</td>\n",
       "      <td>0</td>\n",
       "      <td>0</td>\n",
       "      <td>0</td>\n",
       "      <td>0</td>\n",
       "      <td>0</td>\n",
       "      <td>0</td>\n",
       "      <td>0</td>\n",
       "      <td>1</td>\n",
       "      <td>0</td>\n",
       "      <td>0</td>\n",
       "    </tr>\n",
       "    <tr>\n",
       "      <th>4</th>\n",
       "      <td>66.0</td>\n",
       "      <td>3</td>\n",
       "      <td>16200</td>\n",
       "      <td>1</td>\n",
       "      <td>0</td>\n",
       "      <td>0</td>\n",
       "      <td>0</td>\n",
       "      <td>0</td>\n",
       "      <td>0</td>\n",
       "      <td>0</td>\n",
       "      <td>0</td>\n",
       "      <td>1</td>\n",
       "      <td>0</td>\n",
       "      <td>0</td>\n",
       "    </tr>\n",
       "  </tbody>\n",
       "</table>\n",
       "</div>"
      ],
      "text/plain": [
       "      hp  age     km  model_A1  model_A2  model_A3  model_Astra  model_Clio  \\\n",
       "0   66.0    3  56013         1         0         0            0           0   \n",
       "1  141.0    2  80000         1         0         0            0           0   \n",
       "2   85.0    3  83450         1         0         0            0           0   \n",
       "3   66.0    3  73000         1         0         0            0           0   \n",
       "4   66.0    3  16200         1         0         0            0           0   \n",
       "\n",
       "   model_Corsa  model_Espace  model_Insignia  gearing_type_Automatic  \\\n",
       "0            0             0               0                       1   \n",
       "1            0             0               0                       1   \n",
       "2            0             0               0                       1   \n",
       "3            0             0               0                       1   \n",
       "4            0             0               0                       1   \n",
       "\n",
       "   gearing_type_Manual  gearing_type_Semi-automatic  \n",
       "0                    0                            0  \n",
       "1                    0                            0  \n",
       "2                    0                            0  \n",
       "3                    0                            0  \n",
       "4                    0                            0  "
      ]
     },
     "execution_count": 918,
     "metadata": {},
     "output_type": "execute_result"
    }
   ],
   "source": [
    "X.head()"
   ]
  },
  {
   "cell_type": "code",
   "execution_count": 919,
   "metadata": {
    "scrolled": true
   },
   "outputs": [
    {
     "data": {
      "text/plain": [
       "(14990, 14)"
      ]
     },
     "execution_count": 919,
     "metadata": {},
     "output_type": "execute_result"
    }
   ],
   "source": [
    "X.shape"
   ]
  },
  {
   "cell_type": "code",
   "execution_count": 920,
   "metadata": {},
   "outputs": [
    {
     "data": {
      "text/plain": [
       "(14990,)"
      ]
     },
     "execution_count": 920,
     "metadata": {},
     "output_type": "execute_result"
    }
   ],
   "source": [
    "y.shape"
   ]
  },
  {
   "cell_type": "code",
   "execution_count": 921,
   "metadata": {},
   "outputs": [],
   "source": [
    "import pickle\n",
    "columns=X.columns\n",
    "pickle.dump(columns, open(\"my_columns\", 'wb'))"
   ]
  },
  {
   "cell_type": "code",
   "execution_count": 922,
   "metadata": {},
   "outputs": [],
   "source": [
    "columns=pickle.load(open('my_columns','rb'))"
   ]
  },
  {
   "cell_type": "code",
   "execution_count": 923,
   "metadata": {},
   "outputs": [
    {
     "data": {
      "text/plain": [
       "Index(['hp', 'age', 'km', 'model_A1', 'model_A2', 'model_A3', 'model_Astra',\n",
       "       'model_Clio', 'model_Corsa', 'model_Espace', 'model_Insignia',\n",
       "       'gearing_type_Automatic', 'gearing_type_Manual',\n",
       "       'gearing_type_Semi-automatic'],\n",
       "      dtype='object')"
      ]
     },
     "execution_count": 923,
     "metadata": {},
     "output_type": "execute_result"
    }
   ],
   "source": [
    "columns"
   ]
  },
  {
   "cell_type": "code",
   "execution_count": 924,
   "metadata": {},
   "outputs": [
    {
     "data": {
      "text/plain": [
       "0    15770\n",
       "1    14500\n",
       "2    14640\n",
       "3    14500\n",
       "4    16790\n",
       "Name: price, dtype: int64"
      ]
     },
     "execution_count": 924,
     "metadata": {},
     "output_type": "execute_result"
    }
   ],
   "source": [
    "y.head()"
   ]
  },
  {
   "cell_type": "code",
   "execution_count": 925,
   "metadata": {},
   "outputs": [
    {
     "name": "stdout",
     "output_type": "stream",
     "text": [
      "r2_score: 0.8550267302893201 \n",
      " mae: 1882.780321821478 \n",
      " mse: 7287365.248764298 \n",
      " rmse: 2699.5120390108095\n"
     ]
    }
   ],
   "source": [
    "from sklearn.model_selection import train_test_split\n",
    "X_train, X_test, y_train, y_test = train_test_split(X, y, test_size = 0.2, random_state = 0)\n",
    "from sklearn.linear_model import LinearRegression\n",
    "lm = LinearRegression()\n",
    "lm.fit(X_train,y_train)\n",
    "y_pred = lm.predict(X_test)\n",
    "eval_metrics(y_test, y_pred)"
   ]
  },
  {
   "cell_type": "code",
   "execution_count": 926,
   "metadata": {},
   "outputs": [],
   "source": [
    "import pickle\n",
    "pickle.dump(lm, open(\"saved_model\", 'wb'))"
   ]
  },
  {
   "cell_type": "code",
   "execution_count": 927,
   "metadata": {},
   "outputs": [],
   "source": [
    "my_model=pickle.load(open(\"saved_model\", \"rb\"))"
   ]
  },
  {
   "cell_type": "code",
   "execution_count": null,
   "metadata": {},
   "outputs": [],
   "source": []
  },
  {
   "cell_type": "code",
   "execution_count": 928,
   "metadata": {},
   "outputs": [
    {
     "data": {
      "application/javascript": [
       "\n",
       "        if (window._pyforest_update_imports_cell) { window._pyforest_update_imports_cell('from sklearn.ensemble import RandomForestClassifier\\nfrom sklearn.preprocessing import StandardScaler\\nfrom sklearn.model_selection import GridSearchCV'); }\n",
       "    "
      ],
      "text/plain": [
       "<IPython.core.display.Javascript object>"
      ]
     },
     "metadata": {},
     "output_type": "display_data"
    }
   ],
   "source": [
    "scaler=StandardScaler()\n",
    "my_scaler=scaler.fit(X_train)\n",
    "pickle.dump(my_scaler, open(\"my_scaler\", 'wb'))"
   ]
  },
  {
   "cell_type": "code",
   "execution_count": 929,
   "metadata": {},
   "outputs": [],
   "source": [
    "scaler=pickle.load(open(\"my_scaler\", \"rb\"))"
   ]
  },
  {
   "cell_type": "code",
   "execution_count": 930,
   "metadata": {},
   "outputs": [],
   "source": [
    "X_train_sc=scaler.transform(X_train)\n",
    "X_test_sc=scaler.transform(X_test)"
   ]
  },
  {
   "cell_type": "code",
   "execution_count": 931,
   "metadata": {},
   "outputs": [
    {
     "data": {
      "text/plain": [
       "RandomForestRegressor()"
      ]
     },
     "execution_count": 931,
     "metadata": {},
     "output_type": "execute_result"
    }
   ],
   "source": [
    "from sklearn.ensemble import RandomForestRegressor\n",
    "rf = RandomForestRegressor()\n",
    "rf.fit(X_train_sc,y_train)"
   ]
  },
  {
   "cell_type": "code",
   "execution_count": 932,
   "metadata": {},
   "outputs": [
    {
     "name": "stdout",
     "output_type": "stream",
     "text": [
      "r2_score: 0.9244958478474333 \n",
      " mae: 1111.2748861846378 \n",
      " mse: 3795364.0393991377 \n",
      " rmse: 1948.1694072639416\n"
     ]
    }
   ],
   "source": [
    "y_pred = rf.predict(X_test_sc)\n",
    "eval_metrics(y_test, y_pred)"
   ]
  },
  {
   "cell_type": "code",
   "execution_count": 933,
   "metadata": {},
   "outputs": [],
   "source": [
    "pickle.dump(rf, open(\"rf_model\", 'wb'))\n",
    "rf_model=pickle.load(open(\"rf_model\", \"rb\"))"
   ]
  },
  {
   "cell_type": "code",
   "execution_count": null,
   "metadata": {},
   "outputs": [],
   "source": []
  },
  {
   "cell_type": "code",
   "execution_count": 934,
   "metadata": {},
   "outputs": [
    {
     "data": {
      "text/plain": [
       "XGBRFRegressor(base_score=0.5, booster='gbtree', colsample_bylevel=1,\n",
       "               colsample_bytree=1, gamma=0, gpu_id=-1, importance_type='gain',\n",
       "               interaction_constraints='', max_delta_step=0, max_depth=6,\n",
       "               min_child_weight=1, missing=nan, monotone_constraints='()',\n",
       "               n_estimators=100, n_jobs=8, num_parallel_tree=100,\n",
       "               objective='reg:squarederror', random_state=0, reg_alpha=0,\n",
       "               scale_pos_weight=1, tree_method='exact', validate_parameters=1,\n",
       "               verbosity=None)"
      ]
     },
     "execution_count": 934,
     "metadata": {},
     "output_type": "execute_result"
    }
   ],
   "source": [
    "from xgboost import XGBRFRegressor\n",
    "xgb=XGBRFRegressor()\n",
    "xgb.fit(X_train,y_train)"
   ]
  },
  {
   "cell_type": "code",
   "execution_count": 935,
   "metadata": {},
   "outputs": [
    {
     "name": "stdout",
     "output_type": "stream",
     "text": [
      "r2_score: 0.8918790063943383 \n",
      " mae: 1597.0472393379441 \n",
      " mse: 5434913.436361031 \n",
      " rmse: 2331.2900798401365\n"
     ]
    }
   ],
   "source": [
    "y_pred = xgb.predict(X_test)\n",
    "eval_metrics(y_test, y_pred)"
   ]
  },
  {
   "cell_type": "code",
   "execution_count": 936,
   "metadata": {},
   "outputs": [],
   "source": [
    "pickle.dump(xgb, open(\"xgb_model\", 'wb'))\n",
    "xgb_model=pickle.load(open(\"xgb_model\", \"rb\"))"
   ]
  },
  {
   "cell_type": "code",
   "execution_count": 937,
   "metadata": {},
   "outputs": [],
   "source": [
    "my_dict = {\n",
    "    \"hp\": 200,\n",
    "    \"age\": 1,\n",
    "    \"km\": 100000,\n",
    "    \"model\": 'A3',\n",
    "    'gearing_type':'Automatic'\n",
    "}"
   ]
  },
  {
   "cell_type": "code",
   "execution_count": 938,
   "metadata": {},
   "outputs": [],
   "source": [
    "df = pd.DataFrame.from_dict([my_dict])"
   ]
  },
  {
   "cell_type": "code",
   "execution_count": 939,
   "metadata": {},
   "outputs": [
    {
     "data": {
      "text/html": [
       "<div>\n",
       "<style scoped>\n",
       "    .dataframe tbody tr th:only-of-type {\n",
       "        vertical-align: middle;\n",
       "    }\n",
       "\n",
       "    .dataframe tbody tr th {\n",
       "        vertical-align: top;\n",
       "    }\n",
       "\n",
       "    .dataframe thead th {\n",
       "        text-align: right;\n",
       "    }\n",
       "</style>\n",
       "<table border=\"1\" class=\"dataframe\">\n",
       "  <thead>\n",
       "    <tr style=\"text-align: right;\">\n",
       "      <th></th>\n",
       "      <th>hp</th>\n",
       "      <th>age</th>\n",
       "      <th>km</th>\n",
       "      <th>model</th>\n",
       "      <th>gearing_type</th>\n",
       "    </tr>\n",
       "  </thead>\n",
       "  <tbody>\n",
       "    <tr>\n",
       "      <th>0</th>\n",
       "      <td>200</td>\n",
       "      <td>1</td>\n",
       "      <td>100000</td>\n",
       "      <td>A3</td>\n",
       "      <td>Automatic</td>\n",
       "    </tr>\n",
       "  </tbody>\n",
       "</table>\n",
       "</div>"
      ],
      "text/plain": [
       "    hp  age      km model gearing_type\n",
       "0  200    1  100000    A3    Automatic"
      ]
     },
     "execution_count": 939,
     "metadata": {},
     "output_type": "execute_result"
    }
   ],
   "source": [
    "df.head()"
   ]
  },
  {
   "cell_type": "code",
   "execution_count": 940,
   "metadata": {},
   "outputs": [],
   "source": [
    "df = pd.get_dummies(df).reindex(columns=columns, fill_value=0)"
   ]
  },
  {
   "cell_type": "code",
   "execution_count": 941,
   "metadata": {},
   "outputs": [
    {
     "data": {
      "text/html": [
       "<div>\n",
       "<style scoped>\n",
       "    .dataframe tbody tr th:only-of-type {\n",
       "        vertical-align: middle;\n",
       "    }\n",
       "\n",
       "    .dataframe tbody tr th {\n",
       "        vertical-align: top;\n",
       "    }\n",
       "\n",
       "    .dataframe thead th {\n",
       "        text-align: right;\n",
       "    }\n",
       "</style>\n",
       "<table border=\"1\" class=\"dataframe\">\n",
       "  <thead>\n",
       "    <tr style=\"text-align: right;\">\n",
       "      <th></th>\n",
       "      <th>hp</th>\n",
       "      <th>age</th>\n",
       "      <th>km</th>\n",
       "      <th>model_A1</th>\n",
       "      <th>model_A2</th>\n",
       "      <th>model_A3</th>\n",
       "      <th>model_Astra</th>\n",
       "      <th>model_Clio</th>\n",
       "      <th>model_Corsa</th>\n",
       "      <th>model_Espace</th>\n",
       "      <th>model_Insignia</th>\n",
       "      <th>gearing_type_Automatic</th>\n",
       "      <th>gearing_type_Manual</th>\n",
       "      <th>gearing_type_Semi-automatic</th>\n",
       "    </tr>\n",
       "  </thead>\n",
       "  <tbody>\n",
       "    <tr>\n",
       "      <th>0</th>\n",
       "      <td>200</td>\n",
       "      <td>1</td>\n",
       "      <td>100000</td>\n",
       "      <td>0</td>\n",
       "      <td>0</td>\n",
       "      <td>1</td>\n",
       "      <td>0</td>\n",
       "      <td>0</td>\n",
       "      <td>0</td>\n",
       "      <td>0</td>\n",
       "      <td>0</td>\n",
       "      <td>1</td>\n",
       "      <td>0</td>\n",
       "      <td>0</td>\n",
       "    </tr>\n",
       "  </tbody>\n",
       "</table>\n",
       "</div>"
      ],
      "text/plain": [
       "    hp  age      km  model_A1  model_A2  model_A3  model_Astra  model_Clio  \\\n",
       "0  200    1  100000         0         0         1            0           0   \n",
       "\n",
       "   model_Corsa  model_Espace  model_Insignia  gearing_type_Automatic  \\\n",
       "0            0             0               0                       1   \n",
       "\n",
       "   gearing_type_Manual  gearing_type_Semi-automatic  \n",
       "0                    0                            0  "
      ]
     },
     "execution_count": 941,
     "metadata": {},
     "output_type": "execute_result"
    }
   ],
   "source": [
    "df.head()"
   ]
  },
  {
   "cell_type": "code",
   "execution_count": 942,
   "metadata": {},
   "outputs": [],
   "source": [
    "lm_pred=list(my_model.predict(df))"
   ]
  },
  {
   "cell_type": "code",
   "execution_count": 943,
   "metadata": {},
   "outputs": [],
   "source": [
    "xgb_pred=list(xgb_model.predict(df))"
   ]
  },
  {
   "cell_type": "code",
   "execution_count": 944,
   "metadata": {},
   "outputs": [
    {
     "name": "stdout",
     "output_type": "stream",
     "text": [
      "lm_pred   : [32906.681337883696] \n",
      "\n",
      " rf_model : [21876.89] \n",
      "\n",
      " xgb_model: [20123.525]\n"
     ]
    }
   ],
   "source": [
    "print('lm_pred   :',lm_pred,'\\n\\n','rf_model :',rf_pred,'\\n\\n','xgb_model:', xgb_pred)"
   ]
  },
  {
   "cell_type": "code",
   "execution_count": 945,
   "metadata": {},
   "outputs": [],
   "source": [
    "rf_pred=list(rf_model.predict(df))"
   ]
  },
  {
   "cell_type": "code",
   "execution_count": 946,
   "metadata": {},
   "outputs": [
    {
     "name": "stdout",
     "output_type": "stream",
     "text": [
      "Note: you may need to restart the kernel to use updated packages.\n"
     ]
    }
   ],
   "source": [
    "pip freeze > requirements.txt"
   ]
  },
  {
   "cell_type": "markdown",
   "metadata": {
    "id": "AnZ-aDHFmqZO"
   },
   "source": [
    "___\n",
    "\n",
    "<p style=\"text-align: center;\"><img src=\"https://docs.google.com/uc?id=1lY0Uj5R04yMY3-ZppPWxqCr5pvBLYPnV\" class=\"img-fluid\" alt=\"CLRSWY\"></p>\n",
    "\n",
    "___"
   ]
  },
  {
   "cell_type": "code",
   "execution_count": null,
   "metadata": {},
   "outputs": [],
   "source": []
  }
 ],
 "metadata": {
  "colab": {
   "collapsed_sections": [],
   "name": "modeling_auto_scout_Student_V1.ipynb",
   "provenance": []
  },
  "kernelspec": {
   "display_name": "Python 3 (ipykernel)",
   "language": "python",
   "name": "python3"
  },
  "language_info": {
   "codemirror_mode": {
    "name": "ipython",
    "version": 3
   },
   "file_extension": ".py",
   "mimetype": "text/x-python",
   "name": "python",
   "nbconvert_exporter": "python",
   "pygments_lexer": "ipython3",
   "version": "3.9.7"
  }
 },
 "nbformat": 4,
 "nbformat_minor": 4
}
