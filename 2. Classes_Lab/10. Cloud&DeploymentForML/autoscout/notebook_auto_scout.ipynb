{
 "cells": [
  {
   "cell_type": "code",
   "execution_count": 1,
   "metadata": {},
   "outputs": [],
   "source": [
    "import pandas as pd\n",
    "import numpy as np\n",
    "import matplotlib.pyplot as plt\n",
    "import seaborn as sns\n",
    "plt.rcParams[\"figure.figsize\"] = (9,5)\n",
    "import warnings\n",
    "warnings.filterwarnings('ignore')\n",
    "pd.set_option('display.max_rows', 1000)\n",
    "pd.set_option('display.max_columns', 1000)\n",
    "pd.set_option('display.width', 1000)"
   ]
  },
  {
   "cell_type": "code",
   "execution_count": 2,
   "metadata": {},
   "outputs": [
    {
     "data": {
      "text/html": [
       "<div>\n",
       "<style scoped>\n",
       "    .dataframe tbody tr th:only-of-type {\n",
       "        vertical-align: middle;\n",
       "    }\n",
       "\n",
       "    .dataframe tbody tr th {\n",
       "        vertical-align: top;\n",
       "    }\n",
       "\n",
       "    .dataframe thead th {\n",
       "        text-align: right;\n",
       "    }\n",
       "</style>\n",
       "<table border=\"1\" class=\"dataframe\">\n",
       "  <thead>\n",
       "    <tr style=\"text-align: right;\">\n",
       "      <th></th>\n",
       "      <th>make_model</th>\n",
       "      <th>body_type</th>\n",
       "      <th>price</th>\n",
       "      <th>vat</th>\n",
       "      <th>km</th>\n",
       "      <th>Type</th>\n",
       "      <th>Fuel</th>\n",
       "      <th>Gears</th>\n",
       "      <th>Comfort_Convenience</th>\n",
       "      <th>Entertainment_Media</th>\n",
       "      <th>Extras</th>\n",
       "      <th>Safety_Security</th>\n",
       "      <th>age</th>\n",
       "      <th>Previous_Owners</th>\n",
       "      <th>hp_kW</th>\n",
       "      <th>Inspection_new</th>\n",
       "      <th>Paint_Type</th>\n",
       "      <th>Upholstery_type</th>\n",
       "      <th>Gearing_Type</th>\n",
       "      <th>Displacement_cc</th>\n",
       "      <th>Weight_kg</th>\n",
       "      <th>Drive_chain</th>\n",
       "      <th>cons_comb</th>\n",
       "    </tr>\n",
       "  </thead>\n",
       "  <tbody>\n",
       "    <tr>\n",
       "      <th>0</th>\n",
       "      <td>Audi A1</td>\n",
       "      <td>Sedans</td>\n",
       "      <td>15770</td>\n",
       "      <td>VAT deductible</td>\n",
       "      <td>56013.0</td>\n",
       "      <td>Used</td>\n",
       "      <td>Diesel</td>\n",
       "      <td>7.0</td>\n",
       "      <td>Air conditioning,Armrest,Automatic climate con...</td>\n",
       "      <td>Bluetooth,Hands-free equipment,On-board comput...</td>\n",
       "      <td>Alloy wheels,Catalytic Converter,Voice Control</td>\n",
       "      <td>ABS,Central door lock,Daytime running lights,D...</td>\n",
       "      <td>3.0</td>\n",
       "      <td>2.0</td>\n",
       "      <td>66.0</td>\n",
       "      <td>1</td>\n",
       "      <td>Metallic</td>\n",
       "      <td>Cloth</td>\n",
       "      <td>Automatic</td>\n",
       "      <td>1422.0</td>\n",
       "      <td>1220.0</td>\n",
       "      <td>front</td>\n",
       "      <td>3.8</td>\n",
       "    </tr>\n",
       "    <tr>\n",
       "      <th>1</th>\n",
       "      <td>Audi A1</td>\n",
       "      <td>Sedans</td>\n",
       "      <td>14500</td>\n",
       "      <td>Price negotiable</td>\n",
       "      <td>80000.0</td>\n",
       "      <td>Used</td>\n",
       "      <td>Benzine</td>\n",
       "      <td>7.0</td>\n",
       "      <td>Air conditioning,Automatic climate control,Hil...</td>\n",
       "      <td>Bluetooth,Hands-free equipment,On-board comput...</td>\n",
       "      <td>Alloy wheels,Sport seats,Sport suspension,Voic...</td>\n",
       "      <td>ABS,Central door lock,Central door lock with r...</td>\n",
       "      <td>2.0</td>\n",
       "      <td>1.0</td>\n",
       "      <td>141.0</td>\n",
       "      <td>0</td>\n",
       "      <td>Metallic</td>\n",
       "      <td>Cloth</td>\n",
       "      <td>Automatic</td>\n",
       "      <td>1798.0</td>\n",
       "      <td>1255.0</td>\n",
       "      <td>front</td>\n",
       "      <td>5.6</td>\n",
       "    </tr>\n",
       "    <tr>\n",
       "      <th>2</th>\n",
       "      <td>Audi A1</td>\n",
       "      <td>Sedans</td>\n",
       "      <td>14640</td>\n",
       "      <td>VAT deductible</td>\n",
       "      <td>83450.0</td>\n",
       "      <td>Used</td>\n",
       "      <td>Diesel</td>\n",
       "      <td>7.0</td>\n",
       "      <td>Air conditioning,Cruise control,Electrical sid...</td>\n",
       "      <td>MP3,On-board computer</td>\n",
       "      <td>Alloy wheels,Voice Control</td>\n",
       "      <td>ABS,Central door lock,Daytime running lights,D...</td>\n",
       "      <td>3.0</td>\n",
       "      <td>1.0</td>\n",
       "      <td>85.0</td>\n",
       "      <td>0</td>\n",
       "      <td>Metallic</td>\n",
       "      <td>Cloth</td>\n",
       "      <td>Automatic</td>\n",
       "      <td>1598.0</td>\n",
       "      <td>1135.0</td>\n",
       "      <td>front</td>\n",
       "      <td>3.8</td>\n",
       "    </tr>\n",
       "    <tr>\n",
       "      <th>3</th>\n",
       "      <td>Audi A1</td>\n",
       "      <td>Sedans</td>\n",
       "      <td>14500</td>\n",
       "      <td>VAT deductible</td>\n",
       "      <td>73000.0</td>\n",
       "      <td>Used</td>\n",
       "      <td>Diesel</td>\n",
       "      <td>6.0</td>\n",
       "      <td>Air suspension,Armrest,Auxiliary heating,Elect...</td>\n",
       "      <td>Bluetooth,CD player,Hands-free equipment,MP3,O...</td>\n",
       "      <td>Alloy wheels,Sport seats,Voice Control</td>\n",
       "      <td>ABS,Alarm system,Central door lock with remote...</td>\n",
       "      <td>3.0</td>\n",
       "      <td>1.0</td>\n",
       "      <td>66.0</td>\n",
       "      <td>0</td>\n",
       "      <td>Metallic</td>\n",
       "      <td>Cloth</td>\n",
       "      <td>Automatic</td>\n",
       "      <td>1422.0</td>\n",
       "      <td>1195.0</td>\n",
       "      <td>front</td>\n",
       "      <td>3.8</td>\n",
       "    </tr>\n",
       "    <tr>\n",
       "      <th>4</th>\n",
       "      <td>Audi A1</td>\n",
       "      <td>Sedans</td>\n",
       "      <td>16790</td>\n",
       "      <td>VAT deductible</td>\n",
       "      <td>16200.0</td>\n",
       "      <td>Used</td>\n",
       "      <td>Diesel</td>\n",
       "      <td>7.0</td>\n",
       "      <td>Air conditioning,Armrest,Automatic climate con...</td>\n",
       "      <td>Bluetooth,CD player,Hands-free equipment,MP3,O...</td>\n",
       "      <td>Alloy wheels,Sport package,Sport suspension,Vo...</td>\n",
       "      <td>ABS,Central door lock,Driver-side airbag,Elect...</td>\n",
       "      <td>3.0</td>\n",
       "      <td>1.0</td>\n",
       "      <td>66.0</td>\n",
       "      <td>1</td>\n",
       "      <td>Metallic</td>\n",
       "      <td>Cloth</td>\n",
       "      <td>Automatic</td>\n",
       "      <td>1422.0</td>\n",
       "      <td>1135.0</td>\n",
       "      <td>front</td>\n",
       "      <td>4.1</td>\n",
       "    </tr>\n",
       "  </tbody>\n",
       "</table>\n",
       "</div>"
      ],
      "text/plain": [
       "  make_model body_type  price               vat       km  Type     Fuel  Gears                                Comfort_Convenience                                Entertainment_Media                                             Extras                                    Safety_Security  age  Previous_Owners  hp_kW  Inspection_new Paint_Type Upholstery_type Gearing_Type  Displacement_cc  Weight_kg Drive_chain  cons_comb\n",
       "0    Audi A1    Sedans  15770    VAT deductible  56013.0  Used   Diesel    7.0  Air conditioning,Armrest,Automatic climate con...  Bluetooth,Hands-free equipment,On-board comput...     Alloy wheels,Catalytic Converter,Voice Control  ABS,Central door lock,Daytime running lights,D...  3.0              2.0   66.0               1   Metallic           Cloth    Automatic           1422.0     1220.0       front        3.8\n",
       "1    Audi A1    Sedans  14500  Price negotiable  80000.0  Used  Benzine    7.0  Air conditioning,Automatic climate control,Hil...  Bluetooth,Hands-free equipment,On-board comput...  Alloy wheels,Sport seats,Sport suspension,Voic...  ABS,Central door lock,Central door lock with r...  2.0              1.0  141.0               0   Metallic           Cloth    Automatic           1798.0     1255.0       front        5.6\n",
       "2    Audi A1    Sedans  14640    VAT deductible  83450.0  Used   Diesel    7.0  Air conditioning,Cruise control,Electrical sid...                              MP3,On-board computer                         Alloy wheels,Voice Control  ABS,Central door lock,Daytime running lights,D...  3.0              1.0   85.0               0   Metallic           Cloth    Automatic           1598.0     1135.0       front        3.8\n",
       "3    Audi A1    Sedans  14500    VAT deductible  73000.0  Used   Diesel    6.0  Air suspension,Armrest,Auxiliary heating,Elect...  Bluetooth,CD player,Hands-free equipment,MP3,O...             Alloy wheels,Sport seats,Voice Control  ABS,Alarm system,Central door lock with remote...  3.0              1.0   66.0               0   Metallic           Cloth    Automatic           1422.0     1195.0       front        3.8\n",
       "4    Audi A1    Sedans  16790    VAT deductible  16200.0  Used   Diesel    7.0  Air conditioning,Armrest,Automatic climate con...  Bluetooth,CD player,Hands-free equipment,MP3,O...  Alloy wheels,Sport package,Sport suspension,Vo...  ABS,Central door lock,Driver-side airbag,Elect...  3.0              1.0   66.0               1   Metallic           Cloth    Automatic           1422.0     1135.0       front        4.1"
      ]
     },
     "execution_count": 2,
     "metadata": {},
     "output_type": "execute_result"
    }
   ],
   "source": [
    "df = pd.read_csv(\"final_scout_not_dummy.csv\")\n",
    "df.head()"
   ]
  },
  {
   "cell_type": "code",
   "execution_count": 20,
   "metadata": {},
   "outputs": [
    {
     "data": {
      "text/plain": [
       "array(['Automatic', 'Manual', 'Semi-automatic'], dtype=object)"
      ]
     },
     "execution_count": 20,
     "metadata": {},
     "output_type": "execute_result"
    }
   ],
   "source": [
    "df.Gearing_Type.unique()"
   ]
  },
  {
   "cell_type": "code",
   "execution_count": 3,
   "metadata": {},
   "outputs": [
    {
     "name": "stdout",
     "output_type": "stream",
     "text": [
      "<class 'pandas.core.frame.DataFrame'>\n",
      "RangeIndex: 15915 entries, 0 to 15914\n",
      "Data columns (total 23 columns):\n",
      " #   Column               Non-Null Count  Dtype  \n",
      "---  ------               --------------  -----  \n",
      " 0   make_model           15915 non-null  object \n",
      " 1   body_type            15915 non-null  object \n",
      " 2   price                15915 non-null  int64  \n",
      " 3   vat                  15915 non-null  object \n",
      " 4   km                   15915 non-null  float64\n",
      " 5   Type                 15915 non-null  object \n",
      " 6   Fuel                 15915 non-null  object \n",
      " 7   Gears                15915 non-null  float64\n",
      " 8   Comfort_Convenience  15915 non-null  object \n",
      " 9   Entertainment_Media  15915 non-null  object \n",
      " 10  Extras               15915 non-null  object \n",
      " 11  Safety_Security      15915 non-null  object \n",
      " 12  age                  15915 non-null  float64\n",
      " 13  Previous_Owners      15915 non-null  float64\n",
      " 14  hp_kW                15915 non-null  float64\n",
      " 15  Inspection_new       15915 non-null  int64  \n",
      " 16  Paint_Type           15915 non-null  object \n",
      " 17  Upholstery_type      15915 non-null  object \n",
      " 18  Gearing_Type         15915 non-null  object \n",
      " 19  Displacement_cc      15915 non-null  float64\n",
      " 20  Weight_kg            15915 non-null  float64\n",
      " 21  Drive_chain          15915 non-null  object \n",
      " 22  cons_comb            15915 non-null  float64\n",
      "dtypes: float64(8), int64(2), object(13)\n",
      "memory usage: 2.8+ MB\n"
     ]
    },
    {
     "data": {
      "text/plain": [
       "(make_model             0\n",
       " body_type              0\n",
       " price                  0\n",
       " vat                    0\n",
       " km                     0\n",
       " Type                   0\n",
       " Fuel                   0\n",
       " Gears                  0\n",
       " Comfort_Convenience    0\n",
       " Entertainment_Media    0\n",
       " Extras                 0\n",
       " Safety_Security        0\n",
       " age                    0\n",
       " Previous_Owners        0\n",
       " hp_kW                  0\n",
       " Inspection_new         0\n",
       " Paint_Type             0\n",
       " Upholstery_type        0\n",
       " Gearing_Type           0\n",
       " Displacement_cc        0\n",
       " Weight_kg              0\n",
       " Drive_chain            0\n",
       " cons_comb              0\n",
       " dtype: int64,\n",
       " None)"
      ]
     },
     "execution_count": 3,
     "metadata": {},
     "output_type": "execute_result"
    }
   ],
   "source": [
    "df.isnull().sum(), df.info()"
   ]
  },
  {
   "cell_type": "code",
   "execution_count": 4,
   "metadata": {},
   "outputs": [],
   "source": [
    "df_new = df[[\"make_model\", \"hp_kW\", \"km\",\"age\", \"price\", \"Gearing_Type\",\"Gears\"]] "
   ]
  },
  {
   "cell_type": "code",
   "execution_count": 5,
   "metadata": {},
   "outputs": [],
   "source": [
    "df_new.drop(index=[2614], inplace =True)"
   ]
  },
  {
   "cell_type": "code",
   "execution_count": 6,
   "metadata": {},
   "outputs": [],
   "source": [
    "df_new = df_new[~(df_new.price>35000)]"
   ]
  },
  {
   "cell_type": "code",
   "execution_count": 7,
   "metadata": {},
   "outputs": [
    {
     "data": {
      "text/html": [
       "<div>\n",
       "<style scoped>\n",
       "    .dataframe tbody tr th:only-of-type {\n",
       "        vertical-align: middle;\n",
       "    }\n",
       "\n",
       "    .dataframe tbody tr th {\n",
       "        vertical-align: top;\n",
       "    }\n",
       "\n",
       "    .dataframe thead th {\n",
       "        text-align: right;\n",
       "    }\n",
       "</style>\n",
       "<table border=\"1\" class=\"dataframe\">\n",
       "  <thead>\n",
       "    <tr style=\"text-align: right;\">\n",
       "      <th></th>\n",
       "      <th>hp_kW</th>\n",
       "      <th>km</th>\n",
       "      <th>age</th>\n",
       "      <th>price</th>\n",
       "      <th>Gears</th>\n",
       "      <th>make_model_Audi A1</th>\n",
       "      <th>make_model_Audi A3</th>\n",
       "      <th>make_model_Opel Astra</th>\n",
       "      <th>make_model_Opel Corsa</th>\n",
       "      <th>make_model_Opel Insignia</th>\n",
       "      <th>make_model_Renault Clio</th>\n",
       "      <th>make_model_Renault Duster</th>\n",
       "      <th>make_model_Renault Espace</th>\n",
       "      <th>Gearing_Type_Automatic</th>\n",
       "      <th>Gearing_Type_Manual</th>\n",
       "      <th>Gearing_Type_Semi-automatic</th>\n",
       "    </tr>\n",
       "  </thead>\n",
       "  <tbody>\n",
       "    <tr>\n",
       "      <th>0</th>\n",
       "      <td>66.0</td>\n",
       "      <td>56013.0</td>\n",
       "      <td>3.0</td>\n",
       "      <td>15770</td>\n",
       "      <td>7.0</td>\n",
       "      <td>1</td>\n",
       "      <td>0</td>\n",
       "      <td>0</td>\n",
       "      <td>0</td>\n",
       "      <td>0</td>\n",
       "      <td>0</td>\n",
       "      <td>0</td>\n",
       "      <td>0</td>\n",
       "      <td>1</td>\n",
       "      <td>0</td>\n",
       "      <td>0</td>\n",
       "    </tr>\n",
       "    <tr>\n",
       "      <th>1</th>\n",
       "      <td>141.0</td>\n",
       "      <td>80000.0</td>\n",
       "      <td>2.0</td>\n",
       "      <td>14500</td>\n",
       "      <td>7.0</td>\n",
       "      <td>1</td>\n",
       "      <td>0</td>\n",
       "      <td>0</td>\n",
       "      <td>0</td>\n",
       "      <td>0</td>\n",
       "      <td>0</td>\n",
       "      <td>0</td>\n",
       "      <td>0</td>\n",
       "      <td>1</td>\n",
       "      <td>0</td>\n",
       "      <td>0</td>\n",
       "    </tr>\n",
       "    <tr>\n",
       "      <th>2</th>\n",
       "      <td>85.0</td>\n",
       "      <td>83450.0</td>\n",
       "      <td>3.0</td>\n",
       "      <td>14640</td>\n",
       "      <td>7.0</td>\n",
       "      <td>1</td>\n",
       "      <td>0</td>\n",
       "      <td>0</td>\n",
       "      <td>0</td>\n",
       "      <td>0</td>\n",
       "      <td>0</td>\n",
       "      <td>0</td>\n",
       "      <td>0</td>\n",
       "      <td>1</td>\n",
       "      <td>0</td>\n",
       "      <td>0</td>\n",
       "    </tr>\n",
       "    <tr>\n",
       "      <th>3</th>\n",
       "      <td>66.0</td>\n",
       "      <td>73000.0</td>\n",
       "      <td>3.0</td>\n",
       "      <td>14500</td>\n",
       "      <td>6.0</td>\n",
       "      <td>1</td>\n",
       "      <td>0</td>\n",
       "      <td>0</td>\n",
       "      <td>0</td>\n",
       "      <td>0</td>\n",
       "      <td>0</td>\n",
       "      <td>0</td>\n",
       "      <td>0</td>\n",
       "      <td>1</td>\n",
       "      <td>0</td>\n",
       "      <td>0</td>\n",
       "    </tr>\n",
       "    <tr>\n",
       "      <th>4</th>\n",
       "      <td>66.0</td>\n",
       "      <td>16200.0</td>\n",
       "      <td>3.0</td>\n",
       "      <td>16790</td>\n",
       "      <td>7.0</td>\n",
       "      <td>1</td>\n",
       "      <td>0</td>\n",
       "      <td>0</td>\n",
       "      <td>0</td>\n",
       "      <td>0</td>\n",
       "      <td>0</td>\n",
       "      <td>0</td>\n",
       "      <td>0</td>\n",
       "      <td>1</td>\n",
       "      <td>0</td>\n",
       "      <td>0</td>\n",
       "    </tr>\n",
       "    <tr>\n",
       "      <th>...</th>\n",
       "      <td>...</td>\n",
       "      <td>...</td>\n",
       "      <td>...</td>\n",
       "      <td>...</td>\n",
       "      <td>...</td>\n",
       "      <td>...</td>\n",
       "      <td>...</td>\n",
       "      <td>...</td>\n",
       "      <td>...</td>\n",
       "      <td>...</td>\n",
       "      <td>...</td>\n",
       "      <td>...</td>\n",
       "      <td>...</td>\n",
       "      <td>...</td>\n",
       "      <td>...</td>\n",
       "      <td>...</td>\n",
       "    </tr>\n",
       "    <tr>\n",
       "      <th>15787</th>\n",
       "      <td>118.0</td>\n",
       "      <td>10803.0</td>\n",
       "      <td>1.0</td>\n",
       "      <td>33990</td>\n",
       "      <td>6.0</td>\n",
       "      <td>0</td>\n",
       "      <td>0</td>\n",
       "      <td>0</td>\n",
       "      <td>0</td>\n",
       "      <td>0</td>\n",
       "      <td>0</td>\n",
       "      <td>0</td>\n",
       "      <td>1</td>\n",
       "      <td>1</td>\n",
       "      <td>0</td>\n",
       "      <td>0</td>\n",
       "    </tr>\n",
       "    <tr>\n",
       "      <th>15788</th>\n",
       "      <td>165.0</td>\n",
       "      <td>15.0</td>\n",
       "      <td>0.0</td>\n",
       "      <td>33975</td>\n",
       "      <td>7.0</td>\n",
       "      <td>0</td>\n",
       "      <td>0</td>\n",
       "      <td>0</td>\n",
       "      <td>0</td>\n",
       "      <td>0</td>\n",
       "      <td>0</td>\n",
       "      <td>0</td>\n",
       "      <td>1</td>\n",
       "      <td>1</td>\n",
       "      <td>0</td>\n",
       "      <td>0</td>\n",
       "    </tr>\n",
       "    <tr>\n",
       "      <th>15789</th>\n",
       "      <td>118.0</td>\n",
       "      <td>1.0</td>\n",
       "      <td>1.0</td>\n",
       "      <td>33990</td>\n",
       "      <td>6.0</td>\n",
       "      <td>0</td>\n",
       "      <td>0</td>\n",
       "      <td>0</td>\n",
       "      <td>0</td>\n",
       "      <td>0</td>\n",
       "      <td>0</td>\n",
       "      <td>0</td>\n",
       "      <td>1</td>\n",
       "      <td>1</td>\n",
       "      <td>0</td>\n",
       "      <td>0</td>\n",
       "    </tr>\n",
       "    <tr>\n",
       "      <th>15790</th>\n",
       "      <td>146.0</td>\n",
       "      <td>15.0</td>\n",
       "      <td>0.0</td>\n",
       "      <td>33975</td>\n",
       "      <td>6.0</td>\n",
       "      <td>0</td>\n",
       "      <td>0</td>\n",
       "      <td>0</td>\n",
       "      <td>0</td>\n",
       "      <td>0</td>\n",
       "      <td>0</td>\n",
       "      <td>0</td>\n",
       "      <td>1</td>\n",
       "      <td>1</td>\n",
       "      <td>0</td>\n",
       "      <td>0</td>\n",
       "    </tr>\n",
       "    <tr>\n",
       "      <th>15791</th>\n",
       "      <td>118.0</td>\n",
       "      <td>1.0</td>\n",
       "      <td>1.0</td>\n",
       "      <td>34200</td>\n",
       "      <td>6.0</td>\n",
       "      <td>0</td>\n",
       "      <td>0</td>\n",
       "      <td>0</td>\n",
       "      <td>0</td>\n",
       "      <td>0</td>\n",
       "      <td>0</td>\n",
       "      <td>0</td>\n",
       "      <td>1</td>\n",
       "      <td>1</td>\n",
       "      <td>0</td>\n",
       "      <td>0</td>\n",
       "    </tr>\n",
       "  </tbody>\n",
       "</table>\n",
       "<p>15419 rows × 16 columns</p>\n",
       "</div>"
      ],
      "text/plain": [
       "       hp_kW       km  age  price  Gears  make_model_Audi A1  make_model_Audi A3  make_model_Opel Astra  make_model_Opel Corsa  make_model_Opel Insignia  make_model_Renault Clio  make_model_Renault Duster  make_model_Renault Espace  Gearing_Type_Automatic  Gearing_Type_Manual  Gearing_Type_Semi-automatic\n",
       "0       66.0  56013.0  3.0  15770    7.0                   1                   0                      0                      0                         0                        0                          0                          0                       1                    0                            0\n",
       "1      141.0  80000.0  2.0  14500    7.0                   1                   0                      0                      0                         0                        0                          0                          0                       1                    0                            0\n",
       "2       85.0  83450.0  3.0  14640    7.0                   1                   0                      0                      0                         0                        0                          0                          0                       1                    0                            0\n",
       "3       66.0  73000.0  3.0  14500    6.0                   1                   0                      0                      0                         0                        0                          0                          0                       1                    0                            0\n",
       "4       66.0  16200.0  3.0  16790    7.0                   1                   0                      0                      0                         0                        0                          0                          0                       1                    0                            0\n",
       "...      ...      ...  ...    ...    ...                 ...                 ...                    ...                    ...                       ...                      ...                        ...                        ...                     ...                  ...                          ...\n",
       "15787  118.0  10803.0  1.0  33990    6.0                   0                   0                      0                      0                         0                        0                          0                          1                       1                    0                            0\n",
       "15788  165.0     15.0  0.0  33975    7.0                   0                   0                      0                      0                         0                        0                          0                          1                       1                    0                            0\n",
       "15789  118.0      1.0  1.0  33990    6.0                   0                   0                      0                      0                         0                        0                          0                          1                       1                    0                            0\n",
       "15790  146.0     15.0  0.0  33975    6.0                   0                   0                      0                      0                         0                        0                          0                          1                       1                    0                            0\n",
       "15791  118.0      1.0  1.0  34200    6.0                   0                   0                      0                      0                         0                        0                          0                          1                       1                    0                            0\n",
       "\n",
       "[15419 rows x 16 columns]"
      ]
     },
     "execution_count": 7,
     "metadata": {},
     "output_type": "execute_result"
    }
   ],
   "source": [
    "df_new = pd.get_dummies(df_new)\n",
    "df_new"
   ]
  },
  {
   "cell_type": "code",
   "execution_count": 8,
   "metadata": {},
   "outputs": [],
   "source": [
    "X = df_new.drop(columns = [\"price\"])\n",
    "y= df_new.price"
   ]
  },
  {
   "cell_type": "code",
   "execution_count": 9,
   "metadata": {},
   "outputs": [],
   "source": [
    "from sklearn.preprocessing import MinMaxScaler"
   ]
  },
  {
   "cell_type": "code",
   "execution_count": 10,
   "metadata": {},
   "outputs": [],
   "source": [
    "scaler = MinMaxScaler().fit(X)"
   ]
  },
  {
   "cell_type": "code",
   "execution_count": 11,
   "metadata": {},
   "outputs": [],
   "source": [
    "X=scaler.transform(X)"
   ]
  },
  {
   "cell_type": "code",
   "execution_count": 12,
   "metadata": {},
   "outputs": [
    {
     "data": {
      "text/plain": [
       "0.9606217580034849"
      ]
     },
     "execution_count": 12,
     "metadata": {},
     "output_type": "execute_result"
    }
   ],
   "source": [
    "from xgboost import XGBRegressor\n",
    "model = XGBRegressor()\n",
    "model.fit(X,y)\n",
    "model.score(X,y)"
   ]
  },
  {
   "cell_type": "code",
   "execution_count": 13,
   "metadata": {},
   "outputs": [],
   "source": [
    "y_pred= model.predict(X)"
   ]
  },
  {
   "cell_type": "code",
   "execution_count": 14,
   "metadata": {},
   "outputs": [
    {
     "data": {
      "text/plain": [
       "15419"
      ]
     },
     "execution_count": 14,
     "metadata": {},
     "output_type": "execute_result"
    }
   ],
   "source": [
    "len(y_pred)"
   ]
  },
  {
   "cell_type": "code",
   "execution_count": 15,
   "metadata": {},
   "outputs": [],
   "source": [
    "df_new[\"y_pred\"] = y_pred"
   ]
  },
  {
   "cell_type": "code",
   "execution_count": 16,
   "metadata": {},
   "outputs": [],
   "source": [
    "from sklearn.metrics import r2_score, mean_absolute_error"
   ]
  },
  {
   "cell_type": "code",
   "execution_count": 17,
   "metadata": {},
   "outputs": [
    {
     "data": {
      "text/plain": [
       "('r2', 0.9606217580034849, 'rmse', 29.01535296827972)"
      ]
     },
     "execution_count": 17,
     "metadata": {},
     "output_type": "execute_result"
    }
   ],
   "source": [
    "\"r2\",r2_score(y,y_pred), \"rmse\", mean_absolute_error(y,y_pred)**.5"
   ]
  },
  {
   "cell_type": "code",
   "execution_count": 18,
   "metadata": {},
   "outputs": [],
   "source": [
    "import joblib\n",
    "joblib.dump(model, open(\"xgb_model.joblib\",\"wb\"))\n",
    "joblib.dump(scaler, open(\"scaler.joblib\",\"wb\"))\n",
    "joblib.dump(list(df_new.drop([\"price\",\"y_pred\"], axis=1).columns), open(\"columns.joblib\",\"wb\"))"
   ]
  },
  {
   "cell_type": "code",
   "execution_count": 33,
   "metadata": {},
   "outputs": [],
   "source": [
    "sample_one = [{\n",
    "\"make_model\":\"Audi A1\",\n",
    "\"hp_kW\":66.0,\n",
    "\"km\":56013,\n",
    "\"age\":7.0,\n",
    "\"price\":15770,\n",
    "\"Gearing_Type\":\"Automatic\",\n",
    "\"Gears\":6.0\n",
    "    }]\n"
   ]
  },
  {
   "cell_type": "code",
   "execution_count": 23,
   "metadata": {},
   "outputs": [
    {
     "data": {
      "text/plain": [
       "['hp_kW',\n",
       " 'km',\n",
       " 'age',\n",
       " 'Gears',\n",
       " 'make_model_Audi A1',\n",
       " 'make_model_Audi A3',\n",
       " 'make_model_Opel Astra',\n",
       " 'make_model_Opel Corsa',\n",
       " 'make_model_Opel Insignia',\n",
       " 'make_model_Renault Clio',\n",
       " 'make_model_Renault Duster',\n",
       " 'make_model_Renault Espace',\n",
       " 'Gearing_Type_Automatic',\n",
       " 'Gearing_Type_Manual',\n",
       " 'Gearing_Type_Semi-automatic']"
      ]
     },
     "execution_count": 23,
     "metadata": {},
     "output_type": "execute_result"
    }
   ],
   "source": [
    "columns = joblib.load(\"columns.joblib\")\n",
    "columns"
   ]
  },
  {
   "cell_type": "code",
   "execution_count": 24,
   "metadata": {},
   "outputs": [
    {
     "data": {
      "text/html": [
       "<div>\n",
       "<style scoped>\n",
       "    .dataframe tbody tr th:only-of-type {\n",
       "        vertical-align: middle;\n",
       "    }\n",
       "\n",
       "    .dataframe tbody tr th {\n",
       "        vertical-align: top;\n",
       "    }\n",
       "\n",
       "    .dataframe thead th {\n",
       "        text-align: right;\n",
       "    }\n",
       "</style>\n",
       "<table border=\"1\" class=\"dataframe\">\n",
       "  <thead>\n",
       "    <tr style=\"text-align: right;\">\n",
       "      <th></th>\n",
       "      <th>make_model</th>\n",
       "      <th>hp_kW</th>\n",
       "      <th>km</th>\n",
       "      <th>age</th>\n",
       "      <th>price</th>\n",
       "      <th>Gearing_Type</th>\n",
       "      <th>Gears</th>\n",
       "    </tr>\n",
       "  </thead>\n",
       "  <tbody>\n",
       "    <tr>\n",
       "      <th>0</th>\n",
       "      <td>Audi A1</td>\n",
       "      <td>66.0</td>\n",
       "      <td>56013</td>\n",
       "      <td>7.0</td>\n",
       "      <td>15770</td>\n",
       "      <td>Automatic</td>\n",
       "      <td>6.0</td>\n",
       "    </tr>\n",
       "  </tbody>\n",
       "</table>\n",
       "</div>"
      ],
      "text/plain": [
       "  make_model  hp_kW     km  age  price Gearing_Type  Gears\n",
       "0    Audi A1   66.0  56013  7.0  15770    Automatic    6.0"
      ]
     },
     "execution_count": 24,
     "metadata": {},
     "output_type": "execute_result"
    }
   ],
   "source": [
    "df_s = pd.DataFrame(sample_one)\n",
    "df_s"
   ]
  },
  {
   "cell_type": "code",
   "execution_count": 25,
   "metadata": {},
   "outputs": [
    {
     "data": {
      "text/html": [
       "<div>\n",
       "<style scoped>\n",
       "    .dataframe tbody tr th:only-of-type {\n",
       "        vertical-align: middle;\n",
       "    }\n",
       "\n",
       "    .dataframe tbody tr th {\n",
       "        vertical-align: top;\n",
       "    }\n",
       "\n",
       "    .dataframe thead th {\n",
       "        text-align: right;\n",
       "    }\n",
       "</style>\n",
       "<table border=\"1\" class=\"dataframe\">\n",
       "  <thead>\n",
       "    <tr style=\"text-align: right;\">\n",
       "      <th></th>\n",
       "      <th>hp_kW</th>\n",
       "      <th>km</th>\n",
       "      <th>age</th>\n",
       "      <th>Gears</th>\n",
       "      <th>make_model_Audi A1</th>\n",
       "      <th>make_model_Audi A3</th>\n",
       "      <th>make_model_Opel Astra</th>\n",
       "      <th>make_model_Opel Corsa</th>\n",
       "      <th>make_model_Opel Insignia</th>\n",
       "      <th>make_model_Renault Clio</th>\n",
       "      <th>make_model_Renault Duster</th>\n",
       "      <th>make_model_Renault Espace</th>\n",
       "      <th>Gearing_Type_Automatic</th>\n",
       "      <th>Gearing_Type_Manual</th>\n",
       "      <th>Gearing_Type_Semi-automatic</th>\n",
       "    </tr>\n",
       "  </thead>\n",
       "  <tbody>\n",
       "    <tr>\n",
       "      <th>0</th>\n",
       "      <td>66.0</td>\n",
       "      <td>56013</td>\n",
       "      <td>7.0</td>\n",
       "      <td>6.0</td>\n",
       "      <td>1</td>\n",
       "      <td>0</td>\n",
       "      <td>0</td>\n",
       "      <td>0</td>\n",
       "      <td>0</td>\n",
       "      <td>0</td>\n",
       "      <td>0</td>\n",
       "      <td>0</td>\n",
       "      <td>1</td>\n",
       "      <td>0</td>\n",
       "      <td>0</td>\n",
       "    </tr>\n",
       "  </tbody>\n",
       "</table>\n",
       "</div>"
      ],
      "text/plain": [
       "   hp_kW     km  age  Gears  make_model_Audi A1  make_model_Audi A3  make_model_Opel Astra  make_model_Opel Corsa  make_model_Opel Insignia  make_model_Renault Clio  make_model_Renault Duster  make_model_Renault Espace  Gearing_Type_Automatic  Gearing_Type_Manual  Gearing_Type_Semi-automatic\n",
       "0   66.0  56013  7.0    6.0                   1                   0                      0                      0                         0                        0                          0                          0                       1                    0                            0"
      ]
     },
     "execution_count": 25,
     "metadata": {},
     "output_type": "execute_result"
    }
   ],
   "source": [
    "df_s = pd.get_dummies(df_s).reindex(columns=columns, fill_value=0)\n",
    "df_s"
   ]
  },
  {
   "cell_type": "code",
   "execution_count": 26,
   "metadata": {},
   "outputs": [
    {
     "data": {
      "text/plain": [
       "array([14380.148], dtype=float32)"
      ]
     },
     "execution_count": 26,
     "metadata": {},
     "output_type": "execute_result"
    }
   ],
   "source": [
    "scaler = joblib.load(open(\"scaler.joblib\",\"rb\"))\n",
    "model = joblib.load(open(\"xgb_model.joblib\",\"rb\"))\n",
    "df_s = scaler.transform(df_s)\n",
    "res = model.predict(df_s)\n",
    "res"
   ]
  },
  {
   "cell_type": "code",
   "execution_count": 31,
   "metadata": {},
   "outputs": [
    {
     "data": {
      "text/plain": [
       "array([ 66., 141.,  85.,  70.,  92., 112.,  60.,  71.,  67., 110.,  93.,\n",
       "       147.,  86., 140.,  87.,  81.,  82., 135., 132., 100.,  96., 162.,\n",
       "       150., 294., 228., 270., 137., 133.,  77., 101.,  78., 103.,  74.,\n",
       "       118.,  84.,  88.,  80.,  76., 149.,  51.,  44.,  55.,  52.,  63.,\n",
       "        40.,  65.,  75., 125., 120., 184., 239., 121., 143., 191.,  89.,\n",
       "       195., 127., 122., 154., 155., 104., 123., 146.,  90.,  56.,  53.,\n",
       "        54., 164., 163.,  57., 119., 165., 117., 115.,  98., 168., 167.])"
      ]
     },
     "execution_count": 31,
     "metadata": {},
     "output_type": "execute_result"
    }
   ],
   "source": [
    "df.hp_kW.unique()"
   ]
  },
  {
   "cell_type": "code",
   "execution_count": 27,
   "metadata": {},
   "outputs": [
    {
     "data": {
      "text/plain": [
       "hp_kW                            147.000000\n",
       "km                              4067.000000\n",
       "age                                0.000000\n",
       "price                          34990.000000\n",
       "Gears                              6.000000\n",
       "make_model_Audi A1                 0.000000\n",
       "make_model_Audi A3                 0.000000\n",
       "make_model_Opel Astra              0.000000\n",
       "make_model_Opel Corsa              0.000000\n",
       "make_model_Opel Insignia           1.000000\n",
       "make_model_Renault Clio            0.000000\n",
       "make_model_Renault Duster          0.000000\n",
       "make_model_Renault Espace          0.000000\n",
       "Gearing_Type_Automatic             0.000000\n",
       "Gearing_Type_Manual                1.000000\n",
       "Gearing_Type_Semi-automatic        0.000000\n",
       "y_pred                         34650.480469\n",
       "Name: 12828, dtype: float64"
      ]
     },
     "execution_count": 27,
     "metadata": {},
     "output_type": "execute_result"
    }
   ],
   "source": [
    "df_new.iloc[y_pred.argmax()]"
   ]
  },
  {
   "cell_type": "code",
   "execution_count": 28,
   "metadata": {},
   "outputs": [],
   "source": [
    "import requests"
   ]
  },
  {
   "cell_type": "code",
   "execution_count": 29,
   "metadata": {},
   "outputs": [],
   "source": [
    "from flask import Flask, redirect, url_for, render_template, request\n",
    "import numpy as np"
   ]
  },
  {
   "cell_type": "code",
   "execution_count": 34,
   "metadata": {},
   "outputs": [
    {
     "name": "stdout",
     "output_type": "stream",
     "text": [
      "{\n",
      "  \"predicted price is\": \"$ 14380.1484\"\n",
      "}\n",
      "\n"
     ]
    }
   ],
   "source": [
    "url = \"http://35.174.166.129:5000/api\" \n",
    "data ={\n",
    "\"make_model\":\"Audi A1\",\n",
    "\"hp_kW\":66.0,\n",
    "\"km\":56013.0,\n",
    "\"age\":7.0,\n",
    "\"price\":15770.0,\n",
    "\"Gearing_Type\":\"Automatic\",\n",
    "\"Gears\":6.0,\n",
    "    }\n",
    "response = requests.post(url, json=data)\n",
    "print(response.text)"
   ]
  }
 ],
 "metadata": {
  "interpreter": {
   "hash": "89f176e6837753ece4738ac623e2a1bf4a5e6585e12e752f080d83d764f71ce3"
  },
  "kernelspec": {
   "display_name": "Python 3.8.7 64-bit",
   "language": "python",
   "name": "python3"
  },
  "language_info": {
   "codemirror_mode": {
    "name": "ipython",
    "version": 3
   },
   "file_extension": ".py",
   "mimetype": "text/x-python",
   "name": "python",
   "nbconvert_exporter": "python",
   "pygments_lexer": "ipython3",
   "version": "3.9.7"
  },
  "orig_nbformat": 4
 },
 "nbformat": 4,
 "nbformat_minor": 2
}
