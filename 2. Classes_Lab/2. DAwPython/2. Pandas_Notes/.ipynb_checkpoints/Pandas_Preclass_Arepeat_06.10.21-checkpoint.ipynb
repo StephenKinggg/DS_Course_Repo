{
 "cells": [
  {
   "cell_type": "code",
   "execution_count": 5,
   "id": "7311b4ec-3518-4944-97b4-0798d4309a20",
   "metadata": {},
   "outputs": [],
   "source": [
    "import pandas as pd"
   ]
  },
  {
   "cell_type": "code",
   "execution_count": 6,
   "id": "26900760-b0cd-4394-88d6-980ac262876c",
   "metadata": {},
   "outputs": [
    {
     "name": "stdout",
     "output_type": "stream",
     "text": [
      "['Arin', 23, 'CE']\n",
      "<class 'list'>\n"
     ]
    }
   ],
   "source": [
    "student= [\"Arin\",23,\"CE\"]\n",
    "print(student)\n",
    "print(type(student))"
   ]
  },
  {
   "cell_type": "code",
   "execution_count": 7,
   "id": "2fed4151-2c3b-4196-a45f-535b100785a7",
   "metadata": {},
   "outputs": [
    {
     "name": "stdout",
     "output_type": "stream",
     "text": [
      "0    Arin\n",
      "1      23\n",
      "2      CE\n",
      "dtype: object\n",
      "<class 'pandas.core.series.Series'>\n"
     ]
    }
   ],
   "source": [
    "# yukarıdaki list yapısını series çevirdik.\n",
    "ps_student = pd.Series(student)\n",
    "print(ps_student)\n",
    "print(type(ps_student))"
   ]
  },
  {
   "cell_type": "code",
   "execution_count": 8,
   "id": "3b84c0f8-494a-47e5-bd6f-1e57e43db752",
   "metadata": {},
   "outputs": [
    {
     "name": "stdout",
     "output_type": "stream",
     "text": [
      "{'name': 'Arin', 'age': '23', 'department': 'CE'}\n",
      "<class 'dict'>\n"
     ]
    }
   ],
   "source": [
    "student = {\"name\":\"Arin\",\n",
    "           \"age\":\"23\",\n",
    "           \"department\":\"CE\"}\n",
    "print(student)\n",
    "print(type(student))"
   ]
  },
  {
   "cell_type": "code",
   "execution_count": 9,
   "id": "8111005e-1cef-459e-b729-6d31c7540143",
   "metadata": {},
   "outputs": [
    {
     "name": "stdout",
     "output_type": "stream",
     "text": [
      "name          Arin\n",
      "age             23\n",
      "department      CE\n",
      "dtype: object\n",
      "<class 'pandas.core.series.Series'>\n"
     ]
    }
   ],
   "source": [
    "# yukarıdaki dict yapısını series çevirdik.\n",
    "ps_student = pd.Series(student)\n",
    "print(ps_student)\n",
    "print(type(ps_student))"
   ]
  },
  {
   "cell_type": "code",
   "execution_count": 10,
   "id": "0724e3a1-19b1-4aee-95be-b4c16fa7503c",
   "metadata": {},
   "outputs": [
    {
     "name": "stdout",
     "output_type": "stream",
     "text": [
      "0    Arin\n",
      "1      23\n",
      "2      CE\n",
      "dtype: object\n",
      "<class 'pandas.core.series.Series'>\n"
     ]
    }
   ],
   "source": [
    "student = pd.Series([\"Arin\",23,\"CE\"])\n",
    "print(student)\n",
    "print(type(student))\n",
    "#kullandığımız değerlere göre dtype int float gibi tipler olabilir."
   ]
  },
  {
   "cell_type": "code",
   "execution_count": 11,
   "id": "56646e69-681a-421f-be42-5463bc8e2a59",
   "metadata": {},
   "outputs": [
    {
     "name": "stdout",
     "output_type": "stream",
     "text": [
      "0    15\n",
      "1    23\n",
      "2    48\n",
      "dtype: int64\n",
      "<class 'pandas.core.series.Series'>\n"
     ]
    }
   ],
   "source": [
    "number = pd.Series([15,23,48])\n",
    "print(number)\n",
    "print(type(number))"
   ]
  },
  {
   "cell_type": "code",
   "execution_count": 12,
   "id": "d41becae-f2d0-449c-aba4-3faceae7c5e8",
   "metadata": {},
   "outputs": [
    {
     "name": "stdout",
     "output_type": "stream",
     "text": [
      "0     True\n",
      "1    False\n",
      "2     True\n",
      "dtype: bool\n",
      "<class 'pandas.core.series.Series'>\n"
     ]
    }
   ],
   "source": [
    "booleans = pd.Series([True, False, True])\n",
    "print(booleans)\n",
    "print(type(booleans))"
   ]
  },
  {
   "cell_type": "code",
   "execution_count": 13,
   "id": "a792ac0a-7c36-499c-a777-de1ae7c0e84c",
   "metadata": {},
   "outputs": [
    {
     "name": "stdout",
     "output_type": "stream",
     "text": [
      "name          Arin\n",
      "age             23\n",
      "department      CE\n",
      "dtype: object\n",
      "<class 'pandas.core.series.Series'>\n",
      "['Arin' 23 'CE']\n",
      "\n",
      "Index(['name', 'age', 'department'], dtype='object')\n",
      "\n",
      "(3,)\n",
      "\n",
      "1\n",
      "\n",
      "3\n",
      "\n",
      "None\n",
      "\n",
      "object\n"
     ]
    }
   ],
   "source": [
    "# belirlediğimiz \n",
    "student = pd.Series(data=[\"Arin\",23,\"CE\"],index=[\"name\",\"age\",\"department\"])\n",
    "print(student)\n",
    "print(type(student))\n",
    "print(student.values)\n",
    "print()\n",
    "print(student.index)\n",
    "print()\n",
    "print(student.shape)   # bir tuples döndürüyor. 3 elemanlı tek boyutlu.\n",
    "print()\n",
    "print(student.ndim)\n",
    "print()\n",
    "print(student.size)\n",
    "print()\n",
    "print(student.name)\n",
    "print()\n",
    "print(student.dtype)"
   ]
  },
  {
   "cell_type": "code",
   "execution_count": 14,
   "id": "732786fd-11d5-4f92-83ae-e99024267ca7",
   "metadata": {},
   "outputs": [
    {
     "name": "stdout",
     "output_type": "stream",
     "text": [
      "Maradona\n"
     ]
    }
   ],
   "source": [
    "student.name = \"Maradona\"\n",
    "print(student.name)"
   ]
  },
  {
   "cell_type": "code",
   "execution_count": 15,
   "id": "354b29ff-dfaf-4c37-b2fc-aaa107fc0ac9",
   "metadata": {},
   "outputs": [
    {
     "data": {
      "text/plain": [
       "True"
      ]
     },
     "execution_count": 15,
     "metadata": {},
     "output_type": "execute_result"
    }
   ],
   "source": [
    "\"Arin\" in student.values"
   ]
  },
  {
   "cell_type": "code",
   "execution_count": 16,
   "id": "752017b6-1e63-452b-9fb7-a5457e7d40ff",
   "metadata": {},
   "outputs": [
    {
     "name": "stdout",
     "output_type": "stream",
     "text": [
      "0    4.0\n",
      "1    2.5\n",
      "2    2.0\n",
      "dtype: float64\n",
      "8.5\n",
      "2.8333333333333335\n",
      "20.0\n"
     ]
    }
   ],
   "source": [
    "numbers = pd.Series([4,2.5,2])\n",
    "print(numbers)\n",
    "print(numbers.sum())\n",
    "print(numbers.mean())\n",
    "print(numbers.product())"
   ]
  },
  {
   "cell_type": "code",
   "execution_count": 17,
   "id": "a6fd8785-e978-425e-8225-8e727c58fd8c",
   "metadata": {},
   "outputs": [],
   "source": [
    "import pandas as pd"
   ]
  },
  {
   "cell_type": "code",
   "execution_count": 18,
   "id": "a70d754f-f049-4162-b1ce-f9d212dd0e2a",
   "metadata": {},
   "outputs": [
    {
     "name": "stdout",
     "output_type": "stream",
     "text": [
      "name              Arin\n",
      "surname       Software\n",
      "age                 23\n",
      "department          CE\n",
      "dtype: object\n"
     ]
    }
   ],
   "source": [
    "student = pd.Series(data=[\"Arin\",\"Software\",23,\"CE\"], index=[\"name\",\"surname\",\"age\",\"department\"])\n",
    "print(student)"
   ]
  },
  {
   "cell_type": "code",
   "execution_count": 19,
   "id": "deb3c544-9583-4518-aa3e-644734384a6e",
   "metadata": {},
   "outputs": [
    {
     "name": "stdout",
     "output_type": "stream",
     "text": [
      "name              Arin\n",
      "surname       Software\n",
      "age                 23\n",
      "department          CE\n",
      "dtype: object\n"
     ]
    }
   ],
   "source": [
    "# data ve index yazmasak bile default olarak ilkini data sonrasını ise index olarak alıyor.\n",
    "student = pd.Series([\"Arin\",\"Software\",23,\"CE\"],[\"name\",\"surname\",\"age\",\"department\"])\n",
    "print(student)"
   ]
  },
  {
   "cell_type": "code",
   "execution_count": 20,
   "id": "e683af55-d5f7-4f7b-b494-c73044d41a89",
   "metadata": {},
   "outputs": [
    {
     "name": "stdout",
     "output_type": "stream",
     "text": [
      "Arin\n"
     ]
    }
   ],
   "source": [
    "print(student[\"name\"])"
   ]
  },
  {
   "cell_type": "code",
   "execution_count": 21,
   "id": "6e3dc10b-a17f-40a2-a677-efbe60084c2a",
   "metadata": {},
   "outputs": [
    {
     "ename": "KeyError",
     "evalue": "'key of type tuple not found and not a MultiIndex'",
     "output_type": "error",
     "traceback": [
      "\u001b[1;31m---------------------------------------------------------------------------\u001b[0m",
      "\u001b[1;31mKeyError\u001b[0m                                  Traceback (most recent call last)",
      "\u001b[1;32m<ipython-input-21-9e5a7c04298b>\u001b[0m in \u001b[0;36m<module>\u001b[1;34m\u001b[0m\n\u001b[1;32m----> 1\u001b[1;33m \u001b[0mprint\u001b[0m\u001b[1;33m(\u001b[0m\u001b[0mstudent\u001b[0m\u001b[1;33m[\u001b[0m\u001b[1;34m\"name\"\u001b[0m\u001b[1;33m,\u001b[0m\u001b[1;34m\"age\"\u001b[0m\u001b[1;33m]\u001b[0m\u001b[1;33m)\u001b[0m\u001b[1;33m\u001b[0m\u001b[1;33m\u001b[0m\u001b[0m\n\u001b[0m",
      "\u001b[1;32m~\\anaconda3\\lib\\site-packages\\pandas\\core\\series.py\u001b[0m in \u001b[0;36m__getitem__\u001b[1;34m(self, key)\u001b[0m\n\u001b[0;32m    875\u001b[0m             \u001b[1;32mreturn\u001b[0m \u001b[0mself\u001b[0m\u001b[1;33m.\u001b[0m\u001b[0m_get_values\u001b[0m\u001b[1;33m(\u001b[0m\u001b[0mkey\u001b[0m\u001b[1;33m)\u001b[0m\u001b[1;33m\u001b[0m\u001b[1;33m\u001b[0m\u001b[0m\n\u001b[0;32m    876\u001b[0m \u001b[1;33m\u001b[0m\u001b[0m\n\u001b[1;32m--> 877\u001b[1;33m         \u001b[1;32mreturn\u001b[0m \u001b[0mself\u001b[0m\u001b[1;33m.\u001b[0m\u001b[0m_get_with\u001b[0m\u001b[1;33m(\u001b[0m\u001b[0mkey\u001b[0m\u001b[1;33m)\u001b[0m\u001b[1;33m\u001b[0m\u001b[1;33m\u001b[0m\u001b[0m\n\u001b[0m\u001b[0;32m    878\u001b[0m \u001b[1;33m\u001b[0m\u001b[0m\n\u001b[0;32m    879\u001b[0m     \u001b[1;32mdef\u001b[0m \u001b[0m_get_with\u001b[0m\u001b[1;33m(\u001b[0m\u001b[0mself\u001b[0m\u001b[1;33m,\u001b[0m \u001b[0mkey\u001b[0m\u001b[1;33m)\u001b[0m\u001b[1;33m:\u001b[0m\u001b[1;33m\u001b[0m\u001b[1;33m\u001b[0m\u001b[0m\n",
      "\u001b[1;32m~\\anaconda3\\lib\\site-packages\\pandas\\core\\series.py\u001b[0m in \u001b[0;36m_get_with\u001b[1;34m(self, key)\u001b[0m\n\u001b[0;32m    890\u001b[0m             )\n\u001b[0;32m    891\u001b[0m         \u001b[1;32melif\u001b[0m \u001b[0misinstance\u001b[0m\u001b[1;33m(\u001b[0m\u001b[0mkey\u001b[0m\u001b[1;33m,\u001b[0m \u001b[0mtuple\u001b[0m\u001b[1;33m)\u001b[0m\u001b[1;33m:\u001b[0m\u001b[1;33m\u001b[0m\u001b[1;33m\u001b[0m\u001b[0m\n\u001b[1;32m--> 892\u001b[1;33m             \u001b[1;32mreturn\u001b[0m \u001b[0mself\u001b[0m\u001b[1;33m.\u001b[0m\u001b[0m_get_values_tuple\u001b[0m\u001b[1;33m(\u001b[0m\u001b[0mkey\u001b[0m\u001b[1;33m)\u001b[0m\u001b[1;33m\u001b[0m\u001b[1;33m\u001b[0m\u001b[0m\n\u001b[0m\u001b[0;32m    893\u001b[0m \u001b[1;33m\u001b[0m\u001b[0m\n\u001b[0;32m    894\u001b[0m         \u001b[1;32melif\u001b[0m \u001b[1;32mnot\u001b[0m \u001b[0mis_list_like\u001b[0m\u001b[1;33m(\u001b[0m\u001b[0mkey\u001b[0m\u001b[1;33m)\u001b[0m\u001b[1;33m:\u001b[0m\u001b[1;33m\u001b[0m\u001b[1;33m\u001b[0m\u001b[0m\n",
      "\u001b[1;32m~\\anaconda3\\lib\\site-packages\\pandas\\core\\series.py\u001b[0m in \u001b[0;36m_get_values_tuple\u001b[1;34m(self, key)\u001b[0m\n\u001b[0;32m    925\u001b[0m \u001b[1;33m\u001b[0m\u001b[0m\n\u001b[0;32m    926\u001b[0m         \u001b[1;32mif\u001b[0m \u001b[1;32mnot\u001b[0m \u001b[0misinstance\u001b[0m\u001b[1;33m(\u001b[0m\u001b[0mself\u001b[0m\u001b[1;33m.\u001b[0m\u001b[0mindex\u001b[0m\u001b[1;33m,\u001b[0m \u001b[0mMultiIndex\u001b[0m\u001b[1;33m)\u001b[0m\u001b[1;33m:\u001b[0m\u001b[1;33m\u001b[0m\u001b[1;33m\u001b[0m\u001b[0m\n\u001b[1;32m--> 927\u001b[1;33m             \u001b[1;32mraise\u001b[0m \u001b[0mKeyError\u001b[0m\u001b[1;33m(\u001b[0m\u001b[1;34m\"key of type tuple not found and not a MultiIndex\"\u001b[0m\u001b[1;33m)\u001b[0m\u001b[1;33m\u001b[0m\u001b[1;33m\u001b[0m\u001b[0m\n\u001b[0m\u001b[0;32m    928\u001b[0m \u001b[1;33m\u001b[0m\u001b[0m\n\u001b[0;32m    929\u001b[0m         \u001b[1;31m# If key is contained, would have returned by now\u001b[0m\u001b[1;33m\u001b[0m\u001b[1;33m\u001b[0m\u001b[1;33m\u001b[0m\u001b[0m\n",
      "\u001b[1;31mKeyError\u001b[0m: 'key of type tuple not found and not a MultiIndex'"
     ]
    }
   ],
   "source": [
    "print(student[\"name\",\"age\"])"
   ]
  },
  {
   "cell_type": "code",
   "execution_count": 22,
   "id": "4ce28743-d201-46df-9593-a9da7c414ddf",
   "metadata": {},
   "outputs": [
    {
     "name": "stdout",
     "output_type": "stream",
     "text": [
      "name    Arin\n",
      "age       23\n",
      "dtype: object\n",
      "<class 'pandas.core.series.Series'>\n"
     ]
    }
   ],
   "source": [
    "# yukarıdaki hatayı engellemek yani 1 den fazla değişken var ise iç içe iki liste olarak yazdırmalıyız.\n",
    "print(student[[\"name\",\"age\"]])\n",
    "print(type(student[[\"name\",\"age\"]]))"
   ]
  },
  {
   "cell_type": "code",
   "execution_count": 23,
   "id": "9d34badc-f868-4975-bd8d-2359f775690d",
   "metadata": {},
   "outputs": [
    {
     "name": "stdout",
     "output_type": "stream",
     "text": [
      "Software\n"
     ]
    }
   ],
   "source": [
    "print(student[1])  # index numarası olarak bunu vermemize rağmen çağırdığımızda geliyor."
   ]
  },
  {
   "cell_type": "code",
   "execution_count": 24,
   "id": "dfe46186-1c99-4199-be83-0df624cd1bd4",
   "metadata": {},
   "outputs": [
    {
     "name": "stdout",
     "output_type": "stream",
     "text": [
      "name           Arin\n",
      "surname    Software\n",
      "dtype: object\n"
     ]
    }
   ],
   "source": [
    "print(student[[0,1]]) "
   ]
  },
  {
   "cell_type": "code",
   "execution_count": 25,
   "id": "b1fdf55b-e8b5-49e6-864b-9ab49288f183",
   "metadata": {},
   "outputs": [
    {
     "name": "stdout",
     "output_type": "stream",
     "text": [
      "name           Arin\n",
      "surname    Software\n",
      "age              23\n",
      "dtype: object\n"
     ]
    }
   ],
   "source": [
    "print(student[0:3]) "
   ]
  },
  {
   "cell_type": "code",
   "execution_count": 26,
   "id": "5456a2e7-6e26-4513-b1a4-4cf2abb25e18",
   "metadata": {},
   "outputs": [
    {
     "name": "stdout",
     "output_type": "stream",
     "text": [
      "name              Arin\n",
      "surname       Software\n",
      "age                 23\n",
      "department          CE\n",
      "dtype: object\n"
     ]
    }
   ],
   "source": [
    "print(student[0:])"
   ]
  },
  {
   "cell_type": "code",
   "execution_count": 27,
   "id": "0ebe6443-4e6b-466e-a4e3-3c6e2fb5e363",
   "metadata": {},
   "outputs": [
    {
     "name": "stdout",
     "output_type": "stream",
     "text": [
      "age           23\n",
      "department    CE\n",
      "dtype: object\n"
     ]
    }
   ],
   "source": [
    "print(student[-2:])"
   ]
  },
  {
   "cell_type": "code",
   "execution_count": 28,
   "id": "1cdc7849-4f61-43d7-b2df-0e7fdb41c721",
   "metadata": {},
   "outputs": [
    {
     "name": "stdout",
     "output_type": "stream",
     "text": [
      "name           Arin\n",
      "surname    Software\n",
      "age              23\n",
      "dtype: object\n"
     ]
    }
   ],
   "source": [
    "print(student[\"name\":\"age\"])  # bu şekilde çağırınca son değişkeni dahil ediyor."
   ]
  },
  {
   "cell_type": "code",
   "execution_count": 29,
   "id": "6bd58c77-4913-482f-b28a-d998589e833d",
   "metadata": {},
   "outputs": [],
   "source": [
    "# loc -> location ,  iloc-> index location"
   ]
  },
  {
   "cell_type": "code",
   "execution_count": 30,
   "id": "f4df1e06-33bc-4b07-895b-99c0ec804654",
   "metadata": {},
   "outputs": [
    {
     "name": "stdout",
     "output_type": "stream",
     "text": [
      "CE\n"
     ]
    }
   ],
   "source": [
    "print(student.loc[\"department\"])"
   ]
  },
  {
   "cell_type": "code",
   "execution_count": 31,
   "id": "63168651-0be4-4a30-b6fe-d73c2de5e5bb",
   "metadata": {},
   "outputs": [
    {
     "name": "stdout",
     "output_type": "stream",
     "text": [
      "Software\n"
     ]
    }
   ],
   "source": [
    "print(student.iloc[1])"
   ]
  },
  {
   "cell_type": "code",
   "execution_count": 32,
   "id": "30ed78c7-8a42-4fb0-ac1d-c6914cef71c8",
   "metadata": {},
   "outputs": [
    {
     "ename": "TypeError",
     "evalue": "Cannot index by location index with a non-integer key",
     "output_type": "error",
     "traceback": [
      "\u001b[1;31m---------------------------------------------------------------------------\u001b[0m",
      "\u001b[1;31mTypeError\u001b[0m                                 Traceback (most recent call last)",
      "\u001b[1;32m<ipython-input-32-ef5af208609f>\u001b[0m in \u001b[0;36m<module>\u001b[1;34m\u001b[0m\n\u001b[1;32m----> 1\u001b[1;33m \u001b[0mprint\u001b[0m\u001b[1;33m(\u001b[0m\u001b[0mstudent\u001b[0m\u001b[1;33m.\u001b[0m\u001b[0miloc\u001b[0m\u001b[1;33m[\u001b[0m\u001b[1;34m\"department\"\u001b[0m\u001b[1;33m]\u001b[0m\u001b[1;33m)\u001b[0m  \u001b[1;31m# index numarası ile çalışıyor.\u001b[0m\u001b[1;33m\u001b[0m\u001b[1;33m\u001b[0m\u001b[0m\n\u001b[0m",
      "\u001b[1;32m~\\anaconda3\\lib\\site-packages\\pandas\\core\\indexing.py\u001b[0m in \u001b[0;36m__getitem__\u001b[1;34m(self, key)\u001b[0m\n\u001b[0;32m    893\u001b[0m \u001b[1;33m\u001b[0m\u001b[0m\n\u001b[0;32m    894\u001b[0m             \u001b[0mmaybe_callable\u001b[0m \u001b[1;33m=\u001b[0m \u001b[0mcom\u001b[0m\u001b[1;33m.\u001b[0m\u001b[0mapply_if_callable\u001b[0m\u001b[1;33m(\u001b[0m\u001b[0mkey\u001b[0m\u001b[1;33m,\u001b[0m \u001b[0mself\u001b[0m\u001b[1;33m.\u001b[0m\u001b[0mobj\u001b[0m\u001b[1;33m)\u001b[0m\u001b[1;33m\u001b[0m\u001b[1;33m\u001b[0m\u001b[0m\n\u001b[1;32m--> 895\u001b[1;33m             \u001b[1;32mreturn\u001b[0m \u001b[0mself\u001b[0m\u001b[1;33m.\u001b[0m\u001b[0m_getitem_axis\u001b[0m\u001b[1;33m(\u001b[0m\u001b[0mmaybe_callable\u001b[0m\u001b[1;33m,\u001b[0m \u001b[0maxis\u001b[0m\u001b[1;33m=\u001b[0m\u001b[0maxis\u001b[0m\u001b[1;33m)\u001b[0m\u001b[1;33m\u001b[0m\u001b[1;33m\u001b[0m\u001b[0m\n\u001b[0m\u001b[0;32m    896\u001b[0m \u001b[1;33m\u001b[0m\u001b[0m\n\u001b[0;32m    897\u001b[0m     \u001b[1;32mdef\u001b[0m \u001b[0m_is_scalar_access\u001b[0m\u001b[1;33m(\u001b[0m\u001b[0mself\u001b[0m\u001b[1;33m,\u001b[0m \u001b[0mkey\u001b[0m\u001b[1;33m:\u001b[0m \u001b[0mTuple\u001b[0m\u001b[1;33m)\u001b[0m\u001b[1;33m:\u001b[0m\u001b[1;33m\u001b[0m\u001b[1;33m\u001b[0m\u001b[0m\n",
      "\u001b[1;32m~\\anaconda3\\lib\\site-packages\\pandas\\core\\indexing.py\u001b[0m in \u001b[0;36m_getitem_axis\u001b[1;34m(self, key, axis)\u001b[0m\n\u001b[0;32m   1496\u001b[0m             \u001b[0mkey\u001b[0m \u001b[1;33m=\u001b[0m \u001b[0mitem_from_zerodim\u001b[0m\u001b[1;33m(\u001b[0m\u001b[0mkey\u001b[0m\u001b[1;33m)\u001b[0m\u001b[1;33m\u001b[0m\u001b[1;33m\u001b[0m\u001b[0m\n\u001b[0;32m   1497\u001b[0m             \u001b[1;32mif\u001b[0m \u001b[1;32mnot\u001b[0m \u001b[0mis_integer\u001b[0m\u001b[1;33m(\u001b[0m\u001b[0mkey\u001b[0m\u001b[1;33m)\u001b[0m\u001b[1;33m:\u001b[0m\u001b[1;33m\u001b[0m\u001b[1;33m\u001b[0m\u001b[0m\n\u001b[1;32m-> 1498\u001b[1;33m                 \u001b[1;32mraise\u001b[0m \u001b[0mTypeError\u001b[0m\u001b[1;33m(\u001b[0m\u001b[1;34m\"Cannot index by location index with a non-integer key\"\u001b[0m\u001b[1;33m)\u001b[0m\u001b[1;33m\u001b[0m\u001b[1;33m\u001b[0m\u001b[0m\n\u001b[0m\u001b[0;32m   1499\u001b[0m \u001b[1;33m\u001b[0m\u001b[0m\n\u001b[0;32m   1500\u001b[0m             \u001b[1;31m# validate the location\u001b[0m\u001b[1;33m\u001b[0m\u001b[1;33m\u001b[0m\u001b[1;33m\u001b[0m\u001b[0m\n",
      "\u001b[1;31mTypeError\u001b[0m: Cannot index by location index with a non-integer key"
     ]
    }
   ],
   "source": [
    "print(student.iloc[\"department\"])  # index numarası ile çalışıyor."
   ]
  },
  {
   "cell_type": "code",
   "execution_count": 33,
   "id": "0071cfb9-2450-4a06-9667-b378a566b410",
   "metadata": {},
   "outputs": [
    {
     "name": "stdout",
     "output_type": "stream",
     "text": [
      "name              Arin\n",
      "surname       Software\n",
      "age                 23\n",
      "department          CE\n",
      "dtype: object\n",
      "\n",
      "name              Elis\n",
      "surname       Software\n",
      "age                 23\n",
      "department          CE\n",
      "dtype: object\n",
      "\n",
      "name              Elis\n",
      "surname       Software\n",
      "age                 15\n",
      "department          CE\n",
      "dtype: object\n"
     ]
    }
   ],
   "source": [
    "print(student)\n",
    "print()\n",
    "student[\"name\"]=\"Elis\"\n",
    "print(student)\n",
    "student.iloc[2] = 15\n",
    "print()\n",
    "print(student)"
   ]
  },
  {
   "cell_type": "code",
   "execution_count": 34,
   "id": "7448d237-38ce-4217-a139-0ab260789b36",
   "metadata": {},
   "outputs": [
    {
     "name": "stdout",
     "output_type": "stream",
     "text": [
      "name              Elis\n",
      "surname       Software\n",
      "age                 15\n",
      "department          CE\n",
      "dtype: object\n",
      "\n",
      "name              Elis\n",
      "surname       Software\n",
      "age                 15\n",
      "department          CE\n",
      "dtype: object\n"
     ]
    }
   ],
   "source": [
    "print(student)\n",
    "print()\n",
    "student.drop(\"name\")   # drop bu şekilde kullanılınca orjinal seride değişiklik yapmazb\n",
    "print(student)"
   ]
  },
  {
   "cell_type": "code",
   "execution_count": 35,
   "id": "70e7237d-31e7-4cd6-ae97-fd267ae4d49e",
   "metadata": {},
   "outputs": [
    {
     "name": "stdout",
     "output_type": "stream",
     "text": [
      "name              Elis\n",
      "surname       Software\n",
      "age                 15\n",
      "department          CE\n",
      "dtype: object\n",
      "\n",
      "surname       Software\n",
      "age                 15\n",
      "department          CE\n",
      "dtype: object\n",
      "\n",
      "name              Elis\n",
      "surname       Software\n",
      "age                 15\n",
      "department          CE\n",
      "dtype: object\n"
     ]
    }
   ],
   "source": [
    "print(student)\n",
    "print()\n",
    "student2 = student.drop(\"name\")   # sadece yapılan değişikliği görsel olarak görebiliriz.\n",
    "print(student2)\n",
    "print()\n",
    "print(student)"
   ]
  },
  {
   "cell_type": "code",
   "execution_count": 36,
   "id": "2481124f-7f03-4aab-b5c5-c72d1f20d236",
   "metadata": {},
   "outputs": [
    {
     "name": "stdout",
     "output_type": "stream",
     "text": [
      "name              Elis\n",
      "surname       Software\n",
      "age                 15\n",
      "department          CE\n",
      "dtype: object\n",
      "\n",
      "surname       Software\n",
      "age                 15\n",
      "department          CE\n",
      "dtype: object\n"
     ]
    }
   ],
   "source": [
    "print(student)\n",
    "print()\n",
    "student.drop(\"name\",inplace=True)  # bununla kalıcı olarak silebiliriz.\n",
    "print(student)"
   ]
  },
  {
   "cell_type": "code",
   "execution_count": 37,
   "id": "ebd00f34-2cbb-4fce-9632-7ee388e5e3bd",
   "metadata": {},
   "outputs": [
    {
     "name": "stdout",
     "output_type": "stream",
     "text": [
      "name               Arin\n",
      "surname       Softwaret\n",
      "age                  23\n",
      "department           CE\n",
      "dtype: object\n",
      "\n",
      "4\n",
      "['Arin', 'Softwaret', 23, 'CE']\n",
      "{'name': 'Arin', 'surname': 'Softwaret', 'age': 23, 'department': 'CE'}\n"
     ]
    },
    {
     "ename": "TypeError",
     "evalue": "'>' not supported between instances of 'int' and 'str'",
     "output_type": "error",
     "traceback": [
      "\u001b[1;31m---------------------------------------------------------------------------\u001b[0m",
      "\u001b[1;31mTypeError\u001b[0m                                 Traceback (most recent call last)",
      "\u001b[1;32m<ipython-input-37-f9bc7aac2608>\u001b[0m in \u001b[0;36m<module>\u001b[1;34m\u001b[0m\n\u001b[0;32m      5\u001b[0m \u001b[0mprint\u001b[0m\u001b[1;33m(\u001b[0m\u001b[0mlist\u001b[0m\u001b[1;33m(\u001b[0m\u001b[0mstudent\u001b[0m\u001b[1;33m)\u001b[0m\u001b[1;33m)\u001b[0m\u001b[1;33m\u001b[0m\u001b[1;33m\u001b[0m\u001b[0m\n\u001b[0;32m      6\u001b[0m \u001b[0mprint\u001b[0m\u001b[1;33m(\u001b[0m\u001b[0mdict\u001b[0m\u001b[1;33m(\u001b[0m\u001b[0mstudent\u001b[0m\u001b[1;33m)\u001b[0m\u001b[1;33m)\u001b[0m\u001b[1;33m\u001b[0m\u001b[1;33m\u001b[0m\u001b[0m\n\u001b[1;32m----> 7\u001b[1;33m \u001b[0mprint\u001b[0m\u001b[1;33m(\u001b[0m\u001b[0mmax\u001b[0m\u001b[1;33m(\u001b[0m\u001b[0mstudent\u001b[0m\u001b[1;33m)\u001b[0m\u001b[1;33m)\u001b[0m  \u001b[1;31m# int ve str tipleri olduğundan bunları sıralayamıyor.\u001b[0m\u001b[1;33m\u001b[0m\u001b[1;33m\u001b[0m\u001b[0m\n\u001b[0m\u001b[0;32m      8\u001b[0m \u001b[0mprint\u001b[0m\u001b[1;33m(\u001b[0m\u001b[0msorted\u001b[0m\u001b[1;33m(\u001b[0m\u001b[0mstudent\u001b[0m\u001b[1;33m)\u001b[0m\u001b[1;33m)\u001b[0m   \u001b[1;31m# int ve str tipleri olduğundan bunları sıralayamıyor.\u001b[0m\u001b[1;33m\u001b[0m\u001b[1;33m\u001b[0m\u001b[0m\n",
      "\u001b[1;31mTypeError\u001b[0m: '>' not supported between instances of 'int' and 'str'"
     ]
    }
   ],
   "source": [
    "student = pd.Series([\"Arin\",\"Softwaret\",23,\"CE\"],[\"name\",\"surname\",\"age\",\"department\"])\n",
    "print(student)\n",
    "print()\n",
    "print(len(student))\n",
    "print(list(student))\n",
    "print(dict(student))\n",
    "print(max(student))  # int ve str tipleri olduğundan bunları sıralayamıyor.\n",
    "print(sorted(student))   # int ve str tipleri olduğundan bunları sıralayamıyor."
   ]
  },
  {
   "cell_type": "code",
   "execution_count": 38,
   "id": "6352e6b4-2ca5-404f-aef5-c6c19813a35e",
   "metadata": {},
   "outputs": [
    {
     "name": "stdout",
     "output_type": "stream",
     "text": [
      "Software\n",
      "['Arin', 'CE', 'Software']\n"
     ]
    }
   ],
   "source": [
    "student = pd.Series([\"Arin\",\"Software\",\"CE\"],[\"name\",\"surname\",\"department\"])\n",
    "print(max(student))\n",
    "print(sorted(student))"
   ]
  },
  {
   "cell_type": "code",
   "execution_count": 39,
   "id": "d2082bab-f71f-4279-9697-a6f4c76abf92",
   "metadata": {},
   "outputs": [],
   "source": [
    "import pandas as pd"
   ]
  },
  {
   "cell_type": "code",
   "execution_count": 40,
   "id": "eb2626b6-a184-43f8-bd29-0aa19787d9b8",
   "metadata": {},
   "outputs": [
    {
     "data": {
      "text/plain": [
       "'C:\\\\Users\\\\HP\\\\DATA_SCIENCE_COURSE_NOTES\\\\DAwPython\\\\Pandas_Notes'"
      ]
     },
     "execution_count": 40,
     "metadata": {},
     "output_type": "execute_result"
    }
   ],
   "source": [
    "pwd"
   ]
  },
  {
   "cell_type": "code",
   "execution_count": 41,
   "id": "05ef72b4-da1f-408a-8481-04b7204500c1",
   "metadata": {},
   "outputs": [
    {
     "data": {
      "text/html": [
       "<div>\n",
       "<style scoped>\n",
       "    .dataframe tbody tr th:only-of-type {\n",
       "        vertical-align: middle;\n",
       "    }\n",
       "\n",
       "    .dataframe tbody tr th {\n",
       "        vertical-align: top;\n",
       "    }\n",
       "\n",
       "    .dataframe thead th {\n",
       "        text-align: right;\n",
       "    }\n",
       "</style>\n",
       "<table border=\"1\" class=\"dataframe\">\n",
       "  <thead>\n",
       "    <tr style=\"text-align: right;\">\n",
       "      <th></th>\n",
       "      <th>InvoiceNo</th>\n",
       "      <th>StockCode</th>\n",
       "      <th>Description</th>\n",
       "      <th>Quantity</th>\n",
       "      <th>InvoiceDate</th>\n",
       "      <th>UnitPrice</th>\n",
       "      <th>CustomerID</th>\n",
       "      <th>Country</th>\n",
       "    </tr>\n",
       "  </thead>\n",
       "  <tbody>\n",
       "    <tr>\n",
       "      <th>0</th>\n",
       "      <td>536365</td>\n",
       "      <td>85123A</td>\n",
       "      <td>WHITE HANGING HEART T-LIGHT HOLDER</td>\n",
       "      <td>6</td>\n",
       "      <td>12/1/2010 8:26</td>\n",
       "      <td>2.55</td>\n",
       "      <td>17850.0</td>\n",
       "      <td>United Kingdom</td>\n",
       "    </tr>\n",
       "    <tr>\n",
       "      <th>1</th>\n",
       "      <td>536365</td>\n",
       "      <td>71053</td>\n",
       "      <td>WHITE METAL LANTERN</td>\n",
       "      <td>6</td>\n",
       "      <td>12/1/2010 8:26</td>\n",
       "      <td>3.39</td>\n",
       "      <td>17850.0</td>\n",
       "      <td>United Kingdom</td>\n",
       "    </tr>\n",
       "    <tr>\n",
       "      <th>2</th>\n",
       "      <td>536365</td>\n",
       "      <td>84406B</td>\n",
       "      <td>CREAM CUPID HEARTS COAT HANGER</td>\n",
       "      <td>8</td>\n",
       "      <td>12/1/2010 8:26</td>\n",
       "      <td>2.75</td>\n",
       "      <td>17850.0</td>\n",
       "      <td>United Kingdom</td>\n",
       "    </tr>\n",
       "    <tr>\n",
       "      <th>3</th>\n",
       "      <td>536365</td>\n",
       "      <td>84029G</td>\n",
       "      <td>KNITTED UNION FLAG HOT WATER BOTTLE</td>\n",
       "      <td>6</td>\n",
       "      <td>12/1/2010 8:26</td>\n",
       "      <td>3.39</td>\n",
       "      <td>17850.0</td>\n",
       "      <td>United Kingdom</td>\n",
       "    </tr>\n",
       "    <tr>\n",
       "      <th>4</th>\n",
       "      <td>536365</td>\n",
       "      <td>84029E</td>\n",
       "      <td>RED WOOLLY HOTTIE WHITE HEART.</td>\n",
       "      <td>6</td>\n",
       "      <td>12/1/2010 8:26</td>\n",
       "      <td>3.39</td>\n",
       "      <td>17850.0</td>\n",
       "      <td>United Kingdom</td>\n",
       "    </tr>\n",
       "    <tr>\n",
       "      <th>...</th>\n",
       "      <td>...</td>\n",
       "      <td>...</td>\n",
       "      <td>...</td>\n",
       "      <td>...</td>\n",
       "      <td>...</td>\n",
       "      <td>...</td>\n",
       "      <td>...</td>\n",
       "      <td>...</td>\n",
       "    </tr>\n",
       "    <tr>\n",
       "      <th>541904</th>\n",
       "      <td>581587</td>\n",
       "      <td>22613</td>\n",
       "      <td>PACK OF 20 SPACEBOY NAPKINS</td>\n",
       "      <td>12</td>\n",
       "      <td>12/9/2011 12:50</td>\n",
       "      <td>0.85</td>\n",
       "      <td>12680.0</td>\n",
       "      <td>France</td>\n",
       "    </tr>\n",
       "    <tr>\n",
       "      <th>541905</th>\n",
       "      <td>581587</td>\n",
       "      <td>22899</td>\n",
       "      <td>CHILDREN'S APRON DOLLY GIRL</td>\n",
       "      <td>6</td>\n",
       "      <td>12/9/2011 12:50</td>\n",
       "      <td>2.10</td>\n",
       "      <td>12680.0</td>\n",
       "      <td>France</td>\n",
       "    </tr>\n",
       "    <tr>\n",
       "      <th>541906</th>\n",
       "      <td>581587</td>\n",
       "      <td>23254</td>\n",
       "      <td>CHILDRENS CUTLERY DOLLY GIRL</td>\n",
       "      <td>4</td>\n",
       "      <td>12/9/2011 12:50</td>\n",
       "      <td>4.15</td>\n",
       "      <td>12680.0</td>\n",
       "      <td>France</td>\n",
       "    </tr>\n",
       "    <tr>\n",
       "      <th>541907</th>\n",
       "      <td>581587</td>\n",
       "      <td>23255</td>\n",
       "      <td>CHILDRENS CUTLERY CIRCUS PARADE</td>\n",
       "      <td>4</td>\n",
       "      <td>12/9/2011 12:50</td>\n",
       "      <td>4.15</td>\n",
       "      <td>12680.0</td>\n",
       "      <td>France</td>\n",
       "    </tr>\n",
       "    <tr>\n",
       "      <th>541908</th>\n",
       "      <td>581587</td>\n",
       "      <td>22138</td>\n",
       "      <td>BAKING SET 9 PIECE RETROSPOT</td>\n",
       "      <td>3</td>\n",
       "      <td>12/9/2011 12:50</td>\n",
       "      <td>4.95</td>\n",
       "      <td>12680.0</td>\n",
       "      <td>France</td>\n",
       "    </tr>\n",
       "  </tbody>\n",
       "</table>\n",
       "<p>541909 rows × 8 columns</p>\n",
       "</div>"
      ],
      "text/plain": [
       "       InvoiceNo StockCode                          Description  Quantity  \\\n",
       "0         536365    85123A   WHITE HANGING HEART T-LIGHT HOLDER         6   \n",
       "1         536365     71053                  WHITE METAL LANTERN         6   \n",
       "2         536365    84406B       CREAM CUPID HEARTS COAT HANGER         8   \n",
       "3         536365    84029G  KNITTED UNION FLAG HOT WATER BOTTLE         6   \n",
       "4         536365    84029E       RED WOOLLY HOTTIE WHITE HEART.         6   \n",
       "...          ...       ...                                  ...       ...   \n",
       "541904    581587     22613          PACK OF 20 SPACEBOY NAPKINS        12   \n",
       "541905    581587     22899         CHILDREN'S APRON DOLLY GIRL          6   \n",
       "541906    581587     23254        CHILDRENS CUTLERY DOLLY GIRL          4   \n",
       "541907    581587     23255      CHILDRENS CUTLERY CIRCUS PARADE         4   \n",
       "541908    581587     22138        BAKING SET 9 PIECE RETROSPOT          3   \n",
       "\n",
       "            InvoiceDate  UnitPrice  CustomerID         Country  \n",
       "0        12/1/2010 8:26       2.55     17850.0  United Kingdom  \n",
       "1        12/1/2010 8:26       3.39     17850.0  United Kingdom  \n",
       "2        12/1/2010 8:26       2.75     17850.0  United Kingdom  \n",
       "3        12/1/2010 8:26       3.39     17850.0  United Kingdom  \n",
       "4        12/1/2010 8:26       3.39     17850.0  United Kingdom  \n",
       "...                 ...        ...         ...             ...  \n",
       "541904  12/9/2011 12:50       0.85     12680.0          France  \n",
       "541905  12/9/2011 12:50       2.10     12680.0          France  \n",
       "541906  12/9/2011 12:50       4.15     12680.0          France  \n",
       "541907  12/9/2011 12:50       4.15     12680.0          France  \n",
       "541908  12/9/2011 12:50       4.95     12680.0          France  \n",
       "\n",
       "[541909 rows x 8 columns]"
      ]
     },
     "execution_count": 41,
     "metadata": {},
     "output_type": "execute_result"
    }
   ],
   "source": [
    "data = pd.read_csv(\"C:\\\\Users\\\\HP\\\\DATA_SCIENCE_COURSE_NOTES\\\\Datalar\\\\data.csv\", sep=\",\") # encoding=\"utf-8\", engine=\"python\" gibi alacağımız hataya göre ek parametler yazabiliriz.\n",
    "data\n",
    "\n",
    "# data veri tipine baktığımızda sonuc DataFrame olur. Seriye dönmek için önce argüman olarak squeeze=True olarak yazarız sonra da sadece çalışmak istediğimiz sütunu usecols=[\"StockCode\"] yazarak sadece bir sütuna ait birseri seçmiş oluruz."
   ]
  },
  {
   "cell_type": "code",
   "execution_count": 42,
   "id": "a9a9c787-9431-4fc7-b01e-1acbefe2c307",
   "metadata": {},
   "outputs": [
    {
     "name": "stdout",
     "output_type": "stream",
     "text": [
      "<class 'pandas.core.frame.DataFrame'>\n"
     ]
    }
   ],
   "source": [
    "print(type(data))"
   ]
  },
  {
   "cell_type": "code",
   "execution_count": 43,
   "id": "80fb4674-9ec1-4055-b406-64c39bb5a714",
   "metadata": {},
   "outputs": [
    {
     "data": {
      "text/plain": [
       "0         85123A\n",
       "1          71053\n",
       "2         84406B\n",
       "3         84029G\n",
       "4         84029E\n",
       "           ...  \n",
       "541904     22613\n",
       "541905     22899\n",
       "541906     23254\n",
       "541907     23255\n",
       "541908     22138\n",
       "Name: StockCode, Length: 541909, dtype: object"
      ]
     },
     "execution_count": 43,
     "metadata": {},
     "output_type": "execute_result"
    }
   ],
   "source": [
    "data1 = pd.read_csv(\"C:\\\\Users\\\\HP\\\\DATA_SCIENCE_COURSE_NOTES\\\\Datalar\\\\data.csv\", sep=\",\", usecols=[\"StockCode\"], squeeze=True) # encoding=\"utf-8\", engine=\"python\" gibi alacağımız hataya göre ek parametler yazabiliriz.\n",
    "data1"
   ]
  },
  {
   "cell_type": "code",
   "execution_count": 44,
   "id": "2b8acaff-04c5-4a1b-9417-42f5fa2522d5",
   "metadata": {},
   "outputs": [
    {
     "name": "stdout",
     "output_type": "stream",
     "text": [
      "<class 'pandas.core.series.Series'>\n"
     ]
    }
   ],
   "source": [
    "print(type(data1))  # görüldügü gibi bir sütun çağırınca veri tipi seri geldi."
   ]
  },
  {
   "cell_type": "code",
   "execution_count": 45,
   "id": "22284e25-70b2-4f0d-9dde-20801ad9321c",
   "metadata": {},
   "outputs": [
    {
     "name": "stdout",
     "output_type": "stream",
     "text": [
      "0    85123A\n",
      "1     71053\n",
      "2    84406B\n",
      "3    84029G\n",
      "4    84029E\n",
      "Name: StockCode, dtype: object\n"
     ]
    }
   ],
   "source": [
    "print(data1.head(5))"
   ]
  },
  {
   "cell_type": "code",
   "execution_count": 46,
   "id": "c31bcea3-d644-487f-bd79-29ceb7db6d0a",
   "metadata": {},
   "outputs": [
    {
     "name": "stdout",
     "output_type": "stream",
     "text": [
      "541904    22613\n",
      "541905    22899\n",
      "541906    23254\n",
      "541907    23255\n",
      "541908    22138\n",
      "Name: StockCode, dtype: object\n"
     ]
    }
   ],
   "source": [
    "print(data1.tail(5))"
   ]
  },
  {
   "cell_type": "code",
   "execution_count": 47,
   "id": "b2d1929a-8041-45e5-8ddf-54b340c1f218",
   "metadata": {},
   "outputs": [
    {
     "name": "stdout",
     "output_type": "stream",
     "text": [
      "160128    10002\n",
      "6166      10002\n",
      "75792     10002\n",
      "63082     10002\n",
      "76571     10002\n",
      "106195    10002\n",
      "61929     10002\n",
      "77513     10002\n",
      "44809     10002\n",
      "23896     10002\n",
      "Name: StockCode, dtype: object\n"
     ]
    }
   ],
   "source": [
    "print(data1.sort_values().head(10))  # kalıcı olmasını istiyorsak inplace=True olarak yazarız. "
   ]
  },
  {
   "cell_type": "code",
   "execution_count": 48,
   "id": "2e0a788f-3d09-46eb-bf66-aed18a527d3b",
   "metadata": {},
   "outputs": [
    {
     "name": "stdout",
     "output_type": "stream",
     "text": [
      "40383                m\n",
      "178556    gift_0001_50\n",
      "245516    gift_0001_50\n",
      "239744    gift_0001_50\n",
      "42057     gift_0001_50\n",
      "281008    gift_0001_40\n",
      "38248     gift_0001_40\n",
      "145463    gift_0001_40\n",
      "322164    gift_0001_30\n",
      "208808    gift_0001_30\n",
      "Name: StockCode, dtype: object\n"
     ]
    }
   ],
   "source": [
    "print(data1.sort_values(ascending=False).head(10)) "
   ]
  },
  {
   "cell_type": "code",
   "execution_count": 49,
   "id": "94179150-f89c-46bf-aece-64b3961f5e4c",
   "metadata": {},
   "outputs": [
    {
     "data": {
      "text/plain": [
       "541908    22138\n",
       "541907    23255\n",
       "541906    23254\n",
       "541905    22899\n",
       "541904    22613\n",
       "541903    23256\n",
       "541902    22629\n",
       "541901    22367\n",
       "541900    22730\n",
       "541899    22726\n",
       "Name: StockCode, dtype: object"
      ]
     },
     "execution_count": 49,
     "metadata": {},
     "output_type": "execute_result"
    }
   ],
   "source": [
    "data1.sort_index(ascending=False).head(10)"
   ]
  },
  {
   "cell_type": "code",
   "execution_count": 50,
   "id": "26ffa864-240a-4c2d-8132-ec36cc4c3c5f",
   "metadata": {},
   "outputs": [
    {
     "data": {
      "text/plain": [
       "'84519A'"
      ]
     },
     "execution_count": 50,
     "metadata": {},
     "output_type": "execute_result"
    }
   ],
   "source": [
    "data1.get(100)"
   ]
  },
  {
   "cell_type": "code",
   "execution_count": 51,
   "id": "95a175e6-f9e0-4654-943c-e08807b3be3e",
   "metadata": {},
   "outputs": [
    {
     "name": "stdout",
     "output_type": "stream",
     "text": [
      "<class 'str'>\n"
     ]
    }
   ],
   "source": [
    "print(type(data1.get(100004)))"
   ]
  },
  {
   "cell_type": "code",
   "execution_count": 52,
   "id": "97a9f11f-ea14-400b-aff9-fde3f4ba6564",
   "metadata": {},
   "outputs": [],
   "source": [
    "import pandas as pd"
   ]
  },
  {
   "cell_type": "code",
   "execution_count": 53,
   "id": "a09721a7-9b81-4d66-a334-71862b1b9996",
   "metadata": {},
   "outputs": [],
   "source": [
    "students = [{ \"name\": \"arya\",\n",
    "              \"age\": 21,\n",
    "              \"gender\":\"F\"},\n",
    "            \n",
    "            {\"name\": \"Karya\",\n",
    "              \"age\": 12,\n",
    "              \"gender\":\"M\"},\n",
    "            \n",
    "            {\"name\": \"Alex\",\n",
    "              \"age\": 33,\n",
    "              \"gender\":\"M\"}\n",
    "            ]"
   ]
  },
  {
   "cell_type": "code",
   "execution_count": 54,
   "id": "2a311829-6096-429a-8633-868b0b256a52",
   "metadata": {},
   "outputs": [
    {
     "name": "stdout",
     "output_type": "stream",
     "text": [
      "[{'name': 'arya', 'age': 21, 'gender': 'F'}, {'name': 'Karya', 'age': 12, 'gender': 'M'}, {'name': 'Alex', 'age': 33, 'gender': 'M'}]\n"
     ]
    }
   ],
   "source": [
    "print(students)"
   ]
  },
  {
   "cell_type": "code",
   "execution_count": 55,
   "id": "ac06619c-660e-4486-87e6-1d532aec9051",
   "metadata": {},
   "outputs": [
    {
     "name": "stdout",
     "output_type": "stream",
     "text": [
      "<class 'list'>\n"
     ]
    }
   ],
   "source": [
    "print(type(students))"
   ]
  },
  {
   "cell_type": "code",
   "execution_count": 56,
   "id": "30604bc7-c765-46b9-b93f-6aa5d5ebd27c",
   "metadata": {},
   "outputs": [
    {
     "data": {
      "text/html": [
       "<div>\n",
       "<style scoped>\n",
       "    .dataframe tbody tr th:only-of-type {\n",
       "        vertical-align: middle;\n",
       "    }\n",
       "\n",
       "    .dataframe tbody tr th {\n",
       "        vertical-align: top;\n",
       "    }\n",
       "\n",
       "    .dataframe thead th {\n",
       "        text-align: right;\n",
       "    }\n",
       "</style>\n",
       "<table border=\"1\" class=\"dataframe\">\n",
       "  <thead>\n",
       "    <tr style=\"text-align: right;\">\n",
       "      <th></th>\n",
       "      <th>name</th>\n",
       "      <th>age</th>\n",
       "      <th>gender</th>\n",
       "    </tr>\n",
       "  </thead>\n",
       "  <tbody>\n",
       "    <tr>\n",
       "      <th>0</th>\n",
       "      <td>arya</td>\n",
       "      <td>21</td>\n",
       "      <td>F</td>\n",
       "    </tr>\n",
       "    <tr>\n",
       "      <th>1</th>\n",
       "      <td>Karya</td>\n",
       "      <td>12</td>\n",
       "      <td>M</td>\n",
       "    </tr>\n",
       "    <tr>\n",
       "      <th>2</th>\n",
       "      <td>Alex</td>\n",
       "      <td>33</td>\n",
       "      <td>M</td>\n",
       "    </tr>\n",
       "  </tbody>\n",
       "</table>\n",
       "</div>"
      ],
      "text/plain": [
       "    name  age gender\n",
       "0   arya   21      F\n",
       "1  Karya   12      M\n",
       "2   Alex   33      M"
      ]
     },
     "execution_count": 56,
     "metadata": {},
     "output_type": "execute_result"
    }
   ],
   "source": [
    "pd.DataFrame(students)"
   ]
  },
  {
   "cell_type": "code",
   "execution_count": 57,
   "id": "9b761349-29d3-48d9-8a2a-2bc5be4d8fac",
   "metadata": {},
   "outputs": [
    {
     "name": "stdout",
     "output_type": "stream",
     "text": [
      "<class 'pandas.core.frame.DataFrame'>\n"
     ]
    }
   ],
   "source": [
    "print(type(pd.DataFrame(students)))"
   ]
  },
  {
   "cell_type": "code",
   "execution_count": 58,
   "id": "353501da-550d-4dbf-b2e4-6b9764ee2371",
   "metadata": {},
   "outputs": [
    {
     "data": {
      "text/plain": [
       "{'names': ['ahmet', 'mehmet', 'Arzu'],\n",
       " 'age': [43, 35, 22],\n",
       " 'gender': ['M', 'M', 'F']}"
      ]
     },
     "execution_count": 58,
     "metadata": {},
     "output_type": "execute_result"
    }
   ],
   "source": [
    "teachers = { \"names\": [\"ahmet\",\"mehmet\",\"Arzu\"],\n",
    "              \"age\": [43, 35, 22],\n",
    "              \"gender\": [\"M\", \"M\", \"F\"]}\n",
    "            \n",
    "teachers"
   ]
  },
  {
   "cell_type": "code",
   "execution_count": 59,
   "id": "fdc154b4-8348-4c86-a214-10fdb44f7d48",
   "metadata": {},
   "outputs": [
    {
     "data": {
      "text/html": [
       "<div>\n",
       "<style scoped>\n",
       "    .dataframe tbody tr th:only-of-type {\n",
       "        vertical-align: middle;\n",
       "    }\n",
       "\n",
       "    .dataframe tbody tr th {\n",
       "        vertical-align: top;\n",
       "    }\n",
       "\n",
       "    .dataframe thead th {\n",
       "        text-align: right;\n",
       "    }\n",
       "</style>\n",
       "<table border=\"1\" class=\"dataframe\">\n",
       "  <thead>\n",
       "    <tr style=\"text-align: right;\">\n",
       "      <th></th>\n",
       "      <th>names</th>\n",
       "      <th>age</th>\n",
       "      <th>gender</th>\n",
       "    </tr>\n",
       "  </thead>\n",
       "  <tbody>\n",
       "    <tr>\n",
       "      <th>0</th>\n",
       "      <td>ahmet</td>\n",
       "      <td>43</td>\n",
       "      <td>M</td>\n",
       "    </tr>\n",
       "    <tr>\n",
       "      <th>1</th>\n",
       "      <td>mehmet</td>\n",
       "      <td>35</td>\n",
       "      <td>M</td>\n",
       "    </tr>\n",
       "    <tr>\n",
       "      <th>2</th>\n",
       "      <td>Arzu</td>\n",
       "      <td>22</td>\n",
       "      <td>F</td>\n",
       "    </tr>\n",
       "  </tbody>\n",
       "</table>\n",
       "</div>"
      ],
      "text/plain": [
       "    names  age gender\n",
       "0   ahmet   43      M\n",
       "1  mehmet   35      M\n",
       "2    Arzu   22      F"
      ]
     },
     "execution_count": 59,
     "metadata": {},
     "output_type": "execute_result"
    }
   ],
   "source": [
    "pd.DataFrame(teachers)"
   ]
  },
  {
   "cell_type": "code",
   "execution_count": 60,
   "id": "6f4d1995-63e5-4f66-85e3-50d4f05d2094",
   "metadata": {},
   "outputs": [
    {
     "name": "stdout",
     "output_type": "stream",
     "text": [
      "<class 'pandas.core.frame.DataFrame'>\n"
     ]
    }
   ],
   "source": [
    "print(type(pd.DataFrame(teachers)))"
   ]
  },
  {
   "cell_type": "code",
   "execution_count": 61,
   "id": "29335de7-de00-4a25-8b69-2827e483cce3",
   "metadata": {},
   "outputs": [
    {
     "data": {
      "text/plain": [
       "[['ahmet', 'veli', 'ceylan'], [22, 18, 45]]"
      ]
     },
     "execution_count": 61,
     "metadata": {},
     "output_type": "execute_result"
    }
   ],
   "source": [
    "list_of_list = [[\"ahmet\",\"veli\",\"ceylan\"],\n",
    "                [22,18,45]]\n",
    "list_of_list"
   ]
  },
  {
   "cell_type": "code",
   "execution_count": 62,
   "id": "d5bed22f-b2d3-4197-8dbf-022ff8526bd4",
   "metadata": {},
   "outputs": [
    {
     "data": {
      "text/html": [
       "<div>\n",
       "<style scoped>\n",
       "    .dataframe tbody tr th:only-of-type {\n",
       "        vertical-align: middle;\n",
       "    }\n",
       "\n",
       "    .dataframe tbody tr th {\n",
       "        vertical-align: top;\n",
       "    }\n",
       "\n",
       "    .dataframe thead th {\n",
       "        text-align: right;\n",
       "    }\n",
       "</style>\n",
       "<table border=\"1\" class=\"dataframe\">\n",
       "  <thead>\n",
       "    <tr style=\"text-align: right;\">\n",
       "      <th></th>\n",
       "      <th>0</th>\n",
       "      <th>1</th>\n",
       "      <th>2</th>\n",
       "    </tr>\n",
       "  </thead>\n",
       "  <tbody>\n",
       "    <tr>\n",
       "      <th>0</th>\n",
       "      <td>ahmet</td>\n",
       "      <td>veli</td>\n",
       "      <td>ceylan</td>\n",
       "    </tr>\n",
       "    <tr>\n",
       "      <th>1</th>\n",
       "      <td>22</td>\n",
       "      <td>18</td>\n",
       "      <td>45</td>\n",
       "    </tr>\n",
       "  </tbody>\n",
       "</table>\n",
       "</div>"
      ],
      "text/plain": [
       "       0     1       2\n",
       "0  ahmet  veli  ceylan\n",
       "1     22    18      45"
      ]
     },
     "execution_count": 62,
     "metadata": {},
     "output_type": "execute_result"
    }
   ],
   "source": [
    "pd.DataFrame(list_of_list)"
   ]
  },
  {
   "cell_type": "code",
   "execution_count": 63,
   "id": "4a368bf8-abc1-4002-a69f-fd0ad274e183",
   "metadata": {},
   "outputs": [
    {
     "name": "stdout",
     "output_type": "stream",
     "text": [
      "<class 'pandas.core.frame.DataFrame'>\n"
     ]
    }
   ],
   "source": [
    "print(type(pd.DataFrame(list_of_list)))"
   ]
  },
  {
   "cell_type": "code",
   "execution_count": 64,
   "id": "d833111f-4df5-4249-9e9c-212c897c8439",
   "metadata": {},
   "outputs": [
    {
     "data": {
      "text/plain": [
       "['ahmet', 'mahmut', 'fatih']"
      ]
     },
     "execution_count": 64,
     "metadata": {},
     "output_type": "execute_result"
    }
   ],
   "source": [
    "names = [\"ahmet\",\"mahmut\",\"fatih\"]\n",
    "names"
   ]
  },
  {
   "cell_type": "code",
   "execution_count": 65,
   "id": "430aaa90-3dae-416d-bf62-d196038674bd",
   "metadata": {},
   "outputs": [
    {
     "name": "stdout",
     "output_type": "stream",
     "text": [
      "<class 'list'>\n"
     ]
    }
   ],
   "source": [
    "print(type(names))"
   ]
  },
  {
   "cell_type": "code",
   "execution_count": 66,
   "id": "37a8289e-03d9-48a5-902a-d140c6a81f07",
   "metadata": {},
   "outputs": [
    {
     "data": {
      "text/html": [
       "<div>\n",
       "<style scoped>\n",
       "    .dataframe tbody tr th:only-of-type {\n",
       "        vertical-align: middle;\n",
       "    }\n",
       "\n",
       "    .dataframe tbody tr th {\n",
       "        vertical-align: top;\n",
       "    }\n",
       "\n",
       "    .dataframe thead th {\n",
       "        text-align: right;\n",
       "    }\n",
       "</style>\n",
       "<table border=\"1\" class=\"dataframe\">\n",
       "  <thead>\n",
       "    <tr style=\"text-align: right;\">\n",
       "      <th></th>\n",
       "      <th>0</th>\n",
       "    </tr>\n",
       "  </thead>\n",
       "  <tbody>\n",
       "    <tr>\n",
       "      <th>0</th>\n",
       "      <td>ahmet</td>\n",
       "    </tr>\n",
       "    <tr>\n",
       "      <th>1</th>\n",
       "      <td>mahmut</td>\n",
       "    </tr>\n",
       "    <tr>\n",
       "      <th>2</th>\n",
       "      <td>fatih</td>\n",
       "    </tr>\n",
       "  </tbody>\n",
       "</table>\n",
       "</div>"
      ],
      "text/plain": [
       "        0\n",
       "0   ahmet\n",
       "1  mahmut\n",
       "2   fatih"
      ]
     },
     "execution_count": 66,
     "metadata": {},
     "output_type": "execute_result"
    }
   ],
   "source": [
    "pd.DataFrame(names)"
   ]
  },
  {
   "cell_type": "code",
   "execution_count": 67,
   "id": "26cc58fb-7aba-4cca-b16a-2646142b7fa5",
   "metadata": {},
   "outputs": [
    {
     "name": "stdout",
     "output_type": "stream",
     "text": [
      "        0\n",
      "0   ahmet\n",
      "1  mahmut\n",
      "2   fatih\n"
     ]
    }
   ],
   "source": [
    "print(pd.DataFrame(names))"
   ]
  },
  {
   "cell_type": "code",
   "execution_count": 68,
   "id": "4533c65f-8ac8-402a-8560-c2cc6d02c4d1",
   "metadata": {},
   "outputs": [
    {
     "name": "stdout",
     "output_type": "stream",
     "text": [
      "2\n"
     ]
    }
   ],
   "source": [
    "print(pd.DataFrame(names).ndim)"
   ]
  },
  {
   "cell_type": "code",
   "execution_count": 69,
   "id": "bc075d19-3da3-46ea-9f77-282af89e8598",
   "metadata": {},
   "outputs": [
    {
     "data": {
      "text/plain": [
       "{'name': 'jale', 'age': 24}"
      ]
     },
     "execution_count": 69,
     "metadata": {},
     "output_type": "execute_result"
    }
   ],
   "source": [
    "teacher = {\"name\": \"jale\",\"age\": 24}\n",
    "teacher"
   ]
  },
  {
   "cell_type": "code",
   "execution_count": 70,
   "id": "50bdb106-4298-469e-b17a-8a85e0c87caa",
   "metadata": {},
   "outputs": [
    {
     "ename": "ValueError",
     "evalue": "If using all scalar values, you must pass an index",
     "output_type": "error",
     "traceback": [
      "\u001b[1;31m---------------------------------------------------------------------------\u001b[0m",
      "\u001b[1;31mValueError\u001b[0m                                Traceback (most recent call last)",
      "\u001b[1;32m<ipython-input-70-efe365a77646>\u001b[0m in \u001b[0;36m<module>\u001b[1;34m\u001b[0m\n\u001b[1;32m----> 1\u001b[1;33m \u001b[0mpd\u001b[0m\u001b[1;33m.\u001b[0m\u001b[0mDataFrame\u001b[0m\u001b[1;33m(\u001b[0m\u001b[0mteacher\u001b[0m\u001b[1;33m)\u001b[0m\u001b[1;33m\u001b[0m\u001b[1;33m\u001b[0m\u001b[0m\n\u001b[0m",
      "\u001b[1;32m~\\anaconda3\\lib\\site-packages\\pandas\\core\\frame.py\u001b[0m in \u001b[0;36m__init__\u001b[1;34m(self, data, index, columns, dtype, copy)\u001b[0m\n\u001b[0;32m    527\u001b[0m \u001b[1;33m\u001b[0m\u001b[0m\n\u001b[0;32m    528\u001b[0m         \u001b[1;32melif\u001b[0m \u001b[0misinstance\u001b[0m\u001b[1;33m(\u001b[0m\u001b[0mdata\u001b[0m\u001b[1;33m,\u001b[0m \u001b[0mdict\u001b[0m\u001b[1;33m)\u001b[0m\u001b[1;33m:\u001b[0m\u001b[1;33m\u001b[0m\u001b[1;33m\u001b[0m\u001b[0m\n\u001b[1;32m--> 529\u001b[1;33m             \u001b[0mmgr\u001b[0m \u001b[1;33m=\u001b[0m \u001b[0minit_dict\u001b[0m\u001b[1;33m(\u001b[0m\u001b[0mdata\u001b[0m\u001b[1;33m,\u001b[0m \u001b[0mindex\u001b[0m\u001b[1;33m,\u001b[0m \u001b[0mcolumns\u001b[0m\u001b[1;33m,\u001b[0m \u001b[0mdtype\u001b[0m\u001b[1;33m=\u001b[0m\u001b[0mdtype\u001b[0m\u001b[1;33m)\u001b[0m\u001b[1;33m\u001b[0m\u001b[1;33m\u001b[0m\u001b[0m\n\u001b[0m\u001b[0;32m    530\u001b[0m         \u001b[1;32melif\u001b[0m \u001b[0misinstance\u001b[0m\u001b[1;33m(\u001b[0m\u001b[0mdata\u001b[0m\u001b[1;33m,\u001b[0m \u001b[0mma\u001b[0m\u001b[1;33m.\u001b[0m\u001b[0mMaskedArray\u001b[0m\u001b[1;33m)\u001b[0m\u001b[1;33m:\u001b[0m\u001b[1;33m\u001b[0m\u001b[1;33m\u001b[0m\u001b[0m\n\u001b[0;32m    531\u001b[0m             \u001b[1;32mimport\u001b[0m \u001b[0mnumpy\u001b[0m\u001b[1;33m.\u001b[0m\u001b[0mma\u001b[0m\u001b[1;33m.\u001b[0m\u001b[0mmrecords\u001b[0m \u001b[1;32mas\u001b[0m \u001b[0mmrecords\u001b[0m\u001b[1;33m\u001b[0m\u001b[1;33m\u001b[0m\u001b[0m\n",
      "\u001b[1;32m~\\anaconda3\\lib\\site-packages\\pandas\\core\\internals\\construction.py\u001b[0m in \u001b[0;36minit_dict\u001b[1;34m(data, index, columns, dtype)\u001b[0m\n\u001b[0;32m    285\u001b[0m             \u001b[0marr\u001b[0m \u001b[1;32mif\u001b[0m \u001b[1;32mnot\u001b[0m \u001b[0mis_datetime64tz_dtype\u001b[0m\u001b[1;33m(\u001b[0m\u001b[0marr\u001b[0m\u001b[1;33m)\u001b[0m \u001b[1;32melse\u001b[0m \u001b[0marr\u001b[0m\u001b[1;33m.\u001b[0m\u001b[0mcopy\u001b[0m\u001b[1;33m(\u001b[0m\u001b[1;33m)\u001b[0m \u001b[1;32mfor\u001b[0m \u001b[0marr\u001b[0m \u001b[1;32min\u001b[0m \u001b[0marrays\u001b[0m\u001b[1;33m\u001b[0m\u001b[1;33m\u001b[0m\u001b[0m\n\u001b[0;32m    286\u001b[0m         ]\n\u001b[1;32m--> 287\u001b[1;33m     \u001b[1;32mreturn\u001b[0m \u001b[0marrays_to_mgr\u001b[0m\u001b[1;33m(\u001b[0m\u001b[0marrays\u001b[0m\u001b[1;33m,\u001b[0m \u001b[0mdata_names\u001b[0m\u001b[1;33m,\u001b[0m \u001b[0mindex\u001b[0m\u001b[1;33m,\u001b[0m \u001b[0mcolumns\u001b[0m\u001b[1;33m,\u001b[0m \u001b[0mdtype\u001b[0m\u001b[1;33m=\u001b[0m\u001b[0mdtype\u001b[0m\u001b[1;33m)\u001b[0m\u001b[1;33m\u001b[0m\u001b[1;33m\u001b[0m\u001b[0m\n\u001b[0m\u001b[0;32m    288\u001b[0m \u001b[1;33m\u001b[0m\u001b[0m\n\u001b[0;32m    289\u001b[0m \u001b[1;33m\u001b[0m\u001b[0m\n",
      "\u001b[1;32m~\\anaconda3\\lib\\site-packages\\pandas\\core\\internals\\construction.py\u001b[0m in \u001b[0;36marrays_to_mgr\u001b[1;34m(arrays, arr_names, index, columns, dtype, verify_integrity)\u001b[0m\n\u001b[0;32m     78\u001b[0m         \u001b[1;31m# figure out the index, if necessary\u001b[0m\u001b[1;33m\u001b[0m\u001b[1;33m\u001b[0m\u001b[1;33m\u001b[0m\u001b[0m\n\u001b[0;32m     79\u001b[0m         \u001b[1;32mif\u001b[0m \u001b[0mindex\u001b[0m \u001b[1;32mis\u001b[0m \u001b[1;32mNone\u001b[0m\u001b[1;33m:\u001b[0m\u001b[1;33m\u001b[0m\u001b[1;33m\u001b[0m\u001b[0m\n\u001b[1;32m---> 80\u001b[1;33m             \u001b[0mindex\u001b[0m \u001b[1;33m=\u001b[0m \u001b[0mextract_index\u001b[0m\u001b[1;33m(\u001b[0m\u001b[0marrays\u001b[0m\u001b[1;33m)\u001b[0m\u001b[1;33m\u001b[0m\u001b[1;33m\u001b[0m\u001b[0m\n\u001b[0m\u001b[0;32m     81\u001b[0m         \u001b[1;32melse\u001b[0m\u001b[1;33m:\u001b[0m\u001b[1;33m\u001b[0m\u001b[1;33m\u001b[0m\u001b[0m\n\u001b[0;32m     82\u001b[0m             \u001b[0mindex\u001b[0m \u001b[1;33m=\u001b[0m \u001b[0mensure_index\u001b[0m\u001b[1;33m(\u001b[0m\u001b[0mindex\u001b[0m\u001b[1;33m)\u001b[0m\u001b[1;33m\u001b[0m\u001b[1;33m\u001b[0m\u001b[0m\n",
      "\u001b[1;32m~\\anaconda3\\lib\\site-packages\\pandas\\core\\internals\\construction.py\u001b[0m in \u001b[0;36mextract_index\u001b[1;34m(data)\u001b[0m\n\u001b[0;32m    389\u001b[0m \u001b[1;33m\u001b[0m\u001b[0m\n\u001b[0;32m    390\u001b[0m         \u001b[1;32mif\u001b[0m \u001b[1;32mnot\u001b[0m \u001b[0mindexes\u001b[0m \u001b[1;32mand\u001b[0m \u001b[1;32mnot\u001b[0m \u001b[0mraw_lengths\u001b[0m\u001b[1;33m:\u001b[0m\u001b[1;33m\u001b[0m\u001b[1;33m\u001b[0m\u001b[0m\n\u001b[1;32m--> 391\u001b[1;33m             \u001b[1;32mraise\u001b[0m \u001b[0mValueError\u001b[0m\u001b[1;33m(\u001b[0m\u001b[1;34m\"If using all scalar values, you must pass an index\"\u001b[0m\u001b[1;33m)\u001b[0m\u001b[1;33m\u001b[0m\u001b[1;33m\u001b[0m\u001b[0m\n\u001b[0m\u001b[0;32m    392\u001b[0m \u001b[1;33m\u001b[0m\u001b[0m\n\u001b[0;32m    393\u001b[0m         \u001b[1;32mif\u001b[0m \u001b[0mhave_series\u001b[0m\u001b[1;33m:\u001b[0m\u001b[1;33m\u001b[0m\u001b[1;33m\u001b[0m\u001b[0m\n",
      "\u001b[1;31mValueError\u001b[0m: If using all scalar values, you must pass an index"
     ]
    }
   ],
   "source": [
    "pd.DataFrame(teacher)"
   ]
  },
  {
   "cell_type": "code",
   "execution_count": 71,
   "id": "5bbccd14-9f6a-4bd6-ac13-c4daca49f2cc",
   "metadata": {},
   "outputs": [
    {
     "data": {
      "text/plain": [
       "{'Hale': age           25\n",
       " gender         F\n",
       " department    CE\n",
       " dtype: object,\n",
       " 'Ahmet': age           37\n",
       " gender         M\n",
       " department    CE\n",
       " dtype: object}"
      ]
     },
     "execution_count": 71,
     "metadata": {},
     "output_type": "execute_result"
    }
   ],
   "source": [
    "student =  {\"Hale\": pd.Series(data=[25,\"F\",\"CE\"], index=[\"age\",\"gender\",\"department\"]),\n",
    "            \"Ahmet\": pd.Series(data=[37,\"M\",\"CE\"], index=[\"age\",\"gender\",\"department\"])}\n",
    "student"
   ]
  },
  {
   "cell_type": "code",
   "execution_count": 72,
   "id": "1984af2e-98fa-4f6c-a7df-0be35144f57d",
   "metadata": {},
   "outputs": [
    {
     "data": {
      "text/html": [
       "<div>\n",
       "<style scoped>\n",
       "    .dataframe tbody tr th:only-of-type {\n",
       "        vertical-align: middle;\n",
       "    }\n",
       "\n",
       "    .dataframe tbody tr th {\n",
       "        vertical-align: top;\n",
       "    }\n",
       "\n",
       "    .dataframe thead th {\n",
       "        text-align: right;\n",
       "    }\n",
       "</style>\n",
       "<table border=\"1\" class=\"dataframe\">\n",
       "  <thead>\n",
       "    <tr style=\"text-align: right;\">\n",
       "      <th></th>\n",
       "      <th>Hale</th>\n",
       "      <th>Ahmet</th>\n",
       "    </tr>\n",
       "  </thead>\n",
       "  <tbody>\n",
       "    <tr>\n",
       "      <th>age</th>\n",
       "      <td>25</td>\n",
       "      <td>37</td>\n",
       "    </tr>\n",
       "    <tr>\n",
       "      <th>gender</th>\n",
       "      <td>F</td>\n",
       "      <td>M</td>\n",
       "    </tr>\n",
       "    <tr>\n",
       "      <th>department</th>\n",
       "      <td>CE</td>\n",
       "      <td>CE</td>\n",
       "    </tr>\n",
       "  </tbody>\n",
       "</table>\n",
       "</div>"
      ],
      "text/plain": [
       "           Hale Ahmet\n",
       "age          25    37\n",
       "gender        F     M\n",
       "department   CE    CE"
      ]
     },
     "execution_count": 72,
     "metadata": {},
     "output_type": "execute_result"
    }
   ],
   "source": [
    "pd.DataFrame(student)"
   ]
  },
  {
   "cell_type": "code",
   "execution_count": 73,
   "id": "d88552b7-5334-4f3b-b1a6-8588a5f6ba8c",
   "metadata": {},
   "outputs": [
    {
     "data": {
      "text/plain": [
       "{'Hale': age            25\n",
       " gender          F\n",
       " department     CE\n",
       " height        178\n",
       " dtype: object,\n",
       " 'Ahmet': age           37\n",
       " gender         M\n",
       " department    CE\n",
       " weight        45\n",
       " dtype: object}"
      ]
     },
     "execution_count": 73,
     "metadata": {},
     "output_type": "execute_result"
    }
   ],
   "source": [
    "student =  {\"Hale\": pd.Series(data=[25,\"F\",\"CE\",178], index=[\"age\",\"gender\",\"department\",\"height\"]),\n",
    "            \"Ahmet\": pd.Series(data=[37,\"M\",\"CE\",45], index=[\"age\",\"gender\",\"department\",\"weight\"])}\n",
    "student"
   ]
  },
  {
   "cell_type": "code",
   "execution_count": 74,
   "id": "4097c31f-d071-477c-8ce4-8ad9374c6388",
   "metadata": {},
   "outputs": [
    {
     "data": {
      "text/html": [
       "<div>\n",
       "<style scoped>\n",
       "    .dataframe tbody tr th:only-of-type {\n",
       "        vertical-align: middle;\n",
       "    }\n",
       "\n",
       "    .dataframe tbody tr th {\n",
       "        vertical-align: top;\n",
       "    }\n",
       "\n",
       "    .dataframe thead th {\n",
       "        text-align: right;\n",
       "    }\n",
       "</style>\n",
       "<table border=\"1\" class=\"dataframe\">\n",
       "  <thead>\n",
       "    <tr style=\"text-align: right;\">\n",
       "      <th></th>\n",
       "      <th>Hale</th>\n",
       "      <th>Ahmet</th>\n",
       "    </tr>\n",
       "  </thead>\n",
       "  <tbody>\n",
       "    <tr>\n",
       "      <th>age</th>\n",
       "      <td>25</td>\n",
       "      <td>37</td>\n",
       "    </tr>\n",
       "    <tr>\n",
       "      <th>department</th>\n",
       "      <td>CE</td>\n",
       "      <td>CE</td>\n",
       "    </tr>\n",
       "    <tr>\n",
       "      <th>gender</th>\n",
       "      <td>F</td>\n",
       "      <td>M</td>\n",
       "    </tr>\n",
       "    <tr>\n",
       "      <th>height</th>\n",
       "      <td>178</td>\n",
       "      <td>NaN</td>\n",
       "    </tr>\n",
       "    <tr>\n",
       "      <th>weight</th>\n",
       "      <td>NaN</td>\n",
       "      <td>45</td>\n",
       "    </tr>\n",
       "  </tbody>\n",
       "</table>\n",
       "</div>"
      ],
      "text/plain": [
       "           Hale Ahmet\n",
       "age          25    37\n",
       "department   CE    CE\n",
       "gender        F     M\n",
       "height      178   NaN\n",
       "weight      NaN    45"
      ]
     },
     "execution_count": 74,
     "metadata": {},
     "output_type": "execute_result"
    }
   ],
   "source": [
    "pd.DataFrame(student)"
   ]
  },
  {
   "cell_type": "code",
   "execution_count": 75,
   "id": "ea0bbea1-d0d0-429d-8ef6-94d417a06d43",
   "metadata": {},
   "outputs": [
    {
     "data": {
      "text/plain": [
       "[{'name': 'arya', 'age': 21, 'gender': 'F'},\n",
       " {'name': 'Karya', 'age': 12, 'gender': 'M'},\n",
       " {'name': 'Alex', 'age': 33, 'gender': 'M'}]"
      ]
     },
     "execution_count": 75,
     "metadata": {},
     "output_type": "execute_result"
    }
   ],
   "source": [
    "students = [{ \"name\": \"arya\",\n",
    "              \"age\": 21,\n",
    "              \"gender\":\"F\"},\n",
    "            \n",
    "            {\"name\": \"Karya\",\n",
    "              \"age\": 12,\n",
    "              \"gender\":\"M\"},\n",
    "            \n",
    "            {\"name\": \"Alex\",\n",
    "              \"age\": 33,\n",
    "              \"gender\":\"M\"}\n",
    "            ]\n",
    "students"
   ]
  },
  {
   "cell_type": "code",
   "execution_count": 76,
   "id": "6762c1b3-1187-4d70-8c39-8ee2d0db8be0",
   "metadata": {},
   "outputs": [
    {
     "data": {
      "text/html": [
       "<div>\n",
       "<style scoped>\n",
       "    .dataframe tbody tr th:only-of-type {\n",
       "        vertical-align: middle;\n",
       "    }\n",
       "\n",
       "    .dataframe tbody tr th {\n",
       "        vertical-align: top;\n",
       "    }\n",
       "\n",
       "    .dataframe thead th {\n",
       "        text-align: right;\n",
       "    }\n",
       "</style>\n",
       "<table border=\"1\" class=\"dataframe\">\n",
       "  <thead>\n",
       "    <tr style=\"text-align: right;\">\n",
       "      <th></th>\n",
       "      <th>name</th>\n",
       "      <th>age</th>\n",
       "      <th>gender</th>\n",
       "    </tr>\n",
       "  </thead>\n",
       "  <tbody>\n",
       "    <tr>\n",
       "      <th>0</th>\n",
       "      <td>arya</td>\n",
       "      <td>21</td>\n",
       "      <td>F</td>\n",
       "    </tr>\n",
       "    <tr>\n",
       "      <th>1</th>\n",
       "      <td>Karya</td>\n",
       "      <td>12</td>\n",
       "      <td>M</td>\n",
       "    </tr>\n",
       "    <tr>\n",
       "      <th>2</th>\n",
       "      <td>Alex</td>\n",
       "      <td>33</td>\n",
       "      <td>M</td>\n",
       "    </tr>\n",
       "  </tbody>\n",
       "</table>\n",
       "</div>"
      ],
      "text/plain": [
       "    name  age gender\n",
       "0   arya   21      F\n",
       "1  Karya   12      M\n",
       "2   Alex   33      M"
      ]
     },
     "execution_count": 76,
     "metadata": {},
     "output_type": "execute_result"
    }
   ],
   "source": [
    "pd.DataFrame(students)"
   ]
  },
  {
   "cell_type": "code",
   "execution_count": 77,
   "id": "388701a6-25ea-4be1-b2bd-7afad50afeb0",
   "metadata": {},
   "outputs": [
    {
     "data": {
      "text/plain": [
       "{'names': ['ahmet', 'mehmet', 'cansu'],\n",
       " 'age': [38, 45, 25],\n",
       " 'gender': ['M', 'M', 'F']}"
      ]
     },
     "execution_count": 77,
     "metadata": {},
     "output_type": "execute_result"
    }
   ],
   "source": [
    "teacherss = { \"names\": [\"ahmet\",\"mehmet\",\"cansu\"],\n",
    "              \"age\" :[38, 45, 25],\n",
    "              \"gender\":[\"M\",\"M\",\"F\"]}\n",
    "teacherss"
   ]
  },
  {
   "cell_type": "code",
   "execution_count": 78,
   "id": "79c9ce2d-1535-47a3-838a-122af0c12da1",
   "metadata": {},
   "outputs": [
    {
     "data": {
      "text/html": [
       "<div>\n",
       "<style scoped>\n",
       "    .dataframe tbody tr th:only-of-type {\n",
       "        vertical-align: middle;\n",
       "    }\n",
       "\n",
       "    .dataframe tbody tr th {\n",
       "        vertical-align: top;\n",
       "    }\n",
       "\n",
       "    .dataframe thead th {\n",
       "        text-align: right;\n",
       "    }\n",
       "</style>\n",
       "<table border=\"1\" class=\"dataframe\">\n",
       "  <thead>\n",
       "    <tr style=\"text-align: right;\">\n",
       "      <th></th>\n",
       "      <th>names</th>\n",
       "      <th>age</th>\n",
       "      <th>gender</th>\n",
       "    </tr>\n",
       "  </thead>\n",
       "  <tbody>\n",
       "    <tr>\n",
       "      <th>0</th>\n",
       "      <td>ahmet</td>\n",
       "      <td>38</td>\n",
       "      <td>M</td>\n",
       "    </tr>\n",
       "    <tr>\n",
       "      <th>1</th>\n",
       "      <td>mehmet</td>\n",
       "      <td>45</td>\n",
       "      <td>M</td>\n",
       "    </tr>\n",
       "    <tr>\n",
       "      <th>2</th>\n",
       "      <td>cansu</td>\n",
       "      <td>25</td>\n",
       "      <td>F</td>\n",
       "    </tr>\n",
       "  </tbody>\n",
       "</table>\n",
       "</div>"
      ],
      "text/plain": [
       "    names  age gender\n",
       "0   ahmet   38      M\n",
       "1  mehmet   45      M\n",
       "2   cansu   25      F"
      ]
     },
     "execution_count": 78,
     "metadata": {},
     "output_type": "execute_result"
    }
   ],
   "source": [
    "pd.DataFrame(teacherss)"
   ]
  },
  {
   "cell_type": "code",
   "execution_count": 79,
   "id": "a3bce9ab-9a9d-48d8-8fa1-227e3181dca2",
   "metadata": {},
   "outputs": [
    {
     "data": {
      "text/plain": [
       "[['ahmet', 'mehmet', 'canan'], [45, 27, 25]]"
      ]
     },
     "execution_count": 79,
     "metadata": {},
     "output_type": "execute_result"
    }
   ],
   "source": [
    "list = [[\"ahmet\",\"mehmet\",\"canan\"],\n",
    "       [45,27,25]]\n",
    "list"
   ]
  },
  {
   "cell_type": "code",
   "execution_count": 80,
   "id": "8839e38e-e94d-4d0a-a3d8-e2919da2d75f",
   "metadata": {},
   "outputs": [
    {
     "data": {
      "text/html": [
       "<div>\n",
       "<style scoped>\n",
       "    .dataframe tbody tr th:only-of-type {\n",
       "        vertical-align: middle;\n",
       "    }\n",
       "\n",
       "    .dataframe tbody tr th {\n",
       "        vertical-align: top;\n",
       "    }\n",
       "\n",
       "    .dataframe thead th {\n",
       "        text-align: right;\n",
       "    }\n",
       "</style>\n",
       "<table border=\"1\" class=\"dataframe\">\n",
       "  <thead>\n",
       "    <tr style=\"text-align: right;\">\n",
       "      <th></th>\n",
       "      <th>0</th>\n",
       "      <th>1</th>\n",
       "      <th>2</th>\n",
       "    </tr>\n",
       "  </thead>\n",
       "  <tbody>\n",
       "    <tr>\n",
       "      <th>0</th>\n",
       "      <td>ahmet</td>\n",
       "      <td>mehmet</td>\n",
       "      <td>canan</td>\n",
       "    </tr>\n",
       "    <tr>\n",
       "      <th>1</th>\n",
       "      <td>45</td>\n",
       "      <td>27</td>\n",
       "      <td>25</td>\n",
       "    </tr>\n",
       "  </tbody>\n",
       "</table>\n",
       "</div>"
      ],
      "text/plain": [
       "       0       1      2\n",
       "0  ahmet  mehmet  canan\n",
       "1     45      27     25"
      ]
     },
     "execution_count": 80,
     "metadata": {},
     "output_type": "execute_result"
    }
   ],
   "source": [
    "pd.DataFrame(list)"
   ]
  },
  {
   "cell_type": "code",
   "execution_count": 81,
   "id": "778be774-cd29-47be-af54-a3d0b856e1be",
   "metadata": {},
   "outputs": [
    {
     "data": {
      "text/plain": [
       "['kerim', 'kenan', 'karian']"
      ]
     },
     "execution_count": 81,
     "metadata": {},
     "output_type": "execute_result"
    }
   ],
   "source": [
    "names = [\"kerim\",\"kenan\",\"karian\"]\n",
    "names"
   ]
  },
  {
   "cell_type": "code",
   "execution_count": 82,
   "id": "9cdb265c-c09f-4c50-ae24-b5e8a3af8839",
   "metadata": {},
   "outputs": [
    {
     "data": {
      "text/html": [
       "<div>\n",
       "<style scoped>\n",
       "    .dataframe tbody tr th:only-of-type {\n",
       "        vertical-align: middle;\n",
       "    }\n",
       "\n",
       "    .dataframe tbody tr th {\n",
       "        vertical-align: top;\n",
       "    }\n",
       "\n",
       "    .dataframe thead th {\n",
       "        text-align: right;\n",
       "    }\n",
       "</style>\n",
       "<table border=\"1\" class=\"dataframe\">\n",
       "  <thead>\n",
       "    <tr style=\"text-align: right;\">\n",
       "      <th></th>\n",
       "      <th>0</th>\n",
       "    </tr>\n",
       "  </thead>\n",
       "  <tbody>\n",
       "    <tr>\n",
       "      <th>0</th>\n",
       "      <td>kerim</td>\n",
       "    </tr>\n",
       "    <tr>\n",
       "      <th>1</th>\n",
       "      <td>kenan</td>\n",
       "    </tr>\n",
       "    <tr>\n",
       "      <th>2</th>\n",
       "      <td>karian</td>\n",
       "    </tr>\n",
       "  </tbody>\n",
       "</table>\n",
       "</div>"
      ],
      "text/plain": [
       "        0\n",
       "0   kerim\n",
       "1   kenan\n",
       "2  karian"
      ]
     },
     "execution_count": 82,
     "metadata": {},
     "output_type": "execute_result"
    }
   ],
   "source": [
    "pd.DataFrame(names)"
   ]
  },
  {
   "cell_type": "code",
   "execution_count": 83,
   "id": "32c423fb-f99c-4e95-b81d-15bb94fee511",
   "metadata": {},
   "outputs": [
    {
     "data": {
      "text/plain": [
       "{'name': 'hale', 'age': 26}"
      ]
     },
     "execution_count": 83,
     "metadata": {},
     "output_type": "execute_result"
    }
   ],
   "source": [
    "alias = {\"name\":\"hale\", \"age\": 26}\n",
    "alias"
   ]
  },
  {
   "cell_type": "code",
   "execution_count": 84,
   "id": "0493dcde-5514-40d6-82dc-b975ed88f19a",
   "metadata": {},
   "outputs": [
    {
     "ename": "ValueError",
     "evalue": "If using all scalar values, you must pass an index",
     "output_type": "error",
     "traceback": [
      "\u001b[1;31m---------------------------------------------------------------------------\u001b[0m",
      "\u001b[1;31mValueError\u001b[0m                                Traceback (most recent call last)",
      "\u001b[1;32m<ipython-input-84-191d9348d505>\u001b[0m in \u001b[0;36m<module>\u001b[1;34m\u001b[0m\n\u001b[1;32m----> 1\u001b[1;33m \u001b[0mpd\u001b[0m\u001b[1;33m.\u001b[0m\u001b[0mDataFrame\u001b[0m\u001b[1;33m(\u001b[0m\u001b[0malias\u001b[0m\u001b[1;33m)\u001b[0m\u001b[1;33m\u001b[0m\u001b[1;33m\u001b[0m\u001b[0m\n\u001b[0m",
      "\u001b[1;32m~\\anaconda3\\lib\\site-packages\\pandas\\core\\frame.py\u001b[0m in \u001b[0;36m__init__\u001b[1;34m(self, data, index, columns, dtype, copy)\u001b[0m\n\u001b[0;32m    527\u001b[0m \u001b[1;33m\u001b[0m\u001b[0m\n\u001b[0;32m    528\u001b[0m         \u001b[1;32melif\u001b[0m \u001b[0misinstance\u001b[0m\u001b[1;33m(\u001b[0m\u001b[0mdata\u001b[0m\u001b[1;33m,\u001b[0m \u001b[0mdict\u001b[0m\u001b[1;33m)\u001b[0m\u001b[1;33m:\u001b[0m\u001b[1;33m\u001b[0m\u001b[1;33m\u001b[0m\u001b[0m\n\u001b[1;32m--> 529\u001b[1;33m             \u001b[0mmgr\u001b[0m \u001b[1;33m=\u001b[0m \u001b[0minit_dict\u001b[0m\u001b[1;33m(\u001b[0m\u001b[0mdata\u001b[0m\u001b[1;33m,\u001b[0m \u001b[0mindex\u001b[0m\u001b[1;33m,\u001b[0m \u001b[0mcolumns\u001b[0m\u001b[1;33m,\u001b[0m \u001b[0mdtype\u001b[0m\u001b[1;33m=\u001b[0m\u001b[0mdtype\u001b[0m\u001b[1;33m)\u001b[0m\u001b[1;33m\u001b[0m\u001b[1;33m\u001b[0m\u001b[0m\n\u001b[0m\u001b[0;32m    530\u001b[0m         \u001b[1;32melif\u001b[0m \u001b[0misinstance\u001b[0m\u001b[1;33m(\u001b[0m\u001b[0mdata\u001b[0m\u001b[1;33m,\u001b[0m \u001b[0mma\u001b[0m\u001b[1;33m.\u001b[0m\u001b[0mMaskedArray\u001b[0m\u001b[1;33m)\u001b[0m\u001b[1;33m:\u001b[0m\u001b[1;33m\u001b[0m\u001b[1;33m\u001b[0m\u001b[0m\n\u001b[0;32m    531\u001b[0m             \u001b[1;32mimport\u001b[0m \u001b[0mnumpy\u001b[0m\u001b[1;33m.\u001b[0m\u001b[0mma\u001b[0m\u001b[1;33m.\u001b[0m\u001b[0mmrecords\u001b[0m \u001b[1;32mas\u001b[0m \u001b[0mmrecords\u001b[0m\u001b[1;33m\u001b[0m\u001b[1;33m\u001b[0m\u001b[0m\n",
      "\u001b[1;32m~\\anaconda3\\lib\\site-packages\\pandas\\core\\internals\\construction.py\u001b[0m in \u001b[0;36minit_dict\u001b[1;34m(data, index, columns, dtype)\u001b[0m\n\u001b[0;32m    285\u001b[0m             \u001b[0marr\u001b[0m \u001b[1;32mif\u001b[0m \u001b[1;32mnot\u001b[0m \u001b[0mis_datetime64tz_dtype\u001b[0m\u001b[1;33m(\u001b[0m\u001b[0marr\u001b[0m\u001b[1;33m)\u001b[0m \u001b[1;32melse\u001b[0m \u001b[0marr\u001b[0m\u001b[1;33m.\u001b[0m\u001b[0mcopy\u001b[0m\u001b[1;33m(\u001b[0m\u001b[1;33m)\u001b[0m \u001b[1;32mfor\u001b[0m \u001b[0marr\u001b[0m \u001b[1;32min\u001b[0m \u001b[0marrays\u001b[0m\u001b[1;33m\u001b[0m\u001b[1;33m\u001b[0m\u001b[0m\n\u001b[0;32m    286\u001b[0m         ]\n\u001b[1;32m--> 287\u001b[1;33m     \u001b[1;32mreturn\u001b[0m \u001b[0marrays_to_mgr\u001b[0m\u001b[1;33m(\u001b[0m\u001b[0marrays\u001b[0m\u001b[1;33m,\u001b[0m \u001b[0mdata_names\u001b[0m\u001b[1;33m,\u001b[0m \u001b[0mindex\u001b[0m\u001b[1;33m,\u001b[0m \u001b[0mcolumns\u001b[0m\u001b[1;33m,\u001b[0m \u001b[0mdtype\u001b[0m\u001b[1;33m=\u001b[0m\u001b[0mdtype\u001b[0m\u001b[1;33m)\u001b[0m\u001b[1;33m\u001b[0m\u001b[1;33m\u001b[0m\u001b[0m\n\u001b[0m\u001b[0;32m    288\u001b[0m \u001b[1;33m\u001b[0m\u001b[0m\n\u001b[0;32m    289\u001b[0m \u001b[1;33m\u001b[0m\u001b[0m\n",
      "\u001b[1;32m~\\anaconda3\\lib\\site-packages\\pandas\\core\\internals\\construction.py\u001b[0m in \u001b[0;36marrays_to_mgr\u001b[1;34m(arrays, arr_names, index, columns, dtype, verify_integrity)\u001b[0m\n\u001b[0;32m     78\u001b[0m         \u001b[1;31m# figure out the index, if necessary\u001b[0m\u001b[1;33m\u001b[0m\u001b[1;33m\u001b[0m\u001b[1;33m\u001b[0m\u001b[0m\n\u001b[0;32m     79\u001b[0m         \u001b[1;32mif\u001b[0m \u001b[0mindex\u001b[0m \u001b[1;32mis\u001b[0m \u001b[1;32mNone\u001b[0m\u001b[1;33m:\u001b[0m\u001b[1;33m\u001b[0m\u001b[1;33m\u001b[0m\u001b[0m\n\u001b[1;32m---> 80\u001b[1;33m             \u001b[0mindex\u001b[0m \u001b[1;33m=\u001b[0m \u001b[0mextract_index\u001b[0m\u001b[1;33m(\u001b[0m\u001b[0marrays\u001b[0m\u001b[1;33m)\u001b[0m\u001b[1;33m\u001b[0m\u001b[1;33m\u001b[0m\u001b[0m\n\u001b[0m\u001b[0;32m     81\u001b[0m         \u001b[1;32melse\u001b[0m\u001b[1;33m:\u001b[0m\u001b[1;33m\u001b[0m\u001b[1;33m\u001b[0m\u001b[0m\n\u001b[0;32m     82\u001b[0m             \u001b[0mindex\u001b[0m \u001b[1;33m=\u001b[0m \u001b[0mensure_index\u001b[0m\u001b[1;33m(\u001b[0m\u001b[0mindex\u001b[0m\u001b[1;33m)\u001b[0m\u001b[1;33m\u001b[0m\u001b[1;33m\u001b[0m\u001b[0m\n",
      "\u001b[1;32m~\\anaconda3\\lib\\site-packages\\pandas\\core\\internals\\construction.py\u001b[0m in \u001b[0;36mextract_index\u001b[1;34m(data)\u001b[0m\n\u001b[0;32m    389\u001b[0m \u001b[1;33m\u001b[0m\u001b[0m\n\u001b[0;32m    390\u001b[0m         \u001b[1;32mif\u001b[0m \u001b[1;32mnot\u001b[0m \u001b[0mindexes\u001b[0m \u001b[1;32mand\u001b[0m \u001b[1;32mnot\u001b[0m \u001b[0mraw_lengths\u001b[0m\u001b[1;33m:\u001b[0m\u001b[1;33m\u001b[0m\u001b[1;33m\u001b[0m\u001b[0m\n\u001b[1;32m--> 391\u001b[1;33m             \u001b[1;32mraise\u001b[0m \u001b[0mValueError\u001b[0m\u001b[1;33m(\u001b[0m\u001b[1;34m\"If using all scalar values, you must pass an index\"\u001b[0m\u001b[1;33m)\u001b[0m\u001b[1;33m\u001b[0m\u001b[1;33m\u001b[0m\u001b[0m\n\u001b[0m\u001b[0;32m    392\u001b[0m \u001b[1;33m\u001b[0m\u001b[0m\n\u001b[0;32m    393\u001b[0m         \u001b[1;32mif\u001b[0m \u001b[0mhave_series\u001b[0m\u001b[1;33m:\u001b[0m\u001b[1;33m\u001b[0m\u001b[1;33m\u001b[0m\u001b[0m\n",
      "\u001b[1;31mValueError\u001b[0m: If using all scalar values, you must pass an index"
     ]
    }
   ],
   "source": [
    "pd.DataFrame(alias)"
   ]
  },
  {
   "cell_type": "code",
   "execution_count": 112,
   "id": "683c966e-0e04-4b5e-b38f-160be0ec0117",
   "metadata": {},
   "outputs": [
    {
     "data": {
      "text/plain": [
       "{'Hale': age            25\n",
       " gender          F\n",
       " department     CE\n",
       " height        168\n",
       " dtype: object,\n",
       " 'Ahmet': age            37\n",
       " gender          M\n",
       " department     CE\n",
       " height        185\n",
       " dtype: object,\n",
       " 'Mert': age            57\n",
       " gender          M\n",
       " department     CE\n",
       " height        165\n",
       " dtype: object}"
      ]
     },
     "execution_count": 112,
     "metadata": {},
     "output_type": "execute_result"
    }
   ],
   "source": [
    "student =  {\"Hale\": pd.Series(data=[25,\"F\",\"CE\",168], index=[\"age\",\"gender\",\"department\",\"height\"]),\n",
    "            \"Ahmet\": pd.Series(data=[37,\"M\",\"CE\",185], index=[\"age\",\"gender\",\"department\",\"height\"]),\n",
    "            \"Mert\": pd.Series(data=[57,\"M\",\"CE\",165], index=[\"age\",\"gender\",\"department\",\"height\"])}\n",
    "student"
   ]
  },
  {
   "cell_type": "code",
   "execution_count": 113,
   "id": "d548e719-ea1e-4530-98b4-cc20ad556eea",
   "metadata": {},
   "outputs": [
    {
     "data": {
      "text/html": [
       "<div>\n",
       "<style scoped>\n",
       "    .dataframe tbody tr th:only-of-type {\n",
       "        vertical-align: middle;\n",
       "    }\n",
       "\n",
       "    .dataframe tbody tr th {\n",
       "        vertical-align: top;\n",
       "    }\n",
       "\n",
       "    .dataframe thead th {\n",
       "        text-align: right;\n",
       "    }\n",
       "</style>\n",
       "<table border=\"1\" class=\"dataframe\">\n",
       "  <thead>\n",
       "    <tr style=\"text-align: right;\">\n",
       "      <th></th>\n",
       "      <th>Hale</th>\n",
       "      <th>Ahmet</th>\n",
       "      <th>Mert</th>\n",
       "    </tr>\n",
       "  </thead>\n",
       "  <tbody>\n",
       "    <tr>\n",
       "      <th>age</th>\n",
       "      <td>25</td>\n",
       "      <td>37</td>\n",
       "      <td>57</td>\n",
       "    </tr>\n",
       "    <tr>\n",
       "      <th>gender</th>\n",
       "      <td>F</td>\n",
       "      <td>M</td>\n",
       "      <td>M</td>\n",
       "    </tr>\n",
       "    <tr>\n",
       "      <th>department</th>\n",
       "      <td>CE</td>\n",
       "      <td>CE</td>\n",
       "      <td>CE</td>\n",
       "    </tr>\n",
       "    <tr>\n",
       "      <th>height</th>\n",
       "      <td>168</td>\n",
       "      <td>185</td>\n",
       "      <td>165</td>\n",
       "    </tr>\n",
       "  </tbody>\n",
       "</table>\n",
       "</div>"
      ],
      "text/plain": [
       "           Hale Ahmet Mert\n",
       "age          25    37   57\n",
       "gender        F     M    M\n",
       "department   CE    CE   CE\n",
       "height      168   185  165"
      ]
     },
     "execution_count": 113,
     "metadata": {},
     "output_type": "execute_result"
    }
   ],
   "source": [
    "student = pd.DataFrame(student)\n",
    "student"
   ]
  },
  {
   "cell_type": "code",
   "execution_count": 114,
   "id": "84e8280b-c270-40aa-b6cb-3cd708cae725",
   "metadata": {},
   "outputs": [
    {
     "data": {
      "text/html": [
       "<div>\n",
       "<style scoped>\n",
       "    .dataframe tbody tr th:only-of-type {\n",
       "        vertical-align: middle;\n",
       "    }\n",
       "\n",
       "    .dataframe tbody tr th {\n",
       "        vertical-align: top;\n",
       "    }\n",
       "\n",
       "    .dataframe thead th {\n",
       "        text-align: right;\n",
       "    }\n",
       "</style>\n",
       "<table border=\"1\" class=\"dataframe\">\n",
       "  <thead>\n",
       "    <tr style=\"text-align: right;\">\n",
       "      <th></th>\n",
       "      <th>Hale</th>\n",
       "      <th>Ahmet</th>\n",
       "    </tr>\n",
       "  </thead>\n",
       "  <tbody>\n",
       "    <tr>\n",
       "      <th>age</th>\n",
       "      <td>25</td>\n",
       "      <td>37</td>\n",
       "    </tr>\n",
       "    <tr>\n",
       "      <th>gender</th>\n",
       "      <td>F</td>\n",
       "      <td>M</td>\n",
       "    </tr>\n",
       "    <tr>\n",
       "      <th>department</th>\n",
       "      <td>CE</td>\n",
       "      <td>CE</td>\n",
       "    </tr>\n",
       "    <tr>\n",
       "      <th>height</th>\n",
       "      <td>168</td>\n",
       "      <td>185</td>\n",
       "    </tr>\n",
       "  </tbody>\n",
       "</table>\n",
       "</div>"
      ],
      "text/plain": [
       "           Hale Ahmet\n",
       "age          25    37\n",
       "gender        F     M\n",
       "department   CE    CE\n",
       "height      168   185"
      ]
     },
     "execution_count": 114,
     "metadata": {},
     "output_type": "execute_result"
    }
   ],
   "source": [
    "pd.DataFrame(student, columns=[\"Hale\",\"Ahmet\"])"
   ]
  },
  {
   "cell_type": "code",
   "execution_count": 115,
   "id": "4ce548d6-4d0f-49d7-bf1b-aab42f523d21",
   "metadata": {},
   "outputs": [
    {
     "data": {
      "text/html": [
       "<div>\n",
       "<style scoped>\n",
       "    .dataframe tbody tr th:only-of-type {\n",
       "        vertical-align: middle;\n",
       "    }\n",
       "\n",
       "    .dataframe tbody tr th {\n",
       "        vertical-align: top;\n",
       "    }\n",
       "\n",
       "    .dataframe thead th {\n",
       "        text-align: right;\n",
       "    }\n",
       "</style>\n",
       "<table border=\"1\" class=\"dataframe\">\n",
       "  <thead>\n",
       "    <tr style=\"text-align: right;\">\n",
       "      <th></th>\n",
       "      <th>Hale</th>\n",
       "      <th>Ahmet</th>\n",
       "      <th>Mert</th>\n",
       "    </tr>\n",
       "  </thead>\n",
       "  <tbody>\n",
       "    <tr>\n",
       "      <th>gender</th>\n",
       "      <td>F</td>\n",
       "      <td>M</td>\n",
       "      <td>M</td>\n",
       "    </tr>\n",
       "  </tbody>\n",
       "</table>\n",
       "</div>"
      ],
      "text/plain": [
       "       Hale Ahmet Mert\n",
       "gender    F     M    M"
      ]
     },
     "execution_count": 115,
     "metadata": {},
     "output_type": "execute_result"
    }
   ],
   "source": [
    "pd.DataFrame(student, index=[\"gender\"])"
   ]
  },
  {
   "cell_type": "code",
   "execution_count": 116,
   "id": "6b58ef3c-e138-41fb-8be4-f3601968c663",
   "metadata": {},
   "outputs": [
    {
     "data": {
      "text/html": [
       "<div>\n",
       "<style scoped>\n",
       "    .dataframe tbody tr th:only-of-type {\n",
       "        vertical-align: middle;\n",
       "    }\n",
       "\n",
       "    .dataframe tbody tr th {\n",
       "        vertical-align: top;\n",
       "    }\n",
       "\n",
       "    .dataframe thead th {\n",
       "        text-align: right;\n",
       "    }\n",
       "</style>\n",
       "<table border=\"1\" class=\"dataframe\">\n",
       "  <thead>\n",
       "    <tr style=\"text-align: right;\">\n",
       "      <th></th>\n",
       "      <th>Hale</th>\n",
       "      <th>Ahmet</th>\n",
       "    </tr>\n",
       "  </thead>\n",
       "  <tbody>\n",
       "    <tr>\n",
       "      <th>age</th>\n",
       "      <td>25</td>\n",
       "      <td>37</td>\n",
       "    </tr>\n",
       "    <tr>\n",
       "      <th>gender</th>\n",
       "      <td>F</td>\n",
       "      <td>M</td>\n",
       "    </tr>\n",
       "  </tbody>\n",
       "</table>\n",
       "</div>"
      ],
      "text/plain": [
       "       Hale Ahmet\n",
       "age      25    37\n",
       "gender    F     M"
      ]
     },
     "execution_count": 116,
     "metadata": {},
     "output_type": "execute_result"
    }
   ],
   "source": [
    "pd.DataFrame(student, columns=[\"Hale\",\"Ahmet\"], index=[\"age\",\"gender\"])"
   ]
  },
  {
   "cell_type": "code",
   "execution_count": 117,
   "id": "9e7ba207-4320-4384-8b1e-534dbe81b789",
   "metadata": {},
   "outputs": [
    {
     "data": {
      "text/plain": [
       "age            37\n",
       "gender          M\n",
       "department     CE\n",
       "height        185\n",
       "Name: Ahmet, dtype: object"
      ]
     },
     "execution_count": 117,
     "metadata": {},
     "output_type": "execute_result"
    }
   ],
   "source": [
    "student[\"Ahmet\"]"
   ]
  },
  {
   "cell_type": "code",
   "execution_count": 118,
   "id": "35e9b9f1-c3e5-4561-b49e-f66af7a8ce96",
   "metadata": {},
   "outputs": [
    {
     "name": "stdout",
     "output_type": "stream",
     "text": [
      "<class 'pandas.core.series.Series'>\n"
     ]
    }
   ],
   "source": [
    "print(type(student[\"Ahmet\"]))"
   ]
  },
  {
   "cell_type": "code",
   "execution_count": 119,
   "id": "3421d339-e18d-4951-af94-4a40f13dfb9f",
   "metadata": {},
   "outputs": [
    {
     "data": {
      "text/html": [
       "<div>\n",
       "<style scoped>\n",
       "    .dataframe tbody tr th:only-of-type {\n",
       "        vertical-align: middle;\n",
       "    }\n",
       "\n",
       "    .dataframe tbody tr th {\n",
       "        vertical-align: top;\n",
       "    }\n",
       "\n",
       "    .dataframe thead th {\n",
       "        text-align: right;\n",
       "    }\n",
       "</style>\n",
       "<table border=\"1\" class=\"dataframe\">\n",
       "  <thead>\n",
       "    <tr style=\"text-align: right;\">\n",
       "      <th></th>\n",
       "      <th>Ahmet</th>\n",
       "    </tr>\n",
       "  </thead>\n",
       "  <tbody>\n",
       "    <tr>\n",
       "      <th>age</th>\n",
       "      <td>37</td>\n",
       "    </tr>\n",
       "    <tr>\n",
       "      <th>gender</th>\n",
       "      <td>M</td>\n",
       "    </tr>\n",
       "    <tr>\n",
       "      <th>department</th>\n",
       "      <td>CE</td>\n",
       "    </tr>\n",
       "    <tr>\n",
       "      <th>height</th>\n",
       "      <td>185</td>\n",
       "    </tr>\n",
       "  </tbody>\n",
       "</table>\n",
       "</div>"
      ],
      "text/plain": [
       "           Ahmet\n",
       "age           37\n",
       "gender         M\n",
       "department    CE\n",
       "height       185"
      ]
     },
     "execution_count": 119,
     "metadata": {},
     "output_type": "execute_result"
    }
   ],
   "source": [
    "student[[\"Ahmet\"]]"
   ]
  },
  {
   "cell_type": "code",
   "execution_count": 120,
   "id": "20bc1466-a883-4048-ba35-218368cd8575",
   "metadata": {},
   "outputs": [
    {
     "name": "stdout",
     "output_type": "stream",
     "text": [
      "<class 'pandas.core.frame.DataFrame'>\n"
     ]
    }
   ],
   "source": [
    "print(type(student[[\"Ahmet\"]]))"
   ]
  },
  {
   "cell_type": "code",
   "execution_count": 121,
   "id": "5f666811-ebda-4c33-b6b9-87b744fcf2ee",
   "metadata": {},
   "outputs": [
    {
     "data": {
      "text/html": [
       "<div>\n",
       "<style scoped>\n",
       "    .dataframe tbody tr th:only-of-type {\n",
       "        vertical-align: middle;\n",
       "    }\n",
       "\n",
       "    .dataframe tbody tr th {\n",
       "        vertical-align: top;\n",
       "    }\n",
       "\n",
       "    .dataframe thead th {\n",
       "        text-align: right;\n",
       "    }\n",
       "</style>\n",
       "<table border=\"1\" class=\"dataframe\">\n",
       "  <thead>\n",
       "    <tr style=\"text-align: right;\">\n",
       "      <th></th>\n",
       "      <th>Ahmet</th>\n",
       "      <th>Hale</th>\n",
       "    </tr>\n",
       "  </thead>\n",
       "  <tbody>\n",
       "    <tr>\n",
       "      <th>age</th>\n",
       "      <td>37</td>\n",
       "      <td>25</td>\n",
       "    </tr>\n",
       "    <tr>\n",
       "      <th>gender</th>\n",
       "      <td>M</td>\n",
       "      <td>F</td>\n",
       "    </tr>\n",
       "    <tr>\n",
       "      <th>department</th>\n",
       "      <td>CE</td>\n",
       "      <td>CE</td>\n",
       "    </tr>\n",
       "    <tr>\n",
       "      <th>height</th>\n",
       "      <td>185</td>\n",
       "      <td>168</td>\n",
       "    </tr>\n",
       "  </tbody>\n",
       "</table>\n",
       "</div>"
      ],
      "text/plain": [
       "           Ahmet Hale\n",
       "age           37   25\n",
       "gender         M    F\n",
       "department    CE   CE\n",
       "height       185  168"
      ]
     },
     "execution_count": 121,
     "metadata": {},
     "output_type": "execute_result"
    }
   ],
   "source": [
    "student[[\"Ahmet\",\"Hale\"]]"
   ]
  },
  {
   "cell_type": "code",
   "execution_count": 122,
   "id": "5e3c9ad9-89c4-4c17-aa00-b49b312cd8ac",
   "metadata": {},
   "outputs": [
    {
     "data": {
      "text/plain": [
       "Hale     25\n",
       "Ahmet    37\n",
       "Mert     57\n",
       "Name: age, dtype: object"
      ]
     },
     "execution_count": 122,
     "metadata": {},
     "output_type": "execute_result"
    }
   ],
   "source": [
    "student.loc[\"age\"]"
   ]
  },
  {
   "cell_type": "code",
   "execution_count": 123,
   "id": "e750450e-857b-43ef-9bb6-17996016d663",
   "metadata": {},
   "outputs": [
    {
     "data": {
      "text/html": [
       "<div>\n",
       "<style scoped>\n",
       "    .dataframe tbody tr th:only-of-type {\n",
       "        vertical-align: middle;\n",
       "    }\n",
       "\n",
       "    .dataframe tbody tr th {\n",
       "        vertical-align: top;\n",
       "    }\n",
       "\n",
       "    .dataframe thead th {\n",
       "        text-align: right;\n",
       "    }\n",
       "</style>\n",
       "<table border=\"1\" class=\"dataframe\">\n",
       "  <thead>\n",
       "    <tr style=\"text-align: right;\">\n",
       "      <th></th>\n",
       "      <th>Hale</th>\n",
       "      <th>Ahmet</th>\n",
       "      <th>Mert</th>\n",
       "    </tr>\n",
       "  </thead>\n",
       "  <tbody>\n",
       "    <tr>\n",
       "      <th>age</th>\n",
       "      <td>25</td>\n",
       "      <td>37</td>\n",
       "      <td>57</td>\n",
       "    </tr>\n",
       "  </tbody>\n",
       "</table>\n",
       "</div>"
      ],
      "text/plain": [
       "    Hale Ahmet Mert\n",
       "age   25    37   57"
      ]
     },
     "execution_count": 123,
     "metadata": {},
     "output_type": "execute_result"
    }
   ],
   "source": [
    "student.loc[[\"age\"]]"
   ]
  },
  {
   "cell_type": "code",
   "execution_count": 124,
   "id": "029fe42c-7d44-4b78-aba0-a5a323f28384",
   "metadata": {},
   "outputs": [
    {
     "data": {
      "text/html": [
       "<div>\n",
       "<style scoped>\n",
       "    .dataframe tbody tr th:only-of-type {\n",
       "        vertical-align: middle;\n",
       "    }\n",
       "\n",
       "    .dataframe tbody tr th {\n",
       "        vertical-align: top;\n",
       "    }\n",
       "\n",
       "    .dataframe thead th {\n",
       "        text-align: right;\n",
       "    }\n",
       "</style>\n",
       "<table border=\"1\" class=\"dataframe\">\n",
       "  <thead>\n",
       "    <tr style=\"text-align: right;\">\n",
       "      <th></th>\n",
       "      <th>Hale</th>\n",
       "      <th>Ahmet</th>\n",
       "      <th>Mert</th>\n",
       "    </tr>\n",
       "  </thead>\n",
       "  <tbody>\n",
       "    <tr>\n",
       "      <th>age</th>\n",
       "      <td>25</td>\n",
       "      <td>37</td>\n",
       "      <td>57</td>\n",
       "    </tr>\n",
       "  </tbody>\n",
       "</table>\n",
       "</div>"
      ],
      "text/plain": [
       "    Hale Ahmet Mert\n",
       "age   25    37   57"
      ]
     },
     "execution_count": 124,
     "metadata": {},
     "output_type": "execute_result"
    }
   ],
   "source": [
    "student.iloc[[0]]"
   ]
  },
  {
   "cell_type": "code",
   "execution_count": 125,
   "id": "8fb8e33b-6f0d-4de4-b619-ae0ea358cc49",
   "metadata": {},
   "outputs": [
    {
     "data": {
      "text/plain": [
       "'F'"
      ]
     },
     "execution_count": 125,
     "metadata": {},
     "output_type": "execute_result"
    }
   ],
   "source": [
    "student[\"Hale\"][\"gender\"]   #df[col][row]"
   ]
  },
  {
   "cell_type": "code",
   "execution_count": 126,
   "id": "ba39d118-258a-428e-a291-9309610e8976",
   "metadata": {},
   "outputs": [
    {
     "data": {
      "text/plain": [
       "25"
      ]
     },
     "execution_count": 126,
     "metadata": {},
     "output_type": "execute_result"
    }
   ],
   "source": [
    "student[\"Hale\"][0]"
   ]
  },
  {
   "cell_type": "code",
   "execution_count": 127,
   "id": "7a09d80f-e085-45c6-afb5-4922d6ef3714",
   "metadata": {},
   "outputs": [
    {
     "ename": "KeyError",
     "evalue": "0",
     "output_type": "error",
     "traceback": [
      "\u001b[1;31m---------------------------------------------------------------------------\u001b[0m",
      "\u001b[1;31mKeyError\u001b[0m                                  Traceback (most recent call last)",
      "\u001b[1;32m~\\anaconda3\\lib\\site-packages\\pandas\\core\\indexes\\base.py\u001b[0m in \u001b[0;36mget_loc\u001b[1;34m(self, key, method, tolerance)\u001b[0m\n\u001b[0;32m   3079\u001b[0m             \u001b[1;32mtry\u001b[0m\u001b[1;33m:\u001b[0m\u001b[1;33m\u001b[0m\u001b[1;33m\u001b[0m\u001b[0m\n\u001b[1;32m-> 3080\u001b[1;33m                 \u001b[1;32mreturn\u001b[0m \u001b[0mself\u001b[0m\u001b[1;33m.\u001b[0m\u001b[0m_engine\u001b[0m\u001b[1;33m.\u001b[0m\u001b[0mget_loc\u001b[0m\u001b[1;33m(\u001b[0m\u001b[0mcasted_key\u001b[0m\u001b[1;33m)\u001b[0m\u001b[1;33m\u001b[0m\u001b[1;33m\u001b[0m\u001b[0m\n\u001b[0m\u001b[0;32m   3081\u001b[0m             \u001b[1;32mexcept\u001b[0m \u001b[0mKeyError\u001b[0m \u001b[1;32mas\u001b[0m \u001b[0merr\u001b[0m\u001b[1;33m:\u001b[0m\u001b[1;33m\u001b[0m\u001b[1;33m\u001b[0m\u001b[0m\n",
      "\u001b[1;32mpandas\\_libs\\index.pyx\u001b[0m in \u001b[0;36mpandas._libs.index.IndexEngine.get_loc\u001b[1;34m()\u001b[0m\n",
      "\u001b[1;32mpandas\\_libs\\index.pyx\u001b[0m in \u001b[0;36mpandas._libs.index.IndexEngine.get_loc\u001b[1;34m()\u001b[0m\n",
      "\u001b[1;32mpandas\\_libs\\hashtable_class_helper.pxi\u001b[0m in \u001b[0;36mpandas._libs.hashtable.PyObjectHashTable.get_item\u001b[1;34m()\u001b[0m\n",
      "\u001b[1;32mpandas\\_libs\\hashtable_class_helper.pxi\u001b[0m in \u001b[0;36mpandas._libs.hashtable.PyObjectHashTable.get_item\u001b[1;34m()\u001b[0m\n",
      "\u001b[1;31mKeyError\u001b[0m: 0",
      "\nThe above exception was the direct cause of the following exception:\n",
      "\u001b[1;31mKeyError\u001b[0m                                  Traceback (most recent call last)",
      "\u001b[1;32m<ipython-input-127-862f6d05b579>\u001b[0m in \u001b[0;36m<module>\u001b[1;34m\u001b[0m\n\u001b[1;32m----> 1\u001b[1;33m \u001b[0mstudent\u001b[0m\u001b[1;33m[\u001b[0m\u001b[1;36m0\u001b[0m\u001b[1;33m]\u001b[0m\u001b[1;33m[\u001b[0m\u001b[1;34m\"age\"\u001b[0m\u001b[1;33m]\u001b[0m\u001b[1;33m\u001b[0m\u001b[1;33m\u001b[0m\u001b[0m\n\u001b[0m",
      "\u001b[1;32m~\\anaconda3\\lib\\site-packages\\pandas\\core\\frame.py\u001b[0m in \u001b[0;36m__getitem__\u001b[1;34m(self, key)\u001b[0m\n\u001b[0;32m   3022\u001b[0m             \u001b[1;32mif\u001b[0m \u001b[0mself\u001b[0m\u001b[1;33m.\u001b[0m\u001b[0mcolumns\u001b[0m\u001b[1;33m.\u001b[0m\u001b[0mnlevels\u001b[0m \u001b[1;33m>\u001b[0m \u001b[1;36m1\u001b[0m\u001b[1;33m:\u001b[0m\u001b[1;33m\u001b[0m\u001b[1;33m\u001b[0m\u001b[0m\n\u001b[0;32m   3023\u001b[0m                 \u001b[1;32mreturn\u001b[0m \u001b[0mself\u001b[0m\u001b[1;33m.\u001b[0m\u001b[0m_getitem_multilevel\u001b[0m\u001b[1;33m(\u001b[0m\u001b[0mkey\u001b[0m\u001b[1;33m)\u001b[0m\u001b[1;33m\u001b[0m\u001b[1;33m\u001b[0m\u001b[0m\n\u001b[1;32m-> 3024\u001b[1;33m             \u001b[0mindexer\u001b[0m \u001b[1;33m=\u001b[0m \u001b[0mself\u001b[0m\u001b[1;33m.\u001b[0m\u001b[0mcolumns\u001b[0m\u001b[1;33m.\u001b[0m\u001b[0mget_loc\u001b[0m\u001b[1;33m(\u001b[0m\u001b[0mkey\u001b[0m\u001b[1;33m)\u001b[0m\u001b[1;33m\u001b[0m\u001b[1;33m\u001b[0m\u001b[0m\n\u001b[0m\u001b[0;32m   3025\u001b[0m             \u001b[1;32mif\u001b[0m \u001b[0mis_integer\u001b[0m\u001b[1;33m(\u001b[0m\u001b[0mindexer\u001b[0m\u001b[1;33m)\u001b[0m\u001b[1;33m:\u001b[0m\u001b[1;33m\u001b[0m\u001b[1;33m\u001b[0m\u001b[0m\n\u001b[0;32m   3026\u001b[0m                 \u001b[0mindexer\u001b[0m \u001b[1;33m=\u001b[0m \u001b[1;33m[\u001b[0m\u001b[0mindexer\u001b[0m\u001b[1;33m]\u001b[0m\u001b[1;33m\u001b[0m\u001b[1;33m\u001b[0m\u001b[0m\n",
      "\u001b[1;32m~\\anaconda3\\lib\\site-packages\\pandas\\core\\indexes\\base.py\u001b[0m in \u001b[0;36mget_loc\u001b[1;34m(self, key, method, tolerance)\u001b[0m\n\u001b[0;32m   3080\u001b[0m                 \u001b[1;32mreturn\u001b[0m \u001b[0mself\u001b[0m\u001b[1;33m.\u001b[0m\u001b[0m_engine\u001b[0m\u001b[1;33m.\u001b[0m\u001b[0mget_loc\u001b[0m\u001b[1;33m(\u001b[0m\u001b[0mcasted_key\u001b[0m\u001b[1;33m)\u001b[0m\u001b[1;33m\u001b[0m\u001b[1;33m\u001b[0m\u001b[0m\n\u001b[0;32m   3081\u001b[0m             \u001b[1;32mexcept\u001b[0m \u001b[0mKeyError\u001b[0m \u001b[1;32mas\u001b[0m \u001b[0merr\u001b[0m\u001b[1;33m:\u001b[0m\u001b[1;33m\u001b[0m\u001b[1;33m\u001b[0m\u001b[0m\n\u001b[1;32m-> 3082\u001b[1;33m                 \u001b[1;32mraise\u001b[0m \u001b[0mKeyError\u001b[0m\u001b[1;33m(\u001b[0m\u001b[0mkey\u001b[0m\u001b[1;33m)\u001b[0m \u001b[1;32mfrom\u001b[0m \u001b[0merr\u001b[0m\u001b[1;33m\u001b[0m\u001b[1;33m\u001b[0m\u001b[0m\n\u001b[0m\u001b[0;32m   3083\u001b[0m \u001b[1;33m\u001b[0m\u001b[0m\n\u001b[0;32m   3084\u001b[0m         \u001b[1;32mif\u001b[0m \u001b[0mtolerance\u001b[0m \u001b[1;32mis\u001b[0m \u001b[1;32mnot\u001b[0m \u001b[1;32mNone\u001b[0m\u001b[1;33m:\u001b[0m\u001b[1;33m\u001b[0m\u001b[1;33m\u001b[0m\u001b[0m\n",
      "\u001b[1;31mKeyError\u001b[0m: 0"
     ]
    }
   ],
   "source": [
    "student[0][\"age\"]"
   ]
  },
  {
   "cell_type": "code",
   "execution_count": 128,
   "id": "93571812-5a1c-4c46-9fe7-db588a8e2f90",
   "metadata": {},
   "outputs": [
    {
     "data": {
      "text/plain": [
       "37"
      ]
     },
     "execution_count": 128,
     "metadata": {},
     "output_type": "execute_result"
    }
   ],
   "source": [
    "student.iloc[0][1]"
   ]
  },
  {
   "cell_type": "code",
   "execution_count": 129,
   "id": "bd51a243-1d2f-41a4-ab96-34b39596965a",
   "metadata": {},
   "outputs": [
    {
     "data": {
      "text/html": [
       "<div>\n",
       "<style scoped>\n",
       "    .dataframe tbody tr th:only-of-type {\n",
       "        vertical-align: middle;\n",
       "    }\n",
       "\n",
       "    .dataframe tbody tr th {\n",
       "        vertical-align: top;\n",
       "    }\n",
       "\n",
       "    .dataframe thead th {\n",
       "        text-align: right;\n",
       "    }\n",
       "</style>\n",
       "<table border=\"1\" class=\"dataframe\">\n",
       "  <thead>\n",
       "    <tr style=\"text-align: right;\">\n",
       "      <th></th>\n",
       "      <th>Hale</th>\n",
       "      <th>Ahmet</th>\n",
       "      <th>Mert</th>\n",
       "      <th>Fatih</th>\n",
       "    </tr>\n",
       "  </thead>\n",
       "  <tbody>\n",
       "    <tr>\n",
       "      <th>age</th>\n",
       "      <td>25</td>\n",
       "      <td>37</td>\n",
       "      <td>57</td>\n",
       "      <td>17</td>\n",
       "    </tr>\n",
       "    <tr>\n",
       "      <th>gender</th>\n",
       "      <td>F</td>\n",
       "      <td>M</td>\n",
       "      <td>M</td>\n",
       "      <td>M</td>\n",
       "    </tr>\n",
       "    <tr>\n",
       "      <th>department</th>\n",
       "      <td>CE</td>\n",
       "      <td>CE</td>\n",
       "      <td>CE</td>\n",
       "      <td>ELH</td>\n",
       "    </tr>\n",
       "    <tr>\n",
       "      <th>height</th>\n",
       "      <td>168</td>\n",
       "      <td>185</td>\n",
       "      <td>165</td>\n",
       "      <td>195</td>\n",
       "    </tr>\n",
       "  </tbody>\n",
       "</table>\n",
       "</div>"
      ],
      "text/plain": [
       "           Hale Ahmet Mert Fatih\n",
       "age          25    37   57    17\n",
       "gender        F     M    M     M\n",
       "department   CE    CE   CE   ELH\n",
       "height      168   185  165   195"
      ]
     },
     "execution_count": 129,
     "metadata": {},
     "output_type": "execute_result"
    }
   ],
   "source": [
    "student[\"Fatih\"] = [17,\"M\",\"ELH\",195]\n",
    "student"
   ]
  },
  {
   "cell_type": "code",
   "execution_count": 130,
   "id": "20130631-83b2-40be-b631-44e5d9e561e9",
   "metadata": {},
   "outputs": [
    {
     "data": {
      "text/html": [
       "<div>\n",
       "<style scoped>\n",
       "    .dataframe tbody tr th:only-of-type {\n",
       "        vertical-align: middle;\n",
       "    }\n",
       "\n",
       "    .dataframe tbody tr th {\n",
       "        vertical-align: top;\n",
       "    }\n",
       "\n",
       "    .dataframe thead th {\n",
       "        text-align: right;\n",
       "    }\n",
       "</style>\n",
       "<table border=\"1\" class=\"dataframe\">\n",
       "  <thead>\n",
       "    <tr style=\"text-align: right;\">\n",
       "      <th></th>\n",
       "      <th>Hale</th>\n",
       "      <th>Ahmet</th>\n",
       "      <th>Mert</th>\n",
       "      <th>Fatih</th>\n",
       "      <th>Halil</th>\n",
       "    </tr>\n",
       "  </thead>\n",
       "  <tbody>\n",
       "    <tr>\n",
       "      <th>age</th>\n",
       "      <td>25</td>\n",
       "      <td>37</td>\n",
       "      <td>57</td>\n",
       "      <td>17</td>\n",
       "      <td>42</td>\n",
       "    </tr>\n",
       "    <tr>\n",
       "      <th>gender</th>\n",
       "      <td>F</td>\n",
       "      <td>M</td>\n",
       "      <td>M</td>\n",
       "      <td>M</td>\n",
       "      <td>MF</td>\n",
       "    </tr>\n",
       "    <tr>\n",
       "      <th>department</th>\n",
       "      <td>CE</td>\n",
       "      <td>CE</td>\n",
       "      <td>CE</td>\n",
       "      <td>ELH</td>\n",
       "      <td>ELHCE</td>\n",
       "    </tr>\n",
       "    <tr>\n",
       "      <th>height</th>\n",
       "      <td>168</td>\n",
       "      <td>185</td>\n",
       "      <td>165</td>\n",
       "      <td>195</td>\n",
       "      <td>363</td>\n",
       "    </tr>\n",
       "  </tbody>\n",
       "</table>\n",
       "</div>"
      ],
      "text/plain": [
       "           Hale Ahmet Mert Fatih  Halil\n",
       "age          25    37   57    17     42\n",
       "gender        F     M    M     M     MF\n",
       "department   CE    CE   CE   ELH  ELHCE\n",
       "height      168   185  165   195    363"
      ]
     },
     "execution_count": 130,
     "metadata": {},
     "output_type": "execute_result"
    }
   ],
   "source": [
    "student[\"Halil\"] = student[\"Fatih\"] + student[\"Hale\"]\n",
    "student"
   ]
  },
  {
   "cell_type": "code",
   "execution_count": 131,
   "id": "fdd9228d-cf38-4776-bf08-e34dd4783928",
   "metadata": {},
   "outputs": [],
   "source": [
    "new_row = pd.DataFrame({\"Hale\":\"kurek\", \"Ahmet\":\"manav\",\"Mert\":\"CAN\",\"Fatih\":\"Keriz\",\"Halil\":\"Bekle\"}, index=[\"surname\"])"
   ]
  },
  {
   "cell_type": "code",
   "execution_count": 132,
   "id": "bcfbbbac-b629-4d5a-84ac-0fa55cbdca41",
   "metadata": {},
   "outputs": [
    {
     "data": {
      "text/html": [
       "<div>\n",
       "<style scoped>\n",
       "    .dataframe tbody tr th:only-of-type {\n",
       "        vertical-align: middle;\n",
       "    }\n",
       "\n",
       "    .dataframe tbody tr th {\n",
       "        vertical-align: top;\n",
       "    }\n",
       "\n",
       "    .dataframe thead th {\n",
       "        text-align: right;\n",
       "    }\n",
       "</style>\n",
       "<table border=\"1\" class=\"dataframe\">\n",
       "  <thead>\n",
       "    <tr style=\"text-align: right;\">\n",
       "      <th></th>\n",
       "      <th>Hale</th>\n",
       "      <th>Ahmet</th>\n",
       "      <th>Mert</th>\n",
       "      <th>Fatih</th>\n",
       "      <th>Halil</th>\n",
       "    </tr>\n",
       "  </thead>\n",
       "  <tbody>\n",
       "    <tr>\n",
       "      <th>age</th>\n",
       "      <td>25</td>\n",
       "      <td>37</td>\n",
       "      <td>57</td>\n",
       "      <td>17</td>\n",
       "      <td>42</td>\n",
       "    </tr>\n",
       "    <tr>\n",
       "      <th>gender</th>\n",
       "      <td>F</td>\n",
       "      <td>M</td>\n",
       "      <td>M</td>\n",
       "      <td>M</td>\n",
       "      <td>MF</td>\n",
       "    </tr>\n",
       "    <tr>\n",
       "      <th>department</th>\n",
       "      <td>CE</td>\n",
       "      <td>CE</td>\n",
       "      <td>CE</td>\n",
       "      <td>ELH</td>\n",
       "      <td>ELHCE</td>\n",
       "    </tr>\n",
       "    <tr>\n",
       "      <th>height</th>\n",
       "      <td>168</td>\n",
       "      <td>185</td>\n",
       "      <td>165</td>\n",
       "      <td>195</td>\n",
       "      <td>363</td>\n",
       "    </tr>\n",
       "    <tr>\n",
       "      <th>surname</th>\n",
       "      <td>kurek</td>\n",
       "      <td>manav</td>\n",
       "      <td>CAN</td>\n",
       "      <td>Keriz</td>\n",
       "      <td>Bekle</td>\n",
       "    </tr>\n",
       "  </tbody>\n",
       "</table>\n",
       "</div>"
      ],
      "text/plain": [
       "             Hale  Ahmet Mert  Fatih  Halil\n",
       "age            25     37   57     17     42\n",
       "gender          F      M    M      M     MF\n",
       "department     CE     CE   CE    ELH  ELHCE\n",
       "height        168    185  165    195    363\n",
       "surname     kurek  manav  CAN  Keriz  Bekle"
      ]
     },
     "execution_count": 132,
     "metadata": {},
     "output_type": "execute_result"
    }
   ],
   "source": [
    "student = student.append(new_row)\n",
    "student"
   ]
  },
  {
   "cell_type": "code",
   "execution_count": 106,
   "id": "4c66e5a2-23a1-4833-92bf-6a00769b1ed1",
   "metadata": {},
   "outputs": [],
   "source": [
    "# pop--> columns\n",
    "# drop--> columns and rows(axis)"
   ]
  },
  {
   "cell_type": "code",
   "execution_count": 133,
   "id": "ee80527f-de0a-4a4b-8cb0-22926c249a32",
   "metadata": {},
   "outputs": [
    {
     "data": {
      "text/plain": [
       "age              37\n",
       "gender            M\n",
       "department       CE\n",
       "height          185\n",
       "surname       manav\n",
       "Name: Ahmet, dtype: object"
      ]
     },
     "execution_count": 133,
     "metadata": {},
     "output_type": "execute_result"
    }
   ],
   "source": [
    "student.pop(\"Ahmet\")   # kalıcı işlem yapıyor."
   ]
  },
  {
   "cell_type": "code",
   "execution_count": 134,
   "id": "1e771e7f-d6f1-42bd-bcdc-87987503f35d",
   "metadata": {},
   "outputs": [
    {
     "data": {
      "text/html": [
       "<div>\n",
       "<style scoped>\n",
       "    .dataframe tbody tr th:only-of-type {\n",
       "        vertical-align: middle;\n",
       "    }\n",
       "\n",
       "    .dataframe tbody tr th {\n",
       "        vertical-align: top;\n",
       "    }\n",
       "\n",
       "    .dataframe thead th {\n",
       "        text-align: right;\n",
       "    }\n",
       "</style>\n",
       "<table border=\"1\" class=\"dataframe\">\n",
       "  <thead>\n",
       "    <tr style=\"text-align: right;\">\n",
       "      <th></th>\n",
       "      <th>Mert</th>\n",
       "      <th>Fatih</th>\n",
       "      <th>Halil</th>\n",
       "    </tr>\n",
       "  </thead>\n",
       "  <tbody>\n",
       "    <tr>\n",
       "      <th>age</th>\n",
       "      <td>57</td>\n",
       "      <td>17</td>\n",
       "      <td>42</td>\n",
       "    </tr>\n",
       "    <tr>\n",
       "      <th>gender</th>\n",
       "      <td>M</td>\n",
       "      <td>M</td>\n",
       "      <td>MF</td>\n",
       "    </tr>\n",
       "    <tr>\n",
       "      <th>department</th>\n",
       "      <td>CE</td>\n",
       "      <td>ELH</td>\n",
       "      <td>ELHCE</td>\n",
       "    </tr>\n",
       "    <tr>\n",
       "      <th>height</th>\n",
       "      <td>165</td>\n",
       "      <td>195</td>\n",
       "      <td>363</td>\n",
       "    </tr>\n",
       "    <tr>\n",
       "      <th>surname</th>\n",
       "      <td>CAN</td>\n",
       "      <td>Keriz</td>\n",
       "      <td>Bekle</td>\n",
       "    </tr>\n",
       "  </tbody>\n",
       "</table>\n",
       "</div>"
      ],
      "text/plain": [
       "           Mert  Fatih  Halil\n",
       "age          57     17     42\n",
       "gender        M      M     MF\n",
       "department   CE    ELH  ELHCE\n",
       "height      165    195    363\n",
       "surname     CAN  Keriz  Bekle"
      ]
     },
     "execution_count": 134,
     "metadata": {},
     "output_type": "execute_result"
    }
   ],
   "source": [
    "student.drop(\"Hale\", axis=1)  # kalıcı işlem yapmıyor. Kalıcı olması için inplace=True kullanılmalı.\n",
    "# birden fazla sütundan kurtulmak için list şeklinde yazmalıyız."
   ]
  },
  {
   "cell_type": "code",
   "execution_count": 135,
   "id": "7f66578a-b9b8-45de-9d51-a4ca99f96023",
   "metadata": {},
   "outputs": [
    {
     "data": {
      "text/html": [
       "<div>\n",
       "<style scoped>\n",
       "    .dataframe tbody tr th:only-of-type {\n",
       "        vertical-align: middle;\n",
       "    }\n",
       "\n",
       "    .dataframe tbody tr th {\n",
       "        vertical-align: top;\n",
       "    }\n",
       "\n",
       "    .dataframe thead th {\n",
       "        text-align: right;\n",
       "    }\n",
       "</style>\n",
       "<table border=\"1\" class=\"dataframe\">\n",
       "  <thead>\n",
       "    <tr style=\"text-align: right;\">\n",
       "      <th></th>\n",
       "      <th>Hale</th>\n",
       "      <th>Mert</th>\n",
       "      <th>Fatih</th>\n",
       "      <th>Halil</th>\n",
       "    </tr>\n",
       "  </thead>\n",
       "  <tbody>\n",
       "    <tr>\n",
       "      <th>age</th>\n",
       "      <td>25</td>\n",
       "      <td>57</td>\n",
       "      <td>17</td>\n",
       "      <td>42</td>\n",
       "    </tr>\n",
       "    <tr>\n",
       "      <th>gender</th>\n",
       "      <td>F</td>\n",
       "      <td>M</td>\n",
       "      <td>M</td>\n",
       "      <td>MF</td>\n",
       "    </tr>\n",
       "    <tr>\n",
       "      <th>department</th>\n",
       "      <td>CE</td>\n",
       "      <td>CE</td>\n",
       "      <td>ELH</td>\n",
       "      <td>ELHCE</td>\n",
       "    </tr>\n",
       "    <tr>\n",
       "      <th>height</th>\n",
       "      <td>168</td>\n",
       "      <td>165</td>\n",
       "      <td>195</td>\n",
       "      <td>363</td>\n",
       "    </tr>\n",
       "    <tr>\n",
       "      <th>surname</th>\n",
       "      <td>kurek</td>\n",
       "      <td>CAN</td>\n",
       "      <td>Keriz</td>\n",
       "      <td>Bekle</td>\n",
       "    </tr>\n",
       "  </tbody>\n",
       "</table>\n",
       "</div>"
      ],
      "text/plain": [
       "             Hale Mert  Fatih  Halil\n",
       "age            25   57     17     42\n",
       "gender          F    M      M     MF\n",
       "department     CE   CE    ELH  ELHCE\n",
       "height        168  165    195    363\n",
       "surname     kurek  CAN  Keriz  Bekle"
      ]
     },
     "execution_count": 135,
     "metadata": {},
     "output_type": "execute_result"
    }
   ],
   "source": [
    "student"
   ]
  },
  {
   "cell_type": "code",
   "execution_count": 136,
   "id": "1921df2c-9ddb-428c-b171-11cdad93aa51",
   "metadata": {},
   "outputs": [
    {
     "data": {
      "text/html": [
       "<div>\n",
       "<style scoped>\n",
       "    .dataframe tbody tr th:only-of-type {\n",
       "        vertical-align: middle;\n",
       "    }\n",
       "\n",
       "    .dataframe tbody tr th {\n",
       "        vertical-align: top;\n",
       "    }\n",
       "\n",
       "    .dataframe thead th {\n",
       "        text-align: right;\n",
       "    }\n",
       "</style>\n",
       "<table border=\"1\" class=\"dataframe\">\n",
       "  <thead>\n",
       "    <tr style=\"text-align: right;\">\n",
       "      <th></th>\n",
       "      <th>Hale</th>\n",
       "      <th>Mert</th>\n",
       "      <th>Fatih</th>\n",
       "      <th>Halil</th>\n",
       "    </tr>\n",
       "  </thead>\n",
       "  <tbody>\n",
       "    <tr>\n",
       "      <th>age</th>\n",
       "      <td>25</td>\n",
       "      <td>57</td>\n",
       "      <td>17</td>\n",
       "      <td>42</td>\n",
       "    </tr>\n",
       "    <tr>\n",
       "      <th>department</th>\n",
       "      <td>CE</td>\n",
       "      <td>CE</td>\n",
       "      <td>ELH</td>\n",
       "      <td>ELHCE</td>\n",
       "    </tr>\n",
       "    <tr>\n",
       "      <th>height</th>\n",
       "      <td>168</td>\n",
       "      <td>165</td>\n",
       "      <td>195</td>\n",
       "      <td>363</td>\n",
       "    </tr>\n",
       "    <tr>\n",
       "      <th>surname</th>\n",
       "      <td>kurek</td>\n",
       "      <td>CAN</td>\n",
       "      <td>Keriz</td>\n",
       "      <td>Bekle</td>\n",
       "    </tr>\n",
       "  </tbody>\n",
       "</table>\n",
       "</div>"
      ],
      "text/plain": [
       "             Hale Mert  Fatih  Halil\n",
       "age            25   57     17     42\n",
       "department     CE   CE    ELH  ELHCE\n",
       "height        168  165    195    363\n",
       "surname     kurek  CAN  Keriz  Bekle"
      ]
     },
     "execution_count": 136,
     "metadata": {},
     "output_type": "execute_result"
    }
   ],
   "source": [
    "student.drop(\"gender\", axis=0)"
   ]
  },
  {
   "cell_type": "code",
   "execution_count": 137,
   "id": "dc790d56-782c-4f02-9790-ebd635c198a2",
   "metadata": {},
   "outputs": [
    {
     "data": {
      "text/html": [
       "<div>\n",
       "<style scoped>\n",
       "    .dataframe tbody tr th:only-of-type {\n",
       "        vertical-align: middle;\n",
       "    }\n",
       "\n",
       "    .dataframe tbody tr th {\n",
       "        vertical-align: top;\n",
       "    }\n",
       "\n",
       "    .dataframe thead th {\n",
       "        text-align: right;\n",
       "    }\n",
       "</style>\n",
       "<table border=\"1\" class=\"dataframe\">\n",
       "  <thead>\n",
       "    <tr style=\"text-align: right;\">\n",
       "      <th></th>\n",
       "      <th>Hale</th>\n",
       "      <th>Mert</th>\n",
       "      <th>Fatih</th>\n",
       "      <th>Halil</th>\n",
       "    </tr>\n",
       "  </thead>\n",
       "  <tbody>\n",
       "    <tr>\n",
       "      <th>age</th>\n",
       "      <td>25</td>\n",
       "      <td>57</td>\n",
       "      <td>17</td>\n",
       "      <td>42</td>\n",
       "    </tr>\n",
       "    <tr>\n",
       "      <th>gender</th>\n",
       "      <td>F</td>\n",
       "      <td>M</td>\n",
       "      <td>M</td>\n",
       "      <td>MF</td>\n",
       "    </tr>\n",
       "    <tr>\n",
       "      <th>department</th>\n",
       "      <td>CE</td>\n",
       "      <td>CE</td>\n",
       "      <td>ELH</td>\n",
       "      <td>ELHCE</td>\n",
       "    </tr>\n",
       "    <tr>\n",
       "      <th>height</th>\n",
       "      <td>168</td>\n",
       "      <td>165</td>\n",
       "      <td>195</td>\n",
       "      <td>363</td>\n",
       "    </tr>\n",
       "    <tr>\n",
       "      <th>surname</th>\n",
       "      <td>kurek</td>\n",
       "      <td>CAN</td>\n",
       "      <td>Keriz</td>\n",
       "      <td>Bekle</td>\n",
       "    </tr>\n",
       "  </tbody>\n",
       "</table>\n",
       "</div>"
      ],
      "text/plain": [
       "             Hale Mert  Fatih  Halil\n",
       "age            25   57     17     42\n",
       "gender          F    M      M     MF\n",
       "department     CE   CE    ELH  ELHCE\n",
       "height        168  165    195    363\n",
       "surname     kurek  CAN  Keriz  Bekle"
      ]
     },
     "execution_count": 137,
     "metadata": {},
     "output_type": "execute_result"
    }
   ],
   "source": [
    "student"
   ]
  },
  {
   "cell_type": "code",
   "execution_count": 151,
   "id": "175635fe-988d-4a04-9704-effb8f51d124",
   "metadata": {},
   "outputs": [],
   "source": [
    "student =  {\"Hale\": pd.Series(data=[25,\"cetin\",\"CE\",168], index=[\"age\",\"surname\",\"department\",\"height\"]),\n",
    "            \"Ahmet\": pd.Series(data=[37,\"M\",\"CE\"], index=[\"age\",\"gender\",\"department\"]),\n",
    "            \"Mert\": pd.Series(data=[57,\"M\",\"CE\",165], index=[\"age\",\"gender\",\"department\",\"height\"])}"
   ]
  },
  {
   "cell_type": "code",
   "execution_count": 155,
   "id": "4aa79807-ed1f-43ae-a380-f58c3b0cc828",
   "metadata": {},
   "outputs": [
    {
     "data": {
      "text/html": [
       "<div>\n",
       "<style scoped>\n",
       "    .dataframe tbody tr th:only-of-type {\n",
       "        vertical-align: middle;\n",
       "    }\n",
       "\n",
       "    .dataframe tbody tr th {\n",
       "        vertical-align: top;\n",
       "    }\n",
       "\n",
       "    .dataframe thead th {\n",
       "        text-align: right;\n",
       "    }\n",
       "</style>\n",
       "<table border=\"1\" class=\"dataframe\">\n",
       "  <thead>\n",
       "    <tr style=\"text-align: right;\">\n",
       "      <th></th>\n",
       "      <th>Hale</th>\n",
       "      <th>Ahmet</th>\n",
       "      <th>Mert</th>\n",
       "    </tr>\n",
       "  </thead>\n",
       "  <tbody>\n",
       "    <tr>\n",
       "      <th>age</th>\n",
       "      <td>25</td>\n",
       "      <td>37</td>\n",
       "      <td>57</td>\n",
       "    </tr>\n",
       "    <tr>\n",
       "      <th>department</th>\n",
       "      <td>CE</td>\n",
       "      <td>CE</td>\n",
       "      <td>CE</td>\n",
       "    </tr>\n",
       "    <tr>\n",
       "      <th>gender</th>\n",
       "      <td>NaN</td>\n",
       "      <td>M</td>\n",
       "      <td>M</td>\n",
       "    </tr>\n",
       "    <tr>\n",
       "      <th>height</th>\n",
       "      <td>168</td>\n",
       "      <td>NaN</td>\n",
       "      <td>165</td>\n",
       "    </tr>\n",
       "    <tr>\n",
       "      <th>surname</th>\n",
       "      <td>cetin</td>\n",
       "      <td>NaN</td>\n",
       "      <td>NaN</td>\n",
       "    </tr>\n",
       "  </tbody>\n",
       "</table>\n",
       "</div>"
      ],
      "text/plain": [
       "             Hale Ahmet Mert\n",
       "age            25    37   57\n",
       "department     CE    CE   CE\n",
       "gender        NaN     M    M\n",
       "height        168   NaN  165\n",
       "surname     cetin   NaN  NaN"
      ]
     },
     "execution_count": 155,
     "metadata": {},
     "output_type": "execute_result"
    }
   ],
   "source": [
    "student = pd.DataFrame(student)\n",
    "student"
   ]
  },
  {
   "cell_type": "code",
   "execution_count": 157,
   "id": "b3ed2cc6-c4b6-4a59-9e97-f335258ee718",
   "metadata": {},
   "outputs": [
    {
     "data": {
      "text/html": [
       "<div>\n",
       "<style scoped>\n",
       "    .dataframe tbody tr th:only-of-type {\n",
       "        vertical-align: middle;\n",
       "    }\n",
       "\n",
       "    .dataframe tbody tr th {\n",
       "        vertical-align: top;\n",
       "    }\n",
       "\n",
       "    .dataframe thead th {\n",
       "        text-align: right;\n",
       "    }\n",
       "</style>\n",
       "<table border=\"1\" class=\"dataframe\">\n",
       "  <thead>\n",
       "    <tr style=\"text-align: right;\">\n",
       "      <th></th>\n",
       "      <th>Hale</th>\n",
       "      <th>Ahmet</th>\n",
       "      <th>Mert</th>\n",
       "    </tr>\n",
       "  </thead>\n",
       "  <tbody>\n",
       "    <tr>\n",
       "      <th>age</th>\n",
       "      <td>False</td>\n",
       "      <td>False</td>\n",
       "      <td>False</td>\n",
       "    </tr>\n",
       "    <tr>\n",
       "      <th>department</th>\n",
       "      <td>False</td>\n",
       "      <td>False</td>\n",
       "      <td>False</td>\n",
       "    </tr>\n",
       "    <tr>\n",
       "      <th>gender</th>\n",
       "      <td>True</td>\n",
       "      <td>False</td>\n",
       "      <td>False</td>\n",
       "    </tr>\n",
       "    <tr>\n",
       "      <th>height</th>\n",
       "      <td>False</td>\n",
       "      <td>True</td>\n",
       "      <td>False</td>\n",
       "    </tr>\n",
       "    <tr>\n",
       "      <th>surname</th>\n",
       "      <td>False</td>\n",
       "      <td>True</td>\n",
       "      <td>True</td>\n",
       "    </tr>\n",
       "  </tbody>\n",
       "</table>\n",
       "</div>"
      ],
      "text/plain": [
       "             Hale  Ahmet   Mert\n",
       "age         False  False  False\n",
       "department  False  False  False\n",
       "gender       True  False  False\n",
       "height      False   True  False\n",
       "surname     False   True   True"
      ]
     },
     "execution_count": 157,
     "metadata": {},
     "output_type": "execute_result"
    }
   ],
   "source": [
    "student.isnull()  # value nin olup olmamasına göre True/False dönüyor. Yoksa True dönüyor.\n"
   ]
  },
  {
   "cell_type": "code",
   "execution_count": 158,
   "id": "ce08029a-2161-4da0-9569-7553b8fc217c",
   "metadata": {},
   "outputs": [
    {
     "data": {
      "text/plain": [
       "Hale     1\n",
       "Ahmet    2\n",
       "Mert     1\n",
       "dtype: int64"
      ]
     },
     "execution_count": 158,
     "metadata": {},
     "output_type": "execute_result"
    }
   ],
   "source": [
    "student.isnull().sum()  # her bir sütundakı null değerlerin toplamını veriyor."
   ]
  },
  {
   "cell_type": "code",
   "execution_count": 159,
   "id": "7d492d0d-c927-4ff5-ab61-d223b69f0d1d",
   "metadata": {},
   "outputs": [
    {
     "data": {
      "text/plain": [
       "4"
      ]
     },
     "execution_count": 159,
     "metadata": {},
     "output_type": "execute_result"
    }
   ],
   "source": [
    "student.isnull().sum().sum()  # veri setindeki toplam null değeri sayısını bulduk."
   ]
  },
  {
   "cell_type": "code",
   "execution_count": 160,
   "id": "748aec89-3141-46b7-8ccd-4330b65822cd",
   "metadata": {},
   "outputs": [
    {
     "data": {
      "text/html": [
       "<div>\n",
       "<style scoped>\n",
       "    .dataframe tbody tr th:only-of-type {\n",
       "        vertical-align: middle;\n",
       "    }\n",
       "\n",
       "    .dataframe tbody tr th {\n",
       "        vertical-align: top;\n",
       "    }\n",
       "\n",
       "    .dataframe thead th {\n",
       "        text-align: right;\n",
       "    }\n",
       "</style>\n",
       "<table border=\"1\" class=\"dataframe\">\n",
       "  <thead>\n",
       "    <tr style=\"text-align: right;\">\n",
       "      <th></th>\n",
       "      <th>Hale</th>\n",
       "      <th>Ahmet</th>\n",
       "      <th>Mert</th>\n",
       "    </tr>\n",
       "  </thead>\n",
       "  <tbody>\n",
       "    <tr>\n",
       "      <th>age</th>\n",
       "      <td>True</td>\n",
       "      <td>True</td>\n",
       "      <td>True</td>\n",
       "    </tr>\n",
       "    <tr>\n",
       "      <th>department</th>\n",
       "      <td>True</td>\n",
       "      <td>True</td>\n",
       "      <td>True</td>\n",
       "    </tr>\n",
       "    <tr>\n",
       "      <th>gender</th>\n",
       "      <td>False</td>\n",
       "      <td>True</td>\n",
       "      <td>True</td>\n",
       "    </tr>\n",
       "    <tr>\n",
       "      <th>height</th>\n",
       "      <td>True</td>\n",
       "      <td>False</td>\n",
       "      <td>True</td>\n",
       "    </tr>\n",
       "    <tr>\n",
       "      <th>surname</th>\n",
       "      <td>True</td>\n",
       "      <td>False</td>\n",
       "      <td>False</td>\n",
       "    </tr>\n",
       "  </tbody>\n",
       "</table>\n",
       "</div>"
      ],
      "text/plain": [
       "             Hale  Ahmet   Mert\n",
       "age          True   True   True\n",
       "department   True   True   True\n",
       "gender      False   True   True\n",
       "height       True  False   True\n",
       "surname      True  False  False"
      ]
     },
     "execution_count": 160,
     "metadata": {},
     "output_type": "execute_result"
    }
   ],
   "source": [
    "student.notnull()"
   ]
  },
  {
   "cell_type": "code",
   "execution_count": 161,
   "id": "62e03a93-8e8b-47d1-a4e0-64d8fcbe7dd2",
   "metadata": {},
   "outputs": [
    {
     "data": {
      "text/plain": [
       "Hale     4\n",
       "Ahmet    3\n",
       "Mert     4\n",
       "dtype: int64"
      ]
     },
     "execution_count": 161,
     "metadata": {},
     "output_type": "execute_result"
    }
   ],
   "source": [
    "student.notnull().sum()"
   ]
  },
  {
   "cell_type": "code",
   "execution_count": 162,
   "id": "2b6170f6-38b0-419f-a809-1002d4dfec40",
   "metadata": {},
   "outputs": [
    {
     "data": {
      "text/plain": [
       "11"
      ]
     },
     "execution_count": 162,
     "metadata": {},
     "output_type": "execute_result"
    }
   ],
   "source": [
    "student.notnull().sum().sum()"
   ]
  },
  {
   "cell_type": "code",
   "execution_count": 163,
   "id": "028d0518-ff6a-46f2-b651-a2d9d9767d10",
   "metadata": {},
   "outputs": [
    {
     "data": {
      "text/plain": [
       "Hale     4\n",
       "Ahmet    3\n",
       "Mert     4\n",
       "dtype: int64"
      ]
     },
     "execution_count": 163,
     "metadata": {},
     "output_type": "execute_result"
    }
   ],
   "source": [
    "student.count()"
   ]
  },
  {
   "cell_type": "code",
   "execution_count": 164,
   "id": "cbb50c4b-dce6-4b0e-b2e2-c6d50db6178f",
   "metadata": {},
   "outputs": [
    {
     "data": {
      "text/html": [
       "<div>\n",
       "<style scoped>\n",
       "    .dataframe tbody tr th:only-of-type {\n",
       "        vertical-align: middle;\n",
       "    }\n",
       "\n",
       "    .dataframe tbody tr th {\n",
       "        vertical-align: top;\n",
       "    }\n",
       "\n",
       "    .dataframe thead th {\n",
       "        text-align: right;\n",
       "    }\n",
       "</style>\n",
       "<table border=\"1\" class=\"dataframe\">\n",
       "  <thead>\n",
       "    <tr style=\"text-align: right;\">\n",
       "      <th></th>\n",
       "      <th>Hale</th>\n",
       "      <th>Ahmet</th>\n",
       "      <th>Mert</th>\n",
       "    </tr>\n",
       "  </thead>\n",
       "  <tbody>\n",
       "    <tr>\n",
       "      <th>age</th>\n",
       "      <td>25</td>\n",
       "      <td>37</td>\n",
       "      <td>57</td>\n",
       "    </tr>\n",
       "    <tr>\n",
       "      <th>department</th>\n",
       "      <td>CE</td>\n",
       "      <td>CE</td>\n",
       "      <td>CE</td>\n",
       "    </tr>\n",
       "  </tbody>\n",
       "</table>\n",
       "</div>"
      ],
      "text/plain": [
       "           Hale Ahmet Mert\n",
       "age          25    37   57\n",
       "department   CE    CE   CE"
      ]
     },
     "execution_count": 164,
     "metadata": {},
     "output_type": "execute_result"
    }
   ],
   "source": [
    "stu_new = student.dropna()  # içinde NaN olan değerleri sildi.\n",
    "stu_new"
   ]
  },
  {
   "cell_type": "code",
   "execution_count": 165,
   "id": "2c78a482-dfce-49ee-bb21-ee251084f20d",
   "metadata": {},
   "outputs": [
    {
     "data": {
      "text/html": [
       "<div>\n",
       "<style scoped>\n",
       "    .dataframe tbody tr th:only-of-type {\n",
       "        vertical-align: middle;\n",
       "    }\n",
       "\n",
       "    .dataframe tbody tr th {\n",
       "        vertical-align: top;\n",
       "    }\n",
       "\n",
       "    .dataframe thead th {\n",
       "        text-align: right;\n",
       "    }\n",
       "</style>\n",
       "<table border=\"1\" class=\"dataframe\">\n",
       "  <thead>\n",
       "    <tr style=\"text-align: right;\">\n",
       "      <th></th>\n",
       "      <th>Hale</th>\n",
       "      <th>Ahmet</th>\n",
       "      <th>Mert</th>\n",
       "    </tr>\n",
       "  </thead>\n",
       "  <tbody>\n",
       "    <tr>\n",
       "      <th>age</th>\n",
       "      <td>25</td>\n",
       "      <td>37</td>\n",
       "      <td>57</td>\n",
       "    </tr>\n",
       "    <tr>\n",
       "      <th>department</th>\n",
       "      <td>CE</td>\n",
       "      <td>CE</td>\n",
       "      <td>CE</td>\n",
       "    </tr>\n",
       "    <tr>\n",
       "      <th>gender</th>\n",
       "      <td>NaN</td>\n",
       "      <td>M</td>\n",
       "      <td>M</td>\n",
       "    </tr>\n",
       "    <tr>\n",
       "      <th>height</th>\n",
       "      <td>168</td>\n",
       "      <td>NaN</td>\n",
       "      <td>165</td>\n",
       "    </tr>\n",
       "    <tr>\n",
       "      <th>surname</th>\n",
       "      <td>cetin</td>\n",
       "      <td>NaN</td>\n",
       "      <td>NaN</td>\n",
       "    </tr>\n",
       "  </tbody>\n",
       "</table>\n",
       "</div>"
      ],
      "text/plain": [
       "             Hale Ahmet Mert\n",
       "age            25    37   57\n",
       "department     CE    CE   CE\n",
       "gender        NaN     M    M\n",
       "height        168   NaN  165\n",
       "surname     cetin   NaN  NaN"
      ]
     },
     "execution_count": 165,
     "metadata": {},
     "output_type": "execute_result"
    }
   ],
   "source": [
    "stu_new = student.dropna(how=\"all\")  # içinde NaN olan değerleri sildi.\n",
    "stu_new"
   ]
  },
  {
   "cell_type": "code",
   "execution_count": 166,
   "id": "a9bdf8b1-6691-4673-b817-1e0b928ec66f",
   "metadata": {},
   "outputs": [
    {
     "data": {
      "text/html": [
       "<div>\n",
       "<style scoped>\n",
       "    .dataframe tbody tr th:only-of-type {\n",
       "        vertical-align: middle;\n",
       "    }\n",
       "\n",
       "    .dataframe tbody tr th {\n",
       "        vertical-align: top;\n",
       "    }\n",
       "\n",
       "    .dataframe thead th {\n",
       "        text-align: right;\n",
       "    }\n",
       "</style>\n",
       "<table border=\"1\" class=\"dataframe\">\n",
       "  <thead>\n",
       "    <tr style=\"text-align: right;\">\n",
       "      <th></th>\n",
       "      <th>Hale</th>\n",
       "      <th>Ahmet</th>\n",
       "      <th>Mert</th>\n",
       "    </tr>\n",
       "  </thead>\n",
       "  <tbody>\n",
       "    <tr>\n",
       "      <th>age</th>\n",
       "      <td>25</td>\n",
       "      <td>37</td>\n",
       "      <td>57</td>\n",
       "    </tr>\n",
       "    <tr>\n",
       "      <th>department</th>\n",
       "      <td>CE</td>\n",
       "      <td>CE</td>\n",
       "      <td>CE</td>\n",
       "    </tr>\n",
       "  </tbody>\n",
       "</table>\n",
       "</div>"
      ],
      "text/plain": [
       "           Hale Ahmet Mert\n",
       "age          25    37   57\n",
       "department   CE    CE   CE"
      ]
     },
     "execution_count": 166,
     "metadata": {},
     "output_type": "execute_result"
    }
   ],
   "source": [
    "stu_new = student.dropna(how=\"any\")  # içinde NaN olan değerleri sildi.\n",
    "stu_new"
   ]
  },
  {
   "cell_type": "code",
   "execution_count": 167,
   "id": "9fe0b6fc-7a10-4fee-be6d-2c391a6653f1",
   "metadata": {},
   "outputs": [
    {
     "data": {
      "text/html": [
       "<div>\n",
       "<style scoped>\n",
       "    .dataframe tbody tr th:only-of-type {\n",
       "        vertical-align: middle;\n",
       "    }\n",
       "\n",
       "    .dataframe tbody tr th {\n",
       "        vertical-align: top;\n",
       "    }\n",
       "\n",
       "    .dataframe thead th {\n",
       "        text-align: right;\n",
       "    }\n",
       "</style>\n",
       "<table border=\"1\" class=\"dataframe\">\n",
       "  <thead>\n",
       "    <tr style=\"text-align: right;\">\n",
       "      <th></th>\n",
       "      <th>Hale</th>\n",
       "      <th>Ahmet</th>\n",
       "      <th>Mert</th>\n",
       "    </tr>\n",
       "  </thead>\n",
       "  <tbody>\n",
       "    <tr>\n",
       "      <th>age</th>\n",
       "      <td>25</td>\n",
       "      <td>None</td>\n",
       "      <td>57</td>\n",
       "    </tr>\n",
       "    <tr>\n",
       "      <th>department</th>\n",
       "      <td>CE</td>\n",
       "      <td>CE</td>\n",
       "      <td>CE</td>\n",
       "    </tr>\n",
       "    <tr>\n",
       "      <th>gender</th>\n",
       "      <td>NaN</td>\n",
       "      <td>M</td>\n",
       "      <td>M</td>\n",
       "    </tr>\n",
       "    <tr>\n",
       "      <th>height</th>\n",
       "      <td>168</td>\n",
       "      <td>NaN</td>\n",
       "      <td>165</td>\n",
       "    </tr>\n",
       "    <tr>\n",
       "      <th>surname</th>\n",
       "      <td>cetin</td>\n",
       "      <td>NaN</td>\n",
       "      <td>NaN</td>\n",
       "    </tr>\n",
       "  </tbody>\n",
       "</table>\n",
       "</div>"
      ],
      "text/plain": [
       "             Hale Ahmet Mert\n",
       "age            25  None   57\n",
       "department     CE    CE   CE\n",
       "gender        NaN     M    M\n",
       "height        168   NaN  165\n",
       "surname     cetin   NaN  NaN"
      ]
     },
     "execution_count": 167,
     "metadata": {},
     "output_type": "execute_result"
    }
   ],
   "source": [
    "student[\"Ahmet\"][\"age\"] = None\n",
    "student"
   ]
  },
  {
   "cell_type": "code",
   "execution_count": 168,
   "id": "5fc643be-2c72-4536-a72e-a1bf968533f1",
   "metadata": {},
   "outputs": [
    {
     "data": {
      "text/html": [
       "<div>\n",
       "<style scoped>\n",
       "    .dataframe tbody tr th:only-of-type {\n",
       "        vertical-align: middle;\n",
       "    }\n",
       "\n",
       "    .dataframe tbody tr th {\n",
       "        vertical-align: top;\n",
       "    }\n",
       "\n",
       "    .dataframe thead th {\n",
       "        text-align: right;\n",
       "    }\n",
       "</style>\n",
       "<table border=\"1\" class=\"dataframe\">\n",
       "  <thead>\n",
       "    <tr style=\"text-align: right;\">\n",
       "      <th></th>\n",
       "      <th>Hale</th>\n",
       "      <th>Ahmet</th>\n",
       "      <th>Mert</th>\n",
       "    </tr>\n",
       "  </thead>\n",
       "  <tbody>\n",
       "    <tr>\n",
       "      <th>department</th>\n",
       "      <td>CE</td>\n",
       "      <td>CE</td>\n",
       "      <td>CE</td>\n",
       "    </tr>\n",
       "  </tbody>\n",
       "</table>\n",
       "</div>"
      ],
      "text/plain": [
       "           Hale Ahmet Mert\n",
       "department   CE    CE   CE"
      ]
     },
     "execution_count": 168,
     "metadata": {},
     "output_type": "execute_result"
    }
   ],
   "source": [
    "stu_new = student.dropna(how=\"any\")  # içinde NaN olan değerleri sildi.\n",
    "stu_new"
   ]
  },
  {
   "cell_type": "code",
   "execution_count": 169,
   "id": "68ee316d-81bc-48d3-a50f-7baa0e0d589e",
   "metadata": {},
   "outputs": [
    {
     "data": {
      "text/html": [
       "<div>\n",
       "<style scoped>\n",
       "    .dataframe tbody tr th:only-of-type {\n",
       "        vertical-align: middle;\n",
       "    }\n",
       "\n",
       "    .dataframe tbody tr th {\n",
       "        vertical-align: top;\n",
       "    }\n",
       "\n",
       "    .dataframe thead th {\n",
       "        text-align: right;\n",
       "    }\n",
       "</style>\n",
       "<table border=\"1\" class=\"dataframe\">\n",
       "  <thead>\n",
       "    <tr style=\"text-align: right;\">\n",
       "      <th></th>\n",
       "      <th>Hale</th>\n",
       "      <th>Ahmet</th>\n",
       "      <th>Mert</th>\n",
       "    </tr>\n",
       "  </thead>\n",
       "  <tbody>\n",
       "    <tr>\n",
       "      <th>age</th>\n",
       "      <td>25</td>\n",
       "      <td>None</td>\n",
       "      <td>57</td>\n",
       "    </tr>\n",
       "    <tr>\n",
       "      <th>department</th>\n",
       "      <td>CE</td>\n",
       "      <td>CE</td>\n",
       "      <td>CE</td>\n",
       "    </tr>\n",
       "    <tr>\n",
       "      <th>gender</th>\n",
       "      <td>NaN</td>\n",
       "      <td>M</td>\n",
       "      <td>M</td>\n",
       "    </tr>\n",
       "    <tr>\n",
       "      <th>height</th>\n",
       "      <td>168</td>\n",
       "      <td>NaN</td>\n",
       "      <td>165</td>\n",
       "    </tr>\n",
       "    <tr>\n",
       "      <th>surname</th>\n",
       "      <td>cetin</td>\n",
       "      <td>NaN</td>\n",
       "      <td>NaN</td>\n",
       "    </tr>\n",
       "  </tbody>\n",
       "</table>\n",
       "</div>"
      ],
      "text/plain": [
       "             Hale Ahmet Mert\n",
       "age            25  None   57\n",
       "department     CE    CE   CE\n",
       "gender        NaN     M    M\n",
       "height        168   NaN  165\n",
       "surname     cetin   NaN  NaN"
      ]
     },
     "execution_count": 169,
     "metadata": {},
     "output_type": "execute_result"
    }
   ],
   "source": [
    "stu_new = student.dropna(thresh=1)  # içinde NaN olan değerleri sildi.\n",
    "stu_new"
   ]
  },
  {
   "cell_type": "code",
   "execution_count": 170,
   "id": "de30b3dc-5577-4f2e-ba01-a49a323f54d8",
   "metadata": {},
   "outputs": [
    {
     "data": {
      "text/html": [
       "<div>\n",
       "<style scoped>\n",
       "    .dataframe tbody tr th:only-of-type {\n",
       "        vertical-align: middle;\n",
       "    }\n",
       "\n",
       "    .dataframe tbody tr th {\n",
       "        vertical-align: top;\n",
       "    }\n",
       "\n",
       "    .dataframe thead th {\n",
       "        text-align: right;\n",
       "    }\n",
       "</style>\n",
       "<table border=\"1\" class=\"dataframe\">\n",
       "  <thead>\n",
       "    <tr style=\"text-align: right;\">\n",
       "      <th></th>\n",
       "      <th>Hale</th>\n",
       "      <th>Ahmet</th>\n",
       "      <th>Mert</th>\n",
       "    </tr>\n",
       "  </thead>\n",
       "  <tbody>\n",
       "    <tr>\n",
       "      <th>age</th>\n",
       "      <td>25</td>\n",
       "      <td>None</td>\n",
       "      <td>57</td>\n",
       "    </tr>\n",
       "    <tr>\n",
       "      <th>department</th>\n",
       "      <td>CE</td>\n",
       "      <td>CE</td>\n",
       "      <td>CE</td>\n",
       "    </tr>\n",
       "    <tr>\n",
       "      <th>gender</th>\n",
       "      <td>NaN</td>\n",
       "      <td>M</td>\n",
       "      <td>M</td>\n",
       "    </tr>\n",
       "    <tr>\n",
       "      <th>height</th>\n",
       "      <td>168</td>\n",
       "      <td>NaN</td>\n",
       "      <td>165</td>\n",
       "    </tr>\n",
       "  </tbody>\n",
       "</table>\n",
       "</div>"
      ],
      "text/plain": [
       "           Hale Ahmet Mert\n",
       "age          25  None   57\n",
       "department   CE    CE   CE\n",
       "gender      NaN     M    M\n",
       "height      168   NaN  165"
      ]
     },
     "execution_count": 170,
     "metadata": {},
     "output_type": "execute_result"
    }
   ],
   "source": [
    "stu_new = student.dropna(thresh=2)  # içinde NaN olan değerleri sildi.\n",
    "stu_new"
   ]
  },
  {
   "cell_type": "code",
   "execution_count": 205,
   "id": "77af042a-ea5b-43cf-a45a-35fb7e5b9fd8",
   "metadata": {},
   "outputs": [
    {
     "data": {
      "text/html": [
       "<div>\n",
       "<style scoped>\n",
       "    .dataframe tbody tr th:only-of-type {\n",
       "        vertical-align: middle;\n",
       "    }\n",
       "\n",
       "    .dataframe tbody tr th {\n",
       "        vertical-align: top;\n",
       "    }\n",
       "\n",
       "    .dataframe thead th {\n",
       "        text-align: right;\n",
       "    }\n",
       "</style>\n",
       "<table border=\"1\" class=\"dataframe\">\n",
       "  <thead>\n",
       "    <tr style=\"text-align: right;\">\n",
       "      <th></th>\n",
       "      <th>0</th>\n",
       "      <th>1</th>\n",
       "      <th>2</th>\n",
       "      <th>3</th>\n",
       "      <th>4</th>\n",
       "      <th>5</th>\n",
       "    </tr>\n",
       "  </thead>\n",
       "  <tbody>\n",
       "    <tr>\n",
       "      <th>0</th>\n",
       "      <td>0</td>\n",
       "      <td>NaN</td>\n",
       "      <td>2.0</td>\n",
       "      <td>3</td>\n",
       "      <td>4</td>\n",
       "      <td>5.0</td>\n",
       "    </tr>\n",
       "    <tr>\n",
       "      <th>1</th>\n",
       "      <td>6</td>\n",
       "      <td>NaN</td>\n",
       "      <td>8.0</td>\n",
       "      <td>9</td>\n",
       "      <td>10</td>\n",
       "      <td>11.0</td>\n",
       "    </tr>\n",
       "    <tr>\n",
       "      <th>2</th>\n",
       "      <td>12</td>\n",
       "      <td>NaN</td>\n",
       "      <td>NaN</td>\n",
       "      <td>15</td>\n",
       "      <td>16</td>\n",
       "      <td>17.0</td>\n",
       "    </tr>\n",
       "    <tr>\n",
       "      <th>3</th>\n",
       "      <td>18</td>\n",
       "      <td>NaN</td>\n",
       "      <td>NaN</td>\n",
       "      <td>21</td>\n",
       "      <td>22</td>\n",
       "      <td>23.0</td>\n",
       "    </tr>\n",
       "    <tr>\n",
       "      <th>4</th>\n",
       "      <td>24</td>\n",
       "      <td>25.0</td>\n",
       "      <td>26.0</td>\n",
       "      <td>27</td>\n",
       "      <td>28</td>\n",
       "      <td>NaN</td>\n",
       "    </tr>\n",
       "  </tbody>\n",
       "</table>\n",
       "</div>"
      ],
      "text/plain": [
       "    0     1     2   3   4     5\n",
       "0   0   NaN   2.0   3   4   5.0\n",
       "1   6   NaN   8.0   9  10  11.0\n",
       "2  12   NaN   NaN  15  16  17.0\n",
       "3  18   NaN   NaN  21  22  23.0\n",
       "4  24  25.0  26.0  27  28   NaN"
      ]
     },
     "execution_count": 205,
     "metadata": {},
     "output_type": "execute_result"
    }
   ],
   "source": [
    "import numpy as np\n",
    "df1 = pd.DataFrame(np.arange(30).reshape(5,6))\n",
    "df1.iloc[2:4,2:3] = np.nan\n",
    "df1.iloc[:4,1] = np.nan\n",
    "df1.iloc[4,5] = np.nan\n",
    "df1"
   ]
  },
  {
   "cell_type": "code",
   "execution_count": 199,
   "id": "70dd6c18-275d-4c2c-ae09-71b762a4b73d",
   "metadata": {},
   "outputs": [
    {
     "data": {
      "text/html": [
       "<div>\n",
       "<style scoped>\n",
       "    .dataframe tbody tr th:only-of-type {\n",
       "        vertical-align: middle;\n",
       "    }\n",
       "\n",
       "    .dataframe tbody tr th {\n",
       "        vertical-align: top;\n",
       "    }\n",
       "\n",
       "    .dataframe thead th {\n",
       "        text-align: right;\n",
       "    }\n",
       "</style>\n",
       "<table border=\"1\" class=\"dataframe\">\n",
       "  <thead>\n",
       "    <tr style=\"text-align: right;\">\n",
       "      <th></th>\n",
       "      <th>0</th>\n",
       "      <th>1</th>\n",
       "      <th>2</th>\n",
       "      <th>3</th>\n",
       "      <th>4</th>\n",
       "      <th>5</th>\n",
       "    </tr>\n",
       "  </thead>\n",
       "  <tbody>\n",
       "    <tr>\n",
       "      <th>0</th>\n",
       "      <td>0</td>\n",
       "      <td>NaN</td>\n",
       "      <td>2.0</td>\n",
       "      <td>3</td>\n",
       "      <td>4</td>\n",
       "      <td>5.0</td>\n",
       "    </tr>\n",
       "    <tr>\n",
       "      <th>1</th>\n",
       "      <td>6</td>\n",
       "      <td>NaN</td>\n",
       "      <td>8.0</td>\n",
       "      <td>9</td>\n",
       "      <td>10</td>\n",
       "      <td>11.0</td>\n",
       "    </tr>\n",
       "    <tr>\n",
       "      <th>2</th>\n",
       "      <td>12</td>\n",
       "      <td>NaN</td>\n",
       "      <td>NaN</td>\n",
       "      <td>15</td>\n",
       "      <td>16</td>\n",
       "      <td>17.0</td>\n",
       "    </tr>\n",
       "    <tr>\n",
       "      <th>3</th>\n",
       "      <td>18</td>\n",
       "      <td>NaN</td>\n",
       "      <td>NaN</td>\n",
       "      <td>21</td>\n",
       "      <td>22</td>\n",
       "      <td>23.0</td>\n",
       "    </tr>\n",
       "    <tr>\n",
       "      <th>4</th>\n",
       "      <td>24</td>\n",
       "      <td>25.0</td>\n",
       "      <td>26.0</td>\n",
       "      <td>27</td>\n",
       "      <td>28</td>\n",
       "      <td>NaN</td>\n",
       "    </tr>\n",
       "  </tbody>\n",
       "</table>\n",
       "</div>"
      ],
      "text/plain": [
       "    0     1     2   3   4     5\n",
       "0   0   NaN   2.0   3   4   5.0\n",
       "1   6   NaN   8.0   9  10  11.0\n",
       "2  12   NaN   NaN  15  16  17.0\n",
       "3  18   NaN   NaN  21  22  23.0\n",
       "4  24  25.0  26.0  27  28   NaN"
      ]
     },
     "execution_count": 199,
     "metadata": {},
     "output_type": "execute_result"
    }
   ],
   "source": [
    "df1.dropna(thresh=1)"
   ]
  },
  {
   "cell_type": "code",
   "execution_count": 200,
   "id": "7f962380-f4a7-4223-8ddc-dadfbbd70c69",
   "metadata": {},
   "outputs": [
    {
     "data": {
      "text/html": [
       "<div>\n",
       "<style scoped>\n",
       "    .dataframe tbody tr th:only-of-type {\n",
       "        vertical-align: middle;\n",
       "    }\n",
       "\n",
       "    .dataframe tbody tr th {\n",
       "        vertical-align: top;\n",
       "    }\n",
       "\n",
       "    .dataframe thead th {\n",
       "        text-align: right;\n",
       "    }\n",
       "</style>\n",
       "<table border=\"1\" class=\"dataframe\">\n",
       "  <thead>\n",
       "    <tr style=\"text-align: right;\">\n",
       "      <th></th>\n",
       "      <th>0</th>\n",
       "      <th>2</th>\n",
       "      <th>3</th>\n",
       "      <th>4</th>\n",
       "      <th>5</th>\n",
       "    </tr>\n",
       "  </thead>\n",
       "  <tbody>\n",
       "    <tr>\n",
       "      <th>0</th>\n",
       "      <td>0</td>\n",
       "      <td>2.0</td>\n",
       "      <td>3</td>\n",
       "      <td>4</td>\n",
       "      <td>5.0</td>\n",
       "    </tr>\n",
       "    <tr>\n",
       "      <th>1</th>\n",
       "      <td>6</td>\n",
       "      <td>8.0</td>\n",
       "      <td>9</td>\n",
       "      <td>10</td>\n",
       "      <td>11.0</td>\n",
       "    </tr>\n",
       "    <tr>\n",
       "      <th>2</th>\n",
       "      <td>12</td>\n",
       "      <td>NaN</td>\n",
       "      <td>15</td>\n",
       "      <td>16</td>\n",
       "      <td>17.0</td>\n",
       "    </tr>\n",
       "    <tr>\n",
       "      <th>3</th>\n",
       "      <td>18</td>\n",
       "      <td>NaN</td>\n",
       "      <td>21</td>\n",
       "      <td>22</td>\n",
       "      <td>23.0</td>\n",
       "    </tr>\n",
       "    <tr>\n",
       "      <th>4</th>\n",
       "      <td>24</td>\n",
       "      <td>26.0</td>\n",
       "      <td>27</td>\n",
       "      <td>28</td>\n",
       "      <td>NaN</td>\n",
       "    </tr>\n",
       "  </tbody>\n",
       "</table>\n",
       "</div>"
      ],
      "text/plain": [
       "    0     2   3   4     5\n",
       "0   0   2.0   3   4   5.0\n",
       "1   6   8.0   9  10  11.0\n",
       "2  12   NaN  15  16  17.0\n",
       "3  18   NaN  21  22  23.0\n",
       "4  24  26.0  27  28   NaN"
      ]
     },
     "execution_count": 200,
     "metadata": {},
     "output_type": "execute_result"
    }
   ],
   "source": [
    "df1.dropna(thresh=2, axis=1)"
   ]
  },
  {
   "cell_type": "code",
   "execution_count": 201,
   "id": "f5b73f68-2d50-4312-b9d3-462a4347c7fc",
   "metadata": {},
   "outputs": [
    {
     "data": {
      "text/html": [
       "<div>\n",
       "<style scoped>\n",
       "    .dataframe tbody tr th:only-of-type {\n",
       "        vertical-align: middle;\n",
       "    }\n",
       "\n",
       "    .dataframe tbody tr th {\n",
       "        vertical-align: top;\n",
       "    }\n",
       "\n",
       "    .dataframe thead th {\n",
       "        text-align: right;\n",
       "    }\n",
       "</style>\n",
       "<table border=\"1\" class=\"dataframe\">\n",
       "  <thead>\n",
       "    <tr style=\"text-align: right;\">\n",
       "      <th></th>\n",
       "      <th>0</th>\n",
       "      <th>2</th>\n",
       "      <th>3</th>\n",
       "      <th>4</th>\n",
       "      <th>5</th>\n",
       "    </tr>\n",
       "  </thead>\n",
       "  <tbody>\n",
       "    <tr>\n",
       "      <th>0</th>\n",
       "      <td>0</td>\n",
       "      <td>2.0</td>\n",
       "      <td>3</td>\n",
       "      <td>4</td>\n",
       "      <td>5.0</td>\n",
       "    </tr>\n",
       "    <tr>\n",
       "      <th>1</th>\n",
       "      <td>6</td>\n",
       "      <td>8.0</td>\n",
       "      <td>9</td>\n",
       "      <td>10</td>\n",
       "      <td>11.0</td>\n",
       "    </tr>\n",
       "    <tr>\n",
       "      <th>2</th>\n",
       "      <td>12</td>\n",
       "      <td>NaN</td>\n",
       "      <td>15</td>\n",
       "      <td>16</td>\n",
       "      <td>17.0</td>\n",
       "    </tr>\n",
       "    <tr>\n",
       "      <th>3</th>\n",
       "      <td>18</td>\n",
       "      <td>NaN</td>\n",
       "      <td>21</td>\n",
       "      <td>22</td>\n",
       "      <td>23.0</td>\n",
       "    </tr>\n",
       "    <tr>\n",
       "      <th>4</th>\n",
       "      <td>24</td>\n",
       "      <td>26.0</td>\n",
       "      <td>27</td>\n",
       "      <td>28</td>\n",
       "      <td>NaN</td>\n",
       "    </tr>\n",
       "  </tbody>\n",
       "</table>\n",
       "</div>"
      ],
      "text/plain": [
       "    0     2   3   4     5\n",
       "0   0   2.0   3   4   5.0\n",
       "1   6   8.0   9  10  11.0\n",
       "2  12   NaN  15  16  17.0\n",
       "3  18   NaN  21  22  23.0\n",
       "4  24  26.0  27  28   NaN"
      ]
     },
     "execution_count": 201,
     "metadata": {},
     "output_type": "execute_result"
    }
   ],
   "source": [
    "df1.dropna(thresh=3, axis=1)"
   ]
  },
  {
   "cell_type": "code",
   "execution_count": 206,
   "id": "78196954-9010-4233-86fc-f266e12e462d",
   "metadata": {},
   "outputs": [
    {
     "data": {
      "text/html": [
       "<div>\n",
       "<style scoped>\n",
       "    .dataframe tbody tr th:only-of-type {\n",
       "        vertical-align: middle;\n",
       "    }\n",
       "\n",
       "    .dataframe tbody tr th {\n",
       "        vertical-align: top;\n",
       "    }\n",
       "\n",
       "    .dataframe thead th {\n",
       "        text-align: right;\n",
       "    }\n",
       "</style>\n",
       "<table border=\"1\" class=\"dataframe\">\n",
       "  <thead>\n",
       "    <tr style=\"text-align: right;\">\n",
       "      <th></th>\n",
       "      <th>0</th>\n",
       "      <th>3</th>\n",
       "      <th>4</th>\n",
       "      <th>5</th>\n",
       "    </tr>\n",
       "  </thead>\n",
       "  <tbody>\n",
       "    <tr>\n",
       "      <th>0</th>\n",
       "      <td>0</td>\n",
       "      <td>3</td>\n",
       "      <td>4</td>\n",
       "      <td>5.0</td>\n",
       "    </tr>\n",
       "    <tr>\n",
       "      <th>1</th>\n",
       "      <td>6</td>\n",
       "      <td>9</td>\n",
       "      <td>10</td>\n",
       "      <td>11.0</td>\n",
       "    </tr>\n",
       "    <tr>\n",
       "      <th>2</th>\n",
       "      <td>12</td>\n",
       "      <td>15</td>\n",
       "      <td>16</td>\n",
       "      <td>17.0</td>\n",
       "    </tr>\n",
       "    <tr>\n",
       "      <th>3</th>\n",
       "      <td>18</td>\n",
       "      <td>21</td>\n",
       "      <td>22</td>\n",
       "      <td>23.0</td>\n",
       "    </tr>\n",
       "    <tr>\n",
       "      <th>4</th>\n",
       "      <td>24</td>\n",
       "      <td>27</td>\n",
       "      <td>28</td>\n",
       "      <td>NaN</td>\n",
       "    </tr>\n",
       "  </tbody>\n",
       "</table>\n",
       "</div>"
      ],
      "text/plain": [
       "    0   3   4     5\n",
       "0   0   3   4   5.0\n",
       "1   6   9  10  11.0\n",
       "2  12  15  16  17.0\n",
       "3  18  21  22  23.0\n",
       "4  24  27  28   NaN"
      ]
     },
     "execution_count": 206,
     "metadata": {},
     "output_type": "execute_result"
    }
   ],
   "source": [
    "df1.dropna(thresh=4, axis=1)"
   ]
  },
  {
   "cell_type": "code",
   "execution_count": 208,
   "id": "16ccc576-9f65-4433-8ed3-4f6b0e2c5d60",
   "metadata": {},
   "outputs": [
    {
     "data": {
      "text/html": [
       "<div>\n",
       "<style scoped>\n",
       "    .dataframe tbody tr th:only-of-type {\n",
       "        vertical-align: middle;\n",
       "    }\n",
       "\n",
       "    .dataframe tbody tr th {\n",
       "        vertical-align: top;\n",
       "    }\n",
       "\n",
       "    .dataframe thead th {\n",
       "        text-align: right;\n",
       "    }\n",
       "</style>\n",
       "<table border=\"1\" class=\"dataframe\">\n",
       "  <thead>\n",
       "    <tr style=\"text-align: right;\">\n",
       "      <th></th>\n",
       "      <th>movie</th>\n",
       "      <th>rating</th>\n",
       "      <th>name</th>\n",
       "    </tr>\n",
       "  </thead>\n",
       "  <tbody>\n",
       "    <tr>\n",
       "      <th>0</th>\n",
       "      <td>thg</td>\n",
       "      <td>3.0</td>\n",
       "      <td>John</td>\n",
       "    </tr>\n",
       "    <tr>\n",
       "      <th>1</th>\n",
       "      <td>thg</td>\n",
       "      <td>4.0</td>\n",
       "      <td>NaN</td>\n",
       "    </tr>\n",
       "    <tr>\n",
       "      <th>2</th>\n",
       "      <td>mol</td>\n",
       "      <td>5.0</td>\n",
       "      <td>N/A</td>\n",
       "    </tr>\n",
       "    <tr>\n",
       "      <th>3</th>\n",
       "      <td>mol</td>\n",
       "      <td>NaN</td>\n",
       "      <td>Graham</td>\n",
       "    </tr>\n",
       "    <tr>\n",
       "      <th>4</th>\n",
       "      <td>lob</td>\n",
       "      <td>NaN</td>\n",
       "      <td>NaN</td>\n",
       "    </tr>\n",
       "    <tr>\n",
       "      <th>5</th>\n",
       "      <td>lob</td>\n",
       "      <td>NaN</td>\n",
       "      <td>NaN</td>\n",
       "    </tr>\n",
       "  </tbody>\n",
       "</table>\n",
       "</div>"
      ],
      "text/plain": [
       "  movie  rating    name\n",
       "0   thg     3.0    John\n",
       "1   thg     4.0     NaN\n",
       "2   mol     5.0     N/A\n",
       "3   mol     NaN  Graham\n",
       "4   lob     NaN     NaN\n",
       "5   lob     NaN     NaN"
      ]
     },
     "execution_count": 208,
     "metadata": {},
     "output_type": "execute_result"
    }
   ],
   "source": [
    "df = pd.DataFrame({'movie': ['thg', 'thg', 'mol', 'mol', 'lob', 'lob'],\n",
    "                  'rating': [3., 4., 5., np.nan, np.nan, np.nan],\n",
    "                  'name': ['John', np.nan, 'N/A', 'Graham', np.nan, np.nan]})\n",
    "\n",
    "df"
   ]
  },
  {
   "cell_type": "code",
   "execution_count": 210,
   "id": "d12f7e9a-6bfb-4aec-b8de-695156a491c1",
   "metadata": {},
   "outputs": [
    {
     "data": {
      "text/html": [
       "<div>\n",
       "<style scoped>\n",
       "    .dataframe tbody tr th:only-of-type {\n",
       "        vertical-align: middle;\n",
       "    }\n",
       "\n",
       "    .dataframe tbody tr th {\n",
       "        vertical-align: top;\n",
       "    }\n",
       "\n",
       "    .dataframe thead th {\n",
       "        text-align: right;\n",
       "    }\n",
       "</style>\n",
       "<table border=\"1\" class=\"dataframe\">\n",
       "  <thead>\n",
       "    <tr style=\"text-align: right;\">\n",
       "      <th></th>\n",
       "      <th>movie</th>\n",
       "      <th>rating</th>\n",
       "      <th>name</th>\n",
       "    </tr>\n",
       "  </thead>\n",
       "  <tbody>\n",
       "    <tr>\n",
       "      <th>0</th>\n",
       "      <td>thg</td>\n",
       "      <td>3.0</td>\n",
       "      <td>John</td>\n",
       "    </tr>\n",
       "    <tr>\n",
       "      <th>1</th>\n",
       "      <td>thg</td>\n",
       "      <td>4.0</td>\n",
       "      <td>NaN</td>\n",
       "    </tr>\n",
       "    <tr>\n",
       "      <th>2</th>\n",
       "      <td>mol</td>\n",
       "      <td>5.0</td>\n",
       "      <td>N/A</td>\n",
       "    </tr>\n",
       "    <tr>\n",
       "      <th>3</th>\n",
       "      <td>mol</td>\n",
       "      <td>NaN</td>\n",
       "      <td>Graham</td>\n",
       "    </tr>\n",
       "    <tr>\n",
       "      <th>4</th>\n",
       "      <td>lob</td>\n",
       "      <td>NaN</td>\n",
       "      <td>NaN</td>\n",
       "    </tr>\n",
       "    <tr>\n",
       "      <th>5</th>\n",
       "      <td>lob</td>\n",
       "      <td>NaN</td>\n",
       "      <td>NaN</td>\n",
       "    </tr>\n",
       "  </tbody>\n",
       "</table>\n",
       "</div>"
      ],
      "text/plain": [
       "  movie  rating    name\n",
       "0   thg     3.0    John\n",
       "1   thg     4.0     NaN\n",
       "2   mol     5.0     N/A\n",
       "3   mol     NaN  Graham\n",
       "4   lob     NaN     NaN\n",
       "5   lob     NaN     NaN"
      ]
     },
     "execution_count": 210,
     "metadata": {},
     "output_type": "execute_result"
    }
   ],
   "source": [
    "df.dropna(thresh=1)"
   ]
  },
  {
   "cell_type": "code",
   "execution_count": 211,
   "id": "9ca4fc09-29a6-4287-99cc-61cbcb933d9e",
   "metadata": {},
   "outputs": [
    {
     "data": {
      "text/html": [
       "<div>\n",
       "<style scoped>\n",
       "    .dataframe tbody tr th:only-of-type {\n",
       "        vertical-align: middle;\n",
       "    }\n",
       "\n",
       "    .dataframe tbody tr th {\n",
       "        vertical-align: top;\n",
       "    }\n",
       "\n",
       "    .dataframe thead th {\n",
       "        text-align: right;\n",
       "    }\n",
       "</style>\n",
       "<table border=\"1\" class=\"dataframe\">\n",
       "  <thead>\n",
       "    <tr style=\"text-align: right;\">\n",
       "      <th></th>\n",
       "      <th>movie</th>\n",
       "      <th>rating</th>\n",
       "      <th>name</th>\n",
       "    </tr>\n",
       "  </thead>\n",
       "  <tbody>\n",
       "    <tr>\n",
       "      <th>0</th>\n",
       "      <td>thg</td>\n",
       "      <td>3.0</td>\n",
       "      <td>John</td>\n",
       "    </tr>\n",
       "    <tr>\n",
       "      <th>1</th>\n",
       "      <td>thg</td>\n",
       "      <td>4.0</td>\n",
       "      <td>NaN</td>\n",
       "    </tr>\n",
       "    <tr>\n",
       "      <th>2</th>\n",
       "      <td>mol</td>\n",
       "      <td>5.0</td>\n",
       "      <td>N/A</td>\n",
       "    </tr>\n",
       "    <tr>\n",
       "      <th>3</th>\n",
       "      <td>mol</td>\n",
       "      <td>NaN</td>\n",
       "      <td>Graham</td>\n",
       "    </tr>\n",
       "  </tbody>\n",
       "</table>\n",
       "</div>"
      ],
      "text/plain": [
       "  movie  rating    name\n",
       "0   thg     3.0    John\n",
       "1   thg     4.0     NaN\n",
       "2   mol     5.0     N/A\n",
       "3   mol     NaN  Graham"
      ]
     },
     "execution_count": 211,
     "metadata": {},
     "output_type": "execute_result"
    }
   ],
   "source": [
    "df.dropna(thresh=2)"
   ]
  },
  {
   "cell_type": "code",
   "execution_count": 213,
   "id": "650503c5-5980-4503-830c-4f0baaec855f",
   "metadata": {},
   "outputs": [
    {
     "data": {
      "text/html": [
       "<div>\n",
       "<style scoped>\n",
       "    .dataframe tbody tr th:only-of-type {\n",
       "        vertical-align: middle;\n",
       "    }\n",
       "\n",
       "    .dataframe tbody tr th {\n",
       "        vertical-align: top;\n",
       "    }\n",
       "\n",
       "    .dataframe thead th {\n",
       "        text-align: right;\n",
       "    }\n",
       "</style>\n",
       "<table border=\"1\" class=\"dataframe\">\n",
       "  <thead>\n",
       "    <tr style=\"text-align: right;\">\n",
       "      <th></th>\n",
       "      <th>movie</th>\n",
       "      <th>rating</th>\n",
       "      <th>name</th>\n",
       "    </tr>\n",
       "  </thead>\n",
       "  <tbody>\n",
       "    <tr>\n",
       "      <th>0</th>\n",
       "      <td>thg</td>\n",
       "      <td>3.0</td>\n",
       "      <td>John</td>\n",
       "    </tr>\n",
       "    <tr>\n",
       "      <th>1</th>\n",
       "      <td>thg</td>\n",
       "      <td>4.0</td>\n",
       "      <td>NaN</td>\n",
       "    </tr>\n",
       "    <tr>\n",
       "      <th>2</th>\n",
       "      <td>mol</td>\n",
       "      <td>5.0</td>\n",
       "      <td>N/A</td>\n",
       "    </tr>\n",
       "    <tr>\n",
       "      <th>3</th>\n",
       "      <td>mol</td>\n",
       "      <td>NaN</td>\n",
       "      <td>Graham</td>\n",
       "    </tr>\n",
       "    <tr>\n",
       "      <th>4</th>\n",
       "      <td>lob</td>\n",
       "      <td>NaN</td>\n",
       "      <td>NaN</td>\n",
       "    </tr>\n",
       "    <tr>\n",
       "      <th>5</th>\n",
       "      <td>lob</td>\n",
       "      <td>NaN</td>\n",
       "      <td>NaN</td>\n",
       "    </tr>\n",
       "  </tbody>\n",
       "</table>\n",
       "</div>"
      ],
      "text/plain": [
       "  movie  rating    name\n",
       "0   thg     3.0    John\n",
       "1   thg     4.0     NaN\n",
       "2   mol     5.0     N/A\n",
       "3   mol     NaN  Graham\n",
       "4   lob     NaN     NaN\n",
       "5   lob     NaN     NaN"
      ]
     },
     "execution_count": 213,
     "metadata": {},
     "output_type": "execute_result"
    }
   ],
   "source": [
    "df.dropna(thresh=3, axis=1)"
   ]
  },
  {
   "cell_type": "code",
   "execution_count": 216,
   "id": "e6943465-f347-41b1-8b0c-9f988d6a011f",
   "metadata": {},
   "outputs": [
    {
     "data": {
      "text/html": [
       "<div>\n",
       "<style scoped>\n",
       "    .dataframe tbody tr th:only-of-type {\n",
       "        vertical-align: middle;\n",
       "    }\n",
       "\n",
       "    .dataframe tbody tr th {\n",
       "        vertical-align: top;\n",
       "    }\n",
       "\n",
       "    .dataframe thead th {\n",
       "        text-align: right;\n",
       "    }\n",
       "</style>\n",
       "<table border=\"1\" class=\"dataframe\">\n",
       "  <thead>\n",
       "    <tr style=\"text-align: right;\">\n",
       "      <th></th>\n",
       "      <th>Hale</th>\n",
       "      <th>Ahmet</th>\n",
       "      <th>Mert</th>\n",
       "    </tr>\n",
       "  </thead>\n",
       "  <tbody>\n",
       "    <tr>\n",
       "      <th>age</th>\n",
       "      <td>25</td>\n",
       "      <td>None</td>\n",
       "      <td>57</td>\n",
       "    </tr>\n",
       "    <tr>\n",
       "      <th>department</th>\n",
       "      <td>CE</td>\n",
       "      <td>CE</td>\n",
       "      <td>CE</td>\n",
       "    </tr>\n",
       "    <tr>\n",
       "      <th>gender</th>\n",
       "      <td>NaN</td>\n",
       "      <td>M</td>\n",
       "      <td>M</td>\n",
       "    </tr>\n",
       "    <tr>\n",
       "      <th>height</th>\n",
       "      <td>168</td>\n",
       "      <td>NaN</td>\n",
       "      <td>165</td>\n",
       "    </tr>\n",
       "    <tr>\n",
       "      <th>surname</th>\n",
       "      <td>cetin</td>\n",
       "      <td>NaN</td>\n",
       "      <td>NaN</td>\n",
       "    </tr>\n",
       "  </tbody>\n",
       "</table>\n",
       "</div>"
      ],
      "text/plain": [
       "             Hale Ahmet Mert\n",
       "age            25  None   57\n",
       "department     CE    CE   CE\n",
       "gender        NaN     M    M\n",
       "height        168   NaN  165\n",
       "surname     cetin   NaN  NaN"
      ]
     },
     "execution_count": 216,
     "metadata": {},
     "output_type": "execute_result"
    }
   ],
   "source": [
    "student"
   ]
  },
  {
   "cell_type": "code",
   "execution_count": 215,
   "id": "e1b6ea62-9c97-4b09-9a23-eb3e6cf24fc1",
   "metadata": {},
   "outputs": [
    {
     "data": {
      "text/html": [
       "<div>\n",
       "<style scoped>\n",
       "    .dataframe tbody tr th:only-of-type {\n",
       "        vertical-align: middle;\n",
       "    }\n",
       "\n",
       "    .dataframe tbody tr th {\n",
       "        vertical-align: top;\n",
       "    }\n",
       "\n",
       "    .dataframe thead th {\n",
       "        text-align: right;\n",
       "    }\n",
       "</style>\n",
       "<table border=\"1\" class=\"dataframe\">\n",
       "  <thead>\n",
       "    <tr style=\"text-align: right;\">\n",
       "      <th></th>\n",
       "      <th>Hale</th>\n",
       "      <th>Ahmet</th>\n",
       "      <th>Mert</th>\n",
       "    </tr>\n",
       "  </thead>\n",
       "  <tbody>\n",
       "    <tr>\n",
       "      <th>age</th>\n",
       "      <td>25</td>\n",
       "      <td>None</td>\n",
       "      <td>57</td>\n",
       "    </tr>\n",
       "    <tr>\n",
       "      <th>department</th>\n",
       "      <td>CE</td>\n",
       "      <td>CE</td>\n",
       "      <td>CE</td>\n",
       "    </tr>\n",
       "    <tr>\n",
       "      <th>gender</th>\n",
       "      <td>CE</td>\n",
       "      <td>M</td>\n",
       "      <td>M</td>\n",
       "    </tr>\n",
       "    <tr>\n",
       "      <th>height</th>\n",
       "      <td>168</td>\n",
       "      <td>M</td>\n",
       "      <td>165</td>\n",
       "    </tr>\n",
       "    <tr>\n",
       "      <th>surname</th>\n",
       "      <td>cetin</td>\n",
       "      <td>M</td>\n",
       "      <td>165</td>\n",
       "    </tr>\n",
       "  </tbody>\n",
       "</table>\n",
       "</div>"
      ],
      "text/plain": [
       "             Hale Ahmet Mert\n",
       "age            25  None   57\n",
       "department     CE    CE   CE\n",
       "gender         CE     M    M\n",
       "height        168     M  165\n",
       "surname     cetin     M  165"
      ]
     },
     "execution_count": 215,
     "metadata": {},
     "output_type": "execute_result"
    }
   ],
   "source": [
    "y = student.fillna(method=\"ffill\", axis=0) \n",
    "y"
   ]
  },
  {
   "cell_type": "code",
   "execution_count": 217,
   "id": "2e0c67ab-336c-4872-847a-c69ac75926f9",
   "metadata": {},
   "outputs": [
    {
     "data": {
      "text/html": [
       "<div>\n",
       "<style scoped>\n",
       "    .dataframe tbody tr th:only-of-type {\n",
       "        vertical-align: middle;\n",
       "    }\n",
       "\n",
       "    .dataframe tbody tr th {\n",
       "        vertical-align: top;\n",
       "    }\n",
       "\n",
       "    .dataframe thead th {\n",
       "        text-align: right;\n",
       "    }\n",
       "</style>\n",
       "<table border=\"1\" class=\"dataframe\">\n",
       "  <thead>\n",
       "    <tr style=\"text-align: right;\">\n",
       "      <th></th>\n",
       "      <th>Hale</th>\n",
       "      <th>Ahmet</th>\n",
       "      <th>Mert</th>\n",
       "    </tr>\n",
       "  </thead>\n",
       "  <tbody>\n",
       "    <tr>\n",
       "      <th>age</th>\n",
       "      <td>25</td>\n",
       "      <td>25</td>\n",
       "      <td>57</td>\n",
       "    </tr>\n",
       "    <tr>\n",
       "      <th>department</th>\n",
       "      <td>CE</td>\n",
       "      <td>CE</td>\n",
       "      <td>CE</td>\n",
       "    </tr>\n",
       "    <tr>\n",
       "      <th>gender</th>\n",
       "      <td>NaN</td>\n",
       "      <td>M</td>\n",
       "      <td>M</td>\n",
       "    </tr>\n",
       "    <tr>\n",
       "      <th>height</th>\n",
       "      <td>168</td>\n",
       "      <td>168</td>\n",
       "      <td>165</td>\n",
       "    </tr>\n",
       "    <tr>\n",
       "      <th>surname</th>\n",
       "      <td>cetin</td>\n",
       "      <td>cetin</td>\n",
       "      <td>cetin</td>\n",
       "    </tr>\n",
       "  </tbody>\n",
       "</table>\n",
       "</div>"
      ],
      "text/plain": [
       "             Hale  Ahmet   Mert\n",
       "age            25     25     57\n",
       "department     CE     CE     CE\n",
       "gender        NaN      M      M\n",
       "height        168    168    165\n",
       "surname     cetin  cetin  cetin"
      ]
     },
     "execution_count": 217,
     "metadata": {},
     "output_type": "execute_result"
    }
   ],
   "source": [
    "y = student.fillna(method=\"ffill\", axis=1) \n",
    "y"
   ]
  },
  {
   "cell_type": "code",
   "execution_count": 3,
   "id": "801c3463-c0a7-44b9-b810-9da83715610d",
   "metadata": {},
   "outputs": [
    {
     "data": {
      "text/html": [
       "<div>\n",
       "<style scoped>\n",
       "    .dataframe tbody tr th:only-of-type {\n",
       "        vertical-align: middle;\n",
       "    }\n",
       "\n",
       "    .dataframe tbody tr th {\n",
       "        vertical-align: top;\n",
       "    }\n",
       "\n",
       "    .dataframe thead th {\n",
       "        text-align: right;\n",
       "    }\n",
       "</style>\n",
       "<table border=\"1\" class=\"dataframe\">\n",
       "  <thead>\n",
       "    <tr style=\"text-align: right;\">\n",
       "      <th></th>\n",
       "      <th>InvoiceNo</th>\n",
       "      <th>StockCode</th>\n",
       "      <th>Description</th>\n",
       "      <th>Quantity</th>\n",
       "      <th>InvoiceDate</th>\n",
       "      <th>UnitPrice</th>\n",
       "      <th>CustomerID</th>\n",
       "      <th>Country</th>\n",
       "    </tr>\n",
       "  </thead>\n",
       "  <tbody>\n",
       "    <tr>\n",
       "      <th>0</th>\n",
       "      <td>536365</td>\n",
       "      <td>85123A</td>\n",
       "      <td>WHITE HANGING HEART T-LIGHT HOLDER</td>\n",
       "      <td>6</td>\n",
       "      <td>12/1/2010 8:26</td>\n",
       "      <td>2.55</td>\n",
       "      <td>17850.0</td>\n",
       "      <td>United Kingdom</td>\n",
       "    </tr>\n",
       "    <tr>\n",
       "      <th>1</th>\n",
       "      <td>536365</td>\n",
       "      <td>71053</td>\n",
       "      <td>WHITE METAL LANTERN</td>\n",
       "      <td>6</td>\n",
       "      <td>12/1/2010 8:26</td>\n",
       "      <td>3.39</td>\n",
       "      <td>17850.0</td>\n",
       "      <td>United Kingdom</td>\n",
       "    </tr>\n",
       "    <tr>\n",
       "      <th>2</th>\n",
       "      <td>536365</td>\n",
       "      <td>84406B</td>\n",
       "      <td>CREAM CUPID HEARTS COAT HANGER</td>\n",
       "      <td>8</td>\n",
       "      <td>12/1/2010 8:26</td>\n",
       "      <td>2.75</td>\n",
       "      <td>17850.0</td>\n",
       "      <td>United Kingdom</td>\n",
       "    </tr>\n",
       "    <tr>\n",
       "      <th>3</th>\n",
       "      <td>536365</td>\n",
       "      <td>84029G</td>\n",
       "      <td>KNITTED UNION FLAG HOT WATER BOTTLE</td>\n",
       "      <td>6</td>\n",
       "      <td>12/1/2010 8:26</td>\n",
       "      <td>3.39</td>\n",
       "      <td>17850.0</td>\n",
       "      <td>United Kingdom</td>\n",
       "    </tr>\n",
       "    <tr>\n",
       "      <th>4</th>\n",
       "      <td>536365</td>\n",
       "      <td>84029E</td>\n",
       "      <td>RED WOOLLY HOTTIE WHITE HEART.</td>\n",
       "      <td>6</td>\n",
       "      <td>12/1/2010 8:26</td>\n",
       "      <td>3.39</td>\n",
       "      <td>17850.0</td>\n",
       "      <td>United Kingdom</td>\n",
       "    </tr>\n",
       "    <tr>\n",
       "      <th>...</th>\n",
       "      <td>...</td>\n",
       "      <td>...</td>\n",
       "      <td>...</td>\n",
       "      <td>...</td>\n",
       "      <td>...</td>\n",
       "      <td>...</td>\n",
       "      <td>...</td>\n",
       "      <td>...</td>\n",
       "    </tr>\n",
       "    <tr>\n",
       "      <th>541904</th>\n",
       "      <td>581587</td>\n",
       "      <td>22613</td>\n",
       "      <td>PACK OF 20 SPACEBOY NAPKINS</td>\n",
       "      <td>12</td>\n",
       "      <td>12/9/2011 12:50</td>\n",
       "      <td>0.85</td>\n",
       "      <td>12680.0</td>\n",
       "      <td>France</td>\n",
       "    </tr>\n",
       "    <tr>\n",
       "      <th>541905</th>\n",
       "      <td>581587</td>\n",
       "      <td>22899</td>\n",
       "      <td>CHILDREN'S APRON DOLLY GIRL</td>\n",
       "      <td>6</td>\n",
       "      <td>12/9/2011 12:50</td>\n",
       "      <td>2.10</td>\n",
       "      <td>12680.0</td>\n",
       "      <td>France</td>\n",
       "    </tr>\n",
       "    <tr>\n",
       "      <th>541906</th>\n",
       "      <td>581587</td>\n",
       "      <td>23254</td>\n",
       "      <td>CHILDRENS CUTLERY DOLLY GIRL</td>\n",
       "      <td>4</td>\n",
       "      <td>12/9/2011 12:50</td>\n",
       "      <td>4.15</td>\n",
       "      <td>12680.0</td>\n",
       "      <td>France</td>\n",
       "    </tr>\n",
       "    <tr>\n",
       "      <th>541907</th>\n",
       "      <td>581587</td>\n",
       "      <td>23255</td>\n",
       "      <td>CHILDRENS CUTLERY CIRCUS PARADE</td>\n",
       "      <td>4</td>\n",
       "      <td>12/9/2011 12:50</td>\n",
       "      <td>4.15</td>\n",
       "      <td>12680.0</td>\n",
       "      <td>France</td>\n",
       "    </tr>\n",
       "    <tr>\n",
       "      <th>541908</th>\n",
       "      <td>581587</td>\n",
       "      <td>22138</td>\n",
       "      <td>BAKING SET 9 PIECE RETROSPOT</td>\n",
       "      <td>3</td>\n",
       "      <td>12/9/2011 12:50</td>\n",
       "      <td>4.95</td>\n",
       "      <td>12680.0</td>\n",
       "      <td>France</td>\n",
       "    </tr>\n",
       "  </tbody>\n",
       "</table>\n",
       "<p>541909 rows × 8 columns</p>\n",
       "</div>"
      ],
      "text/plain": [
       "       InvoiceNo StockCode                          Description  Quantity  \\\n",
       "0         536365    85123A   WHITE HANGING HEART T-LIGHT HOLDER         6   \n",
       "1         536365     71053                  WHITE METAL LANTERN         6   \n",
       "2         536365    84406B       CREAM CUPID HEARTS COAT HANGER         8   \n",
       "3         536365    84029G  KNITTED UNION FLAG HOT WATER BOTTLE         6   \n",
       "4         536365    84029E       RED WOOLLY HOTTIE WHITE HEART.         6   \n",
       "...          ...       ...                                  ...       ...   \n",
       "541904    581587     22613          PACK OF 20 SPACEBOY NAPKINS        12   \n",
       "541905    581587     22899         CHILDREN'S APRON DOLLY GIRL          6   \n",
       "541906    581587     23254        CHILDRENS CUTLERY DOLLY GIRL          4   \n",
       "541907    581587     23255      CHILDRENS CUTLERY CIRCUS PARADE         4   \n",
       "541908    581587     22138        BAKING SET 9 PIECE RETROSPOT          3   \n",
       "\n",
       "            InvoiceDate  UnitPrice  CustomerID         Country  \n",
       "0        12/1/2010 8:26       2.55     17850.0  United Kingdom  \n",
       "1        12/1/2010 8:26       3.39     17850.0  United Kingdom  \n",
       "2        12/1/2010 8:26       2.75     17850.0  United Kingdom  \n",
       "3        12/1/2010 8:26       3.39     17850.0  United Kingdom  \n",
       "4        12/1/2010 8:26       3.39     17850.0  United Kingdom  \n",
       "...                 ...        ...         ...             ...  \n",
       "541904  12/9/2011 12:50       0.85     12680.0          France  \n",
       "541905  12/9/2011 12:50       2.10     12680.0          France  \n",
       "541906  12/9/2011 12:50       4.15     12680.0          France  \n",
       "541907  12/9/2011 12:50       4.15     12680.0          France  \n",
       "541908  12/9/2011 12:50       4.95     12680.0          France  \n",
       "\n",
       "[541909 rows x 8 columns]"
      ]
     },
     "execution_count": 3,
     "metadata": {},
     "output_type": "execute_result"
    }
   ],
   "source": [
    "import pandas as pd\n",
    "import numpy as np\n",
    "data = pd.read_csv(\"C:\\\\Users\\\\HP\\\\DATA_SCIENCE_COURSE_NOTES\\\\Datalar\\\\data.csv\", sep=\",\") # encoding=\"utf-8\", engine=\"python\" gibi alacağımız hataya göre ek parametler yazabiliriz.\n",
    "data"
   ]
  },
  {
   "cell_type": "code",
   "execution_count": 4,
   "id": "b3a131fa-2c75-417b-a5cf-34c7ddb48da6",
   "metadata": {},
   "outputs": [
    {
     "name": "stdout",
     "output_type": "stream",
     "text": [
      "<class 'pandas.core.frame.DataFrame'>\n",
      "RangeIndex: 541909 entries, 0 to 541908\n",
      "Data columns (total 8 columns):\n",
      " #   Column       Non-Null Count   Dtype  \n",
      "---  ------       --------------   -----  \n",
      " 0   InvoiceNo    541909 non-null  object \n",
      " 1   StockCode    541909 non-null  object \n",
      " 2   Description  540455 non-null  object \n",
      " 3   Quantity     541909 non-null  int64  \n",
      " 4   InvoiceDate  541909 non-null  object \n",
      " 5   UnitPrice    541909 non-null  float64\n",
      " 6   CustomerID   406829 non-null  float64\n",
      " 7   Country      541909 non-null  object \n",
      "dtypes: float64(2), int64(1), object(5)\n",
      "memory usage: 33.1+ MB\n"
     ]
    }
   ],
   "source": [
    "data.info()"
   ]
  },
  {
   "cell_type": "code",
   "execution_count": 5,
   "id": "03c13e2f-27aa-48f7-9f23-e3b9d958b725",
   "metadata": {},
   "outputs": [
    {
     "data": {
      "text/plain": [
       "2"
      ]
     },
     "execution_count": 5,
     "metadata": {},
     "output_type": "execute_result"
    }
   ],
   "source": [
    "data.ndim"
   ]
  },
  {
   "cell_type": "code",
   "execution_count": 6,
   "id": "63613a3a-2834-4684-b0a6-c38373bce6b7",
   "metadata": {},
   "outputs": [
    {
     "data": {
      "text/plain": [
       "(541909, 8)"
      ]
     },
     "execution_count": 6,
     "metadata": {},
     "output_type": "execute_result"
    }
   ],
   "source": [
    "data.shape"
   ]
  },
  {
   "cell_type": "code",
   "execution_count": 7,
   "id": "2f3812cb-4f67-461d-87ae-d376aa059ab6",
   "metadata": {},
   "outputs": [
    {
     "data": {
      "text/plain": [
       "4335272"
      ]
     },
     "execution_count": 7,
     "metadata": {},
     "output_type": "execute_result"
    }
   ],
   "source": [
    "data.size"
   ]
  },
  {
   "cell_type": "code",
   "execution_count": 8,
   "id": "bbbb1b99-4f5b-44b6-ad7e-8519843cd0d2",
   "metadata": {},
   "outputs": [
    {
     "data": {
      "text/plain": [
       "Index(['InvoiceNo', 'StockCode', 'Description', 'Quantity', 'InvoiceDate',\n",
       "       'UnitPrice', 'CustomerID', 'Country'],\n",
       "      dtype='object')"
      ]
     },
     "execution_count": 8,
     "metadata": {},
     "output_type": "execute_result"
    }
   ],
   "source": [
    "data.columns"
   ]
  },
  {
   "cell_type": "code",
   "execution_count": 9,
   "id": "fbca8806-a0bb-4bcc-9bc4-92721b1d2cba",
   "metadata": {},
   "outputs": [
    {
     "data": {
      "text/plain": [
       "Index              128\n",
       "InvoiceNo      4335272\n",
       "StockCode      4335272\n",
       "Description    4335272\n",
       "Quantity       4335272\n",
       "InvoiceDate    4335272\n",
       "UnitPrice      4335272\n",
       "CustomerID     4335272\n",
       "Country        4335272\n",
       "dtype: int64"
      ]
     },
     "execution_count": 9,
     "metadata": {},
     "output_type": "execute_result"
    }
   ],
   "source": [
    "data.memory_usage()"
   ]
  },
  {
   "cell_type": "code",
   "execution_count": 10,
   "id": "3b4f312d-c5c6-41c4-a718-fdd161be9f2b",
   "metadata": {},
   "outputs": [
    {
     "data": {
      "text/plain": [
       "5176450"
      ]
     },
     "execution_count": 10,
     "metadata": {},
     "output_type": "execute_result"
    }
   ],
   "source": [
    "data.Quantity.sum()"
   ]
  },
  {
   "cell_type": "code",
   "execution_count": 11,
   "id": "00b090ed-d450-4cb2-bc0a-f03c53e4b1a0",
   "metadata": {},
   "outputs": [
    {
     "data": {
      "text/html": [
       "<div>\n",
       "<style scoped>\n",
       "    .dataframe tbody tr th:only-of-type {\n",
       "        vertical-align: middle;\n",
       "    }\n",
       "\n",
       "    .dataframe tbody tr th {\n",
       "        vertical-align: top;\n",
       "    }\n",
       "\n",
       "    .dataframe thead th {\n",
       "        text-align: right;\n",
       "    }\n",
       "</style>\n",
       "<table border=\"1\" class=\"dataframe\">\n",
       "  <thead>\n",
       "    <tr style=\"text-align: right;\">\n",
       "      <th></th>\n",
       "      <th>InvoiceNo</th>\n",
       "      <th>StockCode</th>\n",
       "      <th>Description</th>\n",
       "      <th>Quantity</th>\n",
       "      <th>InvoiceDate</th>\n",
       "      <th>UnitPrice</th>\n",
       "      <th>CustomerID</th>\n",
       "      <th>Country</th>\n",
       "    </tr>\n",
       "  </thead>\n",
       "  <tbody>\n",
       "    <tr>\n",
       "      <th>0</th>\n",
       "      <td>536365</td>\n",
       "      <td>85123A</td>\n",
       "      <td>WHITE HANGING HEART T-LIGHT HOLDER</td>\n",
       "      <td>6</td>\n",
       "      <td>12/1/2010 8:26</td>\n",
       "      <td>2.55</td>\n",
       "      <td>17850.0</td>\n",
       "      <td>United Kingdom</td>\n",
       "    </tr>\n",
       "    <tr>\n",
       "      <th>1</th>\n",
       "      <td>536365</td>\n",
       "      <td>71053</td>\n",
       "      <td>WHITE METAL LANTERN</td>\n",
       "      <td>6</td>\n",
       "      <td>12/1/2010 8:26</td>\n",
       "      <td>3.39</td>\n",
       "      <td>17850.0</td>\n",
       "      <td>United Kingdom</td>\n",
       "    </tr>\n",
       "    <tr>\n",
       "      <th>2</th>\n",
       "      <td>536365</td>\n",
       "      <td>84406B</td>\n",
       "      <td>CREAM CUPID HEARTS COAT HANGER</td>\n",
       "      <td>8</td>\n",
       "      <td>12/1/2010 8:26</td>\n",
       "      <td>2.75</td>\n",
       "      <td>17850.0</td>\n",
       "      <td>United Kingdom</td>\n",
       "    </tr>\n",
       "    <tr>\n",
       "      <th>3</th>\n",
       "      <td>536365</td>\n",
       "      <td>84029G</td>\n",
       "      <td>KNITTED UNION FLAG HOT WATER BOTTLE</td>\n",
       "      <td>6</td>\n",
       "      <td>12/1/2010 8:26</td>\n",
       "      <td>3.39</td>\n",
       "      <td>17850.0</td>\n",
       "      <td>United Kingdom</td>\n",
       "    </tr>\n",
       "    <tr>\n",
       "      <th>4</th>\n",
       "      <td>536365</td>\n",
       "      <td>84029E</td>\n",
       "      <td>RED WOOLLY HOTTIE WHITE HEART.</td>\n",
       "      <td>6</td>\n",
       "      <td>12/1/2010 8:26</td>\n",
       "      <td>3.39</td>\n",
       "      <td>17850.0</td>\n",
       "      <td>United Kingdom</td>\n",
       "    </tr>\n",
       "  </tbody>\n",
       "</table>\n",
       "</div>"
      ],
      "text/plain": [
       "  InvoiceNo StockCode                          Description  Quantity  \\\n",
       "0    536365    85123A   WHITE HANGING HEART T-LIGHT HOLDER         6   \n",
       "1    536365     71053                  WHITE METAL LANTERN         6   \n",
       "2    536365    84406B       CREAM CUPID HEARTS COAT HANGER         8   \n",
       "3    536365    84029G  KNITTED UNION FLAG HOT WATER BOTTLE         6   \n",
       "4    536365    84029E       RED WOOLLY HOTTIE WHITE HEART.         6   \n",
       "\n",
       "      InvoiceDate  UnitPrice  CustomerID         Country  \n",
       "0  12/1/2010 8:26       2.55     17850.0  United Kingdom  \n",
       "1  12/1/2010 8:26       3.39     17850.0  United Kingdom  \n",
       "2  12/1/2010 8:26       2.75     17850.0  United Kingdom  \n",
       "3  12/1/2010 8:26       3.39     17850.0  United Kingdom  \n",
       "4  12/1/2010 8:26       3.39     17850.0  United Kingdom  "
      ]
     },
     "execution_count": 11,
     "metadata": {},
     "output_type": "execute_result"
    }
   ],
   "source": [
    "data.head(5)"
   ]
  },
  {
   "cell_type": "code",
   "execution_count": 13,
   "id": "6af7bdff-1f45-4b06-8efa-62f3c4120ec8",
   "metadata": {},
   "outputs": [
    {
     "data": {
      "text/plain": [
       "United Kingdom          495478\n",
       "Germany                   9495\n",
       "France                    8557\n",
       "EIRE                      8196\n",
       "Spain                     2533\n",
       "Netherlands               2371\n",
       "Belgium                   2069\n",
       "Switzerland               2002\n",
       "Portugal                  1519\n",
       "Australia                 1259\n",
       "Norway                    1086\n",
       "Italy                      803\n",
       "Channel Islands            758\n",
       "Finland                    695\n",
       "Cyprus                     622\n",
       "Sweden                     462\n",
       "Unspecified                446\n",
       "Austria                    401\n",
       "Denmark                    389\n",
       "Japan                      358\n",
       "Poland                     341\n",
       "Israel                     297\n",
       "USA                        291\n",
       "Hong Kong                  288\n",
       "Singapore                  229\n",
       "Iceland                    182\n",
       "Canada                     151\n",
       "Greece                     146\n",
       "Malta                      127\n",
       "United Arab Emirates        68\n",
       "European Community          61\n",
       "RSA                         58\n",
       "Lebanon                     45\n",
       "Lithuania                   35\n",
       "Brazil                      32\n",
       "Czech Republic              30\n",
       "Bahrain                     19\n",
       "Saudi Arabia                10\n",
       "Name: Country, dtype: int64"
      ]
     },
     "execution_count": 13,
     "metadata": {},
     "output_type": "execute_result"
    }
   ],
   "source": [
    "data[\"Country\"].value_counts()  # değerlerin kaç kere kullanıldığını gösterir."
   ]
  },
  {
   "cell_type": "code",
   "execution_count": 14,
   "id": "f28ff636-e471-491c-b6e0-08dd98ff4654",
   "metadata": {},
   "outputs": [
    {
     "data": {
      "text/plain": [
       "WHITE HANGING HEART T-LIGHT HOLDER     2369\n",
       "REGENCY CAKESTAND 3 TIER               2200\n",
       "JUMBO BAG RED RETROSPOT                2159\n",
       "PARTY BUNTING                          1727\n",
       "LUNCH BAG RED RETROSPOT                1638\n",
       "                                       ... \n",
       "FILIGREE DIAMANTE CHAIN                   1\n",
       "NECKLACE+BRACELET SET PINK DAISY          1\n",
       "HEAVENS SCENT FRAGRANCE OILS ASSTD        1\n",
       "*Boombox Ipod Classic                     1\n",
       "Dotcomgiftshop Gift Voucher �100.00       1\n",
       "Name: Description, Length: 4223, dtype: int64"
      ]
     },
     "execution_count": 14,
     "metadata": {},
     "output_type": "execute_result"
    }
   ],
   "source": [
    "data[\"Description\"].value_counts()"
   ]
  },
  {
   "cell_type": "code",
   "execution_count": 15,
   "id": "9b4dc011-b203-4554-bc86-260d3ca5ef07",
   "metadata": {},
   "outputs": [
    {
     "data": {
      "text/plain": [
       "17841.0    7983\n",
       "14911.0    5903\n",
       "14096.0    5128\n",
       "12748.0    4642\n",
       "14606.0    2782\n",
       "           ... \n",
       "14351.0       1\n",
       "13256.0       1\n",
       "12943.0       1\n",
       "17923.0       1\n",
       "13747.0       1\n",
       "Name: CustomerID, Length: 4372, dtype: int64"
      ]
     },
     "execution_count": 15,
     "metadata": {},
     "output_type": "execute_result"
    }
   ],
   "source": [
    "data[\"CustomerID\"].value_counts()"
   ]
  },
  {
   "cell_type": "code",
   "execution_count": 18,
   "id": "b4ddc5d9-e8ab-45e8-97b5-a8c1531879f9",
   "metadata": {},
   "outputs": [
    {
     "data": {
      "text/plain": [
       "222681    38970.00\n",
       "524602    17836.46\n",
       "43702     16888.02\n",
       "43703     16453.71\n",
       "15017     13541.33\n",
       "            ...   \n",
       "128465        0.00\n",
       "128464        0.00\n",
       "40089         0.00\n",
       "299984   -11062.06\n",
       "299983   -11062.06\n",
       "Name: UnitPrice, Length: 541909, dtype: float64"
      ]
     },
     "execution_count": 18,
     "metadata": {},
     "output_type": "execute_result"
    }
   ],
   "source": [
    "data[\"UnitPrice\"].sort_values(ascending=False)"
   ]
  },
  {
   "cell_type": "code",
   "execution_count": 21,
   "id": "180e0e16-c4dd-4fa2-8fce-614da638c522",
   "metadata": {},
   "outputs": [
    {
     "data": {
      "text/plain": [
       "United Kingdom          495478\n",
       "Germany                   9495\n",
       "France                    8557\n",
       "EIRE                      8196\n",
       "Spain                     2533\n",
       "Netherlands               2371\n",
       "Belgium                   2069\n",
       "Switzerland               2002\n",
       "Portugal                  1519\n",
       "Australia                 1259\n",
       "Norway                    1086\n",
       "Italy                      803\n",
       "Channel Islands            758\n",
       "Finland                    695\n",
       "Cyprus                     622\n",
       "Sweden                     462\n",
       "Unspecified                446\n",
       "Austria                    401\n",
       "Denmark                    389\n",
       "Japan                      358\n",
       "Poland                     341\n",
       "Israel                     297\n",
       "USA                        291\n",
       "Hong Kong                  288\n",
       "Singapore                  229\n",
       "Iceland                    182\n",
       "Canada                     151\n",
       "Greece                     146\n",
       "Malta                      127\n",
       "United Arab Emirates        68\n",
       "European Community          61\n",
       "RSA                         58\n",
       "Lebanon                     45\n",
       "Lithuania                   35\n",
       "Brazil                      32\n",
       "Czech Republic              30\n",
       "Bahrain                     19\n",
       "Saudi Arabia                10\n",
       "Name: Country, dtype: int64"
      ]
     },
     "execution_count": 21,
     "metadata": {},
     "output_type": "execute_result"
    }
   ],
   "source": [
    "data[\"Country\"].sort_values().value_counts()"
   ]
  },
  {
   "cell_type": "code",
   "execution_count": 23,
   "id": "fed467ab-c396-475a-86f9-b13c2aeafa23",
   "metadata": {},
   "outputs": [
    {
     "data": {
      "text/plain": [
       "United Kingdom          495478\n",
       "Germany                   9495\n",
       "France                    8557\n",
       "EIRE                      8196\n",
       "Spain                     2533\n",
       "Netherlands               2371\n",
       "Belgium                   2069\n",
       "Switzerland               2002\n",
       "Portugal                  1519\n",
       "Australia                 1259\n",
       "Norway                    1086\n",
       "Italy                      803\n",
       "Channel Islands            758\n",
       "Finland                    695\n",
       "Cyprus                     622\n",
       "Sweden                     462\n",
       "Unspecified                446\n",
       "Austria                    401\n",
       "Denmark                    389\n",
       "Japan                      358\n",
       "Poland                     341\n",
       "Israel                     297\n",
       "USA                        291\n",
       "Hong Kong                  288\n",
       "Singapore                  229\n",
       "Iceland                    182\n",
       "Canada                     151\n",
       "Greece                     146\n",
       "Malta                      127\n",
       "United Arab Emirates        68\n",
       "European Community          61\n",
       "RSA                         58\n",
       "Lebanon                     45\n",
       "Lithuania                   35\n",
       "Brazil                      32\n",
       "Czech Republic              30\n",
       "Bahrain                     19\n",
       "Saudi Arabia                10\n",
       "Name: Country, dtype: int64"
      ]
     },
     "execution_count": 23,
     "metadata": {},
     "output_type": "execute_result"
    }
   ],
   "source": [
    "data[\"Country\"].value_counts().sort_values(ascending=False)"
   ]
  },
  {
   "cell_type": "code",
   "execution_count": 24,
   "id": "2d0703cb-1da6-442d-85bb-2718a8c6080f",
   "metadata": {},
   "outputs": [
    {
     "data": {
      "text/plain": [
       "0         False\n",
       "1         False\n",
       "2         False\n",
       "3         False\n",
       "4         False\n",
       "          ...  \n",
       "541904    False\n",
       "541905    False\n",
       "541906    False\n",
       "541907    False\n",
       "541908    False\n",
       "Name: Country, Length: 541909, dtype: bool"
      ]
     },
     "execution_count": 24,
     "metadata": {},
     "output_type": "execute_result"
    }
   ],
   "source": [
    "data[\"Country\"]==\"Germany\""
   ]
  },
  {
   "cell_type": "code",
   "execution_count": 33,
   "id": "b16d53e5-066f-41aa-be4f-b74ca98b7609",
   "metadata": {},
   "outputs": [
    {
     "data": {
      "text/html": [
       "<div>\n",
       "<style scoped>\n",
       "    .dataframe tbody tr th:only-of-type {\n",
       "        vertical-align: middle;\n",
       "    }\n",
       "\n",
       "    .dataframe tbody tr th {\n",
       "        vertical-align: top;\n",
       "    }\n",
       "\n",
       "    .dataframe thead th {\n",
       "        text-align: right;\n",
       "    }\n",
       "</style>\n",
       "<table border=\"1\" class=\"dataframe\">\n",
       "  <thead>\n",
       "    <tr style=\"text-align: right;\">\n",
       "      <th></th>\n",
       "      <th>InvoiceNo</th>\n",
       "      <th>StockCode</th>\n",
       "      <th>Description</th>\n",
       "      <th>Quantity</th>\n",
       "      <th>InvoiceDate</th>\n",
       "      <th>UnitPrice</th>\n",
       "      <th>CustomerID</th>\n",
       "      <th>Country</th>\n",
       "    </tr>\n",
       "  </thead>\n",
       "  <tbody>\n",
       "    <tr>\n",
       "      <th>0</th>\n",
       "      <td>536365</td>\n",
       "      <td>85123A</td>\n",
       "      <td>WHITE HANGING HEART T-LIGHT HOLDER</td>\n",
       "      <td>6</td>\n",
       "      <td>12/1/2010 8:26</td>\n",
       "      <td>2.55</td>\n",
       "      <td>17850.0</td>\n",
       "      <td>United Kingdom</td>\n",
       "    </tr>\n",
       "    <tr>\n",
       "      <th>1</th>\n",
       "      <td>536365</td>\n",
       "      <td>71053</td>\n",
       "      <td>WHITE METAL LANTERN</td>\n",
       "      <td>6</td>\n",
       "      <td>12/1/2010 8:26</td>\n",
       "      <td>3.39</td>\n",
       "      <td>17850.0</td>\n",
       "      <td>United Kingdom</td>\n",
       "    </tr>\n",
       "    <tr>\n",
       "      <th>2</th>\n",
       "      <td>536365</td>\n",
       "      <td>84406B</td>\n",
       "      <td>CREAM CUPID HEARTS COAT HANGER</td>\n",
       "      <td>8</td>\n",
       "      <td>12/1/2010 8:26</td>\n",
       "      <td>2.75</td>\n",
       "      <td>17850.0</td>\n",
       "      <td>United Kingdom</td>\n",
       "    </tr>\n",
       "    <tr>\n",
       "      <th>3</th>\n",
       "      <td>536365</td>\n",
       "      <td>84029G</td>\n",
       "      <td>KNITTED UNION FLAG HOT WATER BOTTLE</td>\n",
       "      <td>6</td>\n",
       "      <td>12/1/2010 8:26</td>\n",
       "      <td>3.39</td>\n",
       "      <td>17850.0</td>\n",
       "      <td>United Kingdom</td>\n",
       "    </tr>\n",
       "    <tr>\n",
       "      <th>4</th>\n",
       "      <td>536365</td>\n",
       "      <td>84029E</td>\n",
       "      <td>RED WOOLLY HOTTIE WHITE HEART.</td>\n",
       "      <td>6</td>\n",
       "      <td>12/1/2010 8:26</td>\n",
       "      <td>3.39</td>\n",
       "      <td>17850.0</td>\n",
       "      <td>United Kingdom</td>\n",
       "    </tr>\n",
       "    <tr>\n",
       "      <th>...</th>\n",
       "      <td>...</td>\n",
       "      <td>...</td>\n",
       "      <td>...</td>\n",
       "      <td>...</td>\n",
       "      <td>...</td>\n",
       "      <td>...</td>\n",
       "      <td>...</td>\n",
       "      <td>...</td>\n",
       "    </tr>\n",
       "    <tr>\n",
       "      <th>541904</th>\n",
       "      <td>581587</td>\n",
       "      <td>22613</td>\n",
       "      <td>PACK OF 20 SPACEBOY NAPKINS</td>\n",
       "      <td>12</td>\n",
       "      <td>12/9/2011 12:50</td>\n",
       "      <td>0.85</td>\n",
       "      <td>12680.0</td>\n",
       "      <td>France</td>\n",
       "    </tr>\n",
       "    <tr>\n",
       "      <th>541905</th>\n",
       "      <td>581587</td>\n",
       "      <td>22899</td>\n",
       "      <td>CHILDREN'S APRON DOLLY GIRL</td>\n",
       "      <td>6</td>\n",
       "      <td>12/9/2011 12:50</td>\n",
       "      <td>2.10</td>\n",
       "      <td>12680.0</td>\n",
       "      <td>France</td>\n",
       "    </tr>\n",
       "    <tr>\n",
       "      <th>541906</th>\n",
       "      <td>581587</td>\n",
       "      <td>23254</td>\n",
       "      <td>CHILDRENS CUTLERY DOLLY GIRL</td>\n",
       "      <td>4</td>\n",
       "      <td>12/9/2011 12:50</td>\n",
       "      <td>4.15</td>\n",
       "      <td>12680.0</td>\n",
       "      <td>France</td>\n",
       "    </tr>\n",
       "    <tr>\n",
       "      <th>541907</th>\n",
       "      <td>581587</td>\n",
       "      <td>23255</td>\n",
       "      <td>CHILDRENS CUTLERY CIRCUS PARADE</td>\n",
       "      <td>4</td>\n",
       "      <td>12/9/2011 12:50</td>\n",
       "      <td>4.15</td>\n",
       "      <td>12680.0</td>\n",
       "      <td>France</td>\n",
       "    </tr>\n",
       "    <tr>\n",
       "      <th>541908</th>\n",
       "      <td>581587</td>\n",
       "      <td>22138</td>\n",
       "      <td>BAKING SET 9 PIECE RETROSPOT</td>\n",
       "      <td>3</td>\n",
       "      <td>12/9/2011 12:50</td>\n",
       "      <td>4.95</td>\n",
       "      <td>12680.0</td>\n",
       "      <td>France</td>\n",
       "    </tr>\n",
       "  </tbody>\n",
       "</table>\n",
       "<p>532414 rows × 8 columns</p>\n",
       "</div>"
      ],
      "text/plain": [
       "       InvoiceNo StockCode                          Description  Quantity  \\\n",
       "0         536365    85123A   WHITE HANGING HEART T-LIGHT HOLDER         6   \n",
       "1         536365     71053                  WHITE METAL LANTERN         6   \n",
       "2         536365    84406B       CREAM CUPID HEARTS COAT HANGER         8   \n",
       "3         536365    84029G  KNITTED UNION FLAG HOT WATER BOTTLE         6   \n",
       "4         536365    84029E       RED WOOLLY HOTTIE WHITE HEART.         6   \n",
       "...          ...       ...                                  ...       ...   \n",
       "541904    581587     22613          PACK OF 20 SPACEBOY NAPKINS        12   \n",
       "541905    581587     22899         CHILDREN'S APRON DOLLY GIRL          6   \n",
       "541906    581587     23254        CHILDRENS CUTLERY DOLLY GIRL          4   \n",
       "541907    581587     23255      CHILDRENS CUTLERY CIRCUS PARADE         4   \n",
       "541908    581587     22138        BAKING SET 9 PIECE RETROSPOT          3   \n",
       "\n",
       "            InvoiceDate  UnitPrice  CustomerID         Country  \n",
       "0        12/1/2010 8:26       2.55     17850.0  United Kingdom  \n",
       "1        12/1/2010 8:26       3.39     17850.0  United Kingdom  \n",
       "2        12/1/2010 8:26       2.75     17850.0  United Kingdom  \n",
       "3        12/1/2010 8:26       3.39     17850.0  United Kingdom  \n",
       "4        12/1/2010 8:26       3.39     17850.0  United Kingdom  \n",
       "...                 ...        ...         ...             ...  \n",
       "541904  12/9/2011 12:50       0.85     12680.0          France  \n",
       "541905  12/9/2011 12:50       2.10     12680.0          France  \n",
       "541906  12/9/2011 12:50       4.15     12680.0          France  \n",
       "541907  12/9/2011 12:50       4.15     12680.0          France  \n",
       "541908  12/9/2011 12:50       4.95     12680.0          France  \n",
       "\n",
       "[532414 rows x 8 columns]"
      ]
     },
     "execution_count": 33,
     "metadata": {},
     "output_type": "execute_result"
    }
   ],
   "source": [
    "data[data[\"Country\"]!=\"Germany\"]"
   ]
  },
  {
   "cell_type": "code",
   "execution_count": 35,
   "id": "66052c7a-4ca7-458d-9397-0151f17bbf47",
   "metadata": {},
   "outputs": [
    {
     "data": {
      "text/html": [
       "<div>\n",
       "<style scoped>\n",
       "    .dataframe tbody tr th:only-of-type {\n",
       "        vertical-align: middle;\n",
       "    }\n",
       "\n",
       "    .dataframe tbody tr th {\n",
       "        vertical-align: top;\n",
       "    }\n",
       "\n",
       "    .dataframe thead th {\n",
       "        text-align: right;\n",
       "    }\n",
       "</style>\n",
       "<table border=\"1\" class=\"dataframe\">\n",
       "  <thead>\n",
       "    <tr style=\"text-align: right;\">\n",
       "      <th></th>\n",
       "      <th>InvoiceNo</th>\n",
       "      <th>StockCode</th>\n",
       "      <th>Description</th>\n",
       "      <th>Quantity</th>\n",
       "      <th>InvoiceDate</th>\n",
       "      <th>UnitPrice</th>\n",
       "      <th>CustomerID</th>\n",
       "      <th>Country</th>\n",
       "    </tr>\n",
       "  </thead>\n",
       "  <tbody>\n",
       "    <tr>\n",
       "      <th>1118</th>\n",
       "      <td>536527</td>\n",
       "      <td>22837</td>\n",
       "      <td>HOT WATER BOTTLE BABUSHKA</td>\n",
       "      <td>4</td>\n",
       "      <td>12/1/2010 13:04</td>\n",
       "      <td>4.65</td>\n",
       "      <td>12662.0</td>\n",
       "      <td>Germany</td>\n",
       "    </tr>\n",
       "    <tr>\n",
       "      <th>1123</th>\n",
       "      <td>536527</td>\n",
       "      <td>POST</td>\n",
       "      <td>POSTAGE</td>\n",
       "      <td>1</td>\n",
       "      <td>12/1/2010 13:04</td>\n",
       "      <td>18.00</td>\n",
       "      <td>12662.0</td>\n",
       "      <td>Germany</td>\n",
       "    </tr>\n",
       "    <tr>\n",
       "      <th>1977</th>\n",
       "      <td>C536548</td>\n",
       "      <td>22654</td>\n",
       "      <td>DELUXE SEWING KIT</td>\n",
       "      <td>-1</td>\n",
       "      <td>12/1/2010 14:33</td>\n",
       "      <td>5.95</td>\n",
       "      <td>12472.0</td>\n",
       "      <td>Germany</td>\n",
       "    </tr>\n",
       "    <tr>\n",
       "      <th>1978</th>\n",
       "      <td>C536548</td>\n",
       "      <td>22767</td>\n",
       "      <td>TRIPLE PHOTO FRAME CORNICE</td>\n",
       "      <td>-2</td>\n",
       "      <td>12/1/2010 14:33</td>\n",
       "      <td>9.95</td>\n",
       "      <td>12472.0</td>\n",
       "      <td>Germany</td>\n",
       "    </tr>\n",
       "    <tr>\n",
       "      <th>1983</th>\n",
       "      <td>C536548</td>\n",
       "      <td>22168</td>\n",
       "      <td>ORGANISER WOOD ANTIQUE WHITE</td>\n",
       "      <td>-2</td>\n",
       "      <td>12/1/2010 14:33</td>\n",
       "      <td>8.50</td>\n",
       "      <td>12472.0</td>\n",
       "      <td>Germany</td>\n",
       "    </tr>\n",
       "    <tr>\n",
       "      <th>...</th>\n",
       "      <td>...</td>\n",
       "      <td>...</td>\n",
       "      <td>...</td>\n",
       "      <td>...</td>\n",
       "      <td>...</td>\n",
       "      <td>...</td>\n",
       "      <td>...</td>\n",
       "      <td>...</td>\n",
       "    </tr>\n",
       "    <tr>\n",
       "      <th>541763</th>\n",
       "      <td>581574</td>\n",
       "      <td>23111</td>\n",
       "      <td>PARISIENNE SEWING BOX</td>\n",
       "      <td>2</td>\n",
       "      <td>12/9/2011 12:09</td>\n",
       "      <td>12.50</td>\n",
       "      <td>12526.0</td>\n",
       "      <td>Germany</td>\n",
       "    </tr>\n",
       "    <tr>\n",
       "      <th>541767</th>\n",
       "      <td>581574</td>\n",
       "      <td>POST</td>\n",
       "      <td>POSTAGE</td>\n",
       "      <td>2</td>\n",
       "      <td>12/9/2011 12:09</td>\n",
       "      <td>18.00</td>\n",
       "      <td>12526.0</td>\n",
       "      <td>Germany</td>\n",
       "    </tr>\n",
       "    <tr>\n",
       "      <th>541768</th>\n",
       "      <td>581578</td>\n",
       "      <td>POST</td>\n",
       "      <td>POSTAGE</td>\n",
       "      <td>3</td>\n",
       "      <td>12/9/2011 12:16</td>\n",
       "      <td>18.00</td>\n",
       "      <td>12713.0</td>\n",
       "      <td>Germany</td>\n",
       "    </tr>\n",
       "    <tr>\n",
       "      <th>541786</th>\n",
       "      <td>581578</td>\n",
       "      <td>22622</td>\n",
       "      <td>BOX OF VINTAGE ALPHABET BLOCKS</td>\n",
       "      <td>6</td>\n",
       "      <td>12/9/2011 12:16</td>\n",
       "      <td>11.95</td>\n",
       "      <td>12713.0</td>\n",
       "      <td>Germany</td>\n",
       "    </tr>\n",
       "    <tr>\n",
       "      <th>541800</th>\n",
       "      <td>581578</td>\n",
       "      <td>23298</td>\n",
       "      <td>SPOTTY BUNTING</td>\n",
       "      <td>9</td>\n",
       "      <td>12/9/2011 12:16</td>\n",
       "      <td>4.95</td>\n",
       "      <td>12713.0</td>\n",
       "      <td>Germany</td>\n",
       "    </tr>\n",
       "  </tbody>\n",
       "</table>\n",
       "<p>1899 rows × 8 columns</p>\n",
       "</div>"
      ],
      "text/plain": [
       "       InvoiceNo StockCode                     Description  Quantity  \\\n",
       "1118      536527     22837      HOT WATER BOTTLE BABUSHKA          4   \n",
       "1123      536527      POST                         POSTAGE         1   \n",
       "1977     C536548     22654              DELUXE SEWING KIT         -1   \n",
       "1978     C536548     22767     TRIPLE PHOTO FRAME CORNICE         -2   \n",
       "1983     C536548     22168   ORGANISER WOOD ANTIQUE WHITE         -2   \n",
       "...          ...       ...                             ...       ...   \n",
       "541763    581574     23111           PARISIENNE SEWING BOX         2   \n",
       "541767    581574      POST                         POSTAGE         2   \n",
       "541768    581578      POST                         POSTAGE         3   \n",
       "541786    581578     22622  BOX OF VINTAGE ALPHABET BLOCKS         6   \n",
       "541800    581578     23298                  SPOTTY BUNTING         9   \n",
       "\n",
       "            InvoiceDate  UnitPrice  CustomerID  Country  \n",
       "1118    12/1/2010 13:04       4.65     12662.0  Germany  \n",
       "1123    12/1/2010 13:04      18.00     12662.0  Germany  \n",
       "1977    12/1/2010 14:33       5.95     12472.0  Germany  \n",
       "1978    12/1/2010 14:33       9.95     12472.0  Germany  \n",
       "1983    12/1/2010 14:33       8.50     12472.0  Germany  \n",
       "...                 ...        ...         ...      ...  \n",
       "541763  12/9/2011 12:09      12.50     12526.0  Germany  \n",
       "541767  12/9/2011 12:09      18.00     12526.0  Germany  \n",
       "541768  12/9/2011 12:16      18.00     12713.0  Germany  \n",
       "541786  12/9/2011 12:16      11.95     12713.0  Germany  \n",
       "541800  12/9/2011 12:16       4.95     12713.0  Germany  \n",
       "\n",
       "[1899 rows x 8 columns]"
      ]
     },
     "execution_count": 35,
     "metadata": {},
     "output_type": "execute_result"
    }
   ],
   "source": [
    "data[(data[\"UnitPrice\"]>data[\"UnitPrice\"].mean())&(data[\"Country\"]==\"Germany\")]"
   ]
  },
  {
   "cell_type": "code",
   "execution_count": 41,
   "id": "444c5ecf-39f6-4694-986c-c77af4580d59",
   "metadata": {},
   "outputs": [
    {
     "data": {
      "text/html": [
       "<div>\n",
       "<style scoped>\n",
       "    .dataframe tbody tr th:only-of-type {\n",
       "        vertical-align: middle;\n",
       "    }\n",
       "\n",
       "    .dataframe tbody tr th {\n",
       "        vertical-align: top;\n",
       "    }\n",
       "\n",
       "    .dataframe thead th {\n",
       "        text-align: right;\n",
       "    }\n",
       "</style>\n",
       "<table border=\"1\" class=\"dataframe\">\n",
       "  <thead>\n",
       "    <tr style=\"text-align: right;\">\n",
       "      <th></th>\n",
       "      <th>InvoiceNo</th>\n",
       "      <th>StockCode</th>\n",
       "      <th>Description</th>\n",
       "      <th>Quantity</th>\n",
       "      <th>InvoiceDate</th>\n",
       "      <th>UnitPrice</th>\n",
       "      <th>CustomerID</th>\n",
       "      <th>Country</th>\n",
       "    </tr>\n",
       "  </thead>\n",
       "  <tbody>\n",
       "    <tr>\n",
       "      <th>9</th>\n",
       "      <td>536367</td>\n",
       "      <td>84879</td>\n",
       "      <td>ASSORTED COLOUR BIRD ORNAMENT</td>\n",
       "      <td>32</td>\n",
       "      <td>12/1/2010 8:34</td>\n",
       "      <td>1.69</td>\n",
       "      <td>13047.0</td>\n",
       "      <td>United Kingdom</td>\n",
       "    </tr>\n",
       "    <tr>\n",
       "      <th>26</th>\n",
       "      <td>536370</td>\n",
       "      <td>22728</td>\n",
       "      <td>ALARM CLOCK BAKELIKE PINK</td>\n",
       "      <td>24</td>\n",
       "      <td>12/1/2010 8:45</td>\n",
       "      <td>3.75</td>\n",
       "      <td>12583.0</td>\n",
       "      <td>France</td>\n",
       "    </tr>\n",
       "    <tr>\n",
       "      <th>27</th>\n",
       "      <td>536370</td>\n",
       "      <td>22727</td>\n",
       "      <td>ALARM CLOCK BAKELIKE RED</td>\n",
       "      <td>24</td>\n",
       "      <td>12/1/2010 8:45</td>\n",
       "      <td>3.75</td>\n",
       "      <td>12583.0</td>\n",
       "      <td>France</td>\n",
       "    </tr>\n",
       "    <tr>\n",
       "      <th>30</th>\n",
       "      <td>536370</td>\n",
       "      <td>21883</td>\n",
       "      <td>STARS GIFT TAPE</td>\n",
       "      <td>24</td>\n",
       "      <td>12/1/2010 8:45</td>\n",
       "      <td>0.65</td>\n",
       "      <td>12583.0</td>\n",
       "      <td>France</td>\n",
       "    </tr>\n",
       "    <tr>\n",
       "      <th>31</th>\n",
       "      <td>536370</td>\n",
       "      <td>10002</td>\n",
       "      <td>INFLATABLE POLITICAL GLOBE</td>\n",
       "      <td>48</td>\n",
       "      <td>12/1/2010 8:45</td>\n",
       "      <td>0.85</td>\n",
       "      <td>12583.0</td>\n",
       "      <td>France</td>\n",
       "    </tr>\n",
       "    <tr>\n",
       "      <th>...</th>\n",
       "      <td>...</td>\n",
       "      <td>...</td>\n",
       "      <td>...</td>\n",
       "      <td>...</td>\n",
       "      <td>...</td>\n",
       "      <td>...</td>\n",
       "      <td>...</td>\n",
       "      <td>...</td>\n",
       "    </tr>\n",
       "    <tr>\n",
       "      <th>415</th>\n",
       "      <td>536405</td>\n",
       "      <td>20914</td>\n",
       "      <td>SET/5 RED RETROSPOT LID GLASS BOWLS</td>\n",
       "      <td>128</td>\n",
       "      <td>12/1/2010 11:32</td>\n",
       "      <td>2.55</td>\n",
       "      <td>14045.0</td>\n",
       "      <td>United Kingdom</td>\n",
       "    </tr>\n",
       "    <tr>\n",
       "      <th>431</th>\n",
       "      <td>536406</td>\n",
       "      <td>22803</td>\n",
       "      <td>IVORY EMBROIDERED QUILT</td>\n",
       "      <td>2</td>\n",
       "      <td>12/1/2010 11:33</td>\n",
       "      <td>35.75</td>\n",
       "      <td>17850.0</td>\n",
       "      <td>United Kingdom</td>\n",
       "    </tr>\n",
       "    <tr>\n",
       "      <th>435</th>\n",
       "      <td>536408</td>\n",
       "      <td>22537</td>\n",
       "      <td>MAGIC DRAWING SLATE DINOSAUR</td>\n",
       "      <td>24</td>\n",
       "      <td>12/1/2010 11:41</td>\n",
       "      <td>0.42</td>\n",
       "      <td>14307.0</td>\n",
       "      <td>United Kingdom</td>\n",
       "    </tr>\n",
       "    <tr>\n",
       "      <th>436</th>\n",
       "      <td>536408</td>\n",
       "      <td>22533</td>\n",
       "      <td>MAGIC DRAWING SLATE BAKE A CAKE</td>\n",
       "      <td>24</td>\n",
       "      <td>12/1/2010 11:41</td>\n",
       "      <td>0.42</td>\n",
       "      <td>14307.0</td>\n",
       "      <td>United Kingdom</td>\n",
       "    </tr>\n",
       "    <tr>\n",
       "      <th>448</th>\n",
       "      <td>536408</td>\n",
       "      <td>22418</td>\n",
       "      <td>10 COLOUR SPACEBOY PEN</td>\n",
       "      <td>24</td>\n",
       "      <td>12/1/2010 11:41</td>\n",
       "      <td>0.85</td>\n",
       "      <td>14307.0</td>\n",
       "      <td>United Kingdom</td>\n",
       "    </tr>\n",
       "  </tbody>\n",
       "</table>\n",
       "<p>100 rows × 8 columns</p>\n",
       "</div>"
      ],
      "text/plain": [
       "    InvoiceNo StockCode                          Description  Quantity  \\\n",
       "9      536367     84879        ASSORTED COLOUR BIRD ORNAMENT        32   \n",
       "26     536370     22728            ALARM CLOCK BAKELIKE PINK        24   \n",
       "27     536370     22727            ALARM CLOCK BAKELIKE RED         24   \n",
       "30     536370     21883                     STARS GIFT TAPE         24   \n",
       "31     536370     10002          INFLATABLE POLITICAL GLOBE         48   \n",
       "..        ...       ...                                  ...       ...   \n",
       "415    536405     20914  SET/5 RED RETROSPOT LID GLASS BOWLS       128   \n",
       "431    536406     22803             IVORY EMBROIDERED QUILT          2   \n",
       "435    536408     22537         MAGIC DRAWING SLATE DINOSAUR        24   \n",
       "436    536408     22533     MAGIC DRAWING SLATE BAKE A CAKE         24   \n",
       "448    536408     22418               10 COLOUR SPACEBOY PEN        24   \n",
       "\n",
       "         InvoiceDate  UnitPrice  CustomerID         Country  \n",
       "9     12/1/2010 8:34       1.69     13047.0  United Kingdom  \n",
       "26    12/1/2010 8:45       3.75     12583.0          France  \n",
       "27    12/1/2010 8:45       3.75     12583.0          France  \n",
       "30    12/1/2010 8:45       0.65     12583.0          France  \n",
       "31    12/1/2010 8:45       0.85     12583.0          France  \n",
       "..               ...        ...         ...             ...  \n",
       "415  12/1/2010 11:32       2.55     14045.0  United Kingdom  \n",
       "431  12/1/2010 11:33      35.75     17850.0  United Kingdom  \n",
       "435  12/1/2010 11:41       0.42     14307.0  United Kingdom  \n",
       "436  12/1/2010 11:41       0.42     14307.0  United Kingdom  \n",
       "448  12/1/2010 11:41       0.85     14307.0  United Kingdom  \n",
       "\n",
       "[100 rows x 8 columns]"
      ]
     },
     "execution_count": 41,
     "metadata": {},
     "output_type": "execute_result"
    }
   ],
   "source": [
    "mask1 = data[\"Quantity\"]>20\n",
    "mask2 = data[\"UnitPrice\"]>18.0\n",
    "mask = mask1|mask2\n",
    "data[mask].head(100)"
   ]
  },
  {
   "cell_type": "code",
   "execution_count": 47,
   "id": "7823dac5-ce90-4826-8508-4506df7cc321",
   "metadata": {},
   "outputs": [
    {
     "data": {
      "text/plain": [
       "United Kingdom    495478\n",
       "Germany             9495\n",
       "France              8557\n",
       "Name: Country, dtype: int64"
      ]
     },
     "execution_count": 47,
     "metadata": {},
     "output_type": "execute_result"
    }
   ],
   "source": [
    "mask = (data[\"Country\"]==\"Germany\") | (data[\"Country\"]==\"France\") | (data[\"Country\"]==\"United Kingdom\")\n",
    "data[mask][\"Country\"].value_counts()"
   ]
  },
  {
   "cell_type": "code",
   "execution_count": 49,
   "id": "f8eb78f8-f3f5-4351-afe3-17ef36c5eb97",
   "metadata": {},
   "outputs": [
    {
     "data": {
      "text/plain": [
       "United Kingdom    495478\n",
       "Germany             9495\n",
       "France              8557\n",
       "Name: Country, dtype: int64"
      ]
     },
     "execution_count": 49,
     "metadata": {},
     "output_type": "execute_result"
    }
   ],
   "source": [
    "mask = data[\"Country\"].isin([\"Germany\",\t\"France\", \"United Kingdom\"])\n",
    "data[mask][\"Country\"].value_counts()"
   ]
  },
  {
   "cell_type": "code",
   "execution_count": 50,
   "id": "5e74c99e-ecbc-416b-8a26-9d39b90db31a",
   "metadata": {},
   "outputs": [
    {
     "data": {
      "text/html": [
       "<div>\n",
       "<style scoped>\n",
       "    .dataframe tbody tr th:only-of-type {\n",
       "        vertical-align: middle;\n",
       "    }\n",
       "\n",
       "    .dataframe tbody tr th {\n",
       "        vertical-align: top;\n",
       "    }\n",
       "\n",
       "    .dataframe thead th {\n",
       "        text-align: right;\n",
       "    }\n",
       "</style>\n",
       "<table border=\"1\" class=\"dataframe\">\n",
       "  <thead>\n",
       "    <tr style=\"text-align: right;\">\n",
       "      <th></th>\n",
       "      <th>InvoiceNo</th>\n",
       "      <th>StockCode</th>\n",
       "      <th>Description</th>\n",
       "      <th>Quantity</th>\n",
       "      <th>InvoiceDate</th>\n",
       "      <th>UnitPrice</th>\n",
       "      <th>CustomerID</th>\n",
       "      <th>Country</th>\n",
       "    </tr>\n",
       "  </thead>\n",
       "  <tbody>\n",
       "    <tr>\n",
       "      <th>45</th>\n",
       "      <td>536370</td>\n",
       "      <td>POST</td>\n",
       "      <td>POSTAGE</td>\n",
       "      <td>3</td>\n",
       "      <td>12/1/2010 8:45</td>\n",
       "      <td>18.00</td>\n",
       "      <td>12583.0</td>\n",
       "      <td>France</td>\n",
       "    </tr>\n",
       "    <tr>\n",
       "      <th>65</th>\n",
       "      <td>536374</td>\n",
       "      <td>21258</td>\n",
       "      <td>VICTORIAN SEWING BOX LARGE</td>\n",
       "      <td>32</td>\n",
       "      <td>12/1/2010 9:09</td>\n",
       "      <td>10.95</td>\n",
       "      <td>15100.0</td>\n",
       "      <td>United Kingdom</td>\n",
       "    </tr>\n",
       "    <tr>\n",
       "      <th>141</th>\n",
       "      <td>C536379</td>\n",
       "      <td>D</td>\n",
       "      <td>Discount</td>\n",
       "      <td>-1</td>\n",
       "      <td>12/1/2010 9:41</td>\n",
       "      <td>27.50</td>\n",
       "      <td>14527.0</td>\n",
       "      <td>United Kingdom</td>\n",
       "    </tr>\n",
       "    <tr>\n",
       "      <th>151</th>\n",
       "      <td>536382</td>\n",
       "      <td>22839</td>\n",
       "      <td>3 TIER CAKE TIN GREEN AND CREAM</td>\n",
       "      <td>2</td>\n",
       "      <td>12/1/2010 9:45</td>\n",
       "      <td>14.95</td>\n",
       "      <td>16098.0</td>\n",
       "      <td>United Kingdom</td>\n",
       "    </tr>\n",
       "    <tr>\n",
       "      <th>152</th>\n",
       "      <td>536382</td>\n",
       "      <td>22838</td>\n",
       "      <td>3 TIER CAKE TIN RED AND CREAM</td>\n",
       "      <td>2</td>\n",
       "      <td>12/1/2010 9:45</td>\n",
       "      <td>14.95</td>\n",
       "      <td>16098.0</td>\n",
       "      <td>United Kingdom</td>\n",
       "    </tr>\n",
       "    <tr>\n",
       "      <th>...</th>\n",
       "      <td>...</td>\n",
       "      <td>...</td>\n",
       "      <td>...</td>\n",
       "      <td>...</td>\n",
       "      <td>...</td>\n",
       "      <td>...</td>\n",
       "      <td>...</td>\n",
       "      <td>...</td>\n",
       "    </tr>\n",
       "    <tr>\n",
       "      <th>541762</th>\n",
       "      <td>581574</td>\n",
       "      <td>21258</td>\n",
       "      <td>VICTORIAN SEWING BOX LARGE</td>\n",
       "      <td>2</td>\n",
       "      <td>12/9/2011 12:09</td>\n",
       "      <td>12.75</td>\n",
       "      <td>12526.0</td>\n",
       "      <td>Germany</td>\n",
       "    </tr>\n",
       "    <tr>\n",
       "      <th>541763</th>\n",
       "      <td>581574</td>\n",
       "      <td>23111</td>\n",
       "      <td>PARISIENNE SEWING BOX</td>\n",
       "      <td>2</td>\n",
       "      <td>12/9/2011 12:09</td>\n",
       "      <td>12.50</td>\n",
       "      <td>12526.0</td>\n",
       "      <td>Germany</td>\n",
       "    </tr>\n",
       "    <tr>\n",
       "      <th>541767</th>\n",
       "      <td>581574</td>\n",
       "      <td>POST</td>\n",
       "      <td>POSTAGE</td>\n",
       "      <td>2</td>\n",
       "      <td>12/9/2011 12:09</td>\n",
       "      <td>18.00</td>\n",
       "      <td>12526.0</td>\n",
       "      <td>Germany</td>\n",
       "    </tr>\n",
       "    <tr>\n",
       "      <th>541768</th>\n",
       "      <td>581578</td>\n",
       "      <td>POST</td>\n",
       "      <td>POSTAGE</td>\n",
       "      <td>3</td>\n",
       "      <td>12/9/2011 12:16</td>\n",
       "      <td>18.00</td>\n",
       "      <td>12713.0</td>\n",
       "      <td>Germany</td>\n",
       "    </tr>\n",
       "    <tr>\n",
       "      <th>541786</th>\n",
       "      <td>581578</td>\n",
       "      <td>22622</td>\n",
       "      <td>BOX OF VINTAGE ALPHABET BLOCKS</td>\n",
       "      <td>6</td>\n",
       "      <td>12/9/2011 12:16</td>\n",
       "      <td>11.95</td>\n",
       "      <td>12713.0</td>\n",
       "      <td>Germany</td>\n",
       "    </tr>\n",
       "  </tbody>\n",
       "</table>\n",
       "<p>24783 rows × 8 columns</p>\n",
       "</div>"
      ],
      "text/plain": [
       "       InvoiceNo StockCode                      Description  Quantity  \\\n",
       "45        536370      POST                          POSTAGE         3   \n",
       "65        536374     21258       VICTORIAN SEWING BOX LARGE        32   \n",
       "141      C536379         D                         Discount        -1   \n",
       "151       536382     22839  3 TIER CAKE TIN GREEN AND CREAM         2   \n",
       "152       536382     22838    3 TIER CAKE TIN RED AND CREAM         2   \n",
       "...          ...       ...                              ...       ...   \n",
       "541762    581574     21258       VICTORIAN SEWING BOX LARGE         2   \n",
       "541763    581574     23111            PARISIENNE SEWING BOX         2   \n",
       "541767    581574      POST                          POSTAGE         2   \n",
       "541768    581578      POST                          POSTAGE         3   \n",
       "541786    581578     22622   BOX OF VINTAGE ALPHABET BLOCKS         6   \n",
       "\n",
       "            InvoiceDate  UnitPrice  CustomerID         Country  \n",
       "45       12/1/2010 8:45      18.00     12583.0          France  \n",
       "65       12/1/2010 9:09      10.95     15100.0  United Kingdom  \n",
       "141      12/1/2010 9:41      27.50     14527.0  United Kingdom  \n",
       "151      12/1/2010 9:45      14.95     16098.0  United Kingdom  \n",
       "152      12/1/2010 9:45      14.95     16098.0  United Kingdom  \n",
       "...                 ...        ...         ...             ...  \n",
       "541762  12/9/2011 12:09      12.75     12526.0         Germany  \n",
       "541763  12/9/2011 12:09      12.50     12526.0         Germany  \n",
       "541767  12/9/2011 12:09      18.00     12526.0         Germany  \n",
       "541768  12/9/2011 12:16      18.00     12713.0         Germany  \n",
       "541786  12/9/2011 12:16      11.95     12713.0         Germany  \n",
       "\n",
       "[24783 rows x 8 columns]"
      ]
     },
     "execution_count": 50,
     "metadata": {},
     "output_type": "execute_result"
    }
   ],
   "source": [
    "mask = data[\"UnitPrice\"].between(10,500)  # bu değerler inclusive\n",
    "data[mask]"
   ]
  },
  {
   "cell_type": "code",
   "execution_count": 51,
   "id": "e889862e-e75b-40c3-a563-d37d7c4e541b",
   "metadata": {},
   "outputs": [
    {
     "data": {
      "text/html": [
       "<div>\n",
       "<style scoped>\n",
       "    .dataframe tbody tr th:only-of-type {\n",
       "        vertical-align: middle;\n",
       "    }\n",
       "\n",
       "    .dataframe tbody tr th {\n",
       "        vertical-align: top;\n",
       "    }\n",
       "\n",
       "    .dataframe thead th {\n",
       "        text-align: right;\n",
       "    }\n",
       "</style>\n",
       "<table border=\"1\" class=\"dataframe\">\n",
       "  <thead>\n",
       "    <tr style=\"text-align: right;\">\n",
       "      <th></th>\n",
       "      <th>InvoiceNo</th>\n",
       "      <th>StockCode</th>\n",
       "      <th>Description</th>\n",
       "      <th>Quantity</th>\n",
       "      <th>InvoiceDate</th>\n",
       "      <th>UnitPrice</th>\n",
       "      <th>CustomerID</th>\n",
       "      <th>Country</th>\n",
       "    </tr>\n",
       "  </thead>\n",
       "  <tbody>\n",
       "    <tr>\n",
       "      <th>0</th>\n",
       "      <td>536365</td>\n",
       "      <td>85123A</td>\n",
       "      <td>WHITE HANGING HEART T-LIGHT HOLDER</td>\n",
       "      <td>6</td>\n",
       "      <td>12/1/2010 8:26</td>\n",
       "      <td>2.55</td>\n",
       "      <td>17850.0</td>\n",
       "      <td>United Kingdom</td>\n",
       "    </tr>\n",
       "    <tr>\n",
       "      <th>1</th>\n",
       "      <td>536365</td>\n",
       "      <td>71053</td>\n",
       "      <td>WHITE METAL LANTERN</td>\n",
       "      <td>6</td>\n",
       "      <td>12/1/2010 8:26</td>\n",
       "      <td>3.39</td>\n",
       "      <td>17850.0</td>\n",
       "      <td>United Kingdom</td>\n",
       "    </tr>\n",
       "    <tr>\n",
       "      <th>2</th>\n",
       "      <td>536365</td>\n",
       "      <td>84406B</td>\n",
       "      <td>CREAM CUPID HEARTS COAT HANGER</td>\n",
       "      <td>8</td>\n",
       "      <td>12/1/2010 8:26</td>\n",
       "      <td>2.75</td>\n",
       "      <td>17850.0</td>\n",
       "      <td>United Kingdom</td>\n",
       "    </tr>\n",
       "    <tr>\n",
       "      <th>3</th>\n",
       "      <td>536365</td>\n",
       "      <td>84029G</td>\n",
       "      <td>KNITTED UNION FLAG HOT WATER BOTTLE</td>\n",
       "      <td>6</td>\n",
       "      <td>12/1/2010 8:26</td>\n",
       "      <td>3.39</td>\n",
       "      <td>17850.0</td>\n",
       "      <td>United Kingdom</td>\n",
       "    </tr>\n",
       "    <tr>\n",
       "      <th>4</th>\n",
       "      <td>536365</td>\n",
       "      <td>84029E</td>\n",
       "      <td>RED WOOLLY HOTTIE WHITE HEART.</td>\n",
       "      <td>6</td>\n",
       "      <td>12/1/2010 8:26</td>\n",
       "      <td>3.39</td>\n",
       "      <td>17850.0</td>\n",
       "      <td>United Kingdom</td>\n",
       "    </tr>\n",
       "    <tr>\n",
       "      <th>...</th>\n",
       "      <td>...</td>\n",
       "      <td>...</td>\n",
       "      <td>...</td>\n",
       "      <td>...</td>\n",
       "      <td>...</td>\n",
       "      <td>...</td>\n",
       "      <td>...</td>\n",
       "      <td>...</td>\n",
       "    </tr>\n",
       "    <tr>\n",
       "      <th>540272</th>\n",
       "      <td>581474</td>\n",
       "      <td>21253</td>\n",
       "      <td>SET OF PICTURE FRAME  STICKERS</td>\n",
       "      <td>1</td>\n",
       "      <td>12/8/2011 20:01</td>\n",
       "      <td>0.79</td>\n",
       "      <td>12748.0</td>\n",
       "      <td>United Kingdom</td>\n",
       "    </tr>\n",
       "    <tr>\n",
       "      <th>540273</th>\n",
       "      <td>581474</td>\n",
       "      <td>22108</td>\n",
       "      <td>PING! MICROWAVE PLATE</td>\n",
       "      <td>1</td>\n",
       "      <td>12/8/2011 20:01</td>\n",
       "      <td>1.25</td>\n",
       "      <td>12748.0</td>\n",
       "      <td>United Kingdom</td>\n",
       "    </tr>\n",
       "    <tr>\n",
       "      <th>540274</th>\n",
       "      <td>581474</td>\n",
       "      <td>22167</td>\n",
       "      <td>OVAL WALL MIRROR DIAMANTE</td>\n",
       "      <td>1</td>\n",
       "      <td>12/8/2011 20:01</td>\n",
       "      <td>9.95</td>\n",
       "      <td>12748.0</td>\n",
       "      <td>United Kingdom</td>\n",
       "    </tr>\n",
       "    <tr>\n",
       "      <th>540275</th>\n",
       "      <td>581474</td>\n",
       "      <td>21929</td>\n",
       "      <td>JUMBO BAG PINK VINTAGE PAISLEY</td>\n",
       "      <td>1</td>\n",
       "      <td>12/8/2011 20:01</td>\n",
       "      <td>2.08</td>\n",
       "      <td>12748.0</td>\n",
       "      <td>United Kingdom</td>\n",
       "    </tr>\n",
       "    <tr>\n",
       "      <th>540276</th>\n",
       "      <td>581474</td>\n",
       "      <td>20717</td>\n",
       "      <td>STRAWBERRY SHOPPER BAG</td>\n",
       "      <td>1</td>\n",
       "      <td>12/8/2011 20:01</td>\n",
       "      <td>1.25</td>\n",
       "      <td>12748.0</td>\n",
       "      <td>United Kingdom</td>\n",
       "    </tr>\n",
       "  </tbody>\n",
       "</table>\n",
       "<p>66374 rows × 8 columns</p>\n",
       "</div>"
      ],
      "text/plain": [
       "       InvoiceNo StockCode                          Description  Quantity  \\\n",
       "0         536365    85123A   WHITE HANGING HEART T-LIGHT HOLDER         6   \n",
       "1         536365     71053                  WHITE METAL LANTERN         6   \n",
       "2         536365    84406B       CREAM CUPID HEARTS COAT HANGER         8   \n",
       "3         536365    84029G  KNITTED UNION FLAG HOT WATER BOTTLE         6   \n",
       "4         536365    84029E       RED WOOLLY HOTTIE WHITE HEART.         6   \n",
       "...          ...       ...                                  ...       ...   \n",
       "540272    581474     21253       SET OF PICTURE FRAME  STICKERS         1   \n",
       "540273    581474     22108                PING! MICROWAVE PLATE         1   \n",
       "540274    581474     22167           OVAL WALL MIRROR DIAMANTE          1   \n",
       "540275    581474     21929       JUMBO BAG PINK VINTAGE PAISLEY         1   \n",
       "540276    581474     20717               STRAWBERRY SHOPPER BAG         1   \n",
       "\n",
       "            InvoiceDate  UnitPrice  CustomerID         Country  \n",
       "0        12/1/2010 8:26       2.55     17850.0  United Kingdom  \n",
       "1        12/1/2010 8:26       3.39     17850.0  United Kingdom  \n",
       "2        12/1/2010 8:26       2.75     17850.0  United Kingdom  \n",
       "3        12/1/2010 8:26       3.39     17850.0  United Kingdom  \n",
       "4        12/1/2010 8:26       3.39     17850.0  United Kingdom  \n",
       "...                 ...        ...         ...             ...  \n",
       "540272  12/8/2011 20:01       0.79     12748.0  United Kingdom  \n",
       "540273  12/8/2011 20:01       1.25     12748.0  United Kingdom  \n",
       "540274  12/8/2011 20:01       9.95     12748.0  United Kingdom  \n",
       "540275  12/8/2011 20:01       2.08     12748.0  United Kingdom  \n",
       "540276  12/8/2011 20:01       1.25     12748.0  United Kingdom  \n",
       "\n",
       "[66374 rows x 8 columns]"
      ]
     },
     "execution_count": 51,
     "metadata": {},
     "output_type": "execute_result"
    }
   ],
   "source": [
    "mask = data[\"InvoiceDate\"].between(\"12/1/2010\",\"12/9/2011\")  # bu değerler inclusive\n",
    "data[mask]"
   ]
  },
  {
   "cell_type": "code",
   "execution_count": 54,
   "id": "ffe67da9-d44c-411b-b3d3-2741ab50e5ed",
   "metadata": {},
   "outputs": [
    {
     "data": {
      "text/html": [
       "<div>\n",
       "<style scoped>\n",
       "    .dataframe tbody tr th:only-of-type {\n",
       "        vertical-align: middle;\n",
       "    }\n",
       "\n",
       "    .dataframe tbody tr th {\n",
       "        vertical-align: top;\n",
       "    }\n",
       "\n",
       "    .dataframe thead th {\n",
       "        text-align: right;\n",
       "    }\n",
       "</style>\n",
       "<table border=\"1\" class=\"dataframe\">\n",
       "  <thead>\n",
       "    <tr style=\"text-align: right;\">\n",
       "      <th></th>\n",
       "      <th>InvoiceNo</th>\n",
       "      <th>StockCode</th>\n",
       "      <th>Description</th>\n",
       "      <th>Quantity</th>\n",
       "      <th>InvoiceDate</th>\n",
       "      <th>UnitPrice</th>\n",
       "      <th>CustomerID</th>\n",
       "      <th>Country</th>\n",
       "    </tr>\n",
       "  </thead>\n",
       "  <tbody>\n",
       "    <tr>\n",
       "      <th>344571</th>\n",
       "      <td>567085</td>\n",
       "      <td>23328</td>\n",
       "      <td>SET 6 SCHOOL MILK BOTTLES IN CRATE</td>\n",
       "      <td>12</td>\n",
       "      <td>9/16/2011 12:38</td>\n",
       "      <td>3.75</td>\n",
       "      <td>12434.0</td>\n",
       "      <td>Australia</td>\n",
       "    </tr>\n",
       "    <tr>\n",
       "      <th>270069</th>\n",
       "      <td>C560540</td>\n",
       "      <td>23240</td>\n",
       "      <td>SET OF 4 KNICK KNACK TINS DOILEY</td>\n",
       "      <td>-1</td>\n",
       "      <td>7/19/2011 12:26</td>\n",
       "      <td>4.15</td>\n",
       "      <td>12415.0</td>\n",
       "      <td>Australia</td>\n",
       "    </tr>\n",
       "    <tr>\n",
       "      <th>270070</th>\n",
       "      <td>C560540</td>\n",
       "      <td>23237</td>\n",
       "      <td>SET OF 4 KNICK KNACK TINS LEAF</td>\n",
       "      <td>-1</td>\n",
       "      <td>7/19/2011 12:26</td>\n",
       "      <td>4.15</td>\n",
       "      <td>12415.0</td>\n",
       "      <td>Australia</td>\n",
       "    </tr>\n",
       "    <tr>\n",
       "      <th>270071</th>\n",
       "      <td>C560540</td>\n",
       "      <td>23236</td>\n",
       "      <td>DOILEY STORAGE TIN</td>\n",
       "      <td>-1</td>\n",
       "      <td>7/19/2011 12:26</td>\n",
       "      <td>2.89</td>\n",
       "      <td>12415.0</td>\n",
       "      <td>Australia</td>\n",
       "    </tr>\n",
       "    <tr>\n",
       "      <th>270072</th>\n",
       "      <td>C560540</td>\n",
       "      <td>23235</td>\n",
       "      <td>STORAGE TIN VINTAGE LEAF</td>\n",
       "      <td>-1</td>\n",
       "      <td>7/19/2011 12:26</td>\n",
       "      <td>2.89</td>\n",
       "      <td>12415.0</td>\n",
       "      <td>Australia</td>\n",
       "    </tr>\n",
       "    <tr>\n",
       "      <th>...</th>\n",
       "      <td>...</td>\n",
       "      <td>...</td>\n",
       "      <td>...</td>\n",
       "      <td>...</td>\n",
       "      <td>...</td>\n",
       "      <td>...</td>\n",
       "      <td>...</td>\n",
       "      <td>...</td>\n",
       "    </tr>\n",
       "    <tr>\n",
       "      <th>282768</th>\n",
       "      <td>561658</td>\n",
       "      <td>84559B</td>\n",
       "      <td>3D SHEET OF CAT STICKERS</td>\n",
       "      <td>1</td>\n",
       "      <td>7/28/2011 16:06</td>\n",
       "      <td>0.85</td>\n",
       "      <td>12743.0</td>\n",
       "      <td>Unspecified</td>\n",
       "    </tr>\n",
       "    <tr>\n",
       "      <th>282769</th>\n",
       "      <td>561658</td>\n",
       "      <td>84549</td>\n",
       "      <td>CROCHET WHITE RABBIT KEYRING</td>\n",
       "      <td>1</td>\n",
       "      <td>7/28/2011 16:06</td>\n",
       "      <td>1.65</td>\n",
       "      <td>12743.0</td>\n",
       "      <td>Unspecified</td>\n",
       "    </tr>\n",
       "    <tr>\n",
       "      <th>282770</th>\n",
       "      <td>561658</td>\n",
       "      <td>22840</td>\n",
       "      <td>ROUND CAKE TIN VINTAGE RED</td>\n",
       "      <td>1</td>\n",
       "      <td>7/28/2011 16:06</td>\n",
       "      <td>7.95</td>\n",
       "      <td>12743.0</td>\n",
       "      <td>Unspecified</td>\n",
       "    </tr>\n",
       "    <tr>\n",
       "      <th>282756</th>\n",
       "      <td>561658</td>\n",
       "      <td>22752</td>\n",
       "      <td>SET 7 BABUSHKA NESTING BOXES</td>\n",
       "      <td>1</td>\n",
       "      <td>7/28/2011 16:06</td>\n",
       "      <td>8.50</td>\n",
       "      <td>12743.0</td>\n",
       "      <td>Unspecified</td>\n",
       "    </tr>\n",
       "    <tr>\n",
       "      <th>282775</th>\n",
       "      <td>561658</td>\n",
       "      <td>47559B</td>\n",
       "      <td>TEA TIME OVEN GLOVE</td>\n",
       "      <td>1</td>\n",
       "      <td>7/28/2011 16:06</td>\n",
       "      <td>1.25</td>\n",
       "      <td>12743.0</td>\n",
       "      <td>Unspecified</td>\n",
       "    </tr>\n",
       "  </tbody>\n",
       "</table>\n",
       "<p>541909 rows × 8 columns</p>\n",
       "</div>"
      ],
      "text/plain": [
       "       InvoiceNo StockCode                         Description  Quantity  \\\n",
       "344571    567085     23328  SET 6 SCHOOL MILK BOTTLES IN CRATE        12   \n",
       "270069   C560540     23240   SET OF 4 KNICK KNACK TINS DOILEY         -1   \n",
       "270070   C560540     23237      SET OF 4 KNICK KNACK TINS LEAF        -1   \n",
       "270071   C560540     23236                  DOILEY STORAGE TIN        -1   \n",
       "270072   C560540     23235            STORAGE TIN VINTAGE LEAF        -1   \n",
       "...          ...       ...                                 ...       ...   \n",
       "282768    561658    84559B            3D SHEET OF CAT STICKERS         1   \n",
       "282769    561658     84549       CROCHET WHITE RABBIT KEYRING          1   \n",
       "282770    561658     22840          ROUND CAKE TIN VINTAGE RED         1   \n",
       "282756    561658     22752        SET 7 BABUSHKA NESTING BOXES         1   \n",
       "282775    561658    47559B                 TEA TIME OVEN GLOVE         1   \n",
       "\n",
       "            InvoiceDate  UnitPrice  CustomerID      Country  \n",
       "344571  9/16/2011 12:38       3.75     12434.0    Australia  \n",
       "270069  7/19/2011 12:26       4.15     12415.0    Australia  \n",
       "270070  7/19/2011 12:26       4.15     12415.0    Australia  \n",
       "270071  7/19/2011 12:26       2.89     12415.0    Australia  \n",
       "270072  7/19/2011 12:26       2.89     12415.0    Australia  \n",
       "...                 ...        ...         ...          ...  \n",
       "282768  7/28/2011 16:06       0.85     12743.0  Unspecified  \n",
       "282769  7/28/2011 16:06       1.65     12743.0  Unspecified  \n",
       "282770  7/28/2011 16:06       7.95     12743.0  Unspecified  \n",
       "282756  7/28/2011 16:06       8.50     12743.0  Unspecified  \n",
       "282775  7/28/2011 16:06       1.25     12743.0  Unspecified  \n",
       "\n",
       "[541909 rows x 8 columns]"
      ]
     },
     "execution_count": 54,
     "metadata": {},
     "output_type": "execute_result"
    }
   ],
   "source": [
    "data.sort_values(\"Country\")"
   ]
  },
  {
   "cell_type": "code",
   "execution_count": 55,
   "id": "e70a87a1-8259-4e9a-b07a-98bd5593d3f2",
   "metadata": {},
   "outputs": [
    {
     "data": {
      "text/plain": [
       "0         False\n",
       "1          True\n",
       "2          True\n",
       "3          True\n",
       "4          True\n",
       "          ...  \n",
       "541904     True\n",
       "541905     True\n",
       "541906     True\n",
       "541907     True\n",
       "541908     True\n",
       "Name: Country, Length: 541909, dtype: bool"
      ]
     },
     "execution_count": 55,
     "metadata": {},
     "output_type": "execute_result"
    }
   ],
   "source": [
    "data[\"Country\"].duplicated()"
   ]
  },
  {
   "cell_type": "code",
   "execution_count": 56,
   "id": "59bc5e19-0565-4aa8-b98f-1c85a56cef1d",
   "metadata": {},
   "outputs": [
    {
     "data": {
      "text/html": [
       "<div>\n",
       "<style scoped>\n",
       "    .dataframe tbody tr th:only-of-type {\n",
       "        vertical-align: middle;\n",
       "    }\n",
       "\n",
       "    .dataframe tbody tr th {\n",
       "        vertical-align: top;\n",
       "    }\n",
       "\n",
       "    .dataframe thead th {\n",
       "        text-align: right;\n",
       "    }\n",
       "</style>\n",
       "<table border=\"1\" class=\"dataframe\">\n",
       "  <thead>\n",
       "    <tr style=\"text-align: right;\">\n",
       "      <th></th>\n",
       "      <th>InvoiceNo</th>\n",
       "      <th>StockCode</th>\n",
       "      <th>Description</th>\n",
       "      <th>Quantity</th>\n",
       "      <th>InvoiceDate</th>\n",
       "      <th>UnitPrice</th>\n",
       "      <th>CustomerID</th>\n",
       "      <th>Country</th>\n",
       "    </tr>\n",
       "  </thead>\n",
       "  <tbody>\n",
       "    <tr>\n",
       "      <th>0</th>\n",
       "      <td>536365</td>\n",
       "      <td>85123A</td>\n",
       "      <td>WHITE HANGING HEART T-LIGHT HOLDER</td>\n",
       "      <td>6</td>\n",
       "      <td>12/1/2010 8:26</td>\n",
       "      <td>2.55</td>\n",
       "      <td>17850.0</td>\n",
       "      <td>United Kingdom</td>\n",
       "    </tr>\n",
       "    <tr>\n",
       "      <th>26</th>\n",
       "      <td>536370</td>\n",
       "      <td>22728</td>\n",
       "      <td>ALARM CLOCK BAKELIKE PINK</td>\n",
       "      <td>24</td>\n",
       "      <td>12/1/2010 8:45</td>\n",
       "      <td>3.75</td>\n",
       "      <td>12583.0</td>\n",
       "      <td>France</td>\n",
       "    </tr>\n",
       "    <tr>\n",
       "      <th>197</th>\n",
       "      <td>536389</td>\n",
       "      <td>22941</td>\n",
       "      <td>CHRISTMAS LIGHTS 10 REINDEER</td>\n",
       "      <td>6</td>\n",
       "      <td>12/1/2010 10:03</td>\n",
       "      <td>8.50</td>\n",
       "      <td>12431.0</td>\n",
       "      <td>Australia</td>\n",
       "    </tr>\n",
       "    <tr>\n",
       "      <th>385</th>\n",
       "      <td>536403</td>\n",
       "      <td>22867</td>\n",
       "      <td>HAND WARMER BIRD DESIGN</td>\n",
       "      <td>96</td>\n",
       "      <td>12/1/2010 11:27</td>\n",
       "      <td>1.85</td>\n",
       "      <td>12791.0</td>\n",
       "      <td>Netherlands</td>\n",
       "    </tr>\n",
       "    <tr>\n",
       "      <th>1109</th>\n",
       "      <td>536527</td>\n",
       "      <td>22809</td>\n",
       "      <td>SET OF 6 T-LIGHTS SANTA</td>\n",
       "      <td>6</td>\n",
       "      <td>12/1/2010 13:04</td>\n",
       "      <td>2.95</td>\n",
       "      <td>12662.0</td>\n",
       "      <td>Germany</td>\n",
       "    </tr>\n",
       "    <tr>\n",
       "      <th>1236</th>\n",
       "      <td>536532</td>\n",
       "      <td>84692</td>\n",
       "      <td>BOX OF 24 COCKTAIL PARASOLS</td>\n",
       "      <td>50</td>\n",
       "      <td>12/1/2010 13:24</td>\n",
       "      <td>0.42</td>\n",
       "      <td>12433.0</td>\n",
       "      <td>Norway</td>\n",
       "    </tr>\n",
       "    <tr>\n",
       "      <th>1404</th>\n",
       "      <td>536540</td>\n",
       "      <td>22968</td>\n",
       "      <td>ROSE COTTAGE KEEPSAKE BOX</td>\n",
       "      <td>4</td>\n",
       "      <td>12/1/2010 14:05</td>\n",
       "      <td>9.95</td>\n",
       "      <td>14911.0</td>\n",
       "      <td>EIRE</td>\n",
       "    </tr>\n",
       "    <tr>\n",
       "      <th>5320</th>\n",
       "      <td>536858</td>\n",
       "      <td>22326</td>\n",
       "      <td>ROUND SNACK BOXES SET OF4 WOODLAND</td>\n",
       "      <td>30</td>\n",
       "      <td>12/3/2010 10:36</td>\n",
       "      <td>2.95</td>\n",
       "      <td>13520.0</td>\n",
       "      <td>Switzerland</td>\n",
       "    </tr>\n",
       "    <tr>\n",
       "      <th>6421</th>\n",
       "      <td>536944</td>\n",
       "      <td>22383</td>\n",
       "      <td>LUNCH BAG SUKI  DESIGN</td>\n",
       "      <td>70</td>\n",
       "      <td>12/3/2010 12:20</td>\n",
       "      <td>1.65</td>\n",
       "      <td>12557.0</td>\n",
       "      <td>Spain</td>\n",
       "    </tr>\n",
       "    <tr>\n",
       "      <th>6608</th>\n",
       "      <td>536971</td>\n",
       "      <td>21733</td>\n",
       "      <td>RED HANGING HEART T-LIGHT HOLDER</td>\n",
       "      <td>32</td>\n",
       "      <td>12/3/2010 13:40</td>\n",
       "      <td>2.55</td>\n",
       "      <td>12779.0</td>\n",
       "      <td>Poland</td>\n",
       "    </tr>\n",
       "    <tr>\n",
       "      <th>7134</th>\n",
       "      <td>536990</td>\n",
       "      <td>21992</td>\n",
       "      <td>VINTAGE PAISLEY STATIONERY SET</td>\n",
       "      <td>6</td>\n",
       "      <td>12/3/2010 15:14</td>\n",
       "      <td>2.95</td>\n",
       "      <td>12793.0</td>\n",
       "      <td>Portugal</td>\n",
       "    </tr>\n",
       "    <tr>\n",
       "      <th>7214</th>\n",
       "      <td>537022</td>\n",
       "      <td>22791</td>\n",
       "      <td>T-LIGHT GLASS FLUTED ANTIQUE</td>\n",
       "      <td>12</td>\n",
       "      <td>12/3/2010 15:45</td>\n",
       "      <td>1.25</td>\n",
       "      <td>12725.0</td>\n",
       "      <td>Italy</td>\n",
       "    </tr>\n",
       "    <tr>\n",
       "      <th>7279</th>\n",
       "      <td>537026</td>\n",
       "      <td>84375</td>\n",
       "      <td>SET OF 20 KIDS COOKIE CUTTERS</td>\n",
       "      <td>12</td>\n",
       "      <td>12/3/2010 16:35</td>\n",
       "      <td>2.10</td>\n",
       "      <td>12395.0</td>\n",
       "      <td>Belgium</td>\n",
       "    </tr>\n",
       "    <tr>\n",
       "      <th>7986</th>\n",
       "      <td>537081</td>\n",
       "      <td>22409</td>\n",
       "      <td>MONEY BOX BISCUITS DESIGN</td>\n",
       "      <td>12</td>\n",
       "      <td>12/5/2010 12:00</td>\n",
       "      <td>1.25</td>\n",
       "      <td>15332.0</td>\n",
       "      <td>Lithuania</td>\n",
       "    </tr>\n",
       "    <tr>\n",
       "      <th>9783</th>\n",
       "      <td>537218</td>\n",
       "      <td>85016</td>\n",
       "      <td>SET OF 6 VINTAGE NOTELETS KIT</td>\n",
       "      <td>6</td>\n",
       "      <td>12/5/2010 15:46</td>\n",
       "      <td>2.55</td>\n",
       "      <td>12763.0</td>\n",
       "      <td>Japan</td>\n",
       "    </tr>\n",
       "    <tr>\n",
       "      <th>14938</th>\n",
       "      <td>537626</td>\n",
       "      <td>85116</td>\n",
       "      <td>BLACK CANDELABRA T-LIGHT HOLDER</td>\n",
       "      <td>12</td>\n",
       "      <td>12/7/2010 14:57</td>\n",
       "      <td>2.10</td>\n",
       "      <td>12347.0</td>\n",
       "      <td>Iceland</td>\n",
       "    </tr>\n",
       "    <tr>\n",
       "      <th>20000</th>\n",
       "      <td>538002</td>\n",
       "      <td>22690</td>\n",
       "      <td>DOORMAT HOME SWEET HOME BLUE</td>\n",
       "      <td>2</td>\n",
       "      <td>12/9/2010 11:48</td>\n",
       "      <td>7.95</td>\n",
       "      <td>14932.0</td>\n",
       "      <td>Channel Islands</td>\n",
       "    </tr>\n",
       "    <tr>\n",
       "      <th>20017</th>\n",
       "      <td>538003</td>\n",
       "      <td>22847</td>\n",
       "      <td>BREAD BIN DINER STYLE IVORY</td>\n",
       "      <td>8</td>\n",
       "      <td>12/9/2010 12:05</td>\n",
       "      <td>14.95</td>\n",
       "      <td>12429.0</td>\n",
       "      <td>Denmark</td>\n",
       "    </tr>\n",
       "    <tr>\n",
       "      <th>29732</th>\n",
       "      <td>538826</td>\n",
       "      <td>85123A</td>\n",
       "      <td>WHITE HANGING HEART T-LIGHT HOLDER</td>\n",
       "      <td>64</td>\n",
       "      <td>12/14/2010 12:58</td>\n",
       "      <td>2.55</td>\n",
       "      <td>12370.0</td>\n",
       "      <td>Cyprus</td>\n",
       "    </tr>\n",
       "    <tr>\n",
       "      <th>30078</th>\n",
       "      <td>C538847</td>\n",
       "      <td>85232B</td>\n",
       "      <td>SET OF 3 BABUSHKA STACKING TINS</td>\n",
       "      <td>-240</td>\n",
       "      <td>12/14/2010 13:27</td>\n",
       "      <td>4.95</td>\n",
       "      <td>17404.0</td>\n",
       "      <td>Sweden</td>\n",
       "    </tr>\n",
       "    <tr>\n",
       "      <th>31464</th>\n",
       "      <td>C538971</td>\n",
       "      <td>22153</td>\n",
       "      <td>ANGEL DECORATION STARS ON DRESS</td>\n",
       "      <td>-48</td>\n",
       "      <td>12/15/2010 11:39</td>\n",
       "      <td>0.42</td>\n",
       "      <td>12865.0</td>\n",
       "      <td>Austria</td>\n",
       "    </tr>\n",
       "    <tr>\n",
       "      <th>31982</th>\n",
       "      <td>C539037</td>\n",
       "      <td>84792</td>\n",
       "      <td>ENCHANTED BIRD COATHANGER 5 HOOK</td>\n",
       "      <td>-24</td>\n",
       "      <td>12/15/2010 14:42</td>\n",
       "      <td>3.81</td>\n",
       "      <td>12666.0</td>\n",
       "      <td>Israel</td>\n",
       "    </tr>\n",
       "    <tr>\n",
       "      <th>34083</th>\n",
       "      <td>539318</td>\n",
       "      <td>84992</td>\n",
       "      <td>72 SWEETHEART FAIRY CAKE CASES</td>\n",
       "      <td>72</td>\n",
       "      <td>12/16/2010 19:09</td>\n",
       "      <td>0.55</td>\n",
       "      <td>12348.0</td>\n",
       "      <td>Finland</td>\n",
       "    </tr>\n",
       "    <tr>\n",
       "      <th>38313</th>\n",
       "      <td>539500</td>\n",
       "      <td>72802B</td>\n",
       "      <td>OCEAN SCENT CANDLE IN JEWELLED BOX</td>\n",
       "      <td>54</td>\n",
       "      <td>12/20/2010 11:02</td>\n",
       "      <td>3.81</td>\n",
       "      <td>NaN</td>\n",
       "      <td>Bahrain</td>\n",
       "    </tr>\n",
       "    <tr>\n",
       "      <th>69007</th>\n",
       "      <td>541932</td>\n",
       "      <td>22699</td>\n",
       "      <td>ROSES REGENCY TEACUP AND SAUCER</td>\n",
       "      <td>24</td>\n",
       "      <td>1/24/2011 11:39</td>\n",
       "      <td>2.55</td>\n",
       "      <td>14439.0</td>\n",
       "      <td>Greece</td>\n",
       "    </tr>\n",
       "    <tr>\n",
       "      <th>69623</th>\n",
       "      <td>541975</td>\n",
       "      <td>22620</td>\n",
       "      <td>4 TRADITIONAL SPINNING TOPS</td>\n",
       "      <td>60</td>\n",
       "      <td>1/24/2011 14:24</td>\n",
       "      <td>1.25</td>\n",
       "      <td>NaN</td>\n",
       "      <td>Hong Kong</td>\n",
       "    </tr>\n",
       "    <tr>\n",
       "      <th>70758</th>\n",
       "      <td>542102</td>\n",
       "      <td>21519</td>\n",
       "      <td>GIN &amp; TONIC DIET GREETING CARD</td>\n",
       "      <td>72</td>\n",
       "      <td>1/25/2011 13:26</td>\n",
       "      <td>0.36</td>\n",
       "      <td>12744.0</td>\n",
       "      <td>Singapore</td>\n",
       "    </tr>\n",
       "    <tr>\n",
       "      <th>72985</th>\n",
       "      <td>542276</td>\n",
       "      <td>82551</td>\n",
       "      <td>LAUNDRY 15C METAL SIGN</td>\n",
       "      <td>12</td>\n",
       "      <td>1/27/2011 10:19</td>\n",
       "      <td>1.45</td>\n",
       "      <td>12764.0</td>\n",
       "      <td>Lebanon</td>\n",
       "    </tr>\n",
       "    <tr>\n",
       "      <th>89570</th>\n",
       "      <td>543911</td>\n",
       "      <td>21485</td>\n",
       "      <td>RETROSPOT HEART HOT WATER BOTTLE</td>\n",
       "      <td>6</td>\n",
       "      <td>2/14/2011 12:46</td>\n",
       "      <td>4.95</td>\n",
       "      <td>17829.0</td>\n",
       "      <td>United Arab Emirates</td>\n",
       "    </tr>\n",
       "    <tr>\n",
       "      <th>100810</th>\n",
       "      <td>544838</td>\n",
       "      <td>22915</td>\n",
       "      <td>ASSORTED BOTTLE TOP  MAGNETS</td>\n",
       "      <td>12</td>\n",
       "      <td>2/24/2011 10:34</td>\n",
       "      <td>0.42</td>\n",
       "      <td>12565.0</td>\n",
       "      <td>Saudi Arabia</td>\n",
       "    </tr>\n",
       "    <tr>\n",
       "      <th>103598</th>\n",
       "      <td>545072</td>\n",
       "      <td>22930</td>\n",
       "      <td>BAKING MOULD HEART MILK CHOCOLATE</td>\n",
       "      <td>18</td>\n",
       "      <td>2/28/2011 8:43</td>\n",
       "      <td>2.55</td>\n",
       "      <td>12781.0</td>\n",
       "      <td>Czech Republic</td>\n",
       "    </tr>\n",
       "    <tr>\n",
       "      <th>119191</th>\n",
       "      <td>546533</td>\n",
       "      <td>20886</td>\n",
       "      <td>BOX OF 9 PEBBLE CANDLES</td>\n",
       "      <td>12</td>\n",
       "      <td>3/14/2011 13:53</td>\n",
       "      <td>1.95</td>\n",
       "      <td>15388.0</td>\n",
       "      <td>Canada</td>\n",
       "    </tr>\n",
       "    <tr>\n",
       "      <th>152712</th>\n",
       "      <td>549687</td>\n",
       "      <td>20685</td>\n",
       "      <td>DOORMAT RED RETROSPOT</td>\n",
       "      <td>2</td>\n",
       "      <td>4/11/2011 13:29</td>\n",
       "      <td>7.95</td>\n",
       "      <td>12363.0</td>\n",
       "      <td>Unspecified</td>\n",
       "    </tr>\n",
       "    <tr>\n",
       "      <th>157299</th>\n",
       "      <td>550201</td>\n",
       "      <td>22423</td>\n",
       "      <td>REGENCY CAKESTAND 3 TIER</td>\n",
       "      <td>16</td>\n",
       "      <td>4/15/2011 10:25</td>\n",
       "      <td>10.95</td>\n",
       "      <td>12769.0</td>\n",
       "      <td>Brazil</td>\n",
       "    </tr>\n",
       "    <tr>\n",
       "      <th>164464</th>\n",
       "      <td>550644</td>\n",
       "      <td>22722</td>\n",
       "      <td>SET OF 6 SPICE TINS PANTRY DESIGN</td>\n",
       "      <td>7</td>\n",
       "      <td>4/19/2011 16:19</td>\n",
       "      <td>3.95</td>\n",
       "      <td>12733.0</td>\n",
       "      <td>USA</td>\n",
       "    </tr>\n",
       "    <tr>\n",
       "      <th>168149</th>\n",
       "      <td>551013</td>\n",
       "      <td>22839</td>\n",
       "      <td>3 TIER CAKE TIN GREEN AND CREAM</td>\n",
       "      <td>1</td>\n",
       "      <td>4/26/2011 10:54</td>\n",
       "      <td>14.95</td>\n",
       "      <td>15108.0</td>\n",
       "      <td>European Community</td>\n",
       "    </tr>\n",
       "    <tr>\n",
       "      <th>217684</th>\n",
       "      <td>555931</td>\n",
       "      <td>22784</td>\n",
       "      <td>LANTERN CREAM GAZEBO</td>\n",
       "      <td>3</td>\n",
       "      <td>6/8/2011 8:31</td>\n",
       "      <td>4.95</td>\n",
       "      <td>17828.0</td>\n",
       "      <td>Malta</td>\n",
       "    </tr>\n",
       "    <tr>\n",
       "      <th>395472</th>\n",
       "      <td>571035</td>\n",
       "      <td>21238</td>\n",
       "      <td>RED RETROSPOT CUP</td>\n",
       "      <td>8</td>\n",
       "      <td>10/13/2011 12:50</td>\n",
       "      <td>0.85</td>\n",
       "      <td>12446.0</td>\n",
       "      <td>RSA</td>\n",
       "    </tr>\n",
       "  </tbody>\n",
       "</table>\n",
       "</div>"
      ],
      "text/plain": [
       "       InvoiceNo StockCode                          Description  Quantity  \\\n",
       "0         536365    85123A   WHITE HANGING HEART T-LIGHT HOLDER         6   \n",
       "26        536370     22728            ALARM CLOCK BAKELIKE PINK        24   \n",
       "197       536389     22941         CHRISTMAS LIGHTS 10 REINDEER         6   \n",
       "385       536403     22867              HAND WARMER BIRD DESIGN        96   \n",
       "1109      536527     22809              SET OF 6 T-LIGHTS SANTA         6   \n",
       "1236      536532     84692          BOX OF 24 COCKTAIL PARASOLS        50   \n",
       "1404      536540     22968           ROSE COTTAGE KEEPSAKE BOX          4   \n",
       "5320      536858     22326  ROUND SNACK BOXES SET OF4 WOODLAND         30   \n",
       "6421      536944     22383              LUNCH BAG SUKI  DESIGN         70   \n",
       "6608      536971     21733     RED HANGING HEART T-LIGHT HOLDER        32   \n",
       "7134      536990     21992       VINTAGE PAISLEY STATIONERY SET         6   \n",
       "7214      537022     22791         T-LIGHT GLASS FLUTED ANTIQUE        12   \n",
       "7279      537026     84375        SET OF 20 KIDS COOKIE CUTTERS        12   \n",
       "7986      537081     22409            MONEY BOX BISCUITS DESIGN        12   \n",
       "9783      537218     85016        SET OF 6 VINTAGE NOTELETS KIT         6   \n",
       "14938     537626     85116      BLACK CANDELABRA T-LIGHT HOLDER        12   \n",
       "20000     538002     22690        DOORMAT HOME SWEET HOME BLUE          2   \n",
       "20017     538003     22847          BREAD BIN DINER STYLE IVORY         8   \n",
       "29732     538826    85123A   WHITE HANGING HEART T-LIGHT HOLDER        64   \n",
       "30078    C538847    85232B      SET OF 3 BABUSHKA STACKING TINS      -240   \n",
       "31464    C538971     22153      ANGEL DECORATION STARS ON DRESS       -48   \n",
       "31982    C539037     84792     ENCHANTED BIRD COATHANGER 5 HOOK       -24   \n",
       "34083     539318     84992       72 SWEETHEART FAIRY CAKE CASES        72   \n",
       "38313     539500    72802B   OCEAN SCENT CANDLE IN JEWELLED BOX        54   \n",
       "69007     541932     22699     ROSES REGENCY TEACUP AND SAUCER         24   \n",
       "69623     541975     22620          4 TRADITIONAL SPINNING TOPS        60   \n",
       "70758     542102     21519      GIN & TONIC DIET GREETING CARD         72   \n",
       "72985     542276     82551               LAUNDRY 15C METAL SIGN        12   \n",
       "89570     543911     21485     RETROSPOT HEART HOT WATER BOTTLE         6   \n",
       "100810    544838     22915        ASSORTED BOTTLE TOP  MAGNETS         12   \n",
       "103598    545072     22930    BAKING MOULD HEART MILK CHOCOLATE        18   \n",
       "119191    546533     20886              BOX OF 9 PEBBLE CANDLES        12   \n",
       "152712    549687     20685                DOORMAT RED RETROSPOT         2   \n",
       "157299    550201     22423             REGENCY CAKESTAND 3 TIER        16   \n",
       "164464    550644     22722    SET OF 6 SPICE TINS PANTRY DESIGN         7   \n",
       "168149    551013     22839      3 TIER CAKE TIN GREEN AND CREAM         1   \n",
       "217684    555931     22784                LANTERN CREAM GAZEBO          3   \n",
       "395472    571035     21238                    RED RETROSPOT CUP         8   \n",
       "\n",
       "             InvoiceDate  UnitPrice  CustomerID               Country  \n",
       "0         12/1/2010 8:26       2.55     17850.0        United Kingdom  \n",
       "26        12/1/2010 8:45       3.75     12583.0                France  \n",
       "197      12/1/2010 10:03       8.50     12431.0             Australia  \n",
       "385      12/1/2010 11:27       1.85     12791.0           Netherlands  \n",
       "1109     12/1/2010 13:04       2.95     12662.0               Germany  \n",
       "1236     12/1/2010 13:24       0.42     12433.0                Norway  \n",
       "1404     12/1/2010 14:05       9.95     14911.0                  EIRE  \n",
       "5320     12/3/2010 10:36       2.95     13520.0           Switzerland  \n",
       "6421     12/3/2010 12:20       1.65     12557.0                 Spain  \n",
       "6608     12/3/2010 13:40       2.55     12779.0                Poland  \n",
       "7134     12/3/2010 15:14       2.95     12793.0              Portugal  \n",
       "7214     12/3/2010 15:45       1.25     12725.0                 Italy  \n",
       "7279     12/3/2010 16:35       2.10     12395.0               Belgium  \n",
       "7986     12/5/2010 12:00       1.25     15332.0             Lithuania  \n",
       "9783     12/5/2010 15:46       2.55     12763.0                 Japan  \n",
       "14938    12/7/2010 14:57       2.10     12347.0               Iceland  \n",
       "20000    12/9/2010 11:48       7.95     14932.0       Channel Islands  \n",
       "20017    12/9/2010 12:05      14.95     12429.0               Denmark  \n",
       "29732   12/14/2010 12:58       2.55     12370.0                Cyprus  \n",
       "30078   12/14/2010 13:27       4.95     17404.0                Sweden  \n",
       "31464   12/15/2010 11:39       0.42     12865.0               Austria  \n",
       "31982   12/15/2010 14:42       3.81     12666.0                Israel  \n",
       "34083   12/16/2010 19:09       0.55     12348.0               Finland  \n",
       "38313   12/20/2010 11:02       3.81         NaN               Bahrain  \n",
       "69007    1/24/2011 11:39       2.55     14439.0                Greece  \n",
       "69623    1/24/2011 14:24       1.25         NaN             Hong Kong  \n",
       "70758    1/25/2011 13:26       0.36     12744.0             Singapore  \n",
       "72985    1/27/2011 10:19       1.45     12764.0               Lebanon  \n",
       "89570    2/14/2011 12:46       4.95     17829.0  United Arab Emirates  \n",
       "100810   2/24/2011 10:34       0.42     12565.0          Saudi Arabia  \n",
       "103598    2/28/2011 8:43       2.55     12781.0        Czech Republic  \n",
       "119191   3/14/2011 13:53       1.95     15388.0                Canada  \n",
       "152712   4/11/2011 13:29       7.95     12363.0           Unspecified  \n",
       "157299   4/15/2011 10:25      10.95     12769.0                Brazil  \n",
       "164464   4/19/2011 16:19       3.95     12733.0                   USA  \n",
       "168149   4/26/2011 10:54      14.95     15108.0    European Community  \n",
       "217684     6/8/2011 8:31       4.95     17828.0                 Malta  \n",
       "395472  10/13/2011 12:50       0.85     12446.0                   RSA  "
      ]
     },
     "execution_count": 56,
     "metadata": {},
     "output_type": "execute_result"
    }
   ],
   "source": [
    "mask = ~data[\"Country\"].duplicated()\n",
    "data[mask]"
   ]
  },
  {
   "cell_type": "code",
   "execution_count": 61,
   "id": "fc3e888e-8910-47f9-a8ac-36c1437ab9e1",
   "metadata": {},
   "outputs": [
    {
     "data": {
      "text/plain": [
       "38"
      ]
     },
     "execution_count": 61,
     "metadata": {},
     "output_type": "execute_result"
    }
   ],
   "source": [
    "len(data[mask])"
   ]
  },
  {
   "cell_type": "code",
   "execution_count": 57,
   "id": "d3eb6889-780f-4f75-9430-ff4a3d97f0b7",
   "metadata": {},
   "outputs": [
    {
     "data": {
      "text/html": [
       "<div>\n",
       "<style scoped>\n",
       "    .dataframe tbody tr th:only-of-type {\n",
       "        vertical-align: middle;\n",
       "    }\n",
       "\n",
       "    .dataframe tbody tr th {\n",
       "        vertical-align: top;\n",
       "    }\n",
       "\n",
       "    .dataframe thead th {\n",
       "        text-align: right;\n",
       "    }\n",
       "</style>\n",
       "<table border=\"1\" class=\"dataframe\">\n",
       "  <thead>\n",
       "    <tr style=\"text-align: right;\">\n",
       "      <th></th>\n",
       "      <th>InvoiceNo</th>\n",
       "      <th>StockCode</th>\n",
       "      <th>Description</th>\n",
       "      <th>Quantity</th>\n",
       "      <th>InvoiceDate</th>\n",
       "      <th>UnitPrice</th>\n",
       "      <th>CustomerID</th>\n",
       "      <th>Country</th>\n",
       "    </tr>\n",
       "  </thead>\n",
       "  <tbody>\n",
       "    <tr>\n",
       "      <th>0</th>\n",
       "      <td>536365</td>\n",
       "      <td>85123A</td>\n",
       "      <td>WHITE HANGING HEART T-LIGHT HOLDER</td>\n",
       "      <td>6</td>\n",
       "      <td>12/1/2010 8:26</td>\n",
       "      <td>2.55</td>\n",
       "      <td>17850.0</td>\n",
       "      <td>United Kingdom</td>\n",
       "    </tr>\n",
       "    <tr>\n",
       "      <th>1</th>\n",
       "      <td>536365</td>\n",
       "      <td>71053</td>\n",
       "      <td>WHITE METAL LANTERN</td>\n",
       "      <td>6</td>\n",
       "      <td>12/1/2010 8:26</td>\n",
       "      <td>3.39</td>\n",
       "      <td>17850.0</td>\n",
       "      <td>United Kingdom</td>\n",
       "    </tr>\n",
       "    <tr>\n",
       "      <th>2</th>\n",
       "      <td>536365</td>\n",
       "      <td>84406B</td>\n",
       "      <td>CREAM CUPID HEARTS COAT HANGER</td>\n",
       "      <td>8</td>\n",
       "      <td>12/1/2010 8:26</td>\n",
       "      <td>2.75</td>\n",
       "      <td>17850.0</td>\n",
       "      <td>United Kingdom</td>\n",
       "    </tr>\n",
       "    <tr>\n",
       "      <th>3</th>\n",
       "      <td>536365</td>\n",
       "      <td>84029G</td>\n",
       "      <td>KNITTED UNION FLAG HOT WATER BOTTLE</td>\n",
       "      <td>6</td>\n",
       "      <td>12/1/2010 8:26</td>\n",
       "      <td>3.39</td>\n",
       "      <td>17850.0</td>\n",
       "      <td>United Kingdom</td>\n",
       "    </tr>\n",
       "    <tr>\n",
       "      <th>4</th>\n",
       "      <td>536365</td>\n",
       "      <td>84029E</td>\n",
       "      <td>RED WOOLLY HOTTIE WHITE HEART.</td>\n",
       "      <td>6</td>\n",
       "      <td>12/1/2010 8:26</td>\n",
       "      <td>3.39</td>\n",
       "      <td>17850.0</td>\n",
       "      <td>United Kingdom</td>\n",
       "    </tr>\n",
       "    <tr>\n",
       "      <th>...</th>\n",
       "      <td>...</td>\n",
       "      <td>...</td>\n",
       "      <td>...</td>\n",
       "      <td>...</td>\n",
       "      <td>...</td>\n",
       "      <td>...</td>\n",
       "      <td>...</td>\n",
       "      <td>...</td>\n",
       "    </tr>\n",
       "    <tr>\n",
       "      <th>541904</th>\n",
       "      <td>581587</td>\n",
       "      <td>22613</td>\n",
       "      <td>PACK OF 20 SPACEBOY NAPKINS</td>\n",
       "      <td>12</td>\n",
       "      <td>12/9/2011 12:50</td>\n",
       "      <td>0.85</td>\n",
       "      <td>12680.0</td>\n",
       "      <td>France</td>\n",
       "    </tr>\n",
       "    <tr>\n",
       "      <th>541905</th>\n",
       "      <td>581587</td>\n",
       "      <td>22899</td>\n",
       "      <td>CHILDREN'S APRON DOLLY GIRL</td>\n",
       "      <td>6</td>\n",
       "      <td>12/9/2011 12:50</td>\n",
       "      <td>2.10</td>\n",
       "      <td>12680.0</td>\n",
       "      <td>France</td>\n",
       "    </tr>\n",
       "    <tr>\n",
       "      <th>541906</th>\n",
       "      <td>581587</td>\n",
       "      <td>23254</td>\n",
       "      <td>CHILDRENS CUTLERY DOLLY GIRL</td>\n",
       "      <td>4</td>\n",
       "      <td>12/9/2011 12:50</td>\n",
       "      <td>4.15</td>\n",
       "      <td>12680.0</td>\n",
       "      <td>France</td>\n",
       "    </tr>\n",
       "    <tr>\n",
       "      <th>541907</th>\n",
       "      <td>581587</td>\n",
       "      <td>23255</td>\n",
       "      <td>CHILDRENS CUTLERY CIRCUS PARADE</td>\n",
       "      <td>4</td>\n",
       "      <td>12/9/2011 12:50</td>\n",
       "      <td>4.15</td>\n",
       "      <td>12680.0</td>\n",
       "      <td>France</td>\n",
       "    </tr>\n",
       "    <tr>\n",
       "      <th>541908</th>\n",
       "      <td>581587</td>\n",
       "      <td>22138</td>\n",
       "      <td>BAKING SET 9 PIECE RETROSPOT</td>\n",
       "      <td>3</td>\n",
       "      <td>12/9/2011 12:50</td>\n",
       "      <td>4.95</td>\n",
       "      <td>12680.0</td>\n",
       "      <td>France</td>\n",
       "    </tr>\n",
       "  </tbody>\n",
       "</table>\n",
       "<p>541909 rows × 8 columns</p>\n",
       "</div>"
      ],
      "text/plain": [
       "       InvoiceNo StockCode                          Description  Quantity  \\\n",
       "0         536365    85123A   WHITE HANGING HEART T-LIGHT HOLDER         6   \n",
       "1         536365     71053                  WHITE METAL LANTERN         6   \n",
       "2         536365    84406B       CREAM CUPID HEARTS COAT HANGER         8   \n",
       "3         536365    84029G  KNITTED UNION FLAG HOT WATER BOTTLE         6   \n",
       "4         536365    84029E       RED WOOLLY HOTTIE WHITE HEART.         6   \n",
       "...          ...       ...                                  ...       ...   \n",
       "541904    581587     22613          PACK OF 20 SPACEBOY NAPKINS        12   \n",
       "541905    581587     22899         CHILDREN'S APRON DOLLY GIRL          6   \n",
       "541906    581587     23254        CHILDRENS CUTLERY DOLLY GIRL          4   \n",
       "541907    581587     23255      CHILDRENS CUTLERY CIRCUS PARADE         4   \n",
       "541908    581587     22138        BAKING SET 9 PIECE RETROSPOT          3   \n",
       "\n",
       "            InvoiceDate  UnitPrice  CustomerID         Country  \n",
       "0        12/1/2010 8:26       2.55     17850.0  United Kingdom  \n",
       "1        12/1/2010 8:26       3.39     17850.0  United Kingdom  \n",
       "2        12/1/2010 8:26       2.75     17850.0  United Kingdom  \n",
       "3        12/1/2010 8:26       3.39     17850.0  United Kingdom  \n",
       "4        12/1/2010 8:26       3.39     17850.0  United Kingdom  \n",
       "...                 ...        ...         ...             ...  \n",
       "541904  12/9/2011 12:50       0.85     12680.0          France  \n",
       "541905  12/9/2011 12:50       2.10     12680.0          France  \n",
       "541906  12/9/2011 12:50       4.15     12680.0          France  \n",
       "541907  12/9/2011 12:50       4.15     12680.0          France  \n",
       "541908  12/9/2011 12:50       4.95     12680.0          France  \n",
       "\n",
       "[541909 rows x 8 columns]"
      ]
     },
     "execution_count": 57,
     "metadata": {},
     "output_type": "execute_result"
    }
   ],
   "source": [
    "data"
   ]
  },
  {
   "cell_type": "code",
   "execution_count": 58,
   "id": "7625e4e5-44d8-4608-b54a-f7fe87688bc7",
   "metadata": {},
   "outputs": [
    {
     "data": {
      "text/plain": [
       "541909"
      ]
     },
     "execution_count": 58,
     "metadata": {},
     "output_type": "execute_result"
    }
   ],
   "source": [
    "len(data)"
   ]
  },
  {
   "cell_type": "code",
   "execution_count": 59,
   "id": "bef14ec7-9610-4b26-a81f-49635f119d74",
   "metadata": {},
   "outputs": [
    {
     "data": {
      "text/plain": [
       "536641"
      ]
     },
     "execution_count": 59,
     "metadata": {},
     "output_type": "execute_result"
    }
   ],
   "source": [
    "len(data.drop_duplicates())"
   ]
  },
  {
   "cell_type": "code",
   "execution_count": 60,
   "id": "44cd51cb-0d5a-4f45-928e-719dd6bea62a",
   "metadata": {},
   "outputs": [
    {
     "data": {
      "text/plain": [
       "38"
      ]
     },
     "execution_count": 60,
     "metadata": {},
     "output_type": "execute_result"
    }
   ],
   "source": [
    "len(data.drop_duplicates(subset=[\"Country\"]))"
   ]
  },
  {
   "cell_type": "code",
   "execution_count": 62,
   "id": "deca62e8-f2fa-4cd6-a173-bafe6887ae22",
   "metadata": {},
   "outputs": [
    {
     "data": {
      "text/plain": [
       "0         United Kingdom\n",
       "1         United Kingdom\n",
       "2         United Kingdom\n",
       "3         United Kingdom\n",
       "4         United Kingdom\n",
       "               ...      \n",
       "541904            France\n",
       "541905            France\n",
       "541906            France\n",
       "541907            France\n",
       "541908            France\n",
       "Name: Country, Length: 541909, dtype: object"
      ]
     },
     "execution_count": 62,
     "metadata": {},
     "output_type": "execute_result"
    }
   ],
   "source": [
    "data[\"Country\"]"
   ]
  },
  {
   "cell_type": "code",
   "execution_count": 63,
   "id": "0dc8a9c5-86f1-44d7-a0d3-fa8f81384d6c",
   "metadata": {},
   "outputs": [
    {
     "data": {
      "text/plain": [
       "array(['United Kingdom', 'France', 'Australia', 'Netherlands', 'Germany',\n",
       "       'Norway', 'EIRE', 'Switzerland', 'Spain', 'Poland', 'Portugal',\n",
       "       'Italy', 'Belgium', 'Lithuania', 'Japan', 'Iceland',\n",
       "       'Channel Islands', 'Denmark', 'Cyprus', 'Sweden', 'Austria',\n",
       "       'Israel', 'Finland', 'Bahrain', 'Greece', 'Hong Kong', 'Singapore',\n",
       "       'Lebanon', 'United Arab Emirates', 'Saudi Arabia',\n",
       "       'Czech Republic', 'Canada', 'Unspecified', 'Brazil', 'USA',\n",
       "       'European Community', 'Malta', 'RSA'], dtype=object)"
      ]
     },
     "execution_count": 63,
     "metadata": {},
     "output_type": "execute_result"
    }
   ],
   "source": [
    "data[\"Country\"].unique()"
   ]
  },
  {
   "cell_type": "code",
   "execution_count": 64,
   "id": "901be2c7-c1e7-41e4-962f-8d720b0fac29",
   "metadata": {},
   "outputs": [
    {
     "data": {
      "text/plain": [
       "38"
      ]
     },
     "execution_count": 64,
     "metadata": {},
     "output_type": "execute_result"
    }
   ],
   "source": [
    "len(data[\"Country\"].unique())"
   ]
  },
  {
   "cell_type": "code",
   "execution_count": 65,
   "id": "a06b5dae-bfc5-4635-8c19-effb517f6e78",
   "metadata": {},
   "outputs": [
    {
     "data": {
      "text/html": [
       "<div>\n",
       "<style scoped>\n",
       "    .dataframe tbody tr th:only-of-type {\n",
       "        vertical-align: middle;\n",
       "    }\n",
       "\n",
       "    .dataframe tbody tr th {\n",
       "        vertical-align: top;\n",
       "    }\n",
       "\n",
       "    .dataframe thead th {\n",
       "        text-align: right;\n",
       "    }\n",
       "</style>\n",
       "<table border=\"1\" class=\"dataframe\">\n",
       "  <thead>\n",
       "    <tr style=\"text-align: right;\">\n",
       "      <th></th>\n",
       "      <th>InvoiceNo</th>\n",
       "      <th>StockCode</th>\n",
       "      <th>Description</th>\n",
       "      <th>Quantity</th>\n",
       "      <th>InvoiceDate</th>\n",
       "      <th>UnitPrice</th>\n",
       "      <th>CustomerID</th>\n",
       "      <th>Country</th>\n",
       "    </tr>\n",
       "  </thead>\n",
       "  <tbody>\n",
       "    <tr>\n",
       "      <th>0</th>\n",
       "      <td>536365</td>\n",
       "      <td>85123A</td>\n",
       "      <td>WHITE HANGING HEART T-LIGHT HOLDER</td>\n",
       "      <td>6</td>\n",
       "      <td>12/1/2010 8:26</td>\n",
       "      <td>2.55</td>\n",
       "      <td>17850.0</td>\n",
       "      <td>United Kingdom</td>\n",
       "    </tr>\n",
       "    <tr>\n",
       "      <th>1</th>\n",
       "      <td>536365</td>\n",
       "      <td>71053</td>\n",
       "      <td>WHITE METAL LANTERN</td>\n",
       "      <td>6</td>\n",
       "      <td>12/1/2010 8:26</td>\n",
       "      <td>3.39</td>\n",
       "      <td>17850.0</td>\n",
       "      <td>United Kingdom</td>\n",
       "    </tr>\n",
       "    <tr>\n",
       "      <th>2</th>\n",
       "      <td>536365</td>\n",
       "      <td>84406B</td>\n",
       "      <td>CREAM CUPID HEARTS COAT HANGER</td>\n",
       "      <td>8</td>\n",
       "      <td>12/1/2010 8:26</td>\n",
       "      <td>2.75</td>\n",
       "      <td>17850.0</td>\n",
       "      <td>United Kingdom</td>\n",
       "    </tr>\n",
       "    <tr>\n",
       "      <th>3</th>\n",
       "      <td>536365</td>\n",
       "      <td>84029G</td>\n",
       "      <td>KNITTED UNION FLAG HOT WATER BOTTLE</td>\n",
       "      <td>6</td>\n",
       "      <td>12/1/2010 8:26</td>\n",
       "      <td>3.39</td>\n",
       "      <td>17850.0</td>\n",
       "      <td>United Kingdom</td>\n",
       "    </tr>\n",
       "    <tr>\n",
       "      <th>4</th>\n",
       "      <td>536365</td>\n",
       "      <td>84029E</td>\n",
       "      <td>RED WOOLLY HOTTIE WHITE HEART.</td>\n",
       "      <td>6</td>\n",
       "      <td>12/1/2010 8:26</td>\n",
       "      <td>3.39</td>\n",
       "      <td>17850.0</td>\n",
       "      <td>United Kingdom</td>\n",
       "    </tr>\n",
       "    <tr>\n",
       "      <th>...</th>\n",
       "      <td>...</td>\n",
       "      <td>...</td>\n",
       "      <td>...</td>\n",
       "      <td>...</td>\n",
       "      <td>...</td>\n",
       "      <td>...</td>\n",
       "      <td>...</td>\n",
       "      <td>...</td>\n",
       "    </tr>\n",
       "    <tr>\n",
       "      <th>541904</th>\n",
       "      <td>581587</td>\n",
       "      <td>22613</td>\n",
       "      <td>PACK OF 20 SPACEBOY NAPKINS</td>\n",
       "      <td>12</td>\n",
       "      <td>12/9/2011 12:50</td>\n",
       "      <td>0.85</td>\n",
       "      <td>12680.0</td>\n",
       "      <td>France</td>\n",
       "    </tr>\n",
       "    <tr>\n",
       "      <th>541905</th>\n",
       "      <td>581587</td>\n",
       "      <td>22899</td>\n",
       "      <td>CHILDREN'S APRON DOLLY GIRL</td>\n",
       "      <td>6</td>\n",
       "      <td>12/9/2011 12:50</td>\n",
       "      <td>2.10</td>\n",
       "      <td>12680.0</td>\n",
       "      <td>France</td>\n",
       "    </tr>\n",
       "    <tr>\n",
       "      <th>541906</th>\n",
       "      <td>581587</td>\n",
       "      <td>23254</td>\n",
       "      <td>CHILDRENS CUTLERY DOLLY GIRL</td>\n",
       "      <td>4</td>\n",
       "      <td>12/9/2011 12:50</td>\n",
       "      <td>4.15</td>\n",
       "      <td>12680.0</td>\n",
       "      <td>France</td>\n",
       "    </tr>\n",
       "    <tr>\n",
       "      <th>541907</th>\n",
       "      <td>581587</td>\n",
       "      <td>23255</td>\n",
       "      <td>CHILDRENS CUTLERY CIRCUS PARADE</td>\n",
       "      <td>4</td>\n",
       "      <td>12/9/2011 12:50</td>\n",
       "      <td>4.15</td>\n",
       "      <td>12680.0</td>\n",
       "      <td>France</td>\n",
       "    </tr>\n",
       "    <tr>\n",
       "      <th>541908</th>\n",
       "      <td>581587</td>\n",
       "      <td>22138</td>\n",
       "      <td>BAKING SET 9 PIECE RETROSPOT</td>\n",
       "      <td>3</td>\n",
       "      <td>12/9/2011 12:50</td>\n",
       "      <td>4.95</td>\n",
       "      <td>12680.0</td>\n",
       "      <td>France</td>\n",
       "    </tr>\n",
       "  </tbody>\n",
       "</table>\n",
       "<p>541909 rows × 8 columns</p>\n",
       "</div>"
      ],
      "text/plain": [
       "       InvoiceNo StockCode                          Description  Quantity  \\\n",
       "0         536365    85123A   WHITE HANGING HEART T-LIGHT HOLDER         6   \n",
       "1         536365     71053                  WHITE METAL LANTERN         6   \n",
       "2         536365    84406B       CREAM CUPID HEARTS COAT HANGER         8   \n",
       "3         536365    84029G  KNITTED UNION FLAG HOT WATER BOTTLE         6   \n",
       "4         536365    84029E       RED WOOLLY HOTTIE WHITE HEART.         6   \n",
       "...          ...       ...                                  ...       ...   \n",
       "541904    581587     22613          PACK OF 20 SPACEBOY NAPKINS        12   \n",
       "541905    581587     22899         CHILDREN'S APRON DOLLY GIRL          6   \n",
       "541906    581587     23254        CHILDRENS CUTLERY DOLLY GIRL          4   \n",
       "541907    581587     23255      CHILDRENS CUTLERY CIRCUS PARADE         4   \n",
       "541908    581587     22138        BAKING SET 9 PIECE RETROSPOT          3   \n",
       "\n",
       "            InvoiceDate  UnitPrice  CustomerID         Country  \n",
       "0        12/1/2010 8:26       2.55     17850.0  United Kingdom  \n",
       "1        12/1/2010 8:26       3.39     17850.0  United Kingdom  \n",
       "2        12/1/2010 8:26       2.75     17850.0  United Kingdom  \n",
       "3        12/1/2010 8:26       3.39     17850.0  United Kingdom  \n",
       "4        12/1/2010 8:26       3.39     17850.0  United Kingdom  \n",
       "...                 ...        ...         ...             ...  \n",
       "541904  12/9/2011 12:50       0.85     12680.0          France  \n",
       "541905  12/9/2011 12:50       2.10     12680.0          France  \n",
       "541906  12/9/2011 12:50       4.15     12680.0          France  \n",
       "541907  12/9/2011 12:50       4.15     12680.0          France  \n",
       "541908  12/9/2011 12:50       4.95     12680.0          France  \n",
       "\n",
       "[541909 rows x 8 columns]"
      ]
     },
     "execution_count": 65,
     "metadata": {},
     "output_type": "execute_result"
    }
   ],
   "source": [
    "data"
   ]
  },
  {
   "cell_type": "code",
   "execution_count": 67,
   "id": "334d26b3-7d93-42c5-9d0c-f661a7bb91f6",
   "metadata": {},
   "outputs": [
    {
     "data": {
      "text/plain": [
       "pandas.core.series.Series"
      ]
     },
     "execution_count": 67,
     "metadata": {},
     "output_type": "execute_result"
    }
   ],
   "source": [
    "type(data[\"Country\"])"
   ]
  },
  {
   "cell_type": "code",
   "execution_count": 68,
   "id": "f9ff302f-0845-48c5-a4b3-df0e5d48f05d",
   "metadata": {},
   "outputs": [
    {
     "name": "stdout",
     "output_type": "stream",
     "text": [
      "0         UNITED KINGDOM\n",
      "1         UNITED KINGDOM\n",
      "2         UNITED KINGDOM\n",
      "3         UNITED KINGDOM\n",
      "4         UNITED KINGDOM\n",
      "               ...      \n",
      "541904            FRANCE\n",
      "541905            FRANCE\n",
      "541906            FRANCE\n",
      "541907            FRANCE\n",
      "541908            FRANCE\n",
      "Name: Country, Length: 541909, dtype: object\n",
      "0         united kingdom\n",
      "1         united kingdom\n",
      "2         united kingdom\n",
      "3         united kingdom\n",
      "4         united kingdom\n",
      "               ...      \n",
      "541904            france\n",
      "541905            france\n",
      "541906            france\n",
      "541907            france\n",
      "541908            france\n",
      "Name: Country, Length: 541909, dtype: object\n",
      "0         United Kingdom\n",
      "1         United Kingdom\n",
      "2         United Kingdom\n",
      "3         United Kingdom\n",
      "4         United Kingdom\n",
      "               ...      \n",
      "541904            France\n",
      "541905            France\n",
      "541906            France\n",
      "541907            France\n",
      "541908            France\n",
      "Name: Country, Length: 541909, dtype: object\n"
     ]
    }
   ],
   "source": [
    "print(data[\"Country\"].str.upper())\n",
    "print(data[\"Country\"].str.lower())\n",
    "print(data[\"Country\"].str.title())"
   ]
  },
  {
   "cell_type": "code",
   "execution_count": 69,
   "id": "fbb40dd2-8b68-4911-af4a-e70d3df37227",
   "metadata": {},
   "outputs": [
    {
     "name": "stdout",
     "output_type": "stream",
     "text": [
      "22\n"
     ]
    }
   ],
   "source": [
    "print(len(\"benim adım stephen mi?\"))"
   ]
  },
  {
   "cell_type": "code",
   "execution_count": 70,
   "id": "0b2445a9-7a58-4dce-b673-2160c5cac3bd",
   "metadata": {},
   "outputs": [
    {
     "name": "stdout",
     "output_type": "stream",
     "text": [
      "541909\n"
     ]
    }
   ],
   "source": [
    "print(len(data[\"Country\"]))"
   ]
  },
  {
   "cell_type": "code",
   "execution_count": 72,
   "id": "7e80f126-7d6e-43cd-aeb1-6284f0a2de19",
   "metadata": {},
   "outputs": [
    {
     "name": "stdout",
     "output_type": "stream",
     "text": [
      "0         14\n",
      "1         14\n",
      "2         14\n",
      "3         14\n",
      "4         14\n",
      "          ..\n",
      "541904     6\n",
      "541905     6\n",
      "541906     6\n",
      "541907     6\n",
      "541908     6\n",
      "Name: Country, Length: 541909, dtype: int64\n"
     ]
    }
   ],
   "source": [
    "print(data[\"Country\"].str.len())"
   ]
  },
  {
   "cell_type": "code",
   "execution_count": 73,
   "id": "2f52a459-7a69-4e65-ae67-56fd00ed6d01",
   "metadata": {},
   "outputs": [
    {
     "name": "stdout",
     "output_type": "stream",
     "text": [
      "bu neder arkadas anlamadım\n"
     ]
    }
   ],
   "source": [
    "print(\"bu nedir arkadas anlamadım\".replace(\"i\",\"e\"))"
   ]
  },
  {
   "cell_type": "code",
   "execution_count": 75,
   "id": "b8ae6664-072d-4ad7-afa7-446bfc91ea18",
   "metadata": {},
   "outputs": [
    {
     "data": {
      "text/plain": [
       "0             UK\n",
       "1             UK\n",
       "2             UK\n",
       "3             UK\n",
       "4             UK\n",
       "           ...  \n",
       "541904    France\n",
       "541905    France\n",
       "541906    France\n",
       "541907    France\n",
       "541908    France\n",
       "Name: Country, Length: 541909, dtype: object"
      ]
     },
     "execution_count": 75,
     "metadata": {},
     "output_type": "execute_result"
    }
   ],
   "source": [
    "data[\"Country\"].str.replace(\"United Kingdom\",\"UK\")"
   ]
  },
  {
   "cell_type": "code",
   "execution_count": 77,
   "id": "d929f9f1-657c-489a-96f7-c90b31ff0c16",
   "metadata": {},
   "outputs": [
    {
     "data": {
      "text/plain": [
       "0          True\n",
       "1          True\n",
       "2          True\n",
       "3          True\n",
       "4          True\n",
       "          ...  \n",
       "541904    False\n",
       "541905    False\n",
       "541906    False\n",
       "541907    False\n",
       "541908    False\n",
       "Name: Country, Length: 541909, dtype: bool"
      ]
     },
     "execution_count": 77,
     "metadata": {},
     "output_type": "execute_result"
    }
   ],
   "source": [
    "data[\"Country\"].str.lower().str.contains(\"kingdom\") # hepsini küçük harfe çevirdiğimden dolayı kingdom küçük olarak yazdım."
   ]
  },
  {
   "cell_type": "code",
   "execution_count": 79,
   "id": "4bf0f9f5-310b-4502-a415-d74fe70000ad",
   "metadata": {},
   "outputs": [
    {
     "data": {
      "text/plain": [
       "0         False\n",
       "1         False\n",
       "2         False\n",
       "3         False\n",
       "4         False\n",
       "          ...  \n",
       "541904     True\n",
       "541905     True\n",
       "541906     True\n",
       "541907     True\n",
       "541908     True\n",
       "Name: Country, Length: 541909, dtype: bool"
      ]
     },
     "execution_count": 79,
     "metadata": {},
     "output_type": "execute_result"
    }
   ],
   "source": [
    "data[\"Country\"].str.lower().str.startswith(\"fr\")"
   ]
  },
  {
   "cell_type": "code",
   "execution_count": 80,
   "id": "c53a2712-8974-4544-8b44-e9edad93e4ba",
   "metadata": {},
   "outputs": [
    {
     "name": "stdout",
     "output_type": "stream",
     "text": [
      "<class 'pandas.core.frame.DataFrame'>\n",
      "RangeIndex: 541909 entries, 0 to 541908\n",
      "Data columns (total 8 columns):\n",
      " #   Column       Non-Null Count   Dtype  \n",
      "---  ------       --------------   -----  \n",
      " 0   InvoiceNo    541909 non-null  object \n",
      " 1   StockCode    541909 non-null  object \n",
      " 2   Description  540455 non-null  object \n",
      " 3   Quantity     541909 non-null  int64  \n",
      " 4   InvoiceDate  541909 non-null  object \n",
      " 5   UnitPrice    541909 non-null  float64\n",
      " 6   CustomerID   406829 non-null  float64\n",
      " 7   Country      541909 non-null  object \n",
      "dtypes: float64(2), int64(1), object(5)\n",
      "memory usage: 33.1+ MB\n"
     ]
    }
   ],
   "source": [
    "data.info()"
   ]
  },
  {
   "cell_type": "code",
   "execution_count": 81,
   "id": "e4fc47cc-cce9-482b-8b24-765c41a0d3c2",
   "metadata": {},
   "outputs": [
    {
     "data": {
      "text/plain": [
       "0         United Kingdom\n",
       "1         United Kingdom\n",
       "2         United Kingdom\n",
       "3         United Kingdom\n",
       "4         United Kingdom\n",
       "               ...      \n",
       "541904            France\n",
       "541905            France\n",
       "541906            France\n",
       "541907            France\n",
       "541908            France\n",
       "Name: Country, Length: 541909, dtype: object"
      ]
     },
     "execution_count": 81,
     "metadata": {},
     "output_type": "execute_result"
    }
   ],
   "source": [
    "data[\"Country\"]"
   ]
  },
  {
   "cell_type": "code",
   "execution_count": 84,
   "id": "6edf9d0d-a321-4a1a-9c38-3bc9d57fcb9b",
   "metadata": {},
   "outputs": [
    {
     "name": "stdout",
     "output_type": "stream",
     "text": [
      "ben kimim b   il iyor musun   .\n"
     ]
    }
   ],
   "source": [
    "print(\"    ben kimim b   il iyor musun   .     \".strip())"
   ]
  },
  {
   "cell_type": "code",
   "execution_count": 85,
   "id": "93836a43-15a7-4ccc-80f8-219b4c66e889",
   "metadata": {},
   "outputs": [
    {
     "name": "stdout",
     "output_type": "stream",
     "text": [
      "    ben kimim b   il iyor musun  ?   \n"
     ]
    }
   ],
   "source": [
    "print(\"    ben kimim b   il iyor musun  ?   \")"
   ]
  },
  {
   "cell_type": "code",
   "execution_count": 86,
   "id": "6f9426fd-8701-4f20-b209-1357b0b67bdc",
   "metadata": {},
   "outputs": [
    {
     "data": {
      "text/plain": [
       "['', 'ben', 'kimim', 'ne', 'rede', '?', '']"
      ]
     },
     "execution_count": 86,
     "metadata": {},
     "output_type": "execute_result"
    }
   ],
   "source": [
    "\" ben kimim ne rede ? \".split(\" \")"
   ]
  },
  {
   "cell_type": "code",
   "execution_count": 87,
   "id": "6da01f41-f2c5-4e2a-8cff-7ab47bff0a5c",
   "metadata": {},
   "outputs": [
    {
     "data": {
      "text/plain": [
       "0         [United, Kingdom]\n",
       "1         [United, Kingdom]\n",
       "2         [United, Kingdom]\n",
       "3         [United, Kingdom]\n",
       "4         [United, Kingdom]\n",
       "                ...        \n",
       "541904             [France]\n",
       "541905             [France]\n",
       "541906             [France]\n",
       "541907             [France]\n",
       "541908             [France]\n",
       "Name: Country, Length: 541909, dtype: object"
      ]
     },
     "execution_count": 87,
     "metadata": {},
     "output_type": "execute_result"
    }
   ],
   "source": [
    "data[\"Country\"].str.split(\" \")"
   ]
  },
  {
   "cell_type": "code",
   "execution_count": 88,
   "id": "c7df1162-0dcf-41f9-a1fd-e3f0468b113b",
   "metadata": {},
   "outputs": [
    {
     "data": {
      "text/plain": [
       "0         United\n",
       "1         United\n",
       "2         United\n",
       "3         United\n",
       "4         United\n",
       "           ...  \n",
       "541904    France\n",
       "541905    France\n",
       "541906    France\n",
       "541907    France\n",
       "541908    France\n",
       "Name: Country, Length: 541909, dtype: object"
      ]
     },
     "execution_count": 88,
     "metadata": {},
     "output_type": "execute_result"
    }
   ],
   "source": [
    "data[\"Country\"].str.split(\" \").str.get(0)"
   ]
  },
  {
   "cell_type": "code",
   "execution_count": 89,
   "id": "daaa6029-586f-4816-afce-171ad5e6f972",
   "metadata": {},
   "outputs": [
    {
     "data": {
      "text/plain": [
       "0         Kingdom\n",
       "1         Kingdom\n",
       "2         Kingdom\n",
       "3         Kingdom\n",
       "4         Kingdom\n",
       "           ...   \n",
       "541904        NaN\n",
       "541905        NaN\n",
       "541906        NaN\n",
       "541907        NaN\n",
       "541908        NaN\n",
       "Name: Country, Length: 541909, dtype: object"
      ]
     },
     "execution_count": 89,
     "metadata": {},
     "output_type": "execute_result"
    }
   ],
   "source": [
    "data[\"Country\"].str.split(\" \").str.get(1)"
   ]
  },
  {
   "cell_type": "code",
   "execution_count": null,
   "id": "d061851c-7a9b-492e-a54a-750eab2b74a0",
   "metadata": {},
   "outputs": [],
   "source": []
  }
 ],
 "metadata": {
  "kernelspec": {
   "display_name": "Python 3",
   "language": "python",
   "name": "python3"
  },
  "language_info": {
   "codemirror_mode": {
    "name": "ipython",
    "version": 3
   },
   "file_extension": ".py",
   "mimetype": "text/x-python",
   "name": "python",
   "nbconvert_exporter": "python",
   "pygments_lexer": "ipython3",
   "version": "3.8.8"
  }
 },
 "nbformat": 4,
 "nbformat_minor": 5
}
