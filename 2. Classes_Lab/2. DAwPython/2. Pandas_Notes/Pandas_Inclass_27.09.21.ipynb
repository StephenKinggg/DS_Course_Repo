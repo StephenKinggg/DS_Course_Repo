{
 "cells": [
  {
   "cell_type": "code",
   "execution_count": 27,
   "id": "0b8578ac-6a88-4c47-9369-85bb7f342818",
   "metadata": {},
   "outputs": [],
   "source": [
    "import numpy as np\n",
    "import pandas as pd\n",
    "import matplotlib.pyplot as plt\n",
    "import seaborn as sns\n",
    "%matplotlib inline\n"
   ]
  },
  {
   "cell_type": "code",
   "execution_count": 28,
   "id": "ed3b3ce1-4878-4f9c-bb0b-0bbddb055aab",
   "metadata": {},
   "outputs": [
    {
     "data": {
      "text/plain": [
       "array([41, 40, 28, 32, 43, 25, 42, 31, 29, 31, 30, 38, 35, 25, 40, 31, 39,\n",
       "       31, 39, 38, 26, 40, 28, 36, 30, 36, 30, 31, 38, 27, 27, 28, 30, 25,\n",
       "       38, 44, 31, 40, 26, 40, 35, 30, 44, 28, 40, 32, 39, 41, 34, 41])"
      ]
     },
     "execution_count": 28,
     "metadata": {},
     "output_type": "execute_result"
    }
   ],
   "source": [
    "age = np.random.randint(25,45,50)\n",
    "age"
   ]
  },
  {
   "cell_type": "code",
   "execution_count": 37,
   "id": "9e79668f-aee2-48b6-a645-b341f2374734",
   "metadata": {},
   "outputs": [
    {
     "data": {
      "text/plain": [
       "array([-1, -1, 99, 99, 43, 25, 42, 31, 29, 31, 30, 38, 35, 25, 40, 31, 39,\n",
       "       31, 39, 38, 26, 40, 28, 36, 30, 36, 30, 31, 38, 27, 27, 28, 30, 25,\n",
       "       38, 44, 31, 40, 26, 40, 35, 30, 44, 28, 40, 32, 39, 41, 34, 41])"
      ]
     },
     "execution_count": 37,
     "metadata": {},
     "output_type": "execute_result"
    }
   ],
   "source": [
    "age[0:2] = -1\n",
    "age[2:4] = 99\n",
    "age"
   ]
  },
  {
   "cell_type": "code",
   "execution_count": 50,
   "id": "d147c88d-a866-4a40-84b3-8f8e33b3e28f",
   "metadata": {},
   "outputs": [
    {
     "data": {
      "image/png": "[encoded data removed]",
      "text/plain": [
       "<Figure size 432x288 with 1 Axes>"
      ]
     },
     "metadata": {
      "needs_background": "light"
     },
     "output_type": "display_data"
    }
   ],
   "source": [
    "plt.hist(age,bins=50)\n",
    "plt.show()"
   ]
  },
  {
   "cell_type": "code",
   "execution_count": 39,
   "id": "018ff3c6-fac2-4f1b-9f25-bb4fe10ec681",
   "metadata": {},
   "outputs": [
    {
     "data": {
      "image/png": "[encoded data removed]",
      "text/plain": [
       "<Figure size 432x288 with 1 Axes>"
      ]
     },
     "metadata": {
      "needs_background": "light"
     },
     "output_type": "display_data"
    }
   ],
   "source": [
    "plt.boxplot(age)\n",
    "plt.show()"
   ]
  },
  {
   "cell_type": "code",
   "execution_count": 40,
   "id": "fbe70f94-f5a4-46bf-bc35-6bf34713b123",
   "metadata": {},
   "outputs": [
    {
     "data": {
      "text/plain": [
       "array([-1, -1])"
      ]
     },
     "execution_count": 40,
     "metadata": {},
     "output_type": "execute_result"
    }
   ],
   "source": [
    "age[age<25]"
   ]
  },
  {
   "cell_type": "code",
   "execution_count": 41,
   "id": "6225c0e8-b5c0-4656-a7bc-2acfd76c1ce6",
   "metadata": {},
   "outputs": [
    {
     "data": {
      "text/plain": [
       "array([99, 99])"
      ]
     },
     "execution_count": 41,
     "metadata": {},
     "output_type": "execute_result"
    }
   ],
   "source": [
    "age[age>50]"
   ]
  },
  {
   "cell_type": "code",
   "execution_count": 42,
   "id": "23f43f69-33ec-451e-b1fb-2bc4b98fb60f",
   "metadata": {},
   "outputs": [
    {
     "name": "stdout",
     "output_type": "stream",
     "text": [
      "-1\n",
      "-1\n"
     ]
    }
   ],
   "source": [
    "for i in range(len(age)):\n",
    "    if age[i]<25:\n",
    "        print(age[i])"
   ]
  },
  {
   "cell_type": "code",
   "execution_count": 43,
   "id": "61e6d58f-7181-442f-9418-16e9949799a7",
   "metadata": {},
   "outputs": [
    {
     "data": {
      "text/plain": [
       "array([-1, -1, 99, 99, 43, 25, 42, 31, 29, 31, 30, 38, 35, 25, 40, 31, 39,\n",
       "       31, 39, 38, 26, 40, 28, 36, 30, 36, 30, 31, 38, 27, 27, 28, 30, 25,\n",
       "       38, 44, 31, 40, 26, 40, 35, 30, 44, 28, 40, 32, 39, 41, 34, 41])"
      ]
     },
     "execution_count": 43,
     "metadata": {},
     "output_type": "execute_result"
    }
   ],
   "source": [
    "age"
   ]
  },
  {
   "cell_type": "code",
   "execution_count": 44,
   "id": "736543ab-bd18-41cd-bdda-be4dd7309725",
   "metadata": {},
   "outputs": [
    {
     "data": {
      "text/plain": [
       "array([False, False,  True,  True, False, False, False, False, False,\n",
       "       False, False, False, False, False, False, False, False, False,\n",
       "       False, False, False, False, False, False, False, False, False,\n",
       "       False, False, False, False, False, False, False, False, False,\n",
       "       False, False, False, False, False, False, False, False, False,\n",
       "       False, False, False, False, False])"
      ]
     },
     "execution_count": 44,
     "metadata": {},
     "output_type": "execute_result"
    }
   ],
   "source": [
    "age >50"
   ]
  },
  {
   "cell_type": "code",
   "execution_count": 51,
   "id": "91a571d8-085a-4b68-bfdb-12300585fc2c",
   "metadata": {},
   "outputs": [
    {
     "data": {
      "text/plain": [
       "array([32, 32, 35, 35, 43, 25, 42, 31, 29, 31, 30, 38, 35, 25, 40, 31, 39,\n",
       "       31, 39, 38, 26, 40, 28, 36, 30, 36, 30, 31, 38, 27, 27, 28, 30, 25,\n",
       "       38, 44, 31, 40, 26, 40, 35, 30, 44, 28, 40, 32, 39, 41, 34, 41])"
      ]
     },
     "execution_count": 51,
     "metadata": {},
     "output_type": "execute_result"
    }
   ],
   "source": [
    "age[age>50] = age.mean()\n",
    "age"
   ]
  },
  {
   "cell_type": "code",
   "execution_count": 52,
   "id": "9a0d856f-8eef-4233-8a34-462723207dbd",
   "metadata": {},
   "outputs": [
    {
     "data": {
      "text/plain": [
       "array([32, 32, 35, 35, 43, 25, 42, 31, 29, 31, 30, 38, 35, 25, 40, 31, 39,\n",
       "       31, 39, 38, 26, 40, 28, 36, 30, 36, 30, 31, 38, 27, 27, 28, 30, 25,\n",
       "       38, 44, 31, 40, 26, 40, 35, 30, 44, 28, 40, 32, 39, 41, 34, 41])"
      ]
     },
     "execution_count": 52,
     "metadata": {},
     "output_type": "execute_result"
    }
   ],
   "source": [
    "age[age<25] = age.mean()    # 99 yerine ortalamayı atadıktan sonra ortaya çıkan mean 32 olmuştur.\n",
    "age"
   ]
  },
  {
   "cell_type": "code",
   "execution_count": 54,
   "id": "be1b9ad1-7a7c-4f18-b209-ba224af17fed",
   "metadata": {},
   "outputs": [
    {
     "data": {
      "text/plain": [
       "array([32, 32, 35, 35, 43, 25, 42, 31, 29, 31, 30, 38, 35, 25, 40, 31, 39,\n",
       "       31, 39, 38, 26, 40, 28, 36, 30, 36, 30, 31, 38, 27, 27, 28, 30, 25,\n",
       "       38, 44, 31, 40, 26, 40, 35, 30, 44, 28, 40, 32, 39, 41, 34, 41])"
      ]
     },
     "execution_count": 54,
     "metadata": {},
     "output_type": "execute_result"
    }
   ],
   "source": [
    "age[(age<25) | (age>50)] = age.mean()   # 25 ten küçük yada 50 den büyük olacak.\n",
    "age"
   ]
  },
  {
   "cell_type": "code",
   "execution_count": 55,
   "id": "4a685596-8e9d-459e-987d-e85b696c55f7",
   "metadata": {},
   "outputs": [
    {
     "data": {
      "text/plain": [
       "array([41, 34, 41, 39, 32, 40, 28, 44, 30, 35, 40, 26, 40, 31, 44, 38, 25,\n",
       "       30, 28, 27, 27, 38, 31, 30, 36, 30, 36, 28, 40, 26, 38, 39, 31, 39,\n",
       "       31, 40, 25, 35, 38, 30, 31, 29, 31, 42, 25, 43, 35, 35, 32, 32])"
      ]
     },
     "execution_count": 55,
     "metadata": {},
     "output_type": "execute_result"
    }
   ],
   "source": [
    "age[::-1]"
   ]
  },
  {
   "cell_type": "code",
   "execution_count": 60,
   "id": "d7386ed4-e5d2-496a-aa0f-1f61f08004e2",
   "metadata": {},
   "outputs": [
    {
     "data": {
      "text/plain": [
       "[44,\n",
       " 44,\n",
       " 43,\n",
       " 42,\n",
       " 41,\n",
       " 41,\n",
       " 40,\n",
       " 40,\n",
       " 40,\n",
       " 40,\n",
       " 40,\n",
       " 39,\n",
       " 39,\n",
       " 39,\n",
       " 38,\n",
       " 38,\n",
       " 38,\n",
       " 38,\n",
       " 36,\n",
       " 36,\n",
       " 35,\n",
       " 35,\n",
       " 35,\n",
       " 35,\n",
       " 34,\n",
       " 32,\n",
       " 32,\n",
       " 32,\n",
       " 31,\n",
       " 31,\n",
       " 31,\n",
       " 31,\n",
       " 31,\n",
       " 31,\n",
       " 30,\n",
       " 30,\n",
       " 30,\n",
       " 30,\n",
       " 30,\n",
       " 29,\n",
       " 28,\n",
       " 28,\n",
       " 28,\n",
       " 27,\n",
       " 27,\n",
       " 26,\n",
       " 26,\n",
       " 25,\n",
       " 25,\n",
       " 25]"
      ]
     },
     "execution_count": 60,
     "metadata": {},
     "output_type": "execute_result"
    }
   ],
   "source": [
    "sorted(age,reverse =True)"
   ]
  },
  {
   "cell_type": "markdown",
   "id": "4279bce2-8a17-4aff-b329-d03197f1a018",
   "metadata": {},
   "source": [
    "#PANDAS"
   ]
  },
  {
   "cell_type": "code",
   "execution_count": 61,
   "id": "50106d58-9d36-493b-8b1c-d47c764fd1b8",
   "metadata": {},
   "outputs": [],
   "source": [
    "import numpy as np\n",
    "import pandas as pd"
   ]
  },
  {
   "cell_type": "code",
   "execution_count": 65,
   "id": "9be073a1-d7b3-4522-abc8-d08bf28dbae9",
   "metadata": {},
   "outputs": [
    {
     "data": {
      "text/plain": [
       "0    11\n",
       "1    21\n",
       "2    13\n",
       "3    41\n",
       "4    15\n",
       "5    61\n",
       "dtype: int64"
      ]
     },
     "execution_count": 65,
     "metadata": {},
     "output_type": "execute_result"
    }
   ],
   "source": [
    "serr = pd.Series([11,21,13,41,15,61])\n",
    "serr"
   ]
  },
  {
   "cell_type": "code",
   "execution_count": 69,
   "id": "4a802ad1-5ce7-4ea5-9653-b7123c8f5a34",
   "metadata": {},
   "outputs": [
    {
     "data": {
      "text/plain": [
       "6"
      ]
     },
     "execution_count": 69,
     "metadata": {},
     "output_type": "execute_result"
    }
   ],
   "source": [
    "serr.size"
   ]
  },
  {
   "cell_type": "code",
   "execution_count": 66,
   "id": "eb834578-372b-4efe-8cae-7b4ad3425696",
   "metadata": {},
   "outputs": [
    {
     "data": {
      "text/plain": [
       "6"
      ]
     },
     "execution_count": 66,
     "metadata": {},
     "output_type": "execute_result"
    }
   ],
   "source": [
    "len(serr)"
   ]
  },
  {
   "cell_type": "code",
   "execution_count": 70,
   "id": "65feb144-f0fc-4b4b-b030-7a9e7ac9d1f6",
   "metadata": {},
   "outputs": [
    {
     "data": {
      "text/plain": [
       "1"
      ]
     },
     "execution_count": 70,
     "metadata": {},
     "output_type": "execute_result"
    }
   ],
   "source": [
    "serr.ndim"
   ]
  },
  {
   "cell_type": "code",
   "execution_count": 67,
   "id": "0b3bc471-fda4-4704-8f62-477e4b236c85",
   "metadata": {},
   "outputs": [
    {
     "data": {
      "text/plain": [
       "array([11, 21, 13, 41, 15, 61], dtype=int64)"
      ]
     },
     "execution_count": 67,
     "metadata": {},
     "output_type": "execute_result"
    }
   ],
   "source": [
    "serr.values"
   ]
  },
  {
   "cell_type": "code",
   "execution_count": 68,
   "id": "8d773fc3-ee17-4836-b1aa-879f2f611bf8",
   "metadata": {},
   "outputs": [
    {
     "data": {
      "text/plain": [
       "[11, 21, 13, 41, 15, 61]"
      ]
     },
     "execution_count": 68,
     "metadata": {},
     "output_type": "execute_result"
    }
   ],
   "source": [
    "[i for i in serr.values]"
   ]
  },
  {
   "cell_type": "code",
   "execution_count": 71,
   "id": "5121ed70-42ef-4cf7-b14b-524d28234806",
   "metadata": {},
   "outputs": [],
   "source": [
    "serr2 = pd.Series([11,21,13,41,15,61,11,21,13,41,15,61,11,21,13,41,15,61])"
   ]
  },
  {
   "cell_type": "code",
   "execution_count": 72,
   "id": "e7035141-6ad7-4d0e-8406-8fb86b1d9832",
   "metadata": {},
   "outputs": [
    {
     "data": {
      "text/plain": [
       "0     11\n",
       "1     21\n",
       "2     13\n",
       "3     41\n",
       "4     15\n",
       "5     61\n",
       "6     11\n",
       "7     21\n",
       "8     13\n",
       "9     41\n",
       "10    15\n",
       "11    61\n",
       "12    11\n",
       "13    21\n",
       "14    13\n",
       "15    41\n",
       "16    15\n",
       "17    61\n",
       "dtype: int64"
      ]
     },
     "execution_count": 72,
     "metadata": {},
     "output_type": "execute_result"
    }
   ],
   "source": [
    "serr2"
   ]
  },
  {
   "cell_type": "code",
   "execution_count": 74,
   "id": "136ec50f-9fff-4c9e-9357-5078a7ea6817",
   "metadata": {},
   "outputs": [
    {
     "data": {
      "text/plain": [
       "0    11\n",
       "1    21\n",
       "2    13\n",
       "3    41\n",
       "4    15\n",
       "dtype: int64"
      ]
     },
     "execution_count": 74,
     "metadata": {},
     "output_type": "execute_result"
    }
   ],
   "source": [
    "serr.head(5)"
   ]
  },
  {
   "cell_type": "code",
   "execution_count": 75,
   "id": "ef6e81db-e178-4469-b149-1e72ed028eb2",
   "metadata": {},
   "outputs": [
    {
     "data": {
      "text/plain": [
       "1    21\n",
       "2    13\n",
       "3    41\n",
       "4    15\n",
       "5    61\n",
       "dtype: int64"
      ]
     },
     "execution_count": 75,
     "metadata": {},
     "output_type": "execute_result"
    }
   ],
   "source": [
    "serr.tail(5)"
   ]
  },
  {
   "cell_type": "code",
   "execution_count": 76,
   "id": "f4b23a89-4f3b-4666-a7c4-d846a82ea401",
   "metadata": {},
   "outputs": [
    {
     "data": {
      "text/plain": [
       "['c', 'l', 'a', 'r', 'u', 's', 'w', 'a', 'y']"
      ]
     },
     "execution_count": 76,
     "metadata": {},
     "output_type": "execute_result"
    }
   ],
   "source": [
    "list(\"clarusway\")"
   ]
  },
  {
   "cell_type": "code",
   "execution_count": 78,
   "id": "8e803c8a-c659-4793-bd59-df72382cd2fe",
   "metadata": {},
   "outputs": [
    {
     "data": {
      "text/plain": [
       "0    c\n",
       "1    l\n",
       "2    a\n",
       "3    r\n",
       "4    u\n",
       "5    s\n",
       "6    w\n",
       "7    a\n",
       "8    y\n",
       "dtype: object"
      ]
     },
     "execution_count": 78,
     "metadata": {},
     "output_type": "execute_result"
    }
   ],
   "source": [
    "pd.Series(list(\"clarusway\"))\n"
   ]
  },
  {
   "cell_type": "code",
   "execution_count": 79,
   "id": "679d7996-1dfc-44e2-b867-9bb78e2cc10b",
   "metadata": {},
   "outputs": [
    {
     "data": {
      "text/plain": [
       "x     paris\n",
       "y    london\n",
       "z    ankara\n",
       "dtype: object"
      ]
     },
     "execution_count": 79,
     "metadata": {},
     "output_type": "execute_result"
    }
   ],
   "source": [
    "data = [\"paris\",\"london\",\"ankara\"]\n",
    "index = [\"x\",\"y\",\"z\"]\n",
    "pd.Series(data,index)"
   ]
  },
  {
   "cell_type": "code",
   "execution_count": 80,
   "id": "06fa16b2-ec2c-4363-9dfe-8f3201091694",
   "metadata": {},
   "outputs": [
    {
     "data": {
      "text/plain": [
       "D    70.0\n",
       "E    60.0\n",
       "A    90.0\n",
       "B    85.0\n",
       "C    99.5\n",
       "dtype: float64"
      ]
     },
     "execution_count": 80,
     "metadata": {},
     "output_type": "execute_result"
    }
   ],
   "source": [
    "Score = [70,60,90,85,99.5]\n",
    "index = [\"D\",\"E\",\"A\",\"B\",\"C\"]\n",
    "pd.Series(Score, index)\n",
    "\n",
    "# pd.Series([70,60,90,85,99.5],[\"D\",\"E\",\"A\",\"B\",\"C\"])"
   ]
  },
  {
   "cell_type": "code",
   "execution_count": 81,
   "id": "08d00207-423c-40db-a310-c248184a22ec",
   "metadata": {},
   "outputs": [
    {
     "data": {
      "text/plain": [
       "D    10.0\n",
       "E    20.0\n",
       "A   -30.0\n",
       "B    99.0\n",
       "C     1.1\n",
       "dtype: float64"
      ]
     },
     "execution_count": 81,
     "metadata": {},
     "output_type": "execute_result"
    }
   ],
   "source": [
    "dic = {\"D\": 10 , \"E\":20, \"A\":-30, \"B\":99, \"C\":1.1}\n",
    "pd.Series(dic)"
   ]
  },
  {
   "cell_type": "code",
   "execution_count": 82,
   "id": "17308c9a-29a6-4409-a315-ff8904c0a0bf",
   "metadata": {},
   "outputs": [
    {
     "data": {
      "text/plain": [
       "{2, 3, 4, 5, 32, 45}"
      ]
     },
     "execution_count": 82,
     "metadata": {},
     "output_type": "execute_result"
    }
   ],
   "source": [
    "a = set([3,2,45,4,3,4,32,4,5,5,4])\n",
    "a"
   ]
  },
  {
   "cell_type": "code",
   "execution_count": 83,
   "id": "d63ca0ae-1e46-4ff1-98bf-b05e8524a8ba",
   "metadata": {},
   "outputs": [
    {
     "ename": "TypeError",
     "evalue": "'set' type is unordered",
     "output_type": "error",
     "traceback": [
      "\u001b[1;31m---------------------------------------------------------------------------\u001b[0m",
      "\u001b[1;31mTypeError\u001b[0m                                 Traceback (most recent call last)",
      "\u001b[1;32m<ipython-input-83-325f83ac5fdb>\u001b[0m in \u001b[0;36m<module>\u001b[1;34m\u001b[0m\n\u001b[1;32m----> 1\u001b[1;33m \u001b[0mpd\u001b[0m\u001b[1;33m.\u001b[0m\u001b[0mSeries\u001b[0m\u001b[1;33m(\u001b[0m\u001b[1;33m(\u001b[0m\u001b[0ma\u001b[0m\u001b[1;33m)\u001b[0m\u001b[1;33m)\u001b[0m\u001b[1;33m\u001b[0m\u001b[1;33m\u001b[0m\u001b[0m\n\u001b[0m",
      "\u001b[1;32m~\\anaconda3\\lib\\site-packages\\pandas\\core\\series.py\u001b[0m in \u001b[0;36m__init__\u001b[1;34m(self, data, index, dtype, name, copy, fastpath)\u001b[0m\n\u001b[0;32m    334\u001b[0m                 \u001b[1;32mpass\u001b[0m\u001b[1;33m\u001b[0m\u001b[1;33m\u001b[0m\u001b[0m\n\u001b[0;32m    335\u001b[0m             \u001b[1;32melif\u001b[0m \u001b[0misinstance\u001b[0m\u001b[1;33m(\u001b[0m\u001b[0mdata\u001b[0m\u001b[1;33m,\u001b[0m \u001b[1;33m(\u001b[0m\u001b[0mset\u001b[0m\u001b[1;33m,\u001b[0m \u001b[0mfrozenset\u001b[0m\u001b[1;33m)\u001b[0m\u001b[1;33m)\u001b[0m\u001b[1;33m:\u001b[0m\u001b[1;33m\u001b[0m\u001b[1;33m\u001b[0m\u001b[0m\n\u001b[1;32m--> 336\u001b[1;33m                 \u001b[1;32mraise\u001b[0m \u001b[0mTypeError\u001b[0m\u001b[1;33m(\u001b[0m\u001b[1;34mf\"'{type(data).__name__}' type is unordered\"\u001b[0m\u001b[1;33m)\u001b[0m\u001b[1;33m\u001b[0m\u001b[1;33m\u001b[0m\u001b[0m\n\u001b[0m\u001b[0;32m    337\u001b[0m             \u001b[1;32melse\u001b[0m\u001b[1;33m:\u001b[0m\u001b[1;33m\u001b[0m\u001b[1;33m\u001b[0m\u001b[0m\n\u001b[0;32m    338\u001b[0m                 \u001b[0mdata\u001b[0m \u001b[1;33m=\u001b[0m \u001b[0mcom\u001b[0m\u001b[1;33m.\u001b[0m\u001b[0mmaybe_iterable_to_list\u001b[0m\u001b[1;33m(\u001b[0m\u001b[0mdata\u001b[0m\u001b[1;33m)\u001b[0m\u001b[1;33m\u001b[0m\u001b[1;33m\u001b[0m\u001b[0m\n",
      "\u001b[1;31mTypeError\u001b[0m: 'set' type is unordered"
     ]
    }
   ],
   "source": [
    "pd.Series((a))"
   ]
  },
  {
   "cell_type": "code",
   "execution_count": 84,
   "id": "2810046f-2e6c-4bda-b71f-2794dd719d16",
   "metadata": {},
   "outputs": [
    {
     "data": {
      "text/plain": [
       "0    32\n",
       "1     2\n",
       "2     3\n",
       "3     4\n",
       "4     5\n",
       "5    45\n",
       "dtype: int64"
      ]
     },
     "execution_count": 84,
     "metadata": {},
     "output_type": "execute_result"
    }
   ],
   "source": [
    "pd.Series(list(a))"
   ]
  },
  {
   "cell_type": "code",
   "execution_count": 86,
   "id": "474a894a-20f9-468e-876c-e0810d923db2",
   "metadata": {},
   "outputs": [],
   "source": [
    "ser1 = pd.Series([1,2,3,4], index = ['USA', 'Germany','USSR', 'Japan'])\n",
    "ser2 = pd.Series([1,2,5,4], index = ['USA', 'Germany','Italy', 'Japan'])"
   ]
  },
  {
   "cell_type": "code",
   "execution_count": 87,
   "id": "b6b6a428-cde5-4b95-8d05-67afcebba8cd",
   "metadata": {},
   "outputs": [
    {
     "data": {
      "text/plain": [
       "USA        1\n",
       "Germany    2\n",
       "USSR       3\n",
       "Japan      4\n",
       "dtype: int64"
      ]
     },
     "execution_count": 87,
     "metadata": {},
     "output_type": "execute_result"
    }
   ],
   "source": [
    "ser1"
   ]
  },
  {
   "cell_type": "code",
   "execution_count": 88,
   "id": "b1406f8f-215d-4832-819c-43ddd3e636a1",
   "metadata": {},
   "outputs": [
    {
     "data": {
      "text/plain": [
       "array([1, 2, 3, 4], dtype=int64)"
      ]
     },
     "execution_count": 88,
     "metadata": {},
     "output_type": "execute_result"
    }
   ],
   "source": [
    "ser1.values"
   ]
  },
  {
   "cell_type": "code",
   "execution_count": 91,
   "id": "8c74a14b-0ab8-40bf-ab31-2350d3621d6d",
   "metadata": {},
   "outputs": [
    {
     "data": {
      "text/plain": [
       "Index(['USA', 'Germany', 'USSR', 'Japan'], dtype='object')"
      ]
     },
     "execution_count": 91,
     "metadata": {},
     "output_type": "execute_result"
    }
   ],
   "source": [
    "ser1.index"
   ]
  },
  {
   "cell_type": "code",
   "execution_count": 93,
   "id": "bf6eeee7-b03d-446d-80f5-fa5e70f1d4af",
   "metadata": {},
   "outputs": [
    {
     "data": {
      "text/plain": [
       "Germany    2\n",
       "Japan      4\n",
       "USA        1\n",
       "USSR       3\n",
       "dtype: int64"
      ]
     },
     "execution_count": 93,
     "metadata": {},
     "output_type": "execute_result"
    }
   ],
   "source": [
    "\n",
    "ser1.sort_index()"
   ]
  },
  {
   "cell_type": "code",
   "execution_count": 94,
   "id": "9679efb2-b8d8-4529-87b6-ad90833daaf2",
   "metadata": {},
   "outputs": [
    {
     "data": {
      "text/plain": [
       "USA        1\n",
       "Germany    2\n",
       "USSR       3\n",
       "Japan      4\n",
       "dtype: int64"
      ]
     },
     "execution_count": 94,
     "metadata": {},
     "output_type": "execute_result"
    }
   ],
   "source": [
    "ser1.sort_values()"
   ]
  },
  {
   "cell_type": "code",
   "execution_count": 95,
   "id": "0cce5edb-2241-4612-a12e-f861519a64c1",
   "metadata": {},
   "outputs": [
    {
     "data": {
      "text/plain": [
       "2"
      ]
     },
     "execution_count": 95,
     "metadata": {},
     "output_type": "execute_result"
    }
   ],
   "source": [
    "ser1[\"Germany\"]"
   ]
  },
  {
   "cell_type": "code",
   "execution_count": 96,
   "id": "14ec2a0f-a41b-4fa3-a068-a4228ee942a0",
   "metadata": {},
   "outputs": [
    {
     "data": {
      "text/plain": [
       "4"
      ]
     },
     "execution_count": 96,
     "metadata": {},
     "output_type": "execute_result"
    }
   ],
   "source": [
    "ser1[\"Japan\"]"
   ]
  },
  {
   "cell_type": "code",
   "execution_count": 100,
   "id": "7e72cdb4-fc76-4c42-8e4a-e363ad61da34",
   "metadata": {},
   "outputs": [
    {
     "data": {
      "text/plain": [
       "Japan      4\n",
       "Germany    2\n",
       "dtype: int64"
      ]
     },
     "execution_count": 100,
     "metadata": {},
     "output_type": "execute_result"
    }
   ],
   "source": [
    "ser1[[\"Japan\",\"Germany\"]]"
   ]
  },
  {
   "cell_type": "code",
   "execution_count": 101,
   "id": "b59dae6e-ae11-454f-8667-a21a2a476ce2",
   "metadata": {},
   "outputs": [
    {
     "data": {
      "text/plain": [
       "4"
      ]
     },
     "execution_count": 101,
     "metadata": {},
     "output_type": "execute_result"
    }
   ],
   "source": [
    "ser1.Japan"
   ]
  },
  {
   "cell_type": "code",
   "execution_count": 102,
   "id": "e0223439-8321-487d-905c-575cb5273f96",
   "metadata": {},
   "outputs": [
    {
     "data": {
      "text/plain": [
       "Germany    4.0\n",
       "Italy      NaN\n",
       "Japan      8.0\n",
       "USA        2.0\n",
       "USSR       NaN\n",
       "dtype: float64"
      ]
     },
     "execution_count": 102,
     "metadata": {},
     "output_type": "execute_result"
    }
   ],
   "source": [
    "ser1+ser2"
   ]
  },
  {
   "cell_type": "code",
   "execution_count": null,
   "id": "6cbd123b-38c5-4b03-80e1-95766b0a811b",
   "metadata": {},
   "outputs": [],
   "source": []
  },
  {
   "cell_type": "code",
   "execution_count": 112,
   "id": "d9bff318-5554-40db-b36d-1ad9ed7587a4",
   "metadata": {},
   "outputs": [
    {
     "data": {
      "text/plain": [
       "terry      121\n",
       "micheal    200\n",
       "orion      150\n",
       "jason       99\n",
       "adam       150\n",
       "dtype: int64"
      ]
     },
     "execution_count": 112,
     "metadata": {},
     "output_type": "execute_result"
    }
   ],
   "source": [
    "panser = pd.Series(data = [121, 200, 150, 99,150,180], index = [\"terry\", \"micheal\", \"orion\", \"jason\",\"adam\",\"zack\"])\n",
    "panser"
   ]
  },
  {
   "cell_type": "code",
   "execution_count": 113,
   "id": "b3df443d-d019-4559-9df4-c1b23414dd64",
   "metadata": {},
   "outputs": [
    {
     "data": {
      "text/plain": [
       "99"
      ]
     },
     "execution_count": 113,
     "metadata": {},
     "output_type": "execute_result"
    }
   ],
   "source": [
    "panser.jason"
   ]
  },
  {
   "cell_type": "code",
   "execution_count": 114,
   "id": "941fc316-b649-4d77-a74c-64f57d3993ca",
   "metadata": {},
   "outputs": [
    {
     "data": {
      "text/plain": [
       "99"
      ]
     },
     "execution_count": 114,
     "metadata": {},
     "output_type": "execute_result"
    }
   ],
   "source": [
    "panser[\"jason\"]"
   ]
  },
  {
   "cell_type": "code",
   "execution_count": 115,
   "id": "300784c8-c2f0-41fe-9b9a-e1522a201eb8",
   "metadata": {},
   "outputs": [
    {
     "data": {
      "text/plain": [
       "orion    150\n",
       "adam     150\n",
       "dtype: int64"
      ]
     },
     "execution_count": 115,
     "metadata": {},
     "output_type": "execute_result"
    }
   ],
   "source": [
    "panser[[\"orion\",\"adam\"]]"
   ]
  },
  {
   "cell_type": "code",
   "execution_count": 117,
   "id": "8201fd8f-5851-4217-bd77-34f34d6a272e",
   "metadata": {},
   "outputs": [
    {
     "data": {
      "text/plain": [
       "orion    150\n",
       "jason     99\n",
       "adam     150\n",
       "dtype: int64"
      ]
     },
     "execution_count": 117,
     "metadata": {},
     "output_type": "execute_result"
    }
   ],
   "source": [
    "panser[2:5]"
   ]
  },
  {
   "cell_type": "code",
   "execution_count": 119,
   "id": "4cd5e76f-3343-43ae-a41c-e557e7c85730",
   "metadata": {},
   "outputs": [
    {
     "data": {
      "text/plain": [
       "orion    150\n",
       "jason     99\n",
       "adam     150\n",
       "dtype: int64"
      ]
     },
     "execution_count": 119,
     "metadata": {},
     "output_type": "execute_result"
    }
   ],
   "source": [
    "panser[\"orion\":\"adam\"]"
   ]
  },
  {
   "cell_type": "code",
   "execution_count": 120,
   "id": "b014c067-0045-4055-becd-949df614b24e",
   "metadata": {},
   "outputs": [
    {
     "data": {
      "text/plain": [
       "Index(['terry', 'micheal', 'orion', 'jason', 'adam'], dtype='object')"
      ]
     },
     "execution_count": 120,
     "metadata": {},
     "output_type": "execute_result"
    }
   ],
   "source": [
    "panser.keys()"
   ]
  },
  {
   "cell_type": "code",
   "execution_count": 121,
   "id": "1e8bf558-d545-43ce-b116-aa6dba75684c",
   "metadata": {},
   "outputs": [
    {
     "data": {
      "text/plain": [
       "Index(['terry', 'micheal', 'orion', 'jason', 'adam'], dtype='object')"
      ]
     },
     "execution_count": 121,
     "metadata": {},
     "output_type": "execute_result"
    }
   ],
   "source": [
    "panser.index"
   ]
  },
  {
   "cell_type": "code",
   "execution_count": 123,
   "id": "304ef57a-969c-4423-af64-6c6c9c3e05b9",
   "metadata": {},
   "outputs": [
    {
     "data": {
      "text/plain": [
       "array([121, 200, 150,  99, 150], dtype=int64)"
      ]
     },
     "execution_count": 123,
     "metadata": {},
     "output_type": "execute_result"
    }
   ],
   "source": [
    "panser.values"
   ]
  },
  {
   "cell_type": "code",
   "execution_count": 124,
   "id": "8ea124bd-3548-4074-ad57-c64c8633b486",
   "metadata": {},
   "outputs": [
    {
     "data": {
      "text/plain": [
       "<zip at 0x2671556c4c0>"
      ]
     },
     "execution_count": 124,
     "metadata": {},
     "output_type": "execute_result"
    }
   ],
   "source": [
    "panser.items()   # memory deki yerini gösterir aşağıdaki ifade."
   ]
  },
  {
   "cell_type": "code",
   "execution_count": 126,
   "id": "17ddaa0a-5486-4b43-bcb1-ca01db271647",
   "metadata": {},
   "outputs": [
    {
     "name": "stdout",
     "output_type": "stream",
     "text": [
      "Collecting jupyterlab_tabnine\n",
      "  Downloading jupyterlab_tabnine-0.0.24-py3-none-any.whl (178 kB)\n",
      "Installing collected packages: jupyterlab-tabnine\n",
      "Successfully installed jupyterlab-tabnine-0.0.24\n"
     ]
    }
   ],
   "source": [
    "!pip3 install jupyterlab_tabnine --user"
   ]
  },
  {
   "cell_type": "code",
   "execution_count": 127,
   "id": "377fed92-28a2-4e0c-8c1b-814c228aeecc",
   "metadata": {},
   "outputs": [
    {
     "data": {
      "text/plain": [
       "[('terry', 121),\n",
       " ('micheal', 200),\n",
       " ('orion', 150),\n",
       " ('jason', 99),\n",
       " ('adam', 150)]"
      ]
     },
     "execution_count": 127,
     "metadata": {},
     "output_type": "execute_result"
    }
   ],
   "source": [
    "list(panser.items())"
   ]
  },
  {
   "cell_type": "code",
   "execution_count": 128,
   "id": "a1db1ff6-f773-422b-910a-af95ece5e0a9",
   "metadata": {},
   "outputs": [
    {
     "name": "stdout",
     "output_type": "stream",
     "text": [
      "key: terry \t value: 121\n",
      "key: micheal \t value: 200\n",
      "key: orion \t value: 150\n",
      "key: jason \t value: 99\n",
      "key: adam \t value: 150\n"
     ]
    }
   ],
   "source": [
    "for key, value in panser.items():\n",
    "    print(\"key:\", key ,\"\\t value:\", value)"
   ]
  },
  {
   "cell_type": "code",
   "execution_count": 129,
   "id": "6e01d8c3-6892-4de4-ae7b-66af7162cb77",
   "metadata": {},
   "outputs": [
    {
     "data": {
      "text/plain": [
       "True"
      ]
     },
     "execution_count": 129,
     "metadata": {},
     "output_type": "execute_result"
    }
   ],
   "source": [
    "\"adam\" in panser"
   ]
  },
  {
   "cell_type": "code",
   "execution_count": 130,
   "id": "7c330595-9d63-4ebf-ace6-53855fc0408a",
   "metadata": {},
   "outputs": [
    {
     "data": {
      "text/plain": [
       "False"
      ]
     },
     "execution_count": 130,
     "metadata": {},
     "output_type": "execute_result"
    }
   ],
   "source": [
    "121 in panser"
   ]
  },
  {
   "cell_type": "code",
   "execution_count": 131,
   "id": "c193a16f-cf06-43af-a1fe-ff298ac378d9",
   "metadata": {},
   "outputs": [
    {
     "data": {
      "text/plain": [
       "terry      False\n",
       "micheal    False\n",
       "orion      False\n",
       "jason      False\n",
       "adam       False\n",
       "dtype: bool"
      ]
     },
     "execution_count": 131,
     "metadata": {},
     "output_type": "execute_result"
    }
   ],
   "source": [
    "panser.isin([\"adam\"])"
   ]
  },
  {
   "cell_type": "code",
   "execution_count": 133,
   "id": "7fdd62f2-0845-48a8-a72c-e8fdc2372dda",
   "metadata": {},
   "outputs": [
    {
     "data": {
      "text/plain": [
       "True"
      ]
     },
     "execution_count": 133,
     "metadata": {},
     "output_type": "execute_result"
    }
   ],
   "source": [
    "121 in panser.values"
   ]
  },
  {
   "cell_type": "code",
   "execution_count": 134,
   "id": "391ad1d6-58ca-4907-9d89-b9f7231960b1",
   "metadata": {},
   "outputs": [
    {
     "data": {
      "text/plain": [
       "terry       True\n",
       "micheal    False\n",
       "orion      False\n",
       "jason       True\n",
       "adam       False\n",
       "dtype: bool"
      ]
     },
     "execution_count": 134,
     "metadata": {},
     "output_type": "execute_result"
    }
   ],
   "source": [
    "panser.isin([121,99])"
   ]
  },
  {
   "cell_type": "code",
   "execution_count": 135,
   "id": "be945997-230c-47c8-8ae4-600fab3afad9",
   "metadata": {},
   "outputs": [
    {
     "data": {
      "text/plain": [
       "terry      121\n",
       "micheal    200\n",
       "orion      150\n",
       "jason      190\n",
       "adam       150\n",
       "dtype: int64"
      ]
     },
     "execution_count": 135,
     "metadata": {},
     "output_type": "execute_result"
    }
   ],
   "source": [
    "panser.jason=190\n",
    "panser"
   ]
  },
  {
   "cell_type": "code",
   "execution_count": 136,
   "id": "0cec40cb-70e8-471a-b52f-b0aeea1dfa7b",
   "metadata": {},
   "outputs": [
    {
     "data": {
      "text/plain": [
       "terry      False\n",
       "micheal     True\n",
       "orion      False\n",
       "jason       True\n",
       "adam       False\n",
       "dtype: bool"
      ]
     },
     "execution_count": 136,
     "metadata": {},
     "output_type": "execute_result"
    }
   ],
   "source": [
    "panser>=180"
   ]
  },
  {
   "cell_type": "code",
   "execution_count": 137,
   "id": "1f995014-1816-406a-a1b6-4e372b592bc8",
   "metadata": {},
   "outputs": [
    {
     "data": {
      "text/plain": [
       "terry      121\n",
       "micheal    155\n",
       "orion      150\n",
       "jason      155\n",
       "adam       150\n",
       "dtype: int64"
      ]
     },
     "execution_count": 137,
     "metadata": {},
     "output_type": "execute_result"
    }
   ],
   "source": [
    "panser[panser >=180] = 155\n",
    "panser"
   ]
  },
  {
   "cell_type": "code",
   "execution_count": null,
   "id": "113a5c16-03c9-4590-8ecc-7093a566d8ad",
   "metadata": {},
   "outputs": [],
   "source": []
  }
 ],
 "metadata": {
  "kernelspec": {
   "display_name": "Python 3",
   "language": "python",
   "name": "python3"
  },
  "language_info": {
   "codemirror_mode": {
    "name": "ipython",
    "version": 3
   },
   "file_extension": ".py",
   "mimetype": "text/x-python",
   "name": "python",
   "nbconvert_exporter": "python",
   "pygments_lexer": "ipython3",
   "version": "3.8.8"
  }
 },
 "nbformat": 4,
 "nbformat_minor": 5
}
