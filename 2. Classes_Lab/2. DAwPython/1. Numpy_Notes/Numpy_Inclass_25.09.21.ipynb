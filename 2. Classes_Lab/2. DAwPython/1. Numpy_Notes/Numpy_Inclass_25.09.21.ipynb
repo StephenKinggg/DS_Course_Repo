{
 "cells": [
  {
   "cell_type": "code",
   "execution_count": 1,
   "id": "dbd7d86c-b5da-41c9-a719-f08ceac86955",
   "metadata": {},
   "outputs": [],
   "source": [
    "import numpy as np"
   ]
  },
  {
   "cell_type": "code",
   "execution_count": 2,
   "id": "6bb2c00f-29a9-4f16-8a70-3f1a0f6b79ab",
   "metadata": {},
   "outputs": [
    {
     "data": {
      "text/plain": [
       "array([0.8909516 , 0.69579855, 0.6343285 , 0.43590341, 0.71308422])"
      ]
     },
     "execution_count": 2,
     "metadata": {},
     "output_type": "execute_result"
    }
   ],
   "source": [
    "np.random.rand(5)  # içine ihtiyaç duyduğum random sayısını yazdık."
   ]
  },
  {
   "cell_type": "code",
   "execution_count": 4,
   "id": "fdb900af-0462-4aa8-a4d7-57dc74bb8824",
   "metadata": {},
   "outputs": [
    {
     "data": {
      "text/plain": [
       "array([0.26174001, 0.50291256, 0.75453913, 0.00574632, 0.64217322])"
      ]
     },
     "execution_count": 4,
     "metadata": {},
     "output_type": "execute_result"
    }
   ],
   "source": [
    "np.random.rand(5)"
   ]
  },
  {
   "cell_type": "code",
   "execution_count": 3,
   "id": "80ee9246-8e8d-4543-b684-f66cbe35438a",
   "metadata": {},
   "outputs": [
    {
     "data": {
      "text/plain": [
       "array([6.69931659, 8.01976953, 2.81115181, 3.93338012, 2.73970681])"
      ]
     },
     "execution_count": 3,
     "metadata": {},
     "output_type": "execute_result"
    }
   ],
   "source": [
    "np.random.rand(5)*10"
   ]
  },
  {
   "cell_type": "code",
   "execution_count": 9,
   "id": "5887e297-7b37-4911-b858-13b2d2bc824f",
   "metadata": {},
   "outputs": [
    {
     "data": {
      "text/plain": [
       "array([[0.65986754, 0.28960291, 0.6555374 ],\n",
       "       [0.81821353, 0.94156592, 0.16163562],\n",
       "       [0.04026227, 0.9515392 , 0.83785701],\n",
       "       [0.33091743, 0.84655512, 0.32026972],\n",
       "       [0.767363  , 0.69812487, 0.61756538]])"
      ]
     },
     "execution_count": 9,
     "metadata": {},
     "output_type": "execute_result"
    }
   ],
   "source": [
    "rand_float = np.random.rand(5,3)\n",
    "rand_float"
   ]
  },
  {
   "cell_type": "code",
   "execution_count": 10,
   "id": "d1f85d25-54d9-4058-bcc4-c43637275eb6",
   "metadata": {},
   "outputs": [
    {
     "data": {
      "text/plain": [
       "array([0.65986754, 0.28960291, 0.6555374 ])"
      ]
     },
     "execution_count": 10,
     "metadata": {},
     "output_type": "execute_result"
    }
   ],
   "source": [
    "rand_float[0]"
   ]
  },
  {
   "cell_type": "code",
   "execution_count": 11,
   "id": "07575c18-e5e2-46dc-8dfc-d2b32b8333db",
   "metadata": {},
   "outputs": [
    {
     "data": {
      "text/plain": [
       "(array([[1., 0., 0., 1., 0., 0., 1., 1., 1., 0.],\n",
       "        [0., 0., 1., 0., 0., 0., 0., 1., 1., 2.],\n",
       "        [0., 1., 0., 1., 0., 0., 2., 0., 1., 0.]]),\n",
       " array([0.04026227, 0.13138996, 0.22251766, 0.31364535, 0.40477304,\n",
       "        0.49590074, 0.58702843, 0.67815612, 0.76928381, 0.86041151,\n",
       "        0.9515392 ]),\n",
       " <a list of 3 BarContainer objects>)"
      ]
     },
     "execution_count": 11,
     "metadata": {},
     "output_type": "execute_result"
    },
    {
     "data": {
      "image/png": "[encoded data removed]",
      "text/plain": [
       "<Figure size 432x288 with 1 Axes>"
      ]
     },
     "metadata": {
      "needs_background": "light"
     },
     "output_type": "display_data"
    }
   ],
   "source": [
    "import matplotlib.pyplot as plt\n",
    "%matplotlib inline\n",
    "\n",
    "plt.hist(rand_float)"
   ]
  },
  {
   "cell_type": "code",
   "execution_count": 13,
   "id": "24b1dfe8-8a10-4857-9b80-3c8134919f36",
   "metadata": {},
   "outputs": [
    {
     "data": {
      "text/plain": [
       "(array([1026., 1011., 1040., 1029., 1056., 1004.,  987., 1017.,  971.,\n",
       "         938., 1019., 1013.,  992.,  988., 1017., 1024., 1013.,  976.,\n",
       "         992.,  981.,  968., 1016.,  978.,  982.,  986.,  986., 1016.,\n",
       "         984.,  985., 1016., 1008., 1057., 1017., 1093.,  986.,  968.,\n",
       "         987., 1018., 1010., 1044., 1028., 1030., 1000.,  999.,  971.,\n",
       "         977., 1006.,  980., 1014.,  988., 1007.,  955.,  981.,  980.,\n",
       "        1023.,  954.,  959., 1021.,  993., 1005.,  993., 1011., 1000.,\n",
       "        1072.,  967., 1058.,  957., 1011.,  997., 1031.,  991.,  951.,\n",
       "        1080., 1003.,  976.,  942.,  918., 1016., 1034., 1036., 1007.,\n",
       "         930.,  976., 1051.,  987.,  981.,  983., 1031., 1023.,  950.,\n",
       "        1024.,  931., 1013., 1004.,  954., 1000., 1039.,  989., 1035.,\n",
       "         977.]),\n",
       " array([1.60479813e-05, 1.00158553e-02, 2.00156626e-02, 3.00154699e-02,\n",
       "        4.00152772e-02, 5.00150845e-02, 6.00148918e-02, 7.00146991e-02,\n",
       "        8.00145064e-02, 9.00143137e-02, 1.00014121e-01, 1.10013928e-01,\n",
       "        1.20013736e-01, 1.30013543e-01, 1.40013350e-01, 1.50013158e-01,\n",
       "        1.60012965e-01, 1.70012772e-01, 1.80012580e-01, 1.90012387e-01,\n",
       "        2.00012194e-01, 2.10012001e-01, 2.20011809e-01, 2.30011616e-01,\n",
       "        2.40011423e-01, 2.50011231e-01, 2.60011038e-01, 2.70010845e-01,\n",
       "        2.80010653e-01, 2.90010460e-01, 3.00010267e-01, 3.10010075e-01,\n",
       "        3.20009882e-01, 3.30009689e-01, 3.40009496e-01, 3.50009304e-01,\n",
       "        3.60009111e-01, 3.70008918e-01, 3.80008726e-01, 3.90008533e-01,\n",
       "        4.00008340e-01, 4.10008148e-01, 4.20007955e-01, 4.30007762e-01,\n",
       "        4.40007570e-01, 4.50007377e-01, 4.60007184e-01, 4.70006991e-01,\n",
       "        4.80006799e-01, 4.90006606e-01, 5.00006413e-01, 5.10006221e-01,\n",
       "        5.20006028e-01, 5.30005835e-01, 5.40005643e-01, 5.50005450e-01,\n",
       "        5.60005257e-01, 5.70005064e-01, 5.80004872e-01, 5.90004679e-01,\n",
       "        6.00004486e-01, 6.10004294e-01, 6.20004101e-01, 6.30003908e-01,\n",
       "        6.40003716e-01, 6.50003523e-01, 6.60003330e-01, 6.70003138e-01,\n",
       "        6.80002945e-01, 6.90002752e-01, 7.00002559e-01, 7.10002367e-01,\n",
       "        7.20002174e-01, 7.30001981e-01, 7.40001789e-01, 7.50001596e-01,\n",
       "        7.60001403e-01, 7.70001211e-01, 7.80001018e-01, 7.90000825e-01,\n",
       "        8.00000633e-01, 8.10000440e-01, 8.20000247e-01, 8.30000054e-01,\n",
       "        8.39999862e-01, 8.49999669e-01, 8.59999476e-01, 8.69999284e-01,\n",
       "        8.79999091e-01, 8.89998898e-01, 8.99998706e-01, 9.09998513e-01,\n",
       "        9.19998320e-01, 9.29998128e-01, 9.39997935e-01, 9.49997742e-01,\n",
       "        9.59997549e-01, 9.69997357e-01, 9.79997164e-01, 9.89996971e-01,\n",
       "        9.99996779e-01]),\n",
       " <BarContainer object of 100 artists>)"
      ]
     },
     "execution_count": 13,
     "metadata": {},
     "output_type": "execute_result"
    },
    {
     "data": {
      "image/png": "[encoded data removed]",
      "text/plain": [
       "<Figure size 432x288 with 1 Axes>"
      ]
     },
     "metadata": {
      "needs_background": "light"
     },
     "output_type": "display_data"
    }
   ],
   "source": [
    "arr = np.random.rand(99999)\n",
    "plt.hist(arr, bins=100)   # bins sayısı kaç tane çubuk olacağını gösterir.\n",
    "# sona ; koymazsak array leri de verir."
   ]
  },
  {
   "cell_type": "code",
   "execution_count": 14,
   "id": "4cb842cb-bb97-4afc-b42a-5f982bf089f0",
   "metadata": {},
   "outputs": [
    {
     "data": {
      "image/png": "[encoded data removed]",
      "text/plain": [
       "<Figure size 432x288 with 1 Axes>"
      ]
     },
     "metadata": {
      "needs_background": "light"
     },
     "output_type": "display_data"
    }
   ],
   "source": [
    "arr = np.random.rand(99999)\n",
    "plt.hist(arr, bins=100);   # ; koyarsak sadece grafiği gösterir."
   ]
  },
  {
   "cell_type": "markdown",
   "id": "8a0bff3b-b974-4f39-a387-1154f0911db3",
   "metadata": {},
   "source": [
    "# randn\n",
    "##### Return a sample (or samples) from the \"standard normal\" distribution. Unlike rand which is uniform :\"normal\" (Gaussian) distribution of mean 0 and variance 1."
   ]
  },
  {
   "cell_type": "code",
   "execution_count": 15,
   "id": "fcf1a405-d13c-4793-aa2c-34e234a4f373",
   "metadata": {},
   "outputs": [
    {
     "data": {
      "text/plain": [
       "array([ 0.09721833, -0.94258001,  0.74863432,  0.39071508,  0.25292104,\n",
       "        0.67062127, -0.11623182,  1.53109613,  0.76270103,  0.176605  ])"
      ]
     },
     "execution_count": 15,
     "metadata": {},
     "output_type": "execute_result"
    }
   ],
   "source": [
    "np.random.randn(10)"
   ]
  },
  {
   "cell_type": "code",
   "execution_count": 16,
   "id": "b06164cd-2d3f-4195-96cd-5a83b2b366bd",
   "metadata": {},
   "outputs": [
    {
     "data": {
      "text/plain": [
       "array([[-0.76061066,  0.68478135,  0.78922677, -0.19740453, -1.46325877],\n",
       "       [-1.82706557, -1.03172397,  1.21960235,  1.39165773, -0.0276559 ],\n",
       "       [ 1.00152552, -0.13577789,  0.2161474 , -1.40784258,  0.35915568],\n",
       "       [ 1.09668079,  0.99132097,  0.93113419,  1.42037787, -0.01670844],\n",
       "       [ 0.18625487, -1.52118699, -1.85401463, -0.00598506,  2.7669974 ]])"
      ]
     },
     "execution_count": 16,
     "metadata": {},
     "output_type": "execute_result"
    }
   ],
   "source": [
    "np.random.randn(5,5)"
   ]
  },
  {
   "cell_type": "code",
   "execution_count": 20,
   "id": "c391a668-0387-460d-b91a-89024fc7e85e",
   "metadata": {},
   "outputs": [
    {
     "data": {
      "text/plain": [
       "<function matplotlib.pyplot.show(close=None, block=None)>"
      ]
     },
     "execution_count": 20,
     "metadata": {},
     "output_type": "execute_result"
    },
    {
     "data": {
      "image/png": "[encoded data removed]",
      "text/plain": [
       "<Figure size 432x288 with 1 Axes>"
      ]
     },
     "metadata": {
      "needs_background": "light"
     },
     "output_type": "display_data"
    }
   ],
   "source": [
    "arr_n = np.random.randn(99999)\n",
    "plt.hist(arr_n, bins=100)\n",
    "plt.show \n",
    "# % 97 si -3 ile +3 arasında olur."
   ]
  },
  {
   "cell_type": "code",
   "execution_count": 21,
   "id": "dace763c-78f5-436f-9196-50f4d7dd9345",
   "metadata": {},
   "outputs": [
    {
     "data": {
      "text/plain": [
       "0.0022652771285265774"
      ]
     },
     "execution_count": 21,
     "metadata": {},
     "output_type": "execute_result"
    }
   ],
   "source": [
    "arr_n.mean()"
   ]
  },
  {
   "cell_type": "code",
   "execution_count": 23,
   "id": "f2ea9529-540f-4b2f-9e4b-dc68d91a4a6c",
   "metadata": {},
   "outputs": [
    {
     "data": {
      "text/plain": [
       "1.0019462742686176"
      ]
     },
     "execution_count": 23,
     "metadata": {},
     "output_type": "execute_result"
    }
   ],
   "source": [
    "arr_n.std()"
   ]
  },
  {
   "cell_type": "code",
   "execution_count": 28,
   "id": "032f785d-52a8-4014-b63d-538da022634e",
   "metadata": {},
   "outputs": [
    {
     "data": {
      "text/plain": [
       "<function matplotlib.pyplot.show(close=None, block=None)>"
      ]
     },
     "execution_count": 28,
     "metadata": {},
     "output_type": "execute_result"
    },
    {
     "data": {
      "image/png": "[encoded data removed]",
      "text/plain": [
       "<Figure size 432x288 with 1 Axes>"
      ]
     },
     "metadata": {
      "needs_background": "light"
     },
     "output_type": "display_data"
    }
   ],
   "source": [
    "arr_s = np.random.randn(9)\n",
    "plt.hist(arr_s)\n",
    "plt.show \n",
    "\n",
    "# veri ne kadar büyükse standart sapma o kadar küçük olur. veri küçükse sapmalar daha fazla olur."
   ]
  },
  {
   "cell_type": "code",
   "execution_count": 31,
   "id": "43f472df-2886-4193-bbec-08e5bc72a405",
   "metadata": {},
   "outputs": [
    {
     "data": {
      "text/plain": [
       "0.8369414802589088"
      ]
     },
     "execution_count": 31,
     "metadata": {},
     "output_type": "execute_result"
    }
   ],
   "source": [
    "arr_s.std()"
   ]
  },
  {
   "cell_type": "code",
   "execution_count": 32,
   "id": "43c3839e-c44e-4c8b-af92-5bbfc50b8730",
   "metadata": {},
   "outputs": [
    {
     "data": {
      "text/plain": [
       "0.7004710413779734"
      ]
     },
     "execution_count": 32,
     "metadata": {},
     "output_type": "execute_result"
    }
   ],
   "source": [
    "arr_s.std()**2 "
   ]
  },
  {
   "cell_type": "code",
   "execution_count": 33,
   "id": "62ea6d1d-82fe-4169-a226-a7d4f53dc618",
   "metadata": {},
   "outputs": [
    {
     "data": {
      "text/plain": [
       "0.7004710413779733"
      ]
     },
     "execution_count": 33,
     "metadata": {},
     "output_type": "execute_result"
    }
   ],
   "source": [
    "arr_s.var()  # standard sapmanın karesi."
   ]
  },
  {
   "cell_type": "markdown",
   "id": "7a1dd20c-b442-4b32-9ca7-88c972ce0a26",
   "metadata": {},
   "source": [
    "# randint\n",
    "##### Return random integers from low(inclusive) to high(exclusive)"
   ]
  },
  {
   "cell_type": "code",
   "execution_count": 36,
   "id": "f0a06ecf-74cf-4898-a985-80d9b28951e7",
   "metadata": {},
   "outputs": [
    {
     "data": {
      "text/plain": [
       "array([6, 9, 9, 7, 9])"
      ]
     },
     "execution_count": 36,
     "metadata": {},
     "output_type": "execute_result"
    }
   ],
   "source": [
    "np.random.randint(0,10,5)  # 10 tahil değil."
   ]
  },
  {
   "cell_type": "code",
   "execution_count": 38,
   "id": "1d270f0f-0495-4ffe-84a2-8548e0989b08",
   "metadata": {},
   "outputs": [
    {
     "data": {
      "text/plain": [
       "array([[1, 4, 3, 4],\n",
       "       [1, 3, 6, 6],\n",
       "       [9, 3, 9, 0],\n",
       "       [2, 7, 4, 1]])"
      ]
     },
     "execution_count": 38,
     "metadata": {},
     "output_type": "execute_result"
    }
   ],
   "source": [
    "np.random.randint(0,10,size=(4,4))"
   ]
  },
  {
   "cell_type": "code",
   "execution_count": 39,
   "id": "2ef5f94e-49ee-4d4a-ad1e-b66878b5f7b0",
   "metadata": {},
   "outputs": [
    {
     "data": {
      "text/plain": [
       "array([2, 4, 1, 1])"
      ]
     },
     "execution_count": 39,
     "metadata": {},
     "output_type": "execute_result"
    }
   ],
   "source": [
    "np.random.randint(0,[3,10,6,2])  \n",
    "# içine koyduğum liste ile 0.eleman 3e kadar, 1.eleman 10 a kadar,2.eleman 6 ya kadar,2.eleman 2 ye kadar sayı üretir."
   ]
  },
  {
   "cell_type": "code",
   "execution_count": 40,
   "id": "8b48e3ec-6245-4ba3-b1bf-a48819e13da3",
   "metadata": {},
   "outputs": [
    {
     "data": {
      "text/plain": [
       "array([ 23,  97, 175,   0])"
      ]
     },
     "execution_count": 40,
     "metadata": {},
     "output_type": "execute_result"
    }
   ],
   "source": [
    "np.random.randint([18,60,160,0],[35,100,210,5]) \n",
    "# index numaralarına göre 18-35,60-100,160-210,0-5 aralarında bir array oluşturdu."
   ]
  },
  {
   "cell_type": "markdown",
   "id": "0c8cbe5a-18ef-4370-ae31-595d3acb1410",
   "metadata": {},
   "source": [
    "# Concatenation of the Arrays\n"
   ]
  },
  {
   "cell_type": "code",
   "execution_count": 57,
   "id": "2b07faa2-3c7d-4921-be24-d7dab8d310e1",
   "metadata": {},
   "outputs": [
    {
     "data": {
      "text/plain": [
       "array([[1., 1., 1., 1.],\n",
       "       [1., 1., 1., 1.],\n",
       "       [1., 1., 1., 1.],\n",
       "       [1., 1., 1., 1.]])"
      ]
     },
     "execution_count": 57,
     "metadata": {},
     "output_type": "execute_result"
    }
   ],
   "source": [
    "ones = np.ones((4,4))\n",
    "ones"
   ]
  },
  {
   "cell_type": "code",
   "execution_count": 58,
   "id": "2402f6e3-c014-486f-ae87-1871b36316aa",
   "metadata": {},
   "outputs": [
    {
     "data": {
      "text/plain": [
       "array([[8, 3, 8, 6],\n",
       "       [3, 8, 4, 9],\n",
       "       [3, 5, 5, 6],\n",
       "       [3, 8, 8, 5]])"
      ]
     },
     "execution_count": 58,
     "metadata": {},
     "output_type": "execute_result"
    }
   ],
   "source": [
    "rand = np.random.randint(2,10,size=(4,4))\n",
    "rand"
   ]
  },
  {
   "cell_type": "code",
   "execution_count": 59,
   "id": "f51dcbf0-353f-439a-b567-5e31cd6689b0",
   "metadata": {},
   "outputs": [
    {
     "data": {
      "text/plain": [
       "array([[1., 1., 1., 1.],\n",
       "       [1., 1., 1., 1.],\n",
       "       [1., 1., 1., 1.],\n",
       "       [1., 1., 1., 1.],\n",
       "       [8., 3., 8., 6.],\n",
       "       [3., 8., 4., 9.],\n",
       "       [3., 5., 5., 6.],\n",
       "       [3., 8., 8., 5.]])"
      ]
     },
     "execution_count": 59,
     "metadata": {},
     "output_type": "execute_result"
    }
   ],
   "source": [
    "np.concatenate([ones,rand])  # default olarak axis=0 olarak kabul eder."
   ]
  },
  {
   "cell_type": "code",
   "execution_count": 60,
   "id": "ba2863ef-e1e8-4f7d-8189-421074942bbb",
   "metadata": {},
   "outputs": [
    {
     "data": {
      "text/plain": [
       "array([[1., 1., 1., 1., 8., 3., 8., 6.],\n",
       "       [1., 1., 1., 1., 3., 8., 4., 9.],\n",
       "       [1., 1., 1., 1., 3., 5., 5., 6.],\n",
       "       [1., 1., 1., 1., 3., 8., 8., 5.]])"
      ]
     },
     "execution_count": 60,
     "metadata": {},
     "output_type": "execute_result"
    }
   ],
   "source": [
    "np.concatenate([ones,rand], axis=1)"
   ]
  },
  {
   "cell_type": "code",
   "execution_count": 61,
   "id": "6efef84b-c4ca-42d5-906d-666492952ef5",
   "metadata": {},
   "outputs": [],
   "source": [
    "ones1 = np.ones((4,5))\n",
    "rand1 = np.random.randint(2,10,size=(6,7))"
   ]
  },
  {
   "cell_type": "code",
   "execution_count": 62,
   "id": "461006a8-cc5d-45c6-b4e7-8f7b1b5815bf",
   "metadata": {},
   "outputs": [
    {
     "ename": "ValueError",
     "evalue": "all the input array dimensions for the concatenation axis must match exactly, but along dimension 0, the array at index 0 has size 4 and the array at index 1 has size 6",
     "output_type": "error",
     "traceback": [
      "\u001b[1;31m---------------------------------------------------------------------------\u001b[0m",
      "\u001b[1;31mValueError\u001b[0m                                Traceback (most recent call last)",
      "\u001b[1;32m<ipython-input-62-f36b85bda412>\u001b[0m in \u001b[0;36m<module>\u001b[1;34m\u001b[0m\n\u001b[1;32m----> 1\u001b[1;33m \u001b[0mnp\u001b[0m\u001b[1;33m.\u001b[0m\u001b[0mconcatenate\u001b[0m\u001b[1;33m(\u001b[0m\u001b[1;33m[\u001b[0m\u001b[0mones1\u001b[0m\u001b[1;33m,\u001b[0m\u001b[0mrand1\u001b[0m\u001b[1;33m]\u001b[0m\u001b[1;33m,\u001b[0m \u001b[0maxis\u001b[0m\u001b[1;33m=\u001b[0m\u001b[1;36m1\u001b[0m\u001b[1;33m)\u001b[0m\u001b[1;33m\u001b[0m\u001b[1;33m\u001b[0m\u001b[0m\n\u001b[0m",
      "\u001b[1;32m<__array_function__ internals>\u001b[0m in \u001b[0;36mconcatenate\u001b[1;34m(*args, **kwargs)\u001b[0m\n",
      "\u001b[1;31mValueError\u001b[0m: all the input array dimensions for the concatenation axis must match exactly, but along dimension 0, the array at index 0 has size 4 and the array at index 1 has size 6"
     ]
    }
   ],
   "source": [
    "np.concatenate([ones1,rand1], axis=1)"
   ]
  },
  {
   "cell_type": "code",
   "execution_count": 63,
   "id": "b690f845-3de9-4072-91c7-dc14809d4a18",
   "metadata": {},
   "outputs": [
    {
     "data": {
      "text/plain": [
       "array([[1., 1., 1., 1.],\n",
       "       [1., 1., 1., 1.],\n",
       "       [1., 1., 1., 1.],\n",
       "       [1., 1., 1., 1.],\n",
       "       [8., 3., 8., 6.],\n",
       "       [3., 8., 4., 9.],\n",
       "       [3., 5., 5., 6.],\n",
       "       [3., 8., 8., 5.]])"
      ]
     },
     "execution_count": 63,
     "metadata": {},
     "output_type": "execute_result"
    }
   ],
   "source": [
    "np.concatenate([ones,rand])"
   ]
  },
  {
   "cell_type": "markdown",
   "id": "320ac7ac-8fa3-4937-a0f3-23db8bf6556e",
   "metadata": {},
   "source": [
    "# Splitting of the Arrays"
   ]
  },
  {
   "cell_type": "code",
   "execution_count": 67,
   "id": "1e280970-523b-42a9-a338-4fff273c5907",
   "metadata": {},
   "outputs": [
    {
     "data": {
      "text/plain": [
       "array([[ 0,  1,  2,  3,  4],\n",
       "       [ 5,  6,  7,  8,  9],\n",
       "       [10, 11, 12, 13, 14],\n",
       "       [15, 16, 17, 18, 19],\n",
       "       [20, 21, 22, 23, 24]])"
      ]
     },
     "execution_count": 67,
     "metadata": {},
     "output_type": "execute_result"
    }
   ],
   "source": [
    "concat = np.arange(0,25).reshape(5,5)\n",
    "concat"
   ]
  },
  {
   "cell_type": "code",
   "execution_count": 69,
   "id": "0f2fce8a-f287-4127-95bc-9d0044824510",
   "metadata": {},
   "outputs": [
    {
     "data": {
      "text/plain": [
       "[array([[0, 1, 2, 3, 4]]),\n",
       " array([[ 5,  6,  7,  8,  9],\n",
       "        [10, 11, 12, 13, 14]]),\n",
       " array([[15, 16, 17, 18, 19],\n",
       "        [20, 21, 22, 23, 24]])]"
      ]
     },
     "execution_count": 69,
     "metadata": {},
     "output_type": "execute_result"
    }
   ],
   "source": [
    "np.split(concat,[1,3])  # axis=0 olarak kabul ediyor. Row, record, gözlem"
   ]
  },
  {
   "cell_type": "code",
   "execution_count": 72,
   "id": "edbdfe32-6ed7-4c0f-a920-c36d06d2b387",
   "metadata": {},
   "outputs": [
    {
     "data": {
      "text/plain": [
       "[array([[ 0,  1],\n",
       "        [ 5,  6],\n",
       "        [10, 11],\n",
       "        [15, 16],\n",
       "        [20, 21]]),\n",
       " array([[ 2],\n",
       "        [ 7],\n",
       "        [12],\n",
       "        [17],\n",
       "        [22]]),\n",
       " array([[ 3,  4],\n",
       "        [ 8,  9],\n",
       "        [13, 14],\n",
       "        [18, 19],\n",
       "        [23, 24]])]"
      ]
     },
     "execution_count": 72,
     "metadata": {},
     "output_type": "execute_result"
    }
   ],
   "source": [
    "np.split(concat,[2,3],axis=1) # axis=1  column, feature de denilebilir. "
   ]
  },
  {
   "cell_type": "markdown",
   "id": "95bf1db7-5198-412c-ae36-bf1a5ff7bd4b",
   "metadata": {},
   "source": [
    "# NumPy Indexing and Selection"
   ]
  },
  {
   "cell_type": "code",
   "execution_count": 75,
   "id": "e6968dfa-a3af-46e8-b249-1d22d69f2317",
   "metadata": {},
   "outputs": [],
   "source": [
    "import numpy as np\n",
    "import pandas as pd\n",
    "import seaborn as sns\n",
    "import matplotlib.pyplot as plt\n",
    "%matplotlib inline"
   ]
  },
  {
   "cell_type": "code",
   "execution_count": 76,
   "id": "f0a7548e-ad6a-4b2b-8e2d-cc941dfa3c7a",
   "metadata": {},
   "outputs": [],
   "source": [
    "df = sns.load_dataset(\"diamonds\")"
   ]
  },
  {
   "cell_type": "code",
   "execution_count": 77,
   "id": "de4a937d-09e7-4950-b3dc-40327a6e7fe2",
   "metadata": {},
   "outputs": [
    {
     "data": {
      "text/html": [
       "<div>\n",
       "<style scoped>\n",
       "    .dataframe tbody tr th:only-of-type {\n",
       "        vertical-align: middle;\n",
       "    }\n",
       "\n",
       "    .dataframe tbody tr th {\n",
       "        vertical-align: top;\n",
       "    }\n",
       "\n",
       "    .dataframe thead th {\n",
       "        text-align: right;\n",
       "    }\n",
       "</style>\n",
       "<table border=\"1\" class=\"dataframe\">\n",
       "  <thead>\n",
       "    <tr style=\"text-align: right;\">\n",
       "      <th></th>\n",
       "      <th>carat</th>\n",
       "      <th>cut</th>\n",
       "      <th>color</th>\n",
       "      <th>clarity</th>\n",
       "      <th>depth</th>\n",
       "      <th>table</th>\n",
       "      <th>price</th>\n",
       "      <th>x</th>\n",
       "      <th>y</th>\n",
       "      <th>z</th>\n",
       "    </tr>\n",
       "  </thead>\n",
       "  <tbody>\n",
       "    <tr>\n",
       "      <th>0</th>\n",
       "      <td>0.23</td>\n",
       "      <td>Ideal</td>\n",
       "      <td>E</td>\n",
       "      <td>SI2</td>\n",
       "      <td>61.5</td>\n",
       "      <td>55.0</td>\n",
       "      <td>326</td>\n",
       "      <td>3.95</td>\n",
       "      <td>3.98</td>\n",
       "      <td>2.43</td>\n",
       "    </tr>\n",
       "    <tr>\n",
       "      <th>1</th>\n",
       "      <td>0.21</td>\n",
       "      <td>Premium</td>\n",
       "      <td>E</td>\n",
       "      <td>SI1</td>\n",
       "      <td>59.8</td>\n",
       "      <td>61.0</td>\n",
       "      <td>326</td>\n",
       "      <td>3.89</td>\n",
       "      <td>3.84</td>\n",
       "      <td>2.31</td>\n",
       "    </tr>\n",
       "    <tr>\n",
       "      <th>2</th>\n",
       "      <td>0.23</td>\n",
       "      <td>Good</td>\n",
       "      <td>E</td>\n",
       "      <td>VS1</td>\n",
       "      <td>56.9</td>\n",
       "      <td>65.0</td>\n",
       "      <td>327</td>\n",
       "      <td>4.05</td>\n",
       "      <td>4.07</td>\n",
       "      <td>2.31</td>\n",
       "    </tr>\n",
       "    <tr>\n",
       "      <th>3</th>\n",
       "      <td>0.29</td>\n",
       "      <td>Premium</td>\n",
       "      <td>I</td>\n",
       "      <td>VS2</td>\n",
       "      <td>62.4</td>\n",
       "      <td>58.0</td>\n",
       "      <td>334</td>\n",
       "      <td>4.20</td>\n",
       "      <td>4.23</td>\n",
       "      <td>2.63</td>\n",
       "    </tr>\n",
       "    <tr>\n",
       "      <th>4</th>\n",
       "      <td>0.31</td>\n",
       "      <td>Good</td>\n",
       "      <td>J</td>\n",
       "      <td>SI2</td>\n",
       "      <td>63.3</td>\n",
       "      <td>58.0</td>\n",
       "      <td>335</td>\n",
       "      <td>4.34</td>\n",
       "      <td>4.35</td>\n",
       "      <td>2.75</td>\n",
       "    </tr>\n",
       "    <tr>\n",
       "      <th>...</th>\n",
       "      <td>...</td>\n",
       "      <td>...</td>\n",
       "      <td>...</td>\n",
       "      <td>...</td>\n",
       "      <td>...</td>\n",
       "      <td>...</td>\n",
       "      <td>...</td>\n",
       "      <td>...</td>\n",
       "      <td>...</td>\n",
       "      <td>...</td>\n",
       "    </tr>\n",
       "    <tr>\n",
       "      <th>53935</th>\n",
       "      <td>0.72</td>\n",
       "      <td>Ideal</td>\n",
       "      <td>D</td>\n",
       "      <td>SI1</td>\n",
       "      <td>60.8</td>\n",
       "      <td>57.0</td>\n",
       "      <td>2757</td>\n",
       "      <td>5.75</td>\n",
       "      <td>5.76</td>\n",
       "      <td>3.50</td>\n",
       "    </tr>\n",
       "    <tr>\n",
       "      <th>53936</th>\n",
       "      <td>0.72</td>\n",
       "      <td>Good</td>\n",
       "      <td>D</td>\n",
       "      <td>SI1</td>\n",
       "      <td>63.1</td>\n",
       "      <td>55.0</td>\n",
       "      <td>2757</td>\n",
       "      <td>5.69</td>\n",
       "      <td>5.75</td>\n",
       "      <td>3.61</td>\n",
       "    </tr>\n",
       "    <tr>\n",
       "      <th>53937</th>\n",
       "      <td>0.70</td>\n",
       "      <td>Very Good</td>\n",
       "      <td>D</td>\n",
       "      <td>SI1</td>\n",
       "      <td>62.8</td>\n",
       "      <td>60.0</td>\n",
       "      <td>2757</td>\n",
       "      <td>5.66</td>\n",
       "      <td>5.68</td>\n",
       "      <td>3.56</td>\n",
       "    </tr>\n",
       "    <tr>\n",
       "      <th>53938</th>\n",
       "      <td>0.86</td>\n",
       "      <td>Premium</td>\n",
       "      <td>H</td>\n",
       "      <td>SI2</td>\n",
       "      <td>61.0</td>\n",
       "      <td>58.0</td>\n",
       "      <td>2757</td>\n",
       "      <td>6.15</td>\n",
       "      <td>6.12</td>\n",
       "      <td>3.74</td>\n",
       "    </tr>\n",
       "    <tr>\n",
       "      <th>53939</th>\n",
       "      <td>0.75</td>\n",
       "      <td>Ideal</td>\n",
       "      <td>D</td>\n",
       "      <td>SI2</td>\n",
       "      <td>62.2</td>\n",
       "      <td>55.0</td>\n",
       "      <td>2757</td>\n",
       "      <td>5.83</td>\n",
       "      <td>5.87</td>\n",
       "      <td>3.64</td>\n",
       "    </tr>\n",
       "  </tbody>\n",
       "</table>\n",
       "<p>53940 rows × 10 columns</p>\n",
       "</div>"
      ],
      "text/plain": [
       "       carat        cut color clarity  depth  table  price     x     y     z\n",
       "0       0.23      Ideal     E     SI2   61.5   55.0    326  3.95  3.98  2.43\n",
       "1       0.21    Premium     E     SI1   59.8   61.0    326  3.89  3.84  2.31\n",
       "2       0.23       Good     E     VS1   56.9   65.0    327  4.05  4.07  2.31\n",
       "3       0.29    Premium     I     VS2   62.4   58.0    334  4.20  4.23  2.63\n",
       "4       0.31       Good     J     SI2   63.3   58.0    335  4.34  4.35  2.75\n",
       "...      ...        ...   ...     ...    ...    ...    ...   ...   ...   ...\n",
       "53935   0.72      Ideal     D     SI1   60.8   57.0   2757  5.75  5.76  3.50\n",
       "53936   0.72       Good     D     SI1   63.1   55.0   2757  5.69  5.75  3.61\n",
       "53937   0.70  Very Good     D     SI1   62.8   60.0   2757  5.66  5.68  3.56\n",
       "53938   0.86    Premium     H     SI2   61.0   58.0   2757  6.15  6.12  3.74\n",
       "53939   0.75      Ideal     D     SI2   62.2   55.0   2757  5.83  5.87  3.64\n",
       "\n",
       "[53940 rows x 10 columns]"
      ]
     },
     "execution_count": 77,
     "metadata": {},
     "output_type": "execute_result"
    }
   ],
   "source": [
    "df"
   ]
  },
  {
   "cell_type": "code",
   "execution_count": 79,
   "id": "f6393532-3f56-48c1-b214-8ee60723154d",
   "metadata": {},
   "outputs": [
    {
     "data": {
      "text/html": [
       "<div>\n",
       "<style scoped>\n",
       "    .dataframe tbody tr th:only-of-type {\n",
       "        vertical-align: middle;\n",
       "    }\n",
       "\n",
       "    .dataframe tbody tr th {\n",
       "        vertical-align: top;\n",
       "    }\n",
       "\n",
       "    .dataframe thead th {\n",
       "        text-align: right;\n",
       "    }\n",
       "</style>\n",
       "<table border=\"1\" class=\"dataframe\">\n",
       "  <thead>\n",
       "    <tr style=\"text-align: right;\">\n",
       "      <th></th>\n",
       "      <th>carat</th>\n",
       "      <th>depth</th>\n",
       "      <th>price</th>\n",
       "      <th>x</th>\n",
       "      <th>y</th>\n",
       "      <th>z</th>\n",
       "    </tr>\n",
       "  </thead>\n",
       "  <tbody>\n",
       "    <tr>\n",
       "      <th>0</th>\n",
       "      <td>0.23</td>\n",
       "      <td>61.5</td>\n",
       "      <td>326</td>\n",
       "      <td>3.95</td>\n",
       "      <td>3.98</td>\n",
       "      <td>2.43</td>\n",
       "    </tr>\n",
       "    <tr>\n",
       "      <th>1</th>\n",
       "      <td>0.21</td>\n",
       "      <td>59.8</td>\n",
       "      <td>326</td>\n",
       "      <td>3.89</td>\n",
       "      <td>3.84</td>\n",
       "      <td>2.31</td>\n",
       "    </tr>\n",
       "    <tr>\n",
       "      <th>2</th>\n",
       "      <td>0.23</td>\n",
       "      <td>56.9</td>\n",
       "      <td>327</td>\n",
       "      <td>4.05</td>\n",
       "      <td>4.07</td>\n",
       "      <td>2.31</td>\n",
       "    </tr>\n",
       "    <tr>\n",
       "      <th>3</th>\n",
       "      <td>0.29</td>\n",
       "      <td>62.4</td>\n",
       "      <td>334</td>\n",
       "      <td>4.20</td>\n",
       "      <td>4.23</td>\n",
       "      <td>2.63</td>\n",
       "    </tr>\n",
       "    <tr>\n",
       "      <th>4</th>\n",
       "      <td>0.31</td>\n",
       "      <td>63.3</td>\n",
       "      <td>335</td>\n",
       "      <td>4.34</td>\n",
       "      <td>4.35</td>\n",
       "      <td>2.75</td>\n",
       "    </tr>\n",
       "    <tr>\n",
       "      <th>...</th>\n",
       "      <td>...</td>\n",
       "      <td>...</td>\n",
       "      <td>...</td>\n",
       "      <td>...</td>\n",
       "      <td>...</td>\n",
       "      <td>...</td>\n",
       "    </tr>\n",
       "    <tr>\n",
       "      <th>53935</th>\n",
       "      <td>0.72</td>\n",
       "      <td>60.8</td>\n",
       "      <td>2757</td>\n",
       "      <td>5.75</td>\n",
       "      <td>5.76</td>\n",
       "      <td>3.50</td>\n",
       "    </tr>\n",
       "    <tr>\n",
       "      <th>53936</th>\n",
       "      <td>0.72</td>\n",
       "      <td>63.1</td>\n",
       "      <td>2757</td>\n",
       "      <td>5.69</td>\n",
       "      <td>5.75</td>\n",
       "      <td>3.61</td>\n",
       "    </tr>\n",
       "    <tr>\n",
       "      <th>53937</th>\n",
       "      <td>0.70</td>\n",
       "      <td>62.8</td>\n",
       "      <td>2757</td>\n",
       "      <td>5.66</td>\n",
       "      <td>5.68</td>\n",
       "      <td>3.56</td>\n",
       "    </tr>\n",
       "    <tr>\n",
       "      <th>53938</th>\n",
       "      <td>0.86</td>\n",
       "      <td>61.0</td>\n",
       "      <td>2757</td>\n",
       "      <td>6.15</td>\n",
       "      <td>6.12</td>\n",
       "      <td>3.74</td>\n",
       "    </tr>\n",
       "    <tr>\n",
       "      <th>53939</th>\n",
       "      <td>0.75</td>\n",
       "      <td>62.2</td>\n",
       "      <td>2757</td>\n",
       "      <td>5.83</td>\n",
       "      <td>5.87</td>\n",
       "      <td>3.64</td>\n",
       "    </tr>\n",
       "  </tbody>\n",
       "</table>\n",
       "<p>53940 rows × 6 columns</p>\n",
       "</div>"
      ],
      "text/plain": [
       "       carat  depth  price     x     y     z\n",
       "0       0.23   61.5    326  3.95  3.98  2.43\n",
       "1       0.21   59.8    326  3.89  3.84  2.31\n",
       "2       0.23   56.9    327  4.05  4.07  2.31\n",
       "3       0.29   62.4    334  4.20  4.23  2.63\n",
       "4       0.31   63.3    335  4.34  4.35  2.75\n",
       "...      ...    ...    ...   ...   ...   ...\n",
       "53935   0.72   60.8   2757  5.75  5.76  3.50\n",
       "53936   0.72   63.1   2757  5.69  5.75  3.61\n",
       "53937   0.70   62.8   2757  5.66  5.68  3.56\n",
       "53938   0.86   61.0   2757  6.15  6.12  3.74\n",
       "53939   0.75   62.2   2757  5.83  5.87  3.64\n",
       "\n",
       "[53940 rows x 6 columns]"
      ]
     },
     "execution_count": 79,
     "metadata": {},
     "output_type": "execute_result"
    }
   ],
   "source": [
    "df[[\"carat\",\"depth\",\"price\",\"x\",\"y\",\"z\"]]  # sayısal değerleri aldık. Kategorik değerleri almadık."
   ]
  },
  {
   "cell_type": "code",
   "execution_count": 80,
   "id": "6a9ecf32-bcac-419d-aaca-b24d464c94a7",
   "metadata": {},
   "outputs": [
    {
     "data": {
      "text/plain": [
       "array([[2.300e-01, 6.150e+01, 3.260e+02, 3.950e+00, 3.980e+00, 2.430e+00],\n",
       "       [2.100e-01, 5.980e+01, 3.260e+02, 3.890e+00, 3.840e+00, 2.310e+00],\n",
       "       [2.300e-01, 5.690e+01, 3.270e+02, 4.050e+00, 4.070e+00, 2.310e+00],\n",
       "       ...,\n",
       "       [7.000e-01, 6.280e+01, 2.757e+03, 5.660e+00, 5.680e+00, 3.560e+00],\n",
       "       [8.600e-01, 6.100e+01, 2.757e+03, 6.150e+00, 6.120e+00, 3.740e+00],\n",
       "       [7.500e-01, 6.220e+01, 2.757e+03, 5.830e+00, 5.870e+00, 3.640e+00]])"
      ]
     },
     "execution_count": 80,
     "metadata": {},
     "output_type": "execute_result"
    }
   ],
   "source": [
    "diamond = np.array(df[[\"carat\",\"depth\",\"price\",\"x\",\"y\",\"z\"]])\n",
    "diamond"
   ]
  },
  {
   "cell_type": "code",
   "execution_count": 81,
   "id": "cbef14c2-cb05-4e07-af8f-9cd667db7379",
   "metadata": {},
   "outputs": [
    {
     "data": {
      "text/plain": [
       "array([2.30e-01, 6.15e+01, 3.26e+02, 3.95e+00, 3.98e+00, 2.43e+00])"
      ]
     },
     "execution_count": 81,
     "metadata": {},
     "output_type": "execute_result"
    }
   ],
   "source": [
    "diamond[0]  # ilk satır"
   ]
  },
  {
   "cell_type": "code",
   "execution_count": 82,
   "id": "1886569b-1db6-47de-a1db-7902fdc4d9e1",
   "metadata": {},
   "outputs": [
    {
     "data": {
      "text/plain": [
       "array([7.500e-01, 6.220e+01, 2.757e+03, 5.830e+00, 5.870e+00, 3.640e+00])"
      ]
     },
     "execution_count": 82,
     "metadata": {},
     "output_type": "execute_result"
    }
   ],
   "source": [
    "diamond[-1]  # son satır"
   ]
  },
  {
   "cell_type": "code",
   "execution_count": 83,
   "id": "9b4be08e-4629-4f75-88b2-7232e007a255",
   "metadata": {},
   "outputs": [
    {
     "data": {
      "text/plain": [
       "array([[2.30e-01, 6.15e+01, 3.26e+02, 3.95e+00, 3.98e+00, 2.43e+00],\n",
       "       [2.10e-01, 5.98e+01, 3.26e+02, 3.89e+00, 3.84e+00, 2.31e+00]])"
      ]
     },
     "execution_count": 83,
     "metadata": {},
     "output_type": "execute_result"
    }
   ],
   "source": [
    "diamond[0:2]"
   ]
  },
  {
   "cell_type": "code",
   "execution_count": 84,
   "id": "f7327d36-9242-4ad9-b826-00428fee5591",
   "metadata": {},
   "outputs": [
    {
     "data": {
      "text/plain": [
       "array([[7.50e-01, 6.32e+01, 2.76e+03, 5.80e+00, 5.75e+00, 3.65e+00],\n",
       "       [7.50e-01, 5.99e+01, 2.76e+03, 6.00e+00, 5.96e+00, 3.58e+00],\n",
       "       [7.40e-01, 6.16e+01, 2.76e+03, 5.80e+00, 5.85e+00, 3.59e+00],\n",
       "       [7.50e-01, 6.17e+01, 2.76e+03, 5.85e+00, 5.79e+00, 3.59e+00],\n",
       "       [8.00e-01, 6.29e+01, 2.76e+03, 5.94e+00, 5.87e+00, 3.72e+00]])"
      ]
     },
     "execution_count": 84,
     "metadata": {},
     "output_type": "execute_result"
    }
   ],
   "source": [
    "diamond[100:105]"
   ]
  },
  {
   "cell_type": "code",
   "execution_count": null,
   "id": "7f4b904d-9042-41dd-8f13-5178bba2b148",
   "metadata": {},
   "outputs": [],
   "source": [
    "diamond[:,:,]   # satır sütun seperate"
   ]
  },
  {
   "cell_type": "code",
   "execution_count": 85,
   "id": "191ac02c-0ef7-4487-930c-7238ed4fff18",
   "metadata": {},
   "outputs": [
    {
     "data": {
      "text/plain": [
       "array([[2.300e-01, 6.150e+01, 3.260e+02, 3.950e+00, 3.980e+00, 2.430e+00],\n",
       "       [2.100e-01, 5.980e+01, 3.260e+02, 3.890e+00, 3.840e+00, 2.310e+00],\n",
       "       [2.300e-01, 5.690e+01, 3.270e+02, 4.050e+00, 4.070e+00, 2.310e+00],\n",
       "       ...,\n",
       "       [7.000e-01, 6.280e+01, 2.757e+03, 5.660e+00, 5.680e+00, 3.560e+00],\n",
       "       [8.600e-01, 6.100e+01, 2.757e+03, 6.150e+00, 6.120e+00, 3.740e+00],\n",
       "       [7.500e-01, 6.220e+01, 2.757e+03, 5.830e+00, 5.870e+00, 3.640e+00]])"
      ]
     },
     "execution_count": 85,
     "metadata": {},
     "output_type": "execute_result"
    }
   ],
   "source": [
    "diamond"
   ]
  },
  {
   "cell_type": "code",
   "execution_count": 86,
   "id": "4cf5371b-1f6d-4b1f-9b70-ed17601c4cce",
   "metadata": {},
   "outputs": [
    {
     "data": {
      "text/plain": [
       "array([0.23, 0.21, 0.23, ..., 0.7 , 0.86, 0.75])"
      ]
     },
     "execution_count": 86,
     "metadata": {},
     "output_type": "execute_result"
    }
   ],
   "source": [
    "diamond[:,0]"
   ]
  },
  {
   "cell_type": "code",
   "execution_count": 87,
   "id": "fa5692b1-1cde-46d8-b47d-b7ea381dd585",
   "metadata": {},
   "outputs": [
    {
     "data": {
      "text/plain": [
       "array([[2.30e-01, 6.15e+01, 3.26e+02],\n",
       "       [2.10e-01, 5.98e+01, 3.26e+02]])"
      ]
     },
     "execution_count": 87,
     "metadata": {},
     "output_type": "execute_result"
    }
   ],
   "source": [
    "diamond[:2,0:3]"
   ]
  },
  {
   "cell_type": "code",
   "execution_count": 88,
   "id": "9b1c733c-b7b6-4a51-8a6e-8fa267e89738",
   "metadata": {},
   "outputs": [
    {
     "data": {
      "text/plain": [
       "array([61.5, 59.8])"
      ]
     },
     "execution_count": 88,
     "metadata": {},
     "output_type": "execute_result"
    }
   ],
   "source": [
    "diamond[0:2, 1]"
   ]
  },
  {
   "cell_type": "code",
   "execution_count": 89,
   "id": "0449f908-20f8-42e4-8ef7-88cb8fd92053",
   "metadata": {},
   "outputs": [
    {
     "data": {
      "text/plain": [
       "array([2.30e-01, 3.26e+02, 3.98e+00])"
      ]
     },
     "execution_count": 89,
     "metadata": {},
     "output_type": "execute_result"
    }
   ],
   "source": [
    "diamond[0,::2]  # 0.satırda sütunları bir atlayarak alıyoruz. "
   ]
  },
  {
   "cell_type": "code",
   "execution_count": 91,
   "id": "9e2dca1b-11b4-4a40-91ad-752a855cf7e6",
   "metadata": {},
   "outputs": [
    {
     "data": {
      "text/plain": [
       "array([[0.23],\n",
       "       [0.21],\n",
       "       [0.23],\n",
       "       ...,\n",
       "       [0.7 ],\n",
       "       [0.86],\n",
       "       [0.75]])"
      ]
     },
     "execution_count": 91,
     "metadata": {},
     "output_type": "execute_result"
    }
   ],
   "source": [
    "carat = diamond[:,0].reshape(len(diamond),1)\n",
    "carat"
   ]
  },
  {
   "cell_type": "code",
   "execution_count": 92,
   "id": "eee52235-45e4-448e-9ca3-4e2deb784357",
   "metadata": {},
   "outputs": [
    {
     "data": {
      "text/plain": [
       "array([[61.5],\n",
       "       [59.8],\n",
       "       [56.9],\n",
       "       ...,\n",
       "       [62.8],\n",
       "       [61. ],\n",
       "       [62.2]])"
      ]
     },
     "execution_count": 92,
     "metadata": {},
     "output_type": "execute_result"
    }
   ],
   "source": [
    "depth = diamond[:,1].reshape(len(diamond),1)\n",
    "depth"
   ]
  },
  {
   "cell_type": "code",
   "execution_count": 94,
   "id": "ab178205-d21f-4c28-b142-69a816272228",
   "metadata": {},
   "outputs": [
    {
     "data": {
      "text/plain": [
       "array([[ 0.23, 61.5 ],\n",
       "       [ 0.21, 59.8 ],\n",
       "       [ 0.23, 56.9 ],\n",
       "       ...,\n",
       "       [ 0.7 , 62.8 ],\n",
       "       [ 0.86, 61.  ],\n",
       "       [ 0.75, 62.2 ]])"
      ]
     },
     "execution_count": 94,
     "metadata": {},
     "output_type": "execute_result"
    }
   ],
   "source": [
    "np.concatenate([carat,depth], axis=1)   # axis=1 olduğundan satır olarak yana ekledi."
   ]
  },
  {
   "cell_type": "code",
   "execution_count": 96,
   "id": "f19fb240-d3cc-4f20-8043-a3380d1cf505",
   "metadata": {},
   "outputs": [
    {
     "data": {
      "text/plain": [
       "array([[3.95, 3.98, 2.43],\n",
       "       [3.89, 3.84, 2.31],\n",
       "       [4.05, 4.07, 2.31],\n",
       "       ...,\n",
       "       [5.66, 5.68, 3.56],\n",
       "       [6.15, 6.12, 3.74],\n",
       "       [5.83, 5.87, 3.64]])"
      ]
     },
     "execution_count": 96,
     "metadata": {},
     "output_type": "execute_result"
    }
   ],
   "source": [
    "xyz = diamond[:,-3:].reshape(len(diamond),3)\n",
    "xyz"
   ]
  },
  {
   "cell_type": "code",
   "execution_count": 97,
   "id": "11b20a6d-6226-411b-977e-2deae27e6046",
   "metadata": {},
   "outputs": [
    {
     "data": {
      "text/plain": [
       "array([3.95, 3.89, 4.05, ..., 5.66, 6.15, 5.83])"
      ]
     },
     "execution_count": 97,
     "metadata": {},
     "output_type": "execute_result"
    }
   ],
   "source": [
    "xyz[:,0]"
   ]
  },
  {
   "cell_type": "code",
   "execution_count": 102,
   "id": "ab378174-bd1f-4124-9e2f-36cc2cb0156a",
   "metadata": {},
   "outputs": [
    {
     "data": {
      "text/plain": [
       "array([[ 38.20203 ],\n",
       "       [ 34.505856],\n",
       "       [ 38.076885],\n",
       "       ...,\n",
       "       [114.449728],\n",
       "       [140.76612 ],\n",
       "       [124.568444]])"
      ]
     },
     "execution_count": 102,
     "metadata": {},
     "output_type": "execute_result"
    }
   ],
   "source": [
    "volume = xyz[:,0]*xyz[:,1]*xyz[:,2]  # satırdaki her bir elemanı \n",
    "volume = volume.reshape(len(volume),1)\n",
    "volume"
   ]
  },
  {
   "cell_type": "code",
   "execution_count": 103,
   "id": "1838f83d-1ad3-4999-be4a-e4f61de80137",
   "metadata": {},
   "outputs": [
    {
     "data": {
      "text/plain": [
       "array([[  3.95    ,   3.98    ,   2.43    ,  38.20203 ],\n",
       "       [  3.89    ,   3.84    ,   2.31    ,  34.505856],\n",
       "       [  4.05    ,   4.07    ,   2.31    ,  38.076885],\n",
       "       ...,\n",
       "       [  5.66    ,   5.68    ,   3.56    , 114.449728],\n",
       "       [  6.15    ,   6.12    ,   3.74    , 140.76612 ],\n",
       "       [  5.83    ,   5.87    ,   3.64    , 124.568444]])"
      ]
     },
     "execution_count": 103,
     "metadata": {},
     "output_type": "execute_result"
    }
   ],
   "source": [
    "np.concatenate([xyz,volume],axis=1)"
   ]
  },
  {
   "cell_type": "markdown",
   "id": "5475620e-b62f-48b4-b76b-9ce2d6056e54",
   "metadata": {},
   "source": [
    "# Indexing of 1D Arrays"
   ]
  },
  {
   "cell_type": "code",
   "execution_count": 105,
   "id": "de3f4948-c487-4c8d-936e-54b5aa81882d",
   "metadata": {},
   "outputs": [],
   "source": [
    "import numpy as np"
   ]
  },
  {
   "cell_type": "code",
   "execution_count": 107,
   "id": "52fdf49f-d7f6-45e2-9b03-27c81dbacc92",
   "metadata": {},
   "outputs": [
    {
     "data": {
      "text/plain": [
       "array([20, 21, 22, 23, 24, 25, 26, 27, 28, 29])"
      ]
     },
     "execution_count": 107,
     "metadata": {},
     "output_type": "execute_result"
    }
   ],
   "source": [
    "a = np.arange(20,30)\n",
    "a"
   ]
  },
  {
   "cell_type": "code",
   "execution_count": 108,
   "id": "8ac201f2-7e44-4208-853b-72369d773abd",
   "metadata": {},
   "outputs": [
    {
     "data": {
      "text/plain": [
       "array([20, 21, 22])"
      ]
     },
     "execution_count": 108,
     "metadata": {},
     "output_type": "execute_result"
    }
   ],
   "source": [
    "a[0:3]"
   ]
  },
  {
   "cell_type": "code",
   "execution_count": 109,
   "id": "5e7bbd7b-d0ff-431b-bd31-fd1709cd177d",
   "metadata": {},
   "outputs": [
    {
     "data": {
      "text/plain": [
       "array([23, 24, 25, 26, 27, 28, 29])"
      ]
     },
     "execution_count": 109,
     "metadata": {},
     "output_type": "execute_result"
    }
   ],
   "source": [
    "a[3:]"
   ]
  },
  {
   "cell_type": "code",
   "execution_count": 110,
   "id": "66fdc476-5e8d-40ec-8351-02952d333eda",
   "metadata": {},
   "outputs": [
    {
     "data": {
      "text/plain": [
       "array([20, 21, 22])"
      ]
     },
     "execution_count": 110,
     "metadata": {},
     "output_type": "execute_result"
    }
   ],
   "source": [
    "a[:3]"
   ]
  },
  {
   "cell_type": "code",
   "execution_count": 111,
   "id": "c1aad325-f455-40fe-b624-31ce4f59945a",
   "metadata": {},
   "outputs": [
    {
     "data": {
      "text/plain": [
       "array([21, 23, 25, 27, 29])"
      ]
     },
     "execution_count": 111,
     "metadata": {},
     "output_type": "execute_result"
    }
   ],
   "source": [
    "a[1::2]  # start stop step şeklinde çalışıyor."
   ]
  },
  {
   "cell_type": "code",
   "execution_count": 114,
   "id": "05dcc069-a4bb-4261-9db5-e3c66b416a03",
   "metadata": {},
   "outputs": [
    {
     "data": {
      "text/plain": [
       "array([[1, 2, 3],\n",
       "       [4, 5, 6],\n",
       "       [7, 8, 9]])"
      ]
     },
     "execution_count": 114,
     "metadata": {},
     "output_type": "execute_result"
    }
   ],
   "source": [
    "a2 = np.arange(1,10).reshape(3,3)\n",
    "a2\n",
    "\n",
    "#  for i in r(3)\n",
    "#     for j in c(3)"
   ]
  },
  {
   "cell_type": "code",
   "execution_count": 122,
   "id": "bbbc2574-f27f-4d66-a14b-4f1cca0dda4d",
   "metadata": {},
   "outputs": [
    {
     "data": {
      "text/plain": [
       "array([[2],\n",
       "       [5],\n",
       "       [8]])"
      ]
     },
     "execution_count": 122,
     "metadata": {},
     "output_type": "execute_result"
    }
   ],
   "source": [
    "a2[:,1:2]"
   ]
  },
  {
   "cell_type": "code",
   "execution_count": 123,
   "id": "e28afefc-9372-45c3-a3ce-85d3108d67c2",
   "metadata": {},
   "outputs": [
    {
     "data": {
      "text/plain": [
       "array([2, 5, 8])"
      ]
     },
     "execution_count": 123,
     "metadata": {},
     "output_type": "execute_result"
    }
   ],
   "source": [
    "a2[:,1:2].reshape(3,)"
   ]
  },
  {
   "cell_type": "code",
   "execution_count": 124,
   "id": "8a0951ea-297f-4094-af28-9ba6610ee11a",
   "metadata": {},
   "outputs": [
    {
     "data": {
      "text/plain": [
       "array([0, 1, 2, 3, 4, 5, 6, 7, 8, 9])"
      ]
     },
     "execution_count": 124,
     "metadata": {},
     "output_type": "execute_result"
    }
   ],
   "source": [
    "a =np.arange(0,10)\n",
    "a[::]"
   ]
  },
  {
   "cell_type": "code",
   "execution_count": 127,
   "id": "2a649556-f6cc-44e0-ad4e-9f6a96411b83",
   "metadata": {},
   "outputs": [
    {
     "data": {
      "text/plain": [
       "array([[0, 1, 2, 3, 4],\n",
       "       [5, 6, 7, 8, 9]])"
      ]
     },
     "execution_count": 127,
     "metadata": {},
     "output_type": "execute_result"
    }
   ],
   "source": [
    "b = np.arange(0,10).reshape(2,5)\n",
    "b[:,:]"
   ]
  },
  {
   "cell_type": "code",
   "execution_count": 128,
   "id": "cd34dbfc-21b1-4471-8ecf-ff3210f7eb55",
   "metadata": {},
   "outputs": [
    {
     "data": {
      "text/plain": [
       "array([6, 7, 8])"
      ]
     },
     "execution_count": 128,
     "metadata": {},
     "output_type": "execute_result"
    }
   ],
   "source": [
    "b[1][1:4]"
   ]
  },
  {
   "cell_type": "code",
   "execution_count": 133,
   "id": "df3576e6-41be-4dc3-ade3-179b0f2ec26f",
   "metadata": {},
   "outputs": [
    {
     "data": {
      "text/plain": [
       "array([[17, 18],\n",
       "       [22, 23],\n",
       "       [27, 28]])"
      ]
     },
     "execution_count": 133,
     "metadata": {},
     "output_type": "execute_result"
    }
   ],
   "source": [
    "a2 = np.arange(10,30).reshape(4,5)\n",
    "a2[1:,2:4]"
   ]
  },
  {
   "cell_type": "code",
   "execution_count": 134,
   "id": "5ddfe3de-baad-4cec-82e1-b0bba5d6a402",
   "metadata": {},
   "outputs": [
    {
     "data": {
      "text/plain": [
       "array([[25, 26, 27, 28, 29]])"
      ]
     },
     "execution_count": 134,
     "metadata": {},
     "output_type": "execute_result"
    }
   ],
   "source": [
    "a2[1:][2:4]"
   ]
  },
  {
   "cell_type": "markdown",
   "id": "a5a344c7-21c6-4b82-b353-b9a04e7be676",
   "metadata": {},
   "source": [
    "# Numpy Operations"
   ]
  },
  {
   "cell_type": "code",
   "execution_count": 136,
   "id": "3a8d4143-a323-464a-a60a-d475b9569c25",
   "metadata": {},
   "outputs": [
    {
     "data": {
      "text/plain": [
       "array([10, 20, 30, 40])"
      ]
     },
     "execution_count": 136,
     "metadata": {},
     "output_type": "execute_result"
    }
   ],
   "source": [
    "a = np.arange(10,50,10)\n",
    "a"
   ]
  },
  {
   "cell_type": "code",
   "execution_count": 138,
   "id": "d19297e0-2e98-41f8-8238-953a8b547700",
   "metadata": {},
   "outputs": [
    {
     "data": {
      "text/plain": [
       "array([5, 5, 5, 5])"
      ]
     },
     "execution_count": 138,
     "metadata": {},
     "output_type": "execute_result"
    }
   ],
   "source": [
    "b = np.array([5,5,5,5])\n",
    "b"
   ]
  },
  {
   "cell_type": "code",
   "execution_count": 139,
   "id": "16036e5e-1b51-48d7-b619-346626b993d7",
   "metadata": {},
   "outputs": [
    {
     "data": {
      "text/plain": [
       "array([15, 25, 35, 45])"
      ]
     },
     "execution_count": 139,
     "metadata": {},
     "output_type": "execute_result"
    }
   ],
   "source": [
    "np.add(a,b)"
   ]
  },
  {
   "cell_type": "code",
   "execution_count": 140,
   "id": "ee8827cf-ea24-499f-a8c9-78a6602e842e",
   "metadata": {},
   "outputs": [
    {
     "data": {
      "text/plain": [
       "array([ 5, 15, 25, 35])"
      ]
     },
     "execution_count": 140,
     "metadata": {},
     "output_type": "execute_result"
    }
   ],
   "source": [
    "np.subtract(a,b)"
   ]
  },
  {
   "cell_type": "code",
   "execution_count": 141,
   "id": "ad7da2aa-2b7f-4b11-8289-ddd297dd3a9b",
   "metadata": {},
   "outputs": [
    {
     "data": {
      "text/plain": [
       "array([ 50, 100, 150, 200])"
      ]
     },
     "execution_count": 141,
     "metadata": {},
     "output_type": "execute_result"
    }
   ],
   "source": [
    "np.multiply(a,b)"
   ]
  },
  {
   "cell_type": "code",
   "execution_count": 142,
   "id": "4781dc67-53d5-47c2-a894-6390ab37c48c",
   "metadata": {},
   "outputs": [
    {
     "data": {
      "text/plain": [
       "array([2., 4., 6., 8.])"
      ]
     },
     "execution_count": 142,
     "metadata": {},
     "output_type": "execute_result"
    }
   ],
   "source": [
    "np.divide(a,b)"
   ]
  },
  {
   "cell_type": "code",
   "execution_count": 143,
   "id": "04136ffa-17b1-4df5-9da7-bab54750ddc2",
   "metadata": {},
   "outputs": [
    {
     "data": {
      "text/plain": [
       "array([3.16227766, 4.47213595, 5.47722558, 6.32455532])"
      ]
     },
     "execution_count": 143,
     "metadata": {},
     "output_type": "execute_result"
    }
   ],
   "source": [
    "np.sqrt(a)"
   ]
  },
  {
   "cell_type": "code",
   "execution_count": 145,
   "id": "7d0f924b-bc25-4256-9e14-a6efe155f7f0",
   "metadata": {},
   "outputs": [
    {
     "data": {
      "text/plain": [
       "array([   100000,   3200000,  24300000, 102400000], dtype=int32)"
      ]
     },
     "execution_count": 145,
     "metadata": {},
     "output_type": "execute_result"
    }
   ],
   "source": [
    "np.power(a,b)"
   ]
  },
  {
   "cell_type": "code",
   "execution_count": 146,
   "id": "905a75a5-5f41-439f-93eb-9ff6cf82299d",
   "metadata": {},
   "outputs": [
    {
     "data": {
      "text/plain": [
       "array([0, 0, 0, 0], dtype=int32)"
      ]
     },
     "execution_count": 146,
     "metadata": {},
     "output_type": "execute_result"
    }
   ],
   "source": [
    "np.mod(a,b)"
   ]
  },
  {
   "cell_type": "code",
   "execution_count": 147,
   "id": "6e1f4dca-4ceb-4397-b495-88aa455cb606",
   "metadata": {},
   "outputs": [
    {
     "data": {
      "text/plain": [
       "array([  2.71828183,  20.08553692, 148.4131591 ])"
      ]
     },
     "execution_count": 147,
     "metadata": {},
     "output_type": "execute_result"
    }
   ],
   "source": [
    "np.exp([1,3,5])"
   ]
  },
  {
   "cell_type": "markdown",
   "id": "072fccf6-3b02-4b4e-8848-4af8c3c244cb",
   "metadata": {},
   "source": [
    "# Fancy Indexing"
   ]
  },
  {
   "cell_type": "code",
   "execution_count": 148,
   "id": "cf19f53f-4f9f-4eee-a7cb-13b2c7d5f7db",
   "metadata": {},
   "outputs": [
    {
     "data": {
      "text/plain": [
       "array([91,  1, 97, 16, 38, 44, 85, 85, 58, 85])"
      ]
     },
     "execution_count": 148,
     "metadata": {},
     "output_type": "execute_result"
    }
   ],
   "source": [
    "fancy = np.random.randint(0,100,10)\n",
    "fancy"
   ]
  },
  {
   "cell_type": "code",
   "execution_count": 149,
   "id": "95f80c5e-039d-4e18-a90f-7c8854ae518a",
   "metadata": {},
   "outputs": [
    {
     "data": {
      "text/plain": [
       "array([16, 44,  1, 85])"
      ]
     },
     "execution_count": 149,
     "metadata": {},
     "output_type": "execute_result"
    }
   ],
   "source": [
    "fancy[[3,5,1,9]]  # bu indeksteki elemenları alıyoruz. array içine yeni bir liste koyarak bu liste içindeki sırayla arrayin elemanlarını çağırıyoruz."
   ]
  },
  {
   "cell_type": "code",
   "execution_count": 150,
   "id": "9d5a3504-cba8-432e-b181-342e38defdd9",
   "metadata": {},
   "outputs": [
    {
     "data": {
      "text/plain": [
       "array([-5,  1, 97, 16, 38, 44, 85, 85, 58, 85])"
      ]
     },
     "execution_count": 150,
     "metadata": {},
     "output_type": "execute_result"
    }
   ],
   "source": [
    "fancy[0] = -5\n",
    "fancy"
   ]
  },
  {
   "cell_type": "code",
   "execution_count": null,
   "id": "cb72b153-955d-4dd6-8c29-d206bfa9bed0",
   "metadata": {},
   "outputs": [],
   "source": [
    "f1 = fancy[[3,5,1,9]]   # burada fancy nin birbölümünü f1 atadık. Sonra bunun üzerinde değişiklik yaptık. Bu bütüne yansımadı.\n",
    "f1"
   ]
  },
  {
   "cell_type": "code",
   "execution_count": 152,
   "id": "e2ec8205-6b55-4f1d-bfea-7554124f7a71",
   "metadata": {},
   "outputs": [
    {
     "data": {
      "text/plain": [
       "array([-1, 44,  1, 85])"
      ]
     },
     "execution_count": 152,
     "metadata": {},
     "output_type": "execute_result"
    }
   ],
   "source": [
    "f1[0]=-1\n",
    "f1"
   ]
  },
  {
   "cell_type": "code",
   "execution_count": 153,
   "id": "64f9331b-380b-4e89-a74b-7d010a6962c3",
   "metadata": {},
   "outputs": [
    {
     "data": {
      "text/plain": [
       "array([-5,  1, 97, 16, 38, 44, 85, 85, 58, 85])"
      ]
     },
     "execution_count": 153,
     "metadata": {},
     "output_type": "execute_result"
    }
   ],
   "source": [
    "fancy"
   ]
  },
  {
   "cell_type": "code",
   "execution_count": 154,
   "id": "b87f7f4a-fd62-4c1d-bb74-788fa635c2a8",
   "metadata": {},
   "outputs": [
    {
     "data": {
      "text/plain": [
       "array([-5,  1, 97, 16, 38, 44, 85, 85, 58, 85])"
      ]
     },
     "execution_count": 154,
     "metadata": {},
     "output_type": "execute_result"
    }
   ],
   "source": [
    "fancy2 = fancy    \n",
    "fancy2\n",
    "# burada fancy nin tamamını fancy2 atadık. Sonra bunun üzerinde değişiklik yaptık. Bu bütüne yansıdı."
   ]
  },
  {
   "cell_type": "code",
   "execution_count": 155,
   "id": "4c746095-1ce7-45fd-8e15-96fbc8271a3c",
   "metadata": {},
   "outputs": [
    {
     "data": {
      "text/plain": [
       "array([ -5, 111,  97,  16,  38,  44,  85,  85,  58,  85])"
      ]
     },
     "execution_count": 155,
     "metadata": {},
     "output_type": "execute_result"
    }
   ],
   "source": [
    "fancy2[1] = 111\n",
    "fancy2"
   ]
  },
  {
   "cell_type": "code",
   "execution_count": 156,
   "id": "69c9511e-665e-4b7a-8459-b31f569d02fa",
   "metadata": {},
   "outputs": [
    {
     "data": {
      "text/plain": [
       "array([ -5, 111,  97,  16,  38,  44,  85,  85,  58,  85])"
      ]
     },
     "execution_count": 156,
     "metadata": {},
     "output_type": "execute_result"
    }
   ],
   "source": [
    "fancy"
   ]
  },
  {
   "cell_type": "code",
   "execution_count": 157,
   "id": "8f1773ef-e4be-4d51-8e81-98093c3760c7",
   "metadata": {},
   "outputs": [
    {
     "data": {
      "text/plain": [
       "array([1111,  111,   97,   16,   38,   44,   85,   85,   58,   85])"
      ]
     },
     "execution_count": 157,
     "metadata": {},
     "output_type": "execute_result"
    }
   ],
   "source": [
    "fancy3 = fancy.copy()    # fancy yı fancy3 e kopyaladık ve sonra fancy3 ün elemanı üzerinde değişiklik yaptık.\n",
    "fancy3[0] = 1111   # Bu ilk ndarray \n",
    "fancy3"
   ]
  },
  {
   "cell_type": "code",
   "execution_count": 158,
   "id": "db886026-1242-4b3d-88d1-b658c65e4681",
   "metadata": {},
   "outputs": [
    {
     "data": {
      "text/plain": [
       "array([ -5, 111,  97,  16,  38,  44,  85,  85,  58,  85])"
      ]
     },
     "execution_count": 158,
     "metadata": {},
     "output_type": "execute_result"
    }
   ],
   "source": [
    "fancy   #ilk ndarray a baktığımızda bunda değişiklik olmadığını görüyoruz."
   ]
  },
  {
   "cell_type": "code",
   "execution_count": 160,
   "id": "8b9af3bb-f8be-4ed2-a532-740f35f8ea12",
   "metadata": {},
   "outputs": [
    {
     "data": {
      "text/plain": [
       "array([ -5, 111,  97, 100, 100, 100, 100,  85,  58,  85])"
      ]
     },
     "execution_count": 160,
     "metadata": {},
     "output_type": "execute_result"
    }
   ],
   "source": [
    "fancy[3:7]=100\n",
    "fancy"
   ]
  },
  {
   "cell_type": "code",
   "execution_count": 161,
   "id": "f954c805-6194-4059-9053-5c3c0d4a56be",
   "metadata": {},
   "outputs": [
    {
     "data": {
      "text/plain": [
       "array([[3.95, 3.98, 2.43],\n",
       "       [3.89, 3.84, 2.31],\n",
       "       [4.05, 4.07, 2.31],\n",
       "       [4.2 , 4.23, 2.63],\n",
       "       [4.34, 4.35, 2.75],\n",
       "       [3.94, 3.96, 2.48],\n",
       "       [3.95, 3.98, 2.47],\n",
       "       [4.07, 4.11, 2.53]])"
      ]
     },
     "execution_count": 161,
     "metadata": {},
     "output_type": "execute_result"
    }
   ],
   "source": [
    "x = xyz[0:8,0:3]  # arrayimizin bu kısmını alarak x değişkenine atadık.\n",
    "x"
   ]
  },
  {
   "cell_type": "code",
   "execution_count": 162,
   "id": "39ef9d20-1425-4d50-b13b-4b475bda3275",
   "metadata": {},
   "outputs": [
    {
     "data": {
      "text/plain": [
       "array([[4.07, 2.31],\n",
       "       [4.23, 2.63],\n",
       "       [4.35, 2.75],\n",
       "       [3.96, 2.48]])"
      ]
     },
     "execution_count": 162,
     "metadata": {},
     "output_type": "execute_result"
    }
   ],
   "source": [
    "x[2:6,1:3]"
   ]
  },
  {
   "cell_type": "code",
   "execution_count": 163,
   "id": "57913a27-3be7-4b64-b9e8-a4533cda5a20",
   "metadata": {},
   "outputs": [
    {
     "data": {
      "text/plain": [
       "array([[3.95, 3.98, 2.43],\n",
       "       [3.89, 3.84, 2.31],\n",
       "       [4.05, 0.  , 0.  ],\n",
       "       [4.2 , 0.  , 0.  ],\n",
       "       [4.34, 0.  , 0.  ],\n",
       "       [3.94, 0.  , 0.  ],\n",
       "       [3.95, 3.98, 2.47],\n",
       "       [4.07, 4.11, 2.53]])"
      ]
     },
     "execution_count": 163,
     "metadata": {},
     "output_type": "execute_result"
    }
   ],
   "source": [
    "x[2:6,1:3]=0       # x değişkenin bu aralığına 0 değer atıyoruz.\n",
    "x"
   ]
  },
  {
   "cell_type": "code",
   "execution_count": 164,
   "id": "902e29ea-7ab3-4f91-b7b5-88b7023dd552",
   "metadata": {},
   "outputs": [
    {
     "data": {
      "text/plain": [
       "array([[ 3.95,  3.98,  2.43],\n",
       "       [ 3.89,  3.84,  2.31],\n",
       "       [ 4.05, -1.  ,  5.  ],\n",
       "       [ 4.2 , -1.  ,  5.  ],\n",
       "       [ 4.34, -1.  ,  5.  ],\n",
       "       [ 3.94, -1.  ,  5.  ],\n",
       "       [ 3.95,  3.98,  2.47],\n",
       "       [ 4.07,  4.11,  2.53]])"
      ]
     },
     "execution_count": 164,
     "metadata": {},
     "output_type": "execute_result"
    }
   ],
   "source": [
    "x[2:6,1:3]=[-1,5]   # x değişkeninin satır ve sütun olarak bu aralıklarına satırlara -1, sütunlara 5 atıyoruz.\n",
    "x"
   ]
  },
  {
   "cell_type": "code",
   "execution_count": 165,
   "id": "66bf72af-acf8-4cae-8add-511bdd8e491c",
   "metadata": {},
   "outputs": [
    {
     "data": {
      "text/plain": [
       "array([3.95, 3.98, 2.43, 3.89, 3.84, 2.31, 4.05, 5.  , 4.2 , 5.  , 4.34,\n",
       "       5.  , 3.94, 5.  , 3.95, 3.98, 2.47, 4.07, 4.11, 2.53])"
      ]
     },
     "execution_count": 165,
     "metadata": {},
     "output_type": "execute_result"
    }
   ],
   "source": [
    "x[x>2]  # x in içinde elemanların 2 den büyük olanları getiriyor."
   ]
  },
  {
   "cell_type": "code",
   "execution_count": 166,
   "id": "dc37493a-7d8f-41b5-9c36-999b580a2347",
   "metadata": {},
   "outputs": [
    {
     "name": "stderr",
     "output_type": "stream",
     "text": [
      "<ipython-input-166-0b43c7e80401>:1: RuntimeWarning: invalid value encountered in sqrt\n",
      "  np.sqrt(x)\n"
     ]
    },
    {
     "data": {
      "text/plain": [
       "array([[1.98746069, 1.99499373, 1.55884573],\n",
       "       [1.97230829, 1.95959179, 1.51986842],\n",
       "       [2.01246118,        nan, 2.23606798],\n",
       "       [2.04939015,        nan, 2.23606798],\n",
       "       [2.08326667,        nan, 2.23606798],\n",
       "       [1.98494332,        nan, 2.23606798],\n",
       "       [1.98746069, 1.99499373, 1.57162336],\n",
       "       [2.0174241 , 2.02731349, 1.59059737]])"
      ]
     },
     "execution_count": 166,
     "metadata": {},
     "output_type": "execute_result"
    }
   ],
   "source": [
    "np.sqrt(x)   # - sayıların karekökleri olmadığı için bunlar için bu değeri atıyor."
   ]
  },
  {
   "cell_type": "code",
   "execution_count": 167,
   "id": "e9125f20-f648-464d-9ca3-76c95120f617",
   "metadata": {},
   "outputs": [
    {
     "name": "stderr",
     "output_type": "stream",
     "text": [
      "<ipython-input-167-d0af0c3b236e>:2: RuntimeWarning: invalid value encountered in sqrt\n",
      "  np.sqrt(x)\n"
     ]
    },
    {
     "data": {
      "text/plain": [
       "array([[1.98746069, 1.99499373, 1.55884573],\n",
       "       [1.97230829, 1.95959179, 1.51986842],\n",
       "       [2.01246118,        nan, 2.23606798],\n",
       "       [2.04939015,        nan, 2.23606798],\n",
       "       [2.08326667,        nan, 2.23606798],\n",
       "       [1.98494332,        nan, 2.23606798],\n",
       "       [1.98746069, 1.99499373, 1.57162336],\n",
       "       [2.0174241 , 2.02731349, 1.59059737]])"
      ]
     },
     "execution_count": 167,
     "metadata": {},
     "output_type": "execute_result"
    }
   ],
   "source": [
    "x = np.array(x,dtype=float)\n",
    "np.sqrt(x) "
   ]
  },
  {
   "cell_type": "code",
   "execution_count": 168,
   "id": "e433d69a-6347-41f3-be8b-5a483a8f4a65",
   "metadata": {},
   "outputs": [
    {
     "data": {
      "text/plain": [
       "array([[-0.72318812, -0.74357914,  0.65304075],\n",
       "       [-0.68047257, -0.64299874,  0.73900528],\n",
       "       [-0.78852525, -0.84147098, -0.95892427],\n",
       "       [-0.87157577, -0.84147098, -0.95892427],\n",
       "       [-0.93146079, -0.84147098, -0.95892427],\n",
       "       [-0.71624557, -0.84147098, -0.95892427],\n",
       "       [-0.72318812, -0.74357914,  0.62223356],\n",
       "       [-0.80066678, -0.82398434,  0.57417215]])"
      ]
     },
     "execution_count": 168,
     "metadata": {},
     "output_type": "execute_result"
    }
   ],
   "source": [
    "np.sin(x)"
   ]
  },
  {
   "cell_type": "code",
   "execution_count": 169,
   "id": "9bff8ae1-f2b0-4e17-85ea-04dfc9ede697",
   "metadata": {},
   "outputs": [
    {
     "data": {
      "text/plain": [
       "-0.0012073461168847356"
      ]
     },
     "execution_count": 169,
     "metadata": {},
     "output_type": "execute_result"
    }
   ],
   "source": [
    "np.sin(3.1428)"
   ]
  },
  {
   "cell_type": "code",
   "execution_count": 170,
   "id": "162995a7-71fb-492c-8beb-b7573cca6147",
   "metadata": {},
   "outputs": [
    {
     "data": {
      "text/plain": [
       "0.0"
      ]
     },
     "execution_count": 170,
     "metadata": {},
     "output_type": "execute_result"
    }
   ],
   "source": [
    "np.sin(0)"
   ]
  },
  {
   "cell_type": "code",
   "execution_count": 173,
   "id": "ba7ade96-d20d-44fb-b78c-93fef458b85c",
   "metadata": {},
   "outputs": [
    {
     "data": {
      "text/plain": [
       "1.0"
      ]
     },
     "execution_count": 173,
     "metadata": {},
     "output_type": "execute_result"
    }
   ],
   "source": [
    "np.sin(np.pi/2)"
   ]
  },
  {
   "cell_type": "code",
   "execution_count": 175,
   "id": "465122ac-b736-409d-bada-f7ee3548ca60",
   "metadata": {},
   "outputs": [
    {
     "data": {
      "text/plain": [
       "0.9969486348916096"
      ]
     },
     "execution_count": 175,
     "metadata": {},
     "output_type": "execute_result"
    }
   ],
   "source": [
    "np.log(2.71)"
   ]
  },
  {
   "cell_type": "code",
   "execution_count": 177,
   "id": "ee29466f-7e69-4902-9306-226dfa074485",
   "metadata": {},
   "outputs": [
    {
     "data": {
      "text/plain": [
       "1.0"
      ]
     },
     "execution_count": 177,
     "metadata": {},
     "output_type": "execute_result"
    }
   ],
   "source": [
    "np.log(np.exp(1))"
   ]
  },
  {
   "cell_type": "code",
   "execution_count": 178,
   "id": "ce380bd7-5c2c-4537-8dea-498f2c6682e0",
   "metadata": {},
   "outputs": [
    {
     "data": {
      "text/plain": [
       "<ufunc 'exp'>"
      ]
     },
     "execution_count": 178,
     "metadata": {},
     "output_type": "execute_result"
    }
   ],
   "source": [
    "np.exp"
   ]
  },
  {
   "cell_type": "code",
   "execution_count": 179,
   "id": "ddd38b89-862c-4bb7-904f-13a7a262be3d",
   "metadata": {},
   "outputs": [
    {
     "data": {
      "text/plain": [
       "-1.995200412208242"
      ]
     },
     "execution_count": 179,
     "metadata": {},
     "output_type": "execute_result"
    }
   ],
   "source": [
    "np.tan(90)"
   ]
  },
  {
   "cell_type": "code",
   "execution_count": 180,
   "id": "5329baba-a984-447c-a5ac-dafdff878265",
   "metadata": {},
   "outputs": [
    {
     "data": {
      "text/plain": [
       "array([0, 1, 2, 3, 4, 5, 6, 7, 8, 9])"
      ]
     },
     "execution_count": 180,
     "metadata": {},
     "output_type": "execute_result"
    }
   ],
   "source": [
    "a = np.arange(0,10)\n",
    "a"
   ]
  },
  {
   "cell_type": "code",
   "execution_count": 181,
   "id": "e8782978-29e5-43fa-9293-9a75221f70a6",
   "metadata": {},
   "outputs": [
    {
     "data": {
      "text/plain": [
       "array([0, 1, 2, 0, 1, 2, 0, 1, 2, 0], dtype=int32)"
      ]
     },
     "execution_count": 181,
     "metadata": {},
     "output_type": "execute_result"
    }
   ],
   "source": [
    "np.mod(a,3)   # modülüs işlemleri yaptık."
   ]
  },
  {
   "cell_type": "code",
   "execution_count": 183,
   "id": "f2ea0edf-01f3-452a-a66e-69c67bae5d2e",
   "metadata": {},
   "outputs": [
    {
     "data": {
      "text/plain": [
       "array([72, 70, 92, 82, 54, 58, 87, 74, 83, 75,  0,  4, 88, 83,  3, 80,  6,\n",
       "       99, 38, 61, 58, 99, 90, 94, 13, 70, 72, 46, 56, 89, 95, 98, 43, 43,\n",
       "       49, 40, 47, 16, 35, 47, 39, 38,  3, 98,  4, 45, 56, 63, 83, 86])"
      ]
     },
     "execution_count": 183,
     "metadata": {},
     "output_type": "execute_result"
    }
   ],
   "source": [
    "a2 = np.random.randint(0,100,50)\n",
    "a2"
   ]
  },
  {
   "cell_type": "code",
   "execution_count": 184,
   "id": "e6bfa23c-8d5e-44c9-a3b3-ec8abd0059bc",
   "metadata": {},
   "outputs": [
    {
     "data": {
      "text/plain": [
       "58.48"
      ]
     },
     "execution_count": 184,
     "metadata": {},
     "output_type": "execute_result"
    }
   ],
   "source": [
    "a2.mean()"
   ]
  },
  {
   "cell_type": "code",
   "execution_count": 185,
   "id": "1b767a1a-e413-43ad-b53b-5f9568f54361",
   "metadata": {},
   "outputs": [
    {
     "data": {
      "text/plain": [
       "29.644048306531957"
      ]
     },
     "execution_count": 185,
     "metadata": {},
     "output_type": "execute_result"
    }
   ],
   "source": [
    "a2.std()"
   ]
  },
  {
   "cell_type": "code",
   "execution_count": 186,
   "id": "8a15cff7-ce6d-4713-9405-5b8c8b2763b9",
   "metadata": {},
   "outputs": [
    {
     "data": {
      "text/plain": [
       "0"
      ]
     },
     "execution_count": 186,
     "metadata": {},
     "output_type": "execute_result"
    }
   ],
   "source": [
    "a2.min()"
   ]
  },
  {
   "cell_type": "code",
   "execution_count": 187,
   "id": "238a38ff-6b0e-40c0-a5b0-905b68f229bf",
   "metadata": {},
   "outputs": [
    {
     "data": {
      "text/plain": [
       "2924"
      ]
     },
     "execution_count": 187,
     "metadata": {},
     "output_type": "execute_result"
    }
   ],
   "source": [
    "a2.sum()"
   ]
  },
  {
   "cell_type": "code",
   "execution_count": 188,
   "id": "841f82e4-e960-4e61-bdf3-8d849dc58ca8",
   "metadata": {},
   "outputs": [
    {
     "data": {
      "text/plain": [
       "10"
      ]
     },
     "execution_count": 188,
     "metadata": {},
     "output_type": "execute_result"
    }
   ],
   "source": [
    "a2.argmin()"
   ]
  },
  {
   "cell_type": "code",
   "execution_count": 189,
   "id": "35e9df67-7406-441c-9612-82c9d837bd5e",
   "metadata": {},
   "outputs": [
    {
     "data": {
      "text/plain": [
       "99"
      ]
     },
     "execution_count": 189,
     "metadata": {},
     "output_type": "execute_result"
    }
   ],
   "source": [
    "a2.max()"
   ]
  },
  {
   "cell_type": "code",
   "execution_count": 190,
   "id": "b821c779-a5f7-450e-8ca8-697231f6d37c",
   "metadata": {},
   "outputs": [
    {
     "data": {
      "text/plain": [
       "17"
      ]
     },
     "execution_count": 190,
     "metadata": {},
     "output_type": "execute_result"
    }
   ],
   "source": [
    "a2.argmax()"
   ]
  },
  {
   "cell_type": "code",
   "execution_count": 191,
   "id": "44a05e48-73b1-4121-93be-d9efd8d79cb4",
   "metadata": {},
   "outputs": [
    {
     "data": {
      "text/plain": [
       "59.5"
      ]
     },
     "execution_count": 191,
     "metadata": {},
     "output_type": "execute_result"
    }
   ],
   "source": [
    "np.median(a2)  #median"
   ]
  },
  {
   "cell_type": "code",
   "execution_count": 192,
   "id": "c8554701-4beb-4127-a231-c3f68e8a7a43",
   "metadata": {},
   "outputs": [
    {
     "ename": "AttributeError",
     "evalue": "module 'numpy' has no attribute 'mode'",
     "output_type": "error",
     "traceback": [
      "\u001b[1;31m---------------------------------------------------------------------------\u001b[0m",
      "\u001b[1;31mAttributeError\u001b[0m                            Traceback (most recent call last)",
      "\u001b[1;32m<ipython-input-192-37fb14432cee>\u001b[0m in \u001b[0;36m<module>\u001b[1;34m\u001b[0m\n\u001b[1;32m----> 1\u001b[1;33m \u001b[0mnp\u001b[0m\u001b[1;33m.\u001b[0m\u001b[0mmode\u001b[0m\u001b[1;33m(\u001b[0m\u001b[1;33m)\u001b[0m\u001b[1;33m\u001b[0m\u001b[1;33m\u001b[0m\u001b[0m\n\u001b[0m",
      "\u001b[1;32m~\\anaconda3\\lib\\site-packages\\numpy\\__init__.py\u001b[0m in \u001b[0;36m__getattr__\u001b[1;34m(attr)\u001b[0m\n\u001b[0;32m    301\u001b[0m                 \u001b[1;32mreturn\u001b[0m \u001b[0mTester\u001b[0m\u001b[1;33m\u001b[0m\u001b[1;33m\u001b[0m\u001b[0m\n\u001b[0;32m    302\u001b[0m \u001b[1;33m\u001b[0m\u001b[0m\n\u001b[1;32m--> 303\u001b[1;33m             raise AttributeError(\"module {!r} has no attribute \"\n\u001b[0m\u001b[0;32m    304\u001b[0m                                  \"{!r}\".format(__name__, attr))\n\u001b[0;32m    305\u001b[0m \u001b[1;33m\u001b[0m\u001b[0m\n",
      "\u001b[1;31mAttributeError\u001b[0m: module 'numpy' has no attribute 'mode'"
     ]
    }
   ],
   "source": [
    "np.mode()   # NumPY da mode func bulunmamaktadır. SciPY içinde var. Buraya girip bakabiliriz."
   ]
  },
  {
   "cell_type": "code",
   "execution_count": null,
   "id": "c0edeaa5-975c-4aaf-89c1-e38106836e29",
   "metadata": {},
   "outputs": [],
   "source": []
  }
 ],
 "metadata": {
  "kernelspec": {
   "display_name": "Python 3",
   "language": "python",
   "name": "python3"
  },
  "language_info": {
   "codemirror_mode": {
    "name": "ipython",
    "version": 3
   },
   "file_extension": ".py",
   "mimetype": "text/x-python",
   "name": "python",
   "nbconvert_exporter": "python",
   "pygments_lexer": "ipython3",
   "version": "3.8.8"
  }
 },
 "nbformat": 4,
 "nbformat_minor": 5
}
