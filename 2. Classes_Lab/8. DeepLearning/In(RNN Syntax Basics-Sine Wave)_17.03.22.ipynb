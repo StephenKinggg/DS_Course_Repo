{
 "cells": [
  {
   "cell_type": "markdown",
   "metadata": {},
   "source": [
    "___\n",
    "\n",
    "<p style=\"text-align: center;\"><img src=\"https://docs.google.com/uc?id=1lY0Uj5R04yMY3-ZppPWxqCr5pvBLYPnV\" class=\"img-fluid\" alt=\"CLRSWY\"></p>\n",
    "\n",
    "___"
   ]
  },
  {
   "cell_type": "markdown",
   "metadata": {},
   "source": [
    "<h1 style=\"text-align: center;\">Deep Learning<br><br>Session - 9<br><br>RNN Syntax Basics<br><br>Sine Wave<br><h1>"
   ]
  },
  {
   "cell_type": "markdown",
   "metadata": {},
   "source": [
    "# RNN Syntax Basics"
   ]
  },
  {
   "cell_type": "code",
   "execution_count": 1,
   "metadata": {},
   "outputs": [],
   "source": [
    "import numpy as np\n",
    "import pandas as pd\n",
    "import matplotlib.pyplot as plt\n",
    "import seaborn as sns\n",
    "\n",
    "import warnings\n",
    "warnings.filterwarnings(\"ignore\")\n",
    "warnings.warn(\"this will not show\")\n",
    "\n",
    "plt.rcParams[\"figure.figsize\"] = (10,6)\n",
    "\n",
    "sns.set_style(\"whitegrid\")\n",
    "pd.set_option('display.float_format', lambda x: '%.3f' % x)\n",
    "\n",
    "# Set it None to display all rows in the dataframe\n",
    "# pd.set_option('display.max_rows', None)\n",
    "\n",
    "# Set it to None to display all columns in the dataframe\n",
    "pd.set_option('display.max_columns', None)"
   ]
  },
  {
   "cell_type": "markdown",
   "metadata": {},
   "source": [
    "## Creating Data"
   ]
  },
  {
   "cell_type": "code",
   "execution_count": 2,
   "metadata": {},
   "outputs": [],
   "source": [
    "x = np.linspace(0,50,501)\n",
    "y = np.sin(x)"
   ]
  },
  {
   "cell_type": "code",
   "execution_count": 3,
   "metadata": {
    "scrolled": true
   },
   "outputs": [
    {
     "data": {
      "text/plain": [
       "array([ 0. ,  0.1,  0.2,  0.3,  0.4,  0.5,  0.6,  0.7,  0.8,  0.9,  1. ,\n",
       "        1.1,  1.2,  1.3,  1.4,  1.5,  1.6,  1.7,  1.8,  1.9,  2. ,  2.1,\n",
       "        2.2,  2.3,  2.4,  2.5,  2.6,  2.7,  2.8,  2.9,  3. ,  3.1,  3.2,\n",
       "        3.3,  3.4,  3.5,  3.6,  3.7,  3.8,  3.9,  4. ,  4.1,  4.2,  4.3,\n",
       "        4.4,  4.5,  4.6,  4.7,  4.8,  4.9,  5. ,  5.1,  5.2,  5.3,  5.4,\n",
       "        5.5,  5.6,  5.7,  5.8,  5.9,  6. ,  6.1,  6.2,  6.3,  6.4,  6.5,\n",
       "        6.6,  6.7,  6.8,  6.9,  7. ,  7.1,  7.2,  7.3,  7.4,  7.5,  7.6,\n",
       "        7.7,  7.8,  7.9,  8. ,  8.1,  8.2,  8.3,  8.4,  8.5,  8.6,  8.7,\n",
       "        8.8,  8.9,  9. ,  9.1,  9.2,  9.3,  9.4,  9.5,  9.6,  9.7,  9.8,\n",
       "        9.9, 10. , 10.1, 10.2, 10.3, 10.4, 10.5, 10.6, 10.7, 10.8, 10.9,\n",
       "       11. , 11.1, 11.2, 11.3, 11.4, 11.5, 11.6, 11.7, 11.8, 11.9, 12. ,\n",
       "       12.1, 12.2, 12.3, 12.4, 12.5, 12.6, 12.7, 12.8, 12.9, 13. , 13.1,\n",
       "       13.2, 13.3, 13.4, 13.5, 13.6, 13.7, 13.8, 13.9, 14. , 14.1, 14.2,\n",
       "       14.3, 14.4, 14.5, 14.6, 14.7, 14.8, 14.9, 15. , 15.1, 15.2, 15.3,\n",
       "       15.4, 15.5, 15.6, 15.7, 15.8, 15.9, 16. , 16.1, 16.2, 16.3, 16.4,\n",
       "       16.5, 16.6, 16.7, 16.8, 16.9, 17. , 17.1, 17.2, 17.3, 17.4, 17.5,\n",
       "       17.6, 17.7, 17.8, 17.9, 18. , 18.1, 18.2, 18.3, 18.4, 18.5, 18.6,\n",
       "       18.7, 18.8, 18.9, 19. , 19.1, 19.2, 19.3, 19.4, 19.5, 19.6, 19.7,\n",
       "       19.8, 19.9, 20. , 20.1, 20.2, 20.3, 20.4, 20.5, 20.6, 20.7, 20.8,\n",
       "       20.9, 21. , 21.1, 21.2, 21.3, 21.4, 21.5, 21.6, 21.7, 21.8, 21.9,\n",
       "       22. , 22.1, 22.2, 22.3, 22.4, 22.5, 22.6, 22.7, 22.8, 22.9, 23. ,\n",
       "       23.1, 23.2, 23.3, 23.4, 23.5, 23.6, 23.7, 23.8, 23.9, 24. , 24.1,\n",
       "       24.2, 24.3, 24.4, 24.5, 24.6, 24.7, 24.8, 24.9, 25. , 25.1, 25.2,\n",
       "       25.3, 25.4, 25.5, 25.6, 25.7, 25.8, 25.9, 26. , 26.1, 26.2, 26.3,\n",
       "       26.4, 26.5, 26.6, 26.7, 26.8, 26.9, 27. , 27.1, 27.2, 27.3, 27.4,\n",
       "       27.5, 27.6, 27.7, 27.8, 27.9, 28. , 28.1, 28.2, 28.3, 28.4, 28.5,\n",
       "       28.6, 28.7, 28.8, 28.9, 29. , 29.1, 29.2, 29.3, 29.4, 29.5, 29.6,\n",
       "       29.7, 29.8, 29.9, 30. , 30.1, 30.2, 30.3, 30.4, 30.5, 30.6, 30.7,\n",
       "       30.8, 30.9, 31. , 31.1, 31.2, 31.3, 31.4, 31.5, 31.6, 31.7, 31.8,\n",
       "       31.9, 32. , 32.1, 32.2, 32.3, 32.4, 32.5, 32.6, 32.7, 32.8, 32.9,\n",
       "       33. , 33.1, 33.2, 33.3, 33.4, 33.5, 33.6, 33.7, 33.8, 33.9, 34. ,\n",
       "       34.1, 34.2, 34.3, 34.4, 34.5, 34.6, 34.7, 34.8, 34.9, 35. , 35.1,\n",
       "       35.2, 35.3, 35.4, 35.5, 35.6, 35.7, 35.8, 35.9, 36. , 36.1, 36.2,\n",
       "       36.3, 36.4, 36.5, 36.6, 36.7, 36.8, 36.9, 37. , 37.1, 37.2, 37.3,\n",
       "       37.4, 37.5, 37.6, 37.7, 37.8, 37.9, 38. , 38.1, 38.2, 38.3, 38.4,\n",
       "       38.5, 38.6, 38.7, 38.8, 38.9, 39. , 39.1, 39.2, 39.3, 39.4, 39.5,\n",
       "       39.6, 39.7, 39.8, 39.9, 40. , 40.1, 40.2, 40.3, 40.4, 40.5, 40.6,\n",
       "       40.7, 40.8, 40.9, 41. , 41.1, 41.2, 41.3, 41.4, 41.5, 41.6, 41.7,\n",
       "       41.8, 41.9, 42. , 42.1, 42.2, 42.3, 42.4, 42.5, 42.6, 42.7, 42.8,\n",
       "       42.9, 43. , 43.1, 43.2, 43.3, 43.4, 43.5, 43.6, 43.7, 43.8, 43.9,\n",
       "       44. , 44.1, 44.2, 44.3, 44.4, 44.5, 44.6, 44.7, 44.8, 44.9, 45. ,\n",
       "       45.1, 45.2, 45.3, 45.4, 45.5, 45.6, 45.7, 45.8, 45.9, 46. , 46.1,\n",
       "       46.2, 46.3, 46.4, 46.5, 46.6, 46.7, 46.8, 46.9, 47. , 47.1, 47.2,\n",
       "       47.3, 47.4, 47.5, 47.6, 47.7, 47.8, 47.9, 48. , 48.1, 48.2, 48.3,\n",
       "       48.4, 48.5, 48.6, 48.7, 48.8, 48.9, 49. , 49.1, 49.2, 49.3, 49.4,\n",
       "       49.5, 49.6, 49.7, 49.8, 49.9, 50. ])"
      ]
     },
     "execution_count": 3,
     "metadata": {},
     "output_type": "execute_result"
    }
   ],
   "source": [
    "x"
   ]
  },
  {
   "cell_type": "code",
   "execution_count": 4,
   "metadata": {
    "scrolled": true,
    "tags": []
   },
   "outputs": [
    {
     "data": {
      "text/plain": [
       "array([ 0.00000000e+00,  9.98334166e-02,  1.98669331e-01,  2.95520207e-01,\n",
       "        3.89418342e-01,  4.79425539e-01,  5.64642473e-01,  6.44217687e-01,\n",
       "        7.17356091e-01,  7.83326910e-01,  8.41470985e-01,  8.91207360e-01,\n",
       "        9.32039086e-01,  9.63558185e-01,  9.85449730e-01,  9.97494987e-01,\n",
       "        9.99573603e-01,  9.91664810e-01,  9.73847631e-01,  9.46300088e-01,\n",
       "        9.09297427e-01,  8.63209367e-01,  8.08496404e-01,  7.45705212e-01,\n",
       "        6.75463181e-01,  5.98472144e-01,  5.15501372e-01,  4.27379880e-01,\n",
       "        3.34988150e-01,  2.39249329e-01,  1.41120008e-01,  4.15806624e-02,\n",
       "       -5.83741434e-02, -1.57745694e-01, -2.55541102e-01, -3.50783228e-01,\n",
       "       -4.42520443e-01, -5.29836141e-01, -6.11857891e-01, -6.87766159e-01,\n",
       "       -7.56802495e-01, -8.18277111e-01, -8.71575772e-01, -9.16165937e-01,\n",
       "       -9.51602074e-01, -9.77530118e-01, -9.93691004e-01, -9.99923258e-01,\n",
       "       -9.96164609e-01, -9.82452613e-01, -9.58924275e-01, -9.25814682e-01,\n",
       "       -8.83454656e-01, -8.32267442e-01, -7.72764488e-01, -7.05540326e-01,\n",
       "       -6.31266638e-01, -5.50685543e-01, -4.64602179e-01, -3.73876665e-01,\n",
       "       -2.79415498e-01, -1.82162504e-01, -8.30894028e-02,  1.68139005e-02,\n",
       "        1.16549205e-01,  2.15119988e-01,  3.11541364e-01,  4.04849921e-01,\n",
       "        4.94113351e-01,  5.78439764e-01,  6.56986599e-01,  7.28969040e-01,\n",
       "        7.93667864e-01,  8.50436621e-01,  8.98708096e-01,  9.37999977e-01,\n",
       "        9.67919672e-01,  9.88168234e-01,  9.98543345e-01,  9.98941342e-01,\n",
       "        9.89358247e-01,  9.69889811e-01,  9.40730557e-01,  9.02171834e-01,\n",
       "        8.54598908e-01,  7.98487113e-01,  7.34397098e-01,  6.62969230e-01,\n",
       "        5.84917193e-01,  5.01020856e-01,  4.12118485e-01,  3.19098362e-01,\n",
       "        2.22889914e-01,  1.24454424e-01,  2.47754255e-02, -7.51511205e-02,\n",
       "       -1.74326781e-01, -2.71760626e-01, -3.66479129e-01, -4.57535894e-01,\n",
       "       -5.44021111e-01, -6.25070649e-01, -6.99874688e-01, -7.67685810e-01,\n",
       "       -8.27826469e-01, -8.79695760e-01, -9.22775422e-01, -9.56635016e-01,\n",
       "       -9.80936230e-01, -9.95436253e-01, -9.99990207e-01, -9.94552588e-01,\n",
       "       -9.79177729e-01, -9.54019250e-01, -9.19328526e-01, -8.75452175e-01,\n",
       "       -8.22828595e-01, -7.61983584e-01, -6.93525085e-01, -6.18137112e-01,\n",
       "       -5.36572918e-01, -4.49647465e-01, -3.58229282e-01, -2.63231791e-01,\n",
       "       -1.65604175e-01, -6.63218974e-02,  3.36230472e-02,  1.33232041e-01,\n",
       "        2.31509825e-01,  3.27474439e-01,  4.20167037e-01,  5.08661464e-01,\n",
       "        5.92073515e-01,  6.69569762e-01,  7.40375890e-01,  8.03784427e-01,\n",
       "        8.59161815e-01,  9.05954742e-01,  9.43695669e-01,  9.72007501e-01,\n",
       "        9.90607356e-01,  9.99309389e-01,  9.98026653e-01,  9.86771964e-01,\n",
       "        9.65657777e-01,  9.34895056e-01,  8.94791172e-01,  8.45746831e-01,\n",
       "        7.88252067e-01,  7.22881350e-01,  6.50287840e-01,  5.71196870e-01,\n",
       "        4.86398689e-01,  3.96740573e-01,  3.03118357e-01,  2.06467482e-01,\n",
       "        1.07753652e-01,  7.96318379e-03, -9.19068502e-02, -1.90858581e-01,\n",
       "       -2.87903317e-01, -3.82071417e-01, -4.72421986e-01, -5.58052271e-01,\n",
       "       -6.38106682e-01, -7.11785342e-01, -7.78352079e-01, -8.37141778e-01,\n",
       "       -8.87567034e-01, -9.29124013e-01, -9.61397492e-01, -9.84065005e-01,\n",
       "       -9.96900066e-01, -9.99774431e-01, -9.92659380e-01, -9.75626005e-01,\n",
       "       -9.48844498e-01, -9.12582450e-01, -8.67202179e-01, -8.13157112e-01,\n",
       "       -7.50987247e-01, -6.81313766e-01, -6.04832822e-01, -5.22308590e-01,\n",
       "       -4.34565622e-01, -3.42480618e-01, -2.46973662e-01, -1.48999026e-01,\n",
       "       -4.95356409e-02,  5.04226878e-02,  1.49877210e-01,  2.47834208e-01,\n",
       "        3.43314929e-01,  4.35365360e-01,  5.23065765e-01,  6.05539870e-01,\n",
       "        6.81963620e-01,  7.51573415e-01,  8.13673738e-01,  8.67644101e-01,\n",
       "        9.12945251e-01,  9.49124554e-01,  9.75820518e-01,  9.92766406e-01,\n",
       "        9.99792900e-01,  9.96829794e-01,  9.83906695e-01,  9.61152725e-01,\n",
       "        9.28795234e-01,  8.87157529e-01,  8.36655639e-01,  7.77794162e-01,\n",
       "        7.11161223e-01,  6.37422596e-01,  5.57315054e-01,  4.71639003e-01,\n",
       "        3.81250492e-01,  2.87052651e-01,  1.89986676e-01,  9.10224162e-02,\n",
       "       -8.85130929e-03, -1.08636595e-01, -2.07336421e-01, -3.03964609e-01,\n",
       "       -3.97555683e-01, -4.87174512e-01, -5.71925655e-01, -6.50962306e-01,\n",
       "       -7.23494756e-01, -7.88798286e-01, -8.46220404e-01, -8.95187368e-01,\n",
       "       -9.35209915e-01, -9.65888154e-01, -9.86915558e-01, -9.98082028e-01,\n",
       "       -9.99275992e-01, -9.90485521e-01, -9.71798446e-01, -9.43401482e-01,\n",
       "       -9.05578362e-01, -8.58707003e-01, -8.03255727e-01, -7.39778585e-01,\n",
       "       -6.68909820e-01, -5.91357530e-01, -5.07896590e-01, -4.19360916e-01,\n",
       "       -3.26635126e-01, -2.30645706e-01, -1.32351750e-01, -3.27353793e-02,\n",
       "        6.72080725e-02,  1.66480004e-01,  2.64088521e-01,  3.59058354e-01,\n",
       "        4.50440594e-01,  5.37322181e-01,  6.18835022e-01,  6.94164668e-01,\n",
       "        7.62558450e-01,  8.23333001e-01,  8.75881080e-01,  9.19677645e-01,\n",
       "        9.54285094e-01,  9.79357643e-01,  9.94644774e-01,  9.99993743e-01,\n",
       "        9.95351105e-01,  9.80763248e-01,  9.56375928e-01,  9.22432817e-01,\n",
       "        8.79273062e-01,  8.27327901e-01,  7.67116353e-01,  6.99240032e-01,\n",
       "        6.24377135e-01,  5.43275669e-01,  4.56745972e-01,  3.65652620e-01,\n",
       "        2.70905788e-01,  1.73452155e-01,  7.42654456e-02, -2.56632999e-02,\n",
       "       -1.25335626e-01, -2.23755640e-01, -3.19939962e-01, -4.12927549e-01,\n",
       "       -5.01789301e-01, -5.85637340e-01, -6.63633884e-01, -7.34999618e-01,\n",
       "       -7.99021479e-01, -8.55059781e-01, -9.02554608e-01, -9.41031408e-01,\n",
       "       -9.70105734e-01, -9.89487083e-01, -9.98981805e-01, -9.98495031e-01,\n",
       "       -9.88031624e-01, -9.67696132e-01, -9.37691740e-01, -8.98318243e-01,\n",
       "       -8.49969046e-01, -7.93127239e-01, -7.28360768e-01, -6.56316756e-01,\n",
       "       -5.77715044e-01, -4.93340995e-01, -4.04037645e-01, -3.10697285e-01,\n",
       "       -2.14252540e-01, -1.15667055e-01, -1.59258626e-02,  8.39744557e-02,\n",
       "        1.83035729e-01,  2.80268170e-01,  3.74700264e-01,  4.65388476e-01,\n",
       "        5.51426681e-01,  6.31955213e-01,  7.06169457e-01,  7.73327890e-01,\n",
       "        8.32759485e-01,  8.83870424e-01,  9.26150021e-01,  9.59175833e-01,\n",
       "        9.82617877e-01,  9.96241929e-01,  9.99911860e-01,  9.93591003e-01,\n",
       "        9.77342512e-01,  9.51328739e-01,  9.15809603e-01,  8.71140000e-01,\n",
       "        8.17766255e-01,  7.56221659e-01,  6.87121146e-01,  6.11155146e-01,\n",
       "        5.29082686e-01,  4.41723807e-01,  3.49951369e-01,  2.54682333e-01,\n",
       "        1.56868595e-01,  5.74874781e-02, -4.24680347e-02, -1.41999221e-01,\n",
       "       -2.40111598e-01, -3.35824859e-01, -4.28182669e-01, -5.16262220e-01,\n",
       "       -5.99183449e-01, -6.76117835e-01, -7.46296676e-01, -8.09018766e-01,\n",
       "       -8.63657409e-01, -9.09666672e-01, -9.46586846e-01, -9.74049038e-01,\n",
       "       -9.91778853e-01, -9.99599143e-01, -9.97431767e-01, -9.85298384e-01,\n",
       "       -9.63320224e-01, -9.31716888e-01, -8.90804144e-01, -8.40990780e-01,\n",
       "       -7.82774514e-01, -7.16737023e-01, -6.43538133e-01, -5.63909223e-01,\n",
       "       -4.78645919e-01, -3.88600142e-01, -2.94671602e-01, -1.97798800e-01,\n",
       "       -9.89496576e-02,  8.88156806e-04,  1.00717097e-01,  1.99539705e-01,\n",
       "        2.96368579e-01,  3.90236235e-01,  4.80204780e-01,  5.65375278e-01,\n",
       "        6.44896733e-01,  7.17974593e-01,  7.83878688e-01,  8.41950526e-01,\n",
       "        8.91609873e-01,  9.32360549e-01,  9.63795386e-01,  9.85600299e-01,\n",
       "        9.97557419e-01,  9.99547275e-01,  9.91549985e-01,  9.73645456e-01,\n",
       "        9.46012583e-01,  9.08927465e-01,  8.62760644e-01,  8.07973404e-01,\n",
       "        7.45113160e-01,  6.74807993e-01,  5.97760367e-01,  5.14740117e-01,\n",
       "        4.26576754e-01,  3.34151177e-01,  2.38386872e-01,  1.40240684e-01,\n",
       "        4.06932573e-02, -5.92607627e-02, -1.58622669e-01, -2.56399670e-01,\n",
       "       -3.51614810e-01, -4.43316731e-01, -5.30589178e-01, -6.12560153e-01,\n",
       "       -6.88410630e-01, -7.57382735e-01, -8.18787322e-01, -8.72010857e-01,\n",
       "       -9.16521548e-01, -9.51874658e-01, -9.77716952e-01, -9.93790221e-01,\n",
       "       -9.99933866e-01, -9.96086503e-01, -9.82286573e-01, -9.58671960e-01,\n",
       "       -9.25478614e-01, -8.83038191e-01, -8.31774743e-01, -7.72200476e-01,\n",
       "       -7.04910637e-01, -6.30577565e-01, -5.49943970e-01, -4.63815516e-01,\n",
       "       -3.73052771e-01, -2.78562606e-01, -1.81289136e-01, -8.22042844e-02,\n",
       "        1.77019251e-02,  1.17431263e-01,  2.15987266e-01,  3.12385196e-01,\n",
       "        4.05661877e-01,  4.94885318e-01,  5.79164028e-01,  6.57655923e-01,\n",
       "        7.29576737e-01,  7.94207862e-01,  8.50903525e-01,  8.99097240e-01,\n",
       "        9.38307473e-01,  9.68142448e-01,  9.88304064e-01,  9.98590872e-01,\n",
       "        9.98900091e-01,  9.89228630e-01,  9.69673123e-01,  9.40428963e-01,\n",
       "        9.01788348e-01,  8.54137361e-01,  7.97952117e-01,  7.33793998e-01,\n",
       "        6.62304053e-01,  5.84196584e-01,  5.00252017e-01,  4.11309096e-01,\n",
       "        3.18256511e-01,  2.22024012e-01,  1.23573123e-01,  2.38875315e-02,\n",
       "       -7.60367361e-02, -1.75201270e-01, -2.72615250e-01, -3.67305349e-01,\n",
       "       -4.58325454e-01, -5.44766123e-01, -6.25763669e-01, -7.00508791e-01,\n",
       "       -7.68254661e-01, -8.28324385e-01, -8.80117764e-01, -9.23117298e-01,\n",
       "       -9.56893350e-01, -9.81108439e-01, -9.95520616e-01, -9.99985881e-01,\n",
       "       -9.94459618e-01, -9.78997043e-01, -9.53752653e-01, -9.18978681e-01,\n",
       "       -8.75022579e-01, -8.22323540e-01, -7.61408116e-01, -6.92884954e-01,\n",
       "       -6.17438715e-01, -5.35823232e-01, -4.48853980e-01, -3.57399928e-01,\n",
       "       -2.62374854e-01])"
      ]
     },
     "execution_count": 4,
     "metadata": {},
     "output_type": "execute_result"
    }
   ],
   "source": [
    "y"
   ]
  },
  {
   "cell_type": "code",
   "execution_count": 5,
   "metadata": {},
   "outputs": [
    {
     "data": {
      "text/plain": [
       "[<matplotlib.lines.Line2D at 0x1e76dab55b0>]"
      ]
     },
     "execution_count": 5,
     "metadata": {},
     "output_type": "execute_result"
    },
    {
     "data": {
      "image/png": "[encoded data removed]",
      "text/plain": [
       "<Figure size 720x432 with 1 Axes>"
      ]
     },
     "metadata": {},
     "output_type": "display_data"
    }
   ],
   "source": [
    "plt.plot(x,y)"
   ]
  },
  {
   "cell_type": "markdown",
   "metadata": {},
   "source": [
    "Let's turn this into a DataFrame"
   ]
  },
  {
   "cell_type": "code",
   "execution_count": 6,
   "metadata": {},
   "outputs": [],
   "source": [
    "df = pd.DataFrame(data=y, index=x, columns=['Sine'])"
   ]
  },
  {
   "cell_type": "code",
   "execution_count": 7,
   "metadata": {},
   "outputs": [
    {
     "data": {
      "text/html": [
       "<div>\n",
       "<style scoped>\n",
       "    .dataframe tbody tr th:only-of-type {\n",
       "        vertical-align: middle;\n",
       "    }\n",
       "\n",
       "    .dataframe tbody tr th {\n",
       "        vertical-align: top;\n",
       "    }\n",
       "\n",
       "    .dataframe thead th {\n",
       "        text-align: right;\n",
       "    }\n",
       "</style>\n",
       "<table border=\"1\" class=\"dataframe\">\n",
       "  <thead>\n",
       "    <tr style=\"text-align: right;\">\n",
       "      <th></th>\n",
       "      <th>Sine</th>\n",
       "    </tr>\n",
       "  </thead>\n",
       "  <tbody>\n",
       "    <tr>\n",
       "      <th>0.000</th>\n",
       "      <td>0.000</td>\n",
       "    </tr>\n",
       "    <tr>\n",
       "      <th>0.100</th>\n",
       "      <td>0.100</td>\n",
       "    </tr>\n",
       "    <tr>\n",
       "      <th>0.200</th>\n",
       "      <td>0.199</td>\n",
       "    </tr>\n",
       "    <tr>\n",
       "      <th>0.300</th>\n",
       "      <td>0.296</td>\n",
       "    </tr>\n",
       "    <tr>\n",
       "      <th>0.400</th>\n",
       "      <td>0.389</td>\n",
       "    </tr>\n",
       "    <tr>\n",
       "      <th>...</th>\n",
       "      <td>...</td>\n",
       "    </tr>\n",
       "    <tr>\n",
       "      <th>49.600</th>\n",
       "      <td>-0.617</td>\n",
       "    </tr>\n",
       "    <tr>\n",
       "      <th>49.700</th>\n",
       "      <td>-0.536</td>\n",
       "    </tr>\n",
       "    <tr>\n",
       "      <th>49.800</th>\n",
       "      <td>-0.449</td>\n",
       "    </tr>\n",
       "    <tr>\n",
       "      <th>49.900</th>\n",
       "      <td>-0.357</td>\n",
       "    </tr>\n",
       "    <tr>\n",
       "      <th>50.000</th>\n",
       "      <td>-0.262</td>\n",
       "    </tr>\n",
       "  </tbody>\n",
       "</table>\n",
       "<p>501 rows × 1 columns</p>\n",
       "</div>"
      ],
      "text/plain": [
       "         Sine\n",
       "0.000   0.000\n",
       "0.100   0.100\n",
       "0.200   0.199\n",
       "0.300   0.296\n",
       "0.400   0.389\n",
       "...       ...\n",
       "49.600 -0.617\n",
       "49.700 -0.536\n",
       "49.800 -0.449\n",
       "49.900 -0.357\n",
       "50.000 -0.262\n",
       "\n",
       "[501 rows x 1 columns]"
      ]
     },
     "execution_count": 7,
     "metadata": {},
     "output_type": "execute_result"
    }
   ],
   "source": [
    "df"
   ]
  },
  {
   "cell_type": "markdown",
   "metadata": {},
   "source": [
    "## Preprocessing of Data"
   ]
  },
  {
   "cell_type": "markdown",
   "metadata": {},
   "source": [
    "### Train Test Split"
   ]
  },
  {
   "cell_type": "markdown",
   "metadata": {},
   "source": [
    "Burada datanın sırası içeriğinden daha önemli olduğundan dolayı datayı random olarak değil de sıralı olarak son kısmından belli bir miktarı alacağım."
   ]
  },
  {
   "cell_type": "code",
   "execution_count": 8,
   "metadata": {},
   "outputs": [
    {
     "data": {
      "text/plain": [
       "501"
      ]
     },
     "execution_count": 8,
     "metadata": {},
     "output_type": "execute_result"
    }
   ],
   "source": [
    "len(df)"
   ]
  },
  {
   "cell_type": "code",
   "execution_count": 9,
   "metadata": {},
   "outputs": [],
   "source": [
    "test_percent = 0.15"
   ]
  },
  {
   "cell_type": "code",
   "execution_count": 10,
   "metadata": {},
   "outputs": [
    {
     "data": {
      "text/plain": [
       "75.14999999999999"
      ]
     },
     "execution_count": 10,
     "metadata": {},
     "output_type": "execute_result"
    }
   ],
   "source": [
    "len(df)*test_percent"
   ]
  },
  {
   "cell_type": "code",
   "execution_count": 11,
   "metadata": {},
   "outputs": [
    {
     "data": {
      "text/plain": [
       "75.0"
      ]
     },
     "execution_count": 11,
     "metadata": {},
     "output_type": "execute_result"
    }
   ],
   "source": [
    "test_point = np.round(len(df)*test_percent)\n",
    "test_point"
   ]
  },
  {
   "cell_type": "code",
   "execution_count": 12,
   "metadata": {},
   "outputs": [
    {
     "data": {
      "text/plain": [
       "426"
      ]
     },
     "execution_count": 12,
     "metadata": {},
     "output_type": "execute_result"
    }
   ],
   "source": [
    "test_ind = int(len(df) - test_point)\n",
    "test_ind"
   ]
  },
  {
   "cell_type": "code",
   "execution_count": 13,
   "metadata": {},
   "outputs": [],
   "source": [
    "train = df.iloc[:test_ind]\n",
    "test = df.iloc[test_ind:]"
   ]
  },
  {
   "cell_type": "code",
   "execution_count": 14,
   "metadata": {
    "scrolled": true
   },
   "outputs": [
    {
     "data": {
      "text/html": [
       "<div>\n",
       "<style scoped>\n",
       "    .dataframe tbody tr th:only-of-type {\n",
       "        vertical-align: middle;\n",
       "    }\n",
       "\n",
       "    .dataframe tbody tr th {\n",
       "        vertical-align: top;\n",
       "    }\n",
       "\n",
       "    .dataframe thead th {\n",
       "        text-align: right;\n",
       "    }\n",
       "</style>\n",
       "<table border=\"1\" class=\"dataframe\">\n",
       "  <thead>\n",
       "    <tr style=\"text-align: right;\">\n",
       "      <th></th>\n",
       "      <th>Sine</th>\n",
       "    </tr>\n",
       "  </thead>\n",
       "  <tbody>\n",
       "    <tr>\n",
       "      <th>0.000</th>\n",
       "      <td>0.000</td>\n",
       "    </tr>\n",
       "    <tr>\n",
       "      <th>0.100</th>\n",
       "      <td>0.100</td>\n",
       "    </tr>\n",
       "    <tr>\n",
       "      <th>0.200</th>\n",
       "      <td>0.199</td>\n",
       "    </tr>\n",
       "    <tr>\n",
       "      <th>0.300</th>\n",
       "      <td>0.296</td>\n",
       "    </tr>\n",
       "    <tr>\n",
       "      <th>0.400</th>\n",
       "      <td>0.389</td>\n",
       "    </tr>\n",
       "    <tr>\n",
       "      <th>...</th>\n",
       "      <td>...</td>\n",
       "    </tr>\n",
       "    <tr>\n",
       "      <th>42.100</th>\n",
       "      <td>-0.952</td>\n",
       "    </tr>\n",
       "    <tr>\n",
       "      <th>42.200</th>\n",
       "      <td>-0.978</td>\n",
       "    </tr>\n",
       "    <tr>\n",
       "      <th>42.300</th>\n",
       "      <td>-0.994</td>\n",
       "    </tr>\n",
       "    <tr>\n",
       "      <th>42.400</th>\n",
       "      <td>-1.000</td>\n",
       "    </tr>\n",
       "    <tr>\n",
       "      <th>42.500</th>\n",
       "      <td>-0.996</td>\n",
       "    </tr>\n",
       "  </tbody>\n",
       "</table>\n",
       "<p>426 rows × 1 columns</p>\n",
       "</div>"
      ],
      "text/plain": [
       "         Sine\n",
       "0.000   0.000\n",
       "0.100   0.100\n",
       "0.200   0.199\n",
       "0.300   0.296\n",
       "0.400   0.389\n",
       "...       ...\n",
       "42.100 -0.952\n",
       "42.200 -0.978\n",
       "42.300 -0.994\n",
       "42.400 -1.000\n",
       "42.500 -0.996\n",
       "\n",
       "[426 rows x 1 columns]"
      ]
     },
     "execution_count": 14,
     "metadata": {},
     "output_type": "execute_result"
    }
   ],
   "source": [
    "train"
   ]
  },
  {
   "cell_type": "code",
   "execution_count": 15,
   "metadata": {
    "scrolled": true
   },
   "outputs": [
    {
     "data": {
      "text/html": [
       "<div>\n",
       "<style scoped>\n",
       "    .dataframe tbody tr th:only-of-type {\n",
       "        vertical-align: middle;\n",
       "    }\n",
       "\n",
       "    .dataframe tbody tr th {\n",
       "        vertical-align: top;\n",
       "    }\n",
       "\n",
       "    .dataframe thead th {\n",
       "        text-align: right;\n",
       "    }\n",
       "</style>\n",
       "<table border=\"1\" class=\"dataframe\">\n",
       "  <thead>\n",
       "    <tr style=\"text-align: right;\">\n",
       "      <th></th>\n",
       "      <th>Sine</th>\n",
       "    </tr>\n",
       "  </thead>\n",
       "  <tbody>\n",
       "    <tr>\n",
       "      <th>42.600</th>\n",
       "      <td>-0.982</td>\n",
       "    </tr>\n",
       "    <tr>\n",
       "      <th>42.700</th>\n",
       "      <td>-0.959</td>\n",
       "    </tr>\n",
       "    <tr>\n",
       "      <th>42.800</th>\n",
       "      <td>-0.925</td>\n",
       "    </tr>\n",
       "    <tr>\n",
       "      <th>42.900</th>\n",
       "      <td>-0.883</td>\n",
       "    </tr>\n",
       "    <tr>\n",
       "      <th>43.000</th>\n",
       "      <td>-0.832</td>\n",
       "    </tr>\n",
       "    <tr>\n",
       "      <th>...</th>\n",
       "      <td>...</td>\n",
       "    </tr>\n",
       "    <tr>\n",
       "      <th>49.600</th>\n",
       "      <td>-0.617</td>\n",
       "    </tr>\n",
       "    <tr>\n",
       "      <th>49.700</th>\n",
       "      <td>-0.536</td>\n",
       "    </tr>\n",
       "    <tr>\n",
       "      <th>49.800</th>\n",
       "      <td>-0.449</td>\n",
       "    </tr>\n",
       "    <tr>\n",
       "      <th>49.900</th>\n",
       "      <td>-0.357</td>\n",
       "    </tr>\n",
       "    <tr>\n",
       "      <th>50.000</th>\n",
       "      <td>-0.262</td>\n",
       "    </tr>\n",
       "  </tbody>\n",
       "</table>\n",
       "<p>75 rows × 1 columns</p>\n",
       "</div>"
      ],
      "text/plain": [
       "         Sine\n",
       "42.600 -0.982\n",
       "42.700 -0.959\n",
       "42.800 -0.925\n",
       "42.900 -0.883\n",
       "43.000 -0.832\n",
       "...       ...\n",
       "49.600 -0.617\n",
       "49.700 -0.536\n",
       "49.800 -0.449\n",
       "49.900 -0.357\n",
       "50.000 -0.262\n",
       "\n",
       "[75 rows x 1 columns]"
      ]
     },
     "execution_count": 15,
     "metadata": {},
     "output_type": "execute_result"
    }
   ],
   "source": [
    "test"
   ]
  },
  {
   "cell_type": "markdown",
   "metadata": {},
   "source": [
    "### Scaling"
   ]
  },
  {
   "cell_type": "code",
   "execution_count": 16,
   "metadata": {},
   "outputs": [],
   "source": [
    "from sklearn.preprocessing import MinMaxScaler"
   ]
  },
  {
   "cell_type": "code",
   "execution_count": 17,
   "metadata": {},
   "outputs": [],
   "source": [
    "scaler = MinMaxScaler()"
   ]
  },
  {
   "cell_type": "code",
   "execution_count": 18,
   "metadata": {},
   "outputs": [],
   "source": [
    "train_scaled = scaler.fit_transform(train)\n",
    "test_scaled = scaler.transform(test)"
   ]
  },
  {
   "cell_type": "markdown",
   "metadata": {},
   "source": [
    "## Time Series Generator"
   ]
  },
  {
   "cell_type": "code",
   "execution_count": 19,
   "metadata": {},
   "outputs": [],
   "source": [
    "from tensorflow.keras.preprocessing.sequence import TimeseriesGenerator"
   ]
  },
  {
   "cell_type": "code",
   "execution_count": 20,
   "metadata": {},
   "outputs": [],
   "source": [
    "#help(TimeseriesGenerator)"
   ]
  },
  {
   "cell_type": "markdown",
   "metadata": {},
   "source": [
    "önce \n",
    "length = 2\n",
    "batch_size = 1 \n",
    "stride = 1  aldık ve buna göre değerler aldık."
   ]
  },
  {
   "cell_type": "code",
   "execution_count": 21,
   "metadata": {},
   "outputs": [],
   "source": [
    "# define generator\n",
    "length = 3 # Length of the output sequences (in number of timesteps)\n",
    "batch_size = 2 # Number of timeseries samples in each batch\n",
    "stride = 2 # Period between successive output sequences\n",
    "generator = TimeseriesGenerator(data = train_scaled,\n",
    "                                targets = train_scaled,\n",
    "                                length = length,\n",
    "                                batch_size = batch_size,\n",
    "                                stride = stride)"
   ]
  },
  {
   "cell_type": "code",
   "execution_count": 22,
   "metadata": {},
   "outputs": [
    {
     "data": {
      "text/plain": [
       "426"
      ]
     },
     "execution_count": 22,
     "metadata": {},
     "output_type": "execute_result"
    }
   ],
   "source": [
    "len(train_scaled)"
   ]
  },
  {
   "cell_type": "code",
   "execution_count": 23,
   "metadata": {},
   "outputs": [
    {
     "data": {
      "text/plain": [
       "106"
      ]
     },
     "execution_count": 23,
     "metadata": {},
     "output_type": "execute_result"
    }
   ],
   "source": [
    "len(generator) # = (len(train)-lenght)/(batch_size*stride) \n",
    "\n",
    "# ilk değerlere göre stride 1, son 2 observation’i hesaba katmadığından dolayı 424 te kaldı.\n",
    "# ikinci değerlere göre ise 106 da kaldı."
   ]
  },
  {
   "cell_type": "code",
   "execution_count": 24,
   "metadata": {},
   "outputs": [
    {
     "data": {
      "text/plain": [
       "<keras.preprocessing.sequence.TimeseriesGenerator at 0x1e774e63340>"
      ]
     },
     "execution_count": 24,
     "metadata": {},
     "output_type": "execute_result"
    }
   ],
   "source": [
    "generator"
   ]
  },
  {
   "cell_type": "code",
   "execution_count": 25,
   "metadata": {},
   "outputs": [
    {
     "data": {
      "text/plain": [
       "(array([[[0.49999912],\n",
       "         [0.54991622],\n",
       "         [0.59933458]],\n",
       " \n",
       "        [[0.59933458],\n",
       "         [0.64776041],\n",
       "         [0.69470985]]]),\n",
       " array([[0.64776041],\n",
       "        [0.73971381]]))"
      ]
     },
     "execution_count": 25,
     "metadata": {},
     "output_type": "execute_result"
    }
   ],
   "source": [
    "generator[0]"
   ]
  },
  {
   "cell_type": "code",
   "execution_count": 26,
   "metadata": {},
   "outputs": [],
   "source": [
    "# What does the first batch look like?\n",
    "X, y = generator[0]"
   ]
  },
  {
   "cell_type": "code",
   "execution_count": 27,
   "metadata": {},
   "outputs": [
    {
     "name": "stdout",
     "output_type": "stream",
     "text": [
      "Given the Array: \n",
      "[[[0.49999912]\n",
      "  [0.54991622]\n",
      "  [0.59933458]]\n",
      "\n",
      " [[0.59933458]\n",
      "  [0.64776041]\n",
      "  [0.69470985]]]\n",
      "Predict this y: \n",
      "[[0.64776041]\n",
      " [0.73971381]]\n"
     ]
    }
   ],
   "source": [
    "print(f'Given the Array: \\n{X}')\n",
    "print(f'Predict this y: \\n{y}')"
   ]
  },
  {
   "cell_type": "code",
   "execution_count": 28,
   "metadata": {
    "scrolled": true
   },
   "outputs": [
    {
     "data": {
      "text/plain": [
       "array([[0.49999912],\n",
       "       [0.54991622],\n",
       "       [0.59933458],\n",
       "       [0.64776041],\n",
       "       [0.69470985],\n",
       "       [0.73971381],\n",
       "       [0.78232262],\n",
       "       [0.82211054],\n",
       "       [0.85868004],\n",
       "       [0.89166571]])"
      ]
     },
     "execution_count": 28,
     "metadata": {},
     "output_type": "execute_result"
    }
   ],
   "source": [
    "train_scaled[:10]"
   ]
  },
  {
   "cell_type": "code",
   "execution_count": 29,
   "metadata": {},
   "outputs": [
    {
     "data": {
      "text/plain": [
       "<AxesSubplot:>"
      ]
     },
     "execution_count": 29,
     "metadata": {},
     "output_type": "execute_result"
    },
    {
     "data": {
      "image/png": "[encoded data removed]",
      "text/plain": [
       "<Figure size 720x432 with 1 Axes>"
      ]
     },
     "metadata": {},
     "output_type": "display_data"
    }
   ],
   "source": [
    "df.plot()"
   ]
  },
  {
   "cell_type": "markdown",
   "metadata": {},
   "source": [
    "The more length the more training time"
   ]
  },
  {
   "cell_type": "markdown",
   "metadata": {},
   "source": [
    "tam bir periyot için 64 satır olması gerekiyor. yani bir cycle bu kadar satırda tamamlanıyor. buna göre length 64 olarak belirledik.\n",
    "\n",
    "en iyi sonuçları batch_size 1 iken alırız ancak data büyüdükçe bunu artırmak gerekir. burada data uygun olduğundan dolayı 1 aldık. yani her datada backpropagation yapacak."
   ]
  },
  {
   "cell_type": "code",
   "execution_count": 30,
   "metadata": {},
   "outputs": [],
   "source": [
    "length = 64 # Length of the output sequences (in number of timesteps)\n",
    "batch_size = 1 # Number of timeseries samples in each batch\n",
    "generator = TimeseriesGenerator(data = train_scaled, targets = train_scaled, length = length, batch_size = batch_size)"
   ]
  },
  {
   "cell_type": "code",
   "execution_count": 31,
   "metadata": {},
   "outputs": [],
   "source": [
    "# What does the first batch look like?\n",
    "X, y = generator[0]"
   ]
  },
  {
   "cell_type": "code",
   "execution_count": 32,
   "metadata": {},
   "outputs": [
    {
     "data": {
      "text/plain": [
       "362"
      ]
     },
     "execution_count": 32,
     "metadata": {},
     "output_type": "execute_result"
    }
   ],
   "source": [
    "len(generator)  # 426-64 yaptı."
   ]
  },
  {
   "cell_type": "code",
   "execution_count": 33,
   "metadata": {},
   "outputs": [
    {
     "name": "stdout",
     "output_type": "stream",
     "text": [
      "Given the Array: \n",
      "[4.99999116e-01 5.49916225e-01 5.99334579e-01 6.47760405e-01\n",
      " 6.94709850e-01 7.39713809e-01 7.82322618e-01 8.22110545e-01\n",
      " 8.58680040e-01 8.91665714e-01 9.20737985e-01 9.45606372e-01\n",
      " 9.66022399e-01 9.81782075e-01 9.92727935e-01 9.98750612e-01\n",
      " 9.99789928e-01 9.95835500e-01 9.86926839e-01 9.73152957e-01\n",
      " 9.54651478e-01 9.31607263e-01 9.04250562e-01 8.72854714e-01\n",
      " 8.37733417e-01 7.99237589e-01 7.57751870e-01 7.13690771e-01\n",
      " 6.67494535e-01 6.19624741e-01 5.70559686e-01 5.20789614e-01\n",
      " 4.70811810e-01 4.21125636e-01 3.72227539e-01 3.24606094e-01\n",
      " 2.78737119e-01 2.35078919e-01 1.94067715e-01 1.56113277e-01\n",
      " 1.21594831e-01 9.08572769e-02 6.42077324e-02 4.19124713e-02\n",
      " 2.41942605e-02 1.12301346e-02 3.14962674e-03 3.34747619e-05\n",
      " 1.91281421e-03 8.76886734e-03 2.05331307e-02 3.70880598e-02\n",
      " 5.82682430e-02 8.38620552e-02 1.13613771e-01 1.47226122e-01\n",
      " 1.84363264e-01 2.24654135e-01 2.67696162e-01 3.13059283e-01\n",
      " 3.60290246e-01 4.08917133e-01 4.58454081e-01 5.08406134e-01]\n",
      "Predict this y: \n",
      "[[0.55827419]]\n"
     ]
    }
   ],
   "source": [
    "print(f'Given the Array: \\n{X.flatten()}')\n",
    "print(f'Predict this y: \\n{y}')\n",
    "\n",
    "# yani buradaki 64 satır 1 tane tahmin yaptı. many to one diyebiliriz. "
   ]
  },
  {
   "cell_type": "markdown",
   "metadata": {},
   "source": [
    "## Modelling"
   ]
  },
  {
   "cell_type": "code",
   "execution_count": 34,
   "metadata": {},
   "outputs": [],
   "source": [
    "from tensorflow.keras.models import Sequential\n",
    "from tensorflow.keras.layers import Dense, SimpleRNN, LSTM"
   ]
  },
  {
   "cell_type": "code",
   "execution_count": 35,
   "metadata": {},
   "outputs": [],
   "source": [
    "# We're only using one feature in our time series\n",
    "n_features = 1"
   ]
  },
  {
   "cell_type": "code",
   "execution_count": 36,
   "metadata": {},
   "outputs": [],
   "source": [
    "seed = 42"
   ]
  },
  {
   "cell_type": "markdown",
   "metadata": {},
   "source": [
    "units 32 alınca model eğitim yapmadı. burada input shape önemli. 64*1 lik bir data geliyor bize. array olarak ince uzun bir data oluşturuyor. bir feature tahmin edeceğimden dolayı output bir olacak.\n",
    "\n",
    "mesela ANN olsaydı burada 200 parametre kullanmış olacaktım."
   ]
  },
  {
   "cell_type": "code",
   "execution_count": 37,
   "metadata": {},
   "outputs": [],
   "source": [
    "# define model\n",
    "model = Sequential()\n",
    "\n",
    "# Simple RNN layer\n",
    "model.add(SimpleRNN(units = 100, activation = \"tanh\", input_shape=(length, n_features)))\n",
    "\n",
    "# Final Prediction\n",
    "model.add(Dense(units = 1))\n",
    "\n",
    "model.compile(optimizer='adam', loss='mse')"
   ]
  },
  {
   "cell_type": "code",
   "execution_count": 38,
   "metadata": {
    "scrolled": true
   },
   "outputs": [
    {
     "name": "stdout",
     "output_type": "stream",
     "text": [
      "Model: \"sequential\"\n",
      "_________________________________________________________________\n",
      " Layer (type)                Output Shape              Param #   \n",
      "=================================================================\n",
      " simple_rnn (SimpleRNN)      (None, 100)               10200     \n",
      "                                                                 \n",
      " dense (Dense)               (None, 1)                 101       \n",
      "                                                                 \n",
      "=================================================================\n",
      "Total params: 10,301\n",
      "Trainable params: 10,301\n",
      "Non-trainable params: 0\n",
      "_________________________________________________________________\n"
     ]
    }
   ],
   "source": [
    "model.summary()"
   ]
  },
  {
   "cell_type": "code",
   "execution_count": 39,
   "metadata": {},
   "outputs": [
    {
     "data": {
      "text/plain": [
       "10200"
      ]
     },
     "execution_count": 39,
     "metadata": {},
     "output_type": "execute_result"
    }
   ],
   "source": [
    "# params = 1 * ((size_of_input + 1) * size_of_output + size_of_output^2)\n",
    "1 * ((1+1)*100+(100**2))\n",
    "\n",
    "# lstm için 1 yerine 4, GRU için 3 olacak."
   ]
  },
  {
   "cell_type": "code",
   "execution_count": 40,
   "metadata": {
    "scrolled": true
   },
   "outputs": [
    {
     "name": "stdout",
     "output_type": "stream",
     "text": [
      "Epoch 1/5\n",
      "362/362 [==============================] - 3s 7ms/step - loss: 0.0069\n",
      "Epoch 2/5\n",
      "362/362 [==============================] - 3s 7ms/step - loss: 3.3760e-04\n",
      "Epoch 3/5\n",
      "362/362 [==============================] - 2s 6ms/step - loss: 3.6712e-04\n",
      "Epoch 4/5\n",
      "362/362 [==============================] - 3s 7ms/step - loss: 9.2571e-05A: 0s\n",
      "Epoch 5/5\n",
      "362/362 [==============================] - 3s 7ms/step - loss: 2.8524e-05\n"
     ]
    },
    {
     "data": {
      "text/plain": [
       "<keras.callbacks.History at 0x1e7760a16d0>"
      ]
     },
     "execution_count": 40,
     "metadata": {},
     "output_type": "execute_result"
    }
   ],
   "source": [
    "model.fit_generator(generator = generator, epochs = 5)"
   ]
  },
  {
   "cell_type": "code",
   "execution_count": 41,
   "metadata": {},
   "outputs": [
    {
     "data": {
      "text/plain": [
       "<AxesSubplot:>"
      ]
     },
     "execution_count": 41,
     "metadata": {},
     "output_type": "execute_result"
    },
    {
     "data": {
      "image/png": "[encoded data removed]",
      "text/plain": [
       "<Figure size 720x432 with 1 Axes>"
      ]
     },
     "metadata": {},
     "output_type": "display_data"
    }
   ],
   "source": [
    "loss_df = pd.DataFrame(model.history.history)\n",
    "loss_df.plot()"
   ]
  },
  {
   "cell_type": "markdown",
   "metadata": {},
   "source": [
    "## Evaluate on Test Data"
   ]
  },
  {
   "cell_type": "markdown",
   "metadata": {},
   "source": [
    "scale edilmiş train datamın son kısmından alıyorum. prediction yapabilmek için eval_batch shape 1 artırmamız gerekir. burada sequence ayarlıyorum. bunu iki method ile yapabiliriz aşağıdaki gibi."
   ]
  },
  {
   "cell_type": "code",
   "execution_count": 42,
   "metadata": {},
   "outputs": [],
   "source": [
    "first_eval_batch = train_scaled[-length:]"
   ]
  },
  {
   "cell_type": "code",
   "execution_count": 43,
   "metadata": {
    "scrolled": true
   },
   "outputs": [
    {
     "data": {
      "text/plain": [
       "(64, 1)"
      ]
     },
     "execution_count": 43,
     "metadata": {},
     "output_type": "execute_result"
    }
   ],
   "source": [
    "first_eval_batch.shape"
   ]
  },
  {
   "cell_type": "code",
   "execution_count": 44,
   "metadata": {},
   "outputs": [
    {
     "data": {
      "text/plain": [
       "(1, 64, 1)"
      ]
     },
     "execution_count": 44,
     "metadata": {},
     "output_type": "execute_result"
    }
   ],
   "source": [
    "generator[0][0].shape"
   ]
  },
  {
   "cell_type": "code",
   "execution_count": 45,
   "metadata": {},
   "outputs": [],
   "source": [
    "first_eval_batch = first_eval_batch.reshape((1, length, n_features))\n",
    "# first_eval_batch = np.expand_dims(first_eval_batch, axis=0)"
   ]
  },
  {
   "cell_type": "code",
   "execution_count": 46,
   "metadata": {
    "scrolled": true
   },
   "outputs": [
    {
     "data": {
      "text/plain": [
       "(1, 64, 1)"
      ]
     },
     "execution_count": 46,
     "metadata": {},
     "output_type": "execute_result"
    }
   ],
   "source": [
    "first_eval_batch.shape"
   ]
  },
  {
   "cell_type": "code",
   "execution_count": 47,
   "metadata": {},
   "outputs": [
    {
     "data": {
      "text/plain": [
       "array([[0.00846368]], dtype=float32)"
      ]
     },
     "execution_count": 47,
     "metadata": {},
     "output_type": "execute_result"
    }
   ],
   "source": [
    "model.predict(first_eval_batch)  "
   ]
  },
  {
   "cell_type": "markdown",
   "metadata": {},
   "source": [
    "64 data verdik ve bize 65. datayı tahmin etti. train datamın bittiği yerde test datası başlıyor ve bunu bu test datasının ilk değeri ile karşılaştırıyorum."
   ]
  },
  {
   "cell_type": "code",
   "execution_count": 48,
   "metadata": {},
   "outputs": [
    {
     "data": {
      "text/plain": [
       "array([0.00885189])"
      ]
     },
     "execution_count": 48,
     "metadata": {},
     "output_type": "execute_result"
    }
   ],
   "source": [
    "test_scaled[0]"
   ]
  },
  {
   "cell_type": "code",
   "execution_count": 49,
   "metadata": {},
   "outputs": [],
   "source": [
    "test_predictions = []\n",
    "\n",
    "first_eval_batch = train_scaled[-length:]  # başlangıç batch\n",
    "current_batch = first_eval_batch.reshape((1, length, n_features))  # halihazırdaki batch"
   ]
  },
  {
   "cell_type": "code",
   "execution_count": 50,
   "metadata": {},
   "outputs": [
    {
     "data": {
      "text/plain": [
       "(1, 64, 1)"
      ]
     },
     "execution_count": 50,
     "metadata": {},
     "output_type": "execute_result"
    }
   ],
   "source": [
    "current_batch.shape"
   ]
  },
  {
   "cell_type": "code",
   "execution_count": 51,
   "metadata": {
    "scrolled": true,
    "tags": []
   },
   "outputs": [
    {
     "data": {
      "text/plain": [
       "array([[[1.27922981e-03],\n",
       "        [7.34597031e-03],\n",
       "        [1.83351382e-02],\n",
       "        [3.41369333e-02],\n",
       "        [5.45934694e-02],\n",
       "        [7.95003514e-02],\n",
       "        [1.08608718e-01],\n",
       "        [1.41627728e-01],\n",
       "        [1.78227467e-01],\n",
       "        [2.18042242e-01],\n",
       "        [2.60674236e-01],\n",
       "        [3.05697486e-01],\n",
       "        [3.52662133e-01],\n",
       "        [4.01098922e-01],\n",
       "        [4.50523890e-01],\n",
       "        [5.00443198e-01],\n",
       "        [5.50358069e-01],\n",
       "        [5.99769769e-01],\n",
       "        [6.48184595e-01],\n",
       "        [6.95118799e-01],\n",
       "        [7.40103433e-01],\n",
       "        [7.82689024e-01],\n",
       "        [8.22450070e-01],\n",
       "        [8.58989293e-01],\n",
       "        [8.91941605e-01],\n",
       "        [9.20977757e-01],\n",
       "        [9.45807630e-01],\n",
       "        [9.66183132e-01],\n",
       "        [9.81900676e-01],\n",
       "        [9.92803220e-01],\n",
       "        [9.98781828e-01],\n",
       "        [9.99776764e-01],\n",
       "        [9.95778087e-01],\n",
       "        [9.86825751e-01],\n",
       "        [9.73009203e-01],\n",
       "        [9.54466495e-01],\n",
       "        [9.31382900e-01],\n",
       "        [9.03989060e-01],\n",
       "        [8.72558686e-01],\n",
       "        [8.37405820e-01],\n",
       "        [7.98881698e-01],\n",
       "        [7.57371240e-01],\n",
       "        [7.13289205e-01],\n",
       "        [6.67076045e-01],\n",
       "        [6.19193508e-01],\n",
       "        [5.70120021e-01],\n",
       "        [5.20345908e-01],\n",
       "        [4.70368497e-01],\n",
       "        [4.20687145e-01],\n",
       "        [3.71798252e-01],\n",
       "        [3.24190300e-01],\n",
       "        [2.78338972e-01],\n",
       "        [2.34702398e-01],\n",
       "        [1.93716581e-01],\n",
       "        [1.55791039e-01],\n",
       "        [1.21304709e-01],\n",
       "        [9.06021693e-02],\n",
       "        [6.39901882e-02],\n",
       "        [4.17346643e-02],\n",
       "        [2.40579672e-02],\n",
       "        [1.11367167e-02],\n",
       "        [3.10001778e-03],\n",
       "        [2.81703720e-05],\n",
       "        [1.95186738e-03]]])"
      ]
     },
     "execution_count": 51,
     "metadata": {},
     "output_type": "execute_result"
    }
   ],
   "source": [
    "current_batch"
   ]
  },
  {
   "cell_type": "code",
   "execution_count": 52,
   "metadata": {
    "scrolled": true,
    "tags": []
   },
   "outputs": [
    {
     "data": {
      "text/plain": [
       "array([[[7.34597031e-03],\n",
       "        [1.83351382e-02],\n",
       "        [3.41369333e-02],\n",
       "        [5.45934694e-02],\n",
       "        [7.95003514e-02],\n",
       "        [1.08608718e-01],\n",
       "        [1.41627728e-01],\n",
       "        [1.78227467e-01],\n",
       "        [2.18042242e-01],\n",
       "        [2.60674236e-01],\n",
       "        [3.05697486e-01],\n",
       "        [3.52662133e-01],\n",
       "        [4.01098922e-01],\n",
       "        [4.50523890e-01],\n",
       "        [5.00443198e-01],\n",
       "        [5.50358069e-01],\n",
       "        [5.99769769e-01],\n",
       "        [6.48184595e-01],\n",
       "        [6.95118799e-01],\n",
       "        [7.40103433e-01],\n",
       "        [7.82689024e-01],\n",
       "        [8.22450070e-01],\n",
       "        [8.58989293e-01],\n",
       "        [8.91941605e-01],\n",
       "        [9.20977757e-01],\n",
       "        [9.45807630e-01],\n",
       "        [9.66183132e-01],\n",
       "        [9.81900676e-01],\n",
       "        [9.92803220e-01],\n",
       "        [9.98781828e-01],\n",
       "        [9.99776764e-01],\n",
       "        [9.95778087e-01],\n",
       "        [9.86825751e-01],\n",
       "        [9.73009203e-01],\n",
       "        [9.54466495e-01],\n",
       "        [9.31382900e-01],\n",
       "        [9.03989060e-01],\n",
       "        [8.72558686e-01],\n",
       "        [8.37405820e-01],\n",
       "        [7.98881698e-01],\n",
       "        [7.57371240e-01],\n",
       "        [7.13289205e-01],\n",
       "        [6.67076045e-01],\n",
       "        [6.19193508e-01],\n",
       "        [5.70120021e-01],\n",
       "        [5.20345908e-01],\n",
       "        [4.70368497e-01],\n",
       "        [4.20687145e-01],\n",
       "        [3.71798252e-01],\n",
       "        [3.24190300e-01],\n",
       "        [2.78338972e-01],\n",
       "        [2.34702398e-01],\n",
       "        [1.93716581e-01],\n",
       "        [1.55791039e-01],\n",
       "        [1.21304709e-01],\n",
       "        [9.06021693e-02],\n",
       "        [6.39901882e-02],\n",
       "        [4.17346643e-02],\n",
       "        [2.40579672e-02],\n",
       "        [1.11367167e-02],\n",
       "        [3.10001778e-03],\n",
       "        [2.81703720e-05],\n",
       "        [1.95186738e-03],\n",
       "        [8.85189000e-03]]])"
      ]
     },
     "execution_count": 52,
     "metadata": {},
     "output_type": "execute_result"
    }
   ],
   "source": [
    "np.append(current_batch[:,1:,:], [[[0.00885189]]], axis = 1) \n",
    "\n",
    "# np.append(arr, values, axis=None)\n",
    "# [:,1:,:]  kaç eleman, satır sayısı, sütun sayısı\n",
    "# burada yukarıdaki batch en başındakini atıp bunun yerine en sona tahmini ilave ediyorum."
   ]
  },
  {
   "cell_type": "markdown",
   "metadata": {},
   "source": [
    "### Final For Loop to predict step by step "
   ]
  },
  {
   "cell_type": "code",
   "execution_count": 53,
   "metadata": {},
   "outputs": [],
   "source": [
    "predictions_scaled = []\n",
    "\n",
    "first_eval_batch = train_scaled[-length:]\n",
    "current_batch = first_eval_batch.reshape((1, length, n_features))\n",
    "\n",
    "for i in range(len(test)):\n",
    "    \n",
    "    # get prediction 1 time stamp ahead\n",
    "    current_pred = model.predict(current_batch) # sonuc 2 dimensiondı.\n",
    "    \n",
    "    # store prediction\n",
    "    predictions_scaled.append(current_pred[0]) # 2 dimensionun ilkini alıyorum.\n",
    "    \n",
    "    # update batch to now include prediction and drop first value\n",
    "    current_batch = np.append(current_batch[:, 1:, :], [current_pred], axis = 1)"
   ]
  },
  {
   "cell_type": "code",
   "execution_count": 54,
   "metadata": {
    "scrolled": true
   },
   "outputs": [
    {
     "data": {
      "text/plain": [
       "[array([0.00846368], dtype=float32),\n",
       " array([0.01980582], dtype=float32),\n",
       " array([0.03593206], dtype=float32),\n",
       " array([0.0566713], dtype=float32),\n",
       " array([0.08188445], dtype=float32),\n",
       " array([0.11140811], dtype=float32),\n",
       " array([0.14500877], dtype=float32),\n",
       " array([0.18223089], dtype=float32),\n",
       " array([0.22278076], dtype=float32),\n",
       " array([0.26617742], dtype=float32),\n",
       " array([0.31211793], dtype=float32),\n",
       " array([0.3600561], dtype=float32),\n",
       " array([0.4095127], dtype=float32),\n",
       " array([0.46004552], dtype=float32),\n",
       " array([0.511136], dtype=float32),\n",
       " array([0.5623357], dtype=float32),\n",
       " array([0.6128946], dtype=float32),\n",
       " array([0.6624274], dtype=float32),\n",
       " array([0.7103227], dtype=float32),\n",
       " array([0.75605994], dtype=float32),\n",
       " array([0.7991483], dtype=float32),\n",
       " array([0.8391166], dtype=float32),\n",
       " array([0.875533], dtype=float32),\n",
       " array([0.908038], dtype=float32),\n",
       " array([0.93632287], dtype=float32),\n",
       " array([0.96005], dtype=float32),\n",
       " array([0.9790693], dtype=float32),\n",
       " array([0.9931625], dtype=float32),\n",
       " array([1.0022725], dtype=float32),\n",
       " array([1.0063026], dtype=float32),\n",
       " array([1.0052251], dtype=float32),\n",
       " array([0.9991596], dtype=float32),\n",
       " array([0.9880991], dtype=float32),\n",
       " array([0.97217447], dtype=float32),\n",
       " array([0.9515442], dtype=float32),\n",
       " array([0.92647076], dtype=float32),\n",
       " array([0.8971891], dtype=float32),\n",
       " array([0.86402553], dtype=float32),\n",
       " array([0.8272676], dtype=float32),\n",
       " array([0.7873087], dtype=float32),\n",
       " array([0.7445612], dtype=float32),\n",
       " array([0.6994036], dtype=float32),\n",
       " array([0.65230846], dtype=float32),\n",
       " array([0.6037282], dtype=float32),\n",
       " array([0.5541752], dtype=float32),\n",
       " array([0.5041214], dtype=float32),\n",
       " array([0.45404798], dtype=float32),\n",
       " array([0.40448353], dtype=float32),\n",
       " array([0.35592097], dtype=float32),\n",
       " array([0.30880657], dtype=float32),\n",
       " array([0.2636087], dtype=float32),\n",
       " array([0.2207941], dtype=float32),\n",
       " array([0.18079427], dtype=float32),\n",
       " array([0.14404246], dtype=float32),\n",
       " array([0.1109035], dtype=float32),\n",
       " array([0.08176886], dtype=float32),\n",
       " array([0.05694284], dtype=float32),\n",
       " array([0.03663307], dtype=float32),\n",
       " array([0.02100822], dtype=float32),\n",
       " array([0.01016559], dtype=float32),\n",
       " array([0.00414782], dtype=float32),\n",
       " array([0.00296878], dtype=float32),\n",
       " array([0.00656812], dtype=float32),\n",
       " array([0.01493465], dtype=float32),\n",
       " array([0.02796952], dtype=float32),\n",
       " array([0.04556169], dtype=float32),\n",
       " array([0.06757458], dtype=float32),\n",
       " array([0.09380196], dtype=float32),\n",
       " array([0.12398916], dtype=float32),\n",
       " array([0.1578545], dtype=float32),\n",
       " array([0.19506387], dtype=float32),\n",
       " array([0.2352157], dtype=float32),\n",
       " array([0.27797988], dtype=float32),\n",
       " array([0.32292965], dtype=float32),\n",
       " array([0.36970013], dtype=float32)]"
      ]
     },
     "execution_count": 54,
     "metadata": {},
     "output_type": "execute_result"
    }
   ],
   "source": [
    "predictions_scaled"
   ]
  },
  {
   "cell_type": "code",
   "execution_count": 55,
   "metadata": {
    "scrolled": true
   },
   "outputs": [
    {
     "data": {
      "text/plain": [
       "array([[8.85188786e-03],\n",
       "       [2.06592891e-02],\n",
       "       [3.72560954e-02],\n",
       "       [5.84764771e-02],\n",
       "       [8.41084070e-02],\n",
       "       [1.13895779e-01],\n",
       "       [1.47540969e-01],\n",
       "       [1.84707803e-01],\n",
       "       [2.25024924e-01],\n",
       "       [2.68089497e-01],\n",
       "       [3.13471233e-01],\n",
       "       [3.60716695e-01],\n",
       "       [4.09353821e-01],\n",
       "       [4.58896644e-01],\n",
       "       [5.08850150e-01],\n",
       "       [5.58715219e-01],\n",
       "       [6.07993616e-01],\n",
       "       [6.56192968e-01],\n",
       "       [7.02831682e-01],\n",
       "       [7.47443761e-01],\n",
       "       [7.89583454e-01],\n",
       "       [8.28829716e-01],\n",
       "       [8.64790412e-01],\n",
       "       [8.97106234e-01],\n",
       "       [9.25454293e-01],\n",
       "       [9.49551344e-01],\n",
       "       [9.69156618e-01],\n",
       "       [9.84074225e-01],\n",
       "       [9.94155114e-01],\n",
       "       [9.99298559e-01],\n",
       "       [9.99453170e-01],\n",
       "       [9.94617400e-01],\n",
       "       [9.84839568e-01],\n",
       "       [9.70217371e-01],\n",
       "       [9.50896908e-01],\n",
       "       [9.27071224e-01],\n",
       "       [8.98978376e-01],\n",
       "       [8.66899060e-01],\n",
       "       [8.31153800e-01],\n",
       "       [7.92099752e-01],\n",
       "       [7.50127132e-01],\n",
       "       [7.05655314e-01],\n",
       "       [6.59128649e-01],\n",
       "       [6.11012013e-01],\n",
       "       [5.61786173e-01],\n",
       "       [5.11942978e-01],\n",
       "       [4.61980443e-01],\n",
       "       [4.12397778e-01],\n",
       "       [3.63690397e-01],\n",
       "       [3.16344967e-01],\n",
       "       [2.70834550e-01],\n",
       "       [2.27613868e-01],\n",
       "       [1.87114770e-01],\n",
       "       [1.49741909e-01],\n",
       "       [1.15868702e-01],\n",
       "       [8.58335998e-02],\n",
       "       [5.99367021e-02],\n",
       "       [3.84367625e-02],\n",
       "       [2.15486014e-02],\n",
       "       [9.44095974e-03],\n",
       "       [2.23481297e-03],\n",
       "       [2.16257798e-06],\n",
       "       [2.76531647e-03],\n",
       "       [1.04966661e-02],\n",
       "       [2.31189624e-02],\n",
       "       [4.05060876e-02],\n",
       "       [6.24843152e-02],\n",
       "       [8.88340461e-02],\n",
       "       [1.19292002e-01],\n",
       "       [1.53553858e-01],\n",
       "       [1.91277281e-01],\n",
       "       [2.32085350e-01],\n",
       "       [2.75570325e-01],\n",
       "       [3.21297718e-01],\n",
       "       [3.68810636e-01]])"
      ]
     },
     "execution_count": 55,
     "metadata": {},
     "output_type": "execute_result"
    }
   ],
   "source": [
    "test_scaled"
   ]
  },
  {
   "cell_type": "markdown",
   "metadata": {},
   "source": [
    "## Inverse Transformations and Comparing"
   ]
  },
  {
   "cell_type": "code",
   "execution_count": 56,
   "metadata": {},
   "outputs": [],
   "source": [
    "predictions = scaler.inverse_transform(predictions_scaled) \n",
    "\n",
    "# scale den kurtarmak için yaptık."
   ]
  },
  {
   "cell_type": "code",
   "execution_count": 57,
   "metadata": {
    "scrolled": true
   },
   "outputs": [
    {
     "data": {
      "text/plain": [
       "array([[-0.98306298],\n",
       "       [-0.96037889],\n",
       "       [-0.92812666],\n",
       "       [-0.88664852],\n",
       "       [-0.83622262],\n",
       "       [-0.77717578],\n",
       "       [-0.70997499],\n",
       "       [-0.63553135],\n",
       "       [-0.55443225],\n",
       "       [-0.46763965],\n",
       "       [-0.37575935],\n",
       "       [-0.27988378],\n",
       "       [-0.18097138],\n",
       "       [-0.07990656],\n",
       "       [ 0.02227358],\n",
       "       [ 0.12467223],\n",
       "       [ 0.22578915],\n",
       "       [ 0.32485401],\n",
       "       [ 0.42064375],\n",
       "       [ 0.51211755],\n",
       "       [ 0.59829361],\n",
       "       [ 0.67822947],\n",
       "       [ 0.75106171],\n",
       "       [ 0.81607126],\n",
       "       [ 0.8726405 ],\n",
       "       [ 0.92009436],\n",
       "       [ 0.95813266],\n",
       "       [ 0.98631888],\n",
       "       [ 1.00453868],\n",
       "       [ 1.01259883],\n",
       "       [ 1.01044378],\n",
       "       [ 0.99831291],\n",
       "       [ 0.97619213],\n",
       "       [ 0.94434312],\n",
       "       [ 0.90308297],\n",
       "       [ 0.85293644],\n",
       "       [ 0.79437355],\n",
       "       [ 0.72804699],\n",
       "       [ 0.65453169],\n",
       "       [ 0.57461454],\n",
       "       [ 0.48912023],\n",
       "       [ 0.39880574],\n",
       "       [ 0.30461625],\n",
       "       [ 0.20745645],\n",
       "       [ 0.10835129],\n",
       "       [ 0.00824455],\n",
       "       [-0.09190154],\n",
       "       [-0.19102964],\n",
       "       [-0.28815398],\n",
       "       [-0.38238203],\n",
       "       [-0.47277705],\n",
       "       [-0.55840556],\n",
       "       [-0.63840457],\n",
       "       [-0.71190759],\n",
       "       [-0.77818498],\n",
       "       [-0.83645379],\n",
       "       [-0.88610543],\n",
       "       [-0.92672465],\n",
       "       [-0.9579741 ],\n",
       "       [-0.97965919],\n",
       "       [-0.99169463],\n",
       "       [-0.9940527 ],\n",
       "       [-0.98685408],\n",
       "       [-0.97012114],\n",
       "       [-0.94405162],\n",
       "       [-0.90886757],\n",
       "       [-0.86484214],\n",
       "       [-0.81238779],\n",
       "       [-0.75201388],\n",
       "       [-0.68428375],\n",
       "       [-0.60986559],\n",
       "       [-0.52956259],\n",
       "       [-0.44403491],\n",
       "       [-0.35413609],\n",
       "       [-0.26059587]])"
      ]
     },
     "execution_count": 57,
     "metadata": {},
     "output_type": "execute_result"
    }
   ],
   "source": [
    "predictions"
   ]
  },
  {
   "cell_type": "code",
   "execution_count": 58,
   "metadata": {
    "scrolled": true
   },
   "outputs": [
    {
     "data": {
      "text/html": [
       "<div>\n",
       "<style scoped>\n",
       "    .dataframe tbody tr th:only-of-type {\n",
       "        vertical-align: middle;\n",
       "    }\n",
       "\n",
       "    .dataframe tbody tr th {\n",
       "        vertical-align: top;\n",
       "    }\n",
       "\n",
       "    .dataframe thead th {\n",
       "        text-align: right;\n",
       "    }\n",
       "</style>\n",
       "<table border=\"1\" class=\"dataframe\">\n",
       "  <thead>\n",
       "    <tr style=\"text-align: right;\">\n",
       "      <th></th>\n",
       "      <th>Sine</th>\n",
       "    </tr>\n",
       "  </thead>\n",
       "  <tbody>\n",
       "    <tr>\n",
       "      <th>42.600</th>\n",
       "      <td>-0.982</td>\n",
       "    </tr>\n",
       "    <tr>\n",
       "      <th>42.700</th>\n",
       "      <td>-0.959</td>\n",
       "    </tr>\n",
       "    <tr>\n",
       "      <th>42.800</th>\n",
       "      <td>-0.925</td>\n",
       "    </tr>\n",
       "    <tr>\n",
       "      <th>42.900</th>\n",
       "      <td>-0.883</td>\n",
       "    </tr>\n",
       "    <tr>\n",
       "      <th>43.000</th>\n",
       "      <td>-0.832</td>\n",
       "    </tr>\n",
       "    <tr>\n",
       "      <th>...</th>\n",
       "      <td>...</td>\n",
       "    </tr>\n",
       "    <tr>\n",
       "      <th>49.600</th>\n",
       "      <td>-0.617</td>\n",
       "    </tr>\n",
       "    <tr>\n",
       "      <th>49.700</th>\n",
       "      <td>-0.536</td>\n",
       "    </tr>\n",
       "    <tr>\n",
       "      <th>49.800</th>\n",
       "      <td>-0.449</td>\n",
       "    </tr>\n",
       "    <tr>\n",
       "      <th>49.900</th>\n",
       "      <td>-0.357</td>\n",
       "    </tr>\n",
       "    <tr>\n",
       "      <th>50.000</th>\n",
       "      <td>-0.262</td>\n",
       "    </tr>\n",
       "  </tbody>\n",
       "</table>\n",
       "<p>75 rows × 1 columns</p>\n",
       "</div>"
      ],
      "text/plain": [
       "         Sine\n",
       "42.600 -0.982\n",
       "42.700 -0.959\n",
       "42.800 -0.925\n",
       "42.900 -0.883\n",
       "43.000 -0.832\n",
       "...       ...\n",
       "49.600 -0.617\n",
       "49.700 -0.536\n",
       "49.800 -0.449\n",
       "49.900 -0.357\n",
       "50.000 -0.262\n",
       "\n",
       "[75 rows x 1 columns]"
      ]
     },
     "execution_count": 58,
     "metadata": {},
     "output_type": "execute_result"
    }
   ],
   "source": [
    "test"
   ]
  },
  {
   "cell_type": "code",
   "execution_count": 59,
   "metadata": {},
   "outputs": [],
   "source": [
    "test['RNN_Predictions'] = predictions"
   ]
  },
  {
   "cell_type": "code",
   "execution_count": 60,
   "metadata": {
    "scrolled": true
   },
   "outputs": [
    {
     "data": {
      "text/html": [
       "<div>\n",
       "<style scoped>\n",
       "    .dataframe tbody tr th:only-of-type {\n",
       "        vertical-align: middle;\n",
       "    }\n",
       "\n",
       "    .dataframe tbody tr th {\n",
       "        vertical-align: top;\n",
       "    }\n",
       "\n",
       "    .dataframe thead th {\n",
       "        text-align: right;\n",
       "    }\n",
       "</style>\n",
       "<table border=\"1\" class=\"dataframe\">\n",
       "  <thead>\n",
       "    <tr style=\"text-align: right;\">\n",
       "      <th></th>\n",
       "      <th>Sine</th>\n",
       "      <th>RNN_Predictions</th>\n",
       "    </tr>\n",
       "  </thead>\n",
       "  <tbody>\n",
       "    <tr>\n",
       "      <th>42.600</th>\n",
       "      <td>-0.982</td>\n",
       "      <td>-0.983</td>\n",
       "    </tr>\n",
       "    <tr>\n",
       "      <th>42.700</th>\n",
       "      <td>-0.959</td>\n",
       "      <td>-0.960</td>\n",
       "    </tr>\n",
       "    <tr>\n",
       "      <th>42.800</th>\n",
       "      <td>-0.925</td>\n",
       "      <td>-0.928</td>\n",
       "    </tr>\n",
       "    <tr>\n",
       "      <th>42.900</th>\n",
       "      <td>-0.883</td>\n",
       "      <td>-0.887</td>\n",
       "    </tr>\n",
       "    <tr>\n",
       "      <th>43.000</th>\n",
       "      <td>-0.832</td>\n",
       "      <td>-0.836</td>\n",
       "    </tr>\n",
       "    <tr>\n",
       "      <th>...</th>\n",
       "      <td>...</td>\n",
       "      <td>...</td>\n",
       "    </tr>\n",
       "    <tr>\n",
       "      <th>49.600</th>\n",
       "      <td>-0.617</td>\n",
       "      <td>-0.610</td>\n",
       "    </tr>\n",
       "    <tr>\n",
       "      <th>49.700</th>\n",
       "      <td>-0.536</td>\n",
       "      <td>-0.530</td>\n",
       "    </tr>\n",
       "    <tr>\n",
       "      <th>49.800</th>\n",
       "      <td>-0.449</td>\n",
       "      <td>-0.444</td>\n",
       "    </tr>\n",
       "    <tr>\n",
       "      <th>49.900</th>\n",
       "      <td>-0.357</td>\n",
       "      <td>-0.354</td>\n",
       "    </tr>\n",
       "    <tr>\n",
       "      <th>50.000</th>\n",
       "      <td>-0.262</td>\n",
       "      <td>-0.261</td>\n",
       "    </tr>\n",
       "  </tbody>\n",
       "</table>\n",
       "<p>75 rows × 2 columns</p>\n",
       "</div>"
      ],
      "text/plain": [
       "         Sine  RNN_Predictions\n",
       "42.600 -0.982           -0.983\n",
       "42.700 -0.959           -0.960\n",
       "42.800 -0.925           -0.928\n",
       "42.900 -0.883           -0.887\n",
       "43.000 -0.832           -0.836\n",
       "...       ...              ...\n",
       "49.600 -0.617           -0.610\n",
       "49.700 -0.536           -0.530\n",
       "49.800 -0.449           -0.444\n",
       "49.900 -0.357           -0.354\n",
       "50.000 -0.262           -0.261\n",
       "\n",
       "[75 rows x 2 columns]"
      ]
     },
     "execution_count": 60,
     "metadata": {},
     "output_type": "execute_result"
    }
   ],
   "source": [
    "test"
   ]
  },
  {
   "cell_type": "code",
   "execution_count": 61,
   "metadata": {},
   "outputs": [
    {
     "data": {
      "text/plain": [
       "<AxesSubplot:>"
      ]
     },
     "execution_count": 61,
     "metadata": {},
     "output_type": "execute_result"
    },
    {
     "data": {
      "image/png": "[encoded data removed]",
      "text/plain": [
       "<Figure size 720x432 with 1 Axes>"
      ]
     },
     "metadata": {},
     "output_type": "display_data"
    }
   ],
   "source": [
    "test.plot()"
   ]
  },
  {
   "cell_type": "markdown",
   "metadata": {},
   "source": [
    "## Early Stopping and Validation Generator"
   ]
  },
  {
   "cell_type": "code",
   "execution_count": 62,
   "metadata": {},
   "outputs": [],
   "source": [
    "from tensorflow.keras.callbacks import EarlyStopping"
   ]
  },
  {
   "cell_type": "code",
   "execution_count": 63,
   "metadata": {},
   "outputs": [],
   "source": [
    "early_stop = EarlyStopping(monitor='val_loss', patience=2)"
   ]
  },
  {
   "cell_type": "code",
   "execution_count": 64,
   "metadata": {},
   "outputs": [],
   "source": [
    "length = 64 # lenght range have to be shorter than range of test data\n",
    "            # In this case lenght range = 64, test range = 75\n",
    "batch_size =1\n",
    "\n",
    "generator = TimeseriesGenerator(data = train_scaled, targets = train_scaled, length = length, batch_size = batch_size)\n",
    "\n",
    "validation_generator = TimeseriesGenerator(data = test_scaled, targets = test_scaled, length = length, batch_size = batch_size)"
   ]
  },
  {
   "cell_type": "markdown",
   "metadata": {},
   "source": [
    "!!! önemli:\n",
    "\n",
    "validation datasında test datasını verdik. test datasının length den daha uzun olması gerekir."
   ]
  },
  {
   "cell_type": "code",
   "execution_count": 65,
   "metadata": {},
   "outputs": [
    {
     "data": {
      "text/plain": [
       "11"
      ]
     },
     "execution_count": 65,
     "metadata": {},
     "output_type": "execute_result"
    }
   ],
   "source": [
    "len(validation_generator)"
   ]
  },
  {
   "cell_type": "markdown",
   "metadata": {},
   "source": [
    "## LSTM"
   ]
  },
  {
   "cell_type": "code",
   "execution_count": 66,
   "metadata": {},
   "outputs": [],
   "source": [
    "# define model\n",
    "model = Sequential()\n",
    "\n",
    "# LSTM layer\n",
    "model.add(LSTM(units = 100, activation = \"tanh\", input_shape = (length, n_features)))\n",
    "\n",
    "# Final Prediction\n",
    "model.add(Dense(units = 1))\n",
    "\n",
    "model.compile(optimizer = 'adam', loss = 'mse')"
   ]
  },
  {
   "cell_type": "code",
   "execution_count": 67,
   "metadata": {},
   "outputs": [
    {
     "name": "stdout",
     "output_type": "stream",
     "text": [
      "Model: \"sequential_1\"\n",
      "_________________________________________________________________\n",
      " Layer (type)                Output Shape              Param #   \n",
      "=================================================================\n",
      " lstm (LSTM)                 (None, 100)               40800     \n",
      "                                                                 \n",
      " dense_1 (Dense)             (None, 1)                 101       \n",
      "                                                                 \n",
      "=================================================================\n",
      "Total params: 40,901\n",
      "Trainable params: 40,901\n",
      "Non-trainable params: 0\n",
      "_________________________________________________________________\n"
     ]
    }
   ],
   "source": [
    "model.summary()"
   ]
  },
  {
   "cell_type": "code",
   "execution_count": 68,
   "metadata": {},
   "outputs": [
    {
     "data": {
      "text/plain": [
       "40800"
      ]
     },
     "execution_count": 68,
     "metadata": {},
     "output_type": "execute_result"
    }
   ],
   "source": [
    "# params = 4 * ((size_of_input + 1) * size_of_output + size_of_output^2)\n",
    "4 * ((1+1)*100+(100**2))"
   ]
  },
  {
   "cell_type": "code",
   "execution_count": 69,
   "metadata": {
    "scrolled": true
   },
   "outputs": [
    {
     "name": "stdout",
     "output_type": "stream",
     "text": [
      "Epoch 1/20\n",
      "362/362 [==============================] - 7s 16ms/step - loss: 0.0086 - val_loss: 1.4296e-05\n",
      "Epoch 2/20\n",
      "362/362 [==============================] - 6s 17ms/step - loss: 5.8615e-04 - val_loss: 1.2717e-04\n",
      "Epoch 3/20\n",
      "362/362 [==============================] - 7s 19ms/step - loss: 7.5890e-05 - val_loss: 2.6063e-05\n"
     ]
    },
    {
     "data": {
      "text/plain": [
       "<keras.callbacks.History at 0x1e77769e0d0>"
      ]
     },
     "execution_count": 69,
     "metadata": {},
     "output_type": "execute_result"
    }
   ],
   "source": [
    "model.fit_generator(generator = generator,\n",
    "                    validation_data = validation_generator,\n",
    "                    epochs = 20,\n",
    "                    callbacks = [early_stop])"
   ]
  },
  {
   "cell_type": "code",
   "execution_count": 70,
   "metadata": {},
   "outputs": [
    {
     "data": {
      "text/plain": [
       "<AxesSubplot:>"
      ]
     },
     "execution_count": 70,
     "metadata": {},
     "output_type": "execute_result"
    },
    {
     "data": {
      "image/png": "[encoded data removed]",
      "text/plain": [
       "<Figure size 720x432 with 1 Axes>"
      ]
     },
     "metadata": {},
     "output_type": "display_data"
    }
   ],
   "source": [
    "loss_df = pd.DataFrame(model.history.history)\n",
    "loss_df.plot()"
   ]
  },
  {
   "cell_type": "code",
   "execution_count": 71,
   "metadata": {},
   "outputs": [],
   "source": [
    "predictions_scaled = []\n",
    "\n",
    "first_eval_batch = train_scaled[-length:]\n",
    "current_batch = first_eval_batch.reshape((1, length, n_features))\n",
    "\n",
    "for i in range(len(test)):\n",
    "    \n",
    "    # get prediction 1 time stamp ahead \n",
    "    current_pred = model.predict(current_batch)\n",
    "    \n",
    "    # store prediction\n",
    "    predictions_scaled.append(current_pred[0]) \n",
    "    \n",
    "    # update batch to now include prediction and drop first value\n",
    "    current_batch = np.append(current_batch[:, 1:, :], [current_pred], axis = 1)"
   ]
  },
  {
   "cell_type": "code",
   "execution_count": 72,
   "metadata": {},
   "outputs": [
    {
     "data": {
      "text/html": [
       "<div>\n",
       "<style scoped>\n",
       "    .dataframe tbody tr th:only-of-type {\n",
       "        vertical-align: middle;\n",
       "    }\n",
       "\n",
       "    .dataframe tbody tr th {\n",
       "        vertical-align: top;\n",
       "    }\n",
       "\n",
       "    .dataframe thead th {\n",
       "        text-align: right;\n",
       "    }\n",
       "</style>\n",
       "<table border=\"1\" class=\"dataframe\">\n",
       "  <thead>\n",
       "    <tr style=\"text-align: right;\">\n",
       "      <th></th>\n",
       "      <th>Sine</th>\n",
       "      <th>RNN_Predictions</th>\n",
       "      <th>LSTM Predictions</th>\n",
       "    </tr>\n",
       "  </thead>\n",
       "  <tbody>\n",
       "    <tr>\n",
       "      <th>42.600</th>\n",
       "      <td>-0.982</td>\n",
       "      <td>-0.983</td>\n",
       "      <td>-0.978</td>\n",
       "    </tr>\n",
       "    <tr>\n",
       "      <th>42.700</th>\n",
       "      <td>-0.959</td>\n",
       "      <td>-0.960</td>\n",
       "      <td>-0.954</td>\n",
       "    </tr>\n",
       "    <tr>\n",
       "      <th>42.800</th>\n",
       "      <td>-0.925</td>\n",
       "      <td>-0.928</td>\n",
       "      <td>-0.921</td>\n",
       "    </tr>\n",
       "    <tr>\n",
       "      <th>42.900</th>\n",
       "      <td>-0.883</td>\n",
       "      <td>-0.887</td>\n",
       "      <td>-0.879</td>\n",
       "    </tr>\n",
       "    <tr>\n",
       "      <th>43.000</th>\n",
       "      <td>-0.832</td>\n",
       "      <td>-0.836</td>\n",
       "      <td>-0.829</td>\n",
       "    </tr>\n",
       "    <tr>\n",
       "      <th>...</th>\n",
       "      <td>...</td>\n",
       "      <td>...</td>\n",
       "      <td>...</td>\n",
       "    </tr>\n",
       "    <tr>\n",
       "      <th>49.600</th>\n",
       "      <td>-0.617</td>\n",
       "      <td>-0.610</td>\n",
       "      <td>-0.580</td>\n",
       "    </tr>\n",
       "    <tr>\n",
       "      <th>49.700</th>\n",
       "      <td>-0.536</td>\n",
       "      <td>-0.530</td>\n",
       "      <td>-0.507</td>\n",
       "    </tr>\n",
       "    <tr>\n",
       "      <th>49.800</th>\n",
       "      <td>-0.449</td>\n",
       "      <td>-0.444</td>\n",
       "      <td>-0.428</td>\n",
       "    </tr>\n",
       "    <tr>\n",
       "      <th>49.900</th>\n",
       "      <td>-0.357</td>\n",
       "      <td>-0.354</td>\n",
       "      <td>-0.346</td>\n",
       "    </tr>\n",
       "    <tr>\n",
       "      <th>50.000</th>\n",
       "      <td>-0.262</td>\n",
       "      <td>-0.261</td>\n",
       "      <td>-0.261</td>\n",
       "    </tr>\n",
       "  </tbody>\n",
       "</table>\n",
       "<p>75 rows × 3 columns</p>\n",
       "</div>"
      ],
      "text/plain": [
       "         Sine  RNN_Predictions  LSTM Predictions\n",
       "42.600 -0.982           -0.983            -0.978\n",
       "42.700 -0.959           -0.960            -0.954\n",
       "42.800 -0.925           -0.928            -0.921\n",
       "42.900 -0.883           -0.887            -0.879\n",
       "43.000 -0.832           -0.836            -0.829\n",
       "...       ...              ...               ...\n",
       "49.600 -0.617           -0.610            -0.580\n",
       "49.700 -0.536           -0.530            -0.507\n",
       "49.800 -0.449           -0.444            -0.428\n",
       "49.900 -0.357           -0.354            -0.346\n",
       "50.000 -0.262           -0.261            -0.261\n",
       "\n",
       "[75 rows x 3 columns]"
      ]
     },
     "execution_count": 72,
     "metadata": {},
     "output_type": "execute_result"
    }
   ],
   "source": [
    "predictions = scaler.inverse_transform(predictions_scaled)\n",
    "test['LSTM Predictions'] = predictions\n",
    "test"
   ]
  },
  {
   "cell_type": "code",
   "execution_count": 73,
   "metadata": {},
   "outputs": [
    {
     "data": {
      "text/plain": [
       "<AxesSubplot:>"
      ]
     },
     "execution_count": 73,
     "metadata": {},
     "output_type": "execute_result"
    },
    {
     "data": {
      "image/png": "[encoded data removed]",
      "text/plain": [
       "<Figure size 720x432 with 1 Axes>"
      ]
     },
     "metadata": {},
     "output_type": "display_data"
    }
   ],
   "source": [
    "test.plot()"
   ]
  },
  {
   "cell_type": "markdown",
   "metadata": {},
   "source": [
    "## Retrain and Forecasting"
   ]
  },
  {
   "cell_type": "code",
   "execution_count": 74,
   "metadata": {},
   "outputs": [],
   "source": [
    "full_scaler = MinMaxScaler()\n",
    "scaled_full_data = full_scaler.fit_transform(df)"
   ]
  },
  {
   "cell_type": "code",
   "execution_count": 75,
   "metadata": {},
   "outputs": [],
   "source": [
    "length = 64 \n",
    "generator = TimeseriesGenerator(scaled_full_data, scaled_full_data, length = length, batch_size = 1)"
   ]
  },
  {
   "cell_type": "code",
   "execution_count": 76,
   "metadata": {},
   "outputs": [
    {
     "name": "stdout",
     "output_type": "stream",
     "text": [
      "Epoch 1/6\n",
      "437/437 [==============================] - 9s 17ms/step - loss: 0.0073\n",
      "Epoch 2/6\n",
      "437/437 [==============================] - 7s 16ms/step - loss: 1.0778e-04\n",
      "Epoch 3/6\n",
      "437/437 [==============================] - 7s 17ms/step - loss: 2.1073e-04\n",
      "Epoch 4/6\n",
      "437/437 [==============================] - 7s 16ms/step - loss: 2.7057e-04\n",
      "Epoch 5/6\n",
      "437/437 [==============================] - 7s 15ms/step - loss: 1.6043e-04\n",
      "Epoch 6/6\n",
      "437/437 [==============================] - 8s 19ms/step - loss: 8.1731e-05\n"
     ]
    },
    {
     "data": {
      "text/plain": [
       "<keras.callbacks.History at 0x1e77c013f10>"
      ]
     },
     "execution_count": 76,
     "metadata": {},
     "output_type": "execute_result"
    }
   ],
   "source": [
    "model = Sequential()\n",
    "model.add(LSTM(100, input_shape = (length, n_features)))\n",
    "model.add(Dense(1))\n",
    "model.compile(optimizer = 'adam', loss = 'mse')\n",
    "model.fit_generator(generator, epochs = 6)"
   ]
  },
  {
   "cell_type": "code",
   "execution_count": 77,
   "metadata": {},
   "outputs": [],
   "source": [
    "forecast = []\n",
    "\n",
    "first_eval_batch = scaled_full_data[-length:]\n",
    "current_batch = first_eval_batch.reshape((1, length, n_features))\n",
    "\n",
    "for i in range(length):\n",
    "    \n",
    "    # get prediction 1 time stamp ahead \n",
    "    current_pred = model.predict(current_batch)\n",
    "    \n",
    "    # store prediction\n",
    "    forecast.append(current_pred[0]) \n",
    "    \n",
    "    # update batch to now include prediction and drop first value\n",
    "    current_batch = np.append(current_batch[:, 1:, :], [current_pred], axis = 1)"
   ]
  },
  {
   "cell_type": "code",
   "execution_count": 78,
   "metadata": {},
   "outputs": [],
   "source": [
    "forecast = scaler.inverse_transform(forecast)"
   ]
  },
  {
   "cell_type": "code",
   "execution_count": 79,
   "metadata": {
    "scrolled": true
   },
   "outputs": [
    {
     "data": {
      "text/plain": [
       "array([[-0.16851477],\n",
       "       [-0.06480507],\n",
       "       [ 0.04057385],\n",
       "       [ 0.14690351],\n",
       "       [ 0.25339064],\n",
       "       [ 0.35919412],\n",
       "       [ 0.4634418 ],\n",
       "       [ 0.56525085],\n",
       "       [ 0.66374113],\n",
       "       [ 0.75805268],\n",
       "       [ 0.84736094],\n",
       "       [ 0.93088986],\n",
       "       [ 1.0079261 ],\n",
       "       [ 1.07782987],\n",
       "       [ 1.14004541],\n",
       "       [ 1.19410592],\n",
       "       [ 1.23963968],\n",
       "       [ 1.27637087],\n",
       "       [ 1.3041159 ],\n",
       "       [ 1.32278082],\n",
       "       [ 1.33235492],\n",
       "       [ 1.33290566],\n",
       "       [ 1.32457014],\n",
       "       [ 1.30754314],\n",
       "       [ 1.28207928],\n",
       "       [ 1.24847421],\n",
       "       [ 1.20706935],\n",
       "       [ 1.15824114],\n",
       "       [ 1.10239918],\n",
       "       [ 1.03998265],\n",
       "       [ 0.97146206],\n",
       "       [ 0.89733367],\n",
       "       [ 0.81812427],\n",
       "       [ 0.7343909 ],\n",
       "       [ 0.64671866],\n",
       "       [ 0.55572384],\n",
       "       [ 0.46205482],\n",
       "       [ 0.36638941],\n",
       "       [ 0.26943525],\n",
       "       [ 0.17192379],\n",
       "       [ 0.07461045],\n",
       "       [-0.02173522],\n",
       "       [-0.11633424],\n",
       "       [-0.2084079 ],\n",
       "       [-0.29718675],\n",
       "       [-0.38192176],\n",
       "       [-0.46189315],\n",
       "       [-0.53642339],\n",
       "       [-0.60488426],\n",
       "       [-0.66670749],\n",
       "       [-0.72139074],\n",
       "       [-0.76850403],\n",
       "       [-0.80769274],\n",
       "       [-0.83867982],\n",
       "       [-0.86126634],\n",
       "       [-0.87532968],\n",
       "       [-0.88082136],\n",
       "       [-0.87776355],\n",
       "       [-0.86624501],\n",
       "       [-0.84641691],\n",
       "       [-0.81848849],\n",
       "       [-0.78272268],\n",
       "       [-0.73943259],\n",
       "       [-0.68897841]])"
      ]
     },
     "execution_count": 79,
     "metadata": {},
     "output_type": "execute_result"
    }
   ],
   "source": [
    "forecast"
   ]
  },
  {
   "cell_type": "code",
   "execution_count": 80,
   "metadata": {},
   "outputs": [
    {
     "data": {
      "text/html": [
       "<div>\n",
       "<style scoped>\n",
       "    .dataframe tbody tr th:only-of-type {\n",
       "        vertical-align: middle;\n",
       "    }\n",
       "\n",
       "    .dataframe tbody tr th {\n",
       "        vertical-align: top;\n",
       "    }\n",
       "\n",
       "    .dataframe thead th {\n",
       "        text-align: right;\n",
       "    }\n",
       "</style>\n",
       "<table border=\"1\" class=\"dataframe\">\n",
       "  <thead>\n",
       "    <tr style=\"text-align: right;\">\n",
       "      <th></th>\n",
       "      <th>Sine</th>\n",
       "    </tr>\n",
       "  </thead>\n",
       "  <tbody>\n",
       "    <tr>\n",
       "      <th>0.000</th>\n",
       "      <td>0.000</td>\n",
       "    </tr>\n",
       "    <tr>\n",
       "      <th>0.100</th>\n",
       "      <td>0.100</td>\n",
       "    </tr>\n",
       "    <tr>\n",
       "      <th>0.200</th>\n",
       "      <td>0.199</td>\n",
       "    </tr>\n",
       "    <tr>\n",
       "      <th>0.300</th>\n",
       "      <td>0.296</td>\n",
       "    </tr>\n",
       "    <tr>\n",
       "      <th>0.400</th>\n",
       "      <td>0.389</td>\n",
       "    </tr>\n",
       "    <tr>\n",
       "      <th>...</th>\n",
       "      <td>...</td>\n",
       "    </tr>\n",
       "    <tr>\n",
       "      <th>49.600</th>\n",
       "      <td>-0.617</td>\n",
       "    </tr>\n",
       "    <tr>\n",
       "      <th>49.700</th>\n",
       "      <td>-0.536</td>\n",
       "    </tr>\n",
       "    <tr>\n",
       "      <th>49.800</th>\n",
       "      <td>-0.449</td>\n",
       "    </tr>\n",
       "    <tr>\n",
       "      <th>49.900</th>\n",
       "      <td>-0.357</td>\n",
       "    </tr>\n",
       "    <tr>\n",
       "      <th>50.000</th>\n",
       "      <td>-0.262</td>\n",
       "    </tr>\n",
       "  </tbody>\n",
       "</table>\n",
       "<p>501 rows × 1 columns</p>\n",
       "</div>"
      ],
      "text/plain": [
       "         Sine\n",
       "0.000   0.000\n",
       "0.100   0.100\n",
       "0.200   0.199\n",
       "0.300   0.296\n",
       "0.400   0.389\n",
       "...       ...\n",
       "49.600 -0.617\n",
       "49.700 -0.536\n",
       "49.800 -0.449\n",
       "49.900 -0.357\n",
       "50.000 -0.262\n",
       "\n",
       "[501 rows x 1 columns]"
      ]
     },
     "execution_count": 80,
     "metadata": {},
     "output_type": "execute_result"
    }
   ],
   "source": [
    "df"
   ]
  },
  {
   "cell_type": "code",
   "execution_count": 81,
   "metadata": {},
   "outputs": [
    {
     "data": {
      "text/plain": [
       "<AxesSubplot:>"
      ]
     },
     "execution_count": 81,
     "metadata": {},
     "output_type": "execute_result"
    },
    {
     "data": {
      "image/png": "[encoded data removed]",
      "text/plain": [
       "<Figure size 720x432 with 1 Axes>"
      ]
     },
     "metadata": {},
     "output_type": "display_data"
    }
   ],
   "source": [
    "df.plot()"
   ]
  },
  {
   "cell_type": "code",
   "execution_count": 82,
   "metadata": {},
   "outputs": [
    {
     "data": {
      "text/plain": [
       "64"
      ]
     },
     "execution_count": 82,
     "metadata": {},
     "output_type": "execute_result"
    }
   ],
   "source": [
    "forecast_len = len(forecast)\n",
    "forecast_len"
   ]
  },
  {
   "cell_type": "code",
   "execution_count": 83,
   "metadata": {},
   "outputs": [],
   "source": [
    "step = 0.1"
   ]
  },
  {
   "cell_type": "code",
   "execution_count": 84,
   "metadata": {},
   "outputs": [
    {
     "data": {
      "text/plain": [
       "6.4"
      ]
     },
     "execution_count": 84,
     "metadata": {},
     "output_type": "execute_result"
    }
   ],
   "source": [
    "forecast_len * step"
   ]
  },
  {
   "cell_type": "code",
   "execution_count": 85,
   "metadata": {},
   "outputs": [],
   "source": [
    "forecast_index = np.arange(50.1, 56.5, step = step)\n",
    "# df 50 ile bitiyordu ve sonrasının 50.1 olması lazım."
   ]
  },
  {
   "cell_type": "code",
   "execution_count": 86,
   "metadata": {},
   "outputs": [
    {
     "data": {
      "text/plain": [
       "64"
      ]
     },
     "execution_count": 86,
     "metadata": {},
     "output_type": "execute_result"
    }
   ],
   "source": [
    "len(forecast_index)"
   ]
  },
  {
   "cell_type": "code",
   "execution_count": 87,
   "metadata": {},
   "outputs": [
    {
     "data": {
      "image/png": "[encoded data removed]",
      "text/plain": [
       "<Figure size 720x432 with 1 Axes>"
      ]
     },
     "metadata": {},
     "output_type": "display_data"
    }
   ],
   "source": [
    "plt.plot(df.index, df['Sine'])\n",
    "plt.plot(forecast_index, forecast);"
   ]
  },
  {
   "cell_type": "markdown",
   "metadata": {},
   "source": [
    "___\n",
    "\n",
    "<p style=\"text-align: center;\"><img src=\"https://docs.google.com/uc?id=1lY0Uj5R04yMY3-ZppPWxqCr5pvBLYPnV\" class=\"img-fluid\" alt=\"CLRSWY\"></p>\n",
    "\n",
    "___"
   ]
  }
 ],
 "metadata": {
  "kernelspec": {
   "display_name": "Python 3 (ipykernel)",
   "language": "python",
   "name": "python3"
  },
  "language_info": {
   "codemirror_mode": {
    "name": "ipython",
    "version": 3
   },
   "file_extension": ".py",
   "mimetype": "text/x-python",
   "name": "python",
   "nbconvert_exporter": "python",
   "pygments_lexer": "ipython3",
   "version": "3.9.7"
  }
 },
 "nbformat": 4,
 "nbformat_minor": 4
}
