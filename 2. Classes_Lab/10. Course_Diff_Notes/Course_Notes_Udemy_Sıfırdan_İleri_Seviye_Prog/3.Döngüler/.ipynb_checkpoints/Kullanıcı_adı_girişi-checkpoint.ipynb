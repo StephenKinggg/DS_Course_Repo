{
 "cells": [
  {
   "cell_type": "code",
   "execution_count": 1,
   "id": "fba3f362-0fe6-4dc9-8a33-f6e816429bfa",
   "metadata": {},
   "outputs": [
    {
     "name": "stdin",
     "output_type": "stream",
     "text": [
      "Kullanıcı adınızı giriniz: stephen\n",
      "Parolanızı giriniz: 4588\n"
     ]
    },
    {
     "name": "stdout",
     "output_type": "stream",
     "text": [
      "Parola Hatalı...\n",
      "kalan giris hakkınız : 2\n"
     ]
    },
    {
     "name": "stdin",
     "output_type": "stream",
     "text": [
      "Kullanıcı adınızı giriniz: mumedde\n",
      "Parolanızı giriniz: 488\n"
     ]
    },
    {
     "name": "stdout",
     "output_type": "stream",
     "text": [
      "Kullanıcı Adı ve Parola Hatalı...\n",
      "kalan giris hakkınız : 1\n"
     ]
    },
    {
     "name": "stdin",
     "output_type": "stream",
     "text": [
      "Kullanıcı adınızı giriniz: stephen\n",
      "Parolanızı giriniz: 554\n"
     ]
    },
    {
     "name": "stdout",
     "output_type": "stream",
     "text": [
      "Parola Hatalı...\n",
      "kalan giris hakkınız : 0\n",
      "Giriş hakkınız bitti. Hesabınız bloke olmuştur.Lütfen müşteri hizmetleri ile irtibata geçiniz.\n"
     ]
    }
   ],
   "source": [
    "'''\n",
    "**********Kullanıcı Girişi**********\n",
    "'''\n",
    "sys_kullanıcı_adı = \"stephen\"\n",
    "sys_parola  = \"12345\"\n",
    "\n",
    "giris_hakkı = 3\n",
    "\n",
    "while True:\n",
    "    kullanıcı_adı = input(\"Kullanıcı adınızı giriniz:\")\n",
    "    parola = input(\"Parolanızı giriniz:\")\n",
    "\n",
    "    if (kullanıcı_adı != sys_kullanıcı_adı and parola == sys_parola):\n",
    "        print(\"Kullanıcı Adı Hatalı...\")\n",
    "        giris_hakkı -=1  # kullanıcı hatalı giriş yapınca giriş hakkını 1 azaltıyoruz.\n",
    "        print(\"kalan giris hakkınız :\", giris_hakkı)\n",
    "    \n",
    "    elif (kullanıcı_adı == sys_kullanıcı_adı and parola != sys_parola):\n",
    "        print(\"Parola Hatalı...\")\n",
    "        giris_hakkı -=1\n",
    "        print(\"kalan giris hakkınız :\", giris_hakkı)\n",
    "\n",
    "    elif (kullanıcı_adı != sys_kullanıcı_adı and parola != sys_parola):\n",
    "        print(\"Kullanıcı Adı ve Parola Hatalı...\")\n",
    "        giris_hakkı -=1\n",
    "        print(\"kalan giris hakkınız :\", giris_hakkı)\n",
    "\n",
    "    else:\n",
    "        print(\"Tebrikler.Başarıyla Giriş Yaptınız...\")\n",
    "        break  # sisteme başarılı giriş yapıldığından dolayı while döngüsünü sonlandırmak için kullanılır.\n",
    "        \n",
    "    if (giris_hakkı==0):\n",
    "        print(\"Giriş hakkınız bitti. Hesabınız bloke olmuştur.Lütfen müşteri hizmetleri ile irtibata geçiniz.\")\n",
    "        break"
   ]
  },
  {
   "cell_type": "code",
   "execution_count": null,
   "id": "f5f27eb9-5e38-46a4-af45-a9e9eb63f60f",
   "metadata": {},
   "outputs": [],
   "source": []
  }
 ],
 "metadata": {
  "kernelspec": {
   "display_name": "Python 3",
   "language": "python",
   "name": "python3"
  },
  "language_info": {
   "codemirror_mode": {
    "name": "ipython",
    "version": 3
   },
   "file_extension": ".py",
   "mimetype": "text/x-python",
   "name": "python",
   "nbconvert_exporter": "python",
   "pygments_lexer": "ipython3",
   "version": "3.9.7"
  }
 },
 "nbformat": 4,
 "nbformat_minor": 5
}
