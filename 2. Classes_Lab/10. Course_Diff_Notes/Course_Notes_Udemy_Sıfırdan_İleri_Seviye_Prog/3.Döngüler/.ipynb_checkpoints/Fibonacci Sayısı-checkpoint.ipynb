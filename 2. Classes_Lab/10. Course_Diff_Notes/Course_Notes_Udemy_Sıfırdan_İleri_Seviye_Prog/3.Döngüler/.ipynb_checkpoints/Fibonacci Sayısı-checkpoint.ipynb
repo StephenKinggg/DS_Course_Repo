{
 "cells": [
  {
   "cell_type": "code",
   "execution_count": 2,
   "id": "1a2efbd7-c4e2-472d-8fc4-c024437ce45a",
   "metadata": {},
   "outputs": [
    {
     "name": "stdout",
     "output_type": "stream",
     "text": [
      "[1, 1]\n",
      "[1, 1, 2, 3, 5, 8, 13, 21, 34, 55, 89, 144, 233, 377, 610, 987, 1597, 2584, 4181, 6765, 10946, 17711]\n"
     ]
    }
   ],
   "source": [
    "\"\"\"\n",
    "Fibonacci Serisi yeni bir sayıyı önceki iki sayının toplamı şeklinde oluşturur.\n",
    "\n",
    "1,1,2,3,5,8,13,21,34...............\n",
    "\"\"\"\n",
    "\n",
    "ilk_sayı = 1\n",
    "\n",
    "ikinci_sayı = 1\n",
    "\n",
    "fibonacci = [ilk_sayı,ikinci_sayı]\n",
    "print(fibonacci)\n",
    "\n",
    "for i in range(20):\n",
    "    ilk_sayı, ikinci_sayı = ikinci_sayı, ilk_sayı + ikinci_sayı\n",
    "    fibonacci.append(ikinci_sayı)\n",
    "print(fibonacci)   "
   ]
  },
  {
   "cell_type": "code",
   "execution_count": null,
   "id": "6f3850f1-3363-410f-aabf-0296d90551a5",
   "metadata": {},
   "outputs": [],
   "source": []
  }
 ],
 "metadata": {
  "kernelspec": {
   "display_name": "Python 3",
   "language": "python",
   "name": "python3"
  },
  "language_info": {
   "codemirror_mode": {
    "name": "ipython",
    "version": 3
   },
   "file_extension": ".py",
   "mimetype": "text/x-python",
   "name": "python",
   "nbconvert_exporter": "python",
   "pygments_lexer": "ipython3",
   "version": "3.9.7"
  }
 },
 "nbformat": 4,
 "nbformat_minor": 5
}
