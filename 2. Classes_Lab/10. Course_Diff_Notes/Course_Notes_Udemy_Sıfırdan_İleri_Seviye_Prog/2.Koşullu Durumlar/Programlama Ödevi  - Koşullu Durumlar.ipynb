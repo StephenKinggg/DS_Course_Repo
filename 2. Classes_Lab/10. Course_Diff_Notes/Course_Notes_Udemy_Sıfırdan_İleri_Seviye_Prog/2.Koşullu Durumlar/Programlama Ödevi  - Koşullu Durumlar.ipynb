{
 "cells": [
  {
   "cell_type": "markdown",
   "metadata": {},
   "source": [
    "## Programlama Ödevi  - Koşullu Durumlar\n",
    "*Tebrikler! Bölümü başarıyla bitirdiniz. Şimdi, öğrendiklerinizin akılda kalması için ödevinizi yapma zamanı!*"
   ]
  },
  {
   "cell_type": "markdown",
   "metadata": {},
   "source": [
    "### Problem 1\n",
    "\n",
    "Kullanıcıdan alınan boy ve kilo değerlerine göre beden kitle indeksini hesaplayın ve şu kurallara göre ekrana şu yazıları yazdırın.\n",
    "\n",
    "     Beden Kitle İndeksi: Kilo / Boy(m) *  Boy(m)\n",
    "    \n",
    "     BKİ 18.5'un altındaysa -------> Zayıf\n",
    "     \n",
    "     BKİ 18.5 ile 25 arasındaysa ------> Normal\n",
    "     \n",
    "     BKİ 25 ile 30 arasındaysa --------> Fazla Kilolu\n",
    "     \n",
    "     BKİ 30'un üstündeyse -------------> Obez\n",
    "     "
   ]
  },
  {
   "cell_type": "code",
   "execution_count": 5,
   "metadata": {},
   "outputs": [
    {
     "name": "stdin",
     "output_type": "stream",
     "text": [
      "Boyunuzu m olarak giriniz: 1.75\n",
      "Kilonuzu kg olarak giriniz: 50\n"
     ]
    },
    {
     "name": "stdout",
     "output_type": "stream",
     "text": [
      "bki:16.3265306122449\n",
      "Zayıf\n"
     ]
    }
   ],
   "source": [
    "boy = float(input(\"Boyunuzu m olarak giriniz:\"))\n",
    "kilo = float(input(\"Kilonuzu kg olarak giriniz:\"))\n",
    "print(\"bki:{}\".format(kilo/boy**2))\n",
    "\n",
    "if (kilo/boy**2) >=30:\n",
    "    print(\"obez\")\n",
    "    \n",
    "elif (kilo/boy**2) >=25 and (kilo/boy**2)<30:\n",
    "    print(\"Fazla kilolu\")\n",
    "    \n",
    "elif (kilo/boy**2) >=18.5 and (kilo/boy**2)<25:\n",
    "    print(\"Normal kilolu\")\n",
    "\n",
    "elif (kilo/boy**2)<18.5:\n",
    "    print(\"Zayıf\")\n",
    "\n",
    "else:\n",
    "    print(\"Değerlerinizi tekrar gözden geçiriniz.\")\n",
    "    "
   ]
  },
  {
   "cell_type": "markdown",
   "metadata": {},
   "source": [
    "### Problem 2\n",
    "\n",
    "Kullanıcıdan 3 tane sayı alın ve en büyük sayıyı ekrana yazdırın."
   ]
  },
  {
   "cell_type": "code",
   "execution_count": 10,
   "metadata": {},
   "outputs": [
    {
     "name": "stdin",
     "output_type": "stream",
     "text": [
      "Birinci sayıyı giriniz: 25\n",
      "İkinci sayıyı giriniz: 17\n",
      "Üçüncü sayıyı giriniz: 25\n"
     ]
    },
    {
     "name": "stdout",
     "output_type": "stream",
     "text": [
      "En büyük sayı 25:\n"
     ]
    }
   ],
   "source": [
    "a = int(input(\"Birinci sayıyı giriniz:\"))\n",
    "b = int(input(\"İkinci sayıyı giriniz:\"))\n",
    "c = int(input(\"Üçüncü sayıyı giriniz:\"))\n",
    "\n",
    "if a>=b and a>=c:\n",
    "    print(\"En büyük sayı {}:\".format(a))\n",
    "    \n",
    "elif b>=a and b>=c:\n",
    "    print(\"En büyük sayı {}:\".format(b))\n",
    "    \n",
    "elif c>=a and c>=b:\n",
    "    print(\"En büyük sayı {}:\".format(c))\n",
    "    \n",
    "else:\n",
    "    print(\"girdiğiniz sayıları tekrar gözden geçiriniz.\")"
   ]
  },
  {
   "cell_type": "markdown",
   "metadata": {},
   "source": [
    "### Problem 3"
   ]
  },
  {
   "cell_type": "markdown",
   "metadata": {},
   "source": [
    "Kullanıcının girdiği **vize1,vize2,final notlarına** notlarına göre harf notunu hesaplayın.\n",
    "\n",
    "        Vize1 toplam notun %30'una etki edecek.\n",
    "\n",
    "        Vize2 toplam notun %30'una etki edecek.\n",
    "\n",
    "        Final toplam notun %40'ına etki edecek.\n",
    "\n",
    "\n",
    "        Toplam Not >=  90 -----> AA\n",
    "\n",
    "        Toplam Not >=  85 -----> BA\n",
    "\n",
    "        Toplam Not >=  80 -----> BB\n",
    "\n",
    "        Toplam Not >=  75 -----> CB\n",
    "\n",
    "        Toplam Not >=  70 -----> CC\n",
    "\n",
    "        Toplam Not >=  65 -----> DC\n",
    "\n",
    "        Toplam Not >=  60 -----> DD\n",
    "\n",
    "        Toplam Not >=  55 -----> FD\n",
    "\n",
    "        Toplam Not <  55 -----> FF\n",
    "\n"
   ]
  },
  {
   "cell_type": "code",
   "execution_count": 11,
   "metadata": {},
   "outputs": [
    {
     "name": "stdin",
     "output_type": "stream",
     "text": [
      "Birinci vize notunuzu giriniz: 70\n",
      "İkinci vize notunuzu giriniz: 50\n",
      "Üçüncü vize notunuzu giriniz: 80\n"
     ]
    },
    {
     "name": "stdout",
     "output_type": "stream",
     "text": [
      "DC\n"
     ]
    }
   ],
   "source": [
    "vize1 = int(input(\"Birinci vize notunuzu giriniz:\"))\n",
    "vize2 = int(input(\"İkinci vize notunuzu giriniz:\"))\n",
    "vize3 = int(input(\"Üçüncü vize notunuzu giriniz:\"))\n",
    "\n",
    "toplam=vize1*0.3+vize2*0.3+vize3*0.4\n",
    "\n",
    "if toplam>=90:\n",
    "    print(\"AA\")\n",
    "    \n",
    "elif toplam>=85 and toplam<90:\n",
    "    print(\"BA\")\n",
    "    \n",
    "elif toplam>=80 and toplam<85:\n",
    "    print(\"BB\")\n",
    "    \n",
    "elif toplam>=75 and toplam<80:\n",
    "    print(\"CB\")\n",
    "    \n",
    "elif toplam>=70 and toplam<75:\n",
    "    print(\"CC\")\n",
    "\n",
    "elif toplam>=65 and toplam<70:\n",
    "    print(\"DC\")\n",
    "\n",
    "elif toplam>=60 and toplam<65:\n",
    "    print(\"DD\")\n",
    "\n",
    "elif toplam>=55 and toplam<60:\n",
    "    print(\"FD\")\n",
    "    \n",
    "else:\n",
    "    print(\"FF\")"
   ]
  },
  {
   "cell_type": "markdown",
   "metadata": {},
   "source": [
    "### Problem 4\n",
    "\n",
    "Şimdi de geometrik şekil hesaplama işlemi yapalım. İlk olarak kullanıcıdan üçgenin mi dörtgenin mi tipini bulmak istediğini sorun. \n",
    "\n",
    "Eğer kullanıcı \"Dörtgen\" cevabını verirse ,  4 tane kenar isteyip bu dörtgenin kare mi , dikdörtgen mi yoksa sıradan bir dörtgen mi olduğunu bulmaya çalışın.\n",
    "\n",
    "Eğer kullanıcı \"Üçgen\" cevabını verirse ,  3 tane kenar isteyip bu üçgenin ikizkenar mı , eşkenar mı yoksa sıradan bir üçgen mi olduğunu bulmaya çalışın. Eğer verilen kenarlar bir üçgen belirtmiyorsa, ekrana \"Üçgen belirtmiyor\" şeklinde bir yazı yazın.o\n",
    "\n",
    "*Üçgen belirtme şartını bilmiyorsunuz internetten bakabilirsiniz.*\n",
    "\n",
    "*Ayrıca , bu problemde mutlak değer bulmaya ihtiyacınız olacak. Bunun için, Pythonda hazır bir fonksiyon olan abs() fonksiyonunu kullanabilirsiniz. Kullanımı şu şekildedir ;*\n",
    "\n",
    "\n",
    "\n",
    "\n"
   ]
  },
  {
   "cell_type": "code",
   "execution_count": 20,
   "metadata": {},
   "outputs": [
    {
     "name": "stdin",
     "output_type": "stream",
     "text": [
      "Hangi şeklin tipini öğrenmek istiyorsunuz? üçgen\n"
     ]
    },
    {
     "name": "stdout",
     "output_type": "stream",
     "text": [
      "Lütfen sırayla kenar uzunluklarını giriniz.\n"
     ]
    },
    {
     "name": "stdin",
     "output_type": "stream",
     "text": [
      "1.kenarı giriniz: 10\n",
      "2.kenarı giriniz: 15\n",
      "3.kenarı giriniz: 18\n"
     ]
    },
    {
     "name": "stdout",
     "output_type": "stream",
     "text": [
      "Bu bir üçgendir.\n"
     ]
    }
   ],
   "source": [
    "şekil=input(\"Hangi şeklin tipini öğrenmek istiyorsunuz?\")\n",
    "\n",
    "if şekil ==\"dörtgen\":\n",
    "    print(\"Lütfen sırayla kenar uzunluklarını giriniz.\")\n",
    "    d1 = input(\"1.kenarı giriniz:\")\n",
    "    d2 = input(\"2.kenarı giriniz:\")\n",
    "    d3 = input(\"3.kenarı giriniz:\")\n",
    "    d4 = input(\"4.kenarı giriniz:\")\n",
    "    \n",
    "    if d1==d2 and d2==d3 and d3==d4:\n",
    "        print(\"Bu bir karedir\")\n",
    "    elif d1==d3 and d2==d4:\n",
    "        print(\"Bu bir dikdörtgendir\")\n",
    "    else:\n",
    "        print(\"Bu bir dörtgendir.\")\n",
    "        \n",
    "if şekil ==\"üçgen\":\n",
    "    print(\"Lütfen sırayla kenar uzunluklarını giriniz.\")\n",
    "    u1 = input(\"1.kenarı giriniz:\")\n",
    "    u2 = input(\"2.kenarı giriniz:\")\n",
    "    u3 = input(\"3.kenarı giriniz:\")\n",
    "    \n",
    "    if u1==u2 and u2==u3:\n",
    "        print(\"Bu bir eşkenar üçgendir.\")\n",
    "        \n",
    "    elif u1==u2 and u2!=u3:\n",
    "        print(\"Bu bir ikizkenar üçgendir.\")\n",
    "        \n",
    "    else:\n",
    "        print(\"Bu bir üçgendir.\")"
   ]
  },
  {
   "cell_type": "code",
   "execution_count": null,
   "metadata": {},
   "outputs": [],
   "source": []
  },
  {
   "cell_type": "code",
   "execution_count": 1,
   "metadata": {},
   "outputs": [
    {
     "data": {
      "text/plain": [
       "4"
      ]
     },
     "execution_count": 1,
     "metadata": {},
     "output_type": "execute_result"
    }
   ],
   "source": [
    "abs(-4)"
   ]
  },
  {
   "cell_type": "code",
   "execution_count": 2,
   "metadata": {},
   "outputs": [
    {
     "data": {
      "text/plain": [
       "5"
      ]
     },
     "execution_count": 2,
     "metadata": {},
     "output_type": "execute_result"
    }
   ],
   "source": [
    "abs(5)"
   ]
  },
  {
   "cell_type": "markdown",
   "metadata": {},
   "source": [
    "***Not: Bu problem sizin algoritma kurma becerinizi bir hayli geliştirecektir.***"
   ]
  },
  {
   "cell_type": "code",
   "execution_count": null,
   "metadata": {
    "collapsed": true,
    "jupyter": {
     "outputs_hidden": true
    }
   },
   "outputs": [],
   "source": []
  }
 ],
 "metadata": {
  "kernelspec": {
   "display_name": "Python 3",
   "language": "python",
   "name": "python3"
  },
  "language_info": {
   "codemirror_mode": {
    "name": "ipython",
    "version": 3
   },
   "file_extension": ".py",
   "mimetype": "text/x-python",
   "name": "python",
   "nbconvert_exporter": "python",
   "pygments_lexer": "ipython3",
   "version": "3.9.7"
  }
 },
 "nbformat": 4,
 "nbformat_minor": 4
}
