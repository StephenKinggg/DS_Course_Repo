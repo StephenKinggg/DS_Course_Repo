{
 "cells": [
  {
   "cell_type": "markdown",
   "metadata": {},
   "source": [
    "## Programlama Ödevi - Temel Python Objeleri ve Veri Yapıları\n",
    "\n",
    "*Tebrikler! Bölümü başarıyla bitirdiniz. Şimdi, öğrendiklerinizin akılda kalması için ödevinizi yapma zamanı!*"
   ]
  },
  {
   "cell_type": "markdown",
   "metadata": {},
   "source": [
    "### Problem 1\n",
    "\n",
    "Kullanıcıdan aldığınız 3 tane sayıyı çarparak ekrana yazdırın. Ekrana yazdırma işlemini ***format*** metoduyla yapmaya çalışın."
   ]
  },
  {
   "cell_type": "code",
   "execution_count": 30,
   "metadata": {},
   "outputs": [
    {
     "name": "stdin",
     "output_type": "stream",
     "text": [
      "Birinci sayıyı giriniz: 15\n",
      "İkinci sayıyı giriniz: 25\n",
      "Üçünçü sayıyı giriniz: 35\n"
     ]
    },
    {
     "name": "stdout",
     "output_type": "stream",
     "text": [
      "15x25x35 = 13125 dir.\n"
     ]
    }
   ],
   "source": [
    "a = int(input(\"Birinci sayıyı giriniz:\"))\n",
    "b = int(input(\"İkinci sayıyı giriniz:\"))\n",
    "c = int(input(\"Üçünçü sayıyı giriniz:\"))\n",
    "\n",
    "print(\"{}x{}x{} = {} dir.\".format(a,b,c, (a*b*c)))"
   ]
  },
  {
   "cell_type": "markdown",
   "metadata": {},
   "source": [
    "### Problem 2\n",
    "\n",
    "Kullanıcıdan aldığınız **boy** ve **kilo** değerlerine göre kullanıcının beden kitle indeksini bulun.\n",
    "\n",
    "*Beden Kitle İndeksi :  Kilo / Boy(m) * Boy(m)"
   ]
  },
  {
   "cell_type": "code",
   "execution_count": 31,
   "metadata": {},
   "outputs": [
    {
     "name": "stdin",
     "output_type": "stream",
     "text": [
      "Boyu metre olarak giriniz: 1.70\n",
      "Kilo kg olarak giriniz: 72\n"
     ]
    },
    {
     "name": "stdout",
     "output_type": "stream",
     "text": [
      "Beden Kitle İndeksi :24.913494809688583\n"
     ]
    }
   ],
   "source": [
    "boy = float(input(\"Boyu metre olarak giriniz:\"))\n",
    "kilo = int(input(\"Kilo kg olarak giriniz:\"))\n",
    "print(\"Beden Kitle İndeksi :{}\".format(kilo/(boy**2)))"
   ]
  },
  {
   "cell_type": "markdown",
   "metadata": {},
   "source": [
    "### Problem 3 \n",
    "\n",
    "Bir aracın kilometrede ne kadar yaktığı ve kaç kilometre yol yaptığı bilgilerini alın ve sürücünü toplam ne kadar ödemesini gerektiğini hesaplayın."
   ]
  },
  {
   "cell_type": "code",
   "execution_count": 32,
   "metadata": {},
   "outputs": [
    {
     "name": "stdin",
     "output_type": "stream",
     "text": [
      "Aracınızın km ne kadar yaktığını giriniz: .75\n",
      "Kaç km yol gittiğinizi giriniz: 100\n"
     ]
    },
    {
     "name": "stdout",
     "output_type": "stream",
     "text": [
      "Toplam ödenmesi gereken tutar: 75.0 TL ödemeniz gerekir\n"
     ]
    }
   ],
   "source": [
    "yakıt = float(input(\"Aracınızın km ne kadar yaktığını giriniz:\"))\n",
    "km = int(input(\"Kaç km yol gittiğinizi giriniz:\"))\n",
    "print(\"Toplam ödenmesi gereken tutar: {} TL ödemeniz gerekir\".format(yakıt*km))"
   ]
  },
  {
   "cell_type": "markdown",
   "metadata": {},
   "source": [
    "### Problem 4\n",
    "\n",
    "Kullanıcıdan ad,soyad ve numara bilgisini alarak bunları alt alta ekrana yazdırın."
   ]
  },
  {
   "cell_type": "code",
   "execution_count": 33,
   "metadata": {},
   "outputs": [
    {
     "name": "stdin",
     "output_type": "stream",
     "text": [
      "Adınızı giriniz: kazım\n",
      "Soyadınızı giriniz: dayı\n",
      "Numaranızı giriniz: 5888\n"
     ]
    },
    {
     "name": "stdout",
     "output_type": "stream",
     "text": [
      "kazım\n",
      "dayı\n",
      "5888\n"
     ]
    }
   ],
   "source": [
    "ad = input(\"Adınızı giriniz:\")\n",
    "soyad = input(\"Soyadınızı giriniz:\")\n",
    "numara = input(\"Numaranızı giriniz:\")\n",
    "\n",
    "print(\"{}\\n{}\\n{}\".format(ad,soyad,numara))"
   ]
  },
  {
   "cell_type": "markdown",
   "metadata": {},
   "source": [
    "### Problem 5 \n",
    "\n",
    "Kullanıcıdan iki tane sayı isteyin ve bu sayıların değerlerini birbirleriyle değiştirin."
   ]
  },
  {
   "cell_type": "code",
   "execution_count": 34,
   "metadata": {},
   "outputs": [
    {
     "name": "stdin",
     "output_type": "stream",
     "text": [
      "Birinci sayıyı giriniz: 14\n",
      "İkinci sayıyı giriniz: 87\n"
     ]
    },
    {
     "name": "stdout",
     "output_type": "stream",
     "text": [
      "Değiştirilmeden önceki sayı değerleri\n",
      " 1.sayı: 14\n",
      " 2.sayı: 87\n",
      "Değiştirildikten sonraki sayı değerleri\n",
      " 1.sayı: 87\n",
      " 2.sayı: 14\n"
     ]
    }
   ],
   "source": [
    "sayı1 = input(\"Birinci sayıyı giriniz:\")\n",
    "sayı2 = input(\"İkinci sayıyı giriniz:\")\n",
    "\n",
    "print(\"Değiştirilmeden önceki sayı değerleri\\n 1.sayı: {}\\n 2.sayı: {}\".format(sayı1,sayı2))\n",
    "\n",
    "print(\"Değiştirildikten sonraki sayı değerleri\\n 1.sayı: {}\\n 2.sayı: {}\".format(sayı2,sayı1))"
   ]
  },
  {
   "cell_type": "markdown",
   "metadata": {},
   "source": [
    "### Problem 6"
   ]
  },
  {
   "cell_type": "markdown",
   "metadata": {},
   "source": [
    "Kullanıcıdan bir dik üçgenin dik olan iki kenarını(a,b) alın ve hipotenüs uzunluğunu bulmaya çalışın.\n",
    "\n",
    "Hipotenüs Formülü: a^2 + b^2 = c^2"
   ]
  },
  {
   "cell_type": "code",
   "execution_count": 35,
   "metadata": {
    "tags": []
   },
   "outputs": [
    {
     "name": "stdin",
     "output_type": "stream",
     "text": [
      "Birinci kenar uzunluğunu giriniz: 10\n",
      "İkinci kenar uzunluğunu giriniz: 25\n"
     ]
    },
    {
     "name": "stdout",
     "output_type": "stream",
     "text": [
      "Birinci kenar uzunluğu 10 , ikinci kenar uzunluğu 25 olan bir dik üçgenin hipotenüs uzunluğu:26.92582403567252 dir.\n"
     ]
    }
   ],
   "source": [
    "a = int(input(\"Birinci kenar uzunluğunu giriniz:\"))\n",
    "b = int(input(\"İkinci kenar uzunluğunu giriniz:\"))\n",
    "\n",
    "print(\"Birinci kenar uzunluğu {} , ikinci kenar uzunluğu {} olan bir dik üçgenin hipotenüs uzunluğu:{} dir.\".format(a,b,(a**2 + b**2)**0.5))"
   ]
  },
  {
   "cell_type": "code",
   "execution_count": null,
   "metadata": {},
   "outputs": [],
   "source": []
  }
 ],
 "metadata": {
  "kernelspec": {
   "display_name": "Python 3",
   "language": "python",
   "name": "python3"
  },
  "language_info": {
   "codemirror_mode": {
    "name": "ipython",
    "version": 3
   },
   "file_extension": ".py",
   "mimetype": "text/x-python",
   "name": "python",
   "nbconvert_exporter": "python",
   "pygments_lexer": "ipython3",
   "version": "3.9.7"
  }
 },
 "nbformat": 4,
 "nbformat_minor": 4
}
