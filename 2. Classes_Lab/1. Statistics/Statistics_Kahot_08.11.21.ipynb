{
 "cells": [
  {
   "cell_type": "code",
   "execution_count": 3,
   "id": "79677a96-c8b4-4a55-b4c2-cb9b6f70b814",
   "metadata": {},
   "outputs": [],
   "source": [
    "import numpy as np\n",
    "import pandas as pd\n",
    "from scipy import stats\n",
    "import matplotlib.pyplot as plt\n",
    "%matplotlib inline"
   ]
  },
  {
   "cell_type": "code",
   "execution_count": 2,
   "id": "05fd22c4-ce10-45cd-8ee8-a8ecf759eadd",
   "metadata": {},
   "outputs": [],
   "source": [
    "# 100 tane coin atıyoruz ve 45 ve daha küçük gelme olasılığı nedir? continuos ve\n",
    "n = 100   # deneme sayısı burada hasta sayısı\n",
    "p = 0.5  # success olasılığı \n",
    "x = 45"
   ]
  },
  {
   "cell_type": "code",
   "execution_count": 4,
   "id": "0de1fd6b-61de-4afb-ad95-4407361fe537",
   "metadata": {},
   "outputs": [
    {
     "data": {
      "text/plain": [
       "0.18410080866334827"
      ]
     },
     "execution_count": 4,
     "metadata": {},
     "output_type": "execute_result"
    }
   ],
   "source": [
    "stats.binom.cdf(x, n, p)"
   ]
  },
  {
   "cell_type": "code",
   "execution_count": 5,
   "id": "307049d0-c557-497b-9297-6d2570625694",
   "metadata": {},
   "outputs": [],
   "source": [
    "# bir zar 5 kez atılıyor ve \n",
    "n = 5   # deneme sayısı burada hasta sayısı\n",
    "p = 1/6  # success olasılığı \n",
    "x = 2"
   ]
  },
  {
   "cell_type": "code",
   "execution_count": 7,
   "id": "5ac99191-4268-4934-92ce-dfd5d981b974",
   "metadata": {},
   "outputs": [
    {
     "data": {
      "text/plain": [
       "0.16075102880658435"
      ]
     },
     "execution_count": 7,
     "metadata": {},
     "output_type": "execute_result"
    }
   ],
   "source": [
    "stats.binom.pmf(x, n, p)"
   ]
  },
  {
   "cell_type": "code",
   "execution_count": 9,
   "id": "7ea75138-3f04-40f0-b19c-686d0801c066",
   "metadata": {},
   "outputs": [],
   "source": [
    "# Moly sınavda 940 alıyor. Bundan fazla alanların oranı nedir? Normal dağılımda büyük ve eşittir ile büyük arasında bir fark yoktur.\n",
    "\n",
    "mu= 850\n",
    "std=100\n",
    "x=940"
   ]
  },
  {
   "cell_type": "code",
   "execution_count": 11,
   "id": "63a0bd73-7caa-4186-832d-fbf5f0203947",
   "metadata": {},
   "outputs": [
    {
     "data": {
      "text/plain": [
       "0.18406012534675953"
      ]
     },
     "execution_count": 11,
     "metadata": {},
     "output_type": "execute_result"
    }
   ],
   "source": [
    "1-stats.norm.cdf(x,mu,std)"
   ]
  },
  {
   "cell_type": "code",
   "execution_count": 12,
   "id": "bbec93e4-24ff-4bce-a82e-7aa5cd405d0e",
   "metadata": {},
   "outputs": [],
   "source": [
    "# 5 dk bir 4 sipariş veriliyor. 15 dk 14 sipariş verilme olasılığı nedir? \n",
    "# Önce lamdayı buluyoruz. Oda 12 dir.\n",
    "mu=12"
   ]
  },
  {
   "cell_type": "code",
   "execution_count": 14,
   "id": "d07db27d-e6b5-4f64-9288-402a17aa04cd",
   "metadata": {},
   "outputs": [
    {
     "data": {
      "text/plain": [
       "0.090488900183298"
      ]
     },
     "execution_count": 14,
     "metadata": {},
     "output_type": "execute_result"
    }
   ],
   "source": [
    "stats.poisson.pmf(14,mu)"
   ]
  },
  {
   "cell_type": "code",
   "execution_count": null,
   "id": "bdddd6c5-f30c-44b8-ac9a-aaec01b213de",
   "metadata": {},
   "outputs": [],
   "source": []
  },
  {
   "cell_type": "code",
   "execution_count": 14,
   "id": "31f267f6-2e03-42c8-ae8a-a96267ba699f",
   "metadata": {},
   "outputs": [],
   "source": [
    "n = 10   # deneme sayısı burada hasta sayısı\n",
    "p = 1/2  # success olasılığı \n",
    "x = 7"
   ]
  },
  {
   "cell_type": "code",
   "execution_count": 16,
   "id": "70379fb0-fb4e-4e98-a4e2-67372a85b8e9",
   "metadata": {},
   "outputs": [
    {
     "data": {
      "text/plain": [
       "0.171875"
      ]
     },
     "execution_count": 16,
     "metadata": {},
     "output_type": "execute_result"
    }
   ],
   "source": [
    "1-stats.binom.cdf(x-1, n, p)"
   ]
  },
  {
   "cell_type": "code",
   "execution_count": 12,
   "id": "393bf513-c541-4ad3-b03b-b52d00f88252",
   "metadata": {},
   "outputs": [],
   "source": [
    "mu=0.97"
   ]
  },
  {
   "cell_type": "code",
   "execution_count": 13,
   "id": "d250e5f6-bd20-4375-8990-0f2d529d4ba0",
   "metadata": {},
   "outputs": [
    {
     "data": {
      "text/plain": [
       "0.0"
      ]
     },
     "execution_count": 13,
     "metadata": {},
     "output_type": "execute_result"
    }
   ],
   "source": [
    "1-stats.poisson.cdf(100,mu)"
   ]
  },
  {
   "cell_type": "code",
   "execution_count": 17,
   "id": "eeceb26d-2917-4655-8821-13533bb5922b",
   "metadata": {},
   "outputs": [
    {
     "data": {
      "text/plain": [
       "0.11718750000000014"
      ]
     },
     "execution_count": 17,
     "metadata": {},
     "output_type": "execute_result"
    }
   ],
   "source": [
    "stats.binom.pmf(x,n,p)"
   ]
  },
  {
   "cell_type": "code",
   "execution_count": null,
   "id": "19075228-f186-4808-90f0-51c4cb88804c",
   "metadata": {},
   "outputs": [],
   "source": []
  }
 ],
 "metadata": {
  "kernelspec": {
   "display_name": "Python 3",
   "language": "python",
   "name": "python3"
  },
  "language_info": {
   "codemirror_mode": {
    "name": "ipython",
    "version": 3
   },
   "file_extension": ".py",
   "mimetype": "text/x-python",
   "name": "python",
   "nbconvert_exporter": "python",
   "pygments_lexer": "ipython3",
   "version": "3.8.8"
  }
 },
 "nbformat": 4,
 "nbformat_minor": 5
}
