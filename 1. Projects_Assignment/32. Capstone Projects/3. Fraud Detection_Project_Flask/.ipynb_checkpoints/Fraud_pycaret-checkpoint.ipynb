{
 "cells": [
  {
   "cell_type": "code",
   "execution_count": 1,
   "id": "102b7ede-84fd-498f-87ed-2f77f71b080f",
   "metadata": {},
   "outputs": [],
   "source": [
    "import numpy as np\n",
    "import pandas as pd\n",
    "import seaborn as sns \n",
    "import matplotlib.pyplot as plt\n",
    "from plotly.offline import init_notebook_mode, iplot\n",
    "\n",
    "\n",
    "import warnings                      \n",
    "warnings.filterwarnings(\"ignore\")\n",
    "warnings.warn(\"this will not show\")\n",
    "\n",
    "%matplotlib inline\n",
    "# %matplotlib notebook   bu notebook zorlar ancak interaktif olarak imkan sağlar.\n",
    "\n",
    "plt.rcParams[\"figure.figsize\"] = (10,6)   # tüm grafikleri bu ölcüye sabitledik.\n",
    "# plt.rcParams['figure.dpi'] = 100\n",
    "\n",
    "sns.set_style(\"whitegrid\")             # çizime özel yapılabilsede gridleri beyaz yaptı.\n",
    "pd.set_option('display.float_format', lambda x: '%.3f' % x)   # tüm floatları virgülden sonra 3 karakter verir.\n",
    "\n",
    "pd.options.display.max_rows = 100\n",
    "pd.options.display.max_columns = 100"
   ]
  },
  {
   "cell_type": "code",
   "execution_count": 3,
   "id": "500c43bd-72b9-4fa2-a116-5fc1343d725d",
   "metadata": {},
   "outputs": [],
   "source": [
    "df = pd.read_csv(\"creditcard1.csv\")"
   ]
  },
  {
   "cell_type": "code",
   "execution_count": null,
   "id": "f98e4008-c3a6-4ad0-8d97-bad04f2ecbf4",
   "metadata": {},
   "outputs": [],
   "source": [
    "!pip install pycaret"
   ]
  },
  {
   "cell_type": "code",
   "execution_count": null,
   "id": "08b985c8-2df7-413b-b6f6-842214182938",
   "metadata": {},
   "outputs": [],
   "source": [
    "from pycaret.classification import *\n",
    "clf = setup(\n",
    "            data=df, \n",
    "            target='Class', \n",
    "            session_id=44, \n",
    "            train_size=0.8\n",
    "           )"
   ]
  },
  {
   "cell_type": "code",
   "execution_count": null,
   "id": "333612c8-997d-4694-b2d0-4fcdbda65551",
   "metadata": {},
   "outputs": [],
   "source": [
    "best_model = compare_models()"
   ]
  },
  {
   "cell_type": "code",
   "execution_count": null,
   "id": "8ee7b998-025d-43ab-acdc-1896779cf6ce",
   "metadata": {},
   "outputs": [],
   "source": [
    "xgboost = create_model(\"xgboost\")"
   ]
  },
  {
   "cell_type": "code",
   "execution_count": null,
   "id": "590ea090-be53-433d-9819-20525dfd1e31",
   "metadata": {},
   "outputs": [],
   "source": [
    "tuned_xgboost = tune_model(xgboost)"
   ]
  },
  {
   "cell_type": "code",
   "execution_count": null,
   "id": "5e53b015-e564-4f93-9ffc-4a8f73fd5eda",
   "metadata": {},
   "outputs": [],
   "source": [
    "plot_model(tuned_xgboost, plot = 'confusion_matrix'"
   ]
  },
  {
   "cell_type": "code",
   "execution_count": null,
   "id": "af5f9164-e8e5-4b49-9b22-fd6788c746e8",
   "metadata": {},
   "outputs": [],
   "source": [
    "plot_model(tuned_xgboost, plot = 'boundary')"
   ]
  },
  {
   "cell_type": "code",
   "execution_count": null,
   "id": "787666b9-5aa4-4ad5-ac86-aed06aac066d",
   "metadata": {},
   "outputs": [],
   "source": [
    "pplot_model(tuned_xgboost, plot = 'class_report')"
   ]
  },
  {
   "cell_type": "code",
   "execution_count": null,
   "id": "5dec11d8-8cb0-43cc-b057-6bf6967ea383",
   "metadata": {},
   "outputs": [],
   "source": [
    "predict_model(tuned_xgboost)"
   ]
  },
  {
   "cell_type": "code",
   "execution_count": null,
   "id": "95b9c53f-0d75-4a95-a7f9-780aebefda8b",
   "metadata": {},
   "outputs": [],
   "source": [
    "finalized_xgboost = finalize_model(tuned_xgboost)"
   ]
  },
  {
   "cell_type": "code",
   "execution_count": null,
   "id": "b7ff0a79-a566-40ad-a22a-73efe739923e",
   "metadata": {},
   "outputs": [],
   "source": [
    "save_model(finalized_xgboost, 'fraud_xgboost_v4')"
   ]
  },
  {
   "cell_type": "code",
   "execution_count": null,
   "id": "35747ac5-cc8e-4864-8064-ee98cdb0d450",
   "metadata": {},
   "outputs": [],
   "source": [
    "fraud_xgboost_saved = load_model('fraud_xgboost_v4')"
   ]
  },
  {
   "cell_type": "code",
   "execution_count": null,
   "id": "8c4e06cd-a59a-47f3-819d-1c29caca34ee",
   "metadata": {},
   "outputs": [],
   "source": [
    "Pipeline(memory=None,\n",
    "          steps=[('dtypes',\n",
    "                  DataTypes_Auto_infer(categorical_features=[],\n",
    "                                       display_types=True, features_todrop=[],\n",
    "                                       id_columns=[],\n",
    "                                       ml_usecase='classification',\n",
    "                                       numerical_features=[], target='species',\n",
    "                                       time_features=[])),\n",
    "                 ('imputer',\n",
    "                  Simple_Imputer(categorical_strategy='not_available',\n",
    "                                 fill_value_categorical=None,\n",
    "                                 fill_value_numerical=None,\n",
    "                                 numeric_stra...\n",
    "                                interaction_constraints='', learning_rate=0.4,\n",
    "                                max_delta_step=0, max_depth=8,\n",
    "                                min_child_weight=3, missing=nan,\n",
    "                                monotone_constraints='()', n_estimators=140,\n",
    "                                n_jobs=-1, num_parallel_tree=1,\n",
    "                                objective='multi:softprob', random_state=44,\n",
    "                                reg_alpha=0.1, reg_lambda=1e-07,\n",
    "                                scale_pos_weight=12.100000000000001, subsample=1,\n",
    "                                tree_method='auto', use_label_encoder=True,\n",
    "                                validate_parameters=1, verbosity=0)]],\n",
    "          verbose=False),\n",
    " 'finalized_xgboost_model_2021-04-11 12:39.pkl')"
   ]
  }
 ],
 "metadata": {
  "kernelspec": {
   "display_name": "Python 3 (ipykernel)",
   "language": "python",
   "name": "python3"
  },
  "language_info": {
   "codemirror_mode": {
    "name": "ipython",
    "version": 3
   },
   "file_extension": ".py",
   "mimetype": "text/x-python",
   "name": "python",
   "nbconvert_exporter": "python",
   "pygments_lexer": "ipython3",
   "version": "3.9.7"
  }
 },
 "nbformat": 4,
 "nbformat_minor": 5
}
