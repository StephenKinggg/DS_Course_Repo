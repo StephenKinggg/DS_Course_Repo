{
 "cells": [
  {
   "cell_type": "markdown",
   "metadata": {
    "id": "jx3Ut_rjMuHR"
   },
   "source": [
    "___\n",
    "\n",
    "<p style=\"text-align: center;\"><img src=\"https://docs.google.com/uc?id=1lY0Uj5R04yMY3-ZppPWxqCr5pvBLYPnV\" class=\"img-fluid\" alt=\"CLRSWY\"></p>\n",
    "\n",
    "___"
   ]
  },
  {
   "cell_type": "markdown",
   "metadata": {
    "id": "-24P_wByMuHX"
   },
   "source": [
    "# WELCOME!"
   ]
  },
  {
   "cell_type": "markdown",
   "metadata": {
    "id": "Ow9AD-4vMuHX"
   },
   "source": [
    "Welcome to \"***Fraud Detection Project***\". This is the last project of the Capstone Series.\n",
    "\n",
    "One of the challenges in this project is the absence of domain knowledge. So without knowing what the column names are, you will only be interested in their values. The other one is the class frequencies of the target variable are quite imbalanced.\n",
    "\n",
    "You will implement ***Logistic Regression, Random Forest, Neural Network*** algorithms and ***SMOTE*** technique. Also visualize performances of the models using ***Seaborn, Matplotlib*** and ***Yellowbrick*** in a variety of ways.\n",
    "\n",
    "At the end of the project, you will have the opportunity to deploy your model by ***Flask API***.\n",
    "\n",
    "Before diving into the project, please take a look at the Determines and Tasks.\n",
    "\n",
    "- ***NOTE:*** *This tutorial assumes that you already know the basics of coding in Python and are familiar with model deployement (flask api) as well as the theory behind Logistic Regression, Random Forest, Neural Network.*\n",
    "\n"
   ]
  },
  {
   "cell_type": "markdown",
   "metadata": {
    "id": "dqbMkIZ-MuHY"
   },
   "source": [
    "---\n",
    "---\n"
   ]
  },
  {
   "cell_type": "markdown",
   "metadata": {
    "id": "spCFDhO7MuHY"
   },
   "source": [
    "# #Determines\n",
    "The datasets contains transactions made by credit cards in September 2013 by european cardholders. This dataset presents transactions that occurred in two days, where it has **492 frauds** out of **284,807** transactions. The dataset is **highly unbalanced**, the positive class (frauds) account for 0.172% of all transactions.\n",
    "\n",
    "**Feature Information:**\n",
    "\n",
    "**Time**: This feature is contains the seconds elapsed between each transaction and the first transaction in the dataset. \n",
    "\n",
    "**Amount**:  This feature is the transaction Amount, can be used for example-dependant cost-senstive learning. \n",
    "\n",
    "**Class**: This feature is the target variable and it takes value 1 in case of fraud and 0 otherwise.\n",
    "\n",
    "---\n",
    "\n",
    "The aim of this project is to predict whether a credit card transaction is fraudulent. Of course, this is not easy to do.\n",
    "First of all, you need to analyze and recognize your data well in order to draw your roadmap and choose the correct arguments you will use. Accordingly, you can examine the frequency distributions of variables. You can observe variable correlations and want to explore multicollinearity. You can show the distribution of the target variable's classes over other variables. \n",
    "Also, it is useful to take missing values and outliers.\n",
    "\n",
    "After these procedures, you can move on to the model building stage by doing the basic data pre-processing you are familiar with. \n",
    "\n",
    "Start with Logistic Regression and evaluate model performance. You will apply the SMOTE technique used to increase the sample for unbalanced data. Next, rebuild your Logistic Regression model with SMOTE applied data to observe its effect.\n",
    "\n",
    "Then, you will use three different algorithms in the model building phase. You have applied Logistic Regression and Random Forest in your previous projects. However, the Deep Learning Neural Network algorithm will appear for the first time.\n",
    "\n",
    "In the final step, you will deploy your model using ***Flask API***. \n",
    "\n",
    "**Optional**: You can Dockerize your project and deploy on cloud."
   ]
  },
  {
   "cell_type": "markdown",
   "metadata": {
    "id": "YOl6z9mXMuHY"
   },
   "source": [
    "---\n",
    "---\n"
   ]
  },
  {
   "cell_type": "markdown",
   "metadata": {
    "id": "1o6X3hLLMuHZ"
   },
   "source": [
    "# #Tasks\n",
    "\n",
    "#### 1. Exploratory Data Analysis & Data Cleaning\n",
    "\n",
    "- Import Modules, Load Data & Data Review\n",
    "- Exploratory Data Analysis\n",
    "- Data Cleaning\n",
    "\n",
    "\n",
    "\n",
    "    \n",
    "#### 2. Data Preprocessing\n",
    "\n",
    "- Scaling\n",
    "- Train - Test Split\n",
    "\n",
    "\n",
    "#### 3. Model Building\n",
    "\n",
    "- Logistic Regression without SMOTE\n",
    "- Apply SMOTE\n",
    "- Logistic Regression with SMOTE\n",
    "- Random Forest Classifier with SMOTE\n",
    "- Neural Network\n",
    "\n",
    "#### 4. Model Deployement\n",
    "\n",
    "- Save and Export the Model as .pkl\n",
    "- Save and Export Variables as .pkl \n",
    "\n",
    "\n"
   ]
  },
  {
   "cell_type": "markdown",
   "metadata": {
    "id": "9sDSWJywMuHZ"
   },
   "source": [
    "---\n",
    "---\n"
   ]
  },
  {
   "cell_type": "markdown",
   "metadata": {
    "id": "tMOO7g-sMuHb"
   },
   "source": [
    "---\n",
    "---\n"
   ]
  },
  {
   "cell_type": "markdown",
   "metadata": {
    "id": "HO4HAIofMuHc"
   },
   "source": [
    "---\n",
    "---\n"
   ]
  },
  {
   "cell_type": "markdown",
   "metadata": {
    "id": "MwQdl4PdJQ0I"
   },
   "source": [
    "## 3. Model Building\n",
    "It was previously stated that you need to make class prediction with three different algorithms. As in this case, different approaches are required to obtain better performance on unbalanced data.\n",
    "\n",
    "This dataset is severely **unbalanced** (most of the transactions are non-fraud). So the algorithms are much more likely to classify new observations to the majority class and high accuracy won't tell us anything. To address the problem of imbalanced dataset we can use undersampling and oversampling data approach techniques. Oversampling increases the number of minority class members in the training set. The advantage of oversampling is that no information from the original training set is lost unlike in undersampling, as all observations from the minority and majority classes are kept. On the other hand, it is prone to overfitting. \n",
    "\n",
    "There is a type of oversampling called **[SMOTE](https://www.geeksforgeeks.org/ml-handling-imbalanced-data-with-smote-and-near-miss-algorithm-in-python/)** (Synthetic Minority Oversampling Technique), which we are going to use to make our dataset balanced. It creates synthetic points from the minority class.\n",
    "\n",
    "- It is important that you can evaluate the effectiveness of SMOTE. For this reason, implement the Logistic Regression algorithm in two different ways, with SMOTE applied and without.\n",
    "\n",
    "***Note***: \n",
    "\n",
    "- *Do not forget to import the necessary libraries and modules before starting the model building!*\n",
    "\n",
    "- *If you are going to use the cross validation method to be more sure of the performance of your model for unbalanced data, you should make sure that the class distributions in the iterations are equal. For this case, you should use **[StratifiedKFold](https://www.analyseup.com/python-machine-learning/stratified-kfold.html)** instead of regular cross validation method.*"
   ]
  },
  {
   "cell_type": "markdown",
   "metadata": {
    "id": "zKZcwgucJQ0I"
   },
   "source": [
    "### Logistic Regression without SMOTE\n",
    "\n",
    "- The steps you are going to cover for this algorithm are as follows: \n",
    "\n",
    "   i. Import Libraries\n",
    "   \n",
    "   *ii. Model Training*\n",
    "   \n",
    "   *iii. Prediction and Model Evaluating*\n",
    "   \n",
    "   *iv. Plot Precision and Recall Curve*\n",
    "   \n",
    "   *v. Apply and Plot StratifiedKFold*"
   ]
  },
  {
   "cell_type": "markdown",
   "metadata": {
    "id": "o48s5BCdMuHd"
   },
   "source": [
    "***i. Import Libraries***"
   ]
  },
  {
   "cell_type": "code",
   "execution_count": 31,
   "metadata": {
    "id": "B1XX0mNQfTQr"
   },
   "outputs": [],
   "source": [
    "from sklearn.ensemble import RandomForestClassifier,GradientBoostingClassifier\n",
    "from sklearn.neighbors import KNeighborsClassifier\n",
    "\n",
    "from sklearn.compose import ColumnTransformer,make_column_transformer\n",
    "from sklearn.pipeline import Pipeline, make_pipeline\n",
    "from sklearn.preprocessing import MinMaxScaler,StandardScaler,RobustScaler,OrdinalEncoder,OneHotEncoder\n",
    "\n",
    "from sklearn.model_selection import train_test_split,cross_val_score,cross_validate,GridSearchCV\n",
    "\n",
    "from sklearn.metrics import confusion_matrix,classification_report,plot_confusion_matrix\n",
    "from sklearn.metrics import accuracy_score, f1_score,recall_score,precision_score\n",
    "from sklearn.metrics import average_precision_score,precision_recall_curve,plot_precision_recall_curve\n",
    "\n",
    "from yellowbrick.classifier import PrecisionRecallCurve\n",
    "from yellowbrick.classifier import ClassPredictionError"
   ]
  },
  {
   "cell_type": "markdown",
   "metadata": {
    "id": "6KD76bc5MuHd"
   },
   "source": [
    "***ii. Model Training***"
   ]
  },
  {
   "cell_type": "code",
   "execution_count": 32,
   "metadata": {
    "id": "g7GAK-u3MuHd"
   },
   "outputs": [],
   "source": [
    "operations = [(\"scaler\", StandardScaler()), (\"log\", LogisticRegression(max_iter=10000 ,random_state=42))] # , class_weight=\"balanced\""
   ]
  },
  {
   "cell_type": "code",
   "execution_count": 33,
   "metadata": {
    "id": "2zU6fqw7fTQs"
   },
   "outputs": [],
   "source": [
    "log_model = Pipeline(steps=operations)"
   ]
  },
  {
   "cell_type": "code",
   "execution_count": 34,
   "metadata": {
    "colab": {
     "base_uri": "https://localhost:8080/"
    },
    "id": "2aBSqrV5fTQs",
    "outputId": "6d03ead1-dea7-4ed6-a8a0-47208b4fa71e"
   },
   "outputs": [
    {
     "data": {
      "text/plain": [
       "Pipeline(steps=[('scaler', StandardScaler()),\n",
       "                ('log', LogisticRegression(max_iter=10000, random_state=42))])"
      ]
     },
     "execution_count": 34,
     "metadata": {},
     "output_type": "execute_result"
    }
   ],
   "source": [
    "log_model.fit(X_train, y_train)"
   ]
  },
  {
   "cell_type": "markdown",
   "metadata": {
    "id": "uvKAJVTNMuHd"
   },
   "source": [
    "***iii. Prediction and Model Evaluating***"
   ]
  },
  {
   "cell_type": "code",
   "execution_count": 35,
   "metadata": {
    "colab": {
     "base_uri": "https://localhost:8080/"
    },
    "id": "2r4OWgHRfTQs",
    "outputId": "4081660a-9328-440b-d4f1-8b881c8249cc"
   },
   "outputs": [
    {
     "data": {
      "text/plain": [
       "0.9991807403766253"
      ]
     },
     "execution_count": 35,
     "metadata": {},
     "output_type": "execute_result"
    }
   ],
   "source": [
    "y_pred = log_model.predict(X_test)\n",
    "accuracy_score(y_test, y_pred)"
   ]
  },
  {
   "cell_type": "code",
   "execution_count": 36,
   "metadata": {
    "colab": {
     "base_uri": "https://localhost:8080/"
    },
    "id": "Kb68hH1TMuHd",
    "outputId": "1c1595fa-4751-4703-94ba-489f2efdb73a"
   },
   "outputs": [
    {
     "name": "stdout",
     "output_type": "stream",
     "text": [
      "Test_Set\n",
      "[[85280    15]\n",
      " [   55    93]]\n",
      "              precision    recall  f1-score   support\n",
      "\n",
      "           0       1.00      1.00      1.00     85295\n",
      "           1       0.86      0.63      0.73       148\n",
      "\n",
      "    accuracy                           1.00     85443\n",
      "   macro avg       0.93      0.81      0.86     85443\n",
      "weighted avg       1.00      1.00      1.00     85443\n",
      "\n",
      "\n",
      "Train_Set\n",
      "[[198991     29]\n",
      " [   121    223]]\n",
      "              precision    recall  f1-score   support\n",
      "\n",
      "           0       1.00      1.00      1.00    199020\n",
      "           1       0.88      0.65      0.75       344\n",
      "\n",
      "    accuracy                           1.00    199364\n",
      "   macro avg       0.94      0.82      0.87    199364\n",
      "weighted avg       1.00      1.00      1.00    199364\n",
      "\n"
     ]
    }
   ],
   "source": [
    "eval_metric(log_model, X_train, y_train, X_test, y_test)"
   ]
  },
  {
   "cell_type": "markdown",
   "metadata": {
    "id": "DAQbcNCWfTQt"
   },
   "source": [
    "Imbalanced datasetlerinde Accuracy değeri burada bizim için iyi bir insight sağlamıyor. Çünkü baktığımızda recall değerlerinin düşük, precission scorelarının yüksek olduğunu görüyoruz. Modelimizin tahmin gücünün yüksek olduğunu ancak tahminlerinin doğruluğunun düşük olduğunu söyleyebiliriz. \n",
    "\n",
    "Ancak Fraud işlemlerini tespit ederken benim için precission önemli olabilir. Çünkü bunun bankaya maliyeti sadece mesaj atmak. Burada amaç recall tam tahmin etmektir. Bu durumda precission düşük olmasının çok büyük bir önemi yoktur. "
   ]
  },
  {
   "cell_type": "markdown",
   "metadata": {
    "id": "3I9xxgqCfTQt"
   },
   "source": [
    "### CV"
   ]
  },
  {
   "cell_type": "code",
   "execution_count": 37,
   "metadata": {
    "colab": {
     "base_uri": "https://localhost:8080/"
    },
    "id": "KpmK9fi4fTQt",
    "outputId": "a20091ce-05eb-48b2-bc6b-73e3155e8be0"
   },
   "outputs": [
    {
     "data": {
      "text/plain": [
       "test_accuracy    0.999\n",
       "test_precision   0.873\n",
       "test_recall      0.645\n",
       "test_f1          0.741\n",
       "test_roc_auc     0.979\n",
       "dtype: float64"
      ]
     },
     "execution_count": 37,
     "metadata": {},
     "output_type": "execute_result"
    }
   ],
   "source": [
    "model = Pipeline(steps=[(\"scaler\", StandardScaler()), (\"log\", LogisticRegression(max_iter=10000, random_state=42))])\n",
    "\n",
    "scores = cross_validate(model, X_train, y_train, scoring=['accuracy', 'precision', 'recall', 'f1', 'roc_auc'], cv=5)\n",
    "\n",
    "df_scores = pd.DataFrame(scores, index=range(1, 6))\n",
    "df_scores.mean()[2:]"
   ]
  },
  {
   "cell_type": "markdown",
   "metadata": {
    "id": "OflTVyqnfTQt"
   },
   "source": [
    "### GridSearchCV"
   ]
  },
  {
   "cell_type": "markdown",
   "metadata": {
    "id": "FKvZrGhd8byn"
   },
   "source": [
    "Gridsearch te scoring olarak f1 aldığımızda class_weight=None, C= 0,18 olarak geldi. Best score, 0.74 olarak bulduk."
   ]
  },
  {
   "cell_type": "code",
   "execution_count": 43,
   "metadata": {
    "colab": {
     "base_uri": "https://localhost:8080/"
    },
    "id": "ewLn7LjhfTQt",
    "outputId": "58947041-93ad-42fb-f96a-84b4da8ae9f8"
   },
   "outputs": [
    {
     "name": "stdout",
     "output_type": "stream",
     "text": [
      "Fitting 5 folds for each of 80 candidates, totalling 400 fits\n",
      "CPU times: user 13.3 s, sys: 3.03 s, total: 16.4 s\n",
      "Wall time: 8min 1s\n",
      "\n",
      " {'log__C': 0.1, 'log__class_weight': 'balanced', 'log__penalty': 'l2'}\n",
      "\n",
      " Pipeline(steps=[('scaler', StandardScaler()),\n",
      "                ('log',\n",
      "                 LogisticRegression(C=0.1, class_weight='balanced',\n",
      "                                    max_iter=10000, random_state=42))])\n",
      "\n",
      " Best Score : 0.9214407502131288\n"
     ]
    }
   ],
   "source": [
    "model = Pipeline(steps=[\n",
    "    (\"scaler\", StandardScaler()), \n",
    "    (\"log\", LogisticRegression(max_iter=10000, random_state=42))\n",
    "])\n",
    "\n",
    "\n",
    "param_grid = {\"log__penalty\":[\"l1\",\"l2\"], \"log__C\": np.logspace(-1, 5, 20),\n",
    "             \"log__class_weight\":[\"balanced\", None]}  # \"log__solver\" : [\"sag\", \"saga\"]\n",
    "\n",
    "%time log_grid_model = GridSearchCV(model, param_grid, scoring='recall', cv=5, verbose=1, n_jobs=-1).fit(X_train, y_train)\n",
    "\n",
    "print('\\n', log_grid_model.best_params_)\n",
    "print('\\n', log_grid_model.best_estimator_)\n",
    "print('\\n', 'Best Score :', log_grid_model.best_score_)"
   ]
  },
  {
   "cell_type": "markdown",
   "metadata": {
    "id": "l193OP5fMuHd"
   },
   "source": [
    "\n",
    "You're evaluating \"accuracy score\"? Is your performance metric reflect real success? You may need to use different metrics to evaluate performance on unbalanced data. You should use **[precision and recall metrics](https://scikit-learn.org/stable/auto_examples/model_selection/plot_precision_recall.html#:~:text=The%20precision%2Drecall%20curve%20shows,a%20low%20false%20negative%20rate.)**."
   ]
  },
  {
   "cell_type": "markdown",
   "metadata": {
    "id": "fUDt5voIMuHe"
   },
   "source": [
    "***iv. Plot Precision and Recall Curve***\n"
   ]
  },
  {
   "cell_type": "code",
   "execution_count": 44,
   "metadata": {
    "colab": {
     "base_uri": "https://localhost:8080/",
     "height": 388
    },
    "id": "WI0OI9SDMuHe",
    "outputId": "fd5da603-2935-41f7-834e-fcbfa0e2b8e1"
   },
   "outputs": [
    {
     "data": {
      "image/png": "[encoded data removed]",
      "text/plain": [
       "<Figure size 1008x432 with 2 Axes>"
      ]
     },
     "metadata": {},
     "output_type": "display_data"
    }
   ],
   "source": [
    "plt.figure(figsize=(14,6))\n",
    "\n",
    "y_pred = log_grid_model.predict(X_test)\n",
    "cf_matrix = confusion_matrix(y_test, y_pred)\n",
    "\n",
    "group_names = ['True Negatives (TN)', 'False Positives (FP)\\n(Type I Error)', \n",
    "               'False Negatives (FN)\\n(Type II Error)', 'True Positives (TP)']\n",
    "group_counts = ['{0:0.0f}'.format(value) for value in cf_matrix.flatten()]\n",
    "group_percentages = ['{0:.2%}'.format(value) for value in cf_matrix.flatten()/np.sum(cf_matrix)]\n",
    "\n",
    "labels = [f'{v1}\\n{v2}\\n{v3}' for v1, v2, v3 in zip(group_names, group_counts, group_percentages)]\n",
    "\n",
    "labels = np.asarray(labels).reshape(2, 2)\n",
    "\n",
    "ax = sns.heatmap(cf_matrix, annot=labels, fmt=\"\", annot_kws={'size': 13}, cmap='viridis')\n",
    "ax.set(xlabel='Predicted Class', ylabel = 'Actual Class');"
   ]
  },
  {
   "cell_type": "code",
   "execution_count": 45,
   "metadata": {
    "colab": {
     "base_uri": "https://localhost:8080/",
     "height": 441
    },
    "id": "JDEmk5tffTQu",
    "outputId": "d1bf2b79-aee1-4620-9a74-a8b27e41ee62"
   },
   "outputs": [
    {
     "data": {
      "image/png": "[encoded data removed]",
      "text/plain": [
       "<Figure size 720x432 with 1 Axes>"
      ]
     },
     "metadata": {},
     "output_type": "display_data"
    }
   ],
   "source": [
    "from yellowbrick.classifier import ClassPredictionError\n",
    "\n",
    "visualizer = ClassPredictionError(log_grid_model)\n",
    "\n",
    "visualizer.fit(X_train, y_train)\n",
    "visualizer.score(X_test, y_test)\n",
    "\n",
    "visualizer.poof();"
   ]
  },
  {
   "cell_type": "code",
   "execution_count": 46,
   "metadata": {
    "colab": {
     "base_uri": "https://localhost:8080/",
     "height": 404
    },
    "id": "3CzKdtlOfTQu",
    "outputId": "88b1b57c-e704-43a4-f282-00e88ac295d3"
   },
   "outputs": [
    {
     "data": {
      "image/png": "[encoded data removed]",
      "text/plain": [
       "<Figure size 720x432 with 1 Axes>"
      ]
     },
     "metadata": {},
     "output_type": "display_data"
    }
   ],
   "source": [
    "viz = PrecisionRecallCurve(log_grid_model)   \n",
    "# plot_precision_recall_curve(log_model, X_test, y_test);\n",
    "\n",
    "viz.fit(X_train, y_train)\n",
    "viz.score(X_test, y_test)\n",
    "viz.show();"
   ]
  },
  {
   "cell_type": "code",
   "execution_count": 55,
   "metadata": {
    "colab": {
     "base_uri": "https://localhost:8080/"
    },
    "id": "iY-WQXKpfTQu",
    "outputId": "5b77e503-7aa5-49b1-8f92-bfd84e5c0282"
   },
   "outputs": [
    {
     "data": {
      "text/plain": [
       "0.6960013182770318"
      ]
     },
     "execution_count": 55,
     "metadata": {},
     "output_type": "execute_result"
    }
   ],
   "source": [
    "y_pred_proba = log_grid_model.predict_proba(X_test)\n",
    "average_precision_score(y_test, y_pred_proba[:,1])"
   ]
  },
  {
   "cell_type": "code",
   "execution_count": 56,
   "metadata": {
    "colab": {
     "base_uri": "https://localhost:8080/"
    },
    "id": "FdH3AKg09eHz",
    "outputId": "fda114f0-e46d-4622-8190-9195cc19d20a"
   },
   "outputs": [
    {
     "data": {
      "text/plain": [
       "0.7673120296032372"
      ]
     },
     "execution_count": 56,
     "metadata": {},
     "output_type": "execute_result"
    }
   ],
   "source": [
    "y_pred_proba = log_grid_model.predict_proba(X_train)\n",
    "average_precision_score(y_train, y_pred_proba[:,1])"
   ]
  },
  {
   "cell_type": "markdown",
   "metadata": {
    "id": "CAzArHfTMuHe"
   },
   "source": [
    "***v. Apply and Plot StratifiedKFold***"
   ]
  },
  {
   "cell_type": "code",
   "execution_count": 57,
   "metadata": {
    "id": "vHCZvcXcfTQv"
   },
   "outputs": [],
   "source": [
    "precisions, recalls, thresholds = precision_recall_curve(y_train, y_pred_proba[:,1])"
   ]
  },
  {
   "cell_type": "code",
   "execution_count": 52,
   "metadata": {
    "colab": {
     "base_uri": "https://localhost:8080/"
    },
    "id": "aDfpjCLVfTQv",
    "outputId": "8a622496-0b3d-43bc-cb1d-b9584ed97a86"
   },
   "outputs": [
    {
     "data": {
      "text/plain": [
       "0.9999999754693568"
      ]
     },
     "execution_count": 52,
     "metadata": {},
     "output_type": "execute_result"
    }
   ],
   "source": [
    "optimal_idx = np.argmax((2 * precisions * recalls) / (precisions + recalls))\n",
    "optimal_threshold = thresholds[optimal_idx]\n",
    "optimal_threshold"
   ]
  },
  {
   "cell_type": "code",
   "execution_count": 58,
   "metadata": {
    "colab": {
     "base_uri": "https://localhost:8080/"
    },
    "id": "1e0y7ImW9M7H",
    "outputId": "82f89613-4eb4-4a59-d0c2-1fa76a3a0236"
   },
   "outputs": [
    {
     "name": "stdout",
     "output_type": "stream",
     "text": [
      "[[85278    17]\n",
      " [   38   110]]\n",
      "              precision    recall  f1-score   support\n",
      "\n",
      "           0       1.00      1.00      1.00     85295\n",
      "           1       0.87      0.74      0.80       148\n",
      "\n",
      "    accuracy                           1.00     85443\n",
      "   macro avg       0.93      0.87      0.90     85443\n",
      "weighted avg       1.00      1.00      1.00     85443\n",
      "\n"
     ]
    }
   ],
   "source": [
    "y_pred2 = pd.Series(log_grid_model.predict_proba(X_test)[:,1]).apply(lambda x : 1 if x >= optimal_threshold else 0)\n",
    "\n",
    "print(confusion_matrix(y_test,y_pred2))\n",
    "print(classification_report(y_test,y_pred2))"
   ]
  },
  {
   "cell_type": "code",
   "execution_count": 59,
   "metadata": {
    "colab": {
     "base_uri": "https://localhost:8080/"
    },
    "id": "N9_9bWAg9NGj",
    "outputId": "dff777f3-5989-4cb8-cb46-f94bdde916a2"
   },
   "outputs": [
    {
     "name": "stdout",
     "output_type": "stream",
     "text": [
      "[[198987     33]\n",
      " [    79    265]]\n",
      "              precision    recall  f1-score   support\n",
      "\n",
      "           0       1.00      1.00      1.00    199020\n",
      "           1       0.89      0.77      0.83       344\n",
      "\n",
      "    accuracy                           1.00    199364\n",
      "   macro avg       0.94      0.89      0.91    199364\n",
      "weighted avg       1.00      1.00      1.00    199364\n",
      "\n"
     ]
    }
   ],
   "source": [
    "y_train_pred2 = pd.Series(log_grid_model.predict_proba(X_train)[:,1]).apply(lambda x : 1 if x >= optimal_threshold else 0)\n",
    "\n",
    "print(confusion_matrix(y_train, y_train_pred2))\n",
    "print(classification_report(y_train, y_train_pred2))"
   ]
  },
  {
   "cell_type": "code",
   "execution_count": 62,
   "metadata": {
    "id": "a0DZ7H_h9Ojs"
   },
   "outputs": [],
   "source": [
    "from sklearn.model_selection import StratifiedKFold\n",
    "\n",
    "def CV(n, est, X, y, optimal_threshold):\n",
    "    skf = StratifiedKFold(n_splits = n, shuffle = True, random_state = 42)\n",
    "    acc_scores = []\n",
    "    pre_scores = []\n",
    "    rec_scores = []\n",
    "    f1_scores  = []\n",
    "    \n",
    "    X = X.reset_index(drop=True)  # modele vermeden önce model başında indeksleri sıfırlıyoruz.\n",
    "    y = y.reset_index(drop=True)\n",
    "    \n",
    "    for train_index, test_index in skf.split(X, y): \n",
    " # yukarıda belirlediğim indekslere göre aşağıda train ve test setlerini yeniden oluşturuyor.\n",
    "        \n",
    "        X_train = X.loc[train_index]\n",
    "        y_train = y.loc[train_index]\n",
    "        X_test = X.loc[test_index]\n",
    "        y_test = y.loc[test_index]\n",
    "        \n",
    "        \n",
    "        est = est\n",
    "        est.fit(X_train, y_train)\n",
    "        y_pred = est.predict(X_test)\n",
    "        y_pred_proba = est.predict_proba(X_test)\n",
    "             \n",
    "        y_pred2 = pd.Series(y_pred_proba[:,1]).apply(lambda x : 1 if x >= optimal_threshold else 0)\n",
    "        \n",
    "        acc_scores.append(accuracy_score(y_test, y_pred2))\n",
    "        pre_scores.append(precision_score(y_test, y_pred2, pos_label=1))\n",
    "        rec_scores.append(recall_score(y_test, y_pred2, pos_label=1))\n",
    "        f1_scores.append(f1_score(y_test, y_pred2, pos_label=1))\n",
    "    \n",
    "    print(f'Accuracy {np.mean(acc_scores)*100:>10,.2f}%  std {np.std(acc_scores)*100:.2f}%')\n",
    "    print(f'Precision-1 {np.mean(pre_scores)*100:>7,.2f}%  std {np.std(pre_scores)*100:.2f}%')\n",
    "    print(f'Recall-1 {np.mean(rec_scores)*100:>10,.2f}%  std {np.std(rec_scores)*100:.2f}%')\n",
    "    print(f'F1_score-1 {np.mean(f1_scores)*100:>8,.2f}%  std {np.std(f1_scores)*100:.2f}%')"
   ]
  },
  {
   "cell_type": "code",
   "execution_count": 65,
   "metadata": {
    "colab": {
     "base_uri": "https://localhost:8080/"
    },
    "id": "lH2VhPhtAhNt",
    "outputId": "ad242ed4-a1fc-4377-9159-f1258f2936bd"
   },
   "outputs": [
    {
     "name": "stdout",
     "output_type": "stream",
     "text": [
      "Fitting 5 folds for each of 80 candidates, totalling 400 fits\n",
      "Fitting 5 folds for each of 80 candidates, totalling 400 fits\n",
      "Fitting 5 folds for each of 80 candidates, totalling 400 fits\n",
      "Fitting 5 folds for each of 80 candidates, totalling 400 fits\n",
      "Fitting 5 folds for each of 80 candidates, totalling 400 fits\n",
      "Accuracy      99.94%  std 0.01%\n",
      "Precision-1   87.67%  std 4.28%\n",
      "Recall-1      76.45%  std 5.13%\n",
      "F1_score-1    81.62%  std 4.43%\n"
     ]
    }
   ],
   "source": [
    "#model = Pipeline(steps=[('scaler', StandardScaler()),\n",
    "#                ('log', LogisticRegression(C=0.1, class_weight='balanced', penalty='l2',\n",
    "#                                    max_iter=10000, random_state=42))])\n",
    "CV(5, log_grid_model, pd.DataFrame(X_train), y_train, optimal_threshold)"
   ]
  },
  {
   "cell_type": "code",
   "execution_count": 67,
   "metadata": {
    "colab": {
     "base_uri": "https://localhost:8080/"
    },
    "id": "zqjOEUr9_Epe",
    "outputId": "d3b75d57-b8d4-4b9a-d15d-384622cf54fc"
   },
   "outputs": [
    {
     "name": "stdout",
     "output_type": "stream",
     "text": [
      "[     0      1      2 ... 284804 284805 284806] [     7      9     35 ... 284739 284770 284778]\n",
      "[     0      1      2 ... 284804 284805 284806] [     5     10     16 ... 284772 284793 284799]\n",
      "[     0      3      4 ... 284804 284805 284806] [     1      2     13 ... 284774 284776 284792]\n",
      "[     0      1      2 ... 284804 284805 284806] [    23     28     32 ... 284786 284797 284801]\n",
      "[     1      2      3 ... 284801 284803 284805] [     0     12     20 ... 284802 284804 284806]\n",
      "[     0      1      2 ... 284803 284804 284806] [     3      4      6 ... 284780 284781 284805]\n",
      "[     0      1      2 ... 284804 284805 284806] [    14     27     33 ... 284790 284795 284796]\n",
      "[     0      1      2 ... 284804 284805 284806] [    19     66     76 ... 284784 284788 284800]\n",
      "[     0      1      2 ... 284804 284805 284806] [    11     15     22 ... 284765 284785 284789]\n",
      "[     0      1      2 ... 284804 284805 284806] [    46     48     99 ... 284791 284794 284803]\n"
     ]
    }
   ],
   "source": [
    "skf = StratifiedKFold(n_splits = 10, shuffle = True, random_state = 42)\n",
    "for train_index, test_index in skf.split(X, y):\n",
    "    print(train_index, test_index)"
   ]
  },
  {
   "cell_type": "code",
   "execution_count": 68,
   "metadata": {
    "colab": {
     "base_uri": "https://localhost:8080/"
    },
    "id": "rH7iOwSHfTQw",
    "outputId": "f32e08fd-6f41-4f67-ab97-2105dd338f3b"
   },
   "outputs": [
    {
     "data": {
      "text/plain": [
       "0.22650895944999547"
      ]
     },
     "execution_count": 68,
     "metadata": {},
     "output_type": "execute_result"
    }
   ],
   "source": [
    "from sklearn.metrics import matthews_corrcoef\n",
    "\n",
    "y_pred = log_grid_model.predict(X_test)\n",
    "\n",
    "matthews_corrcoef(y_test, y_pred)"
   ]
  },
  {
   "cell_type": "code",
   "execution_count": 69,
   "metadata": {
    "colab": {
     "base_uri": "https://localhost:8080/"
    },
    "id": "Crq1MdN1fTQx",
    "outputId": "361b832a-a4e4-4807-e002-98ee54d5d848"
   },
   "outputs": [
    {
     "data": {
      "text/plain": [
       "0.11141076670101402"
      ]
     },
     "execution_count": 69,
     "metadata": {},
     "output_type": "execute_result"
    }
   ],
   "source": [
    "from sklearn.metrics import cohen_kappa_score\n",
    "\n",
    "cohen_kappa_score(y_test, y_pred)"
   ]
  },
  {
   "cell_type": "markdown",
   "metadata": {
    "id": "bwELs8xsJQ0Q"
   },
   "source": [
    "- Didn't the performance of the model you implemented above satisfy you? If your model is biased towards the majority class and minority class recall is not sufficient, apply **SMOTE**."
   ]
  },
  {
   "cell_type": "markdown",
   "metadata": {
    "id": "f-Hmr1KjDJ0P"
   },
   "source": [
    "SHAPE"
   ]
  },
  {
   "cell_type": "code",
   "execution_count": 70,
   "metadata": {
    "id": "DRC7kaZpDUWN"
   },
   "outputs": [],
   "source": [
    "X = df.drop(\"Class\", axis=1)\n",
    "y = df[\"Class\"]\n",
    "\n",
    "X_train, X_test, y_train, y_test = train_test_split(X, y, stratify=y, test_size=0.2, random_state=42)"
   ]
  },
  {
   "cell_type": "code",
   "execution_count": 93,
   "metadata": {
    "id": "rIWDjgCHDB28"
   },
   "outputs": [],
   "source": [
    "scaler = StandardScaler()\n",
    "X_train_scaled = scaler.fit_transform(X_train)\n",
    "X_test_scaled = scaler.transform(X_test)"
   ]
  },
  {
   "cell_type": "code",
   "execution_count": 94,
   "metadata": {
    "colab": {
     "base_uri": "https://localhost:8080/"
    },
    "id": "KVjhpwbfDB6k",
    "outputId": "fa77c6f4-6c8d-4592-a65b-b448c0431a0f"
   },
   "outputs": [
    {
     "data": {
      "text/plain": [
       "LogisticRegression(C=0.1, class_weight='balanced', max_iter=10000,\n",
       "                   random_state=42)"
      ]
     },
     "execution_count": 94,
     "metadata": {},
     "output_type": "execute_result"
    }
   ],
   "source": [
    "model_shap = LogisticRegression(class_weight='balanced', C=0.1, max_iter=10000, random_state=42)\n",
    "model_shap.fit(X_train_scaled, y_train)"
   ]
  },
  {
   "cell_type": "code",
   "execution_count": 95,
   "metadata": {
    "colab": {
     "base_uri": "https://localhost:8080/"
    },
    "id": "VotKJB7zDB-O",
    "outputId": "16721bc8-7fb7-41f4-99ca-98a42482f55c"
   },
   "outputs": [
    {
     "name": "stdout",
     "output_type": "stream",
     "text": [
      "Test_Set\n",
      "[[55480  1384]\n",
      " [    8    90]]\n",
      "              precision    recall  f1-score   support\n",
      "\n",
      "           0       1.00      0.98      0.99     56864\n",
      "           1       0.06      0.92      0.11        98\n",
      "\n",
      "    accuracy                           0.98     56962\n",
      "   macro avg       0.53      0.95      0.55     56962\n",
      "weighted avg       1.00      0.98      0.99     56962\n",
      "\n",
      "\n",
      "Train_Set\n",
      "[[222053   5398]\n",
      " [    30    364]]\n",
      "              precision    recall  f1-score   support\n",
      "\n",
      "           0       1.00      0.98      0.99    227451\n",
      "           1       0.06      0.92      0.12       394\n",
      "\n",
      "    accuracy                           0.98    227845\n",
      "   macro avg       0.53      0.95      0.55    227845\n",
      "weighted avg       1.00      0.98      0.99    227845\n",
      "\n"
     ]
    }
   ],
   "source": [
    "eval_metric(model_shap, X_train_scaled, y_train, X_test_scaled, y_test)"
   ]
  },
  {
   "cell_type": "code",
   "execution_count": 76,
   "metadata": {
    "colab": {
     "base_uri": "https://localhost:8080/"
    },
    "id": "7fbetF0CMSJz",
    "outputId": "4dcee2ce-acfb-4cf6-83af-b1e51552419c"
   },
   "outputs": [
    {
     "name": "stdout",
     "output_type": "stream",
     "text": [
      "Collecting shap\n",
      "  Downloading shap-0.40.0-cp37-cp37m-manylinux2010_x86_64.whl (564 kB)\n",
      "\u001b[K     |████████████████████████████████| 564 kB 5.5 MB/s eta 0:00:01\n",
      "\u001b[?25hRequirement already satisfied: numba in /usr/local/lib/python3.7/dist-packages (from shap) (0.51.2)\n",
      "Requirement already satisfied: numpy in /usr/local/lib/python3.7/dist-packages (from shap) (1.21.6)\n",
      "Requirement already satisfied: cloudpickle in /usr/local/lib/python3.7/dist-packages (from shap) (1.3.0)\n",
      "Requirement already satisfied: pandas in /usr/local/lib/python3.7/dist-packages (from shap) (1.3.5)\n",
      "Requirement already satisfied: packaging>20.9 in /usr/local/lib/python3.7/dist-packages (from shap) (21.3)\n",
      "Collecting slicer==0.0.7\n",
      "  Downloading slicer-0.0.7-py3-none-any.whl (14 kB)\n",
      "Requirement already satisfied: tqdm>4.25.0 in /usr/local/lib/python3.7/dist-packages (from shap) (4.64.0)\n",
      "Requirement already satisfied: scipy in /usr/local/lib/python3.7/dist-packages (from shap) (1.4.1)\n",
      "Requirement already satisfied: scikit-learn in /usr/local/lib/python3.7/dist-packages (from shap) (1.0.2)\n",
      "Requirement already satisfied: pyparsing!=3.0.5,>=2.0.2 in /usr/local/lib/python3.7/dist-packages (from packaging>20.9->shap) (3.0.8)\n",
      "Requirement already satisfied: setuptools in /usr/local/lib/python3.7/dist-packages (from numba->shap) (57.4.0)\n",
      "Requirement already satisfied: llvmlite<0.35,>=0.34.0.dev0 in /usr/local/lib/python3.7/dist-packages (from numba->shap) (0.34.0)\n",
      "Requirement already satisfied: pytz>=2017.3 in /usr/local/lib/python3.7/dist-packages (from pandas->shap) (2022.1)\n",
      "Requirement already satisfied: python-dateutil>=2.7.3 in /usr/local/lib/python3.7/dist-packages (from pandas->shap) (2.8.2)\n",
      "Requirement already satisfied: six>=1.5 in /usr/local/lib/python3.7/dist-packages (from python-dateutil>=2.7.3->pandas->shap) (1.15.0)\n",
      "Requirement already satisfied: joblib>=0.11 in /usr/local/lib/python3.7/dist-packages (from scikit-learn->shap) (1.1.0)\n",
      "Requirement already satisfied: threadpoolctl>=2.0.0 in /usr/local/lib/python3.7/dist-packages (from scikit-learn->shap) (3.1.0)\n",
      "Installing collected packages: slicer, shap\n",
      "Successfully installed shap-0.40.0 slicer-0.0.7\n"
     ]
    }
   ],
   "source": [
    "!pip install shap"
   ]
  },
  {
   "cell_type": "code",
   "execution_count": 79,
   "metadata": {
    "id": "LBlFlsp4Mbz0"
   },
   "outputs": [],
   "source": [
    "import shap"
   ]
  },
  {
   "cell_type": "code",
   "execution_count": 101,
   "metadata": {
    "id": "bHCTurpmD4RF"
   },
   "outputs": [],
   "source": [
    "explainer = shap.Explainer(model_shap, X_train_scaled)\n",
    "\n",
    "shap_values = explainer.shap_values(X_test_scaled)"
   ]
  },
  {
   "cell_type": "code",
   "execution_count": 103,
   "metadata": {
    "colab": {
     "base_uri": "https://localhost:8080/",
     "height": 799
    },
    "id": "VU-I7cwHD-A0",
    "outputId": "9db752be-537f-4b8a-f7ac-6c37dbb92b97"
   },
   "outputs": [
    {
     "data": {
      "image/png": "[encoded data removed]",
      "text/plain": [
       "<Figure size 576x972 with 1 Axes>"
      ]
     },
     "metadata": {},
     "output_type": "display_data"
    }
   ],
   "source": [
    "shap.summary_plot(shap_values, X_train_scaled, plot_type=\"bar\",max_display=300, feature_names = X.columns)"
   ]
  },
  {
   "cell_type": "markdown",
   "metadata": {
    "id": "4f8q5y12MuHe"
   },
   "source": [
    "### Apply SMOTE"
   ]
  },
  {
   "cell_type": "code",
   "execution_count": 104,
   "metadata": {
    "id": "rlz070TfMuHf"
   },
   "outputs": [],
   "source": [
    "from imblearn.over_sampling import SMOTE\n",
    "from imblearn.under_sampling import RandomUnderSampler\n",
    "from imblearn.pipeline import Pipeline as imbpipeline"
   ]
  },
  {
   "cell_type": "markdown",
   "metadata": {
    "id": "9wvBCEvpJQ0U"
   },
   "source": [
    "### Logistic Regression with SMOTE\n",
    "\n",
    "- The steps you are going to cover for this algorithm are as follows:\n",
    "   \n",
    "   *i. Train-Test Split (Again)*\n",
    "   \n",
    "   *ii. Model Training*\n",
    "   \n",
    "   *iii. Prediction and Model Evaluating*\n",
    "   \n",
    "   *iv. Plot Precision and Recall Curve*\n",
    "   \n",
    "   *v. Apply and Plot StratifiedKFold*"
   ]
  },
  {
   "cell_type": "markdown",
   "metadata": {
    "id": "IJqXQ_aHMuHf"
   },
   "source": [
    "***i. Train-Test Split (Again)***\n",
    "\n",
    "Use SMOTE applied data."
   ]
  },
  {
   "cell_type": "code",
   "execution_count": 105,
   "metadata": {
    "id": "Bp8uazLZfTQy"
   },
   "outputs": [],
   "source": [
    "X = df.drop(\"Class\", axis=1)\n",
    "y = df[\"Class\"]\n",
    "\n",
    "X_train, X_test, y_train, y_test = train_test_split(X, y, stratify=y, test_size=0.2, random_state=42)"
   ]
  },
  {
   "cell_type": "code",
   "execution_count": 120,
   "metadata": {
    "id": "Qmc3bUHKMuHf"
   },
   "outputs": [],
   "source": [
    "over = SMOTE(random_state=42, sampling_strategy={1: 1500})\n",
    "under = RandomUnderSampler(random_state=42 , sampling_strategy={0: 200000})\n",
    "\n",
    "X_resampled_over, y_resampled_over = over.fit_resample(X_train, y_train)"
   ]
  },
  {
   "cell_type": "code",
   "execution_count": 121,
   "metadata": {
    "id": "j0CIYG6mfTQy"
   },
   "outputs": [],
   "source": [
    "X_resampled_under, y_resampled_under = under.fit_resample(X_train, y_train)"
   ]
  },
  {
   "cell_type": "code",
   "execution_count": 122,
   "metadata": {
    "id": "4CSgxdn0fTQy"
   },
   "outputs": [],
   "source": [
    "# we are configuring our pipeline steps\n",
    "steps = [('o', over), ('u', under)]\n",
    "\n",
    "# create a pipeline that will automatically apply over and under\n",
    "# sampling in order to steps that we created.\n",
    "pipeline = imbpipeline(steps=steps)\n",
    "\n",
    "# we will create new data over X_train and y_train.\n",
    "X_resampled, y_resampled = pipeline.fit_resample(X_train, y_train)"
   ]
  },
  {
   "cell_type": "code",
   "execution_count": 123,
   "metadata": {
    "id": "v34N8wkffTQz"
   },
   "outputs": [],
   "source": [
    "operations = [('o', over), ('u', under), (\"scaler\", StandardScaler()), \n",
    "              (\"log\", LogisticRegression(max_iter=10000, random_state=42))]"
   ]
  },
  {
   "cell_type": "code",
   "execution_count": 124,
   "metadata": {
    "id": "9YnGF9R1fTQz"
   },
   "outputs": [],
   "source": [
    "smote_pipeline = imbpipeline(steps=operations)"
   ]
  },
  {
   "cell_type": "markdown",
   "metadata": {
    "id": "evc6DLPcMuHf"
   },
   "source": [
    "***ii. Model Training***"
   ]
  },
  {
   "cell_type": "code",
   "execution_count": 125,
   "metadata": {
    "colab": {
     "base_uri": "https://localhost:8080/"
    },
    "id": "hz36IA3EMuHf",
    "outputId": "21d92556-76a7-4066-c6d9-7ae8c8fae09d"
   },
   "outputs": [
    {
     "data": {
      "text/plain": [
       "Pipeline(steps=[('o', SMOTE(random_state=42, sampling_strategy={1: 1500})),\n",
       "                ('u',\n",
       "                 RandomUnderSampler(random_state=42,\n",
       "                                    sampling_strategy={0: 200000})),\n",
       "                ('scaler', StandardScaler()),\n",
       "                ('log', LogisticRegression(max_iter=10000, random_state=42))])"
      ]
     },
     "execution_count": 125,
     "metadata": {},
     "output_type": "execute_result"
    }
   ],
   "source": [
    "smote_pipeline.fit(X_train, y_train)"
   ]
  },
  {
   "cell_type": "markdown",
   "metadata": {
    "id": "kqJHSV5FMuHf"
   },
   "source": [
    "***iii. Prediction and Model Evaluating***"
   ]
  },
  {
   "cell_type": "code",
   "execution_count": 126,
   "metadata": {
    "colab": {
     "base_uri": "https://localhost:8080/"
    },
    "id": "J_lxSdHyMuHg",
    "outputId": "f7eb6d4a-8ebd-4d63-f5be-94a71460240a"
   },
   "outputs": [
    {
     "name": "stdout",
     "output_type": "stream",
     "text": [
      "Test_Set\n",
      "[[56832    32]\n",
      " [   17    81]]\n",
      "              precision    recall  f1-score   support\n",
      "\n",
      "           0       1.00      1.00      1.00     56864\n",
      "           1       0.72      0.83      0.77        98\n",
      "\n",
      "    accuracy                           1.00     56962\n",
      "   macro avg       0.86      0.91      0.88     56962\n",
      "weighted avg       1.00      1.00      1.00     56962\n",
      "\n",
      "\n",
      "Train_Set\n",
      "[[227384     67]\n",
      " [    80    314]]\n",
      "              precision    recall  f1-score   support\n",
      "\n",
      "           0       1.00      1.00      1.00    227451\n",
      "           1       0.82      0.80      0.81       394\n",
      "\n",
      "    accuracy                           1.00    227845\n",
      "   macro avg       0.91      0.90      0.90    227845\n",
      "weighted avg       1.00      1.00      1.00    227845\n",
      "\n"
     ]
    }
   ],
   "source": [
    "eval_metric(smote_pipeline, X_train, y_train, X_test, y_test)"
   ]
  },
  {
   "cell_type": "code",
   "execution_count": 127,
   "metadata": {
    "colab": {
     "base_uri": "https://localhost:8080/"
    },
    "id": "WVCD1zItfTQ0",
    "outputId": "44563925-e789-4bc4-9db1-6ec57d58d622"
   },
   "outputs": [
    {
     "data": {
      "text/plain": [
       "test_accuracy    NaN\n",
       "test_precision   NaN\n",
       "test_recall      NaN\n",
       "test_f1          NaN\n",
       "test_roc_auc     NaN\n",
       "dtype: float64"
      ]
     },
     "execution_count": 127,
     "metadata": {},
     "output_type": "execute_result"
    }
   ],
   "source": [
    "model = smote_pipeline = imbpipeline(steps=operations)\n",
    "\n",
    "scores = cross_validate(model, X_train, y_train, scoring=['accuracy', 'precision', 'recall', 'f1', 'roc_auc'], cv = 5)\n",
    "df_scores = pd.DataFrame(scores, index = range(1, 6))\n",
    "df_scores.mean()[2:]"
   ]
  },
  {
   "cell_type": "markdown",
   "metadata": {
    "id": "AFGgLGBqMuHg"
   },
   "source": [
    "***iv.  Plot Precision and Recall Curve***\n"
   ]
  },
  {
   "cell_type": "code",
   "execution_count": 128,
   "metadata": {
    "colab": {
     "base_uri": "https://localhost:8080/",
     "height": 404
    },
    "id": "CWdU7r-UMuHg",
    "outputId": "4dd3c3ee-68d2-4609-fc7c-749ec88bfd3f"
   },
   "outputs": [
    {
     "data": {
      "image/png": "[encoded data removed]",
      "text/plain": [
       "<Figure size 720x432 with 1 Axes>"
      ]
     },
     "metadata": {},
     "output_type": "display_data"
    }
   ],
   "source": [
    "viz = PrecisionRecallCurve(model)   \n",
    "\n",
    "viz.fit(X_train, y_train)\n",
    "viz.score(X_test, y_test)\n",
    "viz.show();"
   ]
  },
  {
   "cell_type": "markdown",
   "metadata": {
    "id": "HELeR2YVMuHg"
   },
   "source": [
    "***v. Apply and Plot StratifiedKFold***"
   ]
  },
  {
   "cell_type": "markdown",
   "metadata": {
    "id": "_3zm70O7JQ0Z"
   },
   "source": [
    "### Random Forest Classifier with SMOTE\n",
    "\n",
    "- The steps you are going to cover for this algorithm are as follows:\n",
    "\n",
    "   *i. Model Training*\n",
    "   \n",
    "   *ii. Prediction and Model Evaluating*\n",
    "   \n",
    "   *iii. Plot Precision and Recall Curve*\n",
    "   \n",
    "   *iv. Apply and Plot StratifiedKFold*\n",
    "   "
   ]
  },
  {
   "cell_type": "markdown",
   "metadata": {
    "id": "sr5U80HbMuHg"
   },
   "source": [
    "***i. Model Training***"
   ]
  },
  {
   "cell_type": "code",
   "execution_count": 129,
   "metadata": {
    "id": "KGk4hRmTGg3b"
   },
   "outputs": [],
   "source": [
    "X2 = df.drop(\"Class\", axis=1)\n",
    "y = df[\"Class\"]\n",
    "\n",
    "X_train2, X_test2, y_train2, y_test2 = train_test_split(X2, y, stratify=y, test_size=0.2, random_state=42)"
   ]
  },
  {
   "cell_type": "code",
   "execution_count": 130,
   "metadata": {
    "id": "Seaop2NlGg6z"
   },
   "outputs": [],
   "source": [
    "rf_model = RandomForestClassifier(random_state=42)  # class_weight=\"balanced\", "
   ]
  },
  {
   "cell_type": "code",
   "execution_count": 131,
   "metadata": {
    "colab": {
     "base_uri": "https://localhost:8080/"
    },
    "id": "KXcO-vfgGg-M",
    "outputId": "76e5629a-a589-4acf-f4f2-3f629d125b13"
   },
   "outputs": [
    {
     "data": {
      "text/plain": [
       "RandomForestClassifier(random_state=42)"
      ]
     },
     "execution_count": 131,
     "metadata": {},
     "output_type": "execute_result"
    }
   ],
   "source": [
    "rf_model.fit(X_train2, y_train2)"
   ]
  },
  {
   "cell_type": "code",
   "execution_count": 139,
   "metadata": {
    "colab": {
     "base_uri": "https://localhost:8080/"
    },
    "id": "ezvSy_LnGhBU",
    "outputId": "d7f834c0-a269-4008-91ea-b30e5fb73f98"
   },
   "outputs": [
    {
     "name": "stdout",
     "output_type": "stream",
     "text": [
      "Test_Set\n",
      "[[56859     5]\n",
      " [   18    80]]\n",
      "              precision    recall  f1-score   support\n",
      "\n",
      "           0       1.00      1.00      1.00     56864\n",
      "           1       0.94      0.82      0.87        98\n",
      "\n",
      "    accuracy                           1.00     56962\n",
      "   macro avg       0.97      0.91      0.94     56962\n",
      "weighted avg       1.00      1.00      1.00     56962\n",
      "\n",
      "\n",
      "Train_Set\n",
      "[[227451      0]\n",
      " [     0    394]]\n",
      "              precision    recall  f1-score   support\n",
      "\n",
      "           0       1.00      1.00      1.00    227451\n",
      "           1       1.00      1.00      1.00       394\n",
      "\n",
      "    accuracy                           1.00    227845\n",
      "   macro avg       1.00      1.00      1.00    227845\n",
      "weighted avg       1.00      1.00      1.00    227845\n",
      "\n"
     ]
    }
   ],
   "source": [
    "eval_metric(rf_model, X_train2, y_train2, X_test2, y_test2)"
   ]
  },
  {
   "cell_type": "code",
   "execution_count": 133,
   "metadata": {
    "colab": {
     "base_uri": "https://localhost:8080/"
    },
    "id": "7foiJE4NGhEL",
    "outputId": "e12fb076-e3f1-4776-b8ea-a84166add0ea"
   },
   "outputs": [
    {
     "data": {
      "text/plain": [
       "test_accuracy    0.999\n",
       "test_precision   0.939\n",
       "test_recall      0.759\n",
       "test_f1          0.838\n",
       "test_roc_auc     0.945\n",
       "dtype: float64"
      ]
     },
     "execution_count": null,
     "metadata": {},
     "output_type": "execute_result"
    }
   ],
   "source": [
    "model = RandomForestClassifier(random_state=42)  # class_weight=\"balanced\", \n",
    "\n",
    "scores = cross_validate(model, X_train2, y_train2, scoring = ['accuracy', 'precision', 'recall', 'f1', 'roc_auc'], cv = 5)\n",
    "df_scores = pd.DataFrame(scores, index = range(1, 6))\n",
    "df_scores.mean()[2:]"
   ]
  },
  {
   "cell_type": "code",
   "execution_count": 134,
   "metadata": {
    "colab": {
     "base_uri": "https://localhost:8080/",
     "height": 404
    },
    "id": "THA4U02tH2aL",
    "outputId": "5d245555-d006-4c19-f954-6a2663e6599c"
   },
   "outputs": [
    {
     "data": {
      "image/png": "[encoded data removed]",
      "text/plain": [
       "<Figure size 720x432 with 1 Axes>"
      ]
     },
     "metadata": {},
     "output_type": "display_data"
    }
   ],
   "source": [
    "viz = PrecisionRecallCurve(model)   \n",
    "\n",
    "viz.fit(X_train2, y_train2)\n",
    "viz.score(X_test2, y_test2)\n",
    "viz.show();"
   ]
  },
  {
   "cell_type": "code",
   "execution_count": 135,
   "metadata": {
    "id": "kuvRr7f3MuHh"
   },
   "outputs": [],
   "source": [
    "operations = [('o', over), ('u', under), (\"scaler\", StandardScaler()), \n",
    "              (\"rf\", RandomForestClassifier(random_state=42))]"
   ]
  },
  {
   "cell_type": "code",
   "execution_count": 136,
   "metadata": {
    "id": "ASTpgmyKfTQ2"
   },
   "outputs": [],
   "source": [
    "smote_pipeline = imbpipeline(steps=operations)"
   ]
  },
  {
   "cell_type": "code",
   "execution_count": 137,
   "metadata": {
    "colab": {
     "base_uri": "https://localhost:8080/"
    },
    "id": "-4bCojEzfTQ2",
    "outputId": "739ba64d-593c-4e1f-a5cb-56ae7ff4dc87"
   },
   "outputs": [
    {
     "data": {
      "text/plain": [
       "Pipeline(steps=[('o', SMOTE(random_state=42, sampling_strategy={1: 1500})),\n",
       "                ('u',\n",
       "                 RandomUnderSampler(random_state=42,\n",
       "                                    sampling_strategy={0: 200000})),\n",
       "                ('scaler', StandardScaler()),\n",
       "                ('rf', RandomForestClassifier(random_state=42))])"
      ]
     },
     "execution_count": 137,
     "metadata": {},
     "output_type": "execute_result"
    }
   ],
   "source": [
    "smote_pipeline.fit(X_train2, y_train2)"
   ]
  },
  {
   "cell_type": "markdown",
   "metadata": {
    "id": "dJ9TJdpmMuHh"
   },
   "source": [
    "***ii. Prediction and Model Evaluating***"
   ]
  },
  {
   "cell_type": "code",
   "execution_count": 138,
   "metadata": {
    "colab": {
     "base_uri": "https://localhost:8080/"
    },
    "id": "BaNd2jTRMuHh",
    "outputId": "eb275c91-77f8-4ed9-b2bc-0c6119ece166"
   },
   "outputs": [
    {
     "name": "stdout",
     "output_type": "stream",
     "text": [
      "Test_Set\n",
      "[[56856     8]\n",
      " [   14    84]]\n",
      "              precision    recall  f1-score   support\n",
      "\n",
      "           0       1.00      1.00      1.00     56864\n",
      "           1       0.91      0.86      0.88        98\n",
      "\n",
      "    accuracy                           1.00     56962\n",
      "   macro avg       0.96      0.93      0.94     56962\n",
      "weighted avg       1.00      1.00      1.00     56962\n",
      "\n",
      "\n",
      "Train_Set\n",
      "[[227446      5]\n",
      " [     0    394]]\n",
      "              precision    recall  f1-score   support\n",
      "\n",
      "           0       1.00      1.00      1.00    227451\n",
      "           1       0.99      1.00      0.99       394\n",
      "\n",
      "    accuracy                           1.00    227845\n",
      "   macro avg       0.99      1.00      1.00    227845\n",
      "weighted avg       1.00      1.00      1.00    227845\n",
      "\n"
     ]
    }
   ],
   "source": [
    "eval_metric(smote_pipeline, X_train2, y_train2, X_test2, y_test2)"
   ]
  },
  {
   "cell_type": "code",
   "execution_count": 156,
   "metadata": {
    "colab": {
     "base_uri": "https://localhost:8080/"
    },
    "id": "-z6DHEBKfTQ3",
    "outputId": "f096a0f1-3358-452b-9f5c-0868946baf86"
   },
   "outputs": [
    {
     "data": {
      "text/plain": [
       "test_accuracy    NaN\n",
       "test_precision   NaN\n",
       "test_recall      NaN\n",
       "test_f1          NaN\n",
       "test_roc_auc     NaN\n",
       "dtype: float64"
      ]
     },
     "execution_count": 156,
     "metadata": {},
     "output_type": "execute_result"
    }
   ],
   "source": [
    "model = smote_pipeline = imbpipeline(steps=operations)\n",
    "\n",
    "scores = cross_validate(model, X_train2, y_train2, scoring=['accuracy', 'precision', 'recall', 'f1', 'roc_auc'], cv = 5)\n",
    "df_scores = pd.DataFrame(scores, index = range(1, 6))\n",
    "df_scores.mean()[2:]"
   ]
  },
  {
   "cell_type": "markdown",
   "metadata": {
    "id": "8bdqEhrdMuHh"
   },
   "source": [
    "***iii. Plot Precision and Recall Curve***\n"
   ]
  },
  {
   "cell_type": "code",
   "execution_count": 157,
   "metadata": {
    "colab": {
     "base_uri": "https://localhost:8080/",
     "height": 404
    },
    "id": "smne1OBWMuHh",
    "outputId": "7905fdf4-010a-4dd6-c26f-7080a9407096"
   },
   "outputs": [
    {
     "data": {
      "image/png": "[encoded data removed]",
      "text/plain": [
       "<Figure size 720x432 with 1 Axes>"
      ]
     },
     "metadata": {},
     "output_type": "display_data"
    }
   ],
   "source": [
    "viz = PrecisionRecallCurve(model)   \n",
    "\n",
    "viz.fit(X_train2, y_train2)\n",
    "viz.score(X_test2, y_test2)\n",
    "viz.show();"
   ]
  },
  {
   "cell_type": "markdown",
   "metadata": {
    "id": "1n8q3JXcMuHh"
   },
   "source": [
    "***iv. Apply and Plot StratifiedKFold***"
   ]
  },
  {
   "cell_type": "code",
   "execution_count": null,
   "metadata": {
    "id": "WukW9Gb3MuHh"
   },
   "outputs": [],
   "source": []
  },
  {
   "cell_type": "markdown",
   "metadata": {
    "id": "ife6NlFRJQ0f"
   },
   "source": [
    "### Neural Network\n",
    "\n",
    "In the final step, you will make classification with Neural Network which is a Deep Learning algorithm. \n",
    "\n",
    "Neural networks are a series of algorithms that mimic the operations of a human brain to recognize relationships between vast amounts of data. They are used in a variety of applications in financial services, from forecasting and marketing research to fraud detection and risk assessment.\n",
    "\n",
    "A neural network contains layers of interconnected nodes. Each node is a perceptron and is similar to a multiple linear regression. The perceptron feeds the signal produced by a multiple linear regression into an activation function that may be nonlinear.\n",
    "\n",
    "In a multi-layered perceptron (MLP), perceptrons are arranged in interconnected layers. The input layer collects input patterns. The output layer has classifications or output signals to which input patterns may map. \n",
    "\n",
    "Hidden layers fine-tune the input weightings until the neural network’s margin of error is minimal. It is hypothesized that hidden layers extrapolate salient features in the input data that have predictive power regarding the outputs.\n",
    "\n",
    "You will discover **[how to create](https://towardsdatascience.com/building-our-first-neural-network-in-keras-bdc8abbc17f5)** your deep learning neural network model in Python using **[Keras](https://keras.io/about/)**. Keras is a powerful and easy-to-use free open source Python library for developing and evaluating deep learning models.\n",
    "\n",
    "- The steps you are going to cover for this algorithm are as follows:\n",
    "\n",
    "   *i. Import Libraries*\n",
    "   \n",
    "   *ii. Define Model*\n",
    "    \n",
    "   *iii. Compile Model*\n",
    "   \n",
    "   *iv. Fit Model*\n",
    "   \n",
    "   *v. Prediction and Model Evaluating*\n",
    "   \n",
    "   *vi. Plot Precision and Recall Curve*"
   ]
  },
  {
   "cell_type": "markdown",
   "metadata": {
    "id": "i9Rl75fpMuHi"
   },
   "source": [
    "***i. Import Libraries***"
   ]
  },
  {
   "cell_type": "code",
   "execution_count": 202,
   "metadata": {
    "id": "LhEc3K9KMuHi"
   },
   "outputs": [],
   "source": [
    "from sklearn.model_selection import train_test_split\n",
    "from sklearn.preprocessing import StandardScaler\n",
    "import tensorflow as tf\n",
    "from tensorflow.keras.models import Sequential\n",
    "from tensorflow.keras.layers import Dense, Activation\n",
    "from sklearn.metrics import classification_report, confusion_matrix\n",
    "from sklearn.metrics import plot_roc_curve, roc_auc_score, roc_curve\n",
    "from sklearn.metrics import plot_precision_recall_curve, precision_recall_curve\n",
    "from sklearn.model_selection import cross_val_score, cross_validate\n",
    "from sklearn.model_selection import GridSearchCV\n",
    "from tensorflow.keras.callbacks import EarlyStopping"
   ]
  },
  {
   "cell_type": "markdown",
   "metadata": {
    "id": "gD6Rh1R8MuHi"
   },
   "source": [
    "***ii. Define Model***"
   ]
  },
  {
   "cell_type": "code",
   "execution_count": 216,
   "metadata": {
    "id": "4okQmpRpMuHi"
   },
   "outputs": [],
   "source": [
    "X3 = df.drop(\"Class\", axis=1)\n",
    "y = df[\"Class\"]\n",
    "\n",
    "seed = 42"
   ]
  },
  {
   "cell_type": "code",
   "execution_count": 217,
   "metadata": {
    "id": "3kfTKJVFIti7"
   },
   "outputs": [],
   "source": [
    "X_train3, X_test3, y_train3, y_test3 = train_test_split(X3, y, stratify = y, test_size = 0.10, random_state = seed)"
   ]
  },
  {
   "cell_type": "code",
   "execution_count": 218,
   "metadata": {
    "id": "W9wz06VppCLi"
   },
   "outputs": [],
   "source": [
    "scaler = StandardScaler()\n",
    "\n",
    "X_train3= scaler.fit_transform(X_train3)\n",
    "X_test3 = scaler.transform(X_test3)"
   ]
  },
  {
   "cell_type": "code",
   "execution_count": 219,
   "metadata": {
    "id": "8Dp4YFLhIrFL"
   },
   "outputs": [],
   "source": [
    "tf.random.set_seed(seed)\n",
    "\n",
    "model = Sequential()\n",
    "\n",
    "model.add(Dense(48, activation = \"relu\", input_dim = X_train3.shape[1]))\n",
    "model.add(Dense(24, activation = \"relu\"))\n",
    "model.add(Dense(12, activation = \"relu\"))\n",
    "model.add(Dense(1, activation = \"sigmoid\"))\n"
   ]
  },
  {
   "cell_type": "markdown",
   "metadata": {
    "id": "_IQN7--qMuHi"
   },
   "source": [
    "***iii. Compile Model***"
   ]
  },
  {
   "cell_type": "code",
   "execution_count": 220,
   "metadata": {
    "id": "f4W96rfHMuHi"
   },
   "outputs": [],
   "source": [
    "model.compile(optimizer = \"adam\", loss = \"binary_crossentropy\", metrics = tf.keras.metrics.Recall())"
   ]
  },
  {
   "cell_type": "code",
   "execution_count": 221,
   "metadata": {
    "id": "CddmiU-JJrOt"
   },
   "outputs": [],
   "source": [
    "early_stop = EarlyStopping(monitor = \"val_loss\", mode = \"auto\", verbose = 1, patience = 10)"
   ]
  },
  {
   "cell_type": "markdown",
   "metadata": {
    "id": "PsM_5PhJMuHi"
   },
   "source": [
    "***iv. Fit Model***"
   ]
  },
  {
   "cell_type": "code",
   "execution_count": 222,
   "metadata": {
    "colab": {
     "base_uri": "https://localhost:8080/"
    },
    "id": "cmkPKExFMuHj",
    "outputId": "7826882d-f3ba-4e1b-e167-ee63b6aa8d5e"
   },
   "outputs": [
    {
     "name": "stdout",
     "output_type": "stream",
     "text": [
      "Epoch 1/100\n",
      "1703/1703 [==============================] - 20s 11ms/step - loss: 0.0147 - recall_4: 0.4171 - val_loss: 0.0033 - val_recall_4: 0.7971\n",
      "Epoch 2/100\n",
      "1703/1703 [==============================] - 22s 13ms/step - loss: 0.0033 - recall_4: 0.7968 - val_loss: 0.0031 - val_recall_4: 0.7971\n",
      "Epoch 3/100\n",
      "1703/1703 [==============================] - 19s 11ms/step - loss: 0.0029 - recall_4: 0.8048 - val_loss: 0.0031 - val_recall_4: 0.7681\n",
      "Epoch 4/100\n",
      "1703/1703 [==============================] - 18s 11ms/step - loss: 0.0027 - recall_4: 0.8048 - val_loss: 0.0031 - val_recall_4: 0.7971\n",
      "Epoch 5/100\n",
      "1703/1703 [==============================] - 16s 9ms/step - loss: 0.0024 - recall_4: 0.8155 - val_loss: 0.0029 - val_recall_4: 0.7971\n",
      "Epoch 6/100\n",
      "1703/1703 [==============================] - 15s 9ms/step - loss: 0.0022 - recall_4: 0.8155 - val_loss: 0.0032 - val_recall_4: 0.6957\n",
      "Epoch 7/100\n",
      "1703/1703 [==============================] - 15s 9ms/step - loss: 0.0020 - recall_4: 0.8155 - val_loss: 0.0028 - val_recall_4: 0.7681\n",
      "Epoch 8/100\n",
      "1703/1703 [==============================] - 15s 9ms/step - loss: 0.0019 - recall_4: 0.8075 - val_loss: 0.0027 - val_recall_4: 0.7536\n",
      "Epoch 9/100\n",
      "1703/1703 [==============================] - 15s 9ms/step - loss: 0.0018 - recall_4: 0.8182 - val_loss: 0.0029 - val_recall_4: 0.7971\n",
      "Epoch 10/100\n",
      "1703/1703 [==============================] - 15s 9ms/step - loss: 0.0017 - recall_4: 0.8209 - val_loss: 0.0029 - val_recall_4: 0.7971\n",
      "Epoch 11/100\n",
      "1703/1703 [==============================] - 15s 9ms/step - loss: 0.0016 - recall_4: 0.8342 - val_loss: 0.0028 - val_recall_4: 0.7971\n",
      "Epoch 12/100\n",
      "1703/1703 [==============================] - 15s 9ms/step - loss: 0.0016 - recall_4: 0.8155 - val_loss: 0.0030 - val_recall_4: 0.8116\n",
      "Epoch 13/100\n",
      "1703/1703 [==============================] - 15s 9ms/step - loss: 0.0014 - recall_4: 0.8369 - val_loss: 0.0027 - val_recall_4: 0.7971\n",
      "Epoch 14/100\n",
      "1703/1703 [==============================] - 14s 8ms/step - loss: 0.0014 - recall_4: 0.8503 - val_loss: 0.0033 - val_recall_4: 0.6957\n",
      "Epoch 15/100\n",
      "1703/1703 [==============================] - 14s 8ms/step - loss: 0.0015 - recall_4: 0.8235 - val_loss: 0.0035 - val_recall_4: 0.7826\n",
      "Epoch 16/100\n",
      "1703/1703 [==============================] - 14s 8ms/step - loss: 0.0013 - recall_4: 0.7861 - val_loss: 0.0034 - val_recall_4: 0.7681\n",
      "Epoch 17/100\n",
      "1703/1703 [==============================] - 14s 8ms/step - loss: 0.0013 - recall_4: 0.8021 - val_loss: 0.0034 - val_recall_4: 0.7246\n",
      "Epoch 18/100\n",
      "1703/1703 [==============================] - 14s 8ms/step - loss: 0.0012 - recall_4: 0.8182 - val_loss: 0.0035 - val_recall_4: 0.7246\n",
      "Epoch 18: early stopping\n"
     ]
    },
    {
     "data": {
      "text/plain": [
       "<keras.callbacks.History at 0x7f27e92ac290>"
      ]
     },
     "execution_count": 222,
     "metadata": {},
     "output_type": "execute_result"
    }
   ],
   "source": [
    "model.fit(x = X_train3, y = y_train3, validation_split = 0.15, batch_size = 128, epochs = 100, verbose = 1,\n",
    "          callbacks = [early_stop])"
   ]
  },
  {
   "cell_type": "markdown",
   "metadata": {
    "id": "InMeP9kgMuHj"
   },
   "source": [
    "***v. Prediction and Model Evaluating***"
   ]
  },
  {
   "cell_type": "code",
   "execution_count": 223,
   "metadata": {
    "colab": {
     "base_uri": "https://localhost:8080/",
     "height": 206
    },
    "id": "wRi_uFjIMuHj",
    "outputId": "d507ce8f-2ba5-4d5b-d4ce-d614928b362f"
   },
   "outputs": [
    {
     "data": {
      "text/html": [
       "\n",
       "  <div id=\"df-e8f5dc17-8566-4a04-a8ac-6782818199e2\">\n",
       "    <div class=\"colab-df-container\">\n",
       "      <div>\n",
       "<style scoped>\n",
       "    .dataframe tbody tr th:only-of-type {\n",
       "        vertical-align: middle;\n",
       "    }\n",
       "\n",
       "    .dataframe tbody tr th {\n",
       "        vertical-align: top;\n",
       "    }\n",
       "\n",
       "    .dataframe thead th {\n",
       "        text-align: right;\n",
       "    }\n",
       "</style>\n",
       "<table border=\"1\" class=\"dataframe\">\n",
       "  <thead>\n",
       "    <tr style=\"text-align: right;\">\n",
       "      <th></th>\n",
       "      <th>loss</th>\n",
       "      <th>recall_4</th>\n",
       "      <th>val_loss</th>\n",
       "      <th>val_recall_4</th>\n",
       "    </tr>\n",
       "  </thead>\n",
       "  <tbody>\n",
       "    <tr>\n",
       "      <th>0</th>\n",
       "      <td>0.015</td>\n",
       "      <td>0.417</td>\n",
       "      <td>0.003</td>\n",
       "      <td>0.797</td>\n",
       "    </tr>\n",
       "    <tr>\n",
       "      <th>1</th>\n",
       "      <td>0.003</td>\n",
       "      <td>0.797</td>\n",
       "      <td>0.003</td>\n",
       "      <td>0.797</td>\n",
       "    </tr>\n",
       "    <tr>\n",
       "      <th>2</th>\n",
       "      <td>0.003</td>\n",
       "      <td>0.805</td>\n",
       "      <td>0.003</td>\n",
       "      <td>0.768</td>\n",
       "    </tr>\n",
       "    <tr>\n",
       "      <th>3</th>\n",
       "      <td>0.003</td>\n",
       "      <td>0.805</td>\n",
       "      <td>0.003</td>\n",
       "      <td>0.797</td>\n",
       "    </tr>\n",
       "    <tr>\n",
       "      <th>4</th>\n",
       "      <td>0.002</td>\n",
       "      <td>0.816</td>\n",
       "      <td>0.003</td>\n",
       "      <td>0.797</td>\n",
       "    </tr>\n",
       "  </tbody>\n",
       "</table>\n",
       "</div>\n",
       "      <button class=\"colab-df-convert\" onclick=\"convertToInteractive('df-e8f5dc17-8566-4a04-a8ac-6782818199e2')\"\n",
       "              title=\"Convert this dataframe to an interactive table.\"\n",
       "              style=\"display:none;\">\n",
       "        \n",
       "  <svg xmlns=\"http://www.w3.org/2000/svg\" height=\"24px\"viewBox=\"0 0 24 24\"\n",
       "       width=\"24px\">\n",
       "    <path d=\"M0 0h24v24H0V0z\" fill=\"none\"/>\n",
       "    <path d=\"M18.56 5.44l.94 2.06.94-2.06 2.06-.94-2.06-.94-.94-2.06-.94 2.06-2.06.94zm-11 1L8.5 8.5l.94-2.06 2.06-.94-2.06-.94L8.5 2.5l-.94 2.06-2.06.94zm10 10l.94 2.06.94-2.06 2.06-.94-2.06-.94-.94-2.06-.94 2.06-2.06.94z\"/><path d=\"M17.41 7.96l-1.37-1.37c-.4-.4-.92-.59-1.43-.59-.52 0-1.04.2-1.43.59L10.3 9.45l-7.72 7.72c-.78.78-.78 2.05 0 2.83L4 21.41c.39.39.9.59 1.41.59.51 0 1.02-.2 1.41-.59l7.78-7.78 2.81-2.81c.8-.78.8-2.07 0-2.86zM5.41 20L4 18.59l7.72-7.72 1.47 1.35L5.41 20z\"/>\n",
       "  </svg>\n",
       "      </button>\n",
       "      \n",
       "  <style>\n",
       "    .colab-df-container {\n",
       "      display:flex;\n",
       "      flex-wrap:wrap;\n",
       "      gap: 12px;\n",
       "    }\n",
       "\n",
       "    .colab-df-convert {\n",
       "      background-color: #E8F0FE;\n",
       "      border: none;\n",
       "      border-radius: 50%;\n",
       "      cursor: pointer;\n",
       "      display: none;\n",
       "      fill: #1967D2;\n",
       "      height: 32px;\n",
       "      padding: 0 0 0 0;\n",
       "      width: 32px;\n",
       "    }\n",
       "\n",
       "    .colab-df-convert:hover {\n",
       "      background-color: #E2EBFA;\n",
       "      box-shadow: 0px 1px 2px rgba(60, 64, 67, 0.3), 0px 1px 3px 1px rgba(60, 64, 67, 0.15);\n",
       "      fill: #174EA6;\n",
       "    }\n",
       "\n",
       "    [theme=dark] .colab-df-convert {\n",
       "      background-color: #3B4455;\n",
       "      fill: #D2E3FC;\n",
       "    }\n",
       "\n",
       "    [theme=dark] .colab-df-convert:hover {\n",
       "      background-color: #434B5C;\n",
       "      box-shadow: 0px 1px 3px 1px rgba(0, 0, 0, 0.15);\n",
       "      filter: drop-shadow(0px 1px 2px rgba(0, 0, 0, 0.3));\n",
       "      fill: #FFFFFF;\n",
       "    }\n",
       "  </style>\n",
       "\n",
       "      <script>\n",
       "        const buttonEl =\n",
       "          document.querySelector('#df-e8f5dc17-8566-4a04-a8ac-6782818199e2 button.colab-df-convert');\n",
       "        buttonEl.style.display =\n",
       "          google.colab.kernel.accessAllowed ? 'block' : 'none';\n",
       "\n",
       "        async function convertToInteractive(key) {\n",
       "          const element = document.querySelector('#df-e8f5dc17-8566-4a04-a8ac-6782818199e2');\n",
       "          const dataTable =\n",
       "            await google.colab.kernel.invokeFunction('convertToInteractive',\n",
       "                                                     [key], {});\n",
       "          if (!dataTable) return;\n",
       "\n",
       "          const docLinkHtml = 'Like what you see? Visit the ' +\n",
       "            '<a target=\"_blank\" href=https://colab.research.google.com/notebooks/data_table.ipynb>data table notebook</a>'\n",
       "            + ' to learn more about interactive tables.';\n",
       "          element.innerHTML = '';\n",
       "          dataTable['output_type'] = 'display_data';\n",
       "          await google.colab.output.renderOutput(dataTable, element);\n",
       "          const docLink = document.createElement('div');\n",
       "          docLink.innerHTML = docLinkHtml;\n",
       "          element.appendChild(docLink);\n",
       "        }\n",
       "      </script>\n",
       "    </div>\n",
       "  </div>\n",
       "  "
      ],
      "text/plain": [
       "   loss  recall_4  val_loss  val_recall_4\n",
       "0 0.015     0.417     0.003         0.797\n",
       "1 0.003     0.797     0.003         0.797\n",
       "2 0.003     0.805     0.003         0.768\n",
       "3 0.003     0.805     0.003         0.797\n",
       "4 0.002     0.816     0.003         0.797"
      ]
     },
     "execution_count": 223,
     "metadata": {},
     "output_type": "execute_result"
    }
   ],
   "source": [
    "loss_df = pd.DataFrame(model.history.history)\n",
    "loss_df.head()"
   ]
  },
  {
   "cell_type": "code",
   "execution_count": 224,
   "metadata": {
    "colab": {
     "base_uri": "https://localhost:8080/",
     "height": 374
    },
    "id": "i1MbKMtLJcZA",
    "outputId": "7f3b3966-5063-4efd-8fba-03ad272008c1"
   },
   "outputs": [
    {
     "data": {
      "image/png": "[encoded data removed]",
      "text/plain": [
       "<Figure size 720x432 with 1 Axes>"
      ]
     },
     "metadata": {},
     "output_type": "display_data"
    }
   ],
   "source": [
    "loss_df.plot();"
   ]
  },
  {
   "cell_type": "code",
   "execution_count": 225,
   "metadata": {
    "colab": {
     "base_uri": "https://localhost:8080/"
    },
    "id": "R2j7YnD8JiQ9",
    "outputId": "df4026fd-44fe-4226-d762-c72f27b17e18"
   },
   "outputs": [
    {
     "name": "stdout",
     "output_type": "stream",
     "text": [
      "loss :  0.003966104704886675\n",
      "recall :  0.7551020383834839\n"
     ]
    }
   ],
   "source": [
    "loss, recall = model.evaluate(X_test3, y_test3, verbose=0)\n",
    "print(\"loss : \", loss)\n",
    "print(\"recall : \", recall)"
   ]
  },
  {
   "cell_type": "code",
   "execution_count": 226,
   "metadata": {
    "colab": {
     "base_uri": "https://localhost:8080/"
    },
    "id": "1h_cFlSMJ4VE",
    "outputId": "24bff245-77b5-4785-8931-b02ac4679ea5"
   },
   "outputs": [
    {
     "name": "stdout",
     "output_type": "stream",
     "text": [
      "[[28428     4]\n",
      " [   12    37]]\n",
      "              precision    recall  f1-score   support\n",
      "\n",
      "           0       1.00      1.00      1.00     28432\n",
      "           1       0.90      0.76      0.82        49\n",
      "\n",
      "    accuracy                           1.00     28481\n",
      "   macro avg       0.95      0.88      0.91     28481\n",
      "weighted avg       1.00      1.00      1.00     28481\n",
      "\n"
     ]
    }
   ],
   "source": [
    "y_pred = (model.predict(X_test3) > 0.5).astype(\"int32\")\n",
    "#y_pred = model.predict_classes(X_test)\n",
    "print(confusion_matrix(y_test3, y_pred))\n",
    "print(classification_report(y_test3, y_pred))"
   ]
  },
  {
   "cell_type": "markdown",
   "metadata": {
    "id": "66QCvPGCykEU"
   },
   "source": [
    "learning rate"
   ]
  },
  {
   "cell_type": "code",
   "execution_count": 227,
   "metadata": {
    "id": "Cts604_Qy6UV"
   },
   "outputs": [],
   "source": [
    "from tensorflow.keras.optimizers import Adam"
   ]
  },
  {
   "cell_type": "code",
   "execution_count": 228,
   "metadata": {
    "id": "FHUkZyP2yjG0"
   },
   "outputs": [],
   "source": [
    "tf.random.set_seed(seed)\n",
    "\n",
    "model = Sequential()\n",
    "\n",
    "model.add(Dense(48, activation = \"relu\", input_dim = X_train3.shape[1]))\n",
    "model.add(Dense(24, activation = \"relu\"))\n",
    "model.add(Dense(12, activation = \"relu\"))\n",
    "model.add(Dense(1, activation = \"sigmoid\"))\n",
    "\n",
    "opt = Adam(lr = 0.005)\n",
    "model.compile(optimizer = \"adam\", loss = \"binary_crossentropy\", metrics = [\"Recall\"])"
   ]
  },
  {
   "cell_type": "code",
   "execution_count": 229,
   "metadata": {
    "id": "DB3pGOL_yjKU"
   },
   "outputs": [],
   "source": [
    "early_stop = EarlyStopping(monitor = \"val_loss\", mode = \"max\", verbose = 1, patience = 10)"
   ]
  },
  {
   "cell_type": "code",
   "execution_count": 230,
   "metadata": {
    "colab": {
     "base_uri": "https://localhost:8080/"
    },
    "id": "mguNBapEyjNw",
    "outputId": "560fd13c-d2af-4fb1-cdb9-b0b6acbcfca5"
   },
   "outputs": [
    {
     "name": "stdout",
     "output_type": "stream",
     "text": [
      "Epoch 1/100\n",
      "1703/1703 [==============================] - 15s 8ms/step - loss: 0.0182 - recall: 0.5428 - val_loss: 0.0032 - val_recall: 0.7971\n",
      "Epoch 2/100\n",
      "1703/1703 [==============================] - 14s 8ms/step - loss: 0.0032 - recall: 0.7834 - val_loss: 0.0030 - val_recall: 0.7971\n",
      "Epoch 3/100\n",
      "1703/1703 [==============================] - 14s 8ms/step - loss: 0.0028 - recall: 0.8048 - val_loss: 0.0027 - val_recall: 0.7681\n",
      "Epoch 4/100\n",
      "1703/1703 [==============================] - 14s 8ms/step - loss: 0.0025 - recall: 0.8102 - val_loss: 0.0028 - val_recall: 0.7826\n",
      "Epoch 5/100\n",
      "1703/1703 [==============================] - 14s 8ms/step - loss: 0.0023 - recall: 0.8021 - val_loss: 0.0025 - val_recall: 0.7971\n",
      "Epoch 6/100\n",
      "1703/1703 [==============================] - 14s 8ms/step - loss: 0.0022 - recall: 0.8048 - val_loss: 0.0025 - val_recall: 0.7826\n",
      "Epoch 7/100\n",
      "1703/1703 [==============================] - 14s 8ms/step - loss: 0.0020 - recall: 0.8128 - val_loss: 0.0026 - val_recall: 0.7101\n",
      "Epoch 8/100\n",
      "1703/1703 [==============================] - 14s 8ms/step - loss: 0.0019 - recall: 0.8048 - val_loss: 0.0025 - val_recall: 0.7681\n",
      "Epoch 9/100\n",
      "1703/1703 [==============================] - 14s 8ms/step - loss: 0.0019 - recall: 0.8102 - val_loss: 0.0026 - val_recall: 0.7971\n",
      "Epoch 10/100\n",
      "1703/1703 [==============================] - 14s 8ms/step - loss: 0.0018 - recall: 0.8316 - val_loss: 0.0026 - val_recall: 0.7826\n",
      "Epoch 11/100\n",
      "1703/1703 [==============================] - 14s 8ms/step - loss: 0.0017 - recall: 0.8449 - val_loss: 0.0027 - val_recall: 0.7391\n",
      "Epoch 11: early stopping\n"
     ]
    },
    {
     "data": {
      "text/plain": [
       "<keras.callbacks.History at 0x7f27e8fb4b50>"
      ]
     },
     "execution_count": 230,
     "metadata": {},
     "output_type": "execute_result"
    }
   ],
   "source": [
    "model.fit(x = X_train3, y = y_train3, validation_split = 0.15, batch_size = 128, epochs = 100, verbose = 1,\n",
    "          callbacks = [early_stop])"
   ]
  },
  {
   "cell_type": "code",
   "execution_count": 231,
   "metadata": {
    "colab": {
     "base_uri": "https://localhost:8080/",
     "height": 206
    },
    "id": "CWiDyz_ZyjRW",
    "outputId": "d7765ed2-ae50-4a4a-d77a-28ea03237c3d"
   },
   "outputs": [
    {
     "data": {
      "text/html": [
       "\n",
       "  <div id=\"df-1117b906-5282-474f-8ca9-b7b527b0145f\">\n",
       "    <div class=\"colab-df-container\">\n",
       "      <div>\n",
       "<style scoped>\n",
       "    .dataframe tbody tr th:only-of-type {\n",
       "        vertical-align: middle;\n",
       "    }\n",
       "\n",
       "    .dataframe tbody tr th {\n",
       "        vertical-align: top;\n",
       "    }\n",
       "\n",
       "    .dataframe thead th {\n",
       "        text-align: right;\n",
       "    }\n",
       "</style>\n",
       "<table border=\"1\" class=\"dataframe\">\n",
       "  <thead>\n",
       "    <tr style=\"text-align: right;\">\n",
       "      <th></th>\n",
       "      <th>loss</th>\n",
       "      <th>recall</th>\n",
       "      <th>val_loss</th>\n",
       "      <th>val_recall</th>\n",
       "    </tr>\n",
       "  </thead>\n",
       "  <tbody>\n",
       "    <tr>\n",
       "      <th>0</th>\n",
       "      <td>0.018</td>\n",
       "      <td>0.543</td>\n",
       "      <td>0.003</td>\n",
       "      <td>0.797</td>\n",
       "    </tr>\n",
       "    <tr>\n",
       "      <th>1</th>\n",
       "      <td>0.003</td>\n",
       "      <td>0.783</td>\n",
       "      <td>0.003</td>\n",
       "      <td>0.797</td>\n",
       "    </tr>\n",
       "    <tr>\n",
       "      <th>2</th>\n",
       "      <td>0.003</td>\n",
       "      <td>0.805</td>\n",
       "      <td>0.003</td>\n",
       "      <td>0.768</td>\n",
       "    </tr>\n",
       "    <tr>\n",
       "      <th>3</th>\n",
       "      <td>0.003</td>\n",
       "      <td>0.810</td>\n",
       "      <td>0.003</td>\n",
       "      <td>0.783</td>\n",
       "    </tr>\n",
       "    <tr>\n",
       "      <th>4</th>\n",
       "      <td>0.002</td>\n",
       "      <td>0.802</td>\n",
       "      <td>0.003</td>\n",
       "      <td>0.797</td>\n",
       "    </tr>\n",
       "  </tbody>\n",
       "</table>\n",
       "</div>\n",
       "      <button class=\"colab-df-convert\" onclick=\"convertToInteractive('df-1117b906-5282-474f-8ca9-b7b527b0145f')\"\n",
       "              title=\"Convert this dataframe to an interactive table.\"\n",
       "              style=\"display:none;\">\n",
       "        \n",
       "  <svg xmlns=\"http://www.w3.org/2000/svg\" height=\"24px\"viewBox=\"0 0 24 24\"\n",
       "       width=\"24px\">\n",
       "    <path d=\"M0 0h24v24H0V0z\" fill=\"none\"/>\n",
       "    <path d=\"M18.56 5.44l.94 2.06.94-2.06 2.06-.94-2.06-.94-.94-2.06-.94 2.06-2.06.94zm-11 1L8.5 8.5l.94-2.06 2.06-.94-2.06-.94L8.5 2.5l-.94 2.06-2.06.94zm10 10l.94 2.06.94-2.06 2.06-.94-2.06-.94-.94-2.06-.94 2.06-2.06.94z\"/><path d=\"M17.41 7.96l-1.37-1.37c-.4-.4-.92-.59-1.43-.59-.52 0-1.04.2-1.43.59L10.3 9.45l-7.72 7.72c-.78.78-.78 2.05 0 2.83L4 21.41c.39.39.9.59 1.41.59.51 0 1.02-.2 1.41-.59l7.78-7.78 2.81-2.81c.8-.78.8-2.07 0-2.86zM5.41 20L4 18.59l7.72-7.72 1.47 1.35L5.41 20z\"/>\n",
       "  </svg>\n",
       "      </button>\n",
       "      \n",
       "  <style>\n",
       "    .colab-df-container {\n",
       "      display:flex;\n",
       "      flex-wrap:wrap;\n",
       "      gap: 12px;\n",
       "    }\n",
       "\n",
       "    .colab-df-convert {\n",
       "      background-color: #E8F0FE;\n",
       "      border: none;\n",
       "      border-radius: 50%;\n",
       "      cursor: pointer;\n",
       "      display: none;\n",
       "      fill: #1967D2;\n",
       "      height: 32px;\n",
       "      padding: 0 0 0 0;\n",
       "      width: 32px;\n",
       "    }\n",
       "\n",
       "    .colab-df-convert:hover {\n",
       "      background-color: #E2EBFA;\n",
       "      box-shadow: 0px 1px 2px rgba(60, 64, 67, 0.3), 0px 1px 3px 1px rgba(60, 64, 67, 0.15);\n",
       "      fill: #174EA6;\n",
       "    }\n",
       "\n",
       "    [theme=dark] .colab-df-convert {\n",
       "      background-color: #3B4455;\n",
       "      fill: #D2E3FC;\n",
       "    }\n",
       "\n",
       "    [theme=dark] .colab-df-convert:hover {\n",
       "      background-color: #434B5C;\n",
       "      box-shadow: 0px 1px 3px 1px rgba(0, 0, 0, 0.15);\n",
       "      filter: drop-shadow(0px 1px 2px rgba(0, 0, 0, 0.3));\n",
       "      fill: #FFFFFF;\n",
       "    }\n",
       "  </style>\n",
       "\n",
       "      <script>\n",
       "        const buttonEl =\n",
       "          document.querySelector('#df-1117b906-5282-474f-8ca9-b7b527b0145f button.colab-df-convert');\n",
       "        buttonEl.style.display =\n",
       "          google.colab.kernel.accessAllowed ? 'block' : 'none';\n",
       "\n",
       "        async function convertToInteractive(key) {\n",
       "          const element = document.querySelector('#df-1117b906-5282-474f-8ca9-b7b527b0145f');\n",
       "          const dataTable =\n",
       "            await google.colab.kernel.invokeFunction('convertToInteractive',\n",
       "                                                     [key], {});\n",
       "          if (!dataTable) return;\n",
       "\n",
       "          const docLinkHtml = 'Like what you see? Visit the ' +\n",
       "            '<a target=\"_blank\" href=https://colab.research.google.com/notebooks/data_table.ipynb>data table notebook</a>'\n",
       "            + ' to learn more about interactive tables.';\n",
       "          element.innerHTML = '';\n",
       "          dataTable['output_type'] = 'display_data';\n",
       "          await google.colab.output.renderOutput(dataTable, element);\n",
       "          const docLink = document.createElement('div');\n",
       "          docLink.innerHTML = docLinkHtml;\n",
       "          element.appendChild(docLink);\n",
       "        }\n",
       "      </script>\n",
       "    </div>\n",
       "  </div>\n",
       "  "
      ],
      "text/plain": [
       "   loss  recall  val_loss  val_recall\n",
       "0 0.018   0.543     0.003       0.797\n",
       "1 0.003   0.783     0.003       0.797\n",
       "2 0.003   0.805     0.003       0.768\n",
       "3 0.003   0.810     0.003       0.783\n",
       "4 0.002   0.802     0.003       0.797"
      ]
     },
     "execution_count": 231,
     "metadata": {},
     "output_type": "execute_result"
    }
   ],
   "source": [
    "loss_df = pd.DataFrame(model.history.history)\n",
    "loss_df.head()"
   ]
  },
  {
   "cell_type": "code",
   "execution_count": 232,
   "metadata": {
    "colab": {
     "base_uri": "https://localhost:8080/",
     "height": 374
    },
    "id": "jkYaXZXOyjUr",
    "outputId": "cc765a80-5b8b-4325-d436-aced6a60c78d"
   },
   "outputs": [
    {
     "data": {
      "image/png": "[encoded data removed]",
      "text/plain": [
       "<Figure size 720x432 with 1 Axes>"
      ]
     },
     "metadata": {},
     "output_type": "display_data"
    }
   ],
   "source": [
    "loss_df.plot();"
   ]
  },
  {
   "cell_type": "code",
   "execution_count": 233,
   "metadata": {
    "colab": {
     "base_uri": "https://localhost:8080/"
    },
    "id": "9xiA5hv282NE",
    "outputId": "fa571121-f6f0-4c30-c5b1-87e6578170dc"
   },
   "outputs": [
    {
     "name": "stdout",
     "output_type": "stream",
     "text": [
      "loss :  0.0032008711714297533\n",
      "recall :  0.8367347121238708\n"
     ]
    }
   ],
   "source": [
    "loss, recall = model.evaluate(X_test3, y_test3, verbose=0)\n",
    "print(\"loss : \", loss)\n",
    "print(\"recall : \", recall)"
   ]
  },
  {
   "cell_type": "code",
   "execution_count": 234,
   "metadata": {
    "colab": {
     "base_uri": "https://localhost:8080/"
    },
    "id": "4OxVbII2zYkE",
    "outputId": "d2185408-28ad-43ea-c614-f72d4f2522db"
   },
   "outputs": [
    {
     "name": "stdout",
     "output_type": "stream",
     "text": [
      "[[28428     4]\n",
      " [    8    41]]\n",
      "              precision    recall  f1-score   support\n",
      "\n",
      "           0       1.00      1.00      1.00     28432\n",
      "           1       0.91      0.84      0.87        49\n",
      "\n",
      "    accuracy                           1.00     28481\n",
      "   macro avg       0.96      0.92      0.94     28481\n",
      "weighted avg       1.00      1.00      1.00     28481\n",
      "\n"
     ]
    }
   ],
   "source": [
    "y_pred = (model.predict(X_test3) > 0.5).astype(\"int32\")\n",
    "#y_pred = model.predict_classes(X_test)\n",
    "print(confusion_matrix(y_test3, y_pred))\n",
    "print(classification_report(y_test3, y_pred))"
   ]
  },
  {
   "cell_type": "markdown",
   "metadata": {
    "id": "eXzeSISdz3sb"
   },
   "source": [
    "Dropout"
   ]
  },
  {
   "cell_type": "code",
   "execution_count": 235,
   "metadata": {
    "id": "8uiSuz9G43Am"
   },
   "outputs": [],
   "source": [
    "from tensorflow.keras.layers import Dropout"
   ]
  },
  {
   "cell_type": "code",
   "execution_count": 236,
   "metadata": {
    "id": "t7UisghKzyFg"
   },
   "outputs": [],
   "source": [
    "tf.random.set_seed(seed)\n",
    "\n",
    "model = Sequential()\n",
    "\n",
    "model.add(Dense(48, activation = \"relu\", input_dim = X_train3.shape[1]))\n",
    "model.add(Dropout(0.5))\n",
    "model.add(Dense(24, activation = \"relu\"))\n",
    "model.add(Dropout(0.5))\n",
    "model.add(Dense(12, activation = \"relu\"))\n",
    "model.add(Dropout(0.5))\n",
    "model.add(Dense(1, activation = \"sigmoid\"))\n",
    "\n",
    "opt = Adam(lr = 0.005)\n",
    "model.compile(optimizer = \"adam\", loss = \"binary_crossentropy\", metrics = [\"Recall\"])"
   ]
  },
  {
   "cell_type": "code",
   "execution_count": 237,
   "metadata": {
    "colab": {
     "base_uri": "https://localhost:8080/"
    },
    "id": "lHAAB2MPzyJI",
    "outputId": "dd079bd9-b9f2-43e6-aa5b-59ebaf225b3e"
   },
   "outputs": [
    {
     "name": "stdout",
     "output_type": "stream",
     "text": [
      "Epoch 1/100\n",
      "1703/1703 [==============================] - 15s 8ms/step - loss: 0.0469 - recall: 0.0856 - val_loss: 0.0065 - val_recall: 0.2754\n",
      "Epoch 2/100\n",
      "1703/1703 [==============================] - 14s 8ms/step - loss: 0.0133 - recall: 0.1952 - val_loss: 0.0053 - val_recall: 0.3623\n",
      "Epoch 3/100\n",
      "1703/1703 [==============================] - 14s 8ms/step - loss: 0.0104 - recall: 0.2941 - val_loss: 0.0051 - val_recall: 0.2319\n",
      "Epoch 4/100\n",
      "1703/1703 [==============================] - 14s 8ms/step - loss: 0.0087 - recall: 0.3262 - val_loss: 0.0043 - val_recall: 0.6812\n",
      "Epoch 5/100\n",
      "1703/1703 [==============================] - 14s 8ms/step - loss: 0.0067 - recall: 0.3690 - val_loss: 0.0043 - val_recall: 0.2464\n",
      "Epoch 6/100\n",
      "1703/1703 [==============================] - 14s 8ms/step - loss: 0.0053 - recall: 0.3984 - val_loss: 0.0041 - val_recall: 0.7681\n",
      "Epoch 7/100\n",
      "1703/1703 [==============================] - 14s 8ms/step - loss: 0.0054 - recall: 0.4733 - val_loss: 0.0039 - val_recall: 0.5652\n",
      "Epoch 8/100\n",
      "1703/1703 [==============================] - 14s 8ms/step - loss: 0.0048 - recall: 0.4973 - val_loss: 0.0032 - val_recall: 0.7681\n",
      "Epoch 9/100\n",
      "1703/1703 [==============================] - 14s 8ms/step - loss: 0.0047 - recall: 0.5241 - val_loss: 0.0033 - val_recall: 0.7971\n",
      "Epoch 10/100\n",
      "1703/1703 [==============================] - 14s 8ms/step - loss: 0.0044 - recall: 0.5561 - val_loss: 0.0030 - val_recall: 0.7826\n",
      "Epoch 11/100\n",
      "1703/1703 [==============================] - 14s 8ms/step - loss: 0.0041 - recall: 0.5668 - val_loss: 0.0032 - val_recall: 0.7536\n",
      "Epoch 12/100\n",
      "1703/1703 [==============================] - 14s 8ms/step - loss: 0.0043 - recall: 0.5348 - val_loss: 0.0028 - val_recall: 0.7681\n",
      "Epoch 13/100\n",
      "1703/1703 [==============================] - 14s 8ms/step - loss: 0.0044 - recall: 0.5909 - val_loss: 0.0032 - val_recall: 0.7246\n",
      "Epoch 14/100\n",
      "1703/1703 [==============================] - 14s 8ms/step - loss: 0.0040 - recall: 0.5963 - val_loss: 0.0031 - val_recall: 0.7391\n",
      "Epoch 15/100\n",
      "1703/1703 [==============================] - 14s 8ms/step - loss: 0.0040 - recall: 0.6230 - val_loss: 0.0030 - val_recall: 0.7536\n",
      "Epoch 16/100\n",
      "1703/1703 [==============================] - 14s 8ms/step - loss: 0.0039 - recall: 0.6257 - val_loss: 0.0032 - val_recall: 0.7246\n",
      "Epoch 17/100\n",
      "1703/1703 [==============================] - 14s 8ms/step - loss: 0.0039 - recall: 0.6417 - val_loss: 0.0029 - val_recall: 0.7681\n",
      "Epoch 18/100\n",
      "1703/1703 [==============================] - 14s 8ms/step - loss: 0.0041 - recall: 0.5989 - val_loss: 0.0034 - val_recall: 0.7391\n",
      "Epoch 19/100\n",
      "1703/1703 [==============================] - 14s 8ms/step - loss: 0.0040 - recall: 0.6123 - val_loss: 0.0033 - val_recall: 0.7536\n",
      "Epoch 20/100\n",
      "1703/1703 [==============================] - 14s 8ms/step - loss: 0.0036 - recall: 0.6524 - val_loss: 0.0031 - val_recall: 0.7536\n",
      "Epoch 21/100\n",
      "1703/1703 [==============================] - 14s 8ms/step - loss: 0.0038 - recall: 0.6497 - val_loss: 0.0029 - val_recall: 0.7681\n",
      "Epoch 22/100\n",
      "1703/1703 [==============================] - 14s 8ms/step - loss: 0.0034 - recall: 0.6337 - val_loss: 0.0029 - val_recall: 0.7681\n",
      "Epoch 23/100\n",
      "1703/1703 [==============================] - 14s 8ms/step - loss: 0.0035 - recall: 0.6203 - val_loss: 0.0030 - val_recall: 0.7536\n",
      "Epoch 24/100\n",
      "1703/1703 [==============================] - 14s 8ms/step - loss: 0.0037 - recall: 0.5802 - val_loss: 0.0032 - val_recall: 0.7681\n",
      "Epoch 25/100\n",
      "1703/1703 [==============================] - 14s 8ms/step - loss: 0.0038 - recall: 0.6043 - val_loss: 0.0029 - val_recall: 0.7536\n",
      "Epoch 26/100\n",
      "1703/1703 [==============================] - 14s 8ms/step - loss: 0.0037 - recall: 0.6257 - val_loss: 0.0031 - val_recall: 0.7536\n",
      "Epoch 27/100\n",
      "1703/1703 [==============================] - 14s 8ms/step - loss: 0.0037 - recall: 0.5989 - val_loss: 0.0029 - val_recall: 0.7391\n",
      "Epoch 28/100\n",
      "1703/1703 [==============================] - 14s 8ms/step - loss: 0.0037 - recall: 0.6203 - val_loss: 0.0029 - val_recall: 0.7391\n",
      "Epoch 29/100\n",
      "1703/1703 [==============================] - 15s 9ms/step - loss: 0.0040 - recall: 0.5722 - val_loss: 0.0034 - val_recall: 0.7101\n",
      "Epoch 30/100\n",
      "1703/1703 [==============================] - 15s 9ms/step - loss: 0.0037 - recall: 0.6283 - val_loss: 0.0032 - val_recall: 0.7536\n",
      "Epoch 31/100\n",
      "1703/1703 [==============================] - 15s 9ms/step - loss: 0.0041 - recall: 0.6070 - val_loss: 0.0030 - val_recall: 0.7536\n",
      "Epoch 32/100\n",
      "1703/1703 [==============================] - 15s 9ms/step - loss: 0.0033 - recall: 0.6230 - val_loss: 0.0033 - val_recall: 0.7536\n",
      "Epoch 33/100\n",
      "1703/1703 [==============================] - 15s 9ms/step - loss: 0.0038 - recall: 0.6310 - val_loss: 0.0028 - val_recall: 0.7681\n",
      "Epoch 34/100\n",
      "1703/1703 [==============================] - 14s 8ms/step - loss: 0.0037 - recall: 0.6230 - val_loss: 0.0031 - val_recall: 0.7391\n",
      "Epoch 35/100\n",
      "1703/1703 [==============================] - 15s 9ms/step - loss: 0.0037 - recall: 0.6016 - val_loss: 0.0036 - val_recall: 0.7101\n",
      "Epoch 36/100\n",
      "1703/1703 [==============================] - 14s 8ms/step - loss: 0.0036 - recall: 0.6070 - val_loss: 0.0031 - val_recall: 0.7681\n",
      "Epoch 37/100\n",
      "1703/1703 [==============================] - 14s 8ms/step - loss: 0.0038 - recall: 0.6203 - val_loss: 0.0030 - val_recall: 0.7826\n",
      "Epoch 38/100\n",
      "1703/1703 [==============================] - 14s 8ms/step - loss: 0.0041 - recall: 0.6043 - val_loss: 0.0038 - val_recall: 0.5942\n",
      "Epoch 39/100\n",
      "1703/1703 [==============================] - 14s 8ms/step - loss: 0.0040 - recall: 0.5936 - val_loss: 0.0033 - val_recall: 0.7246\n",
      "Epoch 40/100\n",
      "1703/1703 [==============================] - 15s 9ms/step - loss: 0.0037 - recall: 0.5722 - val_loss: 0.0033 - val_recall: 0.7536\n",
      "Epoch 41/100\n",
      "1703/1703 [==============================] - 15s 9ms/step - loss: 0.0035 - recall: 0.6497 - val_loss: 0.0032 - val_recall: 0.7391\n",
      "Epoch 42/100\n",
      "1703/1703 [==============================] - 15s 9ms/step - loss: 0.0036 - recall: 0.6096 - val_loss: 0.0031 - val_recall: 0.7681\n",
      "Epoch 43/100\n",
      "1703/1703 [==============================] - 15s 9ms/step - loss: 0.0036 - recall: 0.5909 - val_loss: 0.0030 - val_recall: 0.7826\n",
      "Epoch 44/100\n",
      "1703/1703 [==============================] - 16s 9ms/step - loss: 0.0037 - recall: 0.6016 - val_loss: 0.0033 - val_recall: 0.7826\n",
      "Epoch 45/100\n",
      "1703/1703 [==============================] - 15s 9ms/step - loss: 0.0038 - recall: 0.5936 - val_loss: 0.0032 - val_recall: 0.7681\n",
      "Epoch 46/100\n",
      "1703/1703 [==============================] - 14s 8ms/step - loss: 0.0035 - recall: 0.6043 - val_loss: 0.0029 - val_recall: 0.7826\n",
      "Epoch 47/100\n",
      "1703/1703 [==============================] - 14s 8ms/step - loss: 0.0033 - recall: 0.6203 - val_loss: 0.0037 - val_recall: 0.7681\n",
      "Epoch 48/100\n",
      "1703/1703 [==============================] - 14s 8ms/step - loss: 0.0034 - recall: 0.6337 - val_loss: 0.0027 - val_recall: 0.7826\n",
      "Epoch 49/100\n",
      "1703/1703 [==============================] - 14s 8ms/step - loss: 0.0035 - recall: 0.6390 - val_loss: 0.0028 - val_recall: 0.7971\n",
      "Epoch 50/100\n",
      "1703/1703 [==============================] - 14s 9ms/step - loss: 0.0037 - recall: 0.6203 - val_loss: 0.0032 - val_recall: 0.7826\n",
      "Epoch 51/100\n",
      "1703/1703 [==============================] - 14s 8ms/step - loss: 0.0037 - recall: 0.5963 - val_loss: 0.0033 - val_recall: 0.7536\n",
      "Epoch 52/100\n",
      "1703/1703 [==============================] - 14s 8ms/step - loss: 0.0035 - recall: 0.6070 - val_loss: 0.0035 - val_recall: 0.7681\n",
      "Epoch 53/100\n",
      "1703/1703 [==============================] - 14s 8ms/step - loss: 0.0036 - recall: 0.6096 - val_loss: 0.0032 - val_recall: 0.7826\n",
      "Epoch 54/100\n",
      "1703/1703 [==============================] - 14s 8ms/step - loss: 0.0034 - recall: 0.6230 - val_loss: 0.0033 - val_recall: 0.7681\n",
      "Epoch 55/100\n",
      "1703/1703 [==============================] - 14s 8ms/step - loss: 0.0037 - recall: 0.5989 - val_loss: 0.0034 - val_recall: 0.7246\n",
      "Epoch 56/100\n",
      "1703/1703 [==============================] - 14s 8ms/step - loss: 0.0036 - recall: 0.6176 - val_loss: 0.0034 - val_recall: 0.7536\n",
      "Epoch 57/100\n",
      "1703/1703 [==============================] - 14s 8ms/step - loss: 0.0033 - recall: 0.6176 - val_loss: 0.0033 - val_recall: 0.7826\n",
      "Epoch 58/100\n",
      "1703/1703 [==============================] - 14s 8ms/step - loss: 0.0035 - recall: 0.5856 - val_loss: 0.0032 - val_recall: 0.7826\n",
      "Epoch 59/100\n",
      "1703/1703 [==============================] - 14s 8ms/step - loss: 0.0033 - recall: 0.6337 - val_loss: 0.0035 - val_recall: 0.7826\n",
      "Epoch 60/100\n",
      "1703/1703 [==============================] - 14s 8ms/step - loss: 0.0034 - recall: 0.5909 - val_loss: 0.0036 - val_recall: 0.7391\n",
      "Epoch 61/100\n",
      "1703/1703 [==============================] - 14s 8ms/step - loss: 0.0035 - recall: 0.5989 - val_loss: 0.0033 - val_recall: 0.7681\n",
      "Epoch 62/100\n",
      "1703/1703 [==============================] - 15s 9ms/step - loss: 0.0034 - recall: 0.6337 - val_loss: 0.0034 - val_recall: 0.7536\n",
      "Epoch 63/100\n",
      "1703/1703 [==============================] - 14s 8ms/step - loss: 0.0032 - recall: 0.6043 - val_loss: 0.0037 - val_recall: 0.7681\n",
      "Epoch 64/100\n",
      "1703/1703 [==============================] - 14s 8ms/step - loss: 0.0034 - recall: 0.6070 - val_loss: 0.0035 - val_recall: 0.7681\n",
      "Epoch 65/100\n",
      "1703/1703 [==============================] - 14s 8ms/step - loss: 0.0032 - recall: 0.6471 - val_loss: 0.0038 - val_recall: 0.7826\n",
      "Epoch 66/100\n",
      "1703/1703 [==============================] - 14s 8ms/step - loss: 0.0033 - recall: 0.6016 - val_loss: 0.0035 - val_recall: 0.7826\n",
      "Epoch 67/100\n",
      "1703/1703 [==============================] - 15s 9ms/step - loss: 0.0033 - recall: 0.6283 - val_loss: 0.0039 - val_recall: 0.7826\n",
      "Epoch 68/100\n",
      "1703/1703 [==============================] - 15s 9ms/step - loss: 0.0034 - recall: 0.5695 - val_loss: 0.0035 - val_recall: 0.7391\n",
      "Epoch 69/100\n",
      "1703/1703 [==============================] - 14s 8ms/step - loss: 0.0036 - recall: 0.5963 - val_loss: 0.0035 - val_recall: 0.7391\n",
      "Epoch 70/100\n",
      "1703/1703 [==============================] - 14s 8ms/step - loss: 0.0034 - recall: 0.6230 - val_loss: 0.0035 - val_recall: 0.7391\n",
      "Epoch 71/100\n",
      "1703/1703 [==============================] - 14s 8ms/step - loss: 0.0032 - recall: 0.6310 - val_loss: 0.0042 - val_recall: 0.7536\n",
      "Epoch 72/100\n",
      "1703/1703 [==============================] - 14s 8ms/step - loss: 0.0034 - recall: 0.6176 - val_loss: 0.0039 - val_recall: 0.7391\n",
      "Epoch 73/100\n",
      "1703/1703 [==============================] - 14s 8ms/step - loss: 0.0031 - recall: 0.6471 - val_loss: 0.0039 - val_recall: 0.7391\n",
      "Epoch 74/100\n",
      "1703/1703 [==============================] - 14s 8ms/step - loss: 0.0032 - recall: 0.6043 - val_loss: 0.0042 - val_recall: 0.7391\n",
      "Epoch 75/100\n",
      "1703/1703 [==============================] - 14s 8ms/step - loss: 0.0035 - recall: 0.6123 - val_loss: 0.0046 - val_recall: 0.7246\n",
      "Epoch 76/100\n",
      "1703/1703 [==============================] - 14s 8ms/step - loss: 0.0036 - recall: 0.5695 - val_loss: 0.0040 - val_recall: 0.7391\n",
      "Epoch 77/100\n",
      "1703/1703 [==============================] - 14s 8ms/step - loss: 0.0034 - recall: 0.5989 - val_loss: 0.0039 - val_recall: 0.7246\n",
      "Epoch 78/100\n",
      "1703/1703 [==============================] - 14s 8ms/step - loss: 0.0033 - recall: 0.6257 - val_loss: 0.0044 - val_recall: 0.7391\n",
      "Epoch 79/100\n",
      "1703/1703 [==============================] - 14s 8ms/step - loss: 0.0034 - recall: 0.6043 - val_loss: 0.0042 - val_recall: 0.7536\n",
      "Epoch 80/100\n",
      "1703/1703 [==============================] - 14s 8ms/step - loss: 0.0034 - recall: 0.5963 - val_loss: 0.0034 - val_recall: 0.7536\n",
      "Epoch 81/100\n",
      "1703/1703 [==============================] - 14s 8ms/step - loss: 0.0033 - recall: 0.5989 - val_loss: 0.0040 - val_recall: 0.7391\n",
      "Epoch 82/100\n",
      "1703/1703 [==============================] - 15s 9ms/step - loss: 0.0033 - recall: 0.6364 - val_loss: 0.0040 - val_recall: 0.7681\n",
      "Epoch 83/100\n",
      "1703/1703 [==============================] - 15s 9ms/step - loss: 0.0034 - recall: 0.6096 - val_loss: 0.0035 - val_recall: 0.7681\n",
      "Epoch 84/100\n",
      "1703/1703 [==============================] - 15s 9ms/step - loss: 0.0030 - recall: 0.6257 - val_loss: 0.0037 - val_recall: 0.7826\n",
      "Epoch 85/100\n",
      "1703/1703 [==============================] - 14s 8ms/step - loss: 0.0033 - recall: 0.6417 - val_loss: 0.0043 - val_recall: 0.7826\n",
      "Epoch 86/100\n",
      "1703/1703 [==============================] - 15s 9ms/step - loss: 0.0032 - recall: 0.6390 - val_loss: 0.0048 - val_recall: 0.7681\n",
      "Epoch 87/100\n",
      "1703/1703 [==============================] - 14s 8ms/step - loss: 0.0031 - recall: 0.6123 - val_loss: 0.0042 - val_recall: 0.7681\n",
      "Epoch 88/100\n",
      "1703/1703 [==============================] - 14s 8ms/step - loss: 0.0032 - recall: 0.6123 - val_loss: 0.0049 - val_recall: 0.7536\n",
      "Epoch 89/100\n",
      "1703/1703 [==============================] - 14s 8ms/step - loss: 0.0032 - recall: 0.6310 - val_loss: 0.0042 - val_recall: 0.7681\n",
      "Epoch 90/100\n",
      "1703/1703 [==============================] - 14s 8ms/step - loss: 0.0029 - recall: 0.6524 - val_loss: 0.0040 - val_recall: 0.7826\n",
      "Epoch 91/100\n",
      "1703/1703 [==============================] - 14s 8ms/step - loss: 0.0032 - recall: 0.6257 - val_loss: 0.0042 - val_recall: 0.7826\n",
      "Epoch 92/100\n",
      "1703/1703 [==============================] - 14s 8ms/step - loss: 0.0031 - recall: 0.6390 - val_loss: 0.0046 - val_recall: 0.7681\n",
      "Epoch 93/100\n",
      "1703/1703 [==============================] - 14s 8ms/step - loss: 0.0034 - recall: 0.5749 - val_loss: 0.0033 - val_recall: 0.7681\n",
      "Epoch 94/100\n",
      "1703/1703 [==============================] - 14s 8ms/step - loss: 0.0033 - recall: 0.5989 - val_loss: 0.0040 - val_recall: 0.7826\n",
      "Epoch 95/100\n",
      "1703/1703 [==============================] - 14s 8ms/step - loss: 0.0031 - recall: 0.6417 - val_loss: 0.0036 - val_recall: 0.7681\n",
      "Epoch 96/100\n",
      "1703/1703 [==============================] - 14s 8ms/step - loss: 0.0033 - recall: 0.5909 - val_loss: 0.0052 - val_recall: 0.7536\n",
      "Epoch 97/100\n",
      "1703/1703 [==============================] - 14s 8ms/step - loss: 0.0032 - recall: 0.6096 - val_loss: 0.0041 - val_recall: 0.7391\n",
      "Epoch 98/100\n",
      "1703/1703 [==============================] - 14s 8ms/step - loss: 0.0029 - recall: 0.6497 - val_loss: 0.0050 - val_recall: 0.7681\n",
      "Epoch 99/100\n",
      "1703/1703 [==============================] - 14s 8ms/step - loss: 0.0032 - recall: 0.6150 - val_loss: 0.0047 - val_recall: 0.7536\n",
      "Epoch 100/100\n",
      "1703/1703 [==============================] - 14s 8ms/step - loss: 0.0030 - recall: 0.6230 - val_loss: 0.0055 - val_recall: 0.7536\n"
     ]
    },
    {
     "data": {
      "text/plain": [
       "<keras.callbacks.History at 0x7f27e8c283d0>"
      ]
     },
     "execution_count": 237,
     "metadata": {},
     "output_type": "execute_result"
    }
   ],
   "source": [
    "model.fit(x = X_train3, y = y_train3, validation_split = 0.15, batch_size = 128, epochs = 100, verbose = 1)"
   ]
  },
  {
   "cell_type": "code",
   "execution_count": 238,
   "metadata": {
    "colab": {
     "base_uri": "https://localhost:8080/",
     "height": 206
    },
    "id": "QGVzJAcwzyMs",
    "outputId": "d7c9dde6-4a39-45c5-e454-b20146722a59"
   },
   "outputs": [
    {
     "data": {
      "text/html": [
       "\n",
       "  <div id=\"df-29bc6ec7-59b8-47e8-8404-757f2064bcc3\">\n",
       "    <div class=\"colab-df-container\">\n",
       "      <div>\n",
       "<style scoped>\n",
       "    .dataframe tbody tr th:only-of-type {\n",
       "        vertical-align: middle;\n",
       "    }\n",
       "\n",
       "    .dataframe tbody tr th {\n",
       "        vertical-align: top;\n",
       "    }\n",
       "\n",
       "    .dataframe thead th {\n",
       "        text-align: right;\n",
       "    }\n",
       "</style>\n",
       "<table border=\"1\" class=\"dataframe\">\n",
       "  <thead>\n",
       "    <tr style=\"text-align: right;\">\n",
       "      <th></th>\n",
       "      <th>loss</th>\n",
       "      <th>recall</th>\n",
       "      <th>val_loss</th>\n",
       "      <th>val_recall</th>\n",
       "    </tr>\n",
       "  </thead>\n",
       "  <tbody>\n",
       "    <tr>\n",
       "      <th>0</th>\n",
       "      <td>0.047</td>\n",
       "      <td>0.086</td>\n",
       "      <td>0.006</td>\n",
       "      <td>0.275</td>\n",
       "    </tr>\n",
       "    <tr>\n",
       "      <th>1</th>\n",
       "      <td>0.013</td>\n",
       "      <td>0.195</td>\n",
       "      <td>0.005</td>\n",
       "      <td>0.362</td>\n",
       "    </tr>\n",
       "    <tr>\n",
       "      <th>2</th>\n",
       "      <td>0.010</td>\n",
       "      <td>0.294</td>\n",
       "      <td>0.005</td>\n",
       "      <td>0.232</td>\n",
       "    </tr>\n",
       "    <tr>\n",
       "      <th>3</th>\n",
       "      <td>0.009</td>\n",
       "      <td>0.326</td>\n",
       "      <td>0.004</td>\n",
       "      <td>0.681</td>\n",
       "    </tr>\n",
       "    <tr>\n",
       "      <th>4</th>\n",
       "      <td>0.007</td>\n",
       "      <td>0.369</td>\n",
       "      <td>0.004</td>\n",
       "      <td>0.246</td>\n",
       "    </tr>\n",
       "  </tbody>\n",
       "</table>\n",
       "</div>\n",
       "      <button class=\"colab-df-convert\" onclick=\"convertToInteractive('df-29bc6ec7-59b8-47e8-8404-757f2064bcc3')\"\n",
       "              title=\"Convert this dataframe to an interactive table.\"\n",
       "              style=\"display:none;\">\n",
       "        \n",
       "  <svg xmlns=\"http://www.w3.org/2000/svg\" height=\"24px\"viewBox=\"0 0 24 24\"\n",
       "       width=\"24px\">\n",
       "    <path d=\"M0 0h24v24H0V0z\" fill=\"none\"/>\n",
       "    <path d=\"M18.56 5.44l.94 2.06.94-2.06 2.06-.94-2.06-.94-.94-2.06-.94 2.06-2.06.94zm-11 1L8.5 8.5l.94-2.06 2.06-.94-2.06-.94L8.5 2.5l-.94 2.06-2.06.94zm10 10l.94 2.06.94-2.06 2.06-.94-2.06-.94-.94-2.06-.94 2.06-2.06.94z\"/><path d=\"M17.41 7.96l-1.37-1.37c-.4-.4-.92-.59-1.43-.59-.52 0-1.04.2-1.43.59L10.3 9.45l-7.72 7.72c-.78.78-.78 2.05 0 2.83L4 21.41c.39.39.9.59 1.41.59.51 0 1.02-.2 1.41-.59l7.78-7.78 2.81-2.81c.8-.78.8-2.07 0-2.86zM5.41 20L4 18.59l7.72-7.72 1.47 1.35L5.41 20z\"/>\n",
       "  </svg>\n",
       "      </button>\n",
       "      \n",
       "  <style>\n",
       "    .colab-df-container {\n",
       "      display:flex;\n",
       "      flex-wrap:wrap;\n",
       "      gap: 12px;\n",
       "    }\n",
       "\n",
       "    .colab-df-convert {\n",
       "      background-color: #E8F0FE;\n",
       "      border: none;\n",
       "      border-radius: 50%;\n",
       "      cursor: pointer;\n",
       "      display: none;\n",
       "      fill: #1967D2;\n",
       "      height: 32px;\n",
       "      padding: 0 0 0 0;\n",
       "      width: 32px;\n",
       "    }\n",
       "\n",
       "    .colab-df-convert:hover {\n",
       "      background-color: #E2EBFA;\n",
       "      box-shadow: 0px 1px 2px rgba(60, 64, 67, 0.3), 0px 1px 3px 1px rgba(60, 64, 67, 0.15);\n",
       "      fill: #174EA6;\n",
       "    }\n",
       "\n",
       "    [theme=dark] .colab-df-convert {\n",
       "      background-color: #3B4455;\n",
       "      fill: #D2E3FC;\n",
       "    }\n",
       "\n",
       "    [theme=dark] .colab-df-convert:hover {\n",
       "      background-color: #434B5C;\n",
       "      box-shadow: 0px 1px 3px 1px rgba(0, 0, 0, 0.15);\n",
       "      filter: drop-shadow(0px 1px 2px rgba(0, 0, 0, 0.3));\n",
       "      fill: #FFFFFF;\n",
       "    }\n",
       "  </style>\n",
       "\n",
       "      <script>\n",
       "        const buttonEl =\n",
       "          document.querySelector('#df-29bc6ec7-59b8-47e8-8404-757f2064bcc3 button.colab-df-convert');\n",
       "        buttonEl.style.display =\n",
       "          google.colab.kernel.accessAllowed ? 'block' : 'none';\n",
       "\n",
       "        async function convertToInteractive(key) {\n",
       "          const element = document.querySelector('#df-29bc6ec7-59b8-47e8-8404-757f2064bcc3');\n",
       "          const dataTable =\n",
       "            await google.colab.kernel.invokeFunction('convertToInteractive',\n",
       "                                                     [key], {});\n",
       "          if (!dataTable) return;\n",
       "\n",
       "          const docLinkHtml = 'Like what you see? Visit the ' +\n",
       "            '<a target=\"_blank\" href=https://colab.research.google.com/notebooks/data_table.ipynb>data table notebook</a>'\n",
       "            + ' to learn more about interactive tables.';\n",
       "          element.innerHTML = '';\n",
       "          dataTable['output_type'] = 'display_data';\n",
       "          await google.colab.output.renderOutput(dataTable, element);\n",
       "          const docLink = document.createElement('div');\n",
       "          docLink.innerHTML = docLinkHtml;\n",
       "          element.appendChild(docLink);\n",
       "        }\n",
       "      </script>\n",
       "    </div>\n",
       "  </div>\n",
       "  "
      ],
      "text/plain": [
       "   loss  recall  val_loss  val_recall\n",
       "0 0.047   0.086     0.006       0.275\n",
       "1 0.013   0.195     0.005       0.362\n",
       "2 0.010   0.294     0.005       0.232\n",
       "3 0.009   0.326     0.004       0.681\n",
       "4 0.007   0.369     0.004       0.246"
      ]
     },
     "execution_count": 238,
     "metadata": {},
     "output_type": "execute_result"
    }
   ],
   "source": [
    "loss_df = pd.DataFrame(model.history.history)\n",
    "loss_df.head()"
   ]
  },
  {
   "cell_type": "code",
   "execution_count": 239,
   "metadata": {
    "colab": {
     "base_uri": "https://localhost:8080/",
     "height": 374
    },
    "id": "CpyxRs92zyQz",
    "outputId": "607ff669-380a-4334-de63-558201447937"
   },
   "outputs": [
    {
     "data": {
      "image/png": "[encoded data removed]",
      "text/plain": [
       "<Figure size 720x432 with 1 Axes>"
      ]
     },
     "metadata": {},
     "output_type": "display_data"
    }
   ],
   "source": [
    "loss_df.plot();"
   ]
  },
  {
   "cell_type": "code",
   "execution_count": 240,
   "metadata": {
    "colab": {
     "base_uri": "https://localhost:8080/"
    },
    "id": "-4QKQ6z_85sb",
    "outputId": "bcc5d032-9977-4e2f-a9d1-e40aadf0eca2"
   },
   "outputs": [
    {
     "name": "stdout",
     "output_type": "stream",
     "text": [
      "loss :  0.007946466095745564\n",
      "recall :  0.7142857313156128\n"
     ]
    }
   ],
   "source": [
    "loss, recall = model.evaluate(X_test3, y_test3, verbose=0)\n",
    "print(\"loss : \", loss)\n",
    "print(\"recall : \", recall)"
   ]
  },
  {
   "cell_type": "code",
   "execution_count": 241,
   "metadata": {
    "colab": {
     "base_uri": "https://localhost:8080/"
    },
    "id": "w4ibKlADzyUq",
    "outputId": "9df3c9fa-1ecc-4251-d549-06308d500922"
   },
   "outputs": [
    {
     "name": "stdout",
     "output_type": "stream",
     "text": [
      "[[28424     8]\n",
      " [   14    35]]\n",
      "              precision    recall  f1-score   support\n",
      "\n",
      "           0       1.00      1.00      1.00     28432\n",
      "           1       0.81      0.71      0.76        49\n",
      "\n",
      "    accuracy                           1.00     28481\n",
      "   macro avg       0.91      0.86      0.88     28481\n",
      "weighted avg       1.00      1.00      1.00     28481\n",
      "\n"
     ]
    }
   ],
   "source": [
    "y_pred = (model.predict(X_test3) > 0.5).astype(\"int32\")\n",
    "#y_pred = model.predict_classes(X_test)\n",
    "print(confusion_matrix(y_test3, y_pred))\n",
    "print(classification_report(y_test3, y_pred))"
   ]
  },
  {
   "cell_type": "markdown",
   "metadata": {
    "id": "tu9tcxbDYwik"
   },
   "source": [
    "Early stop ile aldığımız scoreların learning rate ile daha da iyileştiğini gördük. Ancak dropout ise scorelarımızı bir miktar kötüleştirdi."
   ]
  },
  {
   "cell_type": "markdown",
   "metadata": {
    "id": "jdvLMyIo0l_M"
   },
   "source": [
    "CV"
   ]
  },
  {
   "cell_type": "code",
   "execution_count": 242,
   "metadata": {
    "id": "hnzEx43X0i5D"
   },
   "outputs": [],
   "source": [
    "from tensorflow.keras.wrappers.scikit_learn import KerasClassifier"
   ]
  },
  {
   "cell_type": "code",
   "execution_count": 243,
   "metadata": {
    "id": "qV5kbg4R0i8K"
   },
   "outputs": [],
   "source": [
    "def build_classifier():\n",
    "    classifier = Sequential()\n",
    "    classifier.add(Dense(units = 48, activation = 'relu'))\n",
    "    classifier.add(Dense(units = 24, activation = 'relu'))\n",
    "    classifier.add(Dense(units = 12, activation = 'relu'))\n",
    "    classifier.add(Dense(units = 1, activation = 'sigmoid'))\n",
    "    classifier.compile(optimizer = \"adam\", loss = 'binary_crossentropy', metrics = ['Recall'])\n",
    "    return classifier"
   ]
  },
  {
   "cell_type": "code",
   "execution_count": 244,
   "metadata": {
    "colab": {
     "base_uri": "https://localhost:8080/",
     "height": 1000
    },
    "id": "hE_V30On0i_x",
    "outputId": "6f7beb08-5b22-4330-85c3-7f145e647cb8"
   },
   "outputs": [
    {
     "name": "stdout",
     "output_type": "stream",
     "text": [
      "Epoch 1/100\n",
      "1603/1603 [==============================] - 13s 8ms/step - loss: 0.0180 - recall: 0.5836\n",
      "Epoch 2/100\n",
      "1603/1603 [==============================] - 14s 8ms/step - loss: 0.0030 - recall: 0.7960\n",
      "Epoch 3/100\n",
      "1603/1603 [==============================] - 13s 8ms/step - loss: 0.0027 - recall: 0.7960\n",
      "Epoch 4/100\n",
      "1603/1603 [==============================] - 12s 8ms/step - loss: 0.0023 - recall: 0.8102\n",
      "Epoch 5/100\n",
      "1603/1603 [==============================] - 12s 8ms/step - loss: 0.0022 - recall: 0.8329\n",
      "Epoch 6/100\n",
      "1603/1603 [==============================] - 12s 8ms/step - loss: 0.0020 - recall: 0.8244\n",
      "Epoch 7/100\n",
      "1603/1603 [==============================] - 12s 8ms/step - loss: 0.0018 - recall: 0.8385\n",
      "Epoch 8/100\n",
      "1603/1603 [==============================] - 12s 8ms/step - loss: 0.0017 - recall: 0.8272\n",
      "Epoch 9/100\n",
      "1603/1603 [==============================] - 13s 8ms/step - loss: 0.0016 - recall: 0.8385\n",
      "Epoch 10/100\n",
      "1603/1603 [==============================] - 12s 8ms/step - loss: 0.0015 - recall: 0.8442\n",
      "Epoch 11/100\n",
      "1603/1603 [==============================] - 12s 8ms/step - loss: 0.0014 - recall: 0.8555\n",
      "Epoch 12/100\n",
      "1603/1603 [==============================] - 12s 8ms/step - loss: 0.0013 - recall: 0.8669\n",
      "Epoch 13/100\n",
      "1603/1603 [==============================] - 12s 8ms/step - loss: 0.0012 - recall: 0.8669\n",
      "Epoch 14/100\n",
      "1603/1603 [==============================] - 12s 8ms/step - loss: 0.0013 - recall: 0.8697\n",
      "Epoch 15/100\n",
      "1603/1603 [==============================] - 12s 8ms/step - loss: 0.0011 - recall: 0.8782\n",
      "Epoch 16/100\n",
      "1603/1603 [==============================] - 13s 8ms/step - loss: 0.0010 - recall: 0.8980\n",
      "Epoch 17/100\n",
      "1603/1603 [==============================] - 12s 7ms/step - loss: 9.8493e-04 - recall: 0.8895\n",
      "Epoch 18/100\n",
      "1603/1603 [==============================] - 12s 8ms/step - loss: 9.0996e-04 - recall: 0.8924\n",
      "Epoch 19/100\n",
      "1603/1603 [==============================] - 13s 8ms/step - loss: 9.4312e-04 - recall: 0.8895\n",
      "Epoch 20/100\n",
      "1603/1603 [==============================] - 12s 8ms/step - loss: 8.8268e-04 - recall: 0.8754\n",
      "Epoch 21/100\n",
      "1603/1603 [==============================] - 13s 8ms/step - loss: 8.0486e-04 - recall: 0.9065\n",
      "Epoch 22/100\n",
      "1603/1603 [==============================] - 12s 8ms/step - loss: 8.9405e-04 - recall: 0.9037\n",
      "Epoch 23/100\n",
      "1603/1603 [==============================] - 12s 8ms/step - loss: 7.1535e-04 - recall: 0.9150\n",
      "Epoch 24/100\n",
      "1603/1603 [==============================] - 13s 8ms/step - loss: 6.5193e-04 - recall: 0.9150\n",
      "Epoch 25/100\n",
      "1603/1603 [==============================] - 12s 8ms/step - loss: 6.7678e-04 - recall: 0.9150\n",
      "Epoch 26/100\n",
      "1603/1603 [==============================] - 13s 8ms/step - loss: 6.2200e-04 - recall: 0.9207\n",
      "Epoch 27/100\n",
      "1603/1603 [==============================] - 12s 8ms/step - loss: 6.9585e-04 - recall: 0.9320\n",
      "Epoch 28/100\n",
      "1603/1603 [==============================] - 13s 8ms/step - loss: 5.9884e-04 - recall: 0.9235\n",
      "Epoch 29/100\n",
      "1603/1603 [==============================] - 13s 8ms/step - loss: 5.1599e-04 - recall: 0.9377\n",
      "Epoch 30/100\n",
      "1603/1603 [==============================] - 13s 8ms/step - loss: 4.4063e-04 - recall: 0.9518\n",
      "Epoch 31/100\n",
      "1603/1603 [==============================] - 12s 8ms/step - loss: 5.2639e-04 - recall: 0.9462\n",
      "Epoch 32/100\n",
      "1603/1603 [==============================] - 12s 8ms/step - loss: 4.0350e-04 - recall: 0.9462\n",
      "Epoch 33/100\n",
      "1603/1603 [==============================] - 12s 8ms/step - loss: 5.7751e-04 - recall: 0.9462\n",
      "Epoch 34/100\n",
      "1603/1603 [==============================] - 13s 8ms/step - loss: 5.0024e-04 - recall: 0.9377\n",
      "Epoch 35/100\n",
      "1603/1603 [==============================] - 13s 8ms/step - loss: 4.0670e-04 - recall: 0.9433\n",
      "Epoch 36/100\n",
      "1603/1603 [==============================] - 12s 8ms/step - loss: 3.3116e-04 - recall: 0.9603\n",
      "Epoch 37/100\n",
      "1603/1603 [==============================] - 13s 8ms/step - loss: 4.2678e-04 - recall: 0.9462\n",
      "Epoch 38/100\n",
      "1603/1603 [==============================] - 12s 8ms/step - loss: 4.5487e-04 - recall: 0.9575\n",
      "Epoch 39/100\n",
      "1603/1603 [==============================] - 12s 8ms/step - loss: 2.5178e-04 - recall: 0.9660\n",
      "Epoch 40/100\n",
      "1603/1603 [==============================] - 12s 8ms/step - loss: 3.1916e-04 - recall: 0.9603\n",
      "Epoch 41/100\n",
      "1603/1603 [==============================] - 12s 7ms/step - loss: 3.6555e-04 - recall: 0.9717\n",
      "Epoch 42/100\n",
      "1603/1603 [==============================] - 12s 8ms/step - loss: 2.2011e-04 - recall: 0.9745\n",
      "Epoch 43/100\n",
      "1603/1603 [==============================] - 12s 7ms/step - loss: 3.6081e-04 - recall: 0.9660\n",
      "Epoch 44/100\n",
      "1603/1603 [==============================] - 12s 7ms/step - loss: 3.9122e-04 - recall: 0.9575\n",
      "Epoch 45/100\n",
      "1603/1603 [==============================] - 12s 8ms/step - loss: 2.1666e-04 - recall: 0.9802\n",
      "Epoch 46/100\n",
      "1603/1603 [==============================] - 12s 8ms/step - loss: 3.9861e-04 - recall: 0.9603\n",
      "Epoch 47/100\n",
      "1603/1603 [==============================] - 12s 8ms/step - loss: 5.2067e-04 - recall: 0.9632\n",
      "Epoch 48/100\n",
      "1603/1603 [==============================] - 12s 8ms/step - loss: 1.4497e-04 - recall: 0.9830\n",
      "Epoch 49/100\n",
      "1603/1603 [==============================] - 12s 8ms/step - loss: 2.7590e-04 - recall: 0.9717\n",
      "Epoch 50/100\n",
      "1603/1603 [==============================] - 12s 7ms/step - loss: 3.6555e-04 - recall: 0.9575\n",
      "Epoch 51/100\n",
      "1603/1603 [==============================] - 12s 7ms/step - loss: 2.9349e-04 - recall: 0.9802\n",
      "Epoch 52/100\n",
      "1603/1603 [==============================] - 12s 7ms/step - loss: 4.9208e-04 - recall: 0.9575\n",
      "Epoch 53/100\n",
      "1603/1603 [==============================] - 12s 7ms/step - loss: 2.3113e-04 - recall: 0.9745\n",
      "Epoch 54/100\n",
      "1603/1603 [==============================] - 12s 7ms/step - loss: 1.1502e-04 - recall: 0.9830\n",
      "Epoch 55/100\n",
      "1603/1603 [==============================] - 12s 7ms/step - loss: 1.3468e-04 - recall: 0.9887\n",
      "Epoch 56/100\n",
      "1603/1603 [==============================] - 12s 8ms/step - loss: 3.5001e-04 - recall: 0.9802\n",
      "Epoch 57/100\n",
      "1603/1603 [==============================] - 12s 7ms/step - loss: 2.9586e-04 - recall: 0.9830\n",
      "Epoch 58/100\n",
      "1603/1603 [==============================] - 12s 7ms/step - loss: 4.1200e-04 - recall: 0.9717\n",
      "Epoch 59/100\n",
      "1603/1603 [==============================] - 12s 8ms/step - loss: 3.5108e-04 - recall: 0.9717\n",
      "Epoch 60/100\n",
      "1603/1603 [==============================] - 12s 7ms/step - loss: 2.0757e-04 - recall: 0.9830\n",
      "Epoch 61/100\n",
      "1603/1603 [==============================] - 12s 7ms/step - loss: 1.8995e-04 - recall: 0.9802\n",
      "Epoch 62/100\n",
      "1603/1603 [==============================] - 12s 7ms/step - loss: 2.6636e-04 - recall: 0.9717\n",
      "Epoch 63/100\n",
      "1603/1603 [==============================] - 12s 7ms/step - loss: 3.4740e-04 - recall: 0.9717\n",
      "Epoch 64/100\n",
      "1603/1603 [==============================] - 12s 7ms/step - loss: 1.4248e-04 - recall: 0.9915\n",
      "Epoch 65/100\n",
      "1603/1603 [==============================] - 12s 7ms/step - loss: 9.2909e-05 - recall: 0.9915\n",
      "Epoch 66/100\n",
      "1603/1603 [==============================] - 12s 7ms/step - loss: 4.0871e-04 - recall: 0.9632\n",
      "Epoch 67/100\n",
      "1603/1603 [==============================] - 12s 7ms/step - loss: 1.4154e-04 - recall: 0.9802\n",
      "Epoch 68/100\n",
      "1603/1603 [==============================] - 12s 7ms/step - loss: 2.4588e-04 - recall: 0.9802\n",
      "Epoch 69/100\n",
      "1603/1603 [==============================] - 12s 8ms/step - loss: 1.0836e-04 - recall: 0.9887\n",
      "Epoch 70/100\n",
      "1603/1603 [==============================] - 12s 8ms/step - loss: 3.9144e-04 - recall: 0.9603\n",
      "Epoch 71/100\n",
      "1603/1603 [==============================] - 12s 8ms/step - loss: 1.5884e-04 - recall: 0.9802\n",
      "Epoch 72/100\n",
      "1603/1603 [==============================] - 13s 8ms/step - loss: 1.3220e-04 - recall: 0.9858\n",
      "Epoch 73/100\n",
      "1603/1603 [==============================] - 13s 8ms/step - loss: 1.7746e-04 - recall: 0.9858\n",
      "Epoch 74/100\n",
      "1603/1603 [==============================] - 12s 8ms/step - loss: 1.6213e-04 - recall: 0.9887\n",
      "Epoch 75/100\n",
      "1603/1603 [==============================] - 12s 8ms/step - loss: 3.9327e-04 - recall: 0.9688\n",
      "Epoch 76/100\n",
      "1603/1603 [==============================] - 12s 8ms/step - loss: 1.1010e-04 - recall: 0.9858\n",
      "Epoch 77/100\n",
      "1603/1603 [==============================] - 12s 8ms/step - loss: 2.6142e-04 - recall: 0.9745\n",
      "Epoch 78/100\n",
      "1603/1603 [==============================] - 12s 8ms/step - loss: 1.7180e-04 - recall: 0.9830\n",
      "Epoch 79/100\n",
      "1603/1603 [==============================] - 12s 8ms/step - loss: 5.8676e-05 - recall: 0.9972\n",
      "Epoch 80/100\n",
      "1603/1603 [==============================] - 12s 8ms/step - loss: 2.9785e-04 - recall: 0.9717\n",
      "Epoch 81/100\n",
      "1603/1603 [==============================] - 12s 8ms/step - loss: 2.3698e-04 - recall: 0.9802\n",
      "Epoch 82/100\n",
      "1603/1603 [==============================] - 12s 8ms/step - loss: 1.7800e-04 - recall: 0.9830\n",
      "Epoch 83/100\n",
      "1603/1603 [==============================] - 12s 8ms/step - loss: 1.0072e-04 - recall: 0.9858\n",
      "Epoch 84/100\n",
      "1603/1603 [==============================] - 12s 8ms/step - loss: 1.8473e-04 - recall: 0.9802\n",
      "Epoch 85/100\n",
      "1603/1603 [==============================] - 13s 8ms/step - loss: 6.6949e-05 - recall: 0.9943\n",
      "Epoch 86/100\n",
      "1603/1603 [==============================] - 12s 8ms/step - loss: 2.1637e-04 - recall: 0.9830\n",
      "Epoch 87/100\n",
      "1603/1603 [==============================] - 12s 8ms/step - loss: 1.3464e-04 - recall: 0.9887\n",
      "Epoch 88/100\n",
      "1603/1603 [==============================] - 12s 8ms/step - loss: 6.9023e-05 - recall: 0.9915\n",
      "Epoch 89/100\n",
      "1603/1603 [==============================] - 12s 8ms/step - loss: 4.2832e-04 - recall: 0.9717\n",
      "Epoch 90/100\n",
      "1603/1603 [==============================] - 12s 8ms/step - loss: 4.2172e-05 - recall: 0.9915\n",
      "Epoch 91/100\n",
      "1603/1603 [==============================] - 12s 8ms/step - loss: 4.0430e-05 - recall: 0.9943\n",
      "Epoch 92/100\n",
      "1603/1603 [==============================] - 12s 8ms/step - loss: 2.1576e-04 - recall: 0.9858\n",
      "Epoch 93/100\n",
      "1603/1603 [==============================] - 12s 8ms/step - loss: 1.9519e-04 - recall: 0.9830\n",
      "Epoch 94/100\n",
      "1603/1603 [==============================] - 12s 7ms/step - loss: 2.9119e-04 - recall: 0.9773\n",
      "Epoch 95/100\n",
      "1603/1603 [==============================] - 12s 7ms/step - loss: 1.3867e-04 - recall: 0.9887\n",
      "Epoch 96/100\n",
      "1603/1603 [==============================] - 12s 8ms/step - loss: 2.0375e-04 - recall: 0.9887\n",
      "Epoch 97/100\n",
      "1603/1603 [==============================] - 12s 8ms/step - loss: 1.6807e-04 - recall: 0.9830\n",
      "Epoch 98/100\n",
      "1603/1603 [==============================] - 12s 8ms/step - loss: 1.8242e-04 - recall: 0.9830\n",
      "Epoch 99/100\n",
      "1603/1603 [==============================] - 12s 8ms/step - loss: 1.6095e-04 - recall: 0.9830\n",
      "Epoch 100/100\n",
      "1603/1603 [==============================] - 12s 8ms/step - loss: 1.0812e-04 - recall: 0.9915\n",
      "Epoch 1/100\n",
      "1603/1603 [==============================] - 14s 8ms/step - loss: 0.0145 - recall: 0.6694\n",
      "Epoch 2/100\n",
      "1603/1603 [==============================] - 12s 7ms/step - loss: 0.0029 - recall: 0.7696\n",
      "Epoch 3/100\n",
      "1603/1603 [==============================] - 12s 7ms/step - loss: 0.0025 - recall: 0.7805\n",
      "Epoch 4/100\n",
      "1603/1603 [==============================] - 12s 7ms/step - loss: 0.0023 - recall: 0.7805\n",
      "Epoch 5/100\n",
      "1603/1603 [==============================] - 12s 7ms/step - loss: 0.0020 - recall: 0.8049\n",
      "Epoch 6/100\n",
      "1603/1603 [==============================] - 12s 7ms/step - loss: 0.0018 - recall: 0.8293\n",
      "Epoch 7/100\n",
      "1603/1603 [==============================] - 12s 7ms/step - loss: 0.0018 - recall: 0.8211\n",
      "Epoch 8/100\n",
      "1603/1603 [==============================] - 12s 8ms/step - loss: 0.0017 - recall: 0.8591\n",
      "Epoch 9/100\n",
      "1603/1603 [==============================] - 12s 7ms/step - loss: 0.0015 - recall: 0.8509\n",
      "Epoch 10/100\n",
      "1603/1603 [==============================] - 12s 8ms/step - loss: 0.0014 - recall: 0.8537\n",
      "Epoch 11/100\n",
      "1603/1603 [==============================] - 12s 7ms/step - loss: 0.0013 - recall: 0.8753\n",
      "Epoch 12/100\n",
      "1603/1603 [==============================] - 12s 7ms/step - loss: 0.0013 - recall: 0.8537\n",
      "Epoch 13/100\n",
      "1603/1603 [==============================] - 12s 7ms/step - loss: 0.0011 - recall: 0.8591\n",
      "Epoch 14/100\n",
      "1603/1603 [==============================] - 12s 7ms/step - loss: 0.0011 - recall: 0.8591\n",
      "Epoch 15/100\n",
      "1603/1603 [==============================] - 12s 7ms/step - loss: 0.0011 - recall: 0.8808\n",
      "Epoch 16/100\n",
      "1603/1603 [==============================] - 12s 8ms/step - loss: 0.0010 - recall: 0.8780\n",
      "Epoch 17/100\n",
      "1603/1603 [==============================] - 12s 8ms/step - loss: 9.0208e-04 - recall: 0.8916\n",
      "Epoch 18/100\n",
      "1603/1603 [==============================] - 12s 8ms/step - loss: 8.9839e-04 - recall: 0.8780\n",
      "Epoch 19/100\n",
      "1603/1603 [==============================] - 12s 8ms/step - loss: 0.0010 - recall: 0.8970\n",
      "Epoch 20/100\n",
      "1603/1603 [==============================] - 12s 7ms/step - loss: 7.9408e-04 - recall: 0.8970\n",
      "Epoch 21/100\n",
      "1603/1603 [==============================] - 12s 8ms/step - loss: 7.2077e-04 - recall: 0.9051\n",
      "Epoch 22/100\n",
      "1603/1603 [==============================] - 12s 7ms/step - loss: 6.8300e-04 - recall: 0.8997\n",
      "Epoch 23/100\n",
      "1603/1603 [==============================] - 13s 8ms/step - loss: 7.9607e-04 - recall: 0.8997\n",
      "Epoch 24/100\n",
      "1603/1603 [==============================] - 12s 8ms/step - loss: 7.3928e-04 - recall: 0.9079\n",
      "Epoch 25/100\n",
      "1603/1603 [==============================] - 14s 9ms/step - loss: 6.6027e-04 - recall: 0.9214\n",
      "Epoch 26/100\n",
      "1603/1603 [==============================] - 15s 10ms/step - loss: 6.3053e-04 - recall: 0.9187\n",
      "Epoch 27/100\n",
      "1603/1603 [==============================] - 13s 8ms/step - loss: 7.4252e-04 - recall: 0.9295\n",
      "Epoch 28/100\n",
      "1603/1603 [==============================] - 13s 8ms/step - loss: 5.1023e-04 - recall: 0.9377\n",
      "Epoch 29/100\n",
      "1603/1603 [==============================] - 12s 8ms/step - loss: 6.0218e-04 - recall: 0.9322\n",
      "Epoch 30/100\n",
      "1603/1603 [==============================] - 12s 8ms/step - loss: 4.9127e-04 - recall: 0.9350\n",
      "Epoch 31/100\n",
      "1603/1603 [==============================] - 13s 8ms/step - loss: 5.3027e-04 - recall: 0.9322\n",
      "Epoch 32/100\n",
      "1603/1603 [==============================] - 13s 8ms/step - loss: 5.9481e-04 - recall: 0.9268\n",
      "Epoch 33/100\n",
      "1603/1603 [==============================] - 13s 8ms/step - loss: 5.8732e-04 - recall: 0.9295\n",
      "Epoch 34/100\n",
      "1603/1603 [==============================] - 13s 8ms/step - loss: 3.9639e-04 - recall: 0.9566\n",
      "Epoch 35/100\n",
      "1603/1603 [==============================] - 13s 8ms/step - loss: 4.6745e-04 - recall: 0.9485\n",
      "Epoch 36/100\n",
      "1603/1603 [==============================] - 13s 8ms/step - loss: 7.8751e-04 - recall: 0.9214\n",
      "Epoch 37/100\n",
      "1603/1603 [==============================] - 14s 9ms/step - loss: 4.8058e-04 - recall: 0.9377\n",
      "Epoch 38/100\n",
      "1603/1603 [==============================] - 12s 8ms/step - loss: 4.1349e-04 - recall: 0.9431\n",
      "Epoch 39/100\n",
      "1603/1603 [==============================] - 12s 8ms/step - loss: 6.4437e-04 - recall: 0.9241\n",
      "Epoch 40/100\n",
      "1603/1603 [==============================] - 12s 8ms/step - loss: 3.4700e-04 - recall: 0.9485\n",
      "Epoch 41/100\n",
      "1603/1603 [==============================] - 12s 8ms/step - loss: 4.3392e-04 - recall: 0.9512\n",
      "Epoch 42/100\n",
      "1603/1603 [==============================] - 13s 8ms/step - loss: 4.1582e-04 - recall: 0.9485\n",
      "Epoch 43/100\n",
      "1603/1603 [==============================] - 12s 8ms/step - loss: 4.8497e-04 - recall: 0.9431\n",
      "Epoch 44/100\n",
      "1603/1603 [==============================] - 12s 8ms/step - loss: 3.6398e-04 - recall: 0.9621\n",
      "Epoch 45/100\n",
      "1603/1603 [==============================] - 12s 8ms/step - loss: 4.5330e-04 - recall: 0.9512\n",
      "Epoch 46/100\n",
      "1603/1603 [==============================] - 12s 8ms/step - loss: 5.1420e-04 - recall: 0.9458\n",
      "Epoch 47/100\n",
      "1603/1603 [==============================] - 13s 8ms/step - loss: 4.1233e-04 - recall: 0.9539\n",
      "Epoch 48/100\n",
      "1603/1603 [==============================] - 13s 8ms/step - loss: 3.9134e-04 - recall: 0.9485\n",
      "Epoch 49/100\n",
      "1603/1603 [==============================] - 12s 8ms/step - loss: 4.2345e-04 - recall: 0.9621\n",
      "Epoch 50/100\n",
      "1603/1603 [==============================] - 13s 8ms/step - loss: 3.3686e-04 - recall: 0.9621\n",
      "Epoch 51/100\n",
      "1603/1603 [==============================] - 13s 8ms/step - loss: 5.1773e-04 - recall: 0.9458\n",
      "Epoch 52/100\n",
      "1603/1603 [==============================] - 13s 8ms/step - loss: 4.4716e-04 - recall: 0.9458\n",
      "Epoch 53/100\n",
      "1603/1603 [==============================] - 13s 8ms/step - loss: 4.1819e-04 - recall: 0.9593\n",
      "Epoch 54/100\n",
      "1603/1603 [==============================] - 13s 8ms/step - loss: 2.6644e-04 - recall: 0.9702\n",
      "Epoch 55/100\n",
      "1603/1603 [==============================] - 13s 8ms/step - loss: 4.2651e-04 - recall: 0.9566\n",
      "Epoch 56/100\n",
      "1603/1603 [==============================] - 13s 8ms/step - loss: 4.0584e-04 - recall: 0.9593\n",
      "Epoch 57/100\n",
      "1603/1603 [==============================] - 13s 8ms/step - loss: 3.9282e-04 - recall: 0.9702\n",
      "Epoch 58/100\n",
      "1603/1603 [==============================] - 13s 8ms/step - loss: 3.2528e-04 - recall: 0.9593\n",
      "Epoch 59/100\n",
      "1603/1603 [==============================] - 13s 8ms/step - loss: 4.0302e-04 - recall: 0.9566\n",
      "Epoch 60/100\n",
      "1603/1603 [==============================] - 13s 8ms/step - loss: 2.7913e-04 - recall: 0.9756\n",
      "Epoch 61/100\n",
      "1603/1603 [==============================] - 13s 8ms/step - loss: 5.1949e-04 - recall: 0.9539\n",
      "Epoch 62/100\n",
      "1603/1603 [==============================] - 13s 8ms/step - loss: 3.9428e-04 - recall: 0.9539\n",
      "Epoch 63/100\n",
      "1603/1603 [==============================] - 13s 8ms/step - loss: 3.2214e-04 - recall: 0.9648\n",
      "Epoch 64/100\n",
      "1603/1603 [==============================] - 13s 8ms/step - loss: 3.2321e-04 - recall: 0.9756\n",
      "Epoch 65/100\n",
      "1603/1603 [==============================] - 13s 8ms/step - loss: 2.7353e-04 - recall: 0.9675\n",
      "Epoch 66/100\n",
      "1603/1603 [==============================] - 14s 8ms/step - loss: 2.9586e-04 - recall: 0.9675\n",
      "Epoch 67/100\n",
      "1603/1603 [==============================] - 14s 9ms/step - loss: 4.3966e-04 - recall: 0.9485\n",
      "Epoch 68/100\n",
      "1603/1603 [==============================] - 14s 8ms/step - loss: 2.6653e-04 - recall: 0.9621\n",
      "Epoch 69/100\n",
      "1603/1603 [==============================] - 13s 8ms/step - loss: 2.8752e-04 - recall: 0.9648\n",
      "Epoch 70/100\n",
      "1603/1603 [==============================] - 14s 8ms/step - loss: 2.5440e-04 - recall: 0.9756\n",
      "Epoch 71/100\n",
      "1603/1603 [==============================] - 14s 9ms/step - loss: 2.6248e-04 - recall: 0.9756\n",
      "Epoch 72/100\n",
      "1603/1603 [==============================] - 13s 8ms/step - loss: 3.5689e-04 - recall: 0.9593\n",
      "Epoch 73/100\n",
      "1603/1603 [==============================] - 13s 8ms/step - loss: 2.7392e-04 - recall: 0.9783\n",
      "Epoch 74/100\n",
      "1603/1603 [==============================] - 13s 8ms/step - loss: 3.2202e-04 - recall: 0.9675\n",
      "Epoch 75/100\n",
      "1603/1603 [==============================] - 13s 8ms/step - loss: 2.4887e-04 - recall: 0.9837\n",
      "Epoch 76/100\n",
      "1603/1603 [==============================] - 13s 8ms/step - loss: 2.6971e-04 - recall: 0.9675\n",
      "Epoch 77/100\n",
      "1603/1603 [==============================] - 13s 8ms/step - loss: 3.3978e-04 - recall: 0.9756\n",
      "Epoch 78/100\n",
      "1603/1603 [==============================] - 13s 8ms/step - loss: 3.6812e-04 - recall: 0.9729\n",
      "Epoch 79/100\n",
      "1603/1603 [==============================] - 13s 8ms/step - loss: 4.8653e-04 - recall: 0.9810\n",
      "Epoch 80/100\n",
      "1603/1603 [==============================] - 14s 8ms/step - loss: 3.1699e-04 - recall: 0.9702\n",
      "Epoch 81/100\n",
      "1603/1603 [==============================] - 13s 8ms/step - loss: 2.2081e-04 - recall: 0.9810\n",
      "Epoch 82/100\n",
      "1603/1603 [==============================] - 13s 8ms/step - loss: 2.3662e-04 - recall: 0.9702\n",
      "Epoch 83/100\n",
      "1603/1603 [==============================] - 14s 8ms/step - loss: 3.2994e-04 - recall: 0.9675\n",
      "Epoch 84/100\n",
      "1603/1603 [==============================] - 13s 8ms/step - loss: 2.3581e-04 - recall: 0.9729\n",
      "Epoch 85/100\n",
      "1603/1603 [==============================] - 13s 8ms/step - loss: 2.1101e-04 - recall: 0.9702\n",
      "Epoch 86/100\n",
      "1603/1603 [==============================] - 13s 8ms/step - loss: 6.5743e-04 - recall: 0.9593\n",
      "Epoch 87/100\n",
      "1603/1603 [==============================] - 13s 8ms/step - loss: 4.4758e-04 - recall: 0.9593\n",
      "Epoch 88/100\n",
      "1603/1603 [==============================] - 13s 8ms/step - loss: 1.6061e-04 - recall: 0.9837\n",
      "Epoch 89/100\n",
      "1603/1603 [==============================] - 13s 8ms/step - loss: 1.5084e-04 - recall: 0.9837\n",
      "Epoch 90/100\n",
      "1603/1603 [==============================] - 13s 8ms/step - loss: 3.5638e-04 - recall: 0.9675\n",
      "Epoch 91/100\n",
      "1603/1603 [==============================] - 13s 8ms/step - loss: 2.5458e-04 - recall: 0.9756\n",
      "Epoch 92/100\n",
      "1603/1603 [==============================] - 13s 8ms/step - loss: 3.4497e-04 - recall: 0.9729\n",
      "Epoch 93/100\n",
      "1603/1603 [==============================] - 13s 8ms/step - loss: 5.9698e-04 - recall: 0.9458\n",
      "Epoch 94/100\n",
      "1603/1603 [==============================] - 13s 8ms/step - loss: 2.3498e-04 - recall: 0.9810\n",
      "Epoch 95/100\n",
      "1603/1603 [==============================] - 14s 8ms/step - loss: 1.8841e-04 - recall: 0.9864\n",
      "Epoch 96/100\n",
      "1603/1603 [==============================] - 13s 8ms/step - loss: 1.6881e-04 - recall: 0.9837\n",
      "Epoch 97/100\n",
      "1603/1603 [==============================] - 13s 8ms/step - loss: 2.8518e-04 - recall: 0.9621\n",
      "Epoch 98/100\n",
      "1603/1603 [==============================] - 13s 8ms/step - loss: 2.2979e-04 - recall: 0.9702\n",
      "Epoch 99/100\n",
      "1603/1603 [==============================] - 13s 8ms/step - loss: 2.4392e-04 - recall: 0.9864\n",
      "Epoch 100/100\n",
      "1603/1603 [==============================] - 13s 8ms/step - loss: 1.8643e-04 - recall: 0.9783\n",
      "Epoch 1/100\n",
      "1603/1603 [==============================] - 14s 8ms/step - loss: 0.0075 - recall: 0.6871\n",
      "Epoch 2/100\n",
      "1603/1603 [==============================] - 13s 8ms/step - loss: 0.0031 - recall: 0.7749\n",
      "Epoch 3/100\n",
      "1603/1603 [==============================] - 13s 8ms/step - loss: 0.0027 - recall: 0.7807\n",
      "Epoch 4/100\n",
      "1603/1603 [==============================] - 13s 8ms/step - loss: 0.0024 - recall: 0.7749\n",
      "Epoch 5/100\n",
      "1603/1603 [==============================] - 13s 8ms/step - loss: 0.0022 - recall: 0.7924\n",
      "Epoch 6/100\n",
      "1603/1603 [==============================] - 13s 8ms/step - loss: 0.0020 - recall: 0.7982\n",
      "Epoch 7/100\n",
      "1603/1603 [==============================] - 14s 8ms/step - loss: 0.0019 - recall: 0.7749\n",
      "Epoch 8/100\n",
      "1603/1603 [==============================] - 13s 8ms/step - loss: 0.0017 - recall: 0.7836\n",
      "Epoch 9/100\n",
      "1603/1603 [==============================] - 13s 8ms/step - loss: 0.0016 - recall: 0.7982\n",
      "Epoch 10/100\n",
      "1603/1603 [==============================] - 13s 8ms/step - loss: 0.0015 - recall: 0.8187\n",
      "Epoch 11/100\n",
      "1603/1603 [==============================] - 13s 8ms/step - loss: 0.0013 - recall: 0.8187\n",
      "Epoch 12/100\n",
      "1603/1603 [==============================] - 13s 8ms/step - loss: 0.0013 - recall: 0.8304\n",
      "Epoch 13/100\n",
      "1603/1603 [==============================] - 13s 8ms/step - loss: 0.0012 - recall: 0.8626\n",
      "Epoch 14/100\n",
      "1603/1603 [==============================] - 13s 8ms/step - loss: 0.0012 - recall: 0.8567\n",
      "Epoch 15/100\n",
      "1603/1603 [==============================] - 13s 8ms/step - loss: 0.0011 - recall: 0.8626\n",
      "Epoch 16/100\n",
      "1603/1603 [==============================] - 13s 8ms/step - loss: 0.0010 - recall: 0.8743\n",
      "Epoch 17/100\n",
      "1603/1603 [==============================] - 13s 8ms/step - loss: 9.4249e-04 - recall: 0.8801\n",
      "Epoch 18/100\n",
      "1603/1603 [==============================] - 13s 8ms/step - loss: 9.3771e-04 - recall: 0.8772\n",
      "Epoch 19/100\n",
      "1603/1603 [==============================] - 14s 9ms/step - loss: 8.9550e-04 - recall: 0.8860\n",
      "Epoch 20/100\n",
      "1603/1603 [==============================] - 14s 8ms/step - loss: 8.3464e-04 - recall: 0.9035\n",
      "Epoch 21/100\n",
      "1603/1603 [==============================] - 14s 9ms/step - loss: 7.8204e-04 - recall: 0.9064\n",
      "Epoch 22/100\n",
      "1603/1603 [==============================] - 13s 8ms/step - loss: 7.5893e-04 - recall: 0.8977\n",
      "Epoch 23/100\n",
      "1603/1603 [==============================] - 13s 8ms/step - loss: 7.2114e-04 - recall: 0.9152\n",
      "Epoch 24/100\n",
      "1603/1603 [==============================] - 13s 8ms/step - loss: 7.0637e-04 - recall: 0.9211\n",
      "Epoch 25/100\n",
      "1603/1603 [==============================] - 13s 8ms/step - loss: 6.9955e-04 - recall: 0.9240\n",
      "Epoch 26/100\n",
      "1603/1603 [==============================] - 13s 8ms/step - loss: 8.4055e-04 - recall: 0.9211\n",
      "Epoch 27/100\n",
      "1603/1603 [==============================] - 13s 8ms/step - loss: 5.4455e-04 - recall: 0.9298\n",
      "Epoch 28/100\n",
      "1603/1603 [==============================] - 13s 8ms/step - loss: 5.8634e-04 - recall: 0.9240\n",
      "Epoch 29/100\n",
      "1603/1603 [==============================] - 13s 8ms/step - loss: 5.9838e-04 - recall: 0.9298\n",
      "Epoch 30/100\n",
      "1603/1603 [==============================] - 13s 8ms/step - loss: 4.9493e-04 - recall: 0.9357\n",
      "Epoch 31/100\n",
      "1603/1603 [==============================] - 13s 8ms/step - loss: 4.6558e-04 - recall: 0.9444\n",
      "Epoch 32/100\n",
      "1603/1603 [==============================] - 13s 8ms/step - loss: 6.6146e-04 - recall: 0.9386\n",
      "Epoch 33/100\n",
      "1603/1603 [==============================] - 13s 8ms/step - loss: 7.0990e-04 - recall: 0.9269\n",
      "Epoch 34/100\n",
      "1603/1603 [==============================] - 14s 9ms/step - loss: 4.7020e-04 - recall: 0.9503\n",
      "Epoch 35/100\n",
      "1603/1603 [==============================] - 14s 9ms/step - loss: 6.0185e-04 - recall: 0.9298\n",
      "Epoch 36/100\n",
      "1603/1603 [==============================] - 14s 8ms/step - loss: 4.9071e-04 - recall: 0.9503\n",
      "Epoch 37/100\n",
      "1603/1603 [==============================] - 14s 9ms/step - loss: 5.0080e-04 - recall: 0.9474\n",
      "Epoch 38/100\n",
      "1603/1603 [==============================] - 13s 8ms/step - loss: 4.4688e-04 - recall: 0.9474\n",
      "Epoch 39/100\n",
      "1603/1603 [==============================] - 14s 8ms/step - loss: 4.1428e-04 - recall: 0.9474\n",
      "Epoch 40/100\n",
      "1603/1603 [==============================] - 13s 8ms/step - loss: 5.8217e-04 - recall: 0.9415\n",
      "Epoch 41/100\n",
      "1603/1603 [==============================] - 14s 9ms/step - loss: 5.8980e-04 - recall: 0.9474\n",
      "Epoch 42/100\n",
      "1603/1603 [==============================] - 14s 9ms/step - loss: 4.6792e-04 - recall: 0.9503\n",
      "Epoch 43/100\n",
      "1603/1603 [==============================] - 13s 8ms/step - loss: 5.0586e-04 - recall: 0.9532\n",
      "Epoch 44/100\n",
      "1603/1603 [==============================] - 14s 8ms/step - loss: 2.7919e-04 - recall: 0.9649\n",
      "Epoch 45/100\n",
      "1603/1603 [==============================] - 14s 8ms/step - loss: 4.8404e-04 - recall: 0.9561\n",
      "Epoch 46/100\n",
      "1603/1603 [==============================] - 14s 9ms/step - loss: 4.7593e-04 - recall: 0.9532\n",
      "Epoch 47/100\n",
      "1603/1603 [==============================] - 14s 9ms/step - loss: 4.0658e-04 - recall: 0.9591\n",
      "Epoch 48/100\n",
      "1603/1603 [==============================] - 14s 8ms/step - loss: 3.5220e-04 - recall: 0.9649\n",
      "Epoch 49/100\n",
      "1603/1603 [==============================] - 14s 9ms/step - loss: 5.0901e-04 - recall: 0.9386\n",
      "Epoch 50/100\n",
      "1603/1603 [==============================] - 13s 8ms/step - loss: 4.3233e-04 - recall: 0.9503\n",
      "Epoch 51/100\n",
      "1603/1603 [==============================] - 13s 8ms/step - loss: 2.2026e-04 - recall: 0.9795\n",
      "Epoch 52/100\n",
      "1603/1603 [==============================] - 13s 8ms/step - loss: 3.0172e-04 - recall: 0.9708\n",
      "Epoch 53/100\n",
      "1603/1603 [==============================] - 14s 9ms/step - loss: 4.8946e-04 - recall: 0.9591\n",
      "Epoch 54/100\n",
      "1603/1603 [==============================] - 14s 8ms/step - loss: 5.2846e-04 - recall: 0.9620\n",
      "Epoch 55/100\n",
      "1603/1603 [==============================] - 13s 8ms/step - loss: 2.8519e-04 - recall: 0.9708\n",
      "Epoch 56/100\n",
      "1603/1603 [==============================] - 14s 9ms/step - loss: 2.9253e-04 - recall: 0.9766\n",
      "Epoch 57/100\n",
      "1603/1603 [==============================] - 15s 9ms/step - loss: 2.8999e-04 - recall: 0.9766\n",
      "Epoch 58/100\n",
      "1603/1603 [==============================] - 14s 9ms/step - loss: 2.5320e-04 - recall: 0.9825\n",
      "Epoch 59/100\n",
      "1603/1603 [==============================] - 14s 9ms/step - loss: 3.4172e-04 - recall: 0.9737\n",
      "Epoch 60/100\n",
      "1603/1603 [==============================] - 14s 9ms/step - loss: 3.2741e-04 - recall: 0.9708\n",
      "Epoch 61/100\n",
      "1603/1603 [==============================] - 14s 8ms/step - loss: 3.9492e-04 - recall: 0.9561\n",
      "Epoch 62/100\n",
      "1603/1603 [==============================] - 13s 8ms/step - loss: 3.3039e-04 - recall: 0.9766\n",
      "Epoch 63/100\n",
      "1603/1603 [==============================] - 13s 8ms/step - loss: 3.3893e-04 - recall: 0.9766\n",
      "Epoch 64/100\n",
      "1603/1603 [==============================] - 13s 8ms/step - loss: 2.8609e-04 - recall: 0.9795\n",
      "Epoch 65/100\n",
      "1603/1603 [==============================] - 13s 8ms/step - loss: 4.0653e-04 - recall: 0.9591\n",
      "Epoch 66/100\n",
      "1603/1603 [==============================] - 13s 8ms/step - loss: 2.8985e-04 - recall: 0.9708\n",
      "Epoch 67/100\n",
      "1603/1603 [==============================] - 13s 8ms/step - loss: 2.3722e-04 - recall: 0.9825\n",
      "Epoch 68/100\n",
      "1603/1603 [==============================] - 13s 8ms/step - loss: 2.8292e-04 - recall: 0.9678\n",
      "Epoch 69/100\n",
      "1603/1603 [==============================] - 13s 8ms/step - loss: 3.0013e-04 - recall: 0.9766\n",
      "Epoch 70/100\n",
      "1603/1603 [==============================] - 13s 8ms/step - loss: 2.4520e-04 - recall: 0.9825\n",
      "Epoch 71/100\n",
      "1603/1603 [==============================] - 14s 9ms/step - loss: 1.9695e-04 - recall: 0.9825\n",
      "Epoch 72/100\n",
      "1603/1603 [==============================] - 14s 9ms/step - loss: 2.9873e-04 - recall: 0.9708\n",
      "Epoch 73/100\n",
      "1603/1603 [==============================] - 15s 9ms/step - loss: 5.2547e-04 - recall: 0.9620\n",
      "Epoch 74/100\n",
      "1603/1603 [==============================] - 15s 9ms/step - loss: 4.5703e-04 - recall: 0.9620\n",
      "Epoch 75/100\n",
      "1603/1603 [==============================] - 15s 9ms/step - loss: 1.7211e-04 - recall: 0.9883\n",
      "Epoch 76/100\n",
      "1603/1603 [==============================] - 15s 9ms/step - loss: 2.1362e-04 - recall: 0.9825\n",
      "Epoch 77/100\n",
      "1603/1603 [==============================] - 13s 8ms/step - loss: 2.0285e-04 - recall: 0.9854\n",
      "Epoch 78/100\n",
      "1603/1603 [==============================] - 13s 8ms/step - loss: 7.3157e-04 - recall: 0.9561\n",
      "Epoch 79/100\n",
      "1603/1603 [==============================] - 14s 8ms/step - loss: 2.6131e-04 - recall: 0.9795\n",
      "Epoch 80/100\n",
      "1603/1603 [==============================] - 14s 8ms/step - loss: 2.0148e-04 - recall: 0.9766\n",
      "Epoch 81/100\n",
      "1603/1603 [==============================] - 14s 9ms/step - loss: 3.2091e-04 - recall: 0.9825\n",
      "Epoch 82/100\n",
      "1603/1603 [==============================] - 14s 9ms/step - loss: 3.0350e-04 - recall: 0.9678\n",
      "Epoch 83/100\n",
      "1603/1603 [==============================] - 14s 9ms/step - loss: 3.5848e-04 - recall: 0.9708\n",
      "Epoch 84/100\n",
      "1603/1603 [==============================] - 14s 9ms/step - loss: 6.2180e-04 - recall: 0.9737\n",
      "Epoch 85/100\n",
      "1603/1603 [==============================] - 14s 9ms/step - loss: 2.9027e-04 - recall: 0.9649\n",
      "Epoch 86/100\n",
      "1603/1603 [==============================] - 15s 9ms/step - loss: 1.7091e-04 - recall: 0.9795\n",
      "Epoch 87/100\n",
      "1603/1603 [==============================] - 14s 9ms/step - loss: 2.4868e-04 - recall: 0.9854\n",
      "Epoch 88/100\n",
      "1603/1603 [==============================] - 15s 9ms/step - loss: 2.9232e-04 - recall: 0.9766\n",
      "Epoch 89/100\n",
      "1603/1603 [==============================] - 16s 10ms/step - loss: 3.0569e-04 - recall: 0.9708\n",
      "Epoch 90/100\n",
      "1603/1603 [==============================] - 16s 10ms/step - loss: 2.1853e-04 - recall: 0.9766\n",
      "Epoch 91/100\n",
      "1603/1603 [==============================] - 15s 10ms/step - loss: 3.1197e-04 - recall: 0.9883\n",
      "Epoch 92/100\n",
      "1603/1603 [==============================] - 14s 9ms/step - loss: 7.6587e-04 - recall: 0.9620\n",
      "Epoch 93/100\n",
      "1603/1603 [==============================] - 15s 9ms/step - loss: 2.3040e-04 - recall: 0.9795\n",
      "Epoch 94/100\n",
      "1603/1603 [==============================] - 15s 9ms/step - loss: 1.8100e-04 - recall: 0.9854\n",
      "Epoch 95/100\n",
      "1603/1603 [==============================] - 15s 9ms/step - loss: 2.3303e-04 - recall: 0.9795\n",
      "Epoch 96/100\n",
      "1603/1603 [==============================] - 15s 9ms/step - loss: 4.3380e-04 - recall: 0.9591\n",
      "Epoch 97/100\n",
      "1603/1603 [==============================] - 15s 9ms/step - loss: 2.5463e-04 - recall: 0.9766\n",
      "Epoch 98/100\n",
      "1603/1603 [==============================] - 15s 9ms/step - loss: 1.9508e-04 - recall: 0.9737\n",
      "Epoch 99/100\n",
      "1603/1603 [==============================] - 14s 9ms/step - loss: 1.4985e-04 - recall: 0.9854\n",
      "Epoch 100/100\n",
      "1603/1603 [==============================] - 15s 9ms/step - loss: 2.9756e-04 - recall: 0.9678\n",
      "Epoch 1/100\n",
      "1603/1603 [==============================] - 16s 10ms/step - loss: 0.0328 - recall: 0.5960\n",
      "Epoch 2/100\n",
      "1603/1603 [==============================] - 15s 9ms/step - loss: 0.0033 - recall: 0.7853\n",
      "Epoch 3/100\n",
      "1603/1603 [==============================] - 15s 9ms/step - loss: 0.0029 - recall: 0.7938\n",
      "Epoch 4/100\n",
      "1603/1603 [==============================] - 15s 9ms/step - loss: 0.0026 - recall: 0.7966\n",
      "Epoch 5/100\n",
      "1603/1603 [==============================] - 15s 9ms/step - loss: 0.0024 - recall: 0.7994\n",
      "Epoch 6/100\n",
      "1603/1603 [==============================] - 15s 9ms/step - loss: 0.0022 - recall: 0.7825\n",
      "Epoch 7/100\n",
      "1603/1603 [==============================] - 15s 9ms/step - loss: 0.0021 - recall: 0.7994\n",
      "Epoch 8/100\n",
      "1603/1603 [==============================] - 15s 9ms/step - loss: 0.0019 - recall: 0.8023\n",
      "Epoch 9/100\n",
      "1603/1603 [==============================] - 14s 9ms/step - loss: 0.0018 - recall: 0.8136\n",
      "Epoch 10/100\n",
      "1603/1603 [==============================] - 14s 9ms/step - loss: 0.0017 - recall: 0.8164\n",
      "Epoch 11/100\n",
      "1603/1603 [==============================] - 14s 9ms/step - loss: 0.0015 - recall: 0.8249\n",
      "Epoch 12/100\n",
      "1603/1603 [==============================] - 15s 9ms/step - loss: 0.0015 - recall: 0.8277\n",
      "Epoch 13/100\n",
      "1603/1603 [==============================] - 15s 10ms/step - loss: 0.0014 - recall: 0.8475\n",
      "Epoch 14/100\n",
      "1603/1603 [==============================] - 15s 10ms/step - loss: 0.0013 - recall: 0.8446\n",
      "Epoch 15/100\n",
      "1603/1603 [==============================] - 15s 9ms/step - loss: 0.0013 - recall: 0.8362\n",
      "Epoch 16/100\n",
      "1603/1603 [==============================] - 14s 9ms/step - loss: 0.0012 - recall: 0.8588\n",
      "Epoch 17/100\n",
      "1603/1603 [==============================] - 14s 9ms/step - loss: 0.0012 - recall: 0.8588\n",
      "Epoch 18/100\n",
      "1603/1603 [==============================] - 14s 8ms/step - loss: 0.0010 - recall: 0.8701\n",
      "Epoch 19/100\n",
      "1603/1603 [==============================] - 13s 8ms/step - loss: 0.0010 - recall: 0.8729\n",
      "Epoch 20/100\n",
      "1603/1603 [==============================] - 13s 8ms/step - loss: 0.0011 - recall: 0.8701\n",
      "Epoch 21/100\n",
      "1603/1603 [==============================] - 13s 8ms/step - loss: 0.0011 - recall: 0.8616\n",
      "Epoch 22/100\n",
      "1603/1603 [==============================] - 13s 8ms/step - loss: 8.6574e-04 - recall: 0.8955\n",
      "Epoch 23/100\n",
      "1603/1603 [==============================] - 13s 8ms/step - loss: 7.7386e-04 - recall: 0.9068\n",
      "Epoch 24/100\n",
      "1603/1603 [==============================] - 13s 8ms/step - loss: 8.9262e-04 - recall: 0.8785\n",
      "Epoch 25/100\n",
      "1603/1603 [==============================] - 13s 8ms/step - loss: 8.4592e-04 - recall: 0.9040\n",
      "Epoch 26/100\n",
      "1603/1603 [==============================] - 14s 9ms/step - loss: 7.6549e-04 - recall: 0.8983\n",
      "Epoch 27/100\n",
      "1603/1603 [==============================] - 14s 8ms/step - loss: 6.9766e-04 - recall: 0.9068\n",
      "Epoch 28/100\n",
      "1603/1603 [==============================] - 14s 9ms/step - loss: 8.4958e-04 - recall: 0.8955\n",
      "Epoch 29/100\n",
      "1603/1603 [==============================] - 14s 9ms/step - loss: 6.3105e-04 - recall: 0.8983\n",
      "Epoch 30/100\n",
      "1603/1603 [==============================] - 14s 9ms/step - loss: 6.3062e-04 - recall: 0.9181\n",
      "Epoch 31/100\n",
      "1603/1603 [==============================] - 14s 9ms/step - loss: 6.8123e-04 - recall: 0.8955\n",
      "Epoch 32/100\n",
      "1603/1603 [==============================] - 14s 9ms/step - loss: 6.6023e-04 - recall: 0.9181\n",
      "Epoch 33/100\n",
      "1603/1603 [==============================] - 13s 8ms/step - loss: 6.5885e-04 - recall: 0.9209\n",
      "Epoch 34/100\n",
      "1603/1603 [==============================] - 14s 8ms/step - loss: 5.1208e-04 - recall: 0.9322\n",
      "Epoch 35/100\n",
      "1603/1603 [==============================] - 13s 8ms/step - loss: 5.5561e-04 - recall: 0.9237\n",
      "Epoch 36/100\n",
      "1603/1603 [==============================] - 13s 8ms/step - loss: 7.5311e-04 - recall: 0.9181\n",
      "Epoch 37/100\n",
      "1603/1603 [==============================] - 13s 8ms/step - loss: 4.3461e-04 - recall: 0.9463\n",
      "Epoch 38/100\n",
      "1603/1603 [==============================] - 14s 9ms/step - loss: 4.8521e-04 - recall: 0.9322\n",
      "Epoch 39/100\n",
      "1603/1603 [==============================] - 14s 9ms/step - loss: 5.3019e-04 - recall: 0.9463\n",
      "Epoch 40/100\n",
      "1603/1603 [==============================] - 14s 9ms/step - loss: 5.2299e-04 - recall: 0.9322\n",
      "Epoch 41/100\n",
      "1603/1603 [==============================] - 14s 9ms/step - loss: 4.9179e-04 - recall: 0.9379\n",
      "Epoch 42/100\n",
      "1603/1603 [==============================] - 14s 9ms/step - loss: 6.1848e-04 - recall: 0.9407\n",
      "Epoch 43/100\n",
      "1603/1603 [==============================] - 14s 9ms/step - loss: 4.7488e-04 - recall: 0.9463\n",
      "Epoch 44/100\n",
      "1603/1603 [==============================] - 13s 8ms/step - loss: 4.2778e-04 - recall: 0.9435\n",
      "Epoch 45/100\n",
      "1603/1603 [==============================] - 13s 8ms/step - loss: 4.2916e-04 - recall: 0.9463\n",
      "Epoch 46/100\n",
      "1603/1603 [==============================] - 13s 8ms/step - loss: 3.9850e-04 - recall: 0.9605\n",
      "Epoch 47/100\n",
      "1603/1603 [==============================] - 13s 8ms/step - loss: 4.5373e-04 - recall: 0.9492\n",
      "Epoch 48/100\n",
      "1603/1603 [==============================] - 13s 8ms/step - loss: 3.4918e-04 - recall: 0.9520\n",
      "Epoch 49/100\n",
      "1603/1603 [==============================] - 14s 9ms/step - loss: 5.1997e-04 - recall: 0.9463\n",
      "Epoch 50/100\n",
      "1603/1603 [==============================] - 14s 8ms/step - loss: 4.0426e-04 - recall: 0.9463\n",
      "Epoch 51/100\n",
      "1603/1603 [==============================] - 14s 9ms/step - loss: 4.5466e-04 - recall: 0.9407\n",
      "Epoch 52/100\n",
      "1603/1603 [==============================] - 14s 9ms/step - loss: 5.5841e-04 - recall: 0.9463\n",
      "Epoch 53/100\n",
      "1603/1603 [==============================] - 14s 9ms/step - loss: 3.9612e-04 - recall: 0.9605\n",
      "Epoch 54/100\n",
      "1603/1603 [==============================] - 14s 9ms/step - loss: 2.9193e-04 - recall: 0.9576\n",
      "Epoch 55/100\n",
      "1603/1603 [==============================] - 14s 9ms/step - loss: 4.5041e-04 - recall: 0.9492\n",
      "Epoch 56/100\n",
      "1603/1603 [==============================] - 14s 9ms/step - loss: 4.4424e-04 - recall: 0.9463\n",
      "Epoch 57/100\n",
      "1603/1603 [==============================] - 14s 9ms/step - loss: 3.4841e-04 - recall: 0.9633\n",
      "Epoch 58/100\n",
      "1603/1603 [==============================] - 14s 9ms/step - loss: 3.0544e-04 - recall: 0.9746\n",
      "Epoch 59/100\n",
      "1603/1603 [==============================] - 14s 9ms/step - loss: 5.4269e-04 - recall: 0.9407\n",
      "Epoch 60/100\n",
      "1603/1603 [==============================] - 14s 8ms/step - loss: 3.4434e-04 - recall: 0.9492\n",
      "Epoch 61/100\n",
      "1603/1603 [==============================] - 13s 8ms/step - loss: 3.0505e-04 - recall: 0.9633\n",
      "Epoch 62/100\n",
      "1603/1603 [==============================] - 14s 8ms/step - loss: 2.9089e-04 - recall: 0.9661\n",
      "Epoch 63/100\n",
      "1603/1603 [==============================] - 14s 9ms/step - loss: 4.3330e-04 - recall: 0.9548\n",
      "Epoch 64/100\n",
      "1603/1603 [==============================] - 14s 9ms/step - loss: 3.2503e-04 - recall: 0.9746\n",
      "Epoch 65/100\n",
      "1603/1603 [==============================] - 13s 8ms/step - loss: 3.8653e-04 - recall: 0.9520\n",
      "Epoch 66/100\n",
      "1603/1603 [==============================] - 13s 8ms/step - loss: 2.8250e-04 - recall: 0.9661\n",
      "Epoch 67/100\n",
      "1603/1603 [==============================] - 14s 9ms/step - loss: 3.4420e-04 - recall: 0.9576\n",
      "Epoch 68/100\n",
      "1603/1603 [==============================] - 14s 9ms/step - loss: 2.8497e-04 - recall: 0.9661\n",
      "Epoch 69/100\n",
      "1603/1603 [==============================] - 13s 8ms/step - loss: 3.8370e-04 - recall: 0.9661\n",
      "Epoch 70/100\n",
      "1603/1603 [==============================] - 14s 9ms/step - loss: 2.6335e-04 - recall: 0.9689\n",
      "Epoch 71/100\n",
      "1603/1603 [==============================] - 14s 9ms/step - loss: 3.2888e-04 - recall: 0.9633\n",
      "Epoch 72/100\n",
      "1603/1603 [==============================] - 14s 9ms/step - loss: 3.4356e-04 - recall: 0.9633\n",
      "Epoch 73/100\n",
      "1603/1603 [==============================] - 14s 8ms/step - loss: 2.5052e-04 - recall: 0.9746\n",
      "Epoch 74/100\n",
      "1603/1603 [==============================] - 13s 8ms/step - loss: 3.4628e-04 - recall: 0.9774\n",
      "Epoch 75/100\n",
      "1603/1603 [==============================] - 13s 8ms/step - loss: 2.9530e-04 - recall: 0.9605\n",
      "Epoch 76/100\n",
      "1603/1603 [==============================] - 13s 8ms/step - loss: 3.5145e-04 - recall: 0.9718\n",
      "Epoch 77/100\n",
      "1603/1603 [==============================] - 13s 8ms/step - loss: 2.3467e-04 - recall: 0.9746\n",
      "Epoch 78/100\n",
      "1603/1603 [==============================] - 13s 8ms/step - loss: 3.0525e-04 - recall: 0.9718\n",
      "Epoch 79/100\n",
      "1603/1603 [==============================] - 12s 8ms/step - loss: 2.3265e-04 - recall: 0.9802\n",
      "Epoch 80/100\n",
      "1603/1603 [==============================] - 13s 8ms/step - loss: 3.2253e-04 - recall: 0.9661\n",
      "Epoch 81/100\n",
      "1603/1603 [==============================] - 13s 8ms/step - loss: 3.0221e-04 - recall: 0.9689\n",
      "Epoch 82/100\n",
      "1603/1603 [==============================] - 13s 8ms/step - loss: 2.3622e-04 - recall: 0.9718\n",
      "Epoch 83/100\n",
      "1603/1603 [==============================] - 13s 8ms/step - loss: 2.6210e-04 - recall: 0.9774\n",
      "Epoch 84/100\n",
      "1603/1603 [==============================] - 13s 8ms/step - loss: 2.9443e-04 - recall: 0.9689\n",
      "Epoch 85/100\n",
      "1603/1603 [==============================] - 13s 8ms/step - loss: 2.7205e-04 - recall: 0.9746\n",
      "Epoch 86/100\n",
      "1603/1603 [==============================] - 13s 8ms/step - loss: 4.1273e-04 - recall: 0.9661\n",
      "Epoch 87/100\n",
      "1603/1603 [==============================] - 13s 8ms/step - loss: 1.7895e-04 - recall: 0.9746\n",
      "Epoch 88/100\n",
      "1603/1603 [==============================] - 13s 8ms/step - loss: 1.7102e-04 - recall: 0.9831\n",
      "Epoch 89/100\n",
      "1603/1603 [==============================] - 12s 8ms/step - loss: 3.2336e-04 - recall: 0.9633\n",
      "Epoch 90/100\n",
      "1603/1603 [==============================] - 13s 8ms/step - loss: 2.5893e-04 - recall: 0.9774\n",
      "Epoch 91/100\n",
      "1603/1603 [==============================] - 13s 8ms/step - loss: 2.2297e-04 - recall: 0.9802\n",
      "Epoch 92/100\n",
      "1603/1603 [==============================] - 14s 9ms/step - loss: 2.9845e-04 - recall: 0.9746\n",
      "Epoch 93/100\n",
      "1603/1603 [==============================] - 14s 8ms/step - loss: 2.7839e-04 - recall: 0.9802\n",
      "Epoch 94/100\n",
      "1603/1603 [==============================] - 14s 9ms/step - loss: 2.4402e-04 - recall: 0.9689\n",
      "Epoch 95/100\n",
      "1603/1603 [==============================] - 13s 8ms/step - loss: 2.3738e-04 - recall: 0.9859\n",
      "Epoch 96/100\n",
      "1603/1603 [==============================] - 13s 8ms/step - loss: 2.4828e-04 - recall: 0.9802\n",
      "Epoch 97/100\n",
      "1603/1603 [==============================] - 13s 8ms/step - loss: 1.8555e-04 - recall: 0.9802\n",
      "Epoch 98/100\n",
      "1603/1603 [==============================] - 13s 8ms/step - loss: 2.3678e-04 - recall: 0.9774\n",
      "Epoch 99/100\n",
      "1603/1603 [==============================] - 13s 8ms/step - loss: 1.5880e-04 - recall: 0.9831\n",
      "Epoch 100/100\n",
      "1603/1603 [==============================] - 13s 8ms/step - loss: 3.2935e-04 - recall: 0.9633\n",
      "Epoch 1/100\n",
      "1603/1603 [==============================] - 14s 8ms/step - loss: 0.0113 - recall: 0.6751\n",
      "Epoch 2/100\n",
      "1603/1603 [==============================] - 13s 8ms/step - loss: 0.0032 - recall: 0.7881\n",
      "Epoch 3/100\n",
      "1603/1603 [==============================] - 13s 8ms/step - loss: 0.0028 - recall: 0.7825\n",
      "Epoch 4/100\n",
      "1603/1603 [==============================] - 13s 8ms/step - loss: 0.0025 - recall: 0.7740\n",
      "Epoch 5/100\n",
      "1603/1603 [==============================] - 13s 8ms/step - loss: 0.0023 - recall: 0.7768\n",
      "Epoch 6/100\n",
      "1603/1603 [==============================] - 13s 8ms/step - loss: 0.0021 - recall: 0.7994\n",
      "Epoch 7/100\n",
      "1603/1603 [==============================] - 13s 8ms/step - loss: 0.0020 - recall: 0.7910\n",
      "Epoch 8/100\n",
      "1603/1603 [==============================] - 14s 9ms/step - loss: 0.0018 - recall: 0.8220\n",
      "Epoch 9/100\n",
      "1603/1603 [==============================] - 13s 8ms/step - loss: 0.0017 - recall: 0.7994\n",
      "Epoch 10/100\n",
      "1603/1603 [==============================] - 14s 8ms/step - loss: 0.0017 - recall: 0.8023\n",
      "Epoch 11/100\n",
      "1603/1603 [==============================] - 14s 9ms/step - loss: 0.0014 - recall: 0.8192\n",
      "Epoch 12/100\n",
      "1603/1603 [==============================] - 13s 8ms/step - loss: 0.0015 - recall: 0.8362\n",
      "Epoch 13/100\n",
      "1603/1603 [==============================] - 14s 8ms/step - loss: 0.0014 - recall: 0.8446\n",
      "Epoch 14/100\n",
      "1603/1603 [==============================] - 14s 9ms/step - loss: 0.0013 - recall: 0.8503\n",
      "Epoch 15/100\n",
      "1603/1603 [==============================] - 14s 8ms/step - loss: 0.0012 - recall: 0.8531\n",
      "Epoch 16/100\n",
      "1603/1603 [==============================] - 14s 9ms/step - loss: 0.0011 - recall: 0.8729\n",
      "Epoch 17/100\n",
      "1603/1603 [==============================] - 14s 9ms/step - loss: 0.0011 - recall: 0.8842\n",
      "Epoch 18/100\n",
      "1603/1603 [==============================] - 14s 9ms/step - loss: 0.0011 - recall: 0.8616\n",
      "Epoch 19/100\n",
      "1603/1603 [==============================] - 14s 9ms/step - loss: 9.5374e-04 - recall: 0.8814\n",
      "Epoch 20/100\n",
      "1603/1603 [==============================] - 14s 9ms/step - loss: 9.3736e-04 - recall: 0.8842\n",
      "Epoch 21/100\n",
      "1603/1603 [==============================] - 14s 9ms/step - loss: 9.1000e-04 - recall: 0.8955\n",
      "Epoch 22/100\n",
      "1603/1603 [==============================] - 14s 9ms/step - loss: 8.0842e-04 - recall: 0.9011\n",
      "Epoch 23/100\n",
      "1603/1603 [==============================] - 14s 9ms/step - loss: 7.6994e-04 - recall: 0.9040\n",
      "Epoch 24/100\n",
      "1603/1603 [==============================] - 14s 9ms/step - loss: 9.2808e-04 - recall: 0.8927\n",
      "Epoch 25/100\n",
      "1603/1603 [==============================] - 14s 9ms/step - loss: 6.4381e-04 - recall: 0.9209\n",
      "Epoch 26/100\n",
      "1603/1603 [==============================] - 14s 9ms/step - loss: 6.7108e-04 - recall: 0.9181\n",
      "Epoch 27/100\n",
      "1603/1603 [==============================] - 14s 9ms/step - loss: 6.6591e-04 - recall: 0.8983\n",
      "Epoch 28/100\n",
      "1603/1603 [==============================] - 14s 9ms/step - loss: 7.9751e-04 - recall: 0.9040\n",
      "Epoch 29/100\n",
      "1603/1603 [==============================] - 14s 9ms/step - loss: 8.3785e-04 - recall: 0.9124\n",
      "Epoch 30/100\n",
      "1603/1603 [==============================] - 14s 9ms/step - loss: 4.9245e-04 - recall: 0.9407\n",
      "Epoch 31/100\n",
      "1603/1603 [==============================] - 14s 9ms/step - loss: 5.8049e-04 - recall: 0.9435\n",
      "Epoch 32/100\n",
      "1603/1603 [==============================] - 14s 9ms/step - loss: 6.4294e-04 - recall: 0.9350\n",
      "Epoch 33/100\n",
      "1603/1603 [==============================] - 14s 9ms/step - loss: 4.9853e-04 - recall: 0.9322\n",
      "Epoch 34/100\n",
      "1603/1603 [==============================] - 14s 9ms/step - loss: 5.1223e-04 - recall: 0.9435\n",
      "Epoch 35/100\n",
      "1603/1603 [==============================] - 14s 9ms/step - loss: 6.6183e-04 - recall: 0.9350\n",
      "Epoch 36/100\n",
      "1603/1603 [==============================] - 14s 8ms/step - loss: 4.9562e-04 - recall: 0.9322\n",
      "Epoch 37/100\n",
      "1603/1603 [==============================] - 13s 8ms/step - loss: 4.8984e-04 - recall: 0.9576\n",
      "Epoch 38/100\n",
      "1603/1603 [==============================] - 14s 8ms/step - loss: 5.9035e-04 - recall: 0.9266\n",
      "Epoch 39/100\n",
      "1603/1603 [==============================] - 14s 9ms/step - loss: 4.4504e-04 - recall: 0.9463\n",
      "Epoch 40/100\n",
      "1603/1603 [==============================] - 14s 9ms/step - loss: 4.2155e-04 - recall: 0.9435\n",
      "Epoch 41/100\n",
      "1603/1603 [==============================] - 14s 9ms/step - loss: 4.9960e-04 - recall: 0.9379\n",
      "Epoch 42/100\n",
      "1603/1603 [==============================] - 14s 9ms/step - loss: 3.4625e-04 - recall: 0.9605\n",
      "Epoch 43/100\n",
      "1603/1603 [==============================] - 14s 9ms/step - loss: 5.8674e-04 - recall: 0.9492\n",
      "Epoch 44/100\n",
      "1603/1603 [==============================] - 14s 9ms/step - loss: 3.5612e-04 - recall: 0.9576\n",
      "Epoch 45/100\n",
      "1603/1603 [==============================] - 14s 9ms/step - loss: 3.9953e-04 - recall: 0.9576\n",
      "Epoch 46/100\n",
      "1603/1603 [==============================] - 13s 8ms/step - loss: 5.2947e-04 - recall: 0.9322\n",
      "Epoch 47/100\n",
      "1603/1603 [==============================] - 14s 8ms/step - loss: 3.7412e-04 - recall: 0.9689\n",
      "Epoch 48/100\n",
      "1603/1603 [==============================] - 13s 8ms/step - loss: 5.5208e-04 - recall: 0.9407\n",
      "Epoch 49/100\n",
      "1603/1603 [==============================] - 13s 8ms/step - loss: 2.7402e-04 - recall: 0.9633\n",
      "Epoch 50/100\n",
      "1603/1603 [==============================] - 13s 8ms/step - loss: 4.6405e-04 - recall: 0.9548\n",
      "Epoch 51/100\n",
      "1603/1603 [==============================] - 13s 8ms/step - loss: 4.0711e-04 - recall: 0.9605\n",
      "Epoch 52/100\n",
      "1603/1603 [==============================] - 13s 8ms/step - loss: 4.3934e-04 - recall: 0.9576\n",
      "Epoch 53/100\n",
      "1603/1603 [==============================] - 13s 8ms/step - loss: 7.4576e-04 - recall: 0.9548\n",
      "Epoch 54/100\n",
      "1603/1603 [==============================] - 14s 8ms/step - loss: 2.2036e-04 - recall: 0.9746\n",
      "Epoch 55/100\n",
      "1603/1603 [==============================] - 13s 8ms/step - loss: 2.8614e-04 - recall: 0.9689\n",
      "Epoch 56/100\n",
      "1603/1603 [==============================] - 13s 8ms/step - loss: 5.0027e-04 - recall: 0.9576\n",
      "Epoch 57/100\n",
      "1603/1603 [==============================] - 13s 8ms/step - loss: 3.4167e-04 - recall: 0.9605\n",
      "Epoch 58/100\n",
      "1603/1603 [==============================] - 13s 8ms/step - loss: 5.0249e-04 - recall: 0.9548\n",
      "Epoch 59/100\n",
      "1603/1603 [==============================] - 13s 8ms/step - loss: 2.5637e-04 - recall: 0.9689\n",
      "Epoch 60/100\n",
      "1603/1603 [==============================] - 13s 8ms/step - loss: 2.6552e-04 - recall: 0.9746\n",
      "Epoch 61/100\n",
      "1603/1603 [==============================] - 13s 8ms/step - loss: 4.7632e-04 - recall: 0.9576\n",
      "Epoch 62/100\n",
      "1603/1603 [==============================] - 13s 8ms/step - loss: 3.2691e-04 - recall: 0.9661\n",
      "Epoch 63/100\n",
      "1603/1603 [==============================] - 13s 8ms/step - loss: 7.2736e-04 - recall: 0.9435\n",
      "Epoch 64/100\n",
      "1603/1603 [==============================] - 17s 10ms/step - loss: 3.9050e-04 - recall: 0.9576\n",
      "Epoch 65/100\n",
      "1603/1603 [==============================] - 18s 11ms/step - loss: 2.5110e-04 - recall: 0.9774\n",
      "Epoch 66/100\n",
      "1603/1603 [==============================] - 16s 10ms/step - loss: 3.5204e-04 - recall: 0.9633\n",
      "Epoch 67/100\n",
      "1603/1603 [==============================] - 18s 11ms/step - loss: 2.1226e-04 - recall: 0.9746\n",
      "Epoch 68/100\n",
      "1603/1603 [==============================] - 17s 10ms/step - loss: 3.3019e-04 - recall: 0.9633\n",
      "Epoch 69/100\n",
      "1603/1603 [==============================] - 16s 10ms/step - loss: 4.0125e-04 - recall: 0.9605\n",
      "Epoch 70/100\n",
      "1603/1603 [==============================] - 14s 8ms/step - loss: 1.6250e-04 - recall: 0.9774\n",
      "Epoch 71/100\n",
      "1603/1603 [==============================] - 13s 8ms/step - loss: 3.1088e-04 - recall: 0.9689\n",
      "Epoch 72/100\n",
      "1603/1603 [==============================] - 13s 8ms/step - loss: 2.7204e-04 - recall: 0.9689\n",
      "Epoch 73/100\n",
      "1603/1603 [==============================] - 15s 9ms/step - loss: 1.9909e-04 - recall: 0.9802\n",
      "Epoch 74/100\n",
      "1603/1603 [==============================] - 14s 9ms/step - loss: 2.8694e-04 - recall: 0.9718\n",
      "Epoch 75/100\n",
      "1603/1603 [==============================] - 13s 8ms/step - loss: 4.9217e-04 - recall: 0.9463\n",
      "Epoch 76/100\n",
      "1603/1603 [==============================] - 13s 8ms/step - loss: 3.7783e-04 - recall: 0.9633\n",
      "Epoch 77/100\n",
      "1603/1603 [==============================] - 13s 8ms/step - loss: 6.3312e-04 - recall: 0.9435\n",
      "Epoch 78/100\n",
      "1603/1603 [==============================] - 13s 8ms/step - loss: 1.2968e-04 - recall: 0.9859\n",
      "Epoch 79/100\n",
      "1603/1603 [==============================] - 13s 8ms/step - loss: 1.4788e-04 - recall: 0.9859\n",
      "Epoch 80/100\n",
      "1603/1603 [==============================] - 13s 8ms/step - loss: 4.8030e-04 - recall: 0.9576\n",
      "Epoch 81/100\n",
      "1603/1603 [==============================] - 13s 8ms/step - loss: 2.4274e-04 - recall: 0.9718\n",
      "Epoch 82/100\n",
      "1603/1603 [==============================] - 13s 8ms/step - loss: 1.7877e-04 - recall: 0.9774\n",
      "Epoch 83/100\n",
      "1603/1603 [==============================] - 13s 8ms/step - loss: 1.4537e-04 - recall: 0.9859\n",
      "Epoch 84/100\n",
      "1603/1603 [==============================] - 13s 8ms/step - loss: 4.1336e-04 - recall: 0.9633\n",
      "Epoch 85/100\n",
      "1603/1603 [==============================] - 13s 8ms/step - loss: 2.2267e-04 - recall: 0.9718\n",
      "Epoch 86/100\n",
      "1603/1603 [==============================] - 13s 8ms/step - loss: 2.0116e-04 - recall: 0.9774\n",
      "Epoch 87/100\n",
      "1603/1603 [==============================] - 13s 8ms/step - loss: 3.3071e-04 - recall: 0.9718\n",
      "Epoch 88/100\n",
      "1603/1603 [==============================] - 14s 8ms/step - loss: 1.5673e-04 - recall: 0.9802\n",
      "Epoch 89/100\n",
      "1603/1603 [==============================] - 14s 9ms/step - loss: 2.1079e-04 - recall: 0.9802\n",
      "Epoch 90/100\n",
      "1603/1603 [==============================] - 14s 9ms/step - loss: 5.2194e-04 - recall: 0.9492\n",
      "Epoch 91/100\n",
      "1603/1603 [==============================] - 13s 8ms/step - loss: 3.2924e-04 - recall: 0.9633\n",
      "Epoch 92/100\n",
      "1603/1603 [==============================] - 14s 8ms/step - loss: 2.6008e-04 - recall: 0.9718\n",
      "Epoch 93/100\n",
      "1603/1603 [==============================] - 13s 8ms/step - loss: 2.0155e-04 - recall: 0.9802\n",
      "Epoch 94/100\n",
      "1603/1603 [==============================] - 13s 8ms/step - loss: 2.2470e-04 - recall: 0.9774\n",
      "Epoch 95/100\n",
      "1603/1603 [==============================] - 13s 8ms/step - loss: 3.4356e-04 - recall: 0.9718\n",
      "Epoch 96/100\n",
      "1603/1603 [==============================] - 13s 8ms/step - loss: 4.4429e-04 - recall: 0.9718\n",
      "Epoch 97/100\n",
      "1603/1603 [==============================] - 13s 8ms/step - loss: 1.9157e-04 - recall: 0.9802\n",
      "Epoch 98/100\n",
      "1603/1603 [==============================] - 13s 8ms/step - loss: 3.0623e-04 - recall: 0.9718\n",
      "Epoch 99/100\n",
      "1603/1603 [==============================] - 13s 8ms/step - loss: 1.6685e-04 - recall: 0.9802\n",
      "Epoch 100/100\n",
      "1603/1603 [==============================] - 16s 10ms/step - loss: 2.4247e-04 - recall: 0.9718\n"
     ]
    },
    {
     "data": {
      "text/html": [
       "\n",
       "  <div id=\"df-827f22c0-15f8-435d-8ebd-ebe94b490fbc\">\n",
       "    <div class=\"colab-df-container\">\n",
       "      <div>\n",
       "<style scoped>\n",
       "    .dataframe tbody tr th:only-of-type {\n",
       "        vertical-align: middle;\n",
       "    }\n",
       "\n",
       "    .dataframe tbody tr th {\n",
       "        vertical-align: top;\n",
       "    }\n",
       "\n",
       "    .dataframe thead th {\n",
       "        text-align: right;\n",
       "    }\n",
       "</style>\n",
       "<table border=\"1\" class=\"dataframe\">\n",
       "  <thead>\n",
       "    <tr style=\"text-align: right;\">\n",
       "      <th></th>\n",
       "      <th>test_accuracy</th>\n",
       "      <th>test_precision</th>\n",
       "      <th>test_recall</th>\n",
       "      <th>test_f1</th>\n",
       "    </tr>\n",
       "  </thead>\n",
       "  <tbody>\n",
       "    <tr>\n",
       "      <th>1</th>\n",
       "      <td>0.999</td>\n",
       "      <td>0.910</td>\n",
       "      <td>0.678</td>\n",
       "      <td>0.777</td>\n",
       "    </tr>\n",
       "    <tr>\n",
       "      <th>2</th>\n",
       "      <td>0.999</td>\n",
       "      <td>0.800</td>\n",
       "      <td>0.811</td>\n",
       "      <td>0.805</td>\n",
       "    </tr>\n",
       "    <tr>\n",
       "      <th>3</th>\n",
       "      <td>0.999</td>\n",
       "      <td>0.886</td>\n",
       "      <td>0.772</td>\n",
       "      <td>0.825</td>\n",
       "    </tr>\n",
       "    <tr>\n",
       "      <th>4</th>\n",
       "      <td>1.000</td>\n",
       "      <td>0.890</td>\n",
       "      <td>0.820</td>\n",
       "      <td>0.854</td>\n",
       "    </tr>\n",
       "    <tr>\n",
       "      <th>5</th>\n",
       "      <td>0.999</td>\n",
       "      <td>0.899</td>\n",
       "      <td>0.798</td>\n",
       "      <td>0.845</td>\n",
       "    </tr>\n",
       "  </tbody>\n",
       "</table>\n",
       "</div>\n",
       "      <button class=\"colab-df-convert\" onclick=\"convertToInteractive('df-827f22c0-15f8-435d-8ebd-ebe94b490fbc')\"\n",
       "              title=\"Convert this dataframe to an interactive table.\"\n",
       "              style=\"display:none;\">\n",
       "        \n",
       "  <svg xmlns=\"http://www.w3.org/2000/svg\" height=\"24px\"viewBox=\"0 0 24 24\"\n",
       "       width=\"24px\">\n",
       "    <path d=\"M0 0h24v24H0V0z\" fill=\"none\"/>\n",
       "    <path d=\"M18.56 5.44l.94 2.06.94-2.06 2.06-.94-2.06-.94-.94-2.06-.94 2.06-2.06.94zm-11 1L8.5 8.5l.94-2.06 2.06-.94-2.06-.94L8.5 2.5l-.94 2.06-2.06.94zm10 10l.94 2.06.94-2.06 2.06-.94-2.06-.94-.94-2.06-.94 2.06-2.06.94z\"/><path d=\"M17.41 7.96l-1.37-1.37c-.4-.4-.92-.59-1.43-.59-.52 0-1.04.2-1.43.59L10.3 9.45l-7.72 7.72c-.78.78-.78 2.05 0 2.83L4 21.41c.39.39.9.59 1.41.59.51 0 1.02-.2 1.41-.59l7.78-7.78 2.81-2.81c.8-.78.8-2.07 0-2.86zM5.41 20L4 18.59l7.72-7.72 1.47 1.35L5.41 20z\"/>\n",
       "  </svg>\n",
       "      </button>\n",
       "      \n",
       "  <style>\n",
       "    .colab-df-container {\n",
       "      display:flex;\n",
       "      flex-wrap:wrap;\n",
       "      gap: 12px;\n",
       "    }\n",
       "\n",
       "    .colab-df-convert {\n",
       "      background-color: #E8F0FE;\n",
       "      border: none;\n",
       "      border-radius: 50%;\n",
       "      cursor: pointer;\n",
       "      display: none;\n",
       "      fill: #1967D2;\n",
       "      height: 32px;\n",
       "      padding: 0 0 0 0;\n",
       "      width: 32px;\n",
       "    }\n",
       "\n",
       "    .colab-df-convert:hover {\n",
       "      background-color: #E2EBFA;\n",
       "      box-shadow: 0px 1px 2px rgba(60, 64, 67, 0.3), 0px 1px 3px 1px rgba(60, 64, 67, 0.15);\n",
       "      fill: #174EA6;\n",
       "    }\n",
       "\n",
       "    [theme=dark] .colab-df-convert {\n",
       "      background-color: #3B4455;\n",
       "      fill: #D2E3FC;\n",
       "    }\n",
       "\n",
       "    [theme=dark] .colab-df-convert:hover {\n",
       "      background-color: #434B5C;\n",
       "      box-shadow: 0px 1px 3px 1px rgba(0, 0, 0, 0.15);\n",
       "      filter: drop-shadow(0px 1px 2px rgba(0, 0, 0, 0.3));\n",
       "      fill: #FFFFFF;\n",
       "    }\n",
       "  </style>\n",
       "\n",
       "      <script>\n",
       "        const buttonEl =\n",
       "          document.querySelector('#df-827f22c0-15f8-435d-8ebd-ebe94b490fbc button.colab-df-convert');\n",
       "        buttonEl.style.display =\n",
       "          google.colab.kernel.accessAllowed ? 'block' : 'none';\n",
       "\n",
       "        async function convertToInteractive(key) {\n",
       "          const element = document.querySelector('#df-827f22c0-15f8-435d-8ebd-ebe94b490fbc');\n",
       "          const dataTable =\n",
       "            await google.colab.kernel.invokeFunction('convertToInteractive',\n",
       "                                                     [key], {});\n",
       "          if (!dataTable) return;\n",
       "\n",
       "          const docLinkHtml = 'Like what you see? Visit the ' +\n",
       "            '<a target=\"_blank\" href=https://colab.research.google.com/notebooks/data_table.ipynb>data table notebook</a>'\n",
       "            + ' to learn more about interactive tables.';\n",
       "          element.innerHTML = '';\n",
       "          dataTable['output_type'] = 'display_data';\n",
       "          await google.colab.output.renderOutput(dataTable, element);\n",
       "          const docLink = document.createElement('div');\n",
       "          docLink.innerHTML = docLinkHtml;\n",
       "          element.appendChild(docLink);\n",
       "        }\n",
       "      </script>\n",
       "    </div>\n",
       "  </div>\n",
       "  "
      ],
      "text/plain": [
       "   test_accuracy  test_precision  test_recall  test_f1\n",
       "1          0.999           0.910        0.678    0.777\n",
       "2          0.999           0.800        0.811    0.805\n",
       "3          0.999           0.886        0.772    0.825\n",
       "4          1.000           0.890        0.820    0.854\n",
       "5          0.999           0.899        0.798    0.845"
      ]
     },
     "execution_count": 244,
     "metadata": {},
     "output_type": "execute_result"
    }
   ],
   "source": [
    "tf.random.set_seed(seed)\n",
    "\n",
    "classifier_model = KerasClassifier(build_fn = build_classifier, batch_size = 128, epochs = 100, verbose=1)\n",
    "\n",
    "scores = cross_validate(estimator = classifier_model, X = X_train3, y = y_train3,\n",
    "                        scoring = ['accuracy', 'precision', 'recall', 'f1'], cv = 5)\n",
    "\n",
    "df_scores = pd.DataFrame(scores, index = range(1, 6)).iloc[:, 2:]\n",
    "\n",
    "df_scores"
   ]
  },
  {
   "cell_type": "markdown",
   "metadata": {
    "id": "FIeBHiPw1GFA"
   },
   "source": [
    "GridsearchCV"
   ]
  },
  {
   "cell_type": "code",
   "execution_count": 245,
   "metadata": {
    "id": "E-Wr7vGo0jDF"
   },
   "outputs": [],
   "source": [
    "from tensorflow.keras.optimizers import Adam, Adadelta, RMSprop, Nadam"
   ]
  },
  {
   "cell_type": "code",
   "execution_count": 246,
   "metadata": {
    "id": "ooj-UDA_0jGs"
   },
   "outputs": [],
   "source": [
    "def build_classifier(optimizer, learn_rate):\n",
    "    classifier = Sequential()\n",
    "    classifier.add(Dense(units = 48, activation = 'relu'))\n",
    "    classifier.add(Dense(units = 24, activation = 'relu'))\n",
    "    classifier.add(Dense(units = 12, activation = 'relu'))\n",
    "    classifier.add(Dense(units = 1, activation = 'sigmoid'))\n",
    "    classifier.compile(optimizer = \"adam\", loss = 'binary_crossentropy', metrics = ['Recall'])\n",
    "    return classifier"
   ]
  },
  {
   "cell_type": "code",
   "execution_count": 247,
   "metadata": {
    "id": "7yk1Ox9s1Lw1"
   },
   "outputs": [],
   "source": [
    "early_stop = EarlyStopping(monitor = \"val_loss\", mode = \"auto\", verbose = 1, patience = 10)"
   ]
  },
  {
   "cell_type": "code",
   "execution_count": 248,
   "metadata": {
    "colab": {
     "base_uri": "https://localhost:8080/"
    },
    "id": "suXxEiuo1L0c",
    "outputId": "d1decdf1-fee1-467b-84aa-504bcf99dd8d"
   },
   "outputs": [
    {
     "name": "stdout",
     "output_type": "stream",
     "text": [
      "Fitting 5 folds for each of 12 candidates, totalling 60 fits\n",
      "Epoch 1/200\n",
      "902/902 [==============================] - 9s 9ms/step - loss: 0.0228 - recall: 0.5751 - val_loss: 0.0036 - val_recall: 0.8000\n",
      "Epoch 2/200\n",
      "902/902 [==============================] - 8s 9ms/step - loss: 0.0034 - recall: 0.7888 - val_loss: 0.0034 - val_recall: 0.7400\n",
      "Epoch 3/200\n",
      "902/902 [==============================] - 8s 9ms/step - loss: 0.0029 - recall: 0.7812 - val_loss: 0.0030 - val_recall: 0.7800\n",
      "Epoch 4/200\n",
      "902/902 [==============================] - 8s 9ms/step - loss: 0.0026 - recall: 0.7888 - val_loss: 0.0029 - val_recall: 0.7800\n",
      "Epoch 5/200\n",
      "902/902 [==============================] - 8s 9ms/step - loss: 0.0024 - recall: 0.7964 - val_loss: 0.0027 - val_recall: 0.8000\n",
      "Epoch 6/200\n",
      "902/902 [==============================] - 8s 9ms/step - loss: 0.0022 - recall: 0.7837 - val_loss: 0.0029 - val_recall: 0.7600\n",
      "Epoch 7/200\n",
      "902/902 [==============================] - 8s 9ms/step - loss: 0.0021 - recall: 0.7761 - val_loss: 0.0029 - val_recall: 0.7600\n",
      "Epoch 8/200\n",
      "902/902 [==============================] - 8s 9ms/step - loss: 0.0019 - recall: 0.8092 - val_loss: 0.0029 - val_recall: 0.7600\n",
      "Epoch 9/200\n",
      "902/902 [==============================] - 8s 9ms/step - loss: 0.0018 - recall: 0.8142 - val_loss: 0.0028 - val_recall: 0.7600\n",
      "Epoch 10/200\n",
      "902/902 [==============================] - 8s 9ms/step - loss: 0.0016 - recall: 0.8295 - val_loss: 0.0027 - val_recall: 0.7600\n",
      "Epoch 11/200\n",
      "902/902 [==============================] - 8s 9ms/step - loss: 0.0014 - recall: 0.8346 - val_loss: 0.0033 - val_recall: 0.7600\n",
      "Epoch 12/200\n",
      "902/902 [==============================] - 8s 9ms/step - loss: 0.0015 - recall: 0.8346 - val_loss: 0.0034 - val_recall: 0.8000\n",
      "Epoch 13/200\n",
      "902/902 [==============================] - 8s 9ms/step - loss: 0.0013 - recall: 0.8372 - val_loss: 0.0033 - val_recall: 0.7400\n",
      "Epoch 14/200\n",
      "902/902 [==============================] - 8s 9ms/step - loss: 0.0013 - recall: 0.8422 - val_loss: 0.0034 - val_recall: 0.7600\n",
      "Epoch 15/200\n",
      "902/902 [==============================] - 8s 9ms/step - loss: 0.0011 - recall: 0.8524 - val_loss: 0.0035 - val_recall: 0.8000\n",
      "Epoch 16/200\n",
      "902/902 [==============================] - 8s 9ms/step - loss: 0.0011 - recall: 0.8728 - val_loss: 0.0038 - val_recall: 0.7600\n",
      "Epoch 17/200\n",
      "902/902 [==============================] - 8s 9ms/step - loss: 0.0011 - recall: 0.8575 - val_loss: 0.0038 - val_recall: 0.8000\n",
      "Epoch 18/200\n",
      "902/902 [==============================] - 8s 9ms/step - loss: 9.3852e-04 - recall: 0.8830 - val_loss: 0.0043 - val_recall: 0.7800\n",
      "Epoch 19/200\n",
      "902/902 [==============================] - 8s 9ms/step - loss: 9.6279e-04 - recall: 0.8855 - val_loss: 0.0040 - val_recall: 0.7800\n",
      "Epoch 20/200\n",
      "902/902 [==============================] - 8s 9ms/step - loss: 8.9026e-04 - recall: 0.9033 - val_loss: 0.0045 - val_recall: 0.7800\n",
      "Epoch 20: early stopping\n"
     ]
    },
    {
     "data": {
      "text/plain": [
       "GridSearchCV(cv=5,\n",
       "             estimator=<keras.wrappers.scikit_learn.KerasClassifier object at 0x7f27e8c6d290>,\n",
       "             n_jobs=-1,\n",
       "             param_grid={'batch_size': [128, 256],\n",
       "                         'learn_rate': [0.001, 0.003, 0.005],\n",
       "                         'optimizer': [<class 'keras.optimizer_v2.adam.Adam'>,\n",
       "                                       <class 'keras.optimizer_v2.rmsprop.RMSprop'>]},\n",
       "             scoring='recall', verbose=1)"
      ]
     },
     "execution_count": 248,
     "metadata": {},
     "output_type": "execute_result"
    }
   ],
   "source": [
    "tf.random.set_seed(seed)\n",
    "\n",
    "classifier_model = KerasClassifier(build_fn = build_classifier, validation_split = 0.1, epochs = 200)\n",
    "\n",
    "parameters = {'batch_size': [128, 256],\n",
    "              'optimizer': [Adam, RMSprop],\n",
    "              'learn_rate': [0.001, 0.003, 0.005]}\n",
    "\n",
    "grid_model = GridSearchCV(estimator = classifier_model,\n",
    "                          param_grid = parameters,\n",
    "                          scoring = 'recall',\n",
    "                          cv = 5,\n",
    "                          n_jobs = -1,\n",
    "                          verbose = 1)\n",
    "\n",
    "grid_model.fit(X_train3, y_train3, callbacks = [early_stop])"
   ]
  },
  {
   "cell_type": "code",
   "execution_count": 254,
   "metadata": {
    "colab": {
     "base_uri": "https://localhost:8080/"
    },
    "id": "bEaBRszf9FBG",
    "outputId": "5c66d082-cd86-4db4-d9e7-5925840a339d"
   },
   "outputs": [
    {
     "data": {
      "text/plain": [
       "{'batch_size': 256,\n",
       " 'learn_rate': 0.001,\n",
       " 'optimizer': keras.optimizer_v2.rmsprop.RMSprop}"
      ]
     },
     "execution_count": 254,
     "metadata": {},
     "output_type": "execute_result"
    }
   ],
   "source": [
    "grid_model.best_params_"
   ]
  },
  {
   "cell_type": "code",
   "execution_count": 249,
   "metadata": {
    "colab": {
     "base_uri": "https://localhost:8080/",
     "height": 426
    },
    "id": "OmiVqgaM1L33",
    "outputId": "9a46f003-26ba-4e5f-dc3e-6b51877deb6a"
   },
   "outputs": [
    {
     "data": {
      "text/html": [
       "\n",
       "  <div id=\"df-221f7b9a-aa6d-4a60-b93b-5e4cfb1de97e\">\n",
       "    <div class=\"colab-df-container\">\n",
       "      <div>\n",
       "<style scoped>\n",
       "    .dataframe tbody tr th:only-of-type {\n",
       "        vertical-align: middle;\n",
       "    }\n",
       "\n",
       "    .dataframe tbody tr th {\n",
       "        vertical-align: top;\n",
       "    }\n",
       "\n",
       "    .dataframe thead th {\n",
       "        text-align: right;\n",
       "    }\n",
       "</style>\n",
       "<table border=\"1\" class=\"dataframe\">\n",
       "  <thead>\n",
       "    <tr style=\"text-align: right;\">\n",
       "      <th></th>\n",
       "      <th>mean_test_score</th>\n",
       "      <th>std_test_score</th>\n",
       "      <th>rank_test_score</th>\n",
       "      <th>params</th>\n",
       "    </tr>\n",
       "  </thead>\n",
       "  <tbody>\n",
       "    <tr>\n",
       "      <th>7</th>\n",
       "      <td>0.782</td>\n",
       "      <td>0.035</td>\n",
       "      <td>1</td>\n",
       "      <td>{'batch_size': 256, 'learn_rate': 0.001, 'optimizer': &lt;class 'keras.optimizer_v2.rmsprop.RMSprop'&gt;}</td>\n",
       "    </tr>\n",
       "    <tr>\n",
       "      <th>1</th>\n",
       "      <td>0.775</td>\n",
       "      <td>0.031</td>\n",
       "      <td>2</td>\n",
       "      <td>{'batch_size': 128, 'learn_rate': 0.001, 'optimizer': &lt;class 'keras.optimizer_v2.rmsprop.RMSprop'&gt;}</td>\n",
       "    </tr>\n",
       "    <tr>\n",
       "      <th>10</th>\n",
       "      <td>0.771</td>\n",
       "      <td>0.048</td>\n",
       "      <td>3</td>\n",
       "      <td>{'batch_size': 256, 'learn_rate': 0.005, 'optimizer': &lt;class 'keras.optimizer_v2.adam.Adam'&gt;}</td>\n",
       "    </tr>\n",
       "    <tr>\n",
       "      <th>11</th>\n",
       "      <td>0.762</td>\n",
       "      <td>0.060</td>\n",
       "      <td>4</td>\n",
       "      <td>{'batch_size': 256, 'learn_rate': 0.005, 'optimizer': &lt;class 'keras.optimizer_v2.rmsprop.RMSprop'&gt;}</td>\n",
       "    </tr>\n",
       "    <tr>\n",
       "      <th>2</th>\n",
       "      <td>0.762</td>\n",
       "      <td>0.040</td>\n",
       "      <td>5</td>\n",
       "      <td>{'batch_size': 128, 'learn_rate': 0.003, 'optimizer': &lt;class 'keras.optimizer_v2.adam.Adam'&gt;}</td>\n",
       "    </tr>\n",
       "    <tr>\n",
       "      <th>9</th>\n",
       "      <td>0.761</td>\n",
       "      <td>0.054</td>\n",
       "      <td>6</td>\n",
       "      <td>{'batch_size': 256, 'learn_rate': 0.003, 'optimizer': &lt;class 'keras.optimizer_v2.rmsprop.RMSprop'&gt;}</td>\n",
       "    </tr>\n",
       "    <tr>\n",
       "      <th>0</th>\n",
       "      <td>0.758</td>\n",
       "      <td>0.029</td>\n",
       "      <td>7</td>\n",
       "      <td>{'batch_size': 128, 'learn_rate': 0.001, 'optimizer': &lt;class 'keras.optimizer_v2.adam.Adam'&gt;}</td>\n",
       "    </tr>\n",
       "    <tr>\n",
       "      <th>4</th>\n",
       "      <td>0.755</td>\n",
       "      <td>0.016</td>\n",
       "      <td>8</td>\n",
       "      <td>{'batch_size': 128, 'learn_rate': 0.005, 'optimizer': &lt;class 'keras.optimizer_v2.adam.Adam'&gt;}</td>\n",
       "    </tr>\n",
       "    <tr>\n",
       "      <th>3</th>\n",
       "      <td>0.751</td>\n",
       "      <td>0.054</td>\n",
       "      <td>9</td>\n",
       "      <td>{'batch_size': 128, 'learn_rate': 0.003, 'optimizer': &lt;class 'keras.optimizer_v2.rmsprop.RMSprop'&gt;}</td>\n",
       "    </tr>\n",
       "    <tr>\n",
       "      <th>8</th>\n",
       "      <td>0.747</td>\n",
       "      <td>0.054</td>\n",
       "      <td>10</td>\n",
       "      <td>{'batch_size': 256, 'learn_rate': 0.003, 'optimizer': &lt;class 'keras.optimizer_v2.adam.Adam'&gt;}</td>\n",
       "    </tr>\n",
       "    <tr>\n",
       "      <th>6</th>\n",
       "      <td>0.744</td>\n",
       "      <td>0.049</td>\n",
       "      <td>11</td>\n",
       "      <td>{'batch_size': 256, 'learn_rate': 0.001, 'optimizer': &lt;class 'keras.optimizer_v2.adam.Adam'&gt;}</td>\n",
       "    </tr>\n",
       "    <tr>\n",
       "      <th>5</th>\n",
       "      <td>0.741</td>\n",
       "      <td>0.071</td>\n",
       "      <td>12</td>\n",
       "      <td>{'batch_size': 128, 'learn_rate': 0.005, 'optimizer': &lt;class 'keras.optimizer_v2.rmsprop.RMSprop'&gt;}</td>\n",
       "    </tr>\n",
       "  </tbody>\n",
       "</table>\n",
       "</div>\n",
       "      <button class=\"colab-df-convert\" onclick=\"convertToInteractive('df-221f7b9a-aa6d-4a60-b93b-5e4cfb1de97e')\"\n",
       "              title=\"Convert this dataframe to an interactive table.\"\n",
       "              style=\"display:none;\">\n",
       "        \n",
       "  <svg xmlns=\"http://www.w3.org/2000/svg\" height=\"24px\"viewBox=\"0 0 24 24\"\n",
       "       width=\"24px\">\n",
       "    <path d=\"M0 0h24v24H0V0z\" fill=\"none\"/>\n",
       "    <path d=\"M18.56 5.44l.94 2.06.94-2.06 2.06-.94-2.06-.94-.94-2.06-.94 2.06-2.06.94zm-11 1L8.5 8.5l.94-2.06 2.06-.94-2.06-.94L8.5 2.5l-.94 2.06-2.06.94zm10 10l.94 2.06.94-2.06 2.06-.94-2.06-.94-.94-2.06-.94 2.06-2.06.94z\"/><path d=\"M17.41 7.96l-1.37-1.37c-.4-.4-.92-.59-1.43-.59-.52 0-1.04.2-1.43.59L10.3 9.45l-7.72 7.72c-.78.78-.78 2.05 0 2.83L4 21.41c.39.39.9.59 1.41.59.51 0 1.02-.2 1.41-.59l7.78-7.78 2.81-2.81c.8-.78.8-2.07 0-2.86zM5.41 20L4 18.59l7.72-7.72 1.47 1.35L5.41 20z\"/>\n",
       "  </svg>\n",
       "      </button>\n",
       "      \n",
       "  <style>\n",
       "    .colab-df-container {\n",
       "      display:flex;\n",
       "      flex-wrap:wrap;\n",
       "      gap: 12px;\n",
       "    }\n",
       "\n",
       "    .colab-df-convert {\n",
       "      background-color: #E8F0FE;\n",
       "      border: none;\n",
       "      border-radius: 50%;\n",
       "      cursor: pointer;\n",
       "      display: none;\n",
       "      fill: #1967D2;\n",
       "      height: 32px;\n",
       "      padding: 0 0 0 0;\n",
       "      width: 32px;\n",
       "    }\n",
       "\n",
       "    .colab-df-convert:hover {\n",
       "      background-color: #E2EBFA;\n",
       "      box-shadow: 0px 1px 2px rgba(60, 64, 67, 0.3), 0px 1px 3px 1px rgba(60, 64, 67, 0.15);\n",
       "      fill: #174EA6;\n",
       "    }\n",
       "\n",
       "    [theme=dark] .colab-df-convert {\n",
       "      background-color: #3B4455;\n",
       "      fill: #D2E3FC;\n",
       "    }\n",
       "\n",
       "    [theme=dark] .colab-df-convert:hover {\n",
       "      background-color: #434B5C;\n",
       "      box-shadow: 0px 1px 3px 1px rgba(0, 0, 0, 0.15);\n",
       "      filter: drop-shadow(0px 1px 2px rgba(0, 0, 0, 0.3));\n",
       "      fill: #FFFFFF;\n",
       "    }\n",
       "  </style>\n",
       "\n",
       "      <script>\n",
       "        const buttonEl =\n",
       "          document.querySelector('#df-221f7b9a-aa6d-4a60-b93b-5e4cfb1de97e button.colab-df-convert');\n",
       "        buttonEl.style.display =\n",
       "          google.colab.kernel.accessAllowed ? 'block' : 'none';\n",
       "\n",
       "        async function convertToInteractive(key) {\n",
       "          const element = document.querySelector('#df-221f7b9a-aa6d-4a60-b93b-5e4cfb1de97e');\n",
       "          const dataTable =\n",
       "            await google.colab.kernel.invokeFunction('convertToInteractive',\n",
       "                                                     [key], {});\n",
       "          if (!dataTable) return;\n",
       "\n",
       "          const docLinkHtml = 'Like what you see? Visit the ' +\n",
       "            '<a target=\"_blank\" href=https://colab.research.google.com/notebooks/data_table.ipynb>data table notebook</a>'\n",
       "            + ' to learn more about interactive tables.';\n",
       "          element.innerHTML = '';\n",
       "          dataTable['output_type'] = 'display_data';\n",
       "          await google.colab.output.renderOutput(dataTable, element);\n",
       "          const docLink = document.createElement('div');\n",
       "          docLink.innerHTML = docLinkHtml;\n",
       "          element.appendChild(docLink);\n",
       "        }\n",
       "      </script>\n",
       "    </div>\n",
       "  </div>\n",
       "  "
      ],
      "text/plain": [
       "    mean_test_score  std_test_score  rank_test_score  \\\n",
       "7             0.782           0.035                1   \n",
       "1             0.775           0.031                2   \n",
       "10            0.771           0.048                3   \n",
       "11            0.762           0.060                4   \n",
       "2             0.762           0.040                5   \n",
       "9             0.761           0.054                6   \n",
       "0             0.758           0.029                7   \n",
       "4             0.755           0.016                8   \n",
       "3             0.751           0.054                9   \n",
       "8             0.747           0.054               10   \n",
       "6             0.744           0.049               11   \n",
       "5             0.741           0.071               12   \n",
       "\n",
       "                                                                                                 params  \n",
       "7   {'batch_size': 256, 'learn_rate': 0.001, 'optimizer': <class 'keras.optimizer_v2.rmsprop.RMSprop'>}  \n",
       "1   {'batch_size': 128, 'learn_rate': 0.001, 'optimizer': <class 'keras.optimizer_v2.rmsprop.RMSprop'>}  \n",
       "10        {'batch_size': 256, 'learn_rate': 0.005, 'optimizer': <class 'keras.optimizer_v2.adam.Adam'>}  \n",
       "11  {'batch_size': 256, 'learn_rate': 0.005, 'optimizer': <class 'keras.optimizer_v2.rmsprop.RMSprop'>}  \n",
       "2         {'batch_size': 128, 'learn_rate': 0.003, 'optimizer': <class 'keras.optimizer_v2.adam.Adam'>}  \n",
       "9   {'batch_size': 256, 'learn_rate': 0.003, 'optimizer': <class 'keras.optimizer_v2.rmsprop.RMSprop'>}  \n",
       "0         {'batch_size': 128, 'learn_rate': 0.001, 'optimizer': <class 'keras.optimizer_v2.adam.Adam'>}  \n",
       "4         {'batch_size': 128, 'learn_rate': 0.005, 'optimizer': <class 'keras.optimizer_v2.adam.Adam'>}  \n",
       "3   {'batch_size': 128, 'learn_rate': 0.003, 'optimizer': <class 'keras.optimizer_v2.rmsprop.RMSprop'>}  \n",
       "8         {'batch_size': 256, 'learn_rate': 0.003, 'optimizer': <class 'keras.optimizer_v2.adam.Adam'>}  \n",
       "6         {'batch_size': 256, 'learn_rate': 0.001, 'optimizer': <class 'keras.optimizer_v2.adam.Adam'>}  \n",
       "5   {'batch_size': 128, 'learn_rate': 0.005, 'optimizer': <class 'keras.optimizer_v2.rmsprop.RMSprop'>}  "
      ]
     },
     "execution_count": 249,
     "metadata": {},
     "output_type": "execute_result"
    }
   ],
   "source": [
    "grid_result = pd.DataFrame(grid_model.cv_results_)[[\"mean_test_score\", \"std_test_score\", \"rank_test_score\", \"params\"]]\n",
    "grid_result.sort_values(by='rank_test_score')"
   ]
  },
  {
   "cell_type": "markdown",
   "metadata": {
    "id": "_JAEDNkjMuHj"
   },
   "source": [
    "***vi. Plot Precision and Recall Curve***"
   ]
  },
  {
   "cell_type": "code",
   "execution_count": 252,
   "metadata": {
    "colab": {
     "base_uri": "https://localhost:8080/",
     "height": 404
    },
    "id": "jcNv8smQKf67",
    "outputId": "7d5305b6-a5d4-40ba-c195-c12dd1c54fda"
   },
   "outputs": [
    {
     "data": {
      "image/png": "[encoded data removed]",
      "text/plain": [
       "<Figure size 720x432 with 1 Axes>"
      ]
     },
     "metadata": {},
     "output_type": "display_data"
    }
   ],
   "source": [
    "y_pred_proba = model.predict(X_test3)\n",
    "fpr, tpr, thresholds = precision_recall_curve(y_test3, y_pred_proba)\n",
    "plt.plot([0,1],[0,1],'k--')\n",
    "plt.plot(fpr,tpr, label='ANN')\n",
    "plt.xlabel('recall')\n",
    "plt.ylabel('precision')\n",
    "plt.title('Precision Recall curve')\n",
    "plt.show()"
   ]
  },
  {
   "cell_type": "code",
   "execution_count": 251,
   "metadata": {
    "colab": {
     "base_uri": "https://localhost:8080/",
     "height": 404
    },
    "id": "YLdXy-ni12iD",
    "outputId": "3870f418-08ac-4fb9-e01d-2e027615a046"
   },
   "outputs": [
    {
     "data": {
      "image/png": "[encoded data removed]",
      "text/plain": [
       "<Figure size 720x432 with 1 Axes>"
      ]
     },
     "metadata": {},
     "output_type": "display_data"
    }
   ],
   "source": [
    "y_pred_proba = grid_model.predict(X_test3)\n",
    "fpr, tpr, thresholds = precision_recall_curve(y_test3, y_pred_proba)\n",
    "plt.plot([0,1],[0,1],'k--')\n",
    "plt.plot(fpr,tpr, label='ANN')\n",
    "plt.xlabel('recall')\n",
    "plt.ylabel('precision')\n",
    "plt.title('Precision Recall curve')\n",
    "plt.show()"
   ]
  },
  {
   "cell_type": "markdown",
   "metadata": {
    "id": "LpbiGnpIxVK3"
   },
   "source": [
    "## 4. Model Deployement\n",
    "You cooked the food in the kitchen and moved on to the serving stage. The question is how do you showcase your work to others? Model Deployement helps you showcase your work to the world and make better decisions with it. But, deploying a model can get a little tricky at times. Before deploying the model, many things such as data storage, preprocessing, model building and monitoring need to be studied.\n",
    "\n",
    "Deployment of machine learning models, means making your models available to your other business systems. By deploying models, other systems can send data to them and get their predictions, which are in turn populated back into the company systems. Through machine learning model deployment, can begin to take full advantage of the model you built.\n",
    "\n",
    "Data science is concerned with how to build machine learning models, which algorithm is more predictive, how to design features, and what variables to use to make the models more accurate. However, how these models are actually used is often neglected. And yet this is the most important step in the machine learning pipline. Only when a model is fully integrated with the business systems, real values ​​can be extract from its predictions.\n",
    "\n",
    "After doing the following operations in this notebook, jump to a proper IDE and create your web app with Flask API."
   ]
  },
  {
   "cell_type": "markdown",
   "metadata": {
    "id": "oCAYcMLEH_7P"
   },
   "source": [
    "### Save and Export the Model as .pkl\n"
   ]
  },
  {
   "cell_type": "code",
   "execution_count": 253,
   "metadata": {
    "id": "MqluJ9yvIOex"
   },
   "outputs": [],
   "source": [
    "import pickle\n",
    "pickle.dump(scaler, open(\"scaler_fraud\", 'wb'))"
   ]
  },
  {
   "cell_type": "code",
   "execution_count": null,
   "metadata": {
    "id": "WIKXAJyC9SnW"
   },
   "outputs": [],
   "source": [
    "{'batch_size': 256,\n",
    " 'learn_rate': 0.001,\n",
    " 'optimizer': keras.optimizer_v2.rmsprop.RMSprop}"
   ]
  },
  {
   "cell_type": "code",
   "execution_count": 255,
   "metadata": {
    "id": "RfRKiRez62pD"
   },
   "outputs": [],
   "source": [
    "tf.random.set_seed(seed)\n",
    "\n",
    "model = Sequential()\n",
    "\n",
    "model.add(Dense(30, activation = \"relu\", input_dim = X_train.shape[1]))\n",
    "model.add(Dense(15, activation = \"relu\"))\n",
    "model.add(Dense(1, activation = \"sigmoid\"))\n",
    "\n",
    "opt = Adam(lr = 0.001)\n",
    "\n",
    "model.compile(optimizer = \"RMSprop\", loss = \"binary_crossentropy\", metrics = [\"Recall\"])"
   ]
  },
  {
   "cell_type": "code",
   "execution_count": 256,
   "metadata": {
    "id": "gQUD_6kM7GW5"
   },
   "outputs": [],
   "source": [
    "early_stop = EarlyStopping(monitor = \"val_loss\", mode = \"auto\", verbose = 1, patience = 15)"
   ]
  },
  {
   "cell_type": "code",
   "execution_count": 257,
   "metadata": {
    "colab": {
     "base_uri": "https://localhost:8080/"
    },
    "id": "_t4Ev1xx7Gat",
    "outputId": "5ab9d54c-f961-4891-b316-a4fe2f6d9b43"
   },
   "outputs": [
    {
     "name": "stdout",
     "output_type": "stream",
     "text": [
      "Epoch 1/100\n",
      "891/891 [==============================] - 9s 9ms/step - loss: 0.0200 - recall: 0.0203 - val_loss: 0.0062 - val_recall: 0.1531\n",
      "Epoch 2/100\n",
      "891/891 [==============================] - 8s 9ms/step - loss: 0.0052 - recall: 0.4239 - val_loss: 0.0038 - val_recall: 0.6122\n",
      "Epoch 3/100\n",
      "891/891 [==============================] - 9s 11ms/step - loss: 0.0040 - recall: 0.6497 - val_loss: 0.0035 - val_recall: 0.7347\n",
      "Epoch 4/100\n",
      "891/891 [==============================] - 8s 9ms/step - loss: 0.0037 - recall: 0.7132 - val_loss: 0.0034 - val_recall: 0.7857\n",
      "Epoch 5/100\n",
      "891/891 [==============================] - 8s 9ms/step - loss: 0.0036 - recall: 0.7386 - val_loss: 0.0033 - val_recall: 0.7755\n",
      "Epoch 6/100\n",
      "891/891 [==============================] - 8s 9ms/step - loss: 0.0036 - recall: 0.7411 - val_loss: 0.0036 - val_recall: 0.7653\n",
      "Epoch 7/100\n",
      "891/891 [==============================] - 8s 9ms/step - loss: 0.0035 - recall: 0.7589 - val_loss: 0.0033 - val_recall: 0.7755\n",
      "Epoch 8/100\n",
      "891/891 [==============================] - 8s 9ms/step - loss: 0.0035 - recall: 0.7487 - val_loss: 0.0032 - val_recall: 0.7959\n",
      "Epoch 9/100\n",
      "891/891 [==============================] - 8s 9ms/step - loss: 0.0035 - recall: 0.7563 - val_loss: 0.0032 - val_recall: 0.7959\n",
      "Epoch 10/100\n",
      "891/891 [==============================] - 8s 9ms/step - loss: 0.0034 - recall: 0.7563 - val_loss: 0.0033 - val_recall: 0.7755\n",
      "Epoch 11/100\n",
      "891/891 [==============================] - 8s 9ms/step - loss: 0.0034 - recall: 0.7589 - val_loss: 0.0039 - val_recall: 0.7653\n",
      "Epoch 12/100\n",
      "891/891 [==============================] - 8s 9ms/step - loss: 0.0035 - recall: 0.7513 - val_loss: 0.0033 - val_recall: 0.7755\n",
      "Epoch 13/100\n",
      "891/891 [==============================] - 8s 9ms/step - loss: 0.0035 - recall: 0.7665 - val_loss: 0.0034 - val_recall: 0.7755\n",
      "Epoch 14/100\n",
      "891/891 [==============================] - 8s 9ms/step - loss: 0.0034 - recall: 0.7690 - val_loss: 0.0034 - val_recall: 0.8163\n",
      "Epoch 15/100\n",
      "891/891 [==============================] - 8s 9ms/step - loss: 0.0034 - recall: 0.7817 - val_loss: 0.0033 - val_recall: 0.8265\n",
      "Epoch 16/100\n",
      "891/891 [==============================] - 8s 9ms/step - loss: 0.0034 - recall: 0.7690 - val_loss: 0.0036 - val_recall: 0.7755\n",
      "Epoch 17/100\n",
      "891/891 [==============================] - 8s 9ms/step - loss: 0.0034 - recall: 0.7640 - val_loss: 0.0033 - val_recall: 0.8265\n",
      "Epoch 18/100\n",
      "891/891 [==============================] - 8s 9ms/step - loss: 0.0034 - recall: 0.7690 - val_loss: 0.0035 - val_recall: 0.7959\n",
      "Epoch 19/100\n",
      "891/891 [==============================] - 8s 9ms/step - loss: 0.0034 - recall: 0.7690 - val_loss: 0.0033 - val_recall: 0.8061\n",
      "Epoch 20/100\n",
      "891/891 [==============================] - 8s 9ms/step - loss: 0.0034 - recall: 0.7614 - val_loss: 0.0033 - val_recall: 0.8265\n",
      "Epoch 21/100\n",
      "891/891 [==============================] - 8s 9ms/step - loss: 0.0034 - recall: 0.7690 - val_loss: 0.0034 - val_recall: 0.7755\n",
      "Epoch 22/100\n",
      "891/891 [==============================] - 8s 9ms/step - loss: 0.0034 - recall: 0.7563 - val_loss: 0.0034 - val_recall: 0.8367\n",
      "Epoch 23/100\n",
      "891/891 [==============================] - 8s 9ms/step - loss: 0.0034 - recall: 0.7843 - val_loss: 0.0036 - val_recall: 0.7653\n",
      "Epoch 24/100\n",
      "891/891 [==============================] - 8s 9ms/step - loss: 0.0034 - recall: 0.7792 - val_loss: 0.0034 - val_recall: 0.8163\n",
      "Epoch 24: early stopping\n"
     ]
    },
    {
     "data": {
      "text/plain": [
       "<keras.callbacks.History at 0x7f27e8cfa550>"
      ]
     },
     "execution_count": 257,
     "metadata": {},
     "output_type": "execute_result"
    }
   ],
   "source": [
    "model.fit(x = X_train, y = y_train, validation_data = (X_test, y_test), batch_size = 256, epochs = 100, verbose = 1,\n",
    "          callbacks = [early_stop])"
   ]
  },
  {
   "cell_type": "code",
   "execution_count": 258,
   "metadata": {
    "colab": {
     "base_uri": "https://localhost:8080/",
     "height": 391
    },
    "id": "0xt7ORmr7Gds",
    "outputId": "7f5faf21-04fd-4dbe-ab9f-00c01103d41a"
   },
   "outputs": [
    {
     "data": {
      "text/plain": [
       "<matplotlib.axes._subplots.AxesSubplot at 0x7f27e973c910>"
      ]
     },
     "execution_count": 258,
     "metadata": {},
     "output_type": "execute_result"
    },
    {
     "data": {
      "image/png": "[encoded data removed]",
      "text/plain": [
       "<Figure size 720x432 with 1 Axes>"
      ]
     },
     "metadata": {},
     "output_type": "display_data"
    }
   ],
   "source": [
    "loss_df = pd.DataFrame(model.history.history)\n",
    "loss_df.plot()"
   ]
  },
  {
   "cell_type": "code",
   "execution_count": 259,
   "metadata": {
    "colab": {
     "base_uri": "https://localhost:8080/"
    },
    "id": "PHwcocyN7QKy",
    "outputId": "921d9128-9d17-476b-f2b3-2987f3e15d6e"
   },
   "outputs": [
    {
     "name": "stdout",
     "output_type": "stream",
     "text": [
      "loss :  0.0034351337235420942\n",
      "recall :  0.8163265585899353\n"
     ]
    }
   ],
   "source": [
    "loss, recall = model.evaluate(X_test, y_test, verbose=0)\n",
    "print(\"loss : \", loss)\n",
    "print(\"recall : \", recall)"
   ]
  },
  {
   "cell_type": "code",
   "execution_count": 260,
   "metadata": {
    "id": "F2Xh0Isx8ijy"
   },
   "outputs": [],
   "source": [
    "model.save('model_fraud.h5')"
   ]
  },
  {
   "cell_type": "code",
   "execution_count": 261,
   "metadata": {
    "id": "pjCziaqg7QPI"
   },
   "outputs": [],
   "source": [
    "from tensorflow.keras.models import load_model"
   ]
  },
  {
   "cell_type": "code",
   "execution_count": 262,
   "metadata": {
    "id": "q9sAdddi7QS9"
   },
   "outputs": [],
   "source": [
    "model_fraud = load_model('model_fraud.h5')\n",
    "scaler_fraud = pickle.load(open(\"scaler_fraud\", \"rb\"))"
   ]
  },
  {
   "cell_type": "code",
   "execution_count": 263,
   "metadata": {
    "colab": {
     "base_uri": "https://localhost:8080/",
     "height": 145
    },
    "id": "4Y_nnSBJ_48J",
    "outputId": "32fb6a20-ad55-43d6-d810-367926df195f"
   },
   "outputs": [
    {
     "data": {
      "text/html": [
       "\n",
       "  <div id=\"df-d27e3cd3-e18b-48d4-8b08-0ccab2d7a67c\">\n",
       "    <div class=\"colab-df-container\">\n",
       "      <div>\n",
       "<style scoped>\n",
       "    .dataframe tbody tr th:only-of-type {\n",
       "        vertical-align: middle;\n",
       "    }\n",
       "\n",
       "    .dataframe tbody tr th {\n",
       "        vertical-align: top;\n",
       "    }\n",
       "\n",
       "    .dataframe thead th {\n",
       "        text-align: right;\n",
       "    }\n",
       "</style>\n",
       "<table border=\"1\" class=\"dataframe\">\n",
       "  <thead>\n",
       "    <tr style=\"text-align: right;\">\n",
       "      <th></th>\n",
       "      <th>Time</th>\n",
       "      <th>V1</th>\n",
       "      <th>V2</th>\n",
       "      <th>V3</th>\n",
       "      <th>V4</th>\n",
       "      <th>V5</th>\n",
       "      <th>V6</th>\n",
       "      <th>V7</th>\n",
       "      <th>V8</th>\n",
       "      <th>V9</th>\n",
       "      <th>V10</th>\n",
       "      <th>V11</th>\n",
       "      <th>V12</th>\n",
       "      <th>V13</th>\n",
       "      <th>V14</th>\n",
       "      <th>V15</th>\n",
       "      <th>V16</th>\n",
       "      <th>V17</th>\n",
       "      <th>V18</th>\n",
       "      <th>V19</th>\n",
       "      <th>V20</th>\n",
       "      <th>V21</th>\n",
       "      <th>V22</th>\n",
       "      <th>V23</th>\n",
       "      <th>V24</th>\n",
       "      <th>V25</th>\n",
       "      <th>V26</th>\n",
       "      <th>V27</th>\n",
       "      <th>V28</th>\n",
       "      <th>Amount</th>\n",
       "    </tr>\n",
       "  </thead>\n",
       "  <tbody>\n",
       "    <tr>\n",
       "      <th>0</th>\n",
       "      <td>0.000</td>\n",
       "      <td>-1.360</td>\n",
       "      <td>-0.073</td>\n",
       "      <td>2.536</td>\n",
       "      <td>1.378</td>\n",
       "      <td>-0.338</td>\n",
       "      <td>0.462</td>\n",
       "      <td>0.240</td>\n",
       "      <td>0.099</td>\n",
       "      <td>0.364</td>\n",
       "      <td>0.091</td>\n",
       "      <td>-0.552</td>\n",
       "      <td>-0.618</td>\n",
       "      <td>-0.991</td>\n",
       "      <td>-0.311</td>\n",
       "      <td>1.468</td>\n",
       "      <td>-0.470</td>\n",
       "      <td>0.208</td>\n",
       "      <td>0.026</td>\n",
       "      <td>0.404</td>\n",
       "      <td>0.251</td>\n",
       "      <td>-0.018</td>\n",
       "      <td>0.278</td>\n",
       "      <td>-0.110</td>\n",
       "      <td>0.067</td>\n",
       "      <td>0.129</td>\n",
       "      <td>-0.189</td>\n",
       "      <td>0.134</td>\n",
       "      <td>-0.021</td>\n",
       "      <td>149.620</td>\n",
       "    </tr>\n",
       "  </tbody>\n",
       "</table>\n",
       "</div>\n",
       "      <button class=\"colab-df-convert\" onclick=\"convertToInteractive('df-d27e3cd3-e18b-48d4-8b08-0ccab2d7a67c')\"\n",
       "              title=\"Convert this dataframe to an interactive table.\"\n",
       "              style=\"display:none;\">\n",
       "        \n",
       "  <svg xmlns=\"http://www.w3.org/2000/svg\" height=\"24px\"viewBox=\"0 0 24 24\"\n",
       "       width=\"24px\">\n",
       "    <path d=\"M0 0h24v24H0V0z\" fill=\"none\"/>\n",
       "    <path d=\"M18.56 5.44l.94 2.06.94-2.06 2.06-.94-2.06-.94-.94-2.06-.94 2.06-2.06.94zm-11 1L8.5 8.5l.94-2.06 2.06-.94-2.06-.94L8.5 2.5l-.94 2.06-2.06.94zm10 10l.94 2.06.94-2.06 2.06-.94-2.06-.94-.94-2.06-.94 2.06-2.06.94z\"/><path d=\"M17.41 7.96l-1.37-1.37c-.4-.4-.92-.59-1.43-.59-.52 0-1.04.2-1.43.59L10.3 9.45l-7.72 7.72c-.78.78-.78 2.05 0 2.83L4 21.41c.39.39.9.59 1.41.59.51 0 1.02-.2 1.41-.59l7.78-7.78 2.81-2.81c.8-.78.8-2.07 0-2.86zM5.41 20L4 18.59l7.72-7.72 1.47 1.35L5.41 20z\"/>\n",
       "  </svg>\n",
       "      </button>\n",
       "      \n",
       "  <style>\n",
       "    .colab-df-container {\n",
       "      display:flex;\n",
       "      flex-wrap:wrap;\n",
       "      gap: 12px;\n",
       "    }\n",
       "\n",
       "    .colab-df-convert {\n",
       "      background-color: #E8F0FE;\n",
       "      border: none;\n",
       "      border-radius: 50%;\n",
       "      cursor: pointer;\n",
       "      display: none;\n",
       "      fill: #1967D2;\n",
       "      height: 32px;\n",
       "      padding: 0 0 0 0;\n",
       "      width: 32px;\n",
       "    }\n",
       "\n",
       "    .colab-df-convert:hover {\n",
       "      background-color: #E2EBFA;\n",
       "      box-shadow: 0px 1px 2px rgba(60, 64, 67, 0.3), 0px 1px 3px 1px rgba(60, 64, 67, 0.15);\n",
       "      fill: #174EA6;\n",
       "    }\n",
       "\n",
       "    [theme=dark] .colab-df-convert {\n",
       "      background-color: #3B4455;\n",
       "      fill: #D2E3FC;\n",
       "    }\n",
       "\n",
       "    [theme=dark] .colab-df-convert:hover {\n",
       "      background-color: #434B5C;\n",
       "      box-shadow: 0px 1px 3px 1px rgba(0, 0, 0, 0.15);\n",
       "      filter: drop-shadow(0px 1px 2px rgba(0, 0, 0, 0.3));\n",
       "      fill: #FFFFFF;\n",
       "    }\n",
       "  </style>\n",
       "\n",
       "      <script>\n",
       "        const buttonEl =\n",
       "          document.querySelector('#df-d27e3cd3-e18b-48d4-8b08-0ccab2d7a67c button.colab-df-convert');\n",
       "        buttonEl.style.display =\n",
       "          google.colab.kernel.accessAllowed ? 'block' : 'none';\n",
       "\n",
       "        async function convertToInteractive(key) {\n",
       "          const element = document.querySelector('#df-d27e3cd3-e18b-48d4-8b08-0ccab2d7a67c');\n",
       "          const dataTable =\n",
       "            await google.colab.kernel.invokeFunction('convertToInteractive',\n",
       "                                                     [key], {});\n",
       "          if (!dataTable) return;\n",
       "\n",
       "          const docLinkHtml = 'Like what you see? Visit the ' +\n",
       "            '<a target=\"_blank\" href=https://colab.research.google.com/notebooks/data_table.ipynb>data table notebook</a>'\n",
       "            + ' to learn more about interactive tables.';\n",
       "          element.innerHTML = '';\n",
       "          dataTable['output_type'] = 'display_data';\n",
       "          await google.colab.output.renderOutput(dataTable, element);\n",
       "          const docLink = document.createElement('div');\n",
       "          docLink.innerHTML = docLinkHtml;\n",
       "          element.appendChild(docLink);\n",
       "        }\n",
       "      </script>\n",
       "    </div>\n",
       "  </div>\n",
       "  "
      ],
      "text/plain": [
       "   Time     V1     V2    V3    V4     V5    V6    V7    V8    V9   V10    V11  \\\n",
       "0 0.000 -1.360 -0.073 2.536 1.378 -0.338 0.462 0.240 0.099 0.364 0.091 -0.552   \n",
       "\n",
       "     V12    V13    V14   V15    V16   V17   V18   V19   V20    V21   V22  \\\n",
       "0 -0.618 -0.991 -0.311 1.468 -0.470 0.208 0.026 0.404 0.251 -0.018 0.278   \n",
       "\n",
       "     V23   V24   V25    V26   V27    V28  Amount  \n",
       "0 -0.110 0.067 0.129 -0.189 0.134 -0.021 149.620  "
      ]
     },
     "execution_count": 263,
     "metadata": {},
     "output_type": "execute_result"
    }
   ],
   "source": [
    "single_fraud = df.drop('Class', axis = 1).iloc[0:1, :]\n",
    "single_fraud"
   ]
  },
  {
   "cell_type": "code",
   "execution_count": 265,
   "metadata": {
    "colab": {
     "base_uri": "https://localhost:8080/"
    },
    "id": "87KDGdD_ABjy",
    "outputId": "b6be874f-fe72-4a38-beac-3dad5ecfccc4"
   },
   "outputs": [
    {
     "data": {
      "text/plain": [
       "array([[1]], dtype=int32)"
      ]
     },
     "execution_count": 265,
     "metadata": {},
     "output_type": "execute_result"
    }
   ],
   "source": [
    "single_fraud = scaler_fraud.transform(single_fraud)\n",
    "(model_fraud.predict(single_fraud) > 0.5).astype(\"int32\")"
   ]
  },
  {
   "cell_type": "code",
   "execution_count": 267,
   "metadata": {
    "colab": {
     "base_uri": "https://localhost:8080/"
    },
    "id": "CuSwWpblABnL",
    "outputId": "75fb79e8-cf62-4eee-cf9b-f4b37aca32dd"
   },
   "outputs": [
    {
     "data": {
      "text/plain": [
       "array([[0.84143233]], dtype=float32)"
      ]
     },
     "execution_count": 267,
     "metadata": {},
     "output_type": "execute_result"
    }
   ],
   "source": [
    "model_fraud.predict(single_fraud)"
   ]
  },
  {
   "cell_type": "code",
   "execution_count": 268,
   "metadata": {
    "colab": {
     "base_uri": "https://localhost:8080/"
    },
    "id": "VfuGoZ0pAPX6",
    "outputId": "5dcdaf2e-ccf9-49aa-d0bf-f2a53456ce64"
   },
   "outputs": [
    {
     "data": {
      "text/plain": [
       "0"
      ]
     },
     "execution_count": 268,
     "metadata": {},
     "output_type": "execute_result"
    }
   ],
   "source": [
    "df[\"Class\"].iloc[0]"
   ]
  },
  {
   "cell_type": "code",
   "execution_count": null,
   "metadata": {
    "id": "fl-JG_vuwBxQ"
   },
   "outputs": [],
   "source": []
  },
  {
   "cell_type": "code",
   "execution_count": null,
   "metadata": {
    "id": "DiknqQK7wB0f"
   },
   "outputs": [],
   "source": [
    "import joblib"
   ]
  },
  {
   "cell_type": "code",
   "execution_count": null,
   "metadata": {
    "id": "rW3Q5z-7ABq8"
   },
   "outputs": [],
   "source": [
    "joblib.dump(log_model_final, open('log_model_final.pkl', 'wb'))\n",
    "joblib.dump(rf_model_final, open('rf_model_final.pkl', 'wb'))\n",
    "joblib.dump(ann_model_final, open('ann_model_final.pkl', 'wb'))"
   ]
  },
  {
   "cell_type": "code",
   "execution_count": null,
   "metadata": {
    "id": "gxwXO9HAwEz-"
   },
   "outputs": [],
   "source": [
    "log_model = joblib.load(open('log_model_final.pkl', 'rb'))"
   ]
  },
  {
   "cell_type": "code",
   "execution_count": 269,
   "metadata": {
    "colab": {
     "base_uri": "https://localhost:8080/",
     "height": 125
    },
    "id": "jo6gbPKWwS0x",
    "outputId": "3af3c380-f88f-4d14-86c5-a6e34c15c423"
   },
   "outputs": [
    {
     "data": {
      "text/html": [
       "\n",
       "  <div id=\"df-d9abfc2d-a720-4d32-83c3-47200fe7db6a\">\n",
       "    <div class=\"colab-df-container\">\n",
       "      <div>\n",
       "<style scoped>\n",
       "    .dataframe tbody tr th:only-of-type {\n",
       "        vertical-align: middle;\n",
       "    }\n",
       "\n",
       "    .dataframe tbody tr th {\n",
       "        vertical-align: top;\n",
       "    }\n",
       "\n",
       "    .dataframe thead th {\n",
       "        text-align: right;\n",
       "    }\n",
       "</style>\n",
       "<table border=\"1\" class=\"dataframe\">\n",
       "  <thead>\n",
       "    <tr style=\"text-align: right;\">\n",
       "      <th></th>\n",
       "      <th>Time</th>\n",
       "      <th>V1</th>\n",
       "      <th>V2</th>\n",
       "      <th>V3</th>\n",
       "      <th>V4</th>\n",
       "      <th>V5</th>\n",
       "      <th>V6</th>\n",
       "      <th>V7</th>\n",
       "      <th>V8</th>\n",
       "      <th>V9</th>\n",
       "      <th>V10</th>\n",
       "      <th>V11</th>\n",
       "      <th>V12</th>\n",
       "      <th>V13</th>\n",
       "      <th>V14</th>\n",
       "      <th>V15</th>\n",
       "      <th>V16</th>\n",
       "      <th>V17</th>\n",
       "      <th>V18</th>\n",
       "      <th>V19</th>\n",
       "      <th>V20</th>\n",
       "      <th>V21</th>\n",
       "      <th>V22</th>\n",
       "      <th>V23</th>\n",
       "      <th>V24</th>\n",
       "      <th>V25</th>\n",
       "      <th>V26</th>\n",
       "      <th>V27</th>\n",
       "      <th>V28</th>\n",
       "      <th>Amount</th>\n",
       "    </tr>\n",
       "  </thead>\n",
       "  <tbody>\n",
       "    <tr>\n",
       "      <th>0</th>\n",
       "      <td>150</td>\n",
       "      <td>0.380</td>\n",
       "      <td>0.530</td>\n",
       "      <td>2</td>\n",
       "      <td>157</td>\n",
       "      <td>3</td>\n",
       "      <td>0</td>\n",
       "      <td>0</td>\n",
       "      <td>0.380</td>\n",
       "      <td>0.530</td>\n",
       "      <td>2</td>\n",
       "      <td>157</td>\n",
       "      <td>3</td>\n",
       "      <td>0</td>\n",
       "      <td>0</td>\n",
       "      <td>0</td>\n",
       "      <td>0</td>\n",
       "      <td>0.380</td>\n",
       "      <td>0.530</td>\n",
       "      <td>2</td>\n",
       "      <td>157</td>\n",
       "      <td>3</td>\n",
       "      <td>0</td>\n",
       "      <td>0</td>\n",
       "      <td>157</td>\n",
       "      <td>3</td>\n",
       "      <td>0</td>\n",
       "      <td>0</td>\n",
       "      <td>0</td>\n",
       "      <td>150.000</td>\n",
       "    </tr>\n",
       "  </tbody>\n",
       "</table>\n",
       "</div>\n",
       "      <button class=\"colab-df-convert\" onclick=\"convertToInteractive('df-d9abfc2d-a720-4d32-83c3-47200fe7db6a')\"\n",
       "              title=\"Convert this dataframe to an interactive table.\"\n",
       "              style=\"display:none;\">\n",
       "        \n",
       "  <svg xmlns=\"http://www.w3.org/2000/svg\" height=\"24px\"viewBox=\"0 0 24 24\"\n",
       "       width=\"24px\">\n",
       "    <path d=\"M0 0h24v24H0V0z\" fill=\"none\"/>\n",
       "    <path d=\"M18.56 5.44l.94 2.06.94-2.06 2.06-.94-2.06-.94-.94-2.06-.94 2.06-2.06.94zm-11 1L8.5 8.5l.94-2.06 2.06-.94-2.06-.94L8.5 2.5l-.94 2.06-2.06.94zm10 10l.94 2.06.94-2.06 2.06-.94-2.06-.94-.94-2.06-.94 2.06-2.06.94z\"/><path d=\"M17.41 7.96l-1.37-1.37c-.4-.4-.92-.59-1.43-.59-.52 0-1.04.2-1.43.59L10.3 9.45l-7.72 7.72c-.78.78-.78 2.05 0 2.83L4 21.41c.39.39.9.59 1.41.59.51 0 1.02-.2 1.41-.59l7.78-7.78 2.81-2.81c.8-.78.8-2.07 0-2.86zM5.41 20L4 18.59l7.72-7.72 1.47 1.35L5.41 20z\"/>\n",
       "  </svg>\n",
       "      </button>\n",
       "      \n",
       "  <style>\n",
       "    .colab-df-container {\n",
       "      display:flex;\n",
       "      flex-wrap:wrap;\n",
       "      gap: 12px;\n",
       "    }\n",
       "\n",
       "    .colab-df-convert {\n",
       "      background-color: #E8F0FE;\n",
       "      border: none;\n",
       "      border-radius: 50%;\n",
       "      cursor: pointer;\n",
       "      display: none;\n",
       "      fill: #1967D2;\n",
       "      height: 32px;\n",
       "      padding: 0 0 0 0;\n",
       "      width: 32px;\n",
       "    }\n",
       "\n",
       "    .colab-df-convert:hover {\n",
       "      background-color: #E2EBFA;\n",
       "      box-shadow: 0px 1px 2px rgba(60, 64, 67, 0.3), 0px 1px 3px 1px rgba(60, 64, 67, 0.15);\n",
       "      fill: #174EA6;\n",
       "    }\n",
       "\n",
       "    [theme=dark] .colab-df-convert {\n",
       "      background-color: #3B4455;\n",
       "      fill: #D2E3FC;\n",
       "    }\n",
       "\n",
       "    [theme=dark] .colab-df-convert:hover {\n",
       "      background-color: #434B5C;\n",
       "      box-shadow: 0px 1px 3px 1px rgba(0, 0, 0, 0.15);\n",
       "      filter: drop-shadow(0px 1px 2px rgba(0, 0, 0, 0.3));\n",
       "      fill: #FFFFFF;\n",
       "    }\n",
       "  </style>\n",
       "\n",
       "      <script>\n",
       "        const buttonEl =\n",
       "          document.querySelector('#df-d9abfc2d-a720-4d32-83c3-47200fe7db6a button.colab-df-convert');\n",
       "        buttonEl.style.display =\n",
       "          google.colab.kernel.accessAllowed ? 'block' : 'none';\n",
       "\n",
       "        async function convertToInteractive(key) {\n",
       "          const element = document.querySelector('#df-d9abfc2d-a720-4d32-83c3-47200fe7db6a');\n",
       "          const dataTable =\n",
       "            await google.colab.kernel.invokeFunction('convertToInteractive',\n",
       "                                                     [key], {});\n",
       "          if (!dataTable) return;\n",
       "\n",
       "          const docLinkHtml = 'Like what you see? Visit the ' +\n",
       "            '<a target=\"_blank\" href=https://colab.research.google.com/notebooks/data_table.ipynb>data table notebook</a>'\n",
       "            + ' to learn more about interactive tables.';\n",
       "          element.innerHTML = '';\n",
       "          dataTable['output_type'] = 'display_data';\n",
       "          await google.colab.output.renderOutput(dataTable, element);\n",
       "          const docLink = document.createElement('div');\n",
       "          docLink.innerHTML = docLinkHtml;\n",
       "          element.appendChild(docLink);\n",
       "        }\n",
       "      </script>\n",
       "    </div>\n",
       "  </div>\n",
       "  "
      ],
      "text/plain": [
       "   Time    V1    V2  V3   V4  V5  V6  V7    V8    V9  V10  V11  V12  V13  V14  \\\n",
       "0   150 0.380 0.530   2  157   3   0   0 0.380 0.530    2  157    3    0    0   \n",
       "\n",
       "   V15  V16   V17   V18  V19  V20  V21  V22  V23  V24  V25  V26  V27  V28  \\\n",
       "0    0    0 0.380 0.530    2  157    3    0    0  157    3    0    0    0   \n",
       "\n",
       "   Amount  \n",
       "0 150.000  "
      ]
     },
     "execution_count": 269,
     "metadata": {},
     "output_type": "execute_result"
    }
   ],
   "source": [
    "sample = pd.DataFrame({\n",
    "        'Time':150,\n",
    "        'V1': 0.38,\n",
    "        'V2': 0.53,\n",
    "        'V3': 2,\n",
    "        'V4': 157,\n",
    "        'V5': 3,\n",
    "        'V6': 0,\n",
    "        'V7': 0,\n",
    "        'V8': 0.38,\n",
    "        'V9': 0.53,\n",
    "        'V10': 2,\n",
    "        'V11': 157,\n",
    "        'V12': 3,\n",
    "        'V13': 0,\n",
    "        'V14': 0,\n",
    "        'V15': 0,\n",
    "        'V16': 0,\n",
    "        'V17': 0.38,\n",
    "        'V18': 0.53,\n",
    "        'V19': 2,\n",
    "        'V20': 157,\n",
    "        'V21': 3,\n",
    "        'V22': 0,\n",
    "        'V23': 0,\n",
    "        'V24': 157,\n",
    "        'V25': 3,\n",
    "        'V26': 0,\n",
    "        'V27': 0,\n",
    "        'V28': 0,\n",
    "        'Amount': 150.0\n",
    "}, index=[0])\n",
    "\n",
    "sample"
   ]
  },
  {
   "cell_type": "code",
   "execution_count": null,
   "metadata": {
    "id": "W9xom2sSwU_O"
   },
   "outputs": [],
   "source": [
    "log_model.predict(sample)"
   ]
  },
  {
   "cell_type": "code",
   "execution_count": 273,
   "metadata": {
    "colab": {
     "base_uri": "https://localhost:8080/"
    },
    "id": "ea-QLQQgARKT",
    "outputId": "0eed75b6-fc4e-4591-f852-c26a564a8fd8"
   },
   "outputs": [
    {
     "data": {
      "text/plain": [
       "array([[1]], dtype=int32)"
      ]
     },
     "execution_count": 273,
     "metadata": {},
     "output_type": "execute_result"
    }
   ],
   "source": [
    "single_fraud = scaler_fraud.transform(sample)\n",
    "(model_fraud.predict(single_fraud) > 0.5).astype(\"int32\")"
   ]
  },
  {
   "cell_type": "code",
   "execution_count": null,
   "metadata": {
    "id": "E88XFf0gAniP"
   },
   "outputs": [],
   "source": []
  },
  {
   "cell_type": "code",
   "execution_count": null,
   "metadata": {
    "id": "X0N31NCpDjLU"
   },
   "outputs": [],
   "source": []
  },
  {
   "cell_type": "markdown",
   "metadata": {
    "id": "vaZP1N93IPQi"
   },
   "source": [
    "### Save and Export Variables as .pkl"
   ]
  },
  {
   "cell_type": "code",
   "execution_count": null,
   "metadata": {
    "id": "q_vA-dJWxfFH"
   },
   "outputs": [],
   "source": []
  },
  {
   "cell_type": "markdown",
   "metadata": {
    "id": "cm9Z__Y7MuHj"
   },
   "source": [
    "___\n",
    "\n",
    "<p style=\"text-align: center;\"><img src=\"https://docs.google.com/uc?id=1lY0Uj5R04yMY3-ZppPWxqCr5pvBLYPnV\" class=\"img-fluid\" alt=\"CLRSWY\"></p>\n",
    "\n",
    "___"
   ]
  }
 ],
 "metadata": {
  "accelerator": "TPU",
  "colab": {
   "collapsed_sections": [],
   "name": "Fraud_Detection_Notebook.ipynb",
   "provenance": []
  },
  "kernelspec": {
   "display_name": "Python 3 (ipykernel)",
   "language": "python",
   "name": "python3"
  },
  "language_info": {
   "codemirror_mode": {
    "name": "ipython",
    "version": 3
   },
   "file_extension": ".py",
   "mimetype": "text/x-python",
   "name": "python",
   "nbconvert_exporter": "python",
   "pygments_lexer": "ipython3",
   "version": "3.9.7"
  }
 },
 "nbformat": 4,
 "nbformat_minor": 4
}
