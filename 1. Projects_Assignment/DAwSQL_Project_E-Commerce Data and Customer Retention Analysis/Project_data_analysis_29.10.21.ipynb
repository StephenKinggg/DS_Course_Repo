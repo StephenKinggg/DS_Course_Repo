{
 "cells": [
  {
   "cell_type": "code",
   "execution_count": 1,
   "id": "6cb265b9-5b63-4a46-b39d-9a84869e679b",
   "metadata": {},
   "outputs": [],
   "source": [
    "import numpy as np\n",
    "import pandas as pd\n",
    "import seaborn as sns\n",
    "import matplotlib.pyplot as plt\n",
    "%matplotlib inline\n",
    "from pandas.plotting import register_matplotlib_converters\n",
    "from pylab import rcParams\n",
    "sns.set_style(\"darkgrid\")\n",
    "\n",
    "import warnings\n",
    "warnings.filterwarnings(\"ignore\")"
   ]
  },
  {
   "cell_type": "code",
   "execution_count": 3,
   "id": "3089dc80-277f-4820-96f7-089fae7cf647",
   "metadata": {},
   "outputs": [],
   "source": [
    "df = pd.read_csv(\"cust_dimen.csv\")"
   ]
  },
  {
   "cell_type": "code",
   "execution_count": 13,
   "id": "fa20e29c-4d63-4d35-92ba-1ed3f848b39c",
   "metadata": {},
   "outputs": [
    {
     "name": "stdout",
     "output_type": "stream",
     "text": [
      "<class 'pandas.core.frame.DataFrame'>\n",
      "RangeIndex: 1832 entries, 0 to 1831\n",
      "Data columns (total 5 columns):\n",
      " #   Column            Non-Null Count  Dtype \n",
      "---  ------            --------------  ----- \n",
      " 0   Customer_Name     1832 non-null   object\n",
      " 1   Province          1832 non-null   object\n",
      " 2   Region            1832 non-null   object\n",
      " 3   Customer_Segment  1832 non-null   object\n",
      " 4   Cust_id           1832 non-null   object\n",
      "dtypes: object(5)\n",
      "memory usage: 71.7+ KB\n"
     ]
    }
   ],
   "source": [
    "df.info()"
   ]
  },
  {
   "cell_type": "code",
   "execution_count": 4,
   "id": "de54cebd-cf38-414d-a83f-ba0f0671f893",
   "metadata": {},
   "outputs": [
    {
     "data": {
      "text/html": [
       "<div>\n",
       "<style scoped>\n",
       "    .dataframe tbody tr th:only-of-type {\n",
       "        vertical-align: middle;\n",
       "    }\n",
       "\n",
       "    .dataframe tbody tr th {\n",
       "        vertical-align: top;\n",
       "    }\n",
       "\n",
       "    .dataframe thead th {\n",
       "        text-align: right;\n",
       "    }\n",
       "</style>\n",
       "<table border=\"1\" class=\"dataframe\">\n",
       "  <thead>\n",
       "    <tr style=\"text-align: right;\">\n",
       "      <th></th>\n",
       "      <th>Customer_Name</th>\n",
       "      <th>Province</th>\n",
       "      <th>Region</th>\n",
       "      <th>Customer_Segment</th>\n",
       "      <th>Cust_id</th>\n",
       "    </tr>\n",
       "  </thead>\n",
       "  <tbody>\n",
       "    <tr>\n",
       "      <th>0</th>\n",
       "      <td>MUHAMMED MACINTYRE</td>\n",
       "      <td>NUNAVUT</td>\n",
       "      <td>NUNAVUT</td>\n",
       "      <td>SMALL BUSINESS</td>\n",
       "      <td>Cust_1</td>\n",
       "    </tr>\n",
       "    <tr>\n",
       "      <th>1</th>\n",
       "      <td>BARRY FRENCH</td>\n",
       "      <td>NUNAVUT</td>\n",
       "      <td>NUNAVUT</td>\n",
       "      <td>CONSUMER</td>\n",
       "      <td>Cust_2</td>\n",
       "    </tr>\n",
       "    <tr>\n",
       "      <th>2</th>\n",
       "      <td>CLAY ROZENDAL</td>\n",
       "      <td>NUNAVUT</td>\n",
       "      <td>NUNAVUT</td>\n",
       "      <td>CORPORATE</td>\n",
       "      <td>Cust_3</td>\n",
       "    </tr>\n",
       "    <tr>\n",
       "      <th>3</th>\n",
       "      <td>CARLOS SOLTERO</td>\n",
       "      <td>NUNAVUT</td>\n",
       "      <td>NUNAVUT</td>\n",
       "      <td>CONSUMER</td>\n",
       "      <td>Cust_4</td>\n",
       "    </tr>\n",
       "    <tr>\n",
       "      <th>4</th>\n",
       "      <td>CARL JACKSON</td>\n",
       "      <td>NUNAVUT</td>\n",
       "      <td>NUNAVUT</td>\n",
       "      <td>CORPORATE</td>\n",
       "      <td>Cust_5</td>\n",
       "    </tr>\n",
       "  </tbody>\n",
       "</table>\n",
       "</div>"
      ],
      "text/plain": [
       "        Customer_Name Province   Region Customer_Segment Cust_id\n",
       "0  MUHAMMED MACINTYRE  NUNAVUT  NUNAVUT   SMALL BUSINESS  Cust_1\n",
       "1        BARRY FRENCH  NUNAVUT  NUNAVUT         CONSUMER  Cust_2\n",
       "2       CLAY ROZENDAL  NUNAVUT  NUNAVUT        CORPORATE  Cust_3\n",
       "3      CARLOS SOLTERO  NUNAVUT  NUNAVUT         CONSUMER  Cust_4\n",
       "4        CARL JACKSON  NUNAVUT  NUNAVUT        CORPORATE  Cust_5"
      ]
     },
     "execution_count": 4,
     "metadata": {},
     "output_type": "execute_result"
    }
   ],
   "source": [
    "df.head()"
   ]
  },
  {
   "cell_type": "code",
   "execution_count": null,
   "id": "0fcb8cf5-8761-4483-ac09-cf4d8c3fe9b5",
   "metadata": {},
   "outputs": [],
   "source": [
    "df1 = pd.read_csv(\"orders_dimen.csv\")"
   ]
  },
  {
   "cell_type": "code",
   "execution_count": 14,
   "id": "93d1e5c7-d346-4c78-966c-6710e02b5fbb",
   "metadata": {},
   "outputs": [
    {
     "name": "stdout",
     "output_type": "stream",
     "text": [
      "<class 'pandas.core.frame.DataFrame'>\n",
      "RangeIndex: 5506 entries, 0 to 5505\n",
      "Data columns (total 3 columns):\n",
      " #   Column          Non-Null Count  Dtype \n",
      "---  ------          --------------  ----- \n",
      " 0   Order_Date      5506 non-null   object\n",
      " 1   Order_Priority  5506 non-null   object\n",
      " 2   Ord_id          5506 non-null   object\n",
      "dtypes: object(3)\n",
      "memory usage: 129.2+ KB\n"
     ]
    }
   ],
   "source": [
    "df1.info()"
   ]
  },
  {
   "cell_type": "code",
   "execution_count": 6,
   "id": "22e610a2-644d-403f-9019-5b339bda7632",
   "metadata": {},
   "outputs": [
    {
     "data": {
      "text/html": [
       "<div>\n",
       "<style scoped>\n",
       "    .dataframe tbody tr th:only-of-type {\n",
       "        vertical-align: middle;\n",
       "    }\n",
       "\n",
       "    .dataframe tbody tr th {\n",
       "        vertical-align: top;\n",
       "    }\n",
       "\n",
       "    .dataframe thead th {\n",
       "        text-align: right;\n",
       "    }\n",
       "</style>\n",
       "<table border=\"1\" class=\"dataframe\">\n",
       "  <thead>\n",
       "    <tr style=\"text-align: right;\">\n",
       "      <th></th>\n",
       "      <th>Order_Date</th>\n",
       "      <th>Order_Priority</th>\n",
       "      <th>Ord_id</th>\n",
       "    </tr>\n",
       "  </thead>\n",
       "  <tbody>\n",
       "    <tr>\n",
       "      <th>0</th>\n",
       "      <td>13-10-2010</td>\n",
       "      <td>LOW</td>\n",
       "      <td>Ord_1</td>\n",
       "    </tr>\n",
       "    <tr>\n",
       "      <th>1</th>\n",
       "      <td>01-10-2012</td>\n",
       "      <td>HIGH</td>\n",
       "      <td>Ord_2</td>\n",
       "    </tr>\n",
       "    <tr>\n",
       "      <th>2</th>\n",
       "      <td>10-07-2011</td>\n",
       "      <td>HIGH</td>\n",
       "      <td>Ord_3</td>\n",
       "    </tr>\n",
       "    <tr>\n",
       "      <th>3</th>\n",
       "      <td>28-08-2010</td>\n",
       "      <td>NOT SPECIFIED</td>\n",
       "      <td>Ord_4</td>\n",
       "    </tr>\n",
       "    <tr>\n",
       "      <th>4</th>\n",
       "      <td>17-06-2011</td>\n",
       "      <td>HIGH</td>\n",
       "      <td>Ord_5</td>\n",
       "    </tr>\n",
       "  </tbody>\n",
       "</table>\n",
       "</div>"
      ],
      "text/plain": [
       "   Order_Date Order_Priority Ord_id\n",
       "0  13-10-2010            LOW  Ord_1\n",
       "1  01-10-2012           HIGH  Ord_2\n",
       "2  10-07-2011           HIGH  Ord_3\n",
       "3  28-08-2010  NOT SPECIFIED  Ord_4\n",
       "4  17-06-2011           HIGH  Ord_5"
      ]
     },
     "execution_count": 6,
     "metadata": {},
     "output_type": "execute_result"
    }
   ],
   "source": [
    "df1.head()"
   ]
  },
  {
   "cell_type": "code",
   "execution_count": 34,
   "id": "eb1f86c5-bc84-441a-a202-379eb2545c3c",
   "metadata": {},
   "outputs": [
    {
     "data": {
      "text/html": [
       "<div>\n",
       "<style scoped>\n",
       "    .dataframe tbody tr th:only-of-type {\n",
       "        vertical-align: middle;\n",
       "    }\n",
       "\n",
       "    .dataframe tbody tr th {\n",
       "        vertical-align: top;\n",
       "    }\n",
       "\n",
       "    .dataframe thead th {\n",
       "        text-align: right;\n",
       "    }\n",
       "</style>\n",
       "<table border=\"1\" class=\"dataframe\">\n",
       "  <thead>\n",
       "    <tr style=\"text-align: right;\">\n",
       "      <th></th>\n",
       "      <th>Order_Date</th>\n",
       "      <th>Order_Priority</th>\n",
       "      <th>Ord_id</th>\n",
       "    </tr>\n",
       "  </thead>\n",
       "  <tbody>\n",
       "    <tr>\n",
       "      <th>3</th>\n",
       "      <td>28-08-2010</td>\n",
       "      <td>NOT SPECIFIED</td>\n",
       "      <td>Ord_4</td>\n",
       "    </tr>\n",
       "    <tr>\n",
       "      <th>8</th>\n",
       "      <td>08-06-2012</td>\n",
       "      <td>NOT SPECIFIED</td>\n",
       "      <td>Ord_9</td>\n",
       "    </tr>\n",
       "    <tr>\n",
       "      <th>9</th>\n",
       "      <td>04-08-2012</td>\n",
       "      <td>NOT SPECIFIED</td>\n",
       "      <td>Ord_10</td>\n",
       "    </tr>\n",
       "    <tr>\n",
       "      <th>11</th>\n",
       "      <td>25-11-2009</td>\n",
       "      <td>NOT SPECIFIED</td>\n",
       "      <td>Ord_12</td>\n",
       "    </tr>\n",
       "    <tr>\n",
       "      <th>14</th>\n",
       "      <td>12-03-2010</td>\n",
       "      <td>NOT SPECIFIED</td>\n",
       "      <td>Ord_15</td>\n",
       "    </tr>\n",
       "    <tr>\n",
       "      <th>...</th>\n",
       "      <td>...</td>\n",
       "      <td>...</td>\n",
       "      <td>...</td>\n",
       "    </tr>\n",
       "    <tr>\n",
       "      <th>5469</th>\n",
       "      <td>13-09-2010</td>\n",
       "      <td>NOT SPECIFIED</td>\n",
       "      <td>Ord_5470</td>\n",
       "    </tr>\n",
       "    <tr>\n",
       "      <th>5472</th>\n",
       "      <td>08-03-2012</td>\n",
       "      <td>NOT SPECIFIED</td>\n",
       "      <td>Ord_5473</td>\n",
       "    </tr>\n",
       "    <tr>\n",
       "      <th>5473</th>\n",
       "      <td>09-08-2010</td>\n",
       "      <td>NOT SPECIFIED</td>\n",
       "      <td>Ord_5474</td>\n",
       "    </tr>\n",
       "    <tr>\n",
       "      <th>5478</th>\n",
       "      <td>09-01-2012</td>\n",
       "      <td>NOT SPECIFIED</td>\n",
       "      <td>Ord_5479</td>\n",
       "    </tr>\n",
       "    <tr>\n",
       "      <th>5501</th>\n",
       "      <td>08-10-2010</td>\n",
       "      <td>NOT SPECIFIED</td>\n",
       "      <td>Ord_5502</td>\n",
       "    </tr>\n",
       "  </tbody>\n",
       "</table>\n",
       "<p>1080 rows × 3 columns</p>\n",
       "</div>"
      ],
      "text/plain": [
       "      Order_Date Order_Priority    Ord_id\n",
       "3     28-08-2010  NOT SPECIFIED     Ord_4\n",
       "8     08-06-2012  NOT SPECIFIED     Ord_9\n",
       "9     04-08-2012  NOT SPECIFIED    Ord_10\n",
       "11    25-11-2009  NOT SPECIFIED    Ord_12\n",
       "14    12-03-2010  NOT SPECIFIED    Ord_15\n",
       "...          ...            ...       ...\n",
       "5469  13-09-2010  NOT SPECIFIED  Ord_5470\n",
       "5472  08-03-2012  NOT SPECIFIED  Ord_5473\n",
       "5473  09-08-2010  NOT SPECIFIED  Ord_5474\n",
       "5478  09-01-2012  NOT SPECIFIED  Ord_5479\n",
       "5501  08-10-2010  NOT SPECIFIED  Ord_5502\n",
       "\n",
       "[1080 rows x 3 columns]"
      ]
     },
     "execution_count": 34,
     "metadata": {},
     "output_type": "execute_result"
    }
   ],
   "source": [
    "df1.loc[df1.Order_Priority==\"NOT SPECIFIED\"]"
   ]
  },
  {
   "cell_type": "code",
   "execution_count": 7,
   "id": "ae091b46-f131-489c-950d-b9d2a53d33e6",
   "metadata": {},
   "outputs": [],
   "source": [
    "df2 = pd.read_csv(\"shipping_dimen.csv\")"
   ]
  },
  {
   "cell_type": "code",
   "execution_count": 15,
   "id": "672ff132-a2e5-4198-bd65-314900dbb6a7",
   "metadata": {},
   "outputs": [
    {
     "name": "stdout",
     "output_type": "stream",
     "text": [
      "<class 'pandas.core.frame.DataFrame'>\n",
      "RangeIndex: 7701 entries, 0 to 7700\n",
      "Data columns (total 4 columns):\n",
      " #   Column     Non-Null Count  Dtype \n",
      "---  ------     --------------  ----- \n",
      " 0   Order_ID   7701 non-null   int64 \n",
      " 1   Ship_Mode  7701 non-null   object\n",
      " 2   Ship_Date  7701 non-null   object\n",
      " 3   Ship_id    7701 non-null   object\n",
      "dtypes: int64(1), object(3)\n",
      "memory usage: 240.8+ KB\n"
     ]
    }
   ],
   "source": [
    "df2.info()"
   ]
  },
  {
   "cell_type": "code",
   "execution_count": 8,
   "id": "c0bd95a8-0733-43e2-9538-9454ad57f707",
   "metadata": {},
   "outputs": [
    {
     "data": {
      "text/html": [
       "<div>\n",
       "<style scoped>\n",
       "    .dataframe tbody tr th:only-of-type {\n",
       "        vertical-align: middle;\n",
       "    }\n",
       "\n",
       "    .dataframe tbody tr th {\n",
       "        vertical-align: top;\n",
       "    }\n",
       "\n",
       "    .dataframe thead th {\n",
       "        text-align: right;\n",
       "    }\n",
       "</style>\n",
       "<table border=\"1\" class=\"dataframe\">\n",
       "  <thead>\n",
       "    <tr style=\"text-align: right;\">\n",
       "      <th></th>\n",
       "      <th>Order_ID</th>\n",
       "      <th>Ship_Mode</th>\n",
       "      <th>Ship_Date</th>\n",
       "      <th>Ship_id</th>\n",
       "    </tr>\n",
       "  </thead>\n",
       "  <tbody>\n",
       "    <tr>\n",
       "      <th>0</th>\n",
       "      <td>3</td>\n",
       "      <td>REGULAR AIR</td>\n",
       "      <td>20-10-2010</td>\n",
       "      <td>SHP_1</td>\n",
       "    </tr>\n",
       "    <tr>\n",
       "      <th>1</th>\n",
       "      <td>293</td>\n",
       "      <td>DELIVERY TRUCK</td>\n",
       "      <td>02-10-2012</td>\n",
       "      <td>SHP_2</td>\n",
       "    </tr>\n",
       "    <tr>\n",
       "      <th>2</th>\n",
       "      <td>293</td>\n",
       "      <td>REGULAR AIR</td>\n",
       "      <td>03-10-2012</td>\n",
       "      <td>SHP_3</td>\n",
       "    </tr>\n",
       "    <tr>\n",
       "      <th>3</th>\n",
       "      <td>483</td>\n",
       "      <td>REGULAR AIR</td>\n",
       "      <td>12-07-2011</td>\n",
       "      <td>SHP_4</td>\n",
       "    </tr>\n",
       "    <tr>\n",
       "      <th>4</th>\n",
       "      <td>515</td>\n",
       "      <td>REGULAR AIR</td>\n",
       "      <td>30-08-2010</td>\n",
       "      <td>SHP_5</td>\n",
       "    </tr>\n",
       "  </tbody>\n",
       "</table>\n",
       "</div>"
      ],
      "text/plain": [
       "   Order_ID       Ship_Mode   Ship_Date Ship_id\n",
       "0         3     REGULAR AIR  20-10-2010   SHP_1\n",
       "1       293  DELIVERY TRUCK  02-10-2012   SHP_2\n",
       "2       293     REGULAR AIR  03-10-2012   SHP_3\n",
       "3       483     REGULAR AIR  12-07-2011   SHP_4\n",
       "4       515     REGULAR AIR  30-08-2010   SHP_5"
      ]
     },
     "execution_count": 8,
     "metadata": {},
     "output_type": "execute_result"
    }
   ],
   "source": [
    "df2.head()"
   ]
  },
  {
   "cell_type": "code",
   "execution_count": 9,
   "id": "99162951-9b92-4157-9d78-c5fb386b3694",
   "metadata": {},
   "outputs": [],
   "source": [
    "df3 = pd.read_excel(\"market_fact.xlsx\")"
   ]
  },
  {
   "cell_type": "code",
   "execution_count": 16,
   "id": "303f2599-5fa2-4e57-b4f7-6817c84992d4",
   "metadata": {},
   "outputs": [
    {
     "name": "stdout",
     "output_type": "stream",
     "text": [
      "<class 'pandas.core.frame.DataFrame'>\n",
      "RangeIndex: 8399 entries, 0 to 8398\n",
      "Data columns (total 8 columns):\n",
      " #   Column               Non-Null Count  Dtype  \n",
      "---  ------               --------------  -----  \n",
      " 0   Ord_id               8399 non-null   object \n",
      " 1   Prod_id              8399 non-null   object \n",
      " 2   Ship_id              8399 non-null   object \n",
      " 3   Cust_id              8399 non-null   object \n",
      " 4   Sales                8399 non-null   int64  \n",
      " 5   Discount             8399 non-null   float64\n",
      " 6   Order_Quantity       8399 non-null   int64  \n",
      " 7   Product_Base_Margin  8336 non-null   float64\n",
      "dtypes: float64(2), int64(2), object(4)\n",
      "memory usage: 525.1+ KB\n"
     ]
    }
   ],
   "source": [
    "df3.info()"
   ]
  },
  {
   "cell_type": "code",
   "execution_count": 10,
   "id": "0f83519b-d2af-453e-81c8-590f49a43d54",
   "metadata": {},
   "outputs": [
    {
     "data": {
      "text/html": [
       "<div>\n",
       "<style scoped>\n",
       "    .dataframe tbody tr th:only-of-type {\n",
       "        vertical-align: middle;\n",
       "    }\n",
       "\n",
       "    .dataframe tbody tr th {\n",
       "        vertical-align: top;\n",
       "    }\n",
       "\n",
       "    .dataframe thead th {\n",
       "        text-align: right;\n",
       "    }\n",
       "</style>\n",
       "<table border=\"1\" class=\"dataframe\">\n",
       "  <thead>\n",
       "    <tr style=\"text-align: right;\">\n",
       "      <th></th>\n",
       "      <th>Ord_id</th>\n",
       "      <th>Prod_id</th>\n",
       "      <th>Ship_id</th>\n",
       "      <th>Cust_id</th>\n",
       "      <th>Sales</th>\n",
       "      <th>Discount</th>\n",
       "      <th>Order_Quantity</th>\n",
       "      <th>Product_Base_Margin</th>\n",
       "    </tr>\n",
       "  </thead>\n",
       "  <tbody>\n",
       "    <tr>\n",
       "      <th>0</th>\n",
       "      <td>Ord_1</td>\n",
       "      <td>Prod_1</td>\n",
       "      <td>SHP_1</td>\n",
       "      <td>Cust_1</td>\n",
       "      <td>26154</td>\n",
       "      <td>0.04</td>\n",
       "      <td>6</td>\n",
       "      <td>0.08</td>\n",
       "    </tr>\n",
       "    <tr>\n",
       "      <th>1</th>\n",
       "      <td>Ord_10</td>\n",
       "      <td>Prod_3</td>\n",
       "      <td>SHP_13</td>\n",
       "      <td>Cust_10</td>\n",
       "      <td>8061</td>\n",
       "      <td>0.02</td>\n",
       "      <td>15</td>\n",
       "      <td>0.37</td>\n",
       "    </tr>\n",
       "    <tr>\n",
       "      <th>2</th>\n",
       "      <td>Ord_100</td>\n",
       "      <td>Prod_8</td>\n",
       "      <td>SHP_138</td>\n",
       "      <td>Cust_58</td>\n",
       "      <td>12112</td>\n",
       "      <td>0.01</td>\n",
       "      <td>3</td>\n",
       "      <td>0.44</td>\n",
       "    </tr>\n",
       "    <tr>\n",
       "      <th>3</th>\n",
       "      <td>Ord_1000</td>\n",
       "      <td>Prod_6</td>\n",
       "      <td>SHP_1384</td>\n",
       "      <td>Cust_373</td>\n",
       "      <td>33471</td>\n",
       "      <td>0.01</td>\n",
       "      <td>25</td>\n",
       "      <td>0.38</td>\n",
       "    </tr>\n",
       "    <tr>\n",
       "      <th>4</th>\n",
       "      <td>Ord_1001</td>\n",
       "      <td>Prod_5</td>\n",
       "      <td>SHP_1385</td>\n",
       "      <td>Cust_374</td>\n",
       "      <td>198126</td>\n",
       "      <td>0.07</td>\n",
       "      <td>49</td>\n",
       "      <td>0.76</td>\n",
       "    </tr>\n",
       "  </tbody>\n",
       "</table>\n",
       "</div>"
      ],
      "text/plain": [
       "     Ord_id Prod_id   Ship_id   Cust_id   Sales  Discount  Order_Quantity  \\\n",
       "0     Ord_1  Prod_1     SHP_1    Cust_1   26154      0.04               6   \n",
       "1    Ord_10  Prod_3    SHP_13   Cust_10    8061      0.02              15   \n",
       "2   Ord_100  Prod_8   SHP_138   Cust_58   12112      0.01               3   \n",
       "3  Ord_1000  Prod_6  SHP_1384  Cust_373   33471      0.01              25   \n",
       "4  Ord_1001  Prod_5  SHP_1385  Cust_374  198126      0.07              49   \n",
       "\n",
       "   Product_Base_Margin  \n",
       "0                 0.08  \n",
       "1                 0.37  \n",
       "2                 0.44  \n",
       "3                 0.38  \n",
       "4                 0.76  "
      ]
     },
     "execution_count": 10,
     "metadata": {},
     "output_type": "execute_result"
    }
   ],
   "source": [
    "df3.head()"
   ]
  },
  {
   "cell_type": "code",
   "execution_count": 11,
   "id": "7244b81f-b4ee-4bb7-a30d-0d1107019ac6",
   "metadata": {},
   "outputs": [],
   "source": [
    "df4 = pd.read_excel(\"prod_dimen.xlsx\")"
   ]
  },
  {
   "cell_type": "code",
   "execution_count": 18,
   "id": "37220bfa-59b6-40a9-b033-bf215fe7cae3",
   "metadata": {},
   "outputs": [
    {
     "name": "stdout",
     "output_type": "stream",
     "text": [
      "<class 'pandas.core.frame.DataFrame'>\n",
      "RangeIndex: 17 entries, 0 to 16\n",
      "Data columns (total 3 columns):\n",
      " #   Column                Non-Null Count  Dtype \n",
      "---  ------                --------------  ----- \n",
      " 0   Product_Category      17 non-null     object\n",
      " 1   Product_Sub_Category  17 non-null     object\n",
      " 2   Prod_id               17 non-null     object\n",
      "dtypes: object(3)\n",
      "memory usage: 536.0+ bytes\n"
     ]
    }
   ],
   "source": [
    "df4.info()"
   ]
  },
  {
   "cell_type": "code",
   "execution_count": 12,
   "id": "9750cbc2-bdc0-4aa5-9910-4a1301e82c24",
   "metadata": {},
   "outputs": [
    {
     "data": {
      "text/html": [
       "<div>\n",
       "<style scoped>\n",
       "    .dataframe tbody tr th:only-of-type {\n",
       "        vertical-align: middle;\n",
       "    }\n",
       "\n",
       "    .dataframe tbody tr th {\n",
       "        vertical-align: top;\n",
       "    }\n",
       "\n",
       "    .dataframe thead th {\n",
       "        text-align: right;\n",
       "    }\n",
       "</style>\n",
       "<table border=\"1\" class=\"dataframe\">\n",
       "  <thead>\n",
       "    <tr style=\"text-align: right;\">\n",
       "      <th></th>\n",
       "      <th>Product_Category</th>\n",
       "      <th>Product_Sub_Category</th>\n",
       "      <th>Prod_id</th>\n",
       "    </tr>\n",
       "  </thead>\n",
       "  <tbody>\n",
       "    <tr>\n",
       "      <th>0</th>\n",
       "      <td>OFFICE SUPPLIES</td>\n",
       "      <td>STORAGE &amp; ORGANIZATION</td>\n",
       "      <td>Prod_1</td>\n",
       "    </tr>\n",
       "    <tr>\n",
       "      <th>1</th>\n",
       "      <td>OFFICE SUPPLIES</td>\n",
       "      <td>APPLIANCES</td>\n",
       "      <td>Prod_2</td>\n",
       "    </tr>\n",
       "    <tr>\n",
       "      <th>2</th>\n",
       "      <td>OFFICE SUPPLIES</td>\n",
       "      <td>BINDERS AND BINDER ACCESSORIES</td>\n",
       "      <td>Prod_3</td>\n",
       "    </tr>\n",
       "    <tr>\n",
       "      <th>3</th>\n",
       "      <td>TECHNOLOGY</td>\n",
       "      <td>TELEPHONES AND COMMUNICATION</td>\n",
       "      <td>Prod_4</td>\n",
       "    </tr>\n",
       "    <tr>\n",
       "      <th>4</th>\n",
       "      <td>FURNITURE</td>\n",
       "      <td>OFFICE FURNISHINGS</td>\n",
       "      <td>Prod_5</td>\n",
       "    </tr>\n",
       "  </tbody>\n",
       "</table>\n",
       "</div>"
      ],
      "text/plain": [
       "  Product_Category            Product_Sub_Category Prod_id\n",
       "0  OFFICE SUPPLIES          STORAGE & ORGANIZATION  Prod_1\n",
       "1  OFFICE SUPPLIES                      APPLIANCES  Prod_2\n",
       "2  OFFICE SUPPLIES  BINDERS AND BINDER ACCESSORIES  Prod_3\n",
       "3       TECHNOLOGY    TELEPHONES AND COMMUNICATION  Prod_4\n",
       "4        FURNITURE              OFFICE FURNISHINGS  Prod_5"
      ]
     },
     "execution_count": 12,
     "metadata": {},
     "output_type": "execute_result"
    }
   ],
   "source": [
    "df4.head()"
   ]
  },
  {
   "cell_type": "code",
   "execution_count": null,
   "id": "9e4d8b17-b4e7-40b8-a254-d209edc5f369",
   "metadata": {},
   "outputs": [],
   "source": []
  }
 ],
 "metadata": {
  "kernelspec": {
   "display_name": "Python 3",
   "language": "python",
   "name": "python3"
  },
  "language_info": {
   "codemirror_mode": {
    "name": "ipython",
    "version": 3
   },
   "file_extension": ".py",
   "mimetype": "text/x-python",
   "name": "python",
   "nbconvert_exporter": "python",
   "pygments_lexer": "ipython3",
   "version": "3.8.8"
  }
 },
 "nbformat": 4,
 "nbformat_minor": 5
}
