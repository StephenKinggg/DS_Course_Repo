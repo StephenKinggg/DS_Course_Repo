{
 "cells": [
  {
   "cell_type": "code",
   "execution_count": 1,
   "id": "6cb265b9-5b63-4a46-b39d-9a84869e679b",
   "metadata": {},
   "outputs": [],
   "source": [
    "import numpy as np\n",
    "import pandas as pd\n",
    "import seaborn as sns\n",
    "import matplotlib.pyplot as plt\n",
    "%matplotlib inline\n",
    "from pandas.plotting import register_matplotlib_converters\n",
    "from pylab import rcParams\n",
    "sns.set_style(\"darkgrid\")\n",
    "\n",
    "import warnings\n",
    "warnings.filterwarnings(\"ignore\")"
   ]
  },
  {
   "cell_type": "markdown",
   "id": "98a562c5-1e27-401d-b96a-95a25a0ea381",
   "metadata": {},
   "source": [
    "***\n",
    "***"
   ]
  },
  {
   "cell_type": "code",
   "execution_count": 2,
   "id": "1b28a731-ad73-4a16-a3cd-769eb03b0886",
   "metadata": {},
   "outputs": [
    {
     "data": {
      "text/html": [
       "<div>\n",
       "<style scoped>\n",
       "    .dataframe tbody tr th:only-of-type {\n",
       "        vertical-align: middle;\n",
       "    }\n",
       "\n",
       "    .dataframe tbody tr th {\n",
       "        vertical-align: top;\n",
       "    }\n",
       "\n",
       "    .dataframe thead th {\n",
       "        text-align: right;\n",
       "    }\n",
       "</style>\n",
       "<table border=\"1\" class=\"dataframe\">\n",
       "  <thead>\n",
       "    <tr style=\"text-align: right;\">\n",
       "      <th></th>\n",
       "      <th>Order_Date</th>\n",
       "      <th>Order_Priority</th>\n",
       "      <th>Ord_id</th>\n",
       "    </tr>\n",
       "  </thead>\n",
       "  <tbody>\n",
       "    <tr>\n",
       "      <th>0</th>\n",
       "      <td>13-10-2010</td>\n",
       "      <td>LOW</td>\n",
       "      <td>Ord_1</td>\n",
       "    </tr>\n",
       "    <tr>\n",
       "      <th>1</th>\n",
       "      <td>01-10-2012</td>\n",
       "      <td>HIGH</td>\n",
       "      <td>Ord_2</td>\n",
       "    </tr>\n",
       "    <tr>\n",
       "      <th>2</th>\n",
       "      <td>10-07-2011</td>\n",
       "      <td>HIGH</td>\n",
       "      <td>Ord_3</td>\n",
       "    </tr>\n",
       "    <tr>\n",
       "      <th>3</th>\n",
       "      <td>28-08-2010</td>\n",
       "      <td>NOT SPECIFIED</td>\n",
       "      <td>Ord_4</td>\n",
       "    </tr>\n",
       "    <tr>\n",
       "      <th>4</th>\n",
       "      <td>17-06-2011</td>\n",
       "      <td>HIGH</td>\n",
       "      <td>Ord_5</td>\n",
       "    </tr>\n",
       "    <tr>\n",
       "      <th>5</th>\n",
       "      <td>24-03-2011</td>\n",
       "      <td>HIGH</td>\n",
       "      <td>Ord_6</td>\n",
       "    </tr>\n",
       "    <tr>\n",
       "      <th>6</th>\n",
       "      <td>26-02-2010</td>\n",
       "      <td>LOW</td>\n",
       "      <td>Ord_7</td>\n",
       "    </tr>\n",
       "    <tr>\n",
       "      <th>7</th>\n",
       "      <td>23-11-2010</td>\n",
       "      <td>MEDIUM</td>\n",
       "      <td>Ord_8</td>\n",
       "    </tr>\n",
       "    <tr>\n",
       "      <th>8</th>\n",
       "      <td>08-06-2012</td>\n",
       "      <td>NOT SPECIFIED</td>\n",
       "      <td>Ord_9</td>\n",
       "    </tr>\n",
       "    <tr>\n",
       "      <th>9</th>\n",
       "      <td>04-08-2012</td>\n",
       "      <td>NOT SPECIFIED</td>\n",
       "      <td>Ord_10</td>\n",
       "    </tr>\n",
       "  </tbody>\n",
       "</table>\n",
       "</div>"
      ],
      "text/plain": [
       "   Order_Date Order_Priority  Ord_id\n",
       "0  13-10-2010            LOW   Ord_1\n",
       "1  01-10-2012           HIGH   Ord_2\n",
       "2  10-07-2011           HIGH   Ord_3\n",
       "3  28-08-2010  NOT SPECIFIED   Ord_4\n",
       "4  17-06-2011           HIGH   Ord_5\n",
       "5  24-03-2011           HIGH   Ord_6\n",
       "6  26-02-2010            LOW   Ord_7\n",
       "7  23-11-2010         MEDIUM   Ord_8\n",
       "8  08-06-2012  NOT SPECIFIED   Ord_9\n",
       "9  04-08-2012  NOT SPECIFIED  Ord_10"
      ]
     },
     "execution_count": 2,
     "metadata": {},
     "output_type": "execute_result"
    }
   ],
   "source": [
    "df1 = pd.read_csv(\"orders_dimen.csv\")\n",
    "df1.head(10)"
   ]
  },
  {
   "cell_type": "code",
   "execution_count": 3,
   "id": "c16e50bb-793e-4b1c-9d0b-fc96c3b3b1cf",
   "metadata": {},
   "outputs": [],
   "source": [
    "df1[\"Order_Date\"] = pd.to_datetime(df1[\"Order_Date\"],format='%d-%m-%Y')"
   ]
  },
  {
   "cell_type": "code",
   "execution_count": 13,
   "id": "0fcb8cf5-8761-4483-ac09-cf4d8c3fe9b5",
   "metadata": {},
   "outputs": [],
   "source": [
    "#df5 = pd.read_csv(\"orders_dimen.csv\", parse_dates=[\"Order_Date\"])"
   ]
  },
  {
   "cell_type": "code",
   "execution_count": 5,
   "id": "93d1e5c7-d346-4c78-966c-6710e02b5fbb",
   "metadata": {},
   "outputs": [
    {
     "name": "stdout",
     "output_type": "stream",
     "text": [
      "<class 'pandas.core.frame.DataFrame'>\n",
      "RangeIndex: 5506 entries, 0 to 5505\n",
      "Data columns (total 3 columns):\n",
      " #   Column          Non-Null Count  Dtype         \n",
      "---  ------          --------------  -----         \n",
      " 0   Order_Date      5506 non-null   datetime64[ns]\n",
      " 1   Order_Priority  5506 non-null   object        \n",
      " 2   Ord_id          5506 non-null   object        \n",
      "dtypes: datetime64[ns](1), object(2)\n",
      "memory usage: 129.2+ KB\n"
     ]
    }
   ],
   "source": [
    "df1.info()"
   ]
  },
  {
   "cell_type": "code",
   "execution_count": 6,
   "id": "22e610a2-644d-403f-9019-5b339bda7632",
   "metadata": {},
   "outputs": [
    {
     "data": {
      "text/html": [
       "<div>\n",
       "<style scoped>\n",
       "    .dataframe tbody tr th:only-of-type {\n",
       "        vertical-align: middle;\n",
       "    }\n",
       "\n",
       "    .dataframe tbody tr th {\n",
       "        vertical-align: top;\n",
       "    }\n",
       "\n",
       "    .dataframe thead th {\n",
       "        text-align: right;\n",
       "    }\n",
       "</style>\n",
       "<table border=\"1\" class=\"dataframe\">\n",
       "  <thead>\n",
       "    <tr style=\"text-align: right;\">\n",
       "      <th></th>\n",
       "      <th>Order_Date</th>\n",
       "      <th>Order_Priority</th>\n",
       "      <th>Ord_id</th>\n",
       "    </tr>\n",
       "  </thead>\n",
       "  <tbody>\n",
       "    <tr>\n",
       "      <th>0</th>\n",
       "      <td>2010-10-13</td>\n",
       "      <td>LOW</td>\n",
       "      <td>Ord_1</td>\n",
       "    </tr>\n",
       "    <tr>\n",
       "      <th>1</th>\n",
       "      <td>2012-01-10</td>\n",
       "      <td>HIGH</td>\n",
       "      <td>Ord_2</td>\n",
       "    </tr>\n",
       "    <tr>\n",
       "      <th>2</th>\n",
       "      <td>2011-10-07</td>\n",
       "      <td>HIGH</td>\n",
       "      <td>Ord_3</td>\n",
       "    </tr>\n",
       "    <tr>\n",
       "      <th>3</th>\n",
       "      <td>2010-08-28</td>\n",
       "      <td>NOT SPECIFIED</td>\n",
       "      <td>Ord_4</td>\n",
       "    </tr>\n",
       "    <tr>\n",
       "      <th>4</th>\n",
       "      <td>2011-06-17</td>\n",
       "      <td>HIGH</td>\n",
       "      <td>Ord_5</td>\n",
       "    </tr>\n",
       "  </tbody>\n",
       "</table>\n",
       "</div>"
      ],
      "text/plain": [
       "  Order_Date Order_Priority Ord_id\n",
       "0 2010-10-13            LOW  Ord_1\n",
       "1 2012-01-10           HIGH  Ord_2\n",
       "2 2011-10-07           HIGH  Ord_3\n",
       "3 2010-08-28  NOT SPECIFIED  Ord_4\n",
       "4 2011-06-17           HIGH  Ord_5"
      ]
     },
     "execution_count": 6,
     "metadata": {},
     "output_type": "execute_result"
    }
   ],
   "source": [
    "df1.head()"
   ]
  },
  {
   "cell_type": "code",
   "execution_count": 5,
   "id": "7991eb07-c28a-4936-8e02-0215dbb27a0b",
   "metadata": {},
   "outputs": [],
   "source": [
    "df1.to_csv(\"orders_dimen2.csv\", date_format='%Y-%m-%d')"
   ]
  },
  {
   "cell_type": "code",
   "execution_count": null,
   "id": "04c7a134-5d32-4993-9043-7b6e94d35db7",
   "metadata": {},
   "outputs": [],
   "source": []
  },
  {
   "cell_type": "markdown",
   "id": "7c219785-d886-415c-ab38-0fe15bc17a65",
   "metadata": {},
   "source": [
    "***\n",
    "***"
   ]
  },
  {
   "cell_type": "code",
   "execution_count": 8,
   "id": "ae091b46-f131-489c-950d-b9d2a53d33e6",
   "metadata": {},
   "outputs": [],
   "source": [
    "# df2 = pd.read_csv(\"shipping_dimen.csv\", parse_dates=[\"Ship_Date\"])"
   ]
  },
  {
   "cell_type": "code",
   "execution_count": 7,
   "id": "48a57afe-7bba-4116-a3b2-0893725da0ee",
   "metadata": {},
   "outputs": [],
   "source": [
    "df2 = pd.read_csv(\"shipping_dimen.csv\")"
   ]
  },
  {
   "cell_type": "code",
   "execution_count": 8,
   "id": "6d99c550-3ece-47d4-b160-8b8bf8d74073",
   "metadata": {},
   "outputs": [
    {
     "data": {
      "text/html": [
       "<div>\n",
       "<style scoped>\n",
       "    .dataframe tbody tr th:only-of-type {\n",
       "        vertical-align: middle;\n",
       "    }\n",
       "\n",
       "    .dataframe tbody tr th {\n",
       "        vertical-align: top;\n",
       "    }\n",
       "\n",
       "    .dataframe thead th {\n",
       "        text-align: right;\n",
       "    }\n",
       "</style>\n",
       "<table border=\"1\" class=\"dataframe\">\n",
       "  <thead>\n",
       "    <tr style=\"text-align: right;\">\n",
       "      <th></th>\n",
       "      <th>Order_ID</th>\n",
       "      <th>Ship_Mode</th>\n",
       "      <th>Ship_Date</th>\n",
       "      <th>Ship_id</th>\n",
       "    </tr>\n",
       "  </thead>\n",
       "  <tbody>\n",
       "    <tr>\n",
       "      <th>0</th>\n",
       "      <td>3</td>\n",
       "      <td>REGULAR AIR</td>\n",
       "      <td>20-10-2010</td>\n",
       "      <td>SHP_1</td>\n",
       "    </tr>\n",
       "    <tr>\n",
       "      <th>1</th>\n",
       "      <td>293</td>\n",
       "      <td>DELIVERY TRUCK</td>\n",
       "      <td>02-10-2012</td>\n",
       "      <td>SHP_2</td>\n",
       "    </tr>\n",
       "    <tr>\n",
       "      <th>2</th>\n",
       "      <td>293</td>\n",
       "      <td>REGULAR AIR</td>\n",
       "      <td>03-10-2012</td>\n",
       "      <td>SHP_3</td>\n",
       "    </tr>\n",
       "    <tr>\n",
       "      <th>3</th>\n",
       "      <td>483</td>\n",
       "      <td>REGULAR AIR</td>\n",
       "      <td>12-07-2011</td>\n",
       "      <td>SHP_4</td>\n",
       "    </tr>\n",
       "    <tr>\n",
       "      <th>4</th>\n",
       "      <td>515</td>\n",
       "      <td>REGULAR AIR</td>\n",
       "      <td>30-08-2010</td>\n",
       "      <td>SHP_5</td>\n",
       "    </tr>\n",
       "    <tr>\n",
       "      <th>...</th>\n",
       "      <td>...</td>\n",
       "      <td>...</td>\n",
       "      <td>...</td>\n",
       "      <td>...</td>\n",
       "    </tr>\n",
       "    <tr>\n",
       "      <th>7696</th>\n",
       "      <td>55558</td>\n",
       "      <td>DELIVERY TRUCK</td>\n",
       "      <td>09-08-2010</td>\n",
       "      <td>SHP_7697</td>\n",
       "    </tr>\n",
       "    <tr>\n",
       "      <th>7697</th>\n",
       "      <td>55558</td>\n",
       "      <td>REGULAR AIR</td>\n",
       "      <td>11-08-2010</td>\n",
       "      <td>SHP_7698</td>\n",
       "    </tr>\n",
       "    <tr>\n",
       "      <th>7698</th>\n",
       "      <td>56550</td>\n",
       "      <td>EXPRESS AIR</td>\n",
       "      <td>10-04-2011</td>\n",
       "      <td>SHP_7699</td>\n",
       "    </tr>\n",
       "    <tr>\n",
       "      <th>7699</th>\n",
       "      <td>56550</td>\n",
       "      <td>REGULAR AIR</td>\n",
       "      <td>09-04-2011</td>\n",
       "      <td>SHP_7700</td>\n",
       "    </tr>\n",
       "    <tr>\n",
       "      <th>7700</th>\n",
       "      <td>56581</td>\n",
       "      <td>EXPRESS AIR</td>\n",
       "      <td>11-02-2009</td>\n",
       "      <td>SHP_7701</td>\n",
       "    </tr>\n",
       "  </tbody>\n",
       "</table>\n",
       "<p>7701 rows × 4 columns</p>\n",
       "</div>"
      ],
      "text/plain": [
       "      Order_ID       Ship_Mode   Ship_Date   Ship_id\n",
       "0            3     REGULAR AIR  20-10-2010     SHP_1\n",
       "1          293  DELIVERY TRUCK  02-10-2012     SHP_2\n",
       "2          293     REGULAR AIR  03-10-2012     SHP_3\n",
       "3          483     REGULAR AIR  12-07-2011     SHP_4\n",
       "4          515     REGULAR AIR  30-08-2010     SHP_5\n",
       "...        ...             ...         ...       ...\n",
       "7696     55558  DELIVERY TRUCK  09-08-2010  SHP_7697\n",
       "7697     55558     REGULAR AIR  11-08-2010  SHP_7698\n",
       "7698     56550     EXPRESS AIR  10-04-2011  SHP_7699\n",
       "7699     56550     REGULAR AIR  09-04-2011  SHP_7700\n",
       "7700     56581     EXPRESS AIR  11-02-2009  SHP_7701\n",
       "\n",
       "[7701 rows x 4 columns]"
      ]
     },
     "execution_count": 8,
     "metadata": {},
     "output_type": "execute_result"
    }
   ],
   "source": [
    "df2"
   ]
  },
  {
   "cell_type": "code",
   "execution_count": 10,
   "id": "ab8ee1d6-dee8-4541-b624-a4634c49b270",
   "metadata": {},
   "outputs": [],
   "source": [
    "df2[\"Ship_Date\"] = pd.to_datetime(df2[\"Ship_Date\"],format='%d-%m-%Y')"
   ]
  },
  {
   "cell_type": "code",
   "execution_count": 12,
   "id": "d1605dd7-1c23-4f1d-98df-5a541ce30e05",
   "metadata": {},
   "outputs": [],
   "source": [
    "df2.to_csv(\"shipping_dimen2.csv\", date_format='%Y-%m-%d')"
   ]
  },
  {
   "cell_type": "code",
   "execution_count": 11,
   "id": "672ff132-a2e5-4198-bd65-314900dbb6a7",
   "metadata": {},
   "outputs": [
    {
     "name": "stdout",
     "output_type": "stream",
     "text": [
      "<class 'pandas.core.frame.DataFrame'>\n",
      "RangeIndex: 7701 entries, 0 to 7700\n",
      "Data columns (total 4 columns):\n",
      " #   Column     Non-Null Count  Dtype         \n",
      "---  ------     --------------  -----         \n",
      " 0   Order_ID   7701 non-null   int64         \n",
      " 1   Ship_Mode  7701 non-null   object        \n",
      " 2   Ship_Date  7701 non-null   datetime64[ns]\n",
      " 3   Ship_id    7701 non-null   object        \n",
      "dtypes: datetime64[ns](1), int64(1), object(2)\n",
      "memory usage: 240.8+ KB\n"
     ]
    }
   ],
   "source": [
    "df2.info()"
   ]
  },
  {
   "cell_type": "code",
   "execution_count": 15,
   "id": "c0bd95a8-0733-43e2-9538-9454ad57f707",
   "metadata": {},
   "outputs": [
    {
     "data": {
      "text/html": [
       "<div>\n",
       "<style scoped>\n",
       "    .dataframe tbody tr th:only-of-type {\n",
       "        vertical-align: middle;\n",
       "    }\n",
       "\n",
       "    .dataframe tbody tr th {\n",
       "        vertical-align: top;\n",
       "    }\n",
       "\n",
       "    .dataframe thead th {\n",
       "        text-align: right;\n",
       "    }\n",
       "</style>\n",
       "<table border=\"1\" class=\"dataframe\">\n",
       "  <thead>\n",
       "    <tr style=\"text-align: right;\">\n",
       "      <th></th>\n",
       "      <th>Order_ID</th>\n",
       "      <th>Ship_Mode</th>\n",
       "      <th>Ship_Date</th>\n",
       "      <th>Ship_id</th>\n",
       "    </tr>\n",
       "  </thead>\n",
       "  <tbody>\n",
       "    <tr>\n",
       "      <th>0</th>\n",
       "      <td>3</td>\n",
       "      <td>REGULAR AIR</td>\n",
       "      <td>2010-10-20</td>\n",
       "      <td>SHP_1</td>\n",
       "    </tr>\n",
       "    <tr>\n",
       "      <th>1</th>\n",
       "      <td>293</td>\n",
       "      <td>DELIVERY TRUCK</td>\n",
       "      <td>2012-02-10</td>\n",
       "      <td>SHP_2</td>\n",
       "    </tr>\n",
       "    <tr>\n",
       "      <th>2</th>\n",
       "      <td>293</td>\n",
       "      <td>REGULAR AIR</td>\n",
       "      <td>2012-03-10</td>\n",
       "      <td>SHP_3</td>\n",
       "    </tr>\n",
       "    <tr>\n",
       "      <th>3</th>\n",
       "      <td>483</td>\n",
       "      <td>REGULAR AIR</td>\n",
       "      <td>2011-12-07</td>\n",
       "      <td>SHP_4</td>\n",
       "    </tr>\n",
       "    <tr>\n",
       "      <th>4</th>\n",
       "      <td>515</td>\n",
       "      <td>REGULAR AIR</td>\n",
       "      <td>2010-08-30</td>\n",
       "      <td>SHP_5</td>\n",
       "    </tr>\n",
       "  </tbody>\n",
       "</table>\n",
       "</div>"
      ],
      "text/plain": [
       "   Order_ID       Ship_Mode  Ship_Date Ship_id\n",
       "0         3     REGULAR AIR 2010-10-20   SHP_1\n",
       "1       293  DELIVERY TRUCK 2012-02-10   SHP_2\n",
       "2       293     REGULAR AIR 2012-03-10   SHP_3\n",
       "3       483     REGULAR AIR 2011-12-07   SHP_4\n",
       "4       515     REGULAR AIR 2010-08-30   SHP_5"
      ]
     },
     "execution_count": 15,
     "metadata": {},
     "output_type": "execute_result"
    }
   ],
   "source": [
    "df2.head()"
   ]
  },
  {
   "cell_type": "markdown",
   "id": "dd4aa557-1e0e-4e76-a5f8-a9faa81790f5",
   "metadata": {},
   "source": [
    "***\n",
    "***"
   ]
  }
 ],
 "metadata": {
  "kernelspec": {
   "display_name": "Python 3",
   "language": "python",
   "name": "python3"
  },
  "language_info": {
   "codemirror_mode": {
    "name": "ipython",
    "version": 3
   },
   "file_extension": ".py",
   "mimetype": "text/x-python",
   "name": "python",
   "nbconvert_exporter": "python",
   "pygments_lexer": "ipython3",
   "version": "3.8.8"
  }
 },
 "nbformat": 4,
 "nbformat_minor": 5
}
