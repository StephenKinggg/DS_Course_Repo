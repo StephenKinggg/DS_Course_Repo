{
 "cells": [
  {
   "cell_type": "markdown",
   "id": "e1863047",
   "metadata": {},
   "source": [
    "# SCOUT CAR (Tuncay's Capstone Project)"
   ]
  },
  {
   "cell_type": "code",
   "execution_count": 213,
   "id": "a4e690be",
   "metadata": {},
   "outputs": [],
   "source": [
    "import numpy as np\n",
    "import pandas as pd\n",
    "import seaborn as sns\n",
    "import matplotlib.pyplot as plt"
   ]
  },
  {
   "cell_type": "markdown",
   "id": "f77aecdf",
   "metadata": {},
   "source": [
    "CALLED JSON FILE TO SEE THE DATA"
   ]
  },
  {
   "cell_type": "code",
   "execution_count": 214,
   "id": "67ff8886",
   "metadata": {
    "scrolled": true
   },
   "outputs": [
    {
     "data": {
      "text/html": [
       "<div>\n",
       "<style scoped>\n",
       "    .dataframe tbody tr th:only-of-type {\n",
       "        vertical-align: middle;\n",
       "    }\n",
       "\n",
       "    .dataframe tbody tr th {\n",
       "        vertical-align: top;\n",
       "    }\n",
       "\n",
       "    .dataframe thead th {\n",
       "        text-align: right;\n",
       "    }\n",
       "</style>\n",
       "<table border=\"1\" class=\"dataframe\">\n",
       "  <thead>\n",
       "    <tr style=\"text-align: right;\">\n",
       "      <th></th>\n",
       "      <th>url</th>\n",
       "      <th>make_model</th>\n",
       "      <th>short_description</th>\n",
       "      <th>body_type</th>\n",
       "      <th>price</th>\n",
       "      <th>vat</th>\n",
       "      <th>km</th>\n",
       "      <th>registration</th>\n",
       "      <th>prev_owner</th>\n",
       "      <th>kW</th>\n",
       "      <th>...</th>\n",
       "      <th>description</th>\n",
       "      <th>Emission Label</th>\n",
       "      <th>Gears</th>\n",
       "      <th>Country version</th>\n",
       "      <th>Electricity consumption</th>\n",
       "      <th>Last Service Date</th>\n",
       "      <th>Other Fuel Types</th>\n",
       "      <th>Availability</th>\n",
       "      <th>Last Timing Belt Service Date</th>\n",
       "      <th>Available from</th>\n",
       "    </tr>\n",
       "  </thead>\n",
       "  <tbody>\n",
       "    <tr>\n",
       "      <th>0</th>\n",
       "      <td>https://www.autoscout24.com//offers/audi-a1-sp...</td>\n",
       "      <td>Audi A1</td>\n",
       "      <td>Sportback 1.4 TDI S-tronic Xenon Navi Klima</td>\n",
       "      <td>Sedans</td>\n",
       "      <td>15770</td>\n",
       "      <td>VAT deductible</td>\n",
       "      <td>56,013 km</td>\n",
       "      <td>01/2016</td>\n",
       "      <td>2 previous owners</td>\n",
       "      <td>NaN</td>\n",
       "      <td>...</td>\n",
       "      <td>[\\n, Sicherheit:,  , Deaktivierung für Beifahr...</td>\n",
       "      <td>NaN</td>\n",
       "      <td>NaN</td>\n",
       "      <td>NaN</td>\n",
       "      <td>NaN</td>\n",
       "      <td>NaN</td>\n",
       "      <td>NaN</td>\n",
       "      <td>NaN</td>\n",
       "      <td>NaN</td>\n",
       "      <td>NaN</td>\n",
       "    </tr>\n",
       "    <tr>\n",
       "      <th>1</th>\n",
       "      <td>https://www.autoscout24.com//offers/audi-a1-1-...</td>\n",
       "      <td>Audi A1</td>\n",
       "      <td>1.8 TFSI sport</td>\n",
       "      <td>Sedans</td>\n",
       "      <td>14500</td>\n",
       "      <td>Price negotiable</td>\n",
       "      <td>80,000 km</td>\n",
       "      <td>03/2017</td>\n",
       "      <td>None</td>\n",
       "      <td>NaN</td>\n",
       "      <td>...</td>\n",
       "      <td>[\\nLangstreckenfahrzeug daher die hohe Kilomet...</td>\n",
       "      <td>[\\n4 (Green)\\n]</td>\n",
       "      <td>[\\n7\\n]</td>\n",
       "      <td>NaN</td>\n",
       "      <td>NaN</td>\n",
       "      <td>NaN</td>\n",
       "      <td>NaN</td>\n",
       "      <td>NaN</td>\n",
       "      <td>NaN</td>\n",
       "      <td>NaN</td>\n",
       "    </tr>\n",
       "    <tr>\n",
       "      <th>2</th>\n",
       "      <td>https://www.autoscout24.com//offers/audi-a1-sp...</td>\n",
       "      <td>Audi A1</td>\n",
       "      <td>Sportback 1.6 TDI S tronic Einparkhilfe plus+m...</td>\n",
       "      <td>Sedans</td>\n",
       "      <td>14640</td>\n",
       "      <td>VAT deductible</td>\n",
       "      <td>83,450 km</td>\n",
       "      <td>02/2016</td>\n",
       "      <td>1 previous owner</td>\n",
       "      <td>NaN</td>\n",
       "      <td>...</td>\n",
       "      <td>[\\n, Fahrzeug-Nummer: AM-95365,  , Ehem. UPE 2...</td>\n",
       "      <td>[\\n4 (Green)\\n]</td>\n",
       "      <td>NaN</td>\n",
       "      <td>NaN</td>\n",
       "      <td>NaN</td>\n",
       "      <td>NaN</td>\n",
       "      <td>NaN</td>\n",
       "      <td>NaN</td>\n",
       "      <td>NaN</td>\n",
       "      <td>NaN</td>\n",
       "    </tr>\n",
       "    <tr>\n",
       "      <th>3</th>\n",
       "      <td>https://www.autoscout24.com//offers/audi-a1-1-...</td>\n",
       "      <td>Audi A1</td>\n",
       "      <td>1.4 TDi Design S tronic</td>\n",
       "      <td>Sedans</td>\n",
       "      <td>14500</td>\n",
       "      <td>None</td>\n",
       "      <td>73,000 km</td>\n",
       "      <td>08/2016</td>\n",
       "      <td>1 previous owner</td>\n",
       "      <td>NaN</td>\n",
       "      <td>...</td>\n",
       "      <td>[\\nAudi A1: , - 1e eigenaar , - Perfecte staat...</td>\n",
       "      <td>NaN</td>\n",
       "      <td>[\\n6\\n]</td>\n",
       "      <td>NaN</td>\n",
       "      <td>NaN</td>\n",
       "      <td>NaN</td>\n",
       "      <td>NaN</td>\n",
       "      <td>NaN</td>\n",
       "      <td>NaN</td>\n",
       "      <td>NaN</td>\n",
       "    </tr>\n",
       "    <tr>\n",
       "      <th>4</th>\n",
       "      <td>https://www.autoscout24.com//offers/audi-a1-sp...</td>\n",
       "      <td>Audi A1</td>\n",
       "      <td>Sportback 1.4 TDI S-Tronic S-Line Ext. admired...</td>\n",
       "      <td>Sedans</td>\n",
       "      <td>16790</td>\n",
       "      <td>None</td>\n",
       "      <td>16,200 km</td>\n",
       "      <td>05/2016</td>\n",
       "      <td>1 previous owner</td>\n",
       "      <td>NaN</td>\n",
       "      <td>...</td>\n",
       "      <td>[\\n, Technik &amp; Sicherheit:, Xenon plus, Klimaa...</td>\n",
       "      <td>NaN</td>\n",
       "      <td>NaN</td>\n",
       "      <td>[\\nGermany\\n]</td>\n",
       "      <td>NaN</td>\n",
       "      <td>NaN</td>\n",
       "      <td>NaN</td>\n",
       "      <td>NaN</td>\n",
       "      <td>NaN</td>\n",
       "      <td>NaN</td>\n",
       "    </tr>\n",
       "  </tbody>\n",
       "</table>\n",
       "<p>5 rows × 54 columns</p>\n",
       "</div>"
      ],
      "text/plain": [
       "                                                 url make_model  \\\n",
       "0  https://www.autoscout24.com//offers/audi-a1-sp...    Audi A1   \n",
       "1  https://www.autoscout24.com//offers/audi-a1-1-...    Audi A1   \n",
       "2  https://www.autoscout24.com//offers/audi-a1-sp...    Audi A1   \n",
       "3  https://www.autoscout24.com//offers/audi-a1-1-...    Audi A1   \n",
       "4  https://www.autoscout24.com//offers/audi-a1-sp...    Audi A1   \n",
       "\n",
       "                                   short_description body_type  price  \\\n",
       "0        Sportback 1.4 TDI S-tronic Xenon Navi Klima    Sedans  15770   \n",
       "1                                     1.8 TFSI sport    Sedans  14500   \n",
       "2  Sportback 1.6 TDI S tronic Einparkhilfe plus+m...    Sedans  14640   \n",
       "3                            1.4 TDi Design S tronic    Sedans  14500   \n",
       "4  Sportback 1.4 TDI S-Tronic S-Line Ext. admired...    Sedans  16790   \n",
       "\n",
       "                vat         km registration         prev_owner  kW  ...  \\\n",
       "0    VAT deductible  56,013 km      01/2016  2 previous owners NaN  ...   \n",
       "1  Price negotiable  80,000 km      03/2017               None NaN  ...   \n",
       "2    VAT deductible  83,450 km      02/2016   1 previous owner NaN  ...   \n",
       "3              None  73,000 km      08/2016   1 previous owner NaN  ...   \n",
       "4              None  16,200 km      05/2016   1 previous owner NaN  ...   \n",
       "\n",
       "                                         description   Emission Label  \\\n",
       "0  [\\n, Sicherheit:,  , Deaktivierung für Beifahr...              NaN   \n",
       "1  [\\nLangstreckenfahrzeug daher die hohe Kilomet...  [\\n4 (Green)\\n]   \n",
       "2  [\\n, Fahrzeug-Nummer: AM-95365,  , Ehem. UPE 2...  [\\n4 (Green)\\n]   \n",
       "3  [\\nAudi A1: , - 1e eigenaar , - Perfecte staat...              NaN   \n",
       "4  [\\n, Technik & Sicherheit:, Xenon plus, Klimaa...              NaN   \n",
       "\n",
       "     Gears Country version Electricity consumption Last Service Date  \\\n",
       "0      NaN             NaN                     NaN               NaN   \n",
       "1  [\\n7\\n]             NaN                     NaN               NaN   \n",
       "2      NaN             NaN                     NaN               NaN   \n",
       "3  [\\n6\\n]             NaN                     NaN               NaN   \n",
       "4      NaN   [\\nGermany\\n]                     NaN               NaN   \n",
       "\n",
       "  Other Fuel Types Availability Last Timing Belt Service Date Available from  \n",
       "0              NaN          NaN                           NaN            NaN  \n",
       "1              NaN          NaN                           NaN            NaN  \n",
       "2              NaN          NaN                           NaN            NaN  \n",
       "3              NaN          NaN                           NaN            NaN  \n",
       "4              NaN          NaN                           NaN            NaN  \n",
       "\n",
       "[5 rows x 54 columns]"
      ]
     },
     "execution_count": 214,
     "metadata": {},
     "output_type": "execute_result"
    }
   ],
   "source": [
    "df=pd.read_json('scout_car.json', lines=True)\n",
    "df.head()"
   ]
  },
  {
   "cell_type": "markdown",
   "id": "98272997",
   "metadata": {},
   "source": [
    "TRANPOSED THE DATA TO SEE ALL COLUMNS"
   ]
  },
  {
   "cell_type": "code",
   "execution_count": 215,
   "id": "e2cca64f",
   "metadata": {
    "scrolled": true
   },
   "outputs": [
    {
     "data": {
      "text/html": [
       "<div>\n",
       "<style scoped>\n",
       "    .dataframe tbody tr th:only-of-type {\n",
       "        vertical-align: middle;\n",
       "    }\n",
       "\n",
       "    .dataframe tbody tr th {\n",
       "        vertical-align: top;\n",
       "    }\n",
       "\n",
       "    .dataframe thead th {\n",
       "        text-align: right;\n",
       "    }\n",
       "</style>\n",
       "<table border=\"1\" class=\"dataframe\">\n",
       "  <thead>\n",
       "    <tr style=\"text-align: right;\">\n",
       "      <th></th>\n",
       "      <th>0</th>\n",
       "      <th>1</th>\n",
       "      <th>2</th>\n",
       "      <th>3</th>\n",
       "      <th>4</th>\n",
       "    </tr>\n",
       "  </thead>\n",
       "  <tbody>\n",
       "    <tr>\n",
       "      <th>url</th>\n",
       "      <td>https://www.autoscout24.com//offers/audi-a1-sp...</td>\n",
       "      <td>https://www.autoscout24.com//offers/audi-a1-1-...</td>\n",
       "      <td>https://www.autoscout24.com//offers/audi-a1-sp...</td>\n",
       "      <td>https://www.autoscout24.com//offers/audi-a1-1-...</td>\n",
       "      <td>https://www.autoscout24.com//offers/audi-a1-sp...</td>\n",
       "    </tr>\n",
       "    <tr>\n",
       "      <th>make_model</th>\n",
       "      <td>Audi A1</td>\n",
       "      <td>Audi A1</td>\n",
       "      <td>Audi A1</td>\n",
       "      <td>Audi A1</td>\n",
       "      <td>Audi A1</td>\n",
       "    </tr>\n",
       "    <tr>\n",
       "      <th>short_description</th>\n",
       "      <td>Sportback 1.4 TDI S-tronic Xenon Navi Klima</td>\n",
       "      <td>1.8 TFSI sport</td>\n",
       "      <td>Sportback 1.6 TDI S tronic Einparkhilfe plus+m...</td>\n",
       "      <td>1.4 TDi Design S tronic</td>\n",
       "      <td>Sportback 1.4 TDI S-Tronic S-Line Ext. admired...</td>\n",
       "    </tr>\n",
       "    <tr>\n",
       "      <th>body_type</th>\n",
       "      <td>Sedans</td>\n",
       "      <td>Sedans</td>\n",
       "      <td>Sedans</td>\n",
       "      <td>Sedans</td>\n",
       "      <td>Sedans</td>\n",
       "    </tr>\n",
       "    <tr>\n",
       "      <th>price</th>\n",
       "      <td>15770</td>\n",
       "      <td>14500</td>\n",
       "      <td>14640</td>\n",
       "      <td>14500</td>\n",
       "      <td>16790</td>\n",
       "    </tr>\n",
       "    <tr>\n",
       "      <th>vat</th>\n",
       "      <td>VAT deductible</td>\n",
       "      <td>Price negotiable</td>\n",
       "      <td>VAT deductible</td>\n",
       "      <td>None</td>\n",
       "      <td>None</td>\n",
       "    </tr>\n",
       "    <tr>\n",
       "      <th>km</th>\n",
       "      <td>56,013 km</td>\n",
       "      <td>80,000 km</td>\n",
       "      <td>83,450 km</td>\n",
       "      <td>73,000 km</td>\n",
       "      <td>16,200 km</td>\n",
       "    </tr>\n",
       "    <tr>\n",
       "      <th>registration</th>\n",
       "      <td>01/2016</td>\n",
       "      <td>03/2017</td>\n",
       "      <td>02/2016</td>\n",
       "      <td>08/2016</td>\n",
       "      <td>05/2016</td>\n",
       "    </tr>\n",
       "    <tr>\n",
       "      <th>prev_owner</th>\n",
       "      <td>2 previous owners</td>\n",
       "      <td>None</td>\n",
       "      <td>1 previous owner</td>\n",
       "      <td>1 previous owner</td>\n",
       "      <td>1 previous owner</td>\n",
       "    </tr>\n",
       "    <tr>\n",
       "      <th>kW</th>\n",
       "      <td>NaN</td>\n",
       "      <td>NaN</td>\n",
       "      <td>NaN</td>\n",
       "      <td>NaN</td>\n",
       "      <td>NaN</td>\n",
       "    </tr>\n",
       "    <tr>\n",
       "      <th>hp</th>\n",
       "      <td>66 kW</td>\n",
       "      <td>141 kW</td>\n",
       "      <td>85 kW</td>\n",
       "      <td>66 kW</td>\n",
       "      <td>66 kW</td>\n",
       "    </tr>\n",
       "    <tr>\n",
       "      <th>Type</th>\n",
       "      <td>[, Used, , Diesel (Particulate Filter)]</td>\n",
       "      <td>[, Used, , Gasoline]</td>\n",
       "      <td>[, Used, , Diesel (Particulate Filter)]</td>\n",
       "      <td>[, Used, , Diesel (Particulate Filter)]</td>\n",
       "      <td>[, Used, , Diesel (Particulate Filter)]</td>\n",
       "    </tr>\n",
       "    <tr>\n",
       "      <th>Previous Owners</th>\n",
       "      <td>\\n2\\n</td>\n",
       "      <td>NaN</td>\n",
       "      <td>\\n1\\n</td>\n",
       "      <td>\\n1\\n</td>\n",
       "      <td>\\n1\\n</td>\n",
       "    </tr>\n",
       "    <tr>\n",
       "      <th>Next Inspection</th>\n",
       "      <td>[\\n06/2021\\n, \\n99 g CO2/km (comb)\\n]</td>\n",
       "      <td>NaN</td>\n",
       "      <td>NaN</td>\n",
       "      <td>NaN</td>\n",
       "      <td>NaN</td>\n",
       "    </tr>\n",
       "    <tr>\n",
       "      <th>Inspection new</th>\n",
       "      <td>[\\nYes\\n, \\nEuro 6\\n]</td>\n",
       "      <td>NaN</td>\n",
       "      <td>NaN</td>\n",
       "      <td>NaN</td>\n",
       "      <td>[\\nYes\\n, \\n109 g CO2/km (comb)\\n]</td>\n",
       "    </tr>\n",
       "    <tr>\n",
       "      <th>Warranty</th>\n",
       "      <td>[\\n, \\n, \\n4 (Green)\\n]</td>\n",
       "      <td>NaN</td>\n",
       "      <td>[\\n, \\n, \\n99 g CO2/km (comb)\\n]</td>\n",
       "      <td>NaN</td>\n",
       "      <td>[\\n, \\n, \\nEuro 6\\n]</td>\n",
       "    </tr>\n",
       "    <tr>\n",
       "      <th>Full Service</th>\n",
       "      <td>[\\n, \\n]</td>\n",
       "      <td>NaN</td>\n",
       "      <td>NaN</td>\n",
       "      <td>[\\n, \\n, \\n99 g CO2/km (comb)\\n]</td>\n",
       "      <td>[\\n, \\n, \\n4 (Green)\\n]</td>\n",
       "    </tr>\n",
       "    <tr>\n",
       "      <th>Non-smoking Vehicle</th>\n",
       "      <td>[\\n, \\n]</td>\n",
       "      <td>NaN</td>\n",
       "      <td>NaN</td>\n",
       "      <td>[\\n, \\n, \\nEuro 6\\n]</td>\n",
       "      <td>[\\n, \\n]</td>\n",
       "    </tr>\n",
       "    <tr>\n",
       "      <th>null</th>\n",
       "      <td>[]</td>\n",
       "      <td>[]</td>\n",
       "      <td>[]</td>\n",
       "      <td>[]</td>\n",
       "      <td>[]</td>\n",
       "    </tr>\n",
       "    <tr>\n",
       "      <th>Make</th>\n",
       "      <td>\\nAudi\\n</td>\n",
       "      <td>\\nAudi\\n</td>\n",
       "      <td>\\nAudi\\n</td>\n",
       "      <td>\\nAudi\\n</td>\n",
       "      <td>\\nAudi\\n</td>\n",
       "    </tr>\n",
       "    <tr>\n",
       "      <th>Model</th>\n",
       "      <td>[\\n, A1, \\n]</td>\n",
       "      <td>[\\n, A1, \\n]</td>\n",
       "      <td>[\\n, A1, \\n]</td>\n",
       "      <td>[\\n, A1, \\n]</td>\n",
       "      <td>[\\n, A1, \\n]</td>\n",
       "    </tr>\n",
       "    <tr>\n",
       "      <th>Offer Number</th>\n",
       "      <td>[\\nLR-062483\\n]</td>\n",
       "      <td>NaN</td>\n",
       "      <td>[\\nAM-95365\\n]</td>\n",
       "      <td>NaN</td>\n",
       "      <td>[\\nC1626\\n]</td>\n",
       "    </tr>\n",
       "    <tr>\n",
       "      <th>First Registration</th>\n",
       "      <td>[\\n, 2016, \\n]</td>\n",
       "      <td>[\\n, 2017, \\n]</td>\n",
       "      <td>[\\n, 2016, \\n]</td>\n",
       "      <td>[\\n, 2016, \\n]</td>\n",
       "      <td>[\\n, 2016, \\n]</td>\n",
       "    </tr>\n",
       "    <tr>\n",
       "      <th>Body Color</th>\n",
       "      <td>[\\n, Black, \\n]</td>\n",
       "      <td>[\\n, Red, \\n]</td>\n",
       "      <td>[\\n, Black, \\n]</td>\n",
       "      <td>[\\n, Brown, \\n]</td>\n",
       "      <td>[\\n, Black, \\n]</td>\n",
       "    </tr>\n",
       "    <tr>\n",
       "      <th>Paint Type</th>\n",
       "      <td>[\\nMetallic\\n]</td>\n",
       "      <td>NaN</td>\n",
       "      <td>[\\nMetallic\\n]</td>\n",
       "      <td>[\\nMetallic\\n]</td>\n",
       "      <td>[\\nMetallic\\n]</td>\n",
       "    </tr>\n",
       "    <tr>\n",
       "      <th>Body Color Original</th>\n",
       "      <td>[\\nMythosschwarz\\n]</td>\n",
       "      <td>NaN</td>\n",
       "      <td>[\\nmythosschwarz metallic\\n]</td>\n",
       "      <td>NaN</td>\n",
       "      <td>[\\nMythosschwarz Metallic\\n]</td>\n",
       "    </tr>\n",
       "    <tr>\n",
       "      <th>Upholstery</th>\n",
       "      <td>[\\nCloth, Black\\n]</td>\n",
       "      <td>[\\nCloth, Grey\\n]</td>\n",
       "      <td>[\\nCloth, Black\\n]</td>\n",
       "      <td>NaN</td>\n",
       "      <td>[\\nCloth, Black\\n]</td>\n",
       "    </tr>\n",
       "    <tr>\n",
       "      <th>Body</th>\n",
       "      <td>[\\n, Sedans, \\n]</td>\n",
       "      <td>[\\n, Sedans, \\n]</td>\n",
       "      <td>[\\n, Sedans, \\n]</td>\n",
       "      <td>[\\n, Sedans, \\n]</td>\n",
       "      <td>[\\n, Sedans, \\n]</td>\n",
       "    </tr>\n",
       "    <tr>\n",
       "      <th>Nr. of Doors</th>\n",
       "      <td>[\\n5\\n]</td>\n",
       "      <td>[\\n3\\n]</td>\n",
       "      <td>[\\n4\\n]</td>\n",
       "      <td>[\\n3\\n]</td>\n",
       "      <td>[\\n5\\n]</td>\n",
       "    </tr>\n",
       "    <tr>\n",
       "      <th>Nr. of Seats</th>\n",
       "      <td>[\\n5\\n]</td>\n",
       "      <td>[\\n4\\n]</td>\n",
       "      <td>[\\n4\\n]</td>\n",
       "      <td>[\\n4\\n]</td>\n",
       "      <td>[\\n5\\n]</td>\n",
       "    </tr>\n",
       "    <tr>\n",
       "      <th>Model Code</th>\n",
       "      <td>[\\n0588/BDF\\n]</td>\n",
       "      <td>[\\n0588/BCY\\n]</td>\n",
       "      <td>NaN</td>\n",
       "      <td>NaN</td>\n",
       "      <td>[\\n0588/BDF\\n]</td>\n",
       "    </tr>\n",
       "    <tr>\n",
       "      <th>Gearing Type</th>\n",
       "      <td>[\\n, Automatic, \\n]</td>\n",
       "      <td>[\\n, Automatic, \\n]</td>\n",
       "      <td>[\\n, Automatic, \\n]</td>\n",
       "      <td>[\\n, Automatic, \\n]</td>\n",
       "      <td>[\\n, Automatic, \\n]</td>\n",
       "    </tr>\n",
       "    <tr>\n",
       "      <th>Displacement</th>\n",
       "      <td>[\\n1,422 cc\\n]</td>\n",
       "      <td>[\\n1,798 cc\\n]</td>\n",
       "      <td>[\\n1,598 cc\\n]</td>\n",
       "      <td>[\\n1,422 cc\\n]</td>\n",
       "      <td>[\\n1,422 cc\\n]</td>\n",
       "    </tr>\n",
       "    <tr>\n",
       "      <th>Cylinders</th>\n",
       "      <td>[\\n3\\n]</td>\n",
       "      <td>[\\n4\\n]</td>\n",
       "      <td>NaN</td>\n",
       "      <td>[\\n3\\n]</td>\n",
       "      <td>[\\n3\\n]</td>\n",
       "    </tr>\n",
       "    <tr>\n",
       "      <th>Weight</th>\n",
       "      <td>[\\n1,220 kg\\n]</td>\n",
       "      <td>[\\n1,255 kg\\n]</td>\n",
       "      <td>NaN</td>\n",
       "      <td>[\\n1,195 kg\\n]</td>\n",
       "      <td>NaN</td>\n",
       "    </tr>\n",
       "    <tr>\n",
       "      <th>Drive chain</th>\n",
       "      <td>[\\nfront\\n]</td>\n",
       "      <td>[\\nfront\\n]</td>\n",
       "      <td>[\\nfront\\n]</td>\n",
       "      <td>NaN</td>\n",
       "      <td>[\\nfront\\n]</td>\n",
       "    </tr>\n",
       "    <tr>\n",
       "      <th>Fuel</th>\n",
       "      <td>[\\n, Diesel (Particulate Filter), \\n]</td>\n",
       "      <td>[\\n, Gasoline, \\n]</td>\n",
       "      <td>[\\n, Diesel (Particulate Filter), \\n]</td>\n",
       "      <td>[\\n, Diesel (Particulate Filter), \\n]</td>\n",
       "      <td>[\\n, Diesel (Particulate Filter), \\n]</td>\n",
       "    </tr>\n",
       "    <tr>\n",
       "      <th>Consumption</th>\n",
       "      <td>[[3.8 l/100 km (comb)], [4.3 l/100 km (city)],...</td>\n",
       "      <td>[[5.6 l/100 km (comb)], [7.1 l/100 km (city)],...</td>\n",
       "      <td>[[3.8 l/100 km (comb)], [4.4 l/100 km (city)],...</td>\n",
       "      <td>[[3.8 l/100 km (comb)], [4.3 l/100 km (city)],...</td>\n",
       "      <td>[[4.1 l/100 km (comb)], [4.6 l/100 km (city)],...</td>\n",
       "    </tr>\n",
       "    <tr>\n",
       "      <th>CO2 Emission</th>\n",
       "      <td>[\\n99 g CO2/km (comb)\\n]</td>\n",
       "      <td>[\\n129 g CO2/km (comb)\\n]</td>\n",
       "      <td>[\\n99 g CO2/km (comb)\\n]</td>\n",
       "      <td>[\\n99 g CO2/km (comb)\\n]</td>\n",
       "      <td>[\\n109 g CO2/km (comb)\\n]</td>\n",
       "    </tr>\n",
       "    <tr>\n",
       "      <th>Emission Class</th>\n",
       "      <td>[\\nEuro 6\\n]</td>\n",
       "      <td>[\\nEuro 6\\n]</td>\n",
       "      <td>[\\nEuro 6\\n]</td>\n",
       "      <td>[\\nEuro 6\\n]</td>\n",
       "      <td>[\\nEuro 6\\n]</td>\n",
       "    </tr>\n",
       "    <tr>\n",
       "      <th>\\nComfort &amp; Convenience\\n</th>\n",
       "      <td>[Air conditioning, Armrest, Automatic climate ...</td>\n",
       "      <td>[Air conditioning, Automatic climate control, ...</td>\n",
       "      <td>[Air conditioning, Cruise control, Electrical ...</td>\n",
       "      <td>[Air suspension, Armrest, Auxiliary heating, E...</td>\n",
       "      <td>[Air conditioning, Armrest, Automatic climate ...</td>\n",
       "    </tr>\n",
       "    <tr>\n",
       "      <th>\\nEntertainment &amp; Media\\n</th>\n",
       "      <td>[Bluetooth, Hands-free equipment, On-board com...</td>\n",
       "      <td>[Bluetooth, Hands-free equipment, On-board com...</td>\n",
       "      <td>[MP3, On-board computer]</td>\n",
       "      <td>[Bluetooth, CD player, Hands-free equipment, M...</td>\n",
       "      <td>[Bluetooth, CD player, Hands-free equipment, M...</td>\n",
       "    </tr>\n",
       "    <tr>\n",
       "      <th>\\nExtras\\n</th>\n",
       "      <td>[Alloy wheels, Catalytic Converter, Voice Cont...</td>\n",
       "      <td>[Alloy wheels, Sport seats, Sport suspension, ...</td>\n",
       "      <td>[Alloy wheels, Voice Control]</td>\n",
       "      <td>[Alloy wheels, Sport seats, Voice Control]</td>\n",
       "      <td>[Alloy wheels, Sport package, Sport suspension...</td>\n",
       "    </tr>\n",
       "    <tr>\n",
       "      <th>\\nSafety &amp; Security\\n</th>\n",
       "      <td>[ABS, Central door lock, Daytime running light...</td>\n",
       "      <td>[ABS, Central door lock, Central door lock wit...</td>\n",
       "      <td>[ABS, Central door lock, Daytime running light...</td>\n",
       "      <td>[ABS, Alarm system, Central door lock with rem...</td>\n",
       "      <td>[ABS, Central door lock, Driver-side airbag, E...</td>\n",
       "    </tr>\n",
       "    <tr>\n",
       "      <th>description</th>\n",
       "      <td>[\\n, Sicherheit:,  , Deaktivierung für Beifahr...</td>\n",
       "      <td>[\\nLangstreckenfahrzeug daher die hohe Kilomet...</td>\n",
       "      <td>[\\n, Fahrzeug-Nummer: AM-95365,  , Ehem. UPE 2...</td>\n",
       "      <td>[\\nAudi A1: , - 1e eigenaar , - Perfecte staat...</td>\n",
       "      <td>[\\n, Technik &amp; Sicherheit:, Xenon plus, Klimaa...</td>\n",
       "    </tr>\n",
       "    <tr>\n",
       "      <th>Emission Label</th>\n",
       "      <td>NaN</td>\n",
       "      <td>[\\n4 (Green)\\n]</td>\n",
       "      <td>[\\n4 (Green)\\n]</td>\n",
       "      <td>NaN</td>\n",
       "      <td>NaN</td>\n",
       "    </tr>\n",
       "    <tr>\n",
       "      <th>Gears</th>\n",
       "      <td>NaN</td>\n",
       "      <td>[\\n7\\n]</td>\n",
       "      <td>NaN</td>\n",
       "      <td>[\\n6\\n]</td>\n",
       "      <td>NaN</td>\n",
       "    </tr>\n",
       "    <tr>\n",
       "      <th>Country version</th>\n",
       "      <td>NaN</td>\n",
       "      <td>NaN</td>\n",
       "      <td>NaN</td>\n",
       "      <td>NaN</td>\n",
       "      <td>[\\nGermany\\n]</td>\n",
       "    </tr>\n",
       "    <tr>\n",
       "      <th>Electricity consumption</th>\n",
       "      <td>NaN</td>\n",
       "      <td>NaN</td>\n",
       "      <td>NaN</td>\n",
       "      <td>NaN</td>\n",
       "      <td>NaN</td>\n",
       "    </tr>\n",
       "    <tr>\n",
       "      <th>Last Service Date</th>\n",
       "      <td>NaN</td>\n",
       "      <td>NaN</td>\n",
       "      <td>NaN</td>\n",
       "      <td>NaN</td>\n",
       "      <td>NaN</td>\n",
       "    </tr>\n",
       "    <tr>\n",
       "      <th>Other Fuel Types</th>\n",
       "      <td>NaN</td>\n",
       "      <td>NaN</td>\n",
       "      <td>NaN</td>\n",
       "      <td>NaN</td>\n",
       "      <td>NaN</td>\n",
       "    </tr>\n",
       "    <tr>\n",
       "      <th>Availability</th>\n",
       "      <td>NaN</td>\n",
       "      <td>NaN</td>\n",
       "      <td>NaN</td>\n",
       "      <td>NaN</td>\n",
       "      <td>NaN</td>\n",
       "    </tr>\n",
       "    <tr>\n",
       "      <th>Last Timing Belt Service Date</th>\n",
       "      <td>NaN</td>\n",
       "      <td>NaN</td>\n",
       "      <td>NaN</td>\n",
       "      <td>NaN</td>\n",
       "      <td>NaN</td>\n",
       "    </tr>\n",
       "    <tr>\n",
       "      <th>Available from</th>\n",
       "      <td>NaN</td>\n",
       "      <td>NaN</td>\n",
       "      <td>NaN</td>\n",
       "      <td>NaN</td>\n",
       "      <td>NaN</td>\n",
       "    </tr>\n",
       "  </tbody>\n",
       "</table>\n",
       "</div>"
      ],
      "text/plain": [
       "                                                                               0  \\\n",
       "url                            https://www.autoscout24.com//offers/audi-a1-sp...   \n",
       "make_model                                                               Audi A1   \n",
       "short_description                    Sportback 1.4 TDI S-tronic Xenon Navi Klima   \n",
       "body_type                                                                 Sedans   \n",
       "price                                                                      15770   \n",
       "vat                                                               VAT deductible   \n",
       "km                                                                     56,013 km   \n",
       "registration                                                             01/2016   \n",
       "prev_owner                                                     2 previous owners   \n",
       "kW                                                                           NaN   \n",
       "hp                                                                         66 kW   \n",
       "Type                                     [, Used, , Diesel (Particulate Filter)]   \n",
       "Previous Owners                                                            \\n2\\n   \n",
       "Next Inspection                            [\\n06/2021\\n, \\n99 g CO2/km (comb)\\n]   \n",
       "Inspection new                                             [\\nYes\\n, \\nEuro 6\\n]   \n",
       "Warranty                                                 [\\n, \\n, \\n4 (Green)\\n]   \n",
       "Full Service                                                            [\\n, \\n]   \n",
       "Non-smoking Vehicle                                                     [\\n, \\n]   \n",
       "null                                                                          []   \n",
       "Make                                                                    \\nAudi\\n   \n",
       "Model                                                               [\\n, A1, \\n]   \n",
       "Offer Number                                                     [\\nLR-062483\\n]   \n",
       "First Registration                                                [\\n, 2016, \\n]   \n",
       "Body Color                                                       [\\n, Black, \\n]   \n",
       "Paint Type                                                        [\\nMetallic\\n]   \n",
       "Body Color Original                                          [\\nMythosschwarz\\n]   \n",
       "Upholstery                                                    [\\nCloth, Black\\n]   \n",
       "Body                                                            [\\n, Sedans, \\n]   \n",
       "Nr. of Doors                                                             [\\n5\\n]   \n",
       "Nr. of Seats                                                             [\\n5\\n]   \n",
       "Model Code                                                        [\\n0588/BDF\\n]   \n",
       "Gearing Type                                                 [\\n, Automatic, \\n]   \n",
       "Displacement                                                      [\\n1,422 cc\\n]   \n",
       "Cylinders                                                                [\\n3\\n]   \n",
       "Weight                                                            [\\n1,220 kg\\n]   \n",
       "Drive chain                                                          [\\nfront\\n]   \n",
       "Fuel                                       [\\n, Diesel (Particulate Filter), \\n]   \n",
       "Consumption                    [[3.8 l/100 km (comb)], [4.3 l/100 km (city)],...   \n",
       "CO2 Emission                                            [\\n99 g CO2/km (comb)\\n]   \n",
       "Emission Class                                                      [\\nEuro 6\\n]   \n",
       "\\nComfort & Convenience\\n      [Air conditioning, Armrest, Automatic climate ...   \n",
       "\\nEntertainment & Media\\n      [Bluetooth, Hands-free equipment, On-board com...   \n",
       "\\nExtras\\n                     [Alloy wheels, Catalytic Converter, Voice Cont...   \n",
       "\\nSafety & Security\\n          [ABS, Central door lock, Daytime running light...   \n",
       "description                    [\\n, Sicherheit:,  , Deaktivierung für Beifahr...   \n",
       "Emission Label                                                               NaN   \n",
       "Gears                                                                        NaN   \n",
       "Country version                                                              NaN   \n",
       "Electricity consumption                                                      NaN   \n",
       "Last Service Date                                                            NaN   \n",
       "Other Fuel Types                                                             NaN   \n",
       "Availability                                                                 NaN   \n",
       "Last Timing Belt Service Date                                                NaN   \n",
       "Available from                                                               NaN   \n",
       "\n",
       "                                                                               1  \\\n",
       "url                            https://www.autoscout24.com//offers/audi-a1-1-...   \n",
       "make_model                                                               Audi A1   \n",
       "short_description                                                 1.8 TFSI sport   \n",
       "body_type                                                                 Sedans   \n",
       "price                                                                      14500   \n",
       "vat                                                             Price negotiable   \n",
       "km                                                                     80,000 km   \n",
       "registration                                                             03/2017   \n",
       "prev_owner                                                                  None   \n",
       "kW                                                                           NaN   \n",
       "hp                                                                        141 kW   \n",
       "Type                                                        [, Used, , Gasoline]   \n",
       "Previous Owners                                                              NaN   \n",
       "Next Inspection                                                              NaN   \n",
       "Inspection new                                                               NaN   \n",
       "Warranty                                                                     NaN   \n",
       "Full Service                                                                 NaN   \n",
       "Non-smoking Vehicle                                                          NaN   \n",
       "null                                                                          []   \n",
       "Make                                                                    \\nAudi\\n   \n",
       "Model                                                               [\\n, A1, \\n]   \n",
       "Offer Number                                                                 NaN   \n",
       "First Registration                                                [\\n, 2017, \\n]   \n",
       "Body Color                                                         [\\n, Red, \\n]   \n",
       "Paint Type                                                                   NaN   \n",
       "Body Color Original                                                          NaN   \n",
       "Upholstery                                                     [\\nCloth, Grey\\n]   \n",
       "Body                                                            [\\n, Sedans, \\n]   \n",
       "Nr. of Doors                                                             [\\n3\\n]   \n",
       "Nr. of Seats                                                             [\\n4\\n]   \n",
       "Model Code                                                        [\\n0588/BCY\\n]   \n",
       "Gearing Type                                                 [\\n, Automatic, \\n]   \n",
       "Displacement                                                      [\\n1,798 cc\\n]   \n",
       "Cylinders                                                                [\\n4\\n]   \n",
       "Weight                                                            [\\n1,255 kg\\n]   \n",
       "Drive chain                                                          [\\nfront\\n]   \n",
       "Fuel                                                          [\\n, Gasoline, \\n]   \n",
       "Consumption                    [[5.6 l/100 km (comb)], [7.1 l/100 km (city)],...   \n",
       "CO2 Emission                                           [\\n129 g CO2/km (comb)\\n]   \n",
       "Emission Class                                                      [\\nEuro 6\\n]   \n",
       "\\nComfort & Convenience\\n      [Air conditioning, Automatic climate control, ...   \n",
       "\\nEntertainment & Media\\n      [Bluetooth, Hands-free equipment, On-board com...   \n",
       "\\nExtras\\n                     [Alloy wheels, Sport seats, Sport suspension, ...   \n",
       "\\nSafety & Security\\n          [ABS, Central door lock, Central door lock wit...   \n",
       "description                    [\\nLangstreckenfahrzeug daher die hohe Kilomet...   \n",
       "Emission Label                                                   [\\n4 (Green)\\n]   \n",
       "Gears                                                                    [\\n7\\n]   \n",
       "Country version                                                              NaN   \n",
       "Electricity consumption                                                      NaN   \n",
       "Last Service Date                                                            NaN   \n",
       "Other Fuel Types                                                             NaN   \n",
       "Availability                                                                 NaN   \n",
       "Last Timing Belt Service Date                                                NaN   \n",
       "Available from                                                               NaN   \n",
       "\n",
       "                                                                               2  \\\n",
       "url                            https://www.autoscout24.com//offers/audi-a1-sp...   \n",
       "make_model                                                               Audi A1   \n",
       "short_description              Sportback 1.6 TDI S tronic Einparkhilfe plus+m...   \n",
       "body_type                                                                 Sedans   \n",
       "price                                                                      14640   \n",
       "vat                                                               VAT deductible   \n",
       "km                                                                     83,450 km   \n",
       "registration                                                             02/2016   \n",
       "prev_owner                                                      1 previous owner   \n",
       "kW                                                                           NaN   \n",
       "hp                                                                         85 kW   \n",
       "Type                                     [, Used, , Diesel (Particulate Filter)]   \n",
       "Previous Owners                                                            \\n1\\n   \n",
       "Next Inspection                                                              NaN   \n",
       "Inspection new                                                               NaN   \n",
       "Warranty                                        [\\n, \\n, \\n99 g CO2/km (comb)\\n]   \n",
       "Full Service                                                                 NaN   \n",
       "Non-smoking Vehicle                                                          NaN   \n",
       "null                                                                          []   \n",
       "Make                                                                    \\nAudi\\n   \n",
       "Model                                                               [\\n, A1, \\n]   \n",
       "Offer Number                                                      [\\nAM-95365\\n]   \n",
       "First Registration                                                [\\n, 2016, \\n]   \n",
       "Body Color                                                       [\\n, Black, \\n]   \n",
       "Paint Type                                                        [\\nMetallic\\n]   \n",
       "Body Color Original                                 [\\nmythosschwarz metallic\\n]   \n",
       "Upholstery                                                    [\\nCloth, Black\\n]   \n",
       "Body                                                            [\\n, Sedans, \\n]   \n",
       "Nr. of Doors                                                             [\\n4\\n]   \n",
       "Nr. of Seats                                                             [\\n4\\n]   \n",
       "Model Code                                                                   NaN   \n",
       "Gearing Type                                                 [\\n, Automatic, \\n]   \n",
       "Displacement                                                      [\\n1,598 cc\\n]   \n",
       "Cylinders                                                                    NaN   \n",
       "Weight                                                                       NaN   \n",
       "Drive chain                                                          [\\nfront\\n]   \n",
       "Fuel                                       [\\n, Diesel (Particulate Filter), \\n]   \n",
       "Consumption                    [[3.8 l/100 km (comb)], [4.4 l/100 km (city)],...   \n",
       "CO2 Emission                                            [\\n99 g CO2/km (comb)\\n]   \n",
       "Emission Class                                                      [\\nEuro 6\\n]   \n",
       "\\nComfort & Convenience\\n      [Air conditioning, Cruise control, Electrical ...   \n",
       "\\nEntertainment & Media\\n                               [MP3, On-board computer]   \n",
       "\\nExtras\\n                                         [Alloy wheels, Voice Control]   \n",
       "\\nSafety & Security\\n          [ABS, Central door lock, Daytime running light...   \n",
       "description                    [\\n, Fahrzeug-Nummer: AM-95365,  , Ehem. UPE 2...   \n",
       "Emission Label                                                   [\\n4 (Green)\\n]   \n",
       "Gears                                                                        NaN   \n",
       "Country version                                                              NaN   \n",
       "Electricity consumption                                                      NaN   \n",
       "Last Service Date                                                            NaN   \n",
       "Other Fuel Types                                                             NaN   \n",
       "Availability                                                                 NaN   \n",
       "Last Timing Belt Service Date                                                NaN   \n",
       "Available from                                                               NaN   \n",
       "\n",
       "                                                                               3  \\\n",
       "url                            https://www.autoscout24.com//offers/audi-a1-1-...   \n",
       "make_model                                                               Audi A1   \n",
       "short_description                                        1.4 TDi Design S tronic   \n",
       "body_type                                                                 Sedans   \n",
       "price                                                                      14500   \n",
       "vat                                                                         None   \n",
       "km                                                                     73,000 km   \n",
       "registration                                                             08/2016   \n",
       "prev_owner                                                      1 previous owner   \n",
       "kW                                                                           NaN   \n",
       "hp                                                                         66 kW   \n",
       "Type                                     [, Used, , Diesel (Particulate Filter)]   \n",
       "Previous Owners                                                            \\n1\\n   \n",
       "Next Inspection                                                              NaN   \n",
       "Inspection new                                                               NaN   \n",
       "Warranty                                                                     NaN   \n",
       "Full Service                                    [\\n, \\n, \\n99 g CO2/km (comb)\\n]   \n",
       "Non-smoking Vehicle                                         [\\n, \\n, \\nEuro 6\\n]   \n",
       "null                                                                          []   \n",
       "Make                                                                    \\nAudi\\n   \n",
       "Model                                                               [\\n, A1, \\n]   \n",
       "Offer Number                                                                 NaN   \n",
       "First Registration                                                [\\n, 2016, \\n]   \n",
       "Body Color                                                       [\\n, Brown, \\n]   \n",
       "Paint Type                                                        [\\nMetallic\\n]   \n",
       "Body Color Original                                                          NaN   \n",
       "Upholstery                                                                   NaN   \n",
       "Body                                                            [\\n, Sedans, \\n]   \n",
       "Nr. of Doors                                                             [\\n3\\n]   \n",
       "Nr. of Seats                                                             [\\n4\\n]   \n",
       "Model Code                                                                   NaN   \n",
       "Gearing Type                                                 [\\n, Automatic, \\n]   \n",
       "Displacement                                                      [\\n1,422 cc\\n]   \n",
       "Cylinders                                                                [\\n3\\n]   \n",
       "Weight                                                            [\\n1,195 kg\\n]   \n",
       "Drive chain                                                                  NaN   \n",
       "Fuel                                       [\\n, Diesel (Particulate Filter), \\n]   \n",
       "Consumption                    [[3.8 l/100 km (comb)], [4.3 l/100 km (city)],...   \n",
       "CO2 Emission                                            [\\n99 g CO2/km (comb)\\n]   \n",
       "Emission Class                                                      [\\nEuro 6\\n]   \n",
       "\\nComfort & Convenience\\n      [Air suspension, Armrest, Auxiliary heating, E...   \n",
       "\\nEntertainment & Media\\n      [Bluetooth, CD player, Hands-free equipment, M...   \n",
       "\\nExtras\\n                            [Alloy wheels, Sport seats, Voice Control]   \n",
       "\\nSafety & Security\\n          [ABS, Alarm system, Central door lock with rem...   \n",
       "description                    [\\nAudi A1: , - 1e eigenaar , - Perfecte staat...   \n",
       "Emission Label                                                               NaN   \n",
       "Gears                                                                    [\\n6\\n]   \n",
       "Country version                                                              NaN   \n",
       "Electricity consumption                                                      NaN   \n",
       "Last Service Date                                                            NaN   \n",
       "Other Fuel Types                                                             NaN   \n",
       "Availability                                                                 NaN   \n",
       "Last Timing Belt Service Date                                                NaN   \n",
       "Available from                                                               NaN   \n",
       "\n",
       "                                                                               4  \n",
       "url                            https://www.autoscout24.com//offers/audi-a1-sp...  \n",
       "make_model                                                               Audi A1  \n",
       "short_description              Sportback 1.4 TDI S-Tronic S-Line Ext. admired...  \n",
       "body_type                                                                 Sedans  \n",
       "price                                                                      16790  \n",
       "vat                                                                         None  \n",
       "km                                                                     16,200 km  \n",
       "registration                                                             05/2016  \n",
       "prev_owner                                                      1 previous owner  \n",
       "kW                                                                           NaN  \n",
       "hp                                                                         66 kW  \n",
       "Type                                     [, Used, , Diesel (Particulate Filter)]  \n",
       "Previous Owners                                                            \\n1\\n  \n",
       "Next Inspection                                                              NaN  \n",
       "Inspection new                                [\\nYes\\n, \\n109 g CO2/km (comb)\\n]  \n",
       "Warranty                                                    [\\n, \\n, \\nEuro 6\\n]  \n",
       "Full Service                                             [\\n, \\n, \\n4 (Green)\\n]  \n",
       "Non-smoking Vehicle                                                     [\\n, \\n]  \n",
       "null                                                                          []  \n",
       "Make                                                                    \\nAudi\\n  \n",
       "Model                                                               [\\n, A1, \\n]  \n",
       "Offer Number                                                         [\\nC1626\\n]  \n",
       "First Registration                                                [\\n, 2016, \\n]  \n",
       "Body Color                                                       [\\n, Black, \\n]  \n",
       "Paint Type                                                        [\\nMetallic\\n]  \n",
       "Body Color Original                                 [\\nMythosschwarz Metallic\\n]  \n",
       "Upholstery                                                    [\\nCloth, Black\\n]  \n",
       "Body                                                            [\\n, Sedans, \\n]  \n",
       "Nr. of Doors                                                             [\\n5\\n]  \n",
       "Nr. of Seats                                                             [\\n5\\n]  \n",
       "Model Code                                                        [\\n0588/BDF\\n]  \n",
       "Gearing Type                                                 [\\n, Automatic, \\n]  \n",
       "Displacement                                                      [\\n1,422 cc\\n]  \n",
       "Cylinders                                                                [\\n3\\n]  \n",
       "Weight                                                                       NaN  \n",
       "Drive chain                                                          [\\nfront\\n]  \n",
       "Fuel                                       [\\n, Diesel (Particulate Filter), \\n]  \n",
       "Consumption                    [[4.1 l/100 km (comb)], [4.6 l/100 km (city)],...  \n",
       "CO2 Emission                                           [\\n109 g CO2/km (comb)\\n]  \n",
       "Emission Class                                                      [\\nEuro 6\\n]  \n",
       "\\nComfort & Convenience\\n      [Air conditioning, Armrest, Automatic climate ...  \n",
       "\\nEntertainment & Media\\n      [Bluetooth, CD player, Hands-free equipment, M...  \n",
       "\\nExtras\\n                     [Alloy wheels, Sport package, Sport suspension...  \n",
       "\\nSafety & Security\\n          [ABS, Central door lock, Driver-side airbag, E...  \n",
       "description                    [\\n, Technik & Sicherheit:, Xenon plus, Klimaa...  \n",
       "Emission Label                                                               NaN  \n",
       "Gears                                                                        NaN  \n",
       "Country version                                                    [\\nGermany\\n]  \n",
       "Electricity consumption                                                      NaN  \n",
       "Last Service Date                                                            NaN  \n",
       "Other Fuel Types                                                             NaN  \n",
       "Availability                                                                 NaN  \n",
       "Last Timing Belt Service Date                                                NaN  \n",
       "Available from                                                               NaN  "
      ]
     },
     "execution_count": 215,
     "metadata": {},
     "output_type": "execute_result"
    }
   ],
   "source": [
    "df.head().T"
   ]
  },
  {
   "cell_type": "code",
   "execution_count": 216,
   "id": "cb8d5469",
   "metadata": {},
   "outputs": [
    {
     "name": "stdout",
     "output_type": "stream",
     "text": [
      "<class 'pandas.core.frame.DataFrame'>\n",
      "RangeIndex: 15919 entries, 0 to 15918\n",
      "Data columns (total 54 columns):\n",
      " #   Column                         Non-Null Count  Dtype  \n",
      "---  ------                         --------------  -----  \n",
      " 0   url                            15919 non-null  object \n",
      " 1   make_model                     15919 non-null  object \n",
      " 2   short_description              15873 non-null  object \n",
      " 3   body_type                      15859 non-null  object \n",
      " 4   price                          15919 non-null  int64  \n",
      " 5   vat                            11406 non-null  object \n",
      " 6   km                             15919 non-null  object \n",
      " 7   registration                   15919 non-null  object \n",
      " 8   prev_owner                     9091 non-null   object \n",
      " 9   kW                             0 non-null      float64\n",
      " 10  hp                             15919 non-null  object \n",
      " 11  Type                           15917 non-null  object \n",
      " 12  Previous Owners                9279 non-null   object \n",
      " 13  Next Inspection                3535 non-null   object \n",
      " 14  Inspection new                 3932 non-null   object \n",
      " 15  Warranty                       10499 non-null  object \n",
      " 16  Full Service                   8215 non-null   object \n",
      " 17  Non-smoking Vehicle            7177 non-null   object \n",
      " 18  null                           15919 non-null  object \n",
      " 19  Make                           15919 non-null  object \n",
      " 20  Model                          15919 non-null  object \n",
      " 21  Offer Number                   12744 non-null  object \n",
      " 22  First Registration             14322 non-null  object \n",
      " 23  Body Color                     15322 non-null  object \n",
      " 24  Paint Type                     10147 non-null  object \n",
      " 25  Body Color Original            12160 non-null  object \n",
      " 26  Upholstery                     12199 non-null  object \n",
      " 27  Body                           15859 non-null  object \n",
      " 28  Nr. of Doors                   15707 non-null  object \n",
      " 29  Nr. of Seats                   14942 non-null  object \n",
      " 30  Model Code                     4978 non-null   object \n",
      " 31  Gearing Type                   15919 non-null  object \n",
      " 32  Displacement                   15423 non-null  object \n",
      " 33  Cylinders                      10239 non-null  object \n",
      " 34  Weight                         8945 non-null   object \n",
      " 35  Drive chain                    9061 non-null   object \n",
      " 36  Fuel                           15919 non-null  object \n",
      " 37  Consumption                    14013 non-null  object \n",
      " 38  CO2 Emission                   14111 non-null  object \n",
      " 39  Emission Class                 12898 non-null  object \n",
      " 40  \n",
      "Comfort & Convenience\n",
      "        14999 non-null  object \n",
      " 41  \n",
      "Entertainment & Media\n",
      "        14545 non-null  object \n",
      " 42  \n",
      "Extras\n",
      "                       12957 non-null  object \n",
      " 43  \n",
      "Safety & Security\n",
      "            14937 non-null  object \n",
      " 44  description                    15919 non-null  object \n",
      " 45  Emission Label                 3985 non-null   object \n",
      " 46  Gears                          11207 non-null  object \n",
      " 47  Country version                7586 non-null   object \n",
      " 48  Electricity consumption        137 non-null    object \n",
      " 49  Last Service Date              566 non-null    object \n",
      " 50  Other Fuel Types               880 non-null    object \n",
      " 51  Availability                   635 non-null    object \n",
      " 52  Last Timing Belt Service Date  16 non-null     object \n",
      " 53  Available from                 272 non-null    object \n",
      "dtypes: float64(1), int64(1), object(52)\n",
      "memory usage: 6.6+ MB\n"
     ]
    }
   ],
   "source": [
    "df.info()"
   ]
  },
  {
   "cell_type": "markdown",
   "id": "d2ba8be8",
   "metadata": {},
   "source": [
    "# COLUMN NAMES"
   ]
  },
  {
   "cell_type": "markdown",
   "id": "8ad008b5",
   "metadata": {},
   "source": [
    "Some column names have \\n figures. "
   ]
  },
  {
   "cell_type": "code",
   "execution_count": 217,
   "id": "c2edf11d",
   "metadata": {},
   "outputs": [
    {
     "data": {
      "text/plain": [
       "Index(['url', 'make_model', 'short_description', 'body_type', 'price', 'vat',\n",
       "       'km', 'registration', 'prev_owner', 'kW', 'hp', 'Type',\n",
       "       'Previous Owners', 'Next Inspection', 'Inspection new', 'Warranty',\n",
       "       'Full Service', 'Non-smoking Vehicle', 'null', 'Make', 'Model',\n",
       "       'Offer Number', 'First Registration', 'Body Color', 'Paint Type',\n",
       "       'Body Color Original', 'Upholstery', 'Body', 'Nr. of Doors',\n",
       "       'Nr. of Seats', 'Model Code', 'Gearing Type', 'Displacement',\n",
       "       'Cylinders', 'Weight', 'Drive chain', 'Fuel', 'Consumption',\n",
       "       'CO2 Emission', 'Emission Class', '\\nComfort & Convenience\\n',\n",
       "       '\\nEntertainment & Media\\n', '\\nExtras\\n', '\\nSafety & Security\\n',\n",
       "       'description', 'Emission Label', 'Gears', 'Country version',\n",
       "       'Electricity consumption', 'Last Service Date', 'Other Fuel Types',\n",
       "       'Availability', 'Last Timing Belt Service Date', 'Available from'],\n",
       "      dtype='object')"
      ]
     },
     "execution_count": 217,
     "metadata": {},
     "output_type": "execute_result"
    }
   ],
   "source": [
    "df.columns"
   ]
  },
  {
   "cell_type": "markdown",
   "id": "55ebf9b5",
   "metadata": {},
   "source": [
    "Creating list and cleaning column names with \"strip\""
   ]
  },
  {
   "cell_type": "code",
   "execution_count": 218,
   "id": "bdf1d89b",
   "metadata": {},
   "outputs": [
    {
     "data": {
      "text/plain": [
       "['url',\n",
       " 'make_model',\n",
       " 'short_description',\n",
       " 'body_type',\n",
       " 'price',\n",
       " 'vat',\n",
       " 'km',\n",
       " 'registration',\n",
       " 'prev_owner',\n",
       " 'kW',\n",
       " 'hp',\n",
       " 'Type',\n",
       " 'Previous Owners',\n",
       " 'Next Inspection',\n",
       " 'Inspection new',\n",
       " 'Warranty',\n",
       " 'Full Service',\n",
       " 'Non-smoking Vehicle',\n",
       " 'null',\n",
       " 'Make',\n",
       " 'Model',\n",
       " 'Offer Number',\n",
       " 'First Registration',\n",
       " 'Body Color',\n",
       " 'Paint Type',\n",
       " 'Body Color Original',\n",
       " 'Upholstery',\n",
       " 'Body',\n",
       " 'Nr. of Doors',\n",
       " 'Nr. of Seats',\n",
       " 'Model Code',\n",
       " 'Gearing Type',\n",
       " 'Displacement',\n",
       " 'Cylinders',\n",
       " 'Weight',\n",
       " 'Drive chain',\n",
       " 'Fuel',\n",
       " 'Consumption',\n",
       " 'CO2 Emission',\n",
       " 'Emission Class',\n",
       " 'Comfort & Convenience',\n",
       " 'Entertainment & Media',\n",
       " 'Extras',\n",
       " 'Safety & Security',\n",
       " 'description',\n",
       " 'Emission Label',\n",
       " 'Gears',\n",
       " 'Country version',\n",
       " 'Electricity consumption',\n",
       " 'Last Service Date',\n",
       " 'Other Fuel Types',\n",
       " 'Availability',\n",
       " 'Last Timing Belt Service Date',\n",
       " 'Available from']"
      ]
     },
     "execution_count": 218,
     "metadata": {},
     "output_type": "execute_result"
    }
   ],
   "source": [
    "columns1= [i.strip() for i in df.columns]\n",
    "columns1"
   ]
  },
  {
   "cell_type": "code",
   "execution_count": 219,
   "id": "785f0dc6",
   "metadata": {},
   "outputs": [
    {
     "data": {
      "text/plain": [
       "Index(['url', 'make_model', 'short_description', 'body_type', 'price', 'vat',\n",
       "       'km', 'registration', 'prev_owner', 'kW', 'hp', 'Type',\n",
       "       'Previous Owners', 'Next Inspection', 'Inspection new', 'Warranty',\n",
       "       'Full Service', 'Non-smoking Vehicle', 'null', 'Make', 'Model',\n",
       "       'Offer Number', 'First Registration', 'Body Color', 'Paint Type',\n",
       "       'Body Color Original', 'Upholstery', 'Body', 'Nr. of Doors',\n",
       "       'Nr. of Seats', 'Model Code', 'Gearing Type', 'Displacement',\n",
       "       'Cylinders', 'Weight', 'Drive chain', 'Fuel', 'Consumption',\n",
       "       'CO2 Emission', 'Emission Class', 'Comfort & Convenience',\n",
       "       'Entertainment & Media', 'Extras', 'Safety & Security', 'description',\n",
       "       'Emission Label', 'Gears', 'Country version', 'Electricity consumption',\n",
       "       'Last Service Date', 'Other Fuel Types', 'Availability',\n",
       "       'Last Timing Belt Service Date', 'Available from'],\n",
       "      dtype='object')"
      ]
     },
     "execution_count": 219,
     "metadata": {},
     "output_type": "execute_result"
    }
   ],
   "source": [
    "df.columns= columns1\n",
    "df.columns"
   ]
  },
  {
   "cell_type": "markdown",
   "id": "3e4d5a3e",
   "metadata": {},
   "source": [
    "Is there any null data? If so, what percent is it?"
   ]
  },
  {
   "cell_type": "code",
   "execution_count": 220,
   "id": "f08299f1",
   "metadata": {},
   "outputs": [
    {
     "data": {
      "text/plain": [
       "url                                0.000000\n",
       "make_model                         0.000000\n",
       "short_description                  0.288963\n",
       "body_type                          0.376908\n",
       "price                              0.000000\n",
       "vat                               28.349771\n",
       "km                                 0.000000\n",
       "registration                       0.000000\n",
       "prev_owner                        42.892141\n",
       "kW                               100.000000\n",
       "hp                                 0.000000\n",
       "Type                               0.012564\n",
       "Previous Owners                   41.711163\n",
       "Next Inspection                   77.793831\n",
       "Inspection new                    75.299956\n",
       "Warranty                          34.047365\n",
       "Full Service                      48.395000\n",
       "Non-smoking Vehicle               54.915510\n",
       "null                               0.000000\n",
       "Make                               0.000000\n",
       "Model                              0.000000\n",
       "Offer Number                      19.944720\n",
       "First Registration                10.032037\n",
       "Body Color                         3.750236\n",
       "Paint Type                        36.258559\n",
       "Body Color Original               23.613292\n",
       "Upholstery                        23.368302\n",
       "Body                               0.376908\n",
       "Nr. of Doors                       1.331742\n",
       "Nr. of Seats                       6.137320\n",
       "Model Code                        68.729192\n",
       "Gearing Type                       0.000000\n",
       "Displacement                       3.115774\n",
       "Cylinders                         35.680633\n",
       "Weight                            43.809285\n",
       "Drive chain                       43.080596\n",
       "Fuel                               0.000000\n",
       "Consumption                       11.973114\n",
       "CO2 Emission                      11.357497\n",
       "Emission Class                    18.977323\n",
       "Comfort & Convenience              5.779257\n",
       "Entertainment & Media              8.631195\n",
       "Extras                            18.606696\n",
       "Safety & Security                  6.168729\n",
       "description                        0.000000\n",
       "Emission Label                    74.967021\n",
       "Gears                             29.599849\n",
       "Country version                   52.346253\n",
       "Electricity consumption           99.139393\n",
       "Last Service Date                 96.444500\n",
       "Other Fuel Types                  94.472015\n",
       "Availability                      96.011056\n",
       "Last Timing Belt Service Date     99.899491\n",
       "Available from                    98.291350\n",
       "dtype: float64"
      ]
     },
     "execution_count": 220,
     "metadata": {},
     "output_type": "execute_result"
    }
   ],
   "source": [
    "df.isnull().sum()/len(df)*100"
   ]
  },
  {
   "cell_type": "markdown",
   "id": "31861704",
   "metadata": {},
   "source": [
    "Deleting the columns with 90% null data"
   ]
  },
  {
   "cell_type": "code",
   "execution_count": 221,
   "id": "973b0c71",
   "metadata": {},
   "outputs": [
    {
     "data": {
      "text/plain": [
       "Index(['kW', 'Electricity consumption', 'Last Service Date',\n",
       "       'Other Fuel Types', 'Availability', 'Last Timing Belt Service Date',\n",
       "       'Available from'],\n",
       "      dtype='object')"
      ]
     },
     "execution_count": 221,
     "metadata": {},
     "output_type": "execute_result"
    }
   ],
   "source": [
    "df.columns[df.isnull().sum()/len(df)>.90]"
   ]
  },
  {
   "cell_type": "code",
   "execution_count": 222,
   "id": "05a45527",
   "metadata": {},
   "outputs": [],
   "source": [
    "df.drop(df.columns[df.isnull().sum()/len(df)>.90],axis=1,inplace=True)"
   ]
  },
  {
   "cell_type": "code",
   "execution_count": 223,
   "id": "30283222",
   "metadata": {},
   "outputs": [
    {
     "data": {
      "text/plain": [
       "Index(['url', 'make_model', 'short_description', 'body_type', 'price', 'vat',\n",
       "       'km', 'registration', 'prev_owner', 'hp', 'Type', 'Previous Owners',\n",
       "       'Next Inspection', 'Inspection new', 'Warranty', 'Full Service',\n",
       "       'Non-smoking Vehicle', 'null', 'Make', 'Model', 'Offer Number',\n",
       "       'First Registration', 'Body Color', 'Paint Type', 'Body Color Original',\n",
       "       'Upholstery', 'Body', 'Nr. of Doors', 'Nr. of Seats', 'Model Code',\n",
       "       'Gearing Type', 'Displacement', 'Cylinders', 'Weight', 'Drive chain',\n",
       "       'Fuel', 'Consumption', 'CO2 Emission', 'Emission Class',\n",
       "       'Comfort & Convenience', 'Entertainment & Media', 'Extras',\n",
       "       'Safety & Security', 'description', 'Emission Label', 'Gears',\n",
       "       'Country version'],\n",
       "      dtype='object')"
      ]
     },
     "execution_count": 223,
     "metadata": {},
     "output_type": "execute_result"
    }
   ],
   "source": [
    "df.columns"
   ]
  },
  {
   "cell_type": "markdown",
   "id": "b30270ee",
   "metadata": {},
   "source": [
    "# url column"
   ]
  },
  {
   "cell_type": "markdown",
   "id": "3e3fbeb7",
   "metadata": {},
   "source": [
    "There is no usefull data in 'url' column I drop it"
   ]
  },
  {
   "cell_type": "code",
   "execution_count": 224,
   "id": "c1bbdb3c",
   "metadata": {},
   "outputs": [],
   "source": [
    "df.drop(['url'],axis=1,inplace=True)"
   ]
  },
  {
   "cell_type": "markdown",
   "id": "cefe5480",
   "metadata": {},
   "source": [
    "# make_model column"
   ]
  },
  {
   "cell_type": "code",
   "execution_count": 225,
   "id": "911a3281",
   "metadata": {},
   "outputs": [
    {
     "data": {
      "text/plain": [
       "Audi A3           3097\n",
       "Audi A1           2614\n",
       "Opel Insignia     2598\n",
       "Opel Astra        2526\n",
       "Opel Corsa        2219\n",
       "Renault Clio      1839\n",
       "Renault Espace     991\n",
       "Renault Duster      34\n",
       "Audi A2              1\n",
       "Name: make_model, dtype: int64"
      ]
     },
     "execution_count": 225,
     "metadata": {},
     "output_type": "execute_result"
    }
   ],
   "source": [
    "df.make_model.value_counts(dropna=False)"
   ]
  },
  {
   "cell_type": "markdown",
   "id": "7a575b89",
   "metadata": {},
   "source": [
    "# short_description column"
   ]
  },
  {
   "cell_type": "markdown",
   "id": "4e323be6",
   "metadata": {},
   "source": [
    "There is no usefull data in 'short_description' column I drop it"
   ]
  },
  {
   "cell_type": "code",
   "execution_count": 226,
   "id": "92467f0f",
   "metadata": {},
   "outputs": [],
   "source": [
    "df.drop(['short_description'],axis=1,inplace=True)"
   ]
  },
  {
   "cell_type": "markdown",
   "id": "e9cb02ec",
   "metadata": {},
   "source": [
    "# body_type column"
   ]
  },
  {
   "cell_type": "code",
   "execution_count": 227,
   "id": "e7d65802",
   "metadata": {},
   "outputs": [
    {
     "data": {
      "text/plain": [
       "Sedans           7903\n",
       "Station wagon    3553\n",
       "Compact          3153\n",
       "Van               783\n",
       "Other             290\n",
       "Transporter        88\n",
       "NaN                60\n",
       "Off-Road           56\n",
       "Coupe              25\n",
       "Convertible         8\n",
       "Name: body_type, dtype: int64"
      ]
     },
     "execution_count": 227,
     "metadata": {},
     "output_type": "execute_result"
    }
   ],
   "source": [
    "df.body_type.value_counts(dropna=False)"
   ]
  },
  {
   "cell_type": "markdown",
   "id": "5837c531",
   "metadata": {},
   "source": [
    "# price column"
   ]
  },
  {
   "cell_type": "code",
   "execution_count": 228,
   "id": "7f4c6792",
   "metadata": {},
   "outputs": [
    {
     "data": {
      "text/plain": [
       "14990    154\n",
       "15990    151\n",
       "10990    139\n",
       "15900    106\n",
       "17990    102\n",
       "        ... \n",
       "31940      1\n",
       "15540      1\n",
       "21649      1\n",
       "27790      1\n",
       "34815      1\n",
       "Name: price, Length: 2956, dtype: int64"
      ]
     },
     "execution_count": 228,
     "metadata": {},
     "output_type": "execute_result"
    }
   ],
   "source": [
    "df.price.value_counts (dropna=False)"
   ]
  },
  {
   "cell_type": "markdown",
   "id": "5ce93d90",
   "metadata": {},
   "source": [
    "# vat column"
   ]
  },
  {
   "cell_type": "code",
   "execution_count": 229,
   "id": "4298fd5d",
   "metadata": {},
   "outputs": [
    {
     "data": {
      "text/plain": [
       "VAT deductible      10980\n",
       "NaN                  4513\n",
       "Price negotiable      426\n",
       "Name: vat, dtype: int64"
      ]
     },
     "execution_count": 229,
     "metadata": {},
     "output_type": "execute_result"
    }
   ],
   "source": [
    "df.vat.value_counts(dropna=False)"
   ]
  },
  {
   "cell_type": "markdown",
   "id": "715c71d8",
   "metadata": {},
   "source": [
    "# km column"
   ]
  },
  {
   "cell_type": "code",
   "execution_count": 230,
   "id": "a2a678a4",
   "metadata": {},
   "outputs": [
    {
     "data": {
      "text/plain": [
       "10 km        1045\n",
       "- km         1024\n",
       "1 km          367\n",
       "5 km          170\n",
       "50 km         148\n",
       "             ... \n",
       "62,384 km       1\n",
       "29,736 km       1\n",
       "11,148 km       1\n",
       "7,181 km        1\n",
       "55,850 km       1\n",
       "Name: km, Length: 6690, dtype: int64"
      ]
     },
     "execution_count": 230,
     "metadata": {},
     "output_type": "execute_result"
    }
   ],
   "source": [
    "df.km.value_counts(dropna=False)"
   ]
  },
  {
   "cell_type": "markdown",
   "id": "184da3b4",
   "metadata": {},
   "source": [
    "data in 'km' column has 'km' and ',' to be cleaned.  "
   ]
  },
  {
   "cell_type": "code",
   "execution_count": 231,
   "id": "acc01740",
   "metadata": {},
   "outputs": [],
   "source": [
    "df['km'] = df['km'].str.replace(',','').str.extract('(\\d+)')"
   ]
  },
  {
   "cell_type": "code",
   "execution_count": 232,
   "id": "28969c60",
   "metadata": {},
   "outputs": [
    {
     "data": {
      "text/plain": [
       "10        1045\n",
       "NaN       1024\n",
       "1          367\n",
       "5          170\n",
       "50         148\n",
       "          ... \n",
       "157809       1\n",
       "20964        1\n",
       "68527        1\n",
       "13714        1\n",
       "22371        1\n",
       "Name: km, Length: 6690, dtype: int64"
      ]
     },
     "execution_count": 232,
     "metadata": {},
     "output_type": "execute_result"
    }
   ],
   "source": [
    "df.km.value_counts(dropna=False)"
   ]
  },
  {
   "cell_type": "code",
   "execution_count": 233,
   "id": "6b569a3d",
   "metadata": {},
   "outputs": [],
   "source": [
    "df['km']=df['km'].astype(float)"
   ]
  },
  {
   "cell_type": "code",
   "execution_count": null,
   "id": "0b287b33",
   "metadata": {},
   "outputs": [],
   "source": []
  },
  {
   "cell_type": "markdown",
   "id": "8f71023a",
   "metadata": {},
   "source": [
    "# registration column"
   ]
  },
  {
   "cell_type": "code",
   "execution_count": 234,
   "id": "9b327ed2",
   "metadata": {},
   "outputs": [
    {
     "data": {
      "text/plain": [
       "-/-        1597\n",
       "03/2018     695\n",
       "02/2019     585\n",
       "05/2018     572\n",
       "03/2019     543\n",
       "01/2019     541\n",
       "04/2018     541\n",
       "02/2018     539\n",
       "03/2016     536\n",
       "04/2016     532\n",
       "06/2018     532\n",
       "01/2018     511\n",
       "04/2019     506\n",
       "02/2016     472\n",
       "03/2017     471\n",
       "05/2016     459\n",
       "06/2016     452\n",
       "05/2019     440\n",
       "06/2017     409\n",
       "05/2017     404\n",
       "07/2018     396\n",
       "04/2017     380\n",
       "01/2016     376\n",
       "02/2017     368\n",
       "01/2017     306\n",
       "08/2018     285\n",
       "06/2019     224\n",
       "07/2017     215\n",
       "11/2017     180\n",
       "07/2016     176\n",
       "10/2016     160\n",
       "10/2017     154\n",
       "09/2017     149\n",
       "11/2016     142\n",
       "09/2018     141\n",
       "09/2016     141\n",
       "12/2016     134\n",
       "12/2017     123\n",
       "08/2017     114\n",
       "11/2018     110\n",
       "12/2018     103\n",
       "10/2018      97\n",
       "08/2016      94\n",
       "07/2019       6\n",
       "09/2019       5\n",
       "11/2019       1\n",
       "08/2019       1\n",
       "12/2019       1\n",
       "Name: registration, dtype: int64"
      ]
     },
     "execution_count": 234,
     "metadata": {},
     "output_type": "execute_result"
    }
   ],
   "source": [
    "df.registration.value_counts(dropna=False)"
   ]
  },
  {
   "cell_type": "markdown",
   "id": "f3884c7d",
   "metadata": {},
   "source": [
    "# prev_owner column"
   ]
  },
  {
   "cell_type": "markdown",
   "id": "ea48e13b",
   "metadata": {},
   "source": [
    "There are duplicate previous owner columns. Decided to drop 'prev_owner' column"
   ]
  },
  {
   "cell_type": "code",
   "execution_count": 235,
   "id": "9710aebe",
   "metadata": {},
   "outputs": [],
   "source": [
    "df.drop(['prev_owner'],axis=1,inplace=True )"
   ]
  },
  {
   "cell_type": "markdown",
   "id": "7c6541a7",
   "metadata": {},
   "source": [
    "# hp column\n"
   ]
  },
  {
   "cell_type": "code",
   "execution_count": 236,
   "id": "6ef57e5a",
   "metadata": {},
   "outputs": [
    {
     "data": {
      "text/plain": [
       "85 kW     2542\n",
       "66 kW     2122\n",
       "81 kW     1402\n",
       "100 kW    1308\n",
       "110 kW    1112\n",
       "          ... \n",
       "133 kW       1\n",
       "132 kW       1\n",
       "137 kW       1\n",
       "195 kW       1\n",
       "163 kW       1\n",
       "Name: hp, Length: 81, dtype: int64"
      ]
     },
     "execution_count": 236,
     "metadata": {},
     "output_type": "execute_result"
    }
   ],
   "source": [
    "df.hp.value_counts(dropna=False)"
   ]
  },
  {
   "cell_type": "markdown",
   "id": "cba55f32",
   "metadata": {},
   "source": [
    "Cleaning 'kW' in hp column with strip"
   ]
  },
  {
   "cell_type": "code",
   "execution_count": 237,
   "id": "37f292ab",
   "metadata": {},
   "outputs": [
    {
     "data": {
      "text/plain": [
       "0         66 \n",
       "1        141 \n",
       "2         85 \n",
       "3         66 \n",
       "4         66 \n",
       "         ... \n",
       "15914    147 \n",
       "15915    165 \n",
       "15916    146 \n",
       "15917    147 \n",
       "15918    165 \n",
       "Name: hp, Length: 15919, dtype: object"
      ]
     },
     "execution_count": 237,
     "metadata": {},
     "output_type": "execute_result"
    }
   ],
   "source": [
    "df['hp'].str.strip('kW')"
   ]
  },
  {
   "cell_type": "code",
   "execution_count": 238,
   "id": "48f9bb62",
   "metadata": {},
   "outputs": [
    {
     "ename": "TypeError",
     "evalue": "unhashable type: 'list'",
     "output_type": "error",
     "traceback": [
      "\u001b[1;31m---------------------------------------------------------------------------\u001b[0m",
      "\u001b[1;31mTypeError\u001b[0m                                 Traceback (most recent call last)",
      "\u001b[1;32mpandas\\_libs\\hashtable_class_helper.pxi\u001b[0m in \u001b[0;36mpandas._libs.hashtable.PyObjectHashTable.map_locations\u001b[1;34m()\u001b[0m\n",
      "\u001b[1;31mTypeError\u001b[0m: unhashable type: 'list'"
     ]
    },
    {
     "name": "stderr",
     "output_type": "stream",
     "text": [
      "Exception ignored in: 'pandas._libs.index.IndexEngine._call_map_locations'\n",
      "Traceback (most recent call last):\n",
      "  File \"pandas\\_libs\\hashtable_class_helper.pxi\", line 4588, in pandas._libs.hashtable.PyObjectHashTable.map_locations\n",
      "TypeError: unhashable type: 'list'\n"
     ]
    },
    {
     "data": {
      "text/plain": [
       "[, Used, , Diesel (Particulate Filter)]                                                                                 3475\n",
       "[, Used, , Diesel]                                                                                                      2516\n",
       "[, Used, , Gasoline]                                                                                                    2367\n",
       "[, Used, , Super 95]                                                                                                    1818\n",
       "[, Pre-registered, , Super 95]                                                                                           500\n",
       "                                                                                                                        ... \n",
       "[, Pre-registered, , CNG]                                                                                                  1\n",
       "[, Used, , Others (Particulate Filter)]                                                                                    1\n",
       "[, New, , Super 95 / Regular/Benzine 91 / Super Plus 98 / Regular/Benzine E10 91 / Super Plus E10 98 / Super E10 95]       1\n",
       "[, Pre-registered, , Super E10 95 (Particulate Filter)]                                                                    1\n",
       "[, Employee's car, , Super E10 95 (Particulate Filter)]                                                                    1\n",
       "Name: Type, Length: 170, dtype: int64"
      ]
     },
     "execution_count": 238,
     "metadata": {},
     "output_type": "execute_result"
    }
   ],
   "source": [
    "df.Type.value_counts(dropna=False)"
   ]
  },
  {
   "cell_type": "code",
   "execution_count": 239,
   "id": "dfabdadd",
   "metadata": {},
   "outputs": [
    {
     "ename": "SyntaxError",
     "evalue": "invalid syntax (<ipython-input-239-a5abf6e8a5f4>, line 1)",
     "output_type": "error",
     "traceback": [
      "\u001b[1;36m  File \u001b[1;32m\"<ipython-input-239-a5abf6e8a5f4>\"\u001b[1;36m, line \u001b[1;32m1\u001b[0m\n\u001b[1;33m    Type column's data is all in list. Needs to be moved to out od list\u001b[0m\n\u001b[1;37m         ^\u001b[0m\n\u001b[1;31mSyntaxError\u001b[0m\u001b[1;31m:\u001b[0m invalid syntax\n"
     ]
    }
   ],
   "source": [
    "Type column's data is all in list. Needs to be moved to out od list"
   ]
  },
  {
   "cell_type": "code",
   "execution_count": null,
   "id": "990ff241",
   "metadata": {},
   "outputs": [],
   "source": [
    "df.Type= df['Type'].str[1]"
   ]
  },
  {
   "cell_type": "code",
   "execution_count": null,
   "id": "02864cde",
   "metadata": {},
   "outputs": [],
   "source": [
    "df.Type.value_counts(dropna=False)"
   ]
  },
  {
   "cell_type": "markdown",
   "id": "d0ca6d01",
   "metadata": {},
   "source": [
    "# Previous Owners Column"
   ]
  },
  {
   "cell_type": "code",
   "execution_count": null,
   "id": "e1ff52e9",
   "metadata": {},
   "outputs": [],
   "source": [
    "df['Previous Owners'].value_counts(dropna=False)"
   ]
  },
  {
   "cell_type": "markdown",
   "id": "9e6e8f5a",
   "metadata": {},
   "source": [
    "Moved the data in the list to out of the list"
   ]
  },
  {
   "cell_type": "code",
   "execution_count": null,
   "id": "657f8e9b",
   "metadata": {},
   "outputs": [],
   "source": [
    "df['Previous Owners']=[ i[0] if type(i)==list else i for i in df['Previous Owners']   ]"
   ]
  },
  {
   "cell_type": "code",
   "execution_count": null,
   "id": "f9a54cd6",
   "metadata": {},
   "outputs": [],
   "source": [
    "df['Previous Owners'].value_counts(dropna=False)"
   ]
  },
  {
   "cell_type": "markdown",
   "id": "a91e3119",
   "metadata": {},
   "source": [
    "Removed '\\n' figures from the data"
   ]
  },
  {
   "cell_type": "code",
   "execution_count": null,
   "id": "f63766fd",
   "metadata": {},
   "outputs": [],
   "source": [
    "df['Previous Owners']=df['Previous Owners'].str.strip('\\n').astype('float') "
   ]
  },
  {
   "cell_type": "code",
   "execution_count": null,
   "id": "5a89f31d",
   "metadata": {},
   "outputs": [],
   "source": [
    "df['Previous Owners'].value_counts(dropna=False)"
   ]
  },
  {
   "cell_type": "markdown",
   "id": "c657cd77",
   "metadata": {},
   "source": [
    "# Next Inspection column"
   ]
  },
  {
   "cell_type": "code",
   "execution_count": null,
   "id": "d429610b",
   "metadata": {},
   "outputs": [],
   "source": [
    "df['Next Inspection'].value_counts(dropna=False)"
   ]
  },
  {
   "cell_type": "markdown",
   "id": "c14ac69a",
   "metadata": {},
   "source": [
    "Moved the data in the list to out of the list"
   ]
  },
  {
   "cell_type": "code",
   "execution_count": null,
   "id": "7cbe3376",
   "metadata": {},
   "outputs": [],
   "source": [
    "df['Next Inspection']=[ i[0] if type(i)==list else i for i in df['Next Inspection']   ]"
   ]
  },
  {
   "cell_type": "code",
   "execution_count": null,
   "id": "27a028ae",
   "metadata": {},
   "outputs": [],
   "source": [
    "df['Next Inspection'].value_counts(dropna=False)"
   ]
  },
  {
   "cell_type": "markdown",
   "id": "b7ebd300",
   "metadata": {},
   "source": [
    "Removed extra figures from the data"
   ]
  },
  {
   "cell_type": "code",
   "execution_count": null,
   "id": "ab8719de",
   "metadata": {},
   "outputs": [],
   "source": [
    "df[\"Next_Inspection\"] = df['Next Inspection']"
   ]
  },
  {
   "cell_type": "code",
   "execution_count": null,
   "id": "a01d3f2d",
   "metadata": {},
   "outputs": [],
   "source": [
    "df.Next_Inspection = df.Next_Inspection.str.extract(\"(\\d\\d/\\d\\d\\d\\d)\")"
   ]
  },
  {
   "cell_type": "code",
   "execution_count": null,
   "id": "09cbe26d",
   "metadata": {},
   "outputs": [],
   "source": [
    "df['Next_Inspection'].value_counts(dropna=False)"
   ]
  },
  {
   "cell_type": "markdown",
   "id": "9c9a224e",
   "metadata": {},
   "source": [
    "# Inspection new column"
   ]
  },
  {
   "cell_type": "code",
   "execution_count": null,
   "id": "7a6e1ea3",
   "metadata": {},
   "outputs": [],
   "source": [
    "df['Inspection new'].value_counts(dropna=False)"
   ]
  },
  {
   "cell_type": "markdown",
   "id": "1d37de3c",
   "metadata": {},
   "source": [
    "Moved the first items (0) in the list to out of the list"
   ]
  },
  {
   "cell_type": "code",
   "execution_count": null,
   "id": "a71b882b",
   "metadata": {},
   "outputs": [],
   "source": [
    "df['Inspection new']=df['Inspection new'].str[0]"
   ]
  },
  {
   "cell_type": "code",
   "execution_count": null,
   "id": "b6d82c3f",
   "metadata": {},
   "outputs": [],
   "source": [
    "df['Inspection new'].value_counts(dropna=False)"
   ]
  },
  {
   "cell_type": "markdown",
   "id": "ca698308",
   "metadata": {},
   "source": [
    "Removed '\\n' figure from the list and added False to Nan values"
   ]
  },
  {
   "cell_type": "code",
   "execution_count": null,
   "id": "d2153df2",
   "metadata": {},
   "outputs": [],
   "source": [
    "df['Inspection new'].str.contains('\\n', na=False)"
   ]
  },
  {
   "cell_type": "markdown",
   "id": "73d0a714",
   "metadata": {},
   "source": [
    "Replace 0 to false, and 1 to True"
   ]
  },
  {
   "cell_type": "code",
   "execution_count": null,
   "id": "536cef43",
   "metadata": {},
   "outputs": [],
   "source": [
    "True*1"
   ]
  },
  {
   "cell_type": "code",
   "execution_count": null,
   "id": "64589726",
   "metadata": {},
   "outputs": [],
   "source": [
    "False*1"
   ]
  },
  {
   "cell_type": "code",
   "execution_count": null,
   "id": "71bd5665",
   "metadata": {},
   "outputs": [],
   "source": [
    "(df['Inspection new'].str.contains('\\n', na=False))*1"
   ]
  },
  {
   "cell_type": "markdown",
   "id": "a58bd56d",
   "metadata": {},
   "source": [
    "# Warranty column"
   ]
  },
  {
   "cell_type": "code",
   "execution_count": null,
   "id": "279601d9",
   "metadata": {},
   "outputs": [],
   "source": [
    "df.Warranty.value_counts(dropna=False)"
   ]
  },
  {
   "cell_type": "markdown",
   "id": "f442c32d",
   "metadata": {},
   "source": [
    "Moved the data to out of the list"
   ]
  },
  {
   "cell_type": "code",
   "execution_count": null,
   "id": "e711dc85",
   "metadata": {},
   "outputs": [],
   "source": [
    "df.Warranty = [i[0] if type(i) == list else i for i in df ['Warranty']]"
   ]
  },
  {
   "cell_type": "code",
   "execution_count": null,
   "id": "a3b9b2e6",
   "metadata": {},
   "outputs": [],
   "source": [
    "df.Warranty.value_counts(dropna=False)"
   ]
  },
  {
   "cell_type": "markdown",
   "id": "3e795df7",
   "metadata": {},
   "source": [
    "Extracted only usefull data"
   ]
  },
  {
   "cell_type": "code",
   "execution_count": null,
   "id": "cb2bf360",
   "metadata": {},
   "outputs": [],
   "source": [
    "df[\"Warranty\"] = df.Warranty.str.extract('(\\d\\d months|\\d months)')"
   ]
  },
  {
   "cell_type": "code",
   "execution_count": null,
   "id": "1d572ccf",
   "metadata": {},
   "outputs": [],
   "source": [
    "df.Warranty.value_counts(dropna=False)"
   ]
  },
  {
   "cell_type": "markdown",
   "id": "1de5f37a",
   "metadata": {},
   "source": [
    "# Full Service Column"
   ]
  },
  {
   "cell_type": "markdown",
   "id": "5072791a",
   "metadata": {},
   "source": [
    "Decided to Drop the Full servie Column"
   ]
  },
  {
   "cell_type": "code",
   "execution_count": null,
   "id": "7b66a9e8",
   "metadata": {},
   "outputs": [],
   "source": [
    "df.drop(['Full Service'],axis=1,inplace=True)"
   ]
  },
  {
   "cell_type": "markdown",
   "id": "814ee918",
   "metadata": {},
   "source": [
    "# Non-smoking Vehicle column"
   ]
  },
  {
   "cell_type": "markdown",
   "id": "d2889b75",
   "metadata": {},
   "source": [
    "Decided to Drop the Non_smoking Vehicle Column"
   ]
  },
  {
   "cell_type": "code",
   "execution_count": null,
   "id": "455d9408",
   "metadata": {},
   "outputs": [],
   "source": [
    "df.drop(['Non-smoking Vehicle'],axis=1,inplace=True)"
   ]
  },
  {
   "cell_type": "markdown",
   "id": "47262e08",
   "metadata": {},
   "source": [
    "# 'null', 'Make', 'Model', 'Offer Number' columns"
   ]
  },
  {
   "cell_type": "markdown",
   "id": "29888ca3",
   "metadata": {},
   "source": [
    "Decided to Drop 'null', 'Make', 'Model', 'Offer Number' columns"
   ]
  },
  {
   "cell_type": "code",
   "execution_count": null,
   "id": "616727b4",
   "metadata": {},
   "outputs": [],
   "source": [
    "df.drop(['null', 'Make', 'Model', 'Offer Number'],axis=1,inplace=True)"
   ]
  },
  {
   "cell_type": "markdown",
   "id": "9817b384",
   "metadata": {},
   "source": [
    "# First Registration column"
   ]
  },
  {
   "cell_type": "code",
   "execution_count": null,
   "id": "7d850b29",
   "metadata": {},
   "outputs": [],
   "source": [
    "df['First Registration'].value_counts(dropna=False)"
   ]
  },
  {
   "cell_type": "markdown",
   "id": "6d66dab2",
   "metadata": {},
   "source": [
    "Moved data out of the list and changed column name"
   ]
  },
  {
   "cell_type": "code",
   "execution_count": null,
   "id": "9a422398",
   "metadata": {},
   "outputs": [],
   "source": [
    "df['First_Registration']= df['First Registration'].str[1]"
   ]
  },
  {
   "cell_type": "code",
   "execution_count": null,
   "id": "09861465",
   "metadata": {},
   "outputs": [],
   "source": [
    "df['First_Registration'].value_counts(dropna=False)"
   ]
  },
  {
   "cell_type": "markdown",
   "id": "169b2079",
   "metadata": {},
   "source": [
    "# CREATED A NEW COLUMN - AUTO_AGE"
   ]
  },
  {
   "cell_type": "markdown",
   "id": "535f329d",
   "metadata": {},
   "source": [
    "This columns will show the age of the autos"
   ]
  },
  {
   "cell_type": "code",
   "execution_count": null,
   "id": "50c68b11",
   "metadata": {},
   "outputs": [],
   "source": [
    "df['auto_age']=2019-df.First_Registration.astype(float)"
   ]
  },
  {
   "cell_type": "code",
   "execution_count": null,
   "id": "a613f976",
   "metadata": {},
   "outputs": [],
   "source": [
    "df.auto_age.value_counts(dropna=False)"
   ]
  },
  {
   "cell_type": "markdown",
   "id": "93cb0d19",
   "metadata": {},
   "source": [
    "Cleaning Nan Values from auto age column\n",
    "Decided to give age data to nan values based on the auto's km"
   ]
  },
  {
   "cell_type": "code",
   "execution_count": null,
   "id": "54c99fcc",
   "metadata": {},
   "outputs": [],
   "source": [
    "Find the km means by Auto age "
   ]
  },
  {
   "cell_type": "code",
   "execution_count": null,
   "id": "25a6bf6c",
   "metadata": {},
   "outputs": [],
   "source": [
    "df.groupby('auto_age')['km'].mean()"
   ]
  },
  {
   "cell_type": "code",
   "execution_count": null,
   "id": "965e56a9",
   "metadata": {},
   "outputs": [],
   "source": [
    "df.loc[df.km<10000,'auto_age']=df.loc[df.km<10000,'auto_age'].fillna(0)"
   ]
  },
  {
   "cell_type": "code",
   "execution_count": null,
   "id": "b815cd2f",
   "metadata": {},
   "outputs": [],
   "source": [
    "df.loc[(df.km<30000)&(df.km>=10000),'auto_age']=df.loc[(df.km<30000)&(df.km>=10000),'auto_age'].fillna(1)"
   ]
  },
  {
   "cell_type": "code",
   "execution_count": null,
   "id": "3fb14dea",
   "metadata": {},
   "outputs": [],
   "source": [
    "df.loc[(df.km<50000)&(df.km>=30000),'auto_age']=df.loc[(df.km<50000)&(df.km>=30000),'auto_age'].fillna(2)"
   ]
  },
  {
   "cell_type": "code",
   "execution_count": null,
   "id": "a1fa6047",
   "metadata": {},
   "outputs": [],
   "source": [
    "df.loc[df.km>=50000,'auto_age']=df.loc[df.km>=50000,'auto_age'].fillna(3)"
   ]
  },
  {
   "cell_type": "code",
   "execution_count": null,
   "id": "2c524527",
   "metadata": {},
   "outputs": [],
   "source": [
    "Filled null values with '-'"
   ]
  },
  {
   "cell_type": "code",
   "execution_count": null,
   "id": "12821ede",
   "metadata": {},
   "outputs": [],
   "source": [
    "df.auto_age=df.auto_age.fillna('-')"
   ]
  },
  {
   "cell_type": "code",
   "execution_count": null,
   "id": "740cad23",
   "metadata": {},
   "outputs": [],
   "source": [
    "df.groupby(['make_model', 'body_type','auto_age']).price.describe()"
   ]
  },
  {
   "cell_type": "markdown",
   "id": "952cdfaa",
   "metadata": {},
   "source": [
    "Figured that all Nan values are at the zero age autos' price\n",
    "Decided to replace '-' vlaies with 0"
   ]
  },
  {
   "cell_type": "code",
   "execution_count": null,
   "id": "d348f1b5",
   "metadata": {},
   "outputs": [],
   "source": [
    "df.auto_age=df.auto_age.replace('-',0)"
   ]
  },
  {
   "cell_type": "code",
   "execution_count": null,
   "id": "e4a20e7c",
   "metadata": {},
   "outputs": [],
   "source": [
    "df.auto_age.value_counts(dropna=False)"
   ]
  },
  {
   "cell_type": "markdown",
   "id": "66adf660",
   "metadata": {},
   "source": [
    "# Body Color column"
   ]
  },
  {
   "cell_type": "code",
   "execution_count": null,
   "id": "13a6b48b",
   "metadata": {},
   "outputs": [],
   "source": [
    "df['Body Color'].value_counts(dropna=False)"
   ]
  },
  {
   "cell_type": "markdown",
   "id": "05ec4d7e",
   "metadata": {},
   "source": [
    "Moving the second (1) items in the list to out of the list and changing the column name"
   ]
  },
  {
   "cell_type": "code",
   "execution_count": null,
   "id": "e144c4d7",
   "metadata": {},
   "outputs": [],
   "source": [
    "df['Body_Color']= df['Body Color'].str[1]"
   ]
  },
  {
   "cell_type": "code",
   "execution_count": null,
   "id": "345bea61",
   "metadata": {},
   "outputs": [],
   "source": [
    "df['Body_Color'].value_counts(dropna=False)"
   ]
  },
  {
   "cell_type": "markdown",
   "id": "c89e570c",
   "metadata": {},
   "source": [
    "# Paint Type column"
   ]
  },
  {
   "cell_type": "code",
   "execution_count": null,
   "id": "d918205f",
   "metadata": {
    "scrolled": true
   },
   "outputs": [],
   "source": [
    "df['Paint Type'].value_counts(dropna=False)"
   ]
  },
  {
   "cell_type": "markdown",
   "id": "1049ab91",
   "metadata": {},
   "source": [
    "Moving the first (0) items in the list to out of the list and changing the column name"
   ]
  },
  {
   "cell_type": "code",
   "execution_count": null,
   "id": "faf8f169",
   "metadata": {},
   "outputs": [],
   "source": [
    "df['Paint_Type']= df['Paint Type'].str[0]"
   ]
  },
  {
   "cell_type": "code",
   "execution_count": null,
   "id": "a54c5ae8",
   "metadata": {},
   "outputs": [],
   "source": [
    "df['Paint_Type'].value_counts(dropna=False)"
   ]
  },
  {
   "cell_type": "markdown",
   "id": "374129e8",
   "metadata": {},
   "source": [
    "Removing '\\n' figures"
   ]
  },
  {
   "cell_type": "code",
   "execution_count": null,
   "id": "1d34b0c1",
   "metadata": {},
   "outputs": [],
   "source": [
    "df['Paint_Type']=df['Paint_Type'].str.strip('\\n')"
   ]
  },
  {
   "cell_type": "code",
   "execution_count": null,
   "id": "35312dbb",
   "metadata": {},
   "outputs": [],
   "source": [
    "df['Paint_Type'].value_counts(dropna=False)"
   ]
  },
  {
   "cell_type": "markdown",
   "id": "75f9e166",
   "metadata": {},
   "source": [
    "# Body Color Original Column"
   ]
  },
  {
   "cell_type": "code",
   "execution_count": null,
   "id": "d2883748",
   "metadata": {},
   "outputs": [],
   "source": [
    "df['Body Color Original'].value_counts(dropna=False)"
   ]
  },
  {
   "cell_type": "markdown",
   "id": "18e23e90",
   "metadata": {},
   "source": [
    "Moving the first (0) items in the list to out of the list and changing the column name"
   ]
  },
  {
   "cell_type": "code",
   "execution_count": null,
   "id": "149e4aec",
   "metadata": {},
   "outputs": [],
   "source": [
    "df['Body_Color_Original']= df['Body Color Original'].str[0]"
   ]
  },
  {
   "cell_type": "code",
   "execution_count": null,
   "id": "46b55784",
   "metadata": {},
   "outputs": [],
   "source": [
    "df['Body_Color_Original'].value_counts(dropna=False)"
   ]
  },
  {
   "cell_type": "markdown",
   "id": "0ed50c65",
   "metadata": {},
   "source": [
    "Removing '\\n' figures"
   ]
  },
  {
   "cell_type": "code",
   "execution_count": null,
   "id": "acf2d77f",
   "metadata": {},
   "outputs": [],
   "source": [
    "df['Body_Color_Original']=df['Body_Color_Original'].str.strip('\\n')"
   ]
  },
  {
   "cell_type": "code",
   "execution_count": null,
   "id": "5a2a5d12",
   "metadata": {},
   "outputs": [],
   "source": [
    "df['Body_Color_Original'].value_counts(dropna=False)"
   ]
  },
  {
   "cell_type": "markdown",
   "id": "43a7f377",
   "metadata": {},
   "source": [
    "# Upholstery Column"
   ]
  },
  {
   "cell_type": "code",
   "execution_count": null,
   "id": "5bbdc1ba",
   "metadata": {},
   "outputs": [],
   "source": [
    "df.Upholstery.value_counts(dropna=False)"
   ]
  },
  {
   "cell_type": "markdown",
   "id": "421a3d67",
   "metadata": {},
   "source": [
    "Moving the first (0) items in the list to out of the list "
   ]
  },
  {
   "cell_type": "code",
   "execution_count": null,
   "id": "4d243844",
   "metadata": {},
   "outputs": [],
   "source": [
    "df['Upholstery']= df['Upholstery'].str[0]"
   ]
  },
  {
   "cell_type": "code",
   "execution_count": null,
   "id": "6b079523",
   "metadata": {},
   "outputs": [],
   "source": [
    "df.Upholstery.value_counts(dropna=False)"
   ]
  },
  {
   "cell_type": "markdown",
   "id": "677905c9",
   "metadata": {},
   "source": [
    "Removing '\\n' figures"
   ]
  },
  {
   "cell_type": "code",
   "execution_count": null,
   "id": "5d7eabd3",
   "metadata": {},
   "outputs": [],
   "source": [
    "df.Upholstery=df.Upholstery.str.strip('\\n')"
   ]
  },
  {
   "cell_type": "code",
   "execution_count": null,
   "id": "52a19708",
   "metadata": {},
   "outputs": [],
   "source": [
    "df.Upholstery.value_counts(dropna=False)"
   ]
  },
  {
   "cell_type": "markdown",
   "id": "b425ec91",
   "metadata": {},
   "source": [
    "# Body Column"
   ]
  },
  {
   "cell_type": "code",
   "execution_count": null,
   "id": "5e989b5e",
   "metadata": {},
   "outputs": [],
   "source": [
    "df.Body.value_counts(dropna=False)"
   ]
  },
  {
   "cell_type": "code",
   "execution_count": null,
   "id": "385c9474",
   "metadata": {},
   "outputs": [],
   "source": [
    "Moving the second (1) items in the list to out of the list "
   ]
  },
  {
   "cell_type": "code",
   "execution_count": null,
   "id": "7baddc93",
   "metadata": {},
   "outputs": [],
   "source": [
    "df['Body']= df['Body'].str[1]"
   ]
  },
  {
   "cell_type": "code",
   "execution_count": null,
   "id": "bc203b2d",
   "metadata": {},
   "outputs": [],
   "source": [
    "df.Body.value_counts(dropna=False)"
   ]
  },
  {
   "cell_type": "markdown",
   "id": "1beea50d",
   "metadata": {},
   "source": [
    "# Nr. of Doors Column"
   ]
  },
  {
   "cell_type": "code",
   "execution_count": 249,
   "id": "51a29032",
   "metadata": {},
   "outputs": [
    {
     "ename": "TypeError",
     "evalue": "unhashable type: 'list'",
     "output_type": "error",
     "traceback": [
      "\u001b[1;31m---------------------------------------------------------------------------\u001b[0m",
      "\u001b[1;31mTypeError\u001b[0m                                 Traceback (most recent call last)",
      "\u001b[1;32mpandas\\_libs\\hashtable_class_helper.pxi\u001b[0m in \u001b[0;36mpandas._libs.hashtable.PyObjectHashTable.map_locations\u001b[1;34m()\u001b[0m\n",
      "\u001b[1;31mTypeError\u001b[0m: unhashable type: 'list'"
     ]
    },
    {
     "name": "stderr",
     "output_type": "stream",
     "text": [
      "Exception ignored in: 'pandas._libs.index.IndexEngine._call_map_locations'\n",
      "Traceback (most recent call last):\n",
      "  File \"pandas\\_libs\\hashtable_class_helper.pxi\", line 4588, in pandas._libs.hashtable.PyObjectHashTable.map_locations\n",
      "TypeError: unhashable type: 'list'\n"
     ]
    },
    {
     "data": {
      "text/plain": [
       "[\\n5\\n]    11575\n",
       "[\\n4\\n]     3079\n",
       "[\\n3\\n]      832\n",
       "[\\n2\\n]      219\n",
       "NaN          212\n",
       "[\\n7\\n]        1\n",
       "[\\n1\\n]        1\n",
       "Name: Nr. of Doors, dtype: int64"
      ]
     },
     "execution_count": 249,
     "metadata": {},
     "output_type": "execute_result"
    }
   ],
   "source": [
    "df['Nr. of Doors'].value_counts(dropna=False)"
   ]
  },
  {
   "cell_type": "markdown",
   "id": "cefa9415",
   "metadata": {},
   "source": [
    "Moving the first (0) items in the list to out of the list "
   ]
  },
  {
   "cell_type": "code",
   "execution_count": 251,
   "id": "ecb2a0de",
   "metadata": {},
   "outputs": [],
   "source": [
    "df['Nr_of_Doors']= df['Nr. of Doors'].str[0]"
   ]
  },
  {
   "cell_type": "code",
   "execution_count": 252,
   "id": "63e176dd",
   "metadata": {},
   "outputs": [
    {
     "data": {
      "text/plain": [
       "\\n5\\n    11575\n",
       "\\n4\\n     3079\n",
       "\\n3\\n      832\n",
       "\\n2\\n      219\n",
       "NaN        212\n",
       "\\n1\\n        1\n",
       "\\n7\\n        1\n",
       "Name: Nr_of_Doors, dtype: int64"
      ]
     },
     "execution_count": 252,
     "metadata": {},
     "output_type": "execute_result"
    }
   ],
   "source": [
    "df['Nr_of_Doors'].value_counts(dropna=False)"
   ]
  },
  {
   "cell_type": "markdown",
   "id": "77ca99a1",
   "metadata": {},
   "source": [
    "Removing '\\n' figures"
   ]
  },
  {
   "cell_type": "code",
   "execution_count": null,
   "id": "9aec789c",
   "metadata": {},
   "outputs": [],
   "source": [
    "df.Nr_of_Doors=df.Nr_of_Doors.str.strip('\\n')"
   ]
  },
  {
   "cell_type": "code",
   "execution_count": null,
   "id": "9a9ffafd",
   "metadata": {},
   "outputs": [],
   "source": [
    "df.Nr_of_Doors.value_counts(dropna=False)"
   ]
  },
  {
   "cell_type": "markdown",
   "id": "91140a1f",
   "metadata": {},
   "source": [
    "# Nr. of Seats Column"
   ]
  },
  {
   "cell_type": "code",
   "execution_count": null,
   "id": "c6c9f905",
   "metadata": {},
   "outputs": [],
   "source": [
    "df['Nr. of Seats'].value_counts(dropna=False)"
   ]
  },
  {
   "cell_type": "markdown",
   "id": "6c1d0433",
   "metadata": {},
   "source": [
    "Moving the first (0) items in the list to out of the list "
   ]
  },
  {
   "cell_type": "code",
   "execution_count": 241,
   "id": "17535a67",
   "metadata": {},
   "outputs": [],
   "source": [
    "df['Nr_of_Seats']= df['Nr. of Seats'].str[0]"
   ]
  },
  {
   "cell_type": "code",
   "execution_count": 242,
   "id": "41802df9",
   "metadata": {},
   "outputs": [
    {
     "data": {
      "text/plain": [
       "\\n5\\n    13336\n",
       "\\n4\\n     1125\n",
       "NaN        977\n",
       "\\n7\\n      362\n",
       "\\n2\\n      116\n",
       "\\n6\\n        2\n",
       "\\n3\\n        1\n",
       "Name: Nr_of_Seats, dtype: int64"
      ]
     },
     "execution_count": 242,
     "metadata": {},
     "output_type": "execute_result"
    }
   ],
   "source": [
    "df['Nr_of_Seats'].value_counts(dropna=False)"
   ]
  },
  {
   "cell_type": "markdown",
   "id": "8fbf8a8d",
   "metadata": {},
   "source": [
    "Removing '\\n' figures"
   ]
  },
  {
   "cell_type": "code",
   "execution_count": 243,
   "id": "3d016d04",
   "metadata": {},
   "outputs": [],
   "source": [
    "df.Nr_of_Seats=df.Nr_of_Seats.str.strip('\\n')"
   ]
  },
  {
   "cell_type": "code",
   "execution_count": 244,
   "id": "6503fded",
   "metadata": {},
   "outputs": [
    {
     "data": {
      "text/plain": [
       "5      13336\n",
       "4       1125\n",
       "NaN      977\n",
       "7        362\n",
       "2        116\n",
       "6          2\n",
       "3          1\n",
       "Name: Nr_of_Seats, dtype: int64"
      ]
     },
     "execution_count": 244,
     "metadata": {},
     "output_type": "execute_result"
    }
   ],
   "source": [
    "df.Nr_of_Seats.value_counts(dropna=False)"
   ]
  },
  {
   "cell_type": "markdown",
   "id": "9cad0798",
   "metadata": {},
   "source": [
    "# Model Code Column"
   ]
  },
  {
   "cell_type": "code",
   "execution_count": 246,
   "id": "08b35b80",
   "metadata": {},
   "outputs": [
    {
     "ename": "TypeError",
     "evalue": "unhashable type: 'list'",
     "output_type": "error",
     "traceback": [
      "\u001b[1;31m---------------------------------------------------------------------------\u001b[0m",
      "\u001b[1;31mTypeError\u001b[0m                                 Traceback (most recent call last)",
      "\u001b[1;32mpandas\\_libs\\hashtable_class_helper.pxi\u001b[0m in \u001b[0;36mpandas._libs.hashtable.PyObjectHashTable.map_locations\u001b[1;34m()\u001b[0m\n",
      "\u001b[1;31mTypeError\u001b[0m: unhashable type: 'list'"
     ]
    },
    {
     "name": "stderr",
     "output_type": "stream",
     "text": [
      "Exception ignored in: 'pandas._libs.index.IndexEngine._call_map_locations'\n",
      "Traceback (most recent call last):\n",
      "  File \"pandas\\_libs\\hashtable_class_helper.pxi\", line 4588, in pandas._libs.hashtable.PyObjectHashTable.map_locations\n",
      "TypeError: unhashable type: 'list'\n"
     ]
    },
    {
     "data": {
      "text/plain": [
       "NaN               10941\n",
       "[\\n0035/BCB\\n]      268\n",
       "[\\n0588/BNO\\n]      245\n",
       "[\\n0588/BDB\\n]      206\n",
       "[\\n0588/BHX\\n]      188\n",
       "                  ...  \n",
       "[\\n0035/BHX\\n]        1\n",
       "[\\n0588/AVR\\n]        1\n",
       "[\\n0035/ASN\\n]        1\n",
       "[\\n1844/AEG\\n]        1\n",
       "[\\n3333/BBL\\n]        1\n",
       "Name: Model Code, Length: 233, dtype: int64"
      ]
     },
     "execution_count": 246,
     "metadata": {},
     "output_type": "execute_result"
    }
   ],
   "source": [
    "df['Model Code'].value_counts(dropna=False)"
   ]
  },
  {
   "cell_type": "markdown",
   "id": "6714cb19",
   "metadata": {},
   "source": [
    "Moving the first (0) items in the list to out of the list"
   ]
  },
  {
   "cell_type": "code",
   "execution_count": 253,
   "id": "6d0326bb",
   "metadata": {},
   "outputs": [],
   "source": [
    "df['Model_Code']= df['Model Code'].str[0]"
   ]
  },
  {
   "cell_type": "code",
   "execution_count": 255,
   "id": "71ddfe4a",
   "metadata": {},
   "outputs": [
    {
     "data": {
      "text/plain": [
       "NaN             10941\n",
       "\\n0035/BCB\\n      268\n",
       "\\n0588/BNO\\n      245\n",
       "\\n0588/BDB\\n      206\n",
       "\\n0588/BHX\\n      188\n",
       "                ...  \n",
       "\\n1844/AIB\\n        1\n",
       "\\n0035/ACW\\n        1\n",
       "\\n1844/AHR\\n        1\n",
       "\\n1844/AJB\\n        1\n",
       "\\n0588/BAE\\n        1\n",
       "Name: Model_Code, Length: 233, dtype: int64"
      ]
     },
     "execution_count": 255,
     "metadata": {},
     "output_type": "execute_result"
    }
   ],
   "source": [
    "df['Model_Code'].value_counts(dropna=False)"
   ]
  },
  {
   "cell_type": "code",
   "execution_count": 258,
   "id": "b00dd631",
   "metadata": {},
   "outputs": [],
   "source": [
    "df.Model_Code=df.Model_Code.str.strip('\\n')"
   ]
  },
  {
   "cell_type": "code",
   "execution_count": 259,
   "id": "80877cc2",
   "metadata": {},
   "outputs": [
    {
     "data": {
      "text/plain": [
       "NaN         10941\n",
       "0035/BCB      268\n",
       "0588/BNO      245\n",
       "0588/BDB      206\n",
       "0588/BHX      188\n",
       "            ...  \n",
       "0035/BGS        1\n",
       "0588/AWS        1\n",
       "0035/BGI        1\n",
       "0035/ACW        1\n",
       "1844/AHR        1\n",
       "Name: Model_Code, Length: 233, dtype: int64"
      ]
     },
     "execution_count": 259,
     "metadata": {},
     "output_type": "execute_result"
    }
   ],
   "source": [
    "df['Model_Code'].value_counts(dropna=False)"
   ]
  },
  {
   "cell_type": "markdown",
   "id": "5c9d4c63",
   "metadata": {},
   "source": [
    "# 'Gearing Type' Column\n",
    "       "
   ]
  },
  {
   "cell_type": "code",
   "execution_count": 261,
   "id": "32ce7f37",
   "metadata": {},
   "outputs": [
    {
     "ename": "TypeError",
     "evalue": "unhashable type: 'list'",
     "output_type": "error",
     "traceback": [
      "\u001b[1;31m---------------------------------------------------------------------------\u001b[0m",
      "\u001b[1;31mTypeError\u001b[0m                                 Traceback (most recent call last)",
      "\u001b[1;32mpandas\\_libs\\hashtable_class_helper.pxi\u001b[0m in \u001b[0;36mpandas._libs.hashtable.PyObjectHashTable.map_locations\u001b[1;34m()\u001b[0m\n",
      "\u001b[1;31mTypeError\u001b[0m: unhashable type: 'list'"
     ]
    },
    {
     "name": "stderr",
     "output_type": "stream",
     "text": [
      "Exception ignored in: 'pandas._libs.index.IndexEngine._call_map_locations'\n",
      "Traceback (most recent call last):\n",
      "  File \"pandas\\_libs\\hashtable_class_helper.pxi\", line 4588, in pandas._libs.hashtable.PyObjectHashTable.map_locations\n",
      "TypeError: unhashable type: 'list'\n"
     ]
    },
    {
     "data": {
      "text/plain": [
       "[\\n, Manual, \\n]            8153\n",
       "[\\n, Automatic, \\n]         7297\n",
       "[\\n, Semi-automatic, \\n]     469\n",
       "Name: Gearing Type, dtype: int64"
      ]
     },
     "execution_count": 261,
     "metadata": {},
     "output_type": "execute_result"
    }
   ],
   "source": [
    "df['Gearing Type'].value_counts(dropna=False)"
   ]
  },
  {
   "cell_type": "code",
   "execution_count": null,
   "id": "47c0cf15",
   "metadata": {},
   "outputs": [],
   "source": []
  },
  {
   "cell_type": "markdown",
   "id": "ba1dee7e",
   "metadata": {},
   "source": [
    "# 'Displacement' Column"
   ]
  },
  {
   "cell_type": "code",
   "execution_count": 262,
   "id": "21510b78",
   "metadata": {},
   "outputs": [
    {
     "ename": "TypeError",
     "evalue": "unhashable type: 'list'",
     "output_type": "error",
     "traceback": [
      "\u001b[1;31m---------------------------------------------------------------------------\u001b[0m",
      "\u001b[1;31mTypeError\u001b[0m                                 Traceback (most recent call last)",
      "\u001b[1;32mpandas\\_libs\\hashtable_class_helper.pxi\u001b[0m in \u001b[0;36mpandas._libs.hashtable.PyObjectHashTable.map_locations\u001b[1;34m()\u001b[0m\n",
      "\u001b[1;31mTypeError\u001b[0m: unhashable type: 'list'"
     ]
    },
    {
     "name": "stderr",
     "output_type": "stream",
     "text": [
      "Exception ignored in: 'pandas._libs.index.IndexEngine._call_map_locations'\n",
      "Traceback (most recent call last):\n",
      "  File \"pandas\\_libs\\hashtable_class_helper.pxi\", line 4588, in pandas._libs.hashtable.PyObjectHashTable.map_locations\n",
      "TypeError: unhashable type: 'list'\n"
     ]
    },
    {
     "data": {
      "text/plain": [
       "[\\n1,598 cc\\n]    4761\n",
       "[\\n999 cc\\n]      2438\n",
       "[\\n1,398 cc\\n]    1314\n",
       "[\\n1,399 cc\\n]     749\n",
       "[\\n1,229 cc\\n]     677\n",
       "                  ... \n",
       "[\\n1,800 cc\\n]       1\n",
       "[\\n1,686 cc\\n]       1\n",
       "[\\n1,369 cc\\n]       1\n",
       "[\\n140 cc\\n]         1\n",
       "[\\n1,584 cc\\n]       1\n",
       "Name: Displacement, Length: 78, dtype: int64"
      ]
     },
     "execution_count": 262,
     "metadata": {},
     "output_type": "execute_result"
    }
   ],
   "source": [
    "df['Displacement'].value_counts(dropna=False)"
   ]
  },
  {
   "cell_type": "code",
   "execution_count": null,
   "id": "b14826fd",
   "metadata": {},
   "outputs": [],
   "source": []
  },
  {
   "cell_type": "markdown",
   "id": "e668a3b8",
   "metadata": {},
   "source": [
    "# 'Cylinders'"
   ]
  },
  {
   "cell_type": "code",
   "execution_count": 263,
   "id": "f19799f8",
   "metadata": {},
   "outputs": [
    {
     "ename": "TypeError",
     "evalue": "unhashable type: 'list'",
     "output_type": "error",
     "traceback": [
      "\u001b[1;31m---------------------------------------------------------------------------\u001b[0m",
      "\u001b[1;31mTypeError\u001b[0m                                 Traceback (most recent call last)",
      "\u001b[1;32mpandas\\_libs\\hashtable_class_helper.pxi\u001b[0m in \u001b[0;36mpandas._libs.hashtable.PyObjectHashTable.map_locations\u001b[1;34m()\u001b[0m\n",
      "\u001b[1;31mTypeError\u001b[0m: unhashable type: 'list'"
     ]
    },
    {
     "name": "stderr",
     "output_type": "stream",
     "text": [
      "Exception ignored in: 'pandas._libs.index.IndexEngine._call_map_locations'\n",
      "Traceback (most recent call last):\n",
      "  File \"pandas\\_libs\\hashtable_class_helper.pxi\", line 4588, in pandas._libs.hashtable.PyObjectHashTable.map_locations\n",
      "TypeError: unhashable type: 'list'\n"
     ]
    },
    {
     "data": {
      "text/plain": [
       "[\\n4\\n]    8105\n",
       "NaN        5680\n",
       "[\\n3\\n]    2104\n",
       "[\\n5\\n]      22\n",
       "[\\n6\\n]       3\n",
       "[\\n2\\n]       2\n",
       "[\\n8\\n]       2\n",
       "[\\n1\\n]       1\n",
       "Name: Cylinders, dtype: int64"
      ]
     },
     "execution_count": 263,
     "metadata": {},
     "output_type": "execute_result"
    }
   ],
   "source": [
    "df.Cylinders.value_counts(dropna=False)"
   ]
  },
  {
   "cell_type": "code",
   "execution_count": null,
   "id": "8a164831",
   "metadata": {},
   "outputs": [],
   "source": []
  },
  {
   "cell_type": "markdown",
   "id": "344685a8",
   "metadata": {},
   "source": [
    "# 'Weight',"
   ]
  },
  {
   "cell_type": "code",
   "execution_count": 264,
   "id": "8400ec48",
   "metadata": {},
   "outputs": [
    {
     "ename": "TypeError",
     "evalue": "unhashable type: 'list'",
     "output_type": "error",
     "traceback": [
      "\u001b[1;31m---------------------------------------------------------------------------\u001b[0m",
      "\u001b[1;31mTypeError\u001b[0m                                 Traceback (most recent call last)",
      "\u001b[1;32mpandas\\_libs\\hashtable_class_helper.pxi\u001b[0m in \u001b[0;36mpandas._libs.hashtable.PyObjectHashTable.map_locations\u001b[1;34m()\u001b[0m\n",
      "\u001b[1;31mTypeError\u001b[0m: unhashable type: 'list'"
     ]
    },
    {
     "name": "stderr",
     "output_type": "stream",
     "text": [
      "Exception ignored in: 'pandas._libs.index.IndexEngine._call_map_locations'\n",
      "Traceback (most recent call last):\n",
      "  File \"pandas\\_libs\\hashtable_class_helper.pxi\", line 4588, in pandas._libs.hashtable.PyObjectHashTable.map_locations\n",
      "TypeError: unhashable type: 'list'\n"
     ]
    },
    {
     "data": {
      "text/plain": [
       "NaN               6974\n",
       "[\\n1,163 kg\\n]     574\n",
       "[\\n1,360 kg\\n]     356\n",
       "[\\n1,165 kg\\n]     301\n",
       "[\\n1,335 kg\\n]     242\n",
       "                  ... \n",
       "[\\n1,761 kg\\n]       1\n",
       "[\\n1,331 kg\\n]       1\n",
       "[\\n1,974 kg\\n]       1\n",
       "[\\n1,711 kg\\n]       1\n",
       "[\\n1,686 kg\\n]       1\n",
       "Name: Weight, Length: 435, dtype: int64"
      ]
     },
     "execution_count": 264,
     "metadata": {},
     "output_type": "execute_result"
    }
   ],
   "source": [
    "df.Weight.value_counts(dropna=False)"
   ]
  },
  {
   "cell_type": "code",
   "execution_count": null,
   "id": "014c9c14",
   "metadata": {},
   "outputs": [],
   "source": []
  },
  {
   "cell_type": "markdown",
   "id": "2c8d22cd",
   "metadata": {},
   "source": [
    "# 'Drive chain', "
   ]
  },
  {
   "cell_type": "code",
   "execution_count": 265,
   "id": "4bb768cd",
   "metadata": {},
   "outputs": [
    {
     "ename": "TypeError",
     "evalue": "unhashable type: 'list'",
     "output_type": "error",
     "traceback": [
      "\u001b[1;31m---------------------------------------------------------------------------\u001b[0m",
      "\u001b[1;31mTypeError\u001b[0m                                 Traceback (most recent call last)",
      "\u001b[1;32mpandas\\_libs\\hashtable_class_helper.pxi\u001b[0m in \u001b[0;36mpandas._libs.hashtable.PyObjectHashTable.map_locations\u001b[1;34m()\u001b[0m\n",
      "\u001b[1;31mTypeError\u001b[0m: unhashable type: 'list'"
     ]
    },
    {
     "name": "stderr",
     "output_type": "stream",
     "text": [
      "Exception ignored in: 'pandas._libs.index.IndexEngine._call_map_locations'\n",
      "Traceback (most recent call last):\n",
      "  File \"pandas\\_libs\\hashtable_class_helper.pxi\", line 4588, in pandas._libs.hashtable.PyObjectHashTable.map_locations\n",
      "TypeError: unhashable type: 'list'\n"
     ]
    },
    {
     "data": {
      "text/plain": [
       "[\\nfront\\n]    8886\n",
       "NaN            6858\n",
       "[\\n4WD\\n]       171\n",
       "[\\nrear\\n]        4\n",
       "Name: Drive chain, dtype: int64"
      ]
     },
     "execution_count": 265,
     "metadata": {},
     "output_type": "execute_result"
    }
   ],
   "source": [
    "df['Drive chain'].value_counts(dropna=False)"
   ]
  },
  {
   "cell_type": "code",
   "execution_count": null,
   "id": "daae7f68",
   "metadata": {},
   "outputs": [],
   "source": []
  },
  {
   "cell_type": "markdown",
   "id": "581ce26d",
   "metadata": {},
   "source": [
    "# 'Fuel'"
   ]
  },
  {
   "cell_type": "code",
   "execution_count": 266,
   "id": "1694c3ef",
   "metadata": {},
   "outputs": [
    {
     "ename": "TypeError",
     "evalue": "unhashable type: 'list'",
     "output_type": "error",
     "traceback": [
      "\u001b[1;31m---------------------------------------------------------------------------\u001b[0m",
      "\u001b[1;31mTypeError\u001b[0m                                 Traceback (most recent call last)",
      "\u001b[1;32mpandas\\_libs\\hashtable_class_helper.pxi\u001b[0m in \u001b[0;36mpandas._libs.hashtable.PyObjectHashTable.map_locations\u001b[1;34m()\u001b[0m\n",
      "\u001b[1;31mTypeError\u001b[0m: unhashable type: 'list'"
     ]
    },
    {
     "name": "stderr",
     "output_type": "stream",
     "text": [
      "Exception ignored in: 'pandas._libs.index.IndexEngine._call_map_locations'\n",
      "Traceback (most recent call last):\n",
      "  File \"pandas\\_libs\\hashtable_class_helper.pxi\", line 4588, in pandas._libs.hashtable.PyObjectHashTable.map_locations\n",
      "TypeError: unhashable type: 'list'\n"
     ]
    },
    {
     "data": {
      "text/plain": [
       "[\\n, Diesel (Particulate Filter), \\n]                                                                                  4315\n",
       "[\\n, Super 95, \\n]                                                                                                     3338\n",
       "[\\n, Gasoline, \\n]                                                                                                     3175\n",
       "[\\n, Diesel, \\n]                                                                                                       2984\n",
       "[\\n, Super 95 / Regular/Benzine 91, \\n]                                                                                 424\n",
       "                                                                                                                       ... \n",
       "[\\n, Super 95 / Regular/Benzine 91 / Super Plus 98 / Regular/Benzine E10 91 / Super Plus E10 98 / Super E10 95, \\n]       1\n",
       "[\\n, Regular/Benzine 91 / Super Plus 98 / Regular/Benzine E10 91 / Super 95 / Super E10 95 / Super Plus E10 98, \\n]       1\n",
       "[\\n, Regular/Benzine 91 / Super 95 / Super E10 95 / Regular/Benzine E10 91, \\n]                                           1\n",
       "[\\n, Regular/Benzine 91 / Super 95 / Super Plus 98, \\n]                                                                   1\n",
       "[\\n, Super 95 / Super E10 95 / Super Plus 98, \\n]                                                                         1\n",
       "Name: Fuel, Length: 77, dtype: int64"
      ]
     },
     "execution_count": 266,
     "metadata": {},
     "output_type": "execute_result"
    }
   ],
   "source": [
    "df['Fuel'].value_counts(dropna=False)"
   ]
  },
  {
   "cell_type": "code",
   "execution_count": null,
   "id": "225491da",
   "metadata": {},
   "outputs": [],
   "source": []
  },
  {
   "cell_type": "markdown",
   "id": "84bf08ef",
   "metadata": {},
   "source": [
    "# 'Consumption', "
   ]
  },
  {
   "cell_type": "code",
   "execution_count": 267,
   "id": "62b93857",
   "metadata": {},
   "outputs": [
    {
     "ename": "TypeError",
     "evalue": "unhashable type: 'list'",
     "output_type": "error",
     "traceback": [
      "\u001b[1;31m---------------------------------------------------------------------------\u001b[0m",
      "\u001b[1;31mTypeError\u001b[0m                                 Traceback (most recent call last)",
      "\u001b[1;32mpandas\\_libs\\hashtable_class_helper.pxi\u001b[0m in \u001b[0;36mpandas._libs.hashtable.PyObjectHashTable.map_locations\u001b[1;34m()\u001b[0m\n",
      "\u001b[1;31mTypeError\u001b[0m: unhashable type: 'list'"
     ]
    },
    {
     "name": "stderr",
     "output_type": "stream",
     "text": [
      "Exception ignored in: 'pandas._libs.index.IndexEngine._call_map_locations'\n",
      "Traceback (most recent call last):\n",
      "  File \"pandas\\_libs\\hashtable_class_helper.pxi\", line 4588, in pandas._libs.hashtable.PyObjectHashTable.map_locations\n",
      "TypeError: unhashable type: 'list'\n"
     ]
    },
    {
     "data": {
      "text/plain": [
       "NaN                                                                                   1906\n",
       "[[3.9 l/100 km (comb)], [4.1 l/100 km (city)], [3.7 l/100 km (country)]]               304\n",
       "[[4.2 l/100 km (comb)], [5 l/100 km (city)], [3.7 l/100 km (country)]]                 276\n",
       "[[5.4 l/100 km (comb)], [6.8 l/100 km (city)], [4.5 l/100 km (country)]]               257\n",
       "[[3.8 l/100 km (comb)], [4.3 l/100 km (city)], [3.5 l/100 km (country)]]               253\n",
       "                                                                                      ... \n",
       "[[3.1 l/100 km (comb)], [], [3.5 l/100 km (country)]]                                    1\n",
       "[[5.2 l/100 km (comb)], [6 l/100 km (city)], [4.8 l/100 km (country)]]                   1\n",
       "[[5.3 l/100 km (comb)], [6 l/100 km (city)], [5 l/100 km (country)]]                     1\n",
       "[\\n, 6.5 l/100 km (comb), \\n, 8.1 l/100 km (city), \\n, 5.5 l/100 km (country), \\n]       1\n",
       "[[50 l/100 km (comb)], [64 l/100 km (city)], [42 l/100 km (country)]]                    1\n",
       "Name: Consumption, Length: 882, dtype: int64"
      ]
     },
     "execution_count": 267,
     "metadata": {},
     "output_type": "execute_result"
    }
   ],
   "source": [
    "df.Consumption.value_counts(dropna=False)"
   ]
  },
  {
   "cell_type": "code",
   "execution_count": null,
   "id": "f3f0e099",
   "metadata": {},
   "outputs": [],
   "source": []
  },
  {
   "cell_type": "markdown",
   "id": "08beaaae",
   "metadata": {},
   "source": [
    "# 'CO2 Emission', "
   ]
  },
  {
   "cell_type": "code",
   "execution_count": 268,
   "id": "536216bf",
   "metadata": {},
   "outputs": [
    {
     "ename": "TypeError",
     "evalue": "unhashable type: 'list'",
     "output_type": "error",
     "traceback": [
      "\u001b[1;31m---------------------------------------------------------------------------\u001b[0m",
      "\u001b[1;31mTypeError\u001b[0m                                 Traceback (most recent call last)",
      "\u001b[1;32mpandas\\_libs\\hashtable_class_helper.pxi\u001b[0m in \u001b[0;36mpandas._libs.hashtable.PyObjectHashTable.map_locations\u001b[1;34m()\u001b[0m\n",
      "\u001b[1;31mTypeError\u001b[0m: unhashable type: 'list'"
     ]
    },
    {
     "name": "stderr",
     "output_type": "stream",
     "text": [
      "Exception ignored in: 'pandas._libs.index.IndexEngine._call_map_locations'\n",
      "Traceback (most recent call last):\n",
      "  File \"pandas\\_libs\\hashtable_class_helper.pxi\", line 4588, in pandas._libs.hashtable.PyObjectHashTable.map_locations\n",
      "TypeError: unhashable type: 'list'\n"
     ]
    },
    {
     "data": {
      "text/plain": [
       "NaN                             1808\n",
       "[\\n120 g CO2/km (comb)\\n]        740\n",
       "[[], [], []]                     628\n",
       "[\\n99 g CO2/km (comb)\\n]         545\n",
       "[\\n97 g CO2/km (comb)\\n]         537\n",
       "                                ... \n",
       "[\\n990 g CO2/km (comb)\\n]          1\n",
       "[\\n51 g CO2/km (comb)\\n]           1\n",
       "[\\n14,457 g CO2/km (comb)\\n]       1\n",
       "[\\n193 g CO2/km (comb)\\n]          1\n",
       "[\\n253 g CO2/km (comb)\\n]          1\n",
       "Name: CO2 Emission, Length: 124, dtype: int64"
      ]
     },
     "execution_count": 268,
     "metadata": {},
     "output_type": "execute_result"
    }
   ],
   "source": [
    "df['CO2 Emission'].value_counts(dropna=False)"
   ]
  },
  {
   "cell_type": "code",
   "execution_count": null,
   "id": "c22cc018",
   "metadata": {},
   "outputs": [],
   "source": []
  },
  {
   "cell_type": "markdown",
   "id": "5704ebe6",
   "metadata": {},
   "source": [
    "# 'Emission Class',"
   ]
  },
  {
   "cell_type": "code",
   "execution_count": 269,
   "id": "b199a279",
   "metadata": {},
   "outputs": [
    {
     "ename": "TypeError",
     "evalue": "unhashable type: 'list'",
     "output_type": "error",
     "traceback": [
      "\u001b[1;31m---------------------------------------------------------------------------\u001b[0m",
      "\u001b[1;31mTypeError\u001b[0m                                 Traceback (most recent call last)",
      "\u001b[1;32mpandas\\_libs\\hashtable_class_helper.pxi\u001b[0m in \u001b[0;36mpandas._libs.hashtable.PyObjectHashTable.map_locations\u001b[1;34m()\u001b[0m\n",
      "\u001b[1;31mTypeError\u001b[0m: unhashable type: 'list'"
     ]
    },
    {
     "name": "stderr",
     "output_type": "stream",
     "text": [
      "Exception ignored in: 'pandas._libs.index.IndexEngine._call_map_locations'\n",
      "Traceback (most recent call last):\n",
      "  File \"pandas\\_libs\\hashtable_class_helper.pxi\", line 4588, in pandas._libs.hashtable.PyObjectHashTable.map_locations\n",
      "TypeError: unhashable type: 'list'\n"
     ]
    },
    {
     "data": {
      "text/plain": [
       "[\\nEuro 6\\n]          10139\n",
       "NaN                    3021\n",
       "[\\nEuro 6d-TEMP\\n]     1845\n",
       "[[], [], []]            607\n",
       "[\\nEuro 6c\\n]           127\n",
       "[\\nEuro 5\\n]             78\n",
       "[\\nEuro 6d\\n]            62\n",
       "[\\nEuro 4\\n]             40\n",
       "Name: Emission Class, dtype: int64"
      ]
     },
     "execution_count": 269,
     "metadata": {},
     "output_type": "execute_result"
    }
   ],
   "source": [
    "df['Emission Class'].value_counts(dropna=False)"
   ]
  },
  {
   "cell_type": "code",
   "execution_count": null,
   "id": "0c3f3284",
   "metadata": {},
   "outputs": [],
   "source": []
  },
  {
   "cell_type": "markdown",
   "id": "cf008f93",
   "metadata": {},
   "source": [
    "# 'Comfort & Convenience', "
   ]
  },
  {
   "cell_type": "code",
   "execution_count": 270,
   "id": "678c1adb",
   "metadata": {},
   "outputs": [
    {
     "ename": "TypeError",
     "evalue": "unhashable type: 'list'",
     "output_type": "error",
     "traceback": [
      "\u001b[1;31m---------------------------------------------------------------------------\u001b[0m",
      "\u001b[1;31mTypeError\u001b[0m                                 Traceback (most recent call last)",
      "\u001b[1;32mpandas\\_libs\\hashtable_class_helper.pxi\u001b[0m in \u001b[0;36mpandas._libs.hashtable.PyObjectHashTable.map_locations\u001b[1;34m()\u001b[0m\n",
      "\u001b[1;31mTypeError\u001b[0m: unhashable type: 'list'"
     ]
    },
    {
     "name": "stderr",
     "output_type": "stream",
     "text": [
      "Exception ignored in: 'pandas._libs.index.IndexEngine._call_map_locations'\n",
      "Traceback (most recent call last):\n",
      "  File \"pandas\\_libs\\hashtable_class_helper.pxi\", line 4588, in pandas._libs.hashtable.PyObjectHashTable.map_locations\n",
      "TypeError: unhashable type: 'list'\n"
     ]
    },
    {
     "data": {
      "text/plain": [
       "NaN                                                                                                                                                                                                                                                                                                                                                                                                                                                     920\n",
       "[Air conditioning, Electrical side mirrors, Hill Holder, Power windows]                                                                                                                                                                                                                                                                                                                                                                                 216\n",
       "[Air conditioning, Electrical side mirrors, Power windows]                                                                                                                                                                                                                                                                                                                                                                                              134\n",
       "[Air conditioning, Power windows]                                                                                                                                                                                                                                                                                                                                                                                                                       130\n",
       "[Air conditioning, Armrest, Automatic climate control, Cruise control, Electrical side mirrors, Leather steering wheel, Light sensor, Lumbar support, Multi-function steering wheel, Navigation system, Park Distance Control, Parking assist system sensors front, Parking assist system sensors rear, Power windows, Rain sensor, Seat heating, Start-stop system]                                                                                    105\n",
       "                                                                                                                                                                                                                                                                                                                                                                                                                                                       ... \n",
       "[Air conditioning, Automatic climate control, Auxiliary heating, Cruise control, Electrically adjustable seats, Electrical side mirrors, Heated steering wheel, Keyless central door lock, Light sensor, Multi-function steering wheel, Navigation system, Park Distance Control, Parking assist system camera, Parking assist system sensors front, Parking assist system sensors rear, Power windows, Rain sensor, Seat heating, Seat ventilation]      1\n",
       "[Air conditioning, Automatic climate control, Multi-function steering wheel, Power windows, Split rear seats]                                                                                                                                                                                                                                                                                                                                             1\n",
       "[Air conditioning, Armrest, Automatic climate control, Electrical side mirrors, Leather steering wheel, Light sensor, Lumbar support, Multi-function steering wheel, Navigation system, Park Distance Control, Parking assist system sensors rear, Power windows, Rain sensor, Seat heating, Split rear seats, Start-stop system, Tinted windows]                                                                                                         1\n",
       "[Air conditioning, Cruise control, Electrical side mirrors, Keyless central door lock, Multi-function steering wheel, Park Distance Control, Parking assist system sensors rear, Power windows, Seat heating]                                                                                                                                                                                                                                             1\n",
       "[Air conditioning, Armrest, Automatic climate control, Cruise control, Electric tailgate, Hill Holder, Keyless central door lock, Leather seats, Leather steering wheel, Light sensor, Multi-function steering wheel, Navigation system, Parking assist system camera, Parking assist system sensors front, Parking assist system sensors rear, Power windows, Rain sensor, Split rear seats, Start-stop system]                                          1\n",
       "Name: Comfort & Convenience, Length: 6199, dtype: int64"
      ]
     },
     "execution_count": 270,
     "metadata": {},
     "output_type": "execute_result"
    }
   ],
   "source": [
    "df['Comfort & Convenience'].value_counts(dropna=False)"
   ]
  },
  {
   "cell_type": "code",
   "execution_count": null,
   "id": "7e59632a",
   "metadata": {},
   "outputs": [],
   "source": []
  },
  {
   "cell_type": "markdown",
   "id": "dc72baab",
   "metadata": {},
   "source": [
    "# 'Entertainment & Media', "
   ]
  },
  {
   "cell_type": "code",
   "execution_count": 271,
   "id": "c36a2a88",
   "metadata": {},
   "outputs": [
    {
     "ename": "TypeError",
     "evalue": "unhashable type: 'list'",
     "output_type": "error",
     "traceback": [
      "\u001b[1;31m---------------------------------------------------------------------------\u001b[0m",
      "\u001b[1;31mTypeError\u001b[0m                                 Traceback (most recent call last)",
      "\u001b[1;32mpandas\\_libs\\hashtable_class_helper.pxi\u001b[0m in \u001b[0;36mpandas._libs.hashtable.PyObjectHashTable.map_locations\u001b[1;34m()\u001b[0m\n",
      "\u001b[1;31mTypeError\u001b[0m: unhashable type: 'list'"
     ]
    },
    {
     "name": "stderr",
     "output_type": "stream",
     "text": [
      "Exception ignored in: 'pandas._libs.index.IndexEngine._call_map_locations'\n",
      "Traceback (most recent call last):\n",
      "  File \"pandas\\_libs\\hashtable_class_helper.pxi\", line 4588, in pandas._libs.hashtable.PyObjectHashTable.map_locations\n",
      "TypeError: unhashable type: 'list'\n"
     ]
    },
    {
     "data": {
      "text/plain": [
       "NaN                                                                                                          1374\n",
       "[Bluetooth, Hands-free equipment, On-board computer, Radio, USB]                                             1282\n",
       "[Bluetooth, Hands-free equipment, MP3, On-board computer, Radio, USB]                                         982\n",
       "[Bluetooth, CD player, Hands-free equipment, MP3, On-board computer, Radio, USB]                              783\n",
       "[On-board computer, Radio]                                                                                    487\n",
       "                                                                                                             ... \n",
       "[CD player, Hands-free equipment, On-board computer, Radio, Sound system, Television]                           1\n",
       "[Bluetooth, CD player, Digital radio, MP3, Radio, Sound system, USB]                                            1\n",
       "[CD player, Hands-free equipment, MP3, Radio, USB]                                                              1\n",
       "[Bluetooth, Digital radio, On-board computer, Radio, Television, USB]                                           1\n",
       "[CD player, Digital radio, Hands-free equipment, On-board computer, Radio, Sound system, Television, USB]       1\n",
       "Name: Entertainment & Media, Length: 347, dtype: int64"
      ]
     },
     "execution_count": 271,
     "metadata": {},
     "output_type": "execute_result"
    }
   ],
   "source": [
    "df['Entertainment & Media'].value_counts(dropna=False)"
   ]
  },
  {
   "cell_type": "code",
   "execution_count": null,
   "id": "b9076cc9",
   "metadata": {},
   "outputs": [],
   "source": []
  },
  {
   "cell_type": "markdown",
   "id": "84834dd5",
   "metadata": {},
   "source": [
    "# 'Extras',"
   ]
  },
  {
   "cell_type": "code",
   "execution_count": 273,
   "id": "595a9aca",
   "metadata": {},
   "outputs": [
    {
     "ename": "TypeError",
     "evalue": "unhashable type: 'list'",
     "output_type": "error",
     "traceback": [
      "\u001b[1;31m---------------------------------------------------------------------------\u001b[0m",
      "\u001b[1;31mTypeError\u001b[0m                                 Traceback (most recent call last)",
      "\u001b[1;32mpandas\\_libs\\hashtable_class_helper.pxi\u001b[0m in \u001b[0;36mpandas._libs.hashtable.PyObjectHashTable.map_locations\u001b[1;34m()\u001b[0m\n",
      "\u001b[1;31mTypeError\u001b[0m: unhashable type: 'list'"
     ]
    },
    {
     "name": "stderr",
     "output_type": "stream",
     "text": [
      "Exception ignored in: 'pandas._libs.index.IndexEngine._call_map_locations'\n",
      "Traceback (most recent call last):\n",
      "  File \"pandas\\_libs\\hashtable_class_helper.pxi\", line 4588, in pandas._libs.hashtable.PyObjectHashTable.map_locations\n",
      "TypeError: unhashable type: 'list'\n"
     ]
    },
    {
     "data": {
      "text/plain": [
       "[Alloy wheels]                                                                                                3245\n",
       "NaN                                                                                                           2962\n",
       "[Alloy wheels, Touch screen]                                                                                   697\n",
       "[Alloy wheels, Voice Control]                                                                                  577\n",
       "[Alloy wheels, Touch screen, Voice Control]                                                                    541\n",
       "                                                                                                              ... \n",
       "[Alloy wheels, Sport package, Sport seats, Sport suspension, Voice Control, Winter tyres]                        1\n",
       "[Alloy wheels, Roof rack, Ski bag, Sport package, Sport seats, Touch screen, Trailer hitch, Voice Control]       1\n",
       "[Roof rack, Ski bag, Touch screen, Trailer hitch]                                                                1\n",
       "[Alloy wheels, Cab or rented Car, Sport suspension, Voice Control]                                               1\n",
       "[Alloy wheels, Catalytic Converter, Roof rack, Ski bag, Sport package, Touch screen, Voice Control]              1\n",
       "Name: Extras, Length: 660, dtype: int64"
      ]
     },
     "execution_count": 273,
     "metadata": {},
     "output_type": "execute_result"
    }
   ],
   "source": [
    "df.Extras.value_counts(dropna=False)"
   ]
  },
  {
   "cell_type": "code",
   "execution_count": null,
   "id": "bf17e712",
   "metadata": {},
   "outputs": [],
   "source": []
  },
  {
   "cell_type": "markdown",
   "id": "56e50794",
   "metadata": {},
   "source": [
    "# 'Safety & Security', "
   ]
  },
  {
   "cell_type": "code",
   "execution_count": 275,
   "id": "baf1d4c7",
   "metadata": {},
   "outputs": [
    {
     "ename": "TypeError",
     "evalue": "unhashable type: 'list'",
     "output_type": "error",
     "traceback": [
      "\u001b[1;31m---------------------------------------------------------------------------\u001b[0m",
      "\u001b[1;31mTypeError\u001b[0m                                 Traceback (most recent call last)",
      "\u001b[1;32mpandas\\_libs\\hashtable_class_helper.pxi\u001b[0m in \u001b[0;36mpandas._libs.hashtable.PyObjectHashTable.map_locations\u001b[1;34m()\u001b[0m\n",
      "\u001b[1;31mTypeError\u001b[0m: unhashable type: 'list'"
     ]
    },
    {
     "name": "stderr",
     "output_type": "stream",
     "text": [
      "Exception ignored in: 'pandas._libs.index.IndexEngine._call_map_locations'\n",
      "Traceback (most recent call last):\n",
      "  File \"pandas\\_libs\\hashtable_class_helper.pxi\", line 4588, in pandas._libs.hashtable.PyObjectHashTable.map_locations\n",
      "TypeError: unhashable type: 'list'\n"
     ]
    },
    {
     "data": {
      "text/plain": [
       "NaN                                                                                                                                                                                                                                                                                                                                                                                  982\n",
       "[ABS, Central door lock, Daytime running lights, Driver-side airbag, Electronic stability control, Fog lights, Immobilizer, Isofix, Passenger-side airbag, Power steering, Side airbag, Tire pressure monitoring system, Traction control]                                                                                                                                           538\n",
       "[ABS, Central door lock, Daytime running lights, Driver-side airbag, Electronic stability control, Immobilizer, Isofix, Passenger-side airbag, Power steering, Side airbag, Tire pressure monitoring system, Traction control]                                                                                                                                                       480\n",
       "[ABS, Central door lock, Daytime running lights, Driver-side airbag, Electronic stability control, Immobilizer, Isofix, Passenger-side airbag, Power steering, Side airbag, Tire pressure monitoring system, Traction control, Xenon headlights]                                                                                                                                     275\n",
       "[ABS, Central door lock, Daytime running lights, Driver-side airbag, Electronic stability control, Fog lights, Immobilizer, Isofix, LED Daytime Running Lights, Passenger-side airbag, Power steering, Side airbag, Tire pressure monitoring system, Traction control]                                                                                                               272\n",
       "                                                                                                                                                                                                                                                                                                                                                                                    ... \n",
       "[ABS, Alarm system, Central door lock, Central door lock with remote control, Daytime running lights, Driver-side airbag, Electronic stability control, Emergency system, Fog lights, Head airbag, Immobilizer, Isofix, Passenger-side airbag, Power steering, Side airbag, Tire pressure monitoring system, Traction control]                                                         1\n",
       "[ABS, Central door lock, Driver-side airbag, Electronic stability control, Immobilizer, Isofix, LED Headlights, Passenger-side airbag, Power steering, Side airbag, Tire pressure monitoring system, Traction control, Xenon headlights]                                                                                                                                               1\n",
       "[ABS, Central door lock, Daytime running lights, Driver-side airbag, Electronic stability control, Emergency brake assistant, Immobilizer, Isofix, LED Daytime Running Lights, LED Headlights, Passenger-side airbag, Side airbag, Tire pressure monitoring system, Traction control, Xenon headlights]                                                                                1\n",
       "[ABS, Alarm system, Central door lock, Central door lock with remote control, Driver-side airbag, Head airbag, Isofix, Passenger-side airbag, Power steering, Rear airbag, Side airbag]                                                                                                                                                                                                1\n",
       "[ABS, Adaptive Cruise Control, Alarm system, Central door lock, Central door lock with remote control, Daytime running lights, Driver-side airbag, Electronic stability control, Fog lights, Head airbag, Immobilizer, Isofix, LED Daytime Running Lights, LED Headlights, Passenger-side airbag, Power steering, Side airbag, Tire pressure monitoring system, Traction control]      1\n",
       "Name: Safety & Security, Length: 4444, dtype: int64"
      ]
     },
     "execution_count": 275,
     "metadata": {},
     "output_type": "execute_result"
    }
   ],
   "source": [
    "df['Safety & Security'].value_counts(dropna=False)"
   ]
  },
  {
   "cell_type": "code",
   "execution_count": null,
   "id": "d719238c",
   "metadata": {},
   "outputs": [],
   "source": []
  },
  {
   "cell_type": "markdown",
   "id": "79468d5b",
   "metadata": {},
   "source": [
    "# 'description', "
   ]
  },
  {
   "cell_type": "code",
   "execution_count": 276,
   "id": "441b5cb2",
   "metadata": {},
   "outputs": [
    {
     "ename": "TypeError",
     "evalue": "unhashable type: 'list'",
     "output_type": "error",
     "traceback": [
      "\u001b[1;31m---------------------------------------------------------------------------\u001b[0m",
      "\u001b[1;31mTypeError\u001b[0m                                 Traceback (most recent call last)",
      "\u001b[1;32mpandas\\_libs\\hashtable_class_helper.pxi\u001b[0m in \u001b[0;36mpandas._libs.hashtable.PyObjectHashTable.map_locations\u001b[1;34m()\u001b[0m\n",
      "\u001b[1;31mTypeError\u001b[0m: unhashable type: 'list'"
     ]
    },
    {
     "name": "stderr",
     "output_type": "stream",
     "text": [
      "Exception ignored in: 'pandas._libs.index.IndexEngine._call_map_locations'\n",
      "Traceback (most recent call last):\n",
      "  File \"pandas\\_libs\\hashtable_class_helper.pxi\", line 4588, in pandas._libs.hashtable.PyObjectHashTable.map_locations\n",
      "TypeError: unhashable type: 'list'\n"
     ]
    },
    {
     "data": {
      "text/plain": [
       "[]                                                                                                                                                                                                                                                                                                                                                                                                                                                                                                                                                                                                                                                                                                                                                                                                                                                                                                                                                                                                                                                                                                                                                                                                                                                                                                                                                                                                                                                                                                                                                                                                                                                                                                                                                                                                                                                                                                                                                                                                                                                                                                                                                                                                                                                                                                                                                                                                                                                                                                                                                                                                                                                                                                                                                                                                                                                                                                                                                                                                                                                                                                                                                                                 636\n",
       "[\\n, \\n]                                                                                                                                                                                                                                                                                                                                                                                                                                                                                                                                                                                                                                                                                                                                                                                                                                                                                                                                                                                                                                                                                                                                                                                                                                                                                                                                                                                                                                                                                                                                                                                                                                                                                                                                                                                                                                                                                                                                                                                                                                                                                                                                                                                                                                                                                                                                                                                                                                                                                                                                                                                                                                                                                                                                                                                                                                                                                                                                                                                                                                                                                                                                                                            30\n",
       "[\\nSichern Sie sich diesen Opel Astra K 1.4 SIDI Turbo Innovation Start/Stop zum Top-Preis inklusive dem, AUTOHERO-RUNDUM-SORGLOS-PAKET,  , Infos:,  2.Hand, deutsche Auslieferung, Unfallfrei, scheckheftgepflegt, mindestens 12 Monate gültige HU und AU,  , Highlights,  , Rückfahrkamera,  , Voll-LED-Matrix-Scheinwerfer (IntelliLux),  , Audio-Navigationssystem Navi 900 Europa Touch,  , Spurassistent,  , Leichtmetallfelgen , Komfort,  , Sitzheizung vorn,  , Klimaautomatik 2-Zonen,  , Parkpilotsystem vorn und hinten,  , 6-Stufen Automatikgetriebe,  , Tempomat (Geschwindigkeits-Regelanlage) mit Begrenzer ,  , Berganfahrassistent ,  , Servolenkung,  , Lendenwirbelstütze elektropneumatisch für Fahrer ,  , Kopfstützen vorn und hinten ,  , Multifunktionslenkrad in Leder, beheizbar ,  , Mittelarmlehne vorn verschiebbar,  , Zentralverriegelung mit Fernbedienung,  , Fensterheber elektrisch vorn + hinten,  , Berganfahr-Assistent (HSA, Hill Start Assist), Multimedia,  , 8 Zoll Touchscreen-Farbdisplay,  , Verkehrszeichenerkennung,  , Audiostreaming ,  , Apple CarPlay und Android Auto,  , 6 Lautsprecher ,  , Bluetooth-Freisprecheinrichtung ,  , Sprachsteuerung,  , Bordcomputer,  , Multimedia-Schnittstelle (USB / AUX-IN), Licht und Sicht,  , Außenspiegel elektrisch verstell-, heiz- und anklappbar,  , Abbiegelicht,  , LED Tagfahrlicht,  , Nebelscheinwerfer,  , Ambientebeleuchtung,  , Innenrückspiegel automatisch abblendend,  , Fernlichtassistent und Leuchtweitenregulierung ,  , Licht und Regensensor ,  , Wärmeschutzverglasung hinten abgedunkelt (Solar-Protect),  , LED Heckleuchten , Sicherheit,  , Abstandswarner,  , Auffahrwarnsystem,  , Isofix-Aufnahmen für Kindersitz an Rücksitz,  , Frontkamera,  , Airbag für Fahrer- und Beifahrerseite,  , Wegfahrsperre,  , ...]                                                                                                                                                                                                                                                                                                                                                                                                                                                                                                                                                                                                                                                                                                                                                                                                                                                                                                                                                                                                                                                                                                                                                                                                                                                                                                                                      27\n",
       "[\\n, Fahrzeugbeschreibung,  Sichern Sie sich diesen Renault Clio 1.6 TCE Energy Sport Trophy zum Top-Preis inklusive dem , AUTOHERO-RUNDUM-SORGLOS-PAKET,  , Infos:,  1.Hand, deutsche Auslieferung, Unfallfrei, scheckheftgepflegt,  , Highlights,  , Audio-Navigationssystem R-Link Evolution mit Touchscreen und Carminat TomTom,  , Sportsitze ,  , Sportfahrwerk,  , Scheinwerfer Full-LED , Komfort,  , Geschwindigkeits-Regelanlage (Tempomat) ,  , Klimaanlage,  , Einparkhilfe hinten,  , Multifunktionslenkrad (Sport/Leder) mit Schaltwippen/-tasten ,  , Fensterheber elektr. mit Impulsgeber links/rechts vorn,  , Zentralverriegelung / Startanlage Handsfree Entry & Drive ,  , Berganfahr-Assistent (HSA) , Multimedia,  , Audiosystem: Radio R & GO (Bluetooth, DAB-Tuner),  , Bordcomputer,  , Freisprecheinrichtung Bluetooth ,  , USB-Anschluss inkl. AUX-IN-Anschluss (Plug & Music) , Licht und Sicht,  , Außenspiegel elektr. verstell- und heizbar ,  , Licht- und Regensensor ,  , Tagfahrlicht LED ,  , Nebelscheinwerfer LED ,  , Coming-Home-Lichtfunktion ,  , Heckleuchten LED , Sicherheit,  , Isofix-Aufnahmen für Kindersitz ,  , Seitenairbag vorn,  , Wegfahrsperre,  , Differentialsperre,  , Bremsassistent ,  , Elektron. Stabilitäts-Programm (ESP),  , Anti-Blockier-System (ABS),  , Anti-Submarining-Airbag im Fond,  , Airbag Fahrer-/Beifahrerseite ,  , Differentialsperre ,  , Reifendruck-Kontrollsystem ,  , Untersteuerungskontrolle (USC) ,  , Antischlupfregelung (ASR) , Weiteres,  , Start/Stop-Anlage ,  , Servolenkung geschwindigkeitsabhängig,  , R.S. Drive (Fahrmodusschalter) ,  , Gepäckraumabdeckung / Rollo ,  , Heckdiffusor ,  , LM-Felgen ,  , Heckspoiler (Renault Sport) ,  , Pedale Aluminium ,  , Energierückgewinnung (Energy Smart Management) , ...]                                                                                                                                                                                                                                                                                                                                                                                                                                                                                                                                                                                                                                                                                                                                                                                                                                                                                                                                                                                                                                                                                                                                                                                                                                                                                                                                                       27\n",
       "[\\n, Fahrzeugbeschreibung,  Sichern Sie sich diesen Audi A1 1.4 TDI Design zum Top-Preis inklusive dem, AUTOHERO-RUNDUM-SORGLOS-PAKET,  , Infos:,  2. Hand, deutsche Auslieferung, Unfallfrei, scheckheftgepflegt ,  , Highlights,  , Leichtmetallfelgen,  , Sitzheizung vorn,  , Sportsitze vorn,  , Dynamik-Fahrwerk,  , Multi-Media-Interface MMI Navigation,  , Einparkhilfe hinten (APS),  , CO2-optimiert (Ausführung e, Ultra) ,  , Komfort,  , Klimaautomatik,  , Mittelarmlehne vorn mit Fach,  , Fensterheber elektrisch vorn,  , Zentralverriegelung mit Fernbedienung,  , Berganfahr-Assistent,  , Multifunktionslederlenkrad,  , Rücksitzlehne geteilt/klappbar,  , Sitze vorn höhenverstellbar ,  , Lendenwirbelstützen verstellbar ,  , Multimedia,  , Audi music interface,  , Fahrer-Informations-System (FIS),  , Bluetooth-Freisprecheinrichtung,  , Licht und Sicht,  , Außenspiegel elektrisch verstell- und heizbar, beide,  , Tagfahrlicht,  , Scheibenwaschdüsen heizbar,  , Licht- und Regensensor,  , Nebelscheinwerfer integriert,  , Wärmeschutzverglasung grün getönt,  , Heckleuchten LED,  , Sicherheit,  , Isofix-Aufnahmen für Kindersitz,  , Bremsassistent,  , Seitenairbag vorn,  , Reifenkontroll-Anzeige,  , Anti-Blockier-System (ABS),  , Wegfahrsperre (elektronisch),  , Airbag Fahrer-/Beifahrerseite,  , Antriebs-Schlupfregelung (ASR),  , Kopf-Airbag-System (Sideguard),  , Elektronische Differentialsperre (EDS),  , Elektronisches Stabilitäts-Programm (ESP),  , Weiteres,  , Start/Stop-Anlage,  , Wagenheber,  , Servolenkung,  , ...]                                                                                                                                                                                                                                                                                                                                                                                                                                                                                                                                                                                                                                                                                                                                                                                                                                                                                                                                                                                                                                                                                                                                                                                                                                                                                                                                                                                                                                                                                                                                                                                         27\n",
       "                                                                                                                                                                                                                                                                                                                                                                                                                                                                                                                                                                                                                                                                                                                                                                                                                                                                                                                                                                                                                                                                                                                                                                                                                                                                                                                                                                                                                                                                                                                                                                                                                                                                                                                                                                                                                                                                                                                                                                                                                                                                                                                                                                                                                                                                                                                                                                                                                                                                                                                                                                                                                                                                                                                                                                                                                                                                                                                                                                                                                                                                                                                                                                                  ... \n",
       "[\\n, Ausstattungspakete:,  Ablagepaket, Assistenzsysteme:,  Sprachbedienung, Einparkhilfe hinten, Licht und Sicht:,  Tagfahrlicht, Audio & Kommunikation:,  Multi Media Interface MMI, Audio-Schnittstelle: Audi music interface, Räder und Reifen:,  Leichtmetallfelgen: 16 Zoll Aluminium Gussräder, Ganzjahresreifen, Komfort:,  Climatronic, Fahrer-/Beifahrersitz höhenverstellbar, Lordosenstütze Fahrer/Beifahrer, Sitzheizung Fahrer/Beifahrer, Easy-Entry Einstiegshilfe, Armauflage Fahrer/Beifahrer, Servotronic, Zentralver. mit Fernbedienung, Interieur:,  Sitze Stoff schwarz-schwarz-felsgrau, Innenfarbe schwarz, Multifunktions-Sport-/Lederlenkrad, Rücksitze klappbar, Exterieur:,  Sportfahrwerk, Außenspiegel elekt. und beheizt, Start-Stopp System, Sicherheit:,  6 x Airbag, Antriebsschlupfregelung ASR, Reifendruckkontrolle, Weiteres:,  3 Jahre Neuwagenanschlussgarantie bis max. 100.000km, Lehne geteilt umlegbar, geschwindigkeitsabhängig, Nichtraucherfahrzeug, Scheckheft gepflegtes Fahrzeug, Bestand Inzahlungnahme, Weiteres: ehemalige unverbindliche Preisempfehlung des Herstellers 20.974 EUR. TOP Angebot vom VW/Audi/Skoda – Vertragshändler. Besuchen Sie uns auf über 100.000 qm Ausstellungsfläche und sprechen Sie persönlich mit einem/einer unserer 46 Verkaufsberater/-innen. Unsere Öffnungszeiten im Verkauf: Mo.-Fr. 8:00-20:00 – Sa. 9:00-16:00 Willkommen zur Probefahrt. Finanzierung zu Sonderkonditionen, auch ohne Anzahlung möglich. Gerne nehmen wir Ihren Gebrauchtwagen in Zahlung. Irrtümer und Änderungen vorbehalten. Weitere Fahrzeuge finden Sie auf www.potti.de, Audi GW:plus, Kontakt:,  Ihr Direktruf 023819089002, \\n]                                                                                                                                                                                                                                                                                                                                                                                                                                                                                                                                                                                                                                                                                                                                                                                                                                                                                                                                                                                                                                                                                                                                                                                                                                                                                                                                                                                                                                                                                    1\n",
       "[\\n, Highlights: ,  Herstellereigene Garantie 24 Monate, Technik + Sicherheit: , ESP; ASR; Kopfairbags; Heckscheibenwischer; Innenspiegel automatisch abblendend; Außentemperatur-Anzeige; Dynamiklenkung; Elektr. Bremssystem (EBS); Sonstiges Technik & Sicherheit, Multimedia: , Multimediabuchse; Bluetooth; Radio, Assistenzsysteme: , Berganfahrassistent; Reifendruck-Kontrolle; Sonstiges Assistenzsysteme, Innen: , Klima; Bordcomputer; Fensterheber elektr. 2*; Fußmatten; Sonstiges Innenausstattung, Sitze + Polster: , Komfortsitz(e) vorn; Einstieghilfe (\"Easy Entry\"); Fahrersitz höhenverstellbar; Rücksitzbank umlegbar; Rückbank geteilt; Sonstiges Sitze & Polster; Iso-Fix, Aussen: , elektr. Aussenspiegel; Zentralverriegelung: Keyless Entry; getönte Scheiben; Dämmglas, Scheinwerfer + Leuchten: , Leuchtweitenregulierung; Tagfahrlicht; Halogenscheinwerfer; Sonstiges Scheinwerfer & Leuchten, Räder + Reifen: , Leichtmetallfelgen: 14\"; Sommerreifen, Sonstiges: , CO2-Effizienzklasse: D, \"Wir akzeptieren die Bezahlung mit sicherbezahlen.de\", Fahrzeugstandort: Autohaus Am Ruhrdeich GmbH, Daimlerstrasse 1 in 47167 Duisburg, Änderungen, Zwischenverkauf und Irrtümer vorbehalten!, \\n]                                                                                                                                                                                                                                                                                                                                                                                                                                                                                                                                                                                                                                                                                                                                                                                                                                                                                                                                                                                                                                                                                                                                                                                                                                                                                                                                                                                                                                                                                                                                                                                                                                                                                                                                                                                                                                                                                                                                                       1\n",
       "[\\n, Fahrzeugnummer für Anfragen: LA027224, KL, Serienausstattung, ABS mit elektronischem Bremskraftverteiler (EBV) , Airbag, Fahrer- und Beifahrer (abschaltbar) , Airbag, Kopf vorn und hinten , Airbag, Seiten für Fahrer- und Beifahrer , Antriebs-Schlupf-Regelung (ASR) , Audi connect Notruf (\"eCall\") , Audi pre sense front , Blinker (LED) in den Außenspiegeln integriert , Bremsassistent Folgekollision , Dachkantenspoiler , Drehzahlmesser , Elektrisch einstellbare Außenspiegel , Elektrische Fensterheber vorn und hinten , Elektronische Differenzialsperre (EDS) , Elektronische Stabilisierungskontrolle (ESC) , Fahrer- und Beifahrersitz, höhenverstellbar , Fußmatten vorn und hinten , Gepäckraumabdeckung und ?Beleuchtung , Geschwindigkeitsbegrenzer , Geteilt umklappbare Rücksitzlehne (60:40) , Gurtanlegekontrolle , Halogenscheinwerfer in Freiformtechnik mit Klarglasabdeckung , Heckscheibenwischer und -heizung , Karosserie, verzinkt , Kindersitzvorbereitung ??Isofix?? und Top Tether für die äußeren Fondsitze , Klimaanlage, manuell , Kopfstützen vorn und hinten , Lenkrad, höhenverstellbar , Leuchtweitenregulierung , Licht- und Regensensor , Make-up-Spiegel in den Sonnenblenden , Multifunktions-Leder-Lenkrad im 3-Speichen-Design mit bedientasten für das MMI, Nicht-Raucher-Ausführung , Pollen- und Staubfilter , Radioanlage MMI digitales Kombiinstrument 10,25 Zoll, ohne zusätzliches MMI touch-Display, 1 x SDXC- Kartenleser, 1 × USB-Typ-A-Schnittstelle zum Laden externer Geräte, Bluetooth-Schnittstelle (Freisprechen und Audiostreaming), Sprachbedienung für Telefonie und Medien, 4 Passivlautsprecher vorn mit 40 Watt, AM-/FM-Phasendiversity, geschwindigkeitsabhängige Lautstärkeanpassung, , Radschrauben mit Diebstahlsicherung , Reifen-Reparatur-Set , Reifendruck-Kontrollanzeige , Scheibenwischer mit Intervallschaltung , Service-Intervall-Anzeige , Servolenkung , Spiegelgehäuse außen in schwarz, Spurverlassenswarnung (Beim Verlassen der Spur warnt das System über Vibration im Lenkrad den Fahrer), Stahlräder mit Bereifung 185/65 R15 , Start-Stopp-System mit Rekuperation , Stoßstangen in Wagenfarbe , Tagfahrlicht , Wärmeschutzverglasung , Warndreieck , Zentralverriegelung mit Fernbedienung, Sonderausstattung, Diebstahlwarnanlage , Geschwindigkeitsregelanlage (Tempomat) mit -Begrenzer, Innenspiegel automatisch abblendend, Komfortklimaautomatik 2-Zonen, Leder-Multifunktions-Lenkrad plus im 3-Speichen Design, LED-Heckleuchten, Leichtmetallfelgen 15 Zoll im 5-Arm-Design mit Bereifung 185/65 R15, Mittelarmlehne vorn, Raucherpaket beinhaltet: Aschenbecher und Zigarettenanzünder, Sitzheizung für die Vordersitze, Gern nehmen wir Ihren Gebrauchtwagen in Zahlung. Auf Wunsch bieten wir Ihnen eine maßgeschneiderte Finanzierung mit oder ohne Anzahlung! Eine Garantieverlängerung über CarGarantie von zusätzlichen 60 Monaten ist auch möglich, Preis auf Anfrage ( abhängig von Motor- und Laufleistung ). Unser Team berät Sie in Deutsch, russisch, polnisch, französisch, englisch, und hessisch. Zwischenverkauf und Irrtümer vorbehalten.\\n]      1\n",
       "[\\n, Sitzbezug / Polsterung: Velours / Leder, Audio-Navigationssystem R-Link Evolution mit Touchscreen und Carminat TomTom, Tagfahrlicht LED, Anti-Submarining-Airbag im Fond, Airbag Beifahrerseite abschaltbar, Seitenairbag vorn, Klimaautomatik, Anti-Blockier-System (ABS), Elektron. Stabilitäts-Programm (ESP), Einparkhilfe hinten, Zentralverriegelung / Startanlage Handsfree Entry & Drive, Fensterheber elektr. mit Impulsgeber links vorn, Sitzheizung vorn, Servolenkung geschwindigkeitsabhängig, Sound-System BOSE, Geschwindigkeits-Regelanlage (Tempomat), Start/Stop-Anlage, Fahrassistenz-System: Berganfahr-Assistent (HSA), Wegfahrsperre, Licht- und Regensensor, LM-Felgen, Bordcomputer, Außenspiegel elektr. verstell- und heizbar, Innenspiegel mit Abblendautomatik, Lenkrad (Leder), Mittelarmlehne vorn mit Ablagefach, Gepäckraumabdeckung / Rollo, Automatik-Getriebe, Rücksitzlehne geteilt/klappbar, Coming-Home-Lichtfunktion, Reifendruck-Kontrollsystem, Komfort-Paket Plus, Isofix-Aufnahmen für Kindersitz, Isofix-Aufnahmen für Kindersitz an Beifahrersitz, Reserverad in Fahrbereifung, Nebelscheinwerfer LED, AH Standard, Modellpflege, Komfort-Paket, Sitz vorn links höhenverstellbar, Sitz vorn rechts höhenverstellbar, Modularitäts-Paket, Lenksäule (Lenkrad) höhenverstellbar, Lenksäule (Lenkrad) längsverstellbar, Techno-Paket, Look-Paket Chrom (außen), Kühlergrill verchromt, Seitenschutzleisten mit Chromeinlage, Heckzierleiste Chrom, Look-Paket Klavierlack schwarz (innen), Sondermodell Bose Edition, Außenspiegel schwarz hochglänzend, Scheinwerfer Full-LED, Heckleuchten LED, Nebelscheinwerfer, Fensterzierleisten verchromt, Stoßfänger Wagenfarbe, Verglasung hinten abgedunkelt, Subwoofer, Schaltpunktanzeige, Airbag Fahrer-/Beifahrerseite, Kopfstützen verstellbar, Fensterheber elektrisch hinten, Türgriffe außen Wagenfarbe, Gurtstraffer, Leseleuchte Beifahrerseite, Elektr. Bremskraftverteilung, Bremsassistent, Untersteuerungskontrolle (USC), Antischlupfregelung (ASR), Getriebe 6-Gang - Doppelkupplungsgetriebe, Schadstoffarm nach Abgasnorm Euro 6, Energierückgewinnung (Energy Smart Management), Finanzierungsbeispiel, *, Barzahlungspreis: 18.990,00 Euro, Anzahlung: 3.798,00 Euro, Laufzeit: 72 Monate, Nettokreditbetrag: 15.192,00 Euro, Effektiver Jahreszins: 5,99 %, Sollzinssatz (gebunden) p.a.: 5,83 %, Bruttokreditbetrag: 18.041,00 Euro, Monatliche Rate: 251,00 Euro, *Repräsentatives Finanzierungsbeispiel der Renault Bank / Renault Leasing, Geschäftsbereich der RCI Banque S.A. Niederlassung Deutschland, Jagenbergstraße 1, 41468 Neuss für Privatkunden, für die das Autohaus als Darlehnsvermittler beratend tätig ist. Bonität vorausgesetzt. Angaben entsprechen zugleich dem 2/3 Beispiel nach § 6a Abs. 3 PAngV.\\n]                                                                                                                                                                                                                                                                                                                                      1\n",
       "[\\nEuro6, Rückfahrkamera, Klimaautomatik 2-fach, Fahrerairbag, Beifahrerairbag, Fenster-/Kopfairbags vorne, Fenster-/Kopfairbags im Fond, Einparkhilfe Kamera, Einparkhilfe Sensoren vorne, Einparkhilfe Sensoren hinten, Traktionskontrolle, Fensterheber elektrisch 4-fach, Sitz links orthopaedisch, Bluetooth Freisprecheinrichtung, Außenspiegel beheizbar, Bremsassistent, Tempomat, ISOFIX Kindersitzhalterung, Leichtmetallfelgen, Lenksäule einstellbar, Gepäckraumabdeckung, weitere Ausstattungen vorhanden,  Airbag Fahrer-/Beifahrerseite, Audiosystem R 4.0 IntelliLink, Außenspiegel Wagenfarbe, Außenspiegel elektr. verstell- und heizbar, elektr. anklappbar, Bordcomputer, Bremsassistent, Dach, Design-Ausführung, Drehzahlmesser, Ecoflex, Einstiegsleisten mit Schriftzug, Elektron. Stabilitäts-Programm Plus (ESP), Fahrassistenz-System: Berganfahr-Assistent (HSA, Hill Start Assist), Fahrassistenz-System: Notbrems-Assistent, Fahrzeugschlüssel (2) beide klappbar, Fensterheber elektrisch vorn + hinten, Fensterzierleisten Edelstahl / Chrom, Feststellbremse elektrisch, Frontkamera, Geschwindigkeits-Regelanlage (Tempomat), Isofix-Aufnahmen für Kindersitz an Rücksitz, Karosserie: 5-türig, Klimaautomatik 2-Zonen, Kopf-Airbag-System, Laderaumabdeckung, Lendenwirbelstütze Sitz vorn links, elektr. verstellbar, Lenkrad mit Multifunktion, Lenksäule (Lenkrad) verstellbar, Licht-Paket, Motor 1,0 Ltr. - 77 kW 12V, Nebelscheinwerfer, OnStar SOS Service, Parkpilotsystem vorn und hinten, Reifendruck-Kontrollsystem, Rückfahrkamera, Schadstoffarm nach Abgasnorm Euro 6, Seitenairbag vorn, Servolenkung geschwindigkeitsabhängig, Start/Stop-Anlage, Steckdose (12V-Anschluß) in Mittelkonsole, Tagfahrlicht LED, Türgriffe außen Wagenfarbe, Wegfahrsperre, Zentralverriegelung mit Fernbedienung, ecoFLEX-Paket, incl. Winterkompletträder , \\n]                                                                                                                                                                                                                                                                                                                                                                                                                                                                                                                                                                                                                                                                                                                                                                                                                                                                                                                                                                                                                                                                                                                                                                                                                                                                                   1\n",
       "Name: description, Length: 12874, dtype: int64"
      ]
     },
     "execution_count": 276,
     "metadata": {},
     "output_type": "execute_result"
    }
   ],
   "source": [
    "df.description.value_counts(dropna=False)"
   ]
  },
  {
   "cell_type": "code",
   "execution_count": null,
   "id": "09b9a06d",
   "metadata": {},
   "outputs": [],
   "source": []
  },
  {
   "cell_type": "markdown",
   "id": "2fc894e7",
   "metadata": {},
   "source": [
    "# 'Emission Label', "
   ]
  },
  {
   "cell_type": "code",
   "execution_count": 277,
   "id": "6a92c645",
   "metadata": {},
   "outputs": [
    {
     "ename": "TypeError",
     "evalue": "unhashable type: 'list'",
     "output_type": "error",
     "traceback": [
      "\u001b[1;31m---------------------------------------------------------------------------\u001b[0m",
      "\u001b[1;31mTypeError\u001b[0m                                 Traceback (most recent call last)",
      "\u001b[1;32mpandas\\_libs\\hashtable_class_helper.pxi\u001b[0m in \u001b[0;36mpandas._libs.hashtable.PyObjectHashTable.map_locations\u001b[1;34m()\u001b[0m\n",
      "\u001b[1;31mTypeError\u001b[0m: unhashable type: 'list'"
     ]
    },
    {
     "name": "stderr",
     "output_type": "stream",
     "text": [
      "Exception ignored in: 'pandas._libs.index.IndexEngine._call_map_locations'\n",
      "Traceback (most recent call last):\n",
      "  File \"pandas\\_libs\\hashtable_class_helper.pxi\", line 4588, in pandas._libs.hashtable.PyObjectHashTable.map_locations\n",
      "TypeError: unhashable type: 'list'\n"
     ]
    },
    {
     "data": {
      "text/plain": [
       "NaN                     11934\n",
       "[\\n4 (Green)\\n]          3553\n",
       "[\\n1 (No sticker)\\n]      381\n",
       "[[], [], []]               40\n",
       "[\\n5 (Blue)\\n]              8\n",
       "[\\n3 (Yellow)\\n]            2\n",
       "[\\n2 (Red)\\n]               1\n",
       "Name: Emission Label, dtype: int64"
      ]
     },
     "execution_count": 277,
     "metadata": {},
     "output_type": "execute_result"
    }
   ],
   "source": [
    "df['Emission Label'].value_counts(dropna=False)"
   ]
  },
  {
   "cell_type": "code",
   "execution_count": null,
   "id": "8f08c4fc",
   "metadata": {},
   "outputs": [],
   "source": []
  },
  {
   "cell_type": "markdown",
   "id": "b2bcaad6",
   "metadata": {},
   "source": [
    "# 'Gears',"
   ]
  },
  {
   "cell_type": "code",
   "execution_count": 278,
   "id": "44e66723",
   "metadata": {},
   "outputs": [
    {
     "ename": "TypeError",
     "evalue": "unhashable type: 'list'",
     "output_type": "error",
     "traceback": [
      "\u001b[1;31m---------------------------------------------------------------------------\u001b[0m",
      "\u001b[1;31mTypeError\u001b[0m                                 Traceback (most recent call last)",
      "\u001b[1;32mpandas\\_libs\\hashtable_class_helper.pxi\u001b[0m in \u001b[0;36mpandas._libs.hashtable.PyObjectHashTable.map_locations\u001b[1;34m()\u001b[0m\n",
      "\u001b[1;31mTypeError\u001b[0m: unhashable type: 'list'"
     ]
    },
    {
     "name": "stderr",
     "output_type": "stream",
     "text": [
      "Exception ignored in: 'pandas._libs.index.IndexEngine._call_map_locations'\n",
      "Traceback (most recent call last):\n",
      "  File \"pandas\\_libs\\hashtable_class_helper.pxi\", line 4588, in pandas._libs.hashtable.PyObjectHashTable.map_locations\n",
      "TypeError: unhashable type: 'list'\n"
     ]
    },
    {
     "data": {
      "text/plain": [
       "[\\n6\\n]     5822\n",
       "NaN         4712\n",
       "[\\n5\\n]     3239\n",
       "[\\n7\\n]     1908\n",
       "[\\n8\\n]      224\n",
       "[\\n9\\n]        6\n",
       "[\\n4\\n]        2\n",
       "[\\n3\\n]        2\n",
       "[\\n1\\n]        2\n",
       "[\\n50\\n]       1\n",
       "[\\n2\\n]        1\n",
       "Name: Gears, dtype: int64"
      ]
     },
     "execution_count": 278,
     "metadata": {},
     "output_type": "execute_result"
    }
   ],
   "source": [
    "df.Gears.value_counts(dropna=False)"
   ]
  },
  {
   "cell_type": "code",
   "execution_count": null,
   "id": "d27b64d8",
   "metadata": {},
   "outputs": [],
   "source": []
  },
  {
   "cell_type": "markdown",
   "id": "ba9293e6",
   "metadata": {},
   "source": [
    "# 'Country version', "
   ]
  },
  {
   "cell_type": "code",
   "execution_count": 280,
   "id": "14e937f8",
   "metadata": {},
   "outputs": [
    {
     "ename": "TypeError",
     "evalue": "unhashable type: 'list'",
     "output_type": "error",
     "traceback": [
      "\u001b[1;31m---------------------------------------------------------------------------\u001b[0m",
      "\u001b[1;31mTypeError\u001b[0m                                 Traceback (most recent call last)",
      "\u001b[1;32mpandas\\_libs\\hashtable_class_helper.pxi\u001b[0m in \u001b[0;36mpandas._libs.hashtable.PyObjectHashTable.map_locations\u001b[1;34m()\u001b[0m\n",
      "\u001b[1;31mTypeError\u001b[0m: unhashable type: 'list'"
     ]
    },
    {
     "name": "stderr",
     "output_type": "stream",
     "text": [
      "Exception ignored in: 'pandas._libs.index.IndexEngine._call_map_locations'\n",
      "Traceback (most recent call last):\n",
      "  File \"pandas\\_libs\\hashtable_class_helper.pxi\", line 4588, in pandas._libs.hashtable.PyObjectHashTable.map_locations\n",
      "TypeError: unhashable type: 'list'\n"
     ]
    },
    {
     "data": {
      "text/plain": [
       "NaN                     8333\n",
       "[\\nGermany\\n]           4502\n",
       "[\\nItaly\\n]             1038\n",
       "[\\nEuropean Union\\n]     507\n",
       "[\\nNetherlands\\n]        464\n",
       "[\\nSpain\\n]              325\n",
       "[\\nBelgium\\n]            314\n",
       "[\\nAustria\\n]            208\n",
       "[\\nCzech Republic\\n]      52\n",
       "[\\nPoland\\n]              49\n",
       "[\\nFrance\\n]              38\n",
       "[\\nDenmark\\n]             33\n",
       "[\\nHungary\\n]             28\n",
       "[\\nJapan\\n]                8\n",
       "[\\nSlovakia\\n]             4\n",
       "[\\nCroatia\\n]              4\n",
       "[\\nSweden\\n]               3\n",
       "[\\nBulgaria\\n]             2\n",
       "[\\nRomania\\n]              2\n",
       "[\\nEgypt\\n]                1\n",
       "[\\nSerbia\\n]               1\n",
       "[\\nLuxembourg\\n]           1\n",
       "[\\nSwitzerland\\n]          1\n",
       "[\\nSlovenia\\n]             1\n",
       "Name: Country version, dtype: int64"
      ]
     },
     "execution_count": 280,
     "metadata": {},
     "output_type": "execute_result"
    }
   ],
   "source": [
    "df['Country version'].value_counts(dropna=False)"
   ]
  },
  {
   "cell_type": "code",
   "execution_count": null,
   "id": "bc65f89c",
   "metadata": {},
   "outputs": [],
   "source": []
  },
  {
   "cell_type": "code",
   "execution_count": null,
   "id": "f7fc6a07",
   "metadata": {},
   "outputs": [],
   "source": []
  },
  {
   "cell_type": "code",
   "execution_count": null,
   "id": "e6d4aefb",
   "metadata": {},
   "outputs": [],
   "source": []
  },
  {
   "cell_type": "code",
   "execution_count": 260,
   "id": "f1d1fb04",
   "metadata": {},
   "outputs": [
    {
     "data": {
      "text/plain": [
       "Index(['make_model', 'body_type', 'price', 'vat', 'km', 'registration', 'hp',\n",
       "       'Type', 'Previous Owners', 'Next Inspection', 'Inspection new',\n",
       "       'Warranty', 'Full Service', 'Non-smoking Vehicle', 'null', 'Make',\n",
       "       'Model', 'Offer Number', 'First Registration', 'Body Color',\n",
       "       'Paint Type', 'Body Color Original', 'Upholstery', 'Body',\n",
       "       'Nr. of Doors', 'Nr. of Seats', 'Model Code', 'Gearing Type',\n",
       "       'Displacement', 'Cylinders', 'Weight', 'Drive chain', 'Fuel',\n",
       "       'Consumption', 'CO2 Emission', 'Emission Class',\n",
       "       'Comfort & Convenience', 'Entertainment & Media', 'Extras',\n",
       "       'Safety & Security', 'description', 'Emission Label', 'Gears',\n",
       "       'Country version', 'Nr_of_Seats', 'Nr_of_Doors', 'Model_Code'],\n",
       "      dtype='object')"
      ]
     },
     "execution_count": 260,
     "metadata": {},
     "output_type": "execute_result"
    }
   ],
   "source": [
    "df.columns"
   ]
  },
  {
   "cell_type": "code",
   "execution_count": 281,
   "id": "7e102d61",
   "metadata": {},
   "outputs": [
    {
     "data": {
      "text/plain": [
       "Index(['make_model', 'body_type', 'price', 'vat', 'km', 'registration', 'hp',\n",
       "       'Type', 'Previous Owners', 'Next Inspection', 'Inspection new',\n",
       "       'Warranty', 'Full Service', 'Non-smoking Vehicle', 'null', 'Make',\n",
       "       'Model', 'Offer Number', 'First Registration', 'Body Color',\n",
       "       'Paint Type', 'Body Color Original', 'Upholstery', 'Body',\n",
       "       'Nr. of Doors', 'Nr. of Seats', 'Model Code', 'Gearing Type',\n",
       "       'Displacement', 'Cylinders', 'Weight', 'Drive chain', 'Fuel',\n",
       "       'Consumption', 'CO2 Emission', 'Emission Class',\n",
       "       'Comfort & Convenience', 'Entertainment & Media', 'Extras',\n",
       "       'Safety & Security', 'description', 'Emission Label', 'Gears',\n",
       "       'Country version', 'Nr_of_Seats', 'Nr_of_Doors', 'Model_Code'],\n",
       "      dtype='object')"
      ]
     },
     "execution_count": 281,
     "metadata": {},
     "output_type": "execute_result"
    }
   ],
   "source": [
    "df.columns"
   ]
  },
  {
   "cell_type": "code",
   "execution_count": 289,
   "id": "8af28487",
   "metadata": {},
   "outputs": [],
   "source": [
    "df.drop(['Model Code'],axis=1, inplace=True)"
   ]
  },
  {
   "cell_type": "code",
   "execution_count": 290,
   "id": "07481ab1",
   "metadata": {},
   "outputs": [
    {
     "data": {
      "text/plain": [
       "Index(['make_model', 'body_type', 'price', 'vat', 'km', 'registration', 'hp',\n",
       "       'Type', 'Previous Owners', 'Next Inspection', 'Inspection new',\n",
       "       'Warranty', 'Full Service', 'Non-smoking Vehicle', 'null', 'Make',\n",
       "       'Model', 'Offer Number', 'First Registration', 'Body Color',\n",
       "       'Paint Type', 'Body Color Original', 'Upholstery', 'Body',\n",
       "       'Gearing Type', 'Displacement', 'Cylinders', 'Weight', 'Drive chain',\n",
       "       'Fuel', 'Consumption', 'CO2 Emission', 'Emission Class',\n",
       "       'Comfort & Convenience', 'Entertainment & Media', 'Extras',\n",
       "       'Safety & Security', 'description', 'Emission Label', 'Gears',\n",
       "       'Country version', 'Nr_of_Seats', 'Nr_of_Doors', 'Model_Code'],\n",
       "      dtype='object')"
      ]
     },
     "execution_count": 290,
     "metadata": {},
     "output_type": "execute_result"
    }
   ],
   "source": [
    "df.columns"
   ]
  },
  {
   "cell_type": "code",
   "execution_count": null,
   "id": "7b71a671",
   "metadata": {},
   "outputs": [],
   "source": []
  },
  {
   "cell_type": "code",
   "execution_count": null,
   "id": "365e3ca5",
   "metadata": {},
   "outputs": [],
   "source": []
  }
 ],
 "metadata": {
  "celltoolbar": "Raw Cell Format",
  "kernelspec": {
   "display_name": "Python 3",
   "language": "python",
   "name": "python3"
  },
  "language_info": {
   "codemirror_mode": {
    "name": "ipython",
    "version": 3
   },
   "file_extension": ".py",
   "mimetype": "text/x-python",
   "name": "python",
   "nbconvert_exporter": "python",
   "pygments_lexer": "ipython3",
   "version": "3.8.8"
  }
 },
 "nbformat": 4,
 "nbformat_minor": 5
}
