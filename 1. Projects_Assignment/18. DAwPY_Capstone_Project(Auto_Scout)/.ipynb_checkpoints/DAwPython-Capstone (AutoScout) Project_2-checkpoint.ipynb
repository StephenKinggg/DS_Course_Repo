{
 "cells": [
  {
   "cell_type": "markdown",
   "id": "b90cc4a3-c445-4b46-87df-51be937424df",
   "metadata": {},
   "source": [
    "# WELCOME!"
   ]
  },
  {
   "cell_type": "markdown",
   "id": "db34ebd9-df36-49c8-8404-f00fd1b70ba1",
   "metadata": {},
   "source": [
    "## Introduction\n",
    "Welcome to \"***AutoScout Data Analysis Project***\". This is the capstone project of ***Data Analysis*** Module. **Auto Scout** data which using for this project, scraped from the on-line car trading company in 2019, contains many features of 9 different car models. In this project, you will have the opportunity to apply many commonly used algorithms for Data Cleaning and Exploratory Data Analysis by using many Python libraries such as Numpy, Pandas, Matplotlib, Seaborn, Scipy you will analyze clean dataset.\n",
    "\n",
    "The project consists of 3 parts:\n",
    "* First part is related with 'data cleaning'. It deals with Incorrect Headers, Incorrect Format, Anomalies, Dropping useless columns.\n",
    "* Second part is related with 'filling data'. It deals with Missing Values. Categorical to numeric transformation is done.\n",
    "* Third part is related with 'handling outliers of data' via Visualisation libraries. Some insights are extracted.\n"
   ]
  },
  {
   "cell_type": "markdown",
   "id": "65f3063a-b9d2-42a5-a5d2-e7f01fec8d84",
   "metadata": {},
   "source": [
    "# PART- 1 `( Data Cleaning )`"
   ]
  },
  {
   "cell_type": "code",
   "execution_count": 1,
   "id": "c3f9edcb-b0ba-44c0-957e-2642baa1a0a6",
   "metadata": {},
   "outputs": [],
   "source": [
    "import json\n",
    "import pandas as pd\n",
    "import numpy as np\n",
    "import matplotlib.pyplot as plt\n",
    "%matplotlib inline\n",
    "import seaborn as sns\n",
    "import re"
   ]
  },
  {
   "cell_type": "code",
   "execution_count": 2,
   "id": "0a4c4f9e-02b0-42f9-884f-d23306b905d5",
   "metadata": {},
   "outputs": [],
   "source": [
    "import pandas as pd\n",
    "pd.set_option('display.max_rows', 50)\n",
    "pd.set_option('display.max_columns', 60)\n",
    "pd.set_option('display.width', 5)\n",
    "pd.set_option('display.max_colwidth', 30)"
   ]
  },
  {
   "cell_type": "code",
   "execution_count": 3,
   "id": "d6a428a3-b233-4090-9565-635218456169",
   "metadata": {},
   "outputs": [
    {
     "data": {
      "text/html": [
       "<div>\n",
       "<style scoped>\n",
       "    .dataframe tbody tr th:only-of-type {\n",
       "        vertical-align: middle;\n",
       "    }\n",
       "\n",
       "    .dataframe tbody tr th {\n",
       "        vertical-align: top;\n",
       "    }\n",
       "\n",
       "    .dataframe thead th {\n",
       "        text-align: right;\n",
       "    }\n",
       "</style>\n",
       "<table border=\"1\" class=\"dataframe\">\n",
       "  <thead>\n",
       "    <tr style=\"text-align: right;\">\n",
       "      <th></th>\n",
       "      <th>url</th>\n",
       "      <th>make_model</th>\n",
       "      <th>short_description</th>\n",
       "      <th>body_type</th>\n",
       "      <th>price</th>\n",
       "      <th>vat</th>\n",
       "      <th>km</th>\n",
       "      <th>registration</th>\n",
       "      <th>prev_owner</th>\n",
       "      <th>kW</th>\n",
       "      <th>hp</th>\n",
       "      <th>Type</th>\n",
       "      <th>Previous Owners</th>\n",
       "      <th>Next Inspection</th>\n",
       "      <th>Inspection new</th>\n",
       "      <th>Warranty</th>\n",
       "      <th>Full Service</th>\n",
       "      <th>Non-smoking Vehicle</th>\n",
       "      <th>null</th>\n",
       "      <th>Make</th>\n",
       "      <th>Model</th>\n",
       "      <th>Offer Number</th>\n",
       "      <th>First Registration</th>\n",
       "      <th>Body Color</th>\n",
       "      <th>Paint Type</th>\n",
       "      <th>Body Color Original</th>\n",
       "      <th>Upholstery</th>\n",
       "      <th>Body</th>\n",
       "      <th>Nr. of Doors</th>\n",
       "      <th>Nr. of Seats</th>\n",
       "      <th>Model Code</th>\n",
       "      <th>Gearing Type</th>\n",
       "      <th>Displacement</th>\n",
       "      <th>Cylinders</th>\n",
       "      <th>Weight</th>\n",
       "      <th>Drive chain</th>\n",
       "      <th>Fuel</th>\n",
       "      <th>Consumption</th>\n",
       "      <th>CO2 Emission</th>\n",
       "      <th>Emission Class</th>\n",
       "      <th>\\nComfort &amp; Convenience\\n</th>\n",
       "      <th>\\nEntertainment &amp; Media\\n</th>\n",
       "      <th>\\nExtras\\n</th>\n",
       "      <th>\\nSafety &amp; Security\\n</th>\n",
       "      <th>description</th>\n",
       "      <th>Emission Label</th>\n",
       "      <th>Gears</th>\n",
       "      <th>Country version</th>\n",
       "      <th>Electricity consumption</th>\n",
       "      <th>Last Service Date</th>\n",
       "      <th>Other Fuel Types</th>\n",
       "      <th>Availability</th>\n",
       "      <th>Last Timing Belt Service Date</th>\n",
       "      <th>Available from</th>\n",
       "    </tr>\n",
       "  </thead>\n",
       "  <tbody>\n",
       "    <tr>\n",
       "      <th>0</th>\n",
       "      <td>https://www.autoscout24.co...</td>\n",
       "      <td>Audi A1</td>\n",
       "      <td>Sportback 1.4 TDI S-tronic...</td>\n",
       "      <td>Sedans</td>\n",
       "      <td>15770</td>\n",
       "      <td>VAT deductible</td>\n",
       "      <td>56,013 km</td>\n",
       "      <td>01/2016</td>\n",
       "      <td>2 previous owners</td>\n",
       "      <td>NaN</td>\n",
       "      <td>66 kW</td>\n",
       "      <td>[, Used, , Diesel (Particu...</td>\n",
       "      <td>\\n2\\n</td>\n",
       "      <td>[\\n06/2021\\n, \\n99 g CO2/k...</td>\n",
       "      <td>[\\nYes\\n, \\nEuro 6\\n]</td>\n",
       "      <td>[\\n, \\n, \\n4 (Green)\\n]</td>\n",
       "      <td>[\\n, \\n]</td>\n",
       "      <td>[\\n, \\n]</td>\n",
       "      <td>[]</td>\n",
       "      <td>\\nAudi\\n</td>\n",
       "      <td>[\\n, A1, \\n]</td>\n",
       "      <td>[\\nLR-062483\\n]</td>\n",
       "      <td>[\\n, 2016, \\n]</td>\n",
       "      <td>[\\n, Black, \\n]</td>\n",
       "      <td>[\\nMetallic\\n]</td>\n",
       "      <td>[\\nMythosschwarz\\n]</td>\n",
       "      <td>[\\nCloth, Black\\n]</td>\n",
       "      <td>[\\n, Sedans, \\n]</td>\n",
       "      <td>[\\n5\\n]</td>\n",
       "      <td>[\\n5\\n]</td>\n",
       "      <td>[\\n0588/BDF\\n]</td>\n",
       "      <td>[\\n, Automatic, \\n]</td>\n",
       "      <td>[\\n1,422 cc\\n]</td>\n",
       "      <td>[\\n3\\n]</td>\n",
       "      <td>[\\n1,220 kg\\n]</td>\n",
       "      <td>[\\nfront\\n]</td>\n",
       "      <td>[\\n, Diesel (Particulate F...</td>\n",
       "      <td>[[3.8 l/100 km (comb)], [4...</td>\n",
       "      <td>[\\n99 g CO2/km (comb)\\n]</td>\n",
       "      <td>[\\nEuro 6\\n]</td>\n",
       "      <td>[Air conditioning, Armrest...</td>\n",
       "      <td>[Bluetooth, Hands-free equ...</td>\n",
       "      <td>[Alloy wheels, Catalytic C...</td>\n",
       "      <td>[ABS, Central door lock, D...</td>\n",
       "      <td>[\\n, Sicherheit:,  , Deakt...</td>\n",
       "      <td>NaN</td>\n",
       "      <td>NaN</td>\n",
       "      <td>NaN</td>\n",
       "      <td>NaN</td>\n",
       "      <td>NaN</td>\n",
       "      <td>NaN</td>\n",
       "      <td>NaN</td>\n",
       "      <td>NaN</td>\n",
       "      <td>NaN</td>\n",
       "    </tr>\n",
       "    <tr>\n",
       "      <th>1</th>\n",
       "      <td>https://www.autoscout24.co...</td>\n",
       "      <td>Audi A1</td>\n",
       "      <td>1.8 TFSI sport</td>\n",
       "      <td>Sedans</td>\n",
       "      <td>14500</td>\n",
       "      <td>Price negotiable</td>\n",
       "      <td>80,000 km</td>\n",
       "      <td>03/2017</td>\n",
       "      <td>None</td>\n",
       "      <td>NaN</td>\n",
       "      <td>141 kW</td>\n",
       "      <td>[, Used, , Gasoline]</td>\n",
       "      <td>NaN</td>\n",
       "      <td>NaN</td>\n",
       "      <td>NaN</td>\n",
       "      <td>NaN</td>\n",
       "      <td>NaN</td>\n",
       "      <td>NaN</td>\n",
       "      <td>[]</td>\n",
       "      <td>\\nAudi\\n</td>\n",
       "      <td>[\\n, A1, \\n]</td>\n",
       "      <td>NaN</td>\n",
       "      <td>[\\n, 2017, \\n]</td>\n",
       "      <td>[\\n, Red, \\n]</td>\n",
       "      <td>NaN</td>\n",
       "      <td>NaN</td>\n",
       "      <td>[\\nCloth, Grey\\n]</td>\n",
       "      <td>[\\n, Sedans, \\n]</td>\n",
       "      <td>[\\n3\\n]</td>\n",
       "      <td>[\\n4\\n]</td>\n",
       "      <td>[\\n0588/BCY\\n]</td>\n",
       "      <td>[\\n, Automatic, \\n]</td>\n",
       "      <td>[\\n1,798 cc\\n]</td>\n",
       "      <td>[\\n4\\n]</td>\n",
       "      <td>[\\n1,255 kg\\n]</td>\n",
       "      <td>[\\nfront\\n]</td>\n",
       "      <td>[\\n, Gasoline, \\n]</td>\n",
       "      <td>[[5.6 l/100 km (comb)], [7...</td>\n",
       "      <td>[\\n129 g CO2/km (comb)\\n]</td>\n",
       "      <td>[\\nEuro 6\\n]</td>\n",
       "      <td>[Air conditioning, Automat...</td>\n",
       "      <td>[Bluetooth, Hands-free equ...</td>\n",
       "      <td>[Alloy wheels, Sport seats...</td>\n",
       "      <td>[ABS, Central door lock, C...</td>\n",
       "      <td>[\\nLangstreckenfahrzeug da...</td>\n",
       "      <td>[\\n4 (Green)\\n]</td>\n",
       "      <td>[\\n7\\n]</td>\n",
       "      <td>NaN</td>\n",
       "      <td>NaN</td>\n",
       "      <td>NaN</td>\n",
       "      <td>NaN</td>\n",
       "      <td>NaN</td>\n",
       "      <td>NaN</td>\n",
       "      <td>NaN</td>\n",
       "    </tr>\n",
       "    <tr>\n",
       "      <th>2</th>\n",
       "      <td>https://www.autoscout24.co...</td>\n",
       "      <td>Audi A1</td>\n",
       "      <td>Sportback 1.6 TDI S tronic...</td>\n",
       "      <td>Sedans</td>\n",
       "      <td>14640</td>\n",
       "      <td>VAT deductible</td>\n",
       "      <td>83,450 km</td>\n",
       "      <td>02/2016</td>\n",
       "      <td>1 previous owner</td>\n",
       "      <td>NaN</td>\n",
       "      <td>85 kW</td>\n",
       "      <td>[, Used, , Diesel (Particu...</td>\n",
       "      <td>\\n1\\n</td>\n",
       "      <td>NaN</td>\n",
       "      <td>NaN</td>\n",
       "      <td>[\\n, \\n, \\n99 g CO2/km (co...</td>\n",
       "      <td>NaN</td>\n",
       "      <td>NaN</td>\n",
       "      <td>[]</td>\n",
       "      <td>\\nAudi\\n</td>\n",
       "      <td>[\\n, A1, \\n]</td>\n",
       "      <td>[\\nAM-95365\\n]</td>\n",
       "      <td>[\\n, 2016, \\n]</td>\n",
       "      <td>[\\n, Black, \\n]</td>\n",
       "      <td>[\\nMetallic\\n]</td>\n",
       "      <td>[\\nmythosschwarz metallic\\n]</td>\n",
       "      <td>[\\nCloth, Black\\n]</td>\n",
       "      <td>[\\n, Sedans, \\n]</td>\n",
       "      <td>[\\n4\\n]</td>\n",
       "      <td>[\\n4\\n]</td>\n",
       "      <td>NaN</td>\n",
       "      <td>[\\n, Automatic, \\n]</td>\n",
       "      <td>[\\n1,598 cc\\n]</td>\n",
       "      <td>NaN</td>\n",
       "      <td>NaN</td>\n",
       "      <td>[\\nfront\\n]</td>\n",
       "      <td>[\\n, Diesel (Particulate F...</td>\n",
       "      <td>[[3.8 l/100 km (comb)], [4...</td>\n",
       "      <td>[\\n99 g CO2/km (comb)\\n]</td>\n",
       "      <td>[\\nEuro 6\\n]</td>\n",
       "      <td>[Air conditioning, Cruise ...</td>\n",
       "      <td>[MP3, On-board computer]</td>\n",
       "      <td>[Alloy wheels, Voice Control]</td>\n",
       "      <td>[ABS, Central door lock, D...</td>\n",
       "      <td>[\\n, Fahrzeug-Nummer: AM-9...</td>\n",
       "      <td>[\\n4 (Green)\\n]</td>\n",
       "      <td>NaN</td>\n",
       "      <td>NaN</td>\n",
       "      <td>NaN</td>\n",
       "      <td>NaN</td>\n",
       "      <td>NaN</td>\n",
       "      <td>NaN</td>\n",
       "      <td>NaN</td>\n",
       "      <td>NaN</td>\n",
       "    </tr>\n",
       "    <tr>\n",
       "      <th>3</th>\n",
       "      <td>https://www.autoscout24.co...</td>\n",
       "      <td>Audi A1</td>\n",
       "      <td>1.4 TDi Design S tronic</td>\n",
       "      <td>Sedans</td>\n",
       "      <td>14500</td>\n",
       "      <td>None</td>\n",
       "      <td>73,000 km</td>\n",
       "      <td>08/2016</td>\n",
       "      <td>1 previous owner</td>\n",
       "      <td>NaN</td>\n",
       "      <td>66 kW</td>\n",
       "      <td>[, Used, , Diesel (Particu...</td>\n",
       "      <td>\\n1\\n</td>\n",
       "      <td>NaN</td>\n",
       "      <td>NaN</td>\n",
       "      <td>NaN</td>\n",
       "      <td>[\\n, \\n, \\n99 g CO2/km (co...</td>\n",
       "      <td>[\\n, \\n, \\nEuro 6\\n]</td>\n",
       "      <td>[]</td>\n",
       "      <td>\\nAudi\\n</td>\n",
       "      <td>[\\n, A1, \\n]</td>\n",
       "      <td>NaN</td>\n",
       "      <td>[\\n, 2016, \\n]</td>\n",
       "      <td>[\\n, Brown, \\n]</td>\n",
       "      <td>[\\nMetallic\\n]</td>\n",
       "      <td>NaN</td>\n",
       "      <td>NaN</td>\n",
       "      <td>[\\n, Sedans, \\n]</td>\n",
       "      <td>[\\n3\\n]</td>\n",
       "      <td>[\\n4\\n]</td>\n",
       "      <td>NaN</td>\n",
       "      <td>[\\n, Automatic, \\n]</td>\n",
       "      <td>[\\n1,422 cc\\n]</td>\n",
       "      <td>[\\n3\\n]</td>\n",
       "      <td>[\\n1,195 kg\\n]</td>\n",
       "      <td>NaN</td>\n",
       "      <td>[\\n, Diesel (Particulate F...</td>\n",
       "      <td>[[3.8 l/100 km (comb)], [4...</td>\n",
       "      <td>[\\n99 g CO2/km (comb)\\n]</td>\n",
       "      <td>[\\nEuro 6\\n]</td>\n",
       "      <td>[Air suspension, Armrest, ...</td>\n",
       "      <td>[Bluetooth, CD player, Han...</td>\n",
       "      <td>[Alloy wheels, Sport seats...</td>\n",
       "      <td>[ABS, Alarm system, Centra...</td>\n",
       "      <td>[\\nAudi A1: , - 1e eigenaa...</td>\n",
       "      <td>NaN</td>\n",
       "      <td>[\\n6\\n]</td>\n",
       "      <td>NaN</td>\n",
       "      <td>NaN</td>\n",
       "      <td>NaN</td>\n",
       "      <td>NaN</td>\n",
       "      <td>NaN</td>\n",
       "      <td>NaN</td>\n",
       "      <td>NaN</td>\n",
       "    </tr>\n",
       "    <tr>\n",
       "      <th>4</th>\n",
       "      <td>https://www.autoscout24.co...</td>\n",
       "      <td>Audi A1</td>\n",
       "      <td>Sportback 1.4 TDI S-Tronic...</td>\n",
       "      <td>Sedans</td>\n",
       "      <td>16790</td>\n",
       "      <td>None</td>\n",
       "      <td>16,200 km</td>\n",
       "      <td>05/2016</td>\n",
       "      <td>1 previous owner</td>\n",
       "      <td>NaN</td>\n",
       "      <td>66 kW</td>\n",
       "      <td>[, Used, , Diesel (Particu...</td>\n",
       "      <td>\\n1\\n</td>\n",
       "      <td>NaN</td>\n",
       "      <td>[\\nYes\\n, \\n109 g CO2/km (...</td>\n",
       "      <td>[\\n, \\n, \\nEuro 6\\n]</td>\n",
       "      <td>[\\n, \\n, \\n4 (Green)\\n]</td>\n",
       "      <td>[\\n, \\n]</td>\n",
       "      <td>[]</td>\n",
       "      <td>\\nAudi\\n</td>\n",
       "      <td>[\\n, A1, \\n]</td>\n",
       "      <td>[\\nC1626\\n]</td>\n",
       "      <td>[\\n, 2016, \\n]</td>\n",
       "      <td>[\\n, Black, \\n]</td>\n",
       "      <td>[\\nMetallic\\n]</td>\n",
       "      <td>[\\nMythosschwarz Metallic\\n]</td>\n",
       "      <td>[\\nCloth, Black\\n]</td>\n",
       "      <td>[\\n, Sedans, \\n]</td>\n",
       "      <td>[\\n5\\n]</td>\n",
       "      <td>[\\n5\\n]</td>\n",
       "      <td>[\\n0588/BDF\\n]</td>\n",
       "      <td>[\\n, Automatic, \\n]</td>\n",
       "      <td>[\\n1,422 cc\\n]</td>\n",
       "      <td>[\\n3\\n]</td>\n",
       "      <td>NaN</td>\n",
       "      <td>[\\nfront\\n]</td>\n",
       "      <td>[\\n, Diesel (Particulate F...</td>\n",
       "      <td>[[4.1 l/100 km (comb)], [4...</td>\n",
       "      <td>[\\n109 g CO2/km (comb)\\n]</td>\n",
       "      <td>[\\nEuro 6\\n]</td>\n",
       "      <td>[Air conditioning, Armrest...</td>\n",
       "      <td>[Bluetooth, CD player, Han...</td>\n",
       "      <td>[Alloy wheels, Sport packa...</td>\n",
       "      <td>[ABS, Central door lock, D...</td>\n",
       "      <td>[\\n, Technik &amp; Sicherheit:...</td>\n",
       "      <td>NaN</td>\n",
       "      <td>NaN</td>\n",
       "      <td>[\\nGermany\\n]</td>\n",
       "      <td>NaN</td>\n",
       "      <td>NaN</td>\n",
       "      <td>NaN</td>\n",
       "      <td>NaN</td>\n",
       "      <td>NaN</td>\n",
       "      <td>NaN</td>\n",
       "    </tr>\n",
       "    <tr>\n",
       "      <th>...</th>\n",
       "      <td>...</td>\n",
       "      <td>...</td>\n",
       "      <td>...</td>\n",
       "      <td>...</td>\n",
       "      <td>...</td>\n",
       "      <td>...</td>\n",
       "      <td>...</td>\n",
       "      <td>...</td>\n",
       "      <td>...</td>\n",
       "      <td>...</td>\n",
       "      <td>...</td>\n",
       "      <td>...</td>\n",
       "      <td>...</td>\n",
       "      <td>...</td>\n",
       "      <td>...</td>\n",
       "      <td>...</td>\n",
       "      <td>...</td>\n",
       "      <td>...</td>\n",
       "      <td>...</td>\n",
       "      <td>...</td>\n",
       "      <td>...</td>\n",
       "      <td>...</td>\n",
       "      <td>...</td>\n",
       "      <td>...</td>\n",
       "      <td>...</td>\n",
       "      <td>...</td>\n",
       "      <td>...</td>\n",
       "      <td>...</td>\n",
       "      <td>...</td>\n",
       "      <td>...</td>\n",
       "      <td>...</td>\n",
       "      <td>...</td>\n",
       "      <td>...</td>\n",
       "      <td>...</td>\n",
       "      <td>...</td>\n",
       "      <td>...</td>\n",
       "      <td>...</td>\n",
       "      <td>...</td>\n",
       "      <td>...</td>\n",
       "      <td>...</td>\n",
       "      <td>...</td>\n",
       "      <td>...</td>\n",
       "      <td>...</td>\n",
       "      <td>...</td>\n",
       "      <td>...</td>\n",
       "      <td>...</td>\n",
       "      <td>...</td>\n",
       "      <td>...</td>\n",
       "      <td>...</td>\n",
       "      <td>...</td>\n",
       "      <td>...</td>\n",
       "      <td>...</td>\n",
       "      <td>...</td>\n",
       "      <td>...</td>\n",
       "    </tr>\n",
       "    <tr>\n",
       "      <th>15914</th>\n",
       "      <td>https://www.autoscout24.co...</td>\n",
       "      <td>Renault Espace</td>\n",
       "      <td>Blue dCi 200CV EDC Executi...</td>\n",
       "      <td>Van</td>\n",
       "      <td>39950</td>\n",
       "      <td>VAT deductible</td>\n",
       "      <td>- km</td>\n",
       "      <td>-/-</td>\n",
       "      <td>None</td>\n",
       "      <td>NaN</td>\n",
       "      <td>147 kW</td>\n",
       "      <td>[, New, , Diesel (Particul...</td>\n",
       "      <td>NaN</td>\n",
       "      <td>NaN</td>\n",
       "      <td>NaN</td>\n",
       "      <td>\\n24 months\\n</td>\n",
       "      <td>NaN</td>\n",
       "      <td>NaN</td>\n",
       "      <td>[]</td>\n",
       "      <td>\\nRenault\\n</td>\n",
       "      <td>[\\n, Espace, \\n]</td>\n",
       "      <td>[\\n10988301\\n]</td>\n",
       "      <td>NaN</td>\n",
       "      <td>[\\n, Grey, \\n]</td>\n",
       "      <td>[\\nMetallic\\n]</td>\n",
       "      <td>[\\nGrigio scuro\\n]</td>\n",
       "      <td>NaN</td>\n",
       "      <td>[\\n, Van, \\n]</td>\n",
       "      <td>[\\n5\\n]</td>\n",
       "      <td>[\\n5\\n]</td>\n",
       "      <td>NaN</td>\n",
       "      <td>[\\n, Automatic, \\n]</td>\n",
       "      <td>[\\n1,997 cc\\n]</td>\n",
       "      <td>[\\n4\\n]</td>\n",
       "      <td>[\\n1,758 kg\\n]</td>\n",
       "      <td>[\\nfront\\n]</td>\n",
       "      <td>[\\n, Diesel (Particulate F...</td>\n",
       "      <td>[[5.3 l/100 km (comb)], [6...</td>\n",
       "      <td>[\\n139 g CO2/km (comb)\\n]</td>\n",
       "      <td>NaN</td>\n",
       "      <td>[Air conditioning, Automat...</td>\n",
       "      <td>[Bluetooth, Digital radio,...</td>\n",
       "      <td>[Alloy wheels, Touch screen]</td>\n",
       "      <td>[ABS, Central door lock, C...</td>\n",
       "      <td>[\\nVettura visionabile nel...</td>\n",
       "      <td>NaN</td>\n",
       "      <td>[\\n6\\n]</td>\n",
       "      <td>NaN</td>\n",
       "      <td>NaN</td>\n",
       "      <td>NaN</td>\n",
       "      <td>NaN</td>\n",
       "      <td>NaN</td>\n",
       "      <td>NaN</td>\n",
       "      <td>NaN</td>\n",
       "    </tr>\n",
       "    <tr>\n",
       "      <th>15915</th>\n",
       "      <td>https://www.autoscout24.co...</td>\n",
       "      <td>Renault Espace</td>\n",
       "      <td>TCe 225 EDC GPF LIM Deluxe...</td>\n",
       "      <td>Van</td>\n",
       "      <td>39885</td>\n",
       "      <td>VAT deductible</td>\n",
       "      <td>9,900 km</td>\n",
       "      <td>01/2019</td>\n",
       "      <td>1 previous owner</td>\n",
       "      <td>NaN</td>\n",
       "      <td>165 kW</td>\n",
       "      <td>[, Used, , Super 95 / Supe...</td>\n",
       "      <td>[\\n1\\n, \\n, 7.4 l/100 km (...</td>\n",
       "      <td>[\\n01/2022\\n, \\n168 g CO2/...</td>\n",
       "      <td>NaN</td>\n",
       "      <td>[\\n, \\n, \\nEuro 6\\n]</td>\n",
       "      <td>NaN</td>\n",
       "      <td>[\\n, \\n, \\n4 (Green)\\n]</td>\n",
       "      <td>[]</td>\n",
       "      <td>\\nRenault\\n</td>\n",
       "      <td>[\\n, Espace, \\n]</td>\n",
       "      <td>[\\n507370_3223\\n]</td>\n",
       "      <td>[\\n, 2019, \\n]</td>\n",
       "      <td>[\\n, Grey, \\n]</td>\n",
       "      <td>[\\nMetallic\\n]</td>\n",
       "      <td>[\\nStahl-Grau Metallic\\n]</td>\n",
       "      <td>[\\nCloth\\n]</td>\n",
       "      <td>[\\n, Van, \\n]</td>\n",
       "      <td>[\\n5\\n]</td>\n",
       "      <td>[\\n5\\n]</td>\n",
       "      <td>[\\n0000/000\\n]</td>\n",
       "      <td>[\\n, Automatic, \\n]</td>\n",
       "      <td>[\\n1,798 cc\\n]</td>\n",
       "      <td>[\\n4\\n]</td>\n",
       "      <td>[\\n1,708 kg\\n]</td>\n",
       "      <td>[\\nfront\\n]</td>\n",
       "      <td>[\\n, Super 95 / Super Plus...</td>\n",
       "      <td>[\\n, 7.4 l/100 km (comb), ...</td>\n",
       "      <td>[\\n168 g CO2/km (comb)\\n]</td>\n",
       "      <td>NaN</td>\n",
       "      <td>[Air conditioning, Automat...</td>\n",
       "      <td>[Bluetooth, Digital radio,...</td>\n",
       "      <td>[Alloy wheels, Touch scree...</td>\n",
       "      <td>[ABS, Adaptive Cruise Cont...</td>\n",
       "      <td>[\\nDach: Panorama-Glas-Sch...</td>\n",
       "      <td>NaN</td>\n",
       "      <td>[\\n7\\n]</td>\n",
       "      <td>[\\nGermany\\n]</td>\n",
       "      <td>NaN</td>\n",
       "      <td>NaN</td>\n",
       "      <td>[[], [], []]</td>\n",
       "      <td>\\nin 5 days from ordering\\n</td>\n",
       "      <td>NaN</td>\n",
       "      <td>NaN</td>\n",
       "    </tr>\n",
       "    <tr>\n",
       "      <th>15916</th>\n",
       "      <td>https://www.autoscout24.co...</td>\n",
       "      <td>Renault Espace</td>\n",
       "      <td>Blue dCi 200 EDC Initiale ...</td>\n",
       "      <td>Van</td>\n",
       "      <td>39875</td>\n",
       "      <td>VAT deductible</td>\n",
       "      <td>15 km</td>\n",
       "      <td>03/2019</td>\n",
       "      <td>1 previous owner</td>\n",
       "      <td>NaN</td>\n",
       "      <td>146 kW</td>\n",
       "      <td>[, Pre-registered, , Diesel]</td>\n",
       "      <td>[\\n1\\n, \\n139 g CO2/km (co...</td>\n",
       "      <td>NaN</td>\n",
       "      <td>[\\nYes\\n, \\nEuro 6d-TEMP\\n]</td>\n",
       "      <td>[\\n, \\n, \\n4 (Green)\\n]</td>\n",
       "      <td>[\\n, \\n]</td>\n",
       "      <td>[\\n, \\n]</td>\n",
       "      <td>[]</td>\n",
       "      <td>\\nRenault\\n</td>\n",
       "      <td>[\\n, Espace, \\n]</td>\n",
       "      <td>[\\nEspace16\\n]</td>\n",
       "      <td>[\\n, 2019, \\n]</td>\n",
       "      <td>[\\n, White, \\n]</td>\n",
       "      <td>NaN</td>\n",
       "      <td>[\\narktis-weiß\\n]</td>\n",
       "      <td>[\\nFull leather, Black\\n]</td>\n",
       "      <td>[\\n, Van, \\n]</td>\n",
       "      <td>[\\n5\\n]</td>\n",
       "      <td>[\\n7\\n]</td>\n",
       "      <td>NaN</td>\n",
       "      <td>[\\n, Automatic, \\n]</td>\n",
       "      <td>[\\n1,997 cc\\n]</td>\n",
       "      <td>[\\n4\\n]</td>\n",
       "      <td>NaN</td>\n",
       "      <td>[\\nfront\\n]</td>\n",
       "      <td>[\\n, Diesel, \\n]</td>\n",
       "      <td>[[5.3 l/100 km (comb)], [6...</td>\n",
       "      <td>[\\n139 g CO2/km (comb)\\n]</td>\n",
       "      <td>[\\nEuro 6d-TEMP\\n]</td>\n",
       "      <td>[Air conditioning, Armrest...</td>\n",
       "      <td>[Bluetooth, Hands-free equ...</td>\n",
       "      <td>[Alloy wheels]</td>\n",
       "      <td>[ABS, Adaptive Cruise Cont...</td>\n",
       "      <td>[\\n, Getriebe:,  Automatik...</td>\n",
       "      <td>NaN</td>\n",
       "      <td>[\\n6\\n]</td>\n",
       "      <td>[\\nAustria\\n]</td>\n",
       "      <td>NaN</td>\n",
       "      <td>NaN</td>\n",
       "      <td>NaN</td>\n",
       "      <td>\\nin 120 days from ordering\\n</td>\n",
       "      <td>NaN</td>\n",
       "      <td>NaN</td>\n",
       "    </tr>\n",
       "    <tr>\n",
       "      <th>15917</th>\n",
       "      <td>https://www.autoscout24.co...</td>\n",
       "      <td>Renault Espace</td>\n",
       "      <td>Blue dCi 200CV EDC Busines...</td>\n",
       "      <td>Van</td>\n",
       "      <td>39700</td>\n",
       "      <td>VAT deductible</td>\n",
       "      <td>10 km</td>\n",
       "      <td>06/2019</td>\n",
       "      <td>None</td>\n",
       "      <td>NaN</td>\n",
       "      <td>147 kW</td>\n",
       "      <td>[, Pre-registered, , Diesel]</td>\n",
       "      <td>NaN</td>\n",
       "      <td>NaN</td>\n",
       "      <td>NaN</td>\n",
       "      <td>\\n</td>\n",
       "      <td>NaN</td>\n",
       "      <td>NaN</td>\n",
       "      <td>[]</td>\n",
       "      <td>\\nRenault\\n</td>\n",
       "      <td>[\\n, Espace, \\n]</td>\n",
       "      <td>[\\n2691331\\n]</td>\n",
       "      <td>[\\n, 2019, \\n]</td>\n",
       "      <td>[\\n, Grey, \\n]</td>\n",
       "      <td>NaN</td>\n",
       "      <td>[\\nGrigio\\n]</td>\n",
       "      <td>[\\nPart leather\\n]</td>\n",
       "      <td>[\\n, Van, \\n]</td>\n",
       "      <td>[\\n5\\n]</td>\n",
       "      <td>[\\n7\\n]</td>\n",
       "      <td>NaN</td>\n",
       "      <td>[\\n, Automatic, \\n]</td>\n",
       "      <td>[\\n1,997 cc\\n]</td>\n",
       "      <td>[\\n4\\n]</td>\n",
       "      <td>[\\n1,758 kg\\n]</td>\n",
       "      <td>[\\nfront\\n]</td>\n",
       "      <td>[\\n, Diesel, \\n]</td>\n",
       "      <td>[[5.3 l/100 km (comb)], [6...</td>\n",
       "      <td>[\\n139 g CO2/km (comb)\\n]</td>\n",
       "      <td>[\\nEuro 6\\n]</td>\n",
       "      <td>[Air conditioning, Automat...</td>\n",
       "      <td>[Bluetooth, Digital radio,...</td>\n",
       "      <td>[Alloy wheels, Touch screen]</td>\n",
       "      <td>[ABS, Blind spot monitor, ...</td>\n",
       "      <td>[\\nDEK:[2691331], Renault ...</td>\n",
       "      <td>NaN</td>\n",
       "      <td>[\\n6\\n]</td>\n",
       "      <td>NaN</td>\n",
       "      <td>NaN</td>\n",
       "      <td>NaN</td>\n",
       "      <td>NaN</td>\n",
       "      <td>NaN</td>\n",
       "      <td>NaN</td>\n",
       "      <td>NaN</td>\n",
       "    </tr>\n",
       "    <tr>\n",
       "      <th>15918</th>\n",
       "      <td>https://www.autoscout24.co...</td>\n",
       "      <td>Renault Espace</td>\n",
       "      <td>INITIALE PARIS TCe 225 EDC...</td>\n",
       "      <td>Van</td>\n",
       "      <td>40999</td>\n",
       "      <td>VAT deductible</td>\n",
       "      <td>- km</td>\n",
       "      <td>01/2019</td>\n",
       "      <td>1 previous owner</td>\n",
       "      <td>NaN</td>\n",
       "      <td>165 kW</td>\n",
       "      <td>[, Demonstration, , Super 95]</td>\n",
       "      <td>\\n1\\n</td>\n",
       "      <td>NaN</td>\n",
       "      <td>[\\nYes\\n, \\n153 g CO2/km (...</td>\n",
       "      <td>NaN</td>\n",
       "      <td>NaN</td>\n",
       "      <td>NaN</td>\n",
       "      <td>[]</td>\n",
       "      <td>\\nRenault\\n</td>\n",
       "      <td>[\\n, Espace, \\n]</td>\n",
       "      <td>[\\nRe_30000008029\\n]</td>\n",
       "      <td>[\\n, 2019, \\n]</td>\n",
       "      <td>[\\n, Grey, \\n]</td>\n",
       "      <td>[\\nMetallic\\n]</td>\n",
       "      <td>[\\nTitanium-Grau Metallic\\n]</td>\n",
       "      <td>[\\nFull leather, Brown\\n]</td>\n",
       "      <td>[\\n, Van, \\n]</td>\n",
       "      <td>[\\n5\\n]</td>\n",
       "      <td>[\\n5\\n]</td>\n",
       "      <td>[\\n3333/BHJ\\n]</td>\n",
       "      <td>[\\n, Automatic, \\n]</td>\n",
       "      <td>[\\n1,798 cc\\n]</td>\n",
       "      <td>[\\n4\\n]</td>\n",
       "      <td>[\\n1,685 kg\\n]</td>\n",
       "      <td>[\\n4WD\\n]</td>\n",
       "      <td>[\\n, Super 95, \\n]</td>\n",
       "      <td>[[6.8 l/100 km (comb)], [8...</td>\n",
       "      <td>[\\n153 g CO2/km (comb)\\n]</td>\n",
       "      <td>[\\nEuro 6\\n]</td>\n",
       "      <td>[Air conditioning, Automat...</td>\n",
       "      <td>[USB]</td>\n",
       "      <td>[Alloy wheels, Touch screen]</td>\n",
       "      <td>[ABS, Blind spot monitor, ...</td>\n",
       "      <td>[\\n, Sicherheit Airbags:, ...</td>\n",
       "      <td>[\\n4 (Green)\\n]</td>\n",
       "      <td>NaN</td>\n",
       "      <td>[\\nGermany\\n]</td>\n",
       "      <td>NaN</td>\n",
       "      <td>NaN</td>\n",
       "      <td>NaN</td>\n",
       "      <td>NaN</td>\n",
       "      <td>NaN</td>\n",
       "      <td>NaN</td>\n",
       "    </tr>\n",
       "  </tbody>\n",
       "</table>\n",
       "<p>15919 rows × 54 columns</p>\n",
       "</div>"
      ],
      "text/plain": [
       "                                 url  \\\n",
       "0      https://www.autoscout24.co...   \n",
       "1      https://www.autoscout24.co...   \n",
       "2      https://www.autoscout24.co...   \n",
       "3      https://www.autoscout24.co...   \n",
       "4      https://www.autoscout24.co...   \n",
       "...                              ...   \n",
       "15914  https://www.autoscout24.co...   \n",
       "15915  https://www.autoscout24.co...   \n",
       "15916  https://www.autoscout24.co...   \n",
       "15917  https://www.autoscout24.co...   \n",
       "15918  https://www.autoscout24.co...   \n",
       "\n",
       "           make_model  \\\n",
       "0             Audi A1   \n",
       "1             Audi A1   \n",
       "2             Audi A1   \n",
       "3             Audi A1   \n",
       "4             Audi A1   \n",
       "...               ...   \n",
       "15914  Renault Espace   \n",
       "15915  Renault Espace   \n",
       "15916  Renault Espace   \n",
       "15917  Renault Espace   \n",
       "15918  Renault Espace   \n",
       "\n",
       "                   short_description  \\\n",
       "0      Sportback 1.4 TDI S-tronic...   \n",
       "1                     1.8 TFSI sport   \n",
       "2      Sportback 1.6 TDI S tronic...   \n",
       "3            1.4 TDi Design S tronic   \n",
       "4      Sportback 1.4 TDI S-Tronic...   \n",
       "...                              ...   \n",
       "15914  Blue dCi 200CV EDC Executi...   \n",
       "15915  TCe 225 EDC GPF LIM Deluxe...   \n",
       "15916  Blue dCi 200 EDC Initiale ...   \n",
       "15917  Blue dCi 200CV EDC Busines...   \n",
       "15918  INITIALE PARIS TCe 225 EDC...   \n",
       "\n",
       "      body_type  \\\n",
       "0        Sedans   \n",
       "1        Sedans   \n",
       "2        Sedans   \n",
       "3        Sedans   \n",
       "4        Sedans   \n",
       "...         ...   \n",
       "15914       Van   \n",
       "15915       Van   \n",
       "15916       Van   \n",
       "15917       Van   \n",
       "15918       Van   \n",
       "\n",
       "       price  \\\n",
       "0      15770   \n",
       "1      14500   \n",
       "2      14640   \n",
       "3      14500   \n",
       "4      16790   \n",
       "...      ...   \n",
       "15914  39950   \n",
       "15915  39885   \n",
       "15916  39875   \n",
       "15917  39700   \n",
       "15918  40999   \n",
       "\n",
       "                    vat  \\\n",
       "0        VAT deductible   \n",
       "1      Price negotiable   \n",
       "2        VAT deductible   \n",
       "3                  None   \n",
       "4                  None   \n",
       "...                 ...   \n",
       "15914    VAT deductible   \n",
       "15915    VAT deductible   \n",
       "15916    VAT deductible   \n",
       "15917    VAT deductible   \n",
       "15918    VAT deductible   \n",
       "\n",
       "              km  \\\n",
       "0      56,013 km   \n",
       "1      80,000 km   \n",
       "2      83,450 km   \n",
       "3      73,000 km   \n",
       "4      16,200 km   \n",
       "...          ...   \n",
       "15914       - km   \n",
       "15915   9,900 km   \n",
       "15916      15 km   \n",
       "15917      10 km   \n",
       "15918       - km   \n",
       "\n",
       "      registration  \\\n",
       "0          01/2016   \n",
       "1          03/2017   \n",
       "2          02/2016   \n",
       "3          08/2016   \n",
       "4          05/2016   \n",
       "...            ...   \n",
       "15914          -/-   \n",
       "15915      01/2019   \n",
       "15916      03/2019   \n",
       "15917      06/2019   \n",
       "15918      01/2019   \n",
       "\n",
       "              prev_owner  \\\n",
       "0      2 previous owners   \n",
       "1                   None   \n",
       "2       1 previous owner   \n",
       "3       1 previous owner   \n",
       "4       1 previous owner   \n",
       "...                  ...   \n",
       "15914               None   \n",
       "15915   1 previous owner   \n",
       "15916   1 previous owner   \n",
       "15917               None   \n",
       "15918   1 previous owner   \n",
       "\n",
       "       kW  \\\n",
       "0     NaN   \n",
       "1     NaN   \n",
       "2     NaN   \n",
       "3     NaN   \n",
       "4     NaN   \n",
       "...    ..   \n",
       "15914 NaN   \n",
       "15915 NaN   \n",
       "15916 NaN   \n",
       "15917 NaN   \n",
       "15918 NaN   \n",
       "\n",
       "           hp  \\\n",
       "0       66 kW   \n",
       "1      141 kW   \n",
       "2       85 kW   \n",
       "3       66 kW   \n",
       "4       66 kW   \n",
       "...       ...   \n",
       "15914  147 kW   \n",
       "15915  165 kW   \n",
       "15916  146 kW   \n",
       "15917  147 kW   \n",
       "15918  165 kW   \n",
       "\n",
       "                                Type  \\\n",
       "0      [, Used, , Diesel (Particu...   \n",
       "1               [, Used, , Gasoline]   \n",
       "2      [, Used, , Diesel (Particu...   \n",
       "3      [, Used, , Diesel (Particu...   \n",
       "4      [, Used, , Diesel (Particu...   \n",
       "...                              ...   \n",
       "15914  [, New, , Diesel (Particul...   \n",
       "15915  [, Used, , Super 95 / Supe...   \n",
       "15916   [, Pre-registered, , Diesel]   \n",
       "15917   [, Pre-registered, , Diesel]   \n",
       "15918  [, Demonstration, , Super 95]   \n",
       "\n",
       "                     Previous Owners  \\\n",
       "0                              \\n2\\n   \n",
       "1                                NaN   \n",
       "2                              \\n1\\n   \n",
       "3                              \\n1\\n   \n",
       "4                              \\n1\\n   \n",
       "...                              ...   \n",
       "15914                            NaN   \n",
       "15915  [\\n1\\n, \\n, 7.4 l/100 km (...   \n",
       "15916  [\\n1\\n, \\n139 g CO2/km (co...   \n",
       "15917                            NaN   \n",
       "15918                          \\n1\\n   \n",
       "\n",
       "                     Next Inspection  \\\n",
       "0      [\\n06/2021\\n, \\n99 g CO2/k...   \n",
       "1                                NaN   \n",
       "2                                NaN   \n",
       "3                                NaN   \n",
       "4                                NaN   \n",
       "...                              ...   \n",
       "15914                            NaN   \n",
       "15915  [\\n01/2022\\n, \\n168 g CO2/...   \n",
       "15916                            NaN   \n",
       "15917                            NaN   \n",
       "15918                            NaN   \n",
       "\n",
       "                      Inspection new  \\\n",
       "0              [\\nYes\\n, \\nEuro 6\\n]   \n",
       "1                                NaN   \n",
       "2                                NaN   \n",
       "3                                NaN   \n",
       "4      [\\nYes\\n, \\n109 g CO2/km (...   \n",
       "...                              ...   \n",
       "15914                            NaN   \n",
       "15915                            NaN   \n",
       "15916    [\\nYes\\n, \\nEuro 6d-TEMP\\n]   \n",
       "15917                            NaN   \n",
       "15918  [\\nYes\\n, \\n153 g CO2/km (...   \n",
       "\n",
       "                            Warranty  \\\n",
       "0            [\\n, \\n, \\n4 (Green)\\n]   \n",
       "1                                NaN   \n",
       "2      [\\n, \\n, \\n99 g CO2/km (co...   \n",
       "3                                NaN   \n",
       "4               [\\n, \\n, \\nEuro 6\\n]   \n",
       "...                              ...   \n",
       "15914                  \\n24 months\\n   \n",
       "15915           [\\n, \\n, \\nEuro 6\\n]   \n",
       "15916        [\\n, \\n, \\n4 (Green)\\n]   \n",
       "15917                             \\n   \n",
       "15918                            NaN   \n",
       "\n",
       "                        Full Service  \\\n",
       "0                           [\\n, \\n]   \n",
       "1                                NaN   \n",
       "2                                NaN   \n",
       "3      [\\n, \\n, \\n99 g CO2/km (co...   \n",
       "4            [\\n, \\n, \\n4 (Green)\\n]   \n",
       "...                              ...   \n",
       "15914                            NaN   \n",
       "15915                            NaN   \n",
       "15916                       [\\n, \\n]   \n",
       "15917                            NaN   \n",
       "15918                            NaN   \n",
       "\n",
       "           Non-smoking Vehicle  \\\n",
       "0                     [\\n, \\n]   \n",
       "1                          NaN   \n",
       "2                          NaN   \n",
       "3         [\\n, \\n, \\nEuro 6\\n]   \n",
       "4                     [\\n, \\n]   \n",
       "...                        ...   \n",
       "15914                      NaN   \n",
       "15915  [\\n, \\n, \\n4 (Green)\\n]   \n",
       "15916                 [\\n, \\n]   \n",
       "15917                      NaN   \n",
       "15918                      NaN   \n",
       "\n",
       "      null  \\\n",
       "0       []   \n",
       "1       []   \n",
       "2       []   \n",
       "3       []   \n",
       "4       []   \n",
       "...    ...   \n",
       "15914   []   \n",
       "15915   []   \n",
       "15916   []   \n",
       "15917   []   \n",
       "15918   []   \n",
       "\n",
       "              Make  \\\n",
       "0         \\nAudi\\n   \n",
       "1         \\nAudi\\n   \n",
       "2         \\nAudi\\n   \n",
       "3         \\nAudi\\n   \n",
       "4         \\nAudi\\n   \n",
       "...            ...   \n",
       "15914  \\nRenault\\n   \n",
       "15915  \\nRenault\\n   \n",
       "15916  \\nRenault\\n   \n",
       "15917  \\nRenault\\n   \n",
       "15918  \\nRenault\\n   \n",
       "\n",
       "                  Model  \\\n",
       "0          [\\n, A1, \\n]   \n",
       "1          [\\n, A1, \\n]   \n",
       "2          [\\n, A1, \\n]   \n",
       "3          [\\n, A1, \\n]   \n",
       "4          [\\n, A1, \\n]   \n",
       "...                 ...   \n",
       "15914  [\\n, Espace, \\n]   \n",
       "15915  [\\n, Espace, \\n]   \n",
       "15916  [\\n, Espace, \\n]   \n",
       "15917  [\\n, Espace, \\n]   \n",
       "15918  [\\n, Espace, \\n]   \n",
       "\n",
       "               Offer Number  \\\n",
       "0           [\\nLR-062483\\n]   \n",
       "1                       NaN   \n",
       "2            [\\nAM-95365\\n]   \n",
       "3                       NaN   \n",
       "4               [\\nC1626\\n]   \n",
       "...                     ...   \n",
       "15914        [\\n10988301\\n]   \n",
       "15915     [\\n507370_3223\\n]   \n",
       "15916        [\\nEspace16\\n]   \n",
       "15917         [\\n2691331\\n]   \n",
       "15918  [\\nRe_30000008029\\n]   \n",
       "\n",
       "      First Registration  \\\n",
       "0         [\\n, 2016, \\n]   \n",
       "1         [\\n, 2017, \\n]   \n",
       "2         [\\n, 2016, \\n]   \n",
       "3         [\\n, 2016, \\n]   \n",
       "4         [\\n, 2016, \\n]   \n",
       "...                  ...   \n",
       "15914                NaN   \n",
       "15915     [\\n, 2019, \\n]   \n",
       "15916     [\\n, 2019, \\n]   \n",
       "15917     [\\n, 2019, \\n]   \n",
       "15918     [\\n, 2019, \\n]   \n",
       "\n",
       "            Body Color  \\\n",
       "0      [\\n, Black, \\n]   \n",
       "1        [\\n, Red, \\n]   \n",
       "2      [\\n, Black, \\n]   \n",
       "3      [\\n, Brown, \\n]   \n",
       "4      [\\n, Black, \\n]   \n",
       "...                ...   \n",
       "15914   [\\n, Grey, \\n]   \n",
       "15915   [\\n, Grey, \\n]   \n",
       "15916  [\\n, White, \\n]   \n",
       "15917   [\\n, Grey, \\n]   \n",
       "15918   [\\n, Grey, \\n]   \n",
       "\n",
       "           Paint Type  \\\n",
       "0      [\\nMetallic\\n]   \n",
       "1                 NaN   \n",
       "2      [\\nMetallic\\n]   \n",
       "3      [\\nMetallic\\n]   \n",
       "4      [\\nMetallic\\n]   \n",
       "...               ...   \n",
       "15914  [\\nMetallic\\n]   \n",
       "15915  [\\nMetallic\\n]   \n",
       "15916             NaN   \n",
       "15917             NaN   \n",
       "15918  [\\nMetallic\\n]   \n",
       "\n",
       "                Body Color Original  \\\n",
       "0               [\\nMythosschwarz\\n]   \n",
       "1                               NaN   \n",
       "2      [\\nmythosschwarz metallic\\n]   \n",
       "3                               NaN   \n",
       "4      [\\nMythosschwarz Metallic\\n]   \n",
       "...                             ...   \n",
       "15914            [\\nGrigio scuro\\n]   \n",
       "15915     [\\nStahl-Grau Metallic\\n]   \n",
       "15916             [\\narktis-weiß\\n]   \n",
       "15917                  [\\nGrigio\\n]   \n",
       "15918  [\\nTitanium-Grau Metallic\\n]   \n",
       "\n",
       "                      Upholstery  \\\n",
       "0             [\\nCloth, Black\\n]   \n",
       "1              [\\nCloth, Grey\\n]   \n",
       "2             [\\nCloth, Black\\n]   \n",
       "3                            NaN   \n",
       "4             [\\nCloth, Black\\n]   \n",
       "...                          ...   \n",
       "15914                        NaN   \n",
       "15915                [\\nCloth\\n]   \n",
       "15916  [\\nFull leather, Black\\n]   \n",
       "15917         [\\nPart leather\\n]   \n",
       "15918  [\\nFull leather, Brown\\n]   \n",
       "\n",
       "                   Body  \\\n",
       "0      [\\n, Sedans, \\n]   \n",
       "1      [\\n, Sedans, \\n]   \n",
       "2      [\\n, Sedans, \\n]   \n",
       "3      [\\n, Sedans, \\n]   \n",
       "4      [\\n, Sedans, \\n]   \n",
       "...                 ...   \n",
       "15914     [\\n, Van, \\n]   \n",
       "15915     [\\n, Van, \\n]   \n",
       "15916     [\\n, Van, \\n]   \n",
       "15917     [\\n, Van, \\n]   \n",
       "15918     [\\n, Van, \\n]   \n",
       "\n",
       "      Nr. of Doors  \\\n",
       "0          [\\n5\\n]   \n",
       "1          [\\n3\\n]   \n",
       "2          [\\n4\\n]   \n",
       "3          [\\n3\\n]   \n",
       "4          [\\n5\\n]   \n",
       "...            ...   \n",
       "15914      [\\n5\\n]   \n",
       "15915      [\\n5\\n]   \n",
       "15916      [\\n5\\n]   \n",
       "15917      [\\n5\\n]   \n",
       "15918      [\\n5\\n]   \n",
       "\n",
       "      Nr. of Seats  \\\n",
       "0          [\\n5\\n]   \n",
       "1          [\\n4\\n]   \n",
       "2          [\\n4\\n]   \n",
       "3          [\\n4\\n]   \n",
       "4          [\\n5\\n]   \n",
       "...            ...   \n",
       "15914      [\\n5\\n]   \n",
       "15915      [\\n5\\n]   \n",
       "15916      [\\n7\\n]   \n",
       "15917      [\\n7\\n]   \n",
       "15918      [\\n5\\n]   \n",
       "\n",
       "           Model Code  \\\n",
       "0      [\\n0588/BDF\\n]   \n",
       "1      [\\n0588/BCY\\n]   \n",
       "2                 NaN   \n",
       "3                 NaN   \n",
       "4      [\\n0588/BDF\\n]   \n",
       "...               ...   \n",
       "15914             NaN   \n",
       "15915  [\\n0000/000\\n]   \n",
       "15916             NaN   \n",
       "15917             NaN   \n",
       "15918  [\\n3333/BHJ\\n]   \n",
       "\n",
       "              Gearing Type  \\\n",
       "0      [\\n, Automatic, \\n]   \n",
       "1      [\\n, Automatic, \\n]   \n",
       "2      [\\n, Automatic, \\n]   \n",
       "3      [\\n, Automatic, \\n]   \n",
       "4      [\\n, Automatic, \\n]   \n",
       "...                    ...   \n",
       "15914  [\\n, Automatic, \\n]   \n",
       "15915  [\\n, Automatic, \\n]   \n",
       "15916  [\\n, Automatic, \\n]   \n",
       "15917  [\\n, Automatic, \\n]   \n",
       "15918  [\\n, Automatic, \\n]   \n",
       "\n",
       "         Displacement  \\\n",
       "0      [\\n1,422 cc\\n]   \n",
       "1      [\\n1,798 cc\\n]   \n",
       "2      [\\n1,598 cc\\n]   \n",
       "3      [\\n1,422 cc\\n]   \n",
       "4      [\\n1,422 cc\\n]   \n",
       "...               ...   \n",
       "15914  [\\n1,997 cc\\n]   \n",
       "15915  [\\n1,798 cc\\n]   \n",
       "15916  [\\n1,997 cc\\n]   \n",
       "15917  [\\n1,997 cc\\n]   \n",
       "15918  [\\n1,798 cc\\n]   \n",
       "\n",
       "      Cylinders  \\\n",
       "0       [\\n3\\n]   \n",
       "1       [\\n4\\n]   \n",
       "2           NaN   \n",
       "3       [\\n3\\n]   \n",
       "4       [\\n3\\n]   \n",
       "...         ...   \n",
       "15914   [\\n4\\n]   \n",
       "15915   [\\n4\\n]   \n",
       "15916   [\\n4\\n]   \n",
       "15917   [\\n4\\n]   \n",
       "15918   [\\n4\\n]   \n",
       "\n",
       "               Weight  \\\n",
       "0      [\\n1,220 kg\\n]   \n",
       "1      [\\n1,255 kg\\n]   \n",
       "2                 NaN   \n",
       "3      [\\n1,195 kg\\n]   \n",
       "4                 NaN   \n",
       "...               ...   \n",
       "15914  [\\n1,758 kg\\n]   \n",
       "15915  [\\n1,708 kg\\n]   \n",
       "15916             NaN   \n",
       "15917  [\\n1,758 kg\\n]   \n",
       "15918  [\\n1,685 kg\\n]   \n",
       "\n",
       "       Drive chain  \\\n",
       "0      [\\nfront\\n]   \n",
       "1      [\\nfront\\n]   \n",
       "2      [\\nfront\\n]   \n",
       "3              NaN   \n",
       "4      [\\nfront\\n]   \n",
       "...            ...   \n",
       "15914  [\\nfront\\n]   \n",
       "15915  [\\nfront\\n]   \n",
       "15916  [\\nfront\\n]   \n",
       "15917  [\\nfront\\n]   \n",
       "15918    [\\n4WD\\n]   \n",
       "\n",
       "                                Fuel  \\\n",
       "0      [\\n, Diesel (Particulate F...   \n",
       "1                 [\\n, Gasoline, \\n]   \n",
       "2      [\\n, Diesel (Particulate F...   \n",
       "3      [\\n, Diesel (Particulate F...   \n",
       "4      [\\n, Diesel (Particulate F...   \n",
       "...                              ...   \n",
       "15914  [\\n, Diesel (Particulate F...   \n",
       "15915  [\\n, Super 95 / Super Plus...   \n",
       "15916               [\\n, Diesel, \\n]   \n",
       "15917               [\\n, Diesel, \\n]   \n",
       "15918             [\\n, Super 95, \\n]   \n",
       "\n",
       "                         Consumption  \\\n",
       "0      [[3.8 l/100 km (comb)], [4...   \n",
       "1      [[5.6 l/100 km (comb)], [7...   \n",
       "2      [[3.8 l/100 km (comb)], [4...   \n",
       "3      [[3.8 l/100 km (comb)], [4...   \n",
       "4      [[4.1 l/100 km (comb)], [4...   \n",
       "...                              ...   \n",
       "15914  [[5.3 l/100 km (comb)], [6...   \n",
       "15915  [\\n, 7.4 l/100 km (comb), ...   \n",
       "15916  [[5.3 l/100 km (comb)], [6...   \n",
       "15917  [[5.3 l/100 km (comb)], [6...   \n",
       "15918  [[6.8 l/100 km (comb)], [8...   \n",
       "\n",
       "                    CO2 Emission  \\\n",
       "0       [\\n99 g CO2/km (comb)\\n]   \n",
       "1      [\\n129 g CO2/km (comb)\\n]   \n",
       "2       [\\n99 g CO2/km (comb)\\n]   \n",
       "3       [\\n99 g CO2/km (comb)\\n]   \n",
       "4      [\\n109 g CO2/km (comb)\\n]   \n",
       "...                          ...   \n",
       "15914  [\\n139 g CO2/km (comb)\\n]   \n",
       "15915  [\\n168 g CO2/km (comb)\\n]   \n",
       "15916  [\\n139 g CO2/km (comb)\\n]   \n",
       "15917  [\\n139 g CO2/km (comb)\\n]   \n",
       "15918  [\\n153 g CO2/km (comb)\\n]   \n",
       "\n",
       "           Emission Class  \\\n",
       "0            [\\nEuro 6\\n]   \n",
       "1            [\\nEuro 6\\n]   \n",
       "2            [\\nEuro 6\\n]   \n",
       "3            [\\nEuro 6\\n]   \n",
       "4            [\\nEuro 6\\n]   \n",
       "...                   ...   \n",
       "15914                 NaN   \n",
       "15915                 NaN   \n",
       "15916  [\\nEuro 6d-TEMP\\n]   \n",
       "15917        [\\nEuro 6\\n]   \n",
       "15918        [\\nEuro 6\\n]   \n",
       "\n",
       "           \\nComfort & Convenience\\n  \\\n",
       "0      [Air conditioning, Armrest...   \n",
       "1      [Air conditioning, Automat...   \n",
       "2      [Air conditioning, Cruise ...   \n",
       "3      [Air suspension, Armrest, ...   \n",
       "4      [Air conditioning, Armrest...   \n",
       "...                              ...   \n",
       "15914  [Air conditioning, Automat...   \n",
       "15915  [Air conditioning, Automat...   \n",
       "15916  [Air conditioning, Armrest...   \n",
       "15917  [Air conditioning, Automat...   \n",
       "15918  [Air conditioning, Automat...   \n",
       "\n",
       "           \\nEntertainment & Media\\n  \\\n",
       "0      [Bluetooth, Hands-free equ...   \n",
       "1      [Bluetooth, Hands-free equ...   \n",
       "2           [MP3, On-board computer]   \n",
       "3      [Bluetooth, CD player, Han...   \n",
       "4      [Bluetooth, CD player, Han...   \n",
       "...                              ...   \n",
       "15914  [Bluetooth, Digital radio,...   \n",
       "15915  [Bluetooth, Digital radio,...   \n",
       "15916  [Bluetooth, Hands-free equ...   \n",
       "15917  [Bluetooth, Digital radio,...   \n",
       "15918                          [USB]   \n",
       "\n",
       "                          \\nExtras\\n  \\\n",
       "0      [Alloy wheels, Catalytic C...   \n",
       "1      [Alloy wheels, Sport seats...   \n",
       "2      [Alloy wheels, Voice Control]   \n",
       "3      [Alloy wheels, Sport seats...   \n",
       "4      [Alloy wheels, Sport packa...   \n",
       "...                              ...   \n",
       "15914   [Alloy wheels, Touch screen]   \n",
       "15915  [Alloy wheels, Touch scree...   \n",
       "15916                 [Alloy wheels]   \n",
       "15917   [Alloy wheels, Touch screen]   \n",
       "15918   [Alloy wheels, Touch screen]   \n",
       "\n",
       "               \\nSafety & Security\\n  \\\n",
       "0      [ABS, Central door lock, D...   \n",
       "1      [ABS, Central door lock, C...   \n",
       "2      [ABS, Central door lock, D...   \n",
       "3      [ABS, Alarm system, Centra...   \n",
       "4      [ABS, Central door lock, D...   \n",
       "...                              ...   \n",
       "15914  [ABS, Central door lock, C...   \n",
       "15915  [ABS, Adaptive Cruise Cont...   \n",
       "15916  [ABS, Adaptive Cruise Cont...   \n",
       "15917  [ABS, Blind spot monitor, ...   \n",
       "15918  [ABS, Blind spot monitor, ...   \n",
       "\n",
       "                         description  \\\n",
       "0      [\\n, Sicherheit:,  , Deakt...   \n",
       "1      [\\nLangstreckenfahrzeug da...   \n",
       "2      [\\n, Fahrzeug-Nummer: AM-9...   \n",
       "3      [\\nAudi A1: , - 1e eigenaa...   \n",
       "4      [\\n, Technik & Sicherheit:...   \n",
       "...                              ...   \n",
       "15914  [\\nVettura visionabile nel...   \n",
       "15915  [\\nDach: Panorama-Glas-Sch...   \n",
       "15916  [\\n, Getriebe:,  Automatik...   \n",
       "15917  [\\nDEK:[2691331], Renault ...   \n",
       "15918  [\\n, Sicherheit Airbags:, ...   \n",
       "\n",
       "        Emission Label  \\\n",
       "0                  NaN   \n",
       "1      [\\n4 (Green)\\n]   \n",
       "2      [\\n4 (Green)\\n]   \n",
       "3                  NaN   \n",
       "4                  NaN   \n",
       "...                ...   \n",
       "15914              NaN   \n",
       "15915              NaN   \n",
       "15916              NaN   \n",
       "15917              NaN   \n",
       "15918  [\\n4 (Green)\\n]   \n",
       "\n",
       "         Gears  \\\n",
       "0          NaN   \n",
       "1      [\\n7\\n]   \n",
       "2          NaN   \n",
       "3      [\\n6\\n]   \n",
       "4          NaN   \n",
       "...        ...   \n",
       "15914  [\\n6\\n]   \n",
       "15915  [\\n7\\n]   \n",
       "15916  [\\n6\\n]   \n",
       "15917  [\\n6\\n]   \n",
       "15918      NaN   \n",
       "\n",
       "      Country version  \\\n",
       "0                 NaN   \n",
       "1                 NaN   \n",
       "2                 NaN   \n",
       "3                 NaN   \n",
       "4       [\\nGermany\\n]   \n",
       "...               ...   \n",
       "15914             NaN   \n",
       "15915   [\\nGermany\\n]   \n",
       "15916   [\\nAustria\\n]   \n",
       "15917             NaN   \n",
       "15918   [\\nGermany\\n]   \n",
       "\n",
       "      Electricity consumption  \\\n",
       "0                         NaN   \n",
       "1                         NaN   \n",
       "2                         NaN   \n",
       "3                         NaN   \n",
       "4                         NaN   \n",
       "...                       ...   \n",
       "15914                     NaN   \n",
       "15915                     NaN   \n",
       "15916                     NaN   \n",
       "15917                     NaN   \n",
       "15918                     NaN   \n",
       "\n",
       "      Last Service Date  \\\n",
       "0                   NaN   \n",
       "1                   NaN   \n",
       "2                   NaN   \n",
       "3                   NaN   \n",
       "4                   NaN   \n",
       "...                 ...   \n",
       "15914               NaN   \n",
       "15915               NaN   \n",
       "15916               NaN   \n",
       "15917               NaN   \n",
       "15918               NaN   \n",
       "\n",
       "      Other Fuel Types  \\\n",
       "0                  NaN   \n",
       "1                  NaN   \n",
       "2                  NaN   \n",
       "3                  NaN   \n",
       "4                  NaN   \n",
       "...                ...   \n",
       "15914              NaN   \n",
       "15915     [[], [], []]   \n",
       "15916              NaN   \n",
       "15917              NaN   \n",
       "15918              NaN   \n",
       "\n",
       "                        Availability  \\\n",
       "0                                NaN   \n",
       "1                                NaN   \n",
       "2                                NaN   \n",
       "3                                NaN   \n",
       "4                                NaN   \n",
       "...                              ...   \n",
       "15914                            NaN   \n",
       "15915    \\nin 5 days from ordering\\n   \n",
       "15916  \\nin 120 days from ordering\\n   \n",
       "15917                            NaN   \n",
       "15918                            NaN   \n",
       "\n",
       "      Last Timing Belt Service Date  \\\n",
       "0                               NaN   \n",
       "1                               NaN   \n",
       "2                               NaN   \n",
       "3                               NaN   \n",
       "4                               NaN   \n",
       "...                             ...   \n",
       "15914                           NaN   \n",
       "15915                           NaN   \n",
       "15916                           NaN   \n",
       "15917                           NaN   \n",
       "15918                           NaN   \n",
       "\n",
       "      Available from  \n",
       "0                NaN  \n",
       "1                NaN  \n",
       "2                NaN  \n",
       "3                NaN  \n",
       "4                NaN  \n",
       "...              ...  \n",
       "15914            NaN  \n",
       "15915            NaN  \n",
       "15916            NaN  \n",
       "15917            NaN  \n",
       "15918            NaN  \n",
       "\n",
       "[15919 rows x 54 columns]"
      ]
     },
     "execution_count": 3,
     "metadata": {},
     "output_type": "execute_result"
    }
   ],
   "source": [
    "df = pd.read_json('scout_car.json', lines=True)\n",
    "df"
   ]
  },
  {
   "cell_type": "code",
   "execution_count": null,
   "id": "e6b46349-1b8f-471c-8d14-9169f801d2b9",
   "metadata": {},
   "outputs": [],
   "source": [
    "df[\"url\"].value_counts()  #silelim"
   ]
  },
  {
   "cell_type": "code",
   "execution_count": null,
   "id": "f162ac41-724d-4a2d-99e1-e55d8019fcf7",
   "metadata": {},
   "outputs": [],
   "source": [
    "df['make_model'].value_counts()"
   ]
  },
  {
   "cell_type": "code",
   "execution_count": 5,
   "id": "a25a3b4b-2d7a-439e-bff8-f9d5c533803e",
   "metadata": {},
   "outputs": [
    {
     "data": {
      "text/plain": [
       "SPB 1.6 TDI 116 CV S tronic Sport                64\n",
       "NaN                                              46\n",
       "1.4 66kW (90CV) Selective                        40\n",
       "MOVE KLIMA CD USB ALLWETTER BLUETOOTH            38\n",
       "SPB 30 TFSI S tronic Admired                     35\n",
       "SPB 30 TDI S tronic Business                     35\n",
       "Sporter 1.5 dCi 90CV Zen , NAVI - AZIENDALE      32\n",
       "dCi 75 Business Energy eco2 Euro6 55 kW (75 C    31\n",
       "dCi 160CV EDC Energy Intens                      30\n",
       "1.2 5 porte b-Color                              30\n",
       "Name: short_description, dtype: int64"
      ]
     },
     "execution_count": 5,
     "metadata": {},
     "output_type": "execute_result"
    }
   ],
   "source": [
    "df['short_description'].value_counts(dropna=False).head(10)"
   ]
  },
  {
   "cell_type": "code",
   "execution_count": 6,
   "id": "e5ae2cc4-119d-4fe2-983a-6b79cfbccba2",
   "metadata": {},
   "outputs": [],
   "source": [
    "df['engine'] = df['short_description'].str.extract(\"(\\d\\d\\d\\d|\\d.\\d|\\d)\") "
   ]
  },
  {
   "cell_type": "code",
   "execution_count": null,
   "id": "ff7c8ea3-bcd5-4868-af42-baa0802192f0",
   "metadata": {},
   "outputs": [],
   "source": [
    "df['body_type'].value_counts(dropna=False).head(30) "
   ]
  },
  {
   "cell_type": "code",
   "execution_count": null,
   "id": "0604f17e-4e9b-480f-ad4b-f1a6fee52162",
   "metadata": {},
   "outputs": [],
   "source": [
    "df['price'].isna().value_counts()"
   ]
  },
  {
   "cell_type": "code",
   "execution_count": null,
   "id": "eb7c2aeb-686c-4ef6-9e15-6878fef1ba82",
   "metadata": {},
   "outputs": [],
   "source": [
    "df['vat'].value_counts(dropna=False).head(20)   #silinecek"
   ]
  },
  {
   "cell_type": "code",
   "execution_count": null,
   "id": "66e9cbfe-5c47-46e8-a7cf-c689fa67b02e",
   "metadata": {},
   "outputs": [],
   "source": [
    "df['km'].value_counts(dropna=False).head(20)  # - olan yerine  yazdık(1024 tane veri)."
   ]
  },
  {
   "cell_type": "code",
   "execution_count": null,
   "id": "cfee6427-1307-417c-887b-6202bc533825",
   "metadata": {},
   "outputs": [],
   "source": [
    "df['km'] = df['km'].str.replace(r'\\D+', '', regex=True).replace({'':0}).astype('int')"
   ]
  },
  {
   "cell_type": "code",
   "execution_count": null,
   "id": "551b83f7-7cb9-46bb-8fae-7caa24628b7b",
   "metadata": {},
   "outputs": [],
   "source": [
    "df['registration'].value_counts(dropna=False).head(10)    #age hesaplanacak. önce nan düzeltilmeli."
   ]
  },
  {
   "cell_type": "code",
   "execution_count": null,
   "id": "1652c712-f2bf-4856-b705-a2b72c1a490d",
   "metadata": {},
   "outputs": [],
   "source": [
    "df['registration'] = df['registration'].str.extract('(\\d{4})')\n",
    "\n",
    "df['registration'].value_counts() "
   ]
  },
  {
   "cell_type": "code",
   "execution_count": null,
   "id": "7c010bfe-8532-4d7d-8ac6-a2fe2ad15f54",
   "metadata": {},
   "outputs": [],
   "source": [
    "df['prev_owner'].value_counts(dropna=False).head(100)  # bu silinecek."
   ]
  },
  {
   "cell_type": "code",
   "execution_count": null,
   "id": "575b14f4-78d2-4566-8852-7b00510977d5",
   "metadata": {},
   "outputs": [],
   "source": [
    "df[\"Previous Owners\"].value_counts(dropna=False).head(100)  #buradan kaçıncı kişi olduklarını çektik."
   ]
  },
  {
   "cell_type": "code",
   "execution_count": null,
   "id": "4cd8da17-776a-4301-a7f1-9588964e1632",
   "metadata": {},
   "outputs": [],
   "source": [
    "df[\"Previous Owners\"] = [item[0] if type(item)==list else item for item in df[\"Previous Owners\"]]\n",
    "\n",
    "df[\"Previous Owners\"].value_counts().head(100)"
   ]
  },
  {
   "cell_type": "code",
   "execution_count": null,
   "id": "b7f0c1ab-921e-45a8-aefa-8ee527185815",
   "metadata": {},
   "outputs": [],
   "source": [
    "df[\"Previous Owners\"] = df[\"Previous Owners\"].str.extract('(\\d)')"
   ]
  },
  {
   "cell_type": "code",
   "execution_count": null,
   "id": "0402ff6a-265a-4dd8-b925-06851b9fc52c",
   "metadata": {},
   "outputs": [],
   "source": [
    "df['kW'].value_counts().head(100)   # silinecek."
   ]
  },
  {
   "cell_type": "code",
   "execution_count": null,
   "id": "c23ac19a-70f8-4ead-b7b6-c0b284ca44fd",
   "metadata": {},
   "outputs": [],
   "source": [
    "df['hp'].value_counts(dropna=False).head(100)  # tam veriler."
   ]
  },
  {
   "cell_type": "code",
   "execution_count": null,
   "id": "8476ba8d-f67d-4e86-8535-2493dfc971a0",
   "metadata": {},
   "outputs": [],
   "source": [
    "df['hp'] = df['hp'].str.replace(r'\\D+', '', regex=True).replace({'':0}).astype('int')\n",
    "\n",
    "df['hp']"
   ]
  },
  {
   "cell_type": "code",
   "execution_count": null,
   "id": "3e9999c5-3e76-4527-80c6-d8ff817dd5e0",
   "metadata": {},
   "outputs": [],
   "source": [
    "df['Type'].value_counts().head(100)   # 2 tane eksik veri var."
   ]
  },
  {
   "cell_type": "code",
   "execution_count": null,
   "id": "356e9cce-1baa-426e-9bf0-eebb7d73b20d",
   "metadata": {},
   "outputs": [],
   "source": [
    "df['Type']= df['Type'].apply(pd.Series)[1]"
   ]
  },
  {
   "cell_type": "code",
   "execution_count": null,
   "id": "fe20e061-d8a5-4409-852b-1fae9995d0df",
   "metadata": {},
   "outputs": [],
   "source": [
    "df['Next Inspection'].value_counts().head(100)  # aşağıdaki ile karşılaştrıp biri silinecek. Boş olanlar no ile doldurulabilir."
   ]
  },
  {
   "cell_type": "code",
   "execution_count": null,
   "id": "f052859e-c053-42e7-bde5-37f75effe309",
   "metadata": {},
   "outputs": [],
   "source": [
    "df['Next_Inspection'] = df['Next Inspection'].apply(pd.Series)[0].str.extract('(\\d{4})')"
   ]
  },
  {
   "cell_type": "code",
   "execution_count": null,
   "id": "3defdf6b-4849-4962-9618-3a26bbc331f5",
   "metadata": {},
   "outputs": [],
   "source": [
    "df['Inspection new'].value_counts(dropna=False).head(100)  #11987 eksik var. Bu değerler No ile doldurulabilir."
   ]
  },
  {
   "cell_type": "code",
   "execution_count": null,
   "id": "872c7851-2d11-4618-88f4-65812486566d",
   "metadata": {},
   "outputs": [],
   "source": [
    "df['Inspectionnew'] = df['Inspection new'].apply(pd.Series)[0].str.extract('(\\w+)')"
   ]
  },
  {
   "cell_type": "code",
   "execution_count": null,
   "id": "a7a87eff-1e36-4c84-8b5e-704018a07139",
   "metadata": {},
   "outputs": [],
   "source": [
    "df['Warranty'] #.value_counts(dropna=False)  # garanti sürelerini ay olarak aldık. 5645+5420 eksik değer var. Boş olanlar 0 olarak doldurulabilir."
   ]
  },
  {
   "cell_type": "code",
   "execution_count": null,
   "id": "fe291a00-b6f5-48b9-ae86-05a557e0ff3d",
   "metadata": {},
   "outputs": [],
   "source": [
    "df['Warranty'] = df['Warranty'].apply(pd.Series)[0].str.extract('(\\d{1,3})')"
   ]
  },
  {
   "cell_type": "code",
   "execution_count": null,
   "id": "425a5615-f7f5-4f54-8228-b67f8040fa74",
   "metadata": {},
   "outputs": [],
   "source": [
    "df['Full Service'].value_counts().head(100)   # düşülecek."
   ]
  },
  {
   "cell_type": "code",
   "execution_count": null,
   "id": "cf9372e7-76aa-4cc0-8cd2-1ad202309cd3",
   "metadata": {},
   "outputs": [],
   "source": [
    "df['Non-smoking Vehicle'].value_counts().head(100)   # düşülecek."
   ]
  },
  {
   "cell_type": "code",
   "execution_count": null,
   "id": "fd5a7f40-5827-44d3-b8eb-18e85b642cd9",
   "metadata": {},
   "outputs": [],
   "source": [
    "df['null'].value_counts().head(100)  # düşülecek."
   ]
  },
  {
   "cell_type": "code",
   "execution_count": null,
   "id": "4f48b07d-4417-434c-9ace-5e1a909bfaaf",
   "metadata": {},
   "outputs": [],
   "source": [
    "df['Make'].value_counts().head(100)   # düşülecek"
   ]
  },
  {
   "cell_type": "code",
   "execution_count": null,
   "id": "2ea906b2-79dc-42e3-9124-15ab2605426d",
   "metadata": {},
   "outputs": [],
   "source": [
    "df['Model'].value_counts().head(100)    # düşülecek"
   ]
  },
  {
   "cell_type": "code",
   "execution_count": null,
   "id": "1d1af652-7abe-4b0a-82fa-2ba73b3d2ee4",
   "metadata": {},
   "outputs": [],
   "source": [
    "df['offer_number'].value_counts().head(100)   #silinecek."
   ]
  },
  {
   "cell_type": "code",
   "execution_count": null,
   "id": "ec624096-de61-4193-9f71-a46e612b9913",
   "metadata": {},
   "outputs": [],
   "source": [
    "df['First Registration'].value_counts().head(100)  # yukarıdaki registration ile karşılaştırıp biri düşülecek."
   ]
  },
  {
   "cell_type": "code",
   "execution_count": null,
   "id": "5cef319e-88cd-40f6-a077-db78d7188015",
   "metadata": {},
   "outputs": [],
   "source": [
    "df['First Registration']= [\",\".join(item) if type(item)==list else item for item in df['First Registration']]\n",
    "\n",
    "df['First Registration'] = df['First Registration'].str.extract(\"(\\d+)\")  #.isna().value_counts()\n",
    "\n",
    "# buradan age hesaplayacağız."
   ]
  },
  {
   "cell_type": "code",
   "execution_count": null,
   "id": "bf961a9e-9357-4bac-9c70-af9a61ecd566",
   "metadata": {},
   "outputs": [],
   "source": [
    "df['Body Color'].value_counts().head(1000)   # 3 grup yapılabilir. "
   ]
  },
  {
   "cell_type": "code",
   "execution_count": null,
   "id": "eacb17c4-e354-4b82-afcc-bb449a77521b",
   "metadata": {},
   "outputs": [],
   "source": [
    "df['Body Color']= [\",\".join(item) if type(item)==list else item for item in df['Body Color']]\n",
    "\n",
    "df['Body Color'].str.extract(\"(\\w+)\").isna().value_counts()"
   ]
  },
  {
   "cell_type": "code",
   "execution_count": null,
   "id": "847b7731-7e93-4e62-bc8c-018cc98a7730",
   "metadata": {},
   "outputs": [],
   "source": [
    "df['Body Color'] = df['Body Color'].str.extract(\"(\\w+)\")"
   ]
  },
  {
   "cell_type": "code",
   "execution_count": null,
   "id": "bd84e816-595f-4d1e-970e-40b2909acf66",
   "metadata": {},
   "outputs": [],
   "source": [
    "df['Paint Type'].value_counts().head(100)  # düşülebilir."
   ]
  },
  {
   "cell_type": "code",
   "execution_count": null,
   "id": "c9f2d893-0c1b-4cd3-9a87-c480d0e8b1dc",
   "metadata": {},
   "outputs": [],
   "source": [
    "df['Paint Type']= [\",\".join(item) if type(item)==list else item for item in df['Paint Type']]\n",
    "\n",
    "df['Paint Type'].str.extract(\"(\\w+.\\w+)\").isna().value_counts()"
   ]
  },
  {
   "cell_type": "code",
   "execution_count": null,
   "id": "c7d362db-0441-46e3-984e-39650aa8e56d",
   "metadata": {},
   "outputs": [],
   "source": [
    "df['Paint Type'] = df['Paint Type'].str.extract(\"(\\w+.\\w+)\")"
   ]
  },
  {
   "cell_type": "code",
   "execution_count": null,
   "id": "9b1519b0-ae60-49e6-b68e-f8b4cbb0620d",
   "metadata": {},
   "outputs": [],
   "source": [
    "df['Body Color Original'].isna().value_counts()  # ikiye bölünebilir orjinal ve değil diye. "
   ]
  },
  {
   "cell_type": "code",
   "execution_count": null,
   "id": "66db34c0-2b2a-4ba2-bb61-6b35b013598d",
   "metadata": {},
   "outputs": [],
   "source": [
    "df['Body Color Original']= [item[0] if type(item)==list else item for item in df['Body Color Original']]\n",
    "\n",
    "df['Body Color Original'].str.extract(\"(\\w+.\\w+)\").value_counts()"
   ]
  },
  {
   "cell_type": "code",
   "execution_count": null,
   "id": "c97c2403-335a-43b8-be31-5a8c7d9eea2f",
   "metadata": {},
   "outputs": [],
   "source": [
    "df['Body Color Original'] = df['Body Color Original'].str.extract(\"(\\w+.\\w+)\")"
   ]
  },
  {
   "cell_type": "code",
   "execution_count": null,
   "id": "8c0722b5-9ff1-4e30-b4a5-fde8bd646dda",
   "metadata": {},
   "outputs": [],
   "source": [
    "df['Upholstery'].value_counts().head(10)  #ikiye ayrılabilir cloth ve full leather diye"
   ]
  },
  {
   "cell_type": "code",
   "execution_count": null,
   "id": "b8b104ac-b7fc-41c8-9e17-801b543fb0e4",
   "metadata": {},
   "outputs": [],
   "source": [
    "df['Upholstery type'] = df.Upholstery.apply(pd.Series)[0].str.split(\",\", n = 1, expand = True)[0].str.extract(\"(\\w+..\\w+)\")"
   ]
  },
  {
   "cell_type": "code",
   "execution_count": null,
   "id": "d254a9a8-06a4-4da2-8a0e-eab5742cc175",
   "metadata": {},
   "outputs": [],
   "source": [
    "df['Upholstery color'] = df.Upholstery.apply(pd.Series)[0].str.split(\",\", n = 1, expand = True)[1].str.extract(\"(\\w+..\\w+)\")"
   ]
  },
  {
   "cell_type": "code",
   "execution_count": null,
   "id": "73680ea8-0a1a-4e82-b6b7-9e7a82eb9ecf",
   "metadata": {},
   "outputs": [],
   "source": [
    "df['Body'].value_counts().head(10)"
   ]
  },
  {
   "cell_type": "code",
   "execution_count": null,
   "id": "01fb58bd-bcad-4fdc-978a-a18c270a4c84",
   "metadata": {},
   "outputs": [],
   "source": [
    "df['Body']= [\",\".join(item) if type(item)==list else item for item in df['Body']]\n",
    "\n",
    "df['Body'].str.extract(\"(\\w+.\\w+)\").value_counts()"
   ]
  },
  {
   "cell_type": "code",
   "execution_count": null,
   "id": "9a623272-fb9b-4acd-8c21-10be8d7ac46b",
   "metadata": {},
   "outputs": [],
   "source": [
    "df['Body'] = df['Body'].str.extract(\"(\\w+.\\w+)\")"
   ]
  },
  {
   "cell_type": "code",
   "execution_count": null,
   "id": "4a2cd32e-4564-466c-8d22-f4b10ea50dd3",
   "metadata": {},
   "outputs": [],
   "source": [
    "df['Nr. of Doors'].value_counts().head(10)"
   ]
  },
  {
   "cell_type": "code",
   "execution_count": null,
   "id": "d0d7602f-8cd8-424b-93b4-0dfbe694c073",
   "metadata": {},
   "outputs": [],
   "source": [
    "df['Nr. of Doors']= [item[0] if type(item)==list else item for item in df['Nr. of Doors']]\n",
    "\n",
    "df['Nr. of Doors'].str.extract(\"(\\w+)\").isna().value_counts()"
   ]
  },
  {
   "cell_type": "code",
   "execution_count": null,
   "id": "77f5bea8-e739-437d-879d-8abab0b7489d",
   "metadata": {},
   "outputs": [],
   "source": [
    "df['Nr. of Doors'] = df['Nr. of Doors'].str.extract(\"(\\w+)\")"
   ]
  },
  {
   "cell_type": "code",
   "execution_count": null,
   "id": "81f62612-3283-4166-928e-f1783bc0d0fc",
   "metadata": {},
   "outputs": [],
   "source": [
    "df['Nr. of Seats'].value_counts().head(10)"
   ]
  },
  {
   "cell_type": "code",
   "execution_count": null,
   "id": "610996d5-6aad-4650-ac8b-18f800fef8db",
   "metadata": {},
   "outputs": [],
   "source": [
    "df['Nr. of Seats']= [item[0] if type(item)==list else item for item in df['Nr. of Seats']]\n",
    "\n",
    "df['Nr. of Seats'].str.extract(\"(\\w+)\").isna().value_counts()"
   ]
  },
  {
   "cell_type": "code",
   "execution_count": null,
   "id": "4b6358ac-810a-4038-97d9-f85da1130023",
   "metadata": {},
   "outputs": [],
   "source": [
    "df['Nr. of Seats'] = df['Nr. of Seats'].str.extract(\"(\\w+)\")"
   ]
  },
  {
   "cell_type": "code",
   "execution_count": null,
   "id": "06cbdc52-bb9b-4c4f-bde2-7ccecbe4bcbf",
   "metadata": {},
   "outputs": [],
   "source": [
    "df['Model Code'].value_counts().head(10)  #silinebilir. belki eksikler bundan tamalanabilir."
   ]
  },
  {
   "cell_type": "code",
   "execution_count": null,
   "id": "69edd66d-ac1e-46a2-b6ce-f48e1807ede8",
   "metadata": {},
   "outputs": [],
   "source": [
    "df['Gearing Type'].value_counts().head(10)   # aşağıdaki gears ile karşılaştırıp birini elemek lazım."
   ]
  },
  {
   "cell_type": "code",
   "execution_count": null,
   "id": "0d96a495-bde7-43bd-8e51-1017ff77cc86",
   "metadata": {},
   "outputs": [],
   "source": [
    "df['Gearing Type']= [\",\".join(item) if type(item)==list else item for item in df['Gearing Type']]\n",
    "\n",
    "df['Gearing Type'] = df['Gearing Type'].str.extract(\"(\\w+.\\w+)\")  #.isna().value_counts()"
   ]
  },
  {
   "cell_type": "code",
   "execution_count": null,
   "id": "f2f4577c-3fcd-454c-8af1-f9ae5d1acc7c",
   "metadata": {},
   "outputs": [],
   "source": [
    "df['Displacement'].value_counts().head(10)     # cc bunu engine ile karşılaştırmak lazım"
   ]
  },
  {
   "cell_type": "code",
   "execution_count": null,
   "id": "336c04d6-2760-4da9-8ad1-321f4c13a610",
   "metadata": {},
   "outputs": [],
   "source": [
    "df['Displacement']= [\",\".join(item) if type(item)==list else item for item in df['Displacement']]\n",
    "\n",
    "df['Displacement'].str.extract(\"(\\d+.\\d+)\").value_counts()"
   ]
  },
  {
   "cell_type": "code",
   "execution_count": null,
   "id": "e4d560cc-d31e-4a37-97c6-d01b7cc1a223",
   "metadata": {},
   "outputs": [],
   "source": [
    "df['Displacement'] = df['Displacement'].str.extract(\"(\\d+.\\d+)\")"
   ]
  },
  {
   "cell_type": "code",
   "execution_count": null,
   "id": "09b7ec22-97e7-4ed0-bfc1-bf801d29ae6f",
   "metadata": {},
   "outputs": [],
   "source": [
    "df['Cylinders'].value_counts().head(10)"
   ]
  },
  {
   "cell_type": "code",
   "execution_count": null,
   "id": "aadf78a1-fe59-4e25-9e33-41745f4452ed",
   "metadata": {},
   "outputs": [],
   "source": [
    "df['Cylinders']= [item[0] if type(item)==list else item for item in df['Cylinders']]\n",
    "\n",
    "df['Cylinders'].str.extract(\"(\\d+)\").value_counts()"
   ]
  },
  {
   "cell_type": "code",
   "execution_count": null,
   "id": "5d7a8eab-2e85-454c-a919-0a0e14e49b85",
   "metadata": {},
   "outputs": [],
   "source": [
    "df['Cylinders'] = df['Cylinders'].str.extract(\"(\\d+)\")"
   ]
  },
  {
   "cell_type": "code",
   "execution_count": null,
   "id": "5f6ea8a7-be9a-4958-bab5-99ccf94d485a",
   "metadata": {},
   "outputs": [],
   "source": [
    "df['Weight'].value_counts().head(10)  # düşülecek."
   ]
  },
  {
   "cell_type": "code",
   "execution_count": null,
   "id": "f838c246-f13e-4f73-aad0-2b5728e489c7",
   "metadata": {},
   "outputs": [],
   "source": [
    "df['Drive chain'].value_counts().head(10)  #düşülebilir."
   ]
  },
  {
   "cell_type": "code",
   "execution_count": null,
   "id": "2e1e2a55-c588-484a-98d8-5369d0e65ce9",
   "metadata": {},
   "outputs": [],
   "source": [
    "df[\"Fuel\"].value_counts().head(10)   # bunu 2 gruba ayıracağız."
   ]
  },
  {
   "cell_type": "code",
   "execution_count": null,
   "id": "4ac77873-dec9-4ff1-9519-eab5edcc0b68",
   "metadata": {},
   "outputs": [],
   "source": [
    "df['Fuel']= [\",\".join(item) if type(item)==list else item for item in df['Fuel']]\n",
    "\n",
    "df['Fuel']=df['Fuel'].str.replace(r'[\\s,\\s./]', ' ', regex=True).replace({'':0}, inplace=False)"
   ]
  },
  {
   "cell_type": "code",
   "execution_count": null,
   "id": "c685de1c-cdf5-4834-bcf3-7612a051eb72",
   "metadata": {},
   "outputs": [],
   "source": [
    "benzine = [\"Gasoline\",\"Super 95\",\"Regular\", \"Super E10 95\",\"Super Plus 98\",\"Super Plus E10 98\",\"Others\"]\n",
    "\n",
    "lpg = [\"LPG\",\"Liquid petroleum gas\",\"CNG\",\"Biogas\",\"Domestic gas H\"]\n",
    "\n",
    "\n",
    "def fueltype(x):\n",
    "    if x in benzine:\n",
    "        return \"Benzine\"\n",
    "    elif x in lpg:\n",
    "        return \"LPG/CNG\"\n",
    "    else :\n",
    "        return x\n",
    "\n",
    "df[\"Fuel\"] = df[\"Fuel\"].apply(fueltype)\n",
    "\n",
    "df[\"Fuel\"]"
   ]
  },
  {
   "cell_type": "code",
   "execution_count": null,
   "id": "de164d28-146e-46a2-a37e-1a2d71de49d0",
   "metadata": {},
   "outputs": [],
   "source": [
    "df['Consumption'].value_counts().head(10)"
   ]
  },
  {
   "cell_type": "code",
   "execution_count": null,
   "id": "64a17253-db9f-4de9-97ac-b9224b6852f5",
   "metadata": {},
   "outputs": [],
   "source": [
    "df['Concomb'] = df['Consumption'].apply(pd.Series)[0].apply(pd.Series)"
   ]
  },
  {
   "cell_type": "code",
   "execution_count": null,
   "id": "764e2c8d-cffc-48bb-91b5-6e71bcf5eab4",
   "metadata": {},
   "outputs": [],
   "source": [
    "df['Concity'] = df['Consumption'].apply(pd.Series)[1].apply(pd.Series)"
   ]
  },
  {
   "cell_type": "code",
   "execution_count": null,
   "id": "ab7d8e38-35fc-469c-90e5-6d86d2eeaf5a",
   "metadata": {},
   "outputs": [],
   "source": [
    "df['Concountry'] = df['Consumption'].apply(pd.Series)[2].apply(pd.Series)"
   ]
  },
  {
   "cell_type": "code",
   "execution_count": null,
   "id": "060c7a0c-0db8-43b3-841f-a319500ac084",
   "metadata": {},
   "outputs": [],
   "source": [
    "df['Conn'] = df['Consumption'].apply(pd.Series)[3].apply(pd.Series)"
   ]
  },
  {
   "cell_type": "code",
   "execution_count": null,
   "id": "2c8c6e17-a692-4074-ba5c-1482fb501ebe",
   "metadata": {},
   "outputs": [],
   "source": [
    "df['Connn'] = df['Consumption'].apply(pd.Series)[5].apply(pd.Series)"
   ]
  },
  {
   "cell_type": "code",
   "execution_count": null,
   "id": "0d079812-be1a-45ff-8a21-c7038e92fa6e",
   "metadata": {},
   "outputs": [],
   "source": [
    "df1 = pd.concat([df['Concomb'],df['Concity'],df['Concountry'],df['Conn'],df['Connn']], axis=1)"
   ]
  },
  {
   "cell_type": "code",
   "execution_count": null,
   "id": "3b00ccb6-72c1-4a89-ae3c-c192529184c8",
   "metadata": {},
   "outputs": [],
   "source": [
    "df2 = df1.copy().astype(\"str\")"
   ]
  },
  {
   "cell_type": "code",
   "execution_count": null,
   "id": "2fd49d34-8db4-4c28-8214-05f0c9ed8d70",
   "metadata": {},
   "outputs": [],
   "source": [
    "df2 = df2.replace(\"\\n\", np.nan)\n",
    "\n",
    "df2"
   ]
  },
  {
   "cell_type": "code",
   "execution_count": null,
   "id": "400e367f-98ae-4ce9-910e-1427210ebe83",
   "metadata": {},
   "outputs": [],
   "source": [
    "df2.Concomb.fillna(df2.Concity, inplace=True)\n",
    "\n",
    "df2.Concomb"
   ]
  },
  {
   "cell_type": "code",
   "execution_count": null,
   "id": "a241631d-e7b9-4f38-b555-6bbc567f64f1",
   "metadata": {},
   "outputs": [],
   "source": [
    "df2.Concountry.fillna(df2.Connn, inplace=True)\n",
    "\n",
    "df2.Concountry"
   ]
  },
  {
   "cell_type": "code",
   "execution_count": null,
   "id": "f7159268-1c15-4ee3-94d7-da7d5716c26e",
   "metadata": {},
   "outputs": [],
   "source": [
    "df2[\"Concity\"] = np.where(df2.Concity.str.contains(\"comb\"), df.Conn, df2.Concity)  \n",
    "\n",
    "df2[\"Concity\"]"
   ]
  },
  {
   "cell_type": "code",
   "execution_count": null,
   "id": "56471be2-2045-48c8-b797-7cd370030fd1",
   "metadata": {},
   "outputs": [],
   "source": [
    "df2.drop(columns=[\"Conn\",\"Connn\"], axis = 0, inplace=True)"
   ]
  },
  {
   "cell_type": "code",
   "execution_count": null,
   "id": "8e97d3e9-a5e9-4280-8944-22faf896fccc",
   "metadata": {},
   "outputs": [],
   "source": [
    "df2.Concomb = df2.Concomb.str.extract(\"(\\d\\d|\\d.\\d|\\d)\")"
   ]
  },
  {
   "cell_type": "code",
   "execution_count": null,
   "id": "9910ac89-3a28-4b0f-8306-fac8d81c1462",
   "metadata": {},
   "outputs": [],
   "source": [
    "df2.Concity = df2.Concity.str.extract(\"(\\d\\d|\\d.\\d|\\d)\")"
   ]
  },
  {
   "cell_type": "code",
   "execution_count": null,
   "id": "d7186a3c-cc93-4ece-b5c6-47b09c141c28",
   "metadata": {},
   "outputs": [],
   "source": [
    "df2.Concountry = df2.Concountry.str.extract(\"(\\d\\d|\\d.\\d|\\d)\")"
   ]
  },
  {
   "cell_type": "code",
   "execution_count": null,
   "id": "f66d4bc8-14ff-4c39-b177-1a3a24e8b287",
   "metadata": {},
   "outputs": [],
   "source": [
    "df[[\"Cons_comb\", \"Cons_city\", \"Cons_country\"]] = df2[[\"Concomb\",\"Concity\", \"Concountry\"]]"
   ]
  },
  {
   "cell_type": "code",
   "execution_count": null,
   "id": "2938edf9-0c20-47c7-a306-9aabbf7e2dfc",
   "metadata": {},
   "outputs": [],
   "source": [
    "df['CO2 Emission'].value_counts().head(100)   # kalabilir"
   ]
  },
  {
   "cell_type": "code",
   "execution_count": null,
   "id": "37f59973-04f2-4943-a02f-ba88511c6a6e",
   "metadata": {},
   "outputs": [],
   "source": [
    "df['CO2 Emission']= [item[0] if type(item)==list else item for item in df['CO2 Emission']]\n",
    "\n",
    "df['CO2 Emission'].str.extract(\"(\\d+)\").value_counts().head(20)"
   ]
  },
  {
   "cell_type": "code",
   "execution_count": null,
   "id": "399004e3-0a8e-4fe1-9c01-438efc2b3ee2",
   "metadata": {},
   "outputs": [],
   "source": [
    "df['CO2 Emission'] = df['CO2 Emission'].str.extract(\"(\\d+)\")"
   ]
  },
  {
   "cell_type": "code",
   "execution_count": null,
   "id": "139cb6f5-ac70-4c77-8308-3f2e22815094",
   "metadata": {},
   "outputs": [],
   "source": [
    "df['Emission Class'].value_counts().head(50)"
   ]
  },
  {
   "cell_type": "code",
   "execution_count": null,
   "id": "81c34970-9f3a-4846-8e96-8d3a66ada90e",
   "metadata": {},
   "outputs": [],
   "source": [
    "df['Emission Class']= [item[0] if type(item)==list else item for item in df['Emission Class']]\n",
    "\n",
    "df['Emission Class'].str.extract(\"(\\w.+)\").value_counts().head()"
   ]
  },
  {
   "cell_type": "code",
   "execution_count": null,
   "id": "79adf15e-12c5-4950-b48d-6daa5a421fbb",
   "metadata": {},
   "outputs": [],
   "source": [
    "df['Emission Class'] = df['Emission Class'].str.extract(\"(\\w.+)\")"
   ]
  },
  {
   "cell_type": "code",
   "execution_count": null,
   "id": "08f38c3d-cb20-46de-9edf-5c196ca381a1",
   "metadata": {},
   "outputs": [],
   "source": [
    "df['\\nComfort & Convenience\\n']"
   ]
  },
  {
   "cell_type": "code",
   "execution_count": null,
   "id": "94c55e97-1ac9-4ac5-8e0b-d4bdb4afc800",
   "metadata": {},
   "outputs": [],
   "source": [
    "dfair = df['\\nComfort & Convenience\\n'].apply(pd.Series)"
   ]
  },
  {
   "cell_type": "code",
   "execution_count": null,
   "id": "ea92d680-ec90-4f20-9687-e5b878d0936f",
   "metadata": {},
   "outputs": [],
   "source": [
    "df[\"Air conditioning\"] = np.where(df['Comfort'].str.contains(\"Air conditioning\"), 1, 0)  \n",
    "\n",
    "df[\"Air conditioning\"]"
   ]
  },
  {
   "cell_type": "code",
   "execution_count": null,
   "id": "b4a23405-ffa1-42fb-b9f9-daf24efb2a95",
   "metadata": {},
   "outputs": [],
   "source": [
    "df[\"Cruise control\"] = np.where(df['Comfort'].str.contains(\"Cruise control\"), 1, 0)  \n",
    "\n",
    "df[\"Cruise control\"]"
   ]
  },
  {
   "cell_type": "code",
   "execution_count": null,
   "id": "86177a44-7890-4276-a4ea-f6ccb9851b46",
   "metadata": {},
   "outputs": [],
   "source": [
    "df[\"Automatic climate control\"] = np.where(df['Comfort'].str.contains(\"Automatic climate control\"), 1, 0)  \n",
    "\n",
    "df[\"Automatic climate control\"]"
   ]
  },
  {
   "cell_type": "code",
   "execution_count": null,
   "id": "9e433a62-c1f2-46ce-b95f-faba29ce2536",
   "metadata": {},
   "outputs": [],
   "source": [
    "df[\"Armrest\"] = np.where(df['Comfort'].str.contains(\"Armrest\"), 1, 0)  \n",
    "\n",
    "df[\"Armrest\"]"
   ]
  },
  {
   "cell_type": "code",
   "execution_count": null,
   "id": "f135be86-45e8-43d1-984e-ba801938bf7f",
   "metadata": {},
   "outputs": [],
   "source": [
    "df[\"Electrical side mirrors\"] = np.where(df['Comfort'].str.contains(\"Electrical side mirrors\"), 1, 0)  \n",
    "\n",
    "df[\"Electrical side mirrors\"]"
   ]
  },
  {
   "cell_type": "code",
   "execution_count": null,
   "id": "fcc205f4-0f88-4719-a140-472af2253fc5",
   "metadata": {},
   "outputs": [],
   "source": [
    "df[\"Navigation system\"] = np.where(df['Comfort'].str.contains(\"Navigation system\"), 1, 0)  \n",
    "\n",
    "df[\"Navigation system\"]"
   ]
  },
  {
   "cell_type": "code",
   "execution_count": null,
   "id": "d881fe3f-1c0a-4c01-a154-d904849fb930",
   "metadata": {},
   "outputs": [],
   "source": [
    "df[\"Multi-function steering wheel\"] = np.where(df['Comfort'].str.contains(\"Multi-function steering wheel\"), 1, 0)  \n",
    "\n",
    "df[\"Multi-function steering wheel\"]"
   ]
  },
  {
   "cell_type": "code",
   "execution_count": null,
   "id": "9e03fd04-18c6-421e-aa99-aed6ca899a34",
   "metadata": {},
   "outputs": [],
   "source": [
    "df[\"Power windows\"] = np.where(df['Comfort'].str.contains(\"Power windows\"), 1, 0)  \n",
    "\n",
    "df[\"Power windows\"]"
   ]
  },
  {
   "cell_type": "code",
   "execution_count": null,
   "id": "60d19ece-4ac5-4e51-ba80-ec57d87a1ba3",
   "metadata": {},
   "outputs": [],
   "source": [
    "df[\"Sunroof\"] = np.where(df['Comfort'].str.contains(\"Sunroof\"), 1, 0)  \n",
    "\n",
    "df[\"Sunroof\"]"
   ]
  },
  {
   "cell_type": "code",
   "execution_count": null,
   "id": "75475acc-e04b-403e-87e9-de2111547e22",
   "metadata": {},
   "outputs": [],
   "source": [
    "df[\"Leather steering wheel \"] = np.where(df['Comfort'].str.contains(\"Leather steering wheel\"), 1, 0)  \n",
    "\n",
    "df[\"Leather steering wheel \"]"
   ]
  },
  {
   "cell_type": "code",
   "execution_count": null,
   "id": "6377b874-921a-498f-9614-88bb027d55ac",
   "metadata": {},
   "outputs": [],
   "source": [
    "df[\"Park Distance Control\"] = np.where(df['Comfort'].str.contains(\"Park Distance Control\"), 1, 0)  \n",
    "\n",
    "df[\"Park Distance Control\"]"
   ]
  },
  {
   "cell_type": "code",
   "execution_count": null,
   "id": "0b56c45f-1aca-4af1-ba5a-22b4bc1b4284",
   "metadata": {},
   "outputs": [],
   "source": [
    "df[\"Hill Holder\"] = np.where(df['Comfort'].str.contains(\"Hill Holder\"), 1, 0)  \n",
    "\n",
    "df[\"Hill Holder\"]"
   ]
  },
  {
   "cell_type": "code",
   "execution_count": null,
   "id": "6a9c7927-807e-4546-a2aa-d2fa706cc257",
   "metadata": {},
   "outputs": [],
   "source": [
    "df[\"Light sensor\"] = np.where(df['Comfort'].str.contains(\"Light sensor\"), 1, 0)  \n",
    "\n",
    "df[\"Light sensor\"]"
   ]
  },
  {
   "cell_type": "code",
   "execution_count": null,
   "id": "0bea6b4e-0585-47e5-b4b7-9cf7297f96be",
   "metadata": {},
   "outputs": [],
   "source": [
    "df[\"Electrically heated windshield\"] = np.where(df['Comfort'].str.contains(\"Electrically heated windshield\"), 1, 0)  \n",
    "\n",
    "df[\"Electrically heated windshield\"]"
   ]
  },
  {
   "cell_type": "code",
   "execution_count": null,
   "id": "cd739521-ebc7-48e4-936d-b190b088459e",
   "metadata": {},
   "outputs": [],
   "source": [
    "df[\"Electrically adjustable seats\"] = np.where(df['Comfort'].str.contains(\"Electrically adjustable seats\"), 1, 0)  \n",
    "\n",
    "df[\"Electrically adjustable seats\"]"
   ]
  },
  {
   "cell_type": "code",
   "execution_count": null,
   "id": "50341a74-536e-47cb-99f3-34da4c1c1e8f",
   "metadata": {},
   "outputs": [],
   "source": [
    "df[\"Electrical side mirrors\"] = np.where(df['Comfort'].str.contains(\"Electrical side mirrors\"), 1, 0)  \n",
    "\n",
    "df[\"Electrical side mirrors\"]"
   ]
  },
  {
   "cell_type": "code",
   "execution_count": null,
   "id": "25272407-39d4-43df-a5dd-c951e4802ce5",
   "metadata": {},
   "outputs": [],
   "source": [
    "df[\"Multi-function steering wheel\"] = np.where(df['Comfort'].str.contains(\"Multi-function steering wheel\"), 1, 0)  \n",
    "\n",
    "df[\"Multi-function steering wheel\"]"
   ]
  },
  {
   "cell_type": "code",
   "execution_count": null,
   "id": "a0841599-9dcc-4a62-b00a-4e04483d1474",
   "metadata": {},
   "outputs": [],
   "source": [
    "df[\"Seat ventilation\"] = np.where(df['Comfort'].str.contains(\"Seat ventilation\"), 1, 0)  \n",
    "\n",
    "df[\"Seat ventilation\"]"
   ]
  },
  {
   "cell_type": "code",
   "execution_count": null,
   "id": "76f69bc3-dac2-4e90-8216-664dc0f3930b",
   "metadata": {},
   "outputs": [],
   "source": [
    "df[\"Rain sensor\"] = np.where(df['Comfort'].str.contains(\"Rain sensor\"), 1, 0)  \n",
    "\n",
    "df[\"Rain sensor\"]"
   ]
  },
  {
   "cell_type": "code",
   "execution_count": null,
   "id": "467f3582-af12-41ab-90cf-178d326502c7",
   "metadata": {},
   "outputs": [],
   "source": [
    "df[\"Split rear seats\"] = np.where(df['Comfort'].str.contains(\"Split rear seats\"), 1, 0)  \n",
    "\n",
    "df[\"Split rear seats\"]"
   ]
  },
  {
   "cell_type": "code",
   "execution_count": null,
   "id": "d30ac154-f84c-4c77-a3b3-ef04b66a0144",
   "metadata": {},
   "outputs": [],
   "source": [
    "df[\"Electric tailgate\"] = np.where(df['Comfort'].str.contains(\"Electric tailgate\"), 1, 0)  \n",
    "\n",
    "df[\"Electric tailgate\"]"
   ]
  },
  {
   "cell_type": "code",
   "execution_count": null,
   "id": "febbe0a5-2869-49f7-964e-1b2089b89563",
   "metadata": {},
   "outputs": [],
   "source": [
    "df[\"Keyless central door lock\"] = np.where(df['Comfort'].str.contains(\"Keyless central door lock\"), 1, 0)  \n",
    "\n",
    "df[\"Keyless central door lock\"]"
   ]
  },
  {
   "cell_type": "code",
   "execution_count": null,
   "id": "005c3f91-2240-4889-ac7f-c8a5c227fc77",
   "metadata": {},
   "outputs": [],
   "source": [
    "df[\"Parking assist system sensors front\"] = np.where(df['Comfort'].str.contains(\"Parking assist system sensors front\"), 1, 0)  \n",
    "\n",
    "df[\"Parking assist system sensors front\"]"
   ]
  },
  {
   "cell_type": "code",
   "execution_count": null,
   "id": "f850277f-0cf1-44ec-be92-152602900e73",
   "metadata": {},
   "outputs": [],
   "source": [
    "df['\\nEntertainment & Media\\n'].value_counts(dropna=False).head(10)"
   ]
  },
  {
   "cell_type": "code",
   "execution_count": null,
   "id": "93d2c47a-5075-4d95-b842-ab9c72371b4a",
   "metadata": {},
   "outputs": [],
   "source": [
    "df['\\nEntertainment & Media\\n']= [\",\".join(item) if type(item)==list else item for item in df['\\nEntertainment & Media\\n']]\n",
    "\n",
    "df[\"Entertainment\"] = df['\\nEntertainment & Media\\n'].str.extract(\"(\\w.+)\")"
   ]
  },
  {
   "cell_type": "code",
   "execution_count": null,
   "id": "bd8fad01-981c-4205-a7a7-75e0fe571295",
   "metadata": {},
   "outputs": [],
   "source": [
    "dfent = df['\\nEntertainment & Media\\n'].apply(pd.Series)\n",
    "\n",
    "dfent.head(5)"
   ]
  },
  {
   "cell_type": "code",
   "execution_count": null,
   "id": "08814f93-82c4-4165-82f0-d08a9a4d1987",
   "metadata": {},
   "outputs": [],
   "source": [
    "df[\"Bluetooth\"] = np.where(df[\"Entertainment\"].str.contains(\"Bluetooth\"), 1, 0)  \n",
    "\n",
    "df[\"Bluetooth\"]"
   ]
  },
  {
   "cell_type": "code",
   "execution_count": null,
   "id": "9b2af641-11b8-4385-8a96-2dfac94ba3fa",
   "metadata": {},
   "outputs": [],
   "source": [
    "df[\"Hands-free equipment\"] = np.where(df[\"Entertainment\"].str.contains(\"Hands-free equipment\"), 1, 0)  \n",
    "\n",
    "df[\"Hands-free equipment\"]"
   ]
  },
  {
   "cell_type": "code",
   "execution_count": null,
   "id": "ed8a3bcd-32d5-49f7-88fe-db4c5e3dcbc0",
   "metadata": {},
   "outputs": [],
   "source": [
    "df[\"On-board computer\"] = np.where(df[\"Entertainment\"].str.contains(\"On-board computer\"), 1, 0)  \n",
    "\n",
    "df[\"On-board computer\"]"
   ]
  },
  {
   "cell_type": "code",
   "execution_count": null,
   "id": "266bf4c5-1b95-4c8b-a976-7123a0cf62f5",
   "metadata": {},
   "outputs": [],
   "source": [
    "df[\"Radio\"] = np.where(df[\"Entertainment\"].str.contains(\"Radio\"), 1, 0)  \n",
    "\n",
    "df[\"Radio\"]"
   ]
  },
  {
   "cell_type": "code",
   "execution_count": null,
   "id": "89534163-0d2e-42cc-adec-91e3ffe9e1a8",
   "metadata": {},
   "outputs": [],
   "source": [
    "df[\"CD player\"] = np.where(df[\"Entertainment\"].str.contains(\"CD player\"), 1, 0)  \n",
    "\n",
    "df[\"CD player\"] "
   ]
  },
  {
   "cell_type": "code",
   "execution_count": null,
   "id": "f3d4b449-e64a-4180-bbfb-0653fff63a6d",
   "metadata": {},
   "outputs": [],
   "source": [
    "df[\"Television\"] = np.where(df[\"Entertainment\"].str.contains(\"Television\"), 1, 0)  \n",
    "\n",
    "df[\"Television\"] "
   ]
  },
  {
   "cell_type": "code",
   "execution_count": null,
   "id": "244618ff-47c7-4033-a16d-bd510b891dae",
   "metadata": {},
   "outputs": [],
   "source": [
    "df[\"Digital radio\"] = np.where(df[\"Entertainment\"].str.contains(\"Digital radio\"), 1, 0)  \n",
    "\n",
    "df[\"Digital radio\"] "
   ]
  },
  {
   "cell_type": "code",
   "execution_count": null,
   "id": "e2cb816a-dcaf-4ce8-93f6-d3070f58f3d1",
   "metadata": {},
   "outputs": [],
   "source": [
    "df[\"MP3\"] = np.where(df[\"Entertainment\"].str.contains(\"MP3\"), 1, 0)  \n",
    "\n",
    "df[\"MP3\"] "
   ]
  },
  {
   "cell_type": "code",
   "execution_count": null,
   "id": "7a91842e-eb01-47fa-9c98-6d38a790cab7",
   "metadata": {},
   "outputs": [],
   "source": [
    "df[\"Sound system\"] = np.where(df[\"Entertainment\"].str.contains(\"Sound system\"), 1, 0)  \n",
    "\n",
    "df[\"Sound system\"] "
   ]
  },
  {
   "cell_type": "code",
   "execution_count": null,
   "id": "d309462a-5b8b-45da-8ac3-8b51e26129ee",
   "metadata": {},
   "outputs": [],
   "source": [
    "df[\"USB\"] = np.where(df[\"Entertainment\"].str.contains(\"USB\"), 1, 0)  \n",
    "\n",
    "df[\"USB\"]"
   ]
  },
  {
   "cell_type": "code",
   "execution_count": null,
   "id": "9cf4058a-e47d-44d7-b27a-a026ec6ff93c",
   "metadata": {},
   "outputs": [],
   "source": [
    "df['\\nExtras\\n'].value_counts().head(10)"
   ]
  },
  {
   "cell_type": "code",
   "execution_count": null,
   "id": "90c5c029-19c0-4607-a412-035cd5f4eb68",
   "metadata": {},
   "outputs": [],
   "source": [
    "df['\\nExtras\\n']= [\",\".join(item) if type(item)==list else item for item in df['\\nExtras\\n']]\n",
    "\n",
    "df['Extras'] =  df['\\nExtras\\n'].str.extract(\"(\\w.+)\")    #.isna().value_counts().head()\n",
    "\n",
    "df['Extras']"
   ]
  },
  {
   "cell_type": "code",
   "execution_count": null,
   "id": "8572131d-2045-4b5f-b93c-49b11d7b655e",
   "metadata": {},
   "outputs": [],
   "source": [
    "df[\"Alloy wheels\"] = np.where(df['Extras'].str.contains(\"Alloy wheels\"), 1, 0)  \n",
    "\n",
    "df[\"Alloy wheels\"]"
   ]
  },
  {
   "cell_type": "code",
   "execution_count": null,
   "id": "f1f792cc-5f4d-4522-a9ce-82f9555f065e",
   "metadata": {},
   "outputs": [],
   "source": [
    "df[\"Touch screen\"] = np.where(df['Extras'].str.contains(\"Touch screen\"), 1, 0)  \n",
    "\n",
    "df[\"Touch screen\"]"
   ]
  },
  {
   "cell_type": "code",
   "execution_count": null,
   "id": "797ccb3b-fcb6-466e-8f3c-a670f50f9c24",
   "metadata": {},
   "outputs": [],
   "source": [
    "df[\"Voice Control\"] = np.where(df['Extras'].str.contains(\"Voice Control\"), 1, 0)  \n",
    "\n",
    "df[\"Voice Control\"]"
   ]
  },
  {
   "cell_type": "code",
   "execution_count": null,
   "id": "e8d8acc5-42d0-4bc4-8967-fa7222102551",
   "metadata": {},
   "outputs": [],
   "source": [
    "df[\"Winter tyres\"] = np.where(df['Extras'].str.contains(\"Winter tyres\"), 1, 0)  \n",
    "\n",
    "df[\"Winter tyres\"]"
   ]
  },
  {
   "cell_type": "code",
   "execution_count": null,
   "id": "6e9cf4c7-4058-450a-9c5c-17a89e1cd5dc",
   "metadata": {},
   "outputs": [],
   "source": [
    "df[\"Roof rack\"] = np.where(df['Extras'].str.contains(\"Roof rack\"), 1, 0)  \n",
    "\n",
    "df[\"Roof rack\"]"
   ]
  },
  {
   "cell_type": "code",
   "execution_count": null,
   "id": "c7aebd1b-f21b-4a9b-bcc9-e9126dea83fe",
   "metadata": {},
   "outputs": [],
   "source": [
    "df[\"Sport package\"] = np.where(df['Extras'].str.contains(\"Sport package\"), 1, 0)  \n",
    "\n",
    "df[\"Sport package\"]"
   ]
  },
  {
   "cell_type": "code",
   "execution_count": null,
   "id": "17f4b2c2-df74-48fa-a90c-7cefd5d3f965",
   "metadata": {},
   "outputs": [],
   "source": [
    "df[\"Catalytic Converter\"] = np.where(df['Extras'].str.contains(\"Catalytic Converter\"), 1, 0)  \n",
    "\n",
    "df[\"Catalytic Converter\"]"
   ]
  },
  {
   "cell_type": "code",
   "execution_count": null,
   "id": "5a2b14a5-f737-4478-b4dd-b2239dabc961",
   "metadata": {},
   "outputs": [],
   "source": [
    "df[\"Ski bag\"] = np.where(df['Extras'].str.contains(\"Ski bag\"), 1, 0)  \n",
    "\n",
    "df[\"Ski bag\"]"
   ]
  },
  {
   "cell_type": "code",
   "execution_count": null,
   "id": "cd795505-e080-4c43-8372-8508a24e6a4d",
   "metadata": {},
   "outputs": [],
   "source": [
    "df[\"Sport suspension\"] = np.where(df['Extras'].str.contains(\"Sport suspension\"), 1, 0)  \n",
    "\n",
    "df[\"Sport suspension\"]"
   ]
  },
  {
   "cell_type": "code",
   "execution_count": null,
   "id": "15b4423f-a282-4591-8c7b-77c02655e5c8",
   "metadata": {},
   "outputs": [],
   "source": [
    "df[\"Trailer hitch\"] = np.where(df['Extras'].str.contains(\"Trailer hitch\"), 1, 0)  \n",
    "\n",
    "df[\"Trailer hitch\"]"
   ]
  },
  {
   "cell_type": "code",
   "execution_count": null,
   "id": "ece9139e-1ce3-41ce-aea3-2d703fcec907",
   "metadata": {},
   "outputs": [],
   "source": [
    "df[\"Shift paddles\"] = np.where(df['Extras'].str.contains(\"Shift paddles\"), 1, 0)  \n",
    "\n",
    "df[\"Shift paddles\"]"
   ]
  },
  {
   "cell_type": "code",
   "execution_count": null,
   "id": "0bccb33c-61f2-4814-a6ca-97be653b9937",
   "metadata": {},
   "outputs": [],
   "source": [
    "df['\\nSafety & Security\\n'].value_counts().head(10)"
   ]
  },
  {
   "cell_type": "code",
   "execution_count": null,
   "id": "dc48ded5-407a-498b-99cf-ebd842d7dd66",
   "metadata": {},
   "outputs": [],
   "source": [
    "df['\\nSafety & Security\\n']= [\",\".join(item) if type(item)==list else item for item in df['\\nSafety & Security\\n']]\n",
    "\n",
    "df['Safety_Security'] = df['\\nSafety & Security\\n'].str.extract(\"(\\w.+)\")  #.isna().value_counts().head()"
   ]
  },
  {
   "cell_type": "code",
   "execution_count": null,
   "id": "8a046b9c-edfd-4437-a311-172069c620a9",
   "metadata": {},
   "outputs": [],
   "source": [
    "df[\"ABS\"] = np.where(df['Safety_Security'].str.contains(\"ABS\"), 1, 0)  \n",
    "\n",
    "df[\"ABS\"]"
   ]
  },
  {
   "cell_type": "code",
   "execution_count": null,
   "id": "544966eb-e4ee-4907-9e35-243bb0100b78",
   "metadata": {},
   "outputs": [],
   "source": [
    "df[\"Central door lock\"] = np.where(df['Safety_Security'].str.contains(\"Central door lock\"), 1, 0)  \n",
    "\n",
    "df[\"Central door lock\"]"
   ]
  },
  {
   "cell_type": "code",
   "execution_count": null,
   "id": "f8455b01-15ef-4673-8d11-64bc1130bfb7",
   "metadata": {},
   "outputs": [],
   "source": [
    "df[\"Daytime running lights\"] = np.where(df['Safety_Security'].str.contains(\"Daytime running lights\"), 1, 0)  \n",
    "\n",
    "df[\"Daytime running lights\"]"
   ]
  },
  {
   "cell_type": "code",
   "execution_count": null,
   "id": "d1cf90e7-3e9b-44fa-afbc-9e41d9c5d319",
   "metadata": {},
   "outputs": [],
   "source": [
    "df[\"Driver-side airbag\"] = np.where(df['Safety_Security'].str.contains(\"Driver-side airbag\"), 1, 0)  \n",
    "\n",
    "df[\"Driver-side airbag\"]"
   ]
  },
  {
   "cell_type": "code",
   "execution_count": null,
   "id": "3ff6cda9-9d7b-4b36-81ce-51b3a8647038",
   "metadata": {},
   "outputs": [],
   "source": [
    "df[\"Fog lights\"] = np.where(df['Safety_Security'].str.contains(\"Fog lights\"), 1, 0)  \n",
    "\n",
    "df[\"Fog lights\"]"
   ]
  },
  {
   "cell_type": "code",
   "execution_count": null,
   "id": "fc4c5178-e652-42b4-b408-015783d1ded4",
   "metadata": {},
   "outputs": [],
   "source": [
    "df[\"Xenon headlights\"] = np.where(df['Safety_Security'].str.contains(\"Xenon headlights\"), 1, 0)  \n",
    "\n",
    "df[\"Xenon headlights\"]"
   ]
  },
  {
   "cell_type": "code",
   "execution_count": null,
   "id": "81532390-0d97-404b-a317-efb877e8d994",
   "metadata": {},
   "outputs": [],
   "source": [
    "df[\"Immobilizer\"] = np.where(df['Safety_Security'].str.contains(\"Immobilizer\"), 1, 0)  \n",
    "\n",
    "df[\"Immobilizer\"]"
   ]
  },
  {
   "cell_type": "code",
   "execution_count": null,
   "id": "9a97cfc4-347d-4499-8878-a5b907ec0fce",
   "metadata": {},
   "outputs": [],
   "source": [
    "df[\"Isofix\"] = np.where(df['Safety_Security'].str.contains(\"Isofix\"), 1, 0)  \n",
    "\n",
    "df[\"Isofix\"]"
   ]
  },
  {
   "cell_type": "code",
   "execution_count": null,
   "id": "aceebbab-57ef-4f98-b27a-812b9a1c6fc0",
   "metadata": {},
   "outputs": [],
   "source": [
    "df[\"Passenger-side airbag\"] = np.where(df['Safety_Security'].str.contains(\"Passenger-side airbag\"), 1, 0)  \n",
    "\n",
    "df[\"Passenger-side airbag\"]"
   ]
  },
  {
   "cell_type": "code",
   "execution_count": null,
   "id": "28cd5251-aa72-4cb1-809e-95c923a7aa99",
   "metadata": {},
   "outputs": [],
   "source": [
    "df[\"Power steering\"] = np.where(df['Safety_Security'].str.contains(\"Power steering\"), 1, 0)  \n",
    "\n",
    "df[\"Power steering\"]"
   ]
  },
  {
   "cell_type": "code",
   "execution_count": null,
   "id": "bef9ca08-5f60-4dbb-8926-d2648469d9db",
   "metadata": {},
   "outputs": [],
   "source": [
    "df[\"Side airbag\"] = np.where(df['Safety_Security'].str.contains(\"Side airbag\"), 1, 0)  \n",
    "\n",
    "df[\"Side airbag\"]"
   ]
  },
  {
   "cell_type": "code",
   "execution_count": null,
   "id": "5266943c-8c76-433f-927f-b75171a6d326",
   "metadata": {},
   "outputs": [],
   "source": [
    "df[\"Tire pressure monitoring system\"] = np.where(df['Safety_Security'].str.contains(\"Tire pressure monitoring system\"), 1, 0)  \n",
    "\n",
    "df[\"Tire pressure monitoring system\"]"
   ]
  },
  {
   "cell_type": "code",
   "execution_count": null,
   "id": "30525f01-82b5-4110-b65c-95cb19fccb1a",
   "metadata": {},
   "outputs": [],
   "source": [
    "df[\"Traction control\"] = np.where(df['Safety_Security'].str.contains(\"Traction control\"), 1, 0)  \n",
    "\n",
    "df[\"Traction control\"]"
   ]
  },
  {
   "cell_type": "code",
   "execution_count": null,
   "id": "92e135e1-a7ab-4c54-bf16-77f752269eba",
   "metadata": {},
   "outputs": [],
   "source": [
    "df['description'].value_counts().head(3)  #silinebilir."
   ]
  },
  {
   "cell_type": "code",
   "execution_count": null,
   "id": "3d0bb875-af4f-4ed0-b8eb-dfb5d7cc617f",
   "metadata": {},
   "outputs": [],
   "source": [
    "df['Emission Label'].value_counts().head(10)  #silinebilir"
   ]
  },
  {
   "cell_type": "code",
   "execution_count": null,
   "id": "08e964d4-90c4-4f0d-99a8-102060ab54c6",
   "metadata": {},
   "outputs": [],
   "source": [
    "df['Gears'].value_counts().head(10)   # Bu vites sayısı."
   ]
  },
  {
   "cell_type": "code",
   "execution_count": null,
   "id": "11213b24-4531-428a-88a1-370815ef2105",
   "metadata": {},
   "outputs": [],
   "source": [
    "df['Gears']= [item[0] if type(item)==list else item for item in df['Gears']]\n",
    "\n",
    "df['Gears'] = df['Gears'].str.extract(\"(\\d+)\")  #.isna().value_counts().head(10)"
   ]
  },
  {
   "cell_type": "code",
   "execution_count": null,
   "id": "e3b7783b-d3cd-45d4-9c90-1c2be0e88205",
   "metadata": {},
   "outputs": [],
   "source": [
    "df['Country version'].value_counts().head(10)"
   ]
  },
  {
   "cell_type": "code",
   "execution_count": null,
   "id": "47e2a9c4-2a69-458b-a933-1ec4b900c921",
   "metadata": {},
   "outputs": [],
   "source": [
    "df['Country version']= [item[0] if type(item)==list else item for item in df['Country version']]\n",
    "\n",
    "df['Country'] = df['Country version'].str.extract(\"(\\w+)\")  #.isna().value_counts().head(20)"
   ]
  },
  {
   "cell_type": "code",
   "execution_count": null,
   "id": "89f90e2e-77bd-4f47-92e2-cb0758a8e53d",
   "metadata": {},
   "outputs": [],
   "source": [
    "df['Electricity consumption'].value_counts().head(10)  # silelim."
   ]
  },
  {
   "cell_type": "code",
   "execution_count": null,
   "id": "e58ae365-475f-4e4c-916b-86de711d9ee4",
   "metadata": {},
   "outputs": [],
   "source": [
    "df['Last Service Date'].value_counts().head(10)   #silinebilir."
   ]
  },
  {
   "cell_type": "code",
   "execution_count": null,
   "id": "972f388f-e23a-4094-bef5-d9ce99015623",
   "metadata": {},
   "outputs": [],
   "source": [
    "df['Other Fuel Types'].value_counts().head(10)  #silelim"
   ]
  },
  {
   "cell_type": "code",
   "execution_count": null,
   "id": "d8a9853d-11fb-4419-87c7-a2fe72aa8e47",
   "metadata": {},
   "outputs": [],
   "source": [
    "df['Availability'].value_counts().head(10)   #silinebilir."
   ]
  },
  {
   "cell_type": "code",
   "execution_count": null,
   "id": "f1000e1a-065c-4b96-a7ef-d51e32a31149",
   "metadata": {},
   "outputs": [],
   "source": [
    "df['Last Timing Belt Service Date'].value_counts().head(10)   #silelim."
   ]
  },
  {
   "cell_type": "code",
   "execution_count": null,
   "id": "476701e2-b3b1-4c0c-9ee5-da419487a7bd",
   "metadata": {},
   "outputs": [],
   "source": [
    "df['Available from'].value_counts().head(10)  #silinebilir."
   ]
  }
 ],
 "metadata": {
  "kernelspec": {
   "display_name": "Python 3",
   "language": "python",
   "name": "python3"
  },
  "language_info": {
   "codemirror_mode": {
    "name": "ipython",
    "version": 3
   },
   "file_extension": ".py",
   "mimetype": "text/x-python",
   "name": "python",
   "nbconvert_exporter": "python",
   "pygments_lexer": "ipython3",
   "version": "3.8.8"
  }
 },
 "nbformat": 4,
 "nbformat_minor": 5
}
