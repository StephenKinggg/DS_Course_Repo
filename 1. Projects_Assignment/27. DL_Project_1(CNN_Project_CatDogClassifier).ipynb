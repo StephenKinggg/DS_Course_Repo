{
 "cells": [
  {
   "cell_type": "markdown",
   "metadata": {
    "id": "QCk7gQaaH3Hy"
   },
   "source": [
    "<p style=\"text-align: center;\"><img src=\"https://docs.google.com/uc?id=1lY0Uj5R04yMY3-ZppPWxqCr5pvBLYPnV\" class=\"img-fluid\" alt=\"Rossum\"></p>"
   ]
  },
  {
   "cell_type": "code",
   "execution_count": 1,
   "metadata": {
    "id": "fSiKdTPbDXq5"
   },
   "outputs": [],
   "source": [
    "# import libraries"
   ]
  },
  {
   "cell_type": "code",
   "execution_count": 2,
   "metadata": {
    "id": "7YcSALh_Tqpg"
   },
   "outputs": [],
   "source": [
    "import os\n",
    "import pandas as pd\n",
    "import numpy as np\n",
    "import seaborn as sns\n",
    "import matplotlib.pyplot as plt\n",
    "from matplotlib.image import imread\n",
    "import warnings\n",
    "warnings.filterwarnings('ignore')"
   ]
  },
  {
   "cell_type": "markdown",
   "metadata": {
    "id": "7hEo8jR6Ciyu"
   },
   "source": [
    "The Dogs vs. Cats dataset is a common computer vision dataset in which pictures are classified as either including a dog or a cat.\n",
    "\n",
    "After the dataset is well studied, it can be used to understand and practice how to design, evaluate, and apply convolutional neural networks for image classification.\n",
    "\n",
    "You will build a classifier with images and try to detect dogs versus cats using CNN.\n",
    "\n",
    "Train set includes 12500 cat-5026 dog images, validation set includes 1219 cat-1071 dog images and test set incgludes 6897 cat and dogs images together. "
   ]
  },
  {
   "cell_type": "code",
   "execution_count": 3,
   "metadata": {
    "id": "bgDFB74oDcxu"
   },
   "outputs": [],
   "source": [
    "# read data and check how many class in train set"
   ]
  },
  {
   "cell_type": "code",
   "execution_count": 4,
   "metadata": {
    "id": "78Vmw-bECiyv"
   },
   "outputs": [
    {
     "data": {
      "text/plain": [
       "'/Users/sena/Desktop/Proje'"
      ]
     },
     "execution_count": 4,
     "metadata": {},
     "output_type": "execute_result"
    }
   ],
   "source": [
    "pwd"
   ]
  },
  {
   "cell_type": "code",
   "execution_count": 5,
   "metadata": {},
   "outputs": [],
   "source": [
    "data_dir = '/Users/sena/Desktop/Proje/data'"
   ]
  },
  {
   "cell_type": "code",
   "execution_count": 6,
   "metadata": {},
   "outputs": [
    {
     "data": {
      "text/plain": [
       "['.DS_Store', 'test', 'train', 'validation']"
      ]
     },
     "execution_count": 6,
     "metadata": {},
     "output_type": "execute_result"
    }
   ],
   "source": [
    "os.listdir(data_dir)"
   ]
  },
  {
   "cell_type": "code",
   "execution_count": 7,
   "metadata": {
    "id": "sIKIqhwaCiyv",
    "outputId": "7c9788d2-3249-4c3c-cc1e-b7e65c82c918"
   },
   "outputs": [],
   "source": [
    "validation_path = data_dir+'/validation'"
   ]
  },
  {
   "cell_type": "code",
   "execution_count": 8,
   "metadata": {
    "id": "wLHxxfsWCiyw"
   },
   "outputs": [],
   "source": [
    "test_path = data_dir+'/test'"
   ]
  },
  {
   "cell_type": "code",
   "execution_count": 9,
   "metadata": {
    "id": "ShbWMYzPCiyx",
    "outputId": "f92b05a8-2e19-40ed-f45f-60eb80575667"
   },
   "outputs": [],
   "source": [
    "train_path = data_dir+'/train'"
   ]
  },
  {
   "cell_type": "code",
   "execution_count": 10,
   "metadata": {},
   "outputs": [
    {
     "data": {
      "text/plain": [
       "['cat', 'dog']"
      ]
     },
     "execution_count": 10,
     "metadata": {},
     "output_type": "execute_result"
    }
   ],
   "source": [
    "os.listdir(train_path)"
   ]
  },
  {
   "cell_type": "code",
   "execution_count": 11,
   "metadata": {
    "scrolled": true,
    "tags": []
   },
   "outputs": [
    {
     "data": {
      "text/plain": [
       "['6400.jpg',\n",
       " '4217.jpg',\n",
       " '3578.jpg',\n",
       " '10321.jpg',\n",
       " '5109.jpg',\n",
       " '11981.jpg',\n",
       " '10447.jpg',\n",
       " '11759.jpg',\n",
       " '4571.jpg',\n",
       " '7078.jpg',\n",
       " '12250.jpg',\n",
       " '6366.jpg',\n",
       " '12244.jpg',\n",
       " '6372.jpg',\n",
       " '11995.jpg',\n",
       " '10453.jpg',\n",
       " '4565.jpg',\n",
       " '4203.jpg',\n",
       " '10335.jpg',\n",
       " '6414.jpg',\n",
       " '2882.jpg',\n",
       " '3544.jpg',\n",
       " '11003.jpg',\n",
       " '5135.jpg',\n",
       " '7044.jpg',\n",
       " '5653.jpg',\n",
       " '3222.jpg',\n",
       " '11765.jpg',\n",
       " '5647.jpg',\n",
       " '3236.jpg',\n",
       " '11771.jpg',\n",
       " '4559.jpg',\n",
       " '7050.jpg',\n",
       " '12278.jpg',\n",
       " '6428.jpg',\n",
       " '2896.jpg',\n",
       " '3550.jpg',\n",
       " '11017.jpg',\n",
       " '10309.jpg',\n",
       " '5121.jpg',\n",
       " '12293.jpg',\n",
       " '5874.jpg',\n",
       " '11942.jpg',\n",
       " '10484.jpg',\n",
       " '5860.jpg',\n",
       " '11956.jpg',\n",
       " '10490.jpg',\n",
       " '12287.jpg',\n",
       " '2869.jpg',\n",
       " '2841.jpg',\n",
       " '3587.jpg',\n",
       " '5848.jpg',\n",
       " '5690.jpg',\n",
       " '6399.jpg',\n",
       " '7087.jpg',\n",
       " '7093.jpg',\n",
       " '5684.jpg',\n",
       " '2855.jpg',\n",
       " '3593.jpg',\n",
       " '6164.jpg',\n",
       " '12052.jpg',\n",
       " '4773.jpg',\n",
       " '10645.jpg',\n",
       " '10123.jpg',\n",
       " '4015.jpg',\n",
       " '6602.jpg',\n",
       " '6616.jpg',\n",
       " '10137.jpg',\n",
       " '11229.jpg',\n",
       " '4001.jpg',\n",
       " '10889.jpg',\n",
       " '4767.jpg',\n",
       " '3008.jpg',\n",
       " '10651.jpg',\n",
       " '5479.jpg',\n",
       " '6170.jpg',\n",
       " '12046.jpg',\n",
       " '11567.jpg',\n",
       " '3020.jpg',\n",
       " '4997.jpg',\n",
       " '10679.jpg',\n",
       " '5451.jpg',\n",
       " '6158.jpg',\n",
       " '5337.jpg',\n",
       " '11201.jpg',\n",
       " '3746.jpg',\n",
       " '4029.jpg',\n",
       " '5323.jpg',\n",
       " '11215.jpg',\n",
       " '3752.jpg',\n",
       " '11573.jpg',\n",
       " '3034.jpg',\n",
       " '4983.jpg',\n",
       " '5445.jpg',\n",
       " '10686.jpg',\n",
       " '4968.jpg',\n",
       " '11598.jpg',\n",
       " '12091.jpg',\n",
       " '6819.jpg',\n",
       " '3961.jpg',\n",
       " '3975.jpg',\n",
       " '12085.jpg',\n",
       " '10692.jpg',\n",
       " '4954.jpg',\n",
       " '5492.jpg',\n",
       " '10862.jpg',\n",
       " '3785.jpg',\n",
       " '6825.jpg',\n",
       " '6831.jpg',\n",
       " '3791.jpg',\n",
       " '3949.jpg',\n",
       " '4940.jpg',\n",
       " '5486.jpg',\n",
       " '4798.jpg',\n",
       " '10876.jpg',\n",
       " '12126.jpg',\n",
       " '6010.jpg',\n",
       " '5519.jpg',\n",
       " '10731.jpg',\n",
       " '3168.jpg',\n",
       " '4607.jpg',\n",
       " '4161.jpg',\n",
       " '11349.jpg',\n",
       " '10057.jpg',\n",
       " '6776.jpg',\n",
       " '6762.jpg',\n",
       " '4175.jpg',\n",
       " '10043.jpg',\n",
       " '10725.jpg',\n",
       " '4613.jpg',\n",
       " '12132.jpg',\n",
       " '6004.jpg',\n",
       " '5525.jpg',\n",
       " '11413.jpg',\n",
       " '3154.jpg',\n",
       " '6992.jpg',\n",
       " '11375.jpg',\n",
       " '3632.jpg',\n",
       " '5243.jpg',\n",
       " '4149.jpg',\n",
       " '11361.jpg',\n",
       " '3626.jpg',\n",
       " '5257.jpg',\n",
       " '6986.jpg',\n",
       " '6038.jpg',\n",
       " '5531.jpg',\n",
       " '10719.jpg',\n",
       " '11407.jpg',\n",
       " '3140.jpg',\n",
       " '10094.jpg',\n",
       " '3815.jpg',\n",
       " '10080.jpg',\n",
       " '3801.jpg',\n",
       " '6979.jpg',\n",
       " '4808.jpg',\n",
       " '3197.jpg',\n",
       " '10916.jpg',\n",
       " '4820.jpg',\n",
       " '5280.jpg',\n",
       " '3829.jpg',\n",
       " '6951.jpg',\n",
       " '6789.jpg',\n",
       " '6945.jpg',\n",
       " '5294.jpg',\n",
       " '3183.jpg',\n",
       " '10902.jpg',\n",
       " '4834.jpg',\n",
       " '12442.jpg',\n",
       " '6574.jpg',\n",
       " '10255.jpg',\n",
       " '4363.jpg',\n",
       " '4405.jpg',\n",
       " '10533.jpg',\n",
       " '6212.jpg',\n",
       " '12324.jpg',\n",
       " '6206.jpg',\n",
       " '12330.jpg',\n",
       " '7118.jpg',\n",
       " '4411.jpg',\n",
       " '11639.jpg',\n",
       " '10527.jpg',\n",
       " '5069.jpg',\n",
       " '10241.jpg',\n",
       " '3418.jpg',\n",
       " '4377.jpg',\n",
       " '12456.jpg',\n",
       " '6560.jpg',\n",
       " '5041.jpg',\n",
       " '10269.jpg',\n",
       " '3430.jpg',\n",
       " '11177.jpg',\n",
       " '6548.jpg',\n",
       " '12318.jpg',\n",
       " '7130.jpg',\n",
       " '4439.jpg',\n",
       " '3356.jpg',\n",
       " '11611.jpg',\n",
       " '5727.jpg',\n",
       " '3342.jpg',\n",
       " '11605.jpg',\n",
       " '5733.jpg',\n",
       " '7124.jpg',\n",
       " '5055.jpg',\n",
       " '3424.jpg',\n",
       " '11163.jpg',\n",
       " '11188.jpg',\n",
       " '2909.jpg',\n",
       " '10296.jpg',\n",
       " '12481.jpg',\n",
       " '11836.jpg',\n",
       " '5900.jpg',\n",
       " '11822.jpg',\n",
       " '5914.jpg',\n",
       " '12495.jpg',\n",
       " '10282.jpg',\n",
       " '2935.jpg',\n",
       " '5082.jpg',\n",
       " '3395.jpg',\n",
       " '3381.jpg',\n",
       " '5928.jpg',\n",
       " '2921.jpg',\n",
       " '4388.jpg',\n",
       " '5096.jpg',\n",
       " '5929.jpg',\n",
       " '3380.jpg',\n",
       " '5097.jpg',\n",
       " '4389.jpg',\n",
       " '2920.jpg',\n",
       " '5083.jpg',\n",
       " '2934.jpg',\n",
       " '3394.jpg',\n",
       " '5915.jpg',\n",
       " '11823.jpg',\n",
       " '10283.jpg',\n",
       " '12494.jpg',\n",
       " '12480.jpg',\n",
       " '10297.jpg',\n",
       " '2908.jpg',\n",
       " '11189.jpg',\n",
       " '5901.jpg',\n",
       " '11837.jpg',\n",
       " '7125.jpg',\n",
       " '5732.jpg',\n",
       " '11604.jpg',\n",
       " '3343.jpg',\n",
       " '11162.jpg',\n",
       " '3425.jpg',\n",
       " '5054.jpg',\n",
       " '6549.jpg',\n",
       " '11176.jpg',\n",
       " '3431.jpg',\n",
       " '10268.jpg',\n",
       " '5040.jpg',\n",
       " '5726.jpg',\n",
       " '11610.jpg',\n",
       " '3357.jpg',\n",
       " '4438.jpg',\n",
       " '7131.jpg',\n",
       " '12319.jpg',\n",
       " '10526.jpg',\n",
       " '11638.jpg',\n",
       " '4410.jpg',\n",
       " '7119.jpg',\n",
       " '12331.jpg',\n",
       " '6207.jpg',\n",
       " '6561.jpg',\n",
       " '12457.jpg',\n",
       " '4376.jpg',\n",
       " '3419.jpg',\n",
       " '10240.jpg',\n",
       " '5068.jpg',\n",
       " '4362.jpg',\n",
       " '10254.jpg',\n",
       " '6575.jpg',\n",
       " '12443.jpg',\n",
       " '12325.jpg',\n",
       " '6213.jpg',\n",
       " '10532.jpg',\n",
       " '4404.jpg',\n",
       " '5295.jpg',\n",
       " '6944.jpg',\n",
       " '4835.jpg',\n",
       " '10903.jpg',\n",
       " '3182.jpg',\n",
       " '4821.jpg',\n",
       " '10917.jpg',\n",
       " '3196.jpg',\n",
       " '6788.jpg',\n",
       " '6950.jpg',\n",
       " '3828.jpg',\n",
       " '5281.jpg',\n",
       " '6978.jpg',\n",
       " '3800.jpg',\n",
       " '10081.jpg',\n",
       " '4809.jpg',\n",
       " '3814.jpg',\n",
       " '10095.jpg',\n",
       " '6987.jpg',\n",
       " '5256.jpg',\n",
       " '3627.jpg',\n",
       " '11360.jpg',\n",
       " '4148.jpg',\n",
       " '3141.jpg',\n",
       " '11406.jpg',\n",
       " '10718.jpg',\n",
       " '5530.jpg',\n",
       " '6039.jpg',\n",
       " '3155.jpg',\n",
       " '11412.jpg',\n",
       " '5524.jpg',\n",
       " '5242.jpg',\n",
       " '3633.jpg',\n",
       " '11374.jpg',\n",
       " '6993.jpg',\n",
       " '10042.jpg',\n",
       " '4174.jpg',\n",
       " '6763.jpg',\n",
       " '6005.jpg',\n",
       " '12133.jpg',\n",
       " '4612.jpg',\n",
       " '10724.jpg',\n",
       " '4606.jpg',\n",
       " '3169.jpg',\n",
       " '10730.jpg',\n",
       " '5518.jpg',\n",
       " '6011.jpg',\n",
       " '12127.jpg',\n",
       " '6777.jpg',\n",
       " '10056.jpg',\n",
       " '11348.jpg',\n",
       " '4160.jpg',\n",
       " '3948.jpg',\n",
       " '3790.jpg',\n",
       " '6830.jpg',\n",
       " '4799.jpg',\n",
       " '10877.jpg',\n",
       " '5487.jpg',\n",
       " '4941.jpg',\n",
       " '10863.jpg',\n",
       " '5493.jpg',\n",
       " '4955.jpg',\n",
       " '6824.jpg',\n",
       " '3784.jpg',\n",
       " '3974.jpg',\n",
       " '10693.jpg',\n",
       " '12084.jpg',\n",
       " '12090.jpg',\n",
       " '11599.jpg',\n",
       " '10687.jpg',\n",
       " '4969.jpg',\n",
       " '3960.jpg',\n",
       " '6818.jpg',\n",
       " '3753.jpg',\n",
       " '11214.jpg',\n",
       " '5322.jpg',\n",
       " '5444.jpg',\n",
       " '4982.jpg',\n",
       " '3035.jpg',\n",
       " '11572.jpg',\n",
       " '6159.jpg',\n",
       " '5450.jpg',\n",
       " '4996.jpg',\n",
       " '10678.jpg',\n",
       " '3021.jpg',\n",
       " '11566.jpg',\n",
       " '4028.jpg',\n",
       " '3747.jpg',\n",
       " '11200.jpg',\n",
       " '5336.jpg',\n",
       " '4000.jpg',\n",
       " '11228.jpg',\n",
       " '10136.jpg',\n",
       " '6617.jpg',\n",
       " '12047.jpg',\n",
       " '6171.jpg',\n",
       " '5478.jpg',\n",
       " '10650.jpg',\n",
       " '3009.jpg',\n",
       " '10888.jpg',\n",
       " '4766.jpg',\n",
       " '10644.jpg',\n",
       " '4772.jpg',\n",
       " '12053.jpg',\n",
       " '6165.jpg',\n",
       " '6603.jpg',\n",
       " '4014.jpg',\n",
       " '10122.jpg',\n",
       " '5685.jpg',\n",
       " '7092.jpg',\n",
       " '3592.jpg',\n",
       " '2854.jpg',\n",
       " '3586.jpg',\n",
       " '2840.jpg',\n",
       " '7086.jpg',\n",
       " '6398.jpg',\n",
       " '5691.jpg',\n",
       " '5849.jpg',\n",
       " '12286.jpg',\n",
       " '10491.jpg',\n",
       " '11957.jpg',\n",
       " '5861.jpg',\n",
       " '2868.jpg',\n",
       " '10485.jpg',\n",
       " '11943.jpg',\n",
       " '5875.jpg',\n",
       " '12292.jpg',\n",
       " '12279.jpg',\n",
       " '7051.jpg',\n",
       " '4558.jpg',\n",
       " '11770.jpg',\n",
       " '3237.jpg',\n",
       " '5646.jpg',\n",
       " '5120.jpg',\n",
       " '10308.jpg',\n",
       " '11016.jpg',\n",
       " '3551.jpg',\n",
       " '2897.jpg',\n",
       " '6429.jpg',\n",
       " '5134.jpg',\n",
       " '11002.jpg',\n",
       " '3545.jpg',\n",
       " '2883.jpg',\n",
       " '11764.jpg',\n",
       " '3223.jpg',\n",
       " '5652.jpg',\n",
       " '7045.jpg',\n",
       " '4564.jpg',\n",
       " '10452.jpg',\n",
       " '11994.jpg',\n",
       " '6373.jpg',\n",
       " '12245.jpg',\n",
       " '6415.jpg',\n",
       " '10334.jpg',\n",
       " '4202.jpg',\n",
       " '5108.jpg',\n",
       " '10320.jpg',\n",
       " '3579.jpg',\n",
       " '4216.jpg',\n",
       " '6401.jpg',\n",
       " '6367.jpg',\n",
       " '12251.jpg',\n",
       " '7079.jpg',\n",
       " '4570.jpg',\n",
       " '11758.jpg',\n",
       " '10446.jpg',\n",
       " '11980.jpg',\n",
       " '4200.jpg',\n",
       " '11028.jpg',\n",
       " '10336.jpg',\n",
       " '6417.jpg',\n",
       " '12247.jpg',\n",
       " '6371.jpg',\n",
       " '5678.jpg',\n",
       " '11996.jpg',\n",
       " '10450.jpg',\n",
       " '3209.jpg',\n",
       " '4566.jpg',\n",
       " '11982.jpg',\n",
       " '10444.jpg',\n",
       " '4572.jpg',\n",
       " '12253.jpg',\n",
       " '6365.jpg',\n",
       " '6403.jpg',\n",
       " '4214.jpg',\n",
       " '10322.jpg',\n",
       " '2895.jpg',\n",
       " '11014.jpg',\n",
       " '3553.jpg',\n",
       " '5122.jpg',\n",
       " '5644.jpg',\n",
       " '11772.jpg',\n",
       " '3235.jpg',\n",
       " '7053.jpg',\n",
       " '7047.jpg',\n",
       " '6359.jpg',\n",
       " '5650.jpg',\n",
       " '10478.jpg',\n",
       " '11766.jpg',\n",
       " '5888.jpg',\n",
       " '3221.jpg',\n",
       " '4228.jpg',\n",
       " '2881.jpg',\n",
       " '11000.jpg',\n",
       " '3547.jpg',\n",
       " '5136.jpg',\n",
       " '5863.jpg',\n",
       " '11955.jpg',\n",
       " '10493.jpg',\n",
       " '12284.jpg',\n",
       " '12290.jpg',\n",
       " '5877.jpg',\n",
       " '11799.jpg',\n",
       " '11941.jpg',\n",
       " '10487.jpg',\n",
       " '2856.jpg',\n",
       " '3590.jpg',\n",
       " '7090.jpg',\n",
       " '4599.jpg',\n",
       " '11969.jpg',\n",
       " '5687.jpg',\n",
       " '5693.jpg',\n",
       " '7084.jpg',\n",
       " '3584.jpg',\n",
       " '4764.jpg',\n",
       " '10652.jpg',\n",
       " '6173.jpg',\n",
       " '12045.jpg',\n",
       " '6615.jpg',\n",
       " '10134.jpg',\n",
       " '4002.jpg',\n",
       " '5308.jpg',\n",
       " '10120.jpg',\n",
       " '3779.jpg',\n",
       " '4016.jpg',\n",
       " '6601.jpg',\n",
       " '6167.jpg',\n",
       " '12051.jpg',\n",
       " '4770.jpg',\n",
       " '11558.jpg',\n",
       " '10646.jpg',\n",
       " '12079.jpg',\n",
       " '4758.jpg',\n",
       " '3037.jpg',\n",
       " '11570.jpg',\n",
       " '4980.jpg',\n",
       " '5446.jpg',\n",
       " '3989.jpg',\n",
       " '5320.jpg',\n",
       " '10108.jpg',\n",
       " '3751.jpg',\n",
       " '11216.jpg',\n",
       " '6629.jpg',\n",
       " '5334.jpg',\n",
       " '3745.jpg',\n",
       " '11202.jpg',\n",
       " '3023.jpg',\n",
       " '11564.jpg',\n",
       " '4994.jpg',\n",
       " '5452.jpg',\n",
       " '12086.jpg',\n",
       " '10691.jpg',\n",
       " '10849.jpg',\n",
       " '3976.jpg',\n",
       " '3962.jpg',\n",
       " '10685.jpg',\n",
       " '12092.jpg',\n",
       " '4943.jpg',\n",
       " '5485.jpg',\n",
       " '10875.jpg',\n",
       " '6832.jpg',\n",
       " '3792.jpg',\n",
       " '3786.jpg',\n",
       " '6826.jpg',\n",
       " '6198.jpg',\n",
       " '4957.jpg',\n",
       " '5491.jpg',\n",
       " '10861.jpg',\n",
       " '10726.jpg',\n",
       " '11438.jpg',\n",
       " '4610.jpg',\n",
       " '12131.jpg',\n",
       " '6007.jpg',\n",
       " '6761.jpg',\n",
       " '4176.jpg',\n",
       " '3619.jpg',\n",
       " '10040.jpg',\n",
       " '5268.jpg',\n",
       " '4162.jpg',\n",
       " '10054.jpg',\n",
       " '6775.jpg',\n",
       " '12125.jpg',\n",
       " '6013.jpg',\n",
       " '10732.jpg',\n",
       " '4604.jpg',\n",
       " '5532.jpg',\n",
       " '3143.jpg',\n",
       " '11404.jpg',\n",
       " '3625.jpg',\n",
       " '11362.jpg',\n",
       " '5254.jpg',\n",
       " '6985.jpg',\n",
       " '6749.jpg',\n",
       " '6991.jpg',\n",
       " '3631.jpg',\n",
       " '11376.jpg',\n",
       " '10068.jpg',\n",
       " '5240.jpg',\n",
       " '5526.jpg',\n",
       " '3157.jpg',\n",
       " '11410.jpg',\n",
       " '4638.jpg',\n",
       " '12119.jpg',\n",
       " '10083.jpg',\n",
       " '3802.jpg',\n",
       " '10097.jpg',\n",
       " '3816.jpg',\n",
       " '11389.jpg',\n",
       " '10929.jpg',\n",
       " '3180.jpg',\n",
       " '10901.jpg',\n",
       " '4837.jpg',\n",
       " '6946.jpg',\n",
       " '5297.jpg',\n",
       " '4189.jpg',\n",
       " '5283.jpg',\n",
       " '6952.jpg',\n",
       " '3194.jpg',\n",
       " '10915.jpg',\n",
       " '4823.jpg',\n",
       " '10242.jpg',\n",
       " '4374.jpg',\n",
       " '12455.jpg',\n",
       " '6563.jpg',\n",
       " '6205.jpg',\n",
       " '12333.jpg',\n",
       " '4412.jpg',\n",
       " '10524.jpg',\n",
       " '4406.jpg',\n",
       " '3369.jpg',\n",
       " '10530.jpg',\n",
       " '5718.jpg',\n",
       " '6211.jpg',\n",
       " '12327.jpg',\n",
       " '12441.jpg',\n",
       " '6577.jpg',\n",
       " '10256.jpg',\n",
       " '11148.jpg',\n",
       " '4360.jpg',\n",
       " '12469.jpg',\n",
       " '5056.jpg',\n",
       " '11160.jpg',\n",
       " '3427.jpg',\n",
       " '4348.jpg',\n",
       " '11606.jpg',\n",
       " '3341.jpg',\n",
       " '10518.jpg',\n",
       " '5730.jpg',\n",
       " '6239.jpg',\n",
       " '7127.jpg',\n",
       " '7133.jpg',\n",
       " '11612.jpg',\n",
       " '3355.jpg',\n",
       " '5724.jpg',\n",
       " '5042.jpg',\n",
       " '11174.jpg',\n",
       " '3433.jpg',\n",
       " '12496.jpg',\n",
       " '10281.jpg',\n",
       " '11821.jpg',\n",
       " '5917.jpg',\n",
       " '11835.jpg',\n",
       " '5903.jpg',\n",
       " '10295.jpg',\n",
       " '12482.jpg',\n",
       " '2922.jpg',\n",
       " '5095.jpg',\n",
       " '3382.jpg',\n",
       " '11809.jpg',\n",
       " '3396.jpg',\n",
       " '6588.jpg',\n",
       " '2936.jpg',\n",
       " '5081.jpg',\n",
       " '3397.jpg',\n",
       " '11808.jpg',\n",
       " '5080.jpg',\n",
       " '2937.jpg',\n",
       " '6589.jpg',\n",
       " '5094.jpg',\n",
       " '2923.jpg',\n",
       " '3383.jpg',\n",
       " '5902.jpg',\n",
       " '11834.jpg',\n",
       " '12483.jpg',\n",
       " '10294.jpg',\n",
       " '10280.jpg',\n",
       " '12497.jpg',\n",
       " '5916.jpg',\n",
       " '11820.jpg',\n",
       " '5725.jpg',\n",
       " '3354.jpg',\n",
       " '11613.jpg',\n",
       " '7132.jpg',\n",
       " '3432.jpg',\n",
       " '11175.jpg',\n",
       " '5043.jpg',\n",
       " '4349.jpg',\n",
       " '3426.jpg',\n",
       " '11161.jpg',\n",
       " '5057.jpg',\n",
       " '12468.jpg',\n",
       " '7126.jpg',\n",
       " '6238.jpg',\n",
       " '5731.jpg',\n",
       " '10519.jpg',\n",
       " '3340.jpg',\n",
       " '11607.jpg',\n",
       " '12326.jpg',\n",
       " '6210.jpg',\n",
       " '5719.jpg',\n",
       " '10531.jpg',\n",
       " '3368.jpg',\n",
       " '4407.jpg',\n",
       " '4361.jpg',\n",
       " '11149.jpg',\n",
       " '10257.jpg',\n",
       " '6576.jpg',\n",
       " '12440.jpg',\n",
       " '6562.jpg',\n",
       " '12454.jpg',\n",
       " '4375.jpg',\n",
       " '10243.jpg',\n",
       " '10525.jpg',\n",
       " '4413.jpg',\n",
       " '12332.jpg',\n",
       " '6204.jpg',\n",
       " '6953.jpg',\n",
       " '5282.jpg',\n",
       " '4822.jpg',\n",
       " '10914.jpg',\n",
       " '3195.jpg',\n",
       " '4836.jpg',\n",
       " '10900.jpg',\n",
       " '3181.jpg',\n",
       " '4188.jpg',\n",
       " '5296.jpg',\n",
       " '6947.jpg',\n",
       " '11388.jpg',\n",
       " '3817.jpg',\n",
       " '10096.jpg',\n",
       " '10928.jpg',\n",
       " '3803.jpg',\n",
       " '10082.jpg',\n",
       " '5241.jpg',\n",
       " '10069.jpg',\n",
       " '11377.jpg',\n",
       " '3630.jpg',\n",
       " '6990.jpg',\n",
       " '6748.jpg',\n",
       " '12118.jpg',\n",
       " '4639.jpg',\n",
       " '11411.jpg',\n",
       " '3156.jpg',\n",
       " '5527.jpg',\n",
       " '11405.jpg',\n",
       " '3142.jpg',\n",
       " '5533.jpg',\n",
       " '6984.jpg',\n",
       " '5255.jpg',\n",
       " '11363.jpg',\n",
       " '3624.jpg',\n",
       " '6774.jpg',\n",
       " '10055.jpg',\n",
       " '4163.jpg',\n",
       " '4605.jpg',\n",
       " '10733.jpg',\n",
       " '6012.jpg',\n",
       " '12124.jpg',\n",
       " '6006.jpg',\n",
       " '12130.jpg',\n",
       " '4611.jpg',\n",
       " '11439.jpg',\n",
       " '10727.jpg',\n",
       " '5269.jpg',\n",
       " '10041.jpg',\n",
       " '3618.jpg',\n",
       " '4177.jpg',\n",
       " '6760.jpg',\n",
       " '6827.jpg',\n",
       " '3787.jpg',\n",
       " '10860.jpg',\n",
       " '5490.jpg',\n",
       " '4956.jpg',\n",
       " '6199.jpg',\n",
       " '10874.jpg',\n",
       " '5484.jpg',\n",
       " '4942.jpg',\n",
       " '3793.jpg',\n",
       " '6833.jpg',\n",
       " '3963.jpg',\n",
       " '12093.jpg',\n",
       " '10684.jpg',\n",
       " '10848.jpg',\n",
       " '10690.jpg',\n",
       " '12087.jpg',\n",
       " '3977.jpg',\n",
       " '11203.jpg',\n",
       " '3744.jpg',\n",
       " '5335.jpg',\n",
       " '5453.jpg',\n",
       " '4995.jpg',\n",
       " '11565.jpg',\n",
       " '3022.jpg',\n",
       " '5447.jpg',\n",
       " '4981.jpg',\n",
       " '11571.jpg',\n",
       " '3036.jpg',\n",
       " '4759.jpg',\n",
       " '12078.jpg',\n",
       " '6628.jpg',\n",
       " '11217.jpg',\n",
       " '3750.jpg',\n",
       " '10109.jpg',\n",
       " '5321.jpg',\n",
       " '3988.jpg',\n",
       " '6600.jpg',\n",
       " '4017.jpg',\n",
       " '3778.jpg',\n",
       " '10121.jpg',\n",
       " '5309.jpg',\n",
       " '10647.jpg',\n",
       " '11559.jpg',\n",
       " '4771.jpg',\n",
       " '12050.jpg',\n",
       " '6166.jpg',\n",
       " '12044.jpg',\n",
       " '6172.jpg',\n",
       " '10653.jpg',\n",
       " '4765.jpg',\n",
       " '4003.jpg',\n",
       " '10135.jpg',\n",
       " '6614.jpg',\n",
       " '7085.jpg',\n",
       " '5692.jpg',\n",
       " '3585.jpg',\n",
       " '3591.jpg',\n",
       " '2857.jpg',\n",
       " '11968.jpg',\n",
       " '5686.jpg',\n",
       " '4598.jpg',\n",
       " '7091.jpg',\n",
       " '10486.jpg',\n",
       " '11940.jpg',\n",
       " '5876.jpg',\n",
       " '11798.jpg',\n",
       " '12291.jpg',\n",
       " '12285.jpg',\n",
       " '10492.jpg',\n",
       " '11954.jpg',\n",
       " '5862.jpg',\n",
       " '3220.jpg',\n",
       " '11767.jpg',\n",
       " '5889.jpg',\n",
       " '10479.jpg',\n",
       " '5651.jpg',\n",
       " '6358.jpg',\n",
       " '7046.jpg',\n",
       " '5137.jpg',\n",
       " '3546.jpg',\n",
       " '11001.jpg',\n",
       " '2880.jpg',\n",
       " '4229.jpg',\n",
       " '5123.jpg',\n",
       " '3552.jpg',\n",
       " '11015.jpg',\n",
       " '2894.jpg',\n",
       " '7052.jpg',\n",
       " '3234.jpg',\n",
       " '11773.jpg',\n",
       " '5645.jpg',\n",
       " '6364.jpg',\n",
       " '12252.jpg',\n",
       " '4573.jpg',\n",
       " '10445.jpg',\n",
       " '11983.jpg',\n",
       " '10323.jpg',\n",
       " '4215.jpg',\n",
       " '6402.jpg',\n",
       " '6416.jpg',\n",
       " '10337.jpg',\n",
       " '11029.jpg',\n",
       " '4201.jpg',\n",
       " '4567.jpg',\n",
       " '3208.jpg',\n",
       " '10451.jpg',\n",
       " '5679.jpg',\n",
       " '11997.jpg',\n",
       " '6370.jpg',\n",
       " '12246.jpg',\n",
       " '10469.jpg',\n",
       " '5641.jpg',\n",
       " '11777.jpg',\n",
       " '5899.jpg',\n",
       " '3230.jpg',\n",
       " '7056.jpg',\n",
       " '6348.jpg',\n",
       " '11011.jpg',\n",
       " '3556.jpg',\n",
       " '4239.jpg',\n",
       " '2890.jpg',\n",
       " '5127.jpg',\n",
       " '11005.jpg',\n",
       " '3542.jpg',\n",
       " '2884.jpg',\n",
       " '5133.jpg',\n",
       " '7042.jpg',\n",
       " '5655.jpg',\n",
       " '11763.jpg',\n",
       " '3224.jpg',\n",
       " '12242.jpg',\n",
       " '6374.jpg',\n",
       " '10455.jpg',\n",
       " '11993.jpg',\n",
       " '4563.jpg',\n",
       " '4205.jpg',\n",
       " '10333.jpg',\n",
       " '6412.jpg',\n",
       " '6406.jpg',\n",
       " '11039.jpg',\n",
       " '4211.jpg',\n",
       " '10327.jpg',\n",
       " '10441.jpg',\n",
       " '5669.jpg',\n",
       " '11987.jpg',\n",
       " '4577.jpg',\n",
       " '3218.jpg',\n",
       " '12256.jpg',\n",
       " '6360.jpg',\n",
       " '7095.jpg',\n",
       " '5682.jpg',\n",
       " '3595.jpg',\n",
       " '2853.jpg',\n",
       " '3581.jpg',\n",
       " '4588.jpg',\n",
       " '11978.jpg',\n",
       " '5696.jpg',\n",
       " '7081.jpg',\n",
       " '5866.jpg',\n",
       " '11788.jpg',\n",
       " '10496.jpg',\n",
       " '11950.jpg',\n",
       " '12281.jpg',\n",
       " '12295.jpg',\n",
       " '5872.jpg',\n",
       " '10482.jpg',\n",
       " '11944.jpg',\n",
       " '5325.jpg',\n",
       " '3754.jpg',\n",
       " '11213.jpg',\n",
       " '3032.jpg',\n",
       " '11575.jpg',\n",
       " '5443.jpg',\n",
       " '4985.jpg',\n",
       " '3026.jpg',\n",
       " '11561.jpg',\n",
       " '4749.jpg',\n",
       " '5457.jpg',\n",
       " '4991.jpg',\n",
       " '12068.jpg',\n",
       " '6638.jpg',\n",
       " '10119.jpg',\n",
       " '3998.jpg',\n",
       " '5331.jpg',\n",
       " '3740.jpg',\n",
       " '11207.jpg',\n",
       " '6610.jpg',\n",
       " '10131.jpg',\n",
       " '5319.jpg',\n",
       " '4007.jpg',\n",
       " '3768.jpg',\n",
       " '11549.jpg',\n",
       " '4761.jpg',\n",
       " '10657.jpg',\n",
       " '6176.jpg',\n",
       " '12040.jpg',\n",
       " '6162.jpg',\n",
       " '12054.jpg',\n",
       " '4775.jpg',\n",
       " '10643.jpg',\n",
       " '10125.jpg',\n",
       " '4013.jpg',\n",
       " '6604.jpg',\n",
       " '6837.jpg',\n",
       " '3797.jpg',\n",
       " '5480.jpg',\n",
       " '4946.jpg',\n",
       " '10870.jpg',\n",
       " '6189.jpg',\n",
       " '5494.jpg',\n",
       " '4952.jpg',\n",
       " '10864.jpg',\n",
       " '3783.jpg',\n",
       " '6823.jpg',\n",
       " '3973.jpg',\n",
       " '12083.jpg',\n",
       " '10694.jpg',\n",
       " '10680.jpg',\n",
       " '10858.jpg',\n",
       " '12097.jpg',\n",
       " '3967.jpg',\n",
       " '3620.jpg',\n",
       " '11367.jpg',\n",
       " '5251.jpg',\n",
       " '10079.jpg',\n",
       " '6758.jpg',\n",
       " '6980.jpg',\n",
       " '12108.jpg',\n",
       " '5537.jpg',\n",
       " '4629.jpg',\n",
       " '3146.jpg',\n",
       " '11401.jpg',\n",
       " ...]"
      ]
     },
     "execution_count": 11,
     "metadata": {},
     "output_type": "execute_result"
    }
   ],
   "source": [
    "os.listdir(test_path)"
   ]
  },
  {
   "cell_type": "code",
   "execution_count": 12,
   "metadata": {},
   "outputs": [
    {
     "data": {
      "text/plain": [
       "6897"
      ]
     },
     "execution_count": 12,
     "metadata": {},
     "output_type": "execute_result"
    }
   ],
   "source": [
    "len(os.listdir(test_path))"
   ]
  },
  {
   "cell_type": "code",
   "execution_count": null,
   "metadata": {},
   "outputs": [],
   "source": []
  },
  {
   "cell_type": "code",
   "execution_count": null,
   "metadata": {},
   "outputs": [],
   "source": []
  },
  {
   "cell_type": "code",
   "execution_count": null,
   "metadata": {},
   "outputs": [],
   "source": []
  },
  {
   "cell_type": "code",
   "execution_count": null,
   "metadata": {},
   "outputs": [],
   "source": []
  },
  {
   "cell_type": "code",
   "execution_count": null,
   "metadata": {},
   "outputs": [],
   "source": []
  },
  {
   "cell_type": "code",
   "execution_count": null,
   "metadata": {},
   "outputs": [],
   "source": []
  },
  {
   "cell_type": "markdown",
   "metadata": {
    "id": "Lkd3VypBCiyy"
   },
   "source": [
    "**Let's check how many images there are.**"
   ]
  },
  {
   "cell_type": "code",
   "execution_count": 13,
   "metadata": {},
   "outputs": [
    {
     "data": {
      "text/plain": [
       "12500"
      ]
     },
     "execution_count": 13,
     "metadata": {},
     "output_type": "execute_result"
    }
   ],
   "source": [
    "len(os.listdir(train_path+'/cat'))"
   ]
  },
  {
   "cell_type": "code",
   "execution_count": null,
   "metadata": {},
   "outputs": [],
   "source": []
  },
  {
   "cell_type": "code",
   "execution_count": 14,
   "metadata": {
    "id": "n0360b9iCiyy",
    "outputId": "59d8983a-1580-4da9-9c01-39686bb6b8b7"
   },
   "outputs": [],
   "source": [
    "#number of cat images in train set"
   ]
  },
  {
   "cell_type": "code",
   "execution_count": 15,
   "metadata": {},
   "outputs": [
    {
     "data": {
      "text/plain": [
       "5026"
      ]
     },
     "execution_count": 15,
     "metadata": {},
     "output_type": "execute_result"
    }
   ],
   "source": [
    "len(os.listdir(train_path+'/dog'))"
   ]
  },
  {
   "cell_type": "code",
   "execution_count": 16,
   "metadata": {
    "id": "iOcq8XxJCiyz",
    "outputId": "19078e42-79fb-49d4-8caa-088177971117"
   },
   "outputs": [],
   "source": [
    "#number of dog images in train set"
   ]
  },
  {
   "cell_type": "code",
   "execution_count": 17,
   "metadata": {
    "id": "7M62QpzaCiy0"
   },
   "outputs": [],
   "source": [
    "#take cat image at index 0 from train set\n",
    "#take dog image at index 1 from train set\n",
    "#compare their shapes\n"
   ]
  },
  {
   "cell_type": "code",
   "execution_count": 18,
   "metadata": {
    "id": "mfxVxXuaCiy0"
   },
   "outputs": [
    {
     "data": {
      "text/plain": [
       "'cat.5077.jpg'"
      ]
     },
     "execution_count": 18,
     "metadata": {},
     "output_type": "execute_result"
    }
   ],
   "source": [
    "os.listdir(train_path+'/cat')[0]"
   ]
  },
  {
   "cell_type": "code",
   "execution_count": 19,
   "metadata": {},
   "outputs": [],
   "source": [
    "cat_path = train_path+'/cat'+'/cat.5077.jpg'"
   ]
  },
  {
   "cell_type": "code",
   "execution_count": 20,
   "metadata": {},
   "outputs": [],
   "source": [
    "cat_image= imread(cat_path)"
   ]
  },
  {
   "cell_type": "code",
   "execution_count": 21,
   "metadata": {},
   "outputs": [
    {
     "data": {
      "text/plain": [
       "<matplotlib.image.AxesImage at 0x7fdd081810d0>"
      ]
     },
     "execution_count": 21,
     "metadata": {},
     "output_type": "execute_result"
    },
    {
     "data": {
      "image/png": "[encoded data removed]",
      "text/plain": [
       "<Figure size 432x288 with 1 Axes>"
      ]
     },
     "metadata": {
      "needs_background": "light"
     },
     "output_type": "display_data"
    }
   ],
   "source": [
    "plt.imshow(cat_image)"
   ]
  },
  {
   "cell_type": "code",
   "execution_count": null,
   "metadata": {},
   "outputs": [],
   "source": []
  },
  {
   "cell_type": "code",
   "execution_count": null,
   "metadata": {},
   "outputs": [],
   "source": []
  },
  {
   "cell_type": "code",
   "execution_count": 22,
   "metadata": {
    "id": "2Fd9yOdaCiy1"
   },
   "outputs": [
    {
     "data": {
      "text/plain": [
       "'dog.1753.jpg'"
      ]
     },
     "execution_count": 22,
     "metadata": {},
     "output_type": "execute_result"
    }
   ],
   "source": [
    "os.listdir(train_path+'/dog')[0]"
   ]
  },
  {
   "cell_type": "code",
   "execution_count": 23,
   "metadata": {},
   "outputs": [],
   "source": [
    "dog_path = train_path+'/dog'+'/dog.1753.jpg'"
   ]
  },
  {
   "cell_type": "code",
   "execution_count": 24,
   "metadata": {},
   "outputs": [
    {
     "data": {
      "text/plain": [
       "array([[[251, 219, 234],\n",
       "        [250, 218, 233],\n",
       "        [249, 217, 230],\n",
       "        ...,\n",
       "        [ 94,  70,  66],\n",
       "        [106,  82,  78],\n",
       "        [ 99,  75,  71]],\n",
       "\n",
       "       [[251, 219, 234],\n",
       "        [250, 218, 233],\n",
       "        [249, 217, 230],\n",
       "        ...,\n",
       "        [ 97,  73,  69],\n",
       "        [108,  84,  80],\n",
       "        [103,  79,  75]],\n",
       "\n",
       "       [[249, 218, 233],\n",
       "        [248, 218, 230],\n",
       "        [247, 217, 229],\n",
       "        ...,\n",
       "        [ 97,  76,  71],\n",
       "        [109,  88,  83],\n",
       "        [105,  84,  79]],\n",
       "\n",
       "       ...,\n",
       "\n",
       "       [[145,  52, 141],\n",
       "        [141,  51, 139],\n",
       "        [139,  49, 137],\n",
       "        ...,\n",
       "        [151, 135, 138],\n",
       "        [155, 139, 142],\n",
       "        [148, 132, 135]],\n",
       "\n",
       "       [[146,  53, 142],\n",
       "        [141,  51, 139],\n",
       "        [137,  47, 135],\n",
       "        ...,\n",
       "        [151, 135, 138],\n",
       "        [157, 141, 144],\n",
       "        [149, 133, 136]],\n",
       "\n",
       "       [[145,  52, 141],\n",
       "        [140,  50, 138],\n",
       "        [137,  47, 135],\n",
       "        ...,\n",
       "        [155, 139, 142],\n",
       "        [164, 148, 151],\n",
       "        [148, 132, 135]]], dtype=uint8)"
      ]
     },
     "execution_count": 24,
     "metadata": {},
     "output_type": "execute_result"
    }
   ],
   "source": [
    "imread(dog_path)"
   ]
  },
  {
   "cell_type": "code",
   "execution_count": 25,
   "metadata": {},
   "outputs": [],
   "source": [
    "dog_image = imread(dog_path)"
   ]
  },
  {
   "cell_type": "code",
   "execution_count": 26,
   "metadata": {},
   "outputs": [
    {
     "data": {
      "text/plain": [
       "<matplotlib.image.AxesImage at 0x7fdd18eeb8e0>"
      ]
     },
     "execution_count": 26,
     "metadata": {},
     "output_type": "execute_result"
    },
    {
     "data": {
      "image/png": "[encoded data removed]",
      "text/plain": [
       "<Figure size 432x288 with 1 Axes>"
      ]
     },
     "metadata": {
      "needs_background": "light"
     },
     "output_type": "display_data"
    }
   ],
   "source": [
    "plt.imshow(dog_image)"
   ]
  },
  {
   "cell_type": "code",
   "execution_count": 27,
   "metadata": {
    "id": "X4BKKovfCiy1",
    "outputId": "fe0c3c24-4a18-4348-8b71-b1df4d4d9ca3"
   },
   "outputs": [],
   "source": [
    "#show cat image"
   ]
  },
  {
   "cell_type": "code",
   "execution_count": 28,
   "metadata": {
    "id": "usH_OX6hCiy1",
    "outputId": "4a259c2e-a779-4cee-958c-c2ab7332be8a"
   },
   "outputs": [],
   "source": [
    "#show dog image"
   ]
  },
  {
   "cell_type": "markdown",
   "metadata": {
    "id": "RfNU6D59Ciy1"
   },
   "source": [
    "**Let's decide on the final dimension of these images.**"
   ]
  },
  {
   "cell_type": "code",
   "execution_count": 29,
   "metadata": {
    "id": "RaRNqVulCiy2",
    "outputId": "0035b763-810c-418d-bd03-7a8edb1bbcd2"
   },
   "outputs": [
    {
     "data": {
      "text/plain": [
       "(392, 393, 3)"
      ]
     },
     "execution_count": 29,
     "metadata": {},
     "output_type": "execute_result"
    }
   ],
   "source": [
    "imread(dog_path).shape"
   ]
  },
  {
   "cell_type": "code",
   "execution_count": 30,
   "metadata": {
    "id": "8_WsPLuxCiy2",
    "outputId": "d2b39367-29af-42e5-ec8b-aa780fd26d1b"
   },
   "outputs": [],
   "source": [
    "x = []\n",
    "y = []"
   ]
  },
  {
   "cell_type": "code",
   "execution_count": 31,
   "metadata": {},
   "outputs": [],
   "source": [
    "for img in os.listdir(train_path+'/dog'):\n",
    "    a,b,_ = imread(train_path+'/dog'+'/'+img).shape\n",
    "    x.append(a)\n",
    "    y.append(b)"
   ]
  },
  {
   "cell_type": "code",
   "execution_count": 32,
   "metadata": {},
   "outputs": [
    {
     "data": {
      "text/plain": [
       "365.0505372065261"
      ]
     },
     "execution_count": 32,
     "metadata": {},
     "output_type": "execute_result"
    }
   ],
   "source": [
    "np.mean(x)"
   ]
  },
  {
   "cell_type": "code",
   "execution_count": 33,
   "metadata": {},
   "outputs": [
    {
     "data": {
      "text/plain": [
       "398.9930362116992"
      ]
     },
     "execution_count": 33,
     "metadata": {},
     "output_type": "execute_result"
    }
   ],
   "source": [
    "np.mean(y)"
   ]
  },
  {
   "cell_type": "code",
   "execution_count": 34,
   "metadata": {},
   "outputs": [
    {
     "data": {
      "text/plain": [
       "<AxesSubplot:>"
      ]
     },
     "execution_count": 34,
     "metadata": {},
     "output_type": "execute_result"
    },
    {
     "data": {
      "image/png": "[encoded data removed]",
      "text/plain": [
       "<Figure size 432x288 with 1 Axes>"
      ]
     },
     "metadata": {
      "needs_background": "light"
     },
     "output_type": "display_data"
    }
   ],
   "source": [
    "sns.scatterplot(x,y)"
   ]
  },
  {
   "cell_type": "code",
   "execution_count": null,
   "metadata": {},
   "outputs": [],
   "source": []
  },
  {
   "cell_type": "code",
   "execution_count": null,
   "metadata": {},
   "outputs": [],
   "source": []
  },
  {
   "cell_type": "code",
   "execution_count": null,
   "metadata": {},
   "outputs": [],
   "source": []
  },
  {
   "cell_type": "code",
   "execution_count": 35,
   "metadata": {
    "id": "GQbdWxIkCiy3"
   },
   "outputs": [],
   "source": [
    "# decide on a shape to use it in your model as input shape. you can either use average shape size or try something different. 128*128 is preferred here\n",
    "image_shape = (128,128,3)"
   ]
  },
  {
   "cell_type": "code",
   "execution_count": null,
   "metadata": {},
   "outputs": [],
   "source": [
    "from tensorflow.keras.preprocessing.image import ImageDataGenerator"
   ]
  },
  {
   "cell_type": "code",
   "execution_count": 48,
   "metadata": {
    "id": "QMKW2_gVCiy3"
   },
   "outputs": [
    {
     "ename": "NameError",
     "evalue": "name 'ImageDataGenerator' is not defined",
     "output_type": "error",
     "traceback": [
      "\u001b[0;31m---------------------------------------------------------------------------\u001b[0m",
      "\u001b[0;31mNameError\u001b[0m                                 Traceback (most recent call last)",
      "\u001b[0;32m/var/folders/jc/lgv32y1s6pn0x_39bmrqnqsc0000gn/T/ipykernel_77280/1869993493.py\u001b[0m in \u001b[0;36m<module>\u001b[0;34m\u001b[0m\n\u001b[0;32m----> 1\u001b[0;31m \u001b[0mhelp\u001b[0m\u001b[0;34m(\u001b[0m\u001b[0mImageDataGenerator\u001b[0m\u001b[0;34m)\u001b[0m\u001b[0;34m\u001b[0m\u001b[0;34m\u001b[0m\u001b[0m\n\u001b[0m",
      "\u001b[0;31mNameError\u001b[0m: name 'ImageDataGenerator' is not defined"
     ]
    }
   ],
   "source": [
    "help(ImageDataGenerator)"
   ]
  },
  {
   "cell_type": "markdown",
   "metadata": {
    "id": "sMirr5uACiy3"
   },
   "source": [
    "**Image Manipulation**\n",
    "\n",
    "We can use the ImageDataGenerator to manipulate the images with rotation, resizing, and scaling so the model becomes more robust to different images that our data set doesn't have. ImageDataGenerator does the followings.\n",
    "\n",
    "* Accepts a batch of images used for training.\n",
    "* Applies a series of random transformations to each image in the batch.\n",
    "* Replaces the original batch with randomly transformed batch.\n",
    "* Training the CNN on this randomly transformed batch.\n",
    "\n",
    "The goal of applying data augmentation is to have a more generalized model."
   ]
  },
  {
   "cell_type": "code",
   "execution_count": 31,
   "metadata": {
    "id": "QWuVVCY_FqVP"
   },
   "outputs": [],
   "source": [
    "#use ImageDataGenerator to manipulate the images"
   ]
  },
  {
   "cell_type": "code",
   "execution_count": null,
   "metadata": {
    "id": "7HKmQL55Ciy3"
   },
   "outputs": [],
   "source": []
  },
  {
   "cell_type": "code",
   "execution_count": 32,
   "metadata": {
    "id": "f8B_30AJCiy4"
   },
   "outputs": [
    {
     "ename": "SyntaxError",
     "evalue": "invalid syntax (436818220.py, line 1)",
     "output_type": "error",
     "traceback": [
      "\u001b[0;36m  File \u001b[0;32m\"/var/folders/jc/lgv32y1s6pn0x_39bmrqnqsc0000gn/T/ipykernel_77280/436818220.py\"\u001b[0;36m, line \u001b[0;32m1\u001b[0m\n\u001b[0;31m    image_gen =\u001b[0m\n\u001b[0m                ^\u001b[0m\n\u001b[0;31mSyntaxError\u001b[0m\u001b[0;31m:\u001b[0m invalid syntax\n"
     ]
    }
   ],
   "source": [
    "image_gen = "
   ]
  },
  {
   "cell_type": "code",
   "execution_count": null,
   "metadata": {
    "id": "bcr5KvMhCiy4",
    "outputId": "6a31ffa0-c127-4bcd-969b-7ec3e0b55e06"
   },
   "outputs": [],
   "source": [
    "#show transfromed version of dog image"
   ]
  },
  {
   "cell_type": "markdown",
   "metadata": {
    "id": "acntO2G2Ciy5"
   },
   "source": [
    "### Generating many manipulated images from a directory\n",
    "\n",
    "\n",
    "flow_from_directory function works with images organized in sub-directories. Your directories should include only one class of images, so one folder per class of images.\n",
    "\n",
    "main_directory/\n",
    "\n",
    "...class_a/\n",
    "\n",
    "......a_image_1.jpg\n",
    "\n",
    "......a_image_2.jpg\n",
    "\n",
    "...class_b/\n",
    "\n",
    "......b_image_1.jpg\n",
    "\n",
    "......b_image_2.jpg\n",
    "\n",
    "[bağlantı metni](https://drive.google.com/file/d/1ntiw1WnsWq5en96zRQmWADFxoCKS4DNc/view?usp=sharing)"
   ]
  },
  {
   "cell_type": "markdown",
   "metadata": {
    "id": "E-uizC8UCiy5"
   },
   "source": [
    "image_gen.flow_from_directory(train_path)"
   ]
  },
  {
   "cell_type": "code",
   "execution_count": null,
   "metadata": {
    "id": "PLWxCCOgCiy5",
    "outputId": "102b6e21-e346-43d9-e9f2-a14c04d7e7aa"
   },
   "outputs": [],
   "source": [
    "image_gen.flow_from_directory(val_path)"
   ]
  },
  {
   "cell_type": "markdown",
   "metadata": {
    "id": "crNKcwHICiy5"
   },
   "source": [
    "# Creating the Model"
   ]
  },
  {
   "cell_type": "code",
   "execution_count": null,
   "metadata": {
    "id": "_X3vbgzJCiy5"
   },
   "outputs": [],
   "source": [
    "#create your CNN model here"
   ]
  },
  {
   "cell_type": "code",
   "execution_count": null,
   "metadata": {
    "id": "d3NM59n5Ciy6"
   },
   "outputs": [],
   "source": []
  },
  {
   "cell_type": "code",
   "execution_count": null,
   "metadata": {
    "id": "fEIMqngMCiy6",
    "outputId": "90e2e5b6-b44e-4032-9a6b-afd7c8166c2b"
   },
   "outputs": [],
   "source": []
  },
  {
   "cell_type": "markdown",
   "metadata": {
    "id": "Xi_jh9otCiy6"
   },
   "source": [
    "## Early Stopping"
   ]
  },
  {
   "cell_type": "code",
   "execution_count": null,
   "metadata": {
    "id": "_Q_LDGYLCiy6"
   },
   "outputs": [],
   "source": []
  },
  {
   "cell_type": "code",
   "execution_count": null,
   "metadata": {
    "id": "OR25YEpcCiy6"
   },
   "outputs": [],
   "source": [
    "early_stop = "
   ]
  },
  {
   "cell_type": "code",
   "execution_count": null,
   "metadata": {
    "id": "_O3-qr8ZCiy7"
   },
   "outputs": [],
   "source": [
    "batch_size = "
   ]
  },
  {
   "cell_type": "code",
   "execution_count": null,
   "metadata": {
    "id": "MuislkjoGjYQ"
   },
   "outputs": [],
   "source": [
    "#use image_gen from above and read iamges from train and test set"
   ]
  },
  {
   "cell_type": "code",
   "execution_count": null,
   "metadata": {
    "id": "sq-b4Iv9Ciy7",
    "outputId": "836c6e1e-7a7b-494e-c541-67a48531f5bc"
   },
   "outputs": [],
   "source": [
    "train_image_gen = "
   ]
  },
  {
   "cell_type": "code",
   "execution_count": null,
   "metadata": {
    "id": "OU5m-ny0Ciy7",
    "outputId": "4bc4c45c-1d61-426c-ae3d-6fb7d5fde64a"
   },
   "outputs": [],
   "source": [
    "val_image_gen = "
   ]
  },
  {
   "cell_type": "code",
   "execution_count": null,
   "metadata": {
    "id": "rp43xoPxCiy7",
    "outputId": "52b77696-c81f-44ff-b366-ea2b6397eb86"
   },
   "outputs": [],
   "source": [
    "#show class indices in train set"
   ]
  },
  {
   "cell_type": "markdown",
   "metadata": {
    "id": "GEINjyRZCiy7"
   },
   "source": [
    "## Model Training"
   ]
  },
  {
   "cell_type": "code",
   "execution_count": null,
   "metadata": {
    "id": "3WQLwewACiy8"
   },
   "outputs": [],
   "source": [
    "import warnings\n",
    "warnings.filterwarnings('ignore')"
   ]
  },
  {
   "cell_type": "code",
   "execution_count": null,
   "metadata": {
    "id": "EDE-SQHNCiy8",
    "outputId": "12eecdad-b77b-495b-88d2-f4f60937f0b6"
   },
   "outputs": [],
   "source": [
    "results = #fit your model using train and validation set"
   ]
  },
  {
   "cell_type": "code",
   "execution_count": null,
   "metadata": {
    "id": "fqNxq57oCiy8"
   },
   "outputs": [],
   "source": []
  },
  {
   "cell_type": "markdown",
   "metadata": {
    "id": "1TwnKHhGCiy8"
   },
   "source": [
    "# Evaluating the Model"
   ]
  },
  {
   "cell_type": "code",
   "execution_count": null,
   "metadata": {
    "id": "NyXCiQw9Ciy8"
   },
   "outputs": [],
   "source": [
    "losses = pd.DataFrame(......)"
   ]
  },
  {
   "cell_type": "code",
   "execution_count": null,
   "metadata": {
    "id": "b4nT-mkoCiy8",
    "outputId": "990bbaad-6131-46d7-ba63-57368c9f72b3"
   },
   "outputs": [],
   "source": []
  },
  {
   "cell_type": "code",
   "execution_count": null,
   "metadata": {
    "id": "H9KQ_41RCiy9",
    "outputId": "20f16739-6674-4a99-ba5a-38fda1d16831"
   },
   "outputs": [],
   "source": []
  },
  {
   "cell_type": "code",
   "execution_count": null,
   "metadata": {
    "id": "Tmxz0wW1Ciy9",
    "outputId": "7de1f2b0-a8aa-43ef-8178-8359ec59a17e"
   },
   "outputs": [],
   "source": []
  },
  {
   "cell_type": "code",
   "execution_count": null,
   "metadata": {
    "id": "JLZG94e9Ciy9"
   },
   "outputs": [],
   "source": [
    "from tensorflow.keras.preprocessing import image"
   ]
  },
  {
   "cell_type": "code",
   "execution_count": null,
   "metadata": {
    "id": "0gk_blu5Ciy9"
   },
   "outputs": [],
   "source": [
    "pred_probabilities = "
   ]
  },
  {
   "cell_type": "code",
   "execution_count": null,
   "metadata": {
    "id": "ph-zz7MsCiy9",
    "outputId": "8b98c46c-9744-4f06-f132-94a2b8559b2d"
   },
   "outputs": [],
   "source": [
    "pred_probabilities"
   ]
  },
  {
   "cell_type": "code",
   "execution_count": null,
   "metadata": {
    "id": "bSv7fdlOCiy9",
    "outputId": "68cba365-58c6-4733-a6bd-5f6e1d370c65"
   },
   "outputs": [],
   "source": []
  },
  {
   "cell_type": "code",
   "execution_count": null,
   "metadata": {
    "id": "8UtEhkTICiy9"
   },
   "outputs": [],
   "source": [
    "predictions = pred_probabilities > 0.5"
   ]
  },
  {
   "cell_type": "code",
   "execution_count": null,
   "metadata": {
    "id": "6HMsQyK6Ciy-",
    "outputId": "656c2e12-a32d-48f2-e7de-42ca6b58a745"
   },
   "outputs": [],
   "source": [
    "predictions"
   ]
  },
  {
   "cell_type": "code",
   "execution_count": null,
   "metadata": {
    "id": "wKeq1rXMCiy-"
   },
   "outputs": [],
   "source": [
    "from sklearn.metrics import classification_report,confusion_matrix"
   ]
  },
  {
   "cell_type": "code",
   "execution_count": null,
   "metadata": {
    "id": "sW4GBFJWCiy-",
    "outputId": "e1117466-0ba0-4d4e-c425-25d60999e658"
   },
   "outputs": [],
   "source": []
  },
  {
   "cell_type": "code",
   "execution_count": null,
   "metadata": {
    "id": "jgcXuGgiCiy-",
    "outputId": "dc0fd845-ad8a-4cb9-94d8-c54f09dd489d"
   },
   "outputs": [],
   "source": []
  },
  {
   "cell_type": "code",
   "execution_count": null,
   "metadata": {
    "id": "WbspBULnCiy-"
   },
   "outputs": [],
   "source": [
    "from tensorflow.keras.models import load_model\n",
    "model.save('cat_dog_detector.h5')"
   ]
  },
  {
   "cell_type": "markdown",
   "metadata": {
    "id": "ju0YTuYCCiy_"
   },
   "source": [
    "# Predicting on an Image"
   ]
  },
  {
   "cell_type": "code",
   "execution_count": null,
   "metadata": {
    "id": "HPSn5veLCiy_"
   },
   "outputs": [],
   "source": [
    "from PIL import Image"
   ]
  },
  {
   "cell_type": "code",
   "execution_count": null,
   "metadata": {
    "id": "N0y5ZGNXCiy_",
    "outputId": "9f60ec04-2be1-41f1-e832-83fbf1fcab81"
   },
   "outputs": [],
   "source": [
    "#read 2749.jpg from test set"
   ]
  },
  {
   "cell_type": "code",
   "execution_count": null,
   "metadata": {
    "id": "dIAKDwyDCiy_",
    "outputId": "97391371-0efa-4061-95eb-dd6d0c39054e"
   },
   "outputs": [],
   "source": [
    "# resize it as 128 * 128"
   ]
  },
  {
   "cell_type": "code",
   "execution_count": null,
   "metadata": {
    "id": "I99rXSzzCiy_",
    "outputId": "fe8725c1-269e-415d-c23a-51a2693b7076"
   },
   "outputs": [],
   "source": [
    "# turn the image into numpy array"
   ]
  },
  {
   "cell_type": "code",
   "execution_count": null,
   "metadata": {
    "id": "zui_AbSsCiy_",
    "outputId": "888ed4e9-adb7-4c82-a0e4-2b242dd65891"
   },
   "outputs": [],
   "source": [
    "#reshape it as below"
   ]
  },
  {
   "cell_type": "code",
   "execution_count": null,
   "metadata": {
    "id": "IC2Fb22JCizA",
    "outputId": "e69edcbf-229f-4be8-eb15-edb1c91c57be"
   },
   "outputs": [],
   "source": [
    "#predict the image class with your model"
   ]
  },
  {
   "cell_type": "code",
   "execution_count": null,
   "metadata": {
    "id": "9nfRtqpDCizA",
    "outputId": "0db18ff7-b824-4c1a-849d-e7c658137c40"
   },
   "outputs": [],
   "source": [
    "train_image_gen.class_indices"
   ]
  },
  {
   "cell_type": "code",
   "execution_count": null,
   "metadata": {
    "id": "q3mH13fsCizA",
    "outputId": "1178b2f0-1243-41e6-f68e-6c1cfd0e8880"
   },
   "outputs": [],
   "source": [
    "test_image_gen.class_indices"
   ]
  },
  {
   "cell_type": "code",
   "execution_count": null,
   "metadata": {
    "id": "ItYvwnPMCizA"
   },
   "outputs": [],
   "source": []
  }
 ],
 "metadata": {
  "colab": {
   "name": "catdogclassifier1_student.ipynb",
   "provenance": [
    {
     "file_id": "1NonTzT0lg7MA0_lBcRZrpkia0DfjHAUq",
     "timestamp": 1635947172399
    }
   ]
  },
  "kernelspec": {
   "display_name": "Python 3 (ipykernel)",
   "language": "python",
   "name": "python3"
  },
  "language_info": {
   "codemirror_mode": {
    "name": "ipython",
    "version": 3
   },
   "file_extension": ".py",
   "mimetype": "text/x-python",
   "name": "python",
   "nbconvert_exporter": "python",
   "pygments_lexer": "ipython3",
   "version": "3.9.7"
  }
 },
 "nbformat": 4,
 "nbformat_minor": 4
}
